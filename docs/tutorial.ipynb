{
 "cells": [
  {
   "cell_type": "markdown",
   "metadata": {},
   "source": [
    "# pysbjupyter Tutorial\n",
    "\n",
    "pysbjupyter is an ipython widget for interactively visualizing systems biology models. It uses [PySB](http://pysb.org/) for generating network data and simulating trajectories and [Cytoscape.js](http://js.cytoscape.org/) to render them. It supports BioNetGen and SBML models through the pysb importer module.\n",
    "\n",
    "## Start Jupyter Notebook\n",
    "To start the jupyter notebook just run the following command in the terminal\n",
    "```Shell\n",
    "jupyter notebook\n",
    "```"
   ]
  },
  {
   "cell_type": "markdown",
   "metadata": {},
   "source": [
    "pysbjupyter has different functions to visualize PySB models and simulations:\n",
    "\n",
    "| Function                                 | Description                                           |\n",
    "|------------------------------------------|-------------------------------------------------------|\n",
    "| `species_view(model)`                    | Shows network of interacting species                  |\n",
    "| `species_compartments_view(model)`       | Shows network of species in their respective compartments |\n",
    "| `communities_view(model)`                | Shows network of species grouped in [communities](https://en.wikipedia.org/wiki/Community_structure) |\n",
    "| `sp_rxns_bidirectional_view(model)`      | Shows bipartite network with species and bidirectional rections nodes |\n",
    "| `sp_rxns_view(model)`                    | Shows bipartite network with species and unidirectional rections nodes |\n",
    "| `sp_rules_view(model)`                   | Shows bipartite network with species and rules nodes  |\n",
    "| `sp_rules_functions_view(model)`         | Shows bipartite network with species and rules nodes.<br> Rules nodes are grouped in the functions they come from |\n",
    "| `sp_rules_modules_view(model)`           | Shows bipartite network with species and rules nodes.<br> Rules nodes are grouped in the file modules they come from |\n",
    "| `projected_species_reactions_view(model)`| Shows network of species projected from the <br> bipartite(species, reactions) graph |\n",
    "| `projected_reactions_view(model)`        | Shows network of reactions projected from the <br> bipartite(species, reactions) graph |\n",
    "| `projected_rules_view(model)`            | Shows network of rules projected from the <br> bipartite(species, rules) graph |\n",
    "| `projected_species_rules_view(model)`    | Shows network of species projected from the <br> bipartite(species, rules) graph |\n",
    "| `species_dynamics_view(SimulationResult)`| Shows a species network. Edges size and color are updated <br> according to reaction rate values. Nodes filling <br> are updated according to concentration|\n"
   ]
  },
  {
   "cell_type": "markdown",
   "metadata": {},
   "source": [
    "## How to interact with the widget\n",
    "All visualizations have a search button that can be used to find nodes in large networks. This search function displays information about the species label and the type of node (species, reaction, rule, ...). Additionally, there is a fit button to center the nodes into the display area.\n",
    "\n",
    "Dynamic visualizations have a play &#9654; a pause  &#10074;&#10074; and refresh button &#8635; to control the visualization. In addition, there is a slider that can be grabbed and dragged to go to a specific time point of the simulation.\n",
    "\n",
    "Gestures supported by [cytoscape.js](http://js.cytoscape.org/#notation/gestures) to interact with the widget:\n",
    "\n",
    "* Grab and drag background to pan : touch & desktop\n",
    "* Pinch to zoom : touch & desktop (with supported trackpad)\n",
    "* Mouse wheel to zoom : desktop\n",
    "* Two finger trackpad up or down to zoom : desktop\n",
    "* Tap to select : touch & desktop\n",
    "* Tap background to unselect : desktop\n",
    "* Taphold background to unselect : desktop & touch\n",
    "* Multiple selection via modifier key (shift, command, control, alt) + tap : desktop\n",
    "* Box selection : touch (three finger swipe) & desktop (modifier key + mousedown then drag)\n",
    "* Grab and drag nodes : touch & desktop\n",
    "\n",
    "Additional gestures added by the widget\n",
    "* Click on nodes to fit to display area: touch & desktop\n",
    "* Click on compound nodes to fit to display area and show containing nodes: touch & desktop"
   ]
  },
  {
   "cell_type": "markdown",
   "metadata": {},
   "source": [
    "## Import pysbjupyter module and a PySB model"
   ]
  },
  {
   "cell_type": "code",
   "execution_count": 1,
   "metadata": {},
   "outputs": [],
   "source": [
    "from pysbjupyter.pysb_models.lopez_embedded import model\n",
    "import pysbjupyter as viz"
   ]
  },
  {
   "cell_type": "markdown",
   "metadata": {},
   "source": [
    "## Species view\n",
    "In this type of visualization nodes represent molecular species of the model, and the edges represent the reactions that occur among different species."
   ]
  },
  {
   "cell_type": "code",
   "execution_count": 2,
   "metadata": {
    "scrolled": false
   },
   "outputs": [
    {
     "data": {
      "application/vnd.jupyter.widget-view+json": {
       "model_id": "16b3c8a6f7934a9c95f0e318b4b220c2",
       "version_major": 2,
       "version_minor": 0
      },
      "text/plain": [
       "pysbViz(data=<Model 'pysbjupyter.pysb_models.lopez_embedded' (monomers: 23, rules: 62, parameters: 126, expres…"
      ]
     },
     "metadata": {},
     "output_type": "display_data"
    }
   ],
   "source": [
    "viz.species_view(model)"
   ]
  },
  {
   "cell_type": "markdown",
   "metadata": {},
   "source": [
    "## Using a different network layout\n",
    "We can change the network layout by passing one of the [cytoscapejs supported layout algorithns](http://js.cytoscape.org/#layouts) to the layout_name argument"
   ]
  },
  {
   "cell_type": "code",
   "execution_count": 3,
   "metadata": {},
   "outputs": [
    {
     "data": {
      "application/vnd.jupyter.widget-view+json": {
       "model_id": "1a0d3949e5cc4a1c8bf89e547514b09b",
       "version_major": 2,
       "version_minor": 0
      },
      "text/plain": [
       "pysbViz(data=<Model 'pysbjupyter.pysb_models.lopez_embedded' (monomers: 23, rules: 62, parameters: 126, expres…"
      ]
     },
     "metadata": {},
     "output_type": "display_data"
    }
   ],
   "source": [
    "viz.species_view(model, layout_name='cose')"
   ]
  },
  {
   "cell_type": "markdown",
   "metadata": {},
   "source": [
    "## Communities view\n",
    "In this type of visualization nodes represent molecular species of the model, and the edges represent the reaction that occur among different species. Densely connected nodes are grouped into communities that are represented by compound nodes."
   ]
  },
  {
   "cell_type": "code",
   "execution_count": 4,
   "metadata": {},
   "outputs": [
    {
     "data": {
      "application/vnd.jupyter.widget-view+json": {
       "model_id": "3c489247b765485a8572f1c0d87a1ea1",
       "version_major": 2,
       "version_minor": 0
      },
      "text/plain": [
       "pysbViz(data=<Model 'pysbjupyter.pysb_models.lopez_embedded' (monomers: 23, rules: 62, parameters: 126, expres…"
      ]
     },
     "metadata": {},
     "output_type": "display_data"
    }
   ],
   "source": [
    "viz.communities_view(model, layout_name='cose-bilkent')"
   ]
  },
  {
   "cell_type": "markdown",
   "metadata": {},
   "source": [
    "## Bipartite graph with species and bidirectional reactions nodes\n",
    "There are two different sets of nodes in this visualization. Molecular species nodes and reaction nodes that indicate how species react. Reaction nodes have incoming edges that connect it with reactant species and outgoing edges that connect it with the product of the reaction."
   ]
  },
  {
   "cell_type": "code",
   "execution_count": 5,
   "metadata": {},
   "outputs": [
    {
     "data": {
      "application/vnd.jupyter.widget-view+json": {
       "model_id": "fe0bf70382e4410583f64a5b3f101a7d",
       "version_major": 2,
       "version_minor": 0
      },
      "text/plain": [
       "pysbViz(data=<Model 'pysbjupyter.pysb_models.lopez_embedded' (monomers: 23, rules: 62, parameters: 126, expres…"
      ]
     },
     "metadata": {},
     "output_type": "display_data"
    }
   ],
   "source": [
    "viz.sp_rxns_bidirectional_view(model)"
   ]
  },
  {
   "cell_type": "markdown",
   "metadata": {},
   "source": [
    "## Bipartite graph with species and rules nodes\n",
    "There are two different sets of nodes in this visualization. Molecular species nodes and rules nodes that indicate how species react. Rules nodes have incoming edges that connect it with reactant species and outgoing edges that connect it with the product of the rule."
   ]
  },
  {
   "cell_type": "code",
   "execution_count": 6,
   "metadata": {},
   "outputs": [
    {
     "data": {
      "application/vnd.jupyter.widget-view+json": {
       "model_id": "44a6437ff79f4adba550bef5d831f148",
       "version_major": 2,
       "version_minor": 0
      },
      "text/plain": [
       "pysbViz(data=<Model 'pysbjupyter.pysb_models.lopez_embedded' (monomers: 23, rules: 62, parameters: 126, expres…"
      ]
     },
     "metadata": {},
     "output_type": "display_data"
    }
   ],
   "source": [
    "viz.sp_rules_view(model, layout_name='cose-bilkent')"
   ]
  },
  {
   "cell_type": "markdown",
   "metadata": {},
   "source": [
    "## Bipartite graph with species and rules nodes from incorrect model"
   ]
  },
  {
   "cell_type": "code",
   "execution_count": 7,
   "metadata": {},
   "outputs": [
    {
     "data": {
      "application/vnd.jupyter.widget-view+json": {
       "model_id": "7ca399bffeec475faa8e625398bf7249",
       "version_major": 2,
       "version_minor": 0
      },
      "text/plain": [
       "pysbViz(data=<Model 'pysbjupyter.pysb_models.earm_incorrect' (monomers: 23, rules: 62, parameters: 127, expres…"
      ]
     },
     "metadata": {},
     "output_type": "display_data"
    }
   ],
   "source": [
    "from pysbjupyter.pysb_models.earm_incorrect import model as model_incorrect\n",
    "viz.sp_rules_view(model_incorrect, layout_name='cose-bilkent')"
   ]
  },
  {
   "cell_type": "markdown",
   "metadata": {},
   "source": [
    "## Bipartite graph with species and rules nodes. Rules are grouped by the functions that were used to create them.\n",
    "There are two different sets of nodes in this visualization. Molecular species nodes and rules nodes that indicate how species react. Rules nodes have incoming edges that connect it with reactant species and outgoing edges that connect it with the product of the rule. Additionally, rules are grouped by the python functions that were used to create them."
   ]
  },
  {
   "cell_type": "code",
   "execution_count": 8,
   "metadata": {},
   "outputs": [
    {
     "data": {
      "application/vnd.jupyter.widget-view+json": {
       "model_id": "0b373d575d984000a024c378bc05f697",
       "version_major": 2,
       "version_minor": 0
      },
      "text/plain": [
       "pysbViz(data=<Model 'pysbjupyter.pysb_models.lopez_embedded' (monomers: 23, rules: 62, parameters: 126, expres…"
      ]
     },
     "metadata": {},
     "output_type": "display_data"
    }
   ],
   "source": [
    "viz.sp_rules_functions_view(model)"
   ]
  },
  {
   "cell_type": "markdown",
   "metadata": {},
   "source": [
    "## Bipartite graph with species and rules nodes. Rules are grouped by the modules they come from\n",
    "There are two different sets of nodes in this visualization. Molecular species nodes and rules nodes that indicate how species react. Rules nodes have incoming edges that connect it with reactant species and outgoing edges that connect it with the product of the rule. Additionally, rules are grouped by the python files where the rules were defined."
   ]
  },
  {
   "cell_type": "code",
   "execution_count": 9,
   "metadata": {
    "scrolled": false
   },
   "outputs": [
    {
     "data": {
      "application/vnd.jupyter.widget-view+json": {
       "model_id": "c49c1d7e5fbd4c5cb9e6485f4dac958c",
       "version_major": 2,
       "version_minor": 0
      },
      "text/plain": [
       "pysbViz(data=<Model 'pysbjupyter.pysb_models.lopez_embedded' (monomers: 23, rules: 62, parameters: 126, expres…"
      ]
     },
     "metadata": {},
     "output_type": "display_data"
    }
   ],
   "source": [
    "viz.sp_rules_modules_view(model)"
   ]
  },
  {
   "cell_type": "markdown",
   "metadata": {},
   "source": [
    "## Species graph grouped by the compartment in which they are located\n",
    "In this type of visualization nodes represent molecular species of the model, and the edges represent the reaction that occur among different species. Additionally, nodes are grouped by the cellular compartment they belong to.\n",
    "\n",
    "Note: In order to use this type of visualization your model must have compartments defined."
   ]
  },
  {
   "cell_type": "code",
   "execution_count": 10,
   "metadata": {
    "scrolled": false
   },
   "outputs": [
    {
     "data": {
      "application/vnd.jupyter.widget-view+json": {
       "model_id": "8ed2fe0b639f4bfab88db74490e45ea8",
       "version_major": 2,
       "version_minor": 0
      },
      "text/plain": [
       "pysbViz(data=<Model 'pysbjupyter.pysb_models.organelle_transport' (monomers: 8, rules: 6, parameters: 19, expr…"
      ]
     },
     "metadata": {},
     "output_type": "display_data"
    }
   ],
   "source": [
    "from pysbjupyter.pysb_models.organelle_transport import model as model_compartments\n",
    "viz.species_compartments_view(model_compartments)"
   ]
  },
  {
   "cell_type": "markdown",
   "metadata": {},
   "source": [
    "## Using a BioNetGen file (.bngl) to visualize the model\n",
    "This widget accepts models defined in the BioNetGen format. All the static visualizations are available for this format. It requires the extension of the file to be .bngl"
   ]
  },
  {
   "cell_type": "code",
   "execution_count": 11,
   "metadata": {},
   "outputs": [],
   "source": [
    "import os\n",
    "model_path = os.path.join(os.path.dirname(viz.__file__), 'pysb_models/organelle_transport.bngl')"
   ]
  },
  {
   "cell_type": "code",
   "execution_count": 12,
   "metadata": {},
   "outputs": [
    {
     "data": {
      "application/vnd.jupyter.widget-view+json": {
       "model_id": "060927dc4e5d42ec802569aed9745b25",
       "version_major": 2,
       "version_minor": 0
      },
      "text/plain": [
       "pysbViz(data='/Users/dionisio/anaconda/envs/viz_widget/lib/python3.7/site-packages/pysbjupyter/pysb_models/org…"
      ]
     },
     "metadata": {},
     "output_type": "display_data"
    }
   ],
   "source": [
    "viz.species_view(model_path)"
   ]
  },
  {
   "cell_type": "markdown",
   "metadata": {},
   "source": [
    "## Using an [SBML](http://sbml.org/Main_Page) model from the [Biomodels database](https://www.ebi.ac.uk/biomodels/)\n",
    "This widget accepts models defined in the sbml format. It requires the extension of the file to be .sbml\n",
    "\n",
    "Additionally, this widget accepts BIOMD references to the biomodels database"
   ]
  },
  {
   "cell_type": "code",
   "execution_count": 13,
   "metadata": {
    "scrolled": false
   },
   "outputs": [
    {
     "data": {
      "application/vnd.jupyter.widget-view+json": {
       "model_id": "40af3596a76145bab8dc978aac595356",
       "version_major": 2,
       "version_minor": 0
      },
      "text/plain": [
       "pysbViz(data='BIOMD0000000001', layout_name='preset')"
      ]
     },
     "metadata": {},
     "output_type": "display_data"
    }
   ],
   "source": [
    "viz.species_view('BIOMD0000000001')"
   ]
  },
  {
   "cell_type": "markdown",
   "metadata": {},
   "source": [
    "## Dynamic visualization of a model\n",
    "In this type of visualization nodes represent molecular species of the model, and the edges represent the reaction that occur among different species. The node pie charts are a representation of the concentration relative to the maximum concentration across all time points. The thickness of the edges is a representation of the order of magnitude of the reaction rates.\n",
    "\n",
    "We first simulate the model with pysb and pass the SimulationResult to the widget"
   ]
  },
  {
   "cell_type": "code",
   "execution_count": 14,
   "metadata": {
    "scrolled": false
   },
   "outputs": [],
   "source": [
    "import numpy as np\n",
    "from pysb.simulator import ScipyOdeSimulator\n",
    "from pysbjupyter.pysb_models.mm_two_paths_model import model as model_dynamic\n",
    "\n",
    "tspan = np.linspace(0, 600, 100)\n",
    "sim = ScipyOdeSimulator(model_dynamic, tspan, compiler='python').run()"
   ]
  },
  {
   "cell_type": "code",
   "execution_count": 15,
   "metadata": {},
   "outputs": [
    {
     "data": {
      "application/vnd.jupyter.widget-view+json": {
       "model_id": "bd1627064f8c415ca03bdfb7e42f3a1d",
       "version_major": 2,
       "version_minor": 0
      },
      "text/plain": [
       "pysbViz(data=<pysb.simulator.base.SimulationResult object at 0x1519c0de80>, layout_name='preset', type_of_viz=…"
      ]
     },
     "metadata": {},
     "output_type": "display_data"
    }
   ],
   "source": [
    "viz.species_dynamics_view(sim)"
   ]
  },
  {
   "cell_type": "code",
   "execution_count": 16,
   "metadata": {},
   "outputs": [],
   "source": [
    "from pysbjupyter.pysb_models.mm_two_paths_model import model as model_dynamic\n",
    "\n",
    "tspan = np.linspace(0, 20000, 100)\n",
    "sim_compartments = ScipyOdeSimulator(model, tspan, compiler='python').run()"
   ]
  },
  {
   "cell_type": "code",
   "execution_count": 17,
   "metadata": {},
   "outputs": [
    {
     "data": {
      "application/vnd.jupyter.widget-view+json": {
       "model_id": "66196b4491c74d00b33c74c95b91c992",
       "version_major": 2,
       "version_minor": 0
      },
      "text/plain": [
       "pysbViz(data=<pysb.simulator.base.SimulationResult object at 0x151a453400>, layout_name='cose-bilkent', type_o…"
      ]
     },
     "metadata": {},
     "output_type": "display_data"
    }
   ],
   "source": [
    "viz.sp_communities_dynamics_view(sim_compartments)"
   ]
  },
  {
   "cell_type": "code",
   "execution_count": null,
   "metadata": {},
   "outputs": [],
   "source": []
  }
 ],
 "metadata": {
  "kernelspec": {
   "display_name": "Python 3",
   "language": "python",
   "name": "python3"
  },
  "language_info": {
   "codemirror_mode": {
    "name": "ipython",
    "version": 3
   },
   "file_extension": ".py",
   "mimetype": "text/x-python",
   "name": "python",
   "nbconvert_exporter": "python",
   "pygments_lexer": "ipython3",
   "version": "3.7.1"
  },
  "widgets": {
   "application/vnd.jupyter.widget-state+json": {
    "state": {},
    "version_major": 2,
    "version_minor": 0
   }
  }
 },
 "nbformat": 4,
 "nbformat_minor": 2
}

{
 "cells": [
  {
   "cell_type": "markdown",
   "metadata": {},
   "source": [
    "# pysbjupyter Tutorial\n",
    "\n",
    "pysbjupyter is an ipython widget for interactively visualizing systems biology models. It uses [PySB](http://pysb.org/) for generating network data and simulating trajectories and [Cytoscape.js](http://js.cytoscape.org/) to render them. It supports BioNetGen and SBML models through the pysb importer module.\n",
    "\n",
    "# Start Jupyter Notebook\n",
    "To start the jupyter notebook just run the following command in the terminal\n",
    "```Shell\n",
    "jupyter notebook\n",
    "```"
   ]
  },
  {
   "cell_type": "markdown",
   "metadata": {},
   "source": [
    "pysbjupyter has different functions to visualize PySB models and simulations:\n",
    "\n",
    "| Function                                 | Description                                           |\n",
    "|------------------------------------------|-------------------------------------------------------|\n",
    "| `species_view(model)`                    | Shows network of interacting species                  |\n",
    "| `species_compartments_view(model)`       | Shows network of species in their respective compartments |\n",
    "| `communities_view(model)`                | Shows network of species grouped in [communities](https://en.wikipedia.org/wiki/Community_structure) |\n",
    "| `sp_rxns_bidirectional_view(model)`      | Shows bipartite network with species and bidirectional rections nodes |\n",
    "| `sp_rxns_view(model)`                    | Shows bipartite network with species and unidirectional rections nodes |\n",
    "| `sp_rules_view(model)`                   | Shows bipartite network with species and rules nodes  |\n",
    "| `sp_rules_functions_view(model)`         | Shows bipartite network with species and rules nodes.<br> Rules nodes are grouped in the functions they come from |\n",
    "| `sp_rules_modules_view(model)`           | Shows bipartite network with species and rules nodes.<br> Rules nodes are grouped in the file modules they come from |\n",
    "| `projected_species_reactions_view(model)`| Shows network of species projected from the <br> bipartite(species, reactions) graph |\n",
    "| `projected_reactions_view(model)`        | Shows network of reactions projected from the <br> bipartite(species, reactions) graph |\n",
    "| `projected_rules_view(model)`            | Shows network of rules projected from the <br> bipartite(species, rules) graph |\n",
    "| `projected_species_rules_view(model)`    | Shows network of species projected from the <br> bipartite(species, rules) graph |\n",
    "| `species_dynamics_view(SimulationResult)`| Shows a species network. Edges size and color are updated <br> according to reaction rate values. Nodes filling <br> are updated according to concentration|\n",
    "\n",
    "All visualizations have a search button that can be used to find nodes in large networks. This search function displays information about the species label and the type of node (species, reaction, rule, ...). Additionally, there is a fit button to center the nodes into the display area"
   ]
  },
  {
   "cell_type": "markdown",
   "metadata": {},
   "source": [
    "# Import pysbjupyter module and a PySB model"
   ]
  },
  {
   "cell_type": "code",
   "execution_count": 7,
   "metadata": {},
   "outputs": [],
   "source": [
    "from pysbjupyter.pysb_models.lopez_embedded import model\n",
    "import pysbjupyter as viz"
   ]
  },
  {
   "cell_type": "markdown",
   "metadata": {},
   "source": [
    "# Species view"
   ]
  },
  {
   "cell_type": "code",
   "execution_count": 2,
   "metadata": {
    "scrolled": false
   },
   "outputs": [
    {
     "data": {
      "application/vnd.jupyter.widget-view+json": {
       "model_id": "0e655d67f96c40edb60f628c5ab349f0",
       "version_major": 2,
       "version_minor": 0
      },
      "text/plain": [
       "pysbViz(data=<Model 'pysbjupyter.pysb_models.lopez_embedded' (monomers: 23, rules: 62, parameters: 126, expres…"
      ]
     },
     "metadata": {},
     "output_type": "display_data"
    }
   ],
   "source": [
    "viz.species_view(model)"
   ]
  },
  {
   "cell_type": "markdown",
   "metadata": {},
   "source": [
    "# Using a different network layout\n",
    "We can change the network layout by passing one of the [cytoscapejs supported layout algorithns](http://js.cytoscape.org/#layouts)"
   ]
  },
  {
   "cell_type": "code",
   "execution_count": null,
   "metadata": {},
   "outputs": [],
   "source": [
    "viz.species_view(model, layout_name='cose')"
   ]
  },
  {
   "cell_type": "markdown",
   "metadata": {},
   "source": [
    "# Communities view"
   ]
  },
  {
   "cell_type": "code",
   "execution_count": null,
   "metadata": {},
   "outputs": [],
   "source": [
    "viz.communities_view(model, layout_name='cose-bilkent')"
   ]
  },
  {
   "cell_type": "markdown",
   "metadata": {},
   "source": [
    "# Bipartite graph with species and bidirectional reactions nodes"
   ]
  },
  {
   "cell_type": "code",
   "execution_count": null,
   "metadata": {},
   "outputs": [],
   "source": [
    "viz.sp_rxns_bidirectional_view(model)"
   ]
  },
  {
   "cell_type": "markdown",
   "metadata": {},
   "source": [
    "# Bipartite graph with species and rules nodes"
   ]
  },
  {
   "cell_type": "code",
   "execution_count": null,
   "metadata": {},
   "outputs": [],
   "source": [
    "viz.sp_rules_view(model, layout_name='cose-bilkent')"
   ]
  },
  {
   "cell_type": "markdown",
   "metadata": {},
   "source": [
    "# Bipartite graph with species and rules nodes. Rules are grouped by the functions they come from"
   ]
  },
  {
   "cell_type": "code",
   "execution_count": null,
   "metadata": {},
   "outputs": [],
   "source": [
    "viz.sp_rules_functions_view(model)"
   ]
  },
  {
   "cell_type": "markdown",
   "metadata": {},
   "source": [
    "# Bipartite graph with species and rules nodes. Rules are grouped by the modules they come from"
   ]
  },
  {
   "cell_type": "code",
   "execution_count": null,
   "metadata": {
    "scrolled": false
   },
   "outputs": [],
   "source": [
    "viz.sp_rules_modules_view(model)"
   ]
  },
  {
   "cell_type": "markdown",
   "metadata": {},
   "source": [
    "# Species graph grouped by the compartment in which they are located\n",
    "In order to use this type of visualization your model must have compartments defined."
   ]
  },
  {
   "cell_type": "code",
   "execution_count": null,
   "metadata": {
    "scrolled": false
   },
   "outputs": [],
   "source": [
    "from pysbjupyter.pysb_models.organelle_transport import model as model_compartments\n",
    "viz.species_compartments_view(model_compartments)"
   ]
  },
  {
   "cell_type": "markdown",
   "metadata": {},
   "source": [
    "# Using a BioNetGen file (.bngl) to visualize the model"
   ]
  },
  {
   "cell_type": "code",
   "execution_count": null,
   "metadata": {},
   "outputs": [],
   "source": [
    "import os\n",
    "model_path = os.path.join(os.path.dirname(viz.__file__), 'pysb_models/organelle_transport.bngl')"
   ]
  },
  {
   "cell_type": "code",
   "execution_count": null,
   "metadata": {},
   "outputs": [],
   "source": [
    "viz.species_view(model_path)"
   ]
  },
  {
   "cell_type": "markdown",
   "metadata": {},
   "source": [
    "# Using an [SBML](http://sbml.org/Main_Page) model from the [Biomodels database](https://www.ebi.ac.uk/biomodels/)"
   ]
  },
  {
   "cell_type": "code",
   "execution_count": null,
   "metadata": {
    "scrolled": true
   },
   "outputs": [],
   "source": [
    "viz.species_view('BIOMD0000000001')"
   ]
  },
  {
   "cell_type": "markdown",
   "metadata": {},
   "source": [
    "# Dynamic visualization of a model\n",
    "We first simulate the model with pysb and pass the SimulationResult to the widget"
   ]
  },
  {
   "cell_type": "code",
   "execution_count": 5,
   "metadata": {
    "scrolled": false
   },
   "outputs": [],
   "source": [
    "import numpy as np\n",
    "from pysb.simulator import ScipyOdeSimulator\n",
    "from pysbjupyter.pysb_models.mm_two_paths_model import model as model_dynamic\n",
    "\n",
    "tspan = np.linspace(0, 1000, 100)\n",
    "sim = ScipyOdeSimulator(model_dynamic, tspan, compiler='python').run()"
   ]
  },
  {
   "cell_type": "code",
   "execution_count": 8,
   "metadata": {},
   "outputs": [
    {
     "data": {
      "application/vnd.jupyter.widget-view+json": {
       "model_id": "f4e7717ff0ff45e98f4547b7d5f07a42",
       "version_major": 2,
       "version_minor": 0
      },
      "text/plain": [
       "pysbViz(data=<pysb.simulator.base.SimulationResult object at 0xa18533940>, layout_name='preset', type_of_viz='…"
      ]
     },
     "metadata": {},
     "output_type": "display_data"
    }
   ],
   "source": [
    "viz.species_dynamics_view(sim)"
   ]
  },
  {
   "cell_type": "code",
   "execution_count": 2,
   "metadata": {},
   "outputs": [],
   "source": [
    "from ipywidgets import VBox, jsdlink, IntSlider, Button"
   ]
  },
  {
   "cell_type": "code",
   "execution_count": 10,
   "metadata": {},
   "outputs": [
    {
     "data": {
      "text/plain": [
       "ipywidgets.widgets.widget_box.VBox"
      ]
     },
     "execution_count": 10,
     "metadata": {},
     "output_type": "execute_result"
    }
   ],
   "source": [
    "s1, s2 = IntSlider(max=200, value=100), IntSlider(value=40)\n",
    "b = Button(icon='legal')\n",
    "jsdlink((s1, 'value'), (s2, 'max'))\n",
    "type(VBox([s1, s2, b]))"
   ]
  },
  {
   "cell_type": "code",
   "execution_count": 14,
   "metadata": {},
   "outputs": [],
   "source": [
    "from pysbjupyter.pysbviz import pysbViz"
   ]
  },
  {
   "cell_type": "code",
   "execution_count": 21,
   "metadata": {},
   "outputs": [
    {
     "name": "stdout",
     "output_type": "stream",
     "text": [
      "(<class 'ipywidgets.widgets.domwidget.DOMWidget'>,)\n"
     ]
    }
   ],
   "source": [
    "print(pysbViz.__bases__)"
   ]
  },
  {
   "cell_type": "code",
   "execution_count": null,
   "metadata": {},
   "outputs": [],
   "source": []
  }
 ],
 "metadata": {
  "kernelspec": {
   "display_name": "Python 3",
   "language": "python",
   "name": "python3"
  },
  "language_info": {
   "codemirror_mode": {
    "name": "ipython",
    "version": 3
   },
   "file_extension": ".py",
   "mimetype": "text/x-python",
   "name": "python",
   "nbconvert_exporter": "python",
   "pygments_lexer": "ipython3",
   "version": "3.7.1"
  },
  "widgets": {
   "application/vnd.jupyter.widget-state+json": {
    "state": {
     "0e655d67f96c40edb60f628c5ab349f0": {
      "model_module": "viz-pysb-widget",
      "model_module_version": "^0.1.0",
      "model_name": "CytoscapeModel",
      "state": {
       "_model_module_version": "^0.1.0",
       "_view_module_version": "^0.1.0",
       "background": "#FFFFFF",
       "data": {
        "data": {
         "graph": {
          "rankdir": "LR"
         },
         "name": "pysbjupyter.pysb_models.lopez_embedded",
         "paths": []
        },
        "elements": {
         "edges": [
          {
           "data": {
            "arrowhead": "normal",
            "id": "75282dde-9811-47f1-aced-936c74eca3b5",
            "source": "s0",
            "source_arrow_fill": "hollow",
            "source_arrow_shape": "diamond",
            "target": "s21",
            "target_arrow_shape": "triangle"
           }
          },
          {
           "data": {
            "arrowhead": "normal",
            "id": "49206d25-a893-4740-b520-1057d3a46437",
            "source": "s1",
            "source_arrow_fill": "hollow",
            "source_arrow_shape": "diamond",
            "target": "s21",
            "target_arrow_shape": "triangle"
           }
          },
          {
           "data": {
            "arrowhead": "normal",
            "id": "ddb6bd13-ef3d-4e31-80df-82c11b28834b",
            "source": "s2",
            "source_arrow_fill": "hollow",
            "source_arrow_shape": "diamond",
            "target": "s27",
            "target_arrow_shape": "triangle"
           }
          },
          {
           "data": {
            "arrowhead": "normal",
            "id": "71cde347-2544-4cb7-ba41-9d6983abfbc4",
            "source": "s3",
            "source_arrow_fill": "hollow",
            "source_arrow_shape": "diamond",
            "target": "s26",
            "target_arrow_shape": "triangle"
           }
          },
          {
           "data": {
            "arrowhead": "normal",
            "id": "32157b93-6b20-4efc-a714-5c9d9f2d8cfb",
            "source": "s3",
            "source_arrow_fill": "hollow",
            "source_arrow_shape": "diamond",
            "target": "s46",
            "target_arrow_shape": "triangle"
           }
          },
          {
           "data": {
            "arrowhead": "normal",
            "id": "6c8c277c-d196-43b5-a3c9-f02a4ba68900",
            "source": "s4",
            "source_arrow_fill": "hollow",
            "source_arrow_shape": "diamond",
            "target": "s30",
            "target_arrow_shape": "triangle"
           }
          },
          {
           "data": {
            "arrowhead": "normal",
            "id": "0332708b-f2c9-46e5-81bb-88d692ac4fc1",
            "source": "s5",
            "source_arrow_fill": "hollow",
            "source_arrow_shape": "diamond",
            "target": "s71",
            "target_arrow_shape": "triangle"
           }
          },
          {
           "data": {
            "arrowhead": "normal",
            "id": "87ad35ca-3818-4dd9-bcac-24338dbb5f49",
            "source": "s6",
            "source_arrow_fill": "hollow",
            "source_arrow_shape": "diamond",
            "target": "s31",
            "target_arrow_shape": "triangle"
           }
          },
          {
           "data": {
            "arrowhead": "normal",
            "id": "274978a1-8066-4b98-8c52-fb8d32650c80",
            "source": "s6",
            "source_arrow_fill": "hollow",
            "source_arrow_shape": "diamond",
            "target": "s75",
            "target_arrow_shape": "triangle"
           }
          },
          {
           "data": {
            "arrowhead": "normal",
            "id": "8d089e83-8b74-4fee-a077-4b633e329f82",
            "source": "s7",
            "source_arrow_fill": "hollow",
            "source_arrow_shape": "diamond",
            "target": "s36",
            "target_arrow_shape": "triangle"
           }
          },
          {
           "data": {
            "arrowhead": "normal",
            "id": "2b6b06ed-7226-4ac6-8486-5fdbaa6df047",
            "source": "s8",
            "source_arrow_fill": "hollow",
            "source_arrow_shape": "diamond",
            "target": "s74",
            "target_arrow_shape": "triangle"
           }
          },
          {
           "data": {
            "arrowhead": "normal",
            "id": "c253747e-f7aa-40c3-9ffe-b9f5823dbd00",
            "source": "s9",
            "source_arrow_fill": "hollow",
            "source_arrow_shape": "diamond",
            "target": "s35",
            "target_arrow_shape": "triangle"
           }
          },
          {
           "data": {
            "arrowhead": "normal",
            "id": "b4aaa6f6-9456-4e59-89b9-d972ddac8327",
            "source": "s10",
            "source_arrow_fill": "hollow",
            "source_arrow_shape": "diamond",
            "target": "s34",
            "target_arrow_shape": "triangle"
           }
          },
          {
           "data": {
            "arrowhead": "normal",
            "id": "a1aae3f2-c3df-4c73-85ab-255fca48ccf4",
            "source": "s10",
            "source_arrow_fill": "hollow",
            "source_arrow_shape": "diamond",
            "target": "s72",
            "target_arrow_shape": "triangle"
           }
          },
          {
           "data": {
            "arrowhead": "normal",
            "id": "e5d6ba00-b0a0-45b3-92f7-d743157aa0df",
            "source": "s10",
            "source_arrow_fill": "hollow",
            "source_arrow_shape": "diamond",
            "target": "s76",
            "target_arrow_shape": "triangle"
           }
          },
          {
           "data": {
            "arrowhead": "normal",
            "id": "da171bf4-4b97-4354-ac7b-8c33f4c3cc20",
            "source": "s11",
            "source_arrow_fill": "hollow",
            "source_arrow_shape": "diamond",
            "target": "s29",
            "target_arrow_shape": "triangle"
           }
          },
          {
           "data": {
            "arrowhead": "normal",
            "id": "e4eb57e2-8cdd-4ba9-befd-25558c31c9d7",
            "source": "s12",
            "source_arrow_fill": "hollow",
            "source_arrow_shape": "diamond",
            "target": "s41",
            "target_arrow_shape": "triangle"
           }
          },
          {
           "data": {
            "arrowhead": "normal",
            "id": "69faef9e-943d-4542-9bd4-9088948d2db8",
            "source": "s13",
            "source_arrow_fill": "hollow",
            "source_arrow_shape": "diamond",
            "target": "s42",
            "target_arrow_shape": "triangle"
           }
          },
          {
           "data": {
            "arrowhead": "normal",
            "id": "b5705b8f-536e-43c1-841f-7437efdfd98e",
            "source": "s13",
            "source_arrow_fill": "hollow",
            "source_arrow_shape": "diamond",
            "target": "s50",
            "target_arrow_shape": "triangle"
           }
          },
          {
           "data": {
            "arrowhead": "normal",
            "id": "d8245dbf-7ac8-4b7e-9dfc-c726c5097110",
            "source": "s14",
            "source_arrow_fill": "hollow",
            "source_arrow_shape": "diamond",
            "target": "s22",
            "target_arrow_shape": "triangle"
           }
          },
          {
           "data": {
            "arrowhead": "normal",
            "id": "ebe52694-2295-47c6-8bdb-c975a0d5d3dc",
            "source": "s14",
            "source_arrow_fill": "hollow",
            "source_arrow_shape": "diamond",
            "target": "s43",
            "target_arrow_shape": "triangle"
           }
          },
          {
           "data": {
            "arrowhead": "normal",
            "id": "f2574824-5e61-40dd-a0d2-b2c59d559a13",
            "source": "s14",
            "source_arrow_fill": "hollow",
            "source_arrow_shape": "diamond",
            "target": "s57",
            "target_arrow_shape": "triangle"
           }
          },
          {
           "data": {
            "arrowhead": "normal",
            "id": "8e3a2cd1-a03e-47f0-a243-a1235e60fd87",
            "source": "s15",
            "source_arrow_fill": "hollow",
            "source_arrow_shape": "diamond",
            "target": "s23",
            "target_arrow_shape": "triangle"
           }
          },
          {
           "data": {
            "arrowhead": "normal",
            "id": "1622102c-7679-4ff8-a849-f4b4c40d7bb1",
            "source": "s15",
            "source_arrow_fill": "hollow",
            "source_arrow_shape": "diamond",
            "target": "s44",
            "target_arrow_shape": "triangle"
           }
          },
          {
           "data": {
            "arrowhead": "normal",
            "id": "d42db1b0-7731-4741-b312-7418b95c23ff",
            "source": "s15",
            "source_arrow_fill": "hollow",
            "source_arrow_shape": "diamond",
            "target": "s51",
            "target_arrow_shape": "triangle"
           }
          },
          {
           "data": {
            "arrowhead": "normal",
            "id": "de0f6c3f-4786-4472-82c4-b34e2ff9edb7",
            "source": "s15",
            "source_arrow_fill": "hollow",
            "source_arrow_shape": "diamond",
            "target": "s58",
            "target_arrow_shape": "triangle"
           }
          },
          {
           "data": {
            "arrowhead": "normal",
            "id": "b28d8081-0ceb-4c61-96f4-4686f4520133",
            "source": "s16",
            "source_arrow_fill": "hollow",
            "source_arrow_shape": "diamond",
            "target": "s24",
            "target_arrow_shape": "triangle"
           }
          },
          {
           "data": {
            "arrowhead": "normal",
            "id": "ad00f542-128b-4d55-a78c-77e842b31f67",
            "source": "s16",
            "source_arrow_fill": "hollow",
            "source_arrow_shape": "diamond",
            "target": "s45",
            "target_arrow_shape": "triangle"
           }
          },
          {
           "data": {
            "arrowhead": "normal",
            "id": "2ad523d0-1ee5-4eb6-a659-02592258a303",
            "source": "s16",
            "source_arrow_fill": "hollow",
            "source_arrow_shape": "diamond",
            "target": "s52",
            "target_arrow_shape": "triangle"
           }
          },
          {
           "data": {
            "arrowhead": "normal",
            "id": "53819d45-c15e-4f8c-9af2-d3f2d88d3a84",
            "source": "s17",
            "source_arrow_fill": "hollow",
            "source_arrow_shape": "diamond",
            "target": "s22",
            "target_arrow_shape": "triangle"
           }
          },
          {
           "data": {
            "arrowhead": "normal",
            "id": "6feecd13-5c01-4b8d-a28f-21359147ccc8",
            "source": "s17",
            "source_arrow_fill": "hollow",
            "source_arrow_shape": "diamond",
            "target": "s23",
            "target_arrow_shape": "triangle"
           }
          },
          {
           "data": {
            "arrowhead": "normal",
            "id": "72fbee62-a36e-4af8-82ff-dbf1bea6084e",
            "source": "s18",
            "source_arrow_fill": "hollow",
            "source_arrow_shape": "diamond",
            "target": "s24",
            "target_arrow_shape": "triangle"
           }
          },
          {
           "data": {
            "arrowhead": "normal",
            "id": "2e6206ef-b380-4174-acef-f57d40bde3a2",
            "source": "s19",
            "source_arrow_fill": "hollow",
            "source_arrow_shape": "diamond",
            "target": "s62",
            "target_arrow_shape": "triangle"
           }
          },
          {
           "data": {
            "arrowhead": "normal",
            "id": "8a54da62-e443-482f-a96c-58ffc3d0cd19",
            "source": "s19",
            "source_arrow_fill": "hollow",
            "source_arrow_shape": "diamond",
            "target": "s69",
            "target_arrow_shape": "triangle"
           }
          },
          {
           "data": {
            "arrowhead": "normal",
            "id": "14a0de55-5d36-423e-b3fd-461ea6fefac9",
            "source": "s20",
            "source_arrow_fill": "hollow",
            "source_arrow_shape": "diamond",
            "target": "s63",
            "target_arrow_shape": "triangle"
           }
          },
          {
           "data": {
            "arrowhead": "normal",
            "id": "4d371c9f-f2a5-4908-a106-ec949bae15a8",
            "source": "s20",
            "source_arrow_fill": "hollow",
            "source_arrow_shape": "diamond",
            "target": "s70",
            "target_arrow_shape": "triangle"
           }
          },
          {
           "data": {
            "arrowhead": "normal",
            "id": "20da9c94-3ae1-4d29-a539-46956fc8bc80",
            "source": "s21",
            "source_arrow_fill": "filled",
            "source_arrow_shape": "none",
            "target": "s25",
            "target_arrow_shape": "triangle"
           }
          },
          {
           "data": {
            "arrowhead": "normal",
            "id": "0c94a705-256f-454b-becc-17bb05640c37",
            "source": "s25",
            "source_arrow_fill": "hollow",
            "source_arrow_shape": "diamond",
            "target": "s26",
            "target_arrow_shape": "triangle"
           }
          },
          {
           "data": {
            "arrowhead": "normal",
            "id": "36f7091b-e533-4ce2-89ee-3766612b22df",
            "source": "s25",
            "source_arrow_fill": "hollow",
            "source_arrow_shape": "diamond",
            "target": "s27",
            "target_arrow_shape": "triangle"
           }
          },
          {
           "data": {
            "arrowhead": "normal",
            "id": "8e4a17b9-bdb4-4f92-808c-8823fbaa11ec",
            "source": "s26",
            "source_arrow_fill": "filled",
            "source_arrow_shape": "none",
            "target": "s25",
            "target_arrow_shape": "triangle"
           }
          },
          {
           "data": {
            "arrowhead": "normal",
            "id": "0a2b92f9-fbad-4b7c-9993-39cffd525527",
            "source": "s26",
            "source_arrow_fill": "filled",
            "source_arrow_shape": "none",
            "target": "s28",
            "target_arrow_shape": "triangle"
           }
          },
          {
           "data": {
            "arrowhead": "normal",
            "id": "e2c10fbb-b934-4a22-b06d-d0441193cbe7",
            "source": "s28",
            "source_arrow_fill": "hollow",
            "source_arrow_shape": "diamond",
            "target": "s29",
            "target_arrow_shape": "triangle"
           }
          },
          {
           "data": {
            "arrowhead": "normal",
            "id": "e3278c65-8a00-4704-88f9-654add39f386",
            "source": "s28",
            "source_arrow_fill": "hollow",
            "source_arrow_shape": "diamond",
            "target": "s30",
            "target_arrow_shape": "triangle"
           }
          },
          {
           "data": {
            "arrowhead": "normal",
            "id": "449076a0-c10f-4784-8f4e-0684610caa2a",
            "source": "s28",
            "source_arrow_fill": "hollow",
            "source_arrow_shape": "diamond",
            "target": "s31",
            "target_arrow_shape": "triangle"
           }
          },
          {
           "data": {
            "arrowhead": "normal",
            "id": "317b2181-bc79-4dc3-b0b5-743f0ebefcb2",
            "source": "s29",
            "source_arrow_fill": "filled",
            "source_arrow_shape": "none",
            "target": "s32",
            "target_arrow_shape": "triangle"
           }
          },
          {
           "data": {
            "arrowhead": "normal",
            "id": "18636e74-937b-4161-b4b0-d507dc2d774c",
            "source": "s29",
            "source_arrow_fill": "filled",
            "source_arrow_shape": "none",
            "target": "s28",
            "target_arrow_shape": "triangle"
           }
          },
          {
           "data": {
            "arrowhead": "normal",
            "id": "ff9f5043-734f-4557-a286-5712cfd2a1a2",
            "source": "s31",
            "source_arrow_fill": "filled",
            "source_arrow_shape": "none",
            "target": "s33",
            "target_arrow_shape": "triangle"
           }
          },
          {
           "data": {
            "arrowhead": "normal",
            "id": "ad86244e-42e5-415d-aa80-f7f2b47213ae",
            "source": "s31",
            "source_arrow_fill": "filled",
            "source_arrow_shape": "none",
            "target": "s28",
            "target_arrow_shape": "triangle"
           }
          },
          {
           "data": {
            "arrowhead": "normal",
            "id": "0f4048bd-c249-4cb9-b800-7bb9183f515d",
            "source": "s32",
            "source_arrow_fill": "hollow",
            "source_arrow_shape": "diamond",
            "target": "s37",
            "target_arrow_shape": "triangle"
           }
          },
          {
           "data": {
            "arrowhead": "normal",
            "id": "8e04999c-0707-4c60-ae4c-67b5a88d5830",
            "source": "s33",
            "source_arrow_fill": "hollow",
            "source_arrow_shape": "diamond",
            "target": "s34",
            "target_arrow_shape": "triangle"
           }
          },
          {
           "data": {
            "arrowhead": "normal",
            "id": "7be803df-b392-4ccc-adca-711e813344ee",
            "source": "s33",
            "source_arrow_fill": "hollow",
            "source_arrow_shape": "diamond",
            "target": "s35",
            "target_arrow_shape": "triangle"
           }
          },
          {
           "data": {
            "arrowhead": "normal",
            "id": "eb6d0552-e681-4a96-b6c0-c691cc2ed94c",
            "source": "s33",
            "source_arrow_fill": "hollow",
            "source_arrow_shape": "diamond",
            "target": "s36",
            "target_arrow_shape": "triangle"
           }
          },
          {
           "data": {
            "arrowhead": "normal",
            "id": "23169f69-4ec1-4ab6-81ed-e4a2d2f4278d",
            "source": "s34",
            "source_arrow_fill": "filled",
            "source_arrow_shape": "none",
            "target": "s10",
            "target_arrow_shape": "triangle"
           }
          },
          {
           "data": {
            "arrowhead": "normal",
            "id": "5ebcad79-e873-4dc6-9318-88d7eabe1003",
            "source": "s34",
            "source_arrow_fill": "filled",
            "source_arrow_shape": "none",
            "target": "s38",
            "target_arrow_shape": "triangle"
           }
          },
          {
           "data": {
            "arrowhead": "normal",
            "id": "e0e201e9-8028-40a8-aaa8-1207b0a87b56",
            "source": "s35",
            "source_arrow_fill": "filled",
            "source_arrow_shape": "none",
            "target": "s33",
            "target_arrow_shape": "triangle"
           }
          },
          {
           "data": {
            "arrowhead": "normal",
            "id": "eea39987-6746-49d8-8445-51c88f8c2540",
            "source": "s35",
            "source_arrow_fill": "filled",
            "source_arrow_shape": "none",
            "target": "s39",
            "target_arrow_shape": "triangle"
           }
          },
          {
           "data": {
            "arrowhead": "normal",
            "id": "94b020a6-5a40-4eab-9286-bcfac400fa81",
            "source": "s36",
            "source_arrow_fill": "filled",
            "source_arrow_shape": "none",
            "target": "s40",
            "target_arrow_shape": "triangle"
           }
          },
          {
           "data": {
            "arrowhead": "normal",
            "id": "73e2aebd-bd9f-41c3-8efe-acbe6ba72b45",
            "source": "s36",
            "source_arrow_fill": "filled",
            "source_arrow_shape": "none",
            "target": "s33",
            "target_arrow_shape": "triangle"
           }
          },
          {
           "data": {
            "arrowhead": "normal",
            "id": "779c5ba9-a3b4-429f-9228-0e2ac7fef9c6",
            "source": "s37",
            "source_arrow_fill": "hollow",
            "source_arrow_shape": "diamond",
            "target": "s41",
            "target_arrow_shape": "triangle"
           }
          },
          {
           "data": {
            "arrowhead": "normal",
            "id": "cb4b67ea-f76d-4daa-8453-2b325236cdc4",
            "source": "s37",
            "source_arrow_fill": "hollow",
            "source_arrow_shape": "diamond",
            "target": "s42",
            "target_arrow_shape": "triangle"
           }
          },
          {
           "data": {
            "arrowhead": "normal",
            "id": "6170369b-cf57-49ae-b52e-0884ada77aa3",
            "source": "s37",
            "source_arrow_fill": "hollow",
            "source_arrow_shape": "diamond",
            "target": "s43",
            "target_arrow_shape": "triangle"
           }
          },
          {
           "data": {
            "arrowhead": "normal",
            "id": "97751684-a49f-4a6a-911f-ce5849b9dbbd",
            "source": "s37",
            "source_arrow_fill": "hollow",
            "source_arrow_shape": "diamond",
            "target": "s44",
            "target_arrow_shape": "triangle"
           }
          },
          {
           "data": {
            "arrowhead": "normal",
            "id": "2eed228b-5c6b-4c23-a89e-3bd6109d6181",
            "source": "s37",
            "source_arrow_fill": "hollow",
            "source_arrow_shape": "diamond",
            "target": "s45",
            "target_arrow_shape": "triangle"
           }
          },
          {
           "data": {
            "arrowhead": "normal",
            "id": "814feb96-2f11-4a88-87ad-b90b0886367d",
            "source": "s37",
            "source_arrow_fill": "hollow",
            "source_arrow_shape": "diamond",
            "target": "s49",
            "target_arrow_shape": "triangle"
           }
          },
          {
           "data": {
            "arrowhead": "normal",
            "id": "b7b2c6ac-e496-4c60-a34b-c95b22382409",
            "source": "s40",
            "source_arrow_fill": "hollow",
            "source_arrow_shape": "diamond",
            "target": "s46",
            "target_arrow_shape": "triangle"
           }
          },
          {
           "data": {
            "arrowhead": "normal",
            "id": "5256d487-8102-4f58-9186-9cd059318928",
            "source": "s41",
            "source_arrow_fill": "filled",
            "source_arrow_shape": "none",
            "target": "s37",
            "target_arrow_shape": "triangle"
           }
          },
          {
           "data": {
            "arrowhead": "normal",
            "id": "177bb3ff-9900-4992-8cbc-c6386c9a3adc",
            "source": "s41",
            "source_arrow_fill": "filled",
            "source_arrow_shape": "none",
            "target": "s47",
            "target_arrow_shape": "triangle"
           }
          },
          {
           "data": {
            "arrowhead": "normal",
            "id": "64466f98-c31d-4bb1-a390-9f5d9e123b47",
            "source": "s42",
            "source_arrow_fill": "filled",
            "source_arrow_shape": "none",
            "target": "s48",
            "target_arrow_shape": "triangle"
           }
          },
          {
           "data": {
            "arrowhead": "normal",
            "id": "91fcb7a0-102b-46e4-87de-3632d5bcddd3",
            "source": "s42",
            "source_arrow_fill": "filled",
            "source_arrow_shape": "none",
            "target": "s37",
            "target_arrow_shape": "triangle"
           }
          },
          {
           "data": {
            "arrowhead": "normal",
            "id": "50e9bc39-3509-4898-b944-764d37b94673",
            "source": "s46",
            "source_arrow_fill": "filled",
            "source_arrow_shape": "none",
            "target": "s40",
            "target_arrow_shape": "triangle"
           }
          },
          {
           "data": {
            "arrowhead": "normal",
            "id": "98b62918-44d7-480c-9f6b-911fb684eb37",
            "source": "s46",
            "source_arrow_fill": "filled",
            "source_arrow_shape": "none",
            "target": "s28",
            "target_arrow_shape": "triangle"
           }
          },
          {
           "data": {
            "arrowhead": "normal",
            "id": "36995f07-89ea-40b1-ac5b-c77b5fa21a9c",
            "source": "s47",
            "source_arrow_fill": "hollow",
            "source_arrow_shape": "diamond",
            "target": "s49",
            "target_arrow_shape": "triangle"
           }
          },
          {
           "data": {
            "arrowhead": "normal",
            "id": "d9e71050-5fc7-4138-b2f1-27c8973ace15",
            "source": "s47",
            "source_arrow_fill": "hollow",
            "source_arrow_shape": "diamond",
            "target": "s56",
            "target_arrow_shape": "triangle"
           }
          },
          {
           "data": {
            "arrowhead": "normal",
            "id": "2d6019c5-42c8-4daf-b998-8c21428f7411",
            "source": "s48",
            "source_arrow_fill": "hollow",
            "source_arrow_shape": "diamond",
            "target": "s50",
            "target_arrow_shape": "triangle"
           }
          },
          {
           "data": {
            "arrowhead": "normal",
            "id": "33f4fe1b-4f45-4964-823b-460f185657f7",
            "source": "s48",
            "source_arrow_fill": "hollow",
            "source_arrow_shape": "diamond",
            "target": "s51",
            "target_arrow_shape": "triangle"
           }
          },
          {
           "data": {
            "arrowhead": "normal",
            "id": "0639bda0-9d94-4501-bb90-1c86fd60a316",
            "source": "s48",
            "source_arrow_fill": "hollow",
            "source_arrow_shape": "diamond",
            "target": "s52",
            "target_arrow_shape": "triangle"
           }
          },
          {
           "data": {
            "arrowhead": "normal",
            "id": "4825aa0a-ca5c-441c-9dcf-49b3c1fc4dea",
            "source": "s48",
            "source_arrow_fill": "hollow",
            "source_arrow_shape": "diamond",
            "target": "s53",
            "target_arrow_shape": "triangle"
           }
          },
          {
           "data": {
            "arrowhead": "normal",
            "id": "050a0ee0-9057-48f6-9a99-479ffd2fc874",
            "source": "s48",
            "source_arrow_fill": "hollow",
            "source_arrow_shape": "diamond",
            "target": "s55",
            "target_arrow_shape": "triangle"
           }
          },
          {
           "data": {
            "arrowhead": "normal",
            "id": "bd163093-3782-41fa-9aaf-88c1a344c4b5",
            "source": "s48",
            "source_arrow_fill": "hollow",
            "source_arrow_shape": "diamond",
            "target": "s60",
            "target_arrow_shape": "triangle"
           }
          },
          {
           "data": {
            "arrowhead": "normal",
            "id": "62936895-41e5-4e84-b3bc-4f0fd5d349da",
            "source": "s49",
            "source_arrow_fill": "filled",
            "source_arrow_shape": "none",
            "target": "s37",
            "target_arrow_shape": "triangle"
           }
          },
          {
           "data": {
            "arrowhead": "normal",
            "id": "dabc013f-ad03-4c81-9f70-ee1668410464",
            "source": "s49",
            "source_arrow_fill": "filled",
            "source_arrow_shape": "none",
            "target": "s54",
            "target_arrow_shape": "triangle"
           }
          },
          {
           "data": {
            "arrowhead": "normal",
            "id": "3e787f9f-48bc-4621-874e-8c51efaa3a1d",
            "source": "s50",
            "source_arrow_fill": "filled",
            "source_arrow_shape": "none",
            "target": "s48",
            "target_arrow_shape": "triangle"
           }
          },
          {
           "data": {
            "arrowhead": "normal",
            "id": "60ad7efa-eb63-4d96-b156-7c9205fb48fa",
            "source": "s53",
            "source_arrow_fill": "hollow",
            "source_arrow_shape": "diamond",
            "target": "s55",
            "target_arrow_shape": "triangle"
           }
          },
          {
           "data": {
            "arrowhead": "normal",
            "id": "f22e9dc3-1611-4427-8178-7c7c33dde984",
            "source": "s54",
            "source_arrow_fill": "hollow",
            "source_arrow_shape": "diamond",
            "target": "s56",
            "target_arrow_shape": "triangle"
           }
          },
          {
           "data": {
            "arrowhead": "normal",
            "id": "057421fc-9a76-43b1-9fe6-0bddaa125503",
            "source": "s54",
            "source_arrow_fill": "hollow",
            "source_arrow_shape": "diamond",
            "target": "s57",
            "target_arrow_shape": "triangle"
           }
          },
          {
           "data": {
            "arrowhead": "normal",
            "id": "af8f19d2-7360-4108-bcc9-6a0a54e92c3b",
            "source": "s54",
            "source_arrow_fill": "hollow",
            "source_arrow_shape": "diamond",
            "target": "s58",
            "target_arrow_shape": "triangle"
           }
          },
          {
           "data": {
            "arrowhead": "normal",
            "id": "7fe21092-ea87-49dd-8687-e66e5c66517f",
            "source": "s54",
            "source_arrow_fill": "hollow",
            "source_arrow_shape": "diamond",
            "target": "s59",
            "target_arrow_shape": "triangle"
           }
          },
          {
           "data": {
            "arrowhead": "normal",
            "id": "b7cced16-06a9-43b9-a82a-fdeb5f0afc8b",
            "source": "s54",
            "source_arrow_fill": "hollow",
            "source_arrow_shape": "diamond",
            "target": "s61",
            "target_arrow_shape": "triangle"
           }
          },
          {
           "data": {
            "arrowhead": "normal",
            "id": "7a84870f-bb45-4403-8458-9ae66a9c01cf",
            "source": "s54",
            "source_arrow_fill": "hollow",
            "source_arrow_shape": "diamond",
            "target": "s64",
            "target_arrow_shape": "triangle"
           }
          },
          {
           "data": {
            "arrowhead": "normal",
            "id": "4030d41b-ac4c-457f-ab27-e61e65845515",
            "source": "s55",
            "source_arrow_fill": "hollow",
            "source_arrow_shape": "diamond",
            "target": "s60",
            "target_arrow_shape": "triangle"
           }
          },
          {
           "data": {
            "arrowhead": "normal",
            "id": "3ccf1c51-65bb-46ff-899d-959965e9fa80",
            "source": "s56",
            "source_arrow_fill": "filled",
            "source_arrow_shape": "none",
            "target": "s54",
            "target_arrow_shape": "triangle"
           }
          },
          {
           "data": {
            "arrowhead": "normal",
            "id": "e2f8203d-bc31-4d7d-b9e4-2dedc0b8c78f",
            "source": "s59",
            "source_arrow_fill": "hollow",
            "source_arrow_shape": "diamond",
            "target": "s61",
            "target_arrow_shape": "triangle"
           }
          },
          {
           "data": {
            "arrowhead": "normal",
            "id": "f568cf9c-f3a7-48ab-8915-755645b0121f",
            "source": "s60",
            "source_arrow_fill": "hollow",
            "source_arrow_shape": "diamond",
            "target": "s62",
            "target_arrow_shape": "triangle"
           }
          },
          {
           "data": {
            "arrowhead": "normal",
            "id": "227f0563-e4c3-4b2a-b538-842fb3d6ead4",
            "source": "s60",
            "source_arrow_fill": "hollow",
            "source_arrow_shape": "diamond",
            "target": "s63",
            "target_arrow_shape": "triangle"
           }
          },
          {
           "data": {
            "arrowhead": "normal",
            "id": "061b0492-c731-4faf-adff-19af8eb6ed9e",
            "source": "s61",
            "source_arrow_fill": "hollow",
            "source_arrow_shape": "diamond",
            "target": "s64",
            "target_arrow_shape": "triangle"
           }
          },
          {
           "data": {
            "arrowhead": "normal",
            "id": "c274177e-b128-47c3-870b-5083f63adc62",
            "source": "s62",
            "source_arrow_fill": "filled",
            "source_arrow_shape": "none",
            "target": "s65",
            "target_arrow_shape": "triangle"
           }
          },
          {
           "data": {
            "arrowhead": "normal",
            "id": "4871c67f-b7fe-41ba-975e-9027fed785c6",
            "source": "s62",
            "source_arrow_fill": "filled",
            "source_arrow_shape": "none",
            "target": "s60",
            "target_arrow_shape": "triangle"
           }
          },
          {
           "data": {
            "arrowhead": "normal",
            "id": "43e93a5c-52a9-43e5-8ff6-65805fcef4db",
            "source": "s63",
            "source_arrow_fill": "filled",
            "source_arrow_shape": "none",
            "target": "s66",
            "target_arrow_shape": "triangle"
           }
          },
          {
           "data": {
            "arrowhead": "normal",
            "id": "c158b8a6-00b0-43cd-bee2-6c8e428da59e",
            "source": "s63",
            "source_arrow_fill": "filled",
            "source_arrow_shape": "none",
            "target": "s60",
            "target_arrow_shape": "triangle"
           }
          },
          {
           "data": {
            "arrowhead": "normal",
            "id": "dab0a2a0-3613-40b4-89e7-bc5f50ffb671",
            "source": "s64",
            "source_arrow_fill": "hollow",
            "source_arrow_shape": "diamond",
            "target": "s69",
            "target_arrow_shape": "triangle"
           }
          },
          {
           "data": {
            "arrowhead": "normal",
            "id": "d01f008a-b2f8-4c1b-a0a7-537986d5c561",
            "source": "s64",
            "source_arrow_fill": "hollow",
            "source_arrow_shape": "diamond",
            "target": "s70",
            "target_arrow_shape": "triangle"
           }
          },
          {
           "data": {
            "arrowhead": "normal",
            "id": "5cd8f1d6-7f43-4702-94f0-a58482dbb551",
            "source": "s65",
            "source_arrow_fill": "hollow",
            "source_arrow_shape": "diamond",
            "target": "s68",
            "target_arrow_shape": "triangle"
           }
          },
          {
           "data": {
            "arrowhead": "normal",
            "id": "e917adc0-79c7-443d-adc5-711dadbe551e",
            "source": "s66",
            "source_arrow_fill": "hollow",
            "source_arrow_shape": "diamond",
            "target": "s67",
            "target_arrow_shape": "triangle"
           }
          },
          {
           "data": {
            "arrowhead": "normal",
            "id": "44eae98a-6aaf-48f1-9477-32795b75abce",
            "source": "s67",
            "source_arrow_fill": "hollow",
            "source_arrow_shape": "diamond",
            "target": "s72",
            "target_arrow_shape": "triangle"
           }
          },
          {
           "data": {
            "arrowhead": "normal",
            "id": "a37a4302-b65a-474a-a0e8-5bb3c48e4b2f",
            "source": "s68",
            "source_arrow_fill": "hollow",
            "source_arrow_shape": "diamond",
            "target": "s71",
            "target_arrow_shape": "triangle"
           }
          },
          {
           "data": {
            "arrowhead": "normal",
            "id": "cc32b08f-f844-4b30-a095-eed7fc9b74c9",
            "source": "s69",
            "source_arrow_fill": "filled",
            "source_arrow_shape": "none",
            "target": "s64",
            "target_arrow_shape": "triangle"
           }
          },
          {
           "data": {
            "arrowhead": "normal",
            "id": "e5d4f809-c7d2-48ae-8f62-dc2b74ac572a",
            "source": "s69",
            "source_arrow_fill": "filled",
            "source_arrow_shape": "none",
            "target": "s65",
            "target_arrow_shape": "triangle"
           }
          },
          {
           "data": {
            "arrowhead": "normal",
            "id": "b557026c-003c-4df8-8d67-a2963d633678",
            "source": "s70",
            "source_arrow_fill": "filled",
            "source_arrow_shape": "none",
            "target": "s64",
            "target_arrow_shape": "triangle"
           }
          },
          {
           "data": {
            "arrowhead": "normal",
            "id": "acf6cd9a-5932-4053-b6d4-3b5a56b3416a",
            "source": "s70",
            "source_arrow_fill": "filled",
            "source_arrow_shape": "none",
            "target": "s66",
            "target_arrow_shape": "triangle"
           }
          },
          {
           "data": {
            "arrowhead": "normal",
            "id": "38f213f0-b1e7-450a-a699-7a44033f4418",
            "source": "s71",
            "source_arrow_fill": "filled",
            "source_arrow_shape": "none",
            "target": "s73",
            "target_arrow_shape": "triangle"
           }
          },
          {
           "data": {
            "arrowhead": "normal",
            "id": "cc540ec5-8ed3-4630-b920-e26ebcac7d58",
            "source": "s71",
            "source_arrow_fill": "filled",
            "source_arrow_shape": "none",
            "target": "s68",
            "target_arrow_shape": "triangle"
           }
          },
          {
           "data": {
            "arrowhead": "normal",
            "id": "0b84a0ef-ae07-4f99-83b9-8dc58f5ecfee",
            "source": "s73",
            "source_arrow_fill": "hollow",
            "source_arrow_shape": "diamond",
            "target": "s74",
            "target_arrow_shape": "triangle"
           }
          },
          {
           "data": {
            "arrowhead": "normal",
            "id": "c3279e35-c1d9-4c93-96e4-e1fc6282d3d5",
            "source": "s74",
            "source_arrow_fill": "hollow",
            "source_arrow_shape": "diamond",
            "target": "s75",
            "target_arrow_shape": "triangle"
           }
          },
          {
           "data": {
            "arrowhead": "normal",
            "id": "51f286e6-a184-47ad-93e6-e275724497cd",
            "source": "s74",
            "source_arrow_fill": "hollow",
            "source_arrow_shape": "diamond",
            "target": "s76",
            "target_arrow_shape": "triangle"
           }
          },
          {
           "data": {
            "arrowhead": "normal",
            "id": "c23a441c-3aa2-405a-9c0a-da088503ad61",
            "source": "s75",
            "source_arrow_fill": "filled",
            "source_arrow_shape": "none",
            "target": "s33",
            "target_arrow_shape": "triangle"
           }
          },
          {
           "data": {
            "arrowhead": "normal",
            "id": "65c3c3e5-0349-41d4-b1e3-4dc5ca7eab47",
            "source": "s75",
            "source_arrow_fill": "filled",
            "source_arrow_shape": "none",
            "target": "s74",
            "target_arrow_shape": "triangle"
           }
          }
         ],
         "nodes": [
          {
           "data": {
            "NodeType": "species",
            "background_color": "#2b913a",
            "id": "s0",
            "label": "L",
            "name": "s0",
            "shape": "ellipse"
           },
           "position": {
            "x": 27,
            "y": 156
           }
          },
          {
           "data": {
            "NodeType": "species",
            "background_color": "#2b913a",
            "id": "s1",
            "label": "R",
            "name": "s1",
            "shape": "ellipse"
           },
           "position": {
            "x": 27,
            "y": 102
           }
          },
          {
           "data": {
            "NodeType": "species",
            "background_color": "#2b913a",
            "id": "s2",
            "label": "flip",
            "name": "s2",
            "shape": "ellipse"
           },
           "position": {
            "x": 212.22,
            "y": 183
           }
          },
          {
           "data": {
            "NodeType": "species",
            "background_color": "#2b913a",
            "id": "s3",
            "label": "proC8",
            "name": "s3",
            "shape": "ellipse"
           },
           "position": {
            "x": 212.22,
            "y": 25
           }
          },
          {
           "data": {
            "NodeType": "species",
            "background_color": "#2b913a",
            "id": "s4",
            "label": "BAR",
            "name": "s4",
            "shape": "ellipse"
           },
           "position": {
            "x": 459.26,
            "y": 46
           }
          },
          {
           "data": {
            "NodeType": "species",
            "background_color": "#2b913a",
            "id": "s5",
            "label": "iApaf",
            "name": "s5",
            "shape": "ellipse"
           },
           "position": {
            "x": 2092.3,
            "y": 998
           }
          },
          {
           "data": {
            "NodeType": "species",
            "background_color": "#2b913a",
            "id": "s6",
            "label": "proC3",
            "name": "s6",
            "shape": "ellipse"
           },
           "position": {
            "x": 459.26,
            "y": 553
           }
          },
          {
           "data": {
            "NodeType": "species",
            "background_color": "#2b913a",
            "id": "s7",
            "label": "proC6",
            "name": "s7",
            "shape": "ellipse"
           },
           "position": {
            "x": 2698.3,
            "y": 268
           }
          },
          {
           "data": {
            "NodeType": "species",
            "background_color": "#2b913a",
            "id": "s8",
            "label": "C9",
            "name": "s8",
            "shape": "ellipse"
           },
           "position": {
            "x": 2353.6,
            "y": 998
           }
          },
          {
           "data": {
            "NodeType": "species",
            "background_color": "#2b913a",
            "id": "s9",
            "label": "uPARP",
            "name": "s9",
            "shape": "ellipse"
           },
           "position": {
            "x": 2698.3,
            "y": 376
           }
          },
          {
           "data": {
            "NodeType": "species",
            "background_color": "#2b913a",
            "id": "s10",
            "label": "XIAP",
            "name": "s10",
            "shape": "ellipse"
           },
           "position": {
            "x": 2947.5,
            "y": 322
           }
          },
          {
           "data": {
            "NodeType": "species",
            "background_color": "#2b913a",
            "id": "s11",
            "label": "uBid",
            "name": "s11",
            "shape": "ellipse"
           },
           "position": {
            "x": 459.26,
            "y": 100
           }
          },
          {
           "data": {
            "NodeType": "species",
            "background_color": "#2b913a",
            "id": "s12",
            "label": "cBax",
            "name": "s12",
            "shape": "ellipse"
           },
           "position": {
            "x": 788.43,
            "y": 668
           }
          },
          {
           "data": {
            "NodeType": "species",
            "background_color": "#2b913a",
            "id": "s13",
            "label": "mBak",
            "name": "s13",
            "shape": "ellipse"
           },
           "position": {
            "x": 788.43,
            "y": 371
           }
          },
          {
           "data": {
            "NodeType": "species",
            "background_color": "#2b913a",
            "id": "s14",
            "label": "mBcl2",
            "name": "s14",
            "shape": "ellipse"
           },
           "position": {
            "x": 1064.9,
            "y": 768
           }
          },
          {
           "data": {
            "NodeType": "species",
            "background_color": "#2b913a",
            "id": "s15",
            "label": "mBclxL",
            "name": "s15",
            "shape": "ellipse"
           },
           "position": {
            "x": 1064.9,
            "y": 550
           }
          },
          {
           "data": {
            "NodeType": "species",
            "background_color": "#2b913a",
            "id": "s16",
            "label": "mMcl1",
            "name": "s16",
            "shape": "ellipse"
           },
           "position": {
            "x": 788.43,
            "y": 798
           }
          },
          {
           "data": {
            "NodeType": "species",
            "background_color": "#2b913a",
            "id": "s17",
            "label": "mBad",
            "name": "s17",
            "shape": "ellipse"
           },
           "position": {
            "x": 1064.9,
            "y": 604
           }
          },
          {
           "data": {
            "NodeType": "species",
            "background_color": "#2b913a",
            "id": "s18",
            "label": "mNoxa",
            "name": "s18",
            "shape": "ellipse"
           },
           "position": {
            "x": 788.43,
            "y": 852
           }
          },
          {
           "data": {
            "NodeType": "species",
            "background_color": "#2b913a",
            "id": "s19",
            "label": "mCytoC",
            "name": "s19",
            "shape": "ellipse"
           },
           "position": {
            "x": 1701.6,
            "y": 581
           }
          },
          {
           "data": {
            "NodeType": "species",
            "background_color": "#2b913a",
            "id": "s20",
            "label": "mSmac",
            "name": "s20",
            "shape": "ellipse"
           },
           "position": {
            "x": 1701.6,
            "y": 367
           }
          },
          {
           "data": {
            "NodeType": "species",
            "background_color": "#2b913a",
            "id": "s21",
            "label": "L-R",
            "name": "s21",
            "shape": "ellipse"
           },
           "position": {
            "x": 117,
            "y": 129
           }
          },
          {
           "data": {
            "NodeType": "species",
            "background_color": "#2b913a",
            "id": "s22",
            "label": "mBad-mBcl2",
            "name": "s22",
            "shape": "ellipse"
           },
           "position": {
            "x": 1203.2,
            "y": 760
           }
          },
          {
           "data": {
            "NodeType": "species",
            "background_color": "#2b913a",
            "id": "s23",
            "label": "mBad-mBclxL",
            "name": "s23",
            "shape": "ellipse"
           },
           "position": {
            "x": 1203.2,
            "y": 614
           }
          },
          {
           "data": {
            "NodeType": "species",
            "background_color": "#2b913a",
            "id": "s24",
            "label": "mMcl1-mNoxa",
            "name": "s24",
            "shape": "ellipse"
           },
           "position": {
            "x": 925.2,
            "y": 852
           }
          },
          {
           "data": {
            "NodeType": "species",
            "background_color": "#2b913a",
            "id": "s25",
            "label": "DISC",
            "name": "s25",
            "shape": "ellipse"
           },
           "position": {
            "x": 212.22,
            "y": 129
           }
          },
          {
           "data": {
            "NodeType": "species",
            "background_color": "#2b913a",
            "id": "s26",
            "label": "proC8-DISC",
            "name": "s26",
            "shape": "ellipse"
           },
           "position": {
            "x": 335.74,
            "y": 129
           }
          },
          {
           "data": {
            "NodeType": "species",
            "background_color": "#2b913a",
            "id": "s27",
            "label": "DISC-flip",
            "name": "s27",
            "shape": "ellipse"
           },
           "position": {
            "x": 335.74,
            "y": 183
           }
          },
          {
           "data": {
            "NodeType": "species",
            "background_color": "#2b913a",
            "id": "s28",
            "label": "aC8",
            "name": "s28",
            "shape": "ellipse"
           },
           "position": {
            "x": 459.26,
            "y": 154
           }
          },
          {
           "data": {
            "NodeType": "species",
            "background_color": "#2b913a",
            "id": "s29",
            "label": "uBid-aC8",
            "name": "s29",
            "shape": "ellipse"
           },
           "position": {
            "x": 576.89,
            "y": 138
           }
          },
          {
           "data": {
            "NodeType": "species",
            "background_color": "#2b913a",
            "id": "s30",
            "label": "BAR-aC8",
            "name": "s30",
            "shape": "ellipse"
           },
           "position": {
            "x": 576.89,
            "y": 46
           }
          },
          {
           "data": {
            "NodeType": "species",
            "background_color": "#2b913a",
            "id": "s31",
            "label": "proC3-aC8",
            "name": "s31",
            "shape": "ellipse"
           },
           "position": {
            "x": 576.89,
            "y": 192
           }
          },
          {
           "data": {
            "NodeType": "species",
            "background_color": "#2b913a",
            "id": "s32",
            "label": "tBid",
            "name": "s32",
            "shape": "ellipse"
           },
           "position": {
            "x": 689.29,
            "y": 138
           }
          },
          {
           "data": {
            "NodeType": "species",
            "background_color": "#2b913a",
            "id": "s33",
            "label": "aC3",
            "name": "s33",
            "shape": "ellipse"
           },
           "position": {
            "x": 2698.3,
            "y": 322
           }
          },
          {
           "data": {
            "NodeType": "species",
            "background_color": "#2b913a",
            "id": "s34",
            "label": "aC3-XIAP",
            "name": "s34",
            "shape": "ellipse"
           },
           "position": {
            "x": 2823.2,
            "y": 322
           }
          },
          {
           "data": {
            "NodeType": "species",
            "background_color": "#2b913a",
            "id": "s35",
            "label": "aC3-uPARP",
            "name": "s35",
            "shape": "ellipse"
           },
           "position": {
            "x": 2823.2,
            "y": 376
           }
          },
          {
           "data": {
            "NodeType": "species",
            "background_color": "#2b913a",
            "id": "s36",
            "label": "aC3-proC6",
            "name": "s36",
            "shape": "ellipse"
           },
           "position": {
            "x": 2823.2,
            "y": 268
           }
          },
          {
           "data": {
            "NodeType": "species",
            "background_color": "#2b913a",
            "id": "s37",
            "label": "mBid",
            "name": "s37",
            "shape": "ellipse"
           },
           "position": {
            "x": 788.43,
            "y": 613
           }
          },
          {
           "data": {
            "NodeType": "species",
            "background_color": "#2b913a",
            "id": "s38",
            "label": "ubC3",
            "name": "s38",
            "shape": "ellipse"
           },
           "position": {
            "x": 2947.5,
            "y": 268
           }
          },
          {
           "data": {
            "NodeType": "species",
            "background_color": "#2b913a",
            "id": "s39",
            "label": "cPARP",
            "name": "s39",
            "shape": "ellipse"
           },
           "position": {
            "x": 2947.5,
            "y": 376
           }
          },
          {
           "data": {
            "NodeType": "species",
            "background_color": "#2b913a",
            "id": "s40",
            "label": "aC6",
            "name": "s40",
            "shape": "ellipse"
           },
           "position": {
            "x": 2947.5,
            "y": 138
           }
          },
          {
           "data": {
            "NodeType": "species",
            "background_color": "#2b913a",
            "id": "s41",
            "label": "cBax-mBid",
            "name": "s41",
            "shape": "ellipse"
           },
           "position": {
            "x": 925.2,
            "y": 668
           }
          },
          {
           "data": {
            "NodeType": "species",
            "background_color": "#2b913a",
            "id": "s42",
            "label": "mBak-mBid",
            "name": "s42",
            "shape": "ellipse"
           },
           "position": {
            "x": 925.2,
            "y": 394
           }
          },
          {
           "data": {
            "NodeType": "species",
            "background_color": "#2b913a",
            "id": "s43",
            "label": "mBcl2-mBid",
            "name": "s43",
            "shape": "ellipse"
           },
           "position": {
            "x": 1203.2,
            "y": 852
           }
          },
          {
           "data": {
            "NodeType": "species",
            "background_color": "#2b913a",
            "id": "s44",
            "label": "mBclxL-mBid",
            "name": "s44",
            "shape": "ellipse"
           },
           "position": {
            "x": 1203.2,
            "y": 522
           }
          },
          {
           "data": {
            "NodeType": "species",
            "background_color": "#2b913a",
            "id": "s45",
            "label": "mBid-mMcl1",
            "name": "s45",
            "shape": "ellipse"
           },
           "position": {
            "x": 925.2,
            "y": 760
           }
          },
          {
           "data": {
            "NodeType": "species",
            "background_color": "#2b913a",
            "id": "s46",
            "label": "aC6-proC8",
            "name": "s46",
            "shape": "ellipse"
           },
           "position": {
            "x": 3076.1,
            "y": 115
           }
          },
          {
           "data": {
            "NodeType": "species",
            "background_color": "#2b913a",
            "id": "s47",
            "label": "mBax",
            "name": "s47",
            "shape": "ellipse"
           },
           "position": {
            "x": 1064.9,
            "y": 714
           }
          },
          {
           "data": {
            "NodeType": "species",
            "background_color": "#2b913a",
            "id": "s48",
            "label": "aBak",
            "name": "s48",
            "shape": "ellipse"
           },
           "position": {
            "x": 1064.9,
            "y": 349
           }
          },
          {
           "data": {
            "NodeType": "species",
            "background_color": "#2b913a",
            "id": "s49",
            "label": "mBax-mBid",
            "name": "s49",
            "shape": "ellipse"
           },
           "position": {
            "x": 1203.2,
            "y": 668
           }
          },
          {
           "data": {
            "NodeType": "species",
            "background_color": "#2b913a",
            "id": "s50",
            "label": "aBak-mBak",
            "name": "s50",
            "shape": "ellipse"
           },
           "position": {
            "x": 1203.2,
            "y": 230
           }
          },
          {
           "data": {
            "NodeType": "species",
            "background_color": "#2b913a",
            "id": "s51",
            "label": "aBak-mBclxL",
            "name": "s51",
            "shape": "ellipse"
           },
           "position": {
            "x": 1203.2,
            "y": 468
           }
          },
          {
           "data": {
            "NodeType": "species",
            "background_color": "#2b913a",
            "id": "s52",
            "label": "aBak-mMcl1",
            "name": "s52",
            "shape": "ellipse"
           },
           "position": {
            "x": 1203.2,
            "y": 414
           }
          },
          {
           "data": {
            "NodeType": "species",
            "background_color": "#2b913a",
            "id": "s53",
            "label": "2aBak",
            "name": "s53",
            "shape": "ellipse"
           },
           "position": {
            "x": 1203.2,
            "y": 284
           }
          },
          {
           "data": {
            "NodeType": "species",
            "background_color": "#2b913a",
            "id": "s54",
            "label": "aBax",
            "name": "s54",
            "shape": "ellipse"
           },
           "position": {
            "x": 1335,
            "y": 664
           }
          },
          {
           "data": {
            "NodeType": "species",
            "background_color": "#2b913a",
            "id": "s55",
            "label": "3aBak",
            "name": "s55",
            "shape": "ellipse"
           },
           "position": {
            "x": 1335,
            "y": 322
           }
          },
          {
           "data": {
            "NodeType": "species",
            "background_color": "#2b913a",
            "id": "s56",
            "label": "aBax-mBax",
            "name": "s56",
            "shape": "ellipse"
           },
           "position": {
            "x": 1463.9,
            "y": 716
           }
          },
          {
           "data": {
            "NodeType": "species",
            "background_color": "#2b913a",
            "id": "s57",
            "label": "aBax-mBcl2",
            "name": "s57",
            "shape": "ellipse"
           },
           "position": {
            "x": 1463.9,
            "y": 789
           }
          },
          {
           "data": {
            "NodeType": "species",
            "background_color": "#2b913a",
            "id": "s58",
            "label": "aBax-mBclxL",
            "name": "s58",
            "shape": "ellipse"
           },
           "position": {
            "x": 1463.9,
            "y": 532
           }
          },
          {
           "data": {
            "NodeType": "species",
            "background_color": "#2b913a",
            "id": "s59",
            "label": "2aBax",
            "name": "s59",
            "shape": "ellipse"
           },
           "position": {
            "x": 1463.9,
            "y": 662
           }
          },
          {
           "data": {
            "NodeType": "species",
            "background_color": "#2b913a",
            "id": "s60",
            "label": "4aBak",
            "name": "s60",
            "shape": "ellipse"
           },
           "position": {
            "x": 1701.6,
            "y": 421
           }
          },
          {
           "data": {
            "NodeType": "species",
            "background_color": "#2b913a",
            "id": "s61",
            "label": "3aBax",
            "name": "s61",
            "shape": "ellipse"
           },
           "position": {
            "x": 1592.8,
            "y": 624
           }
          },
          {
           "data": {
            "NodeType": "species",
            "background_color": "#2b913a",
            "id": "s62",
            "label": "4aBak-mCytoC",
            "name": "s62",
            "shape": "ellipse"
           },
           "position": {
            "x": 1843.3,
            "y": 502
           }
          },
          {
           "data": {
            "NodeType": "species",
            "background_color": "#2b913a",
            "id": "s63",
            "label": "4aBak-mSmac",
            "name": "s63",
            "shape": "ellipse"
           },
           "position": {
            "x": 1843.3,
            "y": 394
           }
          },
          {
           "data": {
            "NodeType": "species",
            "background_color": "#2b913a",
            "id": "s64",
            "label": "4aBax",
            "name": "s64",
            "shape": "ellipse"
           },
           "position": {
            "x": 1701.6,
            "y": 527
           }
          },
          {
           "data": {
            "NodeType": "species",
            "background_color": "#2b913a",
            "id": "s65",
            "label": "cCytoC",
            "name": "s65",
            "shape": "ellipse"
           },
           "position": {
            "x": 1982.1,
            "y": 556
           }
          },
          {
           "data": {
            "NodeType": "species",
            "background_color": "#2b913a",
            "id": "s66",
            "label": "cSmac",
            "name": "s66",
            "shape": "ellipse"
           },
           "position": {
            "x": 1982.1,
            "y": 394
           }
          },
          {
           "data": {
            "NodeType": "species",
            "background_color": "#2b913a",
            "id": "s67",
            "label": "aSmac",
            "name": "s67",
            "shape": "ellipse"
           },
           "position": {
            "x": 2225.7,
            "y": 271
           }
          },
          {
           "data": {
            "NodeType": "species",
            "background_color": "#2b913a",
            "id": "s68",
            "label": "aCytoC",
            "name": "s68",
            "shape": "ellipse"
           },
           "position": {
            "x": 2092.3,
            "y": 944
           }
          },
          {
           "data": {
            "NodeType": "species",
            "background_color": "#2b913a",
            "id": "s69",
            "label": "4aBax-mCytoC",
            "name": "s69",
            "shape": "ellipse"
           },
           "position": {
            "x": 1843.3,
            "y": 556
           }
          },
          {
           "data": {
            "NodeType": "species",
            "background_color": "#2b913a",
            "id": "s70",
            "label": "4aBax-mSmac",
            "name": "s70",
            "shape": "ellipse"
           },
           "position": {
            "x": 1843.3,
            "y": 448
           }
          },
          {
           "data": {
            "NodeType": "species",
            "background_color": "#2b913a",
            "id": "s71",
            "label": "iApaf-aCytoC",
            "name": "s71",
            "shape": "ellipse"
           },
           "position": {
            "x": 2225.7,
            "y": 944
           }
          },
          {
           "data": {
            "NodeType": "species",
            "background_color": "#2b913a",
            "id": "s72",
            "label": "aSmac-XIAP",
            "name": "s72",
            "shape": "ellipse"
           },
           "position": {
            "x": 3076.1,
            "y": 272
           }
          },
          {
           "data": {
            "NodeType": "species",
            "background_color": "#2b913a",
            "id": "s73",
            "label": "aApaf",
            "name": "s73",
            "shape": "ellipse"
           },
           "position": {
            "x": 2353.6,
            "y": 944
           }
          },
          {
           "data": {
            "NodeType": "species",
            "background_color": "#2b913a",
            "id": "s74",
            "label": "Apop",
            "name": "s74",
            "shape": "ellipse"
           },
           "position": {
            "x": 2451.1,
            "y": 944
           }
          },
          {
           "data": {
            "NodeType": "species",
            "background_color": "#2b913a",
            "id": "s75",
            "label": "Apop-proC3",
            "name": "s75",
            "shape": "ellipse"
           },
           "position": {
            "x": 2571.6,
            "y": 898
           }
          },
          {
           "data": {
            "NodeType": "species",
            "background_color": "#2b913a",
            "id": "s76",
            "label": "Apop-XIAP",
            "name": "s76",
            "shape": "ellipse"
           },
           "position": {
            "x": 3076.1,
            "y": 633
           }
          }
         ]
        }
       },
       "format": "cyjs",
       "layout": "IPY_MODEL_d7bef4306ae5443c83420d19a684ebf7",
       "layout_name": "preset",
       "type_of_viz": "species_view",
       "visual_style": null
      }
     },
     "d7bef4306ae5443c83420d19a684ebf7": {
      "model_module": "@jupyter-widgets/base",
      "model_module_version": "1.1.0",
      "model_name": "LayoutModel",
      "state": {}
     }
    },
    "version_major": 2,
    "version_minor": 0
   }
  }
 },
 "nbformat": 4,
 "nbformat_minor": 2
}

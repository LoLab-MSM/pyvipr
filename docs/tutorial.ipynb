{
 "cells": [
  {
   "cell_type": "markdown",
   "metadata": {},
   "source": [
    "# pysbjupyter Tutorial\n",
    "\n",
    "pysbjupyter is an ipython widget for interactively visualizing systems biology models. It uses [PySB](http://pysb.org/) for generating network data and simulating trajectories and [Cytoscape.js](http://js.cytoscape.org/) to render them. It supports BioNetGen and SBML models through the pysb importer module.\n",
    "\n",
    "# Start Jupyter Notebook\n",
    "To start the jupyter notebook just run the following command in the terminal\n",
    "```Shell\n",
    "jupyter notebook\n",
    "```"
   ]
  },
  {
   "cell_type": "markdown",
   "metadata": {},
   "source": [
    "pysbjupyter has different functions to visualize PySB models and simulations:\n",
    "\n",
    "| Function                                 | Description                                           |\n",
    "|------------------------------------------|-------------------------------------------------------|\n",
    "| `species_view(model)`                    | Shows network of interacting species                  |\n",
    "| `species_compartments_view(model)`       | Shows network of species in their respective compartments |\n",
    "| `communities_view(model)`                | Shows network of species grouped in [communities](https://en.wikipedia.org/wiki/Community_structure) |\n",
    "| `sp_rxns_bidirectional_view(model)`      | Shows bipartite network with species and bidirectional rections nodes |\n",
    "| `sp_rxns_view(model)`                    | Shows bipartite network with species and unidirectional rections nodes |\n",
    "| `sp_rules_view(model)`                   | Shows bipartite network with species and rules nodes  |\n",
    "| `sp_rules_functions_view(model)`         | Shows bipartite network with species and rules nodes.<br> Rules nodes are grouped in the functions they come from |\n",
    "| `sp_rules_modules_view(model)`           | Shows bipartite network with species and rules nodes.<br> Rules nodes are grouped in the file modules they come from |\n",
    "| `projected_species_reactions_view(model)`| Shows network of species projected from the <br> bipartite(species, reactions) graph |\n",
    "| `projected_reactions_view(model)`        | Shows network of reactions projected from the <br> bipartite(species, reactions) graph |\n",
    "| `projected_rules_view(model)`            | Shows network of rules projected from the <br> bipartite(species, rules) graph |\n",
    "| `projected_species_rules_view(model)`    | Shows network of species projected from the <br> bipartite(species, rules) graph |\n",
    "| `species_dynamics_view(SimulationResult)`| Shows a species network. Edges size and color are updated <br> according to reaction rate values. Nodes filling <br> are updated according to concentration|\n",
    "\n",
    "All visualizations have a search button that can be used to find nodes in large networks. This search function displays information about the species label and the type of node (species, reaction, rule, ...). Additionally, there is a fit button to center the nodes into the display area"
   ]
  },
  {
   "cell_type": "markdown",
   "metadata": {},
   "source": [
    "# Import pysbjupyter module and a PySB model"
   ]
  },
  {
   "cell_type": "code",
   "execution_count": 1,
   "metadata": {},
   "outputs": [],
   "source": [
    "from pysbjupyter.pysb_models.lopez_embedded import model\n",
    "import pysbjupyter as viz"
   ]
  },
  {
   "cell_type": "markdown",
   "metadata": {},
   "source": [
    "# Species view"
   ]
  },
  {
   "cell_type": "code",
   "execution_count": 2,
   "metadata": {
    "scrolled": false
   },
   "outputs": [
    {
     "data": {
      "application/vnd.jupyter.widget-view+json": {
       "model_id": "68c78274f4564a0bb7eed07e3f184923",
       "version_major": 2,
       "version_minor": 0
      },
      "text/plain": [
       "pysbViz(data=<Model 'pysbjupyter.pysb_models.lopez_embedded' (monomers: 23, rules: 62, parameters: 126, expres…"
      ]
     },
     "metadata": {},
     "output_type": "display_data"
    }
   ],
   "source": [
    "viz.species_view(model)"
   ]
  },
  {
   "cell_type": "markdown",
   "metadata": {},
   "source": [
    "# Using a different network layout\n",
    "We can change the network layout by passing one of the [cytoscapejs supported layout algorithns](http://js.cytoscape.org/#layouts)"
   ]
  },
  {
   "cell_type": "code",
   "execution_count": 3,
   "metadata": {},
   "outputs": [
    {
     "data": {
      "application/vnd.jupyter.widget-view+json": {
       "model_id": "7496b015c4224cf2ab728c5c79e3c117",
       "version_major": 2,
       "version_minor": 0
      },
      "text/plain": [
       "pysbViz(data=<Model 'pysbjupyter.pysb_models.lopez_embedded' (monomers: 23, rules: 62, parameters: 126, expres…"
      ]
     },
     "metadata": {},
     "output_type": "display_data"
    }
   ],
   "source": [
    "viz.species_view(model, layout_name='cose')"
   ]
  },
  {
   "cell_type": "markdown",
   "metadata": {},
   "source": [
    "# Communities view"
   ]
  },
  {
   "cell_type": "code",
   "execution_count": 4,
   "metadata": {},
   "outputs": [
    {
     "data": {
      "application/vnd.jupyter.widget-view+json": {
       "model_id": "0c8df7b2befc4ccfbe53336a3024422c",
       "version_major": 2,
       "version_minor": 0
      },
      "text/plain": [
       "pysbViz(data=<Model 'pysbjupyter.pysb_models.lopez_embedded' (monomers: 23, rules: 62, parameters: 126, expres…"
      ]
     },
     "metadata": {},
     "output_type": "display_data"
    }
   ],
   "source": [
    "viz.communities_view(model, layout_name='cose-bilkent')"
   ]
  },
  {
   "cell_type": "markdown",
   "metadata": {},
   "source": [
    "# Bipartite graph with species and bidirectional reactions nodes"
   ]
  },
  {
   "cell_type": "code",
   "execution_count": 7,
   "metadata": {},
   "outputs": [
    {
     "data": {
      "application/vnd.jupyter.widget-view+json": {
       "model_id": "f4b808dcd1104e61b9091dea2d6ba817",
       "version_major": 2,
       "version_minor": 0
      },
      "text/plain": [
       "pysbViz(data=<Model 'pysbjupyter.pysb_models.lopez_embedded' (monomers: 23, rules: 62, parameters: 126, expres…"
      ]
     },
     "metadata": {},
     "output_type": "display_data"
    }
   ],
   "source": [
    "viz.sp_rxns_bidirectional_view(model)"
   ]
  },
  {
   "cell_type": "markdown",
   "metadata": {},
   "source": [
    "# Bipartite graph with species and rules nodes"
   ]
  },
  {
   "cell_type": "code",
   "execution_count": 6,
   "metadata": {},
   "outputs": [
    {
     "data": {
      "application/vnd.jupyter.widget-view+json": {
       "model_id": "4195e2a56f7341219bf5618c9322064b",
       "version_major": 2,
       "version_minor": 0
      },
      "text/plain": [
       "pysbViz(data=<Model 'pysbjupyter.pysb_models.lopez_embedded' (monomers: 23, rules: 62, parameters: 126, expres…"
      ]
     },
     "metadata": {},
     "output_type": "display_data"
    }
   ],
   "source": [
    "viz.sp_rules_view(model, layout_name='cose-bilkent')"
   ]
  },
  {
   "cell_type": "markdown",
   "metadata": {},
   "source": [
    "# Bipartite graph with species and rules nodes. Rules are grouped by the functions they come from"
   ]
  },
  {
   "cell_type": "code",
   "execution_count": 8,
   "metadata": {},
   "outputs": [
    {
     "data": {
      "application/vnd.jupyter.widget-view+json": {
       "model_id": "7682c1b68d1f49cabe44a0bc0714d5d2",
       "version_major": 2,
       "version_minor": 0
      },
      "text/plain": [
       "pysbViz(data=<Model 'pysbjupyter.pysb_models.lopez_embedded' (monomers: 23, rules: 62, parameters: 126, expres…"
      ]
     },
     "metadata": {},
     "output_type": "display_data"
    }
   ],
   "source": [
    "viz.sp_rules_functions_view(model)"
   ]
  },
  {
   "cell_type": "markdown",
   "metadata": {},
   "source": [
    "# Bipartite graph with species and rules nodes. Rules are grouped by the modules they come from"
   ]
  },
  {
   "cell_type": "code",
   "execution_count": 9,
   "metadata": {
    "scrolled": false
   },
   "outputs": [
    {
     "data": {
      "application/vnd.jupyter.widget-view+json": {
       "model_id": "e6addd1fe6a14f259738e304da6db82b",
       "version_major": 2,
       "version_minor": 0
      },
      "text/plain": [
       "pysbViz(data=<Model 'pysbjupyter.pysb_models.lopez_embedded' (monomers: 23, rules: 62, parameters: 126, expres…"
      ]
     },
     "metadata": {},
     "output_type": "display_data"
    }
   ],
   "source": [
    "viz.sp_rules_modules_view(model)"
   ]
  },
  {
   "cell_type": "markdown",
   "metadata": {},
   "source": [
    "# Species graph grouped by the compartment in which they are located\n",
    "In order to use this type of visualization your model must have compartments defined."
   ]
  },
  {
   "cell_type": "code",
   "execution_count": 10,
   "metadata": {
    "scrolled": false
   },
   "outputs": [
    {
     "data": {
      "application/vnd.jupyter.widget-view+json": {
       "model_id": "86eda83ea2374199b311eeb3b84bd7ae",
       "version_major": 2,
       "version_minor": 0
      },
      "text/plain": [
       "pysbViz(data=<Model 'pysbjupyter.pysb_models.organelle_transport' (monomers: 8, rules: 6, parameters: 19, expr…"
      ]
     },
     "metadata": {},
     "output_type": "display_data"
    }
   ],
   "source": [
    "from pysbjupyter.pysb_models.organelle_transport import model as model_compartments\n",
    "viz.species_compartments_view(model_compartments)"
   ]
  },
  {
   "cell_type": "markdown",
   "metadata": {},
   "source": [
    "# Using a BioNetGen file (.bngl) to visualize the model"
   ]
  },
  {
   "cell_type": "code",
   "execution_count": 11,
   "metadata": {},
   "outputs": [],
   "source": [
    "import os\n",
    "model_path = os.path.join(os.path.dirname(viz.__file__), 'pysb_models/organelle_transport.bngl')"
   ]
  },
  {
   "cell_type": "code",
   "execution_count": 12,
   "metadata": {},
   "outputs": [
    {
     "data": {
      "application/vnd.jupyter.widget-view+json": {
       "model_id": "cfb9826ed806447ea880569e44712f57",
       "version_major": 2,
       "version_minor": 0
      },
      "text/plain": [
       "pysbViz(data='/Users/dionisio/anaconda/envs/viz_widget/lib/python3.7/site-packages/pysbjupyter/pysb_models/org…"
      ]
     },
     "metadata": {},
     "output_type": "display_data"
    }
   ],
   "source": [
    "viz.species_view(model_path)"
   ]
  },
  {
   "cell_type": "markdown",
   "metadata": {},
   "source": [
    "# Using an [SBML](http://sbml.org/Main_Page) model from the [Biomodels database](https://www.ebi.ac.uk/biomodels/)"
   ]
  },
  {
   "cell_type": "code",
   "execution_count": 13,
   "metadata": {
    "scrolled": true
   },
   "outputs": [
    {
     "data": {
      "application/vnd.jupyter.widget-view+json": {
       "model_id": "f32f5fcd6d764725bd46241e6c927ed5",
       "version_major": 2,
       "version_minor": 0
      },
      "text/plain": [
       "pysbViz(data='BIOMD0000000001', layout_name='preset')"
      ]
     },
     "metadata": {},
     "output_type": "display_data"
    }
   ],
   "source": [
    "viz.species_view('BIOMD0000000001')"
   ]
  },
  {
   "cell_type": "markdown",
   "metadata": {},
   "source": [
    "# Dynamic visualization of a model\n",
    "We first simulate the model with pysb and pass the SimulationResult to the widget"
   ]
  },
  {
   "cell_type": "code",
   "execution_count": null,
   "metadata": {
    "scrolled": false
   },
   "outputs": [],
   "source": [
    "import numpy as np\n",
    "from pysb.simulator import ScipyOdeSimulator\n",
    "from pysbjupyter.pysb_models.mm_two_paths_model import model as model_dynamic\n",
    "\n",
    "tspan = np.linspace(0, 1000, 100)\n",
    "sim = ScipyOdeSimulator(model_dynamic, tspan, compiler='python').run()"
   ]
  },
  {
   "cell_type": "code",
   "execution_count": null,
   "metadata": {},
   "outputs": [],
   "source": [
    "viz.species_dynamics_view(sim)"
   ]
  },
  {
   "cell_type": "code",
   "execution_count": null,
   "metadata": {},
   "outputs": [],
   "source": []
  }
 ],
 "metadata": {
  "kernelspec": {
   "display_name": "Python 3",
   "language": "python",
   "name": "python3"
  },
  "language_info": {
   "codemirror_mode": {
    "name": "ipython",
    "version": 3
   },
   "file_extension": ".py",
   "mimetype": "text/x-python",
   "name": "python",
   "nbconvert_exporter": "python",
   "pygments_lexer": "ipython3",
   "version": "3.7.1"
  },
  "widgets": {
   "application/vnd.jupyter.widget-state+json": {
    "state": {
     "0c8df7b2befc4ccfbe53336a3024422c": {
      "model_module": "viz-pysb-widget",
      "model_module_version": "^0.1.0",
      "model_name": "CytoscapeModel",
      "state": {
       "_model_module_version": "^0.1.0",
       "_view_module_version": "^0.1.0",
       "background": "#FFFFFF",
       "data": {
        "data": {
         "graph": {
          "rankdir": "LR"
         },
         "name": "pysbjupyter.pysb_models.lopez_embedded",
         "paths": []
        },
        "elements": {
         "edges": [
          {
           "data": {
            "arrowhead": "normal",
            "id": "75d72602-9e3c-45c4-8b6b-064e567c9beb",
            "source": "s0",
            "source_arrow_fill": "hollow",
            "source_arrow_shape": "diamond",
            "target": "s21",
            "target_arrow_shape": "triangle"
           }
          },
          {
           "data": {
            "arrowhead": "normal",
            "id": "de67116c-1255-4291-86cb-9979e609ec8f",
            "source": "s1",
            "source_arrow_fill": "hollow",
            "source_arrow_shape": "diamond",
            "target": "s21",
            "target_arrow_shape": "triangle"
           }
          },
          {
           "data": {
            "arrowhead": "normal",
            "id": "323448c7-12e6-455a-aad1-082732a58c51",
            "source": "s2",
            "source_arrow_fill": "hollow",
            "source_arrow_shape": "diamond",
            "target": "s27",
            "target_arrow_shape": "triangle"
           }
          },
          {
           "data": {
            "arrowhead": "normal",
            "id": "1996444e-b86d-471f-9d4d-27aa9fc99bf5",
            "source": "s3",
            "source_arrow_fill": "hollow",
            "source_arrow_shape": "diamond",
            "target": "s26",
            "target_arrow_shape": "triangle"
           }
          },
          {
           "data": {
            "arrowhead": "normal",
            "id": "74336228-8053-48fd-bdef-bbded70ab466",
            "source": "s3",
            "source_arrow_fill": "hollow",
            "source_arrow_shape": "diamond",
            "target": "s46",
            "target_arrow_shape": "triangle"
           }
          },
          {
           "data": {
            "arrowhead": "normal",
            "id": "4840fc51-5e01-4bc4-857d-c2ce1307248a",
            "source": "s4",
            "source_arrow_fill": "hollow",
            "source_arrow_shape": "diamond",
            "target": "s30",
            "target_arrow_shape": "triangle"
           }
          },
          {
           "data": {
            "arrowhead": "normal",
            "id": "f0e19c2b-4665-4af8-84fb-082c19a0ddcf",
            "source": "s5",
            "source_arrow_fill": "hollow",
            "source_arrow_shape": "diamond",
            "target": "s71",
            "target_arrow_shape": "triangle"
           }
          },
          {
           "data": {
            "arrowhead": "normal",
            "id": "44ffb621-6677-4e47-8e6a-9c51a7cee30a",
            "source": "s6",
            "source_arrow_fill": "hollow",
            "source_arrow_shape": "diamond",
            "target": "s31",
            "target_arrow_shape": "triangle"
           }
          },
          {
           "data": {
            "arrowhead": "normal",
            "id": "6eac3159-5be3-4364-9348-50b6b8d843e9",
            "source": "s6",
            "source_arrow_fill": "hollow",
            "source_arrow_shape": "diamond",
            "target": "s75",
            "target_arrow_shape": "triangle"
           }
          },
          {
           "data": {
            "arrowhead": "normal",
            "id": "d24ce4ff-8bab-48af-b39c-3515339032a9",
            "source": "s7",
            "source_arrow_fill": "hollow",
            "source_arrow_shape": "diamond",
            "target": "s36",
            "target_arrow_shape": "triangle"
           }
          },
          {
           "data": {
            "arrowhead": "normal",
            "id": "6ab1343f-9312-461d-9e76-57df9531f5c5",
            "source": "s8",
            "source_arrow_fill": "hollow",
            "source_arrow_shape": "diamond",
            "target": "s74",
            "target_arrow_shape": "triangle"
           }
          },
          {
           "data": {
            "arrowhead": "normal",
            "id": "672c98ec-3cff-4a06-a280-2f90c3ea61e6",
            "source": "s9",
            "source_arrow_fill": "hollow",
            "source_arrow_shape": "diamond",
            "target": "s35",
            "target_arrow_shape": "triangle"
           }
          },
          {
           "data": {
            "arrowhead": "normal",
            "id": "705eca06-861e-4a68-865a-38909027e7fb",
            "source": "s10",
            "source_arrow_fill": "hollow",
            "source_arrow_shape": "diamond",
            "target": "s34",
            "target_arrow_shape": "triangle"
           }
          },
          {
           "data": {
            "arrowhead": "normal",
            "id": "4b48a87b-5b74-45e2-bf0e-6a76d1a1bb21",
            "source": "s10",
            "source_arrow_fill": "hollow",
            "source_arrow_shape": "diamond",
            "target": "s72",
            "target_arrow_shape": "triangle"
           }
          },
          {
           "data": {
            "arrowhead": "normal",
            "id": "afac413b-0a87-419c-9a08-473c82dee61d",
            "source": "s10",
            "source_arrow_fill": "hollow",
            "source_arrow_shape": "diamond",
            "target": "s76",
            "target_arrow_shape": "triangle"
           }
          },
          {
           "data": {
            "arrowhead": "normal",
            "id": "1fda02b6-137a-4233-8365-c31398bc0b98",
            "source": "s11",
            "source_arrow_fill": "hollow",
            "source_arrow_shape": "diamond",
            "target": "s29",
            "target_arrow_shape": "triangle"
           }
          },
          {
           "data": {
            "arrowhead": "normal",
            "id": "7e5f4f75-c3a7-4c49-9e03-20582efbcec9",
            "source": "s12",
            "source_arrow_fill": "hollow",
            "source_arrow_shape": "diamond",
            "target": "s41",
            "target_arrow_shape": "triangle"
           }
          },
          {
           "data": {
            "arrowhead": "normal",
            "id": "4f53f13c-ad26-497c-9a82-354b65a00194",
            "source": "s13",
            "source_arrow_fill": "hollow",
            "source_arrow_shape": "diamond",
            "target": "s42",
            "target_arrow_shape": "triangle"
           }
          },
          {
           "data": {
            "arrowhead": "normal",
            "id": "6b7bcc02-471c-4bdf-b163-6abcd87f9cb8",
            "source": "s13",
            "source_arrow_fill": "hollow",
            "source_arrow_shape": "diamond",
            "target": "s50",
            "target_arrow_shape": "triangle"
           }
          },
          {
           "data": {
            "arrowhead": "normal",
            "id": "7c14de84-b704-45fa-bed9-4151085e9c85",
            "source": "s14",
            "source_arrow_fill": "hollow",
            "source_arrow_shape": "diamond",
            "target": "s22",
            "target_arrow_shape": "triangle"
           }
          },
          {
           "data": {
            "arrowhead": "normal",
            "id": "57d2ead1-e0ec-4e6d-aaae-f3e6b4cd98cd",
            "source": "s14",
            "source_arrow_fill": "hollow",
            "source_arrow_shape": "diamond",
            "target": "s43",
            "target_arrow_shape": "triangle"
           }
          },
          {
           "data": {
            "arrowhead": "normal",
            "id": "7485e13f-a763-4091-9407-d7aa173d235a",
            "source": "s14",
            "source_arrow_fill": "hollow",
            "source_arrow_shape": "diamond",
            "target": "s57",
            "target_arrow_shape": "triangle"
           }
          },
          {
           "data": {
            "arrowhead": "normal",
            "id": "ca258988-f2f7-4ea8-9a6e-81c3cb0474f7",
            "source": "s15",
            "source_arrow_fill": "hollow",
            "source_arrow_shape": "diamond",
            "target": "s23",
            "target_arrow_shape": "triangle"
           }
          },
          {
           "data": {
            "arrowhead": "normal",
            "id": "7b580e14-108e-4e5e-abbb-d9d085fa8e1d",
            "source": "s15",
            "source_arrow_fill": "hollow",
            "source_arrow_shape": "diamond",
            "target": "s44",
            "target_arrow_shape": "triangle"
           }
          },
          {
           "data": {
            "arrowhead": "normal",
            "id": "ed364fae-064e-4ec9-832b-c8ce21ce09e9",
            "source": "s15",
            "source_arrow_fill": "hollow",
            "source_arrow_shape": "diamond",
            "target": "s51",
            "target_arrow_shape": "triangle"
           }
          },
          {
           "data": {
            "arrowhead": "normal",
            "id": "f6e830bd-12f3-4ef8-b5ef-69439738e196",
            "source": "s15",
            "source_arrow_fill": "hollow",
            "source_arrow_shape": "diamond",
            "target": "s58",
            "target_arrow_shape": "triangle"
           }
          },
          {
           "data": {
            "arrowhead": "normal",
            "id": "17d6376f-4a37-4808-b6ec-41ff67f5b21b",
            "source": "s16",
            "source_arrow_fill": "hollow",
            "source_arrow_shape": "diamond",
            "target": "s24",
            "target_arrow_shape": "triangle"
           }
          },
          {
           "data": {
            "arrowhead": "normal",
            "id": "938dbeba-e7e4-406c-8a73-46c5fcf9f868",
            "source": "s16",
            "source_arrow_fill": "hollow",
            "source_arrow_shape": "diamond",
            "target": "s45",
            "target_arrow_shape": "triangle"
           }
          },
          {
           "data": {
            "arrowhead": "normal",
            "id": "9e4649c8-65df-4821-b2c8-9d2c74c0e9fa",
            "source": "s16",
            "source_arrow_fill": "hollow",
            "source_arrow_shape": "diamond",
            "target": "s52",
            "target_arrow_shape": "triangle"
           }
          },
          {
           "data": {
            "arrowhead": "normal",
            "id": "5ac1194d-582c-4f4b-9433-219a3b09cc12",
            "source": "s17",
            "source_arrow_fill": "hollow",
            "source_arrow_shape": "diamond",
            "target": "s22",
            "target_arrow_shape": "triangle"
           }
          },
          {
           "data": {
            "arrowhead": "normal",
            "id": "7fb55612-ea68-41b0-abe6-ead4f0fc87aa",
            "source": "s17",
            "source_arrow_fill": "hollow",
            "source_arrow_shape": "diamond",
            "target": "s23",
            "target_arrow_shape": "triangle"
           }
          },
          {
           "data": {
            "arrowhead": "normal",
            "id": "08cf1e75-b4a0-4aad-b6ba-d15ae11b4e89",
            "source": "s18",
            "source_arrow_fill": "hollow",
            "source_arrow_shape": "diamond",
            "target": "s24",
            "target_arrow_shape": "triangle"
           }
          },
          {
           "data": {
            "arrowhead": "normal",
            "id": "d1606805-bab8-42a5-b958-4ee1bd03c78c",
            "source": "s19",
            "source_arrow_fill": "hollow",
            "source_arrow_shape": "diamond",
            "target": "s62",
            "target_arrow_shape": "triangle"
           }
          },
          {
           "data": {
            "arrowhead": "normal",
            "id": "11622095-8e11-4e26-941e-cf625896e18b",
            "source": "s19",
            "source_arrow_fill": "hollow",
            "source_arrow_shape": "diamond",
            "target": "s69",
            "target_arrow_shape": "triangle"
           }
          },
          {
           "data": {
            "arrowhead": "normal",
            "id": "bb721706-1f8a-4c71-9a13-5c247ac253b2",
            "source": "s20",
            "source_arrow_fill": "hollow",
            "source_arrow_shape": "diamond",
            "target": "s63",
            "target_arrow_shape": "triangle"
           }
          },
          {
           "data": {
            "arrowhead": "normal",
            "id": "0b62967e-5c98-4d8e-a81f-41dec8d66330",
            "source": "s20",
            "source_arrow_fill": "hollow",
            "source_arrow_shape": "diamond",
            "target": "s70",
            "target_arrow_shape": "triangle"
           }
          },
          {
           "data": {
            "arrowhead": "normal",
            "id": "1b7bfc63-5b33-4f10-9094-36414b7c35bc",
            "source": "s21",
            "source_arrow_fill": "filled",
            "source_arrow_shape": "none",
            "target": "s25",
            "target_arrow_shape": "triangle"
           }
          },
          {
           "data": {
            "arrowhead": "normal",
            "id": "60d888f3-91b2-48f4-8943-75c9abd1ec15",
            "source": "s25",
            "source_arrow_fill": "hollow",
            "source_arrow_shape": "diamond",
            "target": "s26",
            "target_arrow_shape": "triangle"
           }
          },
          {
           "data": {
            "arrowhead": "normal",
            "id": "6d258c8f-1209-4677-9d50-83b66875679f",
            "source": "s25",
            "source_arrow_fill": "hollow",
            "source_arrow_shape": "diamond",
            "target": "s27",
            "target_arrow_shape": "triangle"
           }
          },
          {
           "data": {
            "arrowhead": "normal",
            "id": "6ade9812-74f8-4fba-9522-807427a6fe32",
            "source": "s26",
            "source_arrow_fill": "filled",
            "source_arrow_shape": "none",
            "target": "s25",
            "target_arrow_shape": "triangle"
           }
          },
          {
           "data": {
            "arrowhead": "normal",
            "id": "f1aaf246-0ec0-4fa8-b2a9-55817fc5673b",
            "source": "s26",
            "source_arrow_fill": "filled",
            "source_arrow_shape": "none",
            "target": "s28",
            "target_arrow_shape": "triangle"
           }
          },
          {
           "data": {
            "arrowhead": "normal",
            "id": "472faf9a-dceb-4f5b-97d5-128b1d6b49e2",
            "source": "s28",
            "source_arrow_fill": "hollow",
            "source_arrow_shape": "diamond",
            "target": "s29",
            "target_arrow_shape": "triangle"
           }
          },
          {
           "data": {
            "arrowhead": "normal",
            "id": "53f5a9ff-cd4e-4e01-9a7f-9feed679ecde",
            "source": "s28",
            "source_arrow_fill": "hollow",
            "source_arrow_shape": "diamond",
            "target": "s30",
            "target_arrow_shape": "triangle"
           }
          },
          {
           "data": {
            "arrowhead": "normal",
            "id": "9a5a7223-e104-413f-b522-f1ae82c8779e",
            "source": "s28",
            "source_arrow_fill": "hollow",
            "source_arrow_shape": "diamond",
            "target": "s31",
            "target_arrow_shape": "triangle"
           }
          },
          {
           "data": {
            "arrowhead": "normal",
            "id": "ca0d9266-bd6c-4ae2-94b3-a4670069d9d4",
            "source": "s29",
            "source_arrow_fill": "filled",
            "source_arrow_shape": "none",
            "target": "s32",
            "target_arrow_shape": "triangle"
           }
          },
          {
           "data": {
            "arrowhead": "normal",
            "id": "e573c9cf-fef1-4003-9c0e-ff2242e628c3",
            "source": "s29",
            "source_arrow_fill": "filled",
            "source_arrow_shape": "none",
            "target": "s28",
            "target_arrow_shape": "triangle"
           }
          },
          {
           "data": {
            "arrowhead": "normal",
            "id": "d6b5403c-ae86-47d5-a2bf-4337f9b53c24",
            "source": "s31",
            "source_arrow_fill": "filled",
            "source_arrow_shape": "none",
            "target": "s33",
            "target_arrow_shape": "triangle"
           }
          },
          {
           "data": {
            "arrowhead": "normal",
            "id": "8dd1cd69-b488-47b3-8ebe-feb731416a45",
            "source": "s31",
            "source_arrow_fill": "filled",
            "source_arrow_shape": "none",
            "target": "s28",
            "target_arrow_shape": "triangle"
           }
          },
          {
           "data": {
            "arrowhead": "normal",
            "id": "1e86c1ec-3572-4533-9dcb-a425c9be6975",
            "source": "s32",
            "source_arrow_fill": "hollow",
            "source_arrow_shape": "diamond",
            "target": "s37",
            "target_arrow_shape": "triangle"
           }
          },
          {
           "data": {
            "arrowhead": "normal",
            "id": "7ed051c8-3775-471d-a580-2dddf980343f",
            "source": "s33",
            "source_arrow_fill": "hollow",
            "source_arrow_shape": "diamond",
            "target": "s34",
            "target_arrow_shape": "triangle"
           }
          },
          {
           "data": {
            "arrowhead": "normal",
            "id": "5eaa9397-75a0-4ec2-bb7f-3b39ec938ccd",
            "source": "s33",
            "source_arrow_fill": "hollow",
            "source_arrow_shape": "diamond",
            "target": "s35",
            "target_arrow_shape": "triangle"
           }
          },
          {
           "data": {
            "arrowhead": "normal",
            "id": "da35d256-24ef-41fa-afd5-09aae7ef6f0d",
            "source": "s33",
            "source_arrow_fill": "hollow",
            "source_arrow_shape": "diamond",
            "target": "s36",
            "target_arrow_shape": "triangle"
           }
          },
          {
           "data": {
            "arrowhead": "normal",
            "id": "fcf84dc5-78b3-4b9c-bf62-53b5cbd59a28",
            "source": "s34",
            "source_arrow_fill": "filled",
            "source_arrow_shape": "none",
            "target": "s10",
            "target_arrow_shape": "triangle"
           }
          },
          {
           "data": {
            "arrowhead": "normal",
            "id": "bf435f61-5230-4b6f-b626-3aa29e9797fd",
            "source": "s34",
            "source_arrow_fill": "filled",
            "source_arrow_shape": "none",
            "target": "s38",
            "target_arrow_shape": "triangle"
           }
          },
          {
           "data": {
            "arrowhead": "normal",
            "id": "041ba08b-ffde-4258-ad01-8783a7c2130d",
            "source": "s35",
            "source_arrow_fill": "filled",
            "source_arrow_shape": "none",
            "target": "s33",
            "target_arrow_shape": "triangle"
           }
          },
          {
           "data": {
            "arrowhead": "normal",
            "id": "e7414ca1-e66c-4ba4-bfca-e1b05bc285d5",
            "source": "s35",
            "source_arrow_fill": "filled",
            "source_arrow_shape": "none",
            "target": "s39",
            "target_arrow_shape": "triangle"
           }
          },
          {
           "data": {
            "arrowhead": "normal",
            "id": "14566124-fdb9-40a5-956f-4b5854a5bd16",
            "source": "s36",
            "source_arrow_fill": "filled",
            "source_arrow_shape": "none",
            "target": "s40",
            "target_arrow_shape": "triangle"
           }
          },
          {
           "data": {
            "arrowhead": "normal",
            "id": "ee601775-18ef-4454-9ea1-5595b53fbd9f",
            "source": "s36",
            "source_arrow_fill": "filled",
            "source_arrow_shape": "none",
            "target": "s33",
            "target_arrow_shape": "triangle"
           }
          },
          {
           "data": {
            "arrowhead": "normal",
            "id": "22ceca55-0e74-48f7-a375-65c1b87ce216",
            "source": "s37",
            "source_arrow_fill": "hollow",
            "source_arrow_shape": "diamond",
            "target": "s41",
            "target_arrow_shape": "triangle"
           }
          },
          {
           "data": {
            "arrowhead": "normal",
            "id": "60d1fdb0-778c-480e-a5bd-04398c942e7f",
            "source": "s37",
            "source_arrow_fill": "hollow",
            "source_arrow_shape": "diamond",
            "target": "s42",
            "target_arrow_shape": "triangle"
           }
          },
          {
           "data": {
            "arrowhead": "normal",
            "id": "6a4352d6-7d32-44e9-ad0f-bcd505975c3b",
            "source": "s37",
            "source_arrow_fill": "hollow",
            "source_arrow_shape": "diamond",
            "target": "s43",
            "target_arrow_shape": "triangle"
           }
          },
          {
           "data": {
            "arrowhead": "normal",
            "id": "31103beb-7535-4239-bfed-c9a805129188",
            "source": "s37",
            "source_arrow_fill": "hollow",
            "source_arrow_shape": "diamond",
            "target": "s44",
            "target_arrow_shape": "triangle"
           }
          },
          {
           "data": {
            "arrowhead": "normal",
            "id": "b2b51db9-feb7-464c-a833-35eef19f1eac",
            "source": "s37",
            "source_arrow_fill": "hollow",
            "source_arrow_shape": "diamond",
            "target": "s45",
            "target_arrow_shape": "triangle"
           }
          },
          {
           "data": {
            "arrowhead": "normal",
            "id": "97dfea97-886c-4fa1-91da-1acc83438fac",
            "source": "s37",
            "source_arrow_fill": "hollow",
            "source_arrow_shape": "diamond",
            "target": "s49",
            "target_arrow_shape": "triangle"
           }
          },
          {
           "data": {
            "arrowhead": "normal",
            "id": "b73371c8-c01e-45d1-946f-9839016f8d8d",
            "source": "s40",
            "source_arrow_fill": "hollow",
            "source_arrow_shape": "diamond",
            "target": "s46",
            "target_arrow_shape": "triangle"
           }
          },
          {
           "data": {
            "arrowhead": "normal",
            "id": "919a1ad0-ddc3-4aa3-9ee1-167fa0e2d934",
            "source": "s41",
            "source_arrow_fill": "filled",
            "source_arrow_shape": "none",
            "target": "s37",
            "target_arrow_shape": "triangle"
           }
          },
          {
           "data": {
            "arrowhead": "normal",
            "id": "1676c4f9-fcae-4d74-9882-c18d3d2239eb",
            "source": "s41",
            "source_arrow_fill": "filled",
            "source_arrow_shape": "none",
            "target": "s47",
            "target_arrow_shape": "triangle"
           }
          },
          {
           "data": {
            "arrowhead": "normal",
            "id": "294bf30f-f1d1-43ec-be07-29ac7560c557",
            "source": "s42",
            "source_arrow_fill": "filled",
            "source_arrow_shape": "none",
            "target": "s48",
            "target_arrow_shape": "triangle"
           }
          },
          {
           "data": {
            "arrowhead": "normal",
            "id": "3cf268e6-d5ef-4817-82a3-2efd7aab6072",
            "source": "s42",
            "source_arrow_fill": "filled",
            "source_arrow_shape": "none",
            "target": "s37",
            "target_arrow_shape": "triangle"
           }
          },
          {
           "data": {
            "arrowhead": "normal",
            "id": "7b725051-a1f6-4599-9883-f668a0d735c0",
            "source": "s46",
            "source_arrow_fill": "filled",
            "source_arrow_shape": "none",
            "target": "s40",
            "target_arrow_shape": "triangle"
           }
          },
          {
           "data": {
            "arrowhead": "normal",
            "id": "31dcbb25-08c9-471b-b49a-2e0ee1e47f40",
            "source": "s46",
            "source_arrow_fill": "filled",
            "source_arrow_shape": "none",
            "target": "s28",
            "target_arrow_shape": "triangle"
           }
          },
          {
           "data": {
            "arrowhead": "normal",
            "id": "cb896c05-9cd4-40cf-9ec9-141bf6bf27fa",
            "source": "s47",
            "source_arrow_fill": "hollow",
            "source_arrow_shape": "diamond",
            "target": "s49",
            "target_arrow_shape": "triangle"
           }
          },
          {
           "data": {
            "arrowhead": "normal",
            "id": "0c05a898-b55d-4f20-a5c1-35808d0aa5ca",
            "source": "s47",
            "source_arrow_fill": "hollow",
            "source_arrow_shape": "diamond",
            "target": "s56",
            "target_arrow_shape": "triangle"
           }
          },
          {
           "data": {
            "arrowhead": "normal",
            "id": "0b167800-0716-42b9-bf53-9ecb1b111a20",
            "source": "s48",
            "source_arrow_fill": "hollow",
            "source_arrow_shape": "diamond",
            "target": "s50",
            "target_arrow_shape": "triangle"
           }
          },
          {
           "data": {
            "arrowhead": "normal",
            "id": "f94e801a-207f-4bf1-98dc-4cf421947337",
            "source": "s48",
            "source_arrow_fill": "hollow",
            "source_arrow_shape": "diamond",
            "target": "s51",
            "target_arrow_shape": "triangle"
           }
          },
          {
           "data": {
            "arrowhead": "normal",
            "id": "f1a2b856-6718-435b-a6e5-37f580cce1cb",
            "source": "s48",
            "source_arrow_fill": "hollow",
            "source_arrow_shape": "diamond",
            "target": "s52",
            "target_arrow_shape": "triangle"
           }
          },
          {
           "data": {
            "arrowhead": "normal",
            "id": "31219d4d-46f1-4aa1-ac81-c8dfce7e8012",
            "source": "s48",
            "source_arrow_fill": "hollow",
            "source_arrow_shape": "diamond",
            "target": "s53",
            "target_arrow_shape": "triangle"
           }
          },
          {
           "data": {
            "arrowhead": "normal",
            "id": "d216aabf-6dbd-4618-af14-a1fa90b85e9f",
            "source": "s48",
            "source_arrow_fill": "hollow",
            "source_arrow_shape": "diamond",
            "target": "s55",
            "target_arrow_shape": "triangle"
           }
          },
          {
           "data": {
            "arrowhead": "normal",
            "id": "95b0ae67-4179-43db-9a53-e6e2a4c92a51",
            "source": "s48",
            "source_arrow_fill": "hollow",
            "source_arrow_shape": "diamond",
            "target": "s60",
            "target_arrow_shape": "triangle"
           }
          },
          {
           "data": {
            "arrowhead": "normal",
            "id": "27f5065c-1711-4f0c-bfc1-b740fb0ad4eb",
            "source": "s49",
            "source_arrow_fill": "filled",
            "source_arrow_shape": "none",
            "target": "s37",
            "target_arrow_shape": "triangle"
           }
          },
          {
           "data": {
            "arrowhead": "normal",
            "id": "7df89ee8-bc2f-4f44-821d-39b502c57abe",
            "source": "s49",
            "source_arrow_fill": "filled",
            "source_arrow_shape": "none",
            "target": "s54",
            "target_arrow_shape": "triangle"
           }
          },
          {
           "data": {
            "arrowhead": "normal",
            "id": "e709969d-fb80-48cb-b27a-70548ef4c9ba",
            "source": "s50",
            "source_arrow_fill": "filled",
            "source_arrow_shape": "none",
            "target": "s48",
            "target_arrow_shape": "triangle"
           }
          },
          {
           "data": {
            "arrowhead": "normal",
            "id": "2504b20c-67c5-4286-8a7f-09b0f1221ed9",
            "source": "s53",
            "source_arrow_fill": "hollow",
            "source_arrow_shape": "diamond",
            "target": "s55",
            "target_arrow_shape": "triangle"
           }
          },
          {
           "data": {
            "arrowhead": "normal",
            "id": "d1c69223-d452-49f6-86f1-dd6c7ba4037a",
            "source": "s54",
            "source_arrow_fill": "hollow",
            "source_arrow_shape": "diamond",
            "target": "s56",
            "target_arrow_shape": "triangle"
           }
          },
          {
           "data": {
            "arrowhead": "normal",
            "id": "4efc32a7-eed1-4dff-a1b4-d00da2815cf1",
            "source": "s54",
            "source_arrow_fill": "hollow",
            "source_arrow_shape": "diamond",
            "target": "s57",
            "target_arrow_shape": "triangle"
           }
          },
          {
           "data": {
            "arrowhead": "normal",
            "id": "53f18cb3-c7f0-4faa-b1df-9bca8eb121e0",
            "source": "s54",
            "source_arrow_fill": "hollow",
            "source_arrow_shape": "diamond",
            "target": "s58",
            "target_arrow_shape": "triangle"
           }
          },
          {
           "data": {
            "arrowhead": "normal",
            "id": "0c0f433d-7d71-4620-b21a-f42f5b5b7c68",
            "source": "s54",
            "source_arrow_fill": "hollow",
            "source_arrow_shape": "diamond",
            "target": "s59",
            "target_arrow_shape": "triangle"
           }
          },
          {
           "data": {
            "arrowhead": "normal",
            "id": "9d46d13a-1637-498b-a01f-7ced431708a7",
            "source": "s54",
            "source_arrow_fill": "hollow",
            "source_arrow_shape": "diamond",
            "target": "s61",
            "target_arrow_shape": "triangle"
           }
          },
          {
           "data": {
            "arrowhead": "normal",
            "id": "5592655a-4d28-4458-9fd6-ff4dfb7fa0d2",
            "source": "s54",
            "source_arrow_fill": "hollow",
            "source_arrow_shape": "diamond",
            "target": "s64",
            "target_arrow_shape": "triangle"
           }
          },
          {
           "data": {
            "arrowhead": "normal",
            "id": "3b8161ef-2746-44a8-8454-ce9911243e07",
            "source": "s55",
            "source_arrow_fill": "hollow",
            "source_arrow_shape": "diamond",
            "target": "s60",
            "target_arrow_shape": "triangle"
           }
          },
          {
           "data": {
            "arrowhead": "normal",
            "id": "5e52ca53-52d6-4097-86be-623d94213ce4",
            "source": "s56",
            "source_arrow_fill": "filled",
            "source_arrow_shape": "none",
            "target": "s54",
            "target_arrow_shape": "triangle"
           }
          },
          {
           "data": {
            "arrowhead": "normal",
            "id": "b1022581-8d79-4ebe-851d-9e139d80f283",
            "source": "s59",
            "source_arrow_fill": "hollow",
            "source_arrow_shape": "diamond",
            "target": "s61",
            "target_arrow_shape": "triangle"
           }
          },
          {
           "data": {
            "arrowhead": "normal",
            "id": "8d7be4cb-8ea6-4810-b077-03f4f8da8089",
            "source": "s60",
            "source_arrow_fill": "hollow",
            "source_arrow_shape": "diamond",
            "target": "s62",
            "target_arrow_shape": "triangle"
           }
          },
          {
           "data": {
            "arrowhead": "normal",
            "id": "0711650d-4f4f-418a-9d24-7d13dba2e578",
            "source": "s60",
            "source_arrow_fill": "hollow",
            "source_arrow_shape": "diamond",
            "target": "s63",
            "target_arrow_shape": "triangle"
           }
          },
          {
           "data": {
            "arrowhead": "normal",
            "id": "4a53792a-746e-4244-8222-23ae43da9c37",
            "source": "s61",
            "source_arrow_fill": "hollow",
            "source_arrow_shape": "diamond",
            "target": "s64",
            "target_arrow_shape": "triangle"
           }
          },
          {
           "data": {
            "arrowhead": "normal",
            "id": "dcb32862-5338-4439-97a5-022f872f063a",
            "source": "s62",
            "source_arrow_fill": "filled",
            "source_arrow_shape": "none",
            "target": "s65",
            "target_arrow_shape": "triangle"
           }
          },
          {
           "data": {
            "arrowhead": "normal",
            "id": "820faf59-6ee7-48c7-b213-8160082d569c",
            "source": "s62",
            "source_arrow_fill": "filled",
            "source_arrow_shape": "none",
            "target": "s60",
            "target_arrow_shape": "triangle"
           }
          },
          {
           "data": {
            "arrowhead": "normal",
            "id": "aa0ab850-6237-4565-b0a6-66a0a8811923",
            "source": "s63",
            "source_arrow_fill": "filled",
            "source_arrow_shape": "none",
            "target": "s66",
            "target_arrow_shape": "triangle"
           }
          },
          {
           "data": {
            "arrowhead": "normal",
            "id": "d49aa102-1392-4184-90ae-d425a9a7fb23",
            "source": "s63",
            "source_arrow_fill": "filled",
            "source_arrow_shape": "none",
            "target": "s60",
            "target_arrow_shape": "triangle"
           }
          },
          {
           "data": {
            "arrowhead": "normal",
            "id": "877f56e8-f807-419c-b942-9bbdb635b73b",
            "source": "s64",
            "source_arrow_fill": "hollow",
            "source_arrow_shape": "diamond",
            "target": "s69",
            "target_arrow_shape": "triangle"
           }
          },
          {
           "data": {
            "arrowhead": "normal",
            "id": "6cf47f9b-241f-4316-b9b4-c9a902bfffdc",
            "source": "s64",
            "source_arrow_fill": "hollow",
            "source_arrow_shape": "diamond",
            "target": "s70",
            "target_arrow_shape": "triangle"
           }
          },
          {
           "data": {
            "arrowhead": "normal",
            "id": "ccd2f62a-f004-42f4-b67a-c9b76dc616a7",
            "source": "s65",
            "source_arrow_fill": "hollow",
            "source_arrow_shape": "diamond",
            "target": "s68",
            "target_arrow_shape": "triangle"
           }
          },
          {
           "data": {
            "arrowhead": "normal",
            "id": "39c9a57f-1acf-44c0-947c-a56411b1ecfe",
            "source": "s66",
            "source_arrow_fill": "hollow",
            "source_arrow_shape": "diamond",
            "target": "s67",
            "target_arrow_shape": "triangle"
           }
          },
          {
           "data": {
            "arrowhead": "normal",
            "id": "8c985471-61c6-42e3-9952-48c9cb80fc91",
            "source": "s67",
            "source_arrow_fill": "hollow",
            "source_arrow_shape": "diamond",
            "target": "s72",
            "target_arrow_shape": "triangle"
           }
          },
          {
           "data": {
            "arrowhead": "normal",
            "id": "45667720-6b20-4798-9eea-27fe2d866f59",
            "source": "s68",
            "source_arrow_fill": "hollow",
            "source_arrow_shape": "diamond",
            "target": "s71",
            "target_arrow_shape": "triangle"
           }
          },
          {
           "data": {
            "arrowhead": "normal",
            "id": "a394b79c-2024-42b1-85e4-e09ea4bf1cc1",
            "source": "s69",
            "source_arrow_fill": "filled",
            "source_arrow_shape": "none",
            "target": "s64",
            "target_arrow_shape": "triangle"
           }
          },
          {
           "data": {
            "arrowhead": "normal",
            "id": "c01bcc0b-f68d-4b7e-91aa-7ddcfbd9a8ee",
            "source": "s69",
            "source_arrow_fill": "filled",
            "source_arrow_shape": "none",
            "target": "s65",
            "target_arrow_shape": "triangle"
           }
          },
          {
           "data": {
            "arrowhead": "normal",
            "id": "4a41a843-4f65-4642-8d30-2c78a248ebb3",
            "source": "s70",
            "source_arrow_fill": "filled",
            "source_arrow_shape": "none",
            "target": "s64",
            "target_arrow_shape": "triangle"
           }
          },
          {
           "data": {
            "arrowhead": "normal",
            "id": "749dd501-69ec-450d-a78b-c814d64623e6",
            "source": "s70",
            "source_arrow_fill": "filled",
            "source_arrow_shape": "none",
            "target": "s66",
            "target_arrow_shape": "triangle"
           }
          },
          {
           "data": {
            "arrowhead": "normal",
            "id": "1906cb77-4747-46b8-9e33-b15c72fd5376",
            "source": "s71",
            "source_arrow_fill": "filled",
            "source_arrow_shape": "none",
            "target": "s73",
            "target_arrow_shape": "triangle"
           }
          },
          {
           "data": {
            "arrowhead": "normal",
            "id": "e55d4ce9-e058-4ca3-8400-9d53bc9ebe15",
            "source": "s71",
            "source_arrow_fill": "filled",
            "source_arrow_shape": "none",
            "target": "s68",
            "target_arrow_shape": "triangle"
           }
          },
          {
           "data": {
            "arrowhead": "normal",
            "id": "998da63d-9ca2-4f18-a952-ef2711050f18",
            "source": "s73",
            "source_arrow_fill": "hollow",
            "source_arrow_shape": "diamond",
            "target": "s74",
            "target_arrow_shape": "triangle"
           }
          },
          {
           "data": {
            "arrowhead": "normal",
            "id": "69617635-c6d4-4f6e-b9ed-692951b18c1f",
            "source": "s74",
            "source_arrow_fill": "hollow",
            "source_arrow_shape": "diamond",
            "target": "s75",
            "target_arrow_shape": "triangle"
           }
          },
          {
           "data": {
            "arrowhead": "normal",
            "id": "814641b8-eb0e-498f-9a2d-52384f99bf56",
            "source": "s74",
            "source_arrow_fill": "hollow",
            "source_arrow_shape": "diamond",
            "target": "s76",
            "target_arrow_shape": "triangle"
           }
          },
          {
           "data": {
            "arrowhead": "normal",
            "id": "697b3141-1366-40b2-9597-58a9547c208f",
            "source": "s75",
            "source_arrow_fill": "filled",
            "source_arrow_shape": "none",
            "target": "s33",
            "target_arrow_shape": "triangle"
           }
          },
          {
           "data": {
            "arrowhead": "normal",
            "id": "a735a73f-3152-4e6f-82dc-5df7a31dec00",
            "source": "s75",
            "source_arrow_fill": "filled",
            "source_arrow_shape": "none",
            "target": "s74",
            "target_arrow_shape": "triangle"
           }
          }
         ],
         "nodes": [
          {
           "data": {
            "NodeType": "species",
            "background_color": "#2b913a",
            "id": "s0",
            "label": "L",
            "name": "s0",
            "parent": "0",
            "shape": "ellipse"
           },
           "position": {
            "x": 917.7962808063621,
            "y": 3409.6112844682652
           }
          },
          {
           "data": {
            "NodeType": "species",
            "background_color": "#2b913a",
            "id": "s1",
            "label": "R",
            "name": "s1",
            "parent": "0",
            "shape": "ellipse"
           },
           "position": {
            "x": 835.4470293189515,
            "y": 3404.9181212646204
           }
          },
          {
           "data": {
            "NodeType": "species",
            "background_color": "#2b913a",
            "id": "s2",
            "label": "flip",
            "name": "s2",
            "parent": "0",
            "shape": "ellipse"
           },
           "position": {
            "x": 1077.6808818111094,
            "y": 3306.38779775502
           }
          },
          {
           "data": {
            "NodeType": "species",
            "background_color": "#2b913a",
            "id": "s3",
            "label": "proC8",
            "name": "s3",
            "parent": "1",
            "shape": "ellipse"
           },
           "position": {
            "x": 1337.652037940792,
            "y": 2873.7753715536164
           }
          },
          {
           "data": {
            "NodeType": "species",
            "background_color": "#2b913a",
            "id": "s4",
            "label": "BAR",
            "name": "s4",
            "parent": "1",
            "shape": "ellipse"
           },
           "position": {
            "x": 644.0300860232092,
            "y": 3036.5057663741436
           }
          },
          {
           "data": {
            "NodeType": "species",
            "background_color": "#2b913a",
            "id": "s5",
            "label": "iApaf",
            "name": "s5",
            "parent": "2",
            "shape": "ellipse"
           },
           "position": {
            "x": 2583.266856245219,
            "y": 95.14544619458047
           }
          },
          {
           "data": {
            "NodeType": "species",
            "background_color": "#2b913a",
            "id": "s6",
            "label": "proC3",
            "name": "s6",
            "parent": "3",
            "shape": "ellipse"
           },
           "position": {
            "x": 3690.02629114307,
            "y": 1860.5302638368064
           }
          },
          {
           "data": {
            "NodeType": "species",
            "background_color": "#2b913a",
            "id": "s7",
            "label": "proC6",
            "name": "s7",
            "parent": "3",
            "shape": "ellipse"
           },
           "position": {
            "x": 3844.543903283031,
            "y": 2062.848222124313
           }
          },
          {
           "data": {
            "NodeType": "species",
            "background_color": "#2b913a",
            "id": "s8",
            "label": "C9",
            "name": "s8",
            "parent": "4",
            "shape": "ellipse"
           },
           "position": {
            "x": 3938.06887391087,
            "y": 996.1506712887824
           }
          },
          {
           "data": {
            "NodeType": "species",
            "background_color": "#2b913a",
            "id": "s9",
            "label": "uPARP",
            "name": "s9",
            "parent": "3",
            "shape": "ellipse"
           },
           "position": {
            "x": 5063.275743242255,
            "y": 1721.3191074872152
           }
          },
          {
           "data": {
            "NodeType": "species",
            "background_color": "#2b913a",
            "id": "s10",
            "label": "XIAP",
            "name": "s10",
            "parent": "4",
            "shape": "ellipse"
           },
           "position": {
            "x": 4092.441349451966,
            "y": 1216.2754872509672
           }
          },
          {
           "data": {
            "NodeType": "species",
            "background_color": "#2b913a",
            "id": "s11",
            "label": "uBid",
            "name": "s11",
            "parent": "1",
            "shape": "ellipse"
           },
           "position": {
            "x": 605.7956181716218,
            "y": 2734.02130247971
           }
          },
          {
           "data": {
            "NodeType": "species",
            "background_color": "#2b913a",
            "id": "s12",
            "label": "cBax",
            "name": "s12",
            "parent": "5",
            "shape": "ellipse"
           },
           "position": {
            "x": 815.4436385755853,
            "y": 876.9764213975463
           }
          },
          {
           "data": {
            "NodeType": "species",
            "background_color": "#2b913a",
            "id": "s13",
            "label": "mBak",
            "name": "s13",
            "parent": "6",
            "shape": "ellipse"
           },
           "position": {
            "x": 2052.1012692499053,
            "y": 1551.4892177639836
           }
          },
          {
           "data": {
            "NodeType": "species",
            "background_color": "#2b913a",
            "id": "s14",
            "label": "mBcl2",
            "name": "s14",
            "parent": "7",
            "shape": "ellipse"
           },
           "position": {
            "x": 905.2687739909215,
            "y": 1313.3480621264584
           }
          },
          {
           "data": {
            "NodeType": "species",
            "background_color": "#2b913a",
            "id": "s15",
            "label": "mBclxL",
            "name": "s15",
            "parent": "7",
            "shape": "ellipse"
           },
           "position": {
            "x": 1163.952973547679,
            "y": 1402.0348117618169
           }
          },
          {
           "data": {
            "NodeType": "species",
            "background_color": "#2b913a",
            "id": "s16",
            "label": "mMcl1",
            "name": "s16",
            "parent": "8",
            "shape": "ellipse"
           },
           "position": {
            "x": 1717.2523380404054,
            "y": 1819.764413651769
           }
          },
          {
           "data": {
            "NodeType": "species",
            "background_color": "#2b913a",
            "id": "s17",
            "label": "mBad",
            "name": "s17",
            "parent": "7",
            "shape": "ellipse"
           },
           "position": {
            "x": 752.3078899326956,
            "y": 1487.483264138479
           }
          },
          {
           "data": {
            "NodeType": "species",
            "background_color": "#2b913a",
            "id": "s18",
            "label": "mNoxa",
            "name": "s18",
            "parent": "8",
            "shape": "ellipse"
           },
           "position": {
            "x": 1721.9205778004507,
            "y": 2070.9303006861537
           }
          },
          {
           "data": {
            "NodeType": "species",
            "background_color": "#2b913a",
            "id": "s19",
            "label": "mCytoC",
            "name": "s19",
            "parent": "2",
            "shape": "ellipse"
           },
           "position": {
            "x": 2010.7153258987737,
            "y": 325.72821867697303
           }
          },
          {
           "data": {
            "NodeType": "species",
            "background_color": "#2b913a",
            "id": "s20",
            "label": "mSmac",
            "name": "s20",
            "parent": "4",
            "shape": "ellipse"
           },
           "position": {
            "x": 2872.692011785777,
            "y": 850.5965604768339
           }
          },
          {
           "data": {
            "NodeType": "species",
            "background_color": "#2b913a",
            "id": "s21",
            "label": "L-R",
            "name": "s21",
            "parent": "0",
            "shape": "ellipse"
           },
           "position": {
            "x": 894.1390289630344,
            "y": 3298.2659873719263
           }
          },
          {
           "data": {
            "NodeType": "species",
            "background_color": "#2b913a",
            "id": "s22",
            "label": "mBad-mBcl2",
            "name": "s22",
            "parent": "7",
            "shape": "ellipse"
           },
           "position": {
            "x": 745.8737311175628,
            "y": 1381.3314082758172
           }
          },
          {
           "data": {
            "NodeType": "species",
            "background_color": "#2b913a",
            "id": "s23",
            "label": "mBad-mBclxL",
            "name": "s23",
            "parent": "7",
            "shape": "ellipse"
           },
           "position": {
            "x": 917.3603459605511,
            "y": 1457.7664565952791
           }
          },
          {
           "data": {
            "NodeType": "species",
            "background_color": "#2b913a",
            "id": "s24",
            "label": "mMcl1-mNoxa",
            "name": "s24",
            "parent": "8",
            "shape": "ellipse"
           },
           "position": {
            "x": 1716.2045779866385,
            "y": 1953.6844634994618
           }
          },
          {
           "data": {
            "NodeType": "species",
            "background_color": "#2b913a",
            "id": "s25",
            "label": "DISC",
            "name": "s25",
            "parent": "0",
            "shape": "ellipse"
           },
           "position": {
            "x": 961.591918003689,
            "y": 3165.6148682766366
           }
          },
          {
           "data": {
            "NodeType": "species",
            "background_color": "#2b913a",
            "id": "s26",
            "label": "proC8-DISC",
            "name": "s26",
            "parent": "1",
            "shape": "ellipse"
           },
           "position": {
            "x": 1187.8086605893059,
            "y": 2868.6278816559743
           }
          },
          {
           "data": {
            "NodeType": "species",
            "background_color": "#2b913a",
            "id": "s27",
            "label": "DISC-flip",
            "name": "s27",
            "parent": "0",
            "shape": "ellipse"
           },
           "position": {
            "x": 979.8148212568249,
            "y": 3270.1175996766933
           }
          },
          {
           "data": {
            "NodeType": "species",
            "background_color": "#2b913a",
            "id": "s28",
            "label": "aC8",
            "name": "s28",
            "parent": "1",
            "shape": "ellipse"
           },
           "position": {
            "x": 1516.7578769051725,
            "y": 2653.2510226989293
           }
          },
          {
           "data": {
            "NodeType": "species",
            "background_color": "#2b913a",
            "id": "s29",
            "label": "uBid-aC8",
            "name": "s29",
            "parent": "1",
            "shape": "ellipse"
           },
           "position": {
            "x": 924.4983820279522,
            "y": 2592.1874104031585
           }
          },
          {
           "data": {
            "NodeType": "species",
            "background_color": "#2b913a",
            "id": "s30",
            "label": "BAR-aC8",
            "name": "s30",
            "parent": "1",
            "shape": "ellipse"
           },
           "position": {
            "x": 968.1713828930187,
            "y": 2894.600409569423
           }
          },
          {
           "data": {
            "NodeType": "species",
            "background_color": "#2b913a",
            "id": "s31",
            "label": "proC3-aC8",
            "name": "s31",
            "parent": "3",
            "shape": "ellipse"
           },
           "position": {
            "x": 3193.9825282980673,
            "y": 2098.2732504356
           }
          },
          {
           "data": {
            "NodeType": "species",
            "background_color": "#2b913a",
            "id": "s32",
            "label": "tBid",
            "name": "s32",
            "parent": "1",
            "shape": "ellipse"
           },
           "position": {
            "x": 852.3971645894817,
            "y": 2247.6876536426644
           }
          },
          {
           "data": {
            "NodeType": "species",
            "background_color": "#2b913a",
            "id": "s33",
            "label": "aC3",
            "name": "s33",
            "parent": "3",
            "shape": "ellipse"
           },
           "position": {
            "x": 4019.7066096850494,
            "y": 1853.0829689014768
           }
          },
          {
           "data": {
            "NodeType": "species",
            "background_color": "#2b913a",
            "id": "s34",
            "label": "aC3-XIAP",
            "name": "s34",
            "parent": "3",
            "shape": "ellipse"
           },
           "position": {
            "x": 4447.344442560781,
            "y": 1633.763826171497
           }
          },
          {
           "data": {
            "NodeType": "species",
            "background_color": "#2b913a",
            "id": "s35",
            "label": "aC3-uPARP",
            "name": "s35",
            "parent": "3",
            "shape": "ellipse"
           },
           "position": {
            "x": 4736.516311183089,
            "y": 1738.6323619113123
           }
          },
          {
           "data": {
            "NodeType": "species",
            "background_color": "#2b913a",
            "id": "s36",
            "label": "aC3-proC6",
            "name": "s36",
            "parent": "3",
            "shape": "ellipse"
           },
           "position": {
            "x": 3529.7100102559825,
            "y": 2116.9723422666793
           }
          },
          {
           "data": {
            "NodeType": "species",
            "background_color": "#2b913a",
            "id": "s37",
            "label": "mBid",
            "name": "s37",
            "parent": "7",
            "shape": "ellipse"
           },
           "position": {
            "x": 1176.7547535003978,
            "y": 1536.7491488652463
           }
          },
          {
           "data": {
            "NodeType": "species",
            "background_color": "#2b913a",
            "id": "s38",
            "label": "ubC3",
            "name": "s38",
            "parent": "3",
            "shape": "ellipse"
           },
           "position": {
            "x": 4765.835911758646,
            "y": 1588.8170055784508
           }
          },
          {
           "data": {
            "NodeType": "species",
            "background_color": "#2b913a",
            "id": "s39",
            "label": "cPARP",
            "name": "s39",
            "parent": "3",
            "shape": "ellipse"
           },
           "position": {
            "x": 5050.724743225124,
            "y": 1652.6287168695317
           }
          },
          {
           "data": {
            "NodeType": "species",
            "background_color": "#2b913a",
            "id": "s40",
            "label": "aC6",
            "name": "s40",
            "parent": "1",
            "shape": "ellipse"
           },
           "position": {
            "x": 2376.0843818283784,
            "y": 2521.729460746815
           }
          },
          {
           "data": {
            "NodeType": "species",
            "background_color": "#2b913a",
            "id": "s41",
            "label": "cBax-mBid",
            "name": "s41",
            "parent": "5",
            "shape": "ellipse"
           },
           "position": {
            "x": 945.2632865118776,
            "y": 1009.7916427216721
           }
          },
          {
           "data": {
            "NodeType": "species",
            "background_color": "#2b913a",
            "id": "s42",
            "label": "mBak-mBid",
            "name": "s42",
            "parent": "6",
            "shape": "ellipse"
           },
           "position": {
            "x": 1849.7080591931026,
            "y": 1500.7656451330831
           }
          },
          {
           "data": {
            "NodeType": "species",
            "background_color": "#2b913a",
            "id": "s43",
            "label": "mBcl2-mBid",
            "name": "s43",
            "parent": "7",
            "shape": "ellipse"
           },
           "position": {
            "x": 1032.6901934429552,
            "y": 1427.7681582432274
           }
          },
          {
           "data": {
            "NodeType": "species",
            "background_color": "#2b913a",
            "id": "s44",
            "label": "mBclxL-mBid",
            "name": "s44",
            "parent": "7",
            "shape": "ellipse"
           },
           "position": {
            "x": 1050.4845793929453,
            "y": 1509.7240135398729
           }
          },
          {
           "data": {
            "NodeType": "species",
            "background_color": "#2b913a",
            "id": "s45",
            "label": "mBid-mMcl1",
            "name": "s45",
            "parent": "8",
            "shape": "ellipse"
           },
           "position": {
            "x": 1551.3046272902884,
            "y": 1787.3725539978368
           }
          },
          {
           "data": {
            "NodeType": "species",
            "background_color": "#2b913a",
            "id": "s46",
            "label": "aC6-proC8",
            "name": "s46",
            "parent": "1",
            "shape": "ellipse"
           },
           "position": {
            "x": 1704.1789360649873,
            "y": 2727.1409205113973
           }
          },
          {
           "data": {
            "NodeType": "species",
            "background_color": "#2b913a",
            "id": "s47",
            "label": "mBax",
            "name": "s47",
            "parent": "5",
            "shape": "ellipse"
           },
           "position": {
            "x": 1041.6518305586414,
            "y": 866.8365148958087
           }
          },
          {
           "data": {
            "NodeType": "species",
            "background_color": "#2b913a",
            "id": "s48",
            "label": "aBak",
            "name": "s48",
            "parent": "6",
            "shape": "ellipse"
           },
           "position": {
            "x": 2086.053476826479,
            "y": 1373.1743731700212
           }
          },
          {
           "data": {
            "NodeType": "species",
            "background_color": "#2b913a",
            "id": "s49",
            "label": "mBax-mBid",
            "name": "s49",
            "parent": "5",
            "shape": "ellipse"
           },
           "position": {
            "x": 1187.6398726712941,
            "y": 966.4869855225313
           }
          },
          {
           "data": {
            "NodeType": "species",
            "background_color": "#2b913a",
            "id": "s50",
            "label": "aBak-mBak",
            "name": "s50",
            "parent": "6",
            "shape": "ellipse"
           },
           "position": {
            "x": 2192.004176715436,
            "y": 1504.1548758591425
           }
          },
          {
           "data": {
            "NodeType": "species",
            "background_color": "#2b913a",
            "id": "s51",
            "label": "aBak-mBclxL",
            "name": "s51",
            "parent": "7",
            "shape": "ellipse"
           },
           "position": {
            "x": 1470.4014479474154,
            "y": 1402.8613375820598
           }
          },
          {
           "data": {
            "NodeType": "species",
            "background_color": "#2b913a",
            "id": "s52",
            "label": "aBak-mMcl1",
            "name": "s52",
            "parent": "8",
            "shape": "ellipse"
           },
           "position": {
            "x": 1846.6478087923851,
            "y": 1692.2608945853822
           }
          },
          {
           "data": {
            "NodeType": "species",
            "background_color": "#2b913a",
            "id": "s53",
            "label": "2aBak",
            "name": "s53",
            "parent": "6",
            "shape": "ellipse"
           },
           "position": {
            "x": 2244.1638678654444,
            "y": 1404.2592851961645
           }
          },
          {
           "data": {
            "NodeType": "species",
            "background_color": "#2b913a",
            "id": "s54",
            "label": "aBax",
            "name": "s54",
            "parent": "5",
            "shape": "ellipse"
           },
           "position": {
            "x": 1375.1844893264824,
            "y": 803.9594524617355
           }
          },
          {
           "data": {
            "NodeType": "species",
            "background_color": "#2b913a",
            "id": "s55",
            "label": "3aBak",
            "name": "s55",
            "parent": "6",
            "shape": "ellipse"
           },
           "position": {
            "x": 2256.33049366283,
            "y": 1286.4475443548724
           }
          },
          {
           "data": {
            "NodeType": "species",
            "background_color": "#2b913a",
            "id": "s56",
            "label": "aBax-mBax",
            "name": "s56",
            "parent": "5",
            "shape": "ellipse"
           },
           "position": {
            "x": 1173.45158496584,
            "y": 760.9192179988249
           }
          },
          {
           "data": {
            "NodeType": "species",
            "background_color": "#2b913a",
            "id": "s57",
            "label": "aBax-mBcl2",
            "name": "s57",
            "parent": "7",
            "shape": "ellipse"
           },
           "position": {
            "x": 1001.9444106475494,
            "y": 1160.7037163801485
           }
          },
          {
           "data": {
            "NodeType": "species",
            "background_color": "#2b913a",
            "id": "s58",
            "label": "aBax-mBclxL",
            "name": "s58",
            "parent": "7",
            "shape": "ellipse"
           },
           "position": {
            "x": 1165.151030879777,
            "y": 1242.044481156856
           }
          },
          {
           "data": {
            "NodeType": "species",
            "background_color": "#2b913a",
            "id": "s59",
            "label": "2aBax",
            "name": "s59",
            "parent": "5",
            "shape": "ellipse"
           },
           "position": {
            "x": 1369.4038489227478,
            "y": 662.2536691082933
           }
          },
          {
           "data": {
            "NodeType": "species",
            "background_color": "#2b913a",
            "id": "s60",
            "label": "4aBak",
            "name": "s60",
            "parent": "6",
            "shape": "ellipse"
           },
           "position": {
            "x": 2298.4524793147557,
            "y": 1094.4897985964888
           }
          },
          {
           "data": {
            "NodeType": "species",
            "background_color": "#2b913a",
            "id": "s61",
            "label": "3aBax",
            "name": "s61",
            "parent": "5",
            "shape": "ellipse"
           },
           "position": {
            "x": 1514.700217465579,
            "y": 687.7848533435158
           }
          },
          {
           "data": {
            "NodeType": "species",
            "background_color": "#2b913a",
            "id": "s62",
            "label": "4aBak-mCytoC",
            "name": "s62",
            "parent": "2",
            "shape": "ellipse"
           },
           "position": {
            "x": 2102.045686510138,
            "y": 492.02973998525067
           }
          },
          {
           "data": {
            "NodeType": "species",
            "background_color": "#2b913a",
            "id": "s63",
            "label": "4aBak-mSmac",
            "name": "s63",
            "parent": "4",
            "shape": "ellipse"
           },
           "position": {
            "x": 2858.3637217077066,
            "y": 967.3707041445416
           }
          },
          {
           "data": {
            "NodeType": "species",
            "background_color": "#2b913a",
            "id": "s64",
            "label": "4aBax",
            "name": "s64",
            "parent": "5",
            "shape": "ellipse"
           },
           "position": {
            "x": 1768.6252572850872,
            "y": 704.2439991975907
           }
          },
          {
           "data": {
            "NodeType": "species",
            "background_color": "#2b913a",
            "id": "s65",
            "label": "cCytoC",
            "name": "s65",
            "parent": "2",
            "shape": "ellipse"
           },
           "position": {
            "x": 2113.2350304764823,
            "y": 271.53675858742463
           }
          },
          {
           "data": {
            "NodeType": "species",
            "background_color": "#2b913a",
            "id": "s66",
            "label": "cSmac",
            "name": "s66",
            "parent": "4",
            "shape": "ellipse"
           },
           "position": {
            "x": 3083.699264217681,
            "y": 926.2321272206111
           }
          },
          {
           "data": {
            "NodeType": "species",
            "background_color": "#2b913a",
            "id": "s67",
            "label": "aSmac",
            "name": "s67",
            "parent": "4",
            "shape": "ellipse"
           },
           "position": {
            "x": 3495.142190926409,
            "y": 1003.2392339780695
           }
          },
          {
           "data": {
            "NodeType": "species",
            "background_color": "#2b913a",
            "id": "s68",
            "label": "aCytoC",
            "name": "s68",
            "parent": "2",
            "shape": "ellipse"
           },
           "position": {
            "x": 2364.0327157311604,
            "y": 201.4481221949859
           }
          },
          {
           "data": {
            "NodeType": "species",
            "background_color": "#2b913a",
            "id": "s69",
            "label": "4aBax-mCytoC",
            "name": "s69",
            "parent": "2",
            "shape": "ellipse"
           },
           "position": {
            "x": 1887.1878572065707,
            "y": 272.7508349970135
           }
          },
          {
           "data": {
            "NodeType": "species",
            "background_color": "#2b913a",
            "id": "s70",
            "label": "4aBax-mSmac",
            "name": "s70",
            "parent": "4",
            "shape": "ellipse"
           },
           "position": {
            "x": 2650.193898064791,
            "y": 828.6374808651435
           }
          },
          {
           "data": {
            "NodeType": "species",
            "background_color": "#2b913a",
            "id": "s71",
            "label": "iApaf-aCytoC",
            "name": "s71",
            "parent": "2",
            "shape": "ellipse"
           },
           "position": {
            "x": 2689.232727285198,
            "y": 262.08873538787884
           }
          },
          {
           "data": {
            "NodeType": "species",
            "background_color": "#2b913a",
            "id": "s72",
            "label": "aSmac-XIAP",
            "name": "s72",
            "parent": "4",
            "shape": "ellipse"
           },
           "position": {
            "x": 3839.719964236193,
            "y": 1101.1725454922787
           }
          },
          {
           "data": {
            "NodeType": "species",
            "background_color": "#2b913a",
            "id": "s73",
            "label": "aApaf",
            "name": "s73",
            "parent": "2",
            "shape": "ellipse"
           },
           "position": {
            "x": 3092.7064894166306,
            "y": 517.3545538054195
           }
          },
          {
           "data": {
            "NodeType": "species",
            "background_color": "#2b913a",
            "id": "s74",
            "label": "Apop",
            "name": "s74",
            "parent": "4",
            "shape": "ellipse"
           },
           "position": {
            "x": 3766.3634103471977,
            "y": 1012.2766640234167
           }
          },
          {
           "data": {
            "NodeType": "species",
            "background_color": "#2b913a",
            "id": "s75",
            "label": "Apop-proC3",
            "name": "s75",
            "parent": "3",
            "shape": "ellipse"
           },
           "position": {
            "x": 3955.5233735575894,
            "y": 1632.5353290670246
           }
          },
          {
           "data": {
            "NodeType": "species",
            "background_color": "#2b913a",
            "id": "s76",
            "label": "Apop-XIAP",
            "name": "s76",
            "parent": "4",
            "shape": "ellipse"
           },
           "position": {
            "x": 3994.263982900682,
            "y": 1086.8863701156108
           }
          },
          {
           "data": {
            "NodeType": "community",
            "id": "0",
            "name": "0"
           },
           "position": {
            "x": 956.5639555650305,
            "y": 3279.613076372451
           }
          },
          {
           "data": {
            "NodeType": "community",
            "id": "1",
            "name": "1"
           },
           "position": {
            "x": 1490.19,
            "y": 2634.096710008404
           }
          },
          {
           "data": {
            "NodeType": "community",
            "id": "2",
            "name": "2"
           },
           "position": {
            "x": 2472.6971733116006,
            "y": 298.25
           }
          },
          {
           "data": {
            "NodeType": "community",
            "id": "3",
            "name": "3"
           },
           "position": {
            "x": 4121.379135770161,
            "y": 1844.894673922565
           }
          },
          {
           "data": {
            "NodeType": "community",
            "id": "4",
            "name": "4"
           },
           "position": {
            "x": 3353.5676237583784,
            "y": 1014.4564840580554
           }
          },
          {
           "data": {
            "NodeType": "community",
            "id": "5",
            "name": "5"
           },
           "position": {
            "x": 1294.2844479303362,
            "y": 828.0226559149827
           }
          },
          {
           "data": {
            "NodeType": "community",
            "id": "6",
            "name": "6"
           },
           "position": {
            "x": 2064.080269253929,
            "y": 1314.989508180236
           }
          },
          {
           "data": {
            "NodeType": "community",
            "id": "7",
            "name": "7"
           },
           "position": {
            "x": 1108.637589532489,
            "y": 1340.7264326226973
           }
          },
          {
           "data": {
            "NodeType": "community",
            "id": "8",
            "name": "8"
           },
           "position": {
            "x": 1698.4762180413368,
            "y": 1873.595597635768
           }
          }
         ]
        }
       },
       "format": "cyjs",
       "layout": "IPY_MODEL_4f87dc66679043e89a0e701a5bb0a43c",
       "layout_name": "cose-bilkent",
       "type_of_viz": "communities_view",
       "visual_style": null
      }
     },
     "0f33f6e3e36d4ee4a1de21cca861a753": {
      "model_module": "@jupyter-widgets/base",
      "model_module_version": "1.1.0",
      "model_name": "LayoutModel",
      "state": {}
     },
     "14a151169bba4af9ab8b900541dfe521": {
      "model_module": "@jupyter-widgets/base",
      "model_module_version": "1.1.0",
      "model_name": "LayoutModel",
      "state": {}
     },
     "2dc7c061ab864286ad760c859a020ccb": {
      "model_module": "@jupyter-widgets/base",
      "model_module_version": "1.1.0",
      "model_name": "LayoutModel",
      "state": {}
     },
     "4195e2a56f7341219bf5618c9322064b": {
      "model_module": "viz-pysb-widget",
      "model_module_version": "^0.1.0",
      "model_name": "CytoscapeModel",
      "state": {
       "_model_module_version": "^0.1.0",
       "_view_module_version": "^0.1.0",
       "background": "#FFFFFF",
       "data": {
        "data": {
         "graph": {
          "rankdir": "LR"
         },
         "name": "pysbjupyter.pysb_models.lopez_embedded"
        },
        "elements": {
         "edges": [
          {
           "data": {
            "arrowhead": "normal",
            "id": "29c343bb-d2f1-466c-8f95-efa08720dc5b",
            "source": "s0",
            "source_arrow_fill": "hollow",
            "source_arrow_shape": "triangle",
            "target": "bind_L_R_to_LR",
            "target_arrow_shape": "triangle"
           }
          },
          {
           "data": {
            "arrowhead": "normal",
            "id": "9b943c93-202c-4c42-ad7c-7cf19d95dd62",
            "source": "s1",
            "source_arrow_fill": "hollow",
            "source_arrow_shape": "triangle",
            "target": "bind_L_R_to_LR",
            "target_arrow_shape": "triangle"
           }
          },
          {
           "data": {
            "arrowhead": "normal",
            "id": "4a81b869-b48a-4b84-91fc-0cfee7e532f0",
            "source": "s2",
            "source_arrow_fill": "hollow",
            "source_arrow_shape": "triangle",
            "target": "bind_DISC_flip",
            "target_arrow_shape": "triangle"
           }
          },
          {
           "data": {
            "arrowhead": "normal",
            "id": "7391539a-6be0-4de4-bd2f-d54e0e8c9e83",
            "source": "s3",
            "source_arrow_fill": "hollow",
            "source_arrow_shape": "triangle",
            "target": "bind_DISC_C8pro_to_DISCC8pro",
            "target_arrow_shape": "triangle"
           }
          },
          {
           "data": {
            "arrowhead": "normal",
            "id": "c375b9d3-1aeb-47fc-99e1-991afda8ce2b",
            "source": "s3",
            "source_arrow_fill": "hollow",
            "source_arrow_shape": "triangle",
            "target": "bind_C6A_C8pro_to_C6AC8pro",
            "target_arrow_shape": "triangle"
           }
          },
          {
           "data": {
            "arrowhead": "normal",
            "id": "bffd3292-d7c0-4f61-831e-6ce6a913c3f9",
            "source": "s4",
            "source_arrow_fill": "hollow",
            "source_arrow_shape": "triangle",
            "target": "bind_BAR_C8A",
            "target_arrow_shape": "triangle"
           }
          },
          {
           "data": {
            "arrowhead": "normal",
            "id": "51b2d1c9-d01c-449f-8a83-65306d89282d",
            "source": "s5",
            "source_arrow_fill": "hollow",
            "source_arrow_shape": "triangle",
            "target": "bind_CytoCA_ApafI_to_CytoCAApafI",
            "target_arrow_shape": "triangle"
           }
          },
          {
           "data": {
            "arrowhead": "normal",
            "id": "64f48d8f-db48-46d5-99a6-6d0c4c55348f",
            "source": "s6",
            "source_arrow_fill": "hollow",
            "source_arrow_shape": "triangle",
            "target": "bind_Apop_C3pro_to_ApopC3pro",
            "target_arrow_shape": "triangle"
           }
          },
          {
           "data": {
            "arrowhead": "normal",
            "id": "1d35e46a-3cf8-47da-b8af-9d9872badf99",
            "source": "s6",
            "source_arrow_fill": "hollow",
            "source_arrow_shape": "triangle",
            "target": "bind_C8A_C3pro_to_C8AC3pro",
            "target_arrow_shape": "triangle"
           }
          },
          {
           "data": {
            "arrowhead": "normal",
            "id": "fefaa18e-82d9-467d-a0bf-c7844eca4b18",
            "source": "s7",
            "source_arrow_fill": "hollow",
            "source_arrow_shape": "triangle",
            "target": "bind_C3A_C6pro_to_C3AC6pro",
            "target_arrow_shape": "triangle"
           }
          },
          {
           "data": {
            "arrowhead": "normal",
            "id": "190898b8-3811-43b9-83c9-7318b17c1a73",
            "source": "s8",
            "source_arrow_fill": "hollow",
            "source_arrow_shape": "triangle",
            "target": "convert_ApafA_C9_to_Apop",
            "target_arrow_shape": "triangle"
           }
          },
          {
           "data": {
            "arrowhead": "normal",
            "id": "1a3dc669-bb2b-4e2c-bf6d-079c5522419a",
            "source": "s9",
            "source_arrow_fill": "hollow",
            "source_arrow_shape": "triangle",
            "target": "bind_C3A_PARPU_to_C3APARPU",
            "target_arrow_shape": "triangle"
           }
          },
          {
           "data": {
            "arrowhead": "normal",
            "id": "7369b948-e0e7-48cc-aadd-54dc32e51a93",
            "source": "s10",
            "source_arrow_fill": "hollow",
            "source_arrow_shape": "triangle",
            "target": "bind_Apop_XIAP",
            "target_arrow_shape": "triangle"
           }
          },
          {
           "data": {
            "arrowhead": "normal",
            "id": "0cf21c5e-399a-46c2-96f5-ecc2722e4348",
            "source": "s10",
            "source_arrow_fill": "hollow",
            "source_arrow_shape": "triangle",
            "target": "bind_SmacA_XIAP",
            "target_arrow_shape": "triangle"
           }
          },
          {
           "data": {
            "arrowhead": "normal",
            "id": "be9b248c-1858-4f6a-88f4-bb0b63636516",
            "source": "s10",
            "source_arrow_fill": "hollow",
            "source_arrow_shape": "triangle",
            "target": "bind_XIAP_C3A_to_XIAPC3A",
            "target_arrow_shape": "triangle"
           }
          },
          {
           "data": {
            "arrowhead": "normal",
            "id": "7b58223d-04cc-451a-aa1d-b4cc445a0e60",
            "source": "s11",
            "source_arrow_fill": "hollow",
            "source_arrow_shape": "triangle",
            "target": "bind_C8A_BidU_to_C8ABidU",
            "target_arrow_shape": "triangle"
           }
          },
          {
           "data": {
            "arrowhead": "normal",
            "id": "10c56f69-7f28-46e9-a264-c29bd64973e0",
            "source": "s12",
            "source_arrow_fill": "hollow",
            "source_arrow_shape": "triangle",
            "target": "bind_BidM_BaxC_to_BidMBaxC",
            "target_arrow_shape": "triangle"
           }
          },
          {
           "data": {
            "arrowhead": "normal",
            "id": "2f7fa579-253c-4450-ac19-475b5beb65e7",
            "source": "s13",
            "source_arrow_fill": "hollow",
            "source_arrow_shape": "triangle",
            "target": "bind_BidM_BakM_to_BidMBakM",
            "target_arrow_shape": "triangle"
           }
          },
          {
           "data": {
            "arrowhead": "normal",
            "id": "6b624519-f11c-4a22-b7c5-549d0b850bf8",
            "source": "s13",
            "source_arrow_fill": "hollow",
            "source_arrow_shape": "triangle",
            "target": "bind_BakA_BakM_to_BakABakM",
            "target_arrow_shape": "triangle"
           }
          },
          {
           "data": {
            "arrowhead": "normal",
            "id": "12f67e0a-4892-4fa1-8f9d-362dd085e8a2",
            "source": "s14",
            "source_arrow_fill": "hollow",
            "source_arrow_shape": "triangle",
            "target": "bind_BidM_Bcl2M",
            "target_arrow_shape": "triangle"
           }
          },
          {
           "data": {
            "arrowhead": "normal",
            "id": "02c7b3e3-29a4-4c6c-a944-d2326eeafc24",
            "source": "s14",
            "source_arrow_fill": "hollow",
            "source_arrow_shape": "triangle",
            "target": "bind_BaxA_Bcl2",
            "target_arrow_shape": "triangle"
           }
          },
          {
           "data": {
            "arrowhead": "normal",
            "id": "1eaf0e1c-07e2-4aee-9158-16e895a94e85",
            "source": "s14",
            "source_arrow_fill": "hollow",
            "source_arrow_shape": "triangle",
            "target": "bind_BadM_Bcl2",
            "target_arrow_shape": "triangle"
           }
          },
          {
           "data": {
            "arrowhead": "normal",
            "id": "716c20cd-41a7-4763-94d4-1738b9b15fb1",
            "source": "s15",
            "source_arrow_fill": "hollow",
            "source_arrow_shape": "triangle",
            "target": "bind_BidM_BclxLM",
            "target_arrow_shape": "triangle"
           }
          },
          {
           "data": {
            "arrowhead": "normal",
            "id": "5b67ba16-a484-4e46-aa25-c9ec9ed98da3",
            "source": "s15",
            "source_arrow_fill": "hollow",
            "source_arrow_shape": "triangle",
            "target": "bind_BaxA_BclxLM",
            "target_arrow_shape": "triangle"
           }
          },
          {
           "data": {
            "arrowhead": "normal",
            "id": "fda7a4c0-3abf-4674-8f4b-7131eeae6ebe",
            "source": "s15",
            "source_arrow_fill": "hollow",
            "source_arrow_shape": "triangle",
            "target": "bind_BakA_BclxLM",
            "target_arrow_shape": "triangle"
           }
          },
          {
           "data": {
            "arrowhead": "normal",
            "id": "76b94f0a-4691-4d8d-8189-dca6cdcf5b90",
            "source": "s15",
            "source_arrow_fill": "hollow",
            "source_arrow_shape": "triangle",
            "target": "bind_BadM_BclxLM",
            "target_arrow_shape": "triangle"
           }
          },
          {
           "data": {
            "arrowhead": "normal",
            "id": "08c1f224-e975-497f-8e48-fa34ea15b244",
            "source": "s16",
            "source_arrow_fill": "hollow",
            "source_arrow_shape": "triangle",
            "target": "bind_BidM_Mcl1M",
            "target_arrow_shape": "triangle"
           }
          },
          {
           "data": {
            "arrowhead": "normal",
            "id": "96357946-2145-4397-8ab1-08cd85d0fc1a",
            "source": "s16",
            "source_arrow_fill": "hollow",
            "source_arrow_shape": "triangle",
            "target": "bind_BakA_Mcl1M",
            "target_arrow_shape": "triangle"
           }
          },
          {
           "data": {
            "arrowhead": "normal",
            "id": "1272aa6a-c93f-4a5e-9680-885c7502668d",
            "source": "s16",
            "source_arrow_fill": "hollow",
            "source_arrow_shape": "triangle",
            "target": "bind_NoxaM_Mcl1M",
            "target_arrow_shape": "triangle"
           }
          },
          {
           "data": {
            "arrowhead": "normal",
            "id": "0cb4bb11-1ec4-4126-9fd1-dd3aee3f998c",
            "source": "s17",
            "source_arrow_fill": "hollow",
            "source_arrow_shape": "triangle",
            "target": "bind_BadM_Bcl2",
            "target_arrow_shape": "triangle"
           }
          },
          {
           "data": {
            "arrowhead": "normal",
            "id": "fb680a2d-4238-45c0-a003-3ed9c2e9cc22",
            "source": "s17",
            "source_arrow_fill": "hollow",
            "source_arrow_shape": "triangle",
            "target": "bind_BadM_BclxLM",
            "target_arrow_shape": "triangle"
           }
          },
          {
           "data": {
            "arrowhead": "normal",
            "id": "c8ba409f-10e3-438f-a658-91be9f4e1949",
            "source": "s18",
            "source_arrow_fill": "hollow",
            "source_arrow_shape": "triangle",
            "target": "bind_NoxaM_Mcl1M",
            "target_arrow_shape": "triangle"
           }
          },
          {
           "data": {
            "arrowhead": "normal",
            "id": "1d11347e-3ea7-48f9-9c97-31e01ab124f1",
            "source": "s19",
            "source_arrow_fill": "hollow",
            "source_arrow_shape": "triangle",
            "target": "pore_transport_complex_BaxA_4_CytoCM",
            "target_arrow_shape": "triangle"
           }
          },
          {
           "data": {
            "arrowhead": "normal",
            "id": "52676964-e78d-4d14-9e06-af78bc474a95",
            "source": "s19",
            "source_arrow_fill": "hollow",
            "source_arrow_shape": "triangle",
            "target": "pore_transport_complex_BakA_4_CytoCM",
            "target_arrow_shape": "triangle"
           }
          },
          {
           "data": {
            "arrowhead": "normal",
            "id": "c52f164f-1ca4-433d-a490-e4c95125fd40",
            "source": "s20",
            "source_arrow_fill": "hollow",
            "source_arrow_shape": "triangle",
            "target": "pore_transport_complex_BaxA_4_SmacM",
            "target_arrow_shape": "triangle"
           }
          },
          {
           "data": {
            "arrowhead": "normal",
            "id": "79b6b5d4-9161-4bd8-9135-727bd400f017",
            "source": "s20",
            "source_arrow_fill": "hollow",
            "source_arrow_shape": "triangle",
            "target": "pore_transport_complex_BakA_4_SmacM",
            "target_arrow_shape": "triangle"
           }
          },
          {
           "data": {
            "arrowhead": "normal",
            "id": "458c1c4f-0434-43da-ba03-82f218f54565",
            "source": "s21",
            "source_arrow_fill": "hollow",
            "source_arrow_shape": "triangle",
            "target": "bind_L_R_to_LR",
            "target_arrow_shape": "triangle"
           }
          },
          {
           "data": {
            "arrowhead": "normal",
            "id": "0f3a56b8-b71f-4d75-81f6-1b115fe7ce1f",
            "source": "s21",
            "source_arrow_fill": "filled",
            "source_arrow_shape": "none",
            "target": "convert_LR_to_DISC",
            "target_arrow_shape": "triangle"
           }
          },
          {
           "data": {
            "arrowhead": "normal",
            "id": "42695ed3-3c40-49fc-af2b-c62336c775af",
            "source": "s22",
            "source_arrow_fill": "hollow",
            "source_arrow_shape": "triangle",
            "target": "bind_BadM_Bcl2",
            "target_arrow_shape": "triangle"
           }
          },
          {
           "data": {
            "arrowhead": "normal",
            "id": "306be75b-a86b-4f27-b8ca-f45df0b6e393",
            "source": "s23",
            "source_arrow_fill": "hollow",
            "source_arrow_shape": "triangle",
            "target": "bind_BadM_BclxLM",
            "target_arrow_shape": "triangle"
           }
          },
          {
           "data": {
            "arrowhead": "normal",
            "id": "61642fb8-c673-4472-a7b9-1e7bd407bfe2",
            "source": "s24",
            "source_arrow_fill": "hollow",
            "source_arrow_shape": "triangle",
            "target": "bind_NoxaM_Mcl1M",
            "target_arrow_shape": "triangle"
           }
          },
          {
           "data": {
            "arrowhead": "normal",
            "id": "a849c127-e885-4b1c-8d18-f8d5dc492805",
            "source": "s25",
            "source_arrow_fill": "hollow",
            "source_arrow_shape": "triangle",
            "target": "bind_DISC_C8pro_to_DISCC8pro",
            "target_arrow_shape": "triangle"
           }
          },
          {
           "data": {
            "arrowhead": "normal",
            "id": "022e018f-94f7-42aa-b458-ee31fe6f43a0",
            "source": "s25",
            "source_arrow_fill": "hollow",
            "source_arrow_shape": "triangle",
            "target": "bind_DISC_flip",
            "target_arrow_shape": "triangle"
           }
          },
          {
           "data": {
            "arrowhead": "normal",
            "id": "1e4a4dad-9eff-4a79-b515-5b70f8db6eb6",
            "source": "s26",
            "source_arrow_fill": "hollow",
            "source_arrow_shape": "triangle",
            "target": "bind_DISC_C8pro_to_DISCC8pro",
            "target_arrow_shape": "triangle"
           }
          },
          {
           "data": {
            "arrowhead": "normal",
            "id": "6cca52fb-1a4e-4892-aaa3-5a407cd6c94d",
            "source": "s26",
            "source_arrow_fill": "filled",
            "source_arrow_shape": "none",
            "target": "catalyze_DISCC8pro_to_DISC_C8A",
            "target_arrow_shape": "triangle"
           }
          },
          {
           "data": {
            "arrowhead": "normal",
            "id": "fafb04b5-c986-4c9c-8f85-f24e8ed55f86",
            "source": "s27",
            "source_arrow_fill": "hollow",
            "source_arrow_shape": "triangle",
            "target": "bind_DISC_flip",
            "target_arrow_shape": "triangle"
           }
          },
          {
           "data": {
            "arrowhead": "normal",
            "id": "8b8c7fec-0301-4451-9e6a-96e7f42356f3",
            "source": "s28",
            "source_arrow_fill": "hollow",
            "source_arrow_shape": "triangle",
            "target": "bind_C8A_BidU_to_C8ABidU",
            "target_arrow_shape": "triangle"
           }
          },
          {
           "data": {
            "arrowhead": "normal",
            "id": "a0fc525c-df37-4cb2-ac5e-f503e20d4e10",
            "source": "s28",
            "source_arrow_fill": "hollow",
            "source_arrow_shape": "triangle",
            "target": "bind_BAR_C8A",
            "target_arrow_shape": "triangle"
           }
          },
          {
           "data": {
            "arrowhead": "normal",
            "id": "87d226cf-03ed-4268-b615-b865e147e9ed",
            "source": "s28",
            "source_arrow_fill": "hollow",
            "source_arrow_shape": "triangle",
            "target": "bind_C8A_C3pro_to_C8AC3pro",
            "target_arrow_shape": "triangle"
           }
          },
          {
           "data": {
            "arrowhead": "normal",
            "id": "aa969051-cd55-47d4-9e43-5eaa7d569c88",
            "source": "s29",
            "source_arrow_fill": "hollow",
            "source_arrow_shape": "triangle",
            "target": "bind_C8A_BidU_to_C8ABidU",
            "target_arrow_shape": "triangle"
           }
          },
          {
           "data": {
            "arrowhead": "normal",
            "id": "d3e0d555-9af5-4861-b103-bf35b32b9f45",
            "source": "s29",
            "source_arrow_fill": "filled",
            "source_arrow_shape": "none",
            "target": "catalyze_C8ABidU_to_C8A_BidT",
            "target_arrow_shape": "triangle"
           }
          },
          {
           "data": {
            "arrowhead": "normal",
            "id": "9df73fb3-712a-4805-bb9c-dfe30810f3bb",
            "source": "s30",
            "source_arrow_fill": "hollow",
            "source_arrow_shape": "triangle",
            "target": "bind_BAR_C8A",
            "target_arrow_shape": "triangle"
           }
          },
          {
           "data": {
            "arrowhead": "normal",
            "id": "103de922-a28e-49d5-b7dc-a32771f42410",
            "source": "s31",
            "source_arrow_fill": "hollow",
            "source_arrow_shape": "triangle",
            "target": "bind_C8A_C3pro_to_C8AC3pro",
            "target_arrow_shape": "triangle"
           }
          },
          {
           "data": {
            "arrowhead": "normal",
            "id": "aae82240-d415-408a-a7b6-4fb729312f39",
            "source": "s31",
            "source_arrow_fill": "filled",
            "source_arrow_shape": "none",
            "target": "catalyze_C8AC3pro_to_C8A_C3A",
            "target_arrow_shape": "triangle"
           }
          },
          {
           "data": {
            "arrowhead": "normal",
            "id": "75586f46-bf4f-4d0f-95cf-3aeb1ce60039",
            "source": "s32",
            "source_arrow_fill": "hollow",
            "source_arrow_shape": "triangle",
            "target": "equilibrate_BidT_to_BidM",
            "target_arrow_shape": "triangle"
           }
          },
          {
           "data": {
            "arrowhead": "normal",
            "id": "66e4860c-9e19-40fc-9961-c65d98921b68",
            "source": "s33",
            "source_arrow_fill": "hollow",
            "source_arrow_shape": "triangle",
            "target": "bind_XIAP_C3A_to_XIAPC3A",
            "target_arrow_shape": "triangle"
           }
          },
          {
           "data": {
            "arrowhead": "normal",
            "id": "b4701556-d286-4d8d-ac2b-7dc2f518f6c9",
            "source": "s33",
            "source_arrow_fill": "hollow",
            "source_arrow_shape": "triangle",
            "target": "bind_C3A_PARPU_to_C3APARPU",
            "target_arrow_shape": "triangle"
           }
          },
          {
           "data": {
            "arrowhead": "normal",
            "id": "33fbd89a-7cb6-48ab-b591-1afddf2a7c70",
            "source": "s33",
            "source_arrow_fill": "hollow",
            "source_arrow_shape": "triangle",
            "target": "bind_C3A_C6pro_to_C3AC6pro",
            "target_arrow_shape": "triangle"
           }
          },
          {
           "data": {
            "arrowhead": "normal",
            "id": "e758c6ef-0584-4fc8-959f-73af66704b73",
            "source": "s34",
            "source_arrow_fill": "hollow",
            "source_arrow_shape": "triangle",
            "target": "bind_XIAP_C3A_to_XIAPC3A",
            "target_arrow_shape": "triangle"
           }
          },
          {
           "data": {
            "arrowhead": "normal",
            "id": "1ebeed16-9bc3-4230-bf03-ebb974bcedfd",
            "source": "s34",
            "source_arrow_fill": "filled",
            "source_arrow_shape": "none",
            "target": "catalyze_XIAPC3A_to_XIAP_C3ub",
            "target_arrow_shape": "triangle"
           }
          },
          {
           "data": {
            "arrowhead": "normal",
            "id": "31f67a97-4f57-4089-aec2-1b0663330f8b",
            "source": "s35",
            "source_arrow_fill": "hollow",
            "source_arrow_shape": "triangle",
            "target": "bind_C3A_PARPU_to_C3APARPU",
            "target_arrow_shape": "triangle"
           }
          },
          {
           "data": {
            "arrowhead": "normal",
            "id": "4a5a35e4-f46b-4c23-8862-da92e080f316",
            "source": "s35",
            "source_arrow_fill": "filled",
            "source_arrow_shape": "none",
            "target": "catalyze_C3APARPU_to_C3A_PARPC",
            "target_arrow_shape": "triangle"
           }
          },
          {
           "data": {
            "arrowhead": "normal",
            "id": "9fbb2cb9-00de-46ee-af6d-9b9f2b190918",
            "source": "s36",
            "source_arrow_fill": "hollow",
            "source_arrow_shape": "triangle",
            "target": "bind_C3A_C6pro_to_C3AC6pro",
            "target_arrow_shape": "triangle"
           }
          },
          {
           "data": {
            "arrowhead": "normal",
            "id": "1e33cbf4-3e5b-4689-b6b5-79232f7a7417",
            "source": "s36",
            "source_arrow_fill": "filled",
            "source_arrow_shape": "none",
            "target": "catalyze_C3AC6pro_to_C3A_C6A",
            "target_arrow_shape": "triangle"
           }
          },
          {
           "data": {
            "arrowhead": "normal",
            "id": "9a036fcd-3c0e-4f36-a840-cb4791edccc1",
            "source": "s37",
            "source_arrow_fill": "hollow",
            "source_arrow_shape": "triangle",
            "target": "equilibrate_BidT_to_BidM",
            "target_arrow_shape": "triangle"
           }
          },
          {
           "data": {
            "arrowhead": "normal",
            "id": "00a28cee-8b9b-416c-94c6-ecfba5d44edd",
            "source": "s37",
            "source_arrow_fill": "hollow",
            "source_arrow_shape": "triangle",
            "target": "bind_BidM_BaxC_to_BidMBaxC",
            "target_arrow_shape": "triangle"
           }
          },
          {
           "data": {
            "arrowhead": "normal",
            "id": "d078927e-910c-449d-9395-ba81a5940827",
            "source": "s37",
            "source_arrow_fill": "hollow",
            "source_arrow_shape": "triangle",
            "target": "bind_BidM_BaxM_to_BidMBaxM",
            "target_arrow_shape": "triangle"
           }
          },
          {
           "data": {
            "arrowhead": "normal",
            "id": "21fd01d9-dd24-4f98-bfd9-c122997a9558",
            "source": "s37",
            "source_arrow_fill": "hollow",
            "source_arrow_shape": "triangle",
            "target": "bind_BidM_BakM_to_BidMBakM",
            "target_arrow_shape": "triangle"
           }
          },
          {
           "data": {
            "arrowhead": "normal",
            "id": "325763fc-8898-4a9f-b472-349a1e64253b",
            "source": "s37",
            "source_arrow_fill": "hollow",
            "source_arrow_shape": "triangle",
            "target": "bind_BidM_Bcl2M",
            "target_arrow_shape": "triangle"
           }
          },
          {
           "data": {
            "arrowhead": "normal",
            "id": "6e2011d2-15bc-4136-a8cb-869c5c013c3f",
            "source": "s37",
            "source_arrow_fill": "hollow",
            "source_arrow_shape": "triangle",
            "target": "bind_BidM_BclxLM",
            "target_arrow_shape": "triangle"
           }
          },
          {
           "data": {
            "arrowhead": "normal",
            "id": "68740f0f-7ad1-49f2-9fa6-83be37590e4e",
            "source": "s37",
            "source_arrow_fill": "hollow",
            "source_arrow_shape": "triangle",
            "target": "bind_BidM_Mcl1M",
            "target_arrow_shape": "triangle"
           }
          },
          {
           "data": {
            "arrowhead": "normal",
            "id": "11634ea0-efc2-4067-8b95-0bf107210d6e",
            "source": "s40",
            "source_arrow_fill": "hollow",
            "source_arrow_shape": "triangle",
            "target": "bind_C6A_C8pro_to_C6AC8pro",
            "target_arrow_shape": "triangle"
           }
          },
          {
           "data": {
            "arrowhead": "normal",
            "id": "4e7f67ae-2136-4475-8c5f-ef8880930170",
            "source": "s41",
            "source_arrow_fill": "hollow",
            "source_arrow_shape": "triangle",
            "target": "bind_BidM_BaxC_to_BidMBaxC",
            "target_arrow_shape": "triangle"
           }
          },
          {
           "data": {
            "arrowhead": "normal",
            "id": "4da92831-6815-4db2-81b5-7889df0982b7",
            "source": "s41",
            "source_arrow_fill": "filled",
            "source_arrow_shape": "none",
            "target": "catalyze_BidMBaxC_to_BidM_BaxM",
            "target_arrow_shape": "triangle"
           }
          },
          {
           "data": {
            "arrowhead": "normal",
            "id": "ad42ac1d-0648-440c-9002-1245c054d3f0",
            "source": "s42",
            "source_arrow_fill": "hollow",
            "source_arrow_shape": "triangle",
            "target": "bind_BidM_BakM_to_BidMBakM",
            "target_arrow_shape": "triangle"
           }
          },
          {
           "data": {
            "arrowhead": "normal",
            "id": "516917af-d43a-4ae4-8899-f46fa73294a5",
            "source": "s42",
            "source_arrow_fill": "filled",
            "source_arrow_shape": "none",
            "target": "catalyze_BidMBakM_to_BidM_BakA",
            "target_arrow_shape": "triangle"
           }
          },
          {
           "data": {
            "arrowhead": "normal",
            "id": "4e74e22f-6405-4bb6-a9eb-892fd426ce2c",
            "source": "s43",
            "source_arrow_fill": "hollow",
            "source_arrow_shape": "triangle",
            "target": "bind_BidM_Bcl2M",
            "target_arrow_shape": "triangle"
           }
          },
          {
           "data": {
            "arrowhead": "normal",
            "id": "81a500a3-b917-425f-ae80-73b743ac2f41",
            "source": "s44",
            "source_arrow_fill": "hollow",
            "source_arrow_shape": "triangle",
            "target": "bind_BidM_BclxLM",
            "target_arrow_shape": "triangle"
           }
          },
          {
           "data": {
            "arrowhead": "normal",
            "id": "798c6a62-cc40-4242-871e-010e3b6e49ba",
            "source": "s45",
            "source_arrow_fill": "hollow",
            "source_arrow_shape": "triangle",
            "target": "bind_BidM_Mcl1M",
            "target_arrow_shape": "triangle"
           }
          },
          {
           "data": {
            "arrowhead": "normal",
            "id": "33c2fdab-ea7e-4f86-b715-ad60454fcb83",
            "source": "s46",
            "source_arrow_fill": "hollow",
            "source_arrow_shape": "triangle",
            "target": "bind_C6A_C8pro_to_C6AC8pro",
            "target_arrow_shape": "triangle"
           }
          },
          {
           "data": {
            "arrowhead": "normal",
            "id": "eb6b2927-3cff-4e31-9a10-17e47901174d",
            "source": "s46",
            "source_arrow_fill": "filled",
            "source_arrow_shape": "none",
            "target": "catalyze_C6AC8pro_to_C6A_C8A",
            "target_arrow_shape": "triangle"
           }
          },
          {
           "data": {
            "arrowhead": "normal",
            "id": "9c64b518-2283-4ff4-9e64-fdc3b007bb34",
            "source": "s47",
            "source_arrow_fill": "hollow",
            "source_arrow_shape": "triangle",
            "target": "bind_BidM_BaxM_to_BidMBaxM",
            "target_arrow_shape": "triangle"
           }
          },
          {
           "data": {
            "arrowhead": "normal",
            "id": "6e1c0ce2-a27d-4a5f-a9af-7c051738d902",
            "source": "s47",
            "source_arrow_fill": "hollow",
            "source_arrow_shape": "triangle",
            "target": "bind_BaxA_BaxM_to_BaxABaxM",
            "target_arrow_shape": "triangle"
           }
          },
          {
           "data": {
            "arrowhead": "normal",
            "id": "8dc9403c-e616-4428-9090-96b53a09c7c1",
            "source": "s48",
            "source_arrow_fill": "hollow",
            "source_arrow_shape": "triangle",
            "target": "bind_BakA_BakM_to_BakABakM",
            "target_arrow_shape": "triangle"
           }
          },
          {
           "data": {
            "arrowhead": "normal",
            "id": "ad3319d1-7b35-404b-badf-0972af0b9e9b",
            "source": "s48",
            "source_arrow_fill": "hollow",
            "source_arrow_shape": "triangle",
            "target": "bind_BakA_BclxLM",
            "target_arrow_shape": "triangle"
           }
          },
          {
           "data": {
            "arrowhead": "normal",
            "id": "8193db7c-5668-4c42-8fca-74387dcf8af7",
            "source": "s48",
            "source_arrow_fill": "hollow",
            "source_arrow_shape": "triangle",
            "target": "bind_BakA_Mcl1M",
            "target_arrow_shape": "triangle"
           }
          },
          {
           "data": {
            "arrowhead": "normal",
            "id": "11ac760c-22cb-48dd-947a-83a281c6656d",
            "source": "s48",
            "source_arrow_fill": "hollow",
            "source_arrow_shape": "triangle",
            "target": "assemble_pore_sequential_Bak_2",
            "target_arrow_shape": "triangle"
           }
          },
          {
           "data": {
            "arrowhead": "normal",
            "id": "e8bb2cf7-778b-4b14-be3c-0ce24c530748",
            "source": "s48",
            "source_arrow_fill": "hollow",
            "source_arrow_shape": "triangle",
            "target": "assemble_pore_sequential_Bak_3",
            "target_arrow_shape": "triangle"
           }
          },
          {
           "data": {
            "arrowhead": "normal",
            "id": "ad19ca37-c9f3-4d43-8962-3ef3172f3987",
            "source": "s48",
            "source_arrow_fill": "hollow",
            "source_arrow_shape": "triangle",
            "target": "assemble_pore_sequential_Bak_4",
            "target_arrow_shape": "triangle"
           }
          },
          {
           "data": {
            "arrowhead": "normal",
            "id": "2084180e-6625-4f9d-b2cb-4db1b77a9d8c",
            "source": "s49",
            "source_arrow_fill": "hollow",
            "source_arrow_shape": "triangle",
            "target": "bind_BidM_BaxM_to_BidMBaxM",
            "target_arrow_shape": "triangle"
           }
          },
          {
           "data": {
            "arrowhead": "normal",
            "id": "3f4419f4-e1e9-446f-b8a7-3981238d144e",
            "source": "s49",
            "source_arrow_fill": "filled",
            "source_arrow_shape": "none",
            "target": "catalyze_BidMBaxM_to_BidM_BaxA",
            "target_arrow_shape": "triangle"
           }
          },
          {
           "data": {
            "arrowhead": "normal",
            "id": "8482e296-04ba-4c00-996e-16c589dd0520",
            "source": "s50",
            "source_arrow_fill": "hollow",
            "source_arrow_shape": "triangle",
            "target": "bind_BakA_BakM_to_BakABakM",
            "target_arrow_shape": "triangle"
           }
          },
          {
           "data": {
            "arrowhead": "normal",
            "id": "0b5a1b21-4feb-4c16-ace7-03b4186fcc04",
            "source": "s50",
            "source_arrow_fill": "filled",
            "source_arrow_shape": "none",
            "target": "catalyze_BakABakM_to_BakA_BakA",
            "target_arrow_shape": "triangle"
           }
          },
          {
           "data": {
            "arrowhead": "normal",
            "id": "c028782c-9a3f-49ed-b283-dc41dbd0bdb1",
            "source": "s51",
            "source_arrow_fill": "hollow",
            "source_arrow_shape": "triangle",
            "target": "bind_BakA_BclxLM",
            "target_arrow_shape": "triangle"
           }
          },
          {
           "data": {
            "arrowhead": "normal",
            "id": "3dbc55b8-5f40-4147-8b65-a84a4be61f00",
            "source": "s52",
            "source_arrow_fill": "hollow",
            "source_arrow_shape": "triangle",
            "target": "bind_BakA_Mcl1M",
            "target_arrow_shape": "triangle"
           }
          },
          {
           "data": {
            "arrowhead": "normal",
            "id": "a0648855-6b9b-4c2f-a864-9011d1eae2c1",
            "source": "s53",
            "source_arrow_fill": "hollow",
            "source_arrow_shape": "triangle",
            "target": "assemble_pore_sequential_Bak_2",
            "target_arrow_shape": "triangle"
           }
          },
          {
           "data": {
            "arrowhead": "normal",
            "id": "06edf5bf-4bb0-49a0-b0b4-9d18468df354",
            "source": "s53",
            "source_arrow_fill": "hollow",
            "source_arrow_shape": "triangle",
            "target": "assemble_pore_sequential_Bak_3",
            "target_arrow_shape": "triangle"
           }
          },
          {
           "data": {
            "arrowhead": "normal",
            "id": "949a752a-00c1-4faa-96a1-b93c77b83a43",
            "source": "s54",
            "source_arrow_fill": "hollow",
            "source_arrow_shape": "triangle",
            "target": "bind_BaxA_BaxM_to_BaxABaxM",
            "target_arrow_shape": "triangle"
           }
          },
          {
           "data": {
            "arrowhead": "normal",
            "id": "c0779062-9e07-4e4b-96fe-def4660dcd3a",
            "source": "s54",
            "source_arrow_fill": "hollow",
            "source_arrow_shape": "triangle",
            "target": "bind_BaxA_Bcl2",
            "target_arrow_shape": "triangle"
           }
          },
          {
           "data": {
            "arrowhead": "normal",
            "id": "879ea12f-dc6a-4066-8412-09ea4ee05c95",
            "source": "s54",
            "source_arrow_fill": "hollow",
            "source_arrow_shape": "triangle",
            "target": "bind_BaxA_BclxLM",
            "target_arrow_shape": "triangle"
           }
          },
          {
           "data": {
            "arrowhead": "normal",
            "id": "b1fcbd92-2e91-4fe5-9031-f7207235667b",
            "source": "s54",
            "source_arrow_fill": "hollow",
            "source_arrow_shape": "triangle",
            "target": "assemble_pore_sequential_Bax_2",
            "target_arrow_shape": "triangle"
           }
          },
          {
           "data": {
            "arrowhead": "normal",
            "id": "141cdfef-e0c7-4f3e-be95-1b4e6fe140a8",
            "source": "s54",
            "source_arrow_fill": "hollow",
            "source_arrow_shape": "triangle",
            "target": "assemble_pore_sequential_Bax_3",
            "target_arrow_shape": "triangle"
           }
          },
          {
           "data": {
            "arrowhead": "normal",
            "id": "1cca39fd-514f-436e-b00f-b9ea7177a0e7",
            "source": "s54",
            "source_arrow_fill": "hollow",
            "source_arrow_shape": "triangle",
            "target": "assemble_pore_sequential_Bax_4",
            "target_arrow_shape": "triangle"
           }
          },
          {
           "data": {
            "arrowhead": "normal",
            "id": "3463b82f-4986-4374-8c23-47127e0b86c7",
            "source": "s55",
            "source_arrow_fill": "hollow",
            "source_arrow_shape": "triangle",
            "target": "assemble_pore_sequential_Bak_3",
            "target_arrow_shape": "triangle"
           }
          },
          {
           "data": {
            "arrowhead": "normal",
            "id": "2f5b59ec-01fa-41bf-bd91-09b2c00d41c4",
            "source": "s55",
            "source_arrow_fill": "hollow",
            "source_arrow_shape": "triangle",
            "target": "assemble_pore_sequential_Bak_4",
            "target_arrow_shape": "triangle"
           }
          },
          {
           "data": {
            "arrowhead": "normal",
            "id": "91ae8257-15c0-4c31-92a2-7addd693028c",
            "source": "s56",
            "source_arrow_fill": "hollow",
            "source_arrow_shape": "triangle",
            "target": "bind_BaxA_BaxM_to_BaxABaxM",
            "target_arrow_shape": "triangle"
           }
          },
          {
           "data": {
            "arrowhead": "normal",
            "id": "a77e810f-0d17-4b9a-b57b-ab02ba6f27ef",
            "source": "s56",
            "source_arrow_fill": "filled",
            "source_arrow_shape": "none",
            "target": "catalyze_BaxABaxM_to_BaxA_BaxA",
            "target_arrow_shape": "triangle"
           }
          },
          {
           "data": {
            "arrowhead": "normal",
            "id": "47f4da13-6a26-46cb-8480-2c4e08437b2a",
            "source": "s57",
            "source_arrow_fill": "hollow",
            "source_arrow_shape": "triangle",
            "target": "bind_BaxA_Bcl2",
            "target_arrow_shape": "triangle"
           }
          },
          {
           "data": {
            "arrowhead": "normal",
            "id": "776337f0-c952-4dcf-a42c-1f93f3784167",
            "source": "s58",
            "source_arrow_fill": "hollow",
            "source_arrow_shape": "triangle",
            "target": "bind_BaxA_BclxLM",
            "target_arrow_shape": "triangle"
           }
          },
          {
           "data": {
            "arrowhead": "normal",
            "id": "8231554f-4a76-4ad7-b6f3-9894520a29dd",
            "source": "s59",
            "source_arrow_fill": "hollow",
            "source_arrow_shape": "triangle",
            "target": "assemble_pore_sequential_Bax_2",
            "target_arrow_shape": "triangle"
           }
          },
          {
           "data": {
            "arrowhead": "normal",
            "id": "2f8d3f5c-9202-4984-b6b9-761827235ea7",
            "source": "s59",
            "source_arrow_fill": "hollow",
            "source_arrow_shape": "triangle",
            "target": "assemble_pore_sequential_Bax_3",
            "target_arrow_shape": "triangle"
           }
          },
          {
           "data": {
            "arrowhead": "normal",
            "id": "f3413bcf-de22-40e6-882b-ff695ac7379e",
            "source": "s60",
            "source_arrow_fill": "hollow",
            "source_arrow_shape": "triangle",
            "target": "assemble_pore_sequential_Bak_4",
            "target_arrow_shape": "triangle"
           }
          },
          {
           "data": {
            "arrowhead": "normal",
            "id": "09dd024e-cc6d-4e6e-91e8-36b65aed1c69",
            "source": "s60",
            "source_arrow_fill": "hollow",
            "source_arrow_shape": "triangle",
            "target": "pore_transport_complex_BakA_4_CytoCM",
            "target_arrow_shape": "triangle"
           }
          },
          {
           "data": {
            "arrowhead": "normal",
            "id": "f5c94ea8-3019-4265-9f60-d3379a476ab5",
            "source": "s60",
            "source_arrow_fill": "hollow",
            "source_arrow_shape": "triangle",
            "target": "pore_transport_complex_BakA_4_SmacM",
            "target_arrow_shape": "triangle"
           }
          },
          {
           "data": {
            "arrowhead": "normal",
            "id": "63a17826-05d3-431a-af7f-5841373c6198",
            "source": "s61",
            "source_arrow_fill": "hollow",
            "source_arrow_shape": "triangle",
            "target": "assemble_pore_sequential_Bax_3",
            "target_arrow_shape": "triangle"
           }
          },
          {
           "data": {
            "arrowhead": "normal",
            "id": "7bca8a9f-f3cc-4b50-aaa9-ad78b496d9b8",
            "source": "s61",
            "source_arrow_fill": "hollow",
            "source_arrow_shape": "triangle",
            "target": "assemble_pore_sequential_Bax_4",
            "target_arrow_shape": "triangle"
           }
          },
          {
           "data": {
            "arrowhead": "normal",
            "id": "0e025eae-55b5-450d-b84d-16495f65061c",
            "source": "s62",
            "source_arrow_fill": "hollow",
            "source_arrow_shape": "triangle",
            "target": "pore_transport_complex_BakA_4_CytoCM",
            "target_arrow_shape": "triangle"
           }
          },
          {
           "data": {
            "arrowhead": "normal",
            "id": "007251c3-e0c6-47f6-827b-d747ef18c584",
            "source": "s62",
            "source_arrow_fill": "filled",
            "source_arrow_shape": "none",
            "target": "pore_transport_dissociate_BakA_4_CytoCC",
            "target_arrow_shape": "triangle"
           }
          },
          {
           "data": {
            "arrowhead": "normal",
            "id": "6eb3d69c-5732-46d3-ac17-cda7ade1f069",
            "source": "s63",
            "source_arrow_fill": "hollow",
            "source_arrow_shape": "triangle",
            "target": "pore_transport_complex_BakA_4_SmacM",
            "target_arrow_shape": "triangle"
           }
          },
          {
           "data": {
            "arrowhead": "normal",
            "id": "ecc28d99-5abc-4563-9951-4319391d9ce0",
            "source": "s63",
            "source_arrow_fill": "filled",
            "source_arrow_shape": "none",
            "target": "pore_transport_dissociate_BakA_4_SmacC",
            "target_arrow_shape": "triangle"
           }
          },
          {
           "data": {
            "arrowhead": "normal",
            "id": "eadfbb1d-d5ec-46c7-ad05-0f9295d83d99",
            "source": "s64",
            "source_arrow_fill": "hollow",
            "source_arrow_shape": "triangle",
            "target": "assemble_pore_sequential_Bax_4",
            "target_arrow_shape": "triangle"
           }
          },
          {
           "data": {
            "arrowhead": "normal",
            "id": "75f94ee7-9b9d-4819-89a4-79f765b13b9f",
            "source": "s64",
            "source_arrow_fill": "hollow",
            "source_arrow_shape": "triangle",
            "target": "pore_transport_complex_BaxA_4_CytoCM",
            "target_arrow_shape": "triangle"
           }
          },
          {
           "data": {
            "arrowhead": "normal",
            "id": "1c777b92-97c7-4198-9af8-dc6f9cf59b3f",
            "source": "s64",
            "source_arrow_fill": "hollow",
            "source_arrow_shape": "triangle",
            "target": "pore_transport_complex_BaxA_4_SmacM",
            "target_arrow_shape": "triangle"
           }
          },
          {
           "data": {
            "arrowhead": "normal",
            "id": "b1a6823e-9e9e-4d89-aef4-515b393728e6",
            "source": "s65",
            "source_arrow_fill": "hollow",
            "source_arrow_shape": "triangle",
            "target": "equilibrate_CytoCC_to_CytoCA",
            "target_arrow_shape": "triangle"
           }
          },
          {
           "data": {
            "arrowhead": "normal",
            "id": "6365c3ac-77a1-40b8-ab68-a12a55230b5b",
            "source": "s66",
            "source_arrow_fill": "hollow",
            "source_arrow_shape": "triangle",
            "target": "equilibrate_SmacC_to_SmacA",
            "target_arrow_shape": "triangle"
           }
          },
          {
           "data": {
            "arrowhead": "normal",
            "id": "395ce4eb-28fe-4dc1-980f-b2a31d32a68c",
            "source": "s67",
            "source_arrow_fill": "hollow",
            "source_arrow_shape": "triangle",
            "target": "equilibrate_SmacC_to_SmacA",
            "target_arrow_shape": "triangle"
           }
          },
          {
           "data": {
            "arrowhead": "normal",
            "id": "65264220-1ae5-426d-9b88-86b4bb1ba45e",
            "source": "s67",
            "source_arrow_fill": "hollow",
            "source_arrow_shape": "triangle",
            "target": "bind_SmacA_XIAP",
            "target_arrow_shape": "triangle"
           }
          },
          {
           "data": {
            "arrowhead": "normal",
            "id": "6d8b833f-dc56-483c-af48-c8b468b5e047",
            "source": "s68",
            "source_arrow_fill": "hollow",
            "source_arrow_shape": "triangle",
            "target": "equilibrate_CytoCC_to_CytoCA",
            "target_arrow_shape": "triangle"
           }
          },
          {
           "data": {
            "arrowhead": "normal",
            "id": "bca0d860-ef9d-4b54-a802-13b6780dec8d",
            "source": "s68",
            "source_arrow_fill": "hollow",
            "source_arrow_shape": "triangle",
            "target": "bind_CytoCA_ApafI_to_CytoCAApafI",
            "target_arrow_shape": "triangle"
           }
          },
          {
           "data": {
            "arrowhead": "normal",
            "id": "ed1e6398-d23c-449b-b9ec-aad52a107f0e",
            "source": "s69",
            "source_arrow_fill": "hollow",
            "source_arrow_shape": "triangle",
            "target": "pore_transport_complex_BaxA_4_CytoCM",
            "target_arrow_shape": "triangle"
           }
          },
          {
           "data": {
            "arrowhead": "normal",
            "id": "f88bf18f-01ff-42aa-9738-2688b9de59e1",
            "source": "s69",
            "source_arrow_fill": "filled",
            "source_arrow_shape": "none",
            "target": "pore_transport_dissociate_BaxA_4_CytoCC",
            "target_arrow_shape": "triangle"
           }
          },
          {
           "data": {
            "arrowhead": "normal",
            "id": "f19d5b4b-332d-4772-82d8-7413fa4cd5d3",
            "source": "s70",
            "source_arrow_fill": "hollow",
            "source_arrow_shape": "triangle",
            "target": "pore_transport_complex_BaxA_4_SmacM",
            "target_arrow_shape": "triangle"
           }
          },
          {
           "data": {
            "arrowhead": "normal",
            "id": "fef2cd57-4cbd-455a-a210-b206a338c9cc",
            "source": "s70",
            "source_arrow_fill": "filled",
            "source_arrow_shape": "none",
            "target": "pore_transport_dissociate_BaxA_4_SmacC",
            "target_arrow_shape": "triangle"
           }
          },
          {
           "data": {
            "arrowhead": "normal",
            "id": "1aaf4402-2fdf-470e-99cc-e203326f01a2",
            "source": "s71",
            "source_arrow_fill": "hollow",
            "source_arrow_shape": "triangle",
            "target": "bind_CytoCA_ApafI_to_CytoCAApafI",
            "target_arrow_shape": "triangle"
           }
          },
          {
           "data": {
            "arrowhead": "normal",
            "id": "51772f4c-0729-4705-921c-a29c42812bf9",
            "source": "s71",
            "source_arrow_fill": "filled",
            "source_arrow_shape": "none",
            "target": "catalyze_CytoCAApafI_to_CytoCA_ApafA",
            "target_arrow_shape": "triangle"
           }
          },
          {
           "data": {
            "arrowhead": "normal",
            "id": "0c009ce9-0be0-4952-8f0e-614a7debe954",
            "source": "s72",
            "source_arrow_fill": "hollow",
            "source_arrow_shape": "triangle",
            "target": "bind_SmacA_XIAP",
            "target_arrow_shape": "triangle"
           }
          },
          {
           "data": {
            "arrowhead": "normal",
            "id": "b6a6efe2-a157-4ecd-88d6-ed0f3a221aa4",
            "source": "s73",
            "source_arrow_fill": "hollow",
            "source_arrow_shape": "triangle",
            "target": "convert_ApafA_C9_to_Apop",
            "target_arrow_shape": "triangle"
           }
          },
          {
           "data": {
            "arrowhead": "normal",
            "id": "f94b36c1-dd15-4adc-8729-54608ea79301",
            "source": "s74",
            "source_arrow_fill": "hollow",
            "source_arrow_shape": "triangle",
            "target": "convert_ApafA_C9_to_Apop",
            "target_arrow_shape": "triangle"
           }
          },
          {
           "data": {
            "arrowhead": "normal",
            "id": "c2fe1766-b3b6-4f97-be8c-28b9921d440c",
            "source": "s74",
            "source_arrow_fill": "hollow",
            "source_arrow_shape": "triangle",
            "target": "bind_Apop_C3pro_to_ApopC3pro",
            "target_arrow_shape": "triangle"
           }
          },
          {
           "data": {
            "arrowhead": "normal",
            "id": "2545ec4b-59e7-4af9-85fb-6744514533d4",
            "source": "s74",
            "source_arrow_fill": "hollow",
            "source_arrow_shape": "triangle",
            "target": "bind_Apop_XIAP",
            "target_arrow_shape": "triangle"
           }
          },
          {
           "data": {
            "arrowhead": "normal",
            "id": "a977721b-813a-4a89-a78e-4a52e484e5b4",
            "source": "s75",
            "source_arrow_fill": "hollow",
            "source_arrow_shape": "triangle",
            "target": "bind_Apop_C3pro_to_ApopC3pro",
            "target_arrow_shape": "triangle"
           }
          },
          {
           "data": {
            "arrowhead": "normal",
            "id": "fc5c1530-527f-4dc1-94eb-fcc92e7eb9b9",
            "source": "s75",
            "source_arrow_fill": "filled",
            "source_arrow_shape": "none",
            "target": "catalyze_ApopC3pro_to_Apop_C3A",
            "target_arrow_shape": "triangle"
           }
          },
          {
           "data": {
            "arrowhead": "normal",
            "id": "c9334f1b-7e81-4b06-a194-3107dbc497ab",
            "source": "s76",
            "source_arrow_fill": "hollow",
            "source_arrow_shape": "triangle",
            "target": "bind_Apop_XIAP",
            "target_arrow_shape": "triangle"
           }
          },
          {
           "data": {
            "arrowhead": "normal",
            "id": "12779b61-b1e5-48dc-a6f7-98de26108beb",
            "source": "convert_LR_to_DISC",
            "source_arrow_fill": "filled",
            "source_arrow_shape": "none",
            "target": "s25",
            "target_arrow_shape": "triangle"
           }
          },
          {
           "data": {
            "arrowhead": "normal",
            "id": "d32aa0dc-246b-4cb9-a65a-5477badfeb52",
            "source": "catalyze_DISCC8pro_to_DISC_C8A",
            "source_arrow_fill": "filled",
            "source_arrow_shape": "none",
            "target": "s25",
            "target_arrow_shape": "triangle"
           }
          },
          {
           "data": {
            "arrowhead": "normal",
            "id": "d92820b2-3de3-4f31-bf29-ab64d9722483",
            "source": "catalyze_DISCC8pro_to_DISC_C8A",
            "source_arrow_fill": "filled",
            "source_arrow_shape": "none",
            "target": "s28",
            "target_arrow_shape": "triangle"
           }
          },
          {
           "data": {
            "arrowhead": "normal",
            "id": "828cfaff-5e16-4993-8053-0737d7340f6f",
            "source": "catalyze_C8ABidU_to_C8A_BidT",
            "source_arrow_fill": "filled",
            "source_arrow_shape": "none",
            "target": "s32",
            "target_arrow_shape": "triangle"
           }
          },
          {
           "data": {
            "arrowhead": "normal",
            "id": "c28fed71-0387-4298-ad95-5e6a85a9ba31",
            "source": "catalyze_C8ABidU_to_C8A_BidT",
            "source_arrow_fill": "filled",
            "source_arrow_shape": "none",
            "target": "s28",
            "target_arrow_shape": "triangle"
           }
          },
          {
           "data": {
            "arrowhead": "normal",
            "id": "faed7d63-ef60-48fc-a482-41884c707e82",
            "source": "catalyze_CytoCAApafI_to_CytoCA_ApafA",
            "source_arrow_fill": "filled",
            "source_arrow_shape": "none",
            "target": "s73",
            "target_arrow_shape": "triangle"
           }
          },
          {
           "data": {
            "arrowhead": "normal",
            "id": "ba6ac52f-ad54-403a-b883-88bc41e80911",
            "source": "catalyze_CytoCAApafI_to_CytoCA_ApafA",
            "source_arrow_fill": "filled",
            "source_arrow_shape": "none",
            "target": "s68",
            "target_arrow_shape": "triangle"
           }
          },
          {
           "data": {
            "arrowhead": "normal",
            "id": "48762b10-128b-4f47-be68-0acf9badc9fd",
            "source": "catalyze_ApopC3pro_to_Apop_C3A",
            "source_arrow_fill": "filled",
            "source_arrow_shape": "none",
            "target": "s33",
            "target_arrow_shape": "triangle"
           }
          },
          {
           "data": {
            "arrowhead": "normal",
            "id": "4e5a0838-e6c1-4da1-bbde-5e806aa58343",
            "source": "catalyze_ApopC3pro_to_Apop_C3A",
            "source_arrow_fill": "filled",
            "source_arrow_shape": "none",
            "target": "s74",
            "target_arrow_shape": "triangle"
           }
          },
          {
           "data": {
            "arrowhead": "normal",
            "id": "7d37007f-05b4-4699-a4a3-4349a115c992",
            "source": "catalyze_C8AC3pro_to_C8A_C3A",
            "source_arrow_fill": "filled",
            "source_arrow_shape": "none",
            "target": "s33",
            "target_arrow_shape": "triangle"
           }
          },
          {
           "data": {
            "arrowhead": "normal",
            "id": "3c65417b-13b9-4bea-b70a-45b5bdced9ff",
            "source": "catalyze_C8AC3pro_to_C8A_C3A",
            "source_arrow_fill": "filled",
            "source_arrow_shape": "none",
            "target": "s28",
            "target_arrow_shape": "triangle"
           }
          },
          {
           "data": {
            "arrowhead": "normal",
            "id": "0835bf41-3fa5-480b-8091-db9dbc6fa632",
            "source": "catalyze_XIAPC3A_to_XIAP_C3ub",
            "source_arrow_fill": "filled",
            "source_arrow_shape": "none",
            "target": "s10",
            "target_arrow_shape": "triangle"
           }
          },
          {
           "data": {
            "arrowhead": "normal",
            "id": "0ed7f746-65e9-4b8e-806f-23ecd101772d",
            "source": "catalyze_XIAPC3A_to_XIAP_C3ub",
            "source_arrow_fill": "filled",
            "source_arrow_shape": "none",
            "target": "s38",
            "target_arrow_shape": "triangle"
           }
          },
          {
           "data": {
            "arrowhead": "normal",
            "id": "a1cd5ce5-74da-4972-83e4-50c46df0a028",
            "source": "catalyze_C3APARPU_to_C3A_PARPC",
            "source_arrow_fill": "filled",
            "source_arrow_shape": "none",
            "target": "s33",
            "target_arrow_shape": "triangle"
           }
          },
          {
           "data": {
            "arrowhead": "normal",
            "id": "6c100383-7715-42b0-b3d4-cc39152ca34c",
            "source": "catalyze_C3APARPU_to_C3A_PARPC",
            "source_arrow_fill": "filled",
            "source_arrow_shape": "none",
            "target": "s39",
            "target_arrow_shape": "triangle"
           }
          },
          {
           "data": {
            "arrowhead": "normal",
            "id": "ff26effe-6a61-44c7-802a-dd5988bd062c",
            "source": "catalyze_C3AC6pro_to_C3A_C6A",
            "source_arrow_fill": "filled",
            "source_arrow_shape": "none",
            "target": "s40",
            "target_arrow_shape": "triangle"
           }
          },
          {
           "data": {
            "arrowhead": "normal",
            "id": "bd1598bd-acd6-4a0f-9865-d2e0fe82722e",
            "source": "catalyze_C3AC6pro_to_C3A_C6A",
            "source_arrow_fill": "filled",
            "source_arrow_shape": "none",
            "target": "s33",
            "target_arrow_shape": "triangle"
           }
          },
          {
           "data": {
            "arrowhead": "normal",
            "id": "1faee855-eb70-403e-9492-64f21d55fb9a",
            "source": "catalyze_C6AC8pro_to_C6A_C8A",
            "source_arrow_fill": "filled",
            "source_arrow_shape": "none",
            "target": "s40",
            "target_arrow_shape": "triangle"
           }
          },
          {
           "data": {
            "arrowhead": "normal",
            "id": "8917946a-9249-4467-8087-ade27d91db93",
            "source": "catalyze_C6AC8pro_to_C6A_C8A",
            "source_arrow_fill": "filled",
            "source_arrow_shape": "none",
            "target": "s28",
            "target_arrow_shape": "triangle"
           }
          },
          {
           "data": {
            "arrowhead": "normal",
            "id": "387f6f7b-6471-485a-b29b-5c22db75dbf7",
            "source": "catalyze_BidMBaxC_to_BidM_BaxM",
            "source_arrow_fill": "filled",
            "source_arrow_shape": "none",
            "target": "s37",
            "target_arrow_shape": "triangle"
           }
          },
          {
           "data": {
            "arrowhead": "normal",
            "id": "e27dc685-0d3d-4de3-bd45-ab6e9a3bc896",
            "source": "catalyze_BidMBaxC_to_BidM_BaxM",
            "source_arrow_fill": "filled",
            "source_arrow_shape": "none",
            "target": "s47",
            "target_arrow_shape": "triangle"
           }
          },
          {
           "data": {
            "arrowhead": "normal",
            "id": "6afa723d-2a04-4392-b48c-2270a2d99115",
            "source": "catalyze_BidMBaxM_to_BidM_BaxA",
            "source_arrow_fill": "filled",
            "source_arrow_shape": "none",
            "target": "s37",
            "target_arrow_shape": "triangle"
           }
          },
          {
           "data": {
            "arrowhead": "normal",
            "id": "46e04b20-c828-446d-a21d-b41d9ef06064",
            "source": "catalyze_BidMBaxM_to_BidM_BaxA",
            "source_arrow_fill": "filled",
            "source_arrow_shape": "none",
            "target": "s54",
            "target_arrow_shape": "triangle"
           }
          },
          {
           "data": {
            "arrowhead": "normal",
            "id": "f624a106-5ae1-4a9d-9f3c-2eaae26ce869",
            "source": "catalyze_BidMBakM_to_BidM_BakA",
            "source_arrow_fill": "filled",
            "source_arrow_shape": "none",
            "target": "s48",
            "target_arrow_shape": "triangle"
           }
          },
          {
           "data": {
            "arrowhead": "normal",
            "id": "662358a6-f0f2-4a5b-ae29-6f04ab6e6154",
            "source": "catalyze_BidMBakM_to_BidM_BakA",
            "source_arrow_fill": "filled",
            "source_arrow_shape": "none",
            "target": "s37",
            "target_arrow_shape": "triangle"
           }
          },
          {
           "data": {
            "arrowhead": "normal",
            "id": "f4c7e2c2-ef6e-4db8-9e0d-f710872e484e",
            "source": "catalyze_BaxABaxM_to_BaxA_BaxA",
            "source_arrow_fill": "filled",
            "source_arrow_shape": "none",
            "target": "s54",
            "target_arrow_shape": "triangle"
           }
          },
          {
           "data": {
            "arrowhead": "normal",
            "id": "f7d0405f-6f79-4b86-bba7-df0471d7ea60",
            "source": "catalyze_BakABakM_to_BakA_BakA",
            "source_arrow_fill": "filled",
            "source_arrow_shape": "none",
            "target": "s48",
            "target_arrow_shape": "triangle"
           }
          },
          {
           "data": {
            "arrowhead": "normal",
            "id": "0d638b5c-ac4d-4465-a4f0-a4747160b886",
            "source": "pore_transport_dissociate_BaxA_4_CytoCC",
            "source_arrow_fill": "filled",
            "source_arrow_shape": "none",
            "target": "s64",
            "target_arrow_shape": "triangle"
           }
          },
          {
           "data": {
            "arrowhead": "normal",
            "id": "2c0f3cc4-f224-4f8b-9a3d-d572ed0e257d",
            "source": "pore_transport_dissociate_BaxA_4_CytoCC",
            "source_arrow_fill": "filled",
            "source_arrow_shape": "none",
            "target": "s65",
            "target_arrow_shape": "triangle"
           }
          },
          {
           "data": {
            "arrowhead": "normal",
            "id": "92934683-c810-4a1b-9763-92774e94367b",
            "source": "pore_transport_dissociate_BaxA_4_SmacC",
            "source_arrow_fill": "filled",
            "source_arrow_shape": "none",
            "target": "s64",
            "target_arrow_shape": "triangle"
           }
          },
          {
           "data": {
            "arrowhead": "normal",
            "id": "65adcb97-9f0b-469e-b921-ebeb02a73085",
            "source": "pore_transport_dissociate_BaxA_4_SmacC",
            "source_arrow_fill": "filled",
            "source_arrow_shape": "none",
            "target": "s66",
            "target_arrow_shape": "triangle"
           }
          },
          {
           "data": {
            "arrowhead": "normal",
            "id": "1b35d8e1-755b-4501-a35a-13840c0e29cd",
            "source": "pore_transport_dissociate_BakA_4_CytoCC",
            "source_arrow_fill": "filled",
            "source_arrow_shape": "none",
            "target": "s65",
            "target_arrow_shape": "triangle"
           }
          },
          {
           "data": {
            "arrowhead": "normal",
            "id": "5f88e968-031e-4416-b818-2d2a8785f946",
            "source": "pore_transport_dissociate_BakA_4_CytoCC",
            "source_arrow_fill": "filled",
            "source_arrow_shape": "none",
            "target": "s60",
            "target_arrow_shape": "triangle"
           }
          },
          {
           "data": {
            "arrowhead": "normal",
            "id": "391374b0-6554-459f-9bfa-a5bc61b8287f",
            "source": "pore_transport_dissociate_BakA_4_SmacC",
            "source_arrow_fill": "filled",
            "source_arrow_shape": "none",
            "target": "s66",
            "target_arrow_shape": "triangle"
           }
          },
          {
           "data": {
            "arrowhead": "normal",
            "id": "2333f449-9775-4f39-91ec-6c82acc8af21",
            "source": "pore_transport_dissociate_BakA_4_SmacC",
            "source_arrow_fill": "filled",
            "source_arrow_shape": "none",
            "target": "s60",
            "target_arrow_shape": "triangle"
           }
          }
         ],
         "nodes": [
          {
           "data": {
            "NodeType": "species",
            "background_color": "#aaffff",
            "bipartite": 0,
            "id": "s0",
            "label": "L",
            "name": "s0",
            "shape": "ellipse"
           },
           "position": {
            "x": 2795.7218652364295,
            "y": 550.3830073452034
           }
          },
          {
           "data": {
            "NodeType": "species",
            "background_color": "#aaffff",
            "bipartite": 0,
            "id": "s1",
            "label": "R",
            "name": "s1",
            "shape": "ellipse"
           },
           "position": {
            "x": 2737.8682241614483,
            "y": 413.43840729911244
           }
          },
          {
           "data": {
            "NodeType": "species",
            "background_color": "#aaffff",
            "bipartite": 0,
            "id": "s2",
            "label": "flip",
            "name": "s2",
            "shape": "ellipse"
           },
           "position": {
            "x": 2338.0839151177775,
            "y": 802.7063473815247
           }
          },
          {
           "data": {
            "NodeType": "species",
            "background_color": "#aaffff",
            "bipartite": 0,
            "id": "s3",
            "label": "proC8",
            "name": "s3",
            "shape": "ellipse"
           },
           "position": {
            "x": 2297.4081101007637,
            "y": 543.0276253228849
           }
          },
          {
           "data": {
            "NodeType": "species",
            "background_color": "#aaffff",
            "bipartite": 0,
            "id": "s4",
            "label": "BAR",
            "name": "s4",
            "shape": "ellipse"
           },
           "position": {
            "x": 1985.6698093192688,
            "y": 818.5087205199102
           }
          },
          {
           "data": {
            "NodeType": "species",
            "background_color": "#aaffff",
            "bipartite": 0,
            "id": "s5",
            "label": "iApaf",
            "name": "s5",
            "shape": "ellipse"
           },
           "position": {
            "x": 34.5,
            "y": 358.4823850361181
           }
          },
          {
           "data": {
            "NodeType": "species",
            "background_color": "#aaffff",
            "bipartite": 0,
            "id": "s6",
            "label": "proC3",
            "name": "s6",
            "shape": "ellipse"
           },
           "position": {
            "x": 1559.6785173944772,
            "y": 456.61831678790463
           }
          },
          {
           "data": {
            "NodeType": "species",
            "background_color": "#aaffff",
            "bipartite": 0,
            "id": "s7",
            "label": "proC6",
            "name": "s7",
            "shape": "ellipse"
           },
           "position": {
            "x": 1714.3545298990896,
            "y": 396.59280748354206
           }
          },
          {
           "data": {
            "NodeType": "species",
            "background_color": "#aaffff",
            "bipartite": 0,
            "id": "s8",
            "label": "C9",
            "name": "s8",
            "shape": "ellipse"
           },
           "position": {
            "x": 973.2033535307596,
            "y": 213.6795959291875
           }
          },
          {
           "data": {
            "NodeType": "species",
            "background_color": "#aaffff",
            "bipartite": 0,
            "id": "s9",
            "label": "uPARP",
            "name": "s9",
            "shape": "ellipse"
           },
           "position": {
            "x": 1675.6827404376493,
            "y": 110.21784775020558
           }
          },
          {
           "data": {
            "NodeType": "species",
            "background_color": "#aaffff",
            "bipartite": 0,
            "id": "s10",
            "label": "XIAP",
            "name": "s10",
            "shape": "ellipse"
           },
           "position": {
            "x": 1341.0579952377789,
            "y": 249.17178527912242
           }
          },
          {
           "data": {
            "NodeType": "species",
            "background_color": "#aaffff",
            "bipartite": 0,
            "id": "s11",
            "label": "uBid",
            "name": "s11",
            "shape": "ellipse"
           },
           "position": {
            "x": 2078.0931703479355,
            "y": 700.2170846805252
           }
          },
          {
           "data": {
            "NodeType": "species",
            "background_color": "#aaffff",
            "bipartite": 0,
            "id": "s12",
            "label": "cBax",
            "name": "s12",
            "shape": "ellipse"
           },
           "position": {
            "x": 1738.5087324252327,
            "y": 1054.8755427289943
           }
          },
          {
           "data": {
            "NodeType": "species",
            "background_color": "#aaffff",
            "bipartite": 0,
            "id": "s13",
            "label": "mBak",
            "name": "s13",
            "shape": "ellipse"
           },
           "position": {
            "x": 1520.8347325577101,
            "y": 866.7047099562967
           }
          },
          {
           "data": {
            "NodeType": "species",
            "background_color": "#aaffff",
            "bipartite": 0,
            "id": "s14",
            "label": "mBcl2",
            "name": "s14",
            "shape": "ellipse"
           },
           "position": {
            "x": 976.0926151723396,
            "y": 884.1458764299332
           }
          },
          {
           "data": {
            "NodeType": "species",
            "background_color": "#aaffff",
            "bipartite": 0,
            "id": "s15",
            "label": "mBclxL",
            "name": "s15",
            "shape": "ellipse"
           },
           "position": {
            "x": 956.109183471386,
            "y": 808.3629081424344
           }
          },
          {
           "data": {
            "NodeType": "species",
            "background_color": "#aaffff",
            "bipartite": 0,
            "id": "s16",
            "label": "mMcl1",
            "name": "s16",
            "shape": "ellipse"
           },
           "position": {
            "x": 1152.6917316390677,
            "y": 806.0406952951205
           }
          },
          {
           "data": {
            "NodeType": "species",
            "background_color": "#aaffff",
            "bipartite": 0,
            "id": "s17",
            "label": "mBad",
            "name": "s17",
            "shape": "ellipse"
           },
           "position": {
            "x": 914.9802471080528,
            "y": 859.2711854617116
           }
          },
          {
           "data": {
            "NodeType": "species",
            "background_color": "#aaffff",
            "bipartite": 0,
            "id": "s18",
            "label": "mNoxa",
            "name": "s18",
            "shape": "ellipse"
           },
           "position": {
            "x": 1328.6609543033408,
            "y": 928.2139628680064
           }
          },
          {
           "data": {
            "NodeType": "species",
            "background_color": "#aaffff",
            "bipartite": 0,
            "id": "s19",
            "label": "mCytoC",
            "name": "s19",
            "shape": "ellipse"
           },
           "position": {
            "x": 742.4959363954616,
            "y": 650.3885869901095
           }
          },
          {
           "data": {
            "NodeType": "species",
            "background_color": "#aaffff",
            "bipartite": 0,
            "id": "s20",
            "label": "mSmac",
            "name": "s20",
            "shape": "ellipse"
           },
           "position": {
            "x": 754.9954867129029,
            "y": 725.155364782191
           }
          },
          {
           "data": {
            "NodeType": "species",
            "background_color": "#ccffcc",
            "bipartite": 0,
            "id": "s21",
            "label": "L-R",
            "name": "s21",
            "shape": "ellipse"
           },
           "position": {
            "x": 2541.9002068261616,
            "y": 476.9464996040441
           }
          },
          {
           "data": {
            "NodeType": "species",
            "background_color": "#ccffcc",
            "bipartite": 0,
            "id": "s22",
            "label": "mBad-mBcl2",
            "name": "s22",
            "shape": "ellipse"
           },
           "position": {
            "x": 1070.4384089754967,
            "y": 834.036567573417
           }
          },
          {
           "data": {
            "NodeType": "species",
            "background_color": "#ccffcc",
            "bipartite": 0,
            "id": "s23",
            "label": "mBad-mBclxL",
            "name": "s23",
            "shape": "ellipse"
           },
           "position": {
            "x": 865.0470543384265,
            "y": 705.9649357363764
           }
          },
          {
           "data": {
            "NodeType": "species",
            "background_color": "#ccffcc",
            "bipartite": 0,
            "id": "s24",
            "label": "mMcl1-mNoxa",
            "name": "s24",
            "shape": "ellipse"
           },
           "position": {
            "x": 1208.7368315396554,
            "y": 758.532265260525
           }
          },
          {
           "data": {
            "NodeType": "species",
            "background_color": "#ccffcc",
            "bipartite": 0,
            "id": "s25",
            "label": "DISC",
            "name": "s25",
            "shape": "ellipse"
           },
           "position": {
            "x": 2248.0831165770237,
            "y": 598.1803615119113
           }
          },
          {
           "data": {
            "NodeType": "species",
            "background_color": "#ccffcc",
            "bipartite": 0,
            "id": "s26",
            "label": "proC8-DISC",
            "name": "s26",
            "shape": "ellipse"
           },
           "position": {
            "x": 2191.0203793389387,
            "y": 668.9400086950936
           }
          },
          {
           "data": {
            "NodeType": "species",
            "background_color": "#ccffcc",
            "bipartite": 0,
            "id": "s27",
            "label": "DISC-flip",
            "name": "s27",
            "shape": "ellipse"
           },
           "position": {
            "x": 2223.2795257373145,
            "y": 786.9351497609607
           }
          },
          {
           "data": {
            "NodeType": "species",
            "background_color": "#ccffcc",
            "bipartite": 0,
            "id": "s28",
            "label": "aC8",
            "name": "s28",
            "shape": "ellipse"
           },
           "position": {
            "x": 1809.924002018058,
            "y": 604.9160250499817
           }
          },
          {
           "data": {
            "NodeType": "species",
            "background_color": "#ccffcc",
            "bipartite": 0,
            "id": "s29",
            "label": "uBid-aC8",
            "name": "s29",
            "shape": "ellipse"
           },
           "position": {
            "x": 1728.5447464623833,
            "y": 643.3266789442182
           }
          },
          {
           "data": {
            "NodeType": "species",
            "background_color": "#ccffcc",
            "bipartite": 0,
            "id": "s30",
            "label": "BAR-aC8",
            "name": "s30",
            "shape": "ellipse"
           },
           "position": {
            "x": 1874.5001154087763,
            "y": 818.3401353576193
           }
          },
          {
           "data": {
            "NodeType": "species",
            "background_color": "#ccffcc",
            "bipartite": 0,
            "id": "s31",
            "label": "proC3-aC8",
            "name": "s31",
            "shape": "ellipse"
           },
           "position": {
            "x": 1487.5218818875417,
            "y": 508.3741693341226
           }
          },
          {
           "data": {
            "NodeType": "species",
            "background_color": "#ccffcc",
            "bipartite": 0,
            "id": "s32",
            "label": "tBid",
            "name": "s32",
            "shape": "ellipse"
           },
           "position": {
            "x": 1583.3563495686326,
            "y": 859.7676020615023
           }
          },
          {
           "data": {
            "NodeType": "species",
            "background_color": "#ccffcc",
            "bipartite": 0,
            "id": "s33",
            "label": "aC3",
            "name": "s33",
            "shape": "ellipse"
           },
           "position": {
            "x": 1697.242562355413,
            "y": 330.25681589983947
           }
          },
          {
           "data": {
            "NodeType": "species",
            "background_color": "#ccffcc",
            "bipartite": 0,
            "id": "s34",
            "label": "aC3-XIAP",
            "name": "s34",
            "shape": "ellipse"
           },
           "position": {
            "x": 1461.9358292674708,
            "y": 189.97846739772072
           }
          },
          {
           "data": {
            "NodeType": "species",
            "background_color": "#ccffcc",
            "bipartite": 0,
            "id": "s35",
            "label": "aC3-uPARP",
            "name": "s35",
            "shape": "ellipse"
           },
           "position": {
            "x": 1845.0194158665997,
            "y": 163.71373921087488
           }
          },
          {
           "data": {
            "NodeType": "species",
            "background_color": "#ccffcc",
            "bipartite": 0,
            "id": "s36",
            "label": "aC3-proC6",
            "name": "s36",
            "shape": "ellipse"
           },
           "position": {
            "x": 2068.662525929046,
            "y": 357.27761259269596
           }
          },
          {
           "data": {
            "NodeType": "species",
            "background_color": "#ccffcc",
            "bipartite": 0,
            "id": "s37",
            "label": "mBid",
            "name": "s37",
            "shape": "ellipse"
           },
           "position": {
            "x": 1298.0382187378102,
            "y": 991.752061091342
           }
          },
          {
           "data": {
            "NodeType": "species",
            "background_color": "#ccffcc",
            "bipartite": 0,
            "id": "s38",
            "label": "ubC3",
            "name": "s38",
            "shape": "ellipse"
           },
           "position": {
            "x": 1298.5016727050836,
            "y": 39
           }
          },
          {
           "data": {
            "NodeType": "species",
            "background_color": "#ccffcc",
            "bipartite": 0,
            "id": "s39",
            "label": "cPARP",
            "name": "s39",
            "shape": "ellipse"
           },
           "position": {
            "x": 2050.797879241396,
            "y": 232.0410134217092
           }
          },
          {
           "data": {
            "NodeType": "species",
            "background_color": "#ccffcc",
            "bipartite": 0,
            "id": "s40",
            "label": "aC6",
            "name": "s40",
            "shape": "ellipse"
           },
           "position": {
            "x": 2012.2414659035946,
            "y": 457.16715900272936
           }
          },
          {
           "data": {
            "NodeType": "species",
            "background_color": "#ccffcc",
            "bipartite": 0,
            "id": "s41",
            "label": "cBax-mBid",
            "name": "s41",
            "shape": "ellipse"
           },
           "position": {
            "x": 1562.941601486889,
            "y": 1147.6111937383193
           }
          },
          {
           "data": {
            "NodeType": "species",
            "background_color": "#ccffcc",
            "bipartite": 0,
            "id": "s42",
            "label": "mBak-mBid",
            "name": "s42",
            "shape": "ellipse"
           },
           "position": {
            "x": 1662.8478502215573,
            "y": 836.841374666501
           }
          },
          {
           "data": {
            "NodeType": "species",
            "background_color": "#ccffcc",
            "bipartite": 0,
            "id": "s43",
            "label": "mBcl2-mBid",
            "name": "s43",
            "shape": "ellipse"
           },
           "position": {
            "x": 1204.6536330701877,
            "y": 1064.458644130018
           }
          },
          {
           "data": {
            "NodeType": "species",
            "background_color": "#ccffcc",
            "bipartite": 0,
            "id": "s44",
            "label": "mBclxL-mBid",
            "name": "s44",
            "shape": "ellipse"
           },
           "position": {
            "x": 861.7413637559089,
            "y": 993.2997793618853
           }
          },
          {
           "data": {
            "NodeType": "species",
            "background_color": "#ccffcc",
            "bipartite": 0,
            "id": "s45",
            "label": "mBid-mMcl1",
            "name": "s45",
            "shape": "ellipse"
           },
           "position": {
            "x": 1422.9152585409631,
            "y": 896.640208313726
           }
          },
          {
           "data": {
            "NodeType": "species",
            "background_color": "#ccffcc",
            "bipartite": 0,
            "id": "s46",
            "label": "aC6-proC8",
            "name": "s46",
            "shape": "ellipse"
           },
           "position": {
            "x": 2146.903084209082,
            "y": 534.7070104351282
           }
          },
          {
           "data": {
            "NodeType": "species",
            "background_color": "#ccffcc",
            "bipartite": 0,
            "id": "s47",
            "label": "mBax",
            "name": "s47",
            "shape": "ellipse"
           },
           "position": {
            "x": 1106.3978251504489,
            "y": 1089.8732800383154
           }
          },
          {
           "data": {
            "NodeType": "species",
            "background_color": "#ccffcc",
            "bipartite": 0,
            "id": "s48",
            "label": "aBak",
            "name": "s48",
            "shape": "ellipse"
           },
           "position": {
            "x": 1276.25893429087,
            "y": 686.9815715736789
           }
          },
          {
           "data": {
            "NodeType": "species",
            "background_color": "#ccffcc",
            "bipartite": 0,
            "id": "s49",
            "label": "mBax-mBid",
            "name": "s49",
            "shape": "ellipse"
           },
           "position": {
            "x": 987.9935406555279,
            "y": 1131.8846534023287
           }
          },
          {
           "data": {
            "NodeType": "species",
            "background_color": "#ccffcc",
            "bipartite": 0,
            "id": "s50",
            "label": "aBak-mBak",
            "name": "s50",
            "shape": "ellipse"
           },
           "position": {
            "x": 1626.0242484502764,
            "y": 686.0695525305954
           }
          },
          {
           "data": {
            "NodeType": "species",
            "background_color": "#ccffcc",
            "bipartite": 0,
            "id": "s51",
            "label": "aBak-mBclxL",
            "name": "s51",
            "shape": "ellipse"
           },
           "position": {
            "x": 1240.498264892173,
            "y": 623.7464589662338
           }
          },
          {
           "data": {
            "NodeType": "species",
            "background_color": "#ccffcc",
            "bipartite": 0,
            "id": "s52",
            "label": "aBak-mMcl1",
            "name": "s52",
            "shape": "ellipse"
           },
           "position": {
            "x": 1554.4478622688612,
            "y": 788.7057137758765
           }
          },
          {
           "data": {
            "NodeType": "species",
            "background_color": "#ccffcc",
            "bipartite": 0,
            "id": "s53",
            "label": "2aBak",
            "name": "s53",
            "shape": "ellipse"
           },
           "position": {
            "x": 1407.7543598690652,
            "y": 571.5857184377155
           }
          },
          {
           "data": {
            "NodeType": "species",
            "background_color": "#ccffcc",
            "bipartite": 0,
            "id": "s54",
            "label": "aBax",
            "name": "s54",
            "shape": "ellipse"
           },
           "position": {
            "x": 701.3390974622234,
            "y": 1003.4218978061336
           }
          },
          {
           "data": {
            "NodeType": "species",
            "background_color": "#ccffcc",
            "bipartite": 0,
            "id": "s55",
            "label": "3aBak",
            "name": "s55",
            "shape": "ellipse"
           },
           "position": {
            "x": 1132.0410848821682,
            "y": 477.9851123455486
           }
          },
          {
           "data": {
            "NodeType": "species",
            "background_color": "#ccffcc",
            "bipartite": 0,
            "id": "s56",
            "label": "aBax-mBax",
            "name": "s56",
            "shape": "ellipse"
           },
           "position": {
            "x": 805.5231395341144,
            "y": 1174.1197814918876
           }
          },
          {
           "data": {
            "NodeType": "species",
            "background_color": "#ccffcc",
            "bipartite": 0,
            "id": "s57",
            "label": "aBax-mBcl2",
            "name": "s57",
            "shape": "ellipse"
           },
           "position": {
            "x": 649.8758597318366,
            "y": 916.7996989881025
           }
          },
          {
           "data": {
            "NodeType": "species",
            "background_color": "#ccffcc",
            "bipartite": 0,
            "id": "s58",
            "label": "aBax-mBclxL",
            "name": "s58",
            "shape": "ellipse"
           },
           "position": {
            "x": 746.7589883547392,
            "y": 965.6152796132852
           }
          },
          {
           "data": {
            "NodeType": "species",
            "background_color": "#ccffcc",
            "bipartite": 0,
            "id": "s59",
            "label": "2aBax",
            "name": "s59",
            "shape": "ellipse"
           },
           "position": {
            "x": 359.3720196415974,
            "y": 1040.5896915185053
           }
          },
          {
           "data": {
            "NodeType": "species",
            "background_color": "#ccffcc",
            "bipartite": 0,
            "id": "s60",
            "label": "4aBak",
            "name": "s60",
            "shape": "ellipse"
           },
           "position": {
            "x": 842.7517340736354,
            "y": 529.6388795252225
           }
          },
          {
           "data": {
            "NodeType": "species",
            "background_color": "#ccffcc",
            "bipartite": 0,
            "id": "s61",
            "label": "3aBax",
            "name": "s61",
            "shape": "ellipse"
           },
           "position": {
            "x": 369.3743835300576,
            "y": 921.2325310031737
           }
          },
          {
           "data": {
            "NodeType": "species",
            "background_color": "#ccffcc",
            "bipartite": 0,
            "id": "s62",
            "label": "4aBak-mCytoC",
            "name": "s62",
            "shape": "ellipse"
           },
           "position": {
            "x": 830.339055190737,
            "y": 566.7317188736465
           }
          },
          {
           "data": {
            "NodeType": "species",
            "background_color": "#ccffcc",
            "bipartite": 0,
            "id": "s63",
            "label": "4aBak-mSmac",
            "name": "s63",
            "shape": "ellipse"
           },
           "position": {
            "x": 636.5196565881874,
            "y": 471.3363745042899
           }
          },
          {
           "data": {
            "NodeType": "species",
            "background_color": "#ccffcc",
            "bipartite": 0,
            "id": "s64",
            "label": "4aBax",
            "name": "s64",
            "shape": "ellipse"
           },
           "position": {
            "x": 390.37132681154293,
            "y": 761.8496190039539
           }
          },
          {
           "data": {
            "NodeType": "species",
            "background_color": "#ccffcc",
            "bipartite": 0,
            "id": "s65",
            "label": "cCytoC",
            "name": "s65",
            "shape": "ellipse"
           },
           "position": {
            "x": 289.58900381618395,
            "y": 583.2852082058412
           }
          },
          {
           "data": {
            "NodeType": "species",
            "background_color": "#ccffcc",
            "bipartite": 0,
            "id": "s66",
            "label": "cSmac",
            "name": "s66",
            "shape": "ellipse"
           },
           "position": {
            "x": 726.204136720852,
            "y": 517.4481930560945
           }
          },
          {
           "data": {
            "NodeType": "species",
            "background_color": "#ccffcc",
            "bipartite": 0,
            "id": "s67",
            "label": "aSmac",
            "name": "s67",
            "shape": "ellipse"
           },
           "position": {
            "x": 1035.7604207259096,
            "y": 376.83514363305017
           }
          },
          {
           "data": {
            "NodeType": "species",
            "background_color": "#ccffcc",
            "bipartite": 0,
            "id": "s68",
            "label": "aCytoC",
            "name": "s68",
            "shape": "ellipse"
           },
           "position": {
            "x": 419.6531934482138,
            "y": 394.95891756536514
           }
          },
          {
           "data": {
            "NodeType": "species",
            "background_color": "#ccffcc",
            "bipartite": 0,
            "id": "s69",
            "label": "4aBax-mCytoC",
            "name": "s69",
            "shape": "ellipse"
           },
           "position": {
            "x": 280.0020711135883,
            "y": 769.5355056818828
           }
          },
          {
           "data": {
            "NodeType": "species",
            "background_color": "#ccffcc",
            "bipartite": 0,
            "id": "s70",
            "label": "4aBax-mSmac",
            "name": "s70",
            "shape": "ellipse"
           },
           "position": {
            "x": 632.8098695872621,
            "y": 780.44209092986
           }
          },
          {
           "data": {
            "NodeType": "species",
            "background_color": "#ccffcc",
            "bipartite": 0,
            "id": "s71",
            "label": "iApaf-aCytoC",
            "name": "s71",
            "shape": "ellipse"
           },
           "position": {
            "x": 384.9125505612155,
            "y": 276.48793646104184
           }
          },
          {
           "data": {
            "NodeType": "species",
            "background_color": "#ccffcc",
            "bipartite": 0,
            "id": "s72",
            "label": "aSmac-XIAP",
            "name": "s72",
            "shape": "ellipse"
           },
           "position": {
            "x": 1143.051280300643,
            "y": 383.41750071936667
           }
          },
          {
           "data": {
            "NodeType": "species",
            "background_color": "#ccffcc",
            "bipartite": 0,
            "id": "s73",
            "label": "aApaf",
            "name": "s73",
            "shape": "ellipse"
           },
           "position": {
            "x": 800.3576723503791,
            "y": 299.5337836564695
           }
          },
          {
           "data": {
            "NodeType": "species",
            "background_color": "#ccffcc",
            "bipartite": 0,
            "id": "s74",
            "label": "Apop",
            "name": "s74",
            "shape": "ellipse"
           },
           "position": {
            "x": 1236.0647806471245,
            "y": 335.51445973660634
           }
          },
          {
           "data": {
            "NodeType": "species",
            "background_color": "#ccffcc",
            "bipartite": 0,
            "id": "s75",
            "label": "Apop-proC3",
            "name": "s75",
            "shape": "ellipse"
           },
           "position": {
            "x": 1611.441907307448,
            "y": 382.90875272573703
           }
          },
          {
           "data": {
            "NodeType": "species",
            "background_color": "#ccffcc",
            "bipartite": 0,
            "id": "s76",
            "label": "Apop-XIAP",
            "name": "s76",
            "shape": "ellipse"
           },
           "position": {
            "x": 1114.3453828211625,
            "y": 130.18493594066493
           }
          },
          {
           "data": {
            "NodeType": "rule",
            "background_color": "#ff4c4c",
            "bipartite": 1,
            "id": "bind_L_R_to_LR",
            "label": "bind_L_R_to_LR",
            "name": "bind_L_R_to_LR",
            "shape": "roundrectangle"
           },
           "position": {
            "x": 2670.387464915191,
            "y": 500.3577840037335
           }
          },
          {
           "data": {
            "NodeType": "rule",
            "background_color": "#ff4c4c",
            "bipartite": 1,
            "id": "convert_LR_to_DISC",
            "label": "convert_LR_to_DISC",
            "name": "convert_LR_to_DISC",
            "shape": "roundrectangle"
           },
           "position": {
            "x": 2398.070552050861,
            "y": 501.70464436067994
           }
          },
          {
           "data": {
            "NodeType": "rule",
            "background_color": "#ff4c4c",
            "bipartite": 1,
            "id": "bind_DISC_C8pro_to_DISCC8pro",
            "label": "bind_DISC_C8pro_to_DISCC8pro",
            "name": "bind_DISC_C8pro_to_DISCC8pro",
            "shape": "roundrectangle"
           },
           "position": {
            "x": 2416.7837305621956,
            "y": 619.3772818007675
           }
          },
          {
           "data": {
            "NodeType": "rule",
            "background_color": "#ff4c4c",
            "bipartite": 1,
            "id": "catalyze_DISCC8pro_to_DISC_C8A",
            "label": "catalyze_DISCC8pro_to_DISC_C8A",
            "name": "catalyze_DISCC8pro_to_DISC_C8A",
            "shape": "roundrectangle"
           },
           "position": {
            "x": 2041.4588776836247,
            "y": 601.0012812475795
           }
          },
          {
           "data": {
            "NodeType": "rule",
            "background_color": "#ff4c4c",
            "bipartite": 1,
            "id": "bind_C8A_BidU_to_C8ABidU",
            "label": "bind_C8A_BidU_to_C8ABidU",
            "name": "bind_C8A_BidU_to_C8ABidU",
            "shape": "roundrectangle"
           },
           "position": {
            "x": 1915.3353040673996,
            "y": 660.6360189386136
           }
          },
          {
           "data": {
            "NodeType": "rule",
            "background_color": "#ff4c4c",
            "bipartite": 1,
            "id": "catalyze_C8ABidU_to_C8A_BidT",
            "label": "catalyze_C8ABidU_to_C8A_BidT",
            "name": "catalyze_C8ABidU_to_C8A_BidT",
            "shape": "roundrectangle"
           },
           "position": {
            "x": 1727.1682435951298,
            "y": 746.3865455708931
           }
          },
          {
           "data": {
            "NodeType": "rule",
            "background_color": "#ff4c4c",
            "bipartite": 1,
            "id": "bind_DISC_flip",
            "label": "bind_DISC_flip",
            "name": "bind_DISC_flip",
            "shape": "roundrectangle"
           },
           "position": {
            "x": 2317.4980655090485,
            "y": 700.6403611857017
           }
          },
          {
           "data": {
            "NodeType": "rule",
            "background_color": "#ff4c4c",
            "bipartite": 1,
            "id": "bind_BAR_C8A",
            "label": "bind_BAR_C8A",
            "name": "bind_BAR_C8A",
            "shape": "roundrectangle"
           },
           "position": {
            "x": 1923.615641767171,
            "y": 721.1762946646568
           }
          },
          {
           "data": {
            "NodeType": "rule",
            "background_color": "#ff4c4c",
            "bipartite": 1,
            "id": "equilibrate_SmacC_to_SmacA",
            "label": "equilibrate_SmacC_to_SmacA",
            "name": "equilibrate_SmacC_to_SmacA",
            "shape": "roundrectangle"
           },
           "position": {
            "x": 809.2463959214571,
            "y": 406.64142937729366
           }
          },
          {
           "data": {
            "NodeType": "rule",
            "background_color": "#ff4c4c",
            "bipartite": 1,
            "id": "equilibrate_CytoCC_to_CytoCA",
            "label": "equilibrate_CytoCC_to_CytoCA",
            "name": "equilibrate_CytoCC_to_CytoCA",
            "shape": "roundrectangle"
           },
           "position": {
            "x": 298.77163226172524,
            "y": 470.3206614961533
           }
          },
          {
           "data": {
            "NodeType": "rule",
            "background_color": "#ff4c4c",
            "bipartite": 1,
            "id": "bind_CytoCA_ApafI_to_CytoCAApafI",
            "label": "bind_CytoCA_ApafI_to_CytoCAApafI",
            "name": "bind_CytoCA_ApafI_to_CytoCAApafI",
            "shape": "roundrectangle"
           },
           "position": {
            "x": 240.6847676371882,
            "y": 349.18363334062735
           }
          },
          {
           "data": {
            "NodeType": "rule",
            "background_color": "#ff4c4c",
            "bipartite": 1,
            "id": "catalyze_CytoCAApafI_to_CytoCA_ApafA",
            "label": "catalyze_CytoCAApafI_to_CytoCA_ApafA",
            "name": "catalyze_CytoCAApafI_to_CytoCA_ApafA",
            "shape": "roundrectangle"
           },
           "position": {
            "x": 564.811421911536,
            "y": 332.9832647916968
           }
          },
          {
           "data": {
            "NodeType": "rule",
            "background_color": "#ff4c4c",
            "bipartite": 1,
            "id": "convert_ApafA_C9_to_Apop",
            "label": "convert_ApafA_C9_to_Apop",
            "name": "convert_ApafA_C9_to_Apop",
            "shape": "roundrectangle"
           },
           "position": {
            "x": 989.6318663858074,
            "y": 313.1797018874423
           }
          },
          {
           "data": {
            "NodeType": "rule",
            "background_color": "#ff4c4c",
            "bipartite": 1,
            "id": "bind_Apop_C3pro_to_ApopC3pro",
            "label": "bind_Apop_C3pro_to_ApopC3pro",
            "name": "bind_Apop_C3pro_to_ApopC3pro",
            "shape": "roundrectangle"
           },
           "position": {
            "x": 1383.5658453290691,
            "y": 402.43319986673816
           }
          },
          {
           "data": {
            "NodeType": "rule",
            "background_color": "#ff4c4c",
            "bipartite": 1,
            "id": "catalyze_ApopC3pro_to_Apop_C3A",
            "label": "catalyze_ApopC3pro_to_Apop_C3A",
            "name": "catalyze_ApopC3pro_to_Apop_C3A",
            "shape": "roundrectangle"
           },
           "position": {
            "x": 1455.1611991833865,
            "y": 332.7295084013002
           }
          },
          {
           "data": {
            "NodeType": "rule",
            "background_color": "#ff4c4c",
            "bipartite": 1,
            "id": "bind_Apop_XIAP",
            "label": "bind_Apop_XIAP",
            "name": "bind_Apop_XIAP",
            "shape": "roundrectangle"
           },
           "position": {
            "x": 1214.5135251035333,
            "y": 215.90239944833613
           }
          },
          {
           "data": {
            "NodeType": "rule",
            "background_color": "#ff4c4c",
            "bipartite": 1,
            "id": "bind_SmacA_XIAP",
            "label": "bind_SmacA_XIAP",
            "name": "bind_SmacA_XIAP",
            "shape": "roundrectangle"
           },
           "position": {
            "x": 1173.6522263437066,
            "y": 282.7999976507019
           }
          },
          {
           "data": {
            "NodeType": "rule",
            "background_color": "#ff4c4c",
            "bipartite": 1,
            "id": "bind_C8A_C3pro_to_C8AC3pro",
            "label": "bind_C8A_C3pro_to_C8AC3pro",
            "name": "bind_C8A_C3pro_to_C8AC3pro",
            "shape": "roundrectangle"
           },
           "position": {
            "x": 1675.46123014515,
            "y": 548.4744923142849
           }
          },
          {
           "data": {
            "NodeType": "rule",
            "background_color": "#ff4c4c",
            "bipartite": 1,
            "id": "catalyze_C8AC3pro_to_C8A_C3A",
            "label": "catalyze_C8AC3pro_to_C8A_C3A",
            "name": "catalyze_C8AC3pro_to_C8A_C3A",
            "shape": "roundrectangle"
           },
           "position": {
            "x": 1730.8437457518644,
            "y": 476.1586583824861
           }
          },
          {
           "data": {
            "NodeType": "rule",
            "background_color": "#ff4c4c",
            "bipartite": 1,
            "id": "bind_XIAP_C3A_to_XIAPC3A",
            "label": "bind_XIAP_C3A_to_XIAPC3A",
            "name": "bind_XIAP_C3A_to_XIAPC3A",
            "shape": "roundrectangle"
           },
           "position": {
            "x": 1545.1581487531002,
            "y": 273.2456268874946
           }
          },
          {
           "data": {
            "NodeType": "rule",
            "background_color": "#ff4c4c",
            "bipartite": 1,
            "id": "catalyze_XIAPC3A_to_XIAP_C3ub",
            "label": "catalyze_XIAPC3A_to_XIAP_C3ub",
            "name": "catalyze_XIAPC3A_to_XIAP_C3ub",
            "shape": "roundrectangle"
           },
           "position": {
            "x": 1315.5748461569285,
            "y": 140.6234536417298
           }
          },
          {
           "data": {
            "NodeType": "rule",
            "background_color": "#ff4c4c",
            "bipartite": 1,
            "id": "bind_C3A_PARPU_to_C3APARPU",
            "label": "bind_C3A_PARPU_to_C3APARPU",
            "name": "bind_C3A_PARPU_to_C3APARPU",
            "shape": "roundrectangle"
           },
           "position": {
            "x": 1656.9907155251578,
            "y": 213.09457198295578
           }
          },
          {
           "data": {
            "NodeType": "rule",
            "background_color": "#ff4c4c",
            "bipartite": 1,
            "id": "catalyze_C3APARPU_to_C3A_PARPC",
            "label": "catalyze_C3APARPU_to_C3A_PARPC",
            "name": "catalyze_C3APARPU_to_C3A_PARPC",
            "shape": "roundrectangle"
           },
           "position": {
            "x": 1837.3478037203884,
            "y": 266.1919004154305
           }
          },
          {
           "data": {
            "NodeType": "rule",
            "background_color": "#ff4c4c",
            "bipartite": 1,
            "id": "bind_C3A_C6pro_to_C3AC6pro",
            "label": "bind_C3A_C6pro_to_C3AC6pro",
            "name": "bind_C3A_C6pro_to_C3AC6pro",
            "shape": "roundrectangle"
           },
           "position": {
            "x": 1865.2442336875238,
            "y": 337.7537636246849
           }
          },
          {
           "data": {
            "NodeType": "rule",
            "background_color": "#ff4c4c",
            "bipartite": 1,
            "id": "catalyze_C3AC6pro_to_C3A_C6A",
            "label": "catalyze_C3AC6pro_to_C3A_C6A",
            "name": "catalyze_C3AC6pro_to_C3A_C6A",
            "shape": "roundrectangle"
           },
           "position": {
            "x": 1874.9132382987095,
            "y": 407.33338334927896
           }
          },
          {
           "data": {
            "NodeType": "rule",
            "background_color": "#ff4c4c",
            "bipartite": 1,
            "id": "bind_C6A_C8pro_to_C6AC8pro",
            "label": "bind_C6A_C8pro_to_C6AC8pro",
            "name": "bind_C6A_C8pro_to_C6AC8pro",
            "shape": "roundrectangle"
           },
           "position": {
            "x": 2204.8391545413656,
            "y": 449.0428143517738
           }
          },
          {
           "data": {
            "NodeType": "rule",
            "background_color": "#ff4c4c",
            "bipartite": 1,
            "id": "catalyze_C6AC8pro_to_C6A_C8A",
            "label": "catalyze_C6AC8pro_to_C6A_C8A",
            "name": "catalyze_C6AC8pro_to_C6A_C8A",
            "shape": "roundrectangle"
           },
           "position": {
            "x": 1933.123805214198,
            "y": 536.8965105351165
           }
          },
          {
           "data": {
            "NodeType": "rule",
            "background_color": "#ff4c4c",
            "bipartite": 1,
            "id": "equilibrate_BidT_to_BidM",
            "label": "equilibrate_BidT_to_BidM",
            "name": "equilibrate_BidT_to_BidM",
            "shape": "roundrectangle"
           },
           "position": {
            "x": 1431.9423223147833,
            "y": 972.0666590677339
           }
          },
          {
           "data": {
            "NodeType": "rule",
            "background_color": "#ff4c4c",
            "bipartite": 1,
            "id": "bind_BidM_BaxC_to_BidMBaxC",
            "label": "bind_BidM_BaxC_to_BidMBaxC",
            "name": "bind_BidM_BaxC_to_BidMBaxC",
            "shape": "roundrectangle"
           },
           "position": {
            "x": 1558.5323787679963,
            "y": 1054.482648626097
           }
          },
          {
           "data": {
            "NodeType": "rule",
            "background_color": "#ff4c4c",
            "bipartite": 1,
            "id": "catalyze_BidMBaxC_to_BidM_BaxM",
            "label": "catalyze_BidMBaxC_to_BidM_BaxM",
            "name": "catalyze_BidMBaxC_to_BidM_BaxM",
            "shape": "roundrectangle"
           },
           "position": {
            "x": 1385.7121665529346,
            "y": 1101.9993902043343
           }
          },
          {
           "data": {
            "NodeType": "rule",
            "background_color": "#ff4c4c",
            "bipartite": 1,
            "id": "bind_BidM_BaxM_to_BidMBaxM",
            "label": "bind_BidM_BaxM_to_BidMBaxM",
            "name": "bind_BidM_BaxM_to_BidMBaxM",
            "shape": "roundrectangle"
           },
           "position": {
            "x": 1197.9146101833906,
            "y": 1150.3533410094515
           }
          },
          {
           "data": {
            "NodeType": "rule",
            "background_color": "#ff4c4c",
            "bipartite": 1,
            "id": "catalyze_BidMBaxM_to_BidM_BaxA",
            "label": "catalyze_BidMBaxM_to_BidM_BaxA",
            "name": "catalyze_BidMBaxM_to_BidM_BaxA",
            "shape": "roundrectangle"
           },
           "position": {
            "x": 1026.575624094617,
            "y": 1020.2456151795244
           }
          },
          {
           "data": {
            "NodeType": "rule",
            "background_color": "#ff4c4c",
            "bipartite": 1,
            "id": "bind_BidM_BakM_to_BidMBakM",
            "label": "bind_BidM_BakM_to_BidMBakM",
            "name": "bind_BidM_BakM_to_BidMBakM",
            "shape": "roundrectangle"
           },
           "position": {
            "x": 1605.6467647862353,
            "y": 933.6205409931821
           }
          },
          {
           "data": {
            "NodeType": "rule",
            "background_color": "#ff4c4c",
            "bipartite": 1,
            "id": "catalyze_BidMBakM_to_BidM_BakA",
            "label": "catalyze_BidMBakM_to_BidM_BakA",
            "name": "catalyze_BidMBakM_to_BidM_BakA",
            "shape": "roundrectangle"
           },
           "position": {
            "x": 1405.615474171765,
            "y": 833.0785987688433
           }
          },
          {
           "data": {
            "NodeType": "rule",
            "background_color": "#ff4c4c",
            "bipartite": 1,
            "id": "bind_BaxA_BaxM_to_BaxABaxM",
            "label": "bind_BaxA_BaxM_to_BaxABaxM",
            "name": "bind_BaxA_BaxM_to_BaxABaxM",
            "shape": "roundrectangle"
           },
           "position": {
            "x": 847.8938971246674,
            "y": 1086.1314720337461
           }
          },
          {
           "data": {
            "NodeType": "rule",
            "background_color": "#ff4c4c",
            "bipartite": 1,
            "id": "catalyze_BaxABaxM_to_BaxA_BaxA",
            "label": "catalyze_BaxABaxM_to_BaxA_BaxA",
            "name": "catalyze_BaxABaxM_to_BaxA_BaxA",
            "shape": "roundrectangle"
           },
           "position": {
            "x": 595.6883211252623,
            "y": 1134.2907752930469
           }
          },
          {
           "data": {
            "NodeType": "rule",
            "background_color": "#ff4c4c",
            "bipartite": 1,
            "id": "bind_BakA_BakM_to_BakABakM",
            "label": "bind_BakA_BakM_to_BakABakM",
            "name": "bind_BakA_BakM_to_BakABakM",
            "shape": "roundrectangle"
           },
           "position": {
            "x": 1428.3180847922129,
            "y": 724.5155091793038
           }
          },
          {
           "data": {
            "NodeType": "rule",
            "background_color": "#ff4c4c",
            "bipartite": 1,
            "id": "catalyze_BakABakM_to_BakA_BakA",
            "label": "catalyze_BakABakM_to_BakA_BakA",
            "name": "catalyze_BakABakM_to_BakA_BakA",
            "shape": "roundrectangle"
           },
           "position": {
            "x": 1521.6050217410213,
            "y": 612.4334795392681
           }
          },
          {
           "data": {
            "NodeType": "rule",
            "background_color": "#ff4c4c",
            "bipartite": 1,
            "id": "bind_BidM_Bcl2M",
            "label": "bind_BidM_Bcl2M",
            "name": "bind_BidM_Bcl2M",
            "shape": "roundrectangle"
           },
           "position": {
            "x": 1187.1794536545988,
            "y": 972.4137714616642
           }
          },
          {
           "data": {
            "NodeType": "rule",
            "background_color": "#ff4c4c",
            "bipartite": 1,
            "id": "bind_BidM_BclxLM",
            "label": "bind_BidM_BclxLM",
            "name": "bind_BidM_BclxLM",
            "shape": "roundrectangle"
           },
           "position": {
            "x": 1047.787614370898,
            "y": 954.6208534412079
           }
          },
          {
           "data": {
            "NodeType": "rule",
            "background_color": "#ff4c4c",
            "bipartite": 1,
            "id": "bind_BidM_Mcl1M",
            "label": "bind_BidM_Mcl1M",
            "name": "bind_BidM_Mcl1M",
            "shape": "roundrectangle"
           },
           "position": {
            "x": 1260.7677066920533,
            "y": 870.8363185477502
           }
          },
          {
           "data": {
            "NodeType": "rule",
            "background_color": "#ff4c4c",
            "bipartite": 1,
            "id": "bind_BaxA_Bcl2",
            "label": "bind_BaxA_Bcl2",
            "name": "bind_BaxA_Bcl2",
            "shape": "roundrectangle"
           },
           "position": {
            "x": 834.949088216246,
            "y": 927.4820950876923
           }
          },
          {
           "data": {
            "NodeType": "rule",
            "background_color": "#ff4c4c",
            "bipartite": 1,
            "id": "bind_BaxA_BclxLM",
            "label": "bind_BaxA_BclxLM",
            "name": "bind_BaxA_BclxLM",
            "shape": "roundrectangle"
           },
           "position": {
            "x": 766.2368271488796,
            "y": 863.8890367371947
           }
          },
          {
           "data": {
            "NodeType": "rule",
            "background_color": "#ff4c4c",
            "bipartite": 1,
            "id": "bind_BakA_BclxLM",
            "label": "bind_BakA_BclxLM",
            "name": "bind_BakA_BclxLM",
            "shape": "roundrectangle"
           },
           "position": {
            "x": 1088.1502235042392,
            "y": 680.7842359481291
           }
          },
          {
           "data": {
            "NodeType": "rule",
            "background_color": "#ff4c4c",
            "bipartite": 1,
            "id": "bind_BakA_Mcl1M",
            "label": "bind_BakA_Mcl1M",
            "name": "bind_BakA_Mcl1M",
            "shape": "roundrectangle"
           },
           "position": {
            "x": 1308.013361448128,
            "y": 788.3620442498764
           }
          },
          {
           "data": {
            "NodeType": "rule",
            "background_color": "#ff4c4c",
            "bipartite": 1,
            "id": "bind_BadM_Bcl2",
            "label": "bind_BadM_Bcl2",
            "name": "bind_BadM_Bcl2",
            "shape": "roundrectangle"
           },
           "position": {
            "x": 1011.6893491929185,
            "y": 758.0407795017267
           }
          },
          {
           "data": {
            "NodeType": "rule",
            "background_color": "#ff4c4c",
            "bipartite": 1,
            "id": "bind_BadM_BclxLM",
            "label": "bind_BadM_BclxLM",
            "name": "bind_BadM_BclxLM",
            "shape": "roundrectangle"
           },
           "position": {
            "x": 812.5664319888868,
            "y": 794.9614390344736
           }
          },
          {
           "data": {
            "NodeType": "rule",
            "background_color": "#ff4c4c",
            "bipartite": 1,
            "id": "bind_NoxaM_Mcl1M",
            "label": "bind_NoxaM_Mcl1M",
            "name": "bind_NoxaM_Mcl1M",
            "shape": "roundrectangle"
           },
           "position": {
            "x": 1164.2515176594368,
            "y": 895.2147577438415
           }
          },
          {
           "data": {
            "NodeType": "rule",
            "background_color": "#ff4c4c",
            "bipartite": 1,
            "id": "assemble_pore_sequential_Bax_2",
            "label": "assemble_pore_sequential_Bax_2",
            "name": "assemble_pore_sequential_Bax_2",
            "shape": "roundrectangle"
           },
           "position": {
            "x": 558.413272022386,
            "y": 1055.7239562520053
           }
          },
          {
           "data": {
            "NodeType": "rule",
            "background_color": "#ff4c4c",
            "bipartite": 1,
            "id": "assemble_pore_sequential_Bax_3",
            "label": "assemble_pore_sequential_Bax_3",
            "name": "assemble_pore_sequential_Bax_3",
            "shape": "roundrectangle"
           },
           "position": {
            "x": 490.58667126736066,
            "y": 982.7297314440608
           }
          },
          {
           "data": {
            "NodeType": "rule",
            "background_color": "#ff4c4c",
            "bipartite": 1,
            "id": "assemble_pore_sequential_Bax_4",
            "label": "assemble_pore_sequential_Bax_4",
            "name": "assemble_pore_sequential_Bax_4",
            "shape": "roundrectangle"
           },
           "position": {
            "x": 517.9661733431307,
            "y": 872.5980206951766
           }
          },
          {
           "data": {
            "NodeType": "rule",
            "background_color": "#ff4c4c",
            "bipartite": 1,
            "id": "assemble_pore_sequential_Bak_2",
            "label": "assemble_pore_sequential_Bak_2",
            "name": "assemble_pore_sequential_Bak_2",
            "shape": "roundrectangle"
           },
           "position": {
            "x": 1415.8188611935104,
            "y": 660.7653645608132
           }
          },
          {
           "data": {
            "NodeType": "rule",
            "background_color": "#ff4c4c",
            "bipartite": 1,
            "id": "assemble_pore_sequential_Bak_3",
            "label": "assemble_pore_sequential_Bak_3",
            "name": "assemble_pore_sequential_Bak_3",
            "shape": "roundrectangle"
           },
           "position": {
            "x": 1273.0106616533978,
            "y": 525.0775062908574
           }
          },
          {
           "data": {
            "NodeType": "rule",
            "background_color": "#ff4c4c",
            "bipartite": 1,
            "id": "assemble_pore_sequential_Bak_4",
            "label": "assemble_pore_sequential_Bak_4",
            "name": "assemble_pore_sequential_Bak_4",
            "shape": "roundrectangle"
           },
           "position": {
            "x": 1077.6370563759933,
            "y": 576.8723436226408
           }
          },
          {
           "data": {
            "NodeType": "rule",
            "background_color": "#ff4c4c",
            "bipartite": 1,
            "id": "pore_transport_complex_BaxA_4_CytoCM",
            "label": "pore_transport_complex_BaxA_4_CytoCM",
            "name": "pore_transport_complex_BaxA_4_CytoCM",
            "shape": "roundrectangle"
           },
           "position": {
            "x": 501.5075971124767,
            "y": 715.3094675791478
           }
          },
          {
           "data": {
            "NodeType": "rule",
            "background_color": "#ff4c4c",
            "bipartite": 1,
            "id": "pore_transport_dissociate_BaxA_4_CytoCC",
            "label": "pore_transport_dissociate_BaxA_4_CytoCC",
            "name": "pore_transport_dissociate_BaxA_4_CytoCC",
            "shape": "roundrectangle"
           },
           "position": {
            "x": 186.35556431622035,
            "y": 685.4447670622108
           }
          },
          {
           "data": {
            "NodeType": "rule",
            "background_color": "#ff4c4c",
            "bipartite": 1,
            "id": "pore_transport_complex_BaxA_4_SmacM",
            "label": "pore_transport_complex_BaxA_4_SmacM",
            "name": "pore_transport_complex_BaxA_4_SmacM",
            "shape": "roundrectangle"
           },
           "position": {
            "x": 580.9953937445405,
            "y": 691.3309706786123
           }
          },
          {
           "data": {
            "NodeType": "rule",
            "background_color": "#ff4c4c",
            "bipartite": 1,
            "id": "pore_transport_dissociate_BaxA_4_SmacC",
            "label": "pore_transport_dissociate_BaxA_4_SmacC",
            "name": "pore_transport_dissociate_BaxA_4_SmacC",
            "shape": "roundrectangle"
           },
           "position": {
            "x": 497.7805177876563,
            "y": 635.614409975435
           }
          },
          {
           "data": {
            "NodeType": "rule",
            "background_color": "#ff4c4c",
            "bipartite": 1,
            "id": "pore_transport_complex_BakA_4_CytoCM",
            "label": "pore_transport_complex_BakA_4_CytoCM",
            "name": "pore_transport_complex_BakA_4_CytoCM",
            "shape": "roundrectangle"
           },
           "position": {
            "x": 950.6488490819349,
            "y": 634.6788374118283
           }
          },
          {
           "data": {
            "NodeType": "rule",
            "background_color": "#ff4c4c",
            "bipartite": 1,
            "id": "pore_transport_dissociate_BakA_4_CytoCC",
            "label": "pore_transport_dissociate_BakA_4_CytoCC",
            "name": "pore_transport_dissociate_BakA_4_CytoCC",
            "shape": "roundrectangle"
           },
           "position": {
            "x": 519.4603636914069,
            "y": 536.6192672717174
           }
          },
          {
           "data": {
            "NodeType": "rule",
            "background_color": "#ff4c4c",
            "bipartite": 1,
            "id": "pore_transport_complex_BakA_4_SmacM",
            "label": "pore_transport_complex_BakA_4_SmacM",
            "name": "pore_transport_complex_BakA_4_SmacM",
            "shape": "roundrectangle"
           },
           "position": {
            "x": 658.3054653920686,
            "y": 594.9922492039577
           }
          },
          {
           "data": {
            "NodeType": "rule",
            "background_color": "#ff4c4c",
            "bipartite": 1,
            "id": "pore_transport_dissociate_BakA_4_SmacC",
            "label": "pore_transport_dissociate_BakA_4_SmacC",
            "name": "pore_transport_dissociate_BakA_4_SmacC",
            "shape": "roundrectangle"
           },
           "position": {
            "x": 913.7122997129383,
            "y": 466.0140453009775
           }
          }
         ]
        }
       },
       "format": "cyjs",
       "layout": "IPY_MODEL_cca5c55660384a809593758927c016ea",
       "layout_name": "cose-bilkent",
       "type_of_viz": "sp_rules_view",
       "visual_style": null
      }
     },
     "4f87dc66679043e89a0e701a5bb0a43c": {
      "model_module": "@jupyter-widgets/base",
      "model_module_version": "1.1.0",
      "model_name": "LayoutModel",
      "state": {}
     },
     "6832c65d39cd4939a55a4b322dd2f89a": {
      "model_module": "@jupyter-widgets/base",
      "model_module_version": "1.1.0",
      "model_name": "LayoutModel",
      "state": {}
     },
     "68c78274f4564a0bb7eed07e3f184923": {
      "model_module": "viz-pysb-widget",
      "model_module_version": "^0.1.0",
      "model_name": "CytoscapeModel",
      "state": {
       "_model_module_version": "^0.1.0",
       "_view_module_version": "^0.1.0",
       "background": "#FFFFFF",
       "data": {
        "data": {
         "graph": {
          "rankdir": "LR"
         },
         "name": "pysbjupyter.pysb_models.lopez_embedded",
         "paths": []
        },
        "elements": {
         "edges": [
          {
           "data": {
            "arrowhead": "normal",
            "id": "5f916166-9f43-4b54-8c68-93645799eb11",
            "source": "s0",
            "source_arrow_fill": "hollow",
            "source_arrow_shape": "diamond",
            "target": "s21",
            "target_arrow_shape": "triangle"
           }
          },
          {
           "data": {
            "arrowhead": "normal",
            "id": "b2caa5f4-dca4-4944-9bfa-3590bc394fbe",
            "source": "s1",
            "source_arrow_fill": "hollow",
            "source_arrow_shape": "diamond",
            "target": "s21",
            "target_arrow_shape": "triangle"
           }
          },
          {
           "data": {
            "arrowhead": "normal",
            "id": "9f0e6006-184c-4f7c-b3c4-440b0b914fcd",
            "source": "s2",
            "source_arrow_fill": "hollow",
            "source_arrow_shape": "diamond",
            "target": "s27",
            "target_arrow_shape": "triangle"
           }
          },
          {
           "data": {
            "arrowhead": "normal",
            "id": "c7086838-e205-44c4-8b32-4745daf141b3",
            "source": "s3",
            "source_arrow_fill": "hollow",
            "source_arrow_shape": "diamond",
            "target": "s26",
            "target_arrow_shape": "triangle"
           }
          },
          {
           "data": {
            "arrowhead": "normal",
            "id": "96d77e0b-3e5a-4431-82f7-213eb1917fa0",
            "source": "s3",
            "source_arrow_fill": "hollow",
            "source_arrow_shape": "diamond",
            "target": "s46",
            "target_arrow_shape": "triangle"
           }
          },
          {
           "data": {
            "arrowhead": "normal",
            "id": "1e832eff-839a-4577-b899-8a3b34190428",
            "source": "s4",
            "source_arrow_fill": "hollow",
            "source_arrow_shape": "diamond",
            "target": "s30",
            "target_arrow_shape": "triangle"
           }
          },
          {
           "data": {
            "arrowhead": "normal",
            "id": "ff410131-5eb8-4d48-ba77-82af066ea08b",
            "source": "s5",
            "source_arrow_fill": "hollow",
            "source_arrow_shape": "diamond",
            "target": "s71",
            "target_arrow_shape": "triangle"
           }
          },
          {
           "data": {
            "arrowhead": "normal",
            "id": "ebf1e0de-07ad-447a-aca4-87b89f38afcc",
            "source": "s6",
            "source_arrow_fill": "hollow",
            "source_arrow_shape": "diamond",
            "target": "s31",
            "target_arrow_shape": "triangle"
           }
          },
          {
           "data": {
            "arrowhead": "normal",
            "id": "08aab80a-c2c7-46ac-8610-d8eea73bca91",
            "source": "s6",
            "source_arrow_fill": "hollow",
            "source_arrow_shape": "diamond",
            "target": "s75",
            "target_arrow_shape": "triangle"
           }
          },
          {
           "data": {
            "arrowhead": "normal",
            "id": "890657cf-c5d8-4fff-84d7-25dac6f17103",
            "source": "s7",
            "source_arrow_fill": "hollow",
            "source_arrow_shape": "diamond",
            "target": "s36",
            "target_arrow_shape": "triangle"
           }
          },
          {
           "data": {
            "arrowhead": "normal",
            "id": "731142b6-f7f5-4c5a-bd0b-07ebac4a8db5",
            "source": "s8",
            "source_arrow_fill": "hollow",
            "source_arrow_shape": "diamond",
            "target": "s74",
            "target_arrow_shape": "triangle"
           }
          },
          {
           "data": {
            "arrowhead": "normal",
            "id": "572864fb-dfcf-42d1-a439-d0ad5efd742b",
            "source": "s9",
            "source_arrow_fill": "hollow",
            "source_arrow_shape": "diamond",
            "target": "s35",
            "target_arrow_shape": "triangle"
           }
          },
          {
           "data": {
            "arrowhead": "normal",
            "id": "4f770251-98a1-49cd-b9b6-b85b7b78e678",
            "source": "s10",
            "source_arrow_fill": "hollow",
            "source_arrow_shape": "diamond",
            "target": "s34",
            "target_arrow_shape": "triangle"
           }
          },
          {
           "data": {
            "arrowhead": "normal",
            "id": "2d9cbcb8-b677-4fdc-a4db-05d3b62524c5",
            "source": "s10",
            "source_arrow_fill": "hollow",
            "source_arrow_shape": "diamond",
            "target": "s72",
            "target_arrow_shape": "triangle"
           }
          },
          {
           "data": {
            "arrowhead": "normal",
            "id": "25e1b13b-f960-4acd-be56-87d4ab972d05",
            "source": "s10",
            "source_arrow_fill": "hollow",
            "source_arrow_shape": "diamond",
            "target": "s76",
            "target_arrow_shape": "triangle"
           }
          },
          {
           "data": {
            "arrowhead": "normal",
            "id": "d5b6fe45-894c-4dd2-9ebb-7080a786b3f9",
            "source": "s11",
            "source_arrow_fill": "hollow",
            "source_arrow_shape": "diamond",
            "target": "s29",
            "target_arrow_shape": "triangle"
           }
          },
          {
           "data": {
            "arrowhead": "normal",
            "id": "973f0d17-c3bb-4f00-9f11-352c2b3c4b5a",
            "source": "s12",
            "source_arrow_fill": "hollow",
            "source_arrow_shape": "diamond",
            "target": "s41",
            "target_arrow_shape": "triangle"
           }
          },
          {
           "data": {
            "arrowhead": "normal",
            "id": "d7148780-1b85-44cc-b0eb-00922acaa379",
            "source": "s13",
            "source_arrow_fill": "hollow",
            "source_arrow_shape": "diamond",
            "target": "s42",
            "target_arrow_shape": "triangle"
           }
          },
          {
           "data": {
            "arrowhead": "normal",
            "id": "0669dbf7-e4d8-43f3-bcd7-397bd573b4b2",
            "source": "s13",
            "source_arrow_fill": "hollow",
            "source_arrow_shape": "diamond",
            "target": "s50",
            "target_arrow_shape": "triangle"
           }
          },
          {
           "data": {
            "arrowhead": "normal",
            "id": "f5a16baf-8038-400f-8e9c-7b1da217884d",
            "source": "s14",
            "source_arrow_fill": "hollow",
            "source_arrow_shape": "diamond",
            "target": "s22",
            "target_arrow_shape": "triangle"
           }
          },
          {
           "data": {
            "arrowhead": "normal",
            "id": "1dade944-c525-4736-b0d7-fa6c2f625367",
            "source": "s14",
            "source_arrow_fill": "hollow",
            "source_arrow_shape": "diamond",
            "target": "s43",
            "target_arrow_shape": "triangle"
           }
          },
          {
           "data": {
            "arrowhead": "normal",
            "id": "c6a0b63d-7efa-497c-ab7d-27083ba28f8b",
            "source": "s14",
            "source_arrow_fill": "hollow",
            "source_arrow_shape": "diamond",
            "target": "s57",
            "target_arrow_shape": "triangle"
           }
          },
          {
           "data": {
            "arrowhead": "normal",
            "id": "3e3ef298-c397-4417-ac97-d7a63e26235b",
            "source": "s15",
            "source_arrow_fill": "hollow",
            "source_arrow_shape": "diamond",
            "target": "s23",
            "target_arrow_shape": "triangle"
           }
          },
          {
           "data": {
            "arrowhead": "normal",
            "id": "932a4ecc-6771-4321-b333-ff147f3d3362",
            "source": "s15",
            "source_arrow_fill": "hollow",
            "source_arrow_shape": "diamond",
            "target": "s44",
            "target_arrow_shape": "triangle"
           }
          },
          {
           "data": {
            "arrowhead": "normal",
            "id": "bad5f98f-eb56-45d4-9471-ae361e0e0030",
            "source": "s15",
            "source_arrow_fill": "hollow",
            "source_arrow_shape": "diamond",
            "target": "s51",
            "target_arrow_shape": "triangle"
           }
          },
          {
           "data": {
            "arrowhead": "normal",
            "id": "8e7e0b31-736e-4286-8ab0-7a56bd7e3a34",
            "source": "s15",
            "source_arrow_fill": "hollow",
            "source_arrow_shape": "diamond",
            "target": "s58",
            "target_arrow_shape": "triangle"
           }
          },
          {
           "data": {
            "arrowhead": "normal",
            "id": "4260ecf0-1e55-45d0-8706-a8fb7ef9b09a",
            "source": "s16",
            "source_arrow_fill": "hollow",
            "source_arrow_shape": "diamond",
            "target": "s24",
            "target_arrow_shape": "triangle"
           }
          },
          {
           "data": {
            "arrowhead": "normal",
            "id": "ea7ef64b-5fc4-4e4c-9025-a04506116a3a",
            "source": "s16",
            "source_arrow_fill": "hollow",
            "source_arrow_shape": "diamond",
            "target": "s45",
            "target_arrow_shape": "triangle"
           }
          },
          {
           "data": {
            "arrowhead": "normal",
            "id": "428f2f4d-cd9b-43be-bead-79a79da0b7c1",
            "source": "s16",
            "source_arrow_fill": "hollow",
            "source_arrow_shape": "diamond",
            "target": "s52",
            "target_arrow_shape": "triangle"
           }
          },
          {
           "data": {
            "arrowhead": "normal",
            "id": "0e9f4dea-270b-40ee-8d42-369dcd76d294",
            "source": "s17",
            "source_arrow_fill": "hollow",
            "source_arrow_shape": "diamond",
            "target": "s22",
            "target_arrow_shape": "triangle"
           }
          },
          {
           "data": {
            "arrowhead": "normal",
            "id": "d93c40e9-cc6f-45a2-8a55-d4115c249f19",
            "source": "s17",
            "source_arrow_fill": "hollow",
            "source_arrow_shape": "diamond",
            "target": "s23",
            "target_arrow_shape": "triangle"
           }
          },
          {
           "data": {
            "arrowhead": "normal",
            "id": "961fdf0c-ae4c-4445-855e-c6585c783609",
            "source": "s18",
            "source_arrow_fill": "hollow",
            "source_arrow_shape": "diamond",
            "target": "s24",
            "target_arrow_shape": "triangle"
           }
          },
          {
           "data": {
            "arrowhead": "normal",
            "id": "87494d60-5289-4cb1-9d38-fadec6612bde",
            "source": "s19",
            "source_arrow_fill": "hollow",
            "source_arrow_shape": "diamond",
            "target": "s62",
            "target_arrow_shape": "triangle"
           }
          },
          {
           "data": {
            "arrowhead": "normal",
            "id": "94d7e330-e9f1-4bd9-83b0-1bc9e033108c",
            "source": "s19",
            "source_arrow_fill": "hollow",
            "source_arrow_shape": "diamond",
            "target": "s69",
            "target_arrow_shape": "triangle"
           }
          },
          {
           "data": {
            "arrowhead": "normal",
            "id": "1954876c-874b-41da-a765-485eede7fab6",
            "source": "s20",
            "source_arrow_fill": "hollow",
            "source_arrow_shape": "diamond",
            "target": "s63",
            "target_arrow_shape": "triangle"
           }
          },
          {
           "data": {
            "arrowhead": "normal",
            "id": "053aebe0-3430-40da-8d50-b4e36d8880be",
            "source": "s20",
            "source_arrow_fill": "hollow",
            "source_arrow_shape": "diamond",
            "target": "s70",
            "target_arrow_shape": "triangle"
           }
          },
          {
           "data": {
            "arrowhead": "normal",
            "id": "af98084c-0c01-4407-aa57-9c5db7a80403",
            "source": "s21",
            "source_arrow_fill": "filled",
            "source_arrow_shape": "none",
            "target": "s25",
            "target_arrow_shape": "triangle"
           }
          },
          {
           "data": {
            "arrowhead": "normal",
            "id": "e66de821-ad98-46b9-a553-93e996e3609c",
            "source": "s25",
            "source_arrow_fill": "hollow",
            "source_arrow_shape": "diamond",
            "target": "s26",
            "target_arrow_shape": "triangle"
           }
          },
          {
           "data": {
            "arrowhead": "normal",
            "id": "5edfdeb5-c452-48ac-bf6d-e5760ce6de9a",
            "source": "s25",
            "source_arrow_fill": "hollow",
            "source_arrow_shape": "diamond",
            "target": "s27",
            "target_arrow_shape": "triangle"
           }
          },
          {
           "data": {
            "arrowhead": "normal",
            "id": "be410dd1-ff44-47c4-a45e-fef514b22cbd",
            "source": "s26",
            "source_arrow_fill": "filled",
            "source_arrow_shape": "none",
            "target": "s25",
            "target_arrow_shape": "triangle"
           }
          },
          {
           "data": {
            "arrowhead": "normal",
            "id": "142889e2-cc00-48e4-a23b-caa0e31de985",
            "source": "s26",
            "source_arrow_fill": "filled",
            "source_arrow_shape": "none",
            "target": "s28",
            "target_arrow_shape": "triangle"
           }
          },
          {
           "data": {
            "arrowhead": "normal",
            "id": "b07b3f6b-1d65-472f-afbb-df94d06fa015",
            "source": "s28",
            "source_arrow_fill": "hollow",
            "source_arrow_shape": "diamond",
            "target": "s29",
            "target_arrow_shape": "triangle"
           }
          },
          {
           "data": {
            "arrowhead": "normal",
            "id": "8bffe50e-9fe0-4a40-8bf3-c4c529d221b7",
            "source": "s28",
            "source_arrow_fill": "hollow",
            "source_arrow_shape": "diamond",
            "target": "s30",
            "target_arrow_shape": "triangle"
           }
          },
          {
           "data": {
            "arrowhead": "normal",
            "id": "d0a35832-2f57-496d-bad0-b1dbb6d422ff",
            "source": "s28",
            "source_arrow_fill": "hollow",
            "source_arrow_shape": "diamond",
            "target": "s31",
            "target_arrow_shape": "triangle"
           }
          },
          {
           "data": {
            "arrowhead": "normal",
            "id": "14c45084-e684-4e0f-91f0-b0adaedd6079",
            "source": "s29",
            "source_arrow_fill": "filled",
            "source_arrow_shape": "none",
            "target": "s32",
            "target_arrow_shape": "triangle"
           }
          },
          {
           "data": {
            "arrowhead": "normal",
            "id": "174681ba-b2f7-43d3-9da9-53efed144f9a",
            "source": "s29",
            "source_arrow_fill": "filled",
            "source_arrow_shape": "none",
            "target": "s28",
            "target_arrow_shape": "triangle"
           }
          },
          {
           "data": {
            "arrowhead": "normal",
            "id": "7d097195-f797-4aea-9fe8-309f12b5411a",
            "source": "s31",
            "source_arrow_fill": "filled",
            "source_arrow_shape": "none",
            "target": "s33",
            "target_arrow_shape": "triangle"
           }
          },
          {
           "data": {
            "arrowhead": "normal",
            "id": "add23ff7-9b9c-47b2-8444-1a615f499aa8",
            "source": "s31",
            "source_arrow_fill": "filled",
            "source_arrow_shape": "none",
            "target": "s28",
            "target_arrow_shape": "triangle"
           }
          },
          {
           "data": {
            "arrowhead": "normal",
            "id": "db815584-6337-4780-a71f-b91df2282a32",
            "source": "s32",
            "source_arrow_fill": "hollow",
            "source_arrow_shape": "diamond",
            "target": "s37",
            "target_arrow_shape": "triangle"
           }
          },
          {
           "data": {
            "arrowhead": "normal",
            "id": "63a7b2e2-582d-4052-890c-15da8c0e4380",
            "source": "s33",
            "source_arrow_fill": "hollow",
            "source_arrow_shape": "diamond",
            "target": "s34",
            "target_arrow_shape": "triangle"
           }
          },
          {
           "data": {
            "arrowhead": "normal",
            "id": "ad808d26-a2d7-4193-8ef5-128c6b7a40c9",
            "source": "s33",
            "source_arrow_fill": "hollow",
            "source_arrow_shape": "diamond",
            "target": "s35",
            "target_arrow_shape": "triangle"
           }
          },
          {
           "data": {
            "arrowhead": "normal",
            "id": "e398c008-1c92-4330-bb10-5dafe9caab34",
            "source": "s33",
            "source_arrow_fill": "hollow",
            "source_arrow_shape": "diamond",
            "target": "s36",
            "target_arrow_shape": "triangle"
           }
          },
          {
           "data": {
            "arrowhead": "normal",
            "id": "bc422743-a152-49aa-bb11-54d372eaefb0",
            "source": "s34",
            "source_arrow_fill": "filled",
            "source_arrow_shape": "none",
            "target": "s10",
            "target_arrow_shape": "triangle"
           }
          },
          {
           "data": {
            "arrowhead": "normal",
            "id": "d7c6d64e-88e1-48ea-bda1-35f7c4753a1c",
            "source": "s34",
            "source_arrow_fill": "filled",
            "source_arrow_shape": "none",
            "target": "s38",
            "target_arrow_shape": "triangle"
           }
          },
          {
           "data": {
            "arrowhead": "normal",
            "id": "7a35dd97-b669-487a-bcb8-897889a33625",
            "source": "s35",
            "source_arrow_fill": "filled",
            "source_arrow_shape": "none",
            "target": "s33",
            "target_arrow_shape": "triangle"
           }
          },
          {
           "data": {
            "arrowhead": "normal",
            "id": "c6aae081-ec8b-4c4e-a815-1a30a541b694",
            "source": "s35",
            "source_arrow_fill": "filled",
            "source_arrow_shape": "none",
            "target": "s39",
            "target_arrow_shape": "triangle"
           }
          },
          {
           "data": {
            "arrowhead": "normal",
            "id": "84daea61-2eb0-48da-989e-488982239c26",
            "source": "s36",
            "source_arrow_fill": "filled",
            "source_arrow_shape": "none",
            "target": "s40",
            "target_arrow_shape": "triangle"
           }
          },
          {
           "data": {
            "arrowhead": "normal",
            "id": "b5d14774-2228-4ea8-8266-d53c9fa61130",
            "source": "s36",
            "source_arrow_fill": "filled",
            "source_arrow_shape": "none",
            "target": "s33",
            "target_arrow_shape": "triangle"
           }
          },
          {
           "data": {
            "arrowhead": "normal",
            "id": "fc821ce9-fc62-4315-99a9-21a6d8472936",
            "source": "s37",
            "source_arrow_fill": "hollow",
            "source_arrow_shape": "diamond",
            "target": "s41",
            "target_arrow_shape": "triangle"
           }
          },
          {
           "data": {
            "arrowhead": "normal",
            "id": "b3a44eda-623a-4af6-903d-82654301069a",
            "source": "s37",
            "source_arrow_fill": "hollow",
            "source_arrow_shape": "diamond",
            "target": "s42",
            "target_arrow_shape": "triangle"
           }
          },
          {
           "data": {
            "arrowhead": "normal",
            "id": "f1d5f585-753d-4c48-bb35-b3c9f53345f7",
            "source": "s37",
            "source_arrow_fill": "hollow",
            "source_arrow_shape": "diamond",
            "target": "s43",
            "target_arrow_shape": "triangle"
           }
          },
          {
           "data": {
            "arrowhead": "normal",
            "id": "004a4484-6dc6-418d-91c0-949375799288",
            "source": "s37",
            "source_arrow_fill": "hollow",
            "source_arrow_shape": "diamond",
            "target": "s44",
            "target_arrow_shape": "triangle"
           }
          },
          {
           "data": {
            "arrowhead": "normal",
            "id": "5ae96d15-6ad0-42a8-a12a-fe54f895e5fd",
            "source": "s37",
            "source_arrow_fill": "hollow",
            "source_arrow_shape": "diamond",
            "target": "s45",
            "target_arrow_shape": "triangle"
           }
          },
          {
           "data": {
            "arrowhead": "normal",
            "id": "107ba80f-c657-4447-8293-798fb70f72e1",
            "source": "s37",
            "source_arrow_fill": "hollow",
            "source_arrow_shape": "diamond",
            "target": "s49",
            "target_arrow_shape": "triangle"
           }
          },
          {
           "data": {
            "arrowhead": "normal",
            "id": "aaa6d18c-4417-4598-aad8-0768237eef4f",
            "source": "s40",
            "source_arrow_fill": "hollow",
            "source_arrow_shape": "diamond",
            "target": "s46",
            "target_arrow_shape": "triangle"
           }
          },
          {
           "data": {
            "arrowhead": "normal",
            "id": "34ab1e4c-5717-4654-b532-74d48318dbbc",
            "source": "s41",
            "source_arrow_fill": "filled",
            "source_arrow_shape": "none",
            "target": "s37",
            "target_arrow_shape": "triangle"
           }
          },
          {
           "data": {
            "arrowhead": "normal",
            "id": "a2c4a174-b692-47cf-8c93-9525c02dce01",
            "source": "s41",
            "source_arrow_fill": "filled",
            "source_arrow_shape": "none",
            "target": "s47",
            "target_arrow_shape": "triangle"
           }
          },
          {
           "data": {
            "arrowhead": "normal",
            "id": "d9e7c304-819e-4403-b9e0-3badff4ac85f",
            "source": "s42",
            "source_arrow_fill": "filled",
            "source_arrow_shape": "none",
            "target": "s48",
            "target_arrow_shape": "triangle"
           }
          },
          {
           "data": {
            "arrowhead": "normal",
            "id": "5bdbe7a4-bf3f-4abb-ae5f-8aa88e892f95",
            "source": "s42",
            "source_arrow_fill": "filled",
            "source_arrow_shape": "none",
            "target": "s37",
            "target_arrow_shape": "triangle"
           }
          },
          {
           "data": {
            "arrowhead": "normal",
            "id": "2f1d2804-7584-4ea1-a520-6837710fd715",
            "source": "s46",
            "source_arrow_fill": "filled",
            "source_arrow_shape": "none",
            "target": "s40",
            "target_arrow_shape": "triangle"
           }
          },
          {
           "data": {
            "arrowhead": "normal",
            "id": "0e535be1-f760-4a77-b58a-c57088c47666",
            "source": "s46",
            "source_arrow_fill": "filled",
            "source_arrow_shape": "none",
            "target": "s28",
            "target_arrow_shape": "triangle"
           }
          },
          {
           "data": {
            "arrowhead": "normal",
            "id": "e346af17-a98f-4054-a230-f4b6239deda0",
            "source": "s47",
            "source_arrow_fill": "hollow",
            "source_arrow_shape": "diamond",
            "target": "s49",
            "target_arrow_shape": "triangle"
           }
          },
          {
           "data": {
            "arrowhead": "normal",
            "id": "89bce1b7-34fa-4242-b2cc-0a2cb6a49411",
            "source": "s47",
            "source_arrow_fill": "hollow",
            "source_arrow_shape": "diamond",
            "target": "s56",
            "target_arrow_shape": "triangle"
           }
          },
          {
           "data": {
            "arrowhead": "normal",
            "id": "1c2539cb-0b19-49b5-a732-ee9990020caf",
            "source": "s48",
            "source_arrow_fill": "hollow",
            "source_arrow_shape": "diamond",
            "target": "s50",
            "target_arrow_shape": "triangle"
           }
          },
          {
           "data": {
            "arrowhead": "normal",
            "id": "8cf31398-d049-4686-88f4-f6e4cceb8ac7",
            "source": "s48",
            "source_arrow_fill": "hollow",
            "source_arrow_shape": "diamond",
            "target": "s51",
            "target_arrow_shape": "triangle"
           }
          },
          {
           "data": {
            "arrowhead": "normal",
            "id": "65ccc118-8afa-453d-a539-607a4f531f6a",
            "source": "s48",
            "source_arrow_fill": "hollow",
            "source_arrow_shape": "diamond",
            "target": "s52",
            "target_arrow_shape": "triangle"
           }
          },
          {
           "data": {
            "arrowhead": "normal",
            "id": "8cef8dd9-1374-4f20-9224-4657ced5c45c",
            "source": "s48",
            "source_arrow_fill": "hollow",
            "source_arrow_shape": "diamond",
            "target": "s53",
            "target_arrow_shape": "triangle"
           }
          },
          {
           "data": {
            "arrowhead": "normal",
            "id": "2f69dfab-6fda-4a14-8cb4-2956e5fdf84e",
            "source": "s48",
            "source_arrow_fill": "hollow",
            "source_arrow_shape": "diamond",
            "target": "s55",
            "target_arrow_shape": "triangle"
           }
          },
          {
           "data": {
            "arrowhead": "normal",
            "id": "25902c46-8686-4fd8-a91c-19fee27d1da4",
            "source": "s48",
            "source_arrow_fill": "hollow",
            "source_arrow_shape": "diamond",
            "target": "s60",
            "target_arrow_shape": "triangle"
           }
          },
          {
           "data": {
            "arrowhead": "normal",
            "id": "f04d95da-7740-48de-a363-e7ad48000442",
            "source": "s49",
            "source_arrow_fill": "filled",
            "source_arrow_shape": "none",
            "target": "s37",
            "target_arrow_shape": "triangle"
           }
          },
          {
           "data": {
            "arrowhead": "normal",
            "id": "08122c7b-2105-43eb-914f-c0848bd5f119",
            "source": "s49",
            "source_arrow_fill": "filled",
            "source_arrow_shape": "none",
            "target": "s54",
            "target_arrow_shape": "triangle"
           }
          },
          {
           "data": {
            "arrowhead": "normal",
            "id": "0d9274a0-0344-4e65-ab67-e1036adae2d5",
            "source": "s50",
            "source_arrow_fill": "filled",
            "source_arrow_shape": "none",
            "target": "s48",
            "target_arrow_shape": "triangle"
           }
          },
          {
           "data": {
            "arrowhead": "normal",
            "id": "4ba5032f-4709-4b7c-8786-d1fcb4bbee07",
            "source": "s53",
            "source_arrow_fill": "hollow",
            "source_arrow_shape": "diamond",
            "target": "s55",
            "target_arrow_shape": "triangle"
           }
          },
          {
           "data": {
            "arrowhead": "normal",
            "id": "7196b8f1-b481-42d4-b22c-dde221921963",
            "source": "s54",
            "source_arrow_fill": "hollow",
            "source_arrow_shape": "diamond",
            "target": "s56",
            "target_arrow_shape": "triangle"
           }
          },
          {
           "data": {
            "arrowhead": "normal",
            "id": "2cd1c48c-0d52-4852-b9e4-ffb638758050",
            "source": "s54",
            "source_arrow_fill": "hollow",
            "source_arrow_shape": "diamond",
            "target": "s57",
            "target_arrow_shape": "triangle"
           }
          },
          {
           "data": {
            "arrowhead": "normal",
            "id": "b6667cf4-d9fb-4cf7-982c-89f67d8695e1",
            "source": "s54",
            "source_arrow_fill": "hollow",
            "source_arrow_shape": "diamond",
            "target": "s58",
            "target_arrow_shape": "triangle"
           }
          },
          {
           "data": {
            "arrowhead": "normal",
            "id": "d23824cf-aa5e-4c3e-8680-cd93c1cc350a",
            "source": "s54",
            "source_arrow_fill": "hollow",
            "source_arrow_shape": "diamond",
            "target": "s59",
            "target_arrow_shape": "triangle"
           }
          },
          {
           "data": {
            "arrowhead": "normal",
            "id": "aa2ea8b1-0cff-4933-a1a6-85deb4213310",
            "source": "s54",
            "source_arrow_fill": "hollow",
            "source_arrow_shape": "diamond",
            "target": "s61",
            "target_arrow_shape": "triangle"
           }
          },
          {
           "data": {
            "arrowhead": "normal",
            "id": "bfc91555-22c5-4ea5-9501-650de4f4c91d",
            "source": "s54",
            "source_arrow_fill": "hollow",
            "source_arrow_shape": "diamond",
            "target": "s64",
            "target_arrow_shape": "triangle"
           }
          },
          {
           "data": {
            "arrowhead": "normal",
            "id": "bce4fe76-efc1-4778-ad76-f2b73d344272",
            "source": "s55",
            "source_arrow_fill": "hollow",
            "source_arrow_shape": "diamond",
            "target": "s60",
            "target_arrow_shape": "triangle"
           }
          },
          {
           "data": {
            "arrowhead": "normal",
            "id": "6886890d-8283-453f-a36b-13a9673a859c",
            "source": "s56",
            "source_arrow_fill": "filled",
            "source_arrow_shape": "none",
            "target": "s54",
            "target_arrow_shape": "triangle"
           }
          },
          {
           "data": {
            "arrowhead": "normal",
            "id": "7854ab51-cef7-4005-a318-32582810789a",
            "source": "s59",
            "source_arrow_fill": "hollow",
            "source_arrow_shape": "diamond",
            "target": "s61",
            "target_arrow_shape": "triangle"
           }
          },
          {
           "data": {
            "arrowhead": "normal",
            "id": "b1c87e31-8797-41d4-b865-b18f64be98d1",
            "source": "s60",
            "source_arrow_fill": "hollow",
            "source_arrow_shape": "diamond",
            "target": "s62",
            "target_arrow_shape": "triangle"
           }
          },
          {
           "data": {
            "arrowhead": "normal",
            "id": "b0207630-8776-45e7-b64d-bb5a2493a3bd",
            "source": "s60",
            "source_arrow_fill": "hollow",
            "source_arrow_shape": "diamond",
            "target": "s63",
            "target_arrow_shape": "triangle"
           }
          },
          {
           "data": {
            "arrowhead": "normal",
            "id": "13538f4b-4da7-460b-91d5-01ba3448d20a",
            "source": "s61",
            "source_arrow_fill": "hollow",
            "source_arrow_shape": "diamond",
            "target": "s64",
            "target_arrow_shape": "triangle"
           }
          },
          {
           "data": {
            "arrowhead": "normal",
            "id": "ae874c2c-e178-48db-b498-fbb7f46e5de4",
            "source": "s62",
            "source_arrow_fill": "filled",
            "source_arrow_shape": "none",
            "target": "s65",
            "target_arrow_shape": "triangle"
           }
          },
          {
           "data": {
            "arrowhead": "normal",
            "id": "bbdf023d-e10c-41cd-8244-24e10a059490",
            "source": "s62",
            "source_arrow_fill": "filled",
            "source_arrow_shape": "none",
            "target": "s60",
            "target_arrow_shape": "triangle"
           }
          },
          {
           "data": {
            "arrowhead": "normal",
            "id": "d0e1fdf1-8a35-4535-9fa9-96a3be7d24bb",
            "source": "s63",
            "source_arrow_fill": "filled",
            "source_arrow_shape": "none",
            "target": "s66",
            "target_arrow_shape": "triangle"
           }
          },
          {
           "data": {
            "arrowhead": "normal",
            "id": "00397fcc-0242-4e4f-9de3-5bf386016c3d",
            "source": "s63",
            "source_arrow_fill": "filled",
            "source_arrow_shape": "none",
            "target": "s60",
            "target_arrow_shape": "triangle"
           }
          },
          {
           "data": {
            "arrowhead": "normal",
            "id": "46959a7d-4c35-4762-a734-2fb02ad9ca3d",
            "source": "s64",
            "source_arrow_fill": "hollow",
            "source_arrow_shape": "diamond",
            "target": "s69",
            "target_arrow_shape": "triangle"
           }
          },
          {
           "data": {
            "arrowhead": "normal",
            "id": "bbfceca8-7f0e-4462-8d9e-029e07db844f",
            "source": "s64",
            "source_arrow_fill": "hollow",
            "source_arrow_shape": "diamond",
            "target": "s70",
            "target_arrow_shape": "triangle"
           }
          },
          {
           "data": {
            "arrowhead": "normal",
            "id": "b8ff312a-cc35-4f67-babe-fa8dd6e816b0",
            "source": "s65",
            "source_arrow_fill": "hollow",
            "source_arrow_shape": "diamond",
            "target": "s68",
            "target_arrow_shape": "triangle"
           }
          },
          {
           "data": {
            "arrowhead": "normal",
            "id": "16cae4f8-019c-42f5-a72a-b1c08335b4f1",
            "source": "s66",
            "source_arrow_fill": "hollow",
            "source_arrow_shape": "diamond",
            "target": "s67",
            "target_arrow_shape": "triangle"
           }
          },
          {
           "data": {
            "arrowhead": "normal",
            "id": "9625995e-00a8-4846-b726-d38dd3bdf328",
            "source": "s67",
            "source_arrow_fill": "hollow",
            "source_arrow_shape": "diamond",
            "target": "s72",
            "target_arrow_shape": "triangle"
           }
          },
          {
           "data": {
            "arrowhead": "normal",
            "id": "42f661d2-8333-42c7-93fb-8cf9470a06fe",
            "source": "s68",
            "source_arrow_fill": "hollow",
            "source_arrow_shape": "diamond",
            "target": "s71",
            "target_arrow_shape": "triangle"
           }
          },
          {
           "data": {
            "arrowhead": "normal",
            "id": "1e418c65-f2c5-4ea7-a26a-b8c94eb80292",
            "source": "s69",
            "source_arrow_fill": "filled",
            "source_arrow_shape": "none",
            "target": "s64",
            "target_arrow_shape": "triangle"
           }
          },
          {
           "data": {
            "arrowhead": "normal",
            "id": "e18dd938-bd51-4f4d-95b5-aaee2d599d11",
            "source": "s69",
            "source_arrow_fill": "filled",
            "source_arrow_shape": "none",
            "target": "s65",
            "target_arrow_shape": "triangle"
           }
          },
          {
           "data": {
            "arrowhead": "normal",
            "id": "5fbe96a4-629f-48b8-a18e-6df9ea1b5e13",
            "source": "s70",
            "source_arrow_fill": "filled",
            "source_arrow_shape": "none",
            "target": "s64",
            "target_arrow_shape": "triangle"
           }
          },
          {
           "data": {
            "arrowhead": "normal",
            "id": "089fe320-4a8d-4c95-8812-43f5bfb3d4f4",
            "source": "s70",
            "source_arrow_fill": "filled",
            "source_arrow_shape": "none",
            "target": "s66",
            "target_arrow_shape": "triangle"
           }
          },
          {
           "data": {
            "arrowhead": "normal",
            "id": "211394eb-8c2d-4fa6-a358-a1a24b2b4316",
            "source": "s71",
            "source_arrow_fill": "filled",
            "source_arrow_shape": "none",
            "target": "s73",
            "target_arrow_shape": "triangle"
           }
          },
          {
           "data": {
            "arrowhead": "normal",
            "id": "44934872-e60b-4daa-aeb0-1ac6f3d00c1f",
            "source": "s71",
            "source_arrow_fill": "filled",
            "source_arrow_shape": "none",
            "target": "s68",
            "target_arrow_shape": "triangle"
           }
          },
          {
           "data": {
            "arrowhead": "normal",
            "id": "ec4fe87e-befb-4dca-a613-b63834949483",
            "source": "s73",
            "source_arrow_fill": "hollow",
            "source_arrow_shape": "diamond",
            "target": "s74",
            "target_arrow_shape": "triangle"
           }
          },
          {
           "data": {
            "arrowhead": "normal",
            "id": "328e1d2a-94d6-455a-ae7d-4c3f13ceeac3",
            "source": "s74",
            "source_arrow_fill": "hollow",
            "source_arrow_shape": "diamond",
            "target": "s75",
            "target_arrow_shape": "triangle"
           }
          },
          {
           "data": {
            "arrowhead": "normal",
            "id": "fde98cbe-fb44-44e5-9bcd-9be4acbf4d91",
            "source": "s74",
            "source_arrow_fill": "hollow",
            "source_arrow_shape": "diamond",
            "target": "s76",
            "target_arrow_shape": "triangle"
           }
          },
          {
           "data": {
            "arrowhead": "normal",
            "id": "8f0ab5d6-48e1-4b48-bfd0-864cea5c4377",
            "source": "s75",
            "source_arrow_fill": "filled",
            "source_arrow_shape": "none",
            "target": "s33",
            "target_arrow_shape": "triangle"
           }
          },
          {
           "data": {
            "arrowhead": "normal",
            "id": "bb29423c-7fa9-4e7e-921b-40ca97d5e652",
            "source": "s75",
            "source_arrow_fill": "filled",
            "source_arrow_shape": "none",
            "target": "s74",
            "target_arrow_shape": "triangle"
           }
          }
         ],
         "nodes": [
          {
           "data": {
            "NodeType": "species",
            "background_color": "#2b913a",
            "id": "s0",
            "label": "L",
            "name": "s0",
            "shape": "ellipse"
           },
           "position": {
            "x": 27,
            "y": 156
           }
          },
          {
           "data": {
            "NodeType": "species",
            "background_color": "#2b913a",
            "id": "s1",
            "label": "R",
            "name": "s1",
            "shape": "ellipse"
           },
           "position": {
            "x": 27,
            "y": 102
           }
          },
          {
           "data": {
            "NodeType": "species",
            "background_color": "#2b913a",
            "id": "s2",
            "label": "flip",
            "name": "s2",
            "shape": "ellipse"
           },
           "position": {
            "x": 212.22,
            "y": 183
           }
          },
          {
           "data": {
            "NodeType": "species",
            "background_color": "#2b913a",
            "id": "s3",
            "label": "proC8",
            "name": "s3",
            "shape": "ellipse"
           },
           "position": {
            "x": 212.22,
            "y": 25
           }
          },
          {
           "data": {
            "NodeType": "species",
            "background_color": "#2b913a",
            "id": "s4",
            "label": "BAR",
            "name": "s4",
            "shape": "ellipse"
           },
           "position": {
            "x": 459.26,
            "y": 46
           }
          },
          {
           "data": {
            "NodeType": "species",
            "background_color": "#2b913a",
            "id": "s5",
            "label": "iApaf",
            "name": "s5",
            "shape": "ellipse"
           },
           "position": {
            "x": 2092.3,
            "y": 998
           }
          },
          {
           "data": {
            "NodeType": "species",
            "background_color": "#2b913a",
            "id": "s6",
            "label": "proC3",
            "name": "s6",
            "shape": "ellipse"
           },
           "position": {
            "x": 459.26,
            "y": 553
           }
          },
          {
           "data": {
            "NodeType": "species",
            "background_color": "#2b913a",
            "id": "s7",
            "label": "proC6",
            "name": "s7",
            "shape": "ellipse"
           },
           "position": {
            "x": 2698.3,
            "y": 268
           }
          },
          {
           "data": {
            "NodeType": "species",
            "background_color": "#2b913a",
            "id": "s8",
            "label": "C9",
            "name": "s8",
            "shape": "ellipse"
           },
           "position": {
            "x": 2353.6,
            "y": 998
           }
          },
          {
           "data": {
            "NodeType": "species",
            "background_color": "#2b913a",
            "id": "s9",
            "label": "uPARP",
            "name": "s9",
            "shape": "ellipse"
           },
           "position": {
            "x": 2698.3,
            "y": 376
           }
          },
          {
           "data": {
            "NodeType": "species",
            "background_color": "#2b913a",
            "id": "s10",
            "label": "XIAP",
            "name": "s10",
            "shape": "ellipse"
           },
           "position": {
            "x": 2947.5,
            "y": 322
           }
          },
          {
           "data": {
            "NodeType": "species",
            "background_color": "#2b913a",
            "id": "s11",
            "label": "uBid",
            "name": "s11",
            "shape": "ellipse"
           },
           "position": {
            "x": 459.26,
            "y": 100
           }
          },
          {
           "data": {
            "NodeType": "species",
            "background_color": "#2b913a",
            "id": "s12",
            "label": "cBax",
            "name": "s12",
            "shape": "ellipse"
           },
           "position": {
            "x": 788.43,
            "y": 668
           }
          },
          {
           "data": {
            "NodeType": "species",
            "background_color": "#2b913a",
            "id": "s13",
            "label": "mBak",
            "name": "s13",
            "shape": "ellipse"
           },
           "position": {
            "x": 788.43,
            "y": 371
           }
          },
          {
           "data": {
            "NodeType": "species",
            "background_color": "#2b913a",
            "id": "s14",
            "label": "mBcl2",
            "name": "s14",
            "shape": "ellipse"
           },
           "position": {
            "x": 1064.9,
            "y": 768
           }
          },
          {
           "data": {
            "NodeType": "species",
            "background_color": "#2b913a",
            "id": "s15",
            "label": "mBclxL",
            "name": "s15",
            "shape": "ellipse"
           },
           "position": {
            "x": 1064.9,
            "y": 550
           }
          },
          {
           "data": {
            "NodeType": "species",
            "background_color": "#2b913a",
            "id": "s16",
            "label": "mMcl1",
            "name": "s16",
            "shape": "ellipse"
           },
           "position": {
            "x": 788.43,
            "y": 798
           }
          },
          {
           "data": {
            "NodeType": "species",
            "background_color": "#2b913a",
            "id": "s17",
            "label": "mBad",
            "name": "s17",
            "shape": "ellipse"
           },
           "position": {
            "x": 1064.9,
            "y": 604
           }
          },
          {
           "data": {
            "NodeType": "species",
            "background_color": "#2b913a",
            "id": "s18",
            "label": "mNoxa",
            "name": "s18",
            "shape": "ellipse"
           },
           "position": {
            "x": 788.43,
            "y": 852
           }
          },
          {
           "data": {
            "NodeType": "species",
            "background_color": "#2b913a",
            "id": "s19",
            "label": "mCytoC",
            "name": "s19",
            "shape": "ellipse"
           },
           "position": {
            "x": 1701.6,
            "y": 581
           }
          },
          {
           "data": {
            "NodeType": "species",
            "background_color": "#2b913a",
            "id": "s20",
            "label": "mSmac",
            "name": "s20",
            "shape": "ellipse"
           },
           "position": {
            "x": 1701.6,
            "y": 367
           }
          },
          {
           "data": {
            "NodeType": "species",
            "background_color": "#2b913a",
            "id": "s21",
            "label": "L-R",
            "name": "s21",
            "shape": "ellipse"
           },
           "position": {
            "x": 117,
            "y": 129
           }
          },
          {
           "data": {
            "NodeType": "species",
            "background_color": "#2b913a",
            "id": "s22",
            "label": "mBad-mBcl2",
            "name": "s22",
            "shape": "ellipse"
           },
           "position": {
            "x": 1203.2,
            "y": 760
           }
          },
          {
           "data": {
            "NodeType": "species",
            "background_color": "#2b913a",
            "id": "s23",
            "label": "mBad-mBclxL",
            "name": "s23",
            "shape": "ellipse"
           },
           "position": {
            "x": 1203.2,
            "y": 614
           }
          },
          {
           "data": {
            "NodeType": "species",
            "background_color": "#2b913a",
            "id": "s24",
            "label": "mMcl1-mNoxa",
            "name": "s24",
            "shape": "ellipse"
           },
           "position": {
            "x": 925.2,
            "y": 852
           }
          },
          {
           "data": {
            "NodeType": "species",
            "background_color": "#2b913a",
            "id": "s25",
            "label": "DISC",
            "name": "s25",
            "shape": "ellipse"
           },
           "position": {
            "x": 212.22,
            "y": 129
           }
          },
          {
           "data": {
            "NodeType": "species",
            "background_color": "#2b913a",
            "id": "s26",
            "label": "proC8-DISC",
            "name": "s26",
            "shape": "ellipse"
           },
           "position": {
            "x": 335.74,
            "y": 129
           }
          },
          {
           "data": {
            "NodeType": "species",
            "background_color": "#2b913a",
            "id": "s27",
            "label": "DISC-flip",
            "name": "s27",
            "shape": "ellipse"
           },
           "position": {
            "x": 335.74,
            "y": 183
           }
          },
          {
           "data": {
            "NodeType": "species",
            "background_color": "#2b913a",
            "id": "s28",
            "label": "aC8",
            "name": "s28",
            "shape": "ellipse"
           },
           "position": {
            "x": 459.26,
            "y": 154
           }
          },
          {
           "data": {
            "NodeType": "species",
            "background_color": "#2b913a",
            "id": "s29",
            "label": "uBid-aC8",
            "name": "s29",
            "shape": "ellipse"
           },
           "position": {
            "x": 576.89,
            "y": 138
           }
          },
          {
           "data": {
            "NodeType": "species",
            "background_color": "#2b913a",
            "id": "s30",
            "label": "BAR-aC8",
            "name": "s30",
            "shape": "ellipse"
           },
           "position": {
            "x": 576.89,
            "y": 46
           }
          },
          {
           "data": {
            "NodeType": "species",
            "background_color": "#2b913a",
            "id": "s31",
            "label": "proC3-aC8",
            "name": "s31",
            "shape": "ellipse"
           },
           "position": {
            "x": 576.89,
            "y": 192
           }
          },
          {
           "data": {
            "NodeType": "species",
            "background_color": "#2b913a",
            "id": "s32",
            "label": "tBid",
            "name": "s32",
            "shape": "ellipse"
           },
           "position": {
            "x": 689.29,
            "y": 138
           }
          },
          {
           "data": {
            "NodeType": "species",
            "background_color": "#2b913a",
            "id": "s33",
            "label": "aC3",
            "name": "s33",
            "shape": "ellipse"
           },
           "position": {
            "x": 2698.3,
            "y": 322
           }
          },
          {
           "data": {
            "NodeType": "species",
            "background_color": "#2b913a",
            "id": "s34",
            "label": "aC3-XIAP",
            "name": "s34",
            "shape": "ellipse"
           },
           "position": {
            "x": 2823.2,
            "y": 322
           }
          },
          {
           "data": {
            "NodeType": "species",
            "background_color": "#2b913a",
            "id": "s35",
            "label": "aC3-uPARP",
            "name": "s35",
            "shape": "ellipse"
           },
           "position": {
            "x": 2823.2,
            "y": 376
           }
          },
          {
           "data": {
            "NodeType": "species",
            "background_color": "#2b913a",
            "id": "s36",
            "label": "aC3-proC6",
            "name": "s36",
            "shape": "ellipse"
           },
           "position": {
            "x": 2823.2,
            "y": 268
           }
          },
          {
           "data": {
            "NodeType": "species",
            "background_color": "#2b913a",
            "id": "s37",
            "label": "mBid",
            "name": "s37",
            "shape": "ellipse"
           },
           "position": {
            "x": 788.43,
            "y": 613
           }
          },
          {
           "data": {
            "NodeType": "species",
            "background_color": "#2b913a",
            "id": "s38",
            "label": "ubC3",
            "name": "s38",
            "shape": "ellipse"
           },
           "position": {
            "x": 2947.5,
            "y": 268
           }
          },
          {
           "data": {
            "NodeType": "species",
            "background_color": "#2b913a",
            "id": "s39",
            "label": "cPARP",
            "name": "s39",
            "shape": "ellipse"
           },
           "position": {
            "x": 2947.5,
            "y": 376
           }
          },
          {
           "data": {
            "NodeType": "species",
            "background_color": "#2b913a",
            "id": "s40",
            "label": "aC6",
            "name": "s40",
            "shape": "ellipse"
           },
           "position": {
            "x": 2947.5,
            "y": 138
           }
          },
          {
           "data": {
            "NodeType": "species",
            "background_color": "#2b913a",
            "id": "s41",
            "label": "cBax-mBid",
            "name": "s41",
            "shape": "ellipse"
           },
           "position": {
            "x": 925.2,
            "y": 668
           }
          },
          {
           "data": {
            "NodeType": "species",
            "background_color": "#2b913a",
            "id": "s42",
            "label": "mBak-mBid",
            "name": "s42",
            "shape": "ellipse"
           },
           "position": {
            "x": 925.2,
            "y": 394
           }
          },
          {
           "data": {
            "NodeType": "species",
            "background_color": "#2b913a",
            "id": "s43",
            "label": "mBcl2-mBid",
            "name": "s43",
            "shape": "ellipse"
           },
           "position": {
            "x": 1203.2,
            "y": 852
           }
          },
          {
           "data": {
            "NodeType": "species",
            "background_color": "#2b913a",
            "id": "s44",
            "label": "mBclxL-mBid",
            "name": "s44",
            "shape": "ellipse"
           },
           "position": {
            "x": 1203.2,
            "y": 522
           }
          },
          {
           "data": {
            "NodeType": "species",
            "background_color": "#2b913a",
            "id": "s45",
            "label": "mBid-mMcl1",
            "name": "s45",
            "shape": "ellipse"
           },
           "position": {
            "x": 925.2,
            "y": 760
           }
          },
          {
           "data": {
            "NodeType": "species",
            "background_color": "#2b913a",
            "id": "s46",
            "label": "aC6-proC8",
            "name": "s46",
            "shape": "ellipse"
           },
           "position": {
            "x": 3076.1,
            "y": 115
           }
          },
          {
           "data": {
            "NodeType": "species",
            "background_color": "#2b913a",
            "id": "s47",
            "label": "mBax",
            "name": "s47",
            "shape": "ellipse"
           },
           "position": {
            "x": 1064.9,
            "y": 714
           }
          },
          {
           "data": {
            "NodeType": "species",
            "background_color": "#2b913a",
            "id": "s48",
            "label": "aBak",
            "name": "s48",
            "shape": "ellipse"
           },
           "position": {
            "x": 1064.9,
            "y": 349
           }
          },
          {
           "data": {
            "NodeType": "species",
            "background_color": "#2b913a",
            "id": "s49",
            "label": "mBax-mBid",
            "name": "s49",
            "shape": "ellipse"
           },
           "position": {
            "x": 1203.2,
            "y": 668
           }
          },
          {
           "data": {
            "NodeType": "species",
            "background_color": "#2b913a",
            "id": "s50",
            "label": "aBak-mBak",
            "name": "s50",
            "shape": "ellipse"
           },
           "position": {
            "x": 1203.2,
            "y": 230
           }
          },
          {
           "data": {
            "NodeType": "species",
            "background_color": "#2b913a",
            "id": "s51",
            "label": "aBak-mBclxL",
            "name": "s51",
            "shape": "ellipse"
           },
           "position": {
            "x": 1203.2,
            "y": 468
           }
          },
          {
           "data": {
            "NodeType": "species",
            "background_color": "#2b913a",
            "id": "s52",
            "label": "aBak-mMcl1",
            "name": "s52",
            "shape": "ellipse"
           },
           "position": {
            "x": 1203.2,
            "y": 414
           }
          },
          {
           "data": {
            "NodeType": "species",
            "background_color": "#2b913a",
            "id": "s53",
            "label": "2aBak",
            "name": "s53",
            "shape": "ellipse"
           },
           "position": {
            "x": 1203.2,
            "y": 284
           }
          },
          {
           "data": {
            "NodeType": "species",
            "background_color": "#2b913a",
            "id": "s54",
            "label": "aBax",
            "name": "s54",
            "shape": "ellipse"
           },
           "position": {
            "x": 1335,
            "y": 664
           }
          },
          {
           "data": {
            "NodeType": "species",
            "background_color": "#2b913a",
            "id": "s55",
            "label": "3aBak",
            "name": "s55",
            "shape": "ellipse"
           },
           "position": {
            "x": 1335,
            "y": 322
           }
          },
          {
           "data": {
            "NodeType": "species",
            "background_color": "#2b913a",
            "id": "s56",
            "label": "aBax-mBax",
            "name": "s56",
            "shape": "ellipse"
           },
           "position": {
            "x": 1463.9,
            "y": 716
           }
          },
          {
           "data": {
            "NodeType": "species",
            "background_color": "#2b913a",
            "id": "s57",
            "label": "aBax-mBcl2",
            "name": "s57",
            "shape": "ellipse"
           },
           "position": {
            "x": 1463.9,
            "y": 789
           }
          },
          {
           "data": {
            "NodeType": "species",
            "background_color": "#2b913a",
            "id": "s58",
            "label": "aBax-mBclxL",
            "name": "s58",
            "shape": "ellipse"
           },
           "position": {
            "x": 1463.9,
            "y": 532
           }
          },
          {
           "data": {
            "NodeType": "species",
            "background_color": "#2b913a",
            "id": "s59",
            "label": "2aBax",
            "name": "s59",
            "shape": "ellipse"
           },
           "position": {
            "x": 1463.9,
            "y": 662
           }
          },
          {
           "data": {
            "NodeType": "species",
            "background_color": "#2b913a",
            "id": "s60",
            "label": "4aBak",
            "name": "s60",
            "shape": "ellipse"
           },
           "position": {
            "x": 1701.6,
            "y": 421
           }
          },
          {
           "data": {
            "NodeType": "species",
            "background_color": "#2b913a",
            "id": "s61",
            "label": "3aBax",
            "name": "s61",
            "shape": "ellipse"
           },
           "position": {
            "x": 1592.8,
            "y": 624
           }
          },
          {
           "data": {
            "NodeType": "species",
            "background_color": "#2b913a",
            "id": "s62",
            "label": "4aBak-mCytoC",
            "name": "s62",
            "shape": "ellipse"
           },
           "position": {
            "x": 1843.3,
            "y": 502
           }
          },
          {
           "data": {
            "NodeType": "species",
            "background_color": "#2b913a",
            "id": "s63",
            "label": "4aBak-mSmac",
            "name": "s63",
            "shape": "ellipse"
           },
           "position": {
            "x": 1843.3,
            "y": 394
           }
          },
          {
           "data": {
            "NodeType": "species",
            "background_color": "#2b913a",
            "id": "s64",
            "label": "4aBax",
            "name": "s64",
            "shape": "ellipse"
           },
           "position": {
            "x": 1701.6,
            "y": 527
           }
          },
          {
           "data": {
            "NodeType": "species",
            "background_color": "#2b913a",
            "id": "s65",
            "label": "cCytoC",
            "name": "s65",
            "shape": "ellipse"
           },
           "position": {
            "x": 1982.1,
            "y": 556
           }
          },
          {
           "data": {
            "NodeType": "species",
            "background_color": "#2b913a",
            "id": "s66",
            "label": "cSmac",
            "name": "s66",
            "shape": "ellipse"
           },
           "position": {
            "x": 1982.1,
            "y": 394
           }
          },
          {
           "data": {
            "NodeType": "species",
            "background_color": "#2b913a",
            "id": "s67",
            "label": "aSmac",
            "name": "s67",
            "shape": "ellipse"
           },
           "position": {
            "x": 2225.7,
            "y": 271
           }
          },
          {
           "data": {
            "NodeType": "species",
            "background_color": "#2b913a",
            "id": "s68",
            "label": "aCytoC",
            "name": "s68",
            "shape": "ellipse"
           },
           "position": {
            "x": 2092.3,
            "y": 944
           }
          },
          {
           "data": {
            "NodeType": "species",
            "background_color": "#2b913a",
            "id": "s69",
            "label": "4aBax-mCytoC",
            "name": "s69",
            "shape": "ellipse"
           },
           "position": {
            "x": 1843.3,
            "y": 556
           }
          },
          {
           "data": {
            "NodeType": "species",
            "background_color": "#2b913a",
            "id": "s70",
            "label": "4aBax-mSmac",
            "name": "s70",
            "shape": "ellipse"
           },
           "position": {
            "x": 1843.3,
            "y": 448
           }
          },
          {
           "data": {
            "NodeType": "species",
            "background_color": "#2b913a",
            "id": "s71",
            "label": "iApaf-aCytoC",
            "name": "s71",
            "shape": "ellipse"
           },
           "position": {
            "x": 2225.7,
            "y": 944
           }
          },
          {
           "data": {
            "NodeType": "species",
            "background_color": "#2b913a",
            "id": "s72",
            "label": "aSmac-XIAP",
            "name": "s72",
            "shape": "ellipse"
           },
           "position": {
            "x": 3076.1,
            "y": 272
           }
          },
          {
           "data": {
            "NodeType": "species",
            "background_color": "#2b913a",
            "id": "s73",
            "label": "aApaf",
            "name": "s73",
            "shape": "ellipse"
           },
           "position": {
            "x": 2353.6,
            "y": 944
           }
          },
          {
           "data": {
            "NodeType": "species",
            "background_color": "#2b913a",
            "id": "s74",
            "label": "Apop",
            "name": "s74",
            "shape": "ellipse"
           },
           "position": {
            "x": 2451.1,
            "y": 944
           }
          },
          {
           "data": {
            "NodeType": "species",
            "background_color": "#2b913a",
            "id": "s75",
            "label": "Apop-proC3",
            "name": "s75",
            "shape": "ellipse"
           },
           "position": {
            "x": 2571.6,
            "y": 898
           }
          },
          {
           "data": {
            "NodeType": "species",
            "background_color": "#2b913a",
            "id": "s76",
            "label": "Apop-XIAP",
            "name": "s76",
            "shape": "ellipse"
           },
           "position": {
            "x": 3076.1,
            "y": 633
           }
          }
         ]
        }
       },
       "format": "cyjs",
       "layout": "IPY_MODEL_6832c65d39cd4939a55a4b322dd2f89a",
       "layout_name": "preset",
       "type_of_viz": "species_view",
       "visual_style": null
      }
     },
     "73ce8c3cbc414026828d08237f790b61": {
      "model_module": "viz-pysb-widget",
      "model_module_version": "^0.1.0",
      "model_name": "CytoscapeModel",
      "state": {
       "_model_module_version": "^0.1.0",
       "_view_module_version": "^0.1.0",
       "background": "#FFFFFF",
       "data": {
        "data": {
         "graph": {
          "rankdir": "LR"
         },
         "name": "pysbjupyter.pysb_models.lopez_embedded"
        },
        "elements": {
         "edges": [
          {
           "data": {
            "arrowhead": "normal",
            "id": "74f7a56b-1164-4e67-ab8a-e2c174f81496",
            "source": "s0",
            "source_arrow_fill": "hollow",
            "source_arrow_shape": "triangle",
            "target": "r0",
            "target_arrow_shape": "triangle"
           }
          },
          {
           "data": {
            "arrowhead": "normal",
            "id": "ddf2a5d6-77cc-4251-9ab1-80c149958d85",
            "source": "s1",
            "source_arrow_fill": "hollow",
            "source_arrow_shape": "triangle",
            "target": "r0",
            "target_arrow_shape": "triangle"
           }
          },
          {
           "data": {
            "arrowhead": "normal",
            "id": "e7e4c66b-7920-4323-aa82-ca99f713f874",
            "source": "s2",
            "source_arrow_fill": "hollow",
            "source_arrow_shape": "triangle",
            "target": "r6",
            "target_arrow_shape": "triangle"
           }
          },
          {
           "data": {
            "arrowhead": "normal",
            "id": "5143b9a6-c602-4e03-bb13-cdf60c292df0",
            "source": "s3",
            "source_arrow_fill": "hollow",
            "source_arrow_shape": "triangle",
            "target": "r5",
            "target_arrow_shape": "triangle"
           }
          },
          {
           "data": {
            "arrowhead": "normal",
            "id": "0d9f771d-e949-4c79-a1b4-9102cab2c2dc",
            "source": "s3",
            "source_arrow_fill": "hollow",
            "source_arrow_shape": "triangle",
            "target": "r25",
            "target_arrow_shape": "triangle"
           }
          },
          {
           "data": {
            "arrowhead": "normal",
            "id": "4d916b28-b5a8-4915-86c3-c41eb8f2cf00",
            "source": "s4",
            "source_arrow_fill": "hollow",
            "source_arrow_shape": "triangle",
            "target": "r9",
            "target_arrow_shape": "triangle"
           }
          },
          {
           "data": {
            "arrowhead": "normal",
            "id": "4d969889-8c92-47bb-bb4e-d31a76b8f1ab",
            "source": "s5",
            "source_arrow_fill": "hollow",
            "source_arrow_shape": "triangle",
            "target": "r53",
            "target_arrow_shape": "triangle"
           }
          },
          {
           "data": {
            "arrowhead": "normal",
            "id": "6917ad3c-69fe-4b68-b1f3-2a1da5ff1a67",
            "source": "s6",
            "source_arrow_fill": "hollow",
            "source_arrow_shape": "triangle",
            "target": "r10",
            "target_arrow_shape": "triangle"
           }
          },
          {
           "data": {
            "arrowhead": "normal",
            "id": "29f9b88c-756c-4e45-9503-7efb1dd86b47",
            "source": "s6",
            "source_arrow_fill": "hollow",
            "source_arrow_shape": "triangle",
            "target": "r59",
            "target_arrow_shape": "triangle"
           }
          },
          {
           "data": {
            "arrowhead": "normal",
            "id": "ea1b405f-6aa5-4bdf-ab81-c9f9ac9c39a2",
            "source": "s7",
            "source_arrow_fill": "hollow",
            "source_arrow_shape": "triangle",
            "target": "r15",
            "target_arrow_shape": "triangle"
           }
          },
          {
           "data": {
            "arrowhead": "normal",
            "id": "704033d2-be8a-4990-94d1-06904187be40",
            "source": "s8",
            "source_arrow_fill": "hollow",
            "source_arrow_shape": "triangle",
            "target": "r58",
            "target_arrow_shape": "triangle"
           }
          },
          {
           "data": {
            "arrowhead": "normal",
            "id": "8d5e4dcc-da25-4677-aa81-2d6fe6752e32",
            "source": "s9",
            "source_arrow_fill": "hollow",
            "source_arrow_shape": "triangle",
            "target": "r14",
            "target_arrow_shape": "triangle"
           }
          },
          {
           "data": {
            "arrowhead": "normal",
            "id": "27c9b041-5b3f-45de-9bd6-74b4c3d894c3",
            "source": "s10",
            "source_arrow_fill": "hollow",
            "source_arrow_shape": "triangle",
            "target": "r13",
            "target_arrow_shape": "triangle"
           }
          },
          {
           "data": {
            "arrowhead": "normal",
            "id": "605e3e00-f8d5-4f97-bf44-e1d26f469617",
            "source": "s10",
            "source_arrow_fill": "hollow",
            "source_arrow_shape": "triangle",
            "target": "r54",
            "target_arrow_shape": "triangle"
           }
          },
          {
           "data": {
            "arrowhead": "normal",
            "id": "cf2db4d0-92be-403b-8637-5837a2f52d08",
            "source": "s10",
            "source_arrow_fill": "hollow",
            "source_arrow_shape": "triangle",
            "target": "r60",
            "target_arrow_shape": "triangle"
           }
          },
          {
           "data": {
            "arrowhead": "normal",
            "id": "1950a22d-514b-4530-9071-6c69840d9d04",
            "source": "s11",
            "source_arrow_fill": "hollow",
            "source_arrow_shape": "triangle",
            "target": "r8",
            "target_arrow_shape": "triangle"
           }
          },
          {
           "data": {
            "arrowhead": "normal",
            "id": "a68ada12-e1df-4fcb-95c8-1eeacc16883e",
            "source": "s12",
            "source_arrow_fill": "hollow",
            "source_arrow_shape": "triangle",
            "target": "r20",
            "target_arrow_shape": "triangle"
           }
          },
          {
           "data": {
            "arrowhead": "normal",
            "id": "e24e1a88-00c0-412b-9643-da79dd5e9b5e",
            "source": "s13",
            "source_arrow_fill": "hollow",
            "source_arrow_shape": "triangle",
            "target": "r21",
            "target_arrow_shape": "triangle"
           }
          },
          {
           "data": {
            "arrowhead": "normal",
            "id": "c9305aa6-a19a-4fda-aadf-0ea722538c22",
            "source": "s13",
            "source_arrow_fill": "hollow",
            "source_arrow_shape": "triangle",
            "target": "r30",
            "target_arrow_shape": "triangle"
           }
          },
          {
           "data": {
            "arrowhead": "normal",
            "id": "4eb04624-08da-454d-a709-cd7784d606dc",
            "source": "s14",
            "source_arrow_fill": "hollow",
            "source_arrow_shape": "triangle",
            "target": "r1",
            "target_arrow_shape": "triangle"
           }
          },
          {
           "data": {
            "arrowhead": "normal",
            "id": "5f34f36c-54b4-4bfd-a775-0f57b03dd8c1",
            "source": "s14",
            "source_arrow_fill": "hollow",
            "source_arrow_shape": "triangle",
            "target": "r22",
            "target_arrow_shape": "triangle"
           }
          },
          {
           "data": {
            "arrowhead": "normal",
            "id": "eea8c3fa-26d8-49c1-a433-483ad7f80bb1",
            "source": "s14",
            "source_arrow_fill": "hollow",
            "source_arrow_shape": "triangle",
            "target": "r38",
            "target_arrow_shape": "triangle"
           }
          },
          {
           "data": {
            "arrowhead": "normal",
            "id": "661a0ff6-77e8-4241-b443-18a5b9c039c8",
            "source": "s15",
            "source_arrow_fill": "hollow",
            "source_arrow_shape": "triangle",
            "target": "r2",
            "target_arrow_shape": "triangle"
           }
          },
          {
           "data": {
            "arrowhead": "normal",
            "id": "2630beb4-3a45-4313-be44-af96e23b1f73",
            "source": "s15",
            "source_arrow_fill": "hollow",
            "source_arrow_shape": "triangle",
            "target": "r23",
            "target_arrow_shape": "triangle"
           }
          },
          {
           "data": {
            "arrowhead": "normal",
            "id": "61b6eec5-a1e8-402b-a912-7a03718c9018",
            "source": "s15",
            "source_arrow_fill": "hollow",
            "source_arrow_shape": "triangle",
            "target": "r31",
            "target_arrow_shape": "triangle"
           }
          },
          {
           "data": {
            "arrowhead": "normal",
            "id": "d87f5930-dd9d-4735-937a-12597093eaac",
            "source": "s15",
            "source_arrow_fill": "hollow",
            "source_arrow_shape": "triangle",
            "target": "r39",
            "target_arrow_shape": "triangle"
           }
          },
          {
           "data": {
            "arrowhead": "normal",
            "id": "b2ce919d-c3f2-43b4-9a08-7a0e398d8aa2",
            "source": "s16",
            "source_arrow_fill": "hollow",
            "source_arrow_shape": "triangle",
            "target": "r3",
            "target_arrow_shape": "triangle"
           }
          },
          {
           "data": {
            "arrowhead": "normal",
            "id": "a9a00d04-49a5-490e-96fc-90c2eb9e0d3b",
            "source": "s16",
            "source_arrow_fill": "hollow",
            "source_arrow_shape": "triangle",
            "target": "r24",
            "target_arrow_shape": "triangle"
           }
          },
          {
           "data": {
            "arrowhead": "normal",
            "id": "389a9075-e2d0-4927-9136-08f28a329a7e",
            "source": "s16",
            "source_arrow_fill": "hollow",
            "source_arrow_shape": "triangle",
            "target": "r32",
            "target_arrow_shape": "triangle"
           }
          },
          {
           "data": {
            "arrowhead": "normal",
            "id": "076be37e-01dd-4943-9032-13e0dcfe515f",
            "source": "s17",
            "source_arrow_fill": "hollow",
            "source_arrow_shape": "triangle",
            "target": "r1",
            "target_arrow_shape": "triangle"
           }
          },
          {
           "data": {
            "arrowhead": "normal",
            "id": "7db5beec-0ed3-4c84-af3e-9d51bfc985a6",
            "source": "s17",
            "source_arrow_fill": "hollow",
            "source_arrow_shape": "triangle",
            "target": "r2",
            "target_arrow_shape": "triangle"
           }
          },
          {
           "data": {
            "arrowhead": "normal",
            "id": "910e6849-133e-4a96-8516-8e2a53343bb8",
            "source": "s18",
            "source_arrow_fill": "hollow",
            "source_arrow_shape": "triangle",
            "target": "r3",
            "target_arrow_shape": "triangle"
           }
          },
          {
           "data": {
            "arrowhead": "normal",
            "id": "316232de-fc28-4620-923d-5f2e9d5d38ae",
            "source": "s19",
            "source_arrow_fill": "hollow",
            "source_arrow_shape": "triangle",
            "target": "r44",
            "target_arrow_shape": "triangle"
           }
          },
          {
           "data": {
            "arrowhead": "normal",
            "id": "afa1df10-bfa0-4887-8edd-6798b8325a6b",
            "source": "s19",
            "source_arrow_fill": "hollow",
            "source_arrow_shape": "triangle",
            "target": "r51",
            "target_arrow_shape": "triangle"
           }
          },
          {
           "data": {
            "arrowhead": "normal",
            "id": "34d39d66-7d18-4662-8350-023ded0829de",
            "source": "s20",
            "source_arrow_fill": "hollow",
            "source_arrow_shape": "triangle",
            "target": "r45",
            "target_arrow_shape": "triangle"
           }
          },
          {
           "data": {
            "arrowhead": "normal",
            "id": "9f8b13c2-237f-44a6-9e3c-39d639fbe2dd",
            "source": "s20",
            "source_arrow_fill": "hollow",
            "source_arrow_shape": "triangle",
            "target": "r52",
            "target_arrow_shape": "triangle"
           }
          },
          {
           "data": {
            "arrowhead": "normal",
            "id": "7e01f86c-918a-4edd-891f-eb267834228e",
            "source": "s21",
            "source_arrow_fill": "filled",
            "source_arrow_shape": "none",
            "target": "r4",
            "target_arrow_shape": "triangle"
           }
          },
          {
           "data": {
            "arrowhead": "normal",
            "id": "0b7f1abe-6bbf-4240-9be5-e921d563d4d4",
            "source": "s25",
            "source_arrow_fill": "hollow",
            "source_arrow_shape": "triangle",
            "target": "r5",
            "target_arrow_shape": "triangle"
           }
          },
          {
           "data": {
            "arrowhead": "normal",
            "id": "7fbbf91d-e75b-46bf-9120-a783dd2dc4cc",
            "source": "s25",
            "source_arrow_fill": "hollow",
            "source_arrow_shape": "triangle",
            "target": "r6",
            "target_arrow_shape": "triangle"
           }
          },
          {
           "data": {
            "arrowhead": "normal",
            "id": "d0ad0e1e-cb3a-44aa-b8d0-efab2c26f4be",
            "source": "s26",
            "source_arrow_fill": "filled",
            "source_arrow_shape": "none",
            "target": "r7",
            "target_arrow_shape": "triangle"
           }
          },
          {
           "data": {
            "arrowhead": "normal",
            "id": "3c6612e9-7c3d-449c-a252-f184f270139d",
            "source": "s28",
            "source_arrow_fill": "hollow",
            "source_arrow_shape": "triangle",
            "target": "r8",
            "target_arrow_shape": "triangle"
           }
          },
          {
           "data": {
            "arrowhead": "normal",
            "id": "4188f98a-5f46-4c4c-b866-31a6d332874c",
            "source": "s28",
            "source_arrow_fill": "hollow",
            "source_arrow_shape": "triangle",
            "target": "r9",
            "target_arrow_shape": "triangle"
           }
          },
          {
           "data": {
            "arrowhead": "normal",
            "id": "2d27aabe-7adf-4ae8-9007-260a46952633",
            "source": "s28",
            "source_arrow_fill": "hollow",
            "source_arrow_shape": "triangle",
            "target": "r10",
            "target_arrow_shape": "triangle"
           }
          },
          {
           "data": {
            "arrowhead": "normal",
            "id": "f4b11342-a2a6-472b-85ad-9358e3e2a08d",
            "source": "s29",
            "source_arrow_fill": "filled",
            "source_arrow_shape": "none",
            "target": "r11",
            "target_arrow_shape": "triangle"
           }
          },
          {
           "data": {
            "arrowhead": "normal",
            "id": "33fc2735-273c-4cfd-90b0-81ba0adeeaf6",
            "source": "s31",
            "source_arrow_fill": "filled",
            "source_arrow_shape": "none",
            "target": "r12",
            "target_arrow_shape": "triangle"
           }
          },
          {
           "data": {
            "arrowhead": "normal",
            "id": "b63fecdb-a0be-4933-9abe-b4903fd0a99a",
            "source": "s32",
            "source_arrow_fill": "hollow",
            "source_arrow_shape": "triangle",
            "target": "r16",
            "target_arrow_shape": "triangle"
           }
          },
          {
           "data": {
            "arrowhead": "normal",
            "id": "2415ea42-7d38-4fb2-b1f6-30e077c698bf",
            "source": "s33",
            "source_arrow_fill": "hollow",
            "source_arrow_shape": "triangle",
            "target": "r13",
            "target_arrow_shape": "triangle"
           }
          },
          {
           "data": {
            "arrowhead": "normal",
            "id": "65f2319f-811a-4514-808c-b6a86dd6e7bb",
            "source": "s33",
            "source_arrow_fill": "hollow",
            "source_arrow_shape": "triangle",
            "target": "r14",
            "target_arrow_shape": "triangle"
           }
          },
          {
           "data": {
            "arrowhead": "normal",
            "id": "20797f41-947d-48b6-8111-bf8a4b63fd4f",
            "source": "s33",
            "source_arrow_fill": "hollow",
            "source_arrow_shape": "triangle",
            "target": "r15",
            "target_arrow_shape": "triangle"
           }
          },
          {
           "data": {
            "arrowhead": "normal",
            "id": "cf69d715-3d4a-47d5-acde-9c8e66c1e6fb",
            "source": "s34",
            "source_arrow_fill": "filled",
            "source_arrow_shape": "none",
            "target": "r17",
            "target_arrow_shape": "triangle"
           }
          },
          {
           "data": {
            "arrowhead": "normal",
            "id": "7cc3aab1-714f-472c-8bb7-708c1ac5e108",
            "source": "s35",
            "source_arrow_fill": "filled",
            "source_arrow_shape": "none",
            "target": "r18",
            "target_arrow_shape": "triangle"
           }
          },
          {
           "data": {
            "arrowhead": "normal",
            "id": "89b45525-f499-4072-8946-af0d9d9469bf",
            "source": "s36",
            "source_arrow_fill": "filled",
            "source_arrow_shape": "none",
            "target": "r19",
            "target_arrow_shape": "triangle"
           }
          },
          {
           "data": {
            "arrowhead": "normal",
            "id": "14899193-35fc-4dc2-a95c-92e8cf258114",
            "source": "s37",
            "source_arrow_fill": "hollow",
            "source_arrow_shape": "triangle",
            "target": "r20",
            "target_arrow_shape": "triangle"
           }
          },
          {
           "data": {
            "arrowhead": "normal",
            "id": "e515f3a3-7603-4aa2-9293-e32ee714bdff",
            "source": "s37",
            "source_arrow_fill": "hollow",
            "source_arrow_shape": "triangle",
            "target": "r21",
            "target_arrow_shape": "triangle"
           }
          },
          {
           "data": {
            "arrowhead": "normal",
            "id": "3d7be00d-3426-4360-9721-d975ecb1f09f",
            "source": "s37",
            "source_arrow_fill": "hollow",
            "source_arrow_shape": "triangle",
            "target": "r22",
            "target_arrow_shape": "triangle"
           }
          },
          {
           "data": {
            "arrowhead": "normal",
            "id": "3b2b17da-524b-40b8-8153-e4230ae6cc75",
            "source": "s37",
            "source_arrow_fill": "hollow",
            "source_arrow_shape": "triangle",
            "target": "r23",
            "target_arrow_shape": "triangle"
           }
          },
          {
           "data": {
            "arrowhead": "normal",
            "id": "bd412aa5-4c97-449b-9fbc-eefd8c089357",
            "source": "s37",
            "source_arrow_fill": "hollow",
            "source_arrow_shape": "triangle",
            "target": "r24",
            "target_arrow_shape": "triangle"
           }
          },
          {
           "data": {
            "arrowhead": "normal",
            "id": "deb55985-af90-403c-b328-8a24403eed5e",
            "source": "s37",
            "source_arrow_fill": "hollow",
            "source_arrow_shape": "triangle",
            "target": "r29",
            "target_arrow_shape": "triangle"
           }
          },
          {
           "data": {
            "arrowhead": "normal",
            "id": "fdb466a0-7986-4854-8a01-35aa6b5f5449",
            "source": "s40",
            "source_arrow_fill": "hollow",
            "source_arrow_shape": "triangle",
            "target": "r25",
            "target_arrow_shape": "triangle"
           }
          },
          {
           "data": {
            "arrowhead": "normal",
            "id": "2021d09e-e24d-41e4-84a9-0a0d0fd8b1d1",
            "source": "s41",
            "source_arrow_fill": "filled",
            "source_arrow_shape": "none",
            "target": "r26",
            "target_arrow_shape": "triangle"
           }
          },
          {
           "data": {
            "arrowhead": "normal",
            "id": "2b963bc4-35e3-4b28-a8c9-f40458a17a74",
            "source": "s42",
            "source_arrow_fill": "filled",
            "source_arrow_shape": "none",
            "target": "r27",
            "target_arrow_shape": "triangle"
           }
          },
          {
           "data": {
            "arrowhead": "normal",
            "id": "1fa2c795-3c7f-464d-a264-9c7948e3cbfa",
            "source": "s46",
            "source_arrow_fill": "filled",
            "source_arrow_shape": "none",
            "target": "r28",
            "target_arrow_shape": "triangle"
           }
          },
          {
           "data": {
            "arrowhead": "normal",
            "id": "2128db52-fc3f-4633-8a45-d8b3b4088ffa",
            "source": "s47",
            "source_arrow_fill": "hollow",
            "source_arrow_shape": "triangle",
            "target": "r29",
            "target_arrow_shape": "triangle"
           }
          },
          {
           "data": {
            "arrowhead": "normal",
            "id": "abb14c91-6436-43f2-8939-dda0dad69a7a",
            "source": "s47",
            "source_arrow_fill": "hollow",
            "source_arrow_shape": "triangle",
            "target": "r37",
            "target_arrow_shape": "triangle"
           }
          },
          {
           "data": {
            "arrowhead": "normal",
            "id": "51825f48-78f6-4bf4-bafa-07adbe49edfb",
            "source": "s48",
            "source_arrow_fill": "hollow",
            "source_arrow_shape": "triangle",
            "target": "r30",
            "target_arrow_shape": "triangle"
           }
          },
          {
           "data": {
            "arrowhead": "normal",
            "id": "5349749e-7a22-44ae-b1e3-4ce33546273d",
            "source": "s48",
            "source_arrow_fill": "hollow",
            "source_arrow_shape": "triangle",
            "target": "r31",
            "target_arrow_shape": "triangle"
           }
          },
          {
           "data": {
            "arrowhead": "normal",
            "id": "b9cc43f8-21d3-4761-8b97-8120c2f829fe",
            "source": "s48",
            "source_arrow_fill": "hollow",
            "source_arrow_shape": "triangle",
            "target": "r32",
            "target_arrow_shape": "triangle"
           }
          },
          {
           "data": {
            "arrowhead": "normal",
            "id": "d8c38220-0380-4dda-b64a-0f3891d17740",
            "source": "s48",
            "source_arrow_fill": "hollow",
            "source_arrow_shape": "triangle",
            "target": "r33",
            "target_arrow_shape": "triangle"
           }
          },
          {
           "data": {
            "arrowhead": "normal",
            "id": "120d624e-e976-4d47-ac5e-01bbbc22a8ae",
            "source": "s48",
            "source_arrow_fill": "hollow",
            "source_arrow_shape": "triangle",
            "target": "r36",
            "target_arrow_shape": "triangle"
           }
          },
          {
           "data": {
            "arrowhead": "normal",
            "id": "b89c60a6-ba3d-4d52-bbf7-4f99c4d9f6e7",
            "source": "s48",
            "source_arrow_fill": "hollow",
            "source_arrow_shape": "triangle",
            "target": "r41",
            "target_arrow_shape": "triangle"
           }
          },
          {
           "data": {
            "arrowhead": "normal",
            "id": "e238137e-d2f0-46a2-b0aa-50aacdc21665",
            "source": "s49",
            "source_arrow_fill": "filled",
            "source_arrow_shape": "none",
            "target": "r34",
            "target_arrow_shape": "triangle"
           }
          },
          {
           "data": {
            "arrowhead": "normal",
            "id": "ce97a566-d3db-4473-a3d3-75574657c21a",
            "source": "s50",
            "source_arrow_fill": "filled",
            "source_arrow_shape": "none",
            "target": "r35",
            "target_arrow_shape": "triangle"
           }
          },
          {
           "data": {
            "arrowhead": "normal",
            "id": "5e98a594-9b26-4a70-90a4-0b38a60df6bb",
            "source": "s53",
            "source_arrow_fill": "hollow",
            "source_arrow_shape": "triangle",
            "target": "r36",
            "target_arrow_shape": "triangle"
           }
          },
          {
           "data": {
            "arrowhead": "normal",
            "id": "565932fc-c9ab-431b-82c0-90d46808a6e5",
            "source": "s54",
            "source_arrow_fill": "hollow",
            "source_arrow_shape": "triangle",
            "target": "r37",
            "target_arrow_shape": "triangle"
           }
          },
          {
           "data": {
            "arrowhead": "normal",
            "id": "b454c7e8-32b7-4c7d-9ea8-f49bdf1a6f7f",
            "source": "s54",
            "source_arrow_fill": "hollow",
            "source_arrow_shape": "triangle",
            "target": "r38",
            "target_arrow_shape": "triangle"
           }
          },
          {
           "data": {
            "arrowhead": "normal",
            "id": "73125b07-9031-43e7-81b1-3949f55e2fc6",
            "source": "s54",
            "source_arrow_fill": "hollow",
            "source_arrow_shape": "triangle",
            "target": "r39",
            "target_arrow_shape": "triangle"
           }
          },
          {
           "data": {
            "arrowhead": "normal",
            "id": "554ed21b-63c8-4d76-a641-39fd3b6d514b",
            "source": "s54",
            "source_arrow_fill": "hollow",
            "source_arrow_shape": "triangle",
            "target": "r40",
            "target_arrow_shape": "triangle"
           }
          },
          {
           "data": {
            "arrowhead": "normal",
            "id": "18bcf381-503a-486a-9c75-c1fefc2ee60d",
            "source": "s54",
            "source_arrow_fill": "hollow",
            "source_arrow_shape": "triangle",
            "target": "r43",
            "target_arrow_shape": "triangle"
           }
          },
          {
           "data": {
            "arrowhead": "normal",
            "id": "081d7668-024f-4172-b0dd-1d4bc44000bd",
            "source": "s54",
            "source_arrow_fill": "hollow",
            "source_arrow_shape": "triangle",
            "target": "r46",
            "target_arrow_shape": "triangle"
           }
          },
          {
           "data": {
            "arrowhead": "normal",
            "id": "8d1bbec0-5d2e-483e-920e-537d13b58ff7",
            "source": "s55",
            "source_arrow_fill": "hollow",
            "source_arrow_shape": "triangle",
            "target": "r41",
            "target_arrow_shape": "triangle"
           }
          },
          {
           "data": {
            "arrowhead": "normal",
            "id": "dc657b42-f91c-40e6-b0fc-bfa5ca61a67c",
            "source": "s56",
            "source_arrow_fill": "filled",
            "source_arrow_shape": "none",
            "target": "r42",
            "target_arrow_shape": "triangle"
           }
          },
          {
           "data": {
            "arrowhead": "normal",
            "id": "b4a2642f-8454-4bd7-aeae-eff1fa199458",
            "source": "s59",
            "source_arrow_fill": "hollow",
            "source_arrow_shape": "triangle",
            "target": "r43",
            "target_arrow_shape": "triangle"
           }
          },
          {
           "data": {
            "arrowhead": "normal",
            "id": "746e36c4-532a-44a9-9707-da80c3ea15e4",
            "source": "s60",
            "source_arrow_fill": "hollow",
            "source_arrow_shape": "triangle",
            "target": "r44",
            "target_arrow_shape": "triangle"
           }
          },
          {
           "data": {
            "arrowhead": "normal",
            "id": "5355d6cd-8c9f-4022-99a1-8f969f14d7f5",
            "source": "s60",
            "source_arrow_fill": "hollow",
            "source_arrow_shape": "triangle",
            "target": "r45",
            "target_arrow_shape": "triangle"
           }
          },
          {
           "data": {
            "arrowhead": "normal",
            "id": "dd02f55a-df14-4568-b697-3deca7b4d92e",
            "source": "s61",
            "source_arrow_fill": "hollow",
            "source_arrow_shape": "triangle",
            "target": "r46",
            "target_arrow_shape": "triangle"
           }
          },
          {
           "data": {
            "arrowhead": "normal",
            "id": "00a713a1-898d-4581-89f8-73629ce1ebcc",
            "source": "s62",
            "source_arrow_fill": "filled",
            "source_arrow_shape": "none",
            "target": "r47",
            "target_arrow_shape": "triangle"
           }
          },
          {
           "data": {
            "arrowhead": "normal",
            "id": "0705e8c9-4f1e-4f87-875b-9cc6386d1ad5",
            "source": "s63",
            "source_arrow_fill": "filled",
            "source_arrow_shape": "none",
            "target": "r48",
            "target_arrow_shape": "triangle"
           }
          },
          {
           "data": {
            "arrowhead": "normal",
            "id": "91724413-1a32-4e45-bec6-d782b1120b84",
            "source": "s64",
            "source_arrow_fill": "hollow",
            "source_arrow_shape": "triangle",
            "target": "r51",
            "target_arrow_shape": "triangle"
           }
          },
          {
           "data": {
            "arrowhead": "normal",
            "id": "1e49589d-5d1d-4003-9e5c-45732f8ada7f",
            "source": "s64",
            "source_arrow_fill": "hollow",
            "source_arrow_shape": "triangle",
            "target": "r52",
            "target_arrow_shape": "triangle"
           }
          },
          {
           "data": {
            "arrowhead": "normal",
            "id": "562c962a-9ced-42c7-857f-47a7ff4940c8",
            "source": "s65",
            "source_arrow_fill": "hollow",
            "source_arrow_shape": "triangle",
            "target": "r50",
            "target_arrow_shape": "triangle"
           }
          },
          {
           "data": {
            "arrowhead": "normal",
            "id": "8ac4be34-6bd8-4548-ab7f-76eeee48b248",
            "source": "s66",
            "source_arrow_fill": "hollow",
            "source_arrow_shape": "triangle",
            "target": "r49",
            "target_arrow_shape": "triangle"
           }
          },
          {
           "data": {
            "arrowhead": "normal",
            "id": "e77bb355-08d6-4dfb-a622-84ae6cece916",
            "source": "s67",
            "source_arrow_fill": "hollow",
            "source_arrow_shape": "triangle",
            "target": "r54",
            "target_arrow_shape": "triangle"
           }
          },
          {
           "data": {
            "arrowhead": "normal",
            "id": "13c6d144-15c6-4ccd-9c6a-f0cd946c4528",
            "source": "s68",
            "source_arrow_fill": "hollow",
            "source_arrow_shape": "triangle",
            "target": "r53",
            "target_arrow_shape": "triangle"
           }
          },
          {
           "data": {
            "arrowhead": "normal",
            "id": "2886ca31-a41d-4625-a8f1-5d12bfc4dd0e",
            "source": "s69",
            "source_arrow_fill": "filled",
            "source_arrow_shape": "none",
            "target": "r55",
            "target_arrow_shape": "triangle"
           }
          },
          {
           "data": {
            "arrowhead": "normal",
            "id": "59c2d08e-2724-41a5-8ac8-18772a1d6856",
            "source": "s70",
            "source_arrow_fill": "filled",
            "source_arrow_shape": "none",
            "target": "r56",
            "target_arrow_shape": "triangle"
           }
          },
          {
           "data": {
            "arrowhead": "normal",
            "id": "e9b6c788-c3a5-4f27-9444-7610d4a6c14f",
            "source": "s71",
            "source_arrow_fill": "filled",
            "source_arrow_shape": "none",
            "target": "r57",
            "target_arrow_shape": "triangle"
           }
          },
          {
           "data": {
            "arrowhead": "normal",
            "id": "c6bf75b0-e482-4a24-827d-40eb6bbaf97a",
            "source": "s73",
            "source_arrow_fill": "hollow",
            "source_arrow_shape": "triangle",
            "target": "r58",
            "target_arrow_shape": "triangle"
           }
          },
          {
           "data": {
            "arrowhead": "normal",
            "id": "095b8aec-d819-44f4-af61-7429b2d00d79",
            "source": "s74",
            "source_arrow_fill": "hollow",
            "source_arrow_shape": "triangle",
            "target": "r59",
            "target_arrow_shape": "triangle"
           }
          },
          {
           "data": {
            "arrowhead": "normal",
            "id": "92b5ccd4-8c7f-4c48-ab85-7f6f7c0cb5a3",
            "source": "s74",
            "source_arrow_fill": "hollow",
            "source_arrow_shape": "triangle",
            "target": "r60",
            "target_arrow_shape": "triangle"
           }
          },
          {
           "data": {
            "arrowhead": "normal",
            "id": "a34a795e-8ac5-4310-bb4f-601d8749140e",
            "source": "s75",
            "source_arrow_fill": "filled",
            "source_arrow_shape": "none",
            "target": "r61",
            "target_arrow_shape": "triangle"
           }
          },
          {
           "data": {
            "arrowhead": "normal",
            "id": "6b81e075-0a95-4e5d-a70b-c103e554a2b1",
            "source": "r0",
            "source_arrow_fill": "hollow",
            "source_arrow_shape": "triangle",
            "target": "s21",
            "target_arrow_shape": "triangle"
           }
          },
          {
           "data": {
            "arrowhead": "normal",
            "id": "2454a0f5-f468-4022-b7bb-8b148fc27280",
            "source": "r1",
            "source_arrow_fill": "hollow",
            "source_arrow_shape": "triangle",
            "target": "s22",
            "target_arrow_shape": "triangle"
           }
          },
          {
           "data": {
            "arrowhead": "normal",
            "id": "e55140c1-c0d6-40b9-89f1-9e1c78a6aede",
            "source": "r2",
            "source_arrow_fill": "hollow",
            "source_arrow_shape": "triangle",
            "target": "s23",
            "target_arrow_shape": "triangle"
           }
          },
          {
           "data": {
            "arrowhead": "normal",
            "id": "a17b8dc1-0d6a-4f6d-ba10-d4d4f358d2b1",
            "source": "r3",
            "source_arrow_fill": "hollow",
            "source_arrow_shape": "triangle",
            "target": "s24",
            "target_arrow_shape": "triangle"
           }
          },
          {
           "data": {
            "arrowhead": "normal",
            "id": "d00b9f18-64fc-4db9-8d99-cc1ba8287c82",
            "source": "r4",
            "source_arrow_fill": "filled",
            "source_arrow_shape": "none",
            "target": "s25",
            "target_arrow_shape": "triangle"
           }
          },
          {
           "data": {
            "arrowhead": "normal",
            "id": "3abdd1ba-60f7-497e-854c-7c69e28f9c93",
            "source": "r5",
            "source_arrow_fill": "hollow",
            "source_arrow_shape": "triangle",
            "target": "s26",
            "target_arrow_shape": "triangle"
           }
          },
          {
           "data": {
            "arrowhead": "normal",
            "id": "2a4afb88-93d7-4162-99cb-363b2fca5743",
            "source": "r6",
            "source_arrow_fill": "hollow",
            "source_arrow_shape": "triangle",
            "target": "s27",
            "target_arrow_shape": "triangle"
           }
          },
          {
           "data": {
            "arrowhead": "normal",
            "id": "571f797c-19d1-4e7c-9e07-a2b9ed1c0c5f",
            "source": "r7",
            "source_arrow_fill": "filled",
            "source_arrow_shape": "none",
            "target": "s25",
            "target_arrow_shape": "triangle"
           }
          },
          {
           "data": {
            "arrowhead": "normal",
            "id": "5997f772-1dee-4549-a141-19f66615d2f8",
            "source": "r7",
            "source_arrow_fill": "filled",
            "source_arrow_shape": "none",
            "target": "s28",
            "target_arrow_shape": "triangle"
           }
          },
          {
           "data": {
            "arrowhead": "normal",
            "id": "3f003945-8714-4e1d-a687-0874839955e4",
            "source": "r8",
            "source_arrow_fill": "hollow",
            "source_arrow_shape": "triangle",
            "target": "s29",
            "target_arrow_shape": "triangle"
           }
          },
          {
           "data": {
            "arrowhead": "normal",
            "id": "fd81094a-52ee-4a54-ad46-9b43c07540f8",
            "source": "r9",
            "source_arrow_fill": "hollow",
            "source_arrow_shape": "triangle",
            "target": "s30",
            "target_arrow_shape": "triangle"
           }
          },
          {
           "data": {
            "arrowhead": "normal",
            "id": "309a222c-3f83-4ae3-acb0-a6df8fa95c16",
            "source": "r10",
            "source_arrow_fill": "hollow",
            "source_arrow_shape": "triangle",
            "target": "s31",
            "target_arrow_shape": "triangle"
           }
          },
          {
           "data": {
            "arrowhead": "normal",
            "id": "1e74bf9e-847a-4838-ab34-ca55eef9ac95",
            "source": "r11",
            "source_arrow_fill": "filled",
            "source_arrow_shape": "none",
            "target": "s32",
            "target_arrow_shape": "triangle"
           }
          },
          {
           "data": {
            "arrowhead": "normal",
            "id": "a1e94223-0066-41b9-a61c-8414af7f5c00",
            "source": "r11",
            "source_arrow_fill": "filled",
            "source_arrow_shape": "none",
            "target": "s28",
            "target_arrow_shape": "triangle"
           }
          },
          {
           "data": {
            "arrowhead": "normal",
            "id": "731796ac-8b3b-4346-a2a3-c997df07246b",
            "source": "r12",
            "source_arrow_fill": "filled",
            "source_arrow_shape": "none",
            "target": "s33",
            "target_arrow_shape": "triangle"
           }
          },
          {
           "data": {
            "arrowhead": "normal",
            "id": "7f15425d-88e7-4997-ac28-88e4094973a5",
            "source": "r12",
            "source_arrow_fill": "filled",
            "source_arrow_shape": "none",
            "target": "s28",
            "target_arrow_shape": "triangle"
           }
          },
          {
           "data": {
            "arrowhead": "normal",
            "id": "0d919a33-d4ac-45d0-8afb-d34201c6b71e",
            "source": "r13",
            "source_arrow_fill": "hollow",
            "source_arrow_shape": "triangle",
            "target": "s34",
            "target_arrow_shape": "triangle"
           }
          },
          {
           "data": {
            "arrowhead": "normal",
            "id": "8f4598a8-385a-4345-ab3b-c5dda3d3ac90",
            "source": "r14",
            "source_arrow_fill": "hollow",
            "source_arrow_shape": "triangle",
            "target": "s35",
            "target_arrow_shape": "triangle"
           }
          },
          {
           "data": {
            "arrowhead": "normal",
            "id": "17e01936-f832-4630-b3ff-40a54230b667",
            "source": "r15",
            "source_arrow_fill": "hollow",
            "source_arrow_shape": "triangle",
            "target": "s36",
            "target_arrow_shape": "triangle"
           }
          },
          {
           "data": {
            "arrowhead": "normal",
            "id": "35e9b874-e260-4171-9180-fd2d95611c81",
            "source": "r16",
            "source_arrow_fill": "hollow",
            "source_arrow_shape": "triangle",
            "target": "s37",
            "target_arrow_shape": "triangle"
           }
          },
          {
           "data": {
            "arrowhead": "normal",
            "id": "b5b131a3-d982-4f77-a744-af725ce68071",
            "source": "r17",
            "source_arrow_fill": "filled",
            "source_arrow_shape": "none",
            "target": "s10",
            "target_arrow_shape": "triangle"
           }
          },
          {
           "data": {
            "arrowhead": "normal",
            "id": "cab57902-c3ae-4d46-bdab-6b3fa45ba779",
            "source": "r17",
            "source_arrow_fill": "filled",
            "source_arrow_shape": "none",
            "target": "s38",
            "target_arrow_shape": "triangle"
           }
          },
          {
           "data": {
            "arrowhead": "normal",
            "id": "57502385-2253-4c42-9bd6-af7668108863",
            "source": "r18",
            "source_arrow_fill": "filled",
            "source_arrow_shape": "none",
            "target": "s33",
            "target_arrow_shape": "triangle"
           }
          },
          {
           "data": {
            "arrowhead": "normal",
            "id": "1c555a34-675a-4ec4-bf19-812ba55876ec",
            "source": "r18",
            "source_arrow_fill": "filled",
            "source_arrow_shape": "none",
            "target": "s39",
            "target_arrow_shape": "triangle"
           }
          },
          {
           "data": {
            "arrowhead": "normal",
            "id": "6184aff3-328e-473d-9530-408d767f0cca",
            "source": "r19",
            "source_arrow_fill": "filled",
            "source_arrow_shape": "none",
            "target": "s40",
            "target_arrow_shape": "triangle"
           }
          },
          {
           "data": {
            "arrowhead": "normal",
            "id": "67a27ba3-5a94-429d-9260-2ea5e51ff982",
            "source": "r19",
            "source_arrow_fill": "filled",
            "source_arrow_shape": "none",
            "target": "s33",
            "target_arrow_shape": "triangle"
           }
          },
          {
           "data": {
            "arrowhead": "normal",
            "id": "4fd19a43-5aed-4a37-b95e-efe3b94406b9",
            "source": "r20",
            "source_arrow_fill": "hollow",
            "source_arrow_shape": "triangle",
            "target": "s41",
            "target_arrow_shape": "triangle"
           }
          },
          {
           "data": {
            "arrowhead": "normal",
            "id": "c94897ec-9818-4382-b48c-2e2a021640cf",
            "source": "r21",
            "source_arrow_fill": "hollow",
            "source_arrow_shape": "triangle",
            "target": "s42",
            "target_arrow_shape": "triangle"
           }
          },
          {
           "data": {
            "arrowhead": "normal",
            "id": "f3dd1138-2495-4453-ab0d-4f8bba94cf3f",
            "source": "r22",
            "source_arrow_fill": "hollow",
            "source_arrow_shape": "triangle",
            "target": "s43",
            "target_arrow_shape": "triangle"
           }
          },
          {
           "data": {
            "arrowhead": "normal",
            "id": "1e2f818c-f5d3-4889-8f4b-fa407ce8e783",
            "source": "r23",
            "source_arrow_fill": "hollow",
            "source_arrow_shape": "triangle",
            "target": "s44",
            "target_arrow_shape": "triangle"
           }
          },
          {
           "data": {
            "arrowhead": "normal",
            "id": "dfe42e3e-7d33-40e4-9c0e-19be20cbb492",
            "source": "r24",
            "source_arrow_fill": "hollow",
            "source_arrow_shape": "triangle",
            "target": "s45",
            "target_arrow_shape": "triangle"
           }
          },
          {
           "data": {
            "arrowhead": "normal",
            "id": "f24c6cf5-f12a-4269-ae25-1ae4977d7d24",
            "source": "r25",
            "source_arrow_fill": "hollow",
            "source_arrow_shape": "triangle",
            "target": "s46",
            "target_arrow_shape": "triangle"
           }
          },
          {
           "data": {
            "arrowhead": "normal",
            "id": "08e8182d-5647-45ef-bd7e-e82d6d1bea2d",
            "source": "r26",
            "source_arrow_fill": "filled",
            "source_arrow_shape": "none",
            "target": "s37",
            "target_arrow_shape": "triangle"
           }
          },
          {
           "data": {
            "arrowhead": "normal",
            "id": "66853507-19d7-4c92-9898-5e7e4e24442f",
            "source": "r26",
            "source_arrow_fill": "filled",
            "source_arrow_shape": "none",
            "target": "s47",
            "target_arrow_shape": "triangle"
           }
          },
          {
           "data": {
            "arrowhead": "normal",
            "id": "b656c9c8-179d-497c-9fba-509c35c15d10",
            "source": "r27",
            "source_arrow_fill": "filled",
            "source_arrow_shape": "none",
            "target": "s48",
            "target_arrow_shape": "triangle"
           }
          },
          {
           "data": {
            "arrowhead": "normal",
            "id": "b32c1ef6-4c7d-451b-800b-61657cf484b4",
            "source": "r27",
            "source_arrow_fill": "filled",
            "source_arrow_shape": "none",
            "target": "s37",
            "target_arrow_shape": "triangle"
           }
          },
          {
           "data": {
            "arrowhead": "normal",
            "id": "7ae4090f-9515-4890-a257-b2fe257367a4",
            "source": "r28",
            "source_arrow_fill": "filled",
            "source_arrow_shape": "none",
            "target": "s40",
            "target_arrow_shape": "triangle"
           }
          },
          {
           "data": {
            "arrowhead": "normal",
            "id": "e742cacd-6b6e-48dc-adec-953d1f196f64",
            "source": "r28",
            "source_arrow_fill": "filled",
            "source_arrow_shape": "none",
            "target": "s28",
            "target_arrow_shape": "triangle"
           }
          },
          {
           "data": {
            "arrowhead": "normal",
            "id": "afbd02f9-c69b-41ab-a947-f8642081ad23",
            "source": "r29",
            "source_arrow_fill": "hollow",
            "source_arrow_shape": "triangle",
            "target": "s49",
            "target_arrow_shape": "triangle"
           }
          },
          {
           "data": {
            "arrowhead": "normal",
            "id": "7171dcca-f13e-4b51-bc4a-9f4f531cf0ba",
            "source": "r30",
            "source_arrow_fill": "hollow",
            "source_arrow_shape": "triangle",
            "target": "s50",
            "target_arrow_shape": "triangle"
           }
          },
          {
           "data": {
            "arrowhead": "normal",
            "id": "0ef29e93-095b-4f2e-bd5b-e134ffc8f240",
            "source": "r31",
            "source_arrow_fill": "hollow",
            "source_arrow_shape": "triangle",
            "target": "s51",
            "target_arrow_shape": "triangle"
           }
          },
          {
           "data": {
            "arrowhead": "normal",
            "id": "8acf7ddd-319a-4a4d-aa3c-538ca27acae3",
            "source": "r32",
            "source_arrow_fill": "hollow",
            "source_arrow_shape": "triangle",
            "target": "s52",
            "target_arrow_shape": "triangle"
           }
          },
          {
           "data": {
            "arrowhead": "normal",
            "id": "c24cf93e-0e0e-4bf8-b3f7-8d83952d52b4",
            "source": "r33",
            "source_arrow_fill": "hollow",
            "source_arrow_shape": "triangle",
            "target": "s53",
            "target_arrow_shape": "triangle"
           }
          },
          {
           "data": {
            "arrowhead": "normal",
            "id": "33b94795-a0cf-477b-9f42-56e365519d76",
            "source": "r34",
            "source_arrow_fill": "filled",
            "source_arrow_shape": "none",
            "target": "s37",
            "target_arrow_shape": "triangle"
           }
          },
          {
           "data": {
            "arrowhead": "normal",
            "id": "51137ab9-e322-460e-9894-ee0c2ec6b2fd",
            "source": "r34",
            "source_arrow_fill": "filled",
            "source_arrow_shape": "none",
            "target": "s54",
            "target_arrow_shape": "triangle"
           }
          },
          {
           "data": {
            "arrowhead": "normal",
            "id": "dd5fd14b-2362-4730-b6c2-197fc6e3cc0f",
            "source": "r35",
            "source_arrow_fill": "filled",
            "source_arrow_shape": "none",
            "target": "s48",
            "target_arrow_shape": "triangle"
           }
          },
          {
           "data": {
            "arrowhead": "normal",
            "id": "66e67c65-a52f-4fb4-b541-13f73e4b9e26",
            "source": "r36",
            "source_arrow_fill": "hollow",
            "source_arrow_shape": "triangle",
            "target": "s55",
            "target_arrow_shape": "triangle"
           }
          },
          {
           "data": {
            "arrowhead": "normal",
            "id": "f399722a-89fc-4c3d-8060-745fc765d68b",
            "source": "r37",
            "source_arrow_fill": "hollow",
            "source_arrow_shape": "triangle",
            "target": "s56",
            "target_arrow_shape": "triangle"
           }
          },
          {
           "data": {
            "arrowhead": "normal",
            "id": "336a344b-b000-49db-8fe1-49f7aa2d8a00",
            "source": "r38",
            "source_arrow_fill": "hollow",
            "source_arrow_shape": "triangle",
            "target": "s57",
            "target_arrow_shape": "triangle"
           }
          },
          {
           "data": {
            "arrowhead": "normal",
            "id": "286e7ede-305b-43d9-8019-e56f9c5f2428",
            "source": "r39",
            "source_arrow_fill": "hollow",
            "source_arrow_shape": "triangle",
            "target": "s58",
            "target_arrow_shape": "triangle"
           }
          },
          {
           "data": {
            "arrowhead": "normal",
            "id": "64647821-b563-468a-a59e-7d4b0d39e067",
            "source": "r40",
            "source_arrow_fill": "hollow",
            "source_arrow_shape": "triangle",
            "target": "s59",
            "target_arrow_shape": "triangle"
           }
          },
          {
           "data": {
            "arrowhead": "normal",
            "id": "a28dc81a-c7f5-41c1-a9bd-17d3851355fa",
            "source": "r41",
            "source_arrow_fill": "hollow",
            "source_arrow_shape": "triangle",
            "target": "s60",
            "target_arrow_shape": "triangle"
           }
          },
          {
           "data": {
            "arrowhead": "normal",
            "id": "177a14f0-60df-4299-b6de-fce5acc1eeb5",
            "source": "r42",
            "source_arrow_fill": "filled",
            "source_arrow_shape": "none",
            "target": "s54",
            "target_arrow_shape": "triangle"
           }
          },
          {
           "data": {
            "arrowhead": "normal",
            "id": "28cbb0e4-6703-4a77-8511-08ab91554d09",
            "source": "r43",
            "source_arrow_fill": "hollow",
            "source_arrow_shape": "triangle",
            "target": "s61",
            "target_arrow_shape": "triangle"
           }
          },
          {
           "data": {
            "arrowhead": "normal",
            "id": "26c664e3-5eb8-40bf-b226-4b64314fc819",
            "source": "r44",
            "source_arrow_fill": "hollow",
            "source_arrow_shape": "triangle",
            "target": "s62",
            "target_arrow_shape": "triangle"
           }
          },
          {
           "data": {
            "arrowhead": "normal",
            "id": "5f96fb84-ed75-469e-b9c6-be8f1f51e53a",
            "source": "r45",
            "source_arrow_fill": "hollow",
            "source_arrow_shape": "triangle",
            "target": "s63",
            "target_arrow_shape": "triangle"
           }
          },
          {
           "data": {
            "arrowhead": "normal",
            "id": "3476ce2d-03ed-4280-aaa1-7760f0b673fc",
            "source": "r46",
            "source_arrow_fill": "hollow",
            "source_arrow_shape": "triangle",
            "target": "s64",
            "target_arrow_shape": "triangle"
           }
          },
          {
           "data": {
            "arrowhead": "normal",
            "id": "6557f665-2dbc-455e-96a0-4923e91c1cb1",
            "source": "r47",
            "source_arrow_fill": "filled",
            "source_arrow_shape": "none",
            "target": "s65",
            "target_arrow_shape": "triangle"
           }
          },
          {
           "data": {
            "arrowhead": "normal",
            "id": "9e824a61-25b8-48b6-a903-5b81ce73c8a9",
            "source": "r47",
            "source_arrow_fill": "filled",
            "source_arrow_shape": "none",
            "target": "s60",
            "target_arrow_shape": "triangle"
           }
          },
          {
           "data": {
            "arrowhead": "normal",
            "id": "8db7e7a8-d877-4a57-bb8c-4154a3bdf7f9",
            "source": "r48",
            "source_arrow_fill": "filled",
            "source_arrow_shape": "none",
            "target": "s66",
            "target_arrow_shape": "triangle"
           }
          },
          {
           "data": {
            "arrowhead": "normal",
            "id": "dd7e47ad-16d5-4ce7-b6d8-3f3372064b3b",
            "source": "r48",
            "source_arrow_fill": "filled",
            "source_arrow_shape": "none",
            "target": "s60",
            "target_arrow_shape": "triangle"
           }
          },
          {
           "data": {
            "arrowhead": "normal",
            "id": "76e73ddb-8a75-4dcf-894c-c289b0a56257",
            "source": "r49",
            "source_arrow_fill": "hollow",
            "source_arrow_shape": "triangle",
            "target": "s67",
            "target_arrow_shape": "triangle"
           }
          },
          {
           "data": {
            "arrowhead": "normal",
            "id": "96bbd16a-bcbb-4466-8258-b3c7dff70c87",
            "source": "r50",
            "source_arrow_fill": "hollow",
            "source_arrow_shape": "triangle",
            "target": "s68",
            "target_arrow_shape": "triangle"
           }
          },
          {
           "data": {
            "arrowhead": "normal",
            "id": "4d527ac2-d176-490b-b2ca-5b3e3e36d043",
            "source": "r51",
            "source_arrow_fill": "hollow",
            "source_arrow_shape": "triangle",
            "target": "s69",
            "target_arrow_shape": "triangle"
           }
          },
          {
           "data": {
            "arrowhead": "normal",
            "id": "e6d157ad-5683-4534-9543-1aa7bac1b731",
            "source": "r52",
            "source_arrow_fill": "hollow",
            "source_arrow_shape": "triangle",
            "target": "s70",
            "target_arrow_shape": "triangle"
           }
          },
          {
           "data": {
            "arrowhead": "normal",
            "id": "650b4e95-18f0-4f12-a466-1fca2e6d6db8",
            "source": "r53",
            "source_arrow_fill": "hollow",
            "source_arrow_shape": "triangle",
            "target": "s71",
            "target_arrow_shape": "triangle"
           }
          },
          {
           "data": {
            "arrowhead": "normal",
            "id": "998f15b4-0a87-4293-b589-ee00accd0df4",
            "source": "r54",
            "source_arrow_fill": "hollow",
            "source_arrow_shape": "triangle",
            "target": "s72",
            "target_arrow_shape": "triangle"
           }
          },
          {
           "data": {
            "arrowhead": "normal",
            "id": "fe87ff69-5f47-48d9-b7f8-1df09611ee55",
            "source": "r55",
            "source_arrow_fill": "filled",
            "source_arrow_shape": "none",
            "target": "s64",
            "target_arrow_shape": "triangle"
           }
          },
          {
           "data": {
            "arrowhead": "normal",
            "id": "cbb427c2-aa19-4d8e-9526-d297fff994ad",
            "source": "r55",
            "source_arrow_fill": "filled",
            "source_arrow_shape": "none",
            "target": "s65",
            "target_arrow_shape": "triangle"
           }
          },
          {
           "data": {
            "arrowhead": "normal",
            "id": "4dbcff8c-14bb-4a39-b064-61397ea8cf0b",
            "source": "r56",
            "source_arrow_fill": "filled",
            "source_arrow_shape": "none",
            "target": "s64",
            "target_arrow_shape": "triangle"
           }
          },
          {
           "data": {
            "arrowhead": "normal",
            "id": "7cc862a6-9cc3-42ee-90b5-7d203a92875a",
            "source": "r56",
            "source_arrow_fill": "filled",
            "source_arrow_shape": "none",
            "target": "s66",
            "target_arrow_shape": "triangle"
           }
          },
          {
           "data": {
            "arrowhead": "normal",
            "id": "c8a5c943-bc1f-4097-9c54-a0ce1bb9133c",
            "source": "r57",
            "source_arrow_fill": "filled",
            "source_arrow_shape": "none",
            "target": "s73",
            "target_arrow_shape": "triangle"
           }
          },
          {
           "data": {
            "arrowhead": "normal",
            "id": "be970011-7cf5-429c-a624-209df3ade0e5",
            "source": "r57",
            "source_arrow_fill": "filled",
            "source_arrow_shape": "none",
            "target": "s68",
            "target_arrow_shape": "triangle"
           }
          },
          {
           "data": {
            "arrowhead": "normal",
            "id": "adc63f74-0374-4d2d-ad2a-65ccb013fe70",
            "source": "r58",
            "source_arrow_fill": "hollow",
            "source_arrow_shape": "triangle",
            "target": "s74",
            "target_arrow_shape": "triangle"
           }
          },
          {
           "data": {
            "arrowhead": "normal",
            "id": "fadce8e7-f3e2-4ea5-9c46-59c0053a2d3a",
            "source": "r59",
            "source_arrow_fill": "hollow",
            "source_arrow_shape": "triangle",
            "target": "s75",
            "target_arrow_shape": "triangle"
           }
          },
          {
           "data": {
            "arrowhead": "normal",
            "id": "a19f3f03-d80c-438a-b65b-bd24eb8cef7a",
            "source": "r60",
            "source_arrow_fill": "hollow",
            "source_arrow_shape": "triangle",
            "target": "s76",
            "target_arrow_shape": "triangle"
           }
          },
          {
           "data": {
            "arrowhead": "normal",
            "id": "31f7a7de-99a0-4281-9be5-3def973fa545",
            "source": "r61",
            "source_arrow_fill": "filled",
            "source_arrow_shape": "none",
            "target": "s33",
            "target_arrow_shape": "triangle"
           }
          },
          {
           "data": {
            "arrowhead": "normal",
            "id": "41edd671-6ede-4f8d-9cca-3acd6ef9dcaa",
            "source": "r61",
            "source_arrow_fill": "filled",
            "source_arrow_shape": "none",
            "target": "s74",
            "target_arrow_shape": "triangle"
           }
          }
         ],
         "nodes": [
          {
           "data": {
            "NodeType": "species",
            "background_color": "#aaffff",
            "bipartite": 0,
            "id": "s0",
            "label": "L",
            "name": "s0",
            "shape": "ellipse"
           },
           "position": {
            "x": 27,
            "y": 806.8
           }
          },
          {
           "data": {
            "NodeType": "species",
            "background_color": "#aaffff",
            "bipartite": 0,
            "id": "s1",
            "label": "R",
            "name": "s1",
            "shape": "ellipse"
           },
           "position": {
            "x": 27,
            "y": 752.8
           }
          },
          {
           "data": {
            "NodeType": "species",
            "background_color": "#aaffff",
            "bipartite": 0,
            "id": "s2",
            "label": "flip",
            "name": "s2",
            "shape": "ellipse"
           },
           "position": {
            "x": 392.22,
            "y": 725.8
           }
          },
          {
           "data": {
            "NodeType": "species",
            "background_color": "#aaffff",
            "bipartite": 0,
            "id": "s3",
            "label": "proC8",
            "name": "s3",
            "shape": "ellipse"
           },
           "position": {
            "x": 392.22,
            "y": 848.8
           }
          },
          {
           "data": {
            "NodeType": "species",
            "background_color": "#aaffff",
            "bipartite": 0,
            "id": "s4",
            "label": "BAR",
            "name": "s4",
            "shape": "ellipse"
           },
           "position": {
            "x": 819.26,
            "y": 601.8
           }
          },
          {
           "data": {
            "NodeType": "species",
            "background_color": "#aaffff",
            "bipartite": 0,
            "id": "s5",
            "label": "iApaf",
            "name": "s5",
            "shape": "ellipse"
           },
           "position": {
            "x": 3622.3,
            "y": 637.8
           }
          },
          {
           "data": {
            "NodeType": "species",
            "background_color": "#aaffff",
            "bipartite": 0,
            "id": "s6",
            "label": "proC3",
            "name": "s6",
            "shape": "ellipse"
           },
           "position": {
            "x": 819.26,
            "y": 842.8
           }
          },
          {
           "data": {
            "NodeType": "species",
            "background_color": "#aaffff",
            "bipartite": 0,
            "id": "s7",
            "label": "proC6",
            "name": "s7",
            "shape": "ellipse"
           },
           "position": {
            "x": 4691.6,
            "y": 855.8
           }
          },
          {
           "data": {
            "NodeType": "species",
            "background_color": "#aaffff",
            "bipartite": 0,
            "id": "s8",
            "label": "C9",
            "name": "s8",
            "shape": "ellipse"
           },
           "position": {
            "x": 4077,
            "y": 693.8
           }
          },
          {
           "data": {
            "NodeType": "species",
            "background_color": "#aaffff",
            "bipartite": 0,
            "id": "s9",
            "label": "uPARP",
            "name": "s9",
            "shape": "ellipse"
           },
           "position": {
            "x": 4691.6,
            "y": 633.8
           }
          },
          {
           "data": {
            "NodeType": "species",
            "background_color": "#aaffff",
            "bipartite": 0,
            "id": "s10",
            "label": "XIAP",
            "name": "s10",
            "shape": "ellipse"
           },
           "position": {
            "x": 5120.9,
            "y": 698.8
           }
          },
          {
           "data": {
            "NodeType": "species",
            "background_color": "#aaffff",
            "bipartite": 0,
            "id": "s11",
            "label": "uBid",
            "name": "s11",
            "shape": "ellipse"
           },
           "position": {
            "x": 819.26,
            "y": 655.8
           }
          },
          {
           "data": {
            "NodeType": "species",
            "background_color": "#aaffff",
            "bipartite": 0,
            "id": "s12",
            "label": "cBax",
            "name": "s12",
            "shape": "ellipse"
           },
           "position": {
            "x": 1418.4,
            "y": 57.804
           }
          },
          {
           "data": {
            "NodeType": "species",
            "background_color": "#aaffff",
            "bipartite": 0,
            "id": "s13",
            "label": "mBak",
            "name": "s13",
            "shape": "ellipse"
           },
           "position": {
            "x": 1418.4,
            "y": 371.8
           }
          },
          {
           "data": {
            "NodeType": "species",
            "background_color": "#aaffff",
            "bipartite": 0,
            "id": "s14",
            "label": "mBcl2",
            "name": "s14",
            "shape": "ellipse"
           },
           "position": {
            "x": 1874.9,
            "y": 621.8
           }
          },
          {
           "data": {
            "NodeType": "species",
            "background_color": "#aaffff",
            "bipartite": 0,
            "id": "s15",
            "label": "mBclxL",
            "name": "s15",
            "shape": "ellipse"
           },
           "position": {
            "x": 1874.9,
            "y": 513.8
           }
          },
          {
           "data": {
            "NodeType": "species",
            "background_color": "#aaffff",
            "bipartite": 0,
            "id": "s16",
            "label": "mMcl1",
            "name": "s16",
            "shape": "ellipse"
           },
           "position": {
            "x": 1418.4,
            "y": 465.8
           }
          },
          {
           "data": {
            "NodeType": "species",
            "background_color": "#aaffff",
            "bipartite": 0,
            "id": "s17",
            "label": "mBad",
            "name": "s17",
            "shape": "ellipse"
           },
           "position": {
            "x": 1874.9,
            "y": 567.8
           }
          },
          {
           "data": {
            "NodeType": "species",
            "background_color": "#aaffff",
            "bipartite": 0,
            "id": "s18",
            "label": "mNoxa",
            "name": "s18",
            "shape": "ellipse"
           },
           "position": {
            "x": 1418.4,
            "y": 519.8
           }
          },
          {
           "data": {
            "NodeType": "species",
            "background_color": "#aaffff",
            "bipartite": 0,
            "id": "s19",
            "label": "mCytoC",
            "name": "s19",
            "shape": "ellipse"
           },
           "position": {
            "x": 2961.6,
            "y": 377.8
           }
          },
          {
           "data": {
            "NodeType": "species",
            "background_color": "#aaffff",
            "bipartite": 0,
            "id": "s20",
            "label": "mSmac",
            "name": "s20",
            "shape": "ellipse"
           },
           "position": {
            "x": 2961.6,
            "y": 300.8
           }
          },
          {
           "data": {
            "NodeType": "species",
            "background_color": "#ccffcc",
            "bipartite": 0,
            "id": "s21",
            "label": "L-R",
            "name": "s21",
            "shape": "ellipse"
           },
           "position": {
            "x": 207,
            "y": 779.8
           }
          },
          {
           "data": {
            "NodeType": "species",
            "background_color": "#ccffcc",
            "bipartite": 0,
            "id": "s22",
            "label": "mBad-mBcl2",
            "name": "s22",
            "shape": "ellipse"
           },
           "position": {
            "x": 2103.2,
            "y": 617.8
           }
          },
          {
           "data": {
            "NodeType": "species",
            "background_color": "#ccffcc",
            "bipartite": 0,
            "id": "s23",
            "label": "mBad-mBclxL",
            "name": "s23",
            "shape": "ellipse"
           },
           "position": {
            "x": 2103.2,
            "y": 563.8
           }
          },
          {
           "data": {
            "NodeType": "species",
            "background_color": "#ccffcc",
            "bipartite": 0,
            "id": "s24",
            "label": "mMcl1-mNoxa",
            "name": "s24",
            "shape": "ellipse"
           },
           "position": {
            "x": 1645.2,
            "y": 515.8
           }
          },
          {
           "data": {
            "NodeType": "species",
            "background_color": "#ccffcc",
            "bipartite": 0,
            "id": "s25",
            "label": "DISC",
            "name": "s25",
            "shape": "ellipse"
           },
           "position": {
            "x": 392.22,
            "y": 779.8
           }
          },
          {
           "data": {
            "NodeType": "species",
            "background_color": "#ccffcc",
            "bipartite": 0,
            "id": "s26",
            "label": "proC8-DISC",
            "name": "s26",
            "shape": "ellipse"
           },
           "position": {
            "x": 605.74,
            "y": 823.8
           }
          },
          {
           "data": {
            "NodeType": "species",
            "background_color": "#ccffcc",
            "bipartite": 0,
            "id": "s27",
            "label": "DISC-flip",
            "name": "s27",
            "shape": "ellipse"
           },
           "position": {
            "x": 605.74,
            "y": 729.8
           }
          },
          {
           "data": {
            "NodeType": "species",
            "background_color": "#ccffcc",
            "bipartite": 0,
            "id": "s28",
            "label": "aC8",
            "name": "s28",
            "shape": "ellipse"
           },
           "position": {
            "x": 819.26,
            "y": 739.8
           }
          },
          {
           "data": {
            "NodeType": "species",
            "background_color": "#ccffcc",
            "bipartite": 0,
            "id": "s29",
            "label": "uBid-aC8",
            "name": "s29",
            "shape": "ellipse"
           },
           "position": {
            "x": 1026.9,
            "y": 655.8
           }
          },
          {
           "data": {
            "NodeType": "species",
            "background_color": "#ccffcc",
            "bipartite": 0,
            "id": "s30",
            "label": "BAR-aC8",
            "name": "s30",
            "shape": "ellipse"
           },
           "position": {
            "x": 1026.9,
            "y": 601.8
           }
          },
          {
           "data": {
            "NodeType": "species",
            "background_color": "#ccffcc",
            "bipartite": 0,
            "id": "s31",
            "label": "proC3-aC8",
            "name": "s31",
            "shape": "ellipse"
           },
           "position": {
            "x": 1026.9,
            "y": 823.8
           }
          },
          {
           "data": {
            "NodeType": "species",
            "background_color": "#ccffcc",
            "bipartite": 0,
            "id": "s32",
            "label": "tBid",
            "name": "s32",
            "shape": "ellipse"
           },
           "position": {
            "x": 1229.3,
            "y": 536.8
           }
          },
          {
           "data": {
            "NodeType": "species",
            "background_color": "#ccffcc",
            "bipartite": 0,
            "id": "s33",
            "label": "aC3",
            "name": "s33",
            "shape": "ellipse"
           },
           "position": {
            "x": 4691.6,
            "y": 758.8
           }
          },
          {
           "data": {
            "NodeType": "species",
            "background_color": "#ccffcc",
            "bipartite": 0,
            "id": "s34",
            "label": "aC3-XIAP",
            "name": "s34",
            "shape": "ellipse"
           },
           "position": {
            "x": 4906.5,
            "y": 763.8
           }
          },
          {
           "data": {
            "NodeType": "species",
            "background_color": "#ccffcc",
            "bipartite": 0,
            "id": "s35",
            "label": "aC3-uPARP",
            "name": "s35",
            "shape": "ellipse"
           },
           "position": {
            "x": 4906.5,
            "y": 633.8
           }
          },
          {
           "data": {
            "NodeType": "species",
            "background_color": "#ccffcc",
            "bipartite": 0,
            "id": "s36",
            "label": "aC3-proC6",
            "name": "s36",
            "shape": "ellipse"
           },
           "position": {
            "x": 4906.5,
            "y": 855.8
           }
          },
          {
           "data": {
            "NodeType": "species",
            "background_color": "#ccffcc",
            "bipartite": 0,
            "id": "s37",
            "label": "mBid",
            "name": "s37",
            "shape": "ellipse"
           },
           "position": {
            "x": 1418.4,
            "y": 226.8
           }
          },
          {
           "data": {
            "NodeType": "species",
            "background_color": "#ccffcc",
            "bipartite": 0,
            "id": "s38",
            "label": "ubC3",
            "name": "s38",
            "shape": "ellipse"
           },
           "position": {
            "x": 5120.9,
            "y": 763.8
           }
          },
          {
           "data": {
            "NodeType": "species",
            "background_color": "#ccffcc",
            "bipartite": 0,
            "id": "s39",
            "label": "cPARP",
            "name": "s39",
            "shape": "ellipse"
           },
           "position": {
            "x": 5120.9,
            "y": 638.8
           }
          },
          {
           "data": {
            "NodeType": "species",
            "background_color": "#ccffcc",
            "bipartite": 0,
            "id": "s40",
            "label": "aC6",
            "name": "s40",
            "shape": "ellipse"
           },
           "position": {
            "x": 5120.9,
            "y": 851.8
           }
          },
          {
           "data": {
            "NodeType": "species",
            "background_color": "#ccffcc",
            "bipartite": 0,
            "id": "s41",
            "label": "cBax-mBid",
            "name": "s41",
            "shape": "ellipse"
           },
           "position": {
            "x": 1645.2,
            "y": 57.804
           }
          },
          {
           "data": {
            "NodeType": "species",
            "background_color": "#ccffcc",
            "bipartite": 0,
            "id": "s42",
            "label": "mBak-mBid",
            "name": "s42",
            "shape": "ellipse"
           },
           "position": {
            "x": 1645.2,
            "y": 329.8
           }
          },
          {
           "data": {
            "NodeType": "species",
            "background_color": "#ccffcc",
            "bipartite": 0,
            "id": "s43",
            "label": "mBcl2-mBid",
            "name": "s43",
            "shape": "ellipse"
           },
           "position": {
            "x": 2103.2,
            "y": 709.8
           }
          },
          {
           "data": {
            "NodeType": "species",
            "background_color": "#ccffcc",
            "bipartite": 0,
            "id": "s44",
            "label": "mBclxL-mBid",
            "name": "s44",
            "shape": "ellipse"
           },
           "position": {
            "x": 2103.2,
            "y": 471.8
           }
          },
          {
           "data": {
            "NodeType": "species",
            "background_color": "#ccffcc",
            "bipartite": 0,
            "id": "s45",
            "label": "mBid-mMcl1",
            "name": "s45",
            "shape": "ellipse"
           },
           "position": {
            "x": 1645.2,
            "y": 383.8
           }
          },
          {
           "data": {
            "NodeType": "species",
            "background_color": "#ccffcc",
            "bipartite": 0,
            "id": "s46",
            "label": "aC6-proC8",
            "name": "s46",
            "shape": "ellipse"
           },
           "position": {
            "x": 5339.5,
            "y": 895.8
           }
          },
          {
           "data": {
            "NodeType": "species",
            "background_color": "#ccffcc",
            "bipartite": 0,
            "id": "s47",
            "label": "mBax",
            "name": "s47",
            "shape": "ellipse"
           },
           "position": {
            "x": 1874.9,
            "y": 149.8
           }
          },
          {
           "data": {
            "NodeType": "species",
            "background_color": "#ccffcc",
            "bipartite": 0,
            "id": "s48",
            "label": "aBak",
            "name": "s48",
            "shape": "ellipse"
           },
           "position": {
            "x": 1874.9,
            "y": 217.8
           }
          },
          {
           "data": {
            "NodeType": "species",
            "background_color": "#ccffcc",
            "bipartite": 0,
            "id": "s49",
            "label": "mBax-mBid",
            "name": "s49",
            "shape": "ellipse"
           },
           "position": {
            "x": 2103.2,
            "y": 49.804
           }
          },
          {
           "data": {
            "NodeType": "species",
            "background_color": "#ccffcc",
            "bipartite": 0,
            "id": "s50",
            "label": "aBak-mBak",
            "name": "s50",
            "shape": "ellipse"
           },
           "position": {
            "x": 2103.2,
            "y": 309.8
           }
          },
          {
           "data": {
            "NodeType": "species",
            "background_color": "#ccffcc",
            "bipartite": 0,
            "id": "s51",
            "label": "aBak-mBclxL",
            "name": "s51",
            "shape": "ellipse"
           },
           "position": {
            "x": 2103.2,
            "y": 417.8
           }
          },
          {
           "data": {
            "NodeType": "species",
            "background_color": "#ccffcc",
            "bipartite": 0,
            "id": "s52",
            "label": "aBak-mMcl1",
            "name": "s52",
            "shape": "ellipse"
           },
           "position": {
            "x": 2103.2,
            "y": 363.8
           }
          },
          {
           "data": {
            "NodeType": "species",
            "background_color": "#ccffcc",
            "bipartite": 0,
            "id": "s53",
            "label": "2aBak",
            "name": "s53",
            "shape": "ellipse"
           },
           "position": {
            "x": 2103.2,
            "y": 217.8
           }
          },
          {
           "data": {
            "NodeType": "species",
            "background_color": "#ccffcc",
            "bipartite": 0,
            "id": "s54",
            "label": "aBax",
            "name": "s54",
            "shape": "ellipse"
           },
           "position": {
            "x": 2325,
            "y": 141.8
           }
          },
          {
           "data": {
            "NodeType": "species",
            "background_color": "#ccffcc",
            "bipartite": 0,
            "id": "s55",
            "label": "3aBak",
            "name": "s55",
            "shape": "ellipse"
           },
           "position": {
            "x": 2325,
            "y": 294.8
           }
          },
          {
           "data": {
            "NodeType": "species",
            "background_color": "#ccffcc",
            "bipartite": 0,
            "id": "s56",
            "label": "aBax-mBax",
            "name": "s56",
            "shape": "ellipse"
           },
           "position": {
            "x": 2543.9,
            "y": 59.804
           }
          },
          {
           "data": {
            "NodeType": "species",
            "background_color": "#ccffcc",
            "bipartite": 0,
            "id": "s57",
            "label": "aBax-mBcl2",
            "name": "s57",
            "shape": "ellipse"
           },
           "position": {
            "x": 2543.9,
            "y": 516.8
           }
          },
          {
           "data": {
            "NodeType": "species",
            "background_color": "#ccffcc",
            "bipartite": 0,
            "id": "s58",
            "label": "aBax-mBclxL",
            "name": "s58",
            "shape": "ellipse"
           },
           "position": {
            "x": 2543.9,
            "y": 281.8
           }
          },
          {
           "data": {
            "NodeType": "species",
            "background_color": "#ccffcc",
            "bipartite": 0,
            "id": "s59",
            "label": "2aBax",
            "name": "s59",
            "shape": "ellipse"
           },
           "position": {
            "x": 2543.9,
            "y": 227.8
           }
          },
          {
           "data": {
            "NodeType": "species",
            "background_color": "#ccffcc",
            "bipartite": 0,
            "id": "s60",
            "label": "4aBak",
            "name": "s60",
            "shape": "ellipse"
           },
           "position": {
            "x": 2961.6,
            "y": 442.8
           }
          },
          {
           "data": {
            "NodeType": "species",
            "background_color": "#ccffcc",
            "bipartite": 0,
            "id": "s61",
            "label": "3aBax",
            "name": "s61",
            "shape": "ellipse"
           },
           "position": {
            "x": 2762.8,
            "y": 219.8
           }
          },
          {
           "data": {
            "NodeType": "species",
            "background_color": "#ccffcc",
            "bipartite": 0,
            "id": "s62",
            "label": "4aBak-mCytoC",
            "name": "s62",
            "shape": "ellipse"
           },
           "position": {
            "x": 3193.3,
            "y": 534.8
           }
          },
          {
           "data": {
            "NodeType": "species",
            "background_color": "#ccffcc",
            "bipartite": 0,
            "id": "s63",
            "label": "4aBak-mSmac",
            "name": "s63",
            "shape": "ellipse"
           },
           "position": {
            "x": 3193.3,
            "y": 402.8
           }
          },
          {
           "data": {
            "NodeType": "species",
            "background_color": "#ccffcc",
            "bipartite": 0,
            "id": "s64",
            "label": "4aBax",
            "name": "s64",
            "shape": "ellipse"
           },
           "position": {
            "x": 2961.6,
            "y": 234.8
           }
          },
          {
           "data": {
            "NodeType": "species",
            "background_color": "#ccffcc",
            "bipartite": 0,
            "id": "s65",
            "label": "cCytoC",
            "name": "s65",
            "shape": "ellipse"
           },
           "position": {
            "x": 3422.1,
            "y": 565.8
           }
          },
          {
           "data": {
            "NodeType": "species",
            "background_color": "#ccffcc",
            "bipartite": 0,
            "id": "s66",
            "label": "cSmac",
            "name": "s66",
            "shape": "ellipse"
           },
           "position": {
            "x": 3422.1,
            "y": 415.8
           }
          },
          {
           "data": {
            "NodeType": "species",
            "background_color": "#ccffcc",
            "bipartite": 0,
            "id": "s67",
            "label": "aSmac",
            "name": "s67",
            "shape": "ellipse"
           },
           "position": {
            "x": 3729.1,
            "y": 502.8
           }
          },
          {
           "data": {
            "NodeType": "species",
            "background_color": "#ccffcc",
            "bipartite": 0,
            "id": "s68",
            "label": "aCytoC",
            "name": "s68",
            "shape": "ellipse"
           },
           "position": {
            "x": 3622.3,
            "y": 583.8
           }
          },
          {
           "data": {
            "NodeType": "species",
            "background_color": "#ccffcc",
            "bipartite": 0,
            "id": "s69",
            "label": "4aBax-mCytoC",
            "name": "s69",
            "shape": "ellipse"
           },
           "position": {
            "x": 3193.3,
            "y": 334.8
           }
          },
          {
           "data": {
            "NodeType": "species",
            "background_color": "#ccffcc",
            "bipartite": 0,
            "id": "s70",
            "label": "4aBax-mSmac",
            "name": "s70",
            "shape": "ellipse"
           },
           "position": {
            "x": 3193.3,
            "y": 280.8
           }
          },
          {
           "data": {
            "NodeType": "species",
            "background_color": "#ccffcc",
            "bipartite": 0,
            "id": "s71",
            "label": "iApaf-aCytoC",
            "name": "s71",
            "shape": "ellipse"
           },
           "position": {
            "x": 3859,
            "y": 635.8
           }
          },
          {
           "data": {
            "NodeType": "species",
            "background_color": "#ccffcc",
            "bipartite": 0,
            "id": "s72",
            "label": "aSmac-XIAP",
            "name": "s72",
            "shape": "ellipse"
           },
           "position": {
            "x": 5339.5,
            "y": 568.8
           }
          },
          {
           "data": {
            "NodeType": "species",
            "background_color": "#ccffcc",
            "bipartite": 0,
            "id": "s73",
            "label": "aApaf",
            "name": "s73",
            "shape": "ellipse"
           },
           "position": {
            "x": 4077,
            "y": 636.8
           }
          },
          {
           "data": {
            "NodeType": "species",
            "background_color": "#ccffcc",
            "bipartite": 0,
            "id": "s74",
            "label": "Apop",
            "name": "s74",
            "shape": "ellipse"
           },
           "position": {
            "x": 4264.4,
            "y": 698.8
           }
          },
          {
           "data": {
            "NodeType": "species",
            "background_color": "#ccffcc",
            "bipartite": 0,
            "id": "s75",
            "label": "Apop-proC3",
            "name": "s75",
            "shape": "ellipse"
           },
           "position": {
            "x": 4475,
            "y": 753.8
           }
          },
          {
           "data": {
            "NodeType": "species",
            "background_color": "#ccffcc",
            "bipartite": 0,
            "id": "s76",
            "label": "Apop-XIAP",
            "name": "s76",
            "shape": "ellipse"
           },
           "position": {
            "x": 5339.5,
            "y": 647.8
           }
          },
          {
           "data": {
            "NodeType": "reaction",
            "background_color": "#d3d3d3",
            "bipartite": 1,
            "id": "r0",
            "label": "r0",
            "name": "r0",
            "shape": "roundrectangle"
           },
           "position": {
            "x": 117,
            "y": 779.8
           }
          },
          {
           "data": {
            "NodeType": "reaction",
            "background_color": "#d3d3d3",
            "bipartite": 1,
            "id": "r1",
            "label": "r1",
            "name": "r1",
            "shape": "roundrectangle"
           },
           "position": {
            "x": 1977,
            "y": 617.8
           }
          },
          {
           "data": {
            "NodeType": "reaction",
            "background_color": "#d3d3d3",
            "bipartite": 1,
            "id": "r2",
            "label": "r2",
            "name": "r2",
            "shape": "roundrectangle"
           },
           "position": {
            "x": 1977,
            "y": 563.8
           }
          },
          {
           "data": {
            "NodeType": "reaction",
            "background_color": "#d3d3d3",
            "bipartite": 1,
            "id": "r3",
            "label": "r3",
            "name": "r3",
            "shape": "roundrectangle"
           },
           "position": {
            "x": 1517.6,
            "y": 515.8
           }
          },
          {
           "data": {
            "NodeType": "reaction",
            "background_color": "#d3d3d3",
            "bipartite": 1,
            "id": "r4",
            "label": "r4",
            "name": "r4",
            "shape": "roundrectangle"
           },
           "position": {
            "x": 297,
            "y": 779.8
           }
          },
          {
           "data": {
            "NodeType": "reaction",
            "background_color": "#d3d3d3",
            "bipartite": 1,
            "id": "r5",
            "label": "r5",
            "name": "r5",
            "shape": "roundrectangle"
           },
           "position": {
            "x": 487.43,
            "y": 823.8
           }
          },
          {
           "data": {
            "NodeType": "reaction",
            "background_color": "#d3d3d3",
            "bipartite": 1,
            "id": "r6",
            "label": "r6",
            "name": "r6",
            "shape": "roundrectangle"
           },
           "position": {
            "x": 487.43,
            "y": 729.8
           }
          },
          {
           "data": {
            "NodeType": "reaction",
            "background_color": "#d3d3d3",
            "bipartite": 1,
            "id": "r7",
            "label": "r7",
            "name": "r7",
            "shape": "roundrectangle"
           },
           "position": {
            "x": 724.05,
            "y": 777.8
           }
          },
          {
           "data": {
            "NodeType": "reaction",
            "background_color": "#d3d3d3",
            "bipartite": 1,
            "id": "r8",
            "label": "r8",
            "name": "r8",
            "shape": "roundrectangle"
           },
           "position": {
            "x": 914.48,
            "y": 655.8
           }
          },
          {
           "data": {
            "NodeType": "reaction",
            "background_color": "#d3d3d3",
            "bipartite": 1,
            "id": "r9",
            "label": "r9",
            "name": "r9",
            "shape": "roundrectangle"
           },
           "position": {
            "x": 914.48,
            "y": 601.8
           }
          },
          {
           "data": {
            "NodeType": "reaction",
            "background_color": "#d3d3d3",
            "bipartite": 1,
            "id": "r10",
            "label": "r10",
            "name": "r10",
            "shape": "roundrectangle"
           },
           "position": {
            "x": 914.48,
            "y": 823.8
           }
          },
          {
           "data": {
            "NodeType": "reaction",
            "background_color": "#d3d3d3",
            "bipartite": 1,
            "id": "r11",
            "label": "r11",
            "name": "r11",
            "shape": "roundrectangle"
           },
           "position": {
            "x": 1139.3,
            "y": 655.8
           }
          },
          {
           "data": {
            "NodeType": "reaction",
            "background_color": "#d3d3d3",
            "bipartite": 1,
            "id": "r12",
            "label": "r12",
            "name": "r12",
            "shape": "roundrectangle"
           },
           "position": {
            "x": 1139.3,
            "y": 823.8
           }
          },
          {
           "data": {
            "NodeType": "reaction",
            "background_color": "#d3d3d3",
            "bipartite": 1,
            "id": "r13",
            "label": "r13",
            "name": "r13",
            "shape": "roundrectangle"
           },
           "position": {
            "x": 4790.5,
            "y": 758.8
           }
          },
          {
           "data": {
            "NodeType": "reaction",
            "background_color": "#d3d3d3",
            "bipartite": 1,
            "id": "r14",
            "label": "r14",
            "name": "r14",
            "shape": "roundrectangle"
           },
           "position": {
            "x": 4790.5,
            "y": 633.8
           }
          },
          {
           "data": {
            "NodeType": "reaction",
            "background_color": "#d3d3d3",
            "bipartite": 1,
            "id": "r15",
            "label": "r15",
            "name": "r15",
            "shape": "roundrectangle"
           },
           "position": {
            "x": 4790.5,
            "y": 855.8
           }
          },
          {
           "data": {
            "NodeType": "reaction",
            "background_color": "#d3d3d3",
            "bipartite": 1,
            "id": "r16",
            "label": "r16",
            "name": "r16",
            "shape": "roundrectangle"
           },
           "position": {
            "x": 1319.3,
            "y": 329.8
           }
          },
          {
           "data": {
            "NodeType": "reaction",
            "background_color": "#d3d3d3",
            "bipartite": 1,
            "id": "r17",
            "label": "r17",
            "name": "r17",
            "shape": "roundrectangle"
           },
           "position": {
            "x": 5022.5,
            "y": 763.8
           }
          },
          {
           "data": {
            "NodeType": "reaction",
            "background_color": "#d3d3d3",
            "bipartite": 1,
            "id": "r18",
            "label": "r18",
            "name": "r18",
            "shape": "roundrectangle"
           },
           "position": {
            "x": 5022.5,
            "y": 638.8
           }
          },
          {
           "data": {
            "NodeType": "reaction",
            "background_color": "#d3d3d3",
            "bipartite": 1,
            "id": "r19",
            "label": "r19",
            "name": "r19",
            "shape": "roundrectangle"
           },
           "position": {
            "x": 5022.5,
            "y": 851.8
           }
          },
          {
           "data": {
            "NodeType": "reaction",
            "background_color": "#d3d3d3",
            "bipartite": 1,
            "id": "r20",
            "label": "r20",
            "name": "r20",
            "shape": "roundrectangle"
           },
           "position": {
            "x": 1517.6,
            "y": 57.804
           }
          },
          {
           "data": {
            "NodeType": "reaction",
            "background_color": "#d3d3d3",
            "bipartite": 1,
            "id": "r21",
            "label": "r21",
            "name": "r21",
            "shape": "roundrectangle"
           },
           "position": {
            "x": 1517.6,
            "y": 329.8
           }
          },
          {
           "data": {
            "NodeType": "reaction",
            "background_color": "#d3d3d3",
            "bipartite": 1,
            "id": "r22",
            "label": "r22",
            "name": "r22",
            "shape": "roundrectangle"
           },
           "position": {
            "x": 1977,
            "y": 709.8
           }
          },
          {
           "data": {
            "NodeType": "reaction",
            "background_color": "#d3d3d3",
            "bipartite": 1,
            "id": "r23",
            "label": "r23",
            "name": "r23",
            "shape": "roundrectangle"
           },
           "position": {
            "x": 1977,
            "y": 471.8
           }
          },
          {
           "data": {
            "NodeType": "reaction",
            "background_color": "#d3d3d3",
            "bipartite": 1,
            "id": "r24",
            "label": "r24",
            "name": "r24",
            "shape": "roundrectangle"
           },
           "position": {
            "x": 1517.6,
            "y": 383.8
           }
          },
          {
           "data": {
            "NodeType": "reaction",
            "background_color": "#d3d3d3",
            "bipartite": 1,
            "id": "r25",
            "label": "r25",
            "name": "r25",
            "shape": "roundrectangle"
           },
           "position": {
            "x": 5219.2,
            "y": 895.8
           }
          },
          {
           "data": {
            "NodeType": "reaction",
            "background_color": "#d3d3d3",
            "bipartite": 1,
            "id": "r26",
            "label": "r26",
            "name": "r26",
            "shape": "roundrectangle"
           },
           "position": {
            "x": 1772.8,
            "y": 149.8
           }
          },
          {
           "data": {
            "NodeType": "reaction",
            "background_color": "#d3d3d3",
            "bipartite": 1,
            "id": "r27",
            "label": "r27",
            "name": "r27",
            "shape": "roundrectangle"
           },
           "position": {
            "x": 1772.8,
            "y": 291.8
           }
          },
          {
           "data": {
            "NodeType": "reaction",
            "background_color": "#d3d3d3",
            "bipartite": 1,
            "id": "r28",
            "label": "r28",
            "name": "r28",
            "shape": "roundrectangle"
           },
           "position": {
            "x": 5459.7,
            "y": 895.8
           }
          },
          {
           "data": {
            "NodeType": "reaction",
            "background_color": "#d3d3d3",
            "bipartite": 1,
            "id": "r29",
            "label": "r29",
            "name": "r29",
            "shape": "roundrectangle"
           },
           "position": {
            "x": 1977,
            "y": 49.804
           }
          },
          {
           "data": {
            "NodeType": "reaction",
            "background_color": "#d3d3d3",
            "bipartite": 1,
            "id": "r30",
            "label": "r30",
            "name": "r30",
            "shape": "roundrectangle"
           },
           "position": {
            "x": 1977,
            "y": 309.8
           }
          },
          {
           "data": {
            "NodeType": "reaction",
            "background_color": "#d3d3d3",
            "bipartite": 1,
            "id": "r31",
            "label": "r31",
            "name": "r31",
            "shape": "roundrectangle"
           },
           "position": {
            "x": 1977,
            "y": 417.8
           }
          },
          {
           "data": {
            "NodeType": "reaction",
            "background_color": "#d3d3d3",
            "bipartite": 1,
            "id": "r32",
            "label": "r32",
            "name": "r32",
            "shape": "roundrectangle"
           },
           "position": {
            "x": 1977,
            "y": 363.8
           }
          },
          {
           "data": {
            "NodeType": "reaction",
            "background_color": "#d3d3d3",
            "bipartite": 1,
            "id": "r33",
            "label": "r33",
            "name": "r33",
            "shape": "roundrectangle"
           },
           "position": {
            "x": 1977,
            "y": 217.8
           }
          },
          {
           "data": {
            "NodeType": "reaction",
            "background_color": "#d3d3d3",
            "bipartite": 1,
            "id": "r34",
            "label": "r34",
            "name": "r34",
            "shape": "roundrectangle"
           },
           "position": {
            "x": 2229.3,
            "y": 49.804
           }
          },
          {
           "data": {
            "NodeType": "reaction",
            "background_color": "#d3d3d3",
            "bipartite": 1,
            "id": "r35",
            "label": "r35",
            "name": "r35",
            "shape": "roundrectangle"
           },
           "position": {
            "x": 2229.3,
            "y": 290.8
           }
          },
          {
           "data": {
            "NodeType": "reaction",
            "background_color": "#d3d3d3",
            "bipartite": 1,
            "id": "r36",
            "label": "r36",
            "name": "r36",
            "shape": "roundrectangle"
           },
           "position": {
            "x": 2229.3,
            "y": 217.8
           }
          },
          {
           "data": {
            "NodeType": "reaction",
            "background_color": "#d3d3d3",
            "bipartite": 1,
            "id": "r37",
            "label": "r37",
            "name": "r37",
            "shape": "roundrectangle"
           },
           "position": {
            "x": 2420.7,
            "y": 59.804
           }
          },
          {
           "data": {
            "NodeType": "reaction",
            "background_color": "#d3d3d3",
            "bipartite": 1,
            "id": "r38",
            "label": "r38",
            "name": "r38",
            "shape": "roundrectangle"
           },
           "position": {
            "x": 2420.7,
            "y": 516.8
           }
          },
          {
           "data": {
            "NodeType": "reaction",
            "background_color": "#d3d3d3",
            "bipartite": 1,
            "id": "r39",
            "label": "r39",
            "name": "r39",
            "shape": "roundrectangle"
           },
           "position": {
            "x": 2420.7,
            "y": 281.8
           }
          },
          {
           "data": {
            "NodeType": "reaction",
            "background_color": "#d3d3d3",
            "bipartite": 1,
            "id": "r40",
            "label": "r40",
            "name": "r40",
            "shape": "roundrectangle"
           },
           "position": {
            "x": 2420.7,
            "y": 227.8
           }
          },
          {
           "data": {
            "NodeType": "reaction",
            "background_color": "#d3d3d3",
            "bipartite": 1,
            "id": "r41",
            "label": "r41",
            "name": "r41",
            "shape": "roundrectangle"
           },
           "position": {
            "x": 2420.7,
            "y": 335.8
           }
          },
          {
           "data": {
            "NodeType": "reaction",
            "background_color": "#d3d3d3",
            "bipartite": 1,
            "id": "r42",
            "label": "r42",
            "name": "r42",
            "shape": "roundrectangle"
           },
           "position": {
            "x": 2667.1,
            "y": 78.804
           }
          },
          {
           "data": {
            "NodeType": "reaction",
            "background_color": "#d3d3d3",
            "bipartite": 1,
            "id": "r43",
            "label": "r43",
            "name": "r43",
            "shape": "roundrectangle"
           },
           "position": {
            "x": 2667.1,
            "y": 219.8
           }
          },
          {
           "data": {
            "NodeType": "reaction",
            "background_color": "#d3d3d3",
            "bipartite": 1,
            "id": "r44",
            "label": "r44",
            "name": "r44",
            "shape": "roundrectangle"
           },
           "position": {
            "x": 3064.7,
            "y": 442.8
           }
          },
          {
           "data": {
            "NodeType": "reaction",
            "background_color": "#d3d3d3",
            "bipartite": 1,
            "id": "r45",
            "label": "r45",
            "name": "r45",
            "shape": "roundrectangle"
           },
           "position": {
            "x": 3064.7,
            "y": 388.8
           }
          },
          {
           "data": {
            "NodeType": "reaction",
            "background_color": "#d3d3d3",
            "bipartite": 1,
            "id": "r46",
            "label": "r46",
            "name": "r46",
            "shape": "roundrectangle"
           },
           "position": {
            "x": 2858.5,
            "y": 219.8
           }
          },
          {
           "data": {
            "NodeType": "reaction",
            "background_color": "#d3d3d3",
            "bipartite": 1,
            "id": "r47",
            "label": "r47",
            "name": "r47",
            "shape": "roundrectangle"
           },
           "position": {
            "x": 3321.9,
            "y": 565.8
           }
          },
          {
           "data": {
            "NodeType": "reaction",
            "background_color": "#d3d3d3",
            "bipartite": 1,
            "id": "r48",
            "label": "r48",
            "name": "r48",
            "shape": "roundrectangle"
           },
           "position": {
            "x": 3321.9,
            "y": 415.8
           }
          },
          {
           "data": {
            "NodeType": "reaction",
            "background_color": "#d3d3d3",
            "bipartite": 1,
            "id": "r49",
            "label": "r49",
            "name": "r49",
            "shape": "roundrectangle"
           },
           "position": {
            "x": 3522.2,
            "y": 439.8
           }
          },
          {
           "data": {
            "NodeType": "reaction",
            "background_color": "#d3d3d3",
            "bipartite": 1,
            "id": "r50",
            "label": "r50",
            "name": "r50",
            "shape": "roundrectangle"
           },
           "position": {
            "x": 3522.2,
            "y": 572.8
           }
          },
          {
           "data": {
            "NodeType": "reaction",
            "background_color": "#d3d3d3",
            "bipartite": 1,
            "id": "r51",
            "label": "r51",
            "name": "r51",
            "shape": "roundrectangle"
           },
           "position": {
            "x": 3064.7,
            "y": 334.8
           }
          },
          {
           "data": {
            "NodeType": "reaction",
            "background_color": "#d3d3d3",
            "bipartite": 1,
            "id": "r52",
            "label": "r52",
            "name": "r52",
            "shape": "roundrectangle"
           },
           "position": {
            "x": 3064.7,
            "y": 280.8
           }
          },
          {
           "data": {
            "NodeType": "reaction",
            "background_color": "#d3d3d3",
            "bipartite": 1,
            "id": "r53",
            "label": "r53",
            "name": "r53",
            "shape": "roundrectangle"
           },
           "position": {
            "x": 3729.1,
            "y": 635.8
           }
          },
          {
           "data": {
            "NodeType": "reaction",
            "background_color": "#d3d3d3",
            "bipartite": 1,
            "id": "r54",
            "label": "r54",
            "name": "r54",
            "shape": "roundrectangle"
           },
           "position": {
            "x": 5219.2,
            "y": 568.8
           }
          },
          {
           "data": {
            "NodeType": "reaction",
            "background_color": "#d3d3d3",
            "bipartite": 1,
            "id": "r55",
            "label": "r55",
            "name": "r55",
            "shape": "roundrectangle"
           },
           "position": {
            "x": 3321.9,
            "y": 334.8
           }
          },
          {
           "data": {
            "NodeType": "reaction",
            "background_color": "#d3d3d3",
            "bipartite": 1,
            "id": "r56",
            "label": "r56",
            "name": "r56",
            "shape": "roundrectangle"
           },
           "position": {
            "x": 3321.9,
            "y": 280.8
           }
          },
          {
           "data": {
            "NodeType": "reaction",
            "background_color": "#d3d3d3",
            "bipartite": 1,
            "id": "r57",
            "label": "r57",
            "name": "r57",
            "shape": "roundrectangle"
           },
           "position": {
            "x": 3982.2,
            "y": 635.8
           }
          },
          {
           "data": {
            "NodeType": "reaction",
            "background_color": "#d3d3d3",
            "bipartite": 1,
            "id": "r58",
            "label": "r58",
            "name": "r58",
            "shape": "roundrectangle"
           },
           "position": {
            "x": 4171.7,
            "y": 693.8
           }
          },
          {
           "data": {
            "NodeType": "reaction",
            "background_color": "#d3d3d3",
            "bipartite": 1,
            "id": "r59",
            "label": "r59",
            "name": "r59",
            "shape": "roundrectangle"
           },
           "position": {
            "x": 4357.2,
            "y": 753.8
           }
          },
          {
           "data": {
            "NodeType": "reaction",
            "background_color": "#d3d3d3",
            "bipartite": 1,
            "id": "r60",
            "label": "r60",
            "name": "r60",
            "shape": "roundrectangle"
           },
           "position": {
            "x": 5219.2,
            "y": 647.8
           }
          },
          {
           "data": {
            "NodeType": "reaction",
            "background_color": "#d3d3d3",
            "bipartite": 1,
            "id": "r61",
            "label": "r61",
            "name": "r61",
            "shape": "roundrectangle"
           },
           "position": {
            "x": 4592.8,
            "y": 753.8
           }
          }
         ]
        }
       },
       "format": "cyjs",
       "layout": "IPY_MODEL_14a151169bba4af9ab8b900541dfe521",
       "layout_name": "preset",
       "type_of_viz": "sp_rxns_bidirectional_view",
       "visual_style": null
      }
     },
     "7496b015c4224cf2ab728c5c79e3c117": {
      "model_module": "viz-pysb-widget",
      "model_module_version": "^0.1.0",
      "model_name": "CytoscapeModel",
      "state": {
       "_model_module_version": "^0.1.0",
       "_view_module_version": "^0.1.0",
       "background": "#FFFFFF",
       "data": {
        "data": {
         "graph": {
          "rankdir": "LR"
         },
         "name": "pysbjupyter.pysb_models.lopez_embedded",
         "paths": []
        },
        "elements": {
         "edges": [
          {
           "data": {
            "arrowhead": "normal",
            "id": "2d8d3d36-c7db-4896-b154-10cf644327e7",
            "source": "s0",
            "source_arrow_fill": "hollow",
            "source_arrow_shape": "diamond",
            "target": "s21",
            "target_arrow_shape": "triangle"
           }
          },
          {
           "data": {
            "arrowhead": "normal",
            "id": "592b700c-5f74-4d08-9300-8c6d649e03fe",
            "source": "s1",
            "source_arrow_fill": "hollow",
            "source_arrow_shape": "diamond",
            "target": "s21",
            "target_arrow_shape": "triangle"
           }
          },
          {
           "data": {
            "arrowhead": "normal",
            "id": "3fa6657e-028a-44f8-8d94-81ac5b69656f",
            "source": "s2",
            "source_arrow_fill": "hollow",
            "source_arrow_shape": "diamond",
            "target": "s27",
            "target_arrow_shape": "triangle"
           }
          },
          {
           "data": {
            "arrowhead": "normal",
            "id": "d8f06742-d0be-443f-b79f-bc787b02c3ce",
            "source": "s3",
            "source_arrow_fill": "hollow",
            "source_arrow_shape": "diamond",
            "target": "s26",
            "target_arrow_shape": "triangle"
           }
          },
          {
           "data": {
            "arrowhead": "normal",
            "id": "957d86c1-2e94-495d-99bf-ccd1ff8ebd1a",
            "source": "s3",
            "source_arrow_fill": "hollow",
            "source_arrow_shape": "diamond",
            "target": "s46",
            "target_arrow_shape": "triangle"
           }
          },
          {
           "data": {
            "arrowhead": "normal",
            "id": "4f2d01be-9910-48fc-8d35-4b02129672d9",
            "source": "s4",
            "source_arrow_fill": "hollow",
            "source_arrow_shape": "diamond",
            "target": "s30",
            "target_arrow_shape": "triangle"
           }
          },
          {
           "data": {
            "arrowhead": "normal",
            "id": "add4ad60-583d-469a-8ca1-e8d568b5fe00",
            "source": "s5",
            "source_arrow_fill": "hollow",
            "source_arrow_shape": "diamond",
            "target": "s71",
            "target_arrow_shape": "triangle"
           }
          },
          {
           "data": {
            "arrowhead": "normal",
            "id": "160bcbfe-49e9-4bd1-affa-f8278399e0b0",
            "source": "s6",
            "source_arrow_fill": "hollow",
            "source_arrow_shape": "diamond",
            "target": "s31",
            "target_arrow_shape": "triangle"
           }
          },
          {
           "data": {
            "arrowhead": "normal",
            "id": "96c1e3da-5751-4274-b9f0-96be9aa67f07",
            "source": "s6",
            "source_arrow_fill": "hollow",
            "source_arrow_shape": "diamond",
            "target": "s75",
            "target_arrow_shape": "triangle"
           }
          },
          {
           "data": {
            "arrowhead": "normal",
            "id": "ded18037-7f95-4d08-bfd3-8bcf3dc2ab8e",
            "source": "s7",
            "source_arrow_fill": "hollow",
            "source_arrow_shape": "diamond",
            "target": "s36",
            "target_arrow_shape": "triangle"
           }
          },
          {
           "data": {
            "arrowhead": "normal",
            "id": "9f81a8fe-28ba-4f63-84b4-3cd7dd58340d",
            "source": "s8",
            "source_arrow_fill": "hollow",
            "source_arrow_shape": "diamond",
            "target": "s74",
            "target_arrow_shape": "triangle"
           }
          },
          {
           "data": {
            "arrowhead": "normal",
            "id": "8d2cd9c7-f4cc-4d9d-a043-63a3ada3656c",
            "source": "s9",
            "source_arrow_fill": "hollow",
            "source_arrow_shape": "diamond",
            "target": "s35",
            "target_arrow_shape": "triangle"
           }
          },
          {
           "data": {
            "arrowhead": "normal",
            "id": "d7bc52b0-62bf-4348-978c-a91fbf65818b",
            "source": "s10",
            "source_arrow_fill": "hollow",
            "source_arrow_shape": "diamond",
            "target": "s34",
            "target_arrow_shape": "triangle"
           }
          },
          {
           "data": {
            "arrowhead": "normal",
            "id": "60fc0bf3-8d13-44e9-9da8-00a3fc8d905d",
            "source": "s10",
            "source_arrow_fill": "hollow",
            "source_arrow_shape": "diamond",
            "target": "s72",
            "target_arrow_shape": "triangle"
           }
          },
          {
           "data": {
            "arrowhead": "normal",
            "id": "2a91a90d-4d39-4054-b346-57362911229c",
            "source": "s10",
            "source_arrow_fill": "hollow",
            "source_arrow_shape": "diamond",
            "target": "s76",
            "target_arrow_shape": "triangle"
           }
          },
          {
           "data": {
            "arrowhead": "normal",
            "id": "a7888d51-245f-4b9b-a82d-252290c2aa1e",
            "source": "s11",
            "source_arrow_fill": "hollow",
            "source_arrow_shape": "diamond",
            "target": "s29",
            "target_arrow_shape": "triangle"
           }
          },
          {
           "data": {
            "arrowhead": "normal",
            "id": "f7ba982f-3f1e-4324-a491-d26811454875",
            "source": "s12",
            "source_arrow_fill": "hollow",
            "source_arrow_shape": "diamond",
            "target": "s41",
            "target_arrow_shape": "triangle"
           }
          },
          {
           "data": {
            "arrowhead": "normal",
            "id": "13ce8978-6456-430a-96b5-aaa66eda2623",
            "source": "s13",
            "source_arrow_fill": "hollow",
            "source_arrow_shape": "diamond",
            "target": "s42",
            "target_arrow_shape": "triangle"
           }
          },
          {
           "data": {
            "arrowhead": "normal",
            "id": "92a148c1-6f0c-490d-84d3-5040669edbae",
            "source": "s13",
            "source_arrow_fill": "hollow",
            "source_arrow_shape": "diamond",
            "target": "s50",
            "target_arrow_shape": "triangle"
           }
          },
          {
           "data": {
            "arrowhead": "normal",
            "id": "9e3c6749-172f-4433-a8a0-5315604fc0d9",
            "source": "s14",
            "source_arrow_fill": "hollow",
            "source_arrow_shape": "diamond",
            "target": "s22",
            "target_arrow_shape": "triangle"
           }
          },
          {
           "data": {
            "arrowhead": "normal",
            "id": "8377557a-20b5-4d61-9d0f-6e340b2acf29",
            "source": "s14",
            "source_arrow_fill": "hollow",
            "source_arrow_shape": "diamond",
            "target": "s43",
            "target_arrow_shape": "triangle"
           }
          },
          {
           "data": {
            "arrowhead": "normal",
            "id": "767d82ee-7432-4511-839d-c940894fc7f9",
            "source": "s14",
            "source_arrow_fill": "hollow",
            "source_arrow_shape": "diamond",
            "target": "s57",
            "target_arrow_shape": "triangle"
           }
          },
          {
           "data": {
            "arrowhead": "normal",
            "id": "b14544b2-8f41-4627-9e3f-9b8aa4facb02",
            "source": "s15",
            "source_arrow_fill": "hollow",
            "source_arrow_shape": "diamond",
            "target": "s23",
            "target_arrow_shape": "triangle"
           }
          },
          {
           "data": {
            "arrowhead": "normal",
            "id": "521b01e9-8d60-4d67-92cd-07e242d19e53",
            "source": "s15",
            "source_arrow_fill": "hollow",
            "source_arrow_shape": "diamond",
            "target": "s44",
            "target_arrow_shape": "triangle"
           }
          },
          {
           "data": {
            "arrowhead": "normal",
            "id": "1e061165-0409-4a40-bf32-dc6c8c0f95d1",
            "source": "s15",
            "source_arrow_fill": "hollow",
            "source_arrow_shape": "diamond",
            "target": "s51",
            "target_arrow_shape": "triangle"
           }
          },
          {
           "data": {
            "arrowhead": "normal",
            "id": "98883dd6-d2be-41a4-ab65-070329c33ced",
            "source": "s15",
            "source_arrow_fill": "hollow",
            "source_arrow_shape": "diamond",
            "target": "s58",
            "target_arrow_shape": "triangle"
           }
          },
          {
           "data": {
            "arrowhead": "normal",
            "id": "0a3f41ea-032b-4ee7-a6fa-8e17012a6578",
            "source": "s16",
            "source_arrow_fill": "hollow",
            "source_arrow_shape": "diamond",
            "target": "s24",
            "target_arrow_shape": "triangle"
           }
          },
          {
           "data": {
            "arrowhead": "normal",
            "id": "5678b1e3-af07-4adc-8b34-5e54f51b8f66",
            "source": "s16",
            "source_arrow_fill": "hollow",
            "source_arrow_shape": "diamond",
            "target": "s45",
            "target_arrow_shape": "triangle"
           }
          },
          {
           "data": {
            "arrowhead": "normal",
            "id": "2f8d3436-2f20-4efa-a286-a0fff07e5042",
            "source": "s16",
            "source_arrow_fill": "hollow",
            "source_arrow_shape": "diamond",
            "target": "s52",
            "target_arrow_shape": "triangle"
           }
          },
          {
           "data": {
            "arrowhead": "normal",
            "id": "6f87fed8-99ed-4f2a-86a3-e678225961fb",
            "source": "s17",
            "source_arrow_fill": "hollow",
            "source_arrow_shape": "diamond",
            "target": "s22",
            "target_arrow_shape": "triangle"
           }
          },
          {
           "data": {
            "arrowhead": "normal",
            "id": "a3ab5fb1-1e15-4494-af1a-113dc963af35",
            "source": "s17",
            "source_arrow_fill": "hollow",
            "source_arrow_shape": "diamond",
            "target": "s23",
            "target_arrow_shape": "triangle"
           }
          },
          {
           "data": {
            "arrowhead": "normal",
            "id": "ef9994f3-c275-4cb3-9c86-83c2dfa78841",
            "source": "s18",
            "source_arrow_fill": "hollow",
            "source_arrow_shape": "diamond",
            "target": "s24",
            "target_arrow_shape": "triangle"
           }
          },
          {
           "data": {
            "arrowhead": "normal",
            "id": "54d3178b-79f1-43bd-abf4-c1d1f2ce5ab9",
            "source": "s19",
            "source_arrow_fill": "hollow",
            "source_arrow_shape": "diamond",
            "target": "s62",
            "target_arrow_shape": "triangle"
           }
          },
          {
           "data": {
            "arrowhead": "normal",
            "id": "27f35458-bf2e-455f-ae22-07583e202620",
            "source": "s19",
            "source_arrow_fill": "hollow",
            "source_arrow_shape": "diamond",
            "target": "s69",
            "target_arrow_shape": "triangle"
           }
          },
          {
           "data": {
            "arrowhead": "normal",
            "id": "bd2216a1-ab92-4977-b644-b7ac95556744",
            "source": "s20",
            "source_arrow_fill": "hollow",
            "source_arrow_shape": "diamond",
            "target": "s63",
            "target_arrow_shape": "triangle"
           }
          },
          {
           "data": {
            "arrowhead": "normal",
            "id": "c1a834a6-fe9f-45fa-9f4b-e68931652742",
            "source": "s20",
            "source_arrow_fill": "hollow",
            "source_arrow_shape": "diamond",
            "target": "s70",
            "target_arrow_shape": "triangle"
           }
          },
          {
           "data": {
            "arrowhead": "normal",
            "id": "fa9e154c-c547-4a53-873f-d5d1c391a729",
            "source": "s21",
            "source_arrow_fill": "filled",
            "source_arrow_shape": "none",
            "target": "s25",
            "target_arrow_shape": "triangle"
           }
          },
          {
           "data": {
            "arrowhead": "normal",
            "id": "90e15f97-5a64-4111-aac1-32429cd9f9bb",
            "source": "s25",
            "source_arrow_fill": "hollow",
            "source_arrow_shape": "diamond",
            "target": "s26",
            "target_arrow_shape": "triangle"
           }
          },
          {
           "data": {
            "arrowhead": "normal",
            "id": "119818c1-b1b1-4ee3-b6b9-19c260d931f3",
            "source": "s25",
            "source_arrow_fill": "hollow",
            "source_arrow_shape": "diamond",
            "target": "s27",
            "target_arrow_shape": "triangle"
           }
          },
          {
           "data": {
            "arrowhead": "normal",
            "id": "0611d08e-02f8-4a37-941f-36d7daf597c2",
            "source": "s26",
            "source_arrow_fill": "filled",
            "source_arrow_shape": "none",
            "target": "s25",
            "target_arrow_shape": "triangle"
           }
          },
          {
           "data": {
            "arrowhead": "normal",
            "id": "91180b06-c68f-47b5-8a3b-ad0fc96e2355",
            "source": "s26",
            "source_arrow_fill": "filled",
            "source_arrow_shape": "none",
            "target": "s28",
            "target_arrow_shape": "triangle"
           }
          },
          {
           "data": {
            "arrowhead": "normal",
            "id": "736ad095-bfe0-4f22-910f-cba379d0576f",
            "source": "s28",
            "source_arrow_fill": "hollow",
            "source_arrow_shape": "diamond",
            "target": "s29",
            "target_arrow_shape": "triangle"
           }
          },
          {
           "data": {
            "arrowhead": "normal",
            "id": "10475502-9d2d-477b-9c49-540892b2fbb6",
            "source": "s28",
            "source_arrow_fill": "hollow",
            "source_arrow_shape": "diamond",
            "target": "s30",
            "target_arrow_shape": "triangle"
           }
          },
          {
           "data": {
            "arrowhead": "normal",
            "id": "9e709b00-2bd6-4a66-aee1-2fe70ef20fab",
            "source": "s28",
            "source_arrow_fill": "hollow",
            "source_arrow_shape": "diamond",
            "target": "s31",
            "target_arrow_shape": "triangle"
           }
          },
          {
           "data": {
            "arrowhead": "normal",
            "id": "2c554ee6-ec7e-4939-aaa9-caf9d6a133d4",
            "source": "s29",
            "source_arrow_fill": "filled",
            "source_arrow_shape": "none",
            "target": "s32",
            "target_arrow_shape": "triangle"
           }
          },
          {
           "data": {
            "arrowhead": "normal",
            "id": "89e87736-0fd4-4b0f-88ae-e6cbb94b4008",
            "source": "s29",
            "source_arrow_fill": "filled",
            "source_arrow_shape": "none",
            "target": "s28",
            "target_arrow_shape": "triangle"
           }
          },
          {
           "data": {
            "arrowhead": "normal",
            "id": "a0e1a235-a29d-4e6d-952e-5ffdaf456056",
            "source": "s31",
            "source_arrow_fill": "filled",
            "source_arrow_shape": "none",
            "target": "s33",
            "target_arrow_shape": "triangle"
           }
          },
          {
           "data": {
            "arrowhead": "normal",
            "id": "6e951fdc-4e4f-4ae5-9b8f-19008006af07",
            "source": "s31",
            "source_arrow_fill": "filled",
            "source_arrow_shape": "none",
            "target": "s28",
            "target_arrow_shape": "triangle"
           }
          },
          {
           "data": {
            "arrowhead": "normal",
            "id": "c7363126-30b9-4e96-aceb-13d7124b67cb",
            "source": "s32",
            "source_arrow_fill": "hollow",
            "source_arrow_shape": "diamond",
            "target": "s37",
            "target_arrow_shape": "triangle"
           }
          },
          {
           "data": {
            "arrowhead": "normal",
            "id": "646026bc-7518-4d22-a5dc-e2ff9d24300c",
            "source": "s33",
            "source_arrow_fill": "hollow",
            "source_arrow_shape": "diamond",
            "target": "s34",
            "target_arrow_shape": "triangle"
           }
          },
          {
           "data": {
            "arrowhead": "normal",
            "id": "18556049-93fa-401d-be5d-e710419e834e",
            "source": "s33",
            "source_arrow_fill": "hollow",
            "source_arrow_shape": "diamond",
            "target": "s35",
            "target_arrow_shape": "triangle"
           }
          },
          {
           "data": {
            "arrowhead": "normal",
            "id": "b74fc5b7-e90d-42fd-8a54-4434b091aef9",
            "source": "s33",
            "source_arrow_fill": "hollow",
            "source_arrow_shape": "diamond",
            "target": "s36",
            "target_arrow_shape": "triangle"
           }
          },
          {
           "data": {
            "arrowhead": "normal",
            "id": "5d418d82-79ee-4f87-94f9-53c9379ad427",
            "source": "s34",
            "source_arrow_fill": "filled",
            "source_arrow_shape": "none",
            "target": "s10",
            "target_arrow_shape": "triangle"
           }
          },
          {
           "data": {
            "arrowhead": "normal",
            "id": "bda21a3d-3f3d-42cb-b7e0-8a18bc5e42bf",
            "source": "s34",
            "source_arrow_fill": "filled",
            "source_arrow_shape": "none",
            "target": "s38",
            "target_arrow_shape": "triangle"
           }
          },
          {
           "data": {
            "arrowhead": "normal",
            "id": "a4df559b-ee39-4826-b9f5-661138da5ddb",
            "source": "s35",
            "source_arrow_fill": "filled",
            "source_arrow_shape": "none",
            "target": "s33",
            "target_arrow_shape": "triangle"
           }
          },
          {
           "data": {
            "arrowhead": "normal",
            "id": "bd6659a9-b457-4223-a0e3-166872749fc5",
            "source": "s35",
            "source_arrow_fill": "filled",
            "source_arrow_shape": "none",
            "target": "s39",
            "target_arrow_shape": "triangle"
           }
          },
          {
           "data": {
            "arrowhead": "normal",
            "id": "3b716e24-c1bf-4b46-ab0a-4cd3506756a9",
            "source": "s36",
            "source_arrow_fill": "filled",
            "source_arrow_shape": "none",
            "target": "s40",
            "target_arrow_shape": "triangle"
           }
          },
          {
           "data": {
            "arrowhead": "normal",
            "id": "7d654c40-c51c-488f-bb0d-f6e1a933f739",
            "source": "s36",
            "source_arrow_fill": "filled",
            "source_arrow_shape": "none",
            "target": "s33",
            "target_arrow_shape": "triangle"
           }
          },
          {
           "data": {
            "arrowhead": "normal",
            "id": "5be22e98-5376-426f-a49b-0802ceede4da",
            "source": "s37",
            "source_arrow_fill": "hollow",
            "source_arrow_shape": "diamond",
            "target": "s41",
            "target_arrow_shape": "triangle"
           }
          },
          {
           "data": {
            "arrowhead": "normal",
            "id": "f176cdd2-a4ae-4e68-a5d8-786d2c57c1a0",
            "source": "s37",
            "source_arrow_fill": "hollow",
            "source_arrow_shape": "diamond",
            "target": "s42",
            "target_arrow_shape": "triangle"
           }
          },
          {
           "data": {
            "arrowhead": "normal",
            "id": "380e27d9-266e-4bcd-9472-19708531ebf6",
            "source": "s37",
            "source_arrow_fill": "hollow",
            "source_arrow_shape": "diamond",
            "target": "s43",
            "target_arrow_shape": "triangle"
           }
          },
          {
           "data": {
            "arrowhead": "normal",
            "id": "c8f03eda-e6a3-49a7-9d3e-50c4907dc744",
            "source": "s37",
            "source_arrow_fill": "hollow",
            "source_arrow_shape": "diamond",
            "target": "s44",
            "target_arrow_shape": "triangle"
           }
          },
          {
           "data": {
            "arrowhead": "normal",
            "id": "ec16cb0e-77d4-4865-aeae-1f566e64499d",
            "source": "s37",
            "source_arrow_fill": "hollow",
            "source_arrow_shape": "diamond",
            "target": "s45",
            "target_arrow_shape": "triangle"
           }
          },
          {
           "data": {
            "arrowhead": "normal",
            "id": "3f423189-eed2-4df0-b371-2d58f83d04b1",
            "source": "s37",
            "source_arrow_fill": "hollow",
            "source_arrow_shape": "diamond",
            "target": "s49",
            "target_arrow_shape": "triangle"
           }
          },
          {
           "data": {
            "arrowhead": "normal",
            "id": "e3392541-5e74-4a8b-9502-2cf4a4615782",
            "source": "s40",
            "source_arrow_fill": "hollow",
            "source_arrow_shape": "diamond",
            "target": "s46",
            "target_arrow_shape": "triangle"
           }
          },
          {
           "data": {
            "arrowhead": "normal",
            "id": "9800b66e-bd84-4eae-8855-ddf5b2e16c69",
            "source": "s41",
            "source_arrow_fill": "filled",
            "source_arrow_shape": "none",
            "target": "s37",
            "target_arrow_shape": "triangle"
           }
          },
          {
           "data": {
            "arrowhead": "normal",
            "id": "f7d73d50-97dd-4db8-aec1-7033299930a1",
            "source": "s41",
            "source_arrow_fill": "filled",
            "source_arrow_shape": "none",
            "target": "s47",
            "target_arrow_shape": "triangle"
           }
          },
          {
           "data": {
            "arrowhead": "normal",
            "id": "49962665-d1ee-49d0-8f16-0ed2eae3a49e",
            "source": "s42",
            "source_arrow_fill": "filled",
            "source_arrow_shape": "none",
            "target": "s48",
            "target_arrow_shape": "triangle"
           }
          },
          {
           "data": {
            "arrowhead": "normal",
            "id": "f683a64b-265b-4dec-817c-c5cad937d933",
            "source": "s42",
            "source_arrow_fill": "filled",
            "source_arrow_shape": "none",
            "target": "s37",
            "target_arrow_shape": "triangle"
           }
          },
          {
           "data": {
            "arrowhead": "normal",
            "id": "d2ce73e2-fcd0-4481-b54e-9691d1d3d461",
            "source": "s46",
            "source_arrow_fill": "filled",
            "source_arrow_shape": "none",
            "target": "s40",
            "target_arrow_shape": "triangle"
           }
          },
          {
           "data": {
            "arrowhead": "normal",
            "id": "24b97044-0d7e-44b9-a4c1-000d4002d6e6",
            "source": "s46",
            "source_arrow_fill": "filled",
            "source_arrow_shape": "none",
            "target": "s28",
            "target_arrow_shape": "triangle"
           }
          },
          {
           "data": {
            "arrowhead": "normal",
            "id": "e9bab015-c612-4330-abfd-96cf4706495e",
            "source": "s47",
            "source_arrow_fill": "hollow",
            "source_arrow_shape": "diamond",
            "target": "s49",
            "target_arrow_shape": "triangle"
           }
          },
          {
           "data": {
            "arrowhead": "normal",
            "id": "3487eb44-8be0-4650-9cc5-a84da88ed279",
            "source": "s47",
            "source_arrow_fill": "hollow",
            "source_arrow_shape": "diamond",
            "target": "s56",
            "target_arrow_shape": "triangle"
           }
          },
          {
           "data": {
            "arrowhead": "normal",
            "id": "d4a1b711-7524-47de-9b22-70d6ebc1e91f",
            "source": "s48",
            "source_arrow_fill": "hollow",
            "source_arrow_shape": "diamond",
            "target": "s50",
            "target_arrow_shape": "triangle"
           }
          },
          {
           "data": {
            "arrowhead": "normal",
            "id": "0d29694c-fb82-4dd1-b20b-b63aa4faca0e",
            "source": "s48",
            "source_arrow_fill": "hollow",
            "source_arrow_shape": "diamond",
            "target": "s51",
            "target_arrow_shape": "triangle"
           }
          },
          {
           "data": {
            "arrowhead": "normal",
            "id": "415c747e-0a0e-4257-8fb0-ac0625b97a3b",
            "source": "s48",
            "source_arrow_fill": "hollow",
            "source_arrow_shape": "diamond",
            "target": "s52",
            "target_arrow_shape": "triangle"
           }
          },
          {
           "data": {
            "arrowhead": "normal",
            "id": "db08ecf4-f6dc-46c6-8e4e-1e53056cca42",
            "source": "s48",
            "source_arrow_fill": "hollow",
            "source_arrow_shape": "diamond",
            "target": "s53",
            "target_arrow_shape": "triangle"
           }
          },
          {
           "data": {
            "arrowhead": "normal",
            "id": "fa67b68c-3e48-42b4-880c-51ff3c7c03cb",
            "source": "s48",
            "source_arrow_fill": "hollow",
            "source_arrow_shape": "diamond",
            "target": "s55",
            "target_arrow_shape": "triangle"
           }
          },
          {
           "data": {
            "arrowhead": "normal",
            "id": "12236dee-d6c9-4dfe-b53e-8205435270a9",
            "source": "s48",
            "source_arrow_fill": "hollow",
            "source_arrow_shape": "diamond",
            "target": "s60",
            "target_arrow_shape": "triangle"
           }
          },
          {
           "data": {
            "arrowhead": "normal",
            "id": "4ab01034-ee79-453e-a809-a1ed3850f7f6",
            "source": "s49",
            "source_arrow_fill": "filled",
            "source_arrow_shape": "none",
            "target": "s37",
            "target_arrow_shape": "triangle"
           }
          },
          {
           "data": {
            "arrowhead": "normal",
            "id": "f977a307-48da-4569-badc-2608a3119f21",
            "source": "s49",
            "source_arrow_fill": "filled",
            "source_arrow_shape": "none",
            "target": "s54",
            "target_arrow_shape": "triangle"
           }
          },
          {
           "data": {
            "arrowhead": "normal",
            "id": "1741622c-36e0-466c-95fe-da690c359452",
            "source": "s50",
            "source_arrow_fill": "filled",
            "source_arrow_shape": "none",
            "target": "s48",
            "target_arrow_shape": "triangle"
           }
          },
          {
           "data": {
            "arrowhead": "normal",
            "id": "8d1868b5-87dd-471a-a316-889749dbae22",
            "source": "s53",
            "source_arrow_fill": "hollow",
            "source_arrow_shape": "diamond",
            "target": "s55",
            "target_arrow_shape": "triangle"
           }
          },
          {
           "data": {
            "arrowhead": "normal",
            "id": "ac88888d-dd06-4edd-8e2f-f76754b3ded7",
            "source": "s54",
            "source_arrow_fill": "hollow",
            "source_arrow_shape": "diamond",
            "target": "s56",
            "target_arrow_shape": "triangle"
           }
          },
          {
           "data": {
            "arrowhead": "normal",
            "id": "221e6fa3-c695-4fb8-92e5-2a7d01affb21",
            "source": "s54",
            "source_arrow_fill": "hollow",
            "source_arrow_shape": "diamond",
            "target": "s57",
            "target_arrow_shape": "triangle"
           }
          },
          {
           "data": {
            "arrowhead": "normal",
            "id": "9b07ab2a-8978-4592-b810-0a8540e4c89d",
            "source": "s54",
            "source_arrow_fill": "hollow",
            "source_arrow_shape": "diamond",
            "target": "s58",
            "target_arrow_shape": "triangle"
           }
          },
          {
           "data": {
            "arrowhead": "normal",
            "id": "f9ecdbb8-8a37-45be-9cd0-e1164886a2ca",
            "source": "s54",
            "source_arrow_fill": "hollow",
            "source_arrow_shape": "diamond",
            "target": "s59",
            "target_arrow_shape": "triangle"
           }
          },
          {
           "data": {
            "arrowhead": "normal",
            "id": "74436c8d-7756-4894-b193-84aa89d9960c",
            "source": "s54",
            "source_arrow_fill": "hollow",
            "source_arrow_shape": "diamond",
            "target": "s61",
            "target_arrow_shape": "triangle"
           }
          },
          {
           "data": {
            "arrowhead": "normal",
            "id": "96c504d1-809e-40a3-88a8-1608370b4657",
            "source": "s54",
            "source_arrow_fill": "hollow",
            "source_arrow_shape": "diamond",
            "target": "s64",
            "target_arrow_shape": "triangle"
           }
          },
          {
           "data": {
            "arrowhead": "normal",
            "id": "4d3b7848-1c07-4223-bbb0-be50f74c2f87",
            "source": "s55",
            "source_arrow_fill": "hollow",
            "source_arrow_shape": "diamond",
            "target": "s60",
            "target_arrow_shape": "triangle"
           }
          },
          {
           "data": {
            "arrowhead": "normal",
            "id": "1e90ea00-e20e-47af-9d70-2683b1b0b913",
            "source": "s56",
            "source_arrow_fill": "filled",
            "source_arrow_shape": "none",
            "target": "s54",
            "target_arrow_shape": "triangle"
           }
          },
          {
           "data": {
            "arrowhead": "normal",
            "id": "32852b09-9b0f-4912-ad55-c6dcefb026ac",
            "source": "s59",
            "source_arrow_fill": "hollow",
            "source_arrow_shape": "diamond",
            "target": "s61",
            "target_arrow_shape": "triangle"
           }
          },
          {
           "data": {
            "arrowhead": "normal",
            "id": "e8b4d464-576e-4c3d-ac71-c4345a0eb566",
            "source": "s60",
            "source_arrow_fill": "hollow",
            "source_arrow_shape": "diamond",
            "target": "s62",
            "target_arrow_shape": "triangle"
           }
          },
          {
           "data": {
            "arrowhead": "normal",
            "id": "fc0019c6-5f82-42bb-9b8b-3d88b9c88ead",
            "source": "s60",
            "source_arrow_fill": "hollow",
            "source_arrow_shape": "diamond",
            "target": "s63",
            "target_arrow_shape": "triangle"
           }
          },
          {
           "data": {
            "arrowhead": "normal",
            "id": "2934424f-93d6-4a72-a4e9-e92de36921de",
            "source": "s61",
            "source_arrow_fill": "hollow",
            "source_arrow_shape": "diamond",
            "target": "s64",
            "target_arrow_shape": "triangle"
           }
          },
          {
           "data": {
            "arrowhead": "normal",
            "id": "a533993e-0304-43e7-a76a-73bae0305f41",
            "source": "s62",
            "source_arrow_fill": "filled",
            "source_arrow_shape": "none",
            "target": "s65",
            "target_arrow_shape": "triangle"
           }
          },
          {
           "data": {
            "arrowhead": "normal",
            "id": "900eab78-f8a5-4b0f-839e-4cd00c78a565",
            "source": "s62",
            "source_arrow_fill": "filled",
            "source_arrow_shape": "none",
            "target": "s60",
            "target_arrow_shape": "triangle"
           }
          },
          {
           "data": {
            "arrowhead": "normal",
            "id": "c8ac85cb-7783-4b9b-a694-af9f2bdcf2b9",
            "source": "s63",
            "source_arrow_fill": "filled",
            "source_arrow_shape": "none",
            "target": "s66",
            "target_arrow_shape": "triangle"
           }
          },
          {
           "data": {
            "arrowhead": "normal",
            "id": "4ed33b4c-efed-4158-805b-7e22f284b2d0",
            "source": "s63",
            "source_arrow_fill": "filled",
            "source_arrow_shape": "none",
            "target": "s60",
            "target_arrow_shape": "triangle"
           }
          },
          {
           "data": {
            "arrowhead": "normal",
            "id": "95dc43b2-68bc-4831-b166-df3c50eeb659",
            "source": "s64",
            "source_arrow_fill": "hollow",
            "source_arrow_shape": "diamond",
            "target": "s69",
            "target_arrow_shape": "triangle"
           }
          },
          {
           "data": {
            "arrowhead": "normal",
            "id": "c53671ec-8723-4371-b8a5-28e0d285c8de",
            "source": "s64",
            "source_arrow_fill": "hollow",
            "source_arrow_shape": "diamond",
            "target": "s70",
            "target_arrow_shape": "triangle"
           }
          },
          {
           "data": {
            "arrowhead": "normal",
            "id": "da9fc447-1e9d-4c8a-87f0-55ac1de8e850",
            "source": "s65",
            "source_arrow_fill": "hollow",
            "source_arrow_shape": "diamond",
            "target": "s68",
            "target_arrow_shape": "triangle"
           }
          },
          {
           "data": {
            "arrowhead": "normal",
            "id": "fa50d4ee-98af-4c52-80b0-8e328c23e59f",
            "source": "s66",
            "source_arrow_fill": "hollow",
            "source_arrow_shape": "diamond",
            "target": "s67",
            "target_arrow_shape": "triangle"
           }
          },
          {
           "data": {
            "arrowhead": "normal",
            "id": "700e7001-1459-46ad-9844-31d6d091e2dd",
            "source": "s67",
            "source_arrow_fill": "hollow",
            "source_arrow_shape": "diamond",
            "target": "s72",
            "target_arrow_shape": "triangle"
           }
          },
          {
           "data": {
            "arrowhead": "normal",
            "id": "54279c35-b36c-4b23-afa5-4ee58c98d029",
            "source": "s68",
            "source_arrow_fill": "hollow",
            "source_arrow_shape": "diamond",
            "target": "s71",
            "target_arrow_shape": "triangle"
           }
          },
          {
           "data": {
            "arrowhead": "normal",
            "id": "a1164747-a8f3-41e6-a664-a67a2c5c79bf",
            "source": "s69",
            "source_arrow_fill": "filled",
            "source_arrow_shape": "none",
            "target": "s64",
            "target_arrow_shape": "triangle"
           }
          },
          {
           "data": {
            "arrowhead": "normal",
            "id": "c8b202b4-53e1-4d56-a75e-454c41c43df8",
            "source": "s69",
            "source_arrow_fill": "filled",
            "source_arrow_shape": "none",
            "target": "s65",
            "target_arrow_shape": "triangle"
           }
          },
          {
           "data": {
            "arrowhead": "normal",
            "id": "6d07d056-6c28-446c-8366-0c581d27a4f3",
            "source": "s70",
            "source_arrow_fill": "filled",
            "source_arrow_shape": "none",
            "target": "s64",
            "target_arrow_shape": "triangle"
           }
          },
          {
           "data": {
            "arrowhead": "normal",
            "id": "2b25cc94-edd7-4978-b49e-b72d8fda39ac",
            "source": "s70",
            "source_arrow_fill": "filled",
            "source_arrow_shape": "none",
            "target": "s66",
            "target_arrow_shape": "triangle"
           }
          },
          {
           "data": {
            "arrowhead": "normal",
            "id": "dec63910-22f1-403e-882a-6a6f4494ea3c",
            "source": "s71",
            "source_arrow_fill": "filled",
            "source_arrow_shape": "none",
            "target": "s73",
            "target_arrow_shape": "triangle"
           }
          },
          {
           "data": {
            "arrowhead": "normal",
            "id": "d1065941-c894-49f4-a0b7-9bbe0ecc07e7",
            "source": "s71",
            "source_arrow_fill": "filled",
            "source_arrow_shape": "none",
            "target": "s68",
            "target_arrow_shape": "triangle"
           }
          },
          {
           "data": {
            "arrowhead": "normal",
            "id": "b724dc55-9208-4b4e-ad92-822cc6728f61",
            "source": "s73",
            "source_arrow_fill": "hollow",
            "source_arrow_shape": "diamond",
            "target": "s74",
            "target_arrow_shape": "triangle"
           }
          },
          {
           "data": {
            "arrowhead": "normal",
            "id": "ff8555ba-0fe2-4db6-a160-9b82a32232aa",
            "source": "s74",
            "source_arrow_fill": "hollow",
            "source_arrow_shape": "diamond",
            "target": "s75",
            "target_arrow_shape": "triangle"
           }
          },
          {
           "data": {
            "arrowhead": "normal",
            "id": "54b792cf-1c79-46d0-aa48-549db4d38879",
            "source": "s74",
            "source_arrow_fill": "hollow",
            "source_arrow_shape": "diamond",
            "target": "s76",
            "target_arrow_shape": "triangle"
           }
          },
          {
           "data": {
            "arrowhead": "normal",
            "id": "74954add-85a2-4cbf-9782-cc7f7cfb0df3",
            "source": "s75",
            "source_arrow_fill": "filled",
            "source_arrow_shape": "none",
            "target": "s33",
            "target_arrow_shape": "triangle"
           }
          },
          {
           "data": {
            "arrowhead": "normal",
            "id": "1102101c-bc5b-4817-a83f-0f2bc65f14ac",
            "source": "s75",
            "source_arrow_fill": "filled",
            "source_arrow_shape": "none",
            "target": "s74",
            "target_arrow_shape": "triangle"
           }
          }
         ],
         "nodes": [
          {
           "data": {
            "NodeType": "species",
            "background_color": "#2b913a",
            "id": "s0",
            "label": "L",
            "name": "s0",
            "shape": "ellipse"
           },
           "position": {
            "x": 931.8215645195495,
            "y": 15.072946156966216
           }
          },
          {
           "data": {
            "NodeType": "species",
            "background_color": "#2b913a",
            "id": "s1",
            "label": "R",
            "name": "s1",
            "shape": "ellipse"
           },
           "position": {
            "x": 930.8137464273173,
            "y": -65.64075429199362
           }
          },
          {
           "data": {
            "NodeType": "species",
            "background_color": "#2b913a",
            "id": "s2",
            "label": "flip",
            "name": "s2",
            "shape": "ellipse"
           },
           "position": {
            "x": 954.2018483767417,
            "y": -192.8760631862272
           }
          },
          {
           "data": {
            "NodeType": "species",
            "background_color": "#2b913a",
            "id": "s3",
            "label": "proC8",
            "name": "s3",
            "shape": "ellipse"
           },
           "position": {
            "x": 1335.6151571125579,
            "y": -59.57776966020143
           }
          },
          {
           "data": {
            "NodeType": "species",
            "background_color": "#2b913a",
            "id": "s4",
            "label": "BAR",
            "name": "s4",
            "shape": "ellipse"
           },
           "position": {
            "x": 1112.1315448043597,
            "y": 195.01722576257237
           }
          },
          {
           "data": {
            "NodeType": "species",
            "background_color": "#2b913a",
            "id": "s5",
            "label": "iApaf",
            "name": "s5",
            "shape": "ellipse"
           },
           "position": {
            "x": 1971.0787114643842,
            "y": 29.29106209317247
           }
          },
          {
           "data": {
            "NodeType": "species",
            "background_color": "#2b913a",
            "id": "s6",
            "label": "proC3",
            "name": "s6",
            "shape": "ellipse"
           },
           "position": {
            "x": 1546.678177706911,
            "y": 128.5670325894715
           }
          },
          {
           "data": {
            "NodeType": "species",
            "background_color": "#2b913a",
            "id": "s7",
            "label": "proC6",
            "name": "s7",
            "shape": "ellipse"
           },
           "position": {
            "x": 1416.1839819125732,
            "y": 305.4713254785914
           }
          },
          {
           "data": {
            "NodeType": "species",
            "background_color": "#2b913a",
            "id": "s8",
            "label": "C9",
            "name": "s8",
            "shape": "ellipse"
           },
           "position": {
            "x": 1800.931324713208,
            "y": 95.00517006135374
           }
          },
          {
           "data": {
            "NodeType": "species",
            "background_color": "#2b913a",
            "id": "s9",
            "label": "uPARP",
            "name": "s9",
            "shape": "ellipse"
           },
           "position": {
            "x": 1666.863423849797,
            "y": -132.73561856028024
           }
          },
          {
           "data": {
            "NodeType": "species",
            "background_color": "#2b913a",
            "id": "s10",
            "label": "XIAP",
            "name": "s10",
            "shape": "ellipse"
           },
           "position": {
            "x": 1804.1878521891254,
            "y": 421.53635828669076
           }
          },
          {
           "data": {
            "NodeType": "species",
            "background_color": "#2b913a",
            "id": "s11",
            "label": "uBid",
            "name": "s11",
            "shape": "ellipse"
           },
           "position": {
            "x": 1208.7499803706783,
            "y": 297.27482965011507
           }
          },
          {
           "data": {
            "NodeType": "species",
            "background_color": "#2b913a",
            "id": "s12",
            "label": "cBax",
            "name": "s12",
            "shape": "ellipse"
           },
           "position": {
            "x": 1207.7620060220422,
            "y": 372.77648379768857
           }
          },
          {
           "data": {
            "NodeType": "species",
            "background_color": "#2b913a",
            "id": "s13",
            "label": "mBak",
            "name": "s13",
            "shape": "ellipse"
           },
           "position": {
            "x": 1403.358322710856,
            "y": 870.2809340297575
           }
          },
          {
           "data": {
            "NodeType": "species",
            "background_color": "#2b913a",
            "id": "s14",
            "label": "mBcl2",
            "name": "s14",
            "shape": "ellipse"
           },
           "position": {
            "x": 1123.7684482900981,
            "y": 734.0998601776224
           }
          },
          {
           "data": {
            "NodeType": "species",
            "background_color": "#2b913a",
            "id": "s15",
            "label": "mBclxL",
            "name": "s15",
            "shape": "ellipse"
           },
           "position": {
            "x": 1313.2148917672507,
            "y": 915.8604023369655
           }
          },
          {
           "data": {
            "NodeType": "species",
            "background_color": "#2b913a",
            "id": "s16",
            "label": "mMcl1",
            "name": "s16",
            "shape": "ellipse"
           },
           "position": {
            "x": 1533.180067699764,
            "y": 429.50403663285886
           }
          },
          {
           "data": {
            "NodeType": "species",
            "background_color": "#2b913a",
            "id": "s17",
            "label": "mBad",
            "name": "s17",
            "shape": "ellipse"
           },
           "position": {
            "x": 1193.5283472599401,
            "y": 1021.5815724576971
           }
          },
          {
           "data": {
            "NodeType": "species",
            "background_color": "#2b913a",
            "id": "s18",
            "label": "mNoxa",
            "name": "s18",
            "shape": "ellipse"
           },
           "position": {
            "x": 1705.5597019747622,
            "y": 86.51974268070097
           }
          },
          {
           "data": {
            "NodeType": "species",
            "background_color": "#2b913a",
            "id": "s19",
            "label": "mCytoC",
            "name": "s19",
            "shape": "ellipse"
           },
           "position": {
            "x": 1665.6394053443707,
            "y": 524.3099520554166
           }
          },
          {
           "data": {
            "NodeType": "species",
            "background_color": "#2b913a",
            "id": "s20",
            "label": "mSmac",
            "name": "s20",
            "shape": "ellipse"
           },
           "position": {
            "x": 1671.4102352993712,
            "y": 1137.7017442014208
           }
          },
          {
           "data": {
            "NodeType": "species",
            "background_color": "#2b913a",
            "id": "s21",
            "label": "L-R",
            "name": "s21",
            "shape": "ellipse"
           },
           "position": {
            "x": 1028.5540130529992,
            "y": -18.795962290786637
           }
          },
          {
           "data": {
            "NodeType": "species",
            "background_color": "#2b913a",
            "id": "s22",
            "label": "mBad-mBcl2",
            "name": "s22",
            "shape": "ellipse"
           },
           "position": {
            "x": 1119.9908580206538,
            "y": 880.3059126537493
           }
          },
          {
           "data": {
            "NodeType": "species",
            "background_color": "#2b913a",
            "id": "s23",
            "label": "mBad-mBclxL",
            "name": "s23",
            "shape": "ellipse"
           },
           "position": {
            "x": 1293.082293668093,
            "y": 1078.5430309831881
           }
          },
          {
           "data": {
            "NodeType": "species",
            "background_color": "#2b913a",
            "id": "s24",
            "label": "mMcl1-mNoxa",
            "name": "s24",
            "shape": "ellipse"
           },
           "position": {
            "x": 1609.2650107809106,
            "y": 290.93014934155224
           }
          },
          {
           "data": {
            "NodeType": "species",
            "background_color": "#2b913a",
            "id": "s25",
            "label": "DISC",
            "name": "s25",
            "shape": "ellipse"
           },
           "position": {
            "x": 1136.377922528804,
            "y": -12.997831672395844
           }
          },
          {
           "data": {
            "NodeType": "species",
            "background_color": "#2b913a",
            "id": "s26",
            "label": "proC8-DISC",
            "name": "s26",
            "shape": "ellipse"
           },
           "position": {
            "x": 1239.5335811236062,
            "y": 32.72173672012918
           }
          },
          {
           "data": {
            "NodeType": "species",
            "background_color": "#2b913a",
            "id": "s27",
            "label": "DISC-flip",
            "name": "s27",
            "shape": "ellipse"
           },
           "position": {
            "x": 1049.1875336681653,
            "y": -118.76540711738228
           }
          },
          {
           "data": {
            "NodeType": "species",
            "background_color": "#2b913a",
            "id": "s28",
            "label": "aC8",
            "name": "s28",
            "shape": "ellipse"
           },
           "position": {
            "x": 1313.8274950554103,
            "y": 171.689823301782
           }
          },
          {
           "data": {
            "NodeType": "species",
            "background_color": "#2b913a",
            "id": "s29",
            "label": "uBid-aC8",
            "name": "s29",
            "shape": "ellipse"
           },
           "position": {
            "x": 1303.2892379244051,
            "y": 288.41825104447116
           }
          },
          {
           "data": {
            "NodeType": "species",
            "background_color": "#2b913a",
            "id": "s30",
            "label": "BAR-aC8",
            "name": "s30",
            "shape": "ellipse"
           },
           "position": {
            "x": 1207.648109218179,
            "y": 191.26062452951268
           }
          },
          {
           "data": {
            "NodeType": "species",
            "background_color": "#2b913a",
            "id": "s31",
            "label": "proC3-aC8",
            "name": "s31",
            "shape": "ellipse"
           },
           "position": {
            "x": 1450.803675812558,
            "y": 99.92213199839551
           }
          },
          {
           "data": {
            "NodeType": "species",
            "background_color": "#2b913a",
            "id": "s32",
            "label": "tBid",
            "name": "s32",
            "shape": "ellipse"
           },
           "position": {
            "x": 1245.6355680696008,
            "y": 444.007942960326
           }
          },
          {
           "data": {
            "NodeType": "species",
            "background_color": "#2b913a",
            "id": "s33",
            "label": "aC3",
            "name": "s33",
            "shape": "ellipse"
           },
           "position": {
            "x": 1610.0602958257384,
            "y": 152.13415783160733
           }
          },
          {
           "data": {
            "NodeType": "species",
            "background_color": "#2b913a",
            "id": "s34",
            "label": "aC3-XIAP",
            "name": "s34",
            "shape": "ellipse"
           },
           "position": {
            "x": 1706.1239905083114,
            "y": 340.6654834473611
           }
          },
          {
           "data": {
            "NodeType": "species",
            "background_color": "#2b913a",
            "id": "s35",
            "label": "aC3-uPARP",
            "name": "s35",
            "shape": "ellipse"
           },
           "position": {
            "x": 1610.5140274199368,
            "y": 7.0237478780596705
           }
          },
          {
           "data": {
            "NodeType": "species",
            "background_color": "#2b913a",
            "id": "s36",
            "label": "aC3-proC6",
            "name": "s36",
            "shape": "ellipse"
           },
           "position": {
            "x": 1513.595860176581,
            "y": 256.05510009162265
           }
          },
          {
           "data": {
            "NodeType": "species",
            "background_color": "#2b913a",
            "id": "s37",
            "label": "mBid",
            "name": "s37",
            "shape": "ellipse"
           },
           "position": {
            "x": 1304.6714323816213,
            "y": 559.9141693365098
           }
          },
          {
           "data": {
            "NodeType": "species",
            "background_color": "#2b913a",
            "id": "s38",
            "label": "ubC3",
            "name": "s38",
            "shape": "ellipse"
           },
           "position": {
            "x": 1630.8842763535783,
            "y": 440.8123165800421
           }
          },
          {
           "data": {
            "NodeType": "species",
            "background_color": "#2b913a",
            "id": "s39",
            "label": "cPARP",
            "name": "s39",
            "shape": "ellipse"
           },
           "position": {
            "x": 1513.8604607701197,
            "y": -36.8297813211328
           }
          },
          {
           "data": {
            "NodeType": "species",
            "background_color": "#2b913a",
            "id": "s40",
            "label": "aC6",
            "name": "s40",
            "shape": "ellipse"
           },
           "position": {
            "x": 1400.0895001685792,
            "y": 211.67281385271207
           }
          },
          {
           "data": {
            "NodeType": "species",
            "background_color": "#2b913a",
            "id": "s41",
            "label": "cBax-mBid",
            "name": "s41",
            "shape": "ellipse"
           },
           "position": {
            "x": 1340.2352267670697,
            "y": 438.10221464635805
           }
          },
          {
           "data": {
            "NodeType": "species",
            "background_color": "#2b913a",
            "id": "s42",
            "label": "mBak-mBid",
            "name": "s42",
            "shape": "ellipse"
           },
           "position": {
            "x": 1411.0465463608741,
            "y": 694.2553148571279
           }
          },
          {
           "data": {
            "NodeType": "species",
            "background_color": "#2b913a",
            "id": "s43",
            "label": "mBcl2-mBid",
            "name": "s43",
            "shape": "ellipse"
           },
           "position": {
            "x": 1155.3844324716624,
            "y": 560.860033509073
           }
          },
          {
           "data": {
            "NodeType": "species",
            "background_color": "#2b913a",
            "id": "s44",
            "label": "mBclxL-mBid",
            "name": "s44",
            "shape": "ellipse"
           },
           "position": {
            "x": 1220.2800011375155,
            "y": 706.9177294185102
           }
          },
          {
           "data": {
            "NodeType": "species",
            "background_color": "#2b913a",
            "id": "s45",
            "label": "mBid-mMcl1",
            "name": "s45",
            "shape": "ellipse"
           },
           "position": {
            "x": 1437.855442581367,
            "y": 454.64559993027655
           }
          },
          {
           "data": {
            "NodeType": "species",
            "background_color": "#2b913a",
            "id": "s46",
            "label": "aC6-proC8",
            "name": "s46",
            "shape": "ellipse"
           },
           "position": {
            "x": 1353.562826000746,
            "y": 66.65440841445441
           }
          },
          {
           "data": {
            "NodeType": "species",
            "background_color": "#2b913a",
            "id": "s47",
            "label": "mBax",
            "name": "s47",
            "shape": "ellipse"
           },
           "position": {
            "x": 1401.03858058972,
            "y": 564.1324358652631
           }
          },
          {
           "data": {
            "NodeType": "species",
            "background_color": "#2b913a",
            "id": "s48",
            "label": "aBak",
            "name": "s48",
            "shape": "ellipse"
           },
           "position": {
            "x": 1566.810495972522,
            "y": 777.08491961429
           }
          },
          {
           "data": {
            "NodeType": "species",
            "background_color": "#2b913a",
            "id": "s49",
            "label": "mBax-mBid",
            "name": "s49",
            "shape": "ellipse"
           },
           "position": {
            "x": 1316.616248269859,
            "y": 679.6487840253376
           }
          },
          {
           "data": {
            "NodeType": "species",
            "background_color": "#2b913a",
            "id": "s50",
            "label": "aBak-mBak",
            "name": "s50",
            "shape": "ellipse"
           },
           "position": {
            "x": 1498.2674822530157,
            "y": 902.0946610666397
           }
          },
          {
           "data": {
            "NodeType": "species",
            "background_color": "#2b913a",
            "id": "s51",
            "label": "aBak-mBclxL",
            "name": "s51",
            "shape": "ellipse"
           },
           "position": {
            "x": 1484.3904290677265,
            "y": 989.4358078453341
           }
          },
          {
           "data": {
            "NodeType": "species",
            "background_color": "#2b913a",
            "id": "s52",
            "label": "aBak-mMcl1",
            "name": "s52",
            "shape": "ellipse"
           },
           "position": {
            "x": 1568.3282321860324,
            "y": 573.5094177079152
           }
          },
          {
           "data": {
            "NodeType": "species",
            "background_color": "#2b913a",
            "id": "s53",
            "label": "2aBak",
            "name": "s53",
            "shape": "ellipse"
           },
           "position": {
            "x": 1663.78586074919,
            "y": 818.5444283131428
           }
          },
          {
           "data": {
            "NodeType": "species",
            "background_color": "#2b913a",
            "id": "s54",
            "label": "aBax",
            "name": "s54",
            "shape": "ellipse"
           },
           "position": {
            "x": 1402.8847376760077,
            "y": 819.1516742713573
           }
          },
          {
           "data": {
            "NodeType": "species",
            "background_color": "#2b913a",
            "id": "s55",
            "label": "3aBak",
            "name": "s55",
            "shape": "ellipse"
           },
           "position": {
            "x": 1595.6296177263469,
            "y": 903.3026968337998
           }
          },
          {
           "data": {
            "NodeType": "species",
            "background_color": "#2b913a",
            "id": "s56",
            "label": "aBax-mBax",
            "name": "s56",
            "shape": "ellipse"
           },
           "position": {
            "x": 1507.5429287619718,
            "y": 682.7616355353324
           }
          },
          {
           "data": {
            "NodeType": "species",
            "background_color": "#2b913a",
            "id": "s57",
            "label": "aBax-mBcl2",
            "name": "s57",
            "shape": "ellipse"
           },
           "position": {
            "x": 1217.4476917498796,
            "y": 886.830604324737
           }
          },
          {
           "data": {
            "NodeType": "species",
            "background_color": "#2b913a",
            "id": "s58",
            "label": "aBax-mBclxL",
            "name": "s58",
            "shape": "ellipse"
           },
           "position": {
            "x": 1389.9279323194373,
            "y": 1012.0372935605848
           }
          },
          {
           "data": {
            "NodeType": "species",
            "background_color": "#2b913a",
            "id": "s59",
            "label": "2aBax",
            "name": "s59",
            "shape": "ellipse"
           },
           "position": {
            "x": 1312.3728345228376,
            "y": 813.7567356286949
           }
          },
          {
           "data": {
            "NodeType": "species",
            "background_color": "#2b913a",
            "id": "s60",
            "label": "4aBak",
            "name": "s60",
            "shape": "ellipse"
           },
           "position": {
            "x": 1722.561543384501,
            "y": 845.1494017451772
           }
          },
          {
           "data": {
            "NodeType": "species",
            "background_color": "#2b913a",
            "id": "s61",
            "label": "3aBax",
            "name": "s61",
            "shape": "ellipse"
           },
           "position": {
            "x": 1470.8103703205452,
            "y": 790.5537522857445
           }
          },
          {
           "data": {
            "NodeType": "species",
            "background_color": "#2b913a",
            "id": "s62",
            "label": "4aBak-mCytoC",
            "name": "s62",
            "shape": "ellipse"
           },
           "position": {
            "x": 1760.152847656917,
            "y": 682.2868511794735
           }
          },
          {
           "data": {
            "NodeType": "species",
            "background_color": "#2b913a",
            "id": "s63",
            "label": "4aBak-mSmac",
            "name": "s63",
            "shape": "ellipse"
           },
           "position": {
            "x": 1766.5764062590258,
            "y": 1008.7725806997611
           }
          },
          {
           "data": {
            "NodeType": "species",
            "background_color": "#2b913a",
            "id": "s64",
            "label": "4aBax",
            "name": "s64",
            "shape": "ellipse"
           },
           "position": {
            "x": 1566.902722694654,
            "y": 830.920875152266
           }
          },
          {
           "data": {
            "NodeType": "species",
            "background_color": "#2b913a",
            "id": "s65",
            "label": "cCytoC",
            "name": "s65",
            "shape": "ellipse"
           },
           "position": {
            "x": 1762.4070508294797,
            "y": 513.3722729538563
           }
          },
          {
           "data": {
            "NodeType": "species",
            "background_color": "#2b913a",
            "id": "s66",
            "label": "cSmac",
            "name": "s66",
            "shape": "ellipse"
           },
           "position": {
            "x": 1819.6940313991552,
            "y": 858.4172052211989
           }
          },
          {
           "data": {
            "NodeType": "species",
            "background_color": "#2b913a",
            "id": "s67",
            "label": "aSmac",
            "name": "s67",
            "shape": "ellipse"
           },
           "position": {
            "x": 1856.2364173697613,
            "y": 727.4521338865217
           }
          },
          {
           "data": {
            "NodeType": "species",
            "background_color": "#2b913a",
            "id": "s68",
            "label": "aCytoC",
            "name": "s68",
            "shape": "ellipse"
           },
           "position": {
            "x": 1803.8632888761567,
            "y": 329.8966987238222
           }
          },
          {
           "data": {
            "NodeType": "species",
            "background_color": "#2b913a",
            "id": "s69",
            "label": "4aBax-mCytoC",
            "name": "s69",
            "shape": "ellipse"
           },
           "position": {
            "x": 1664.6433687234028,
            "y": 684.9981683157141
           }
          },
          {
           "data": {
            "NodeType": "species",
            "background_color": "#2b913a",
            "id": "s70",
            "label": "4aBax-mSmac",
            "name": "s70",
            "shape": "ellipse"
           },
           "position": {
            "x": 1670.861169925423,
            "y": 974.3443323353448
           }
          },
          {
           "data": {
            "NodeType": "species",
            "background_color": "#2b913a",
            "id": "s71",
            "label": "iApaf-aCytoC",
            "name": "s71",
            "shape": "ellipse"
           },
           "position": {
            "x": 1897.230255087264,
            "y": 166.09420427903532
           }
          },
          {
           "data": {
            "NodeType": "species",
            "background_color": "#2b913a",
            "id": "s72",
            "label": "aSmac-XIAP",
            "name": "s72",
            "shape": "ellipse"
           },
           "position": {
            "x": 1857.8510424715244,
            "y": 571.5392963107055
           }
          },
          {
           "data": {
            "NodeType": "species",
            "background_color": "#2b913a",
            "id": "s73",
            "label": "aApaf",
            "name": "s73",
            "shape": "ellipse"
           },
           "position": {
            "x": 1959.7098528390259,
            "y": 266.7888651653153
           }
          },
          {
           "data": {
            "NodeType": "species",
            "background_color": "#2b913a",
            "id": "s74",
            "label": "Apop",
            "name": "s74",
            "shape": "ellipse"
           },
           "position": {
            "x": 1806.1825805713784,
            "y": 231.91772356423158
           }
          },
          {
           "data": {
            "NodeType": "species",
            "background_color": "#2b913a",
            "id": "s75",
            "label": "Apop-proC3",
            "name": "s75",
            "shape": "ellipse"
           },
           "position": {
            "x": 1705.9548476055647,
            "y": 177.6236623295163
           }
          },
          {
           "data": {
            "NodeType": "species",
            "background_color": "#2b913a",
            "id": "s76",
            "label": "Apop-XIAP",
            "name": "s76",
            "shape": "ellipse"
           },
           "position": {
            "x": 1899.4486373502332,
            "y": 381.9598751882907
           }
          }
         ]
        }
       },
       "format": "cyjs",
       "layout": "IPY_MODEL_e4a2fc1d82324d29a8af26ae608d9635",
       "layout_name": "cose",
       "type_of_viz": "species_view",
       "visual_style": null
      }
     },
     "7682c1b68d1f49cabe44a0bc0714d5d2": {
      "model_module": "viz-pysb-widget",
      "model_module_version": "^0.1.0",
      "model_name": "CytoscapeModel",
      "state": {
       "_model_module_version": "^0.1.0",
       "_view_module_version": "^0.1.0",
       "background": "#FFFFFF",
       "data": {
        "data": {
         "graph": {
          "rankdir": "LR"
         },
         "name": "pysbjupyter.pysb_models.lopez_embedded"
        },
        "elements": {
         "edges": [
          {
           "data": {
            "arrowhead": "normal",
            "id": "08608f9a-4cff-447f-93c4-a3fd2fe1f1b3",
            "source": "s0",
            "source_arrow_fill": "hollow",
            "source_arrow_shape": "triangle",
            "target": "bind_L_R_to_LR",
            "target_arrow_shape": "triangle"
           }
          },
          {
           "data": {
            "arrowhead": "normal",
            "id": "917727ed-ebe0-4ea6-b60e-e8122792f69f",
            "source": "s1",
            "source_arrow_fill": "hollow",
            "source_arrow_shape": "triangle",
            "target": "bind_L_R_to_LR",
            "target_arrow_shape": "triangle"
           }
          },
          {
           "data": {
            "arrowhead": "normal",
            "id": "a7aebd7b-79b1-41fe-9cc1-aafe1f3aee4d",
            "source": "s2",
            "source_arrow_fill": "hollow",
            "source_arrow_shape": "triangle",
            "target": "bind_DISC_flip",
            "target_arrow_shape": "triangle"
           }
          },
          {
           "data": {
            "arrowhead": "normal",
            "id": "e7644c03-49ac-472c-933f-83a31c05d5d1",
            "source": "s3",
            "source_arrow_fill": "hollow",
            "source_arrow_shape": "triangle",
            "target": "bind_DISC_C8pro_to_DISCC8pro",
            "target_arrow_shape": "triangle"
           }
          },
          {
           "data": {
            "arrowhead": "normal",
            "id": "2129649b-d82c-4186-96b3-e1fd744505d6",
            "source": "s3",
            "source_arrow_fill": "hollow",
            "source_arrow_shape": "triangle",
            "target": "bind_C6A_C8pro_to_C6AC8pro",
            "target_arrow_shape": "triangle"
           }
          },
          {
           "data": {
            "arrowhead": "normal",
            "id": "563babe8-b7f4-43b5-a86f-a88e3915b046",
            "source": "s4",
            "source_arrow_fill": "hollow",
            "source_arrow_shape": "triangle",
            "target": "bind_BAR_C8A",
            "target_arrow_shape": "triangle"
           }
          },
          {
           "data": {
            "arrowhead": "normal",
            "id": "1f0714bb-e14c-479c-b3f9-882ba20c4241",
            "source": "s5",
            "source_arrow_fill": "hollow",
            "source_arrow_shape": "triangle",
            "target": "bind_CytoCA_ApafI_to_CytoCAApafI",
            "target_arrow_shape": "triangle"
           }
          },
          {
           "data": {
            "arrowhead": "normal",
            "id": "00168b35-b3ac-4e31-a72c-43f7f442a933",
            "source": "s6",
            "source_arrow_fill": "hollow",
            "source_arrow_shape": "triangle",
            "target": "bind_Apop_C3pro_to_ApopC3pro",
            "target_arrow_shape": "triangle"
           }
          },
          {
           "data": {
            "arrowhead": "normal",
            "id": "f7421a6a-679d-4a27-895c-8a849c43ae31",
            "source": "s6",
            "source_arrow_fill": "hollow",
            "source_arrow_shape": "triangle",
            "target": "bind_C8A_C3pro_to_C8AC3pro",
            "target_arrow_shape": "triangle"
           }
          },
          {
           "data": {
            "arrowhead": "normal",
            "id": "afb19e0f-fbce-47e3-90f5-3e9b8e68131c",
            "source": "s7",
            "source_arrow_fill": "hollow",
            "source_arrow_shape": "triangle",
            "target": "bind_C3A_C6pro_to_C3AC6pro",
            "target_arrow_shape": "triangle"
           }
          },
          {
           "data": {
            "arrowhead": "normal",
            "id": "7e114d60-c4af-4013-a484-38a088859b6a",
            "source": "s8",
            "source_arrow_fill": "hollow",
            "source_arrow_shape": "triangle",
            "target": "convert_ApafA_C9_to_Apop",
            "target_arrow_shape": "triangle"
           }
          },
          {
           "data": {
            "arrowhead": "normal",
            "id": "58b57040-8998-4d45-930f-ff96d903b7f9",
            "source": "s9",
            "source_arrow_fill": "hollow",
            "source_arrow_shape": "triangle",
            "target": "bind_C3A_PARPU_to_C3APARPU",
            "target_arrow_shape": "triangle"
           }
          },
          {
           "data": {
            "arrowhead": "normal",
            "id": "53476771-416e-42ad-9443-21062723110a",
            "source": "s10",
            "source_arrow_fill": "hollow",
            "source_arrow_shape": "triangle",
            "target": "bind_Apop_XIAP",
            "target_arrow_shape": "triangle"
           }
          },
          {
           "data": {
            "arrowhead": "normal",
            "id": "5ef4b0de-84b2-4fd0-8545-be6ed0aa47bd",
            "source": "s10",
            "source_arrow_fill": "hollow",
            "source_arrow_shape": "triangle",
            "target": "bind_SmacA_XIAP",
            "target_arrow_shape": "triangle"
           }
          },
          {
           "data": {
            "arrowhead": "normal",
            "id": "270639c5-5669-40e8-b3c8-cfd9e652fd60",
            "source": "s10",
            "source_arrow_fill": "hollow",
            "source_arrow_shape": "triangle",
            "target": "bind_XIAP_C3A_to_XIAPC3A",
            "target_arrow_shape": "triangle"
           }
          },
          {
           "data": {
            "arrowhead": "normal",
            "id": "7376d5ae-7a86-400a-8c3d-09fd1e64cf01",
            "source": "s11",
            "source_arrow_fill": "hollow",
            "source_arrow_shape": "triangle",
            "target": "bind_C8A_BidU_to_C8ABidU",
            "target_arrow_shape": "triangle"
           }
          },
          {
           "data": {
            "arrowhead": "normal",
            "id": "4482fbbb-c124-4e7a-b042-396638506809",
            "source": "s12",
            "source_arrow_fill": "hollow",
            "source_arrow_shape": "triangle",
            "target": "bind_BidM_BaxC_to_BidMBaxC",
            "target_arrow_shape": "triangle"
           }
          },
          {
           "data": {
            "arrowhead": "normal",
            "id": "aa54b2d9-1cf6-4d8c-9904-3b0f67fbdb2c",
            "source": "s13",
            "source_arrow_fill": "hollow",
            "source_arrow_shape": "triangle",
            "target": "bind_BidM_BakM_to_BidMBakM",
            "target_arrow_shape": "triangle"
           }
          },
          {
           "data": {
            "arrowhead": "normal",
            "id": "d13bb652-f655-47d2-95df-e917a72f6fb4",
            "source": "s13",
            "source_arrow_fill": "hollow",
            "source_arrow_shape": "triangle",
            "target": "bind_BakA_BakM_to_BakABakM",
            "target_arrow_shape": "triangle"
           }
          },
          {
           "data": {
            "arrowhead": "normal",
            "id": "773e4967-3ca5-4d4c-812d-90f4b7ff7fc6",
            "source": "s14",
            "source_arrow_fill": "hollow",
            "source_arrow_shape": "triangle",
            "target": "bind_BidM_Bcl2M",
            "target_arrow_shape": "triangle"
           }
          },
          {
           "data": {
            "arrowhead": "normal",
            "id": "e73d6e8d-8f55-44b3-aac6-4923c15cae0c",
            "source": "s14",
            "source_arrow_fill": "hollow",
            "source_arrow_shape": "triangle",
            "target": "bind_BaxA_Bcl2",
            "target_arrow_shape": "triangle"
           }
          },
          {
           "data": {
            "arrowhead": "normal",
            "id": "6463b643-a172-4a24-8af4-d6e9bdda7260",
            "source": "s14",
            "source_arrow_fill": "hollow",
            "source_arrow_shape": "triangle",
            "target": "bind_BadM_Bcl2",
            "target_arrow_shape": "triangle"
           }
          },
          {
           "data": {
            "arrowhead": "normal",
            "id": "b0f5cc29-a114-4791-a324-74bfc26daa1e",
            "source": "s15",
            "source_arrow_fill": "hollow",
            "source_arrow_shape": "triangle",
            "target": "bind_BidM_BclxLM",
            "target_arrow_shape": "triangle"
           }
          },
          {
           "data": {
            "arrowhead": "normal",
            "id": "fb45cfb8-1534-4e2a-a52b-53c56fae31e9",
            "source": "s15",
            "source_arrow_fill": "hollow",
            "source_arrow_shape": "triangle",
            "target": "bind_BaxA_BclxLM",
            "target_arrow_shape": "triangle"
           }
          },
          {
           "data": {
            "arrowhead": "normal",
            "id": "2190f322-f854-41d5-93fd-1f1f1b236c38",
            "source": "s15",
            "source_arrow_fill": "hollow",
            "source_arrow_shape": "triangle",
            "target": "bind_BakA_BclxLM",
            "target_arrow_shape": "triangle"
           }
          },
          {
           "data": {
            "arrowhead": "normal",
            "id": "624647b9-7538-4849-b030-758425f1830a",
            "source": "s15",
            "source_arrow_fill": "hollow",
            "source_arrow_shape": "triangle",
            "target": "bind_BadM_BclxLM",
            "target_arrow_shape": "triangle"
           }
          },
          {
           "data": {
            "arrowhead": "normal",
            "id": "b0248d24-465b-4ab5-a584-7b634067150d",
            "source": "s16",
            "source_arrow_fill": "hollow",
            "source_arrow_shape": "triangle",
            "target": "bind_BidM_Mcl1M",
            "target_arrow_shape": "triangle"
           }
          },
          {
           "data": {
            "arrowhead": "normal",
            "id": "2af9f6bb-f297-4c81-8b18-b98532a547f3",
            "source": "s16",
            "source_arrow_fill": "hollow",
            "source_arrow_shape": "triangle",
            "target": "bind_BakA_Mcl1M",
            "target_arrow_shape": "triangle"
           }
          },
          {
           "data": {
            "arrowhead": "normal",
            "id": "c8f66569-8b7c-442d-a8f2-583a732c52f1",
            "source": "s16",
            "source_arrow_fill": "hollow",
            "source_arrow_shape": "triangle",
            "target": "bind_NoxaM_Mcl1M",
            "target_arrow_shape": "triangle"
           }
          },
          {
           "data": {
            "arrowhead": "normal",
            "id": "bb90c186-0574-4e38-b9f9-b5913ea2af5e",
            "source": "s17",
            "source_arrow_fill": "hollow",
            "source_arrow_shape": "triangle",
            "target": "bind_BadM_Bcl2",
            "target_arrow_shape": "triangle"
           }
          },
          {
           "data": {
            "arrowhead": "normal",
            "id": "ce5cd02c-a2ba-4337-95c1-5af738eb6a7b",
            "source": "s17",
            "source_arrow_fill": "hollow",
            "source_arrow_shape": "triangle",
            "target": "bind_BadM_BclxLM",
            "target_arrow_shape": "triangle"
           }
          },
          {
           "data": {
            "arrowhead": "normal",
            "id": "ca0f7baa-a357-40c8-96e9-d09f820ebdda",
            "source": "s18",
            "source_arrow_fill": "hollow",
            "source_arrow_shape": "triangle",
            "target": "bind_NoxaM_Mcl1M",
            "target_arrow_shape": "triangle"
           }
          },
          {
           "data": {
            "arrowhead": "normal",
            "id": "9ecab554-7975-48ce-8540-69937e84f8ec",
            "source": "s19",
            "source_arrow_fill": "hollow",
            "source_arrow_shape": "triangle",
            "target": "pore_transport_complex_BaxA_4_CytoCM",
            "target_arrow_shape": "triangle"
           }
          },
          {
           "data": {
            "arrowhead": "normal",
            "id": "690a5230-06b5-4a5e-af6a-1584a8ca458c",
            "source": "s19",
            "source_arrow_fill": "hollow",
            "source_arrow_shape": "triangle",
            "target": "pore_transport_complex_BakA_4_CytoCM",
            "target_arrow_shape": "triangle"
           }
          },
          {
           "data": {
            "arrowhead": "normal",
            "id": "a54c4798-3b73-447c-8ed4-ebe741e18c68",
            "source": "s20",
            "source_arrow_fill": "hollow",
            "source_arrow_shape": "triangle",
            "target": "pore_transport_complex_BaxA_4_SmacM",
            "target_arrow_shape": "triangle"
           }
          },
          {
           "data": {
            "arrowhead": "normal",
            "id": "bd10f4e5-c270-4687-9eb2-425c20184969",
            "source": "s20",
            "source_arrow_fill": "hollow",
            "source_arrow_shape": "triangle",
            "target": "pore_transport_complex_BakA_4_SmacM",
            "target_arrow_shape": "triangle"
           }
          },
          {
           "data": {
            "arrowhead": "normal",
            "id": "441821f4-be66-48b8-91a4-16f9dc257804",
            "source": "s21",
            "source_arrow_fill": "hollow",
            "source_arrow_shape": "triangle",
            "target": "bind_L_R_to_LR",
            "target_arrow_shape": "triangle"
           }
          },
          {
           "data": {
            "arrowhead": "normal",
            "id": "4bb1ac75-e897-4d6d-a8fe-65085bce031e",
            "source": "s21",
            "source_arrow_fill": "filled",
            "source_arrow_shape": "none",
            "target": "convert_LR_to_DISC",
            "target_arrow_shape": "triangle"
           }
          },
          {
           "data": {
            "arrowhead": "normal",
            "id": "33057d63-056b-4ad6-9309-f63465508c63",
            "source": "s22",
            "source_arrow_fill": "hollow",
            "source_arrow_shape": "triangle",
            "target": "bind_BadM_Bcl2",
            "target_arrow_shape": "triangle"
           }
          },
          {
           "data": {
            "arrowhead": "normal",
            "id": "10a0dac8-a0e1-4fe0-ab70-7accf50feb74",
            "source": "s23",
            "source_arrow_fill": "hollow",
            "source_arrow_shape": "triangle",
            "target": "bind_BadM_BclxLM",
            "target_arrow_shape": "triangle"
           }
          },
          {
           "data": {
            "arrowhead": "normal",
            "id": "98c5ec96-9c63-4c7d-aaf4-5f1c267f6b4f",
            "source": "s24",
            "source_arrow_fill": "hollow",
            "source_arrow_shape": "triangle",
            "target": "bind_NoxaM_Mcl1M",
            "target_arrow_shape": "triangle"
           }
          },
          {
           "data": {
            "arrowhead": "normal",
            "id": "8d38a6e0-d07c-4fb3-ae75-cfbd643f64c8",
            "source": "s25",
            "source_arrow_fill": "hollow",
            "source_arrow_shape": "triangle",
            "target": "bind_DISC_C8pro_to_DISCC8pro",
            "target_arrow_shape": "triangle"
           }
          },
          {
           "data": {
            "arrowhead": "normal",
            "id": "c9da0f71-35b9-4dd5-a43d-8385704a8808",
            "source": "s25",
            "source_arrow_fill": "hollow",
            "source_arrow_shape": "triangle",
            "target": "bind_DISC_flip",
            "target_arrow_shape": "triangle"
           }
          },
          {
           "data": {
            "arrowhead": "normal",
            "id": "c1661bea-98db-452d-a814-222135f13ba2",
            "source": "s26",
            "source_arrow_fill": "hollow",
            "source_arrow_shape": "triangle",
            "target": "bind_DISC_C8pro_to_DISCC8pro",
            "target_arrow_shape": "triangle"
           }
          },
          {
           "data": {
            "arrowhead": "normal",
            "id": "a4bed0fa-1c44-4824-8db6-ac1931986277",
            "source": "s26",
            "source_arrow_fill": "filled",
            "source_arrow_shape": "none",
            "target": "catalyze_DISCC8pro_to_DISC_C8A",
            "target_arrow_shape": "triangle"
           }
          },
          {
           "data": {
            "arrowhead": "normal",
            "id": "06e93f7c-72a0-4bd2-98e2-d15e48748337",
            "source": "s27",
            "source_arrow_fill": "hollow",
            "source_arrow_shape": "triangle",
            "target": "bind_DISC_flip",
            "target_arrow_shape": "triangle"
           }
          },
          {
           "data": {
            "arrowhead": "normal",
            "id": "76b0be26-1320-4884-8017-0e7e6bf7369e",
            "source": "s28",
            "source_arrow_fill": "hollow",
            "source_arrow_shape": "triangle",
            "target": "bind_C8A_BidU_to_C8ABidU",
            "target_arrow_shape": "triangle"
           }
          },
          {
           "data": {
            "arrowhead": "normal",
            "id": "d8f2a99d-3a4f-406a-bcbb-93cc3e067df6",
            "source": "s28",
            "source_arrow_fill": "hollow",
            "source_arrow_shape": "triangle",
            "target": "bind_BAR_C8A",
            "target_arrow_shape": "triangle"
           }
          },
          {
           "data": {
            "arrowhead": "normal",
            "id": "957ec629-ef17-403f-b1d1-9c05df80777c",
            "source": "s28",
            "source_arrow_fill": "hollow",
            "source_arrow_shape": "triangle",
            "target": "bind_C8A_C3pro_to_C8AC3pro",
            "target_arrow_shape": "triangle"
           }
          },
          {
           "data": {
            "arrowhead": "normal",
            "id": "1cf5f8aa-13c0-4df1-a025-660d0d6d59ad",
            "source": "s29",
            "source_arrow_fill": "hollow",
            "source_arrow_shape": "triangle",
            "target": "bind_C8A_BidU_to_C8ABidU",
            "target_arrow_shape": "triangle"
           }
          },
          {
           "data": {
            "arrowhead": "normal",
            "id": "74e1ccaf-50f3-4220-8707-1cf424305ba6",
            "source": "s29",
            "source_arrow_fill": "filled",
            "source_arrow_shape": "none",
            "target": "catalyze_C8ABidU_to_C8A_BidT",
            "target_arrow_shape": "triangle"
           }
          },
          {
           "data": {
            "arrowhead": "normal",
            "id": "52de728c-51dd-4375-8f45-0d96f33c0358",
            "source": "s30",
            "source_arrow_fill": "hollow",
            "source_arrow_shape": "triangle",
            "target": "bind_BAR_C8A",
            "target_arrow_shape": "triangle"
           }
          },
          {
           "data": {
            "arrowhead": "normal",
            "id": "ae0f2a13-1179-451a-a178-a50955ed3371",
            "source": "s31",
            "source_arrow_fill": "hollow",
            "source_arrow_shape": "triangle",
            "target": "bind_C8A_C3pro_to_C8AC3pro",
            "target_arrow_shape": "triangle"
           }
          },
          {
           "data": {
            "arrowhead": "normal",
            "id": "c34ccab2-0aa3-441c-a6ae-bc418820dde1",
            "source": "s31",
            "source_arrow_fill": "filled",
            "source_arrow_shape": "none",
            "target": "catalyze_C8AC3pro_to_C8A_C3A",
            "target_arrow_shape": "triangle"
           }
          },
          {
           "data": {
            "arrowhead": "normal",
            "id": "0708ad4d-0b77-4ed6-a838-39f4edba65c1",
            "source": "s32",
            "source_arrow_fill": "hollow",
            "source_arrow_shape": "triangle",
            "target": "equilibrate_BidT_to_BidM",
            "target_arrow_shape": "triangle"
           }
          },
          {
           "data": {
            "arrowhead": "normal",
            "id": "f3f1d9e5-ba8f-4985-a078-6c646a4d4c7a",
            "source": "s33",
            "source_arrow_fill": "hollow",
            "source_arrow_shape": "triangle",
            "target": "bind_XIAP_C3A_to_XIAPC3A",
            "target_arrow_shape": "triangle"
           }
          },
          {
           "data": {
            "arrowhead": "normal",
            "id": "6a1b90ef-a0bf-470c-b4e6-1c855c86ff71",
            "source": "s33",
            "source_arrow_fill": "hollow",
            "source_arrow_shape": "triangle",
            "target": "bind_C3A_PARPU_to_C3APARPU",
            "target_arrow_shape": "triangle"
           }
          },
          {
           "data": {
            "arrowhead": "normal",
            "id": "88a9fd42-e592-4382-b309-d7868b996483",
            "source": "s33",
            "source_arrow_fill": "hollow",
            "source_arrow_shape": "triangle",
            "target": "bind_C3A_C6pro_to_C3AC6pro",
            "target_arrow_shape": "triangle"
           }
          },
          {
           "data": {
            "arrowhead": "normal",
            "id": "1feca06f-c981-4a7c-820b-725613001b0c",
            "source": "s34",
            "source_arrow_fill": "hollow",
            "source_arrow_shape": "triangle",
            "target": "bind_XIAP_C3A_to_XIAPC3A",
            "target_arrow_shape": "triangle"
           }
          },
          {
           "data": {
            "arrowhead": "normal",
            "id": "bfaf5b88-3048-4bd2-9a41-687aef59deb8",
            "source": "s34",
            "source_arrow_fill": "filled",
            "source_arrow_shape": "none",
            "target": "catalyze_XIAPC3A_to_XIAP_C3ub",
            "target_arrow_shape": "triangle"
           }
          },
          {
           "data": {
            "arrowhead": "normal",
            "id": "2fd94457-4fb9-43f8-9e6d-b204632b5752",
            "source": "s35",
            "source_arrow_fill": "hollow",
            "source_arrow_shape": "triangle",
            "target": "bind_C3A_PARPU_to_C3APARPU",
            "target_arrow_shape": "triangle"
           }
          },
          {
           "data": {
            "arrowhead": "normal",
            "id": "f794ffc8-2503-49c8-9b14-79bf9e07cfde",
            "source": "s35",
            "source_arrow_fill": "filled",
            "source_arrow_shape": "none",
            "target": "catalyze_C3APARPU_to_C3A_PARPC",
            "target_arrow_shape": "triangle"
           }
          },
          {
           "data": {
            "arrowhead": "normal",
            "id": "c20b2a53-3092-45a3-b890-131a6536ea3a",
            "source": "s36",
            "source_arrow_fill": "hollow",
            "source_arrow_shape": "triangle",
            "target": "bind_C3A_C6pro_to_C3AC6pro",
            "target_arrow_shape": "triangle"
           }
          },
          {
           "data": {
            "arrowhead": "normal",
            "id": "b8b578df-15b4-4cad-93fb-f9102ccc5e84",
            "source": "s36",
            "source_arrow_fill": "filled",
            "source_arrow_shape": "none",
            "target": "catalyze_C3AC6pro_to_C3A_C6A",
            "target_arrow_shape": "triangle"
           }
          },
          {
           "data": {
            "arrowhead": "normal",
            "id": "a1ef82d1-f0f1-4585-ad40-1e70695d72be",
            "source": "s37",
            "source_arrow_fill": "hollow",
            "source_arrow_shape": "triangle",
            "target": "equilibrate_BidT_to_BidM",
            "target_arrow_shape": "triangle"
           }
          },
          {
           "data": {
            "arrowhead": "normal",
            "id": "39c8fa3c-bf68-40bc-80df-5fcd05ae3811",
            "source": "s37",
            "source_arrow_fill": "hollow",
            "source_arrow_shape": "triangle",
            "target": "bind_BidM_BaxC_to_BidMBaxC",
            "target_arrow_shape": "triangle"
           }
          },
          {
           "data": {
            "arrowhead": "normal",
            "id": "ba3dce30-5d1f-4cde-83fd-f7b539726181",
            "source": "s37",
            "source_arrow_fill": "hollow",
            "source_arrow_shape": "triangle",
            "target": "bind_BidM_BaxM_to_BidMBaxM",
            "target_arrow_shape": "triangle"
           }
          },
          {
           "data": {
            "arrowhead": "normal",
            "id": "16859c3f-4c14-4e7b-9db5-a4288d85238c",
            "source": "s37",
            "source_arrow_fill": "hollow",
            "source_arrow_shape": "triangle",
            "target": "bind_BidM_BakM_to_BidMBakM",
            "target_arrow_shape": "triangle"
           }
          },
          {
           "data": {
            "arrowhead": "normal",
            "id": "4e145967-ae14-4698-a218-dae2e4c51487",
            "source": "s37",
            "source_arrow_fill": "hollow",
            "source_arrow_shape": "triangle",
            "target": "bind_BidM_Bcl2M",
            "target_arrow_shape": "triangle"
           }
          },
          {
           "data": {
            "arrowhead": "normal",
            "id": "3d5ddd04-9fa8-4cf6-9d81-0b678d8a36c2",
            "source": "s37",
            "source_arrow_fill": "hollow",
            "source_arrow_shape": "triangle",
            "target": "bind_BidM_BclxLM",
            "target_arrow_shape": "triangle"
           }
          },
          {
           "data": {
            "arrowhead": "normal",
            "id": "b997f84d-ea3a-492c-afd9-4a8ef6f0dabf",
            "source": "s37",
            "source_arrow_fill": "hollow",
            "source_arrow_shape": "triangle",
            "target": "bind_BidM_Mcl1M",
            "target_arrow_shape": "triangle"
           }
          },
          {
           "data": {
            "arrowhead": "normal",
            "id": "8bc27f6b-5680-464b-9b33-03427118aab8",
            "source": "s40",
            "source_arrow_fill": "hollow",
            "source_arrow_shape": "triangle",
            "target": "bind_C6A_C8pro_to_C6AC8pro",
            "target_arrow_shape": "triangle"
           }
          },
          {
           "data": {
            "arrowhead": "normal",
            "id": "b2e2d6d9-0ab3-4834-b426-2fd5ade995ec",
            "source": "s41",
            "source_arrow_fill": "hollow",
            "source_arrow_shape": "triangle",
            "target": "bind_BidM_BaxC_to_BidMBaxC",
            "target_arrow_shape": "triangle"
           }
          },
          {
           "data": {
            "arrowhead": "normal",
            "id": "855f36d7-5e43-4657-9ebc-006c49df6056",
            "source": "s41",
            "source_arrow_fill": "filled",
            "source_arrow_shape": "none",
            "target": "catalyze_BidMBaxC_to_BidM_BaxM",
            "target_arrow_shape": "triangle"
           }
          },
          {
           "data": {
            "arrowhead": "normal",
            "id": "aade8147-e038-48e5-8428-e89155ff3899",
            "source": "s42",
            "source_arrow_fill": "hollow",
            "source_arrow_shape": "triangle",
            "target": "bind_BidM_BakM_to_BidMBakM",
            "target_arrow_shape": "triangle"
           }
          },
          {
           "data": {
            "arrowhead": "normal",
            "id": "e29191fa-8523-4c52-9449-0a0f7fb00f95",
            "source": "s42",
            "source_arrow_fill": "filled",
            "source_arrow_shape": "none",
            "target": "catalyze_BidMBakM_to_BidM_BakA",
            "target_arrow_shape": "triangle"
           }
          },
          {
           "data": {
            "arrowhead": "normal",
            "id": "ae60406c-2316-4146-b7df-708770048214",
            "source": "s43",
            "source_arrow_fill": "hollow",
            "source_arrow_shape": "triangle",
            "target": "bind_BidM_Bcl2M",
            "target_arrow_shape": "triangle"
           }
          },
          {
           "data": {
            "arrowhead": "normal",
            "id": "324adabc-794c-439a-a39e-6e4f1620fc15",
            "source": "s44",
            "source_arrow_fill": "hollow",
            "source_arrow_shape": "triangle",
            "target": "bind_BidM_BclxLM",
            "target_arrow_shape": "triangle"
           }
          },
          {
           "data": {
            "arrowhead": "normal",
            "id": "e84f5caf-abfb-456e-9e4a-22d02a415f45",
            "source": "s45",
            "source_arrow_fill": "hollow",
            "source_arrow_shape": "triangle",
            "target": "bind_BidM_Mcl1M",
            "target_arrow_shape": "triangle"
           }
          },
          {
           "data": {
            "arrowhead": "normal",
            "id": "a9efbadd-f56b-4e09-a789-3da7ccf42ddc",
            "source": "s46",
            "source_arrow_fill": "hollow",
            "source_arrow_shape": "triangle",
            "target": "bind_C6A_C8pro_to_C6AC8pro",
            "target_arrow_shape": "triangle"
           }
          },
          {
           "data": {
            "arrowhead": "normal",
            "id": "4f53cb11-1dc7-45fe-a0d0-6bc63d078b49",
            "source": "s46",
            "source_arrow_fill": "filled",
            "source_arrow_shape": "none",
            "target": "catalyze_C6AC8pro_to_C6A_C8A",
            "target_arrow_shape": "triangle"
           }
          },
          {
           "data": {
            "arrowhead": "normal",
            "id": "dc8d550f-e272-499e-a982-150f88d47f45",
            "source": "s47",
            "source_arrow_fill": "hollow",
            "source_arrow_shape": "triangle",
            "target": "bind_BidM_BaxM_to_BidMBaxM",
            "target_arrow_shape": "triangle"
           }
          },
          {
           "data": {
            "arrowhead": "normal",
            "id": "2d52f791-ad2d-4631-befc-9b232c25ff1c",
            "source": "s47",
            "source_arrow_fill": "hollow",
            "source_arrow_shape": "triangle",
            "target": "bind_BaxA_BaxM_to_BaxABaxM",
            "target_arrow_shape": "triangle"
           }
          },
          {
           "data": {
            "arrowhead": "normal",
            "id": "54f5a3f3-1856-4937-85da-39b9dfa81827",
            "source": "s48",
            "source_arrow_fill": "hollow",
            "source_arrow_shape": "triangle",
            "target": "bind_BakA_BakM_to_BakABakM",
            "target_arrow_shape": "triangle"
           }
          },
          {
           "data": {
            "arrowhead": "normal",
            "id": "af4b8a94-6c56-43de-b27c-03f2f0b66c5c",
            "source": "s48",
            "source_arrow_fill": "hollow",
            "source_arrow_shape": "triangle",
            "target": "bind_BakA_BclxLM",
            "target_arrow_shape": "triangle"
           }
          },
          {
           "data": {
            "arrowhead": "normal",
            "id": "cbf52093-04df-4b82-91a5-1f6622a4febf",
            "source": "s48",
            "source_arrow_fill": "hollow",
            "source_arrow_shape": "triangle",
            "target": "bind_BakA_Mcl1M",
            "target_arrow_shape": "triangle"
           }
          },
          {
           "data": {
            "arrowhead": "normal",
            "id": "d1d1d32a-1a65-4da1-8f26-fb950f1fb985",
            "source": "s48",
            "source_arrow_fill": "hollow",
            "source_arrow_shape": "triangle",
            "target": "assemble_pore_sequential_Bak_2",
            "target_arrow_shape": "triangle"
           }
          },
          {
           "data": {
            "arrowhead": "normal",
            "id": "0163a2cf-420b-472e-b9fd-5acf245a17a2",
            "source": "s48",
            "source_arrow_fill": "hollow",
            "source_arrow_shape": "triangle",
            "target": "assemble_pore_sequential_Bak_3",
            "target_arrow_shape": "triangle"
           }
          },
          {
           "data": {
            "arrowhead": "normal",
            "id": "bcac36bb-0d12-4142-a320-1b62376d3ca9",
            "source": "s48",
            "source_arrow_fill": "hollow",
            "source_arrow_shape": "triangle",
            "target": "assemble_pore_sequential_Bak_4",
            "target_arrow_shape": "triangle"
           }
          },
          {
           "data": {
            "arrowhead": "normal",
            "id": "b1ad31ed-1efe-448b-bd5b-4f01ec0b9cfb",
            "source": "s49",
            "source_arrow_fill": "hollow",
            "source_arrow_shape": "triangle",
            "target": "bind_BidM_BaxM_to_BidMBaxM",
            "target_arrow_shape": "triangle"
           }
          },
          {
           "data": {
            "arrowhead": "normal",
            "id": "70c8e187-0c1e-4df5-8ead-6e61affde9e8",
            "source": "s49",
            "source_arrow_fill": "filled",
            "source_arrow_shape": "none",
            "target": "catalyze_BidMBaxM_to_BidM_BaxA",
            "target_arrow_shape": "triangle"
           }
          },
          {
           "data": {
            "arrowhead": "normal",
            "id": "80162670-c91e-47b7-9367-96b201744cc5",
            "source": "s50",
            "source_arrow_fill": "hollow",
            "source_arrow_shape": "triangle",
            "target": "bind_BakA_BakM_to_BakABakM",
            "target_arrow_shape": "triangle"
           }
          },
          {
           "data": {
            "arrowhead": "normal",
            "id": "b8a81364-f27b-4b13-ae91-4b0342989de7",
            "source": "s50",
            "source_arrow_fill": "filled",
            "source_arrow_shape": "none",
            "target": "catalyze_BakABakM_to_BakA_BakA",
            "target_arrow_shape": "triangle"
           }
          },
          {
           "data": {
            "arrowhead": "normal",
            "id": "254d2877-dbd8-40a2-8f4b-777bdb5bef8e",
            "source": "s51",
            "source_arrow_fill": "hollow",
            "source_arrow_shape": "triangle",
            "target": "bind_BakA_BclxLM",
            "target_arrow_shape": "triangle"
           }
          },
          {
           "data": {
            "arrowhead": "normal",
            "id": "8460dfe6-6dc5-4ed6-871d-c3b0685cfe8a",
            "source": "s52",
            "source_arrow_fill": "hollow",
            "source_arrow_shape": "triangle",
            "target": "bind_BakA_Mcl1M",
            "target_arrow_shape": "triangle"
           }
          },
          {
           "data": {
            "arrowhead": "normal",
            "id": "b77b590e-cbe5-4358-ad6a-b7219b07b8ed",
            "source": "s53",
            "source_arrow_fill": "hollow",
            "source_arrow_shape": "triangle",
            "target": "assemble_pore_sequential_Bak_2",
            "target_arrow_shape": "triangle"
           }
          },
          {
           "data": {
            "arrowhead": "normal",
            "id": "c442d13b-13b1-4b4e-b64d-7d4bb2aa41d6",
            "source": "s53",
            "source_arrow_fill": "hollow",
            "source_arrow_shape": "triangle",
            "target": "assemble_pore_sequential_Bak_3",
            "target_arrow_shape": "triangle"
           }
          },
          {
           "data": {
            "arrowhead": "normal",
            "id": "41d8f9a1-df3f-4fd6-8468-3ce2a74e7544",
            "source": "s54",
            "source_arrow_fill": "hollow",
            "source_arrow_shape": "triangle",
            "target": "bind_BaxA_BaxM_to_BaxABaxM",
            "target_arrow_shape": "triangle"
           }
          },
          {
           "data": {
            "arrowhead": "normal",
            "id": "533afd57-7abf-4e16-91f4-65f010140c0e",
            "source": "s54",
            "source_arrow_fill": "hollow",
            "source_arrow_shape": "triangle",
            "target": "bind_BaxA_Bcl2",
            "target_arrow_shape": "triangle"
           }
          },
          {
           "data": {
            "arrowhead": "normal",
            "id": "dee37331-e277-4f4b-9069-ff51290a9d7a",
            "source": "s54",
            "source_arrow_fill": "hollow",
            "source_arrow_shape": "triangle",
            "target": "bind_BaxA_BclxLM",
            "target_arrow_shape": "triangle"
           }
          },
          {
           "data": {
            "arrowhead": "normal",
            "id": "8b730b05-1bfc-404d-9fdc-cf1e4e24b170",
            "source": "s54",
            "source_arrow_fill": "hollow",
            "source_arrow_shape": "triangle",
            "target": "assemble_pore_sequential_Bax_2",
            "target_arrow_shape": "triangle"
           }
          },
          {
           "data": {
            "arrowhead": "normal",
            "id": "7b68c773-5498-4224-8691-dcad80fab36a",
            "source": "s54",
            "source_arrow_fill": "hollow",
            "source_arrow_shape": "triangle",
            "target": "assemble_pore_sequential_Bax_3",
            "target_arrow_shape": "triangle"
           }
          },
          {
           "data": {
            "arrowhead": "normal",
            "id": "bd353752-ca0a-4777-82f0-6cf1e5f6786b",
            "source": "s54",
            "source_arrow_fill": "hollow",
            "source_arrow_shape": "triangle",
            "target": "assemble_pore_sequential_Bax_4",
            "target_arrow_shape": "triangle"
           }
          },
          {
           "data": {
            "arrowhead": "normal",
            "id": "2952bad9-f51f-4ab7-ae7c-7cd2d8077a7f",
            "source": "s55",
            "source_arrow_fill": "hollow",
            "source_arrow_shape": "triangle",
            "target": "assemble_pore_sequential_Bak_3",
            "target_arrow_shape": "triangle"
           }
          },
          {
           "data": {
            "arrowhead": "normal",
            "id": "39cffd47-e9fc-4c7a-84de-9d0e1313cbb7",
            "source": "s55",
            "source_arrow_fill": "hollow",
            "source_arrow_shape": "triangle",
            "target": "assemble_pore_sequential_Bak_4",
            "target_arrow_shape": "triangle"
           }
          },
          {
           "data": {
            "arrowhead": "normal",
            "id": "796ccf3f-032f-494f-b0c4-0ac2ae91d9db",
            "source": "s56",
            "source_arrow_fill": "hollow",
            "source_arrow_shape": "triangle",
            "target": "bind_BaxA_BaxM_to_BaxABaxM",
            "target_arrow_shape": "triangle"
           }
          },
          {
           "data": {
            "arrowhead": "normal",
            "id": "dc51d38a-336f-4e9b-a744-172d6d26d274",
            "source": "s56",
            "source_arrow_fill": "filled",
            "source_arrow_shape": "none",
            "target": "catalyze_BaxABaxM_to_BaxA_BaxA",
            "target_arrow_shape": "triangle"
           }
          },
          {
           "data": {
            "arrowhead": "normal",
            "id": "d4dbb9ea-6c5a-46ba-877e-6e6eb85dba36",
            "source": "s57",
            "source_arrow_fill": "hollow",
            "source_arrow_shape": "triangle",
            "target": "bind_BaxA_Bcl2",
            "target_arrow_shape": "triangle"
           }
          },
          {
           "data": {
            "arrowhead": "normal",
            "id": "0c6ed36f-9a20-4165-9ade-88ec36e5ff9a",
            "source": "s58",
            "source_arrow_fill": "hollow",
            "source_arrow_shape": "triangle",
            "target": "bind_BaxA_BclxLM",
            "target_arrow_shape": "triangle"
           }
          },
          {
           "data": {
            "arrowhead": "normal",
            "id": "127218e7-6d3a-4ba3-b530-17c9a7c1ae6f",
            "source": "s59",
            "source_arrow_fill": "hollow",
            "source_arrow_shape": "triangle",
            "target": "assemble_pore_sequential_Bax_2",
            "target_arrow_shape": "triangle"
           }
          },
          {
           "data": {
            "arrowhead": "normal",
            "id": "ce931935-6d49-43c4-aef6-b6d1b979f4a0",
            "source": "s59",
            "source_arrow_fill": "hollow",
            "source_arrow_shape": "triangle",
            "target": "assemble_pore_sequential_Bax_3",
            "target_arrow_shape": "triangle"
           }
          },
          {
           "data": {
            "arrowhead": "normal",
            "id": "664e8c2e-d1ce-4de1-818e-7244d320c7d2",
            "source": "s60",
            "source_arrow_fill": "hollow",
            "source_arrow_shape": "triangle",
            "target": "assemble_pore_sequential_Bak_4",
            "target_arrow_shape": "triangle"
           }
          },
          {
           "data": {
            "arrowhead": "normal",
            "id": "7a77139f-34d2-467b-860d-5754e58c2e47",
            "source": "s60",
            "source_arrow_fill": "hollow",
            "source_arrow_shape": "triangle",
            "target": "pore_transport_complex_BakA_4_CytoCM",
            "target_arrow_shape": "triangle"
           }
          },
          {
           "data": {
            "arrowhead": "normal",
            "id": "a2d8a7f2-dad0-4066-b651-f949c0ab2364",
            "source": "s60",
            "source_arrow_fill": "hollow",
            "source_arrow_shape": "triangle",
            "target": "pore_transport_complex_BakA_4_SmacM",
            "target_arrow_shape": "triangle"
           }
          },
          {
           "data": {
            "arrowhead": "normal",
            "id": "09191f29-9f23-489b-85e4-f4c1d13d4b27",
            "source": "s61",
            "source_arrow_fill": "hollow",
            "source_arrow_shape": "triangle",
            "target": "assemble_pore_sequential_Bax_3",
            "target_arrow_shape": "triangle"
           }
          },
          {
           "data": {
            "arrowhead": "normal",
            "id": "a22c3e78-e158-4203-83e3-93e0f59df5dd",
            "source": "s61",
            "source_arrow_fill": "hollow",
            "source_arrow_shape": "triangle",
            "target": "assemble_pore_sequential_Bax_4",
            "target_arrow_shape": "triangle"
           }
          },
          {
           "data": {
            "arrowhead": "normal",
            "id": "e18427e4-7042-4f2d-9cb7-57be4d32b136",
            "source": "s62",
            "source_arrow_fill": "hollow",
            "source_arrow_shape": "triangle",
            "target": "pore_transport_complex_BakA_4_CytoCM",
            "target_arrow_shape": "triangle"
           }
          },
          {
           "data": {
            "arrowhead": "normal",
            "id": "fc356023-0d3e-4feb-be1d-eb0070e589e9",
            "source": "s62",
            "source_arrow_fill": "filled",
            "source_arrow_shape": "none",
            "target": "pore_transport_dissociate_BakA_4_CytoCC",
            "target_arrow_shape": "triangle"
           }
          },
          {
           "data": {
            "arrowhead": "normal",
            "id": "133c055b-88d0-4342-a9e6-e69711823abe",
            "source": "s63",
            "source_arrow_fill": "hollow",
            "source_arrow_shape": "triangle",
            "target": "pore_transport_complex_BakA_4_SmacM",
            "target_arrow_shape": "triangle"
           }
          },
          {
           "data": {
            "arrowhead": "normal",
            "id": "4e1643ce-a96f-45fd-9ebf-3f5603facd9a",
            "source": "s63",
            "source_arrow_fill": "filled",
            "source_arrow_shape": "none",
            "target": "pore_transport_dissociate_BakA_4_SmacC",
            "target_arrow_shape": "triangle"
           }
          },
          {
           "data": {
            "arrowhead": "normal",
            "id": "d33e6ef6-e74f-499e-81a8-e6b22ddd2a59",
            "source": "s64",
            "source_arrow_fill": "hollow",
            "source_arrow_shape": "triangle",
            "target": "assemble_pore_sequential_Bax_4",
            "target_arrow_shape": "triangle"
           }
          },
          {
           "data": {
            "arrowhead": "normal",
            "id": "390c90ea-2bf9-411e-a23f-39031d845236",
            "source": "s64",
            "source_arrow_fill": "hollow",
            "source_arrow_shape": "triangle",
            "target": "pore_transport_complex_BaxA_4_CytoCM",
            "target_arrow_shape": "triangle"
           }
          },
          {
           "data": {
            "arrowhead": "normal",
            "id": "aeca201e-949e-4b8e-9ca9-9876f40c22ad",
            "source": "s64",
            "source_arrow_fill": "hollow",
            "source_arrow_shape": "triangle",
            "target": "pore_transport_complex_BaxA_4_SmacM",
            "target_arrow_shape": "triangle"
           }
          },
          {
           "data": {
            "arrowhead": "normal",
            "id": "5bdb7704-33c7-48e7-90a2-b84dd8c42a5b",
            "source": "s65",
            "source_arrow_fill": "hollow",
            "source_arrow_shape": "triangle",
            "target": "equilibrate_CytoCC_to_CytoCA",
            "target_arrow_shape": "triangle"
           }
          },
          {
           "data": {
            "arrowhead": "normal",
            "id": "e8758294-f015-408b-9891-c56dc75c4578",
            "source": "s66",
            "source_arrow_fill": "hollow",
            "source_arrow_shape": "triangle",
            "target": "equilibrate_SmacC_to_SmacA",
            "target_arrow_shape": "triangle"
           }
          },
          {
           "data": {
            "arrowhead": "normal",
            "id": "c552c8e0-40e8-4e15-afec-5ccac3b7acb4",
            "source": "s67",
            "source_arrow_fill": "hollow",
            "source_arrow_shape": "triangle",
            "target": "equilibrate_SmacC_to_SmacA",
            "target_arrow_shape": "triangle"
           }
          },
          {
           "data": {
            "arrowhead": "normal",
            "id": "24277eec-f5be-4fd2-8bab-93055103aed9",
            "source": "s67",
            "source_arrow_fill": "hollow",
            "source_arrow_shape": "triangle",
            "target": "bind_SmacA_XIAP",
            "target_arrow_shape": "triangle"
           }
          },
          {
           "data": {
            "arrowhead": "normal",
            "id": "d11c8313-f1a1-42e2-862e-c4cafcf0544d",
            "source": "s68",
            "source_arrow_fill": "hollow",
            "source_arrow_shape": "triangle",
            "target": "equilibrate_CytoCC_to_CytoCA",
            "target_arrow_shape": "triangle"
           }
          },
          {
           "data": {
            "arrowhead": "normal",
            "id": "79b93d12-9198-44e4-ae30-febe08501613",
            "source": "s68",
            "source_arrow_fill": "hollow",
            "source_arrow_shape": "triangle",
            "target": "bind_CytoCA_ApafI_to_CytoCAApafI",
            "target_arrow_shape": "triangle"
           }
          },
          {
           "data": {
            "arrowhead": "normal",
            "id": "eb06e9d0-1329-488b-9858-11ffa9bee70f",
            "source": "s69",
            "source_arrow_fill": "hollow",
            "source_arrow_shape": "triangle",
            "target": "pore_transport_complex_BaxA_4_CytoCM",
            "target_arrow_shape": "triangle"
           }
          },
          {
           "data": {
            "arrowhead": "normal",
            "id": "240770fd-4699-4c6d-b8fb-7a3dad64bf74",
            "source": "s69",
            "source_arrow_fill": "filled",
            "source_arrow_shape": "none",
            "target": "pore_transport_dissociate_BaxA_4_CytoCC",
            "target_arrow_shape": "triangle"
           }
          },
          {
           "data": {
            "arrowhead": "normal",
            "id": "c3d22738-0621-481c-a907-ee5a2a8e03ef",
            "source": "s70",
            "source_arrow_fill": "hollow",
            "source_arrow_shape": "triangle",
            "target": "pore_transport_complex_BaxA_4_SmacM",
            "target_arrow_shape": "triangle"
           }
          },
          {
           "data": {
            "arrowhead": "normal",
            "id": "a111c507-987d-4de5-83fc-85430742ea4a",
            "source": "s70",
            "source_arrow_fill": "filled",
            "source_arrow_shape": "none",
            "target": "pore_transport_dissociate_BaxA_4_SmacC",
            "target_arrow_shape": "triangle"
           }
          },
          {
           "data": {
            "arrowhead": "normal",
            "id": "2bfcf9b7-be91-48c9-a049-b239e2532e4c",
            "source": "s71",
            "source_arrow_fill": "hollow",
            "source_arrow_shape": "triangle",
            "target": "bind_CytoCA_ApafI_to_CytoCAApafI",
            "target_arrow_shape": "triangle"
           }
          },
          {
           "data": {
            "arrowhead": "normal",
            "id": "fb81f77a-ee18-4dcc-a341-6b7371dc84c5",
            "source": "s71",
            "source_arrow_fill": "filled",
            "source_arrow_shape": "none",
            "target": "catalyze_CytoCAApafI_to_CytoCA_ApafA",
            "target_arrow_shape": "triangle"
           }
          },
          {
           "data": {
            "arrowhead": "normal",
            "id": "426ba759-4cea-41ea-893f-213a94528d11",
            "source": "s72",
            "source_arrow_fill": "hollow",
            "source_arrow_shape": "triangle",
            "target": "bind_SmacA_XIAP",
            "target_arrow_shape": "triangle"
           }
          },
          {
           "data": {
            "arrowhead": "normal",
            "id": "542a136e-1180-42d3-ba8e-242b5f99ff19",
            "source": "s73",
            "source_arrow_fill": "hollow",
            "source_arrow_shape": "triangle",
            "target": "convert_ApafA_C9_to_Apop",
            "target_arrow_shape": "triangle"
           }
          },
          {
           "data": {
            "arrowhead": "normal",
            "id": "b553c109-b57e-4a98-8e45-bb1c3b181808",
            "source": "s74",
            "source_arrow_fill": "hollow",
            "source_arrow_shape": "triangle",
            "target": "convert_ApafA_C9_to_Apop",
            "target_arrow_shape": "triangle"
           }
          },
          {
           "data": {
            "arrowhead": "normal",
            "id": "51d12500-8966-465c-95cd-05269eab3dbc",
            "source": "s74",
            "source_arrow_fill": "hollow",
            "source_arrow_shape": "triangle",
            "target": "bind_Apop_C3pro_to_ApopC3pro",
            "target_arrow_shape": "triangle"
           }
          },
          {
           "data": {
            "arrowhead": "normal",
            "id": "0dd1248d-551b-453a-aac5-803d754ffab1",
            "source": "s74",
            "source_arrow_fill": "hollow",
            "source_arrow_shape": "triangle",
            "target": "bind_Apop_XIAP",
            "target_arrow_shape": "triangle"
           }
          },
          {
           "data": {
            "arrowhead": "normal",
            "id": "308d461a-4ebe-490f-928c-4d637216669d",
            "source": "s75",
            "source_arrow_fill": "hollow",
            "source_arrow_shape": "triangle",
            "target": "bind_Apop_C3pro_to_ApopC3pro",
            "target_arrow_shape": "triangle"
           }
          },
          {
           "data": {
            "arrowhead": "normal",
            "id": "d4fb3dea-d313-480a-bca9-3e533f8dfcca",
            "source": "s75",
            "source_arrow_fill": "filled",
            "source_arrow_shape": "none",
            "target": "catalyze_ApopC3pro_to_Apop_C3A",
            "target_arrow_shape": "triangle"
           }
          },
          {
           "data": {
            "arrowhead": "normal",
            "id": "4383a83e-9dca-4a6d-9c8e-ec7f205230ae",
            "source": "s76",
            "source_arrow_fill": "hollow",
            "source_arrow_shape": "triangle",
            "target": "bind_Apop_XIAP",
            "target_arrow_shape": "triangle"
           }
          },
          {
           "data": {
            "arrowhead": "normal",
            "id": "9a180d76-ae47-4376-9b2c-d39c14bdf4c9",
            "source": "convert_LR_to_DISC",
            "source_arrow_fill": "filled",
            "source_arrow_shape": "none",
            "target": "s25",
            "target_arrow_shape": "triangle"
           }
          },
          {
           "data": {
            "arrowhead": "normal",
            "id": "e9b3ad22-b62c-4fdf-a9f2-5b54c8c38ab3",
            "source": "catalyze_DISCC8pro_to_DISC_C8A",
            "source_arrow_fill": "filled",
            "source_arrow_shape": "none",
            "target": "s25",
            "target_arrow_shape": "triangle"
           }
          },
          {
           "data": {
            "arrowhead": "normal",
            "id": "d2644c16-1c7f-4be3-a62f-2697a035914f",
            "source": "catalyze_DISCC8pro_to_DISC_C8A",
            "source_arrow_fill": "filled",
            "source_arrow_shape": "none",
            "target": "s28",
            "target_arrow_shape": "triangle"
           }
          },
          {
           "data": {
            "arrowhead": "normal",
            "id": "2175e9a2-5112-427e-b188-6e8192a0928f",
            "source": "catalyze_C8ABidU_to_C8A_BidT",
            "source_arrow_fill": "filled",
            "source_arrow_shape": "none",
            "target": "s32",
            "target_arrow_shape": "triangle"
           }
          },
          {
           "data": {
            "arrowhead": "normal",
            "id": "f8e99a93-3ff8-4574-8c02-f5c50112ab4e",
            "source": "catalyze_C8ABidU_to_C8A_BidT",
            "source_arrow_fill": "filled",
            "source_arrow_shape": "none",
            "target": "s28",
            "target_arrow_shape": "triangle"
           }
          },
          {
           "data": {
            "arrowhead": "normal",
            "id": "44350aaf-3c20-47d3-bc0e-cda6f930bb9f",
            "source": "catalyze_CytoCAApafI_to_CytoCA_ApafA",
            "source_arrow_fill": "filled",
            "source_arrow_shape": "none",
            "target": "s73",
            "target_arrow_shape": "triangle"
           }
          },
          {
           "data": {
            "arrowhead": "normal",
            "id": "5fbbe207-81a7-496a-8eda-8ab045e497c8",
            "source": "catalyze_CytoCAApafI_to_CytoCA_ApafA",
            "source_arrow_fill": "filled",
            "source_arrow_shape": "none",
            "target": "s68",
            "target_arrow_shape": "triangle"
           }
          },
          {
           "data": {
            "arrowhead": "normal",
            "id": "6de0f4ae-623b-416b-a906-e6fc23fe69d4",
            "source": "catalyze_ApopC3pro_to_Apop_C3A",
            "source_arrow_fill": "filled",
            "source_arrow_shape": "none",
            "target": "s33",
            "target_arrow_shape": "triangle"
           }
          },
          {
           "data": {
            "arrowhead": "normal",
            "id": "dbe6d365-edfc-46cd-9835-6d8839c7018d",
            "source": "catalyze_ApopC3pro_to_Apop_C3A",
            "source_arrow_fill": "filled",
            "source_arrow_shape": "none",
            "target": "s74",
            "target_arrow_shape": "triangle"
           }
          },
          {
           "data": {
            "arrowhead": "normal",
            "id": "a04791d4-d4ad-4581-9ed9-142d0d956b88",
            "source": "catalyze_C8AC3pro_to_C8A_C3A",
            "source_arrow_fill": "filled",
            "source_arrow_shape": "none",
            "target": "s33",
            "target_arrow_shape": "triangle"
           }
          },
          {
           "data": {
            "arrowhead": "normal",
            "id": "fb82f994-d4aa-4e56-b74f-4bef13ee425f",
            "source": "catalyze_C8AC3pro_to_C8A_C3A",
            "source_arrow_fill": "filled",
            "source_arrow_shape": "none",
            "target": "s28",
            "target_arrow_shape": "triangle"
           }
          },
          {
           "data": {
            "arrowhead": "normal",
            "id": "260562a4-7f52-4afa-98ff-61cef07b6f88",
            "source": "catalyze_XIAPC3A_to_XIAP_C3ub",
            "source_arrow_fill": "filled",
            "source_arrow_shape": "none",
            "target": "s10",
            "target_arrow_shape": "triangle"
           }
          },
          {
           "data": {
            "arrowhead": "normal",
            "id": "e7763cb6-e389-4fc4-88e1-56b7ba9e7b13",
            "source": "catalyze_XIAPC3A_to_XIAP_C3ub",
            "source_arrow_fill": "filled",
            "source_arrow_shape": "none",
            "target": "s38",
            "target_arrow_shape": "triangle"
           }
          },
          {
           "data": {
            "arrowhead": "normal",
            "id": "b41b6b60-5cb9-413e-918a-a5095e6e5a4c",
            "source": "catalyze_C3APARPU_to_C3A_PARPC",
            "source_arrow_fill": "filled",
            "source_arrow_shape": "none",
            "target": "s33",
            "target_arrow_shape": "triangle"
           }
          },
          {
           "data": {
            "arrowhead": "normal",
            "id": "70177c6f-e84b-47c6-899a-997c273d9c69",
            "source": "catalyze_C3APARPU_to_C3A_PARPC",
            "source_arrow_fill": "filled",
            "source_arrow_shape": "none",
            "target": "s39",
            "target_arrow_shape": "triangle"
           }
          },
          {
           "data": {
            "arrowhead": "normal",
            "id": "48c3f053-2184-4ad5-adf8-7b3cdae0d520",
            "source": "catalyze_C3AC6pro_to_C3A_C6A",
            "source_arrow_fill": "filled",
            "source_arrow_shape": "none",
            "target": "s40",
            "target_arrow_shape": "triangle"
           }
          },
          {
           "data": {
            "arrowhead": "normal",
            "id": "66d136f5-a4aa-4c4d-a8aa-5c3d820e5ff6",
            "source": "catalyze_C3AC6pro_to_C3A_C6A",
            "source_arrow_fill": "filled",
            "source_arrow_shape": "none",
            "target": "s33",
            "target_arrow_shape": "triangle"
           }
          },
          {
           "data": {
            "arrowhead": "normal",
            "id": "fc441e35-c0ea-4907-9fa6-da5edcc1afb9",
            "source": "catalyze_C6AC8pro_to_C6A_C8A",
            "source_arrow_fill": "filled",
            "source_arrow_shape": "none",
            "target": "s40",
            "target_arrow_shape": "triangle"
           }
          },
          {
           "data": {
            "arrowhead": "normal",
            "id": "cfcd70cd-4b5c-4b2f-9e62-bd1e06b2f4c1",
            "source": "catalyze_C6AC8pro_to_C6A_C8A",
            "source_arrow_fill": "filled",
            "source_arrow_shape": "none",
            "target": "s28",
            "target_arrow_shape": "triangle"
           }
          },
          {
           "data": {
            "arrowhead": "normal",
            "id": "378905b0-5e51-4d25-b81a-97dcf479ce47",
            "source": "catalyze_BidMBaxC_to_BidM_BaxM",
            "source_arrow_fill": "filled",
            "source_arrow_shape": "none",
            "target": "s37",
            "target_arrow_shape": "triangle"
           }
          },
          {
           "data": {
            "arrowhead": "normal",
            "id": "0ebcd90f-ce10-491a-a390-74264e8affce",
            "source": "catalyze_BidMBaxC_to_BidM_BaxM",
            "source_arrow_fill": "filled",
            "source_arrow_shape": "none",
            "target": "s47",
            "target_arrow_shape": "triangle"
           }
          },
          {
           "data": {
            "arrowhead": "normal",
            "id": "620ee0e8-de77-484f-aa72-8424aafb8df4",
            "source": "catalyze_BidMBaxM_to_BidM_BaxA",
            "source_arrow_fill": "filled",
            "source_arrow_shape": "none",
            "target": "s37",
            "target_arrow_shape": "triangle"
           }
          },
          {
           "data": {
            "arrowhead": "normal",
            "id": "9b3e7040-a60b-4631-bb8d-5ecdfcef73f8",
            "source": "catalyze_BidMBaxM_to_BidM_BaxA",
            "source_arrow_fill": "filled",
            "source_arrow_shape": "none",
            "target": "s54",
            "target_arrow_shape": "triangle"
           }
          },
          {
           "data": {
            "arrowhead": "normal",
            "id": "f9506e77-151c-491c-ab45-93e3ea58810e",
            "source": "catalyze_BidMBakM_to_BidM_BakA",
            "source_arrow_fill": "filled",
            "source_arrow_shape": "none",
            "target": "s48",
            "target_arrow_shape": "triangle"
           }
          },
          {
           "data": {
            "arrowhead": "normal",
            "id": "1850b1e4-a8f5-4044-b01b-a885763769c8",
            "source": "catalyze_BidMBakM_to_BidM_BakA",
            "source_arrow_fill": "filled",
            "source_arrow_shape": "none",
            "target": "s37",
            "target_arrow_shape": "triangle"
           }
          },
          {
           "data": {
            "arrowhead": "normal",
            "id": "b5ebdce3-2338-47f6-b7aa-53f5b9fcf026",
            "source": "catalyze_BaxABaxM_to_BaxA_BaxA",
            "source_arrow_fill": "filled",
            "source_arrow_shape": "none",
            "target": "s54",
            "target_arrow_shape": "triangle"
           }
          },
          {
           "data": {
            "arrowhead": "normal",
            "id": "9e70489e-022b-4c3e-b2aa-4d3360f56ed8",
            "source": "catalyze_BakABakM_to_BakA_BakA",
            "source_arrow_fill": "filled",
            "source_arrow_shape": "none",
            "target": "s48",
            "target_arrow_shape": "triangle"
           }
          },
          {
           "data": {
            "arrowhead": "normal",
            "id": "82768f2b-4760-418c-a7a0-ba86bb9e2581",
            "source": "pore_transport_dissociate_BaxA_4_CytoCC",
            "source_arrow_fill": "filled",
            "source_arrow_shape": "none",
            "target": "s64",
            "target_arrow_shape": "triangle"
           }
          },
          {
           "data": {
            "arrowhead": "normal",
            "id": "9bcc0408-15e9-4b19-bb36-0b94f14f2799",
            "source": "pore_transport_dissociate_BaxA_4_CytoCC",
            "source_arrow_fill": "filled",
            "source_arrow_shape": "none",
            "target": "s65",
            "target_arrow_shape": "triangle"
           }
          },
          {
           "data": {
            "arrowhead": "normal",
            "id": "80b485a8-7f7a-4273-91ac-a289c341498a",
            "source": "pore_transport_dissociate_BaxA_4_SmacC",
            "source_arrow_fill": "filled",
            "source_arrow_shape": "none",
            "target": "s64",
            "target_arrow_shape": "triangle"
           }
          },
          {
           "data": {
            "arrowhead": "normal",
            "id": "1a665278-810a-4e98-b376-f7747bc02234",
            "source": "pore_transport_dissociate_BaxA_4_SmacC",
            "source_arrow_fill": "filled",
            "source_arrow_shape": "none",
            "target": "s66",
            "target_arrow_shape": "triangle"
           }
          },
          {
           "data": {
            "arrowhead": "normal",
            "id": "61234d66-1115-49a5-85dd-e51bc601da08",
            "source": "pore_transport_dissociate_BakA_4_CytoCC",
            "source_arrow_fill": "filled",
            "source_arrow_shape": "none",
            "target": "s65",
            "target_arrow_shape": "triangle"
           }
          },
          {
           "data": {
            "arrowhead": "normal",
            "id": "be62437d-a6cf-4552-b692-8dc52bd2e8f4",
            "source": "pore_transport_dissociate_BakA_4_CytoCC",
            "source_arrow_fill": "filled",
            "source_arrow_shape": "none",
            "target": "s60",
            "target_arrow_shape": "triangle"
           }
          },
          {
           "data": {
            "arrowhead": "normal",
            "id": "cb4f3273-b8f7-4707-a89c-d082ea99da55",
            "source": "pore_transport_dissociate_BakA_4_SmacC",
            "source_arrow_fill": "filled",
            "source_arrow_shape": "none",
            "target": "s66",
            "target_arrow_shape": "triangle"
           }
          },
          {
           "data": {
            "arrowhead": "normal",
            "id": "483431a4-cbdd-4a5a-9ba1-91c28c773179",
            "source": "pore_transport_dissociate_BakA_4_SmacC",
            "source_arrow_fill": "filled",
            "source_arrow_shape": "none",
            "target": "s60",
            "target_arrow_shape": "triangle"
           }
          }
         ],
         "nodes": [
          {
           "data": {
            "NodeType": "species",
            "background_color": "#aaffff",
            "bipartite": 0,
            "id": "s0",
            "label": "L",
            "name": "s0",
            "shape": "ellipse"
           },
           "position": {
            "x": 2425.6645655296165,
            "y": 129.80264533682202
           }
          },
          {
           "data": {
            "NodeType": "species",
            "background_color": "#aaffff",
            "bipartite": 0,
            "id": "s1",
            "label": "R",
            "name": "s1",
            "shape": "ellipse"
           },
           "position": {
            "x": 2375.99615528591,
            "y": 332.82830642648287
           }
          },
          {
           "data": {
            "NodeType": "species",
            "background_color": "#aaffff",
            "bipartite": 0,
            "id": "s2",
            "label": "flip",
            "name": "s2",
            "shape": "ellipse"
           },
           "position": {
            "x": 2722.319555130566,
            "y": 2014.105439359595
           }
          },
          {
           "data": {
            "NodeType": "species",
            "background_color": "#aaffff",
            "bipartite": 0,
            "id": "s3",
            "label": "proC8",
            "name": "s3",
            "shape": "ellipse"
           },
           "position": {
            "x": 1472.6176330323206,
            "y": 950.3605111221618
           }
          },
          {
           "data": {
            "NodeType": "species",
            "background_color": "#aaffff",
            "bipartite": 0,
            "id": "s4",
            "label": "BAR",
            "name": "s4",
            "shape": "ellipse"
           },
           "position": {
            "x": 2709.037716244681,
            "y": 1958.8612834569976
           }
          },
          {
           "data": {
            "NodeType": "species",
            "background_color": "#aaffff",
            "bipartite": 0,
            "id": "s5",
            "label": "iApaf",
            "name": "s5",
            "shape": "ellipse"
           },
           "position": {
            "x": 1941.6061036256724,
            "y": 1005.8957425363624
           }
          },
          {
           "data": {
            "NodeType": "species",
            "background_color": "#aaffff",
            "bipartite": 0,
            "id": "s6",
            "label": "proC3",
            "name": "s6",
            "shape": "ellipse"
           },
           "position": {
            "x": 2603.3435841138717,
            "y": 2415.393210234026
           }
          },
          {
           "data": {
            "NodeType": "species",
            "background_color": "#aaffff",
            "bipartite": 0,
            "id": "s7",
            "label": "proC6",
            "name": "s7",
            "shape": "ellipse"
           },
           "position": {
            "x": 175.62774060762968,
            "y": 1918.1551391692437
           }
          },
          {
           "data": {
            "NodeType": "species",
            "background_color": "#aaffff",
            "bipartite": 0,
            "id": "s8",
            "label": "C9",
            "name": "s8",
            "shape": "ellipse"
           },
           "position": {
            "x": 2683.490739496671,
            "y": 4766.025845113301
           }
          },
          {
           "data": {
            "NodeType": "species",
            "background_color": "#aaffff",
            "bipartite": 0,
            "id": "s9",
            "label": "uPARP",
            "name": "s9",
            "shape": "ellipse"
           },
           "position": {
            "x": 1611.983226932598,
            "y": 4695.984214290736
           }
          },
          {
           "data": {
            "NodeType": "species",
            "background_color": "#aaffff",
            "bipartite": 0,
            "id": "s10",
            "label": "XIAP",
            "name": "s10",
            "shape": "ellipse"
           },
           "position": {
            "x": 2698.428536156488,
            "y": 4510.723384415609
           }
          },
          {
           "data": {
            "NodeType": "species",
            "background_color": "#aaffff",
            "bipartite": 0,
            "id": "s11",
            "label": "uBid",
            "name": "s11",
            "shape": "ellipse"
           },
           "position": {
            "x": 1658.8983922479374,
            "y": 905.15301217141
           }
          },
          {
           "data": {
            "NodeType": "species",
            "background_color": "#aaffff",
            "bipartite": 0,
            "id": "s12",
            "label": "cBax",
            "name": "s12",
            "shape": "ellipse"
           },
           "position": {
            "x": 2720.0653137534673,
            "y": 1272.7549647907263
           }
          },
          {
           "data": {
            "NodeType": "species",
            "background_color": "#aaffff",
            "bipartite": 0,
            "id": "s13",
            "label": "mBak",
            "name": "s13",
            "shape": "ellipse"
           },
           "position": {
            "x": 2794.0972082198546,
            "y": 1066.568555862027
           }
          },
          {
           "data": {
            "NodeType": "species",
            "background_color": "#aaffff",
            "bipartite": 0,
            "id": "s14",
            "label": "mBcl2",
            "name": "s14",
            "shape": "ellipse"
           },
           "position": {
            "x": 3398.5568783150725,
            "y": 1848.9700358963928
           }
          },
          {
           "data": {
            "NodeType": "species",
            "background_color": "#aaffff",
            "bipartite": 0,
            "id": "s15",
            "label": "mBclxL",
            "name": "s15",
            "shape": "ellipse"
           },
           "position": {
            "x": 4040.5111780472866,
            "y": 1905.59282242269
           }
          },
          {
           "data": {
            "NodeType": "species",
            "background_color": "#aaffff",
            "bipartite": 0,
            "id": "s16",
            "label": "mMcl1",
            "name": "s16",
            "shape": "ellipse"
           },
           "position": {
            "x": 3272.714507944755,
            "y": 2997.940037953019
           }
          },
          {
           "data": {
            "NodeType": "species",
            "background_color": "#aaffff",
            "bipartite": 0,
            "id": "s17",
            "label": "mBad",
            "name": "s17",
            "shape": "ellipse"
           },
           "position": {
            "x": 4224.8901753084565,
            "y": 2145.4074582803314
           }
          },
          {
           "data": {
            "NodeType": "species",
            "background_color": "#aaffff",
            "bipartite": 0,
            "id": "s18",
            "label": "mNoxa",
            "name": "s18",
            "shape": "ellipse"
           },
           "position": {
            "x": 4161.100905721921,
            "y": 3637.781517682234
           }
          },
          {
           "data": {
            "NodeType": "species",
            "background_color": "#aaffff",
            "bipartite": 0,
            "id": "s19",
            "label": "mCytoC",
            "name": "s19",
            "shape": "ellipse"
           },
           "position": {
            "x": 4398.330963825461,
            "y": 416.8775861462236
           }
          },
          {
           "data": {
            "NodeType": "species",
            "background_color": "#aaffff",
            "bipartite": 0,
            "id": "s20",
            "label": "mSmac",
            "name": "s20",
            "shape": "ellipse"
           },
           "position": {
            "x": 5298.790070244471,
            "y": 1132.096184010385
           }
          },
          {
           "data": {
            "NodeType": "species",
            "background_color": "#ccffcc",
            "bipartite": 0,
            "id": "s21",
            "label": "L-R",
            "name": "s21",
            "shape": "ellipse"
           },
           "position": {
            "x": 2484.100551660321,
            "y": 602.1119360147322
           }
          },
          {
           "data": {
            "NodeType": "species",
            "background_color": "#ccffcc",
            "bipartite": 0,
            "id": "s22",
            "label": "mBad-mBcl2",
            "name": "s22",
            "shape": "ellipse"
           },
           "position": {
            "x": 4201.18724968063,
            "y": 1869.6370840120153
           }
          },
          {
           "data": {
            "NodeType": "species",
            "background_color": "#ccffcc",
            "bipartite": 0,
            "id": "s23",
            "label": "mBad-mBclxL",
            "name": "s23",
            "shape": "ellipse"
           },
           "position": {
            "x": 4496.26579216912,
            "y": 2312.752765115353
           }
          },
          {
           "data": {
            "NodeType": "species",
            "background_color": "#ccffcc",
            "bipartite": 0,
            "id": "s24",
            "label": "mMcl1-mNoxa",
            "name": "s24",
            "shape": "ellipse"
           },
           "position": {
            "x": 4265.34021160845,
            "y": 3226.590680636061
           }
          },
          {
           "data": {
            "NodeType": "species",
            "background_color": "#ccffcc",
            "bipartite": 0,
            "id": "s25",
            "label": "DISC",
            "name": "s25",
            "shape": "ellipse"
           },
           "position": {
            "x": 2723.3435216217035,
            "y": 1666.5650461034147
           }
          },
          {
           "data": {
            "NodeType": "species",
            "background_color": "#ccffcc",
            "bipartite": 0,
            "id": "s26",
            "label": "proC8-DISC",
            "name": "s26",
            "shape": "ellipse"
           },
           "position": {
            "x": 2029.565854900913,
            "y": 903.4448339737587
           }
          },
          {
           "data": {
            "NodeType": "species",
            "background_color": "#ccffcc",
            "bipartite": 0,
            "id": "s27",
            "label": "DISC-flip",
            "name": "s27",
            "shape": "ellipse"
           },
           "position": {
            "x": 2780.406673220941,
            "y": 2022.8900493613446
           }
          },
          {
           "data": {
            "NodeType": "species",
            "background_color": "#ccffcc",
            "bipartite": 0,
            "id": "s28",
            "label": "aC8",
            "name": "s28",
            "shape": "ellipse"
           },
           "position": {
            "x": 2460.8954545996367,
            "y": 1967.5293142406435
           }
          },
          {
           "data": {
            "NodeType": "species",
            "background_color": "#ccffcc",
            "bipartite": 0,
            "id": "s29",
            "label": "uBid-aC8",
            "name": "s29",
            "shape": "ellipse"
           },
           "position": {
            "x": 1786.9118092922618,
            "y": 937.9274150359706
           }
          },
          {
           "data": {
            "NodeType": "species",
            "background_color": "#ccffcc",
            "bipartite": 0,
            "id": "s30",
            "label": "BAR-aC8",
            "name": "s30",
            "shape": "ellipse"
           },
           "position": {
            "x": 2771.0167043835995,
            "y": 1958.398058550716
           }
          },
          {
           "data": {
            "NodeType": "species",
            "background_color": "#ccffcc",
            "bipartite": 0,
            "id": "s31",
            "label": "proC3-aC8",
            "name": "s31",
            "shape": "ellipse"
           },
           "position": {
            "x": 721.3256418070141,
            "y": 1252.6217888724382
           }
          },
          {
           "data": {
            "NodeType": "species",
            "background_color": "#ccffcc",
            "bipartite": 0,
            "id": "s32",
            "label": "tBid",
            "name": "s32",
            "shape": "ellipse"
           },
           "position": {
            "x": 2703.468471232288,
            "y": 1500.3071626654273
           }
          },
          {
           "data": {
            "NodeType": "species",
            "background_color": "#ccffcc",
            "bipartite": 0,
            "id": "s33",
            "label": "aC3",
            "name": "s33",
            "shape": "ellipse"
           },
           "position": {
            "x": 509.12580423239706,
            "y": 3602.667435828652
           }
          },
          {
           "data": {
            "NodeType": "species",
            "background_color": "#ccffcc",
            "bipartite": 0,
            "id": "s34",
            "label": "aC3-XIAP",
            "name": "s34",
            "shape": "ellipse"
           },
           "position": {
            "x": 1761.9264522288222,
            "y": 4809.86158796848
           }
          },
          {
           "data": {
            "NodeType": "species",
            "background_color": "#ccffcc",
            "bipartite": 0,
            "id": "s35",
            "label": "aC3-uPARP",
            "name": "s35",
            "shape": "ellipse"
           },
           "position": {
            "x": 1512.00866913775,
            "y": 4769.406770114918
           }
          },
          {
           "data": {
            "NodeType": "species",
            "background_color": "#ccffcc",
            "bipartite": 0,
            "id": "s36",
            "label": "aC3-proC6",
            "name": "s36",
            "shape": "ellipse"
           },
           "position": {
            "x": 55.49999999999999,
            "y": 1923.8888311393303
           }
          },
          {
           "data": {
            "NodeType": "species",
            "background_color": "#ccffcc",
            "bipartite": 0,
            "id": "s37",
            "label": "mBid",
            "name": "s37",
            "shape": "ellipse"
           },
           "position": {
            "x": 3105.5970060629893,
            "y": 2056.961141587708
           }
          },
          {
           "data": {
            "NodeType": "species",
            "background_color": "#ccffcc",
            "bipartite": 0,
            "id": "s38",
            "label": "ubC3",
            "name": "s38",
            "shape": "ellipse"
           },
           "position": {
            "x": 2311.2207518729615,
            "y": 4729.666804415416
           }
          },
          {
           "data": {
            "NodeType": "species",
            "background_color": "#ccffcc",
            "bipartite": 0,
            "id": "s39",
            "label": "cPARP",
            "name": "s39",
            "shape": "ellipse"
           },
           "position": {
            "x": 1701.1235798121043,
            "y": 4689.18019249764
           }
          },
          {
           "data": {
            "NodeType": "species",
            "background_color": "#ccffcc",
            "bipartite": 0,
            "id": "s40",
            "label": "aC6",
            "name": "s40",
            "shape": "ellipse"
           },
           "position": {
            "x": 240.13486097962596,
            "y": 1807.1114010237643
           }
          },
          {
           "data": {
            "NodeType": "species",
            "background_color": "#ccffcc",
            "bipartite": 0,
            "id": "s41",
            "label": "cBax-mBid",
            "name": "s41",
            "shape": "ellipse"
           },
           "position": {
            "x": 2703.892916233108,
            "y": 1190.658401313378
           }
          },
          {
           "data": {
            "NodeType": "species",
            "background_color": "#ccffcc",
            "bipartite": 0,
            "id": "s42",
            "label": "mBak-mBid",
            "name": "s42",
            "shape": "ellipse"
           },
           "position": {
            "x": 2768.2857240012295,
            "y": 1023.8566473882352
           }
          },
          {
           "data": {
            "NodeType": "species",
            "background_color": "#ccffcc",
            "bipartite": 0,
            "id": "s43",
            "label": "mBcl2-mBid",
            "name": "s43",
            "shape": "ellipse"
           },
           "position": {
            "x": 3155.769065776259,
            "y": 2142.4384718150495
           }
          },
          {
           "data": {
            "NodeType": "species",
            "background_color": "#ccffcc",
            "bipartite": 0,
            "id": "s44",
            "label": "mBclxL-mBid",
            "name": "s44",
            "shape": "ellipse"
           },
           "position": {
            "x": 3212.9344189162603,
            "y": 2055.5019508004025
           }
          },
          {
           "data": {
            "NodeType": "species",
            "background_color": "#ccffcc",
            "bipartite": 0,
            "id": "s45",
            "label": "mBid-mMcl1",
            "name": "s45",
            "shape": "ellipse"
           },
           "position": {
            "x": 3157.217955497439,
            "y": 2241.1462133407267
           }
          },
          {
           "data": {
            "NodeType": "species",
            "background_color": "#ccffcc",
            "bipartite": 0,
            "id": "s46",
            "label": "aC6-proC8",
            "name": "s46",
            "shape": "ellipse"
           },
           "position": {
            "x": 1576.0869521396908,
            "y": 995.5064846308337
           }
          },
          {
           "data": {
            "NodeType": "species",
            "background_color": "#ccffcc",
            "bipartite": 0,
            "id": "s47",
            "label": "mBax",
            "name": "s47",
            "shape": "ellipse"
           },
           "position": {
            "x": 2778.386624258602,
            "y": 1124.9622019378025
           }
          },
          {
           "data": {
            "NodeType": "species",
            "background_color": "#ccffcc",
            "bipartite": 0,
            "id": "s48",
            "label": "aBak",
            "name": "s48",
            "shape": "ellipse"
           },
           "position": {
            "x": 3369.9320336037094,
            "y": 1693.3451405113965
           }
          },
          {
           "data": {
            "NodeType": "species",
            "background_color": "#ccffcc",
            "bipartite": 0,
            "id": "s49",
            "label": "mBax-mBid",
            "name": "s49",
            "shape": "ellipse"
           },
           "position": {
            "x": 2706.9815306438163,
            "y": 1080.1709492844825
           }
          },
          {
           "data": {
            "NodeType": "species",
            "background_color": "#ccffcc",
            "bipartite": 0,
            "id": "s50",
            "label": "aBak-mBak",
            "name": "s50",
            "shape": "ellipse"
           },
           "position": {
            "x": 2771.563048805985,
            "y": 1138.415640258832
           }
          },
          {
           "data": {
            "NodeType": "species",
            "background_color": "#ccffcc",
            "bipartite": 0,
            "id": "s51",
            "label": "aBak-mBclxL",
            "name": "s51",
            "shape": "ellipse"
           },
           "position": {
            "x": 3298.6617694306483,
            "y": 1774.0490076774213
           }
          },
          {
           "data": {
            "NodeType": "species",
            "background_color": "#ccffcc",
            "bipartite": 0,
            "id": "s52",
            "label": "aBak-mMcl1",
            "name": "s52",
            "shape": "ellipse"
           },
           "position": {
            "x": 3266.908996930721,
            "y": 2108.823211611183
           }
          },
          {
           "data": {
            "NodeType": "species",
            "background_color": "#ccffcc",
            "bipartite": 0,
            "id": "s53",
            "label": "2aBak",
            "name": "s53",
            "shape": "ellipse"
           },
           "position": {
            "x": 3808.471516599985,
            "y": 1553.3461772043474
           }
          },
          {
           "data": {
            "NodeType": "species",
            "background_color": "#ccffcc",
            "bipartite": 0,
            "id": "s54",
            "label": "aBax",
            "name": "s54",
            "shape": "ellipse"
           },
           "position": {
            "x": 3341.399629282763,
            "y": 1490.198178848027
           }
          },
          {
           "data": {
            "NodeType": "species",
            "background_color": "#ccffcc",
            "bipartite": 0,
            "id": "s55",
            "label": "3aBak",
            "name": "s55",
            "shape": "ellipse"
           },
           "position": {
            "x": 3819.213559193661,
            "y": 1618.1754365619145
           }
          },
          {
           "data": {
            "NodeType": "species",
            "background_color": "#ccffcc",
            "bipartite": 0,
            "id": "s56",
            "label": "aBax-mBax",
            "name": "s56",
            "shape": "ellipse"
           },
           "position": {
            "x": 2770.8602578336017,
            "y": 1002.9285351243243
           }
          },
          {
           "data": {
            "NodeType": "species",
            "background_color": "#ccffcc",
            "bipartite": 0,
            "id": "s57",
            "label": "aBax-mBcl2",
            "name": "s57",
            "shape": "ellipse"
           },
           "position": {
            "x": 3197.3313598033433,
            "y": 2199.396475554826
           }
          },
          {
           "data": {
            "NodeType": "species",
            "background_color": "#ccffcc",
            "bipartite": 0,
            "id": "s58",
            "label": "aBax-mBclxL",
            "name": "s58",
            "shape": "ellipse"
           },
           "position": {
            "x": 3927.5462743024955,
            "y": 1748.1789184118652
           }
          },
          {
           "data": {
            "NodeType": "species",
            "background_color": "#ccffcc",
            "bipartite": 0,
            "id": "s59",
            "label": "2aBax",
            "name": "s59",
            "shape": "ellipse"
           },
           "position": {
            "x": 3094.016073513437,
            "y": 189.56982019830048
           }
          },
          {
           "data": {
            "NodeType": "species",
            "background_color": "#ccffcc",
            "bipartite": 0,
            "id": "s60",
            "label": "4aBak",
            "name": "s60",
            "shape": "ellipse"
           },
           "position": {
            "x": 3895.8473303884825,
            "y": 1558.8273915556438
           }
          },
          {
           "data": {
            "NodeType": "species",
            "background_color": "#ccffcc",
            "bipartite": 0,
            "id": "s61",
            "label": "3aBax",
            "name": "s61",
            "shape": "ellipse"
           },
           "position": {
            "x": 3808.0090138905716,
            "y": 1051.1849138893476
           }
          },
          {
           "data": {
            "NodeType": "species",
            "background_color": "#ccffcc",
            "bipartite": 0,
            "id": "s62",
            "label": "4aBak-mCytoC",
            "name": "s62",
            "shape": "ellipse"
           },
           "position": {
            "x": 3892.965861555987,
            "y": 493.29726657397987
           }
          },
          {
           "data": {
            "NodeType": "species",
            "background_color": "#ccffcc",
            "bipartite": 0,
            "id": "s63",
            "label": "4aBak-mSmac",
            "name": "s63",
            "shape": "ellipse"
           },
           "position": {
            "x": 5402.784281832983,
            "y": 1653.7318128868756
           }
          },
          {
           "data": {
            "NodeType": "species",
            "background_color": "#ccffcc",
            "bipartite": 0,
            "id": "s64",
            "label": "4aBax",
            "name": "s64",
            "shape": "ellipse"
           },
           "position": {
            "x": 4240.074260652889,
            "y": 516.8590560299281
           }
          },
          {
           "data": {
            "NodeType": "species",
            "background_color": "#ccffcc",
            "bipartite": 0,
            "id": "s65",
            "label": "cCytoC",
            "name": "s65",
            "shape": "ellipse"
           },
           "position": {
            "x": 3529.9475020390714,
            "y": 1549.9244538876383
           }
          },
          {
           "data": {
            "NodeType": "species",
            "background_color": "#ccffcc",
            "bipartite": 0,
            "id": "s66",
            "label": "cSmac",
            "name": "s66",
            "shape": "ellipse"
           },
           "position": {
            "x": 3814.509224223778,
            "y": 1686.0590727108302
           }
          },
          {
           "data": {
            "NodeType": "species",
            "background_color": "#ccffcc",
            "bipartite": 0,
            "id": "s67",
            "label": "aSmac",
            "name": "s67",
            "shape": "ellipse"
           },
           "position": {
            "x": 3131.7518286463683,
            "y": 2767.1900308835957
           }
          },
          {
           "data": {
            "NodeType": "species",
            "background_color": "#ccffcc",
            "bipartite": 0,
            "id": "s68",
            "label": "aCytoC",
            "name": "s68",
            "shape": "ellipse"
           },
           "position": {
            "x": 2737.8738929887595,
            "y": 1742.424024382074
           }
          },
          {
           "data": {
            "NodeType": "species",
            "background_color": "#ccffcc",
            "bipartite": 0,
            "id": "s69",
            "label": "4aBax-mCytoC",
            "name": "s69",
            "shape": "ellipse"
           },
           "position": {
            "x": 4267.995697615658,
            "y": 443.9275799382681
           }
          },
          {
           "data": {
            "NodeType": "species",
            "background_color": "#ccffcc",
            "bipartite": 0,
            "id": "s70",
            "label": "4aBax-mSmac",
            "name": "s70",
            "shape": "ellipse"
           },
           "position": {
            "x": 5319.3951580279245,
            "y": 1065.6914877551244
           }
          },
          {
           "data": {
            "NodeType": "species",
            "background_color": "#ccffcc",
            "bipartite": 0,
            "id": "s71",
            "label": "iApaf-aCytoC",
            "name": "s71",
            "shape": "ellipse"
           },
           "position": {
            "x": 2671.470961273156,
            "y": 1870.4278702890215
           }
          },
          {
           "data": {
            "NodeType": "species",
            "background_color": "#ccffcc",
            "bipartite": 0,
            "id": "s72",
            "label": "aSmac-XIAP",
            "name": "s72",
            "shape": "ellipse"
           },
           "position": {
            "x": 3286.6041105166532,
            "y": 3762.502752169593
           }
          },
          {
           "data": {
            "NodeType": "species",
            "background_color": "#ccffcc",
            "bipartite": 0,
            "id": "s73",
            "label": "aApaf",
            "name": "s73",
            "shape": "ellipse"
           },
           "position": {
            "x": 2700.259759674194,
            "y": 4409.982719114258
           }
          },
          {
           "data": {
            "NodeType": "species",
            "background_color": "#ccffcc",
            "bipartite": 0,
            "id": "s74",
            "label": "Apop",
            "name": "s74",
            "shape": "ellipse"
           },
           "position": {
            "x": 2685.8109079054475,
            "y": 4614.730078275222
           }
          },
          {
           "data": {
            "NodeType": "species",
            "background_color": "#ccffcc",
            "bipartite": 0,
            "id": "s75",
            "label": "Apop-proC3",
            "name": "s75",
            "shape": "ellipse"
           },
           "position": {
            "x": 2609.9158778562423,
            "y": 4548.159699231241
           }
          },
          {
           "data": {
            "NodeType": "species",
            "background_color": "#ccffcc",
            "bipartite": 0,
            "id": "s76",
            "label": "Apop-XIAP",
            "name": "s76",
            "shape": "ellipse"
           },
           "position": {
            "x": 2666.0462613663904,
            "y": 5059.162607041762
           }
          },
          {
           "data": {
            "NodeType": "rule",
            "background_color": "#ff4c4c",
            "bipartite": 1,
            "id": "bind_L_R_to_LR",
            "label": "bind_L_R_to_LR",
            "name": "bind_L_R_to_LR",
            "parent": "catalyze_convert",
            "shape": "roundrectangle"
           },
           "position": {
            "x": 2581.5205877555472,
            "y": 273.45385572370014
           }
          },
          {
           "data": {
            "NodeType": "rule",
            "background_color": "#ff4c4c",
            "bipartite": 1,
            "id": "convert_LR_to_DISC",
            "label": "convert_LR_to_DISC",
            "name": "convert_LR_to_DISC",
            "parent": "catalyze_convert",
            "shape": "roundrectangle"
           },
           "position": {
            "x": 2641.3756524792234,
            "y": 890.1802993087776
           }
          },
          {
           "data": {
            "NodeType": "rule",
            "background_color": "#ff4c4c",
            "bipartite": 1,
            "id": "bind_DISC_C8pro_to_DISCC8pro",
            "label": "bind_DISC_C8pro_to_DISCC8pro",
            "name": "bind_DISC_C8pro_to_DISCC8pro",
            "parent": "catalyze",
            "shape": "roundrectangle"
           },
           "position": {
            "x": 1821.5134522429062,
            "y": 1748.330234473011
           }
          },
          {
           "data": {
            "NodeType": "rule",
            "background_color": "#ff4c4c",
            "bipartite": 1,
            "id": "catalyze_DISCC8pro_to_DISC_C8A",
            "label": "catalyze_DISCC8pro_to_DISC_C8A",
            "name": "catalyze_DISCC8pro_to_DISC_C8A",
            "parent": "catalyze",
            "shape": "roundrectangle"
           },
           "position": {
            "x": 1627.7994196696363,
            "y": 1710.4425270814909
           }
          },
          {
           "data": {
            "NodeType": "rule",
            "background_color": "#ff4c4c",
            "bipartite": 1,
            "id": "bind_C8A_BidU_to_C8ABidU",
            "label": "bind_C8A_BidU_to_C8ABidU",
            "name": "bind_C8A_BidU_to_C8ABidU",
            "parent": "catalyze",
            "shape": "roundrectangle"
           },
           "position": {
            "x": 1381.8434444315244,
            "y": 1728.8584314861064
           }
          },
          {
           "data": {
            "NodeType": "rule",
            "background_color": "#ff4c4c",
            "bipartite": 1,
            "id": "catalyze_C8ABidU_to_C8A_BidT",
            "label": "catalyze_C8ABidU_to_C8A_BidT",
            "name": "catalyze_C8ABidU_to_C8A_BidT",
            "parent": "catalyze",
            "shape": "roundrectangle"
           },
           "position": {
            "x": 1599.9494642198933,
            "y": 1779.8190311250328
           }
          },
          {
           "data": {
            "NodeType": "rule",
            "background_color": "#ff4c4c",
            "bipartite": 1,
            "id": "bind_DISC_flip",
            "label": "bind_DISC_flip",
            "name": "bind_DISC_flip",
            "parent": "bind",
            "shape": "roundrectangle"
           },
           "position": {
            "x": 2871.9677418948977,
            "y": 2558.710415621813
           }
          },
          {
           "data": {
            "NodeType": "rule",
            "background_color": "#ff4c4c",
            "bipartite": 1,
            "id": "bind_BAR_C8A",
            "label": "bind_BAR_C8A",
            "name": "bind_BAR_C8A",
            "parent": "bind",
            "shape": "roundrectangle"
           },
           "position": {
            "x": 2772.092677488877,
            "y": 2615.8922336844726
           }
          },
          {
           "data": {
            "NodeType": "rule",
            "background_color": "#ff4c4c",
            "bipartite": 1,
            "id": "equilibrate_SmacC_to_SmacA",
            "label": "equilibrate_SmacC_to_SmacA",
            "name": "equilibrate_SmacC_to_SmacA",
            "parent": "pore_to_parp",
            "shape": "roundrectangle"
           },
           "position": {
            "x": 3126.2931715188465,
            "y": 1689.6706739049932
           }
          },
          {
           "data": {
            "NodeType": "rule",
            "background_color": "#ff4c4c",
            "bipartite": 1,
            "id": "equilibrate_CytoCC_to_CytoCA",
            "label": "equilibrate_CytoCC_to_CytoCA",
            "name": "equilibrate_CytoCC_to_CytoCA",
            "parent": "pore_to_parp",
            "shape": "roundrectangle"
           },
           "position": {
            "x": 2934.386794866473,
            "y": 1161.5683955455333
           }
          },
          {
           "data": {
            "NodeType": "rule",
            "background_color": "#ff4c4c",
            "bipartite": 1,
            "id": "bind_CytoCA_ApafI_to_CytoCAApafI",
            "label": "bind_CytoCA_ApafI_to_CytoCAApafI",
            "name": "bind_CytoCA_ApafI_to_CytoCAApafI",
            "parent": "catalyze",
            "shape": "roundrectangle"
           },
           "position": {
            "x": 1692.7884050325283,
            "y": 1834.802771627592
           }
          },
          {
           "data": {
            "NodeType": "rule",
            "background_color": "#ff4c4c",
            "bipartite": 1,
            "id": "catalyze_CytoCAApafI_to_CytoCA_ApafA",
            "label": "catalyze_CytoCAApafI_to_CytoCA_ApafA",
            "name": "catalyze_CytoCAApafI_to_CytoCA_ApafA",
            "parent": "catalyze",
            "shape": "roundrectangle"
           },
           "position": {
            "x": 2503.8459583001295,
            "y": 2962.0171867033678
           }
          },
          {
           "data": {
            "NodeType": "rule",
            "background_color": "#ff4c4c",
            "bipartite": 1,
            "id": "convert_ApafA_C9_to_Apop",
            "label": "convert_ApafA_C9_to_Apop",
            "name": "convert_ApafA_C9_to_Apop",
            "parent": "one_step_conv",
            "shape": "roundrectangle"
           },
           "position": {
            "x": 2517.6919784857632,
            "y": 4660.837177108622
           }
          },
          {
           "data": {
            "NodeType": "rule",
            "background_color": "#ff4c4c",
            "bipartite": 1,
            "id": "bind_Apop_C3pro_to_ApopC3pro",
            "label": "bind_Apop_C3pro_to_ApopC3pro",
            "name": "bind_Apop_C3pro_to_ApopC3pro",
            "parent": "catalyze",
            "shape": "roundrectangle"
           },
           "position": {
            "x": 2475.157363831348,
            "y": 3574.0741135395665
           }
          },
          {
           "data": {
            "NodeType": "rule",
            "background_color": "#ff4c4c",
            "bipartite": 1,
            "id": "catalyze_ApopC3pro_to_Apop_C3A",
            "label": "catalyze_ApopC3pro_to_Apop_C3A",
            "name": "catalyze_ApopC3pro_to_Apop_C3A",
            "parent": "catalyze",
            "shape": "roundrectangle"
           },
           "position": {
            "x": 1685.5624028209259,
            "y": 3999.570241455318
           }
          },
          {
           "data": {
            "NodeType": "rule",
            "background_color": "#ff4c4c",
            "bipartite": 1,
            "id": "bind_Apop_XIAP",
            "label": "bind_Apop_XIAP",
            "name": "bind_Apop_XIAP",
            "parent": "bind",
            "shape": "roundrectangle"
           },
           "position": {
            "x": 2928.408707568544,
            "y": 4788.846104922676
           }
          },
          {
           "data": {
            "NodeType": "rule",
            "background_color": "#ff4c4c",
            "bipartite": 1,
            "id": "bind_SmacA_XIAP",
            "label": "bind_SmacA_XIAP",
            "name": "bind_SmacA_XIAP",
            "parent": "bind",
            "shape": "roundrectangle"
           },
           "position": {
            "x": 3031.59019782529,
            "y": 3923.4954974550164
           }
          },
          {
           "data": {
            "NodeType": "rule",
            "background_color": "#ff4c4c",
            "bipartite": 1,
            "id": "bind_C8A_C3pro_to_C8AC3pro",
            "label": "bind_C8A_C3pro_to_C8AC3pro",
            "name": "bind_C8A_C3pro_to_C8AC3pro",
            "parent": "catalyze",
            "shape": "roundrectangle"
           },
           "position": {
            "x": 1554.4297947807427,
            "y": 1920.5873676852261
           }
          },
          {
           "data": {
            "NodeType": "rule",
            "background_color": "#ff4c4c",
            "bipartite": 1,
            "id": "catalyze_C8AC3pro_to_C8A_C3A",
            "label": "catalyze_C8AC3pro_to_C8A_C3A",
            "name": "catalyze_C8AC3pro_to_C8A_C3A",
            "parent": "catalyze",
            "shape": "roundrectangle"
           },
           "position": {
            "x": 1148.8432175866028,
            "y": 2385.4892809285
           }
          },
          {
           "data": {
            "NodeType": "rule",
            "background_color": "#ff4c4c",
            "bipartite": 1,
            "id": "bind_XIAP_C3A_to_XIAPC3A",
            "label": "bind_XIAP_C3A_to_XIAPC3A",
            "name": "bind_XIAP_C3A_to_XIAPC3A",
            "parent": "catalyze",
            "shape": "roundrectangle"
           },
           "position": {
            "x": 1503.8803677044361,
            "y": 3994.868156593363
           }
          },
          {
           "data": {
            "NodeType": "rule",
            "background_color": "#ff4c4c",
            "bipartite": 1,
            "id": "catalyze_XIAPC3A_to_XIAP_C3ub",
            "label": "catalyze_XIAPC3A_to_XIAP_C3ub",
            "name": "catalyze_XIAPC3A_to_XIAP_C3ub",
            "parent": "catalyze",
            "shape": "roundrectangle"
           },
           "position": {
            "x": 1950.958739222202,
            "y": 3968.0131468892932
           }
          },
          {
           "data": {
            "NodeType": "rule",
            "background_color": "#ff4c4c",
            "bipartite": 1,
            "id": "bind_C3A_PARPU_to_C3APARPU",
            "label": "bind_C3A_PARPU_to_C3APARPU",
            "name": "bind_C3A_PARPU_to_C3APARPU",
            "parent": "catalyze",
            "shape": "roundrectangle"
           },
           "position": {
            "x": 1117.2937480963656,
            "y": 3998.6976818364956
           }
          },
          {
           "data": {
            "NodeType": "rule",
            "background_color": "#ff4c4c",
            "bipartite": 1,
            "id": "catalyze_C3APARPU_to_C3A_PARPC",
            "label": "catalyze_C3APARPU_to_C3A_PARPC",
            "name": "catalyze_C3APARPU_to_C3A_PARPC",
            "parent": "catalyze",
            "shape": "roundrectangle"
           },
           "position": {
            "x": 1245.2469792112697,
            "y": 3940.9111032695682
           }
          },
          {
           "data": {
            "NodeType": "rule",
            "background_color": "#ff4c4c",
            "bipartite": 1,
            "id": "bind_C3A_C6pro_to_C3AC6pro",
            "label": "bind_C3A_C6pro_to_C3AC6pro",
            "name": "bind_C3A_C6pro_to_C3AC6pro",
            "parent": "catalyze",
            "shape": "roundrectangle"
           },
           "position": {
            "x": 435.72136784061604,
            "y": 2754.2227170216
           }
          },
          {
           "data": {
            "NodeType": "rule",
            "background_color": "#ff4c4c",
            "bipartite": 1,
            "id": "catalyze_C3AC6pro_to_C3A_C6A",
            "label": "catalyze_C3AC6pro_to_C3A_C6A",
            "name": "catalyze_C3AC6pro_to_C3A_C6A",
            "parent": "catalyze",
            "shape": "roundrectangle"
           },
           "position": {
            "x": 438.16578003075574,
            "y": 2690.593680236313
           }
          },
          {
           "data": {
            "NodeType": "rule",
            "background_color": "#ff4c4c",
            "bipartite": 1,
            "id": "bind_C6A_C8pro_to_C6AC8pro",
            "label": "bind_C6A_C8pro_to_C6AC8pro",
            "name": "bind_C6A_C8pro_to_C6AC8pro",
            "parent": "catalyze",
            "shape": "roundrectangle"
           },
           "position": {
            "x": 1070.3302964097447,
            "y": 1708.8182035222162
           }
          },
          {
           "data": {
            "NodeType": "rule",
            "background_color": "#ff4c4c",
            "bipartite": 1,
            "id": "catalyze_C6AC8pro_to_C6A_C8A",
            "label": "catalyze_C6AC8pro_to_C6A_C8A",
            "name": "catalyze_C6AC8pro_to_C6A_C8A",
            "parent": "catalyze",
            "shape": "roundrectangle"
           },
           "position": {
            "x": 1305.1566052696326,
            "y": 1842.0843604236888
           }
          },
          {
           "data": {
            "NodeType": "rule",
            "background_color": "#ff4c4c",
            "bipartite": 1,
            "id": "equilibrate_BidT_to_BidM",
            "label": "equilibrate_BidT_to_BidM",
            "name": "equilibrate_BidT_to_BidM",
            "parent": "translocate_tBid_Bax_BclxL",
            "shape": "roundrectangle"
           },
           "position": {
            "x": 2788.890405660559,
            "y": 1827.7175600040873
           }
          },
          {
           "data": {
            "NodeType": "rule",
            "background_color": "#ff4c4c",
            "bipartite": 1,
            "id": "bind_BidM_BaxC_to_BidMBaxC",
            "label": "bind_BidM_BaxC_to_BidMBaxC",
            "name": "bind_BidM_BaxC_to_BidMBaxC",
            "parent": "catalyze",
            "shape": "roundrectangle"
           },
           "position": {
            "x": 2018.737232246628,
            "y": 1866.0960636759355
           }
          },
          {
           "data": {
            "NodeType": "rule",
            "background_color": "#ff4c4c",
            "bipartite": 1,
            "id": "catalyze_BidMBaxC_to_BidM_BaxM",
            "label": "catalyze_BidMBaxC_to_BidM_BaxM",
            "name": "catalyze_BidMBaxC_to_BidM_BaxM",
            "parent": "catalyze",
            "shape": "roundrectangle"
           },
           "position": {
            "x": 2093.1428431361082,
            "y": 1806.0805164519606
           }
          },
          {
           "data": {
            "NodeType": "rule",
            "background_color": "#ff4c4c",
            "bipartite": 1,
            "id": "bind_BidM_BaxM_to_BidMBaxM",
            "label": "bind_BidM_BaxM_to_BidMBaxM",
            "name": "bind_BidM_BaxM_to_BidMBaxM",
            "parent": "catalyze",
            "shape": "roundrectangle"
           },
           "position": {
            "x": 2083.1072130854063,
            "y": 1744.3809129926822
           }
          },
          {
           "data": {
            "NodeType": "rule",
            "background_color": "#ff4c4c",
            "bipartite": 1,
            "id": "catalyze_BidMBaxM_to_BidM_BaxA",
            "label": "catalyze_BidMBaxM_to_BidM_BaxA",
            "name": "catalyze_BidMBaxM_to_BidM_BaxA",
            "parent": "catalyze",
            "shape": "roundrectangle"
           },
           "position": {
            "x": 2350.5723377266054,
            "y": 1789.1984246442262
           }
          },
          {
           "data": {
            "NodeType": "rule",
            "background_color": "#ff4c4c",
            "bipartite": 1,
            "id": "bind_BidM_BakM_to_BidMBakM",
            "label": "bind_BidM_BakM_to_BidMBakM",
            "name": "bind_BidM_BakM_to_BidMBakM",
            "parent": "catalyze",
            "shape": "roundrectangle"
           },
           "position": {
            "x": 2160.9682470341813,
            "y": 1707.1035705499826
           }
          },
          {
           "data": {
            "NodeType": "rule",
            "background_color": "#ff4c4c",
            "bipartite": 1,
            "id": "catalyze_BidMBakM_to_BidM_BakA",
            "label": "catalyze_BidMBakM_to_BidM_BakA",
            "name": "catalyze_BidMBakM_to_BidM_BakA",
            "parent": "catalyze",
            "shape": "roundrectangle"
           },
           "position": {
            "x": 2384.28239960448,
            "y": 1753.2033081097452
           }
          },
          {
           "data": {
            "NodeType": "rule",
            "background_color": "#ff4c4c",
            "bipartite": 1,
            "id": "bind_BaxA_BaxM_to_BaxABaxM",
            "label": "bind_BaxA_BaxM_to_BaxABaxM",
            "name": "bind_BaxA_BaxM_to_BaxABaxM",
            "parent": "catalyze",
            "shape": "roundrectangle"
           },
           "position": {
            "x": 2533.7005070112145,
            "y": 1890.6132967224485
           }
          },
          {
           "data": {
            "NodeType": "rule",
            "background_color": "#ff4c4c",
            "bipartite": 1,
            "id": "catalyze_BaxABaxM_to_BaxA_BaxA",
            "label": "catalyze_BaxABaxM_to_BaxA_BaxA",
            "name": "catalyze_BaxABaxM_to_BaxA_BaxA",
            "parent": "catalyze",
            "shape": "roundrectangle"
           },
           "position": {
            "x": 2517.6212270601964,
            "y": 1949.7657840048778
           }
          },
          {
           "data": {
            "NodeType": "rule",
            "background_color": "#ff4c4c",
            "bipartite": 1,
            "id": "bind_BakA_BakM_to_BakABakM",
            "label": "bind_BakA_BakM_to_BakABakM",
            "name": "bind_BakA_BakM_to_BakABakM",
            "parent": "catalyze",
            "shape": "roundrectangle"
           },
           "position": {
            "x": 2351.313750460174,
            "y": 1899.1089210320915
           }
          },
          {
           "data": {
            "NodeType": "rule",
            "background_color": "#ff4c4c",
            "bipartite": 1,
            "id": "catalyze_BakABakM_to_BakA_BakA",
            "label": "catalyze_BakABakM_to_BakA_BakA",
            "name": "catalyze_BakABakM_to_BakA_BakA",
            "parent": "catalyze",
            "shape": "roundrectangle"
           },
           "position": {
            "x": 2274.6215086133698,
            "y": 1842.1151707779509
           }
          },
          {
           "data": {
            "NodeType": "rule",
            "background_color": "#ff4c4c",
            "bipartite": 1,
            "id": "bind_BidM_Bcl2M",
            "label": "bind_BidM_Bcl2M",
            "name": "bind_BidM_Bcl2M",
            "parent": "bind_table",
            "shape": "roundrectangle"
           },
           "position": {
            "x": 3450.1946698731517,
            "y": 2374.9577541736735
           }
          },
          {
           "data": {
            "NodeType": "rule",
            "background_color": "#ff4c4c",
            "bipartite": 1,
            "id": "bind_BidM_BclxLM",
            "label": "bind_BidM_BclxLM",
            "name": "bind_BidM_BclxLM",
            "parent": "bind_table",
            "shape": "roundrectangle"
           },
           "position": {
            "x": 3603.242021700235,
            "y": 2311.129865982214
           }
          },
          {
           "data": {
            "NodeType": "rule",
            "background_color": "#ff4c4c",
            "bipartite": 1,
            "id": "bind_BidM_Mcl1M",
            "label": "bind_BidM_Mcl1M",
            "name": "bind_BidM_Mcl1M",
            "parent": "bind_table",
            "shape": "roundrectangle"
           },
           "position": {
            "x": 3337.1583629900433,
            "y": 2614.520256350359
           }
          },
          {
           "data": {
            "NodeType": "rule",
            "background_color": "#ff4c4c",
            "bipartite": 1,
            "id": "bind_BaxA_Bcl2",
            "label": "bind_BaxA_Bcl2",
            "name": "bind_BaxA_Bcl2",
            "parent": "bind_table",
            "shape": "roundrectangle"
           },
           "position": {
            "x": 3540.789382909394,
            "y": 2225.141237838173
           }
          },
          {
           "data": {
            "NodeType": "rule",
            "background_color": "#ff4c4c",
            "bipartite": 1,
            "id": "bind_BaxA_BclxLM",
            "label": "bind_BaxA_BclxLM",
            "name": "bind_BaxA_BclxLM",
            "parent": "bind_table",
            "shape": "roundrectangle"
           },
           "position": {
            "x": 3687.3829300548477,
            "y": 2174.9913637330274
           }
          },
          {
           "data": {
            "NodeType": "rule",
            "background_color": "#ff4c4c",
            "bipartite": 1,
            "id": "bind_BakA_BclxLM",
            "label": "bind_BakA_BclxLM",
            "name": "bind_BakA_BclxLM",
            "parent": "bind_table",
            "shape": "roundrectangle"
           },
           "position": {
            "x": 3679.797169009542,
            "y": 2254.547745664081
           }
          },
          {
           "data": {
            "NodeType": "rule",
            "background_color": "#ff4c4c",
            "bipartite": 1,
            "id": "bind_BakA_Mcl1M",
            "label": "bind_BakA_Mcl1M",
            "name": "bind_BakA_Mcl1M",
            "parent": "bind_table",
            "shape": "roundrectangle"
           },
           "position": {
            "x": 3399.509742689876,
            "y": 2456.745415854195
           }
          },
          {
           "data": {
            "NodeType": "rule",
            "background_color": "#ff4c4c",
            "bipartite": 1,
            "id": "bind_BadM_Bcl2",
            "label": "bind_BadM_Bcl2",
            "name": "bind_BadM_Bcl2",
            "parent": "bind_table",
            "shape": "roundrectangle"
           },
           "position": {
            "x": 3834.3594260374894,
            "y": 2278.877339503634
           }
          },
          {
           "data": {
            "NodeType": "rule",
            "background_color": "#ff4c4c",
            "bipartite": 1,
            "id": "bind_BadM_BclxLM",
            "label": "bind_BadM_BclxLM",
            "name": "bind_BadM_BclxLM",
            "parent": "bind_table",
            "shape": "roundrectangle"
           },
           "position": {
            "x": 4069.7239825949137,
            "y": 2495.811771365894
           }
          },
          {
           "data": {
            "NodeType": "rule",
            "background_color": "#ff4c4c",
            "bipartite": 1,
            "id": "bind_NoxaM_Mcl1M",
            "label": "bind_NoxaM_Mcl1M",
            "name": "bind_NoxaM_Mcl1M",
            "parent": "bind_table",
            "shape": "roundrectangle"
           },
           "position": {
            "x": 3786.337322572121,
            "y": 3211.2070643819725
           }
          },
          {
           "data": {
            "NodeType": "rule",
            "background_color": "#ff4c4c",
            "bipartite": 1,
            "id": "assemble_pore_sequential_Bax_2",
            "label": "assemble_pore_sequential_Bax_2",
            "name": "assemble_pore_sequential_Bax_2",
            "parent": "assemble_pore_sequential",
            "shape": "roundrectangle"
           },
           "position": {
            "x": 3253.042487058815,
            "y": 598.4452068640376
           }
          },
          {
           "data": {
            "NodeType": "rule",
            "background_color": "#ff4c4c",
            "bipartite": 1,
            "id": "assemble_pore_sequential_Bax_3",
            "label": "assemble_pore_sequential_Bax_3",
            "name": "assemble_pore_sequential_Bax_3",
            "parent": "assemble_pore_sequential",
            "shape": "roundrectangle"
           },
           "position": {
            "x": 3361.4088610722833,
            "y": 656.0531411267975
           }
          },
          {
           "data": {
            "NodeType": "rule",
            "background_color": "#ff4c4c",
            "bipartite": 1,
            "id": "assemble_pore_sequential_Bax_4",
            "label": "assemble_pore_sequential_Bax_4",
            "name": "assemble_pore_sequential_Bax_4",
            "parent": "assemble_pore_sequential",
            "shape": "roundrectangle"
           },
           "position": {
            "x": 3618.6910470779053,
            "y": 625.6496845618931
           }
          },
          {
           "data": {
            "NodeType": "rule",
            "background_color": "#ff4c4c",
            "bipartite": 1,
            "id": "assemble_pore_sequential_Bak_2",
            "label": "assemble_pore_sequential_Bak_2",
            "name": "assemble_pore_sequential_Bak_2",
            "parent": "assemble_pore_sequential",
            "shape": "roundrectangle"
           },
           "position": {
            "x": 3534.7193874429454,
            "y": 993.8201741902203
           }
          },
          {
           "data": {
            "NodeType": "rule",
            "background_color": "#ff4c4c",
            "bipartite": 1,
            "id": "assemble_pore_sequential_Bak_3",
            "label": "assemble_pore_sequential_Bak_3",
            "name": "assemble_pore_sequential_Bak_3",
            "parent": "assemble_pore_sequential",
            "shape": "roundrectangle"
           },
           "position": {
            "x": 3540.21782770416,
            "y": 1102.054793135962
           }
          },
          {
           "data": {
            "NodeType": "rule",
            "background_color": "#ff4c4c",
            "bipartite": 1,
            "id": "assemble_pore_sequential_Bak_4",
            "label": "assemble_pore_sequential_Bak_4",
            "name": "assemble_pore_sequential_Bak_4",
            "parent": "assemble_pore_sequential",
            "shape": "roundrectangle"
           },
           "position": {
            "x": 3693.573900758149,
            "y": 1054.3393201299868
           }
          },
          {
           "data": {
            "NodeType": "rule",
            "background_color": "#ff4c4c",
            "bipartite": 1,
            "id": "pore_transport_complex_BaxA_4_CytoCM",
            "label": "pore_transport_complex_BaxA_4_CytoCM",
            "name": "pore_transport_complex_BaxA_4_CytoCM",
            "parent": "pore_transport",
            "shape": "roundrectangle"
           },
           "position": {
            "x": 5014.223942176941,
            "y": 607.3393714844638
           }
          },
          {
           "data": {
            "NodeType": "rule",
            "background_color": "#ff4c4c",
            "bipartite": 1,
            "id": "pore_transport_dissociate_BaxA_4_CytoCC",
            "label": "pore_transport_dissociate_BaxA_4_CytoCC",
            "name": "pore_transport_dissociate_BaxA_4_CytoCC",
            "parent": "pore_transport",
            "shape": "roundrectangle"
           },
           "position": {
            "x": 4036.6755312866107,
            "y": 1067.4815865965516
           }
          },
          {
           "data": {
            "NodeType": "rule",
            "background_color": "#ff4c4c",
            "bipartite": 1,
            "id": "pore_transport_complex_BaxA_4_SmacM",
            "label": "pore_transport_complex_BaxA_4_SmacM",
            "name": "pore_transport_complex_BaxA_4_SmacM",
            "parent": "pore_transport",
            "shape": "roundrectangle"
           },
           "position": {
            "x": 5070.738686667477,
            "y": 541.4129829592293
           }
          },
          {
           "data": {
            "NodeType": "rule",
            "background_color": "#ff4c4c",
            "bipartite": 1,
            "id": "pore_transport_dissociate_BaxA_4_SmacC",
            "label": "pore_transport_dissociate_BaxA_4_SmacC",
            "name": "pore_transport_dissociate_BaxA_4_SmacC",
            "parent": "pore_transport",
            "shape": "roundrectangle"
           },
           "position": {
            "x": 4461.728872471642,
            "y": 1185.519716066986
           }
          },
          {
           "data": {
            "NodeType": "rule",
            "background_color": "#ff4c4c",
            "bipartite": 1,
            "id": "pore_transport_complex_BakA_4_CytoCM",
            "label": "pore_transport_complex_BakA_4_CytoCM",
            "name": "pore_transport_complex_BakA_4_CytoCM",
            "parent": "pore_transport",
            "shape": "roundrectangle"
           },
           "position": {
            "x": 4369.287131912087,
            "y": 1022.9012827572378
           }
          },
          {
           "data": {
            "NodeType": "rule",
            "background_color": "#ff4c4c",
            "bipartite": 1,
            "id": "pore_transport_dissociate_BakA_4_CytoCC",
            "label": "pore_transport_dissociate_BakA_4_CytoCC",
            "name": "pore_transport_dissociate_BakA_4_CytoCC",
            "parent": "pore_transport",
            "shape": "roundrectangle"
           },
           "position": {
            "x": 4196.94402448828,
            "y": 1119.8593401367216
           }
          },
          {
           "data": {
            "NodeType": "rule",
            "background_color": "#ff4c4c",
            "bipartite": 1,
            "id": "pore_transport_complex_BakA_4_SmacM",
            "label": "pore_transport_complex_BakA_4_SmacM",
            "name": "pore_transport_complex_BakA_4_SmacM",
            "parent": "pore_transport",
            "shape": "roundrectangle"
           },
           "position": {
            "x": 4736.591601017215,
            "y": 1457.8157686471127
           }
          },
          {
           "data": {
            "NodeType": "rule",
            "background_color": "#ff4c4c",
            "bipartite": 1,
            "id": "pore_transport_dissociate_BakA_4_SmacC",
            "label": "pore_transport_dissociate_BakA_4_SmacC",
            "name": "pore_transport_dissociate_BakA_4_SmacC",
            "parent": "pore_transport",
            "shape": "roundrectangle"
           },
           "position": {
            "x": 4624.489252150128,
            "y": 1669.0360231184977
           }
          },
          {
           "data": {
            "NodeType": "function",
            "id": "translocate_tBid_Bax_BclxL",
            "name": "translocate_tBid_Bax_BclxL"
           },
           "position": {
            "x": 2788.890405660559,
            "y": 1819.7175600040873
           }
          },
          {
           "data": {
            "NodeType": "function",
            "id": "bind_table",
            "name": "bind_table"
           },
           "position": {
            "x": 3706.1911727924785,
            "y": 2685.0992140575
           }
          },
          {
           "data": {
            "NodeType": "function",
            "id": "one_step_conv",
            "name": "one_step_conv"
           },
           "position": {
            "x": 2517.6919784857632,
            "y": 4652.837177108622
           }
          },
          {
           "data": {
            "NodeType": "function",
            "id": "assemble_pore_sequential",
            "name": "assemble_pore_sequential"
           },
           "position": {
            "x": 3473.3081939084823,
            "y": 842.2499999999998
           }
          },
          {
           "data": {
            "NodeType": "function",
            "id": "pore_transport",
            "name": "pore_transport"
           },
           "position": {
            "x": 4550.457108977043,
            "y": 1097.2245030388635
           }
          },
          {
           "data": {
            "NodeType": "function",
            "id": "bind",
            "name": "bind"
           },
           "position": {
            "x": 2907.5914376570836,
            "y": 3665.7782602722446
           }
          },
          {
           "data": {
            "NodeType": "function",
            "id": "pore_to_parp",
            "name": "pore_to_parp"
           },
           "position": {
            "x": 3028.33998319266,
            "y": 1417.6195347252633
           }
          },
          {
           "data": {
            "NodeType": "function",
            "id": "catalyze_convert",
            "name": "catalyze_convert"
           },
           "position": {
            "x": 2619.4481201173853,
            "y": 573.8170775162389
           }
          },
          {
           "data": {
            "NodeType": "function",
            "id": "catalyze",
            "name": "catalyze"
           },
           "position": {
            "x": 1485.1831435209851,
            "y": 2845.3369060026503
           }
          }
         ]
        }
       },
       "format": "cyjs",
       "layout": "IPY_MODEL_e29190f4e30348d6a3f7d3fb2412bf62",
       "layout_name": "cose-bilkent",
       "type_of_viz": "sp_rules_functions_view",
       "visual_style": null
      }
     },
     "85c42004a3ab4725b79bea0da818ea3f": {
      "model_module": "@jupyter-widgets/base",
      "model_module_version": "1.1.0",
      "model_name": "LayoutModel",
      "state": {}
     },
     "86eda83ea2374199b311eeb3b84bd7ae": {
      "model_module": "viz-pysb-widget",
      "model_module_version": "^0.1.0",
      "model_name": "CytoscapeModel",
      "state": {
       "_model_module_version": "^0.1.0",
       "_view_module_version": "^0.1.0",
       "background": "#FFFFFF",
       "data": {
        "data": {
         "graph": {
          "rankdir": "LR"
         },
         "name": "pysbjupyter.pysb_models.organelle_transport",
         "paths": []
        },
        "elements": {
         "edges": [
          {
           "data": {
            "arrowhead": "normal",
            "id": "c5695654-a91b-42f7-8d7e-568760c2b009",
            "source": "s0",
            "source_arrow_fill": "hollow",
            "source_arrow_shape": "diamond",
            "target": "s4",
            "target_arrow_shape": "triangle"
           }
          },
          {
           "data": {
            "arrowhead": "normal",
            "id": "886e8afe-2560-4cee-a4f1-db0125c1aa77",
            "source": "s1",
            "source_arrow_fill": "hollow",
            "source_arrow_shape": "diamond",
            "target": "s4",
            "target_arrow_shape": "triangle"
           }
          },
          {
           "data": {
            "arrowhead": "normal",
            "id": "fb2eed56-e05d-4d7a-aac1-332569ee86e5",
            "source": "s2",
            "source_arrow_fill": "hollow",
            "source_arrow_shape": "diamond",
            "target": "s6",
            "target_arrow_shape": "triangle"
           }
          },
          {
           "data": {
            "arrowhead": "normal",
            "id": "03bb51f9-c5f6-4170-be41-8d01e92b0c21",
            "source": "s3",
            "source_arrow_fill": "hollow",
            "source_arrow_shape": "diamond",
            "target": "s8",
            "target_arrow_shape": "triangle"
           }
          },
          {
           "data": {
            "arrowhead": "normal",
            "id": "6f497fec-1891-47be-adc2-6a1615cf1735",
            "source": "s4",
            "source_arrow_fill": "filled",
            "source_arrow_shape": "none",
            "target": "s1",
            "target_arrow_shape": "triangle"
           }
          },
          {
           "data": {
            "arrowhead": "normal",
            "id": "f2105e73-3e5f-42fb-8650-8312291dfdac",
            "source": "s4",
            "source_arrow_fill": "filled",
            "source_arrow_shape": "none",
            "target": "s5",
            "target_arrow_shape": "triangle"
           }
          },
          {
           "data": {
            "arrowhead": "normal",
            "id": "5de9ba99-4dc4-4913-8ac6-b671f68388d1",
            "source": "s5",
            "source_arrow_fill": "hollow",
            "source_arrow_shape": "diamond",
            "target": "s6",
            "target_arrow_shape": "triangle"
           }
          },
          {
           "data": {
            "arrowhead": "normal",
            "id": "1ffadd7e-5393-401a-95fb-2b1de0fb3d21",
            "source": "s6",
            "source_arrow_fill": "filled",
            "source_arrow_shape": "none",
            "target": "s2",
            "target_arrow_shape": "triangle"
           }
          },
          {
           "data": {
            "arrowhead": "normal",
            "id": "23c09144-f1f5-48af-a202-16da3eaa343c",
            "source": "s6",
            "source_arrow_fill": "filled",
            "source_arrow_shape": "none",
            "target": "s7",
            "target_arrow_shape": "triangle"
           }
          },
          {
           "data": {
            "arrowhead": "normal",
            "id": "bf450aa3-7870-4e6b-a7e3-4a90a65328a3",
            "source": "s7",
            "source_arrow_fill": "hollow",
            "source_arrow_shape": "diamond",
            "target": "s8",
            "target_arrow_shape": "triangle"
           }
          },
          {
           "data": {
            "arrowhead": "normal",
            "id": "4b27c4a5-dfbc-4ba2-be19-63b2c2a1ccc2",
            "source": "s8",
            "source_arrow_fill": "filled",
            "source_arrow_shape": "none",
            "target": "s9",
            "target_arrow_shape": "triangle"
           }
          },
          {
           "data": {
            "arrowhead": "normal",
            "id": "577bc05e-6267-470b-8096-3a8bd98a3b6a",
            "source": "s8",
            "source_arrow_fill": "filled",
            "source_arrow_shape": "none",
            "target": "s3",
            "target_arrow_shape": "triangle"
           }
          }
         ],
         "nodes": [
          {
           "data": {
            "NodeType": "species",
            "background_color": "#2b913a",
            "id": "s0",
            "label": "L",
            "name": "s0",
            "parent": "CYT",
            "shape": "ellipse"
           },
           "position": {
            "x": 210.47686864946297,
            "y": 944.7453487655309
           }
          },
          {
           "data": {
            "NodeType": "species",
            "background_color": "#2b913a",
            "id": "s1",
            "label": "R",
            "name": "s1",
            "parent": "OM1",
            "shape": "ellipse"
           },
           "position": {
            "x": 333.0998265303947,
            "y": 815.2915364550587
           }
          },
          {
           "data": {
            "NodeType": "species",
            "background_color": "#2b913a",
            "id": "s2",
            "label": "T1",
            "name": "s2",
            "parent": "OM1",
            "shape": "ellipse"
           },
           "position": {
            "x": 307.3978347371549,
            "y": 463.43266292474027
           }
          },
          {
           "data": {
            "NodeType": "species",
            "background_color": "#2b913a",
            "id": "s3",
            "label": "T2",
            "name": "s3",
            "parent": "OM2",
            "shape": "ellipse"
           },
           "position": {
            "x": 338.9774342910441,
            "y": 265.0956624338434
           }
          },
          {
           "data": {
            "NodeType": "species",
            "background_color": "#2b913a",
            "id": "s4",
            "label": "LR",
            "name": "s4",
            "parent": "OM1",
            "shape": "ellipse"
           },
           "position": {
            "x": 254.04390488883814,
            "y": 775.5429111460109
           }
          },
          {
           "data": {
            "NodeType": "species",
            "background_color": "#2b913a",
            "id": "s5",
            "label": "L",
            "name": "s5",
            "parent": "OV1",
            "shape": "ellipse"
           },
           "position": {
            "x": 307.1749024306673,
            "y": 650.7356330816348
           }
          },
          {
           "data": {
            "NodeType": "species",
            "background_color": "#2b913a",
            "id": "s6",
            "label": "LT1",
            "name": "s6",
            "parent": "OM1",
            "shape": "ellipse"
           },
           "position": {
            "x": 380.35527741159217,
            "y": 526.8316449525773
           }
          },
          {
           "data": {
            "NodeType": "species",
            "background_color": "#2b913a",
            "id": "s7",
            "label": "L2",
            "name": "s7",
            "parent": "CYT",
            "shape": "ellipse"
           },
           "position": {
            "x": 484.58240884978477,
            "y": 361.19611755995277
           }
          },
          {
           "data": {
            "NodeType": "species",
            "background_color": "#2b913a",
            "id": "s8",
            "label": "L2T2",
            "name": "s8",
            "parent": "OM2",
            "shape": "ellipse"
           },
           "position": {
            "x": 417.61940203199083,
            "y": 205.5212192913005
           }
          },
          {
           "data": {
            "NodeType": "species",
            "background_color": "#2b913a",
            "id": "s9",
            "label": "L2",
            "name": "s9",
            "parent": "OV2",
            "shape": "ellipse"
           },
           "position": {
            "x": 379.21037089932383,
            "y": 78.25
           }
          },
          {
           "data": {
            "NodeType": "compartment",
            "id": "CYT",
            "name": "CYT"
           },
           "position": {
            "x": 347.52963874962387,
            "y": 476.49767438276547
           }
          },
          {
           "data": {
            "NodeType": "compartment",
            "id": "OM1",
            "name": "OM1",
            "parent": "CYT"
           },
           "position": {
            "x": 317.19959115021516,
            "y": 631.3620996898994
           }
          },
          {
           "data": {
            "NodeType": "compartment",
            "id": "OV1",
            "name": "OV1",
            "parent": "OM1"
           },
           "position": {
            "x": 307.1749024306673,
            "y": 642.7356330816348
           }
          },
          {
           "data": {
            "NodeType": "compartment",
            "id": "OM2",
            "name": "OM2",
            "parent": "CYT"
           },
           "position": {
            "x": 379.7984181615175,
            "y": 150.1728312169217
           }
          },
          {
           "data": {
            "NodeType": "compartment",
            "id": "OV2",
            "name": "OV2",
            "parent": "OM2"
           },
           "position": {
            "x": 379.21037089932383,
            "y": 70.25
           }
          }
         ]
        }
       },
       "format": "cyjs",
       "layout": "IPY_MODEL_e5f68fccf215439983dbd94022611f29",
       "layout_name": "cose-bilkent",
       "type_of_viz": "species_compartments_view",
       "visual_style": null
      }
     },
     "8d04c5a8325547a3be48092e47a2266e": {
      "model_module": "viz-pysb-widget",
      "model_module_version": "^0.1.0",
      "model_name": "CytoscapeModel",
      "state": {
       "_model_module_version": "^0.1.0",
       "_view_module_version": "^0.1.0",
       "background": "#FFFFFF",
       "format": "cyjs",
       "input_data": {
        "data": {
         "graph": {
          "rankdir": "LR"
         },
         "name": "pysbjupyter.pysb_models.lopez_embedded",
         "paths": []
        },
        "elements": {
         "edges": [
          {
           "data": {
            "arrowhead": "normal",
            "id": "b10268b5-cf07-43da-b488-3ecf766008e9",
            "source": "s0",
            "source_arrow_fill": "hollow",
            "source_arrow_shape": "diamond",
            "target": "s21",
            "target_arrow_shape": "triangle"
           }
          },
          {
           "data": {
            "arrowhead": "normal",
            "id": "bf750e34-2143-400c-bb17-42e637db0926",
            "source": "s1",
            "source_arrow_fill": "hollow",
            "source_arrow_shape": "diamond",
            "target": "s21",
            "target_arrow_shape": "triangle"
           }
          },
          {
           "data": {
            "arrowhead": "normal",
            "id": "93c6765b-d4ce-418f-a8d9-026f82a9d735",
            "source": "s2",
            "source_arrow_fill": "hollow",
            "source_arrow_shape": "diamond",
            "target": "s27",
            "target_arrow_shape": "triangle"
           }
          },
          {
           "data": {
            "arrowhead": "normal",
            "id": "1008fa86-130f-474f-919c-97d4a94d390e",
            "source": "s3",
            "source_arrow_fill": "hollow",
            "source_arrow_shape": "diamond",
            "target": "s26",
            "target_arrow_shape": "triangle"
           }
          },
          {
           "data": {
            "arrowhead": "normal",
            "id": "368d7382-9763-4f0b-bcd6-9cfe1280d7b9",
            "source": "s3",
            "source_arrow_fill": "hollow",
            "source_arrow_shape": "diamond",
            "target": "s46",
            "target_arrow_shape": "triangle"
           }
          },
          {
           "data": {
            "arrowhead": "normal",
            "id": "2f535457-ea1c-454e-99c2-e576a4d6abef",
            "source": "s4",
            "source_arrow_fill": "hollow",
            "source_arrow_shape": "diamond",
            "target": "s30",
            "target_arrow_shape": "triangle"
           }
          },
          {
           "data": {
            "arrowhead": "normal",
            "id": "7419da70-8f0b-4e29-9db8-9732cb1df1f4",
            "source": "s5",
            "source_arrow_fill": "hollow",
            "source_arrow_shape": "diamond",
            "target": "s71",
            "target_arrow_shape": "triangle"
           }
          },
          {
           "data": {
            "arrowhead": "normal",
            "id": "740d025f-35d8-4f32-ad32-63a88a578a2a",
            "source": "s6",
            "source_arrow_fill": "hollow",
            "source_arrow_shape": "diamond",
            "target": "s31",
            "target_arrow_shape": "triangle"
           }
          },
          {
           "data": {
            "arrowhead": "normal",
            "id": "c9ad1c99-b96b-43a7-b786-d74cc2cb26c2",
            "source": "s6",
            "source_arrow_fill": "hollow",
            "source_arrow_shape": "diamond",
            "target": "s75",
            "target_arrow_shape": "triangle"
           }
          },
          {
           "data": {
            "arrowhead": "normal",
            "id": "d09c6329-8fe0-48db-b2f4-fa67d2faea9a",
            "source": "s7",
            "source_arrow_fill": "hollow",
            "source_arrow_shape": "diamond",
            "target": "s36",
            "target_arrow_shape": "triangle"
           }
          },
          {
           "data": {
            "arrowhead": "normal",
            "id": "99b14248-ebe1-4806-9732-077a1f57dc5c",
            "source": "s8",
            "source_arrow_fill": "hollow",
            "source_arrow_shape": "diamond",
            "target": "s74",
            "target_arrow_shape": "triangle"
           }
          },
          {
           "data": {
            "arrowhead": "normal",
            "id": "03ee6148-679b-46d3-86e6-36d1491f2f3a",
            "source": "s9",
            "source_arrow_fill": "hollow",
            "source_arrow_shape": "diamond",
            "target": "s35",
            "target_arrow_shape": "triangle"
           }
          },
          {
           "data": {
            "arrowhead": "normal",
            "id": "b89ded5f-1983-4935-8f57-ea151db3fbd2",
            "source": "s10",
            "source_arrow_fill": "hollow",
            "source_arrow_shape": "diamond",
            "target": "s34",
            "target_arrow_shape": "triangle"
           }
          },
          {
           "data": {
            "arrowhead": "normal",
            "id": "5fb0664d-bbe2-4dcb-b3bc-611301fa3d42",
            "source": "s10",
            "source_arrow_fill": "hollow",
            "source_arrow_shape": "diamond",
            "target": "s72",
            "target_arrow_shape": "triangle"
           }
          },
          {
           "data": {
            "arrowhead": "normal",
            "id": "ffc93a6b-8d37-45b5-923f-a079acd8a848",
            "source": "s10",
            "source_arrow_fill": "hollow",
            "source_arrow_shape": "diamond",
            "target": "s76",
            "target_arrow_shape": "triangle"
           }
          },
          {
           "data": {
            "arrowhead": "normal",
            "id": "6436a625-5b4e-4d03-aa80-48184519a516",
            "source": "s11",
            "source_arrow_fill": "hollow",
            "source_arrow_shape": "diamond",
            "target": "s29",
            "target_arrow_shape": "triangle"
           }
          },
          {
           "data": {
            "arrowhead": "normal",
            "id": "9d3f4fe4-78d7-445a-81a7-eea440436a5e",
            "source": "s12",
            "source_arrow_fill": "hollow",
            "source_arrow_shape": "diamond",
            "target": "s41",
            "target_arrow_shape": "triangle"
           }
          },
          {
           "data": {
            "arrowhead": "normal",
            "id": "9dca5a11-6f3d-45eb-aafb-706cb65a4e0a",
            "source": "s13",
            "source_arrow_fill": "hollow",
            "source_arrow_shape": "diamond",
            "target": "s42",
            "target_arrow_shape": "triangle"
           }
          },
          {
           "data": {
            "arrowhead": "normal",
            "id": "dc6ed2fd-9e7c-4711-a0b2-c7b6a01c2b0b",
            "source": "s13",
            "source_arrow_fill": "hollow",
            "source_arrow_shape": "diamond",
            "target": "s50",
            "target_arrow_shape": "triangle"
           }
          },
          {
           "data": {
            "arrowhead": "normal",
            "id": "9b6c49a5-efc3-406f-9d1c-a67ed34ad13c",
            "source": "s14",
            "source_arrow_fill": "hollow",
            "source_arrow_shape": "diamond",
            "target": "s22",
            "target_arrow_shape": "triangle"
           }
          },
          {
           "data": {
            "arrowhead": "normal",
            "id": "22b5ea24-2295-4c84-aa63-922c321ed96e",
            "source": "s14",
            "source_arrow_fill": "hollow",
            "source_arrow_shape": "diamond",
            "target": "s43",
            "target_arrow_shape": "triangle"
           }
          },
          {
           "data": {
            "arrowhead": "normal",
            "id": "5e54d177-a151-4e36-aeb4-4bc10e3fa554",
            "source": "s14",
            "source_arrow_fill": "hollow",
            "source_arrow_shape": "diamond",
            "target": "s57",
            "target_arrow_shape": "triangle"
           }
          },
          {
           "data": {
            "arrowhead": "normal",
            "id": "140527d0-f044-4078-b1e4-2664fad0a0e6",
            "source": "s15",
            "source_arrow_fill": "hollow",
            "source_arrow_shape": "diamond",
            "target": "s23",
            "target_arrow_shape": "triangle"
           }
          },
          {
           "data": {
            "arrowhead": "normal",
            "id": "6f23cc5e-9409-424e-b497-564bd60da9d3",
            "source": "s15",
            "source_arrow_fill": "hollow",
            "source_arrow_shape": "diamond",
            "target": "s44",
            "target_arrow_shape": "triangle"
           }
          },
          {
           "data": {
            "arrowhead": "normal",
            "id": "af662053-30c6-48c5-ab4e-931da6a73849",
            "source": "s15",
            "source_arrow_fill": "hollow",
            "source_arrow_shape": "diamond",
            "target": "s51",
            "target_arrow_shape": "triangle"
           }
          },
          {
           "data": {
            "arrowhead": "normal",
            "id": "945f2d29-b9eb-4900-ac12-159c86139e8b",
            "source": "s15",
            "source_arrow_fill": "hollow",
            "source_arrow_shape": "diamond",
            "target": "s58",
            "target_arrow_shape": "triangle"
           }
          },
          {
           "data": {
            "arrowhead": "normal",
            "id": "e19be191-af37-4fb0-bc8d-51fd2630f0ad",
            "source": "s16",
            "source_arrow_fill": "hollow",
            "source_arrow_shape": "diamond",
            "target": "s24",
            "target_arrow_shape": "triangle"
           }
          },
          {
           "data": {
            "arrowhead": "normal",
            "id": "b9a27eee-978f-411d-a211-3f40918afe47",
            "source": "s16",
            "source_arrow_fill": "hollow",
            "source_arrow_shape": "diamond",
            "target": "s45",
            "target_arrow_shape": "triangle"
           }
          },
          {
           "data": {
            "arrowhead": "normal",
            "id": "f74c53ce-61c6-48f7-901c-b4ac4ebab020",
            "source": "s16",
            "source_arrow_fill": "hollow",
            "source_arrow_shape": "diamond",
            "target": "s52",
            "target_arrow_shape": "triangle"
           }
          },
          {
           "data": {
            "arrowhead": "normal",
            "id": "6f090d2e-b4c1-48a3-8ccd-2b03538071f3",
            "source": "s17",
            "source_arrow_fill": "hollow",
            "source_arrow_shape": "diamond",
            "target": "s22",
            "target_arrow_shape": "triangle"
           }
          },
          {
           "data": {
            "arrowhead": "normal",
            "id": "24630ae0-2888-42b5-98df-76f78c14341d",
            "source": "s17",
            "source_arrow_fill": "hollow",
            "source_arrow_shape": "diamond",
            "target": "s23",
            "target_arrow_shape": "triangle"
           }
          },
          {
           "data": {
            "arrowhead": "normal",
            "id": "788db71f-7bd0-4d5f-a8ba-e80f45a3596b",
            "source": "s18",
            "source_arrow_fill": "hollow",
            "source_arrow_shape": "diamond",
            "target": "s24",
            "target_arrow_shape": "triangle"
           }
          },
          {
           "data": {
            "arrowhead": "normal",
            "id": "fa66f78b-d3b3-422c-ada4-b16023ac68bf",
            "source": "s19",
            "source_arrow_fill": "hollow",
            "source_arrow_shape": "diamond",
            "target": "s62",
            "target_arrow_shape": "triangle"
           }
          },
          {
           "data": {
            "arrowhead": "normal",
            "id": "44517ac4-fdf4-40d4-a915-937dfe889ef0",
            "source": "s19",
            "source_arrow_fill": "hollow",
            "source_arrow_shape": "diamond",
            "target": "s69",
            "target_arrow_shape": "triangle"
           }
          },
          {
           "data": {
            "arrowhead": "normal",
            "id": "bae3fc29-28e7-4894-85e3-24e8cb78e44d",
            "source": "s20",
            "source_arrow_fill": "hollow",
            "source_arrow_shape": "diamond",
            "target": "s63",
            "target_arrow_shape": "triangle"
           }
          },
          {
           "data": {
            "arrowhead": "normal",
            "id": "d0edb8ae-558d-4186-98c1-610b03f8939b",
            "source": "s20",
            "source_arrow_fill": "hollow",
            "source_arrow_shape": "diamond",
            "target": "s70",
            "target_arrow_shape": "triangle"
           }
          },
          {
           "data": {
            "arrowhead": "normal",
            "id": "c4bc19e6-4198-4f87-a817-d0d338d1c15d",
            "source": "s21",
            "source_arrow_fill": "filled",
            "source_arrow_shape": "none",
            "target": "s25",
            "target_arrow_shape": "triangle"
           }
          },
          {
           "data": {
            "arrowhead": "normal",
            "id": "a8cf2d61-8167-450d-a2e4-c7a5b7ae1eec",
            "source": "s25",
            "source_arrow_fill": "hollow",
            "source_arrow_shape": "diamond",
            "target": "s26",
            "target_arrow_shape": "triangle"
           }
          },
          {
           "data": {
            "arrowhead": "normal",
            "id": "7fa553e7-7f5f-46aa-b6dd-cbd3bed70340",
            "source": "s25",
            "source_arrow_fill": "hollow",
            "source_arrow_shape": "diamond",
            "target": "s27",
            "target_arrow_shape": "triangle"
           }
          },
          {
           "data": {
            "arrowhead": "normal",
            "id": "ecc0093b-949e-4193-b578-6a7ccb126687",
            "source": "s26",
            "source_arrow_fill": "filled",
            "source_arrow_shape": "none",
            "target": "s25",
            "target_arrow_shape": "triangle"
           }
          },
          {
           "data": {
            "arrowhead": "normal",
            "id": "c30d7fb8-24ee-40fb-ba64-8c99d9bd902d",
            "source": "s26",
            "source_arrow_fill": "filled",
            "source_arrow_shape": "none",
            "target": "s28",
            "target_arrow_shape": "triangle"
           }
          },
          {
           "data": {
            "arrowhead": "normal",
            "id": "0387565d-cca9-4547-85f7-3e5302a142a4",
            "source": "s28",
            "source_arrow_fill": "hollow",
            "source_arrow_shape": "diamond",
            "target": "s29",
            "target_arrow_shape": "triangle"
           }
          },
          {
           "data": {
            "arrowhead": "normal",
            "id": "f7a601cd-d708-4f92-8646-499c6debd603",
            "source": "s28",
            "source_arrow_fill": "hollow",
            "source_arrow_shape": "diamond",
            "target": "s30",
            "target_arrow_shape": "triangle"
           }
          },
          {
           "data": {
            "arrowhead": "normal",
            "id": "eab85ec6-d4ae-4a65-9a66-ef9e85279be7",
            "source": "s28",
            "source_arrow_fill": "hollow",
            "source_arrow_shape": "diamond",
            "target": "s31",
            "target_arrow_shape": "triangle"
           }
          },
          {
           "data": {
            "arrowhead": "normal",
            "id": "242834bf-f673-483a-807a-232144ded285",
            "source": "s29",
            "source_arrow_fill": "filled",
            "source_arrow_shape": "none",
            "target": "s32",
            "target_arrow_shape": "triangle"
           }
          },
          {
           "data": {
            "arrowhead": "normal",
            "id": "ffadea2e-5d7a-444d-b13d-776935220aaf",
            "source": "s29",
            "source_arrow_fill": "filled",
            "source_arrow_shape": "none",
            "target": "s28",
            "target_arrow_shape": "triangle"
           }
          },
          {
           "data": {
            "arrowhead": "normal",
            "id": "bccf3331-a97b-43ad-9b30-186123c0d4e3",
            "source": "s31",
            "source_arrow_fill": "filled",
            "source_arrow_shape": "none",
            "target": "s33",
            "target_arrow_shape": "triangle"
           }
          },
          {
           "data": {
            "arrowhead": "normal",
            "id": "c3240931-6bae-429c-ac64-22838cce3c65",
            "source": "s31",
            "source_arrow_fill": "filled",
            "source_arrow_shape": "none",
            "target": "s28",
            "target_arrow_shape": "triangle"
           }
          },
          {
           "data": {
            "arrowhead": "normal",
            "id": "0819a6d9-3772-42a6-b9c8-c63958ec605f",
            "source": "s32",
            "source_arrow_fill": "hollow",
            "source_arrow_shape": "diamond",
            "target": "s37",
            "target_arrow_shape": "triangle"
           }
          },
          {
           "data": {
            "arrowhead": "normal",
            "id": "5a8e2da2-8f91-400d-ba76-87d3788b1c8b",
            "source": "s33",
            "source_arrow_fill": "hollow",
            "source_arrow_shape": "diamond",
            "target": "s34",
            "target_arrow_shape": "triangle"
           }
          },
          {
           "data": {
            "arrowhead": "normal",
            "id": "45eb78df-d7ea-491e-8271-0bf3ef8a61ef",
            "source": "s33",
            "source_arrow_fill": "hollow",
            "source_arrow_shape": "diamond",
            "target": "s35",
            "target_arrow_shape": "triangle"
           }
          },
          {
           "data": {
            "arrowhead": "normal",
            "id": "f09e1c4b-21d5-401c-b361-da48a362b677",
            "source": "s33",
            "source_arrow_fill": "hollow",
            "source_arrow_shape": "diamond",
            "target": "s36",
            "target_arrow_shape": "triangle"
           }
          },
          {
           "data": {
            "arrowhead": "normal",
            "id": "8ff556b0-98b4-477a-9dc0-2fb262856404",
            "source": "s34",
            "source_arrow_fill": "filled",
            "source_arrow_shape": "none",
            "target": "s10",
            "target_arrow_shape": "triangle"
           }
          },
          {
           "data": {
            "arrowhead": "normal",
            "id": "4c5a4344-5691-48a6-bdc1-924c6f33e68d",
            "source": "s34",
            "source_arrow_fill": "filled",
            "source_arrow_shape": "none",
            "target": "s38",
            "target_arrow_shape": "triangle"
           }
          },
          {
           "data": {
            "arrowhead": "normal",
            "id": "b3c78e87-12b0-4bc4-82c3-7442d7345075",
            "source": "s35",
            "source_arrow_fill": "filled",
            "source_arrow_shape": "none",
            "target": "s33",
            "target_arrow_shape": "triangle"
           }
          },
          {
           "data": {
            "arrowhead": "normal",
            "id": "248f4a65-034f-4b4c-b389-65e905c3d429",
            "source": "s35",
            "source_arrow_fill": "filled",
            "source_arrow_shape": "none",
            "target": "s39",
            "target_arrow_shape": "triangle"
           }
          },
          {
           "data": {
            "arrowhead": "normal",
            "id": "966fe19c-f7f3-4010-8d28-87c29190cddb",
            "source": "s36",
            "source_arrow_fill": "filled",
            "source_arrow_shape": "none",
            "target": "s40",
            "target_arrow_shape": "triangle"
           }
          },
          {
           "data": {
            "arrowhead": "normal",
            "id": "603f89f2-c4e5-4f61-b750-50a5176761e4",
            "source": "s36",
            "source_arrow_fill": "filled",
            "source_arrow_shape": "none",
            "target": "s33",
            "target_arrow_shape": "triangle"
           }
          },
          {
           "data": {
            "arrowhead": "normal",
            "id": "9efe80e1-f8b9-4492-b366-b65cfd63c69d",
            "source": "s37",
            "source_arrow_fill": "hollow",
            "source_arrow_shape": "diamond",
            "target": "s41",
            "target_arrow_shape": "triangle"
           }
          },
          {
           "data": {
            "arrowhead": "normal",
            "id": "bb40f7c7-12c0-4daa-94e1-28016ed64d1d",
            "source": "s37",
            "source_arrow_fill": "hollow",
            "source_arrow_shape": "diamond",
            "target": "s42",
            "target_arrow_shape": "triangle"
           }
          },
          {
           "data": {
            "arrowhead": "normal",
            "id": "95d62b25-bd43-4301-be76-107c0e6c7a27",
            "source": "s37",
            "source_arrow_fill": "hollow",
            "source_arrow_shape": "diamond",
            "target": "s43",
            "target_arrow_shape": "triangle"
           }
          },
          {
           "data": {
            "arrowhead": "normal",
            "id": "799c4157-24dc-4d40-81b7-d86891214dba",
            "source": "s37",
            "source_arrow_fill": "hollow",
            "source_arrow_shape": "diamond",
            "target": "s44",
            "target_arrow_shape": "triangle"
           }
          },
          {
           "data": {
            "arrowhead": "normal",
            "id": "9a452f50-3f6c-4afe-a54d-f29714bead0b",
            "source": "s37",
            "source_arrow_fill": "hollow",
            "source_arrow_shape": "diamond",
            "target": "s45",
            "target_arrow_shape": "triangle"
           }
          },
          {
           "data": {
            "arrowhead": "normal",
            "id": "e1859bc4-0acf-4be2-b44d-518d75c0760b",
            "source": "s37",
            "source_arrow_fill": "hollow",
            "source_arrow_shape": "diamond",
            "target": "s49",
            "target_arrow_shape": "triangle"
           }
          },
          {
           "data": {
            "arrowhead": "normal",
            "id": "6d5f6236-1c48-41f0-9b58-fb8a2c313d83",
            "source": "s40",
            "source_arrow_fill": "hollow",
            "source_arrow_shape": "diamond",
            "target": "s46",
            "target_arrow_shape": "triangle"
           }
          },
          {
           "data": {
            "arrowhead": "normal",
            "id": "e329b174-08f6-4b40-8e72-4df9f3de6902",
            "source": "s41",
            "source_arrow_fill": "filled",
            "source_arrow_shape": "none",
            "target": "s37",
            "target_arrow_shape": "triangle"
           }
          },
          {
           "data": {
            "arrowhead": "normal",
            "id": "23d92dc1-db29-4ee9-a968-69941764b235",
            "source": "s41",
            "source_arrow_fill": "filled",
            "source_arrow_shape": "none",
            "target": "s47",
            "target_arrow_shape": "triangle"
           }
          },
          {
           "data": {
            "arrowhead": "normal",
            "id": "962bb90a-b988-4a4f-b412-891f0317655b",
            "source": "s42",
            "source_arrow_fill": "filled",
            "source_arrow_shape": "none",
            "target": "s48",
            "target_arrow_shape": "triangle"
           }
          },
          {
           "data": {
            "arrowhead": "normal",
            "id": "2cb7b6e1-f4c9-48f1-80bf-5ec20cce8464",
            "source": "s42",
            "source_arrow_fill": "filled",
            "source_arrow_shape": "none",
            "target": "s37",
            "target_arrow_shape": "triangle"
           }
          },
          {
           "data": {
            "arrowhead": "normal",
            "id": "9132076d-e04c-4d0a-8b3a-bbbc615c96e0",
            "source": "s46",
            "source_arrow_fill": "filled",
            "source_arrow_shape": "none",
            "target": "s40",
            "target_arrow_shape": "triangle"
           }
          },
          {
           "data": {
            "arrowhead": "normal",
            "id": "360f3dac-c25b-4739-82b3-376ece929325",
            "source": "s46",
            "source_arrow_fill": "filled",
            "source_arrow_shape": "none",
            "target": "s28",
            "target_arrow_shape": "triangle"
           }
          },
          {
           "data": {
            "arrowhead": "normal",
            "id": "458420e8-9f12-4562-b989-2f6f9aea57b7",
            "source": "s47",
            "source_arrow_fill": "hollow",
            "source_arrow_shape": "diamond",
            "target": "s49",
            "target_arrow_shape": "triangle"
           }
          },
          {
           "data": {
            "arrowhead": "normal",
            "id": "a3b00a27-94e0-42b7-b07d-c9241bc0f251",
            "source": "s47",
            "source_arrow_fill": "hollow",
            "source_arrow_shape": "diamond",
            "target": "s56",
            "target_arrow_shape": "triangle"
           }
          },
          {
           "data": {
            "arrowhead": "normal",
            "id": "47d1cc03-14f1-4b13-8799-f1940ebab064",
            "source": "s48",
            "source_arrow_fill": "hollow",
            "source_arrow_shape": "diamond",
            "target": "s50",
            "target_arrow_shape": "triangle"
           }
          },
          {
           "data": {
            "arrowhead": "normal",
            "id": "f39bff54-b45c-4aa4-a386-9ef0da760f67",
            "source": "s48",
            "source_arrow_fill": "hollow",
            "source_arrow_shape": "diamond",
            "target": "s51",
            "target_arrow_shape": "triangle"
           }
          },
          {
           "data": {
            "arrowhead": "normal",
            "id": "44f54703-9e04-4695-934f-f2a604a4c559",
            "source": "s48",
            "source_arrow_fill": "hollow",
            "source_arrow_shape": "diamond",
            "target": "s52",
            "target_arrow_shape": "triangle"
           }
          },
          {
           "data": {
            "arrowhead": "normal",
            "id": "013ba088-745c-4630-96b9-9129f2340eae",
            "source": "s48",
            "source_arrow_fill": "hollow",
            "source_arrow_shape": "diamond",
            "target": "s53",
            "target_arrow_shape": "triangle"
           }
          },
          {
           "data": {
            "arrowhead": "normal",
            "id": "37346a29-fe30-4787-b806-6a7a42222018",
            "source": "s48",
            "source_arrow_fill": "hollow",
            "source_arrow_shape": "diamond",
            "target": "s55",
            "target_arrow_shape": "triangle"
           }
          },
          {
           "data": {
            "arrowhead": "normal",
            "id": "62571569-f10a-475d-92a3-dac90a64b417",
            "source": "s48",
            "source_arrow_fill": "hollow",
            "source_arrow_shape": "diamond",
            "target": "s60",
            "target_arrow_shape": "triangle"
           }
          },
          {
           "data": {
            "arrowhead": "normal",
            "id": "e2a86c6e-c769-4c24-855a-6ddcf05fd82a",
            "source": "s49",
            "source_arrow_fill": "filled",
            "source_arrow_shape": "none",
            "target": "s37",
            "target_arrow_shape": "triangle"
           }
          },
          {
           "data": {
            "arrowhead": "normal",
            "id": "5db16da3-2739-48cf-b591-f36bc49bc070",
            "source": "s49",
            "source_arrow_fill": "filled",
            "source_arrow_shape": "none",
            "target": "s54",
            "target_arrow_shape": "triangle"
           }
          },
          {
           "data": {
            "arrowhead": "normal",
            "id": "f3cb33bb-7f98-496a-95fc-b9b727c72837",
            "source": "s50",
            "source_arrow_fill": "filled",
            "source_arrow_shape": "none",
            "target": "s48",
            "target_arrow_shape": "triangle"
           }
          },
          {
           "data": {
            "arrowhead": "normal",
            "id": "28ee0f73-2ab8-4632-b963-b07b00b6bb8d",
            "source": "s53",
            "source_arrow_fill": "hollow",
            "source_arrow_shape": "diamond",
            "target": "s55",
            "target_arrow_shape": "triangle"
           }
          },
          {
           "data": {
            "arrowhead": "normal",
            "id": "0e5dfc46-1926-41da-9491-a0cd2c64468d",
            "source": "s54",
            "source_arrow_fill": "hollow",
            "source_arrow_shape": "diamond",
            "target": "s56",
            "target_arrow_shape": "triangle"
           }
          },
          {
           "data": {
            "arrowhead": "normal",
            "id": "491563ea-89af-4577-94ee-427b9a1bb623",
            "source": "s54",
            "source_arrow_fill": "hollow",
            "source_arrow_shape": "diamond",
            "target": "s57",
            "target_arrow_shape": "triangle"
           }
          },
          {
           "data": {
            "arrowhead": "normal",
            "id": "8557483c-d64c-4c15-9cab-1e29a5f98183",
            "source": "s54",
            "source_arrow_fill": "hollow",
            "source_arrow_shape": "diamond",
            "target": "s58",
            "target_arrow_shape": "triangle"
           }
          },
          {
           "data": {
            "arrowhead": "normal",
            "id": "56c87581-d4d3-49fd-bd67-d314c62aba38",
            "source": "s54",
            "source_arrow_fill": "hollow",
            "source_arrow_shape": "diamond",
            "target": "s59",
            "target_arrow_shape": "triangle"
           }
          },
          {
           "data": {
            "arrowhead": "normal",
            "id": "c148dcc0-60c1-42fe-9da4-f4da98457806",
            "source": "s54",
            "source_arrow_fill": "hollow",
            "source_arrow_shape": "diamond",
            "target": "s61",
            "target_arrow_shape": "triangle"
           }
          },
          {
           "data": {
            "arrowhead": "normal",
            "id": "c6420428-3e05-4a2c-af08-90ba0d8e997d",
            "source": "s54",
            "source_arrow_fill": "hollow",
            "source_arrow_shape": "diamond",
            "target": "s64",
            "target_arrow_shape": "triangle"
           }
          },
          {
           "data": {
            "arrowhead": "normal",
            "id": "e31eae4b-a2e8-485c-acce-96bf6d816e2e",
            "source": "s55",
            "source_arrow_fill": "hollow",
            "source_arrow_shape": "diamond",
            "target": "s60",
            "target_arrow_shape": "triangle"
           }
          },
          {
           "data": {
            "arrowhead": "normal",
            "id": "0c4b8f6e-4696-4ebd-9bc4-17cd9ddd3d03",
            "source": "s56",
            "source_arrow_fill": "filled",
            "source_arrow_shape": "none",
            "target": "s54",
            "target_arrow_shape": "triangle"
           }
          },
          {
           "data": {
            "arrowhead": "normal",
            "id": "542a290d-69e6-4f28-90a4-2164de0ef523",
            "source": "s59",
            "source_arrow_fill": "hollow",
            "source_arrow_shape": "diamond",
            "target": "s61",
            "target_arrow_shape": "triangle"
           }
          },
          {
           "data": {
            "arrowhead": "normal",
            "id": "5de9a6e2-dfa5-4e7b-be20-e3b6a483d5e1",
            "source": "s60",
            "source_arrow_fill": "hollow",
            "source_arrow_shape": "diamond",
            "target": "s62",
            "target_arrow_shape": "triangle"
           }
          },
          {
           "data": {
            "arrowhead": "normal",
            "id": "1ec4fb4d-6177-4cec-866e-2ecb54af9540",
            "source": "s60",
            "source_arrow_fill": "hollow",
            "source_arrow_shape": "diamond",
            "target": "s63",
            "target_arrow_shape": "triangle"
           }
          },
          {
           "data": {
            "arrowhead": "normal",
            "id": "55c08641-ce75-446d-b4d4-010e755ec081",
            "source": "s61",
            "source_arrow_fill": "hollow",
            "source_arrow_shape": "diamond",
            "target": "s64",
            "target_arrow_shape": "triangle"
           }
          },
          {
           "data": {
            "arrowhead": "normal",
            "id": "d28189fd-408d-4816-b5e2-af940ede27bf",
            "source": "s62",
            "source_arrow_fill": "filled",
            "source_arrow_shape": "none",
            "target": "s65",
            "target_arrow_shape": "triangle"
           }
          },
          {
           "data": {
            "arrowhead": "normal",
            "id": "8388b88c-76a0-4474-854f-9cd687211e32",
            "source": "s62",
            "source_arrow_fill": "filled",
            "source_arrow_shape": "none",
            "target": "s60",
            "target_arrow_shape": "triangle"
           }
          },
          {
           "data": {
            "arrowhead": "normal",
            "id": "3bb86e44-b010-4d44-8a2b-9143b7e9ea46",
            "source": "s63",
            "source_arrow_fill": "filled",
            "source_arrow_shape": "none",
            "target": "s66",
            "target_arrow_shape": "triangle"
           }
          },
          {
           "data": {
            "arrowhead": "normal",
            "id": "470d8afb-07ac-4868-ad3a-a44e3fa31f72",
            "source": "s63",
            "source_arrow_fill": "filled",
            "source_arrow_shape": "none",
            "target": "s60",
            "target_arrow_shape": "triangle"
           }
          },
          {
           "data": {
            "arrowhead": "normal",
            "id": "d5cc0669-8288-4f5f-922c-a8b58985a728",
            "source": "s64",
            "source_arrow_fill": "hollow",
            "source_arrow_shape": "diamond",
            "target": "s69",
            "target_arrow_shape": "triangle"
           }
          },
          {
           "data": {
            "arrowhead": "normal",
            "id": "078bf024-b863-42f9-8a7e-4553207d0754",
            "source": "s64",
            "source_arrow_fill": "hollow",
            "source_arrow_shape": "diamond",
            "target": "s70",
            "target_arrow_shape": "triangle"
           }
          },
          {
           "data": {
            "arrowhead": "normal",
            "id": "16e77f24-7334-40be-8d70-5d67a1a8fc15",
            "source": "s65",
            "source_arrow_fill": "hollow",
            "source_arrow_shape": "diamond",
            "target": "s68",
            "target_arrow_shape": "triangle"
           }
          },
          {
           "data": {
            "arrowhead": "normal",
            "id": "7804aa9b-4f86-45b0-9ed5-31e84dc98341",
            "source": "s66",
            "source_arrow_fill": "hollow",
            "source_arrow_shape": "diamond",
            "target": "s67",
            "target_arrow_shape": "triangle"
           }
          },
          {
           "data": {
            "arrowhead": "normal",
            "id": "69298190-ef62-4cf5-9779-0a9c2b4a07cd",
            "source": "s67",
            "source_arrow_fill": "hollow",
            "source_arrow_shape": "diamond",
            "target": "s72",
            "target_arrow_shape": "triangle"
           }
          },
          {
           "data": {
            "arrowhead": "normal",
            "id": "44edf50f-23cd-43f5-a45f-bd246602a4bb",
            "source": "s68",
            "source_arrow_fill": "hollow",
            "source_arrow_shape": "diamond",
            "target": "s71",
            "target_arrow_shape": "triangle"
           }
          },
          {
           "data": {
            "arrowhead": "normal",
            "id": "5bf9ff0d-cca0-43c6-890b-ad1db3240b0d",
            "source": "s69",
            "source_arrow_fill": "filled",
            "source_arrow_shape": "none",
            "target": "s64",
            "target_arrow_shape": "triangle"
           }
          },
          {
           "data": {
            "arrowhead": "normal",
            "id": "722b1bf1-bb16-4e11-be7f-1cc7fda4cd9f",
            "source": "s69",
            "source_arrow_fill": "filled",
            "source_arrow_shape": "none",
            "target": "s65",
            "target_arrow_shape": "triangle"
           }
          },
          {
           "data": {
            "arrowhead": "normal",
            "id": "60747944-639c-4d4a-bcc6-d0d575834191",
            "source": "s70",
            "source_arrow_fill": "filled",
            "source_arrow_shape": "none",
            "target": "s64",
            "target_arrow_shape": "triangle"
           }
          },
          {
           "data": {
            "arrowhead": "normal",
            "id": "b820c81e-f196-4b64-b131-d83fe00da949",
            "source": "s70",
            "source_arrow_fill": "filled",
            "source_arrow_shape": "none",
            "target": "s66",
            "target_arrow_shape": "triangle"
           }
          },
          {
           "data": {
            "arrowhead": "normal",
            "id": "6b445196-af64-497d-b95b-f942142fb788",
            "source": "s71",
            "source_arrow_fill": "filled",
            "source_arrow_shape": "none",
            "target": "s73",
            "target_arrow_shape": "triangle"
           }
          },
          {
           "data": {
            "arrowhead": "normal",
            "id": "d45fa389-ea3c-4814-a6a3-fcb1fc108031",
            "source": "s71",
            "source_arrow_fill": "filled",
            "source_arrow_shape": "none",
            "target": "s68",
            "target_arrow_shape": "triangle"
           }
          },
          {
           "data": {
            "arrowhead": "normal",
            "id": "dd8f9c42-cd37-4c9e-bb86-bc8572256d6f",
            "source": "s73",
            "source_arrow_fill": "hollow",
            "source_arrow_shape": "diamond",
            "target": "s74",
            "target_arrow_shape": "triangle"
           }
          },
          {
           "data": {
            "arrowhead": "normal",
            "id": "a4b45ca9-4bcb-429e-b6ba-caa747d7ef97",
            "source": "s74",
            "source_arrow_fill": "hollow",
            "source_arrow_shape": "diamond",
            "target": "s75",
            "target_arrow_shape": "triangle"
           }
          },
          {
           "data": {
            "arrowhead": "normal",
            "id": "fa540b80-87a9-4796-93cb-3dcf77316bf6",
            "source": "s74",
            "source_arrow_fill": "hollow",
            "source_arrow_shape": "diamond",
            "target": "s76",
            "target_arrow_shape": "triangle"
           }
          },
          {
           "data": {
            "arrowhead": "normal",
            "id": "39be38b7-d1a8-4251-889e-fb9d44fb19d0",
            "source": "s75",
            "source_arrow_fill": "filled",
            "source_arrow_shape": "none",
            "target": "s33",
            "target_arrow_shape": "triangle"
           }
          },
          {
           "data": {
            "arrowhead": "normal",
            "id": "92d5c77e-0700-4b8f-b272-6af2c90acd4f",
            "source": "s75",
            "source_arrow_fill": "filled",
            "source_arrow_shape": "none",
            "target": "s74",
            "target_arrow_shape": "triangle"
           }
          }
         ],
         "nodes": [
          {
           "data": {
            "NodeType": "species",
            "background_color": "#2b913a",
            "id": "s0",
            "label": "L",
            "name": "s0",
            "shape": "ellipse"
           },
           "position": {
            "x": 27,
            "y": 156
           }
          },
          {
           "data": {
            "NodeType": "species",
            "background_color": "#2b913a",
            "id": "s1",
            "label": "R",
            "name": "s1",
            "shape": "ellipse"
           },
           "position": {
            "x": 27,
            "y": 102
           }
          },
          {
           "data": {
            "NodeType": "species",
            "background_color": "#2b913a",
            "id": "s2",
            "label": "flip",
            "name": "s2",
            "shape": "ellipse"
           },
           "position": {
            "x": 212.22,
            "y": 183
           }
          },
          {
           "data": {
            "NodeType": "species",
            "background_color": "#2b913a",
            "id": "s3",
            "label": "proC8",
            "name": "s3",
            "shape": "ellipse"
           },
           "position": {
            "x": 212.22,
            "y": 25
           }
          },
          {
           "data": {
            "NodeType": "species",
            "background_color": "#2b913a",
            "id": "s4",
            "label": "BAR",
            "name": "s4",
            "shape": "ellipse"
           },
           "position": {
            "x": 459.26,
            "y": 46
           }
          },
          {
           "data": {
            "NodeType": "species",
            "background_color": "#2b913a",
            "id": "s5",
            "label": "iApaf",
            "name": "s5",
            "shape": "ellipse"
           },
           "position": {
            "x": 2092.3,
            "y": 998
           }
          },
          {
           "data": {
            "NodeType": "species",
            "background_color": "#2b913a",
            "id": "s6",
            "label": "proC3",
            "name": "s6",
            "shape": "ellipse"
           },
           "position": {
            "x": 459.26,
            "y": 553
           }
          },
          {
           "data": {
            "NodeType": "species",
            "background_color": "#2b913a",
            "id": "s7",
            "label": "proC6",
            "name": "s7",
            "shape": "ellipse"
           },
           "position": {
            "x": 2698.3,
            "y": 268
           }
          },
          {
           "data": {
            "NodeType": "species",
            "background_color": "#2b913a",
            "id": "s8",
            "label": "C9",
            "name": "s8",
            "shape": "ellipse"
           },
           "position": {
            "x": 2353.6,
            "y": 998
           }
          },
          {
           "data": {
            "NodeType": "species",
            "background_color": "#2b913a",
            "id": "s9",
            "label": "uPARP",
            "name": "s9",
            "shape": "ellipse"
           },
           "position": {
            "x": 2698.3,
            "y": 376
           }
          },
          {
           "data": {
            "NodeType": "species",
            "background_color": "#2b913a",
            "id": "s10",
            "label": "XIAP",
            "name": "s10",
            "shape": "ellipse"
           },
           "position": {
            "x": 2947.5,
            "y": 322
           }
          },
          {
           "data": {
            "NodeType": "species",
            "background_color": "#2b913a",
            "id": "s11",
            "label": "uBid",
            "name": "s11",
            "shape": "ellipse"
           },
           "position": {
            "x": 459.26,
            "y": 100
           }
          },
          {
           "data": {
            "NodeType": "species",
            "background_color": "#2b913a",
            "id": "s12",
            "label": "cBax",
            "name": "s12",
            "shape": "ellipse"
           },
           "position": {
            "x": 788.43,
            "y": 668
           }
          },
          {
           "data": {
            "NodeType": "species",
            "background_color": "#2b913a",
            "id": "s13",
            "label": "mBak",
            "name": "s13",
            "shape": "ellipse"
           },
           "position": {
            "x": 788.43,
            "y": 371
           }
          },
          {
           "data": {
            "NodeType": "species",
            "background_color": "#2b913a",
            "id": "s14",
            "label": "mBcl2",
            "name": "s14",
            "shape": "ellipse"
           },
           "position": {
            "x": 1064.9,
            "y": 768
           }
          },
          {
           "data": {
            "NodeType": "species",
            "background_color": "#2b913a",
            "id": "s15",
            "label": "mBclxL",
            "name": "s15",
            "shape": "ellipse"
           },
           "position": {
            "x": 1064.9,
            "y": 550
           }
          },
          {
           "data": {
            "NodeType": "species",
            "background_color": "#2b913a",
            "id": "s16",
            "label": "mMcl1",
            "name": "s16",
            "shape": "ellipse"
           },
           "position": {
            "x": 788.43,
            "y": 798
           }
          },
          {
           "data": {
            "NodeType": "species",
            "background_color": "#2b913a",
            "id": "s17",
            "label": "mBad",
            "name": "s17",
            "shape": "ellipse"
           },
           "position": {
            "x": 1064.9,
            "y": 604
           }
          },
          {
           "data": {
            "NodeType": "species",
            "background_color": "#2b913a",
            "id": "s18",
            "label": "mNoxa",
            "name": "s18",
            "shape": "ellipse"
           },
           "position": {
            "x": 788.43,
            "y": 852
           }
          },
          {
           "data": {
            "NodeType": "species",
            "background_color": "#2b913a",
            "id": "s19",
            "label": "mCytoC",
            "name": "s19",
            "shape": "ellipse"
           },
           "position": {
            "x": 1701.6,
            "y": 581
           }
          },
          {
           "data": {
            "NodeType": "species",
            "background_color": "#2b913a",
            "id": "s20",
            "label": "mSmac",
            "name": "s20",
            "shape": "ellipse"
           },
           "position": {
            "x": 1701.6,
            "y": 367
           }
          },
          {
           "data": {
            "NodeType": "species",
            "background_color": "#2b913a",
            "id": "s21",
            "label": "L-R",
            "name": "s21",
            "shape": "ellipse"
           },
           "position": {
            "x": 117,
            "y": 129
           }
          },
          {
           "data": {
            "NodeType": "species",
            "background_color": "#2b913a",
            "id": "s22",
            "label": "mBad-mBcl2",
            "name": "s22",
            "shape": "ellipse"
           },
           "position": {
            "x": 1203.2,
            "y": 760
           }
          },
          {
           "data": {
            "NodeType": "species",
            "background_color": "#2b913a",
            "id": "s23",
            "label": "mBad-mBclxL",
            "name": "s23",
            "shape": "ellipse"
           },
           "position": {
            "x": 1203.2,
            "y": 614
           }
          },
          {
           "data": {
            "NodeType": "species",
            "background_color": "#2b913a",
            "id": "s24",
            "label": "mMcl1-mNoxa",
            "name": "s24",
            "shape": "ellipse"
           },
           "position": {
            "x": 925.2,
            "y": 852
           }
          },
          {
           "data": {
            "NodeType": "species",
            "background_color": "#2b913a",
            "id": "s25",
            "label": "DISC",
            "name": "s25",
            "shape": "ellipse"
           },
           "position": {
            "x": 212.22,
            "y": 129
           }
          },
          {
           "data": {
            "NodeType": "species",
            "background_color": "#2b913a",
            "id": "s26",
            "label": "proC8-DISC",
            "name": "s26",
            "shape": "ellipse"
           },
           "position": {
            "x": 335.74,
            "y": 129
           }
          },
          {
           "data": {
            "NodeType": "species",
            "background_color": "#2b913a",
            "id": "s27",
            "label": "DISC-flip",
            "name": "s27",
            "shape": "ellipse"
           },
           "position": {
            "x": 335.74,
            "y": 183
           }
          },
          {
           "data": {
            "NodeType": "species",
            "background_color": "#2b913a",
            "id": "s28",
            "label": "aC8",
            "name": "s28",
            "shape": "ellipse"
           },
           "position": {
            "x": 459.26,
            "y": 154
           }
          },
          {
           "data": {
            "NodeType": "species",
            "background_color": "#2b913a",
            "id": "s29",
            "label": "uBid-aC8",
            "name": "s29",
            "shape": "ellipse"
           },
           "position": {
            "x": 576.89,
            "y": 138
           }
          },
          {
           "data": {
            "NodeType": "species",
            "background_color": "#2b913a",
            "id": "s30",
            "label": "BAR-aC8",
            "name": "s30",
            "shape": "ellipse"
           },
           "position": {
            "x": 576.89,
            "y": 46
           }
          },
          {
           "data": {
            "NodeType": "species",
            "background_color": "#2b913a",
            "id": "s31",
            "label": "proC3-aC8",
            "name": "s31",
            "shape": "ellipse"
           },
           "position": {
            "x": 576.89,
            "y": 192
           }
          },
          {
           "data": {
            "NodeType": "species",
            "background_color": "#2b913a",
            "id": "s32",
            "label": "tBid",
            "name": "s32",
            "shape": "ellipse"
           },
           "position": {
            "x": 689.29,
            "y": 138
           }
          },
          {
           "data": {
            "NodeType": "species",
            "background_color": "#2b913a",
            "id": "s33",
            "label": "aC3",
            "name": "s33",
            "shape": "ellipse"
           },
           "position": {
            "x": 2698.3,
            "y": 322
           }
          },
          {
           "data": {
            "NodeType": "species",
            "background_color": "#2b913a",
            "id": "s34",
            "label": "aC3-XIAP",
            "name": "s34",
            "shape": "ellipse"
           },
           "position": {
            "x": 2823.2,
            "y": 322
           }
          },
          {
           "data": {
            "NodeType": "species",
            "background_color": "#2b913a",
            "id": "s35",
            "label": "aC3-uPARP",
            "name": "s35",
            "shape": "ellipse"
           },
           "position": {
            "x": 2823.2,
            "y": 376
           }
          },
          {
           "data": {
            "NodeType": "species",
            "background_color": "#2b913a",
            "id": "s36",
            "label": "aC3-proC6",
            "name": "s36",
            "shape": "ellipse"
           },
           "position": {
            "x": 2823.2,
            "y": 268
           }
          },
          {
           "data": {
            "NodeType": "species",
            "background_color": "#2b913a",
            "id": "s37",
            "label": "mBid",
            "name": "s37",
            "shape": "ellipse"
           },
           "position": {
            "x": 788.43,
            "y": 613
           }
          },
          {
           "data": {
            "NodeType": "species",
            "background_color": "#2b913a",
            "id": "s38",
            "label": "ubC3",
            "name": "s38",
            "shape": "ellipse"
           },
           "position": {
            "x": 2947.5,
            "y": 268
           }
          },
          {
           "data": {
            "NodeType": "species",
            "background_color": "#2b913a",
            "id": "s39",
            "label": "cPARP",
            "name": "s39",
            "shape": "ellipse"
           },
           "position": {
            "x": 2947.5,
            "y": 376
           }
          },
          {
           "data": {
            "NodeType": "species",
            "background_color": "#2b913a",
            "id": "s40",
            "label": "aC6",
            "name": "s40",
            "shape": "ellipse"
           },
           "position": {
            "x": 2947.5,
            "y": 138
           }
          },
          {
           "data": {
            "NodeType": "species",
            "background_color": "#2b913a",
            "id": "s41",
            "label": "cBax-mBid",
            "name": "s41",
            "shape": "ellipse"
           },
           "position": {
            "x": 925.2,
            "y": 668
           }
          },
          {
           "data": {
            "NodeType": "species",
            "background_color": "#2b913a",
            "id": "s42",
            "label": "mBak-mBid",
            "name": "s42",
            "shape": "ellipse"
           },
           "position": {
            "x": 925.2,
            "y": 394
           }
          },
          {
           "data": {
            "NodeType": "species",
            "background_color": "#2b913a",
            "id": "s43",
            "label": "mBcl2-mBid",
            "name": "s43",
            "shape": "ellipse"
           },
           "position": {
            "x": 1203.2,
            "y": 852
           }
          },
          {
           "data": {
            "NodeType": "species",
            "background_color": "#2b913a",
            "id": "s44",
            "label": "mBclxL-mBid",
            "name": "s44",
            "shape": "ellipse"
           },
           "position": {
            "x": 1203.2,
            "y": 522
           }
          },
          {
           "data": {
            "NodeType": "species",
            "background_color": "#2b913a",
            "id": "s45",
            "label": "mBid-mMcl1",
            "name": "s45",
            "shape": "ellipse"
           },
           "position": {
            "x": 925.2,
            "y": 760
           }
          },
          {
           "data": {
            "NodeType": "species",
            "background_color": "#2b913a",
            "id": "s46",
            "label": "aC6-proC8",
            "name": "s46",
            "shape": "ellipse"
           },
           "position": {
            "x": 3076.1,
            "y": 115
           }
          },
          {
           "data": {
            "NodeType": "species",
            "background_color": "#2b913a",
            "id": "s47",
            "label": "mBax",
            "name": "s47",
            "shape": "ellipse"
           },
           "position": {
            "x": 1064.9,
            "y": 714
           }
          },
          {
           "data": {
            "NodeType": "species",
            "background_color": "#2b913a",
            "id": "s48",
            "label": "aBak",
            "name": "s48",
            "shape": "ellipse"
           },
           "position": {
            "x": 1064.9,
            "y": 349
           }
          },
          {
           "data": {
            "NodeType": "species",
            "background_color": "#2b913a",
            "id": "s49",
            "label": "mBax-mBid",
            "name": "s49",
            "shape": "ellipse"
           },
           "position": {
            "x": 1203.2,
            "y": 668
           }
          },
          {
           "data": {
            "NodeType": "species",
            "background_color": "#2b913a",
            "id": "s50",
            "label": "aBak-mBak",
            "name": "s50",
            "shape": "ellipse"
           },
           "position": {
            "x": 1203.2,
            "y": 230
           }
          },
          {
           "data": {
            "NodeType": "species",
            "background_color": "#2b913a",
            "id": "s51",
            "label": "aBak-mBclxL",
            "name": "s51",
            "shape": "ellipse"
           },
           "position": {
            "x": 1203.2,
            "y": 468
           }
          },
          {
           "data": {
            "NodeType": "species",
            "background_color": "#2b913a",
            "id": "s52",
            "label": "aBak-mMcl1",
            "name": "s52",
            "shape": "ellipse"
           },
           "position": {
            "x": 1203.2,
            "y": 414
           }
          },
          {
           "data": {
            "NodeType": "species",
            "background_color": "#2b913a",
            "id": "s53",
            "label": "2aBak",
            "name": "s53",
            "shape": "ellipse"
           },
           "position": {
            "x": 1203.2,
            "y": 284
           }
          },
          {
           "data": {
            "NodeType": "species",
            "background_color": "#2b913a",
            "id": "s54",
            "label": "aBax",
            "name": "s54",
            "shape": "ellipse"
           },
           "position": {
            "x": 1335,
            "y": 664
           }
          },
          {
           "data": {
            "NodeType": "species",
            "background_color": "#2b913a",
            "id": "s55",
            "label": "3aBak",
            "name": "s55",
            "shape": "ellipse"
           },
           "position": {
            "x": 1335,
            "y": 322
           }
          },
          {
           "data": {
            "NodeType": "species",
            "background_color": "#2b913a",
            "id": "s56",
            "label": "aBax-mBax",
            "name": "s56",
            "shape": "ellipse"
           },
           "position": {
            "x": 1463.9,
            "y": 716
           }
          },
          {
           "data": {
            "NodeType": "species",
            "background_color": "#2b913a",
            "id": "s57",
            "label": "aBax-mBcl2",
            "name": "s57",
            "shape": "ellipse"
           },
           "position": {
            "x": 1463.9,
            "y": 789
           }
          },
          {
           "data": {
            "NodeType": "species",
            "background_color": "#2b913a",
            "id": "s58",
            "label": "aBax-mBclxL",
            "name": "s58",
            "shape": "ellipse"
           },
           "position": {
            "x": 1463.9,
            "y": 532
           }
          },
          {
           "data": {
            "NodeType": "species",
            "background_color": "#2b913a",
            "id": "s59",
            "label": "2aBax",
            "name": "s59",
            "shape": "ellipse"
           },
           "position": {
            "x": 1463.9,
            "y": 662
           }
          },
          {
           "data": {
            "NodeType": "species",
            "background_color": "#2b913a",
            "id": "s60",
            "label": "4aBak",
            "name": "s60",
            "shape": "ellipse"
           },
           "position": {
            "x": 1701.6,
            "y": 421
           }
          },
          {
           "data": {
            "NodeType": "species",
            "background_color": "#2b913a",
            "id": "s61",
            "label": "3aBax",
            "name": "s61",
            "shape": "ellipse"
           },
           "position": {
            "x": 1592.8,
            "y": 624
           }
          },
          {
           "data": {
            "NodeType": "species",
            "background_color": "#2b913a",
            "id": "s62",
            "label": "4aBak-mCytoC",
            "name": "s62",
            "shape": "ellipse"
           },
           "position": {
            "x": 1843.3,
            "y": 502
           }
          },
          {
           "data": {
            "NodeType": "species",
            "background_color": "#2b913a",
            "id": "s63",
            "label": "4aBak-mSmac",
            "name": "s63",
            "shape": "ellipse"
           },
           "position": {
            "x": 1843.3,
            "y": 394
           }
          },
          {
           "data": {
            "NodeType": "species",
            "background_color": "#2b913a",
            "id": "s64",
            "label": "4aBax",
            "name": "s64",
            "shape": "ellipse"
           },
           "position": {
            "x": 1701.6,
            "y": 527
           }
          },
          {
           "data": {
            "NodeType": "species",
            "background_color": "#2b913a",
            "id": "s65",
            "label": "cCytoC",
            "name": "s65",
            "shape": "ellipse"
           },
           "position": {
            "x": 1982.1,
            "y": 556
           }
          },
          {
           "data": {
            "NodeType": "species",
            "background_color": "#2b913a",
            "id": "s66",
            "label": "cSmac",
            "name": "s66",
            "shape": "ellipse"
           },
           "position": {
            "x": 1982.1,
            "y": 394
           }
          },
          {
           "data": {
            "NodeType": "species",
            "background_color": "#2b913a",
            "id": "s67",
            "label": "aSmac",
            "name": "s67",
            "shape": "ellipse"
           },
           "position": {
            "x": 2225.7,
            "y": 271
           }
          },
          {
           "data": {
            "NodeType": "species",
            "background_color": "#2b913a",
            "id": "s68",
            "label": "aCytoC",
            "name": "s68",
            "shape": "ellipse"
           },
           "position": {
            "x": 2092.3,
            "y": 944
           }
          },
          {
           "data": {
            "NodeType": "species",
            "background_color": "#2b913a",
            "id": "s69",
            "label": "4aBax-mCytoC",
            "name": "s69",
            "shape": "ellipse"
           },
           "position": {
            "x": 1843.3,
            "y": 556
           }
          },
          {
           "data": {
            "NodeType": "species",
            "background_color": "#2b913a",
            "id": "s70",
            "label": "4aBax-mSmac",
            "name": "s70",
            "shape": "ellipse"
           },
           "position": {
            "x": 1843.3,
            "y": 448
           }
          },
          {
           "data": {
            "NodeType": "species",
            "background_color": "#2b913a",
            "id": "s71",
            "label": "iApaf-aCytoC",
            "name": "s71",
            "shape": "ellipse"
           },
           "position": {
            "x": 2225.7,
            "y": 944
           }
          },
          {
           "data": {
            "NodeType": "species",
            "background_color": "#2b913a",
            "id": "s72",
            "label": "aSmac-XIAP",
            "name": "s72",
            "shape": "ellipse"
           },
           "position": {
            "x": 3076.1,
            "y": 272
           }
          },
          {
           "data": {
            "NodeType": "species",
            "background_color": "#2b913a",
            "id": "s73",
            "label": "aApaf",
            "name": "s73",
            "shape": "ellipse"
           },
           "position": {
            "x": 2353.6,
            "y": 944
           }
          },
          {
           "data": {
            "NodeType": "species",
            "background_color": "#2b913a",
            "id": "s74",
            "label": "Apop",
            "name": "s74",
            "shape": "ellipse"
           },
           "position": {
            "x": 2451.1,
            "y": 944
           }
          },
          {
           "data": {
            "NodeType": "species",
            "background_color": "#2b913a",
            "id": "s75",
            "label": "Apop-proC3",
            "name": "s75",
            "shape": "ellipse"
           },
           "position": {
            "x": 2571.6,
            "y": 898
           }
          },
          {
           "data": {
            "NodeType": "species",
            "background_color": "#2b913a",
            "id": "s76",
            "label": "Apop-XIAP",
            "name": "s76",
            "shape": "ellipse"
           },
           "position": {
            "x": 3076.1,
            "y": 633
           }
          }
         ]
        }
       },
       "layout": "IPY_MODEL_2dc7c061ab864286ad760c859a020ccb",
       "layout_name": "preset",
       "type_of_viz": "species_view",
       "visual_style": null
      }
     },
     "9aec7bcea83b45078637a4d81d58ebe9": {
      "model_module": "@jupyter-widgets/base",
      "model_module_version": "1.1.0",
      "model_name": "LayoutModel",
      "state": {}
     },
     "a9b97194ff454bcf9116627da4e5144d": {
      "model_module": "@jupyter-widgets/base",
      "model_module_version": "1.1.0",
      "model_name": "LayoutModel",
      "state": {}
     },
     "cca5c55660384a809593758927c016ea": {
      "model_module": "@jupyter-widgets/base",
      "model_module_version": "1.1.0",
      "model_name": "LayoutModel",
      "state": {}
     },
     "cfb9826ed806447ea880569e44712f57": {
      "model_module": "viz-pysb-widget",
      "model_module_version": "^0.1.0",
      "model_name": "CytoscapeModel",
      "state": {
       "_model_module_version": "^0.1.0",
       "_view_module_version": "^0.1.0",
       "background": "#FFFFFF",
       "data": {
        "data": {
         "graph": {
          "rankdir": "LR"
         },
         "name": "pysb",
         "paths": []
        },
        "elements": {
         "edges": [
          {
           "data": {
            "arrowhead": "normal",
            "id": "ad311f5d-b7e1-4357-ba2e-31b1eff5c6f2",
            "source": "s0",
            "source_arrow_fill": "hollow",
            "source_arrow_shape": "diamond",
            "target": "s4",
            "target_arrow_shape": "triangle"
           }
          },
          {
           "data": {
            "arrowhead": "normal",
            "id": "438e731d-996d-4b14-b45c-d354c572522c",
            "source": "s1",
            "source_arrow_fill": "hollow",
            "source_arrow_shape": "diamond",
            "target": "s4",
            "target_arrow_shape": "triangle"
           }
          },
          {
           "data": {
            "arrowhead": "normal",
            "id": "c8ae3700-3c07-4b80-9edd-b7efaa02a5bb",
            "source": "s2",
            "source_arrow_fill": "hollow",
            "source_arrow_shape": "diamond",
            "target": "s6",
            "target_arrow_shape": "triangle"
           }
          },
          {
           "data": {
            "arrowhead": "normal",
            "id": "6ef63079-5727-41d2-b5af-c7b74971135a",
            "source": "s3",
            "source_arrow_fill": "hollow",
            "source_arrow_shape": "diamond",
            "target": "s8",
            "target_arrow_shape": "triangle"
           }
          },
          {
           "data": {
            "arrowhead": "normal",
            "id": "b7046074-be32-42bc-b0fc-1fe8f12216fe",
            "source": "s4",
            "source_arrow_fill": "filled",
            "source_arrow_shape": "none",
            "target": "s1",
            "target_arrow_shape": "triangle"
           }
          },
          {
           "data": {
            "arrowhead": "normal",
            "id": "6538af47-58e7-4a22-b735-7423d924e412",
            "source": "s4",
            "source_arrow_fill": "filled",
            "source_arrow_shape": "none",
            "target": "s5",
            "target_arrow_shape": "triangle"
           }
          },
          {
           "data": {
            "arrowhead": "normal",
            "id": "7c3c5fca-fb73-46b8-93bf-dc5ef0c6add6",
            "source": "s5",
            "source_arrow_fill": "hollow",
            "source_arrow_shape": "diamond",
            "target": "s6",
            "target_arrow_shape": "triangle"
           }
          },
          {
           "data": {
            "arrowhead": "normal",
            "id": "ea537e24-6021-4621-8b48-37f8ae4e2407",
            "source": "s6",
            "source_arrow_fill": "filled",
            "source_arrow_shape": "none",
            "target": "s2",
            "target_arrow_shape": "triangle"
           }
          },
          {
           "data": {
            "arrowhead": "normal",
            "id": "aa6c1428-2583-4389-8914-8ab759cacf84",
            "source": "s6",
            "source_arrow_fill": "filled",
            "source_arrow_shape": "none",
            "target": "s7",
            "target_arrow_shape": "triangle"
           }
          },
          {
           "data": {
            "arrowhead": "normal",
            "id": "c22a265d-d60c-4386-8294-62b55de4b41e",
            "source": "s7",
            "source_arrow_fill": "hollow",
            "source_arrow_shape": "diamond",
            "target": "s8",
            "target_arrow_shape": "triangle"
           }
          },
          {
           "data": {
            "arrowhead": "normal",
            "id": "052d8925-7896-4736-b192-a11780b0a366",
            "source": "s8",
            "source_arrow_fill": "filled",
            "source_arrow_shape": "none",
            "target": "s9",
            "target_arrow_shape": "triangle"
           }
          },
          {
           "data": {
            "arrowhead": "normal",
            "id": "6857c607-1234-450e-8966-dad0c03d2a21",
            "source": "s8",
            "source_arrow_fill": "filled",
            "source_arrow_shape": "none",
            "target": "s3",
            "target_arrow_shape": "triangle"
           }
          }
         ],
         "nodes": [
          {
           "data": {
            "NodeType": "species",
            "background_color": "#2b913a",
            "id": "s0",
            "label": "L",
            "name": "s0",
            "shape": "ellipse"
           },
           "position": {
            "x": 27,
            "y": 180
           }
          },
          {
           "data": {
            "NodeType": "species",
            "background_color": "#2b913a",
            "id": "s1",
            "label": "R",
            "name": "s1",
            "shape": "ellipse"
           },
           "position": {
            "x": 207,
            "y": 180
           }
          },
          {
           "data": {
            "NodeType": "species",
            "background_color": "#2b913a",
            "id": "s2",
            "label": "T1",
            "name": "s2",
            "shape": "ellipse"
           },
           "position": {
            "x": 387,
            "y": 126
           }
          },
          {
           "data": {
            "NodeType": "species",
            "background_color": "#2b913a",
            "id": "s3",
            "label": "T2",
            "name": "s3",
            "shape": "ellipse"
           },
           "position": {
            "x": 572.51,
            "y": 72
           }
          },
          {
           "data": {
            "NodeType": "species",
            "background_color": "#2b913a",
            "id": "s4",
            "label": "LR",
            "name": "s4",
            "shape": "ellipse"
           },
           "position": {
            "x": 117,
            "y": 180
           }
          },
          {
           "data": {
            "NodeType": "species",
            "background_color": "#2b913a",
            "id": "s5",
            "label": "L",
            "name": "s5",
            "shape": "ellipse"
           },
           "position": {
            "x": 207,
            "y": 126
           }
          },
          {
           "data": {
            "NodeType": "species",
            "background_color": "#2b913a",
            "id": "s6",
            "label": "LT1",
            "name": "s6",
            "shape": "ellipse"
           },
           "position": {
            "x": 297,
            "y": 126
           }
          },
          {
           "data": {
            "NodeType": "species",
            "background_color": "#2b913a",
            "id": "s7",
            "label": "L2",
            "name": "s7",
            "shape": "ellipse"
           },
           "position": {
            "x": 387,
            "y": 72
           }
          },
          {
           "data": {
            "NodeType": "species",
            "background_color": "#2b913a",
            "id": "s8",
            "label": "L2T2",
            "name": "s8",
            "shape": "ellipse"
           },
           "position": {
            "x": 479.75,
            "y": 72
           }
          },
          {
           "data": {
            "NodeType": "species",
            "background_color": "#2b913a",
            "id": "s9",
            "label": "L2",
            "name": "s9",
            "shape": "ellipse"
           },
           "position": {
            "x": 572.51,
            "y": 18
           }
          }
         ]
        }
       },
       "format": "cyjs",
       "layout": "IPY_MODEL_9aec7bcea83b45078637a4d81d58ebe9",
       "layout_name": "preset",
       "type_of_viz": "species_view",
       "visual_style": null
      }
     },
     "e29190f4e30348d6a3f7d3fb2412bf62": {
      "model_module": "@jupyter-widgets/base",
      "model_module_version": "1.1.0",
      "model_name": "LayoutModel",
      "state": {}
     },
     "e4a2fc1d82324d29a8af26ae608d9635": {
      "model_module": "@jupyter-widgets/base",
      "model_module_version": "1.1.0",
      "model_name": "LayoutModel",
      "state": {}
     },
     "e5f68fccf215439983dbd94022611f29": {
      "model_module": "@jupyter-widgets/base",
      "model_module_version": "1.1.0",
      "model_name": "LayoutModel",
      "state": {}
     },
     "e6addd1fe6a14f259738e304da6db82b": {
      "model_module": "viz-pysb-widget",
      "model_module_version": "^0.1.0",
      "model_name": "CytoscapeModel",
      "state": {
       "_model_module_version": "^0.1.0",
       "_view_module_version": "^0.1.0",
       "background": "#FFFFFF",
       "data": {
        "data": {
         "graph": {
          "rankdir": "LR"
         },
         "name": "pysbjupyter.pysb_models.lopez_embedded"
        },
        "elements": {
         "edges": [
          {
           "data": {
            "arrowhead": "normal",
            "id": "e10ddccb-ca97-4761-890b-79edc8be7f64",
            "source": "s0",
            "source_arrow_fill": "hollow",
            "source_arrow_shape": "triangle",
            "target": "bind_L_R_to_LR",
            "target_arrow_shape": "triangle"
           }
          },
          {
           "data": {
            "arrowhead": "normal",
            "id": "45d44cc5-fd0f-45b4-8d8d-e804cbc4ddf2",
            "source": "s1",
            "source_arrow_fill": "hollow",
            "source_arrow_shape": "triangle",
            "target": "bind_L_R_to_LR",
            "target_arrow_shape": "triangle"
           }
          },
          {
           "data": {
            "arrowhead": "normal",
            "id": "a982d258-992c-4bc0-8116-b59777efd319",
            "source": "s2",
            "source_arrow_fill": "hollow",
            "source_arrow_shape": "triangle",
            "target": "bind_DISC_flip",
            "target_arrow_shape": "triangle"
           }
          },
          {
           "data": {
            "arrowhead": "normal",
            "id": "c354a368-5116-4cc4-afa7-db2a21a43433",
            "source": "s3",
            "source_arrow_fill": "hollow",
            "source_arrow_shape": "triangle",
            "target": "bind_DISC_C8pro_to_DISCC8pro",
            "target_arrow_shape": "triangle"
           }
          },
          {
           "data": {
            "arrowhead": "normal",
            "id": "28e4f853-b9c6-461d-b07c-52e565ee35e7",
            "source": "s3",
            "source_arrow_fill": "hollow",
            "source_arrow_shape": "triangle",
            "target": "bind_C6A_C8pro_to_C6AC8pro",
            "target_arrow_shape": "triangle"
           }
          },
          {
           "data": {
            "arrowhead": "normal",
            "id": "e93ec6ae-dd4f-4bef-a66f-44c1e52e65b5",
            "source": "s4",
            "source_arrow_fill": "hollow",
            "source_arrow_shape": "triangle",
            "target": "bind_BAR_C8A",
            "target_arrow_shape": "triangle"
           }
          },
          {
           "data": {
            "arrowhead": "normal",
            "id": "65e23632-4b5d-4804-9784-9b533531fc23",
            "source": "s5",
            "source_arrow_fill": "hollow",
            "source_arrow_shape": "triangle",
            "target": "bind_CytoCA_ApafI_to_CytoCAApafI",
            "target_arrow_shape": "triangle"
           }
          },
          {
           "data": {
            "arrowhead": "normal",
            "id": "e6b4537d-d42c-46d7-b5a3-679ac86f01f8",
            "source": "s6",
            "source_arrow_fill": "hollow",
            "source_arrow_shape": "triangle",
            "target": "bind_Apop_C3pro_to_ApopC3pro",
            "target_arrow_shape": "triangle"
           }
          },
          {
           "data": {
            "arrowhead": "normal",
            "id": "dd0ba4c5-89ee-4190-b1fa-342d33ff7b1f",
            "source": "s6",
            "source_arrow_fill": "hollow",
            "source_arrow_shape": "triangle",
            "target": "bind_C8A_C3pro_to_C8AC3pro",
            "target_arrow_shape": "triangle"
           }
          },
          {
           "data": {
            "arrowhead": "normal",
            "id": "66265bf8-a9ef-4dc0-8bbb-bef65988c600",
            "source": "s7",
            "source_arrow_fill": "hollow",
            "source_arrow_shape": "triangle",
            "target": "bind_C3A_C6pro_to_C3AC6pro",
            "target_arrow_shape": "triangle"
           }
          },
          {
           "data": {
            "arrowhead": "normal",
            "id": "4523bd1e-e9c8-4e85-a32e-8fc876fc88f5",
            "source": "s8",
            "source_arrow_fill": "hollow",
            "source_arrow_shape": "triangle",
            "target": "convert_ApafA_C9_to_Apop",
            "target_arrow_shape": "triangle"
           }
          },
          {
           "data": {
            "arrowhead": "normal",
            "id": "3a8517ca-f0ca-42bd-93e9-67a9e3348782",
            "source": "s9",
            "source_arrow_fill": "hollow",
            "source_arrow_shape": "triangle",
            "target": "bind_C3A_PARPU_to_C3APARPU",
            "target_arrow_shape": "triangle"
           }
          },
          {
           "data": {
            "arrowhead": "normal",
            "id": "953b3b69-0fe2-47a2-8957-e8bf4ebaa68a",
            "source": "s10",
            "source_arrow_fill": "hollow",
            "source_arrow_shape": "triangle",
            "target": "bind_Apop_XIAP",
            "target_arrow_shape": "triangle"
           }
          },
          {
           "data": {
            "arrowhead": "normal",
            "id": "00b44d7b-5d4c-4245-821a-f6e532367652",
            "source": "s10",
            "source_arrow_fill": "hollow",
            "source_arrow_shape": "triangle",
            "target": "bind_SmacA_XIAP",
            "target_arrow_shape": "triangle"
           }
          },
          {
           "data": {
            "arrowhead": "normal",
            "id": "7379dc6e-ceb1-4837-b583-6d56c2619151",
            "source": "s10",
            "source_arrow_fill": "hollow",
            "source_arrow_shape": "triangle",
            "target": "bind_XIAP_C3A_to_XIAPC3A",
            "target_arrow_shape": "triangle"
           }
          },
          {
           "data": {
            "arrowhead": "normal",
            "id": "8d123cbe-8a66-469a-8167-8754a40f59c8",
            "source": "s11",
            "source_arrow_fill": "hollow",
            "source_arrow_shape": "triangle",
            "target": "bind_C8A_BidU_to_C8ABidU",
            "target_arrow_shape": "triangle"
           }
          },
          {
           "data": {
            "arrowhead": "normal",
            "id": "b3ed2ea8-92c6-4e92-9c98-c28f12c21482",
            "source": "s12",
            "source_arrow_fill": "hollow",
            "source_arrow_shape": "triangle",
            "target": "bind_BidM_BaxC_to_BidMBaxC",
            "target_arrow_shape": "triangle"
           }
          },
          {
           "data": {
            "arrowhead": "normal",
            "id": "fdbef57d-d486-4033-916f-2fb630ae9ddf",
            "source": "s13",
            "source_arrow_fill": "hollow",
            "source_arrow_shape": "triangle",
            "target": "bind_BidM_BakM_to_BidMBakM",
            "target_arrow_shape": "triangle"
           }
          },
          {
           "data": {
            "arrowhead": "normal",
            "id": "4165eca1-cf2b-435d-b792-bd87347858ed",
            "source": "s13",
            "source_arrow_fill": "hollow",
            "source_arrow_shape": "triangle",
            "target": "bind_BakA_BakM_to_BakABakM",
            "target_arrow_shape": "triangle"
           }
          },
          {
           "data": {
            "arrowhead": "normal",
            "id": "95314f0e-937f-4d01-a153-b53810cf6297",
            "source": "s14",
            "source_arrow_fill": "hollow",
            "source_arrow_shape": "triangle",
            "target": "bind_BidM_Bcl2M",
            "target_arrow_shape": "triangle"
           }
          },
          {
           "data": {
            "arrowhead": "normal",
            "id": "dc63360b-0edf-458e-9055-76b6db8f9faa",
            "source": "s14",
            "source_arrow_fill": "hollow",
            "source_arrow_shape": "triangle",
            "target": "bind_BaxA_Bcl2",
            "target_arrow_shape": "triangle"
           }
          },
          {
           "data": {
            "arrowhead": "normal",
            "id": "a6ee854c-86a6-4817-b4df-3af1e1e840c1",
            "source": "s14",
            "source_arrow_fill": "hollow",
            "source_arrow_shape": "triangle",
            "target": "bind_BadM_Bcl2",
            "target_arrow_shape": "triangle"
           }
          },
          {
           "data": {
            "arrowhead": "normal",
            "id": "4f65a487-fe05-46b3-b375-9696b2db9c9e",
            "source": "s15",
            "source_arrow_fill": "hollow",
            "source_arrow_shape": "triangle",
            "target": "bind_BidM_BclxLM",
            "target_arrow_shape": "triangle"
           }
          },
          {
           "data": {
            "arrowhead": "normal",
            "id": "97a67150-0dea-42cb-9d9c-085af2f4e47c",
            "source": "s15",
            "source_arrow_fill": "hollow",
            "source_arrow_shape": "triangle",
            "target": "bind_BaxA_BclxLM",
            "target_arrow_shape": "triangle"
           }
          },
          {
           "data": {
            "arrowhead": "normal",
            "id": "943444e8-090f-4606-8f3b-22033aad57ea",
            "source": "s15",
            "source_arrow_fill": "hollow",
            "source_arrow_shape": "triangle",
            "target": "bind_BakA_BclxLM",
            "target_arrow_shape": "triangle"
           }
          },
          {
           "data": {
            "arrowhead": "normal",
            "id": "1aeac794-2970-4849-a6f9-8a30a9603777",
            "source": "s15",
            "source_arrow_fill": "hollow",
            "source_arrow_shape": "triangle",
            "target": "bind_BadM_BclxLM",
            "target_arrow_shape": "triangle"
           }
          },
          {
           "data": {
            "arrowhead": "normal",
            "id": "7853623f-de8f-476a-af02-542d524bc851",
            "source": "s16",
            "source_arrow_fill": "hollow",
            "source_arrow_shape": "triangle",
            "target": "bind_BidM_Mcl1M",
            "target_arrow_shape": "triangle"
           }
          },
          {
           "data": {
            "arrowhead": "normal",
            "id": "2de1ff38-2a2c-406a-ad86-9031084ec4b2",
            "source": "s16",
            "source_arrow_fill": "hollow",
            "source_arrow_shape": "triangle",
            "target": "bind_BakA_Mcl1M",
            "target_arrow_shape": "triangle"
           }
          },
          {
           "data": {
            "arrowhead": "normal",
            "id": "a4b0432b-3ad8-4240-a6e7-15014402e27e",
            "source": "s16",
            "source_arrow_fill": "hollow",
            "source_arrow_shape": "triangle",
            "target": "bind_NoxaM_Mcl1M",
            "target_arrow_shape": "triangle"
           }
          },
          {
           "data": {
            "arrowhead": "normal",
            "id": "2b6b0f3b-15a8-4506-9ad4-0be6f4182e7f",
            "source": "s17",
            "source_arrow_fill": "hollow",
            "source_arrow_shape": "triangle",
            "target": "bind_BadM_Bcl2",
            "target_arrow_shape": "triangle"
           }
          },
          {
           "data": {
            "arrowhead": "normal",
            "id": "4a400492-b349-4876-a103-1e39dde36791",
            "source": "s17",
            "source_arrow_fill": "hollow",
            "source_arrow_shape": "triangle",
            "target": "bind_BadM_BclxLM",
            "target_arrow_shape": "triangle"
           }
          },
          {
           "data": {
            "arrowhead": "normal",
            "id": "1f6c8cda-b2ca-4e31-a88c-dcd53f548a22",
            "source": "s18",
            "source_arrow_fill": "hollow",
            "source_arrow_shape": "triangle",
            "target": "bind_NoxaM_Mcl1M",
            "target_arrow_shape": "triangle"
           }
          },
          {
           "data": {
            "arrowhead": "normal",
            "id": "3c4b6291-516f-40aa-8664-ce03f7101da4",
            "source": "s19",
            "source_arrow_fill": "hollow",
            "source_arrow_shape": "triangle",
            "target": "pore_transport_complex_BaxA_4_CytoCM",
            "target_arrow_shape": "triangle"
           }
          },
          {
           "data": {
            "arrowhead": "normal",
            "id": "bfa6b6b6-3093-4625-986b-c9a76691e5f3",
            "source": "s19",
            "source_arrow_fill": "hollow",
            "source_arrow_shape": "triangle",
            "target": "pore_transport_complex_BakA_4_CytoCM",
            "target_arrow_shape": "triangle"
           }
          },
          {
           "data": {
            "arrowhead": "normal",
            "id": "3716a52b-dab9-40dc-941d-81aea945fb4a",
            "source": "s20",
            "source_arrow_fill": "hollow",
            "source_arrow_shape": "triangle",
            "target": "pore_transport_complex_BaxA_4_SmacM",
            "target_arrow_shape": "triangle"
           }
          },
          {
           "data": {
            "arrowhead": "normal",
            "id": "20b94f1b-87bd-44f2-a1b2-e14f21377635",
            "source": "s20",
            "source_arrow_fill": "hollow",
            "source_arrow_shape": "triangle",
            "target": "pore_transport_complex_BakA_4_SmacM",
            "target_arrow_shape": "triangle"
           }
          },
          {
           "data": {
            "arrowhead": "normal",
            "id": "3c68a453-b5d2-4c93-84a5-4f9fd8e56238",
            "source": "s21",
            "source_arrow_fill": "hollow",
            "source_arrow_shape": "triangle",
            "target": "bind_L_R_to_LR",
            "target_arrow_shape": "triangle"
           }
          },
          {
           "data": {
            "arrowhead": "normal",
            "id": "79d90ba2-8e76-48fa-99e7-7c8c22528877",
            "source": "s21",
            "source_arrow_fill": "filled",
            "source_arrow_shape": "none",
            "target": "convert_LR_to_DISC",
            "target_arrow_shape": "triangle"
           }
          },
          {
           "data": {
            "arrowhead": "normal",
            "id": "419abb94-1886-4ed3-80fd-9ece8a3a96a9",
            "source": "s22",
            "source_arrow_fill": "hollow",
            "source_arrow_shape": "triangle",
            "target": "bind_BadM_Bcl2",
            "target_arrow_shape": "triangle"
           }
          },
          {
           "data": {
            "arrowhead": "normal",
            "id": "aefdf7a9-87f9-43a5-8abd-154e2a84bf48",
            "source": "s23",
            "source_arrow_fill": "hollow",
            "source_arrow_shape": "triangle",
            "target": "bind_BadM_BclxLM",
            "target_arrow_shape": "triangle"
           }
          },
          {
           "data": {
            "arrowhead": "normal",
            "id": "e4a6d923-11ca-4def-953f-b80ed4e0a7b2",
            "source": "s24",
            "source_arrow_fill": "hollow",
            "source_arrow_shape": "triangle",
            "target": "bind_NoxaM_Mcl1M",
            "target_arrow_shape": "triangle"
           }
          },
          {
           "data": {
            "arrowhead": "normal",
            "id": "63edeeeb-e5eb-4635-a20c-b15f400cb83a",
            "source": "s25",
            "source_arrow_fill": "hollow",
            "source_arrow_shape": "triangle",
            "target": "bind_DISC_C8pro_to_DISCC8pro",
            "target_arrow_shape": "triangle"
           }
          },
          {
           "data": {
            "arrowhead": "normal",
            "id": "196d9506-fffd-4290-9227-2ffbb15324ca",
            "source": "s25",
            "source_arrow_fill": "hollow",
            "source_arrow_shape": "triangle",
            "target": "bind_DISC_flip",
            "target_arrow_shape": "triangle"
           }
          },
          {
           "data": {
            "arrowhead": "normal",
            "id": "aafa2ad7-329a-45cc-936c-af60916b2a8a",
            "source": "s26",
            "source_arrow_fill": "hollow",
            "source_arrow_shape": "triangle",
            "target": "bind_DISC_C8pro_to_DISCC8pro",
            "target_arrow_shape": "triangle"
           }
          },
          {
           "data": {
            "arrowhead": "normal",
            "id": "fb8e1fb6-2884-4008-869f-dd31b3ff6bf1",
            "source": "s26",
            "source_arrow_fill": "filled",
            "source_arrow_shape": "none",
            "target": "catalyze_DISCC8pro_to_DISC_C8A",
            "target_arrow_shape": "triangle"
           }
          },
          {
           "data": {
            "arrowhead": "normal",
            "id": "c48f3c93-9b4c-4e24-a2eb-97d248f6f6c6",
            "source": "s27",
            "source_arrow_fill": "hollow",
            "source_arrow_shape": "triangle",
            "target": "bind_DISC_flip",
            "target_arrow_shape": "triangle"
           }
          },
          {
           "data": {
            "arrowhead": "normal",
            "id": "7bf644c1-75b2-4102-b37c-11b221b8b9f5",
            "source": "s28",
            "source_arrow_fill": "hollow",
            "source_arrow_shape": "triangle",
            "target": "bind_C8A_BidU_to_C8ABidU",
            "target_arrow_shape": "triangle"
           }
          },
          {
           "data": {
            "arrowhead": "normal",
            "id": "407875f5-e546-4b6e-9e26-46f4687c252d",
            "source": "s28",
            "source_arrow_fill": "hollow",
            "source_arrow_shape": "triangle",
            "target": "bind_BAR_C8A",
            "target_arrow_shape": "triangle"
           }
          },
          {
           "data": {
            "arrowhead": "normal",
            "id": "fc8ae250-c83c-427a-b3f1-53123267db33",
            "source": "s28",
            "source_arrow_fill": "hollow",
            "source_arrow_shape": "triangle",
            "target": "bind_C8A_C3pro_to_C8AC3pro",
            "target_arrow_shape": "triangle"
           }
          },
          {
           "data": {
            "arrowhead": "normal",
            "id": "1b7b557a-d1e1-4a52-be28-71b40fb5e865",
            "source": "s29",
            "source_arrow_fill": "hollow",
            "source_arrow_shape": "triangle",
            "target": "bind_C8A_BidU_to_C8ABidU",
            "target_arrow_shape": "triangle"
           }
          },
          {
           "data": {
            "arrowhead": "normal",
            "id": "7194c5b2-4f9f-4d87-bfe3-c968aa8d954c",
            "source": "s29",
            "source_arrow_fill": "filled",
            "source_arrow_shape": "none",
            "target": "catalyze_C8ABidU_to_C8A_BidT",
            "target_arrow_shape": "triangle"
           }
          },
          {
           "data": {
            "arrowhead": "normal",
            "id": "a5b0f964-cbd7-4de3-bf79-e53b1910fc61",
            "source": "s30",
            "source_arrow_fill": "hollow",
            "source_arrow_shape": "triangle",
            "target": "bind_BAR_C8A",
            "target_arrow_shape": "triangle"
           }
          },
          {
           "data": {
            "arrowhead": "normal",
            "id": "8b03f05a-baf2-4c51-bf1f-a6bb6789a720",
            "source": "s31",
            "source_arrow_fill": "hollow",
            "source_arrow_shape": "triangle",
            "target": "bind_C8A_C3pro_to_C8AC3pro",
            "target_arrow_shape": "triangle"
           }
          },
          {
           "data": {
            "arrowhead": "normal",
            "id": "f4e7227d-9b76-42dd-aa1f-36e7767a59ef",
            "source": "s31",
            "source_arrow_fill": "filled",
            "source_arrow_shape": "none",
            "target": "catalyze_C8AC3pro_to_C8A_C3A",
            "target_arrow_shape": "triangle"
           }
          },
          {
           "data": {
            "arrowhead": "normal",
            "id": "c50a5246-d22a-4207-9e1b-1635e55ddcab",
            "source": "s32",
            "source_arrow_fill": "hollow",
            "source_arrow_shape": "triangle",
            "target": "equilibrate_BidT_to_BidM",
            "target_arrow_shape": "triangle"
           }
          },
          {
           "data": {
            "arrowhead": "normal",
            "id": "e86bf12f-3bb3-4a59-afa6-db154e541593",
            "source": "s33",
            "source_arrow_fill": "hollow",
            "source_arrow_shape": "triangle",
            "target": "bind_XIAP_C3A_to_XIAPC3A",
            "target_arrow_shape": "triangle"
           }
          },
          {
           "data": {
            "arrowhead": "normal",
            "id": "b44fe544-aebc-481f-b18c-e1596cd9f030",
            "source": "s33",
            "source_arrow_fill": "hollow",
            "source_arrow_shape": "triangle",
            "target": "bind_C3A_PARPU_to_C3APARPU",
            "target_arrow_shape": "triangle"
           }
          },
          {
           "data": {
            "arrowhead": "normal",
            "id": "6385879f-c3dc-4aba-a79d-d6bd3700b4e0",
            "source": "s33",
            "source_arrow_fill": "hollow",
            "source_arrow_shape": "triangle",
            "target": "bind_C3A_C6pro_to_C3AC6pro",
            "target_arrow_shape": "triangle"
           }
          },
          {
           "data": {
            "arrowhead": "normal",
            "id": "04920eab-ceb4-4fa9-95e4-559f48e4c148",
            "source": "s34",
            "source_arrow_fill": "hollow",
            "source_arrow_shape": "triangle",
            "target": "bind_XIAP_C3A_to_XIAPC3A",
            "target_arrow_shape": "triangle"
           }
          },
          {
           "data": {
            "arrowhead": "normal",
            "id": "eb333903-3615-484d-aa9b-4f35b68d396d",
            "source": "s34",
            "source_arrow_fill": "filled",
            "source_arrow_shape": "none",
            "target": "catalyze_XIAPC3A_to_XIAP_C3ub",
            "target_arrow_shape": "triangle"
           }
          },
          {
           "data": {
            "arrowhead": "normal",
            "id": "9554c5f7-4bf1-42d5-964c-61309e7fe831",
            "source": "s35",
            "source_arrow_fill": "hollow",
            "source_arrow_shape": "triangle",
            "target": "bind_C3A_PARPU_to_C3APARPU",
            "target_arrow_shape": "triangle"
           }
          },
          {
           "data": {
            "arrowhead": "normal",
            "id": "1f0e28e3-42d9-43ad-9c14-d316050a143e",
            "source": "s35",
            "source_arrow_fill": "filled",
            "source_arrow_shape": "none",
            "target": "catalyze_C3APARPU_to_C3A_PARPC",
            "target_arrow_shape": "triangle"
           }
          },
          {
           "data": {
            "arrowhead": "normal",
            "id": "35f9d3a6-7cb9-479c-bc14-3064ac37915e",
            "source": "s36",
            "source_arrow_fill": "hollow",
            "source_arrow_shape": "triangle",
            "target": "bind_C3A_C6pro_to_C3AC6pro",
            "target_arrow_shape": "triangle"
           }
          },
          {
           "data": {
            "arrowhead": "normal",
            "id": "fee4d138-6391-46c0-8f5e-f5ecb928d966",
            "source": "s36",
            "source_arrow_fill": "filled",
            "source_arrow_shape": "none",
            "target": "catalyze_C3AC6pro_to_C3A_C6A",
            "target_arrow_shape": "triangle"
           }
          },
          {
           "data": {
            "arrowhead": "normal",
            "id": "e39697b2-5deb-4f54-a49d-4e3e657abe6f",
            "source": "s37",
            "source_arrow_fill": "hollow",
            "source_arrow_shape": "triangle",
            "target": "equilibrate_BidT_to_BidM",
            "target_arrow_shape": "triangle"
           }
          },
          {
           "data": {
            "arrowhead": "normal",
            "id": "df4448d6-f8db-454c-9add-0bcf46ff3176",
            "source": "s37",
            "source_arrow_fill": "hollow",
            "source_arrow_shape": "triangle",
            "target": "bind_BidM_BaxC_to_BidMBaxC",
            "target_arrow_shape": "triangle"
           }
          },
          {
           "data": {
            "arrowhead": "normal",
            "id": "92dbc401-f0e6-4d35-b589-7e67ec8cdc16",
            "source": "s37",
            "source_arrow_fill": "hollow",
            "source_arrow_shape": "triangle",
            "target": "bind_BidM_BaxM_to_BidMBaxM",
            "target_arrow_shape": "triangle"
           }
          },
          {
           "data": {
            "arrowhead": "normal",
            "id": "8a3eda0f-8fc6-483f-a644-0dbd9035c28b",
            "source": "s37",
            "source_arrow_fill": "hollow",
            "source_arrow_shape": "triangle",
            "target": "bind_BidM_BakM_to_BidMBakM",
            "target_arrow_shape": "triangle"
           }
          },
          {
           "data": {
            "arrowhead": "normal",
            "id": "36487431-1519-4bf3-bdd5-399da22ca6a6",
            "source": "s37",
            "source_arrow_fill": "hollow",
            "source_arrow_shape": "triangle",
            "target": "bind_BidM_Bcl2M",
            "target_arrow_shape": "triangle"
           }
          },
          {
           "data": {
            "arrowhead": "normal",
            "id": "63bead10-921f-4e37-b838-f89b354489e9",
            "source": "s37",
            "source_arrow_fill": "hollow",
            "source_arrow_shape": "triangle",
            "target": "bind_BidM_BclxLM",
            "target_arrow_shape": "triangle"
           }
          },
          {
           "data": {
            "arrowhead": "normal",
            "id": "8cb2bd86-db14-41d0-966a-4d4a99bf9f20",
            "source": "s37",
            "source_arrow_fill": "hollow",
            "source_arrow_shape": "triangle",
            "target": "bind_BidM_Mcl1M",
            "target_arrow_shape": "triangle"
           }
          },
          {
           "data": {
            "arrowhead": "normal",
            "id": "d1f36ff6-8f6b-4ea9-927e-35b5e9aa7f90",
            "source": "s40",
            "source_arrow_fill": "hollow",
            "source_arrow_shape": "triangle",
            "target": "bind_C6A_C8pro_to_C6AC8pro",
            "target_arrow_shape": "triangle"
           }
          },
          {
           "data": {
            "arrowhead": "normal",
            "id": "97ee2b40-69ac-4570-82e5-838cfce1dc88",
            "source": "s41",
            "source_arrow_fill": "hollow",
            "source_arrow_shape": "triangle",
            "target": "bind_BidM_BaxC_to_BidMBaxC",
            "target_arrow_shape": "triangle"
           }
          },
          {
           "data": {
            "arrowhead": "normal",
            "id": "8c509680-34f6-4430-8c57-612b09d869b6",
            "source": "s41",
            "source_arrow_fill": "filled",
            "source_arrow_shape": "none",
            "target": "catalyze_BidMBaxC_to_BidM_BaxM",
            "target_arrow_shape": "triangle"
           }
          },
          {
           "data": {
            "arrowhead": "normal",
            "id": "0f776e5c-d497-4bc5-a0a5-df339c0891e2",
            "source": "s42",
            "source_arrow_fill": "hollow",
            "source_arrow_shape": "triangle",
            "target": "bind_BidM_BakM_to_BidMBakM",
            "target_arrow_shape": "triangle"
           }
          },
          {
           "data": {
            "arrowhead": "normal",
            "id": "27270e9b-6bec-4aed-86b9-bb30edea6a8b",
            "source": "s42",
            "source_arrow_fill": "filled",
            "source_arrow_shape": "none",
            "target": "catalyze_BidMBakM_to_BidM_BakA",
            "target_arrow_shape": "triangle"
           }
          },
          {
           "data": {
            "arrowhead": "normal",
            "id": "b5f45225-e3ae-46d3-894b-cc1092c5b092",
            "source": "s43",
            "source_arrow_fill": "hollow",
            "source_arrow_shape": "triangle",
            "target": "bind_BidM_Bcl2M",
            "target_arrow_shape": "triangle"
           }
          },
          {
           "data": {
            "arrowhead": "normal",
            "id": "b21bf09e-2dc6-43ef-a57b-45edf5d70872",
            "source": "s44",
            "source_arrow_fill": "hollow",
            "source_arrow_shape": "triangle",
            "target": "bind_BidM_BclxLM",
            "target_arrow_shape": "triangle"
           }
          },
          {
           "data": {
            "arrowhead": "normal",
            "id": "9bf48ad5-085c-408d-9faa-347a84e173bd",
            "source": "s45",
            "source_arrow_fill": "hollow",
            "source_arrow_shape": "triangle",
            "target": "bind_BidM_Mcl1M",
            "target_arrow_shape": "triangle"
           }
          },
          {
           "data": {
            "arrowhead": "normal",
            "id": "9e250468-3924-4816-9e27-839ac852bbcf",
            "source": "s46",
            "source_arrow_fill": "hollow",
            "source_arrow_shape": "triangle",
            "target": "bind_C6A_C8pro_to_C6AC8pro",
            "target_arrow_shape": "triangle"
           }
          },
          {
           "data": {
            "arrowhead": "normal",
            "id": "8563b7c4-ac66-464d-aaaa-209589d6bbc1",
            "source": "s46",
            "source_arrow_fill": "filled",
            "source_arrow_shape": "none",
            "target": "catalyze_C6AC8pro_to_C6A_C8A",
            "target_arrow_shape": "triangle"
           }
          },
          {
           "data": {
            "arrowhead": "normal",
            "id": "e5f93d95-d9e2-427a-9fa9-7f2db70eefb3",
            "source": "s47",
            "source_arrow_fill": "hollow",
            "source_arrow_shape": "triangle",
            "target": "bind_BidM_BaxM_to_BidMBaxM",
            "target_arrow_shape": "triangle"
           }
          },
          {
           "data": {
            "arrowhead": "normal",
            "id": "3b8f3e69-53b0-4100-b4ac-9559ff498849",
            "source": "s47",
            "source_arrow_fill": "hollow",
            "source_arrow_shape": "triangle",
            "target": "bind_BaxA_BaxM_to_BaxABaxM",
            "target_arrow_shape": "triangle"
           }
          },
          {
           "data": {
            "arrowhead": "normal",
            "id": "2e6079a0-ab8e-4017-bffa-89950f4ae2ee",
            "source": "s48",
            "source_arrow_fill": "hollow",
            "source_arrow_shape": "triangle",
            "target": "bind_BakA_BakM_to_BakABakM",
            "target_arrow_shape": "triangle"
           }
          },
          {
           "data": {
            "arrowhead": "normal",
            "id": "9842535b-9167-4c6d-b601-c1aad3aea38a",
            "source": "s48",
            "source_arrow_fill": "hollow",
            "source_arrow_shape": "triangle",
            "target": "bind_BakA_BclxLM",
            "target_arrow_shape": "triangle"
           }
          },
          {
           "data": {
            "arrowhead": "normal",
            "id": "dde7df5c-1c9b-4f41-a250-2a35de5b5f27",
            "source": "s48",
            "source_arrow_fill": "hollow",
            "source_arrow_shape": "triangle",
            "target": "bind_BakA_Mcl1M",
            "target_arrow_shape": "triangle"
           }
          },
          {
           "data": {
            "arrowhead": "normal",
            "id": "f57c63c3-8696-4dd4-af5e-d475a7ed9091",
            "source": "s48",
            "source_arrow_fill": "hollow",
            "source_arrow_shape": "triangle",
            "target": "assemble_pore_sequential_Bak_2",
            "target_arrow_shape": "triangle"
           }
          },
          {
           "data": {
            "arrowhead": "normal",
            "id": "af1b8d18-05b9-420d-8faf-f4094205929a",
            "source": "s48",
            "source_arrow_fill": "hollow",
            "source_arrow_shape": "triangle",
            "target": "assemble_pore_sequential_Bak_3",
            "target_arrow_shape": "triangle"
           }
          },
          {
           "data": {
            "arrowhead": "normal",
            "id": "cd99694f-8b9e-465c-96d4-57e70cc64e81",
            "source": "s48",
            "source_arrow_fill": "hollow",
            "source_arrow_shape": "triangle",
            "target": "assemble_pore_sequential_Bak_4",
            "target_arrow_shape": "triangle"
           }
          },
          {
           "data": {
            "arrowhead": "normal",
            "id": "4b72d3a9-7810-47ca-8718-54b2c80bf11c",
            "source": "s49",
            "source_arrow_fill": "hollow",
            "source_arrow_shape": "triangle",
            "target": "bind_BidM_BaxM_to_BidMBaxM",
            "target_arrow_shape": "triangle"
           }
          },
          {
           "data": {
            "arrowhead": "normal",
            "id": "c0152c61-1f95-4ccc-86d7-cf79f08f2e91",
            "source": "s49",
            "source_arrow_fill": "filled",
            "source_arrow_shape": "none",
            "target": "catalyze_BidMBaxM_to_BidM_BaxA",
            "target_arrow_shape": "triangle"
           }
          },
          {
           "data": {
            "arrowhead": "normal",
            "id": "52df379a-fc38-48e1-a599-feba716b0595",
            "source": "s50",
            "source_arrow_fill": "hollow",
            "source_arrow_shape": "triangle",
            "target": "bind_BakA_BakM_to_BakABakM",
            "target_arrow_shape": "triangle"
           }
          },
          {
           "data": {
            "arrowhead": "normal",
            "id": "81dd8996-1df8-4420-8beb-96b2ad1159d2",
            "source": "s50",
            "source_arrow_fill": "filled",
            "source_arrow_shape": "none",
            "target": "catalyze_BakABakM_to_BakA_BakA",
            "target_arrow_shape": "triangle"
           }
          },
          {
           "data": {
            "arrowhead": "normal",
            "id": "b337b69f-a209-4400-9e90-6c90a507ef68",
            "source": "s51",
            "source_arrow_fill": "hollow",
            "source_arrow_shape": "triangle",
            "target": "bind_BakA_BclxLM",
            "target_arrow_shape": "triangle"
           }
          },
          {
           "data": {
            "arrowhead": "normal",
            "id": "3038759b-6cf1-4710-b7f8-e5e7173d98c5",
            "source": "s52",
            "source_arrow_fill": "hollow",
            "source_arrow_shape": "triangle",
            "target": "bind_BakA_Mcl1M",
            "target_arrow_shape": "triangle"
           }
          },
          {
           "data": {
            "arrowhead": "normal",
            "id": "17ba5eec-59a4-433b-81a9-41f355093bbc",
            "source": "s53",
            "source_arrow_fill": "hollow",
            "source_arrow_shape": "triangle",
            "target": "assemble_pore_sequential_Bak_2",
            "target_arrow_shape": "triangle"
           }
          },
          {
           "data": {
            "arrowhead": "normal",
            "id": "bca11403-55a8-4bf1-8ea7-91615257c5eb",
            "source": "s53",
            "source_arrow_fill": "hollow",
            "source_arrow_shape": "triangle",
            "target": "assemble_pore_sequential_Bak_3",
            "target_arrow_shape": "triangle"
           }
          },
          {
           "data": {
            "arrowhead": "normal",
            "id": "ff790dea-dc27-4b7e-9617-b83f609381e4",
            "source": "s54",
            "source_arrow_fill": "hollow",
            "source_arrow_shape": "triangle",
            "target": "bind_BaxA_BaxM_to_BaxABaxM",
            "target_arrow_shape": "triangle"
           }
          },
          {
           "data": {
            "arrowhead": "normal",
            "id": "52c1ee51-b955-4279-baa0-318e50b77c14",
            "source": "s54",
            "source_arrow_fill": "hollow",
            "source_arrow_shape": "triangle",
            "target": "bind_BaxA_Bcl2",
            "target_arrow_shape": "triangle"
           }
          },
          {
           "data": {
            "arrowhead": "normal",
            "id": "ad45de66-0dc9-487c-ae27-c98e58edb8fe",
            "source": "s54",
            "source_arrow_fill": "hollow",
            "source_arrow_shape": "triangle",
            "target": "bind_BaxA_BclxLM",
            "target_arrow_shape": "triangle"
           }
          },
          {
           "data": {
            "arrowhead": "normal",
            "id": "9876996c-7389-4bcf-8e57-acb6c5b989f6",
            "source": "s54",
            "source_arrow_fill": "hollow",
            "source_arrow_shape": "triangle",
            "target": "assemble_pore_sequential_Bax_2",
            "target_arrow_shape": "triangle"
           }
          },
          {
           "data": {
            "arrowhead": "normal",
            "id": "f035968c-5acc-4519-a12a-2c3ca65e88f8",
            "source": "s54",
            "source_arrow_fill": "hollow",
            "source_arrow_shape": "triangle",
            "target": "assemble_pore_sequential_Bax_3",
            "target_arrow_shape": "triangle"
           }
          },
          {
           "data": {
            "arrowhead": "normal",
            "id": "7d8f17fd-9e9b-4a5a-9ef1-c2aa75bc71bc",
            "source": "s54",
            "source_arrow_fill": "hollow",
            "source_arrow_shape": "triangle",
            "target": "assemble_pore_sequential_Bax_4",
            "target_arrow_shape": "triangle"
           }
          },
          {
           "data": {
            "arrowhead": "normal",
            "id": "5604c30e-3360-46b5-97d1-810685dcce26",
            "source": "s55",
            "source_arrow_fill": "hollow",
            "source_arrow_shape": "triangle",
            "target": "assemble_pore_sequential_Bak_3",
            "target_arrow_shape": "triangle"
           }
          },
          {
           "data": {
            "arrowhead": "normal",
            "id": "de0ca4de-4fff-404a-8a82-1516f9ca3648",
            "source": "s55",
            "source_arrow_fill": "hollow",
            "source_arrow_shape": "triangle",
            "target": "assemble_pore_sequential_Bak_4",
            "target_arrow_shape": "triangle"
           }
          },
          {
           "data": {
            "arrowhead": "normal",
            "id": "3c049af9-3750-423a-846e-74471e75a604",
            "source": "s56",
            "source_arrow_fill": "hollow",
            "source_arrow_shape": "triangle",
            "target": "bind_BaxA_BaxM_to_BaxABaxM",
            "target_arrow_shape": "triangle"
           }
          },
          {
           "data": {
            "arrowhead": "normal",
            "id": "c7b96a6a-54cf-4351-8e8d-72a3f622106b",
            "source": "s56",
            "source_arrow_fill": "filled",
            "source_arrow_shape": "none",
            "target": "catalyze_BaxABaxM_to_BaxA_BaxA",
            "target_arrow_shape": "triangle"
           }
          },
          {
           "data": {
            "arrowhead": "normal",
            "id": "f4b27470-8be8-4f3b-a715-9c2fb35e2c6e",
            "source": "s57",
            "source_arrow_fill": "hollow",
            "source_arrow_shape": "triangle",
            "target": "bind_BaxA_Bcl2",
            "target_arrow_shape": "triangle"
           }
          },
          {
           "data": {
            "arrowhead": "normal",
            "id": "95d19c5d-17e0-4b9f-abad-d9c64324fa9d",
            "source": "s58",
            "source_arrow_fill": "hollow",
            "source_arrow_shape": "triangle",
            "target": "bind_BaxA_BclxLM",
            "target_arrow_shape": "triangle"
           }
          },
          {
           "data": {
            "arrowhead": "normal",
            "id": "64a7ca2c-68c4-4717-9604-a0ac1982cb58",
            "source": "s59",
            "source_arrow_fill": "hollow",
            "source_arrow_shape": "triangle",
            "target": "assemble_pore_sequential_Bax_2",
            "target_arrow_shape": "triangle"
           }
          },
          {
           "data": {
            "arrowhead": "normal",
            "id": "8a856b32-1caf-4693-aa07-be01ca732493",
            "source": "s59",
            "source_arrow_fill": "hollow",
            "source_arrow_shape": "triangle",
            "target": "assemble_pore_sequential_Bax_3",
            "target_arrow_shape": "triangle"
           }
          },
          {
           "data": {
            "arrowhead": "normal",
            "id": "a0ba07be-af61-4506-9737-253b4c843970",
            "source": "s60",
            "source_arrow_fill": "hollow",
            "source_arrow_shape": "triangle",
            "target": "assemble_pore_sequential_Bak_4",
            "target_arrow_shape": "triangle"
           }
          },
          {
           "data": {
            "arrowhead": "normal",
            "id": "fbde8822-e727-4c89-830a-df948fb909cf",
            "source": "s60",
            "source_arrow_fill": "hollow",
            "source_arrow_shape": "triangle",
            "target": "pore_transport_complex_BakA_4_CytoCM",
            "target_arrow_shape": "triangle"
           }
          },
          {
           "data": {
            "arrowhead": "normal",
            "id": "68c6e185-4c9c-4284-991b-7eabdce6e45d",
            "source": "s60",
            "source_arrow_fill": "hollow",
            "source_arrow_shape": "triangle",
            "target": "pore_transport_complex_BakA_4_SmacM",
            "target_arrow_shape": "triangle"
           }
          },
          {
           "data": {
            "arrowhead": "normal",
            "id": "54f613f7-10e2-4560-9a2c-7caff1f6204b",
            "source": "s61",
            "source_arrow_fill": "hollow",
            "source_arrow_shape": "triangle",
            "target": "assemble_pore_sequential_Bax_3",
            "target_arrow_shape": "triangle"
           }
          },
          {
           "data": {
            "arrowhead": "normal",
            "id": "f3b1ae5c-de9a-4731-bd5f-56a12f92dc90",
            "source": "s61",
            "source_arrow_fill": "hollow",
            "source_arrow_shape": "triangle",
            "target": "assemble_pore_sequential_Bax_4",
            "target_arrow_shape": "triangle"
           }
          },
          {
           "data": {
            "arrowhead": "normal",
            "id": "ba732230-579f-4df1-bef4-2da2508fd4c4",
            "source": "s62",
            "source_arrow_fill": "hollow",
            "source_arrow_shape": "triangle",
            "target": "pore_transport_complex_BakA_4_CytoCM",
            "target_arrow_shape": "triangle"
           }
          },
          {
           "data": {
            "arrowhead": "normal",
            "id": "a2cd314b-b79a-480a-9299-d75688cde4f5",
            "source": "s62",
            "source_arrow_fill": "filled",
            "source_arrow_shape": "none",
            "target": "pore_transport_dissociate_BakA_4_CytoCC",
            "target_arrow_shape": "triangle"
           }
          },
          {
           "data": {
            "arrowhead": "normal",
            "id": "866099ce-c041-4155-b7ae-bbe1fc36f119",
            "source": "s63",
            "source_arrow_fill": "hollow",
            "source_arrow_shape": "triangle",
            "target": "pore_transport_complex_BakA_4_SmacM",
            "target_arrow_shape": "triangle"
           }
          },
          {
           "data": {
            "arrowhead": "normal",
            "id": "a142f90c-9866-4a9a-beac-643c62194400",
            "source": "s63",
            "source_arrow_fill": "filled",
            "source_arrow_shape": "none",
            "target": "pore_transport_dissociate_BakA_4_SmacC",
            "target_arrow_shape": "triangle"
           }
          },
          {
           "data": {
            "arrowhead": "normal",
            "id": "f692c82f-b2e4-4305-b2e5-3a384b37581c",
            "source": "s64",
            "source_arrow_fill": "hollow",
            "source_arrow_shape": "triangle",
            "target": "assemble_pore_sequential_Bax_4",
            "target_arrow_shape": "triangle"
           }
          },
          {
           "data": {
            "arrowhead": "normal",
            "id": "953cd7c4-7253-4e5d-9a31-0fd8d210af6b",
            "source": "s64",
            "source_arrow_fill": "hollow",
            "source_arrow_shape": "triangle",
            "target": "pore_transport_complex_BaxA_4_CytoCM",
            "target_arrow_shape": "triangle"
           }
          },
          {
           "data": {
            "arrowhead": "normal",
            "id": "313be5fa-f3fd-426c-a876-073b93f1a6b6",
            "source": "s64",
            "source_arrow_fill": "hollow",
            "source_arrow_shape": "triangle",
            "target": "pore_transport_complex_BaxA_4_SmacM",
            "target_arrow_shape": "triangle"
           }
          },
          {
           "data": {
            "arrowhead": "normal",
            "id": "2aee865e-3de9-490f-bc3b-e6aa4d99726a",
            "source": "s65",
            "source_arrow_fill": "hollow",
            "source_arrow_shape": "triangle",
            "target": "equilibrate_CytoCC_to_CytoCA",
            "target_arrow_shape": "triangle"
           }
          },
          {
           "data": {
            "arrowhead": "normal",
            "id": "0ae31de7-2580-4dde-a123-a3a643a95fba",
            "source": "s66",
            "source_arrow_fill": "hollow",
            "source_arrow_shape": "triangle",
            "target": "equilibrate_SmacC_to_SmacA",
            "target_arrow_shape": "triangle"
           }
          },
          {
           "data": {
            "arrowhead": "normal",
            "id": "c13c4693-e7ab-4885-a961-8eebf13f6b67",
            "source": "s67",
            "source_arrow_fill": "hollow",
            "source_arrow_shape": "triangle",
            "target": "equilibrate_SmacC_to_SmacA",
            "target_arrow_shape": "triangle"
           }
          },
          {
           "data": {
            "arrowhead": "normal",
            "id": "c46012e4-317d-403a-b5dc-962471550fd5",
            "source": "s67",
            "source_arrow_fill": "hollow",
            "source_arrow_shape": "triangle",
            "target": "bind_SmacA_XIAP",
            "target_arrow_shape": "triangle"
           }
          },
          {
           "data": {
            "arrowhead": "normal",
            "id": "d89e265c-47c0-4c14-9457-6b98212c59c4",
            "source": "s68",
            "source_arrow_fill": "hollow",
            "source_arrow_shape": "triangle",
            "target": "equilibrate_CytoCC_to_CytoCA",
            "target_arrow_shape": "triangle"
           }
          },
          {
           "data": {
            "arrowhead": "normal",
            "id": "e6d45d14-b2cf-4739-ae1d-da721e88a97f",
            "source": "s68",
            "source_arrow_fill": "hollow",
            "source_arrow_shape": "triangle",
            "target": "bind_CytoCA_ApafI_to_CytoCAApafI",
            "target_arrow_shape": "triangle"
           }
          },
          {
           "data": {
            "arrowhead": "normal",
            "id": "1ae0203c-9dd3-4529-85d3-d7170df14458",
            "source": "s69",
            "source_arrow_fill": "hollow",
            "source_arrow_shape": "triangle",
            "target": "pore_transport_complex_BaxA_4_CytoCM",
            "target_arrow_shape": "triangle"
           }
          },
          {
           "data": {
            "arrowhead": "normal",
            "id": "310f75e6-803a-4a87-8ecc-aa536d8f49cc",
            "source": "s69",
            "source_arrow_fill": "filled",
            "source_arrow_shape": "none",
            "target": "pore_transport_dissociate_BaxA_4_CytoCC",
            "target_arrow_shape": "triangle"
           }
          },
          {
           "data": {
            "arrowhead": "normal",
            "id": "e7c34ed0-ddcd-483d-a0f1-e7a965e67767",
            "source": "s70",
            "source_arrow_fill": "hollow",
            "source_arrow_shape": "triangle",
            "target": "pore_transport_complex_BaxA_4_SmacM",
            "target_arrow_shape": "triangle"
           }
          },
          {
           "data": {
            "arrowhead": "normal",
            "id": "66464275-b2dd-457e-96f2-e7eba7fdbabb",
            "source": "s70",
            "source_arrow_fill": "filled",
            "source_arrow_shape": "none",
            "target": "pore_transport_dissociate_BaxA_4_SmacC",
            "target_arrow_shape": "triangle"
           }
          },
          {
           "data": {
            "arrowhead": "normal",
            "id": "d0019c4e-af4b-41e9-9219-88f9adb39594",
            "source": "s71",
            "source_arrow_fill": "hollow",
            "source_arrow_shape": "triangle",
            "target": "bind_CytoCA_ApafI_to_CytoCAApafI",
            "target_arrow_shape": "triangle"
           }
          },
          {
           "data": {
            "arrowhead": "normal",
            "id": "d038ac4b-1b94-4025-9a25-836905457853",
            "source": "s71",
            "source_arrow_fill": "filled",
            "source_arrow_shape": "none",
            "target": "catalyze_CytoCAApafI_to_CytoCA_ApafA",
            "target_arrow_shape": "triangle"
           }
          },
          {
           "data": {
            "arrowhead": "normal",
            "id": "fd3f0719-22d6-4931-88e9-31362b6cdc92",
            "source": "s72",
            "source_arrow_fill": "hollow",
            "source_arrow_shape": "triangle",
            "target": "bind_SmacA_XIAP",
            "target_arrow_shape": "triangle"
           }
          },
          {
           "data": {
            "arrowhead": "normal",
            "id": "69282105-ee33-4b98-a55e-3f29cb472e7d",
            "source": "s73",
            "source_arrow_fill": "hollow",
            "source_arrow_shape": "triangle",
            "target": "convert_ApafA_C9_to_Apop",
            "target_arrow_shape": "triangle"
           }
          },
          {
           "data": {
            "arrowhead": "normal",
            "id": "c2174759-f48c-4c9b-b59b-c8096991fff2",
            "source": "s74",
            "source_arrow_fill": "hollow",
            "source_arrow_shape": "triangle",
            "target": "convert_ApafA_C9_to_Apop",
            "target_arrow_shape": "triangle"
           }
          },
          {
           "data": {
            "arrowhead": "normal",
            "id": "8c515faa-6445-42ae-9410-40fc8aee606f",
            "source": "s74",
            "source_arrow_fill": "hollow",
            "source_arrow_shape": "triangle",
            "target": "bind_Apop_C3pro_to_ApopC3pro",
            "target_arrow_shape": "triangle"
           }
          },
          {
           "data": {
            "arrowhead": "normal",
            "id": "c3749653-ea28-4024-81e7-26376cc15be0",
            "source": "s74",
            "source_arrow_fill": "hollow",
            "source_arrow_shape": "triangle",
            "target": "bind_Apop_XIAP",
            "target_arrow_shape": "triangle"
           }
          },
          {
           "data": {
            "arrowhead": "normal",
            "id": "10a6731d-8cc8-4bf4-bd86-241d75e2499b",
            "source": "s75",
            "source_arrow_fill": "hollow",
            "source_arrow_shape": "triangle",
            "target": "bind_Apop_C3pro_to_ApopC3pro",
            "target_arrow_shape": "triangle"
           }
          },
          {
           "data": {
            "arrowhead": "normal",
            "id": "f7cb1c8c-a74c-48c2-9306-7e1b83ea3adb",
            "source": "s75",
            "source_arrow_fill": "filled",
            "source_arrow_shape": "none",
            "target": "catalyze_ApopC3pro_to_Apop_C3A",
            "target_arrow_shape": "triangle"
           }
          },
          {
           "data": {
            "arrowhead": "normal",
            "id": "5839e566-d010-40fe-b970-2c380445da3f",
            "source": "s76",
            "source_arrow_fill": "hollow",
            "source_arrow_shape": "triangle",
            "target": "bind_Apop_XIAP",
            "target_arrow_shape": "triangle"
           }
          },
          {
           "data": {
            "arrowhead": "normal",
            "id": "0d1b06e2-05a6-4adf-9aa7-441b674a5875",
            "source": "convert_LR_to_DISC",
            "source_arrow_fill": "filled",
            "source_arrow_shape": "none",
            "target": "s25",
            "target_arrow_shape": "triangle"
           }
          },
          {
           "data": {
            "arrowhead": "normal",
            "id": "22f50787-14c4-4f38-8358-fd3033b53527",
            "source": "catalyze_DISCC8pro_to_DISC_C8A",
            "source_arrow_fill": "filled",
            "source_arrow_shape": "none",
            "target": "s25",
            "target_arrow_shape": "triangle"
           }
          },
          {
           "data": {
            "arrowhead": "normal",
            "id": "e4c06347-f044-437e-b664-67ee51b477fa",
            "source": "catalyze_DISCC8pro_to_DISC_C8A",
            "source_arrow_fill": "filled",
            "source_arrow_shape": "none",
            "target": "s28",
            "target_arrow_shape": "triangle"
           }
          },
          {
           "data": {
            "arrowhead": "normal",
            "id": "4d1ca94d-00e5-4f86-9414-1d3d9d8972e5",
            "source": "catalyze_C8ABidU_to_C8A_BidT",
            "source_arrow_fill": "filled",
            "source_arrow_shape": "none",
            "target": "s32",
            "target_arrow_shape": "triangle"
           }
          },
          {
           "data": {
            "arrowhead": "normal",
            "id": "d65146ce-0c37-48bc-ad7f-378b3374795a",
            "source": "catalyze_C8ABidU_to_C8A_BidT",
            "source_arrow_fill": "filled",
            "source_arrow_shape": "none",
            "target": "s28",
            "target_arrow_shape": "triangle"
           }
          },
          {
           "data": {
            "arrowhead": "normal",
            "id": "ff820f7a-54f9-482d-8e60-c22d32598b64",
            "source": "catalyze_CytoCAApafI_to_CytoCA_ApafA",
            "source_arrow_fill": "filled",
            "source_arrow_shape": "none",
            "target": "s73",
            "target_arrow_shape": "triangle"
           }
          },
          {
           "data": {
            "arrowhead": "normal",
            "id": "fbe1dcf1-bc2e-4ac3-8142-ef9694b542c3",
            "source": "catalyze_CytoCAApafI_to_CytoCA_ApafA",
            "source_arrow_fill": "filled",
            "source_arrow_shape": "none",
            "target": "s68",
            "target_arrow_shape": "triangle"
           }
          },
          {
           "data": {
            "arrowhead": "normal",
            "id": "8c12a0f7-2455-4221-bfc7-acd565f56cf5",
            "source": "catalyze_ApopC3pro_to_Apop_C3A",
            "source_arrow_fill": "filled",
            "source_arrow_shape": "none",
            "target": "s33",
            "target_arrow_shape": "triangle"
           }
          },
          {
           "data": {
            "arrowhead": "normal",
            "id": "468ed695-8575-4377-80eb-8ffe43698db1",
            "source": "catalyze_ApopC3pro_to_Apop_C3A",
            "source_arrow_fill": "filled",
            "source_arrow_shape": "none",
            "target": "s74",
            "target_arrow_shape": "triangle"
           }
          },
          {
           "data": {
            "arrowhead": "normal",
            "id": "022bb2bd-9344-48b0-bc32-dfb553b21cfd",
            "source": "catalyze_C8AC3pro_to_C8A_C3A",
            "source_arrow_fill": "filled",
            "source_arrow_shape": "none",
            "target": "s33",
            "target_arrow_shape": "triangle"
           }
          },
          {
           "data": {
            "arrowhead": "normal",
            "id": "f10a7d03-2cad-4b2e-80c3-9b36e9283ecd",
            "source": "catalyze_C8AC3pro_to_C8A_C3A",
            "source_arrow_fill": "filled",
            "source_arrow_shape": "none",
            "target": "s28",
            "target_arrow_shape": "triangle"
           }
          },
          {
           "data": {
            "arrowhead": "normal",
            "id": "ca9d2372-29f0-4c18-9aef-f3da5cce74cf",
            "source": "catalyze_XIAPC3A_to_XIAP_C3ub",
            "source_arrow_fill": "filled",
            "source_arrow_shape": "none",
            "target": "s10",
            "target_arrow_shape": "triangle"
           }
          },
          {
           "data": {
            "arrowhead": "normal",
            "id": "695eb8c2-b70e-4898-9a15-9a6796986f8e",
            "source": "catalyze_XIAPC3A_to_XIAP_C3ub",
            "source_arrow_fill": "filled",
            "source_arrow_shape": "none",
            "target": "s38",
            "target_arrow_shape": "triangle"
           }
          },
          {
           "data": {
            "arrowhead": "normal",
            "id": "ef8adbb8-8a59-4f6d-9a6d-778d82c4d377",
            "source": "catalyze_C3APARPU_to_C3A_PARPC",
            "source_arrow_fill": "filled",
            "source_arrow_shape": "none",
            "target": "s33",
            "target_arrow_shape": "triangle"
           }
          },
          {
           "data": {
            "arrowhead": "normal",
            "id": "2a238172-6606-40f2-8d0c-0c2170fde1dd",
            "source": "catalyze_C3APARPU_to_C3A_PARPC",
            "source_arrow_fill": "filled",
            "source_arrow_shape": "none",
            "target": "s39",
            "target_arrow_shape": "triangle"
           }
          },
          {
           "data": {
            "arrowhead": "normal",
            "id": "6f9d0848-5c62-4164-a685-3192f2b33a92",
            "source": "catalyze_C3AC6pro_to_C3A_C6A",
            "source_arrow_fill": "filled",
            "source_arrow_shape": "none",
            "target": "s40",
            "target_arrow_shape": "triangle"
           }
          },
          {
           "data": {
            "arrowhead": "normal",
            "id": "9f0605cf-8017-43dd-99c6-bfaaacb2687f",
            "source": "catalyze_C3AC6pro_to_C3A_C6A",
            "source_arrow_fill": "filled",
            "source_arrow_shape": "none",
            "target": "s33",
            "target_arrow_shape": "triangle"
           }
          },
          {
           "data": {
            "arrowhead": "normal",
            "id": "289b7642-7929-4d1f-b0fc-41bb9ed1fe9b",
            "source": "catalyze_C6AC8pro_to_C6A_C8A",
            "source_arrow_fill": "filled",
            "source_arrow_shape": "none",
            "target": "s40",
            "target_arrow_shape": "triangle"
           }
          },
          {
           "data": {
            "arrowhead": "normal",
            "id": "eaeb1697-c3ba-403f-b9b3-8ceda2addaf7",
            "source": "catalyze_C6AC8pro_to_C6A_C8A",
            "source_arrow_fill": "filled",
            "source_arrow_shape": "none",
            "target": "s28",
            "target_arrow_shape": "triangle"
           }
          },
          {
           "data": {
            "arrowhead": "normal",
            "id": "e0cb3ae7-5d99-4687-b17e-748718750cfc",
            "source": "catalyze_BidMBaxC_to_BidM_BaxM",
            "source_arrow_fill": "filled",
            "source_arrow_shape": "none",
            "target": "s37",
            "target_arrow_shape": "triangle"
           }
          },
          {
           "data": {
            "arrowhead": "normal",
            "id": "4639a480-5ea0-4485-b30b-20e13fe9952f",
            "source": "catalyze_BidMBaxC_to_BidM_BaxM",
            "source_arrow_fill": "filled",
            "source_arrow_shape": "none",
            "target": "s47",
            "target_arrow_shape": "triangle"
           }
          },
          {
           "data": {
            "arrowhead": "normal",
            "id": "cd89d56f-969a-4770-909c-1156e7be0b07",
            "source": "catalyze_BidMBaxM_to_BidM_BaxA",
            "source_arrow_fill": "filled",
            "source_arrow_shape": "none",
            "target": "s37",
            "target_arrow_shape": "triangle"
           }
          },
          {
           "data": {
            "arrowhead": "normal",
            "id": "3a1e29ca-c744-4fa9-8eed-e3533a880c2b",
            "source": "catalyze_BidMBaxM_to_BidM_BaxA",
            "source_arrow_fill": "filled",
            "source_arrow_shape": "none",
            "target": "s54",
            "target_arrow_shape": "triangle"
           }
          },
          {
           "data": {
            "arrowhead": "normal",
            "id": "d373a46d-3afd-44af-9eac-d6f753fecb4a",
            "source": "catalyze_BidMBakM_to_BidM_BakA",
            "source_arrow_fill": "filled",
            "source_arrow_shape": "none",
            "target": "s48",
            "target_arrow_shape": "triangle"
           }
          },
          {
           "data": {
            "arrowhead": "normal",
            "id": "7b6a8201-53f9-4bc5-a58c-9070bc5916d4",
            "source": "catalyze_BidMBakM_to_BidM_BakA",
            "source_arrow_fill": "filled",
            "source_arrow_shape": "none",
            "target": "s37",
            "target_arrow_shape": "triangle"
           }
          },
          {
           "data": {
            "arrowhead": "normal",
            "id": "b84550be-95ea-46af-9391-80a9f4b39866",
            "source": "catalyze_BaxABaxM_to_BaxA_BaxA",
            "source_arrow_fill": "filled",
            "source_arrow_shape": "none",
            "target": "s54",
            "target_arrow_shape": "triangle"
           }
          },
          {
           "data": {
            "arrowhead": "normal",
            "id": "a1bb2337-4e50-48fb-a203-deea0abb0a86",
            "source": "catalyze_BakABakM_to_BakA_BakA",
            "source_arrow_fill": "filled",
            "source_arrow_shape": "none",
            "target": "s48",
            "target_arrow_shape": "triangle"
           }
          },
          {
           "data": {
            "arrowhead": "normal",
            "id": "2d1fe558-0641-40de-a20d-1c27ef1514ba",
            "source": "pore_transport_dissociate_BaxA_4_CytoCC",
            "source_arrow_fill": "filled",
            "source_arrow_shape": "none",
            "target": "s64",
            "target_arrow_shape": "triangle"
           }
          },
          {
           "data": {
            "arrowhead": "normal",
            "id": "5c0c159f-77ac-4380-ae19-7685f9320b3c",
            "source": "pore_transport_dissociate_BaxA_4_CytoCC",
            "source_arrow_fill": "filled",
            "source_arrow_shape": "none",
            "target": "s65",
            "target_arrow_shape": "triangle"
           }
          },
          {
           "data": {
            "arrowhead": "normal",
            "id": "a59641a2-3187-44ab-b688-e715f5c61687",
            "source": "pore_transport_dissociate_BaxA_4_SmacC",
            "source_arrow_fill": "filled",
            "source_arrow_shape": "none",
            "target": "s64",
            "target_arrow_shape": "triangle"
           }
          },
          {
           "data": {
            "arrowhead": "normal",
            "id": "61e3d1a5-1419-49fe-a0c5-0706bc612e0d",
            "source": "pore_transport_dissociate_BaxA_4_SmacC",
            "source_arrow_fill": "filled",
            "source_arrow_shape": "none",
            "target": "s66",
            "target_arrow_shape": "triangle"
           }
          },
          {
           "data": {
            "arrowhead": "normal",
            "id": "65f67674-dc3e-48dd-b63b-d5ff73bc374f",
            "source": "pore_transport_dissociate_BakA_4_CytoCC",
            "source_arrow_fill": "filled",
            "source_arrow_shape": "none",
            "target": "s65",
            "target_arrow_shape": "triangle"
           }
          },
          {
           "data": {
            "arrowhead": "normal",
            "id": "befdf8ec-5f36-460d-9468-b965385ae954",
            "source": "pore_transport_dissociate_BakA_4_CytoCC",
            "source_arrow_fill": "filled",
            "source_arrow_shape": "none",
            "target": "s60",
            "target_arrow_shape": "triangle"
           }
          },
          {
           "data": {
            "arrowhead": "normal",
            "id": "f2772d83-f903-48a9-b240-12d5d6e068f7",
            "source": "pore_transport_dissociate_BakA_4_SmacC",
            "source_arrow_fill": "filled",
            "source_arrow_shape": "none",
            "target": "s66",
            "target_arrow_shape": "triangle"
           }
          },
          {
           "data": {
            "arrowhead": "normal",
            "id": "4f84efb1-ebdc-4c02-8da0-754c5e117fb7",
            "source": "pore_transport_dissociate_BakA_4_SmacC",
            "source_arrow_fill": "filled",
            "source_arrow_shape": "none",
            "target": "s60",
            "target_arrow_shape": "triangle"
           }
          }
         ],
         "nodes": [
          {
           "data": {
            "NodeType": "species",
            "background_color": "#aaffff",
            "bipartite": 0,
            "id": "s0",
            "label": "L",
            "name": "s0",
            "shape": "ellipse"
           },
           "position": {
            "x": 555.2504283398466,
            "y": 7014.771710797482
           }
          },
          {
           "data": {
            "NodeType": "species",
            "background_color": "#aaffff",
            "bipartite": 0,
            "id": "s1",
            "label": "R",
            "name": "s1",
            "shape": "ellipse"
           },
           "position": {
            "x": 567.7450890894979,
            "y": 6940.561629882985
           }
          },
          {
           "data": {
            "NodeType": "species",
            "background_color": "#aaffff",
            "bipartite": 0,
            "id": "s2",
            "label": "flip",
            "name": "s2",
            "shape": "ellipse"
           },
           "position": {
            "x": 31,
            "y": 6937.5157870052735
           }
          },
          {
           "data": {
            "NodeType": "species",
            "background_color": "#aaffff",
            "bipartite": 0,
            "id": "s3",
            "label": "proC8",
            "name": "s3",
            "shape": "ellipse"
           },
           "position": {
            "x": 554.647164892499,
            "y": 8487.589515891123
           }
          },
          {
           "data": {
            "NodeType": "species",
            "background_color": "#aaffff",
            "bipartite": 0,
            "id": "s4",
            "label": "BAR",
            "name": "s4",
            "shape": "ellipse"
           },
           "position": {
            "x": 1556.438378208727,
            "y": 10240.570581280988
           }
          },
          {
           "data": {
            "NodeType": "species",
            "background_color": "#aaffff",
            "bipartite": 0,
            "id": "s5",
            "label": "iApaf",
            "name": "s5",
            "shape": "ellipse"
           },
           "position": {
            "x": 536.8557028940031,
            "y": 8238.376603034001
           }
          },
          {
           "data": {
            "NodeType": "species",
            "background_color": "#aaffff",
            "bipartite": 0,
            "id": "s6",
            "label": "proC3",
            "name": "s6",
            "shape": "ellipse"
           },
           "position": {
            "x": 697.104465727296,
            "y": 10050.742572797404
           }
          },
          {
           "data": {
            "NodeType": "species",
            "background_color": "#aaffff",
            "bipartite": 0,
            "id": "s7",
            "label": "proC6",
            "name": "s7",
            "shape": "ellipse"
           },
           "position": {
            "x": 355.2130349288782,
            "y": 7057.579967638714
           }
          },
          {
           "data": {
            "NodeType": "species",
            "background_color": "#aaffff",
            "bipartite": 0,
            "id": "s8",
            "label": "C9",
            "name": "s8",
            "shape": "ellipse"
           },
           "position": {
            "x": 256.4562399175329,
            "y": 7078.0120979598305
           }
          },
          {
           "data": {
            "NodeType": "species",
            "background_color": "#aaffff",
            "bipartite": 0,
            "id": "s9",
            "label": "uPARP",
            "name": "s9",
            "shape": "ellipse"
           },
           "position": {
            "x": 203.7204837397967,
            "y": 7153.016471617144
           }
          },
          {
           "data": {
            "NodeType": "species",
            "background_color": "#aaffff",
            "bipartite": 0,
            "id": "s10",
            "label": "XIAP",
            "name": "s10",
            "shape": "ellipse"
           },
           "position": {
            "x": 387.5443154197237,
            "y": 7186.680217527175
           }
          },
          {
           "data": {
            "NodeType": "species",
            "background_color": "#aaffff",
            "bipartite": 0,
            "id": "s11",
            "label": "uBid",
            "name": "s11",
            "shape": "ellipse"
           },
           "position": {
            "x": 1200.3422578826758,
            "y": 10142.408772816349
           }
          },
          {
           "data": {
            "NodeType": "species",
            "background_color": "#aaffff",
            "bipartite": 0,
            "id": "s12",
            "label": "cBax",
            "name": "s12",
            "shape": "ellipse"
           },
           "position": {
            "x": 2556.7001411586916,
            "y": 401.7675873829521
           }
          },
          {
           "data": {
            "NodeType": "species",
            "background_color": "#aaffff",
            "bipartite": 0,
            "id": "s13",
            "label": "mBak",
            "name": "s13",
            "shape": "ellipse"
           },
           "position": {
            "x": 2331.891722104432,
            "y": 360.4999633983316
           }
          },
          {
           "data": {
            "NodeType": "species",
            "background_color": "#aaffff",
            "bipartite": 0,
            "id": "s14",
            "label": "mBcl2",
            "name": "s14",
            "shape": "ellipse"
           },
           "position": {
            "x": 2957.524967388201,
            "y": 367.82764647528893
           }
          },
          {
           "data": {
            "NodeType": "species",
            "background_color": "#aaffff",
            "bipartite": 0,
            "id": "s15",
            "label": "mBclxL",
            "name": "s15",
            "shape": "ellipse"
           },
           "position": {
            "x": 3148.2383080006693,
            "y": 328.5076173197949
           }
          },
          {
           "data": {
            "NodeType": "species",
            "background_color": "#aaffff",
            "bipartite": 0,
            "id": "s16",
            "label": "mMcl1",
            "name": "s16",
            "shape": "ellipse"
           },
           "position": {
            "x": 3261.1693306575935,
            "y": 1736.9383141374583
           }
          },
          {
           "data": {
            "NodeType": "species",
            "background_color": "#aaffff",
            "bipartite": 0,
            "id": "s17",
            "label": "mBad",
            "name": "s17",
            "shape": "ellipse"
           },
           "position": {
            "x": 2660.695516725523,
            "y": 411.8562663068142
           }
          },
          {
           "data": {
            "NodeType": "species",
            "background_color": "#aaffff",
            "bipartite": 0,
            "id": "s18",
            "label": "mNoxa",
            "name": "s18",
            "shape": "ellipse"
           },
           "position": {
            "x": 2566.8085738321424,
            "y": 65.88209409868887
           }
          },
          {
           "data": {
            "NodeType": "species",
            "background_color": "#aaffff",
            "bipartite": 0,
            "id": "s19",
            "label": "mCytoC",
            "name": "s19",
            "shape": "ellipse"
           },
           "position": {
            "x": 1050.7720117909812,
            "y": 610.0734690161817
           }
          },
          {
           "data": {
            "NodeType": "species",
            "background_color": "#aaffff",
            "bipartite": 0,
            "id": "s20",
            "label": "mSmac",
            "name": "s20",
            "shape": "ellipse"
           },
           "position": {
            "x": 976.7309100962811,
            "y": 730.6120323669566
           }
          },
          {
           "data": {
            "NodeType": "species",
            "background_color": "#ccffcc",
            "bipartite": 0,
            "id": "s21",
            "label": "L-R",
            "name": "s21",
            "shape": "ellipse"
           },
           "position": {
            "x": 571.468837420809,
            "y": 6841.165745010658
           }
          },
          {
           "data": {
            "NodeType": "species",
            "background_color": "#ccffcc",
            "bipartite": 0,
            "id": "s22",
            "label": "mBad-mBcl2",
            "name": "s22",
            "shape": "ellipse"
           },
           "position": {
            "x": 2695.2708169929347,
            "y": 333.1038979611767
           }
          },
          {
           "data": {
            "NodeType": "species",
            "background_color": "#ccffcc",
            "bipartite": 0,
            "id": "s23",
            "label": "mBad-mBclxL",
            "name": "s23",
            "shape": "ellipse"
           },
           "position": {
            "x": 2842.378906070775,
            "y": 335.63294405384204
           }
          },
          {
           "data": {
            "NodeType": "species",
            "background_color": "#ccffcc",
            "bipartite": 0,
            "id": "s24",
            "label": "mMcl1-mNoxa",
            "name": "s24",
            "shape": "ellipse"
           },
           "position": {
            "x": 2260.486224701318,
            "y": 108.23345640831621
           }
          },
          {
           "data": {
            "NodeType": "species",
            "background_color": "#ccffcc",
            "bipartite": 0,
            "id": "s25",
            "label": "DISC",
            "name": "s25",
            "shape": "ellipse"
           },
           "position": {
            "x": 637.1404063806713,
            "y": 8431.169765286044
           }
          },
          {
           "data": {
            "NodeType": "species",
            "background_color": "#ccffcc",
            "bipartite": 0,
            "id": "s26",
            "label": "proC8-DISC",
            "name": "s26",
            "shape": "ellipse"
           },
           "position": {
            "x": 581.7793002104809,
            "y": 9932.494641951018
           }
          },
          {
           "data": {
            "NodeType": "species",
            "background_color": "#ccffcc",
            "bipartite": 0,
            "id": "s27",
            "label": "DISC-flip",
            "name": "s27",
            "shape": "ellipse"
           },
           "position": {
            "x": 93.79354181601684,
            "y": 6808.346993470865
           }
          },
          {
           "data": {
            "NodeType": "species",
            "background_color": "#ccffcc",
            "bipartite": 0,
            "id": "s28",
            "label": "aC8",
            "name": "s28",
            "shape": "ellipse"
           },
           "position": {
            "x": 2296.075623979582,
            "y": 9851.711583486893
           }
          },
          {
           "data": {
            "NodeType": "species",
            "background_color": "#ccffcc",
            "bipartite": 0,
            "id": "s29",
            "label": "uBid-aC8",
            "name": "s29",
            "shape": "ellipse"
           },
           "position": {
            "x": 2841.1682899577163,
            "y": 9865.413751255684
           }
          },
          {
           "data": {
            "NodeType": "species",
            "background_color": "#ccffcc",
            "bipartite": 0,
            "id": "s30",
            "label": "BAR-aC8",
            "name": "s30",
            "shape": "ellipse"
           },
           "position": {
            "x": 1655.5338830001365,
            "y": 10247.474060995457
           }
          },
          {
           "data": {
            "NodeType": "species",
            "background_color": "#ccffcc",
            "bipartite": 0,
            "id": "s31",
            "label": "proC3-aC8",
            "name": "s31",
            "shape": "ellipse"
           },
           "position": {
            "x": 998.1783883049047,
            "y": 10116.725670121072
           }
          },
          {
           "data": {
            "NodeType": "species",
            "background_color": "#ccffcc",
            "bipartite": 0,
            "id": "s32",
            "label": "tBid",
            "name": "s32",
            "shape": "ellipse"
           },
           "position": {
            "x": 3019.6105474773385,
            "y": 6122.8540570235145
           }
          },
          {
           "data": {
            "NodeType": "species",
            "background_color": "#ccffcc",
            "bipartite": 0,
            "id": "s33",
            "label": "aC3",
            "name": "s33",
            "shape": "ellipse"
           },
           "position": {
            "x": 737.9317737841002,
            "y": 8731.947164147485
           }
          },
          {
           "data": {
            "NodeType": "species",
            "background_color": "#ccffcc",
            "bipartite": 0,
            "id": "s34",
            "label": "aC3-XIAP",
            "name": "s34",
            "shape": "ellipse"
           },
           "position": {
            "x": 346.456613346807,
            "y": 7262.773390765204
           }
          },
          {
           "data": {
            "NodeType": "species",
            "background_color": "#ccffcc",
            "bipartite": 0,
            "id": "s35",
            "label": "aC3-uPARP",
            "name": "s35",
            "shape": "ellipse"
           },
           "position": {
            "x": 373.25105868946594,
            "y": 6965.0226258774255
           }
          },
          {
           "data": {
            "NodeType": "species",
            "background_color": "#ccffcc",
            "bipartite": 0,
            "id": "s36",
            "label": "aC3-proC6",
            "name": "s36",
            "shape": "ellipse"
           },
           "position": {
            "x": 474.1154716448282,
            "y": 7017.573673045983
           }
          },
          {
           "data": {
            "NodeType": "species",
            "background_color": "#ccffcc",
            "bipartite": 0,
            "id": "s37",
            "label": "mBid",
            "name": "s37",
            "shape": "ellipse"
           },
           "position": {
            "x": 3085.6509245268408,
            "y": 2022.7528079261783
           }
          },
          {
           "data": {
            "NodeType": "species",
            "background_color": "#ccffcc",
            "bipartite": 0,
            "id": "s38",
            "label": "ubC3",
            "name": "s38",
            "shape": "ellipse"
           },
           "position": {
            "x": 647.9163087876905,
            "y": 8550.250397936989
           }
          },
          {
           "data": {
            "NodeType": "species",
            "background_color": "#ccffcc",
            "bipartite": 0,
            "id": "s39",
            "label": "cPARP",
            "name": "s39",
            "shape": "ellipse"
           },
           "position": {
            "x": 279.1512373927417,
            "y": 7004.22540932795
           }
          },
          {
           "data": {
            "NodeType": "species",
            "background_color": "#ccffcc",
            "bipartite": 0,
            "id": "s40",
            "label": "aC6",
            "name": "s40",
            "shape": "ellipse"
           },
           "position": {
            "x": 612.427436482727,
            "y": 8626.302253588305
           }
          },
          {
           "data": {
            "NodeType": "species",
            "background_color": "#ccffcc",
            "bipartite": 0,
            "id": "s41",
            "label": "cBax-mBid",
            "name": "s41",
            "shape": "ellipse"
           },
           "position": {
            "x": 2462.641818085649,
            "y": 370.80583464163465
           }
          },
          {
           "data": {
            "NodeType": "species",
            "background_color": "#ccffcc",
            "bipartite": 0,
            "id": "s42",
            "label": "mBak-mBid",
            "name": "s42",
            "shape": "ellipse"
           },
           "position": {
            "x": 2155.8479215356165,
            "y": 435.9208750327416
           }
          },
          {
           "data": {
            "NodeType": "species",
            "background_color": "#ccffcc",
            "bipartite": 0,
            "id": "s43",
            "label": "mBcl2-mBid",
            "name": "s43",
            "shape": "ellipse"
           },
           "position": {
            "x": 2262.2215379068857,
            "y": 272.36113983695486
           }
          },
          {
           "data": {
            "NodeType": "species",
            "background_color": "#ccffcc",
            "bipartite": 0,
            "id": "s44",
            "label": "mBclxL-mBid",
            "name": "s44",
            "shape": "ellipse"
           },
           "position": {
            "x": 2706.424288938246,
            "y": 175.46734210844852
           }
          },
          {
           "data": {
            "NodeType": "species",
            "background_color": "#ccffcc",
            "bipartite": 0,
            "id": "s45",
            "label": "mBid-mMcl1",
            "name": "s45",
            "shape": "ellipse"
           },
           "position": {
            "x": 2414.028061320969,
            "y": 292.10099591462586
           }
          },
          {
           "data": {
            "NodeType": "species",
            "background_color": "#ccffcc",
            "bipartite": 0,
            "id": "s46",
            "label": "aC6-proC8",
            "name": "s46",
            "shape": "ellipse"
           },
           "position": {
            "x": 816.0755697344011,
            "y": 10099.325747372273
           }
          },
          {
           "data": {
            "NodeType": "species",
            "background_color": "#ccffcc",
            "bipartite": 0,
            "id": "s47",
            "label": "mBax",
            "name": "s47",
            "shape": "ellipse"
           },
           "position": {
            "x": 2328.3448172116714,
            "y": 527.8598917726258
           }
          },
          {
           "data": {
            "NodeType": "species",
            "background_color": "#ccffcc",
            "bipartite": 0,
            "id": "s48",
            "label": "aBak",
            "name": "s48",
            "shape": "ellipse"
           },
           "position": {
            "x": 1906.4169557243922,
            "y": 815.9178190233051
           }
          },
          {
           "data": {
            "NodeType": "species",
            "background_color": "#ccffcc",
            "bipartite": 0,
            "id": "s49",
            "label": "mBax-mBid",
            "name": "s49",
            "shape": "ellipse"
           },
           "position": {
            "x": 2418.511154870006,
            "y": 448.8281003949178
           }
          },
          {
           "data": {
            "NodeType": "species",
            "background_color": "#ccffcc",
            "bipartite": 0,
            "id": "s50",
            "label": "aBak-mBak",
            "name": "s50",
            "shape": "ellipse"
           },
           "position": {
            "x": 2113.1006641305376,
            "y": 560.7135253698243
           }
          },
          {
           "data": {
            "NodeType": "species",
            "background_color": "#ccffcc",
            "bipartite": 0,
            "id": "s51",
            "label": "aBak-mBclxL",
            "name": "s51",
            "shape": "ellipse"
           },
           "position": {
            "x": 2560.4125884342957,
            "y": 148.90792712333814
           }
          },
          {
           "data": {
            "NodeType": "species",
            "background_color": "#ccffcc",
            "bipartite": 0,
            "id": "s52",
            "label": "aBak-mMcl1",
            "name": "s52",
            "shape": "ellipse"
           },
           "position": {
            "x": 2425.160259205115,
            "y": 117.32829542939226
           }
          },
          {
           "data": {
            "NodeType": "species",
            "background_color": "#ccffcc",
            "bipartite": 0,
            "id": "s53",
            "label": "2aBak",
            "name": "s53",
            "shape": "ellipse"
           },
           "position": {
            "x": 2260.842394374212,
            "y": 390.51271644871576
           }
          },
          {
           "data": {
            "NodeType": "species",
            "background_color": "#ccffcc",
            "bipartite": 0,
            "id": "s54",
            "label": "aBax",
            "name": "s54",
            "shape": "ellipse"
           },
           "position": {
            "x": 1506.6807065837938,
            "y": 784.4596391490768
           }
          },
          {
           "data": {
            "NodeType": "species",
            "background_color": "#ccffcc",
            "bipartite": 0,
            "id": "s55",
            "label": "3aBak",
            "name": "s55",
            "shape": "ellipse"
           },
           "position": {
            "x": 1845.7838926067207,
            "y": 788.4203317628089
           }
          },
          {
           "data": {
            "NodeType": "species",
            "background_color": "#ccffcc",
            "bipartite": 0,
            "id": "s56",
            "label": "aBax-mBax",
            "name": "s56",
            "shape": "ellipse"
           },
           "position": {
            "x": 1753.8700530679762,
            "y": 596.0133362050701
           }
          },
          {
           "data": {
            "NodeType": "species",
            "background_color": "#ccffcc",
            "bipartite": 0,
            "id": "s57",
            "label": "aBax-mBcl2",
            "name": "s57",
            "shape": "ellipse"
           },
           "position": {
            "x": 2098.022597891134,
            "y": 118.18135698331935
           }
          },
          {
           "data": {
            "NodeType": "species",
            "background_color": "#ccffcc",
            "bipartite": 0,
            "id": "s58",
            "label": "aBax-mBclxL",
            "name": "s58",
            "shape": "ellipse"
           },
           "position": {
            "x": 2376.177799132788,
            "y": 39
           }
          },
          {
           "data": {
            "NodeType": "species",
            "background_color": "#ccffcc",
            "bipartite": 0,
            "id": "s59",
            "label": "2aBax",
            "name": "s59",
            "shape": "ellipse"
           },
           "position": {
            "x": 2122.8234250341866,
            "y": 228.204764315788
           }
          },
          {
           "data": {
            "NodeType": "species",
            "background_color": "#ccffcc",
            "bipartite": 0,
            "id": "s60",
            "label": "4aBak",
            "name": "s60",
            "shape": "ellipse"
           },
           "position": {
            "x": 662.0485103620467,
            "y": 2243.07336722975
           }
          },
          {
           "data": {
            "NodeType": "species",
            "background_color": "#ccffcc",
            "bipartite": 0,
            "id": "s61",
            "label": "3aBax",
            "name": "s61",
            "shape": "ellipse"
           },
           "position": {
            "x": 1470.002296370254,
            "y": 717.086126304026
           }
          },
          {
           "data": {
            "NodeType": "species",
            "background_color": "#ccffcc",
            "bipartite": 0,
            "id": "s62",
            "label": "4aBak-mCytoC",
            "name": "s62",
            "shape": "ellipse"
           },
           "position": {
            "x": 559.1637476550086,
            "y": 2248.1085147744134
           }
          },
          {
           "data": {
            "NodeType": "species",
            "background_color": "#ccffcc",
            "bipartite": 0,
            "id": "s63",
            "label": "4aBak-mSmac",
            "name": "s63",
            "shape": "ellipse"
           },
           "position": {
            "x": 620.5430932624313,
            "y": 2307.040818071214
           }
          },
          {
           "data": {
            "NodeType": "species",
            "background_color": "#ccffcc",
            "bipartite": 0,
            "id": "s64",
            "label": "4aBax",
            "name": "s64",
            "shape": "ellipse"
           },
           "position": {
            "x": 642.7831411652551,
            "y": 2420.6583837883272
           }
          },
          {
           "data": {
            "NodeType": "species",
            "background_color": "#ccffcc",
            "bipartite": 0,
            "id": "s65",
            "label": "cCytoC",
            "name": "s65",
            "shape": "ellipse"
           },
           "position": {
            "x": 769.2678889049312,
            "y": 4485.921778337162
           }
          },
          {
           "data": {
            "NodeType": "species",
            "background_color": "#ccffcc",
            "bipartite": 0,
            "id": "s66",
            "label": "cSmac",
            "name": "s66",
            "shape": "ellipse"
           },
           "position": {
            "x": 739.7257033314427,
            "y": 4575.404936340901
           }
          },
          {
           "data": {
            "NodeType": "species",
            "background_color": "#ccffcc",
            "bipartite": 0,
            "id": "s67",
            "label": "aSmac",
            "name": "s67",
            "shape": "ellipse"
           },
           "position": {
            "x": 489.36719930862637,
            "y": 6896.040779250048
           }
          },
          {
           "data": {
            "NodeType": "species",
            "background_color": "#ccffcc",
            "bipartite": 0,
            "id": "s68",
            "label": "aCytoC",
            "name": "s68",
            "shape": "ellipse"
           },
           "position": {
            "x": 419.83353726834594,
            "y": 6602.158963425101
           }
          },
          {
           "data": {
            "NodeType": "species",
            "background_color": "#ccffcc",
            "bipartite": 0,
            "id": "s69",
            "label": "4aBax-mCytoC",
            "name": "s69",
            "shape": "ellipse"
           },
           "position": {
            "x": 616.9581830355073,
            "y": 2481.766288884647
           }
          },
          {
           "data": {
            "NodeType": "species",
            "background_color": "#ccffcc",
            "bipartite": 0,
            "id": "s70",
            "label": "4aBax-mSmac",
            "name": "s70",
            "shape": "ellipse"
           },
           "position": {
            "x": 488.07439960637475,
            "y": 2450.581308153598
           }
          },
          {
           "data": {
            "NodeType": "species",
            "background_color": "#ccffcc",
            "bipartite": 0,
            "id": "s71",
            "label": "iApaf-aCytoC",
            "name": "s71",
            "shape": "ellipse"
           },
           "position": {
            "x": 315.8682475820624,
            "y": 6655.612277322112
           }
          },
          {
           "data": {
            "NodeType": "species",
            "background_color": "#ccffcc",
            "bipartite": 0,
            "id": "s72",
            "label": "aSmac-XIAP",
            "name": "s72",
            "shape": "ellipse"
           },
           "position": {
            "x": 628.0475970551952,
            "y": 8174.727790136007
           }
          },
          {
           "data": {
            "NodeType": "species",
            "background_color": "#ccffcc",
            "bipartite": 0,
            "id": "s73",
            "label": "aApaf",
            "name": "s73",
            "shape": "ellipse"
           },
           "position": {
            "x": 548.1595838457897,
            "y": 8036.751723170924
           }
          },
          {
           "data": {
            "NodeType": "species",
            "background_color": "#ccffcc",
            "bipartite": 0,
            "id": "s74",
            "label": "Apop",
            "name": "s74",
            "shape": "ellipse"
           },
           "position": {
            "x": 468.69816486813306,
            "y": 8025.8586169563405
           }
          },
          {
           "data": {
            "NodeType": "species",
            "background_color": "#ccffcc",
            "bipartite": 0,
            "id": "s75",
            "label": "Apop-proC3",
            "name": "s75",
            "shape": "ellipse"
           },
           "position": {
            "x": 365.7175063061759,
            "y": 8114.845599657181
           }
          },
          {
           "data": {
            "NodeType": "species",
            "background_color": "#ccffcc",
            "bipartite": 0,
            "id": "s76",
            "label": "Apop-XIAP",
            "name": "s76",
            "shape": "ellipse"
           },
           "position": {
            "x": 630.0940827343538,
            "y": 8307.871469487382
           }
          },
          {
           "data": {
            "NodeType": "rule",
            "background_color": "#ff4c4c",
            "bipartite": 1,
            "id": "bind_L_R_to_LR",
            "label": "bind_L_R_to_LR",
            "name": "bind_L_R_to_LR",
            "parent": "earm.shared1",
            "shape": "roundrectangle"
           },
           "position": {
            "x": 1453.9549726310124,
            "y": 7324.942702668832
           }
          },
          {
           "data": {
            "NodeType": "rule",
            "background_color": "#ff4c4c",
            "bipartite": 1,
            "id": "convert_LR_to_DISC",
            "label": "convert_LR_to_DISC",
            "name": "convert_LR_to_DISC",
            "parent": "earm.shared1",
            "shape": "roundrectangle"
           },
           "position": {
            "x": 1063.5314269858918,
            "y": 7552.589506113834
           }
          },
          {
           "data": {
            "NodeType": "rule",
            "background_color": "#ff4c4c",
            "bipartite": 1,
            "id": "bind_DISC_C8pro_to_DISCC8pro",
            "label": "bind_DISC_C8pro_to_DISCC8pro",
            "name": "bind_DISC_C8pro_to_DISCC8pro",
            "parent": "earm.shared1",
            "shape": "roundrectangle"
           },
           "position": {
            "x": 1130.882400560693,
            "y": 9162.389261232558
           }
          },
          {
           "data": {
            "NodeType": "rule",
            "background_color": "#ff4c4c",
            "bipartite": 1,
            "id": "catalyze_DISCC8pro_to_DISC_C8A",
            "label": "catalyze_DISCC8pro_to_DISC_C8A",
            "name": "catalyze_DISCC8pro_to_DISC_C8A",
            "parent": "earm.shared1",
            "shape": "roundrectangle"
           },
           "position": {
            "x": 1268.7413000052302,
            "y": 9230.990799271267
           }
          },
          {
           "data": {
            "NodeType": "rule",
            "background_color": "#ff4c4c",
            "bipartite": 1,
            "id": "bind_C8A_BidU_to_C8ABidU",
            "label": "bind_C8A_BidU_to_C8ABidU",
            "name": "bind_C8A_BidU_to_C8ABidU",
            "parent": "earm.shared1",
            "shape": "roundrectangle"
           },
           "position": {
            "x": 1876.687031721086,
            "y": 9233.817950617975
           }
          },
          {
           "data": {
            "NodeType": "rule",
            "background_color": "#ff4c4c",
            "bipartite": 1,
            "id": "catalyze_C8ABidU_to_C8A_BidT",
            "label": "catalyze_C8ABidU_to_C8A_BidT",
            "name": "catalyze_C8ABidU_to_C8A_BidT",
            "parent": "earm.shared1",
            "shape": "roundrectangle"
           },
           "position": {
            "x": 2604.6129859363564,
            "y": 8271.530799245513
           }
          },
          {
           "data": {
            "NodeType": "rule",
            "background_color": "#ff4c4c",
            "bipartite": 1,
            "id": "bind_DISC_flip",
            "label": "bind_DISC_flip",
            "name": "bind_DISC_flip",
            "parent": "earm.shared1",
            "shape": "roundrectangle"
           },
           "position": {
            "x": 814.1298743039915,
            "y": 7438.6156177346165
           }
          },
          {
           "data": {
            "NodeType": "rule",
            "background_color": "#ff4c4c",
            "bipartite": 1,
            "id": "bind_BAR_C8A",
            "label": "bind_BAR_C8A",
            "name": "bind_BAR_C8A",
            "parent": "earm.shared1",
            "shape": "roundrectangle"
           },
           "position": {
            "x": 1703.4064750623256,
            "y": 9219.066576708468
           }
          },
          {
           "data": {
            "NodeType": "rule",
            "background_color": "#ff4c4c",
            "bipartite": 1,
            "id": "equilibrate_SmacC_to_SmacA",
            "label": "equilibrate_SmacC_to_SmacA",
            "name": "equilibrate_SmacC_to_SmacA",
            "parent": "earm.albeck_modules",
            "shape": "roundrectangle"
           },
           "position": {
            "x": 1249.7719465891587,
            "y": 6348.127728684218
           }
          },
          {
           "data": {
            "NodeType": "rule",
            "background_color": "#ff4c4c",
            "bipartite": 1,
            "id": "equilibrate_CytoCC_to_CytoCA",
            "label": "equilibrate_CytoCC_to_CytoCA",
            "name": "equilibrate_CytoCC_to_CytoCA",
            "parent": "earm.albeck_modules",
            "shape": "roundrectangle"
           },
           "position": {
            "x": 1329.5639717181411,
            "y": 6290.840294606307
           }
          },
          {
           "data": {
            "NodeType": "rule",
            "background_color": "#ff4c4c",
            "bipartite": 1,
            "id": "bind_CytoCA_ApafI_to_CytoCAApafI",
            "label": "bind_CytoCA_ApafI_to_CytoCAApafI",
            "name": "bind_CytoCA_ApafI_to_CytoCAApafI",
            "parent": "earm.shared1",
            "shape": "roundrectangle"
           },
           "position": {
            "x": 905.8701040997057,
            "y": 7371.483811172195
           }
          },
          {
           "data": {
            "NodeType": "rule",
            "background_color": "#ff4c4c",
            "bipartite": 1,
            "id": "catalyze_CytoCAApafI_to_CytoCA_ApafA",
            "label": "catalyze_CytoCAApafI_to_CytoCA_ApafA",
            "name": "catalyze_CytoCAApafI_to_CytoCA_ApafA",
            "parent": "earm.shared1",
            "shape": "roundrectangle"
           },
           "position": {
            "x": 1100.4960123907967,
            "y": 7324.421922376203
           }
          },
          {
           "data": {
            "NodeType": "rule",
            "background_color": "#ff4c4c",
            "bipartite": 1,
            "id": "convert_ApafA_C9_to_Apop",
            "label": "convert_ApafA_C9_to_Apop",
            "name": "convert_ApafA_C9_to_Apop",
            "parent": "earm.shared1",
            "shape": "roundrectangle"
           },
           "position": {
            "x": 1225.0720501622518,
            "y": 7330.813026211697
           }
          },
          {
           "data": {
            "NodeType": "rule",
            "background_color": "#ff4c4c",
            "bipartite": 1,
            "id": "bind_Apop_C3pro_to_ApopC3pro",
            "label": "bind_Apop_C3pro_to_ApopC3pro",
            "name": "bind_Apop_C3pro_to_ApopC3pro",
            "parent": "earm.shared1",
            "shape": "roundrectangle"
           },
           "position": {
            "x": 878.1883933118761,
            "y": 8931.094352215085
           }
          },
          {
           "data": {
            "NodeType": "rule",
            "background_color": "#ff4c4c",
            "bipartite": 1,
            "id": "catalyze_ApopC3pro_to_Apop_C3A",
            "label": "catalyze_ApopC3pro_to_Apop_C3A",
            "name": "catalyze_ApopC3pro_to_Apop_C3A",
            "parent": "earm.shared1",
            "shape": "roundrectangle"
           },
           "position": {
            "x": 1395.981895960611,
            "y": 7882.265659075585
           }
          },
          {
           "data": {
            "NodeType": "rule",
            "background_color": "#ff4c4c",
            "bipartite": 1,
            "id": "bind_Apop_XIAP",
            "label": "bind_Apop_XIAP",
            "name": "bind_Apop_XIAP",
            "parent": "earm.shared1",
            "shape": "roundrectangle"
           },
           "position": {
            "x": 1216.6381594393415,
            "y": 7444.36066271868
           }
          },
          {
           "data": {
            "NodeType": "rule",
            "background_color": "#ff4c4c",
            "bipartite": 1,
            "id": "bind_SmacA_XIAP",
            "label": "bind_SmacA_XIAP",
            "name": "bind_SmacA_XIAP",
            "parent": "earm.shared1",
            "shape": "roundrectangle"
           },
           "position": {
            "x": 1335.6246673247842,
            "y": 7383.14124533798
           }
          },
          {
           "data": {
            "NodeType": "rule",
            "background_color": "#ff4c4c",
            "bipartite": 1,
            "id": "bind_C8A_C3pro_to_C8AC3pro",
            "label": "bind_C8A_C3pro_to_C8AC3pro",
            "name": "bind_C8A_C3pro_to_C8AC3pro",
            "parent": "earm.shared1",
            "shape": "roundrectangle"
           },
           "position": {
            "x": 1524.0478904319598,
            "y": 9242.439325266536
           }
          },
          {
           "data": {
            "NodeType": "rule",
            "background_color": "#ff4c4c",
            "bipartite": 1,
            "id": "catalyze_C8AC3pro_to_C8A_C3A",
            "label": "catalyze_C8AC3pro_to_C8A_C3A",
            "name": "catalyze_C8AC3pro_to_C8A_C3A",
            "parent": "earm.shared1",
            "shape": "roundrectangle"
           },
           "position": {
            "x": 1609.201978458359,
            "y": 9160.682643653869
           }
          },
          {
           "data": {
            "NodeType": "rule",
            "background_color": "#ff4c4c",
            "bipartite": 1,
            "id": "bind_XIAP_C3A_to_XIAPC3A",
            "label": "bind_XIAP_C3A_to_XIAPC3A",
            "name": "bind_XIAP_C3A_to_XIAPC3A",
            "parent": "earm.shared1",
            "shape": "roundrectangle"
           },
           "position": {
            "x": 1232.8568299361777,
            "y": 7750.550805704739
           }
          },
          {
           "data": {
            "NodeType": "rule",
            "background_color": "#ff4c4c",
            "bipartite": 1,
            "id": "catalyze_XIAPC3A_to_XIAP_C3ub",
            "label": "catalyze_XIAPC3A_to_XIAP_C3ub",
            "name": "catalyze_XIAPC3A_to_XIAP_C3ub",
            "parent": "earm.shared1",
            "shape": "roundrectangle"
           },
           "position": {
            "x": 1273.1027351802932,
            "y": 7571.383249869135
           }
          },
          {
           "data": {
            "NodeType": "rule",
            "background_color": "#ff4c4c",
            "bipartite": 1,
            "id": "bind_C3A_PARPU_to_C3APARPU",
            "label": "bind_C3A_PARPU_to_C3APARPU",
            "name": "bind_C3A_PARPU_to_C3APARPU",
            "parent": "earm.shared1",
            "shape": "roundrectangle"
           },
           "position": {
            "x": 876.4117117426858,
            "y": 7817.917345226608
           }
          },
          {
           "data": {
            "NodeType": "rule",
            "background_color": "#ff4c4c",
            "bipartite": 1,
            "id": "catalyze_C3APARPU_to_C3A_PARPC",
            "label": "catalyze_C3APARPU_to_C3A_PARPC",
            "name": "catalyze_C3APARPU_to_C3A_PARPC",
            "parent": "earm.shared1",
            "shape": "roundrectangle"
           },
           "position": {
            "x": 891.7763771835162,
            "y": 7753.8699092614315
           }
          },
          {
           "data": {
            "NodeType": "rule",
            "background_color": "#ff4c4c",
            "bipartite": 1,
            "id": "bind_C3A_C6pro_to_C3AC6pro",
            "label": "bind_C3A_C6pro_to_C3AC6pro",
            "name": "bind_C3A_C6pro_to_C3AC6pro",
            "parent": "earm.shared1",
            "shape": "roundrectangle"
           },
           "position": {
            "x": 1041.0885643564834,
            "y": 7701.466696402029
           }
          },
          {
           "data": {
            "NodeType": "rule",
            "background_color": "#ff4c4c",
            "bipartite": 1,
            "id": "catalyze_C3AC6pro_to_C3A_C6A",
            "label": "catalyze_C3AC6pro_to_C3A_C6A",
            "name": "catalyze_C3AC6pro_to_C3A_C6A",
            "parent": "earm.shared1",
            "shape": "roundrectangle"
           },
           "position": {
            "x": 1105.025705095407,
            "y": 7802.682753087005
           }
          },
          {
           "data": {
            "NodeType": "rule",
            "background_color": "#ff4c4c",
            "bipartite": 1,
            "id": "bind_C6A_C8pro_to_C6AC8pro",
            "label": "bind_C6A_C8pro_to_C6AC8pro",
            "name": "bind_C6A_C8pro_to_C6AC8pro",
            "parent": "earm.shared1",
            "shape": "roundrectangle"
           },
           "position": {
            "x": 1338.9092710021487,
            "y": 9111.988742826006
           }
          },
          {
           "data": {
            "NodeType": "rule",
            "background_color": "#ff4c4c",
            "bipartite": 1,
            "id": "catalyze_C6AC8pro_to_C6A_C8A",
            "label": "catalyze_C6AC8pro_to_C6A_C8A",
            "name": "catalyze_C6AC8pro_to_C6A_C8A",
            "parent": "earm.shared1",
            "shape": "roundrectangle"
           },
           "position": {
            "x": 1413.678587054971,
            "y": 9203.072433964851
           }
          },
          {
           "data": {
            "NodeType": "rule",
            "background_color": "#ff4c4c",
            "bipartite": 1,
            "id": "equilibrate_BidT_to_BidM",
            "label": "equilibrate_BidT_to_BidM",
            "name": "equilibrate_BidT_to_BidM",
            "parent": "earm.lopez_modules",
            "shape": "roundrectangle"
           },
           "position": {
            "x": 2675.5142844064985,
            "y": 3691.549040485388
           }
          },
          {
           "data": {
            "NodeType": "rule",
            "background_color": "#ff4c4c",
            "bipartite": 1,
            "id": "bind_BidM_BaxC_to_BidMBaxC",
            "label": "bind_BidM_BaxC_to_BidMBaxC",
            "name": "bind_BidM_BaxC_to_BidMBaxC",
            "parent": "earm.shared0",
            "shape": "roundrectangle"
           },
           "position": {
            "x": 2457.3035480699145,
            "y": 1324.1429778889587
           }
          },
          {
           "data": {
            "NodeType": "rule",
            "background_color": "#ff4c4c",
            "bipartite": 1,
            "id": "catalyze_BidMBaxC_to_BidM_BaxM",
            "label": "catalyze_BidMBaxC_to_BidM_BaxM",
            "name": "catalyze_BidMBaxC_to_BidM_BaxM",
            "parent": "earm.shared0",
            "shape": "roundrectangle"
           },
           "position": {
            "x": 3004.407953539994,
            "y": 1155.1064645429096
           }
          },
          {
           "data": {
            "NodeType": "rule",
            "background_color": "#ff4c4c",
            "bipartite": 1,
            "id": "bind_BidM_BaxM_to_BidMBaxM",
            "label": "bind_BidM_BaxM_to_BidMBaxM",
            "name": "bind_BidM_BaxM_to_BidMBaxM",
            "parent": "earm.shared0",
            "shape": "roundrectangle"
           },
           "position": {
            "x": 3016.716140254245,
            "y": 1211.0148977317313
           }
          },
          {
           "data": {
            "NodeType": "rule",
            "background_color": "#ff4c4c",
            "bipartite": 1,
            "id": "catalyze_BidMBaxM_to_BidM_BaxA",
            "label": "catalyze_BidMBaxM_to_BidM_BaxA",
            "name": "catalyze_BidMBaxM_to_BidM_BaxA",
            "parent": "earm.shared0",
            "shape": "roundrectangle"
           },
           "position": {
            "x": 2322.5816795282144,
            "y": 1381.8893565692124
           }
          },
          {
           "data": {
            "NodeType": "rule",
            "background_color": "#ff4c4c",
            "bipartite": 1,
            "id": "bind_BidM_BakM_to_BidMBakM",
            "label": "bind_BidM_BakM_to_BidMBakM",
            "name": "bind_BidM_BakM_to_BidMBakM",
            "parent": "earm.shared0",
            "shape": "roundrectangle"
           },
           "position": {
            "x": 2612.8375742510907,
            "y": 1264.163412245919
           }
          },
          {
           "data": {
            "NodeType": "rule",
            "background_color": "#ff4c4c",
            "bipartite": 1,
            "id": "catalyze_BidMBakM_to_BidM_BakA",
            "label": "catalyze_BidMBakM_to_BidM_BakA",
            "name": "catalyze_BidMBakM_to_BidM_BakA",
            "parent": "earm.shared0",
            "shape": "roundrectangle"
           },
           "position": {
            "x": 2743.785342328485,
            "y": 1211.0650286681011
           }
          },
          {
           "data": {
            "NodeType": "rule",
            "background_color": "#ff4c4c",
            "bipartite": 1,
            "id": "bind_BaxA_BaxM_to_BaxABaxM",
            "label": "bind_BaxA_BaxM_to_BaxABaxM",
            "name": "bind_BaxA_BaxM_to_BaxABaxM",
            "parent": "earm.shared0",
            "shape": "roundrectangle"
           },
           "position": {
            "x": 2181.381229229898,
            "y": 1437.9400228633658
           }
          },
          {
           "data": {
            "NodeType": "rule",
            "background_color": "#ff4c4c",
            "bipartite": 1,
            "id": "catalyze_BaxABaxM_to_BaxA_BaxA",
            "label": "catalyze_BaxABaxM_to_BaxA_BaxA",
            "name": "catalyze_BaxABaxM_to_BaxA_BaxA",
            "parent": "earm.shared0",
            "shape": "roundrectangle"
           },
           "position": {
            "x": 2085.0889012325197,
            "y": 1500.8053367532675
           }
          },
          {
           "data": {
            "NodeType": "rule",
            "background_color": "#ff4c4c",
            "bipartite": 1,
            "id": "bind_BakA_BakM_to_BakABakM",
            "label": "bind_BakA_BakM_to_BakABakM",
            "name": "bind_BakA_BakM_to_BakABakM",
            "parent": "earm.shared0",
            "shape": "roundrectangle"
           },
           "position": {
            "x": 2976.5883592025302,
            "y": 1024.9301511262602
           }
          },
          {
           "data": {
            "NodeType": "rule",
            "background_color": "#ff4c4c",
            "bipartite": 1,
            "id": "catalyze_BakABakM_to_BakA_BakA",
            "label": "catalyze_BakABakM_to_BakA_BakA",
            "name": "catalyze_BakABakM_to_BakA_BakA",
            "parent": "earm.shared0",
            "shape": "roundrectangle"
           },
           "position": {
            "x": 2719.906413255536,
            "y": 1331.7057028707732
           }
          },
          {
           "data": {
            "NodeType": "rule",
            "background_color": "#ff4c4c",
            "bipartite": 1,
            "id": "bind_BidM_Bcl2M",
            "label": "bind_BidM_Bcl2M",
            "name": "bind_BidM_Bcl2M",
            "parent": "earm.shared0",
            "shape": "roundrectangle"
           },
           "position": {
            "x": 2529.719385152128,
            "y": 1202.9047945725179
           }
          },
          {
           "data": {
            "NodeType": "rule",
            "background_color": "#ff4c4c",
            "bipartite": 1,
            "id": "bind_BidM_BclxLM",
            "label": "bind_BidM_BclxLM",
            "name": "bind_BidM_BclxLM",
            "parent": "earm.shared0",
            "shape": "roundrectangle"
           },
           "position": {
            "x": 2601.2869244332396,
            "y": 1134.4205543853222
           }
          },
          {
           "data": {
            "NodeType": "rule",
            "background_color": "#ff4c4c",
            "bipartite": 1,
            "id": "bind_BidM_Mcl1M",
            "label": "bind_BidM_Mcl1M",
            "name": "bind_BidM_Mcl1M",
            "parent": "earm.shared0",
            "shape": "roundrectangle"
           },
           "position": {
            "x": 2411.7656397673854,
            "y": 1263.7874939671947
           }
          },
          {
           "data": {
            "NodeType": "rule",
            "background_color": "#ff4c4c",
            "bipartite": 1,
            "id": "bind_BaxA_Bcl2",
            "label": "bind_BaxA_Bcl2",
            "name": "bind_BaxA_Bcl2",
            "parent": "earm.shared0",
            "shape": "roundrectangle"
           },
           "position": {
            "x": 2303.231421694666,
            "y": 1061.8647639095825
           }
          },
          {
           "data": {
            "NodeType": "rule",
            "background_color": "#ff4c4c",
            "bipartite": 1,
            "id": "bind_BaxA_BclxLM",
            "label": "bind_BaxA_BclxLM",
            "name": "bind_BaxA_BclxLM",
            "parent": "earm.shared0",
            "shape": "roundrectangle"
           },
           "position": {
            "x": 2444.3634304085645,
            "y": 1016.1591162267323
           }
          },
          {
           "data": {
            "NodeType": "rule",
            "background_color": "#ff4c4c",
            "bipartite": 1,
            "id": "bind_BakA_BclxLM",
            "label": "bind_BakA_BclxLM",
            "name": "bind_BakA_BclxLM",
            "parent": "earm.shared0",
            "shape": "roundrectangle"
           },
           "position": {
            "x": 2756.253502360738,
            "y": 1086.039136304198
           }
          },
          {
           "data": {
            "NodeType": "rule",
            "background_color": "#ff4c4c",
            "bipartite": 1,
            "id": "bind_BakA_Mcl1M",
            "label": "bind_BakA_Mcl1M",
            "name": "bind_BakA_Mcl1M",
            "parent": "earm.shared0",
            "shape": "roundrectangle"
           },
           "position": {
            "x": 2767.85347256572,
            "y": 1017.9438871903994
           }
          },
          {
           "data": {
            "NodeType": "rule",
            "background_color": "#ff4c4c",
            "bipartite": 1,
            "id": "bind_BadM_Bcl2",
            "label": "bind_BadM_Bcl2",
            "name": "bind_BadM_Bcl2",
            "parent": "earm.shared0",
            "shape": "roundrectangle"
           },
           "position": {
            "x": 2902.4663963248777,
            "y": 1282.932070582824
           }
          },
          {
           "data": {
            "NodeType": "rule",
            "background_color": "#ff4c4c",
            "bipartite": 1,
            "id": "bind_BadM_BclxLM",
            "label": "bind_BadM_BclxLM",
            "name": "bind_BadM_BclxLM",
            "parent": "earm.shared0",
            "shape": "roundrectangle"
           },
           "position": {
            "x": 3057.5358412997384,
            "y": 1278.1094283309285
           }
          },
          {
           "data": {
            "NodeType": "rule",
            "background_color": "#ff4c4c",
            "bipartite": 1,
            "id": "bind_NoxaM_Mcl1M",
            "label": "bind_NoxaM_Mcl1M",
            "name": "bind_NoxaM_Mcl1M",
            "parent": "earm.shared0",
            "shape": "roundrectangle"
           },
           "position": {
            "x": 2610.1343566224405,
            "y": 1021.0503983985318
           }
          },
          {
           "data": {
            "NodeType": "rule",
            "background_color": "#ff4c4c",
            "bipartite": 1,
            "id": "assemble_pore_sequential_Bax_2",
            "label": "assemble_pore_sequential_Bax_2",
            "name": "assemble_pore_sequential_Bax_2",
            "parent": "earm.shared0",
            "shape": "roundrectangle"
           },
           "position": {
            "x": 2496.8205578302304,
            "y": 1079.8236964590906
           }
          },
          {
           "data": {
            "NodeType": "rule",
            "background_color": "#ff4c4c",
            "bipartite": 1,
            "id": "assemble_pore_sequential_Bax_3",
            "label": "assemble_pore_sequential_Bax_3",
            "name": "assemble_pore_sequential_Bax_3",
            "parent": "earm.shared0",
            "shape": "roundrectangle"
           },
           "position": {
            "x": 2358.4250988188196,
            "y": 1135.5518697387542
           }
          },
          {
           "data": {
            "NodeType": "rule",
            "background_color": "#ff4c4c",
            "bipartite": 1,
            "id": "assemble_pore_sequential_Bax_4",
            "label": "assemble_pore_sequential_Bax_4",
            "name": "assemble_pore_sequential_Bax_4",
            "parent": "earm.shared0",
            "shape": "roundrectangle"
           },
           "position": {
            "x": 1061.1471551720206,
            "y": 1579.6753913915518
           }
          },
          {
           "data": {
            "NodeType": "rule",
            "background_color": "#ff4c4c",
            "bipartite": 1,
            "id": "assemble_pore_sequential_Bak_2",
            "label": "assemble_pore_sequential_Bak_2",
            "name": "assemble_pore_sequential_Bak_2",
            "parent": "earm.shared0",
            "shape": "roundrectangle"
           },
           "position": {
            "x": 2926.400082794903,
            "y": 1096.9844214522745
           }
          },
          {
           "data": {
            "NodeType": "rule",
            "background_color": "#ff4c4c",
            "bipartite": 1,
            "id": "assemble_pore_sequential_Bak_3",
            "label": "assemble_pore_sequential_Bak_3",
            "name": "assemble_pore_sequential_Bak_3",
            "parent": "earm.shared0",
            "shape": "roundrectangle"
           },
           "position": {
            "x": 2778.4403784835295,
            "y": 1151.3579718335986
           }
          },
          {
           "data": {
            "NodeType": "rule",
            "background_color": "#ff4c4c",
            "bipartite": 1,
            "id": "assemble_pore_sequential_Bak_4",
            "label": "assemble_pore_sequential_Bak_4",
            "name": "assemble_pore_sequential_Bak_4",
            "parent": "earm.shared0",
            "shape": "roundrectangle"
           },
           "position": {
            "x": 1480.4620058924638,
            "y": 1660.1019292431683
           }
          },
          {
           "data": {
            "NodeType": "rule",
            "background_color": "#ff4c4c",
            "bipartite": 1,
            "id": "pore_transport_complex_BaxA_4_CytoCM",
            "label": "pore_transport_complex_BaxA_4_CytoCM",
            "name": "pore_transport_complex_BaxA_4_CytoCM",
            "parent": "earm.shared0",
            "shape": "roundrectangle"
           },
           "position": {
            "x": 858.2915712503282,
            "y": 1527.4242983494487
           }
          },
          {
           "data": {
            "NodeType": "rule",
            "background_color": "#ff4c4c",
            "bipartite": 1,
            "id": "pore_transport_dissociate_BaxA_4_CytoCC",
            "label": "pore_transport_dissociate_BaxA_4_CytoCC",
            "name": "pore_transport_dissociate_BaxA_4_CytoCC",
            "parent": "earm.shared0",
            "shape": "roundrectangle"
           },
           "position": {
            "x": 1120.2026278235917,
            "y": 3368.850604785088
           }
          },
          {
           "data": {
            "NodeType": "rule",
            "background_color": "#ff4c4c",
            "bipartite": 1,
            "id": "pore_transport_complex_BaxA_4_SmacM",
            "label": "pore_transport_complex_BaxA_4_SmacM",
            "name": "pore_transport_complex_BaxA_4_SmacM",
            "parent": "earm.shared0",
            "shape": "roundrectangle"
           },
           "position": {
            "x": 1081.8322168502955,
            "y": 1653.1345220458707
           }
          },
          {
           "data": {
            "NodeType": "rule",
            "background_color": "#ff4c4c",
            "bipartite": 1,
            "id": "pore_transport_dissociate_BaxA_4_SmacC",
            "label": "pore_transport_dissociate_BaxA_4_SmacC",
            "name": "pore_transport_dissociate_BaxA_4_SmacC",
            "parent": "earm.shared0",
            "shape": "roundrectangle"
           },
           "position": {
            "x": 866.3991476671654,
            "y": 3393.5673377636112
           }
          },
          {
           "data": {
            "NodeType": "rule",
            "background_color": "#ff4c4c",
            "bipartite": 1,
            "id": "pore_transport_complex_BakA_4_CytoCM",
            "label": "pore_transport_complex_BakA_4_CytoCM",
            "name": "pore_transport_complex_BakA_4_CytoCM",
            "parent": "earm.shared0",
            "shape": "roundrectangle"
           },
           "position": {
            "x": 1281.4823776570656,
            "y": 1528.115701318383
           }
          },
          {
           "data": {
            "NodeType": "rule",
            "background_color": "#ff4c4c",
            "bipartite": 1,
            "id": "pore_transport_dissociate_BakA_4_CytoCC",
            "label": "pore_transport_dissociate_BakA_4_CytoCC",
            "name": "pore_transport_dissociate_BakA_4_CytoCC",
            "parent": "earm.shared0",
            "shape": "roundrectangle"
           },
           "position": {
            "x": 868.1865146490345,
            "y": 3250.766838090445
           }
          },
          {
           "data": {
            "NodeType": "rule",
            "background_color": "#ff4c4c",
            "bipartite": 1,
            "id": "pore_transport_complex_BakA_4_SmacM",
            "label": "pore_transport_complex_BakA_4_SmacM",
            "name": "pore_transport_complex_BakA_4_SmacM",
            "parent": "earm.shared0",
            "shape": "roundrectangle"
           },
           "position": {
            "x": 1360.7567203510216,
            "y": 1602.1334931318015
           }
          },
          {
           "data": {
            "NodeType": "rule",
            "background_color": "#ff4c4c",
            "bipartite": 1,
            "id": "pore_transport_dissociate_BakA_4_SmacC",
            "label": "pore_transport_dissociate_BakA_4_SmacC",
            "name": "pore_transport_dissociate_BakA_4_SmacC",
            "parent": "earm.shared0",
            "shape": "roundrectangle"
           },
           "position": {
            "x": 861.3204758355732,
            "y": 3318.5288814784353
           }
          },
          {
           "data": {
            "NodeType": "module",
            "id": "earm.albeck_modules",
            "name": "earm.albeck_modules",
            "parent": "pysbjupyter.pysb_models.lopez_embedded"
           },
           "position": {
            "x": 1738.262348839521,
            "y": 7764.389809936421
           }
          },
          {
           "data": {
            "NodeType": "module",
            "id": "earm.lopez_modules",
            "name": "earm.lopez_modules",
            "parent": "pysbjupyter.pysb_models.lopez_embedded"
           },
           "position": {
            "x": 1920.5997623951612,
            "y": 2332.35407835606
           }
          },
          {
           "data": {
            "NodeType": "module",
            "id": "earm.shared0",
            "name": "earm.shared0",
            "parent": "earm.lopez_modules"
           },
           "position": {
            "x": 1920.5997623951612,
            "y": 2196.8632269951718
           }
          },
          {
           "data": {
            "NodeType": "module",
            "id": "earm.shared1",
            "name": "earm.shared1",
            "parent": "earm.albeck_modules"
           },
           "position": {
            "x": 1738.262348839521,
            "y": 8275.430623821368
           }
          },
          {
           "data": {
            "NodeType": "module",
            "id": "pysbjupyter.pysb_models.lopez_embedded",
            "name": "pysbjupyter.pysb_models.lopez_embedded"
           },
           "position": {
            "x": 1920.5997623951612,
            "y": 5105.799220746634
           }
          }
         ]
        }
       },
       "format": "cyjs",
       "layout": "IPY_MODEL_0f33f6e3e36d4ee4a1de21cca861a753",
       "layout_name": "cose-bilkent",
       "type_of_viz": "sp_rules_modules_view",
       "visual_style": null
      }
     },
     "f32f5fcd6d764725bd46241e6c927ed5": {
      "model_module": "viz-pysb-widget",
      "model_module_version": "^0.1.0",
      "model_name": "CytoscapeModel",
      "state": {
       "_model_module_version": "^0.1.0",
       "_view_module_version": "^0.1.0",
       "background": "#FFFFFF",
       "data": {
        "data": {
         "graph": {
          "rankdir": "LR"
         },
         "name": "pysb",
         "paths": []
        },
        "elements": {
         "edges": [
          {
           "data": {
            "arrowhead": "normal",
            "id": "901b2c90-e2d7-4d88-b117-8e00e1812149",
            "source": "s0",
            "source_arrow_fill": "hollow",
            "source_arrow_shape": "diamond",
            "target": "s1",
            "target_arrow_shape": "triangle"
           }
          },
          {
           "data": {
            "arrowhead": "normal",
            "id": "a7e72ff5-94c2-42bb-b5fb-be7120bb1a1e",
            "source": "s0",
            "source_arrow_fill": "hollow",
            "source_arrow_shape": "diamond",
            "target": "s2",
            "target_arrow_shape": "triangle"
           }
          },
          {
           "data": {
            "arrowhead": "normal",
            "id": "26b59c0a-635f-4e23-85e2-84d111a1dd05",
            "source": "s1",
            "source_arrow_fill": "hollow",
            "source_arrow_shape": "diamond",
            "target": "s3",
            "target_arrow_shape": "triangle"
           }
          },
          {
           "data": {
            "arrowhead": "normal",
            "id": "b747edb2-db7e-4405-bd6a-0f8953877fc0",
            "source": "s1",
            "source_arrow_fill": "hollow",
            "source_arrow_shape": "diamond",
            "target": "s4",
            "target_arrow_shape": "triangle"
           }
          },
          {
           "data": {
            "arrowhead": "normal",
            "id": "369af5db-fcee-4ce6-b1dc-af57dc4588d4",
            "source": "s2",
            "source_arrow_fill": "hollow",
            "source_arrow_shape": "diamond",
            "target": "s4",
            "target_arrow_shape": "triangle"
           }
          },
          {
           "data": {
            "arrowhead": "normal",
            "id": "3596e07e-0e16-40f9-be1a-0099280eb618",
            "source": "s2",
            "source_arrow_fill": "hollow",
            "source_arrow_shape": "diamond",
            "target": "s5",
            "target_arrow_shape": "triangle"
           }
          },
          {
           "data": {
            "arrowhead": "normal",
            "id": "1afabad2-d3b9-4f9c-9cdd-117c90589f3b",
            "source": "s3",
            "source_arrow_fill": "hollow",
            "source_arrow_shape": "diamond",
            "target": "s6",
            "target_arrow_shape": "triangle"
           }
          },
          {
           "data": {
            "arrowhead": "normal",
            "id": "a8b95dc3-6bc6-4850-909f-39548854c1fd",
            "source": "s4",
            "source_arrow_fill": "hollow",
            "source_arrow_shape": "diamond",
            "target": "s6",
            "target_arrow_shape": "triangle"
           }
          },
          {
           "data": {
            "arrowhead": "normal",
            "id": "d8d3986b-38b8-4848-9bc6-84987b185c15",
            "source": "s4",
            "source_arrow_fill": "hollow",
            "source_arrow_shape": "diamond",
            "target": "s7",
            "target_arrow_shape": "triangle"
           }
          },
          {
           "data": {
            "arrowhead": "normal",
            "id": "667fa2a2-2665-4acc-a2fb-f2536b74f2fa",
            "source": "s5",
            "source_arrow_fill": "hollow",
            "source_arrow_shape": "diamond",
            "target": "s7",
            "target_arrow_shape": "triangle"
           }
          },
          {
           "data": {
            "arrowhead": "normal",
            "id": "681ab011-6843-4f89-bf61-8fc42677b63f",
            "source": "s5",
            "source_arrow_fill": "hollow",
            "source_arrow_shape": "diamond",
            "target": "s8",
            "target_arrow_shape": "triangle"
           }
          },
          {
           "data": {
            "arrowhead": "normal",
            "id": "9481c15a-6700-4661-8474-f9e5e86f9e4a",
            "source": "s6",
            "source_arrow_fill": "hollow",
            "source_arrow_shape": "diamond",
            "target": "s9",
            "target_arrow_shape": "triangle"
           }
          },
          {
           "data": {
            "arrowhead": "normal",
            "id": "504cc2e0-8ada-4a97-a503-44ee487913b9",
            "source": "s7",
            "source_arrow_fill": "hollow",
            "source_arrow_shape": "diamond",
            "target": "s9",
            "target_arrow_shape": "triangle"
           }
          },
          {
           "data": {
            "arrowhead": "normal",
            "id": "ea05fd4d-80ae-49ef-9dab-797affdba625",
            "source": "s7",
            "source_arrow_fill": "hollow",
            "source_arrow_shape": "diamond",
            "target": "s10",
            "target_arrow_shape": "triangle"
           }
          },
          {
           "data": {
            "arrowhead": "normal",
            "id": "b206c4e6-ca78-4d46-bfaf-12d0a576b4ed",
            "source": "s8",
            "source_arrow_fill": "hollow",
            "source_arrow_shape": "diamond",
            "target": "s10",
            "target_arrow_shape": "triangle"
           }
          },
          {
           "data": {
            "arrowhead": "normal",
            "id": "52447827-5be5-4952-b318-0120ff08ddcd",
            "source": "s9",
            "source_arrow_fill": "hollow",
            "source_arrow_shape": "diamond",
            "target": "s11",
            "target_arrow_shape": "triangle"
           }
          },
          {
           "data": {
            "arrowhead": "normal",
            "id": "8e07d9ec-1ba4-47d9-b69e-a2ceb2ca2a4c",
            "source": "s10",
            "source_arrow_fill": "hollow",
            "source_arrow_shape": "diamond",
            "target": "s11",
            "target_arrow_shape": "triangle"
           }
          }
         ],
         "nodes": [
          {
           "data": {
            "NodeType": "species",
            "background_color": "#2b913a",
            "id": "s0",
            "label": "Basal",
            "name": "s0",
            "shape": "ellipse"
           },
           "position": {
            "x": 29.754,
            "y": 72
           }
          },
          {
           "data": {
            "NodeType": "species",
            "background_color": "#2b913a",
            "id": "s1",
            "label": "BasalACh",
            "name": "s1",
            "shape": "ellipse"
           },
           "position": {
            "x": 141.97,
            "y": 99
           }
          },
          {
           "data": {
            "NodeType": "species",
            "background_color": "#2b913a",
            "id": "s2",
            "label": "Active",
            "name": "s2",
            "shape": "ellipse"
           },
           "position": {
            "x": 141.97,
            "y": 45
           }
          },
          {
           "data": {
            "NodeType": "species",
            "background_color": "#2b913a",
            "id": "s3",
            "label": "BasalACh2",
            "name": "s3",
            "shape": "ellipse"
           },
           "position": {
            "x": 279.22,
            "y": 126
           }
          },
          {
           "data": {
            "NodeType": "species",
            "background_color": "#2b913a",
            "id": "s4",
            "label": "ActiveACh",
            "name": "s4",
            "shape": "ellipse"
           },
           "position": {
            "x": 279.22,
            "y": 72
           }
          },
          {
           "data": {
            "NodeType": "species",
            "background_color": "#2b913a",
            "id": "s5",
            "label": "Intermediate",
            "name": "s5",
            "shape": "ellipse"
           },
           "position": {
            "x": 279.22,
            "y": 18
           }
          },
          {
           "data": {
            "NodeType": "species",
            "background_color": "#2b913a",
            "id": "s6",
            "label": "ActiveACh2",
            "name": "s6",
            "shape": "ellipse"
           },
           "position": {
            "x": 441.51,
            "y": 126
           }
          },
          {
           "data": {
            "NodeType": "species",
            "background_color": "#2b913a",
            "id": "s7",
            "label": "IntermediateACh",
            "name": "s7",
            "shape": "ellipse"
           },
           "position": {
            "x": 441.51,
            "y": 72
           }
          },
          {
           "data": {
            "NodeType": "species",
            "background_color": "#2b913a",
            "id": "s8",
            "label": "Desensitised",
            "name": "s8",
            "shape": "ellipse"
           },
           "position": {
            "x": 441.51,
            "y": 18
           }
          },
          {
           "data": {
            "NodeType": "species",
            "background_color": "#2b913a",
            "id": "s9",
            "label": "IntermediateACh2",
            "name": "s9",
            "shape": "ellipse"
           },
           "position": {
            "x": 624.92,
            "y": 99
           }
          },
          {
           "data": {
            "NodeType": "species",
            "background_color": "#2b913a",
            "id": "s10",
            "label": "DesensitisedACh",
            "name": "s10",
            "shape": "ellipse"
           },
           "position": {
            "x": 624.92,
            "y": 45
           }
          },
          {
           "data": {
            "NodeType": "species",
            "background_color": "#2b913a",
            "id": "s11",
            "label": "DesensitisedACh2",
            "name": "s11",
            "shape": "ellipse"
           },
           "position": {
            "x": 812.78,
            "y": 72
           }
          }
         ]
        }
       },
       "format": "cyjs",
       "layout": "IPY_MODEL_a9b97194ff454bcf9116627da4e5144d",
       "layout_name": "preset",
       "type_of_viz": "species_view",
       "visual_style": null
      }
     },
     "f4b808dcd1104e61b9091dea2d6ba817": {
      "model_module": "viz-pysb-widget",
      "model_module_version": "^0.1.0",
      "model_name": "CytoscapeModel",
      "state": {
       "_model_module_version": "^0.1.0",
       "_view_module_version": "^0.1.0",
       "background": "#FFFFFF",
       "data": {
        "data": {
         "graph": {
          "rankdir": "LR"
         },
         "name": "pysbjupyter.pysb_models.lopez_embedded"
        },
        "elements": {
         "edges": [
          {
           "data": {
            "arrowhead": "normal",
            "id": "502ffcf9-31d2-4812-97c2-0dac542f086b",
            "source": "s0",
            "source_arrow_fill": "hollow",
            "source_arrow_shape": "triangle",
            "target": "r0",
            "target_arrow_shape": "triangle"
           }
          },
          {
           "data": {
            "arrowhead": "normal",
            "id": "b459155b-800d-419c-a252-e48d54f95d4c",
            "source": "s1",
            "source_arrow_fill": "hollow",
            "source_arrow_shape": "triangle",
            "target": "r0",
            "target_arrow_shape": "triangle"
           }
          },
          {
           "data": {
            "arrowhead": "normal",
            "id": "c4a7692a-e2e9-4d6a-859a-17264a8ad3cb",
            "source": "s2",
            "source_arrow_fill": "hollow",
            "source_arrow_shape": "triangle",
            "target": "r6",
            "target_arrow_shape": "triangle"
           }
          },
          {
           "data": {
            "arrowhead": "normal",
            "id": "70ec3bd8-470c-4839-a727-feb38a9b60ac",
            "source": "s3",
            "source_arrow_fill": "hollow",
            "source_arrow_shape": "triangle",
            "target": "r5",
            "target_arrow_shape": "triangle"
           }
          },
          {
           "data": {
            "arrowhead": "normal",
            "id": "630e0c0f-5568-4198-9326-3cfa7ff68cc1",
            "source": "s3",
            "source_arrow_fill": "hollow",
            "source_arrow_shape": "triangle",
            "target": "r25",
            "target_arrow_shape": "triangle"
           }
          },
          {
           "data": {
            "arrowhead": "normal",
            "id": "c888ca1b-1e38-4df8-8bfb-9acbabae944f",
            "source": "s4",
            "source_arrow_fill": "hollow",
            "source_arrow_shape": "triangle",
            "target": "r9",
            "target_arrow_shape": "triangle"
           }
          },
          {
           "data": {
            "arrowhead": "normal",
            "id": "d0aed1ca-c61d-4797-8baa-161feff41bb3",
            "source": "s5",
            "source_arrow_fill": "hollow",
            "source_arrow_shape": "triangle",
            "target": "r53",
            "target_arrow_shape": "triangle"
           }
          },
          {
           "data": {
            "arrowhead": "normal",
            "id": "26af7e2a-c16b-41db-b9ca-f44f20644852",
            "source": "s6",
            "source_arrow_fill": "hollow",
            "source_arrow_shape": "triangle",
            "target": "r10",
            "target_arrow_shape": "triangle"
           }
          },
          {
           "data": {
            "arrowhead": "normal",
            "id": "29909f1a-dc63-42e3-802f-460fce56527a",
            "source": "s6",
            "source_arrow_fill": "hollow",
            "source_arrow_shape": "triangle",
            "target": "r59",
            "target_arrow_shape": "triangle"
           }
          },
          {
           "data": {
            "arrowhead": "normal",
            "id": "1489f1d5-75ed-49f5-9683-d57249c65151",
            "source": "s7",
            "source_arrow_fill": "hollow",
            "source_arrow_shape": "triangle",
            "target": "r15",
            "target_arrow_shape": "triangle"
           }
          },
          {
           "data": {
            "arrowhead": "normal",
            "id": "4e36ac1f-3b93-49fe-aa46-594d9219f99f",
            "source": "s8",
            "source_arrow_fill": "hollow",
            "source_arrow_shape": "triangle",
            "target": "r58",
            "target_arrow_shape": "triangle"
           }
          },
          {
           "data": {
            "arrowhead": "normal",
            "id": "9ebd89ff-9c55-4df0-8c1c-63d81e7a377f",
            "source": "s9",
            "source_arrow_fill": "hollow",
            "source_arrow_shape": "triangle",
            "target": "r14",
            "target_arrow_shape": "triangle"
           }
          },
          {
           "data": {
            "arrowhead": "normal",
            "id": "6b7c7a72-5ac1-4b12-8df5-e02636e96259",
            "source": "s10",
            "source_arrow_fill": "hollow",
            "source_arrow_shape": "triangle",
            "target": "r13",
            "target_arrow_shape": "triangle"
           }
          },
          {
           "data": {
            "arrowhead": "normal",
            "id": "bf680ecc-5dcc-4e45-aaf9-15dee756e1cb",
            "source": "s10",
            "source_arrow_fill": "hollow",
            "source_arrow_shape": "triangle",
            "target": "r54",
            "target_arrow_shape": "triangle"
           }
          },
          {
           "data": {
            "arrowhead": "normal",
            "id": "131dec06-9094-4a4f-9b69-d17eeab76911",
            "source": "s10",
            "source_arrow_fill": "hollow",
            "source_arrow_shape": "triangle",
            "target": "r60",
            "target_arrow_shape": "triangle"
           }
          },
          {
           "data": {
            "arrowhead": "normal",
            "id": "ab294b27-27db-4a18-bf66-39f07d4f1ae8",
            "source": "s11",
            "source_arrow_fill": "hollow",
            "source_arrow_shape": "triangle",
            "target": "r8",
            "target_arrow_shape": "triangle"
           }
          },
          {
           "data": {
            "arrowhead": "normal",
            "id": "c774e09f-dbe6-4b74-b2dd-4d288e2e22bb",
            "source": "s12",
            "source_arrow_fill": "hollow",
            "source_arrow_shape": "triangle",
            "target": "r20",
            "target_arrow_shape": "triangle"
           }
          },
          {
           "data": {
            "arrowhead": "normal",
            "id": "8fd947a0-773f-4621-9777-41ed97b45005",
            "source": "s13",
            "source_arrow_fill": "hollow",
            "source_arrow_shape": "triangle",
            "target": "r21",
            "target_arrow_shape": "triangle"
           }
          },
          {
           "data": {
            "arrowhead": "normal",
            "id": "e21f67a9-551f-44f1-84e4-8a8cd0eb3e2c",
            "source": "s13",
            "source_arrow_fill": "hollow",
            "source_arrow_shape": "triangle",
            "target": "r30",
            "target_arrow_shape": "triangle"
           }
          },
          {
           "data": {
            "arrowhead": "normal",
            "id": "f3f8ec32-91fc-4c90-b7fb-e6de7265ec3e",
            "source": "s14",
            "source_arrow_fill": "hollow",
            "source_arrow_shape": "triangle",
            "target": "r1",
            "target_arrow_shape": "triangle"
           }
          },
          {
           "data": {
            "arrowhead": "normal",
            "id": "e25751ff-89a8-4216-875d-0f3b1328fbd7",
            "source": "s14",
            "source_arrow_fill": "hollow",
            "source_arrow_shape": "triangle",
            "target": "r22",
            "target_arrow_shape": "triangle"
           }
          },
          {
           "data": {
            "arrowhead": "normal",
            "id": "2ad70c42-6d8e-4b56-838e-e5b041f058d3",
            "source": "s14",
            "source_arrow_fill": "hollow",
            "source_arrow_shape": "triangle",
            "target": "r38",
            "target_arrow_shape": "triangle"
           }
          },
          {
           "data": {
            "arrowhead": "normal",
            "id": "b9f40808-ee4c-4f2d-9980-eaacb7b33f0f",
            "source": "s15",
            "source_arrow_fill": "hollow",
            "source_arrow_shape": "triangle",
            "target": "r2",
            "target_arrow_shape": "triangle"
           }
          },
          {
           "data": {
            "arrowhead": "normal",
            "id": "843a475d-81d9-445c-91d3-91e9e3737615",
            "source": "s15",
            "source_arrow_fill": "hollow",
            "source_arrow_shape": "triangle",
            "target": "r23",
            "target_arrow_shape": "triangle"
           }
          },
          {
           "data": {
            "arrowhead": "normal",
            "id": "4bc29ebe-f004-4a0f-9319-b0e2819f9a0e",
            "source": "s15",
            "source_arrow_fill": "hollow",
            "source_arrow_shape": "triangle",
            "target": "r31",
            "target_arrow_shape": "triangle"
           }
          },
          {
           "data": {
            "arrowhead": "normal",
            "id": "33a1df68-a50c-467b-8daa-fa3ac37a0552",
            "source": "s15",
            "source_arrow_fill": "hollow",
            "source_arrow_shape": "triangle",
            "target": "r39",
            "target_arrow_shape": "triangle"
           }
          },
          {
           "data": {
            "arrowhead": "normal",
            "id": "ca16f77b-af50-47b7-95f3-b602c9392150",
            "source": "s16",
            "source_arrow_fill": "hollow",
            "source_arrow_shape": "triangle",
            "target": "r3",
            "target_arrow_shape": "triangle"
           }
          },
          {
           "data": {
            "arrowhead": "normal",
            "id": "7c0843b7-715a-415d-adec-2703411bdfcb",
            "source": "s16",
            "source_arrow_fill": "hollow",
            "source_arrow_shape": "triangle",
            "target": "r24",
            "target_arrow_shape": "triangle"
           }
          },
          {
           "data": {
            "arrowhead": "normal",
            "id": "32168fd8-42ee-433b-9473-4e7c43680998",
            "source": "s16",
            "source_arrow_fill": "hollow",
            "source_arrow_shape": "triangle",
            "target": "r32",
            "target_arrow_shape": "triangle"
           }
          },
          {
           "data": {
            "arrowhead": "normal",
            "id": "28c27c7e-5e84-4e2c-b8e8-6a2ed1acfb69",
            "source": "s17",
            "source_arrow_fill": "hollow",
            "source_arrow_shape": "triangle",
            "target": "r1",
            "target_arrow_shape": "triangle"
           }
          },
          {
           "data": {
            "arrowhead": "normal",
            "id": "0d20030d-7590-442d-ab11-04aa00a0785f",
            "source": "s17",
            "source_arrow_fill": "hollow",
            "source_arrow_shape": "triangle",
            "target": "r2",
            "target_arrow_shape": "triangle"
           }
          },
          {
           "data": {
            "arrowhead": "normal",
            "id": "b8b180fe-99f8-4456-9a54-e150475e4a52",
            "source": "s18",
            "source_arrow_fill": "hollow",
            "source_arrow_shape": "triangle",
            "target": "r3",
            "target_arrow_shape": "triangle"
           }
          },
          {
           "data": {
            "arrowhead": "normal",
            "id": "4438adb1-4e56-4820-974e-33f982ecd318",
            "source": "s19",
            "source_arrow_fill": "hollow",
            "source_arrow_shape": "triangle",
            "target": "r44",
            "target_arrow_shape": "triangle"
           }
          },
          {
           "data": {
            "arrowhead": "normal",
            "id": "df2d3c00-fc53-4ce5-a5f1-9651be113421",
            "source": "s19",
            "source_arrow_fill": "hollow",
            "source_arrow_shape": "triangle",
            "target": "r51",
            "target_arrow_shape": "triangle"
           }
          },
          {
           "data": {
            "arrowhead": "normal",
            "id": "ed036a52-d259-447e-b01e-2ecce950d39c",
            "source": "s20",
            "source_arrow_fill": "hollow",
            "source_arrow_shape": "triangle",
            "target": "r45",
            "target_arrow_shape": "triangle"
           }
          },
          {
           "data": {
            "arrowhead": "normal",
            "id": "f8b63255-4ae5-42e2-97cb-059cfe699006",
            "source": "s20",
            "source_arrow_fill": "hollow",
            "source_arrow_shape": "triangle",
            "target": "r52",
            "target_arrow_shape": "triangle"
           }
          },
          {
           "data": {
            "arrowhead": "normal",
            "id": "27f29c0b-37da-4c36-8684-758d9f1f9a52",
            "source": "s21",
            "source_arrow_fill": "filled",
            "source_arrow_shape": "none",
            "target": "r4",
            "target_arrow_shape": "triangle"
           }
          },
          {
           "data": {
            "arrowhead": "normal",
            "id": "c9dbf4c2-f18e-4d42-8708-87d54b30a9e3",
            "source": "s25",
            "source_arrow_fill": "hollow",
            "source_arrow_shape": "triangle",
            "target": "r5",
            "target_arrow_shape": "triangle"
           }
          },
          {
           "data": {
            "arrowhead": "normal",
            "id": "60ee753d-3a08-4eca-af9e-8367ec90e5bd",
            "source": "s25",
            "source_arrow_fill": "hollow",
            "source_arrow_shape": "triangle",
            "target": "r6",
            "target_arrow_shape": "triangle"
           }
          },
          {
           "data": {
            "arrowhead": "normal",
            "id": "f731b377-91dd-4182-b56d-3da0b0a077ff",
            "source": "s26",
            "source_arrow_fill": "filled",
            "source_arrow_shape": "none",
            "target": "r7",
            "target_arrow_shape": "triangle"
           }
          },
          {
           "data": {
            "arrowhead": "normal",
            "id": "fc9eb43c-d78e-4a16-98bb-b9b9f02bf4fc",
            "source": "s28",
            "source_arrow_fill": "hollow",
            "source_arrow_shape": "triangle",
            "target": "r8",
            "target_arrow_shape": "triangle"
           }
          },
          {
           "data": {
            "arrowhead": "normal",
            "id": "d867cb77-5723-4246-af9c-6de1531c6772",
            "source": "s28",
            "source_arrow_fill": "hollow",
            "source_arrow_shape": "triangle",
            "target": "r9",
            "target_arrow_shape": "triangle"
           }
          },
          {
           "data": {
            "arrowhead": "normal",
            "id": "3bbee3dd-dca8-4d38-a47a-10b909e4d4b7",
            "source": "s28",
            "source_arrow_fill": "hollow",
            "source_arrow_shape": "triangle",
            "target": "r10",
            "target_arrow_shape": "triangle"
           }
          },
          {
           "data": {
            "arrowhead": "normal",
            "id": "68741af8-d048-42d0-aaf3-0b66838b2da2",
            "source": "s29",
            "source_arrow_fill": "filled",
            "source_arrow_shape": "none",
            "target": "r11",
            "target_arrow_shape": "triangle"
           }
          },
          {
           "data": {
            "arrowhead": "normal",
            "id": "254aad03-5d5e-4be1-8745-75b0d4f5368c",
            "source": "s31",
            "source_arrow_fill": "filled",
            "source_arrow_shape": "none",
            "target": "r12",
            "target_arrow_shape": "triangle"
           }
          },
          {
           "data": {
            "arrowhead": "normal",
            "id": "05788158-177c-452e-a354-471fb3ee301c",
            "source": "s32",
            "source_arrow_fill": "hollow",
            "source_arrow_shape": "triangle",
            "target": "r16",
            "target_arrow_shape": "triangle"
           }
          },
          {
           "data": {
            "arrowhead": "normal",
            "id": "b733d010-6bfc-4846-bd10-79eb3d05413b",
            "source": "s33",
            "source_arrow_fill": "hollow",
            "source_arrow_shape": "triangle",
            "target": "r13",
            "target_arrow_shape": "triangle"
           }
          },
          {
           "data": {
            "arrowhead": "normal",
            "id": "9055610a-c685-47f1-adda-2b069ce33325",
            "source": "s33",
            "source_arrow_fill": "hollow",
            "source_arrow_shape": "triangle",
            "target": "r14",
            "target_arrow_shape": "triangle"
           }
          },
          {
           "data": {
            "arrowhead": "normal",
            "id": "c710c992-2091-4bd4-8fa8-bd7cfdb80b39",
            "source": "s33",
            "source_arrow_fill": "hollow",
            "source_arrow_shape": "triangle",
            "target": "r15",
            "target_arrow_shape": "triangle"
           }
          },
          {
           "data": {
            "arrowhead": "normal",
            "id": "2d2ba433-1582-444a-a5cb-db5602462d05",
            "source": "s34",
            "source_arrow_fill": "filled",
            "source_arrow_shape": "none",
            "target": "r17",
            "target_arrow_shape": "triangle"
           }
          },
          {
           "data": {
            "arrowhead": "normal",
            "id": "c4a7dbfb-4a2f-4b79-8378-c24098219599",
            "source": "s35",
            "source_arrow_fill": "filled",
            "source_arrow_shape": "none",
            "target": "r18",
            "target_arrow_shape": "triangle"
           }
          },
          {
           "data": {
            "arrowhead": "normal",
            "id": "653405b0-9956-407b-9da7-ce898023aa89",
            "source": "s36",
            "source_arrow_fill": "filled",
            "source_arrow_shape": "none",
            "target": "r19",
            "target_arrow_shape": "triangle"
           }
          },
          {
           "data": {
            "arrowhead": "normal",
            "id": "2c540928-0b7f-4443-bd5f-e0fc9d9bba4c",
            "source": "s37",
            "source_arrow_fill": "hollow",
            "source_arrow_shape": "triangle",
            "target": "r20",
            "target_arrow_shape": "triangle"
           }
          },
          {
           "data": {
            "arrowhead": "normal",
            "id": "4c91113c-307e-414e-8950-6e9af69228bb",
            "source": "s37",
            "source_arrow_fill": "hollow",
            "source_arrow_shape": "triangle",
            "target": "r21",
            "target_arrow_shape": "triangle"
           }
          },
          {
           "data": {
            "arrowhead": "normal",
            "id": "5a8d0812-e9c3-4b47-83ed-807f9570b5d2",
            "source": "s37",
            "source_arrow_fill": "hollow",
            "source_arrow_shape": "triangle",
            "target": "r22",
            "target_arrow_shape": "triangle"
           }
          },
          {
           "data": {
            "arrowhead": "normal",
            "id": "1d565b1e-e559-4f89-9137-5c66794f6114",
            "source": "s37",
            "source_arrow_fill": "hollow",
            "source_arrow_shape": "triangle",
            "target": "r23",
            "target_arrow_shape": "triangle"
           }
          },
          {
           "data": {
            "arrowhead": "normal",
            "id": "b8cf70da-b1e5-49d0-8bfe-ab0b0cd52a24",
            "source": "s37",
            "source_arrow_fill": "hollow",
            "source_arrow_shape": "triangle",
            "target": "r24",
            "target_arrow_shape": "triangle"
           }
          },
          {
           "data": {
            "arrowhead": "normal",
            "id": "77985840-0550-4c1e-b785-56da721856fd",
            "source": "s37",
            "source_arrow_fill": "hollow",
            "source_arrow_shape": "triangle",
            "target": "r29",
            "target_arrow_shape": "triangle"
           }
          },
          {
           "data": {
            "arrowhead": "normal",
            "id": "282ea8b6-e46a-4409-a13b-e43e74d3e0e9",
            "source": "s40",
            "source_arrow_fill": "hollow",
            "source_arrow_shape": "triangle",
            "target": "r25",
            "target_arrow_shape": "triangle"
           }
          },
          {
           "data": {
            "arrowhead": "normal",
            "id": "0313656d-c6b6-4b43-88aa-40f5d02e1b5e",
            "source": "s41",
            "source_arrow_fill": "filled",
            "source_arrow_shape": "none",
            "target": "r26",
            "target_arrow_shape": "triangle"
           }
          },
          {
           "data": {
            "arrowhead": "normal",
            "id": "4b8a8747-1c7d-46c0-a83a-c0ce211c5c7d",
            "source": "s42",
            "source_arrow_fill": "filled",
            "source_arrow_shape": "none",
            "target": "r27",
            "target_arrow_shape": "triangle"
           }
          },
          {
           "data": {
            "arrowhead": "normal",
            "id": "d354ce7d-3f6e-4f5d-9fdd-d6fe66de0370",
            "source": "s46",
            "source_arrow_fill": "filled",
            "source_arrow_shape": "none",
            "target": "r28",
            "target_arrow_shape": "triangle"
           }
          },
          {
           "data": {
            "arrowhead": "normal",
            "id": "bd48a458-03b1-4f1c-8226-c1c154fe76d9",
            "source": "s47",
            "source_arrow_fill": "hollow",
            "source_arrow_shape": "triangle",
            "target": "r29",
            "target_arrow_shape": "triangle"
           }
          },
          {
           "data": {
            "arrowhead": "normal",
            "id": "05ef8503-c1a3-4393-95fe-7cbe06ac11ca",
            "source": "s47",
            "source_arrow_fill": "hollow",
            "source_arrow_shape": "triangle",
            "target": "r37",
            "target_arrow_shape": "triangle"
           }
          },
          {
           "data": {
            "arrowhead": "normal",
            "id": "20e2508c-d724-4ee1-9fde-3533b9157502",
            "source": "s48",
            "source_arrow_fill": "hollow",
            "source_arrow_shape": "triangle",
            "target": "r30",
            "target_arrow_shape": "triangle"
           }
          },
          {
           "data": {
            "arrowhead": "normal",
            "id": "29317bd0-6612-440c-840d-e7ec092ec9e1",
            "source": "s48",
            "source_arrow_fill": "hollow",
            "source_arrow_shape": "triangle",
            "target": "r31",
            "target_arrow_shape": "triangle"
           }
          },
          {
           "data": {
            "arrowhead": "normal",
            "id": "1632a94c-f128-4983-a73e-7d80f1f51fd0",
            "source": "s48",
            "source_arrow_fill": "hollow",
            "source_arrow_shape": "triangle",
            "target": "r32",
            "target_arrow_shape": "triangle"
           }
          },
          {
           "data": {
            "arrowhead": "normal",
            "id": "d0616c9e-3462-4a67-a8bb-95cc2546aae4",
            "source": "s48",
            "source_arrow_fill": "hollow",
            "source_arrow_shape": "triangle",
            "target": "r33",
            "target_arrow_shape": "triangle"
           }
          },
          {
           "data": {
            "arrowhead": "normal",
            "id": "9e843361-5532-4010-8655-8ead2e9f38c2",
            "source": "s48",
            "source_arrow_fill": "hollow",
            "source_arrow_shape": "triangle",
            "target": "r36",
            "target_arrow_shape": "triangle"
           }
          },
          {
           "data": {
            "arrowhead": "normal",
            "id": "f4e94adf-7527-47eb-86f9-b09305aca8f3",
            "source": "s48",
            "source_arrow_fill": "hollow",
            "source_arrow_shape": "triangle",
            "target": "r41",
            "target_arrow_shape": "triangle"
           }
          },
          {
           "data": {
            "arrowhead": "normal",
            "id": "8441ad59-43b5-4dd6-b90b-024c4cc0b4b7",
            "source": "s49",
            "source_arrow_fill": "filled",
            "source_arrow_shape": "none",
            "target": "r34",
            "target_arrow_shape": "triangle"
           }
          },
          {
           "data": {
            "arrowhead": "normal",
            "id": "902c59f0-ec57-45e1-a589-6c36f711226b",
            "source": "s50",
            "source_arrow_fill": "filled",
            "source_arrow_shape": "none",
            "target": "r35",
            "target_arrow_shape": "triangle"
           }
          },
          {
           "data": {
            "arrowhead": "normal",
            "id": "a38611e1-57d5-4aaa-ae70-f3d7139b2763",
            "source": "s53",
            "source_arrow_fill": "hollow",
            "source_arrow_shape": "triangle",
            "target": "r36",
            "target_arrow_shape": "triangle"
           }
          },
          {
           "data": {
            "arrowhead": "normal",
            "id": "05634394-4536-43c6-91f1-0012b275ecc0",
            "source": "s54",
            "source_arrow_fill": "hollow",
            "source_arrow_shape": "triangle",
            "target": "r37",
            "target_arrow_shape": "triangle"
           }
          },
          {
           "data": {
            "arrowhead": "normal",
            "id": "8819aa69-b4ab-4375-922e-a9594298efb1",
            "source": "s54",
            "source_arrow_fill": "hollow",
            "source_arrow_shape": "triangle",
            "target": "r38",
            "target_arrow_shape": "triangle"
           }
          },
          {
           "data": {
            "arrowhead": "normal",
            "id": "4d91cf66-35e6-4703-a3e9-e21e2de842be",
            "source": "s54",
            "source_arrow_fill": "hollow",
            "source_arrow_shape": "triangle",
            "target": "r39",
            "target_arrow_shape": "triangle"
           }
          },
          {
           "data": {
            "arrowhead": "normal",
            "id": "08f6d8b3-a1dc-42db-9806-437aee7e2c0b",
            "source": "s54",
            "source_arrow_fill": "hollow",
            "source_arrow_shape": "triangle",
            "target": "r40",
            "target_arrow_shape": "triangle"
           }
          },
          {
           "data": {
            "arrowhead": "normal",
            "id": "0219f268-7494-4d90-91fe-d3f29bc1968c",
            "source": "s54",
            "source_arrow_fill": "hollow",
            "source_arrow_shape": "triangle",
            "target": "r43",
            "target_arrow_shape": "triangle"
           }
          },
          {
           "data": {
            "arrowhead": "normal",
            "id": "af9f9684-c869-492f-9495-1450d16bde6c",
            "source": "s54",
            "source_arrow_fill": "hollow",
            "source_arrow_shape": "triangle",
            "target": "r46",
            "target_arrow_shape": "triangle"
           }
          },
          {
           "data": {
            "arrowhead": "normal",
            "id": "7d20720c-e2ec-47be-b182-79be6c5cfc5b",
            "source": "s55",
            "source_arrow_fill": "hollow",
            "source_arrow_shape": "triangle",
            "target": "r41",
            "target_arrow_shape": "triangle"
           }
          },
          {
           "data": {
            "arrowhead": "normal",
            "id": "5d7fb815-30ae-41b5-8f29-c9a677eeab56",
            "source": "s56",
            "source_arrow_fill": "filled",
            "source_arrow_shape": "none",
            "target": "r42",
            "target_arrow_shape": "triangle"
           }
          },
          {
           "data": {
            "arrowhead": "normal",
            "id": "41211584-eacb-46be-851a-4d52edf2deb0",
            "source": "s59",
            "source_arrow_fill": "hollow",
            "source_arrow_shape": "triangle",
            "target": "r43",
            "target_arrow_shape": "triangle"
           }
          },
          {
           "data": {
            "arrowhead": "normal",
            "id": "b3457973-31c9-47d3-bf5b-9de7a0262f02",
            "source": "s60",
            "source_arrow_fill": "hollow",
            "source_arrow_shape": "triangle",
            "target": "r44",
            "target_arrow_shape": "triangle"
           }
          },
          {
           "data": {
            "arrowhead": "normal",
            "id": "a65e2826-f93d-427e-a457-e38e453b23dc",
            "source": "s60",
            "source_arrow_fill": "hollow",
            "source_arrow_shape": "triangle",
            "target": "r45",
            "target_arrow_shape": "triangle"
           }
          },
          {
           "data": {
            "arrowhead": "normal",
            "id": "c1915051-7b30-476c-b3d9-5caaf0e9e387",
            "source": "s61",
            "source_arrow_fill": "hollow",
            "source_arrow_shape": "triangle",
            "target": "r46",
            "target_arrow_shape": "triangle"
           }
          },
          {
           "data": {
            "arrowhead": "normal",
            "id": "71ca1c4a-629a-4f80-a41d-d730167c47b6",
            "source": "s62",
            "source_arrow_fill": "filled",
            "source_arrow_shape": "none",
            "target": "r47",
            "target_arrow_shape": "triangle"
           }
          },
          {
           "data": {
            "arrowhead": "normal",
            "id": "6865119a-fbf2-4a7f-8178-f7090a23a2a1",
            "source": "s63",
            "source_arrow_fill": "filled",
            "source_arrow_shape": "none",
            "target": "r48",
            "target_arrow_shape": "triangle"
           }
          },
          {
           "data": {
            "arrowhead": "normal",
            "id": "ae73873d-d498-4bd8-a6de-73f60dcaaf71",
            "source": "s64",
            "source_arrow_fill": "hollow",
            "source_arrow_shape": "triangle",
            "target": "r51",
            "target_arrow_shape": "triangle"
           }
          },
          {
           "data": {
            "arrowhead": "normal",
            "id": "a4ae5ff4-553d-4665-86a1-08eb88eeacd7",
            "source": "s64",
            "source_arrow_fill": "hollow",
            "source_arrow_shape": "triangle",
            "target": "r52",
            "target_arrow_shape": "triangle"
           }
          },
          {
           "data": {
            "arrowhead": "normal",
            "id": "f97f6df3-3282-4355-b55b-a2e49dbbd022",
            "source": "s65",
            "source_arrow_fill": "hollow",
            "source_arrow_shape": "triangle",
            "target": "r50",
            "target_arrow_shape": "triangle"
           }
          },
          {
           "data": {
            "arrowhead": "normal",
            "id": "59f1d513-4aa5-4b43-8fbe-0eb58208fa41",
            "source": "s66",
            "source_arrow_fill": "hollow",
            "source_arrow_shape": "triangle",
            "target": "r49",
            "target_arrow_shape": "triangle"
           }
          },
          {
           "data": {
            "arrowhead": "normal",
            "id": "c7e54ea7-5075-4d27-b3ec-fc514ddc7230",
            "source": "s67",
            "source_arrow_fill": "hollow",
            "source_arrow_shape": "triangle",
            "target": "r54",
            "target_arrow_shape": "triangle"
           }
          },
          {
           "data": {
            "arrowhead": "normal",
            "id": "cf878827-e6a3-47b4-8531-26c0bea56766",
            "source": "s68",
            "source_arrow_fill": "hollow",
            "source_arrow_shape": "triangle",
            "target": "r53",
            "target_arrow_shape": "triangle"
           }
          },
          {
           "data": {
            "arrowhead": "normal",
            "id": "052bafb2-d7f1-4ba0-94b6-9bee6a88e00e",
            "source": "s69",
            "source_arrow_fill": "filled",
            "source_arrow_shape": "none",
            "target": "r55",
            "target_arrow_shape": "triangle"
           }
          },
          {
           "data": {
            "arrowhead": "normal",
            "id": "3e4c62b4-9d43-4970-a182-5d59aedf0280",
            "source": "s70",
            "source_arrow_fill": "filled",
            "source_arrow_shape": "none",
            "target": "r56",
            "target_arrow_shape": "triangle"
           }
          },
          {
           "data": {
            "arrowhead": "normal",
            "id": "39cc3f40-8ed3-4657-96b4-6031dfa01a1d",
            "source": "s71",
            "source_arrow_fill": "filled",
            "source_arrow_shape": "none",
            "target": "r57",
            "target_arrow_shape": "triangle"
           }
          },
          {
           "data": {
            "arrowhead": "normal",
            "id": "4747e43a-bd02-4bc4-8d85-850fbbb65b48",
            "source": "s73",
            "source_arrow_fill": "hollow",
            "source_arrow_shape": "triangle",
            "target": "r58",
            "target_arrow_shape": "triangle"
           }
          },
          {
           "data": {
            "arrowhead": "normal",
            "id": "35a59004-62b8-4c30-9089-697c38f9339c",
            "source": "s74",
            "source_arrow_fill": "hollow",
            "source_arrow_shape": "triangle",
            "target": "r59",
            "target_arrow_shape": "triangle"
           }
          },
          {
           "data": {
            "arrowhead": "normal",
            "id": "4941884f-5920-4125-a5d8-2bb08e3eb822",
            "source": "s74",
            "source_arrow_fill": "hollow",
            "source_arrow_shape": "triangle",
            "target": "r60",
            "target_arrow_shape": "triangle"
           }
          },
          {
           "data": {
            "arrowhead": "normal",
            "id": "88d52e10-a429-4560-8f71-5126ea92e915",
            "source": "s75",
            "source_arrow_fill": "filled",
            "source_arrow_shape": "none",
            "target": "r61",
            "target_arrow_shape": "triangle"
           }
          },
          {
           "data": {
            "arrowhead": "normal",
            "id": "6cd3a4df-4ef3-4757-b037-3d2dc948cdc3",
            "source": "r0",
            "source_arrow_fill": "hollow",
            "source_arrow_shape": "triangle",
            "target": "s21",
            "target_arrow_shape": "triangle"
           }
          },
          {
           "data": {
            "arrowhead": "normal",
            "id": "6ab289e5-beef-49c4-b922-81d327676c5c",
            "source": "r1",
            "source_arrow_fill": "hollow",
            "source_arrow_shape": "triangle",
            "target": "s22",
            "target_arrow_shape": "triangle"
           }
          },
          {
           "data": {
            "arrowhead": "normal",
            "id": "ee9820b0-24ef-4c23-837d-33519f20e050",
            "source": "r2",
            "source_arrow_fill": "hollow",
            "source_arrow_shape": "triangle",
            "target": "s23",
            "target_arrow_shape": "triangle"
           }
          },
          {
           "data": {
            "arrowhead": "normal",
            "id": "31b8fc22-b652-4e34-880a-8d7103902954",
            "source": "r3",
            "source_arrow_fill": "hollow",
            "source_arrow_shape": "triangle",
            "target": "s24",
            "target_arrow_shape": "triangle"
           }
          },
          {
           "data": {
            "arrowhead": "normal",
            "id": "e89cff20-9970-4ebe-ac1b-2badcf51c2ca",
            "source": "r4",
            "source_arrow_fill": "filled",
            "source_arrow_shape": "none",
            "target": "s25",
            "target_arrow_shape": "triangle"
           }
          },
          {
           "data": {
            "arrowhead": "normal",
            "id": "ee977398-9ef7-423a-a903-5413635d37f4",
            "source": "r5",
            "source_arrow_fill": "hollow",
            "source_arrow_shape": "triangle",
            "target": "s26",
            "target_arrow_shape": "triangle"
           }
          },
          {
           "data": {
            "arrowhead": "normal",
            "id": "56450410-35b3-4252-baef-d3df2322fb80",
            "source": "r6",
            "source_arrow_fill": "hollow",
            "source_arrow_shape": "triangle",
            "target": "s27",
            "target_arrow_shape": "triangle"
           }
          },
          {
           "data": {
            "arrowhead": "normal",
            "id": "0dcd35aa-d373-411f-99c8-ee2960a1a18b",
            "source": "r7",
            "source_arrow_fill": "filled",
            "source_arrow_shape": "none",
            "target": "s25",
            "target_arrow_shape": "triangle"
           }
          },
          {
           "data": {
            "arrowhead": "normal",
            "id": "58e48b60-3052-4f5f-a066-46fba1280418",
            "source": "r7",
            "source_arrow_fill": "filled",
            "source_arrow_shape": "none",
            "target": "s28",
            "target_arrow_shape": "triangle"
           }
          },
          {
           "data": {
            "arrowhead": "normal",
            "id": "7d977d01-bca3-4c47-a792-b7a5c7a016c1",
            "source": "r8",
            "source_arrow_fill": "hollow",
            "source_arrow_shape": "triangle",
            "target": "s29",
            "target_arrow_shape": "triangle"
           }
          },
          {
           "data": {
            "arrowhead": "normal",
            "id": "635471ce-c3c7-4413-ad4d-f7bf49635d33",
            "source": "r9",
            "source_arrow_fill": "hollow",
            "source_arrow_shape": "triangle",
            "target": "s30",
            "target_arrow_shape": "triangle"
           }
          },
          {
           "data": {
            "arrowhead": "normal",
            "id": "cdd05be9-887a-4a5b-9ada-fed19f1bc434",
            "source": "r10",
            "source_arrow_fill": "hollow",
            "source_arrow_shape": "triangle",
            "target": "s31",
            "target_arrow_shape": "triangle"
           }
          },
          {
           "data": {
            "arrowhead": "normal",
            "id": "e90c8fa4-3d35-40ff-b972-0b8ed825c5c3",
            "source": "r11",
            "source_arrow_fill": "filled",
            "source_arrow_shape": "none",
            "target": "s32",
            "target_arrow_shape": "triangle"
           }
          },
          {
           "data": {
            "arrowhead": "normal",
            "id": "99b7190b-de36-4584-8923-d810c291cad3",
            "source": "r11",
            "source_arrow_fill": "filled",
            "source_arrow_shape": "none",
            "target": "s28",
            "target_arrow_shape": "triangle"
           }
          },
          {
           "data": {
            "arrowhead": "normal",
            "id": "3418863c-6043-4cb2-9701-e58a230a9033",
            "source": "r12",
            "source_arrow_fill": "filled",
            "source_arrow_shape": "none",
            "target": "s33",
            "target_arrow_shape": "triangle"
           }
          },
          {
           "data": {
            "arrowhead": "normal",
            "id": "b08e6294-eb3f-4bea-bb78-f884c604d511",
            "source": "r12",
            "source_arrow_fill": "filled",
            "source_arrow_shape": "none",
            "target": "s28",
            "target_arrow_shape": "triangle"
           }
          },
          {
           "data": {
            "arrowhead": "normal",
            "id": "c4e557b3-6046-433f-894b-0e78a318a94e",
            "source": "r13",
            "source_arrow_fill": "hollow",
            "source_arrow_shape": "triangle",
            "target": "s34",
            "target_arrow_shape": "triangle"
           }
          },
          {
           "data": {
            "arrowhead": "normal",
            "id": "5a52a7dd-1308-4546-96d7-c814b6b3738a",
            "source": "r14",
            "source_arrow_fill": "hollow",
            "source_arrow_shape": "triangle",
            "target": "s35",
            "target_arrow_shape": "triangle"
           }
          },
          {
           "data": {
            "arrowhead": "normal",
            "id": "167181ec-3901-44fe-b22b-94b3ab3c2db0",
            "source": "r15",
            "source_arrow_fill": "hollow",
            "source_arrow_shape": "triangle",
            "target": "s36",
            "target_arrow_shape": "triangle"
           }
          },
          {
           "data": {
            "arrowhead": "normal",
            "id": "3a8afe74-af6f-4da7-9ad5-512f3f876779",
            "source": "r16",
            "source_arrow_fill": "hollow",
            "source_arrow_shape": "triangle",
            "target": "s37",
            "target_arrow_shape": "triangle"
           }
          },
          {
           "data": {
            "arrowhead": "normal",
            "id": "4525128a-be1f-4865-87af-306dde6033bb",
            "source": "r17",
            "source_arrow_fill": "filled",
            "source_arrow_shape": "none",
            "target": "s10",
            "target_arrow_shape": "triangle"
           }
          },
          {
           "data": {
            "arrowhead": "normal",
            "id": "e9640ddd-de2d-4a66-ade2-fa9a89587313",
            "source": "r17",
            "source_arrow_fill": "filled",
            "source_arrow_shape": "none",
            "target": "s38",
            "target_arrow_shape": "triangle"
           }
          },
          {
           "data": {
            "arrowhead": "normal",
            "id": "31cbe187-4b2b-4a0c-bf66-a985db4c074e",
            "source": "r18",
            "source_arrow_fill": "filled",
            "source_arrow_shape": "none",
            "target": "s33",
            "target_arrow_shape": "triangle"
           }
          },
          {
           "data": {
            "arrowhead": "normal",
            "id": "61ccf7ed-7a8a-41af-a3af-8be5b8dfb283",
            "source": "r18",
            "source_arrow_fill": "filled",
            "source_arrow_shape": "none",
            "target": "s39",
            "target_arrow_shape": "triangle"
           }
          },
          {
           "data": {
            "arrowhead": "normal",
            "id": "463c6329-9305-4704-bb2a-16213d2b6962",
            "source": "r19",
            "source_arrow_fill": "filled",
            "source_arrow_shape": "none",
            "target": "s40",
            "target_arrow_shape": "triangle"
           }
          },
          {
           "data": {
            "arrowhead": "normal",
            "id": "3b323b25-cc78-4726-a677-2d104d9b3cec",
            "source": "r19",
            "source_arrow_fill": "filled",
            "source_arrow_shape": "none",
            "target": "s33",
            "target_arrow_shape": "triangle"
           }
          },
          {
           "data": {
            "arrowhead": "normal",
            "id": "9623ed52-9654-4215-8c22-9441ed681695",
            "source": "r20",
            "source_arrow_fill": "hollow",
            "source_arrow_shape": "triangle",
            "target": "s41",
            "target_arrow_shape": "triangle"
           }
          },
          {
           "data": {
            "arrowhead": "normal",
            "id": "7f928529-d08d-44fc-a090-bf1ac076a699",
            "source": "r21",
            "source_arrow_fill": "hollow",
            "source_arrow_shape": "triangle",
            "target": "s42",
            "target_arrow_shape": "triangle"
           }
          },
          {
           "data": {
            "arrowhead": "normal",
            "id": "7df32360-c716-49d6-bd4b-5caea8c982ec",
            "source": "r22",
            "source_arrow_fill": "hollow",
            "source_arrow_shape": "triangle",
            "target": "s43",
            "target_arrow_shape": "triangle"
           }
          },
          {
           "data": {
            "arrowhead": "normal",
            "id": "9402153e-6d9e-4e3e-94d8-d511959bc9b4",
            "source": "r23",
            "source_arrow_fill": "hollow",
            "source_arrow_shape": "triangle",
            "target": "s44",
            "target_arrow_shape": "triangle"
           }
          },
          {
           "data": {
            "arrowhead": "normal",
            "id": "cfc17b42-8433-4ac6-bba5-4267502c594d",
            "source": "r24",
            "source_arrow_fill": "hollow",
            "source_arrow_shape": "triangle",
            "target": "s45",
            "target_arrow_shape": "triangle"
           }
          },
          {
           "data": {
            "arrowhead": "normal",
            "id": "ee38844c-d87e-48d1-897c-ff9dd0c2e061",
            "source": "r25",
            "source_arrow_fill": "hollow",
            "source_arrow_shape": "triangle",
            "target": "s46",
            "target_arrow_shape": "triangle"
           }
          },
          {
           "data": {
            "arrowhead": "normal",
            "id": "0c40632e-6ea8-4939-a0f5-03f9645b1eab",
            "source": "r26",
            "source_arrow_fill": "filled",
            "source_arrow_shape": "none",
            "target": "s37",
            "target_arrow_shape": "triangle"
           }
          },
          {
           "data": {
            "arrowhead": "normal",
            "id": "41868a02-7e26-4669-9fe2-b6319bce8ff4",
            "source": "r26",
            "source_arrow_fill": "filled",
            "source_arrow_shape": "none",
            "target": "s47",
            "target_arrow_shape": "triangle"
           }
          },
          {
           "data": {
            "arrowhead": "normal",
            "id": "d569e580-4f7c-4564-8012-e0b4beb40edf",
            "source": "r27",
            "source_arrow_fill": "filled",
            "source_arrow_shape": "none",
            "target": "s48",
            "target_arrow_shape": "triangle"
           }
          },
          {
           "data": {
            "arrowhead": "normal",
            "id": "c196f52d-b153-46c8-8b17-be0613add7ff",
            "source": "r27",
            "source_arrow_fill": "filled",
            "source_arrow_shape": "none",
            "target": "s37",
            "target_arrow_shape": "triangle"
           }
          },
          {
           "data": {
            "arrowhead": "normal",
            "id": "e2d2722b-6e40-4410-8b98-136843f8104d",
            "source": "r28",
            "source_arrow_fill": "filled",
            "source_arrow_shape": "none",
            "target": "s40",
            "target_arrow_shape": "triangle"
           }
          },
          {
           "data": {
            "arrowhead": "normal",
            "id": "adc1eb04-051b-4f9c-8661-ca45fc3e681c",
            "source": "r28",
            "source_arrow_fill": "filled",
            "source_arrow_shape": "none",
            "target": "s28",
            "target_arrow_shape": "triangle"
           }
          },
          {
           "data": {
            "arrowhead": "normal",
            "id": "07677332-fa39-433b-b140-565bd32e4ca9",
            "source": "r29",
            "source_arrow_fill": "hollow",
            "source_arrow_shape": "triangle",
            "target": "s49",
            "target_arrow_shape": "triangle"
           }
          },
          {
           "data": {
            "arrowhead": "normal",
            "id": "cb123ae6-d84f-4276-a188-7d9ea48d5765",
            "source": "r30",
            "source_arrow_fill": "hollow",
            "source_arrow_shape": "triangle",
            "target": "s50",
            "target_arrow_shape": "triangle"
           }
          },
          {
           "data": {
            "arrowhead": "normal",
            "id": "630e32fe-5cbd-4d6b-b228-40e115f91f07",
            "source": "r31",
            "source_arrow_fill": "hollow",
            "source_arrow_shape": "triangle",
            "target": "s51",
            "target_arrow_shape": "triangle"
           }
          },
          {
           "data": {
            "arrowhead": "normal",
            "id": "c3393a26-d902-47b4-868e-8d9a7eb6bdac",
            "source": "r32",
            "source_arrow_fill": "hollow",
            "source_arrow_shape": "triangle",
            "target": "s52",
            "target_arrow_shape": "triangle"
           }
          },
          {
           "data": {
            "arrowhead": "normal",
            "id": "b57f6c07-fd37-4401-8393-289fb4bbd21c",
            "source": "r33",
            "source_arrow_fill": "hollow",
            "source_arrow_shape": "triangle",
            "target": "s53",
            "target_arrow_shape": "triangle"
           }
          },
          {
           "data": {
            "arrowhead": "normal",
            "id": "0db3fb43-7ef0-47c0-8f63-d7addfd0a836",
            "source": "r34",
            "source_arrow_fill": "filled",
            "source_arrow_shape": "none",
            "target": "s37",
            "target_arrow_shape": "triangle"
           }
          },
          {
           "data": {
            "arrowhead": "normal",
            "id": "35bf08e0-af5a-4a0b-9eee-97a99dbe9a25",
            "source": "r34",
            "source_arrow_fill": "filled",
            "source_arrow_shape": "none",
            "target": "s54",
            "target_arrow_shape": "triangle"
           }
          },
          {
           "data": {
            "arrowhead": "normal",
            "id": "3944a04c-6e8b-4069-a813-0a92eb5bafc8",
            "source": "r35",
            "source_arrow_fill": "filled",
            "source_arrow_shape": "none",
            "target": "s48",
            "target_arrow_shape": "triangle"
           }
          },
          {
           "data": {
            "arrowhead": "normal",
            "id": "e8f77b02-d647-45cc-b705-b6c639a010f0",
            "source": "r36",
            "source_arrow_fill": "hollow",
            "source_arrow_shape": "triangle",
            "target": "s55",
            "target_arrow_shape": "triangle"
           }
          },
          {
           "data": {
            "arrowhead": "normal",
            "id": "2ca5ec35-0912-41b8-8c26-3a2d55a37ea6",
            "source": "r37",
            "source_arrow_fill": "hollow",
            "source_arrow_shape": "triangle",
            "target": "s56",
            "target_arrow_shape": "triangle"
           }
          },
          {
           "data": {
            "arrowhead": "normal",
            "id": "ba24d412-c289-4810-b326-c56cbf427702",
            "source": "r38",
            "source_arrow_fill": "hollow",
            "source_arrow_shape": "triangle",
            "target": "s57",
            "target_arrow_shape": "triangle"
           }
          },
          {
           "data": {
            "arrowhead": "normal",
            "id": "c7ddd391-2c9b-43c7-9b4b-1fe0ce3467fc",
            "source": "r39",
            "source_arrow_fill": "hollow",
            "source_arrow_shape": "triangle",
            "target": "s58",
            "target_arrow_shape": "triangle"
           }
          },
          {
           "data": {
            "arrowhead": "normal",
            "id": "2e893c67-248c-4446-80b6-b1bb2ed229bd",
            "source": "r40",
            "source_arrow_fill": "hollow",
            "source_arrow_shape": "triangle",
            "target": "s59",
            "target_arrow_shape": "triangle"
           }
          },
          {
           "data": {
            "arrowhead": "normal",
            "id": "41261cfc-e463-4ae1-9152-906bfb62dd9b",
            "source": "r41",
            "source_arrow_fill": "hollow",
            "source_arrow_shape": "triangle",
            "target": "s60",
            "target_arrow_shape": "triangle"
           }
          },
          {
           "data": {
            "arrowhead": "normal",
            "id": "0eade6a9-0183-4402-9c4e-5cb6dc05ef4f",
            "source": "r42",
            "source_arrow_fill": "filled",
            "source_arrow_shape": "none",
            "target": "s54",
            "target_arrow_shape": "triangle"
           }
          },
          {
           "data": {
            "arrowhead": "normal",
            "id": "3ed94ee3-0f4e-43d9-b922-3fc29f577fc7",
            "source": "r43",
            "source_arrow_fill": "hollow",
            "source_arrow_shape": "triangle",
            "target": "s61",
            "target_arrow_shape": "triangle"
           }
          },
          {
           "data": {
            "arrowhead": "normal",
            "id": "e7553e81-705b-4e5a-9837-67d95780ff0f",
            "source": "r44",
            "source_arrow_fill": "hollow",
            "source_arrow_shape": "triangle",
            "target": "s62",
            "target_arrow_shape": "triangle"
           }
          },
          {
           "data": {
            "arrowhead": "normal",
            "id": "76a5388f-93d9-42a7-bdfb-2bb97b7d528e",
            "source": "r45",
            "source_arrow_fill": "hollow",
            "source_arrow_shape": "triangle",
            "target": "s63",
            "target_arrow_shape": "triangle"
           }
          },
          {
           "data": {
            "arrowhead": "normal",
            "id": "dcd651f3-7f6c-4316-bfa8-38512b497610",
            "source": "r46",
            "source_arrow_fill": "hollow",
            "source_arrow_shape": "triangle",
            "target": "s64",
            "target_arrow_shape": "triangle"
           }
          },
          {
           "data": {
            "arrowhead": "normal",
            "id": "7fb63737-1ef7-44ec-a984-f68a974333fd",
            "source": "r47",
            "source_arrow_fill": "filled",
            "source_arrow_shape": "none",
            "target": "s65",
            "target_arrow_shape": "triangle"
           }
          },
          {
           "data": {
            "arrowhead": "normal",
            "id": "15987fe0-f47d-4d32-81d2-945d21426622",
            "source": "r47",
            "source_arrow_fill": "filled",
            "source_arrow_shape": "none",
            "target": "s60",
            "target_arrow_shape": "triangle"
           }
          },
          {
           "data": {
            "arrowhead": "normal",
            "id": "3cac711f-dc88-4a8e-aa1c-571466a76140",
            "source": "r48",
            "source_arrow_fill": "filled",
            "source_arrow_shape": "none",
            "target": "s66",
            "target_arrow_shape": "triangle"
           }
          },
          {
           "data": {
            "arrowhead": "normal",
            "id": "5f1b2f9e-2016-48ee-ac6e-aa56f2c50d9f",
            "source": "r48",
            "source_arrow_fill": "filled",
            "source_arrow_shape": "none",
            "target": "s60",
            "target_arrow_shape": "triangle"
           }
          },
          {
           "data": {
            "arrowhead": "normal",
            "id": "9e178564-4deb-4d5f-b473-734bb4fde6a9",
            "source": "r49",
            "source_arrow_fill": "hollow",
            "source_arrow_shape": "triangle",
            "target": "s67",
            "target_arrow_shape": "triangle"
           }
          },
          {
           "data": {
            "arrowhead": "normal",
            "id": "1975fbe8-b135-40c1-ab13-bba1cb1db281",
            "source": "r50",
            "source_arrow_fill": "hollow",
            "source_arrow_shape": "triangle",
            "target": "s68",
            "target_arrow_shape": "triangle"
           }
          },
          {
           "data": {
            "arrowhead": "normal",
            "id": "cc0419af-dbf9-42e6-ba44-7ee0f5f033aa",
            "source": "r51",
            "source_arrow_fill": "hollow",
            "source_arrow_shape": "triangle",
            "target": "s69",
            "target_arrow_shape": "triangle"
           }
          },
          {
           "data": {
            "arrowhead": "normal",
            "id": "383ea28c-07aa-489c-b765-869d4451f2ee",
            "source": "r52",
            "source_arrow_fill": "hollow",
            "source_arrow_shape": "triangle",
            "target": "s70",
            "target_arrow_shape": "triangle"
           }
          },
          {
           "data": {
            "arrowhead": "normal",
            "id": "a5b148db-c5ec-4306-bb51-12e2462ba732",
            "source": "r53",
            "source_arrow_fill": "hollow",
            "source_arrow_shape": "triangle",
            "target": "s71",
            "target_arrow_shape": "triangle"
           }
          },
          {
           "data": {
            "arrowhead": "normal",
            "id": "738d29bd-6813-4dc2-bf79-a66106a163cf",
            "source": "r54",
            "source_arrow_fill": "hollow",
            "source_arrow_shape": "triangle",
            "target": "s72",
            "target_arrow_shape": "triangle"
           }
          },
          {
           "data": {
            "arrowhead": "normal",
            "id": "3c1361ee-6eb4-4109-85b8-aaf02778909b",
            "source": "r55",
            "source_arrow_fill": "filled",
            "source_arrow_shape": "none",
            "target": "s64",
            "target_arrow_shape": "triangle"
           }
          },
          {
           "data": {
            "arrowhead": "normal",
            "id": "70ed58e9-16ca-4290-9768-036dd39f6b9a",
            "source": "r55",
            "source_arrow_fill": "filled",
            "source_arrow_shape": "none",
            "target": "s65",
            "target_arrow_shape": "triangle"
           }
          },
          {
           "data": {
            "arrowhead": "normal",
            "id": "1ba50531-0066-4165-973e-8781d4ef0b5f",
            "source": "r56",
            "source_arrow_fill": "filled",
            "source_arrow_shape": "none",
            "target": "s64",
            "target_arrow_shape": "triangle"
           }
          },
          {
           "data": {
            "arrowhead": "normal",
            "id": "8539d07f-750b-4643-a8e4-a94ecba6c8ec",
            "source": "r56",
            "source_arrow_fill": "filled",
            "source_arrow_shape": "none",
            "target": "s66",
            "target_arrow_shape": "triangle"
           }
          },
          {
           "data": {
            "arrowhead": "normal",
            "id": "a17ba039-1db3-4a56-a1ed-39b7ff58072b",
            "source": "r57",
            "source_arrow_fill": "filled",
            "source_arrow_shape": "none",
            "target": "s73",
            "target_arrow_shape": "triangle"
           }
          },
          {
           "data": {
            "arrowhead": "normal",
            "id": "e5927b72-4c6a-4f19-b78b-bd60089d3d3f",
            "source": "r57",
            "source_arrow_fill": "filled",
            "source_arrow_shape": "none",
            "target": "s68",
            "target_arrow_shape": "triangle"
           }
          },
          {
           "data": {
            "arrowhead": "normal",
            "id": "1f48d544-b2a4-4f39-b132-8385f8ed1f1e",
            "source": "r58",
            "source_arrow_fill": "hollow",
            "source_arrow_shape": "triangle",
            "target": "s74",
            "target_arrow_shape": "triangle"
           }
          },
          {
           "data": {
            "arrowhead": "normal",
            "id": "8556bdf4-36e7-4dbd-a139-3275813589df",
            "source": "r59",
            "source_arrow_fill": "hollow",
            "source_arrow_shape": "triangle",
            "target": "s75",
            "target_arrow_shape": "triangle"
           }
          },
          {
           "data": {
            "arrowhead": "normal",
            "id": "6efe64d1-7c04-4ea9-b788-c3fd861e0e5b",
            "source": "r60",
            "source_arrow_fill": "hollow",
            "source_arrow_shape": "triangle",
            "target": "s76",
            "target_arrow_shape": "triangle"
           }
          },
          {
           "data": {
            "arrowhead": "normal",
            "id": "6d87d6ff-bbdc-489e-800b-7257ea6f102e",
            "source": "r61",
            "source_arrow_fill": "filled",
            "source_arrow_shape": "none",
            "target": "s33",
            "target_arrow_shape": "triangle"
           }
          },
          {
           "data": {
            "arrowhead": "normal",
            "id": "6aa4d4e4-da9d-4e3a-8395-5b2f5f2737b5",
            "source": "r61",
            "source_arrow_fill": "filled",
            "source_arrow_shape": "none",
            "target": "s74",
            "target_arrow_shape": "triangle"
           }
          }
         ],
         "nodes": [
          {
           "data": {
            "NodeType": "species",
            "background_color": "#aaffff",
            "bipartite": 0,
            "id": "s0",
            "label": "L",
            "name": "s0",
            "shape": "ellipse"
           },
           "position": {
            "x": 27,
            "y": 806.8
           }
          },
          {
           "data": {
            "NodeType": "species",
            "background_color": "#aaffff",
            "bipartite": 0,
            "id": "s1",
            "label": "R",
            "name": "s1",
            "shape": "ellipse"
           },
           "position": {
            "x": 27,
            "y": 752.8
           }
          },
          {
           "data": {
            "NodeType": "species",
            "background_color": "#aaffff",
            "bipartite": 0,
            "id": "s2",
            "label": "flip",
            "name": "s2",
            "shape": "ellipse"
           },
           "position": {
            "x": 392.22,
            "y": 725.8
           }
          },
          {
           "data": {
            "NodeType": "species",
            "background_color": "#aaffff",
            "bipartite": 0,
            "id": "s3",
            "label": "proC8",
            "name": "s3",
            "shape": "ellipse"
           },
           "position": {
            "x": 392.22,
            "y": 848.8
           }
          },
          {
           "data": {
            "NodeType": "species",
            "background_color": "#aaffff",
            "bipartite": 0,
            "id": "s4",
            "label": "BAR",
            "name": "s4",
            "shape": "ellipse"
           },
           "position": {
            "x": 819.26,
            "y": 601.8
           }
          },
          {
           "data": {
            "NodeType": "species",
            "background_color": "#aaffff",
            "bipartite": 0,
            "id": "s5",
            "label": "iApaf",
            "name": "s5",
            "shape": "ellipse"
           },
           "position": {
            "x": 3622.3,
            "y": 637.8
           }
          },
          {
           "data": {
            "NodeType": "species",
            "background_color": "#aaffff",
            "bipartite": 0,
            "id": "s6",
            "label": "proC3",
            "name": "s6",
            "shape": "ellipse"
           },
           "position": {
            "x": 819.26,
            "y": 842.8
           }
          },
          {
           "data": {
            "NodeType": "species",
            "background_color": "#aaffff",
            "bipartite": 0,
            "id": "s7",
            "label": "proC6",
            "name": "s7",
            "shape": "ellipse"
           },
           "position": {
            "x": 4691.6,
            "y": 855.8
           }
          },
          {
           "data": {
            "NodeType": "species",
            "background_color": "#aaffff",
            "bipartite": 0,
            "id": "s8",
            "label": "C9",
            "name": "s8",
            "shape": "ellipse"
           },
           "position": {
            "x": 4077,
            "y": 693.8
           }
          },
          {
           "data": {
            "NodeType": "species",
            "background_color": "#aaffff",
            "bipartite": 0,
            "id": "s9",
            "label": "uPARP",
            "name": "s9",
            "shape": "ellipse"
           },
           "position": {
            "x": 4691.6,
            "y": 633.8
           }
          },
          {
           "data": {
            "NodeType": "species",
            "background_color": "#aaffff",
            "bipartite": 0,
            "id": "s10",
            "label": "XIAP",
            "name": "s10",
            "shape": "ellipse"
           },
           "position": {
            "x": 5120.9,
            "y": 698.8
           }
          },
          {
           "data": {
            "NodeType": "species",
            "background_color": "#aaffff",
            "bipartite": 0,
            "id": "s11",
            "label": "uBid",
            "name": "s11",
            "shape": "ellipse"
           },
           "position": {
            "x": 819.26,
            "y": 655.8
           }
          },
          {
           "data": {
            "NodeType": "species",
            "background_color": "#aaffff",
            "bipartite": 0,
            "id": "s12",
            "label": "cBax",
            "name": "s12",
            "shape": "ellipse"
           },
           "position": {
            "x": 1418.4,
            "y": 57.804
           }
          },
          {
           "data": {
            "NodeType": "species",
            "background_color": "#aaffff",
            "bipartite": 0,
            "id": "s13",
            "label": "mBak",
            "name": "s13",
            "shape": "ellipse"
           },
           "position": {
            "x": 1418.4,
            "y": 371.8
           }
          },
          {
           "data": {
            "NodeType": "species",
            "background_color": "#aaffff",
            "bipartite": 0,
            "id": "s14",
            "label": "mBcl2",
            "name": "s14",
            "shape": "ellipse"
           },
           "position": {
            "x": 1874.9,
            "y": 621.8
           }
          },
          {
           "data": {
            "NodeType": "species",
            "background_color": "#aaffff",
            "bipartite": 0,
            "id": "s15",
            "label": "mBclxL",
            "name": "s15",
            "shape": "ellipse"
           },
           "position": {
            "x": 1874.9,
            "y": 513.8
           }
          },
          {
           "data": {
            "NodeType": "species",
            "background_color": "#aaffff",
            "bipartite": 0,
            "id": "s16",
            "label": "mMcl1",
            "name": "s16",
            "shape": "ellipse"
           },
           "position": {
            "x": 1418.4,
            "y": 465.8
           }
          },
          {
           "data": {
            "NodeType": "species",
            "background_color": "#aaffff",
            "bipartite": 0,
            "id": "s17",
            "label": "mBad",
            "name": "s17",
            "shape": "ellipse"
           },
           "position": {
            "x": 1874.9,
            "y": 567.8
           }
          },
          {
           "data": {
            "NodeType": "species",
            "background_color": "#aaffff",
            "bipartite": 0,
            "id": "s18",
            "label": "mNoxa",
            "name": "s18",
            "shape": "ellipse"
           },
           "position": {
            "x": 1418.4,
            "y": 519.8
           }
          },
          {
           "data": {
            "NodeType": "species",
            "background_color": "#aaffff",
            "bipartite": 0,
            "id": "s19",
            "label": "mCytoC",
            "name": "s19",
            "shape": "ellipse"
           },
           "position": {
            "x": 2961.6,
            "y": 377.8
           }
          },
          {
           "data": {
            "NodeType": "species",
            "background_color": "#aaffff",
            "bipartite": 0,
            "id": "s20",
            "label": "mSmac",
            "name": "s20",
            "shape": "ellipse"
           },
           "position": {
            "x": 2961.6,
            "y": 300.8
           }
          },
          {
           "data": {
            "NodeType": "species",
            "background_color": "#ccffcc",
            "bipartite": 0,
            "id": "s21",
            "label": "L-R",
            "name": "s21",
            "shape": "ellipse"
           },
           "position": {
            "x": 207,
            "y": 779.8
           }
          },
          {
           "data": {
            "NodeType": "species",
            "background_color": "#ccffcc",
            "bipartite": 0,
            "id": "s22",
            "label": "mBad-mBcl2",
            "name": "s22",
            "shape": "ellipse"
           },
           "position": {
            "x": 2103.2,
            "y": 617.8
           }
          },
          {
           "data": {
            "NodeType": "species",
            "background_color": "#ccffcc",
            "bipartite": 0,
            "id": "s23",
            "label": "mBad-mBclxL",
            "name": "s23",
            "shape": "ellipse"
           },
           "position": {
            "x": 2103.2,
            "y": 563.8
           }
          },
          {
           "data": {
            "NodeType": "species",
            "background_color": "#ccffcc",
            "bipartite": 0,
            "id": "s24",
            "label": "mMcl1-mNoxa",
            "name": "s24",
            "shape": "ellipse"
           },
           "position": {
            "x": 1645.2,
            "y": 515.8
           }
          },
          {
           "data": {
            "NodeType": "species",
            "background_color": "#ccffcc",
            "bipartite": 0,
            "id": "s25",
            "label": "DISC",
            "name": "s25",
            "shape": "ellipse"
           },
           "position": {
            "x": 392.22,
            "y": 779.8
           }
          },
          {
           "data": {
            "NodeType": "species",
            "background_color": "#ccffcc",
            "bipartite": 0,
            "id": "s26",
            "label": "proC8-DISC",
            "name": "s26",
            "shape": "ellipse"
           },
           "position": {
            "x": 605.74,
            "y": 823.8
           }
          },
          {
           "data": {
            "NodeType": "species",
            "background_color": "#ccffcc",
            "bipartite": 0,
            "id": "s27",
            "label": "DISC-flip",
            "name": "s27",
            "shape": "ellipse"
           },
           "position": {
            "x": 605.74,
            "y": 729.8
           }
          },
          {
           "data": {
            "NodeType": "species",
            "background_color": "#ccffcc",
            "bipartite": 0,
            "id": "s28",
            "label": "aC8",
            "name": "s28",
            "shape": "ellipse"
           },
           "position": {
            "x": 819.26,
            "y": 739.8
           }
          },
          {
           "data": {
            "NodeType": "species",
            "background_color": "#ccffcc",
            "bipartite": 0,
            "id": "s29",
            "label": "uBid-aC8",
            "name": "s29",
            "shape": "ellipse"
           },
           "position": {
            "x": 1026.9,
            "y": 655.8
           }
          },
          {
           "data": {
            "NodeType": "species",
            "background_color": "#ccffcc",
            "bipartite": 0,
            "id": "s30",
            "label": "BAR-aC8",
            "name": "s30",
            "shape": "ellipse"
           },
           "position": {
            "x": 1026.9,
            "y": 601.8
           }
          },
          {
           "data": {
            "NodeType": "species",
            "background_color": "#ccffcc",
            "bipartite": 0,
            "id": "s31",
            "label": "proC3-aC8",
            "name": "s31",
            "shape": "ellipse"
           },
           "position": {
            "x": 1026.9,
            "y": 823.8
           }
          },
          {
           "data": {
            "NodeType": "species",
            "background_color": "#ccffcc",
            "bipartite": 0,
            "id": "s32",
            "label": "tBid",
            "name": "s32",
            "shape": "ellipse"
           },
           "position": {
            "x": 1229.3,
            "y": 536.8
           }
          },
          {
           "data": {
            "NodeType": "species",
            "background_color": "#ccffcc",
            "bipartite": 0,
            "id": "s33",
            "label": "aC3",
            "name": "s33",
            "shape": "ellipse"
           },
           "position": {
            "x": 4691.6,
            "y": 758.8
           }
          },
          {
           "data": {
            "NodeType": "species",
            "background_color": "#ccffcc",
            "bipartite": 0,
            "id": "s34",
            "label": "aC3-XIAP",
            "name": "s34",
            "shape": "ellipse"
           },
           "position": {
            "x": 4906.5,
            "y": 763.8
           }
          },
          {
           "data": {
            "NodeType": "species",
            "background_color": "#ccffcc",
            "bipartite": 0,
            "id": "s35",
            "label": "aC3-uPARP",
            "name": "s35",
            "shape": "ellipse"
           },
           "position": {
            "x": 4906.5,
            "y": 633.8
           }
          },
          {
           "data": {
            "NodeType": "species",
            "background_color": "#ccffcc",
            "bipartite": 0,
            "id": "s36",
            "label": "aC3-proC6",
            "name": "s36",
            "shape": "ellipse"
           },
           "position": {
            "x": 4906.5,
            "y": 855.8
           }
          },
          {
           "data": {
            "NodeType": "species",
            "background_color": "#ccffcc",
            "bipartite": 0,
            "id": "s37",
            "label": "mBid",
            "name": "s37",
            "shape": "ellipse"
           },
           "position": {
            "x": 1418.4,
            "y": 226.8
           }
          },
          {
           "data": {
            "NodeType": "species",
            "background_color": "#ccffcc",
            "bipartite": 0,
            "id": "s38",
            "label": "ubC3",
            "name": "s38",
            "shape": "ellipse"
           },
           "position": {
            "x": 5120.9,
            "y": 763.8
           }
          },
          {
           "data": {
            "NodeType": "species",
            "background_color": "#ccffcc",
            "bipartite": 0,
            "id": "s39",
            "label": "cPARP",
            "name": "s39",
            "shape": "ellipse"
           },
           "position": {
            "x": 5120.9,
            "y": 638.8
           }
          },
          {
           "data": {
            "NodeType": "species",
            "background_color": "#ccffcc",
            "bipartite": 0,
            "id": "s40",
            "label": "aC6",
            "name": "s40",
            "shape": "ellipse"
           },
           "position": {
            "x": 5120.9,
            "y": 851.8
           }
          },
          {
           "data": {
            "NodeType": "species",
            "background_color": "#ccffcc",
            "bipartite": 0,
            "id": "s41",
            "label": "cBax-mBid",
            "name": "s41",
            "shape": "ellipse"
           },
           "position": {
            "x": 1645.2,
            "y": 57.804
           }
          },
          {
           "data": {
            "NodeType": "species",
            "background_color": "#ccffcc",
            "bipartite": 0,
            "id": "s42",
            "label": "mBak-mBid",
            "name": "s42",
            "shape": "ellipse"
           },
           "position": {
            "x": 1645.2,
            "y": 329.8
           }
          },
          {
           "data": {
            "NodeType": "species",
            "background_color": "#ccffcc",
            "bipartite": 0,
            "id": "s43",
            "label": "mBcl2-mBid",
            "name": "s43",
            "shape": "ellipse"
           },
           "position": {
            "x": 2103.2,
            "y": 709.8
           }
          },
          {
           "data": {
            "NodeType": "species",
            "background_color": "#ccffcc",
            "bipartite": 0,
            "id": "s44",
            "label": "mBclxL-mBid",
            "name": "s44",
            "shape": "ellipse"
           },
           "position": {
            "x": 2103.2,
            "y": 471.8
           }
          },
          {
           "data": {
            "NodeType": "species",
            "background_color": "#ccffcc",
            "bipartite": 0,
            "id": "s45",
            "label": "mBid-mMcl1",
            "name": "s45",
            "shape": "ellipse"
           },
           "position": {
            "x": 1645.2,
            "y": 383.8
           }
          },
          {
           "data": {
            "NodeType": "species",
            "background_color": "#ccffcc",
            "bipartite": 0,
            "id": "s46",
            "label": "aC6-proC8",
            "name": "s46",
            "shape": "ellipse"
           },
           "position": {
            "x": 5339.5,
            "y": 895.8
           }
          },
          {
           "data": {
            "NodeType": "species",
            "background_color": "#ccffcc",
            "bipartite": 0,
            "id": "s47",
            "label": "mBax",
            "name": "s47",
            "shape": "ellipse"
           },
           "position": {
            "x": 1874.9,
            "y": 149.8
           }
          },
          {
           "data": {
            "NodeType": "species",
            "background_color": "#ccffcc",
            "bipartite": 0,
            "id": "s48",
            "label": "aBak",
            "name": "s48",
            "shape": "ellipse"
           },
           "position": {
            "x": 1874.9,
            "y": 217.8
           }
          },
          {
           "data": {
            "NodeType": "species",
            "background_color": "#ccffcc",
            "bipartite": 0,
            "id": "s49",
            "label": "mBax-mBid",
            "name": "s49",
            "shape": "ellipse"
           },
           "position": {
            "x": 2103.2,
            "y": 49.804
           }
          },
          {
           "data": {
            "NodeType": "species",
            "background_color": "#ccffcc",
            "bipartite": 0,
            "id": "s50",
            "label": "aBak-mBak",
            "name": "s50",
            "shape": "ellipse"
           },
           "position": {
            "x": 2103.2,
            "y": 309.8
           }
          },
          {
           "data": {
            "NodeType": "species",
            "background_color": "#ccffcc",
            "bipartite": 0,
            "id": "s51",
            "label": "aBak-mBclxL",
            "name": "s51",
            "shape": "ellipse"
           },
           "position": {
            "x": 2103.2,
            "y": 417.8
           }
          },
          {
           "data": {
            "NodeType": "species",
            "background_color": "#ccffcc",
            "bipartite": 0,
            "id": "s52",
            "label": "aBak-mMcl1",
            "name": "s52",
            "shape": "ellipse"
           },
           "position": {
            "x": 2103.2,
            "y": 363.8
           }
          },
          {
           "data": {
            "NodeType": "species",
            "background_color": "#ccffcc",
            "bipartite": 0,
            "id": "s53",
            "label": "2aBak",
            "name": "s53",
            "shape": "ellipse"
           },
           "position": {
            "x": 2103.2,
            "y": 217.8
           }
          },
          {
           "data": {
            "NodeType": "species",
            "background_color": "#ccffcc",
            "bipartite": 0,
            "id": "s54",
            "label": "aBax",
            "name": "s54",
            "shape": "ellipse"
           },
           "position": {
            "x": 2325,
            "y": 141.8
           }
          },
          {
           "data": {
            "NodeType": "species",
            "background_color": "#ccffcc",
            "bipartite": 0,
            "id": "s55",
            "label": "3aBak",
            "name": "s55",
            "shape": "ellipse"
           },
           "position": {
            "x": 2325,
            "y": 294.8
           }
          },
          {
           "data": {
            "NodeType": "species",
            "background_color": "#ccffcc",
            "bipartite": 0,
            "id": "s56",
            "label": "aBax-mBax",
            "name": "s56",
            "shape": "ellipse"
           },
           "position": {
            "x": 2543.9,
            "y": 59.804
           }
          },
          {
           "data": {
            "NodeType": "species",
            "background_color": "#ccffcc",
            "bipartite": 0,
            "id": "s57",
            "label": "aBax-mBcl2",
            "name": "s57",
            "shape": "ellipse"
           },
           "position": {
            "x": 2543.9,
            "y": 516.8
           }
          },
          {
           "data": {
            "NodeType": "species",
            "background_color": "#ccffcc",
            "bipartite": 0,
            "id": "s58",
            "label": "aBax-mBclxL",
            "name": "s58",
            "shape": "ellipse"
           },
           "position": {
            "x": 2543.9,
            "y": 281.8
           }
          },
          {
           "data": {
            "NodeType": "species",
            "background_color": "#ccffcc",
            "bipartite": 0,
            "id": "s59",
            "label": "2aBax",
            "name": "s59",
            "shape": "ellipse"
           },
           "position": {
            "x": 2543.9,
            "y": 227.8
           }
          },
          {
           "data": {
            "NodeType": "species",
            "background_color": "#ccffcc",
            "bipartite": 0,
            "id": "s60",
            "label": "4aBak",
            "name": "s60",
            "shape": "ellipse"
           },
           "position": {
            "x": 2961.6,
            "y": 442.8
           }
          },
          {
           "data": {
            "NodeType": "species",
            "background_color": "#ccffcc",
            "bipartite": 0,
            "id": "s61",
            "label": "3aBax",
            "name": "s61",
            "shape": "ellipse"
           },
           "position": {
            "x": 2762.8,
            "y": 219.8
           }
          },
          {
           "data": {
            "NodeType": "species",
            "background_color": "#ccffcc",
            "bipartite": 0,
            "id": "s62",
            "label": "4aBak-mCytoC",
            "name": "s62",
            "shape": "ellipse"
           },
           "position": {
            "x": 3193.3,
            "y": 534.8
           }
          },
          {
           "data": {
            "NodeType": "species",
            "background_color": "#ccffcc",
            "bipartite": 0,
            "id": "s63",
            "label": "4aBak-mSmac",
            "name": "s63",
            "shape": "ellipse"
           },
           "position": {
            "x": 3193.3,
            "y": 402.8
           }
          },
          {
           "data": {
            "NodeType": "species",
            "background_color": "#ccffcc",
            "bipartite": 0,
            "id": "s64",
            "label": "4aBax",
            "name": "s64",
            "shape": "ellipse"
           },
           "position": {
            "x": 2961.6,
            "y": 234.8
           }
          },
          {
           "data": {
            "NodeType": "species",
            "background_color": "#ccffcc",
            "bipartite": 0,
            "id": "s65",
            "label": "cCytoC",
            "name": "s65",
            "shape": "ellipse"
           },
           "position": {
            "x": 3422.1,
            "y": 565.8
           }
          },
          {
           "data": {
            "NodeType": "species",
            "background_color": "#ccffcc",
            "bipartite": 0,
            "id": "s66",
            "label": "cSmac",
            "name": "s66",
            "shape": "ellipse"
           },
           "position": {
            "x": 3422.1,
            "y": 415.8
           }
          },
          {
           "data": {
            "NodeType": "species",
            "background_color": "#ccffcc",
            "bipartite": 0,
            "id": "s67",
            "label": "aSmac",
            "name": "s67",
            "shape": "ellipse"
           },
           "position": {
            "x": 3729.1,
            "y": 502.8
           }
          },
          {
           "data": {
            "NodeType": "species",
            "background_color": "#ccffcc",
            "bipartite": 0,
            "id": "s68",
            "label": "aCytoC",
            "name": "s68",
            "shape": "ellipse"
           },
           "position": {
            "x": 3622.3,
            "y": 583.8
           }
          },
          {
           "data": {
            "NodeType": "species",
            "background_color": "#ccffcc",
            "bipartite": 0,
            "id": "s69",
            "label": "4aBax-mCytoC",
            "name": "s69",
            "shape": "ellipse"
           },
           "position": {
            "x": 3193.3,
            "y": 334.8
           }
          },
          {
           "data": {
            "NodeType": "species",
            "background_color": "#ccffcc",
            "bipartite": 0,
            "id": "s70",
            "label": "4aBax-mSmac",
            "name": "s70",
            "shape": "ellipse"
           },
           "position": {
            "x": 3193.3,
            "y": 280.8
           }
          },
          {
           "data": {
            "NodeType": "species",
            "background_color": "#ccffcc",
            "bipartite": 0,
            "id": "s71",
            "label": "iApaf-aCytoC",
            "name": "s71",
            "shape": "ellipse"
           },
           "position": {
            "x": 3859,
            "y": 635.8
           }
          },
          {
           "data": {
            "NodeType": "species",
            "background_color": "#ccffcc",
            "bipartite": 0,
            "id": "s72",
            "label": "aSmac-XIAP",
            "name": "s72",
            "shape": "ellipse"
           },
           "position": {
            "x": 5339.5,
            "y": 568.8
           }
          },
          {
           "data": {
            "NodeType": "species",
            "background_color": "#ccffcc",
            "bipartite": 0,
            "id": "s73",
            "label": "aApaf",
            "name": "s73",
            "shape": "ellipse"
           },
           "position": {
            "x": 4077,
            "y": 636.8
           }
          },
          {
           "data": {
            "NodeType": "species",
            "background_color": "#ccffcc",
            "bipartite": 0,
            "id": "s74",
            "label": "Apop",
            "name": "s74",
            "shape": "ellipse"
           },
           "position": {
            "x": 4264.4,
            "y": 698.8
           }
          },
          {
           "data": {
            "NodeType": "species",
            "background_color": "#ccffcc",
            "bipartite": 0,
            "id": "s75",
            "label": "Apop-proC3",
            "name": "s75",
            "shape": "ellipse"
           },
           "position": {
            "x": 4475,
            "y": 753.8
           }
          },
          {
           "data": {
            "NodeType": "species",
            "background_color": "#ccffcc",
            "bipartite": 0,
            "id": "s76",
            "label": "Apop-XIAP",
            "name": "s76",
            "shape": "ellipse"
           },
           "position": {
            "x": 5339.5,
            "y": 647.8
           }
          },
          {
           "data": {
            "NodeType": "reaction",
            "background_color": "#d3d3d3",
            "bipartite": 1,
            "id": "r0",
            "label": "r0",
            "name": "r0",
            "shape": "roundrectangle"
           },
           "position": {
            "x": 117,
            "y": 779.8
           }
          },
          {
           "data": {
            "NodeType": "reaction",
            "background_color": "#d3d3d3",
            "bipartite": 1,
            "id": "r1",
            "label": "r1",
            "name": "r1",
            "shape": "roundrectangle"
           },
           "position": {
            "x": 1977,
            "y": 617.8
           }
          },
          {
           "data": {
            "NodeType": "reaction",
            "background_color": "#d3d3d3",
            "bipartite": 1,
            "id": "r2",
            "label": "r2",
            "name": "r2",
            "shape": "roundrectangle"
           },
           "position": {
            "x": 1977,
            "y": 563.8
           }
          },
          {
           "data": {
            "NodeType": "reaction",
            "background_color": "#d3d3d3",
            "bipartite": 1,
            "id": "r3",
            "label": "r3",
            "name": "r3",
            "shape": "roundrectangle"
           },
           "position": {
            "x": 1517.6,
            "y": 515.8
           }
          },
          {
           "data": {
            "NodeType": "reaction",
            "background_color": "#d3d3d3",
            "bipartite": 1,
            "id": "r4",
            "label": "r4",
            "name": "r4",
            "shape": "roundrectangle"
           },
           "position": {
            "x": 297,
            "y": 779.8
           }
          },
          {
           "data": {
            "NodeType": "reaction",
            "background_color": "#d3d3d3",
            "bipartite": 1,
            "id": "r5",
            "label": "r5",
            "name": "r5",
            "shape": "roundrectangle"
           },
           "position": {
            "x": 487.43,
            "y": 823.8
           }
          },
          {
           "data": {
            "NodeType": "reaction",
            "background_color": "#d3d3d3",
            "bipartite": 1,
            "id": "r6",
            "label": "r6",
            "name": "r6",
            "shape": "roundrectangle"
           },
           "position": {
            "x": 487.43,
            "y": 729.8
           }
          },
          {
           "data": {
            "NodeType": "reaction",
            "background_color": "#d3d3d3",
            "bipartite": 1,
            "id": "r7",
            "label": "r7",
            "name": "r7",
            "shape": "roundrectangle"
           },
           "position": {
            "x": 724.05,
            "y": 777.8
           }
          },
          {
           "data": {
            "NodeType": "reaction",
            "background_color": "#d3d3d3",
            "bipartite": 1,
            "id": "r8",
            "label": "r8",
            "name": "r8",
            "shape": "roundrectangle"
           },
           "position": {
            "x": 914.48,
            "y": 655.8
           }
          },
          {
           "data": {
            "NodeType": "reaction",
            "background_color": "#d3d3d3",
            "bipartite": 1,
            "id": "r9",
            "label": "r9",
            "name": "r9",
            "shape": "roundrectangle"
           },
           "position": {
            "x": 914.48,
            "y": 601.8
           }
          },
          {
           "data": {
            "NodeType": "reaction",
            "background_color": "#d3d3d3",
            "bipartite": 1,
            "id": "r10",
            "label": "r10",
            "name": "r10",
            "shape": "roundrectangle"
           },
           "position": {
            "x": 914.48,
            "y": 823.8
           }
          },
          {
           "data": {
            "NodeType": "reaction",
            "background_color": "#d3d3d3",
            "bipartite": 1,
            "id": "r11",
            "label": "r11",
            "name": "r11",
            "shape": "roundrectangle"
           },
           "position": {
            "x": 1139.3,
            "y": 655.8
           }
          },
          {
           "data": {
            "NodeType": "reaction",
            "background_color": "#d3d3d3",
            "bipartite": 1,
            "id": "r12",
            "label": "r12",
            "name": "r12",
            "shape": "roundrectangle"
           },
           "position": {
            "x": 1139.3,
            "y": 823.8
           }
          },
          {
           "data": {
            "NodeType": "reaction",
            "background_color": "#d3d3d3",
            "bipartite": 1,
            "id": "r13",
            "label": "r13",
            "name": "r13",
            "shape": "roundrectangle"
           },
           "position": {
            "x": 4790.5,
            "y": 758.8
           }
          },
          {
           "data": {
            "NodeType": "reaction",
            "background_color": "#d3d3d3",
            "bipartite": 1,
            "id": "r14",
            "label": "r14",
            "name": "r14",
            "shape": "roundrectangle"
           },
           "position": {
            "x": 4790.5,
            "y": 633.8
           }
          },
          {
           "data": {
            "NodeType": "reaction",
            "background_color": "#d3d3d3",
            "bipartite": 1,
            "id": "r15",
            "label": "r15",
            "name": "r15",
            "shape": "roundrectangle"
           },
           "position": {
            "x": 4790.5,
            "y": 855.8
           }
          },
          {
           "data": {
            "NodeType": "reaction",
            "background_color": "#d3d3d3",
            "bipartite": 1,
            "id": "r16",
            "label": "r16",
            "name": "r16",
            "shape": "roundrectangle"
           },
           "position": {
            "x": 1319.3,
            "y": 329.8
           }
          },
          {
           "data": {
            "NodeType": "reaction",
            "background_color": "#d3d3d3",
            "bipartite": 1,
            "id": "r17",
            "label": "r17",
            "name": "r17",
            "shape": "roundrectangle"
           },
           "position": {
            "x": 5022.5,
            "y": 763.8
           }
          },
          {
           "data": {
            "NodeType": "reaction",
            "background_color": "#d3d3d3",
            "bipartite": 1,
            "id": "r18",
            "label": "r18",
            "name": "r18",
            "shape": "roundrectangle"
           },
           "position": {
            "x": 5022.5,
            "y": 638.8
           }
          },
          {
           "data": {
            "NodeType": "reaction",
            "background_color": "#d3d3d3",
            "bipartite": 1,
            "id": "r19",
            "label": "r19",
            "name": "r19",
            "shape": "roundrectangle"
           },
           "position": {
            "x": 5022.5,
            "y": 851.8
           }
          },
          {
           "data": {
            "NodeType": "reaction",
            "background_color": "#d3d3d3",
            "bipartite": 1,
            "id": "r20",
            "label": "r20",
            "name": "r20",
            "shape": "roundrectangle"
           },
           "position": {
            "x": 1517.6,
            "y": 57.804
           }
          },
          {
           "data": {
            "NodeType": "reaction",
            "background_color": "#d3d3d3",
            "bipartite": 1,
            "id": "r21",
            "label": "r21",
            "name": "r21",
            "shape": "roundrectangle"
           },
           "position": {
            "x": 1517.6,
            "y": 329.8
           }
          },
          {
           "data": {
            "NodeType": "reaction",
            "background_color": "#d3d3d3",
            "bipartite": 1,
            "id": "r22",
            "label": "r22",
            "name": "r22",
            "shape": "roundrectangle"
           },
           "position": {
            "x": 1977,
            "y": 709.8
           }
          },
          {
           "data": {
            "NodeType": "reaction",
            "background_color": "#d3d3d3",
            "bipartite": 1,
            "id": "r23",
            "label": "r23",
            "name": "r23",
            "shape": "roundrectangle"
           },
           "position": {
            "x": 1977,
            "y": 471.8
           }
          },
          {
           "data": {
            "NodeType": "reaction",
            "background_color": "#d3d3d3",
            "bipartite": 1,
            "id": "r24",
            "label": "r24",
            "name": "r24",
            "shape": "roundrectangle"
           },
           "position": {
            "x": 1517.6,
            "y": 383.8
           }
          },
          {
           "data": {
            "NodeType": "reaction",
            "background_color": "#d3d3d3",
            "bipartite": 1,
            "id": "r25",
            "label": "r25",
            "name": "r25",
            "shape": "roundrectangle"
           },
           "position": {
            "x": 5219.2,
            "y": 895.8
           }
          },
          {
           "data": {
            "NodeType": "reaction",
            "background_color": "#d3d3d3",
            "bipartite": 1,
            "id": "r26",
            "label": "r26",
            "name": "r26",
            "shape": "roundrectangle"
           },
           "position": {
            "x": 1772.8,
            "y": 149.8
           }
          },
          {
           "data": {
            "NodeType": "reaction",
            "background_color": "#d3d3d3",
            "bipartite": 1,
            "id": "r27",
            "label": "r27",
            "name": "r27",
            "shape": "roundrectangle"
           },
           "position": {
            "x": 1772.8,
            "y": 291.8
           }
          },
          {
           "data": {
            "NodeType": "reaction",
            "background_color": "#d3d3d3",
            "bipartite": 1,
            "id": "r28",
            "label": "r28",
            "name": "r28",
            "shape": "roundrectangle"
           },
           "position": {
            "x": 5459.7,
            "y": 895.8
           }
          },
          {
           "data": {
            "NodeType": "reaction",
            "background_color": "#d3d3d3",
            "bipartite": 1,
            "id": "r29",
            "label": "r29",
            "name": "r29",
            "shape": "roundrectangle"
           },
           "position": {
            "x": 1977,
            "y": 49.804
           }
          },
          {
           "data": {
            "NodeType": "reaction",
            "background_color": "#d3d3d3",
            "bipartite": 1,
            "id": "r30",
            "label": "r30",
            "name": "r30",
            "shape": "roundrectangle"
           },
           "position": {
            "x": 1977,
            "y": 309.8
           }
          },
          {
           "data": {
            "NodeType": "reaction",
            "background_color": "#d3d3d3",
            "bipartite": 1,
            "id": "r31",
            "label": "r31",
            "name": "r31",
            "shape": "roundrectangle"
           },
           "position": {
            "x": 1977,
            "y": 417.8
           }
          },
          {
           "data": {
            "NodeType": "reaction",
            "background_color": "#d3d3d3",
            "bipartite": 1,
            "id": "r32",
            "label": "r32",
            "name": "r32",
            "shape": "roundrectangle"
           },
           "position": {
            "x": 1977,
            "y": 363.8
           }
          },
          {
           "data": {
            "NodeType": "reaction",
            "background_color": "#d3d3d3",
            "bipartite": 1,
            "id": "r33",
            "label": "r33",
            "name": "r33",
            "shape": "roundrectangle"
           },
           "position": {
            "x": 1977,
            "y": 217.8
           }
          },
          {
           "data": {
            "NodeType": "reaction",
            "background_color": "#d3d3d3",
            "bipartite": 1,
            "id": "r34",
            "label": "r34",
            "name": "r34",
            "shape": "roundrectangle"
           },
           "position": {
            "x": 2229.3,
            "y": 49.804
           }
          },
          {
           "data": {
            "NodeType": "reaction",
            "background_color": "#d3d3d3",
            "bipartite": 1,
            "id": "r35",
            "label": "r35",
            "name": "r35",
            "shape": "roundrectangle"
           },
           "position": {
            "x": 2229.3,
            "y": 290.8
           }
          },
          {
           "data": {
            "NodeType": "reaction",
            "background_color": "#d3d3d3",
            "bipartite": 1,
            "id": "r36",
            "label": "r36",
            "name": "r36",
            "shape": "roundrectangle"
           },
           "position": {
            "x": 2229.3,
            "y": 217.8
           }
          },
          {
           "data": {
            "NodeType": "reaction",
            "background_color": "#d3d3d3",
            "bipartite": 1,
            "id": "r37",
            "label": "r37",
            "name": "r37",
            "shape": "roundrectangle"
           },
           "position": {
            "x": 2420.7,
            "y": 59.804
           }
          },
          {
           "data": {
            "NodeType": "reaction",
            "background_color": "#d3d3d3",
            "bipartite": 1,
            "id": "r38",
            "label": "r38",
            "name": "r38",
            "shape": "roundrectangle"
           },
           "position": {
            "x": 2420.7,
            "y": 516.8
           }
          },
          {
           "data": {
            "NodeType": "reaction",
            "background_color": "#d3d3d3",
            "bipartite": 1,
            "id": "r39",
            "label": "r39",
            "name": "r39",
            "shape": "roundrectangle"
           },
           "position": {
            "x": 2420.7,
            "y": 281.8
           }
          },
          {
           "data": {
            "NodeType": "reaction",
            "background_color": "#d3d3d3",
            "bipartite": 1,
            "id": "r40",
            "label": "r40",
            "name": "r40",
            "shape": "roundrectangle"
           },
           "position": {
            "x": 2420.7,
            "y": 227.8
           }
          },
          {
           "data": {
            "NodeType": "reaction",
            "background_color": "#d3d3d3",
            "bipartite": 1,
            "id": "r41",
            "label": "r41",
            "name": "r41",
            "shape": "roundrectangle"
           },
           "position": {
            "x": 2420.7,
            "y": 335.8
           }
          },
          {
           "data": {
            "NodeType": "reaction",
            "background_color": "#d3d3d3",
            "bipartite": 1,
            "id": "r42",
            "label": "r42",
            "name": "r42",
            "shape": "roundrectangle"
           },
           "position": {
            "x": 2667.1,
            "y": 78.804
           }
          },
          {
           "data": {
            "NodeType": "reaction",
            "background_color": "#d3d3d3",
            "bipartite": 1,
            "id": "r43",
            "label": "r43",
            "name": "r43",
            "shape": "roundrectangle"
           },
           "position": {
            "x": 2667.1,
            "y": 219.8
           }
          },
          {
           "data": {
            "NodeType": "reaction",
            "background_color": "#d3d3d3",
            "bipartite": 1,
            "id": "r44",
            "label": "r44",
            "name": "r44",
            "shape": "roundrectangle"
           },
           "position": {
            "x": 3064.7,
            "y": 442.8
           }
          },
          {
           "data": {
            "NodeType": "reaction",
            "background_color": "#d3d3d3",
            "bipartite": 1,
            "id": "r45",
            "label": "r45",
            "name": "r45",
            "shape": "roundrectangle"
           },
           "position": {
            "x": 3064.7,
            "y": 388.8
           }
          },
          {
           "data": {
            "NodeType": "reaction",
            "background_color": "#d3d3d3",
            "bipartite": 1,
            "id": "r46",
            "label": "r46",
            "name": "r46",
            "shape": "roundrectangle"
           },
           "position": {
            "x": 2858.5,
            "y": 219.8
           }
          },
          {
           "data": {
            "NodeType": "reaction",
            "background_color": "#d3d3d3",
            "bipartite": 1,
            "id": "r47",
            "label": "r47",
            "name": "r47",
            "shape": "roundrectangle"
           },
           "position": {
            "x": 3321.9,
            "y": 565.8
           }
          },
          {
           "data": {
            "NodeType": "reaction",
            "background_color": "#d3d3d3",
            "bipartite": 1,
            "id": "r48",
            "label": "r48",
            "name": "r48",
            "shape": "roundrectangle"
           },
           "position": {
            "x": 3321.9,
            "y": 415.8
           }
          },
          {
           "data": {
            "NodeType": "reaction",
            "background_color": "#d3d3d3",
            "bipartite": 1,
            "id": "r49",
            "label": "r49",
            "name": "r49",
            "shape": "roundrectangle"
           },
           "position": {
            "x": 3522.2,
            "y": 439.8
           }
          },
          {
           "data": {
            "NodeType": "reaction",
            "background_color": "#d3d3d3",
            "bipartite": 1,
            "id": "r50",
            "label": "r50",
            "name": "r50",
            "shape": "roundrectangle"
           },
           "position": {
            "x": 3522.2,
            "y": 572.8
           }
          },
          {
           "data": {
            "NodeType": "reaction",
            "background_color": "#d3d3d3",
            "bipartite": 1,
            "id": "r51",
            "label": "r51",
            "name": "r51",
            "shape": "roundrectangle"
           },
           "position": {
            "x": 3064.7,
            "y": 334.8
           }
          },
          {
           "data": {
            "NodeType": "reaction",
            "background_color": "#d3d3d3",
            "bipartite": 1,
            "id": "r52",
            "label": "r52",
            "name": "r52",
            "shape": "roundrectangle"
           },
           "position": {
            "x": 3064.7,
            "y": 280.8
           }
          },
          {
           "data": {
            "NodeType": "reaction",
            "background_color": "#d3d3d3",
            "bipartite": 1,
            "id": "r53",
            "label": "r53",
            "name": "r53",
            "shape": "roundrectangle"
           },
           "position": {
            "x": 3729.1,
            "y": 635.8
           }
          },
          {
           "data": {
            "NodeType": "reaction",
            "background_color": "#d3d3d3",
            "bipartite": 1,
            "id": "r54",
            "label": "r54",
            "name": "r54",
            "shape": "roundrectangle"
           },
           "position": {
            "x": 5219.2,
            "y": 568.8
           }
          },
          {
           "data": {
            "NodeType": "reaction",
            "background_color": "#d3d3d3",
            "bipartite": 1,
            "id": "r55",
            "label": "r55",
            "name": "r55",
            "shape": "roundrectangle"
           },
           "position": {
            "x": 3321.9,
            "y": 334.8
           }
          },
          {
           "data": {
            "NodeType": "reaction",
            "background_color": "#d3d3d3",
            "bipartite": 1,
            "id": "r56",
            "label": "r56",
            "name": "r56",
            "shape": "roundrectangle"
           },
           "position": {
            "x": 3321.9,
            "y": 280.8
           }
          },
          {
           "data": {
            "NodeType": "reaction",
            "background_color": "#d3d3d3",
            "bipartite": 1,
            "id": "r57",
            "label": "r57",
            "name": "r57",
            "shape": "roundrectangle"
           },
           "position": {
            "x": 3982.2,
            "y": 635.8
           }
          },
          {
           "data": {
            "NodeType": "reaction",
            "background_color": "#d3d3d3",
            "bipartite": 1,
            "id": "r58",
            "label": "r58",
            "name": "r58",
            "shape": "roundrectangle"
           },
           "position": {
            "x": 4171.7,
            "y": 693.8
           }
          },
          {
           "data": {
            "NodeType": "reaction",
            "background_color": "#d3d3d3",
            "bipartite": 1,
            "id": "r59",
            "label": "r59",
            "name": "r59",
            "shape": "roundrectangle"
           },
           "position": {
            "x": 4357.2,
            "y": 753.8
           }
          },
          {
           "data": {
            "NodeType": "reaction",
            "background_color": "#d3d3d3",
            "bipartite": 1,
            "id": "r60",
            "label": "r60",
            "name": "r60",
            "shape": "roundrectangle"
           },
           "position": {
            "x": 5219.2,
            "y": 647.8
           }
          },
          {
           "data": {
            "NodeType": "reaction",
            "background_color": "#d3d3d3",
            "bipartite": 1,
            "id": "r61",
            "label": "r61",
            "name": "r61",
            "shape": "roundrectangle"
           },
           "position": {
            "x": 4592.8,
            "y": 753.8
           }
          }
         ]
        }
       },
       "format": "cyjs",
       "layout": "IPY_MODEL_85c42004a3ab4725b79bea0da818ea3f",
       "layout_name": "preset",
       "type_of_viz": "sp_rxns_bidirectional_view",
       "visual_style": null
      }
     }
    },
    "version_major": 2,
    "version_minor": 0
   }
  }
 },
 "nbformat": 4,
 "nbformat_minor": 2
}

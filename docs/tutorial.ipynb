{
 "cells": [
  {
   "cell_type": "markdown",
   "metadata": {},
   "source": [
    "# pysbjupyter Tutorial\n",
    "\n",
    "pysbjupyter is an ipython widget for interactively visualizing systems biology models. It uses [PySB](http://pysb.org/) for generating network data and simulating trajectories and [Cytoscape.js](http://js.cytoscape.org/) to render them. It supports BioNetGen and SBML models through the pysb importer module.\n",
    "\n",
    "## Start Jupyter Notebook\n",
    "To start the jupyter notebook just run the following command in the terminal\n",
    "```Shell\n",
    "jupyter notebook\n",
    "```"
   ]
  },
  {
   "cell_type": "markdown",
   "metadata": {},
   "source": [
    "pysbjupyter has different functions to visualize PySB models and simulations:\n",
    "\n",
    "| Function                                 | Description                                           |\n",
    "|------------------------------------------|-------------------------------------------------------|\n",
    "| `species_view(model)`                    | Shows network of interacting species                  |\n",
    "| `species_compartments_view(model)`       | Shows network of species in their respective compartments |\n",
    "| `communities_view(model)`                | Shows network of species grouped in [communities](https://en.wikipedia.org/wiki/Community_structure) |\n",
    "| `sp_rxns_bidirectional_view(model)`      | Shows bipartite network with species and bidirectional rections nodes |\n",
    "| `sp_rxns_view(model)`                    | Shows bipartite network with species and unidirectional rections nodes |\n",
    "| `sp_rules_view(model)`                   | Shows bipartite network with species and rules nodes  |\n",
    "| `sp_rules_functions_view(model)`         | Shows bipartite network with species and rules nodes.<br> Rules nodes are grouped in the functions they come from |\n",
    "| `sp_rules_modules_view(model)`           | Shows bipartite network with species and rules nodes.<br> Rules nodes are grouped in the file modules they come from |\n",
    "| `projected_species_reactions_view(model)`| Shows network of species projected from the <br> bipartite(species, reactions) graph |\n",
    "| `projected_reactions_view(model)`        | Shows network of reactions projected from the <br> bipartite(species, reactions) graph |\n",
    "| `projected_rules_view(model)`            | Shows network of rules projected from the <br> bipartite(species, rules) graph |\n",
    "| `projected_species_rules_view(model)`    | Shows network of species projected from the <br> bipartite(species, rules) graph |\n",
    "| `species_dynamics_view(SimulationResult)`| Shows a species network. Edges size and color are updated <br> according to reaction rate values. Nodes filling <br> are updated according to concentration|\n",
    "\n",
    "All visualizations have a search button that can be used to find nodes in large networks. This search function displays information about the species label and the type of node (species, reaction, rule, ...). Additionally, there is a fit button to center the nodes into the display area"
   ]
  },
  {
   "cell_type": "markdown",
   "metadata": {},
   "source": [
    "## Import pysbjupyter module and a PySB model"
   ]
  },
  {
   "cell_type": "code",
   "execution_count": 1,
   "metadata": {},
   "outputs": [],
   "source": [
    "from pysbjupyter.pysb_models.lopez_embedded import model\n",
    "import pysbjupyter as viz"
   ]
  },
  {
   "cell_type": "markdown",
   "metadata": {},
   "source": [
    "## Species view"
   ]
  },
  {
   "cell_type": "code",
   "execution_count": 2,
   "metadata": {
    "scrolled": false
   },
   "outputs": [
    {
     "data": {
      "application/vnd.jupyter.widget-view+json": {
       "model_id": "4389fca024f94100864bfe0c9f679bc2",
       "version_major": 2,
       "version_minor": 0
      },
      "text/plain": [
       "pysbViz(data=<Model 'pysbjupyter.pysb_models.lopez_embedded' (monomers: 23, rules: 62, parameters: 126, expres…"
      ]
     },
     "metadata": {},
     "output_type": "display_data"
    }
   ],
   "source": [
    "viz.species_view(model)"
   ]
  },
  {
   "cell_type": "markdown",
   "metadata": {},
   "source": [
    "## Using a different network layout\n",
    "We can change the network layout by passing one of the [cytoscapejs supported layout algorithns](http://js.cytoscape.org/#layouts)"
   ]
  },
  {
   "cell_type": "code",
   "execution_count": 3,
   "metadata": {},
   "outputs": [
    {
     "data": {
      "application/vnd.jupyter.widget-view+json": {
       "model_id": "115259042a854b5d92c7df6a720b623d",
       "version_major": 2,
       "version_minor": 0
      },
      "text/plain": [
       "pysbViz(data=<Model 'pysbjupyter.pysb_models.lopez_embedded' (monomers: 23, rules: 62, parameters: 126, expres…"
      ]
     },
     "metadata": {},
     "output_type": "display_data"
    }
   ],
   "source": [
    "viz.species_view(model, layout_name='cose')"
   ]
  },
  {
   "cell_type": "markdown",
   "metadata": {},
   "source": [
    "## Communities view"
   ]
  },
  {
   "cell_type": "code",
   "execution_count": 4,
   "metadata": {},
   "outputs": [
    {
     "data": {
      "application/vnd.jupyter.widget-view+json": {
       "model_id": "5ea11dc74344419c817867cb9c176954",
       "version_major": 2,
       "version_minor": 0
      },
      "text/plain": [
       "pysbViz(data=<Model 'pysbjupyter.pysb_models.lopez_embedded' (monomers: 23, rules: 62, parameters: 126, expres…"
      ]
     },
     "metadata": {},
     "output_type": "display_data"
    }
   ],
   "source": [
    "viz.communities_view(model, layout_name='cose-bilkent')"
   ]
  },
  {
   "cell_type": "markdown",
   "metadata": {},
   "source": [
    "## Bipartite graph with species and bidirectional reactions nodes"
   ]
  },
  {
   "cell_type": "code",
   "execution_count": 5,
   "metadata": {},
   "outputs": [
    {
     "data": {
      "application/vnd.jupyter.widget-view+json": {
       "model_id": "9d01ec3b46524159aec03baef8fbdd4d",
       "version_major": 2,
       "version_minor": 0
      },
      "text/plain": [
       "pysbViz(data=<Model 'pysbjupyter.pysb_models.lopez_embedded' (monomers: 23, rules: 62, parameters: 126, expres…"
      ]
     },
     "metadata": {},
     "output_type": "display_data"
    }
   ],
   "source": [
    "viz.sp_rxns_bidirectional_view(model)"
   ]
  },
  {
   "cell_type": "markdown",
   "metadata": {},
   "source": [
    "## Bipartite graph with species and rules nodes"
   ]
  },
  {
   "cell_type": "code",
   "execution_count": 6,
   "metadata": {},
   "outputs": [
    {
     "data": {
      "application/vnd.jupyter.widget-view+json": {
       "model_id": "119b27103b3c4e7cbbfbba69a083a999",
       "version_major": 2,
       "version_minor": 0
      },
      "text/plain": [
       "pysbViz(data=<Model 'pysbjupyter.pysb_models.lopez_embedded' (monomers: 23, rules: 62, parameters: 126, expres…"
      ]
     },
     "metadata": {},
     "output_type": "display_data"
    }
   ],
   "source": [
    "viz.sp_rules_view(model, layout_name='cose-bilkent')"
   ]
  },
  {
   "cell_type": "markdown",
   "metadata": {},
   "source": [
    "## Bipartite graph with species and rules nodes. Rules are grouped by the functions they come from"
   ]
  },
  {
   "cell_type": "code",
   "execution_count": 7,
   "metadata": {},
   "outputs": [
    {
     "data": {
      "application/vnd.jupyter.widget-view+json": {
       "model_id": "dff8df8a6c594bccbb43eccad45aa12e",
       "version_major": 2,
       "version_minor": 0
      },
      "text/plain": [
       "pysbViz(data=<Model 'pysbjupyter.pysb_models.lopez_embedded' (monomers: 23, rules: 62, parameters: 126, expres…"
      ]
     },
     "metadata": {},
     "output_type": "display_data"
    }
   ],
   "source": [
    "viz.sp_rules_functions_view(model)"
   ]
  },
  {
   "cell_type": "markdown",
   "metadata": {},
   "source": [
    "## Bipartite graph with species and rules nodes. Rules are grouped by the modules they come from"
   ]
  },
  {
   "cell_type": "code",
   "execution_count": 8,
   "metadata": {
    "scrolled": false
   },
   "outputs": [
    {
     "data": {
      "application/vnd.jupyter.widget-view+json": {
       "model_id": "df04a63fbfb4466187a2473c34125554",
       "version_major": 2,
       "version_minor": 0
      },
      "text/plain": [
       "pysbViz(data=<Model 'pysbjupyter.pysb_models.lopez_embedded' (monomers: 23, rules: 62, parameters: 126, expres…"
      ]
     },
     "metadata": {},
     "output_type": "display_data"
    }
   ],
   "source": [
    "viz.sp_rules_modules_view(model)"
   ]
  },
  {
   "cell_type": "markdown",
   "metadata": {},
   "source": [
    "## Species graph grouped by the compartment in which they are located\n",
    "In order to use this type of visualization your model must have compartments defined."
   ]
  },
  {
   "cell_type": "code",
   "execution_count": 9,
   "metadata": {
    "scrolled": false
   },
   "outputs": [
    {
     "data": {
      "application/vnd.jupyter.widget-view+json": {
       "model_id": "4afe93f533c6418bb40ebcc3e609a635",
       "version_major": 2,
       "version_minor": 0
      },
      "text/plain": [
       "pysbViz(data=<Model 'pysbjupyter.pysb_models.organelle_transport' (monomers: 8, rules: 6, parameters: 19, expr…"
      ]
     },
     "metadata": {},
     "output_type": "display_data"
    }
   ],
   "source": [
    "from pysbjupyter.pysb_models.organelle_transport import model as model_compartments\n",
    "viz.species_compartments_view(model_compartments)"
   ]
  },
  {
   "cell_type": "markdown",
   "metadata": {},
   "source": [
    "## Using a BioNetGen file (.bngl) to visualize the model"
   ]
  },
  {
   "cell_type": "code",
   "execution_count": 10,
   "metadata": {},
   "outputs": [],
   "source": [
    "import os\n",
    "model_path = os.path.join(os.path.dirname(viz.__file__), 'pysb_models/organelle_transport.bngl')"
   ]
  },
  {
   "cell_type": "code",
   "execution_count": 11,
   "metadata": {},
   "outputs": [
    {
     "data": {
      "application/vnd.jupyter.widget-view+json": {
       "model_id": "63632459b45840ca91e0af70d36814e7",
       "version_major": 2,
       "version_minor": 0
      },
      "text/plain": [
       "pysbViz(data='/Users/dionisio/anaconda/envs/viz_widget/lib/python3.7/site-packages/pysbjupyter/pysb_models/org…"
      ]
     },
     "metadata": {},
     "output_type": "display_data"
    }
   ],
   "source": [
    "viz.species_view(model_path)"
   ]
  },
  {
   "cell_type": "markdown",
   "metadata": {},
   "source": [
    "## Using an [SBML](http://sbml.org/Main_Page) model from the [Biomodels database](https://www.ebi.ac.uk/biomodels/)"
   ]
  },
  {
   "cell_type": "code",
   "execution_count": 12,
   "metadata": {
    "scrolled": false
   },
   "outputs": [
    {
     "data": {
      "application/vnd.jupyter.widget-view+json": {
       "model_id": "8f4a39f49f3e40a2b543f8223af82173",
       "version_major": 2,
       "version_minor": 0
      },
      "text/plain": [
       "pysbViz(data='BIOMD0000000001', layout_name='preset')"
      ]
     },
     "metadata": {},
     "output_type": "display_data"
    }
   ],
   "source": [
    "viz.species_view('BIOMD0000000001')"
   ]
  },
  {
   "cell_type": "markdown",
   "metadata": {},
   "source": [
    "## Dynamic visualization of a model\n",
    "We first simulate the model with pysb and pass the SimulationResult to the widget"
   ]
  },
  {
   "cell_type": "code",
   "execution_count": null,
   "metadata": {
    "scrolled": false
   },
   "outputs": [],
   "source": [
    "import numpy as np\n",
    "from pysb.simulator import ScipyOdeSimulator\n",
    "from pysbjupyter.pysb_models.mm_two_paths_model import model as model_dynamic\n",
    "\n",
    "tspan = np.linspace(0, 1000, 100)\n",
    "sim = ScipyOdeSimulator(model_dynamic, tspan, compiler='python').run()"
   ]
  },
  {
   "cell_type": "code",
   "execution_count": null,
   "metadata": {},
   "outputs": [],
   "source": [
    "viz.species_dynamics_view(sim)"
   ]
  },
  {
   "cell_type": "code",
   "execution_count": null,
   "metadata": {},
   "outputs": [],
   "source": []
  }
 ],
 "metadata": {
  "kernelspec": {
   "display_name": "Python 3",
   "language": "python",
   "name": "python3"
  },
  "language_info": {
   "codemirror_mode": {
    "name": "ipython",
    "version": 3
   },
   "file_extension": ".py",
   "mimetype": "text/x-python",
   "name": "python",
   "nbconvert_exporter": "python",
   "pygments_lexer": "ipython3",
   "version": "3.7.1"
  },
  "widgets": {
   "application/vnd.jupyter.widget-state+json": {
    "state": {
     "115259042a854b5d92c7df6a720b623d": {
      "model_module": "viz-pysb-widget",
      "model_module_version": "^0.1.0",
      "model_name": "CytoscapeModel",
      "state": {
       "_model_module_version": "^0.1.0",
       "_view_module_version": "^0.1.0",
       "background": "#FFFFFF",
       "data": {
        "data": {
         "graph": {
          "rankdir": "LR"
         },
         "name": "pysbjupyter.pysb_models.lopez_embedded",
         "paths": []
        },
        "elements": {
         "edges": [
          {
           "data": {
            "arrowhead": "normal",
            "id": "c3afb39b-9495-4c1a-87ed-e3f4a143162a",
            "source": "s0",
            "source_arrow_fill": "hollow",
            "source_arrow_shape": "diamond",
            "target": "s21",
            "target_arrow_shape": "triangle"
           }
          },
          {
           "data": {
            "arrowhead": "normal",
            "id": "2fea3fe3-9933-4df8-a546-e5a5714e8132",
            "source": "s1",
            "source_arrow_fill": "hollow",
            "source_arrow_shape": "diamond",
            "target": "s21",
            "target_arrow_shape": "triangle"
           }
          },
          {
           "data": {
            "arrowhead": "normal",
            "id": "37b20064-1c68-41b4-b389-954d7ac8ab3c",
            "source": "s2",
            "source_arrow_fill": "hollow",
            "source_arrow_shape": "diamond",
            "target": "s27",
            "target_arrow_shape": "triangle"
           }
          },
          {
           "data": {
            "arrowhead": "normal",
            "id": "0016c83a-ddc0-450f-9e9a-8667d65f49c0",
            "source": "s3",
            "source_arrow_fill": "hollow",
            "source_arrow_shape": "diamond",
            "target": "s26",
            "target_arrow_shape": "triangle"
           }
          },
          {
           "data": {
            "arrowhead": "normal",
            "id": "9e97ca50-9283-4e43-be40-6a61c366817a",
            "source": "s3",
            "source_arrow_fill": "hollow",
            "source_arrow_shape": "diamond",
            "target": "s46",
            "target_arrow_shape": "triangle"
           }
          },
          {
           "data": {
            "arrowhead": "normal",
            "id": "024dfe52-c3cb-4fce-b933-0b91c9793775",
            "source": "s4",
            "source_arrow_fill": "hollow",
            "source_arrow_shape": "diamond",
            "target": "s30",
            "target_arrow_shape": "triangle"
           }
          },
          {
           "data": {
            "arrowhead": "normal",
            "id": "a58fcb66-07e2-42de-b776-ff621fe2174c",
            "source": "s5",
            "source_arrow_fill": "hollow",
            "source_arrow_shape": "diamond",
            "target": "s71",
            "target_arrow_shape": "triangle"
           }
          },
          {
           "data": {
            "arrowhead": "normal",
            "id": "44c2aa8f-955a-4540-b467-f63d17afadca",
            "source": "s6",
            "source_arrow_fill": "hollow",
            "source_arrow_shape": "diamond",
            "target": "s31",
            "target_arrow_shape": "triangle"
           }
          },
          {
           "data": {
            "arrowhead": "normal",
            "id": "d4b10675-93d7-4802-b1c7-21d6bacb1fda",
            "source": "s6",
            "source_arrow_fill": "hollow",
            "source_arrow_shape": "diamond",
            "target": "s75",
            "target_arrow_shape": "triangle"
           }
          },
          {
           "data": {
            "arrowhead": "normal",
            "id": "a714dcb8-dab3-499e-8f3a-9fabcbaccccc",
            "source": "s7",
            "source_arrow_fill": "hollow",
            "source_arrow_shape": "diamond",
            "target": "s36",
            "target_arrow_shape": "triangle"
           }
          },
          {
           "data": {
            "arrowhead": "normal",
            "id": "ac7d4c48-496e-49f0-a8e6-04647c20f590",
            "source": "s8",
            "source_arrow_fill": "hollow",
            "source_arrow_shape": "diamond",
            "target": "s74",
            "target_arrow_shape": "triangle"
           }
          },
          {
           "data": {
            "arrowhead": "normal",
            "id": "02f3d071-6d80-40d6-89fa-11c333fda8b5",
            "source": "s9",
            "source_arrow_fill": "hollow",
            "source_arrow_shape": "diamond",
            "target": "s35",
            "target_arrow_shape": "triangle"
           }
          },
          {
           "data": {
            "arrowhead": "normal",
            "id": "74474491-4218-4152-abec-9a04ba2d0068",
            "source": "s10",
            "source_arrow_fill": "hollow",
            "source_arrow_shape": "diamond",
            "target": "s34",
            "target_arrow_shape": "triangle"
           }
          },
          {
           "data": {
            "arrowhead": "normal",
            "id": "d426c651-913f-4eab-9136-97ed85d59521",
            "source": "s10",
            "source_arrow_fill": "hollow",
            "source_arrow_shape": "diamond",
            "target": "s72",
            "target_arrow_shape": "triangle"
           }
          },
          {
           "data": {
            "arrowhead": "normal",
            "id": "2e4edf78-1eb1-4505-8413-7e7fda973f3a",
            "source": "s10",
            "source_arrow_fill": "hollow",
            "source_arrow_shape": "diamond",
            "target": "s76",
            "target_arrow_shape": "triangle"
           }
          },
          {
           "data": {
            "arrowhead": "normal",
            "id": "da04d73a-7646-4cb6-a25a-693d2875372f",
            "source": "s11",
            "source_arrow_fill": "hollow",
            "source_arrow_shape": "diamond",
            "target": "s29",
            "target_arrow_shape": "triangle"
           }
          },
          {
           "data": {
            "arrowhead": "normal",
            "id": "884a80d6-7956-498d-9e28-dcabeb99c4a3",
            "source": "s12",
            "source_arrow_fill": "hollow",
            "source_arrow_shape": "diamond",
            "target": "s41",
            "target_arrow_shape": "triangle"
           }
          },
          {
           "data": {
            "arrowhead": "normal",
            "id": "e6ee1a10-33fd-4f28-81ff-94d5e32aef8e",
            "source": "s13",
            "source_arrow_fill": "hollow",
            "source_arrow_shape": "diamond",
            "target": "s42",
            "target_arrow_shape": "triangle"
           }
          },
          {
           "data": {
            "arrowhead": "normal",
            "id": "b5776b9e-c640-4b5c-94dd-69f44a8c0593",
            "source": "s13",
            "source_arrow_fill": "hollow",
            "source_arrow_shape": "diamond",
            "target": "s50",
            "target_arrow_shape": "triangle"
           }
          },
          {
           "data": {
            "arrowhead": "normal",
            "id": "1a125f11-d6d1-4c06-8b64-564e3e753644",
            "source": "s14",
            "source_arrow_fill": "hollow",
            "source_arrow_shape": "diamond",
            "target": "s22",
            "target_arrow_shape": "triangle"
           }
          },
          {
           "data": {
            "arrowhead": "normal",
            "id": "827ab2f7-6fdf-4e2f-b0ef-de4b0296222b",
            "source": "s14",
            "source_arrow_fill": "hollow",
            "source_arrow_shape": "diamond",
            "target": "s43",
            "target_arrow_shape": "triangle"
           }
          },
          {
           "data": {
            "arrowhead": "normal",
            "id": "1e0e6702-8fa1-42c0-9c16-80ce35d49e33",
            "source": "s14",
            "source_arrow_fill": "hollow",
            "source_arrow_shape": "diamond",
            "target": "s57",
            "target_arrow_shape": "triangle"
           }
          },
          {
           "data": {
            "arrowhead": "normal",
            "id": "4393569b-7df3-413d-81a0-012f7055e53d",
            "source": "s15",
            "source_arrow_fill": "hollow",
            "source_arrow_shape": "diamond",
            "target": "s23",
            "target_arrow_shape": "triangle"
           }
          },
          {
           "data": {
            "arrowhead": "normal",
            "id": "1233eaa3-1ca2-4ad5-a263-53af57dba45b",
            "source": "s15",
            "source_arrow_fill": "hollow",
            "source_arrow_shape": "diamond",
            "target": "s44",
            "target_arrow_shape": "triangle"
           }
          },
          {
           "data": {
            "arrowhead": "normal",
            "id": "95d48f6f-d530-4897-b916-1e693a408b5f",
            "source": "s15",
            "source_arrow_fill": "hollow",
            "source_arrow_shape": "diamond",
            "target": "s51",
            "target_arrow_shape": "triangle"
           }
          },
          {
           "data": {
            "arrowhead": "normal",
            "id": "2d765920-645c-439f-9bfe-59ddf86dac9e",
            "source": "s15",
            "source_arrow_fill": "hollow",
            "source_arrow_shape": "diamond",
            "target": "s58",
            "target_arrow_shape": "triangle"
           }
          },
          {
           "data": {
            "arrowhead": "normal",
            "id": "d9ad803f-3627-4b8f-a087-2cc25a4b5be5",
            "source": "s16",
            "source_arrow_fill": "hollow",
            "source_arrow_shape": "diamond",
            "target": "s24",
            "target_arrow_shape": "triangle"
           }
          },
          {
           "data": {
            "arrowhead": "normal",
            "id": "a9d7ec19-970a-4f85-ba07-6aac131e2c00",
            "source": "s16",
            "source_arrow_fill": "hollow",
            "source_arrow_shape": "diamond",
            "target": "s45",
            "target_arrow_shape": "triangle"
           }
          },
          {
           "data": {
            "arrowhead": "normal",
            "id": "0f25de0c-aeb4-4f91-9674-4e36dbb05c77",
            "source": "s16",
            "source_arrow_fill": "hollow",
            "source_arrow_shape": "diamond",
            "target": "s52",
            "target_arrow_shape": "triangle"
           }
          },
          {
           "data": {
            "arrowhead": "normal",
            "id": "15619cc4-a6b3-4625-bb42-6b688435405d",
            "source": "s17",
            "source_arrow_fill": "hollow",
            "source_arrow_shape": "diamond",
            "target": "s22",
            "target_arrow_shape": "triangle"
           }
          },
          {
           "data": {
            "arrowhead": "normal",
            "id": "1081c080-b448-4773-ba95-a6fcf4e25727",
            "source": "s17",
            "source_arrow_fill": "hollow",
            "source_arrow_shape": "diamond",
            "target": "s23",
            "target_arrow_shape": "triangle"
           }
          },
          {
           "data": {
            "arrowhead": "normal",
            "id": "d7d487b4-7801-4d43-952f-79a400bbd564",
            "source": "s18",
            "source_arrow_fill": "hollow",
            "source_arrow_shape": "diamond",
            "target": "s24",
            "target_arrow_shape": "triangle"
           }
          },
          {
           "data": {
            "arrowhead": "normal",
            "id": "72e42d48-15eb-4799-b65e-f139c9c2d206",
            "source": "s19",
            "source_arrow_fill": "hollow",
            "source_arrow_shape": "diamond",
            "target": "s62",
            "target_arrow_shape": "triangle"
           }
          },
          {
           "data": {
            "arrowhead": "normal",
            "id": "fd864188-78a1-4ee0-a00e-331f008dcb79",
            "source": "s19",
            "source_arrow_fill": "hollow",
            "source_arrow_shape": "diamond",
            "target": "s69",
            "target_arrow_shape": "triangle"
           }
          },
          {
           "data": {
            "arrowhead": "normal",
            "id": "866ec3f0-d148-4882-9a1f-87f792e824cc",
            "source": "s20",
            "source_arrow_fill": "hollow",
            "source_arrow_shape": "diamond",
            "target": "s63",
            "target_arrow_shape": "triangle"
           }
          },
          {
           "data": {
            "arrowhead": "normal",
            "id": "a0e6ee68-9bd9-44ab-bfc4-4723d539e3ac",
            "source": "s20",
            "source_arrow_fill": "hollow",
            "source_arrow_shape": "diamond",
            "target": "s70",
            "target_arrow_shape": "triangle"
           }
          },
          {
           "data": {
            "arrowhead": "normal",
            "id": "c792e42a-2fdb-42e2-8e58-a1d75b7d3784",
            "source": "s21",
            "source_arrow_fill": "filled",
            "source_arrow_shape": "none",
            "target": "s25",
            "target_arrow_shape": "triangle"
           }
          },
          {
           "data": {
            "arrowhead": "normal",
            "id": "93406836-00f5-4a75-a699-71aea938ab24",
            "source": "s25",
            "source_arrow_fill": "hollow",
            "source_arrow_shape": "diamond",
            "target": "s26",
            "target_arrow_shape": "triangle"
           }
          },
          {
           "data": {
            "arrowhead": "normal",
            "id": "84f19130-631d-439b-bbbd-eada4a82958a",
            "source": "s25",
            "source_arrow_fill": "hollow",
            "source_arrow_shape": "diamond",
            "target": "s27",
            "target_arrow_shape": "triangle"
           }
          },
          {
           "data": {
            "arrowhead": "normal",
            "id": "f5987ebb-1d40-45d5-875c-a6a0aa9fcec9",
            "source": "s26",
            "source_arrow_fill": "filled",
            "source_arrow_shape": "none",
            "target": "s25",
            "target_arrow_shape": "triangle"
           }
          },
          {
           "data": {
            "arrowhead": "normal",
            "id": "1a584269-1cb4-43fd-9439-cf5d48069dd0",
            "source": "s26",
            "source_arrow_fill": "filled",
            "source_arrow_shape": "none",
            "target": "s28",
            "target_arrow_shape": "triangle"
           }
          },
          {
           "data": {
            "arrowhead": "normal",
            "id": "c4934082-389e-4e0f-af8c-6d1d18519aaf",
            "source": "s28",
            "source_arrow_fill": "hollow",
            "source_arrow_shape": "diamond",
            "target": "s29",
            "target_arrow_shape": "triangle"
           }
          },
          {
           "data": {
            "arrowhead": "normal",
            "id": "ecccc6ad-249b-4837-971e-70b4e734a2b7",
            "source": "s28",
            "source_arrow_fill": "hollow",
            "source_arrow_shape": "diamond",
            "target": "s30",
            "target_arrow_shape": "triangle"
           }
          },
          {
           "data": {
            "arrowhead": "normal",
            "id": "b0d0ce0a-7eaa-494f-892b-5323e0bcc45a",
            "source": "s28",
            "source_arrow_fill": "hollow",
            "source_arrow_shape": "diamond",
            "target": "s31",
            "target_arrow_shape": "triangle"
           }
          },
          {
           "data": {
            "arrowhead": "normal",
            "id": "bc0bb49e-67f3-42d5-b828-05585c09cfc1",
            "source": "s29",
            "source_arrow_fill": "filled",
            "source_arrow_shape": "none",
            "target": "s32",
            "target_arrow_shape": "triangle"
           }
          },
          {
           "data": {
            "arrowhead": "normal",
            "id": "ca9a7d94-ae5b-4d25-bad4-cde559d2d914",
            "source": "s29",
            "source_arrow_fill": "filled",
            "source_arrow_shape": "none",
            "target": "s28",
            "target_arrow_shape": "triangle"
           }
          },
          {
           "data": {
            "arrowhead": "normal",
            "id": "9f8db5f8-2275-4a81-847b-94fa1c2bdd86",
            "source": "s31",
            "source_arrow_fill": "filled",
            "source_arrow_shape": "none",
            "target": "s33",
            "target_arrow_shape": "triangle"
           }
          },
          {
           "data": {
            "arrowhead": "normal",
            "id": "493e064a-a83d-4d78-9685-fe19519a3df8",
            "source": "s31",
            "source_arrow_fill": "filled",
            "source_arrow_shape": "none",
            "target": "s28",
            "target_arrow_shape": "triangle"
           }
          },
          {
           "data": {
            "arrowhead": "normal",
            "id": "b13128cc-4695-47e6-8c5e-3dfb290c8634",
            "source": "s32",
            "source_arrow_fill": "hollow",
            "source_arrow_shape": "diamond",
            "target": "s37",
            "target_arrow_shape": "triangle"
           }
          },
          {
           "data": {
            "arrowhead": "normal",
            "id": "9782807e-7ff6-42c0-ba40-2d091134bb07",
            "source": "s33",
            "source_arrow_fill": "hollow",
            "source_arrow_shape": "diamond",
            "target": "s34",
            "target_arrow_shape": "triangle"
           }
          },
          {
           "data": {
            "arrowhead": "normal",
            "id": "4681bf39-9318-4651-ae89-1f22369b6442",
            "source": "s33",
            "source_arrow_fill": "hollow",
            "source_arrow_shape": "diamond",
            "target": "s35",
            "target_arrow_shape": "triangle"
           }
          },
          {
           "data": {
            "arrowhead": "normal",
            "id": "00f1a0dc-da5f-49b3-ba44-7f0549141396",
            "source": "s33",
            "source_arrow_fill": "hollow",
            "source_arrow_shape": "diamond",
            "target": "s36",
            "target_arrow_shape": "triangle"
           }
          },
          {
           "data": {
            "arrowhead": "normal",
            "id": "ef07e1c8-8205-4614-a464-06cf68e095c7",
            "source": "s34",
            "source_arrow_fill": "filled",
            "source_arrow_shape": "none",
            "target": "s10",
            "target_arrow_shape": "triangle"
           }
          },
          {
           "data": {
            "arrowhead": "normal",
            "id": "9ecb3e47-fe03-47d6-91e7-45b81f6f74c7",
            "source": "s34",
            "source_arrow_fill": "filled",
            "source_arrow_shape": "none",
            "target": "s38",
            "target_arrow_shape": "triangle"
           }
          },
          {
           "data": {
            "arrowhead": "normal",
            "id": "bce25757-14be-4c28-b6b0-cb7eaf0f6f29",
            "source": "s35",
            "source_arrow_fill": "filled",
            "source_arrow_shape": "none",
            "target": "s33",
            "target_arrow_shape": "triangle"
           }
          },
          {
           "data": {
            "arrowhead": "normal",
            "id": "fc840bbb-5666-4e1b-abf5-93e4c2055b4c",
            "source": "s35",
            "source_arrow_fill": "filled",
            "source_arrow_shape": "none",
            "target": "s39",
            "target_arrow_shape": "triangle"
           }
          },
          {
           "data": {
            "arrowhead": "normal",
            "id": "7557d229-ab0b-476f-a57a-d0b8f1d6abe5",
            "source": "s36",
            "source_arrow_fill": "filled",
            "source_arrow_shape": "none",
            "target": "s40",
            "target_arrow_shape": "triangle"
           }
          },
          {
           "data": {
            "arrowhead": "normal",
            "id": "ca737e7f-05df-467e-a471-fdd5f035bf63",
            "source": "s36",
            "source_arrow_fill": "filled",
            "source_arrow_shape": "none",
            "target": "s33",
            "target_arrow_shape": "triangle"
           }
          },
          {
           "data": {
            "arrowhead": "normal",
            "id": "92b2a416-a690-4127-8369-6e64b04de7ea",
            "source": "s37",
            "source_arrow_fill": "hollow",
            "source_arrow_shape": "diamond",
            "target": "s41",
            "target_arrow_shape": "triangle"
           }
          },
          {
           "data": {
            "arrowhead": "normal",
            "id": "d6c8bdb7-478e-41cc-9d8d-d4205cf21a8b",
            "source": "s37",
            "source_arrow_fill": "hollow",
            "source_arrow_shape": "diamond",
            "target": "s42",
            "target_arrow_shape": "triangle"
           }
          },
          {
           "data": {
            "arrowhead": "normal",
            "id": "38f83321-2a10-4847-b0de-6db1bb4891ab",
            "source": "s37",
            "source_arrow_fill": "hollow",
            "source_arrow_shape": "diamond",
            "target": "s43",
            "target_arrow_shape": "triangle"
           }
          },
          {
           "data": {
            "arrowhead": "normal",
            "id": "d99fa7de-691c-4fa4-b05f-94fe2d687b0b",
            "source": "s37",
            "source_arrow_fill": "hollow",
            "source_arrow_shape": "diamond",
            "target": "s44",
            "target_arrow_shape": "triangle"
           }
          },
          {
           "data": {
            "arrowhead": "normal",
            "id": "cad7429a-3893-41c0-83be-8d6a9a719257",
            "source": "s37",
            "source_arrow_fill": "hollow",
            "source_arrow_shape": "diamond",
            "target": "s45",
            "target_arrow_shape": "triangle"
           }
          },
          {
           "data": {
            "arrowhead": "normal",
            "id": "71ebcf3e-6f05-4272-8996-2153d73f092a",
            "source": "s37",
            "source_arrow_fill": "hollow",
            "source_arrow_shape": "diamond",
            "target": "s49",
            "target_arrow_shape": "triangle"
           }
          },
          {
           "data": {
            "arrowhead": "normal",
            "id": "d32a10c4-6052-457b-942a-1e25a6e3a6b3",
            "source": "s40",
            "source_arrow_fill": "hollow",
            "source_arrow_shape": "diamond",
            "target": "s46",
            "target_arrow_shape": "triangle"
           }
          },
          {
           "data": {
            "arrowhead": "normal",
            "id": "721a02d0-ba41-4bcc-89da-baeb8b2969f0",
            "source": "s41",
            "source_arrow_fill": "filled",
            "source_arrow_shape": "none",
            "target": "s37",
            "target_arrow_shape": "triangle"
           }
          },
          {
           "data": {
            "arrowhead": "normal",
            "id": "66b5ea73-6543-415d-829d-c214d40057a5",
            "source": "s41",
            "source_arrow_fill": "filled",
            "source_arrow_shape": "none",
            "target": "s47",
            "target_arrow_shape": "triangle"
           }
          },
          {
           "data": {
            "arrowhead": "normal",
            "id": "1ab5c9fb-4381-4fe1-b39d-a35737b70c83",
            "source": "s42",
            "source_arrow_fill": "filled",
            "source_arrow_shape": "none",
            "target": "s48",
            "target_arrow_shape": "triangle"
           }
          },
          {
           "data": {
            "arrowhead": "normal",
            "id": "ff6eeddd-29f0-4eb5-b321-8715c1ba5001",
            "source": "s42",
            "source_arrow_fill": "filled",
            "source_arrow_shape": "none",
            "target": "s37",
            "target_arrow_shape": "triangle"
           }
          },
          {
           "data": {
            "arrowhead": "normal",
            "id": "b1bace23-c475-48f8-a4d4-ae1f06c7c947",
            "source": "s46",
            "source_arrow_fill": "filled",
            "source_arrow_shape": "none",
            "target": "s40",
            "target_arrow_shape": "triangle"
           }
          },
          {
           "data": {
            "arrowhead": "normal",
            "id": "790bf693-1383-4742-9f11-f80cd31d2fba",
            "source": "s46",
            "source_arrow_fill": "filled",
            "source_arrow_shape": "none",
            "target": "s28",
            "target_arrow_shape": "triangle"
           }
          },
          {
           "data": {
            "arrowhead": "normal",
            "id": "ca983307-a7ec-44bc-ad64-aa222582e0e6",
            "source": "s47",
            "source_arrow_fill": "hollow",
            "source_arrow_shape": "diamond",
            "target": "s49",
            "target_arrow_shape": "triangle"
           }
          },
          {
           "data": {
            "arrowhead": "normal",
            "id": "8173658d-ae9d-4d5e-9a83-8fdd5396103e",
            "source": "s47",
            "source_arrow_fill": "hollow",
            "source_arrow_shape": "diamond",
            "target": "s56",
            "target_arrow_shape": "triangle"
           }
          },
          {
           "data": {
            "arrowhead": "normal",
            "id": "6f49a5db-c61f-4b6e-8692-28c7278d1190",
            "source": "s48",
            "source_arrow_fill": "hollow",
            "source_arrow_shape": "diamond",
            "target": "s50",
            "target_arrow_shape": "triangle"
           }
          },
          {
           "data": {
            "arrowhead": "normal",
            "id": "dbaf9068-3d43-41aa-b269-06acb040e22b",
            "source": "s48",
            "source_arrow_fill": "hollow",
            "source_arrow_shape": "diamond",
            "target": "s51",
            "target_arrow_shape": "triangle"
           }
          },
          {
           "data": {
            "arrowhead": "normal",
            "id": "81b1aad2-62c2-413f-9ceb-743668c55e03",
            "source": "s48",
            "source_arrow_fill": "hollow",
            "source_arrow_shape": "diamond",
            "target": "s52",
            "target_arrow_shape": "triangle"
           }
          },
          {
           "data": {
            "arrowhead": "normal",
            "id": "de55b537-4ea6-4e0e-bdb2-deb85bf16da1",
            "source": "s48",
            "source_arrow_fill": "hollow",
            "source_arrow_shape": "diamond",
            "target": "s53",
            "target_arrow_shape": "triangle"
           }
          },
          {
           "data": {
            "arrowhead": "normal",
            "id": "07dbff18-31f0-4769-8dae-59c3801252b1",
            "source": "s48",
            "source_arrow_fill": "hollow",
            "source_arrow_shape": "diamond",
            "target": "s55",
            "target_arrow_shape": "triangle"
           }
          },
          {
           "data": {
            "arrowhead": "normal",
            "id": "a2f481ea-09a9-4748-9974-73bbebccda5a",
            "source": "s48",
            "source_arrow_fill": "hollow",
            "source_arrow_shape": "diamond",
            "target": "s60",
            "target_arrow_shape": "triangle"
           }
          },
          {
           "data": {
            "arrowhead": "normal",
            "id": "d1ab36e2-80b5-4373-8373-3d20b601d0cc",
            "source": "s49",
            "source_arrow_fill": "filled",
            "source_arrow_shape": "none",
            "target": "s37",
            "target_arrow_shape": "triangle"
           }
          },
          {
           "data": {
            "arrowhead": "normal",
            "id": "1a97037d-5199-49d2-82a6-00b83bd07b40",
            "source": "s49",
            "source_arrow_fill": "filled",
            "source_arrow_shape": "none",
            "target": "s54",
            "target_arrow_shape": "triangle"
           }
          },
          {
           "data": {
            "arrowhead": "normal",
            "id": "04ba3341-b709-4ef9-a91b-2237a98377c4",
            "source": "s50",
            "source_arrow_fill": "filled",
            "source_arrow_shape": "none",
            "target": "s48",
            "target_arrow_shape": "triangle"
           }
          },
          {
           "data": {
            "arrowhead": "normal",
            "id": "0b62ddca-8913-4a17-84f9-f109de545f75",
            "source": "s53",
            "source_arrow_fill": "hollow",
            "source_arrow_shape": "diamond",
            "target": "s55",
            "target_arrow_shape": "triangle"
           }
          },
          {
           "data": {
            "arrowhead": "normal",
            "id": "6b1bd23f-d24c-4633-a444-dc4fa354ceb8",
            "source": "s54",
            "source_arrow_fill": "hollow",
            "source_arrow_shape": "diamond",
            "target": "s56",
            "target_arrow_shape": "triangle"
           }
          },
          {
           "data": {
            "arrowhead": "normal",
            "id": "ff610493-d24f-4256-a27a-b4bc313f722f",
            "source": "s54",
            "source_arrow_fill": "hollow",
            "source_arrow_shape": "diamond",
            "target": "s57",
            "target_arrow_shape": "triangle"
           }
          },
          {
           "data": {
            "arrowhead": "normal",
            "id": "12d1dc96-aa87-429e-9a78-017871f5a38c",
            "source": "s54",
            "source_arrow_fill": "hollow",
            "source_arrow_shape": "diamond",
            "target": "s58",
            "target_arrow_shape": "triangle"
           }
          },
          {
           "data": {
            "arrowhead": "normal",
            "id": "150df77d-1847-40f2-82c6-cc498b2a9315",
            "source": "s54",
            "source_arrow_fill": "hollow",
            "source_arrow_shape": "diamond",
            "target": "s59",
            "target_arrow_shape": "triangle"
           }
          },
          {
           "data": {
            "arrowhead": "normal",
            "id": "e0bebe9b-7724-4379-84a1-56937845f9ae",
            "source": "s54",
            "source_arrow_fill": "hollow",
            "source_arrow_shape": "diamond",
            "target": "s61",
            "target_arrow_shape": "triangle"
           }
          },
          {
           "data": {
            "arrowhead": "normal",
            "id": "0dfe01ad-2e3e-4bb2-8a04-a7b820b37f6b",
            "source": "s54",
            "source_arrow_fill": "hollow",
            "source_arrow_shape": "diamond",
            "target": "s64",
            "target_arrow_shape": "triangle"
           }
          },
          {
           "data": {
            "arrowhead": "normal",
            "id": "23833d34-6944-4b93-ad00-29a90323cfbe",
            "source": "s55",
            "source_arrow_fill": "hollow",
            "source_arrow_shape": "diamond",
            "target": "s60",
            "target_arrow_shape": "triangle"
           }
          },
          {
           "data": {
            "arrowhead": "normal",
            "id": "f3316ff0-0d61-4add-b25f-692349f54cd7",
            "source": "s56",
            "source_arrow_fill": "filled",
            "source_arrow_shape": "none",
            "target": "s54",
            "target_arrow_shape": "triangle"
           }
          },
          {
           "data": {
            "arrowhead": "normal",
            "id": "a276bac1-1140-4679-a0eb-a318f6cc4772",
            "source": "s59",
            "source_arrow_fill": "hollow",
            "source_arrow_shape": "diamond",
            "target": "s61",
            "target_arrow_shape": "triangle"
           }
          },
          {
           "data": {
            "arrowhead": "normal",
            "id": "001aefa0-142a-434c-8722-101c4f053a06",
            "source": "s60",
            "source_arrow_fill": "hollow",
            "source_arrow_shape": "diamond",
            "target": "s62",
            "target_arrow_shape": "triangle"
           }
          },
          {
           "data": {
            "arrowhead": "normal",
            "id": "e46640fd-4017-4972-98f6-c2ccec8cf325",
            "source": "s60",
            "source_arrow_fill": "hollow",
            "source_arrow_shape": "diamond",
            "target": "s63",
            "target_arrow_shape": "triangle"
           }
          },
          {
           "data": {
            "arrowhead": "normal",
            "id": "8d1c7dd7-0db1-48bd-aab6-2636d1b87e2c",
            "source": "s61",
            "source_arrow_fill": "hollow",
            "source_arrow_shape": "diamond",
            "target": "s64",
            "target_arrow_shape": "triangle"
           }
          },
          {
           "data": {
            "arrowhead": "normal",
            "id": "666fd1e8-86a9-4329-b091-067da39901fa",
            "source": "s62",
            "source_arrow_fill": "filled",
            "source_arrow_shape": "none",
            "target": "s65",
            "target_arrow_shape": "triangle"
           }
          },
          {
           "data": {
            "arrowhead": "normal",
            "id": "2acb52bc-660e-4cd5-ba7f-31ccdba7f9d2",
            "source": "s62",
            "source_arrow_fill": "filled",
            "source_arrow_shape": "none",
            "target": "s60",
            "target_arrow_shape": "triangle"
           }
          },
          {
           "data": {
            "arrowhead": "normal",
            "id": "e46a0c12-7c70-4514-bdb5-d1590ad5e42d",
            "source": "s63",
            "source_arrow_fill": "filled",
            "source_arrow_shape": "none",
            "target": "s66",
            "target_arrow_shape": "triangle"
           }
          },
          {
           "data": {
            "arrowhead": "normal",
            "id": "ee824006-50b1-4a4f-ab17-b46f8893d2d0",
            "source": "s63",
            "source_arrow_fill": "filled",
            "source_arrow_shape": "none",
            "target": "s60",
            "target_arrow_shape": "triangle"
           }
          },
          {
           "data": {
            "arrowhead": "normal",
            "id": "312ce3aa-2fdd-40c6-9033-c9e204cec415",
            "source": "s64",
            "source_arrow_fill": "hollow",
            "source_arrow_shape": "diamond",
            "target": "s69",
            "target_arrow_shape": "triangle"
           }
          },
          {
           "data": {
            "arrowhead": "normal",
            "id": "ccf26125-95e4-4b8e-ba2d-25f0c5b8b464",
            "source": "s64",
            "source_arrow_fill": "hollow",
            "source_arrow_shape": "diamond",
            "target": "s70",
            "target_arrow_shape": "triangle"
           }
          },
          {
           "data": {
            "arrowhead": "normal",
            "id": "7cb84cd0-2a92-4429-bf0f-cdf1fa556cc7",
            "source": "s65",
            "source_arrow_fill": "hollow",
            "source_arrow_shape": "diamond",
            "target": "s68",
            "target_arrow_shape": "triangle"
           }
          },
          {
           "data": {
            "arrowhead": "normal",
            "id": "d132134a-25a1-43f2-9ce7-f1cb0a199139",
            "source": "s66",
            "source_arrow_fill": "hollow",
            "source_arrow_shape": "diamond",
            "target": "s67",
            "target_arrow_shape": "triangle"
           }
          },
          {
           "data": {
            "arrowhead": "normal",
            "id": "4ccf23ef-f179-4999-96ee-f8402919e276",
            "source": "s67",
            "source_arrow_fill": "hollow",
            "source_arrow_shape": "diamond",
            "target": "s72",
            "target_arrow_shape": "triangle"
           }
          },
          {
           "data": {
            "arrowhead": "normal",
            "id": "74052b96-f923-46ae-927d-d9816504b144",
            "source": "s68",
            "source_arrow_fill": "hollow",
            "source_arrow_shape": "diamond",
            "target": "s71",
            "target_arrow_shape": "triangle"
           }
          },
          {
           "data": {
            "arrowhead": "normal",
            "id": "e2e67cab-1ed7-4c55-9037-81c9553951fc",
            "source": "s69",
            "source_arrow_fill": "filled",
            "source_arrow_shape": "none",
            "target": "s64",
            "target_arrow_shape": "triangle"
           }
          },
          {
           "data": {
            "arrowhead": "normal",
            "id": "65fc7a0a-e3ff-4473-adea-d3d1cfb23b7f",
            "source": "s69",
            "source_arrow_fill": "filled",
            "source_arrow_shape": "none",
            "target": "s65",
            "target_arrow_shape": "triangle"
           }
          },
          {
           "data": {
            "arrowhead": "normal",
            "id": "bc463e65-c8f9-4d4d-b31f-68b27eab721e",
            "source": "s70",
            "source_arrow_fill": "filled",
            "source_arrow_shape": "none",
            "target": "s64",
            "target_arrow_shape": "triangle"
           }
          },
          {
           "data": {
            "arrowhead": "normal",
            "id": "7e8847de-c251-45ed-8c5d-9eac1aa7babf",
            "source": "s70",
            "source_arrow_fill": "filled",
            "source_arrow_shape": "none",
            "target": "s66",
            "target_arrow_shape": "triangle"
           }
          },
          {
           "data": {
            "arrowhead": "normal",
            "id": "3bcfbe7f-eb07-4fdb-a2b5-d357cdc71119",
            "source": "s71",
            "source_arrow_fill": "filled",
            "source_arrow_shape": "none",
            "target": "s73",
            "target_arrow_shape": "triangle"
           }
          },
          {
           "data": {
            "arrowhead": "normal",
            "id": "8d44f60b-feb4-4b63-bd1c-d705244ae006",
            "source": "s71",
            "source_arrow_fill": "filled",
            "source_arrow_shape": "none",
            "target": "s68",
            "target_arrow_shape": "triangle"
           }
          },
          {
           "data": {
            "arrowhead": "normal",
            "id": "a1c2046b-d6dd-435e-ba3e-86685bc8db25",
            "source": "s73",
            "source_arrow_fill": "hollow",
            "source_arrow_shape": "diamond",
            "target": "s74",
            "target_arrow_shape": "triangle"
           }
          },
          {
           "data": {
            "arrowhead": "normal",
            "id": "aa266730-199d-408a-abf3-64e5bc2cb38d",
            "source": "s74",
            "source_arrow_fill": "hollow",
            "source_arrow_shape": "diamond",
            "target": "s75",
            "target_arrow_shape": "triangle"
           }
          },
          {
           "data": {
            "arrowhead": "normal",
            "id": "b8f36fbb-0877-4e4c-9bb8-603ea2f6d05d",
            "source": "s74",
            "source_arrow_fill": "hollow",
            "source_arrow_shape": "diamond",
            "target": "s76",
            "target_arrow_shape": "triangle"
           }
          },
          {
           "data": {
            "arrowhead": "normal",
            "id": "742fa0de-a963-467e-8b37-61d921ca3e1e",
            "source": "s75",
            "source_arrow_fill": "filled",
            "source_arrow_shape": "none",
            "target": "s33",
            "target_arrow_shape": "triangle"
           }
          },
          {
           "data": {
            "arrowhead": "normal",
            "id": "f017804f-4bb8-446f-9cd2-e24ae6c0d4df",
            "source": "s75",
            "source_arrow_fill": "filled",
            "source_arrow_shape": "none",
            "target": "s74",
            "target_arrow_shape": "triangle"
           }
          }
         ],
         "nodes": [
          {
           "data": {
            "NodeType": "species",
            "background_color": "#2b913a",
            "id": "s0",
            "label": "L",
            "name": "s0",
            "shape": "ellipse"
           },
           "position": {
            "x": 1080.0692943719225,
            "y": -14.954125264985842
           }
          },
          {
           "data": {
            "NodeType": "species",
            "background_color": "#2b913a",
            "id": "s1",
            "label": "R",
            "name": "s1",
            "shape": "ellipse"
           },
           "position": {
            "x": 1146.569511673455,
            "y": -86.68220126088283
           }
          },
          {
           "data": {
            "NodeType": "species",
            "background_color": "#2b913a",
            "id": "s2",
            "label": "flip",
            "name": "s2",
            "shape": "ellipse"
           },
           "position": {
            "x": 1077.379445875047,
            "y": 118.93270235654606
           }
          },
          {
           "data": {
            "NodeType": "species",
            "background_color": "#2b913a",
            "id": "s3",
            "label": "proC8",
            "name": "s3",
            "shape": "ellipse"
           },
           "position": {
            "x": 1463.813018429179,
            "y": 24.42482767542944
           }
          },
          {
           "data": {
            "NodeType": "species",
            "background_color": "#2b913a",
            "id": "s4",
            "label": "BAR",
            "name": "s4",
            "shape": "ellipse"
           },
           "position": {
            "x": 1520.3396002951706,
            "y": 284.5884980032907
           }
          },
          {
           "data": {
            "NodeType": "species",
            "background_color": "#2b913a",
            "id": "s5",
            "label": "iApaf",
            "name": "s5",
            "shape": "ellipse"
           },
           "position": {
            "x": 1983.2767512866692,
            "y": 564.1295800649098
           }
          },
          {
           "data": {
            "NodeType": "species",
            "background_color": "#2b913a",
            "id": "s6",
            "label": "proC3",
            "name": "s6",
            "shape": "ellipse"
           },
           "position": {
            "x": 1617.31671762354,
            "y": 463.64911571779294
           }
          },
          {
           "data": {
            "NodeType": "species",
            "background_color": "#2b913a",
            "id": "s7",
            "label": "proC6",
            "name": "s7",
            "shape": "ellipse"
           },
           "position": {
            "x": 1675.8083786156863,
            "y": 192.92500092371662
           }
          },
          {
           "data": {
            "NodeType": "species",
            "background_color": "#2b913a",
            "id": "s8",
            "label": "C9",
            "name": "s8",
            "shape": "ellipse"
           },
           "position": {
            "x": 1983.707082732753,
            "y": 464.5468164639647
           }
          },
          {
           "data": {
            "NodeType": "species",
            "background_color": "#2b913a",
            "id": "s9",
            "label": "uPARP",
            "name": "s9",
            "shape": "ellipse"
           },
           "position": {
            "x": 1812.997149510203,
            "y": 291.73181626157407
           }
          },
          {
           "data": {
            "NodeType": "species",
            "background_color": "#2b913a",
            "id": "s10",
            "label": "XIAP",
            "name": "s10",
            "shape": "ellipse"
           },
           "position": {
            "x": 1838.763224908438,
            "y": 791.4130763011974
           }
          },
          {
           "data": {
            "NodeType": "species",
            "background_color": "#2b913a",
            "id": "s11",
            "label": "uBid",
            "name": "s11",
            "shape": "ellipse"
           },
           "position": {
            "x": 1294.737343187383,
            "y": 259.5582506768462
           }
          },
          {
           "data": {
            "NodeType": "species",
            "background_color": "#2b913a",
            "id": "s12",
            "label": "cBax",
            "name": "s12",
            "shape": "ellipse"
           },
           "position": {
            "x": 1256.9972084657,
            "y": 609.5997618034287
           }
          },
          {
           "data": {
            "NodeType": "species",
            "background_color": "#2b913a",
            "id": "s13",
            "label": "mBak",
            "name": "s13",
            "shape": "ellipse"
           },
           "position": {
            "x": 1448.6500531274028,
            "y": 628.0981659436486
           }
          },
          {
           "data": {
            "NodeType": "species",
            "background_color": "#2b913a",
            "id": "s14",
            "label": "mBcl2",
            "name": "s14",
            "shape": "ellipse"
           },
           "position": {
            "x": 1054.119148339347,
            "y": 957.2796226468816
           }
          },
          {
           "data": {
            "NodeType": "species",
            "background_color": "#2b913a",
            "id": "s15",
            "label": "mBclxL",
            "name": "s15",
            "shape": "ellipse"
           },
           "position": {
            "x": 1160.487360435774,
            "y": 779.2175621300543
           }
          },
          {
           "data": {
            "NodeType": "species",
            "background_color": "#2b913a",
            "id": "s16",
            "label": "mMcl1",
            "name": "s16",
            "shape": "ellipse"
           },
           "position": {
            "x": 1282.5099859166937,
            "y": 455.4960727568908
           }
          },
          {
           "data": {
            "NodeType": "species",
            "background_color": "#2b913a",
            "id": "s17",
            "label": "mBad",
            "name": "s17",
            "shape": "ellipse"
           },
           "position": {
            "x": 923.828663018465,
            "y": 732.9819767817611
           }
          },
          {
           "data": {
            "NodeType": "species",
            "background_color": "#2b913a",
            "id": "s18",
            "label": "mNoxa",
            "name": "s18",
            "shape": "ellipse"
           },
           "position": {
            "x": 1269.418934597697,
            "y": 146.19500764631886
           }
          },
          {
           "data": {
            "NodeType": "species",
            "background_color": "#2b913a",
            "id": "s19",
            "label": "mCytoC",
            "name": "s19",
            "shape": "ellipse"
           },
           "position": {
            "x": 1583.66273231763,
            "y": 859.4404619550536
           }
          },
          {
           "data": {
            "NodeType": "species",
            "background_color": "#2b913a",
            "id": "s20",
            "label": "mSmac",
            "name": "s20",
            "shape": "ellipse"
           },
           "position": {
            "x": 1585.3125530306265,
            "y": 1224.6354176638501
           }
          },
          {
           "data": {
            "NodeType": "species",
            "background_color": "#2b913a",
            "id": "s21",
            "label": "L-R",
            "name": "s21",
            "shape": "ellipse"
           },
           "position": {
            "x": 1175.885268433608,
            "y": -13.66660710162403
           }
          },
          {
           "data": {
            "NodeType": "species",
            "background_color": "#2b913a",
            "id": "s22",
            "label": "mBad-mBcl2",
            "name": "s22",
            "shape": "ellipse"
           },
           "position": {
            "x": 958.0893263637041,
            "y": 874.0180188781633
           }
          },
          {
           "data": {
            "NodeType": "species",
            "background_color": "#2b913a",
            "id": "s23",
            "label": "mBad-mBclxL",
            "name": "s23",
            "shape": "ellipse"
           },
           "position": {
            "x": 1019.459094691138,
            "y": 637.9372923466123
           }
          },
          {
           "data": {
            "NodeType": "species",
            "background_color": "#2b913a",
            "id": "s24",
            "label": "mMcl1-mNoxa",
            "name": "s24",
            "shape": "ellipse"
           },
           "position": {
            "x": 1198.4666759389747,
            "y": 304.4513443399063
           }
          },
          {
           "data": {
            "NodeType": "species",
            "background_color": "#2b913a",
            "id": "s25",
            "label": "DISC",
            "name": "s25",
            "shape": "ellipse"
           },
           "position": {
            "x": 1271.0747150955358,
            "y": 52.45659431857627
           }
          },
          {
           "data": {
            "NodeType": "species",
            "background_color": "#2b913a",
            "id": "s26",
            "label": "proC8-DISC",
            "name": "s26",
            "shape": "ellipse"
           },
           "position": {
            "x": 1367.2411393577704,
            "y": 134.82943458276551
           }
          },
          {
           "data": {
            "NodeType": "species",
            "background_color": "#2b913a",
            "id": "s27",
            "label": "DISC-flip",
            "name": "s27",
            "shape": "ellipse"
           },
           "position": {
            "x": 1172.4454452853822,
            "y": 86.42153070644157
           }
          },
          {
           "data": {
            "NodeType": "species",
            "background_color": "#2b913a",
            "id": "s28",
            "label": "aC8",
            "name": "s28",
            "shape": "ellipse"
           },
           "position": {
            "x": 1424.1402579326627,
            "y": 264.0485114745892
           }
          },
          {
           "data": {
            "NodeType": "species",
            "background_color": "#2b913a",
            "id": "s29",
            "label": "uBid-aC8",
            "name": "s29",
            "shape": "ellipse"
           },
           "position": {
            "x": 1328.088169785623,
            "y": 364.16296261570335
           }
          },
          {
           "data": {
            "NodeType": "species",
            "background_color": "#2b913a",
            "id": "s30",
            "label": "BAR-aC8",
            "name": "s30",
            "shape": "ellipse"
           },
           "position": {
            "x": 1425.940193661233,
            "y": 366.7404190371305
           }
          },
          {
           "data": {
            "NodeType": "species",
            "background_color": "#2b913a",
            "id": "s31",
            "label": "proC3-aC8",
            "name": "s31",
            "shape": "ellipse"
           },
           "position": {
            "x": 1521.4501216528556,
            "y": 397.9256822659593
           }
          },
          {
           "data": {
            "NodeType": "species",
            "background_color": "#2b913a",
            "id": "s32",
            "label": "tBid",
            "name": "s32",
            "shape": "ellipse"
           },
           "position": {
            "x": 1282.5814140069322,
            "y": 537.6555955542501
           }
          },
          {
           "data": {
            "NodeType": "species",
            "background_color": "#2b913a",
            "id": "s33",
            "label": "aC3",
            "name": "s33",
            "shape": "ellipse"
           },
           "position": {
            "x": 1693.5330425855966,
            "y": 462.0759057391004
           }
          },
          {
           "data": {
            "NodeType": "species",
            "background_color": "#2b913a",
            "id": "s34",
            "label": "aC3-XIAP",
            "name": "s34",
            "shape": "ellipse"
           },
           "position": {
            "x": 1743.0473702784836,
            "y": 652.8171705402892
           }
          },
          {
           "data": {
            "NodeType": "species",
            "background_color": "#2b913a",
            "id": "s35",
            "label": "aC3-uPARP",
            "name": "s35",
            "shape": "ellipse"
           },
           "position": {
            "x": 1714.089368378686,
            "y": 326.19935747298166
           }
          },
          {
           "data": {
            "NodeType": "species",
            "background_color": "#2b913a",
            "id": "s36",
            "label": "aC3-proC6",
            "name": "s36",
            "shape": "ellipse"
           },
           "position": {
            "x": 1617.5959709469025,
            "y": 332.11802402138443
           }
          },
          {
           "data": {
            "NodeType": "species",
            "background_color": "#2b913a",
            "id": "s37",
            "label": "mBid",
            "name": "s37",
            "shape": "ellipse"
           },
           "position": {
            "x": 1212.0854204718512,
            "y": 682.9916483688776
           }
          },
          {
           "data": {
            "NodeType": "species",
            "background_color": "#2b913a",
            "id": "s38",
            "label": "ubC3",
            "name": "s38",
            "shape": "ellipse"
           },
           "position": {
            "x": 1646.3764172315286,
            "y": 564.3028425758033
           }
          },
          {
           "data": {
            "NodeType": "species",
            "background_color": "#2b913a",
            "id": "s39",
            "label": "cPARP",
            "name": "s39",
            "shape": "ellipse"
           },
           "position": {
            "x": 1772.28442075436,
            "y": 188.8025942405872
           }
          },
          {
           "data": {
            "NodeType": "species",
            "background_color": "#2b913a",
            "id": "s40",
            "label": "aC6",
            "name": "s40",
            "shape": "ellipse"
           },
           "position": {
            "x": 1578.538486749638,
            "y": 217.45386882661793
           }
          },
          {
           "data": {
            "NodeType": "species",
            "background_color": "#2b913a",
            "id": "s41",
            "label": "cBax-mBid",
            "name": "s41",
            "shape": "ellipse"
           },
           "position": {
            "x": 1257.9388452893807,
            "y": 753.6875925817737
           }
          },
          {
           "data": {
            "NodeType": "species",
            "background_color": "#2b913a",
            "id": "s42",
            "label": "mBak-mBid",
            "name": "s42",
            "shape": "ellipse"
           },
           "position": {
            "x": 1351.5802062739458,
            "y": 660.5953641917032
           }
          },
          {
           "data": {
            "NodeType": "species",
            "background_color": "#2b913a",
            "id": "s43",
            "label": "mBcl2-mBid",
            "name": "s43",
            "shape": "ellipse"
           },
           "position": {
            "x": 1065.8737460324783,
            "y": 814.7014890950866
           }
          },
          {
           "data": {
            "NodeType": "species",
            "background_color": "#2b913a",
            "id": "s44",
            "label": "mBclxL-mBid",
            "name": "s44",
            "shape": "ellipse"
           },
           "position": {
            "x": 1116.5731592441205,
            "y": 623.271689568425
           }
          },
          {
           "data": {
            "NodeType": "species",
            "background_color": "#2b913a",
            "id": "s45",
            "label": "mBid-mMcl1",
            "name": "s45",
            "shape": "ellipse"
           },
           "position": {
            "x": 1186.7723838567242,
            "y": 508.78167207590053
           }
          },
          {
           "data": {
            "NodeType": "species",
            "background_color": "#2b913a",
            "id": "s46",
            "label": "aC6-proC8",
            "name": "s46",
            "shape": "ellipse"
           },
           "position": {
            "x": 1483.1081205374346,
            "y": 152.21532894144653
           }
          },
          {
           "data": {
            "NodeType": "species",
            "background_color": "#2b913a",
            "id": "s47",
            "label": "mBax",
            "name": "s47",
            "shape": "ellipse"
           },
           "position": {
            "x": 1252.959356867675,
            "y": 953.6392050902076
           }
          },
          {
           "data": {
            "NodeType": "species",
            "background_color": "#2b913a",
            "id": "s48",
            "label": "aBak",
            "name": "s48",
            "shape": "ellipse"
           },
           "position": {
            "x": 1448.6519359492404,
            "y": 710.3371001023404
           }
          },
          {
           "data": {
            "NodeType": "species",
            "background_color": "#2b913a",
            "id": "s49",
            "label": "mBax-mBid",
            "name": "s49",
            "shape": "ellipse"
           },
           "position": {
            "x": 1256.1696207031785,
            "y": 859.0633780314365
           }
          },
          {
           "data": {
            "NodeType": "species",
            "background_color": "#2b913a",
            "id": "s50",
            "label": "aBak-mBak",
            "name": "s50",
            "shape": "ellipse"
           },
           "position": {
            "x": 1544.3377283690822,
            "y": 605.4199787819022
           }
          },
          {
           "data": {
            "NodeType": "species",
            "background_color": "#2b913a",
            "id": "s51",
            "label": "aBak-mBclxL",
            "name": "s51",
            "shape": "ellipse"
           },
           "position": {
            "x": 1353.7494668606755,
            "y": 846.9960399083446
           }
          },
          {
           "data": {
            "NodeType": "species",
            "background_color": "#2b913a",
            "id": "s52",
            "label": "aBak-mMcl1",
            "name": "s52",
            "shape": "ellipse"
           },
           "position": {
            "x": 1382.5997084674905,
            "y": 526.5256345370125
           }
          },
          {
           "data": {
            "NodeType": "species",
            "background_color": "#2b913a",
            "id": "s53",
            "label": "2aBak",
            "name": "s53",
            "shape": "ellipse"
           },
           "position": {
            "x": 1449.0971034656318,
            "y": 795.1138050673691
           }
          },
          {
           "data": {
            "NodeType": "species",
            "background_color": "#2b913a",
            "id": "s54",
            "label": "aBax",
            "name": "s54",
            "shape": "ellipse"
           },
           "position": {
            "x": 1252.062977497975,
            "y": 1034.1440622333896
           }
          },
          {
           "data": {
            "NodeType": "species",
            "background_color": "#2b913a",
            "id": "s55",
            "label": "3aBak",
            "name": "s55",
            "shape": "ellipse"
           },
           "position": {
            "x": 1545.918201848,
            "y": 737.8207807110643
           }
          },
          {
           "data": {
            "NodeType": "species",
            "background_color": "#2b913a",
            "id": "s56",
            "label": "aBax-mBax",
            "name": "s56",
            "shape": "ellipse"
           },
           "position": {
            "x": 1197.0645819049273,
            "y": 1125.5567738220157
           }
          },
          {
           "data": {
            "NodeType": "species",
            "background_color": "#2b913a",
            "id": "s57",
            "label": "aBax-mBcl2",
            "name": "s57",
            "shape": "ellipse"
           },
           "position": {
            "x": 1100.9919119886376,
            "y": 1102.785121819458
           }
          },
          {
           "data": {
            "NodeType": "species",
            "background_color": "#2b913a",
            "id": "s58",
            "label": "aBax-mBclxL",
            "name": "s58",
            "shape": "ellipse"
           },
           "position": {
            "x": 1155.4436520591523,
            "y": 934.2155119525042
           }
          },
          {
           "data": {
            "NodeType": "species",
            "background_color": "#2b913a",
            "id": "s59",
            "label": "2aBax",
            "name": "s59",
            "shape": "ellipse"
           },
           "position": {
            "x": 1348.0010992550444,
            "y": 992.9410861084863
           }
          },
          {
           "data": {
            "NodeType": "species",
            "background_color": "#2b913a",
            "id": "s60",
            "label": "4aBak",
            "name": "s60",
            "shape": "ellipse"
           },
           "position": {
            "x": 1545.4120624133122,
            "y": 832.1836268414683
           }
          },
          {
           "data": {
            "NodeType": "species",
            "background_color": "#2b913a",
            "id": "s61",
            "label": "3aBax",
            "name": "s61",
            "shape": "ellipse"
           },
           "position": {
            "x": 1296.4148536190746,
            "y": 1119.3328852126908
           }
          },
          {
           "data": {
            "NodeType": "species",
            "background_color": "#2b913a",
            "id": "s62",
            "label": "4aBak-mCytoC",
            "name": "s62",
            "shape": "ellipse"
           },
           "position": {
            "x": 1645.9569035907882,
            "y": 728.3226493608614
           }
          },
          {
           "data": {
            "NodeType": "species",
            "background_color": "#2b913a",
            "id": "s63",
            "label": "4aBak-mSmac",
            "name": "s63",
            "shape": "ellipse"
           },
           "position": {
            "x": 1584.7141458514386,
            "y": 1028.9227585086778
           }
          },
          {
           "data": {
            "NodeType": "species",
            "background_color": "#2b913a",
            "id": "s64",
            "label": "4aBax",
            "name": "s64",
            "shape": "ellipse"
           },
           "position": {
            "x": 1393.66182176735,
            "y": 1087.3488489342617
           }
          },
          {
           "data": {
            "NodeType": "species",
            "background_color": "#2b913a",
            "id": "s65",
            "label": "cCytoC",
            "name": "s65",
            "shape": "ellipse"
           },
           "position": {
            "x": 1672.3992199039656,
            "y": 900.0156167222747
           }
          },
          {
           "data": {
            "NodeType": "species",
            "background_color": "#2b913a",
            "id": "s66",
            "label": "cSmac",
            "name": "s66",
            "shape": "ellipse"
           },
           "position": {
            "x": 1652.0637146168187,
            "y": 1157.4587230659267
           }
          },
          {
           "data": {
            "NodeType": "species",
            "background_color": "#2b913a",
            "id": "s67",
            "label": "aSmac",
            "name": "s67",
            "shape": "ellipse"
           },
           "position": {
            "x": 1737.1234718308392,
            "y": 1051.9348326622253
           }
          },
          {
           "data": {
            "NodeType": "species",
            "background_color": "#2b913a",
            "id": "s68",
            "label": "aCytoC",
            "name": "s68",
            "shape": "ellipse"
           },
           "position": {
            "x": 1742.41755404901,
            "y": 782.1196390903826
           }
          },
          {
           "data": {
            "NodeType": "species",
            "background_color": "#2b913a",
            "id": "s69",
            "label": "4aBax-mCytoC",
            "name": "s69",
            "shape": "ellipse"
           },
           "position": {
            "x": 1489.474716925135,
            "y": 964.4905393858592
           }
          },
          {
           "data": {
            "NodeType": "species",
            "background_color": "#2b913a",
            "id": "s70",
            "label": "4aBax-mSmac",
            "name": "s70",
            "shape": "ellipse"
           },
           "position": {
            "x": 1488.808214327469,
            "y": 1186.2900300862068
           }
          },
          {
           "data": {
            "NodeType": "species",
            "background_color": "#2b913a",
            "id": "s71",
            "label": "iApaf-aCytoC",
            "name": "s71",
            "shape": "ellipse"
           },
           "position": {
            "x": 1840.0403746134884,
            "y": 656.6344911616916
           }
          },
          {
           "data": {
            "NodeType": "species",
            "background_color": "#2b913a",
            "id": "s72",
            "label": "aSmac-XIAP",
            "name": "s72",
            "shape": "ellipse"
           },
           "position": {
            "x": 1832.8527839498233,
            "y": 927.1180211002367
           }
          },
          {
           "data": {
            "NodeType": "species",
            "background_color": "#2b913a",
            "id": "s73",
            "label": "aApaf",
            "name": "s73",
            "shape": "ellipse"
           },
           "position": {
            "x": 1790.638858488988,
            "y": 546.2970073825635
           }
          },
          {
           "data": {
            "NodeType": "species",
            "background_color": "#2b913a",
            "id": "s74",
            "label": "Apop",
            "name": "s74",
            "shape": "ellipse"
           },
           "position": {
            "x": 1887.5117023307569,
            "y": 515.3771217117492
           }
          },
          {
           "data": {
            "NodeType": "species",
            "background_color": "#2b913a",
            "id": "s75",
            "label": "Apop-proC3",
            "name": "s75",
            "shape": "ellipse"
           },
           "position": {
            "x": 1789.16415224005,
            "y": 433.91778672170335
           }
          },
          {
           "data": {
            "NodeType": "species",
            "background_color": "#2b913a",
            "id": "s76",
            "label": "Apop-XIAP",
            "name": "s76",
            "shape": "ellipse"
           },
           "position": {
            "x": 1935.8516066742109,
            "y": 685.0237723045058
           }
          }
         ]
        }
       },
       "format": "cyjs",
       "layout": "IPY_MODEL_a656cb30e5ba4f74b7499686d2b85206",
       "layout_name": "cose",
       "type_of_viz": "species_view",
       "visual_style": null
      }
     },
     "11864ac160f04e7eb86b438676486771": {
      "model_module": "@jupyter-widgets/base",
      "model_module_version": "1.1.0",
      "model_name": "LayoutModel",
      "state": {}
     },
     "119b27103b3c4e7cbbfbba69a083a999": {
      "model_module": "viz-pysb-widget",
      "model_module_version": "^0.1.0",
      "model_name": "CytoscapeModel",
      "state": {
       "_model_module_version": "^0.1.0",
       "_view_module_version": "^0.1.0",
       "background": "#FFFFFF",
       "data": {
        "data": {
         "graph": {
          "rankdir": "LR"
         },
         "name": "pysbjupyter.pysb_models.lopez_embedded"
        },
        "elements": {
         "edges": [
          {
           "data": {
            "arrowhead": "normal",
            "id": "f46e9735-054a-4c92-ab87-c41fda1b6ca1",
            "source": "s0",
            "source_arrow_fill": "hollow",
            "source_arrow_shape": "triangle",
            "target": "bind_L_R_to_LR",
            "target_arrow_shape": "triangle"
           }
          },
          {
           "data": {
            "arrowhead": "normal",
            "id": "2418b1f9-778f-40a8-8d7a-afda4959dd59",
            "source": "s1",
            "source_arrow_fill": "hollow",
            "source_arrow_shape": "triangle",
            "target": "bind_L_R_to_LR",
            "target_arrow_shape": "triangle"
           }
          },
          {
           "data": {
            "arrowhead": "normal",
            "id": "02700583-9657-43ff-9ea7-15ce57f8c17c",
            "source": "s2",
            "source_arrow_fill": "hollow",
            "source_arrow_shape": "triangle",
            "target": "bind_DISC_flip",
            "target_arrow_shape": "triangle"
           }
          },
          {
           "data": {
            "arrowhead": "normal",
            "id": "12e65c6b-37db-4389-8c6a-2166be42d8b2",
            "source": "s3",
            "source_arrow_fill": "hollow",
            "source_arrow_shape": "triangle",
            "target": "bind_DISC_C8pro_to_DISCC8pro",
            "target_arrow_shape": "triangle"
           }
          },
          {
           "data": {
            "arrowhead": "normal",
            "id": "1f6e0d7c-770f-4bc7-a205-7c651a6ef685",
            "source": "s3",
            "source_arrow_fill": "hollow",
            "source_arrow_shape": "triangle",
            "target": "bind_C6A_C8pro_to_C6AC8pro",
            "target_arrow_shape": "triangle"
           }
          },
          {
           "data": {
            "arrowhead": "normal",
            "id": "bb090326-0a70-417b-b03d-a1476c8c22f7",
            "source": "s4",
            "source_arrow_fill": "hollow",
            "source_arrow_shape": "triangle",
            "target": "bind_BAR_C8A",
            "target_arrow_shape": "triangle"
           }
          },
          {
           "data": {
            "arrowhead": "normal",
            "id": "a9d26b31-01c7-4f40-b6fe-aa9c2528be08",
            "source": "s5",
            "source_arrow_fill": "hollow",
            "source_arrow_shape": "triangle",
            "target": "bind_CytoCA_ApafI_to_CytoCAApafI",
            "target_arrow_shape": "triangle"
           }
          },
          {
           "data": {
            "arrowhead": "normal",
            "id": "68d55311-392c-4e8f-a106-e2d11d6ba1eb",
            "source": "s6",
            "source_arrow_fill": "hollow",
            "source_arrow_shape": "triangle",
            "target": "bind_Apop_C3pro_to_ApopC3pro",
            "target_arrow_shape": "triangle"
           }
          },
          {
           "data": {
            "arrowhead": "normal",
            "id": "1ad5b6a6-bd85-4b1c-861d-8e076c00bb6d",
            "source": "s6",
            "source_arrow_fill": "hollow",
            "source_arrow_shape": "triangle",
            "target": "bind_C8A_C3pro_to_C8AC3pro",
            "target_arrow_shape": "triangle"
           }
          },
          {
           "data": {
            "arrowhead": "normal",
            "id": "ab869cce-bbab-444a-886a-31316c4da4ba",
            "source": "s7",
            "source_arrow_fill": "hollow",
            "source_arrow_shape": "triangle",
            "target": "bind_C3A_C6pro_to_C3AC6pro",
            "target_arrow_shape": "triangle"
           }
          },
          {
           "data": {
            "arrowhead": "normal",
            "id": "8925375b-b4d0-4482-871a-4c1a08693d2a",
            "source": "s8",
            "source_arrow_fill": "hollow",
            "source_arrow_shape": "triangle",
            "target": "convert_ApafA_C9_to_Apop",
            "target_arrow_shape": "triangle"
           }
          },
          {
           "data": {
            "arrowhead": "normal",
            "id": "db04f3ac-c7c7-409d-bdec-a6532150a8d2",
            "source": "s9",
            "source_arrow_fill": "hollow",
            "source_arrow_shape": "triangle",
            "target": "bind_C3A_PARPU_to_C3APARPU",
            "target_arrow_shape": "triangle"
           }
          },
          {
           "data": {
            "arrowhead": "normal",
            "id": "6d650faf-9c73-4425-8756-87ad0f04a75b",
            "source": "s10",
            "source_arrow_fill": "hollow",
            "source_arrow_shape": "triangle",
            "target": "bind_Apop_XIAP",
            "target_arrow_shape": "triangle"
           }
          },
          {
           "data": {
            "arrowhead": "normal",
            "id": "90118079-76b2-4952-b22f-c77d9519bfbc",
            "source": "s10",
            "source_arrow_fill": "hollow",
            "source_arrow_shape": "triangle",
            "target": "bind_SmacA_XIAP",
            "target_arrow_shape": "triangle"
           }
          },
          {
           "data": {
            "arrowhead": "normal",
            "id": "a3ebff26-f6be-4642-acf1-9881ae9d8473",
            "source": "s10",
            "source_arrow_fill": "hollow",
            "source_arrow_shape": "triangle",
            "target": "bind_XIAP_C3A_to_XIAPC3A",
            "target_arrow_shape": "triangle"
           }
          },
          {
           "data": {
            "arrowhead": "normal",
            "id": "bf6ebb8d-4108-4a60-81bc-8c1e0b4ac51f",
            "source": "s11",
            "source_arrow_fill": "hollow",
            "source_arrow_shape": "triangle",
            "target": "bind_C8A_BidU_to_C8ABidU",
            "target_arrow_shape": "triangle"
           }
          },
          {
           "data": {
            "arrowhead": "normal",
            "id": "c06d4c44-d8e7-4d1a-a00e-5c9590c37317",
            "source": "s12",
            "source_arrow_fill": "hollow",
            "source_arrow_shape": "triangle",
            "target": "bind_BidM_BaxC_to_BidMBaxC",
            "target_arrow_shape": "triangle"
           }
          },
          {
           "data": {
            "arrowhead": "normal",
            "id": "7e08ff8e-7272-481a-aa89-c0b039feba95",
            "source": "s13",
            "source_arrow_fill": "hollow",
            "source_arrow_shape": "triangle",
            "target": "bind_BidM_BakM_to_BidMBakM",
            "target_arrow_shape": "triangle"
           }
          },
          {
           "data": {
            "arrowhead": "normal",
            "id": "824357a7-a1a2-4dd2-ae8a-f667f44e5df6",
            "source": "s13",
            "source_arrow_fill": "hollow",
            "source_arrow_shape": "triangle",
            "target": "bind_BakA_BakM_to_BakABakM",
            "target_arrow_shape": "triangle"
           }
          },
          {
           "data": {
            "arrowhead": "normal",
            "id": "a95e39bf-acd9-418b-8202-9b5124a19bbd",
            "source": "s14",
            "source_arrow_fill": "hollow",
            "source_arrow_shape": "triangle",
            "target": "bind_BidM_Bcl2M",
            "target_arrow_shape": "triangle"
           }
          },
          {
           "data": {
            "arrowhead": "normal",
            "id": "0fb8342d-965c-489b-a680-85639d7a575c",
            "source": "s14",
            "source_arrow_fill": "hollow",
            "source_arrow_shape": "triangle",
            "target": "bind_BaxA_Bcl2",
            "target_arrow_shape": "triangle"
           }
          },
          {
           "data": {
            "arrowhead": "normal",
            "id": "4be341a2-a043-475b-bd45-0f42819de433",
            "source": "s14",
            "source_arrow_fill": "hollow",
            "source_arrow_shape": "triangle",
            "target": "bind_BadM_Bcl2",
            "target_arrow_shape": "triangle"
           }
          },
          {
           "data": {
            "arrowhead": "normal",
            "id": "5ce0c93b-bcaa-4463-a0c7-a43a293bb1fd",
            "source": "s15",
            "source_arrow_fill": "hollow",
            "source_arrow_shape": "triangle",
            "target": "bind_BidM_BclxLM",
            "target_arrow_shape": "triangle"
           }
          },
          {
           "data": {
            "arrowhead": "normal",
            "id": "5b34d3de-94ee-442b-9790-fe4849694ec6",
            "source": "s15",
            "source_arrow_fill": "hollow",
            "source_arrow_shape": "triangle",
            "target": "bind_BaxA_BclxLM",
            "target_arrow_shape": "triangle"
           }
          },
          {
           "data": {
            "arrowhead": "normal",
            "id": "29f355cf-3547-401b-8b04-ea9d0bdd76fb",
            "source": "s15",
            "source_arrow_fill": "hollow",
            "source_arrow_shape": "triangle",
            "target": "bind_BakA_BclxLM",
            "target_arrow_shape": "triangle"
           }
          },
          {
           "data": {
            "arrowhead": "normal",
            "id": "c409677f-0d30-4ee9-80e7-82d4d8a501d1",
            "source": "s15",
            "source_arrow_fill": "hollow",
            "source_arrow_shape": "triangle",
            "target": "bind_BadM_BclxLM",
            "target_arrow_shape": "triangle"
           }
          },
          {
           "data": {
            "arrowhead": "normal",
            "id": "8a7bf7ea-bdb0-45e1-a70d-cff31538ebb5",
            "source": "s16",
            "source_arrow_fill": "hollow",
            "source_arrow_shape": "triangle",
            "target": "bind_BidM_Mcl1M",
            "target_arrow_shape": "triangle"
           }
          },
          {
           "data": {
            "arrowhead": "normal",
            "id": "8336dd3e-8eda-4612-9c2a-df874b88d5e8",
            "source": "s16",
            "source_arrow_fill": "hollow",
            "source_arrow_shape": "triangle",
            "target": "bind_BakA_Mcl1M",
            "target_arrow_shape": "triangle"
           }
          },
          {
           "data": {
            "arrowhead": "normal",
            "id": "3bc51ce5-ca15-462c-986c-88f540b12aad",
            "source": "s16",
            "source_arrow_fill": "hollow",
            "source_arrow_shape": "triangle",
            "target": "bind_NoxaM_Mcl1M",
            "target_arrow_shape": "triangle"
           }
          },
          {
           "data": {
            "arrowhead": "normal",
            "id": "9d75388b-03ff-49c3-b8d5-f9caa759c9b8",
            "source": "s17",
            "source_arrow_fill": "hollow",
            "source_arrow_shape": "triangle",
            "target": "bind_BadM_Bcl2",
            "target_arrow_shape": "triangle"
           }
          },
          {
           "data": {
            "arrowhead": "normal",
            "id": "e6f91c2a-b248-401e-bece-1e0dec5ec5e5",
            "source": "s17",
            "source_arrow_fill": "hollow",
            "source_arrow_shape": "triangle",
            "target": "bind_BadM_BclxLM",
            "target_arrow_shape": "triangle"
           }
          },
          {
           "data": {
            "arrowhead": "normal",
            "id": "e9b61901-1929-4a87-9ee7-46b52f52c5bc",
            "source": "s18",
            "source_arrow_fill": "hollow",
            "source_arrow_shape": "triangle",
            "target": "bind_NoxaM_Mcl1M",
            "target_arrow_shape": "triangle"
           }
          },
          {
           "data": {
            "arrowhead": "normal",
            "id": "d09e463c-c485-400f-8410-60339391e8e8",
            "source": "s19",
            "source_arrow_fill": "hollow",
            "source_arrow_shape": "triangle",
            "target": "pore_transport_complex_BaxA_4_CytoCM",
            "target_arrow_shape": "triangle"
           }
          },
          {
           "data": {
            "arrowhead": "normal",
            "id": "8b882449-cca7-416a-9374-4e1b7ed75ca7",
            "source": "s19",
            "source_arrow_fill": "hollow",
            "source_arrow_shape": "triangle",
            "target": "pore_transport_complex_BakA_4_CytoCM",
            "target_arrow_shape": "triangle"
           }
          },
          {
           "data": {
            "arrowhead": "normal",
            "id": "3430cab3-a7d9-4423-88b7-d01bad030460",
            "source": "s20",
            "source_arrow_fill": "hollow",
            "source_arrow_shape": "triangle",
            "target": "pore_transport_complex_BaxA_4_SmacM",
            "target_arrow_shape": "triangle"
           }
          },
          {
           "data": {
            "arrowhead": "normal",
            "id": "802176ae-d043-47ff-a943-eb7eb6e10c02",
            "source": "s20",
            "source_arrow_fill": "hollow",
            "source_arrow_shape": "triangle",
            "target": "pore_transport_complex_BakA_4_SmacM",
            "target_arrow_shape": "triangle"
           }
          },
          {
           "data": {
            "arrowhead": "normal",
            "id": "62d8ea84-f51e-46a7-9046-33519f023271",
            "source": "s21",
            "source_arrow_fill": "hollow",
            "source_arrow_shape": "triangle",
            "target": "bind_L_R_to_LR",
            "target_arrow_shape": "triangle"
           }
          },
          {
           "data": {
            "arrowhead": "normal",
            "id": "bde5f951-ee59-4da7-b2c9-405b20e3fb1f",
            "source": "s21",
            "source_arrow_fill": "filled",
            "source_arrow_shape": "none",
            "target": "convert_LR_to_DISC",
            "target_arrow_shape": "triangle"
           }
          },
          {
           "data": {
            "arrowhead": "normal",
            "id": "0d826f63-7a54-4842-8f1f-fb39945456df",
            "source": "s22",
            "source_arrow_fill": "hollow",
            "source_arrow_shape": "triangle",
            "target": "bind_BadM_Bcl2",
            "target_arrow_shape": "triangle"
           }
          },
          {
           "data": {
            "arrowhead": "normal",
            "id": "797239d2-f943-4dad-9321-1e9820d47dad",
            "source": "s23",
            "source_arrow_fill": "hollow",
            "source_arrow_shape": "triangle",
            "target": "bind_BadM_BclxLM",
            "target_arrow_shape": "triangle"
           }
          },
          {
           "data": {
            "arrowhead": "normal",
            "id": "491db45a-f9a9-4420-bbfd-8f978e757bb5",
            "source": "s24",
            "source_arrow_fill": "hollow",
            "source_arrow_shape": "triangle",
            "target": "bind_NoxaM_Mcl1M",
            "target_arrow_shape": "triangle"
           }
          },
          {
           "data": {
            "arrowhead": "normal",
            "id": "faf12000-1b97-41bc-b2d4-4b68fd17b381",
            "source": "s25",
            "source_arrow_fill": "hollow",
            "source_arrow_shape": "triangle",
            "target": "bind_DISC_C8pro_to_DISCC8pro",
            "target_arrow_shape": "triangle"
           }
          },
          {
           "data": {
            "arrowhead": "normal",
            "id": "751802a8-bed0-4d60-b386-0bacb19c357a",
            "source": "s25",
            "source_arrow_fill": "hollow",
            "source_arrow_shape": "triangle",
            "target": "bind_DISC_flip",
            "target_arrow_shape": "triangle"
           }
          },
          {
           "data": {
            "arrowhead": "normal",
            "id": "1f00db5b-a414-413e-a6af-87bef006358d",
            "source": "s26",
            "source_arrow_fill": "hollow",
            "source_arrow_shape": "triangle",
            "target": "bind_DISC_C8pro_to_DISCC8pro",
            "target_arrow_shape": "triangle"
           }
          },
          {
           "data": {
            "arrowhead": "normal",
            "id": "2903b58c-95a7-41dc-96e7-f871e90b5d56",
            "source": "s26",
            "source_arrow_fill": "filled",
            "source_arrow_shape": "none",
            "target": "catalyze_DISCC8pro_to_DISC_C8A",
            "target_arrow_shape": "triangle"
           }
          },
          {
           "data": {
            "arrowhead": "normal",
            "id": "43108a52-68db-43a2-a532-351397895e74",
            "source": "s27",
            "source_arrow_fill": "hollow",
            "source_arrow_shape": "triangle",
            "target": "bind_DISC_flip",
            "target_arrow_shape": "triangle"
           }
          },
          {
           "data": {
            "arrowhead": "normal",
            "id": "8c6d560f-2ec4-43c0-9fcc-b051c6f1f619",
            "source": "s28",
            "source_arrow_fill": "hollow",
            "source_arrow_shape": "triangle",
            "target": "bind_C8A_BidU_to_C8ABidU",
            "target_arrow_shape": "triangle"
           }
          },
          {
           "data": {
            "arrowhead": "normal",
            "id": "4b8b2e17-5b73-4bd7-a374-d00ac4263579",
            "source": "s28",
            "source_arrow_fill": "hollow",
            "source_arrow_shape": "triangle",
            "target": "bind_BAR_C8A",
            "target_arrow_shape": "triangle"
           }
          },
          {
           "data": {
            "arrowhead": "normal",
            "id": "ab1b2f4c-1b18-4492-8d04-159bb8c21c20",
            "source": "s28",
            "source_arrow_fill": "hollow",
            "source_arrow_shape": "triangle",
            "target": "bind_C8A_C3pro_to_C8AC3pro",
            "target_arrow_shape": "triangle"
           }
          },
          {
           "data": {
            "arrowhead": "normal",
            "id": "62f25a34-a0f2-45f7-bf59-432a959020c0",
            "source": "s29",
            "source_arrow_fill": "hollow",
            "source_arrow_shape": "triangle",
            "target": "bind_C8A_BidU_to_C8ABidU",
            "target_arrow_shape": "triangle"
           }
          },
          {
           "data": {
            "arrowhead": "normal",
            "id": "29491bc1-cc5c-47e3-9ab9-f5e4b706c1dc",
            "source": "s29",
            "source_arrow_fill": "filled",
            "source_arrow_shape": "none",
            "target": "catalyze_C8ABidU_to_C8A_BidT",
            "target_arrow_shape": "triangle"
           }
          },
          {
           "data": {
            "arrowhead": "normal",
            "id": "14a3b292-5ea5-44e7-b93f-dd64f5ab4518",
            "source": "s30",
            "source_arrow_fill": "hollow",
            "source_arrow_shape": "triangle",
            "target": "bind_BAR_C8A",
            "target_arrow_shape": "triangle"
           }
          },
          {
           "data": {
            "arrowhead": "normal",
            "id": "9c2a0d9e-679b-4518-ade0-524067a166dc",
            "source": "s31",
            "source_arrow_fill": "hollow",
            "source_arrow_shape": "triangle",
            "target": "bind_C8A_C3pro_to_C8AC3pro",
            "target_arrow_shape": "triangle"
           }
          },
          {
           "data": {
            "arrowhead": "normal",
            "id": "eb56f8ef-ff72-4a4f-a596-d7a160e07914",
            "source": "s31",
            "source_arrow_fill": "filled",
            "source_arrow_shape": "none",
            "target": "catalyze_C8AC3pro_to_C8A_C3A",
            "target_arrow_shape": "triangle"
           }
          },
          {
           "data": {
            "arrowhead": "normal",
            "id": "b2189af4-c3e1-4746-bd38-4c45b312c892",
            "source": "s32",
            "source_arrow_fill": "hollow",
            "source_arrow_shape": "triangle",
            "target": "equilibrate_BidT_to_BidM",
            "target_arrow_shape": "triangle"
           }
          },
          {
           "data": {
            "arrowhead": "normal",
            "id": "9e5910cb-c40f-498d-b74b-a3922c74db05",
            "source": "s33",
            "source_arrow_fill": "hollow",
            "source_arrow_shape": "triangle",
            "target": "bind_XIAP_C3A_to_XIAPC3A",
            "target_arrow_shape": "triangle"
           }
          },
          {
           "data": {
            "arrowhead": "normal",
            "id": "58c3eca5-4b92-417c-b942-50a7544650b1",
            "source": "s33",
            "source_arrow_fill": "hollow",
            "source_arrow_shape": "triangle",
            "target": "bind_C3A_PARPU_to_C3APARPU",
            "target_arrow_shape": "triangle"
           }
          },
          {
           "data": {
            "arrowhead": "normal",
            "id": "a203a988-4b9e-4aaa-bb2e-e510d8fea474",
            "source": "s33",
            "source_arrow_fill": "hollow",
            "source_arrow_shape": "triangle",
            "target": "bind_C3A_C6pro_to_C3AC6pro",
            "target_arrow_shape": "triangle"
           }
          },
          {
           "data": {
            "arrowhead": "normal",
            "id": "605bd90a-7b7f-41d4-9888-2027be79e0c7",
            "source": "s34",
            "source_arrow_fill": "hollow",
            "source_arrow_shape": "triangle",
            "target": "bind_XIAP_C3A_to_XIAPC3A",
            "target_arrow_shape": "triangle"
           }
          },
          {
           "data": {
            "arrowhead": "normal",
            "id": "7d15aaa5-b128-4bcb-b281-a4e4f806076d",
            "source": "s34",
            "source_arrow_fill": "filled",
            "source_arrow_shape": "none",
            "target": "catalyze_XIAPC3A_to_XIAP_C3ub",
            "target_arrow_shape": "triangle"
           }
          },
          {
           "data": {
            "arrowhead": "normal",
            "id": "446daeba-8b69-4134-bee7-1c1346685317",
            "source": "s35",
            "source_arrow_fill": "hollow",
            "source_arrow_shape": "triangle",
            "target": "bind_C3A_PARPU_to_C3APARPU",
            "target_arrow_shape": "triangle"
           }
          },
          {
           "data": {
            "arrowhead": "normal",
            "id": "a5571029-81b9-48f0-89a4-6992bac0756c",
            "source": "s35",
            "source_arrow_fill": "filled",
            "source_arrow_shape": "none",
            "target": "catalyze_C3APARPU_to_C3A_PARPC",
            "target_arrow_shape": "triangle"
           }
          },
          {
           "data": {
            "arrowhead": "normal",
            "id": "0d36f88e-5300-47d3-9046-a8c72a4dc707",
            "source": "s36",
            "source_arrow_fill": "hollow",
            "source_arrow_shape": "triangle",
            "target": "bind_C3A_C6pro_to_C3AC6pro",
            "target_arrow_shape": "triangle"
           }
          },
          {
           "data": {
            "arrowhead": "normal",
            "id": "7124736c-bb7b-4c49-9498-97fde93783c3",
            "source": "s36",
            "source_arrow_fill": "filled",
            "source_arrow_shape": "none",
            "target": "catalyze_C3AC6pro_to_C3A_C6A",
            "target_arrow_shape": "triangle"
           }
          },
          {
           "data": {
            "arrowhead": "normal",
            "id": "d23de692-8c8d-4a66-9bf4-1127ea46deb1",
            "source": "s37",
            "source_arrow_fill": "hollow",
            "source_arrow_shape": "triangle",
            "target": "equilibrate_BidT_to_BidM",
            "target_arrow_shape": "triangle"
           }
          },
          {
           "data": {
            "arrowhead": "normal",
            "id": "60106fab-e7d2-4277-8138-262c06c379a0",
            "source": "s37",
            "source_arrow_fill": "hollow",
            "source_arrow_shape": "triangle",
            "target": "bind_BidM_BaxC_to_BidMBaxC",
            "target_arrow_shape": "triangle"
           }
          },
          {
           "data": {
            "arrowhead": "normal",
            "id": "a24b2dc3-5d0c-4bc7-afb7-ab7b223c1795",
            "source": "s37",
            "source_arrow_fill": "hollow",
            "source_arrow_shape": "triangle",
            "target": "bind_BidM_BaxM_to_BidMBaxM",
            "target_arrow_shape": "triangle"
           }
          },
          {
           "data": {
            "arrowhead": "normal",
            "id": "5376e209-10a1-41d4-9504-955a706283af",
            "source": "s37",
            "source_arrow_fill": "hollow",
            "source_arrow_shape": "triangle",
            "target": "bind_BidM_BakM_to_BidMBakM",
            "target_arrow_shape": "triangle"
           }
          },
          {
           "data": {
            "arrowhead": "normal",
            "id": "d95a6c77-6bc3-4f73-9375-38a53f0ec6a8",
            "source": "s37",
            "source_arrow_fill": "hollow",
            "source_arrow_shape": "triangle",
            "target": "bind_BidM_Bcl2M",
            "target_arrow_shape": "triangle"
           }
          },
          {
           "data": {
            "arrowhead": "normal",
            "id": "966e888d-480a-4493-a86a-de2bd4924a40",
            "source": "s37",
            "source_arrow_fill": "hollow",
            "source_arrow_shape": "triangle",
            "target": "bind_BidM_BclxLM",
            "target_arrow_shape": "triangle"
           }
          },
          {
           "data": {
            "arrowhead": "normal",
            "id": "3e63aebd-4661-4e5e-bdff-5d3bb04db513",
            "source": "s37",
            "source_arrow_fill": "hollow",
            "source_arrow_shape": "triangle",
            "target": "bind_BidM_Mcl1M",
            "target_arrow_shape": "triangle"
           }
          },
          {
           "data": {
            "arrowhead": "normal",
            "id": "a3e2529f-d22b-44c7-94a1-fa0315ce618f",
            "source": "s40",
            "source_arrow_fill": "hollow",
            "source_arrow_shape": "triangle",
            "target": "bind_C6A_C8pro_to_C6AC8pro",
            "target_arrow_shape": "triangle"
           }
          },
          {
           "data": {
            "arrowhead": "normal",
            "id": "db2ed396-0d65-4b6e-b050-7a2fa8066b52",
            "source": "s41",
            "source_arrow_fill": "hollow",
            "source_arrow_shape": "triangle",
            "target": "bind_BidM_BaxC_to_BidMBaxC",
            "target_arrow_shape": "triangle"
           }
          },
          {
           "data": {
            "arrowhead": "normal",
            "id": "b3d7f847-60eb-4104-bbbb-f94f81347a7b",
            "source": "s41",
            "source_arrow_fill": "filled",
            "source_arrow_shape": "none",
            "target": "catalyze_BidMBaxC_to_BidM_BaxM",
            "target_arrow_shape": "triangle"
           }
          },
          {
           "data": {
            "arrowhead": "normal",
            "id": "53340c97-8903-4a3c-bd29-dfe2fbd2b83c",
            "source": "s42",
            "source_arrow_fill": "hollow",
            "source_arrow_shape": "triangle",
            "target": "bind_BidM_BakM_to_BidMBakM",
            "target_arrow_shape": "triangle"
           }
          },
          {
           "data": {
            "arrowhead": "normal",
            "id": "32581263-c90d-4bb7-904c-d1e645ca1629",
            "source": "s42",
            "source_arrow_fill": "filled",
            "source_arrow_shape": "none",
            "target": "catalyze_BidMBakM_to_BidM_BakA",
            "target_arrow_shape": "triangle"
           }
          },
          {
           "data": {
            "arrowhead": "normal",
            "id": "233266f4-313c-4445-9845-456642f6beff",
            "source": "s43",
            "source_arrow_fill": "hollow",
            "source_arrow_shape": "triangle",
            "target": "bind_BidM_Bcl2M",
            "target_arrow_shape": "triangle"
           }
          },
          {
           "data": {
            "arrowhead": "normal",
            "id": "b3e745be-df2c-44ca-8e9e-2a83b56dc428",
            "source": "s44",
            "source_arrow_fill": "hollow",
            "source_arrow_shape": "triangle",
            "target": "bind_BidM_BclxLM",
            "target_arrow_shape": "triangle"
           }
          },
          {
           "data": {
            "arrowhead": "normal",
            "id": "d0816286-da6d-485f-9c2a-983899e47291",
            "source": "s45",
            "source_arrow_fill": "hollow",
            "source_arrow_shape": "triangle",
            "target": "bind_BidM_Mcl1M",
            "target_arrow_shape": "triangle"
           }
          },
          {
           "data": {
            "arrowhead": "normal",
            "id": "751800fd-c8ff-464e-8d77-5051f6f3c77f",
            "source": "s46",
            "source_arrow_fill": "hollow",
            "source_arrow_shape": "triangle",
            "target": "bind_C6A_C8pro_to_C6AC8pro",
            "target_arrow_shape": "triangle"
           }
          },
          {
           "data": {
            "arrowhead": "normal",
            "id": "90c34de0-f180-477e-9969-0d219032e481",
            "source": "s46",
            "source_arrow_fill": "filled",
            "source_arrow_shape": "none",
            "target": "catalyze_C6AC8pro_to_C6A_C8A",
            "target_arrow_shape": "triangle"
           }
          },
          {
           "data": {
            "arrowhead": "normal",
            "id": "24010d85-f67b-4096-8f0e-d5cb9564824c",
            "source": "s47",
            "source_arrow_fill": "hollow",
            "source_arrow_shape": "triangle",
            "target": "bind_BidM_BaxM_to_BidMBaxM",
            "target_arrow_shape": "triangle"
           }
          },
          {
           "data": {
            "arrowhead": "normal",
            "id": "9a3600d3-c385-4536-af1b-119d29c2e9de",
            "source": "s47",
            "source_arrow_fill": "hollow",
            "source_arrow_shape": "triangle",
            "target": "bind_BaxA_BaxM_to_BaxABaxM",
            "target_arrow_shape": "triangle"
           }
          },
          {
           "data": {
            "arrowhead": "normal",
            "id": "7eb99017-1039-405c-a848-a0113f66e071",
            "source": "s48",
            "source_arrow_fill": "hollow",
            "source_arrow_shape": "triangle",
            "target": "bind_BakA_BakM_to_BakABakM",
            "target_arrow_shape": "triangle"
           }
          },
          {
           "data": {
            "arrowhead": "normal",
            "id": "72c94141-004e-4853-b3fa-a765712fb7a8",
            "source": "s48",
            "source_arrow_fill": "hollow",
            "source_arrow_shape": "triangle",
            "target": "bind_BakA_BclxLM",
            "target_arrow_shape": "triangle"
           }
          },
          {
           "data": {
            "arrowhead": "normal",
            "id": "a6c69742-fda2-49c8-97ab-36febf62168a",
            "source": "s48",
            "source_arrow_fill": "hollow",
            "source_arrow_shape": "triangle",
            "target": "bind_BakA_Mcl1M",
            "target_arrow_shape": "triangle"
           }
          },
          {
           "data": {
            "arrowhead": "normal",
            "id": "4133e46f-8a78-4310-812f-b6444c661d0b",
            "source": "s48",
            "source_arrow_fill": "hollow",
            "source_arrow_shape": "triangle",
            "target": "assemble_pore_sequential_Bak_2",
            "target_arrow_shape": "triangle"
           }
          },
          {
           "data": {
            "arrowhead": "normal",
            "id": "c0daf6c4-110c-469b-a4b2-66bc7c349446",
            "source": "s48",
            "source_arrow_fill": "hollow",
            "source_arrow_shape": "triangle",
            "target": "assemble_pore_sequential_Bak_3",
            "target_arrow_shape": "triangle"
           }
          },
          {
           "data": {
            "arrowhead": "normal",
            "id": "04fa16ed-cabe-4483-8bb4-4f754c68e604",
            "source": "s48",
            "source_arrow_fill": "hollow",
            "source_arrow_shape": "triangle",
            "target": "assemble_pore_sequential_Bak_4",
            "target_arrow_shape": "triangle"
           }
          },
          {
           "data": {
            "arrowhead": "normal",
            "id": "9ec645a5-df34-4670-9ec2-ae8ff52716d9",
            "source": "s49",
            "source_arrow_fill": "hollow",
            "source_arrow_shape": "triangle",
            "target": "bind_BidM_BaxM_to_BidMBaxM",
            "target_arrow_shape": "triangle"
           }
          },
          {
           "data": {
            "arrowhead": "normal",
            "id": "02938694-b359-416c-936a-d685cdc726af",
            "source": "s49",
            "source_arrow_fill": "filled",
            "source_arrow_shape": "none",
            "target": "catalyze_BidMBaxM_to_BidM_BaxA",
            "target_arrow_shape": "triangle"
           }
          },
          {
           "data": {
            "arrowhead": "normal",
            "id": "bee390fa-0623-482a-9bed-0b16125ea2ec",
            "source": "s50",
            "source_arrow_fill": "hollow",
            "source_arrow_shape": "triangle",
            "target": "bind_BakA_BakM_to_BakABakM",
            "target_arrow_shape": "triangle"
           }
          },
          {
           "data": {
            "arrowhead": "normal",
            "id": "dedbfc07-9d38-4f50-813d-9c37c2c8aa4b",
            "source": "s50",
            "source_arrow_fill": "filled",
            "source_arrow_shape": "none",
            "target": "catalyze_BakABakM_to_BakA_BakA",
            "target_arrow_shape": "triangle"
           }
          },
          {
           "data": {
            "arrowhead": "normal",
            "id": "97306378-562f-4ec2-80cc-83b89015dee6",
            "source": "s51",
            "source_arrow_fill": "hollow",
            "source_arrow_shape": "triangle",
            "target": "bind_BakA_BclxLM",
            "target_arrow_shape": "triangle"
           }
          },
          {
           "data": {
            "arrowhead": "normal",
            "id": "7122c63d-a2e6-4e16-ad9e-616c4ac71cdc",
            "source": "s52",
            "source_arrow_fill": "hollow",
            "source_arrow_shape": "triangle",
            "target": "bind_BakA_Mcl1M",
            "target_arrow_shape": "triangle"
           }
          },
          {
           "data": {
            "arrowhead": "normal",
            "id": "dd5f3938-3356-4391-bf00-af0695682cd1",
            "source": "s53",
            "source_arrow_fill": "hollow",
            "source_arrow_shape": "triangle",
            "target": "assemble_pore_sequential_Bak_2",
            "target_arrow_shape": "triangle"
           }
          },
          {
           "data": {
            "arrowhead": "normal",
            "id": "fff0b439-5328-4361-ad12-606f0afd2532",
            "source": "s53",
            "source_arrow_fill": "hollow",
            "source_arrow_shape": "triangle",
            "target": "assemble_pore_sequential_Bak_3",
            "target_arrow_shape": "triangle"
           }
          },
          {
           "data": {
            "arrowhead": "normal",
            "id": "1249984c-efdb-419f-bcaf-65d458c1d7a3",
            "source": "s54",
            "source_arrow_fill": "hollow",
            "source_arrow_shape": "triangle",
            "target": "bind_BaxA_BaxM_to_BaxABaxM",
            "target_arrow_shape": "triangle"
           }
          },
          {
           "data": {
            "arrowhead": "normal",
            "id": "da30cec2-e292-43e9-b704-7d569a658968",
            "source": "s54",
            "source_arrow_fill": "hollow",
            "source_arrow_shape": "triangle",
            "target": "bind_BaxA_Bcl2",
            "target_arrow_shape": "triangle"
           }
          },
          {
           "data": {
            "arrowhead": "normal",
            "id": "9c8fb7a9-599e-4596-a93f-c7aa8ae8db0a",
            "source": "s54",
            "source_arrow_fill": "hollow",
            "source_arrow_shape": "triangle",
            "target": "bind_BaxA_BclxLM",
            "target_arrow_shape": "triangle"
           }
          },
          {
           "data": {
            "arrowhead": "normal",
            "id": "809c0ed5-9148-4ee3-ae93-b719bda96537",
            "source": "s54",
            "source_arrow_fill": "hollow",
            "source_arrow_shape": "triangle",
            "target": "assemble_pore_sequential_Bax_2",
            "target_arrow_shape": "triangle"
           }
          },
          {
           "data": {
            "arrowhead": "normal",
            "id": "c64ce5f3-acf5-46b0-b931-840fc2d71503",
            "source": "s54",
            "source_arrow_fill": "hollow",
            "source_arrow_shape": "triangle",
            "target": "assemble_pore_sequential_Bax_3",
            "target_arrow_shape": "triangle"
           }
          },
          {
           "data": {
            "arrowhead": "normal",
            "id": "30974205-9f6f-4fb2-8c2a-7eb5ba5f1c29",
            "source": "s54",
            "source_arrow_fill": "hollow",
            "source_arrow_shape": "triangle",
            "target": "assemble_pore_sequential_Bax_4",
            "target_arrow_shape": "triangle"
           }
          },
          {
           "data": {
            "arrowhead": "normal",
            "id": "1010f0c2-c752-4fc0-a574-f0833071ea76",
            "source": "s55",
            "source_arrow_fill": "hollow",
            "source_arrow_shape": "triangle",
            "target": "assemble_pore_sequential_Bak_3",
            "target_arrow_shape": "triangle"
           }
          },
          {
           "data": {
            "arrowhead": "normal",
            "id": "091042aa-91a1-4d1a-b3a2-16152bde1452",
            "source": "s55",
            "source_arrow_fill": "hollow",
            "source_arrow_shape": "triangle",
            "target": "assemble_pore_sequential_Bak_4",
            "target_arrow_shape": "triangle"
           }
          },
          {
           "data": {
            "arrowhead": "normal",
            "id": "a653184e-e4c0-46c4-854b-f93c156d59f3",
            "source": "s56",
            "source_arrow_fill": "hollow",
            "source_arrow_shape": "triangle",
            "target": "bind_BaxA_BaxM_to_BaxABaxM",
            "target_arrow_shape": "triangle"
           }
          },
          {
           "data": {
            "arrowhead": "normal",
            "id": "c4560872-31e1-402d-9787-263783ba4924",
            "source": "s56",
            "source_arrow_fill": "filled",
            "source_arrow_shape": "none",
            "target": "catalyze_BaxABaxM_to_BaxA_BaxA",
            "target_arrow_shape": "triangle"
           }
          },
          {
           "data": {
            "arrowhead": "normal",
            "id": "229aae55-30af-4822-858b-db680d54257a",
            "source": "s57",
            "source_arrow_fill": "hollow",
            "source_arrow_shape": "triangle",
            "target": "bind_BaxA_Bcl2",
            "target_arrow_shape": "triangle"
           }
          },
          {
           "data": {
            "arrowhead": "normal",
            "id": "330d1edb-20de-4eaa-b126-d46c09b362c2",
            "source": "s58",
            "source_arrow_fill": "hollow",
            "source_arrow_shape": "triangle",
            "target": "bind_BaxA_BclxLM",
            "target_arrow_shape": "triangle"
           }
          },
          {
           "data": {
            "arrowhead": "normal",
            "id": "a66fd606-bc85-4081-a50c-0e3e42c3d2e6",
            "source": "s59",
            "source_arrow_fill": "hollow",
            "source_arrow_shape": "triangle",
            "target": "assemble_pore_sequential_Bax_2",
            "target_arrow_shape": "triangle"
           }
          },
          {
           "data": {
            "arrowhead": "normal",
            "id": "834e4668-800f-41fb-973f-26f2a6470d40",
            "source": "s59",
            "source_arrow_fill": "hollow",
            "source_arrow_shape": "triangle",
            "target": "assemble_pore_sequential_Bax_3",
            "target_arrow_shape": "triangle"
           }
          },
          {
           "data": {
            "arrowhead": "normal",
            "id": "477be679-45ee-4542-b918-958efb0a1f74",
            "source": "s60",
            "source_arrow_fill": "hollow",
            "source_arrow_shape": "triangle",
            "target": "assemble_pore_sequential_Bak_4",
            "target_arrow_shape": "triangle"
           }
          },
          {
           "data": {
            "arrowhead": "normal",
            "id": "9efd7522-55ef-4160-9421-80b1421c0180",
            "source": "s60",
            "source_arrow_fill": "hollow",
            "source_arrow_shape": "triangle",
            "target": "pore_transport_complex_BakA_4_CytoCM",
            "target_arrow_shape": "triangle"
           }
          },
          {
           "data": {
            "arrowhead": "normal",
            "id": "157fe9cf-ccbb-4fe6-b465-3ca5310f7462",
            "source": "s60",
            "source_arrow_fill": "hollow",
            "source_arrow_shape": "triangle",
            "target": "pore_transport_complex_BakA_4_SmacM",
            "target_arrow_shape": "triangle"
           }
          },
          {
           "data": {
            "arrowhead": "normal",
            "id": "d3f00e75-9747-4b29-9ace-d6814ba4b017",
            "source": "s61",
            "source_arrow_fill": "hollow",
            "source_arrow_shape": "triangle",
            "target": "assemble_pore_sequential_Bax_3",
            "target_arrow_shape": "triangle"
           }
          },
          {
           "data": {
            "arrowhead": "normal",
            "id": "095b5323-f948-446b-9c8a-6b8713ccadbb",
            "source": "s61",
            "source_arrow_fill": "hollow",
            "source_arrow_shape": "triangle",
            "target": "assemble_pore_sequential_Bax_4",
            "target_arrow_shape": "triangle"
           }
          },
          {
           "data": {
            "arrowhead": "normal",
            "id": "0c9c22c1-8055-4fd3-acdc-6c826ec7217d",
            "source": "s62",
            "source_arrow_fill": "hollow",
            "source_arrow_shape": "triangle",
            "target": "pore_transport_complex_BakA_4_CytoCM",
            "target_arrow_shape": "triangle"
           }
          },
          {
           "data": {
            "arrowhead": "normal",
            "id": "41ed6bc0-5fed-4e41-bceb-12a675600afb",
            "source": "s62",
            "source_arrow_fill": "filled",
            "source_arrow_shape": "none",
            "target": "pore_transport_dissociate_BakA_4_CytoCC",
            "target_arrow_shape": "triangle"
           }
          },
          {
           "data": {
            "arrowhead": "normal",
            "id": "1ff97bd5-2295-4932-b493-9a421b5fd308",
            "source": "s63",
            "source_arrow_fill": "hollow",
            "source_arrow_shape": "triangle",
            "target": "pore_transport_complex_BakA_4_SmacM",
            "target_arrow_shape": "triangle"
           }
          },
          {
           "data": {
            "arrowhead": "normal",
            "id": "d74af196-6dc3-4bd0-bcc1-1f7704febc04",
            "source": "s63",
            "source_arrow_fill": "filled",
            "source_arrow_shape": "none",
            "target": "pore_transport_dissociate_BakA_4_SmacC",
            "target_arrow_shape": "triangle"
           }
          },
          {
           "data": {
            "arrowhead": "normal",
            "id": "4f6f2ac9-3867-4e3c-9bc9-a9310b447233",
            "source": "s64",
            "source_arrow_fill": "hollow",
            "source_arrow_shape": "triangle",
            "target": "assemble_pore_sequential_Bax_4",
            "target_arrow_shape": "triangle"
           }
          },
          {
           "data": {
            "arrowhead": "normal",
            "id": "8de3008c-b24d-4d5a-8560-247681bfb07d",
            "source": "s64",
            "source_arrow_fill": "hollow",
            "source_arrow_shape": "triangle",
            "target": "pore_transport_complex_BaxA_4_CytoCM",
            "target_arrow_shape": "triangle"
           }
          },
          {
           "data": {
            "arrowhead": "normal",
            "id": "3ae07e08-64b6-47b9-a8fe-8e0cac289a07",
            "source": "s64",
            "source_arrow_fill": "hollow",
            "source_arrow_shape": "triangle",
            "target": "pore_transport_complex_BaxA_4_SmacM",
            "target_arrow_shape": "triangle"
           }
          },
          {
           "data": {
            "arrowhead": "normal",
            "id": "c5ff5eb4-e617-453d-8f38-9b40c4d0f91b",
            "source": "s65",
            "source_arrow_fill": "hollow",
            "source_arrow_shape": "triangle",
            "target": "equilibrate_CytoCC_to_CytoCA",
            "target_arrow_shape": "triangle"
           }
          },
          {
           "data": {
            "arrowhead": "normal",
            "id": "b4db041c-5c4c-434c-9b9e-c9c52008282d",
            "source": "s66",
            "source_arrow_fill": "hollow",
            "source_arrow_shape": "triangle",
            "target": "equilibrate_SmacC_to_SmacA",
            "target_arrow_shape": "triangle"
           }
          },
          {
           "data": {
            "arrowhead": "normal",
            "id": "e3934398-2852-4578-b931-bb51796b80f1",
            "source": "s67",
            "source_arrow_fill": "hollow",
            "source_arrow_shape": "triangle",
            "target": "equilibrate_SmacC_to_SmacA",
            "target_arrow_shape": "triangle"
           }
          },
          {
           "data": {
            "arrowhead": "normal",
            "id": "b22b7426-678d-41a8-ae5b-8571c51566a4",
            "source": "s67",
            "source_arrow_fill": "hollow",
            "source_arrow_shape": "triangle",
            "target": "bind_SmacA_XIAP",
            "target_arrow_shape": "triangle"
           }
          },
          {
           "data": {
            "arrowhead": "normal",
            "id": "1c90e929-f122-4d09-9341-6cde56086b70",
            "source": "s68",
            "source_arrow_fill": "hollow",
            "source_arrow_shape": "triangle",
            "target": "equilibrate_CytoCC_to_CytoCA",
            "target_arrow_shape": "triangle"
           }
          },
          {
           "data": {
            "arrowhead": "normal",
            "id": "82c141bc-ff59-4831-ac0c-87a8706b2290",
            "source": "s68",
            "source_arrow_fill": "hollow",
            "source_arrow_shape": "triangle",
            "target": "bind_CytoCA_ApafI_to_CytoCAApafI",
            "target_arrow_shape": "triangle"
           }
          },
          {
           "data": {
            "arrowhead": "normal",
            "id": "f291c6a2-0a7f-4233-b2e2-7b45f3d59cd2",
            "source": "s69",
            "source_arrow_fill": "hollow",
            "source_arrow_shape": "triangle",
            "target": "pore_transport_complex_BaxA_4_CytoCM",
            "target_arrow_shape": "triangle"
           }
          },
          {
           "data": {
            "arrowhead": "normal",
            "id": "03e0742e-d9f0-413d-81d9-622fd0edda9e",
            "source": "s69",
            "source_arrow_fill": "filled",
            "source_arrow_shape": "none",
            "target": "pore_transport_dissociate_BaxA_4_CytoCC",
            "target_arrow_shape": "triangle"
           }
          },
          {
           "data": {
            "arrowhead": "normal",
            "id": "68d702da-5e1e-4c92-ad2d-8b75ded0cd79",
            "source": "s70",
            "source_arrow_fill": "hollow",
            "source_arrow_shape": "triangle",
            "target": "pore_transport_complex_BaxA_4_SmacM",
            "target_arrow_shape": "triangle"
           }
          },
          {
           "data": {
            "arrowhead": "normal",
            "id": "987d6fb9-b3fe-4cd5-9b20-112a76330481",
            "source": "s70",
            "source_arrow_fill": "filled",
            "source_arrow_shape": "none",
            "target": "pore_transport_dissociate_BaxA_4_SmacC",
            "target_arrow_shape": "triangle"
           }
          },
          {
           "data": {
            "arrowhead": "normal",
            "id": "7c0f3786-dfc5-4029-92b9-3868255f0d64",
            "source": "s71",
            "source_arrow_fill": "hollow",
            "source_arrow_shape": "triangle",
            "target": "bind_CytoCA_ApafI_to_CytoCAApafI",
            "target_arrow_shape": "triangle"
           }
          },
          {
           "data": {
            "arrowhead": "normal",
            "id": "8db4f242-4d2d-4c0d-9863-a1ffd12cae0e",
            "source": "s71",
            "source_arrow_fill": "filled",
            "source_arrow_shape": "none",
            "target": "catalyze_CytoCAApafI_to_CytoCA_ApafA",
            "target_arrow_shape": "triangle"
           }
          },
          {
           "data": {
            "arrowhead": "normal",
            "id": "ad8521a8-d58a-40f1-a79b-31b4ad329a62",
            "source": "s72",
            "source_arrow_fill": "hollow",
            "source_arrow_shape": "triangle",
            "target": "bind_SmacA_XIAP",
            "target_arrow_shape": "triangle"
           }
          },
          {
           "data": {
            "arrowhead": "normal",
            "id": "d79b8086-78ae-4424-aab4-1c64535bb30f",
            "source": "s73",
            "source_arrow_fill": "hollow",
            "source_arrow_shape": "triangle",
            "target": "convert_ApafA_C9_to_Apop",
            "target_arrow_shape": "triangle"
           }
          },
          {
           "data": {
            "arrowhead": "normal",
            "id": "c8a15f26-733a-4f68-9cf2-4b7ba5f0b304",
            "source": "s74",
            "source_arrow_fill": "hollow",
            "source_arrow_shape": "triangle",
            "target": "convert_ApafA_C9_to_Apop",
            "target_arrow_shape": "triangle"
           }
          },
          {
           "data": {
            "arrowhead": "normal",
            "id": "df197a2f-5bbf-4f64-a538-6658a9bac0e8",
            "source": "s74",
            "source_arrow_fill": "hollow",
            "source_arrow_shape": "triangle",
            "target": "bind_Apop_C3pro_to_ApopC3pro",
            "target_arrow_shape": "triangle"
           }
          },
          {
           "data": {
            "arrowhead": "normal",
            "id": "1c284c76-c28c-4093-b034-e1fbd7cc6d7a",
            "source": "s74",
            "source_arrow_fill": "hollow",
            "source_arrow_shape": "triangle",
            "target": "bind_Apop_XIAP",
            "target_arrow_shape": "triangle"
           }
          },
          {
           "data": {
            "arrowhead": "normal",
            "id": "3456bdcb-40b1-4d7a-b914-5440c7fc59a1",
            "source": "s75",
            "source_arrow_fill": "hollow",
            "source_arrow_shape": "triangle",
            "target": "bind_Apop_C3pro_to_ApopC3pro",
            "target_arrow_shape": "triangle"
           }
          },
          {
           "data": {
            "arrowhead": "normal",
            "id": "2f829d55-d960-424d-b122-767b22082dad",
            "source": "s75",
            "source_arrow_fill": "filled",
            "source_arrow_shape": "none",
            "target": "catalyze_ApopC3pro_to_Apop_C3A",
            "target_arrow_shape": "triangle"
           }
          },
          {
           "data": {
            "arrowhead": "normal",
            "id": "cf26af5b-83e8-40d0-974f-e12be22f58c3",
            "source": "s76",
            "source_arrow_fill": "hollow",
            "source_arrow_shape": "triangle",
            "target": "bind_Apop_XIAP",
            "target_arrow_shape": "triangle"
           }
          },
          {
           "data": {
            "arrowhead": "normal",
            "id": "7d75bcb5-24cb-4c0b-a100-a22de582a253",
            "source": "convert_LR_to_DISC",
            "source_arrow_fill": "filled",
            "source_arrow_shape": "none",
            "target": "s25",
            "target_arrow_shape": "triangle"
           }
          },
          {
           "data": {
            "arrowhead": "normal",
            "id": "3c184f97-332e-4776-878c-892d7480e124",
            "source": "catalyze_DISCC8pro_to_DISC_C8A",
            "source_arrow_fill": "filled",
            "source_arrow_shape": "none",
            "target": "s25",
            "target_arrow_shape": "triangle"
           }
          },
          {
           "data": {
            "arrowhead": "normal",
            "id": "8c15e0a3-291a-4b8f-8863-05144f606b22",
            "source": "catalyze_DISCC8pro_to_DISC_C8A",
            "source_arrow_fill": "filled",
            "source_arrow_shape": "none",
            "target": "s28",
            "target_arrow_shape": "triangle"
           }
          },
          {
           "data": {
            "arrowhead": "normal",
            "id": "98414879-bfcc-440b-80b5-9f3226aed106",
            "source": "catalyze_C8ABidU_to_C8A_BidT",
            "source_arrow_fill": "filled",
            "source_arrow_shape": "none",
            "target": "s32",
            "target_arrow_shape": "triangle"
           }
          },
          {
           "data": {
            "arrowhead": "normal",
            "id": "90c11af8-6ba3-4b84-a8b7-17a71751a96d",
            "source": "catalyze_C8ABidU_to_C8A_BidT",
            "source_arrow_fill": "filled",
            "source_arrow_shape": "none",
            "target": "s28",
            "target_arrow_shape": "triangle"
           }
          },
          {
           "data": {
            "arrowhead": "normal",
            "id": "218d9e07-b8e0-4006-9504-2f89bad5b436",
            "source": "catalyze_CytoCAApafI_to_CytoCA_ApafA",
            "source_arrow_fill": "filled",
            "source_arrow_shape": "none",
            "target": "s73",
            "target_arrow_shape": "triangle"
           }
          },
          {
           "data": {
            "arrowhead": "normal",
            "id": "0412c4f5-c0c0-4cb8-b1b3-b6a35c911b11",
            "source": "catalyze_CytoCAApafI_to_CytoCA_ApafA",
            "source_arrow_fill": "filled",
            "source_arrow_shape": "none",
            "target": "s68",
            "target_arrow_shape": "triangle"
           }
          },
          {
           "data": {
            "arrowhead": "normal",
            "id": "7c174f91-1709-4df4-9abb-49df02b68584",
            "source": "catalyze_ApopC3pro_to_Apop_C3A",
            "source_arrow_fill": "filled",
            "source_arrow_shape": "none",
            "target": "s33",
            "target_arrow_shape": "triangle"
           }
          },
          {
           "data": {
            "arrowhead": "normal",
            "id": "5739865b-b183-4f4f-84df-0b46525322d8",
            "source": "catalyze_ApopC3pro_to_Apop_C3A",
            "source_arrow_fill": "filled",
            "source_arrow_shape": "none",
            "target": "s74",
            "target_arrow_shape": "triangle"
           }
          },
          {
           "data": {
            "arrowhead": "normal",
            "id": "7a264cfa-d602-46ea-a0ac-c78cf410e9c3",
            "source": "catalyze_C8AC3pro_to_C8A_C3A",
            "source_arrow_fill": "filled",
            "source_arrow_shape": "none",
            "target": "s33",
            "target_arrow_shape": "triangle"
           }
          },
          {
           "data": {
            "arrowhead": "normal",
            "id": "31d42148-4b85-48c7-8f2f-ed7f8c09e73a",
            "source": "catalyze_C8AC3pro_to_C8A_C3A",
            "source_arrow_fill": "filled",
            "source_arrow_shape": "none",
            "target": "s28",
            "target_arrow_shape": "triangle"
           }
          },
          {
           "data": {
            "arrowhead": "normal",
            "id": "785afd68-8c88-4735-b933-0ffd58e0539b",
            "source": "catalyze_XIAPC3A_to_XIAP_C3ub",
            "source_arrow_fill": "filled",
            "source_arrow_shape": "none",
            "target": "s10",
            "target_arrow_shape": "triangle"
           }
          },
          {
           "data": {
            "arrowhead": "normal",
            "id": "5d821405-dfdd-4495-8daa-edf8171e7279",
            "source": "catalyze_XIAPC3A_to_XIAP_C3ub",
            "source_arrow_fill": "filled",
            "source_arrow_shape": "none",
            "target": "s38",
            "target_arrow_shape": "triangle"
           }
          },
          {
           "data": {
            "arrowhead": "normal",
            "id": "da99681f-ddee-48f0-9f49-cd96c541e1c0",
            "source": "catalyze_C3APARPU_to_C3A_PARPC",
            "source_arrow_fill": "filled",
            "source_arrow_shape": "none",
            "target": "s33",
            "target_arrow_shape": "triangle"
           }
          },
          {
           "data": {
            "arrowhead": "normal",
            "id": "e0e77376-6b6a-448c-ac2a-336de417fc75",
            "source": "catalyze_C3APARPU_to_C3A_PARPC",
            "source_arrow_fill": "filled",
            "source_arrow_shape": "none",
            "target": "s39",
            "target_arrow_shape": "triangle"
           }
          },
          {
           "data": {
            "arrowhead": "normal",
            "id": "1073bf1d-271b-4958-99c8-52247c83d1df",
            "source": "catalyze_C3AC6pro_to_C3A_C6A",
            "source_arrow_fill": "filled",
            "source_arrow_shape": "none",
            "target": "s40",
            "target_arrow_shape": "triangle"
           }
          },
          {
           "data": {
            "arrowhead": "normal",
            "id": "d21b208d-0e6d-490d-8656-66f2ad5dfa67",
            "source": "catalyze_C3AC6pro_to_C3A_C6A",
            "source_arrow_fill": "filled",
            "source_arrow_shape": "none",
            "target": "s33",
            "target_arrow_shape": "triangle"
           }
          },
          {
           "data": {
            "arrowhead": "normal",
            "id": "c7fb07c7-e0e7-438b-aeec-64ce84cf513f",
            "source": "catalyze_C6AC8pro_to_C6A_C8A",
            "source_arrow_fill": "filled",
            "source_arrow_shape": "none",
            "target": "s40",
            "target_arrow_shape": "triangle"
           }
          },
          {
           "data": {
            "arrowhead": "normal",
            "id": "8c56c1c6-7ac1-477c-8a8f-f33596ac0b63",
            "source": "catalyze_C6AC8pro_to_C6A_C8A",
            "source_arrow_fill": "filled",
            "source_arrow_shape": "none",
            "target": "s28",
            "target_arrow_shape": "triangle"
           }
          },
          {
           "data": {
            "arrowhead": "normal",
            "id": "09bf2a9a-38ca-401b-a91f-4fa82819b76e",
            "source": "catalyze_BidMBaxC_to_BidM_BaxM",
            "source_arrow_fill": "filled",
            "source_arrow_shape": "none",
            "target": "s37",
            "target_arrow_shape": "triangle"
           }
          },
          {
           "data": {
            "arrowhead": "normal",
            "id": "93e0f7a8-4d7b-467c-9af7-87a6d60e75cc",
            "source": "catalyze_BidMBaxC_to_BidM_BaxM",
            "source_arrow_fill": "filled",
            "source_arrow_shape": "none",
            "target": "s47",
            "target_arrow_shape": "triangle"
           }
          },
          {
           "data": {
            "arrowhead": "normal",
            "id": "95db5485-a018-4583-bf3a-f0d389b579a5",
            "source": "catalyze_BidMBaxM_to_BidM_BaxA",
            "source_arrow_fill": "filled",
            "source_arrow_shape": "none",
            "target": "s37",
            "target_arrow_shape": "triangle"
           }
          },
          {
           "data": {
            "arrowhead": "normal",
            "id": "2cef5e46-e153-42ef-ab63-b74a0595fd84",
            "source": "catalyze_BidMBaxM_to_BidM_BaxA",
            "source_arrow_fill": "filled",
            "source_arrow_shape": "none",
            "target": "s54",
            "target_arrow_shape": "triangle"
           }
          },
          {
           "data": {
            "arrowhead": "normal",
            "id": "35273b7e-b751-42c2-8ded-34b1f423ec76",
            "source": "catalyze_BidMBakM_to_BidM_BakA",
            "source_arrow_fill": "filled",
            "source_arrow_shape": "none",
            "target": "s48",
            "target_arrow_shape": "triangle"
           }
          },
          {
           "data": {
            "arrowhead": "normal",
            "id": "75b5de08-4db0-4cb6-bcc8-3be54ecd2fd1",
            "source": "catalyze_BidMBakM_to_BidM_BakA",
            "source_arrow_fill": "filled",
            "source_arrow_shape": "none",
            "target": "s37",
            "target_arrow_shape": "triangle"
           }
          },
          {
           "data": {
            "arrowhead": "normal",
            "id": "289ba31f-e6ba-4ad6-9aac-52f629b78c3d",
            "source": "catalyze_BaxABaxM_to_BaxA_BaxA",
            "source_arrow_fill": "filled",
            "source_arrow_shape": "none",
            "target": "s54",
            "target_arrow_shape": "triangle"
           }
          },
          {
           "data": {
            "arrowhead": "normal",
            "id": "6166083a-6e7d-43bd-9a90-e492b3aaa22a",
            "source": "catalyze_BakABakM_to_BakA_BakA",
            "source_arrow_fill": "filled",
            "source_arrow_shape": "none",
            "target": "s48",
            "target_arrow_shape": "triangle"
           }
          },
          {
           "data": {
            "arrowhead": "normal",
            "id": "75fec504-ca3a-4bb1-9652-4bc2a4d99cc7",
            "source": "pore_transport_dissociate_BaxA_4_CytoCC",
            "source_arrow_fill": "filled",
            "source_arrow_shape": "none",
            "target": "s64",
            "target_arrow_shape": "triangle"
           }
          },
          {
           "data": {
            "arrowhead": "normal",
            "id": "a09af516-1a60-495e-b5c5-7d7b09354aa2",
            "source": "pore_transport_dissociate_BaxA_4_CytoCC",
            "source_arrow_fill": "filled",
            "source_arrow_shape": "none",
            "target": "s65",
            "target_arrow_shape": "triangle"
           }
          },
          {
           "data": {
            "arrowhead": "normal",
            "id": "7269230e-911d-436d-bd61-54e9177e3be4",
            "source": "pore_transport_dissociate_BaxA_4_SmacC",
            "source_arrow_fill": "filled",
            "source_arrow_shape": "none",
            "target": "s64",
            "target_arrow_shape": "triangle"
           }
          },
          {
           "data": {
            "arrowhead": "normal",
            "id": "f8e7d731-03ef-408b-b3cc-c2fbfca690a0",
            "source": "pore_transport_dissociate_BaxA_4_SmacC",
            "source_arrow_fill": "filled",
            "source_arrow_shape": "none",
            "target": "s66",
            "target_arrow_shape": "triangle"
           }
          },
          {
           "data": {
            "arrowhead": "normal",
            "id": "f78668e8-db29-487b-b978-aae2752fee63",
            "source": "pore_transport_dissociate_BakA_4_CytoCC",
            "source_arrow_fill": "filled",
            "source_arrow_shape": "none",
            "target": "s65",
            "target_arrow_shape": "triangle"
           }
          },
          {
           "data": {
            "arrowhead": "normal",
            "id": "dbd82e6b-c339-4bde-affb-339654ce0184",
            "source": "pore_transport_dissociate_BakA_4_CytoCC",
            "source_arrow_fill": "filled",
            "source_arrow_shape": "none",
            "target": "s60",
            "target_arrow_shape": "triangle"
           }
          },
          {
           "data": {
            "arrowhead": "normal",
            "id": "89449b01-4cc9-44ed-aa79-0c9b0a5c6633",
            "source": "pore_transport_dissociate_BakA_4_SmacC",
            "source_arrow_fill": "filled",
            "source_arrow_shape": "none",
            "target": "s66",
            "target_arrow_shape": "triangle"
           }
          },
          {
           "data": {
            "arrowhead": "normal",
            "id": "47185b25-8f53-438f-887b-0cfc0589835a",
            "source": "pore_transport_dissociate_BakA_4_SmacC",
            "source_arrow_fill": "filled",
            "source_arrow_shape": "none",
            "target": "s60",
            "target_arrow_shape": "triangle"
           }
          }
         ],
         "nodes": [
          {
           "data": {
            "NodeType": "species",
            "background_color": "#aaffff",
            "bipartite": 0,
            "id": "s0",
            "label": "L",
            "name": "s0",
            "shape": "ellipse"
           },
           "position": {
            "x": 2562.3116261536616,
            "y": 301.70031912313175
           }
          },
          {
           "data": {
            "NodeType": "species",
            "background_color": "#aaffff",
            "bipartite": 0,
            "id": "s1",
            "label": "R",
            "name": "s1",
            "shape": "ellipse"
           },
           "position": {
            "x": 2439.4400302613535,
            "y": 293.1370977479828
           }
          },
          {
           "data": {
            "NodeType": "species",
            "background_color": "#aaffff",
            "bipartite": 0,
            "id": "s2",
            "label": "flip",
            "name": "s2",
            "shape": "ellipse"
           },
           "position": {
            "x": 2340.6240504683597,
            "y": 810.2372763680853
           }
          },
          {
           "data": {
            "NodeType": "species",
            "background_color": "#aaffff",
            "bipartite": 0,
            "id": "s3",
            "label": "proC8",
            "name": "s3",
            "shape": "ellipse"
           },
           "position": {
            "x": 2295.9326815091804,
            "y": 538.3405969028415
           }
          },
          {
           "data": {
            "NodeType": "species",
            "background_color": "#aaffff",
            "bipartite": 0,
            "id": "s4",
            "label": "BAR",
            "name": "s4",
            "shape": "ellipse"
           },
           "position": {
            "x": 2002.4353402768443,
            "y": 817.4564813036001
           }
          },
          {
           "data": {
            "NodeType": "species",
            "background_color": "#aaffff",
            "bipartite": 0,
            "id": "s5",
            "label": "iApaf",
            "name": "s5",
            "shape": "ellipse"
           },
           "position": {
            "x": 39.46212896646945,
            "y": 365.7183523163817
           }
          },
          {
           "data": {
            "NodeType": "species",
            "background_color": "#aaffff",
            "bipartite": 0,
            "id": "s6",
            "label": "proC3",
            "name": "s6",
            "shape": "ellipse"
           },
           "position": {
            "x": 1564.9978110029292,
            "y": 449.22764820463703
           }
          },
          {
           "data": {
            "NodeType": "species",
            "background_color": "#aaffff",
            "bipartite": 0,
            "id": "s7",
            "label": "proC6",
            "name": "s7",
            "shape": "ellipse"
           },
           "position": {
            "x": 1727.5110285036383,
            "y": 397.3521853983274
           }
          },
          {
           "data": {
            "NodeType": "species",
            "background_color": "#aaffff",
            "bipartite": 0,
            "id": "s8",
            "label": "C9",
            "name": "s8",
            "shape": "ellipse"
           },
           "position": {
            "x": 974.5866822843349,
            "y": 218.14844045117357
           }
          },
          {
           "data": {
            "NodeType": "species",
            "background_color": "#aaffff",
            "bipartite": 0,
            "id": "s9",
            "label": "uPARP",
            "name": "s9",
            "shape": "ellipse"
           },
           "position": {
            "x": 1674.3562058645728,
            "y": 112.19098140874843
           }
          },
          {
           "data": {
            "NodeType": "species",
            "background_color": "#aaffff",
            "bipartite": 0,
            "id": "s10",
            "label": "XIAP",
            "name": "s10",
            "shape": "ellipse"
           },
           "position": {
            "x": 1345.0138154441534,
            "y": 249.15386102176782
           }
          },
          {
           "data": {
            "NodeType": "species",
            "background_color": "#aaffff",
            "bipartite": 0,
            "id": "s11",
            "label": "uBid",
            "name": "s11",
            "shape": "ellipse"
           },
           "position": {
            "x": 2081.6387734064638,
            "y": 698.6048272414608
           }
          },
          {
           "data": {
            "NodeType": "species",
            "background_color": "#aaffff",
            "bipartite": 0,
            "id": "s12",
            "label": "cBax",
            "name": "s12",
            "shape": "ellipse"
           },
           "position": {
            "x": 1697.6740658555045,
            "y": 1060.4170031154686
           }
          },
          {
           "data": {
            "NodeType": "species",
            "background_color": "#aaffff",
            "bipartite": 0,
            "id": "s13",
            "label": "mBak",
            "name": "s13",
            "shape": "ellipse"
           },
           "position": {
            "x": 1568.9860682350206,
            "y": 854.411166669278
           }
          },
          {
           "data": {
            "NodeType": "species",
            "background_color": "#aaffff",
            "bipartite": 0,
            "id": "s14",
            "label": "mBcl2",
            "name": "s14",
            "shape": "ellipse"
           },
           "position": {
            "x": 981.3628895629919,
            "y": 909.7862757582793
           }
          },
          {
           "data": {
            "NodeType": "species",
            "background_color": "#aaffff",
            "bipartite": 0,
            "id": "s15",
            "label": "mBclxL",
            "name": "s15",
            "shape": "ellipse"
           },
           "position": {
            "x": 917.8514342461131,
            "y": 857.4107222111321
           }
          },
          {
           "data": {
            "NodeType": "species",
            "background_color": "#aaffff",
            "bipartite": 0,
            "id": "s16",
            "label": "mMcl1",
            "name": "s16",
            "shape": "ellipse"
           },
           "position": {
            "x": 1208.1942754584093,
            "y": 796.2121013016399
           }
          },
          {
           "data": {
            "NodeType": "species",
            "background_color": "#aaffff",
            "bipartite": 0,
            "id": "s17",
            "label": "mBad",
            "name": "s17",
            "shape": "ellipse"
           },
           "position": {
            "x": 831.8308565010609,
            "y": 830.6964969900922
           }
          },
          {
           "data": {
            "NodeType": "species",
            "background_color": "#aaffff",
            "bipartite": 0,
            "id": "s18",
            "label": "mNoxa",
            "name": "s18",
            "shape": "ellipse"
           },
           "position": {
            "x": 1025.6508875690415,
            "y": 845.0989707703158
           }
          },
          {
           "data": {
            "NodeType": "species",
            "background_color": "#aaffff",
            "bipartite": 0,
            "id": "s19",
            "label": "mCytoC",
            "name": "s19",
            "shape": "ellipse"
           },
           "position": {
            "x": 763.6917071739358,
            "y": 666.0771857378774
           }
          },
          {
           "data": {
            "NodeType": "species",
            "background_color": "#aaffff",
            "bipartite": 0,
            "id": "s20",
            "label": "mSmac",
            "name": "s20",
            "shape": "ellipse"
           },
           "position": {
            "x": 660.1247161821675,
            "y": 699.7612750290729
           }
          },
          {
           "data": {
            "NodeType": "species",
            "background_color": "#ccffcc",
            "bipartite": 0,
            "id": "s21",
            "label": "L-R",
            "name": "s21",
            "shape": "ellipse"
           },
           "position": {
            "x": 2553.2611174170015,
            "y": 480.42715515141447
           }
          },
          {
           "data": {
            "NodeType": "species",
            "background_color": "#ccffcc",
            "bipartite": 0,
            "id": "s22",
            "label": "mBad-mBcl2",
            "name": "s22",
            "shape": "ellipse"
           },
           "position": {
            "x": 980.8678884325506,
            "y": 685.841390716016
           }
          },
          {
           "data": {
            "NodeType": "species",
            "background_color": "#ccffcc",
            "bipartite": 0,
            "id": "s23",
            "label": "mBad-mBclxL",
            "name": "s23",
            "shape": "ellipse"
           },
           "position": {
            "x": 867.8440170061955,
            "y": 660.6777365834084
           }
          },
          {
           "data": {
            "NodeType": "species",
            "background_color": "#ccffcc",
            "bipartite": 0,
            "id": "s24",
            "label": "mMcl1-mNoxa",
            "name": "s24",
            "shape": "ellipse"
           },
           "position": {
            "x": 1365.9374101421006,
            "y": 985.0280268696117
           }
          },
          {
           "data": {
            "NodeType": "species",
            "background_color": "#ccffcc",
            "bipartite": 0,
            "id": "s25",
            "label": "DISC",
            "name": "s25",
            "shape": "ellipse"
           },
           "position": {
            "x": 2260.753695372303,
            "y": 603.9166969847817
           }
          },
          {
           "data": {
            "NodeType": "species",
            "background_color": "#ccffcc",
            "bipartite": 0,
            "id": "s26",
            "label": "proC8-DISC",
            "name": "s26",
            "shape": "ellipse"
           },
           "position": {
            "x": 2201.1980768357166,
            "y": 668.1924778288629
           }
          },
          {
           "data": {
            "NodeType": "species",
            "background_color": "#ccffcc",
            "bipartite": 0,
            "id": "s27",
            "label": "DISC-flip",
            "name": "s27",
            "shape": "ellipse"
           },
           "position": {
            "x": 2225.4260575220956,
            "y": 792.3095055413054
           }
          },
          {
           "data": {
            "NodeType": "species",
            "background_color": "#ccffcc",
            "bipartite": 0,
            "id": "s28",
            "label": "aC8",
            "name": "s28",
            "shape": "ellipse"
           },
           "position": {
            "x": 1827.7625557382912,
            "y": 603.9941843776041
           }
          },
          {
           "data": {
            "NodeType": "species",
            "background_color": "#ccffcc",
            "bipartite": 0,
            "id": "s29",
            "label": "uBid-aC8",
            "name": "s29",
            "shape": "ellipse"
           },
           "position": {
            "x": 1746.791965931246,
            "y": 616.4413687082938
           }
          },
          {
           "data": {
            "NodeType": "species",
            "background_color": "#ccffcc",
            "bipartite": 0,
            "id": "s30",
            "label": "BAR-aC8",
            "name": "s30",
            "shape": "ellipse"
           },
           "position": {
            "x": 1894.2695040983817,
            "y": 809.7394651841881
           }
          },
          {
           "data": {
            "NodeType": "species",
            "background_color": "#ccffcc",
            "bipartite": 0,
            "id": "s31",
            "label": "proC3-aC8",
            "name": "s31",
            "shape": "ellipse"
           },
           "position": {
            "x": 1494.5828241777476,
            "y": 499.0988689586346
           }
          },
          {
           "data": {
            "NodeType": "species",
            "background_color": "#ccffcc",
            "bipartite": 0,
            "id": "s32",
            "label": "tBid",
            "name": "s32",
            "shape": "ellipse"
           },
           "position": {
            "x": 1643.9230188262513,
            "y": 828.9051672730412
           }
          },
          {
           "data": {
            "NodeType": "species",
            "background_color": "#ccffcc",
            "bipartite": 0,
            "id": "s33",
            "label": "aC3",
            "name": "s33",
            "shape": "ellipse"
           },
           "position": {
            "x": 1703.9895635058697,
            "y": 332.70949806613123
           }
          },
          {
           "data": {
            "NodeType": "species",
            "background_color": "#ccffcc",
            "bipartite": 0,
            "id": "s34",
            "label": "aC3-XIAP",
            "name": "s34",
            "shape": "ellipse"
           },
           "position": {
            "x": 1472.3742805614315,
            "y": 189.38545495142418
           }
          },
          {
           "data": {
            "NodeType": "species",
            "background_color": "#ccffcc",
            "bipartite": 0,
            "id": "s35",
            "label": "aC3-uPARP",
            "name": "s35",
            "shape": "ellipse"
           },
           "position": {
            "x": 1878.512257828616,
            "y": 170.3342674159596
           }
          },
          {
           "data": {
            "NodeType": "species",
            "background_color": "#ccffcc",
            "bipartite": 0,
            "id": "s36",
            "label": "aC3-proC6",
            "name": "s36",
            "shape": "ellipse"
           },
           "position": {
            "x": 2086.573252950504,
            "y": 366.97774087971857
           }
          },
          {
           "data": {
            "NodeType": "species",
            "background_color": "#ccffcc",
            "bipartite": 0,
            "id": "s37",
            "label": "mBid",
            "name": "s37",
            "shape": "ellipse"
           },
           "position": {
            "x": 1298.7249822982528,
            "y": 1022.2823186712108
           }
          },
          {
           "data": {
            "NodeType": "species",
            "background_color": "#ccffcc",
            "bipartite": 0,
            "id": "s38",
            "label": "ubC3",
            "name": "s38",
            "shape": "ellipse"
           },
           "position": {
            "x": 1297.632244132476,
            "y": 39
           }
          },
          {
           "data": {
            "NodeType": "species",
            "background_color": "#ccffcc",
            "bipartite": 0,
            "id": "s39",
            "label": "cPARP",
            "name": "s39",
            "shape": "ellipse"
           },
           "position": {
            "x": 2053.939114090312,
            "y": 243.25361401418647
           }
          },
          {
           "data": {
            "NodeType": "species",
            "background_color": "#ccffcc",
            "bipartite": 0,
            "id": "s40",
            "label": "aC6",
            "name": "s40",
            "shape": "ellipse"
           },
           "position": {
            "x": 2022.905316419835,
            "y": 467.6873188456482
           }
          },
          {
           "data": {
            "NodeType": "species",
            "background_color": "#ccffcc",
            "bipartite": 0,
            "id": "s41",
            "label": "cBax-mBid",
            "name": "s41",
            "shape": "ellipse"
           },
           "position": {
            "x": 1597.402704636177,
            "y": 1142.9342875558084
           }
          },
          {
           "data": {
            "NodeType": "species",
            "background_color": "#ccffcc",
            "bipartite": 0,
            "id": "s42",
            "label": "mBak-mBid",
            "name": "s42",
            "shape": "ellipse"
           },
           "position": {
            "x": 1655.999365052626,
            "y": 910.4605992804773
           }
          },
          {
           "data": {
            "NodeType": "species",
            "background_color": "#ccffcc",
            "bipartite": 0,
            "id": "s43",
            "label": "mBcl2-mBid",
            "name": "s43",
            "shape": "ellipse"
           },
           "position": {
            "x": 1204.2324839850062,
            "y": 1078.2775532941885
           }
          },
          {
           "data": {
            "NodeType": "species",
            "background_color": "#ccffcc",
            "bipartite": 0,
            "id": "s44",
            "label": "mBclxL-mBid",
            "name": "s44",
            "shape": "ellipse"
           },
           "position": {
            "x": 903.446902436353,
            "y": 992.2477364270569
           }
          },
          {
           "data": {
            "NodeType": "species",
            "background_color": "#ccffcc",
            "bipartite": 0,
            "id": "s45",
            "label": "mBid-mMcl1",
            "name": "s45",
            "shape": "ellipse"
           },
           "position": {
            "x": 1245.8062061440157,
            "y": 832.7853333129322
           }
          },
          {
           "data": {
            "NodeType": "species",
            "background_color": "#ccffcc",
            "bipartite": 0,
            "id": "s46",
            "label": "aC6-proC8",
            "name": "s46",
            "shape": "ellipse"
           },
           "position": {
            "x": 2147.9128752945767,
            "y": 529.4099892022747
           }
          },
          {
           "data": {
            "NodeType": "species",
            "background_color": "#ccffcc",
            "bipartite": 0,
            "id": "s47",
            "label": "mBax",
            "name": "s47",
            "shape": "ellipse"
           },
           "position": {
            "x": 1105.2351318227215,
            "y": 1108.8890623033953
           }
          },
          {
           "data": {
            "NodeType": "species",
            "background_color": "#ccffcc",
            "bipartite": 0,
            "id": "s48",
            "label": "aBak",
            "name": "s48",
            "shape": "ellipse"
           },
           "position": {
            "x": 1289.8940745414359,
            "y": 712.2947300748937
           }
          },
          {
           "data": {
            "NodeType": "species",
            "background_color": "#ccffcc",
            "bipartite": 0,
            "id": "s49",
            "label": "mBax-mBid",
            "name": "s49",
            "shape": "ellipse"
           },
           "position": {
            "x": 997.82097479641,
            "y": 1153.7498404061384
           }
          },
          {
           "data": {
            "NodeType": "species",
            "background_color": "#ccffcc",
            "bipartite": 0,
            "id": "s50",
            "label": "aBak-mBak",
            "name": "s50",
            "shape": "ellipse"
           },
           "position": {
            "x": 1653.0066291673093,
            "y": 671.7356681136213
           }
          },
          {
           "data": {
            "NodeType": "species",
            "background_color": "#ccffcc",
            "bipartite": 0,
            "id": "s51",
            "label": "aBak-mBclxL",
            "name": "s51",
            "shape": "ellipse"
           },
           "position": {
            "x": 1196.4467389103454,
            "y": 695.7538552587366
           }
          },
          {
           "data": {
            "NodeType": "species",
            "background_color": "#ccffcc",
            "bipartite": 0,
            "id": "s52",
            "label": "aBak-mMcl1",
            "name": "s52",
            "shape": "ellipse"
           },
           "position": {
            "x": 1550.9968583167708,
            "y": 785.8816844040706
           }
          },
          {
           "data": {
            "NodeType": "species",
            "background_color": "#ccffcc",
            "bipartite": 0,
            "id": "s53",
            "label": "2aBak",
            "name": "s53",
            "shape": "ellipse"
           },
           "position": {
            "x": 1427.6081591336517,
            "y": 557.6725671972894
           }
          },
          {
           "data": {
            "NodeType": "species",
            "background_color": "#ccffcc",
            "bipartite": 0,
            "id": "s54",
            "label": "aBax",
            "name": "s54",
            "shape": "ellipse"
           },
           "position": {
            "x": 708.6232647302999,
            "y": 1008.8439380946736
           }
          },
          {
           "data": {
            "NodeType": "species",
            "background_color": "#ccffcc",
            "bipartite": 0,
            "id": "s55",
            "label": "3aBak",
            "name": "s55",
            "shape": "ellipse"
           },
           "position": {
            "x": 1143.048771169148,
            "y": 520.4453772034556
           }
          },
          {
           "data": {
            "NodeType": "species",
            "background_color": "#ccffcc",
            "bipartite": 0,
            "id": "s56",
            "label": "aBax-mBax",
            "name": "s56",
            "shape": "ellipse"
           },
           "position": {
            "x": 771.6790808732609,
            "y": 1181.6435873225148
           }
          },
          {
           "data": {
            "NodeType": "species",
            "background_color": "#ccffcc",
            "bipartite": 0,
            "id": "s57",
            "label": "aBax-mBcl2",
            "name": "s57",
            "shape": "ellipse"
           },
           "position": {
            "x": 656.2228351646664,
            "y": 948.3701458298635
           }
          },
          {
           "data": {
            "NodeType": "species",
            "background_color": "#ccffcc",
            "bipartite": 0,
            "id": "s58",
            "label": "aBax-mBclxL",
            "name": "s58",
            "shape": "ellipse"
           },
           "position": {
            "x": 789.6972859411819,
            "y": 1016.8488309015754
           }
          },
          {
           "data": {
            "NodeType": "species",
            "background_color": "#ccffcc",
            "bipartite": 0,
            "id": "s59",
            "label": "2aBax",
            "name": "s59",
            "shape": "ellipse"
           },
           "position": {
            "x": 361.49751697679847,
            "y": 1057.1338499259132
           }
          },
          {
           "data": {
            "NodeType": "species",
            "background_color": "#ccffcc",
            "bipartite": 0,
            "id": "s60",
            "label": "4aBak",
            "name": "s60",
            "shape": "ellipse"
           },
           "position": {
            "x": 832.711384227336,
            "y": 546.7718088792584
           }
          },
          {
           "data": {
            "NodeType": "species",
            "background_color": "#ccffcc",
            "bipartite": 0,
            "id": "s61",
            "label": "3aBax",
            "name": "s61",
            "shape": "ellipse"
           },
           "position": {
            "x": 349.53853089221934,
            "y": 934.8100480847431
           }
          },
          {
           "data": {
            "NodeType": "species",
            "background_color": "#ccffcc",
            "bipartite": 0,
            "id": "s62",
            "label": "4aBak-mCytoC",
            "name": "s62",
            "shape": "ellipse"
           },
           "position": {
            "x": 670.5997843765125,
            "y": 459.39447413309324
           }
          },
          {
           "data": {
            "NodeType": "species",
            "background_color": "#ccffcc",
            "bipartite": 0,
            "id": "s63",
            "label": "4aBak-mSmac",
            "name": "s63",
            "shape": "ellipse"
           },
           "position": {
            "x": 761.8240936526526,
            "y": 501.0369102376425
           }
          },
          {
           "data": {
            "NodeType": "species",
            "background_color": "#ccffcc",
            "bipartite": 0,
            "id": "s64",
            "label": "4aBax",
            "name": "s64",
            "shape": "ellipse"
           },
           "position": {
            "x": 450.76338939240514,
            "y": 766.6085632389879
           }
          },
          {
           "data": {
            "NodeType": "species",
            "background_color": "#ccffcc",
            "bipartite": 0,
            "id": "s65",
            "label": "cCytoC",
            "name": "s65",
            "shape": "ellipse"
           },
           "position": {
            "x": 303.3533316820383,
            "y": 614.7911668634083
           }
          },
          {
           "data": {
            "NodeType": "species",
            "background_color": "#ccffcc",
            "bipartite": 0,
            "id": "s66",
            "label": "cSmac",
            "name": "s66",
            "shape": "ellipse"
           },
           "position": {
            "x": 719.957715966291,
            "y": 539.3552167409562
           }
          },
          {
           "data": {
            "NodeType": "species",
            "background_color": "#ccffcc",
            "bipartite": 0,
            "id": "s67",
            "label": "aSmac",
            "name": "s67",
            "shape": "ellipse"
           },
           "position": {
            "x": 1051.2941741143807,
            "y": 379.72691975712064
           }
          },
          {
           "data": {
            "NodeType": "species",
            "background_color": "#ccffcc",
            "bipartite": 0,
            "id": "s68",
            "label": "aCytoC",
            "name": "s68",
            "shape": "ellipse"
           },
           "position": {
            "x": 408.19104701600776,
            "y": 414.31352836880444
           }
          },
          {
           "data": {
            "NodeType": "species",
            "background_color": "#ccffcc",
            "bipartite": 0,
            "id": "s69",
            "label": "4aBax-mCytoC",
            "name": "s69",
            "shape": "ellipse"
           },
           "position": {
            "x": 350.586500068947,
            "y": 781.8401170676925
           }
          },
          {
           "data": {
            "NodeType": "species",
            "background_color": "#ccffcc",
            "bipartite": 0,
            "id": "s70",
            "label": "4aBax-mSmac",
            "name": "s70",
            "shape": "ellipse"
           },
           "position": {
            "x": 662.2710448743118,
            "y": 755.8203888910756
           }
          },
          {
           "data": {
            "NodeType": "species",
            "background_color": "#ccffcc",
            "bipartite": 0,
            "id": "s71",
            "label": "iApaf-aCytoC",
            "name": "s71",
            "shape": "ellipse"
           },
           "position": {
            "x": 389.0780480584701,
            "y": 290.89384917472
           }
          },
          {
           "data": {
            "NodeType": "species",
            "background_color": "#ccffcc",
            "bipartite": 0,
            "id": "s72",
            "label": "aSmac-XIAP",
            "name": "s72",
            "shape": "ellipse"
           },
           "position": {
            "x": 1160.0290632617773,
            "y": 394.28040439622225
           }
          },
          {
           "data": {
            "NodeType": "species",
            "background_color": "#ccffcc",
            "bipartite": 0,
            "id": "s73",
            "label": "aApaf",
            "name": "s73",
            "shape": "ellipse"
           },
           "position": {
            "x": 794.1037666983327,
            "y": 309.988800085245
           }
          },
          {
           "data": {
            "NodeType": "species",
            "background_color": "#ccffcc",
            "bipartite": 0,
            "id": "s74",
            "label": "Apop",
            "name": "s74",
            "shape": "ellipse"
           },
           "position": {
            "x": 1236.0713794590777,
            "y": 339.20043440613244
           }
          },
          {
           "data": {
            "NodeType": "species",
            "background_color": "#ccffcc",
            "bipartite": 0,
            "id": "s75",
            "label": "Apop-proC3",
            "name": "s75",
            "shape": "ellipse"
           },
           "position": {
            "x": 1617.4203445959427,
            "y": 381.66027889087206
           }
          },
          {
           "data": {
            "NodeType": "species",
            "background_color": "#ccffcc",
            "bipartite": 0,
            "id": "s76",
            "label": "Apop-XIAP",
            "name": "s76",
            "shape": "ellipse"
           },
           "position": {
            "x": 1113.8261310983278,
            "y": 135.8022377928692
           }
          },
          {
           "data": {
            "NodeType": "rule",
            "background_color": "#ff4c4c",
            "bipartite": 1,
            "id": "bind_L_R_to_LR",
            "label": "bind_L_R_to_LR",
            "name": "bind_L_R_to_LR",
            "shape": "roundrectangle"
           },
           "position": {
            "x": 2494.0551193767105,
            "y": 387.32971785550046
           }
          },
          {
           "data": {
            "NodeType": "rule",
            "background_color": "#ff4c4c",
            "bipartite": 1,
            "id": "convert_LR_to_DISC",
            "label": "convert_LR_to_DISC",
            "name": "convert_LR_to_DISC",
            "shape": "roundrectangle"
           },
           "position": {
            "x": 2410.0851545877345,
            "y": 527.0837742978853
           }
          },
          {
           "data": {
            "NodeType": "rule",
            "background_color": "#ff4c4c",
            "bipartite": 1,
            "id": "bind_DISC_C8pro_to_DISCC8pro",
            "label": "bind_DISC_C8pro_to_DISCC8pro",
            "name": "bind_DISC_C8pro_to_DISCC8pro",
            "shape": "roundrectangle"
           },
           "position": {
            "x": 2426.1382904798343,
            "y": 617.8530919007275
           }
          },
          {
           "data": {
            "NodeType": "rule",
            "background_color": "#ff4c4c",
            "bipartite": 1,
            "id": "catalyze_DISCC8pro_to_DISC_C8A",
            "label": "catalyze_DISCC8pro_to_DISC_C8A",
            "name": "catalyze_DISCC8pro_to_DISC_C8A",
            "shape": "roundrectangle"
           },
           "position": {
            "x": 2054.4617033235863,
            "y": 600.0458385659989
           }
          },
          {
           "data": {
            "NodeType": "rule",
            "background_color": "#ff4c4c",
            "bipartite": 1,
            "id": "bind_C8A_BidU_to_C8ABidU",
            "label": "bind_C8A_BidU_to_C8ABidU",
            "name": "bind_C8A_BidU_to_C8ABidU",
            "shape": "roundrectangle"
           },
           "position": {
            "x": 1912.834666271806,
            "y": 655.4167486294832
           }
          },
          {
           "data": {
            "NodeType": "rule",
            "background_color": "#ff4c4c",
            "bipartite": 1,
            "id": "catalyze_C8ABidU_to_C8A_BidT",
            "label": "catalyze_C8ABidU_to_C8A_BidT",
            "name": "catalyze_C8ABidU_to_C8A_BidT",
            "shape": "roundrectangle"
           },
           "position": {
            "x": 1759.877822578396,
            "y": 728.6738024957702
           }
          },
          {
           "data": {
            "NodeType": "rule",
            "background_color": "#ff4c4c",
            "bipartite": 1,
            "id": "bind_DISC_flip",
            "label": "bind_DISC_flip",
            "name": "bind_DISC_flip",
            "shape": "roundrectangle"
           },
           "position": {
            "x": 2326.5261082348184,
            "y": 707.5850601802755
           }
          },
          {
           "data": {
            "NodeType": "rule",
            "background_color": "#ff4c4c",
            "bipartite": 1,
            "id": "bind_BAR_C8A",
            "label": "bind_BAR_C8A",
            "name": "bind_BAR_C8A",
            "shape": "roundrectangle"
           },
           "position": {
            "x": 1957.0326258905977,
            "y": 715.6371890868134
           }
          },
          {
           "data": {
            "NodeType": "rule",
            "background_color": "#ff4c4c",
            "bipartite": 1,
            "id": "equilibrate_SmacC_to_SmacA",
            "label": "equilibrate_SmacC_to_SmacA",
            "name": "equilibrate_SmacC_to_SmacA",
            "shape": "roundrectangle"
           },
           "position": {
            "x": 819.5268004444641,
            "y": 411.0004944342354
           }
          },
          {
           "data": {
            "NodeType": "rule",
            "background_color": "#ff4c4c",
            "bipartite": 1,
            "id": "equilibrate_CytoCC_to_CytoCA",
            "label": "equilibrate_CytoCC_to_CytoCA",
            "name": "equilibrate_CytoCC_to_CytoCA",
            "shape": "roundrectangle"
           },
           "position": {
            "x": 288.5904593102943,
            "y": 498.65379416630446
           }
          },
          {
           "data": {
            "NodeType": "rule",
            "background_color": "#ff4c4c",
            "bipartite": 1,
            "id": "bind_CytoCA_ApafI_to_CytoCAApafI",
            "label": "bind_CytoCA_ApafI_to_CytoCAApafI",
            "name": "bind_CytoCA_ApafI_to_CytoCAApafI",
            "shape": "roundrectangle"
           },
           "position": {
            "x": 245.2058144639417,
            "y": 364.26834871379253
           }
          },
          {
           "data": {
            "NodeType": "rule",
            "background_color": "#ff4c4c",
            "bipartite": 1,
            "id": "catalyze_CytoCAApafI_to_CytoCA_ApafA",
            "label": "catalyze_CytoCAApafI_to_CytoCA_ApafA",
            "name": "catalyze_CytoCAApafI_to_CytoCA_ApafA",
            "shape": "roundrectangle"
           },
           "position": {
            "x": 561.8439155132288,
            "y": 350.12990839329643
           }
          },
          {
           "data": {
            "NodeType": "rule",
            "background_color": "#ff4c4c",
            "bipartite": 1,
            "id": "convert_ApafA_C9_to_Apop",
            "label": "convert_ApafA_C9_to_Apop",
            "name": "convert_ApafA_C9_to_Apop",
            "shape": "roundrectangle"
           },
           "position": {
            "x": 990.2790767033631,
            "y": 317.3412975087034
           }
          },
          {
           "data": {
            "NodeType": "rule",
            "background_color": "#ff4c4c",
            "bipartite": 1,
            "id": "bind_Apop_C3pro_to_ApopC3pro",
            "label": "bind_Apop_C3pro_to_ApopC3pro",
            "name": "bind_Apop_C3pro_to_ApopC3pro",
            "shape": "roundrectangle"
           },
           "position": {
            "x": 1383.4488351470957,
            "y": 401.3509760487017
           }
          },
          {
           "data": {
            "NodeType": "rule",
            "background_color": "#ff4c4c",
            "bipartite": 1,
            "id": "catalyze_ApopC3pro_to_Apop_C3A",
            "label": "catalyze_ApopC3pro_to_Apop_C3A",
            "name": "catalyze_ApopC3pro_to_Apop_C3A",
            "shape": "roundrectangle"
           },
           "position": {
            "x": 1456.9025902088556,
            "y": 332.9506459625792
           }
          },
          {
           "data": {
            "NodeType": "rule",
            "background_color": "#ff4c4c",
            "bipartite": 1,
            "id": "bind_Apop_XIAP",
            "label": "bind_Apop_XIAP",
            "name": "bind_Apop_XIAP",
            "shape": "roundrectangle"
           },
           "position": {
            "x": 1218.5783804594316,
            "y": 219.6030814167722
           }
          },
          {
           "data": {
            "NodeType": "rule",
            "background_color": "#ff4c4c",
            "bipartite": 1,
            "id": "bind_SmacA_XIAP",
            "label": "bind_SmacA_XIAP",
            "name": "bind_SmacA_XIAP",
            "shape": "roundrectangle"
           },
           "position": {
            "x": 1176.020191682501,
            "y": 286.27571764317656
           }
          },
          {
           "data": {
            "NodeType": "rule",
            "background_color": "#ff4c4c",
            "bipartite": 1,
            "id": "bind_C8A_C3pro_to_C8AC3pro",
            "label": "bind_C8A_C3pro_to_C8AC3pro",
            "name": "bind_C8A_C3pro_to_C8AC3pro",
            "shape": "roundrectangle"
           },
           "position": {
            "x": 1669.1330394805518,
            "y": 544.6341419235226
           }
          },
          {
           "data": {
            "NodeType": "rule",
            "background_color": "#ff4c4c",
            "bipartite": 1,
            "id": "catalyze_C8AC3pro_to_C8A_C3A",
            "label": "catalyze_C8AC3pro_to_C8A_C3A",
            "name": "catalyze_C8AC3pro_to_C8A_C3A",
            "shape": "roundrectangle"
           },
           "position": {
            "x": 1736.0487188039606,
            "y": 476.4417648677602
           }
          },
          {
           "data": {
            "NodeType": "rule",
            "background_color": "#ff4c4c",
            "bipartite": 1,
            "id": "bind_XIAP_C3A_to_XIAPC3A",
            "label": "bind_XIAP_C3A_to_XIAPC3A",
            "name": "bind_XIAP_C3A_to_XIAPC3A",
            "shape": "roundrectangle"
           },
           "position": {
            "x": 1550.705151583397,
            "y": 274.2727071752647
           }
          },
          {
           "data": {
            "NodeType": "rule",
            "background_color": "#ff4c4c",
            "bipartite": 1,
            "id": "catalyze_XIAPC3A_to_XIAP_C3ub",
            "label": "catalyze_XIAPC3A_to_XIAP_C3ub",
            "name": "catalyze_XIAPC3A_to_XIAP_C3ub",
            "shape": "roundrectangle"
           },
           "position": {
            "x": 1319.8132771207954,
            "y": 140.5931863452586
           }
          },
          {
           "data": {
            "NodeType": "rule",
            "background_color": "#ff4c4c",
            "bipartite": 1,
            "id": "bind_C3A_PARPU_to_C3APARPU",
            "label": "bind_C3A_PARPU_to_C3APARPU",
            "name": "bind_C3A_PARPU_to_C3APARPU",
            "shape": "roundrectangle"
           },
           "position": {
            "x": 1670.7699654843343,
            "y": 215.36295799296224
           }
          },
          {
           "data": {
            "NodeType": "rule",
            "background_color": "#ff4c4c",
            "bipartite": 1,
            "id": "catalyze_C3APARPU_to_C3A_PARPC",
            "label": "catalyze_C3APARPU_to_C3A_PARPC",
            "name": "catalyze_C3APARPU_to_C3A_PARPC",
            "shape": "roundrectangle"
           },
           "position": {
            "x": 1839.4739593214927,
            "y": 269.2701688648068
           }
          },
          {
           "data": {
            "NodeType": "rule",
            "background_color": "#ff4c4c",
            "bipartite": 1,
            "id": "bind_C3A_C6pro_to_C3AC6pro",
            "label": "bind_C3A_C6pro_to_C3AC6pro",
            "name": "bind_C3A_C6pro_to_C3AC6pro",
            "shape": "roundrectangle"
           },
           "position": {
            "x": 1878.910065791432,
            "y": 340.78543785074805
           }
          },
          {
           "data": {
            "NodeType": "rule",
            "background_color": "#ff4c4c",
            "bipartite": 1,
            "id": "catalyze_C3AC6pro_to_C3A_C6A",
            "label": "catalyze_C3AC6pro_to_C3A_C6A",
            "name": "catalyze_C3AC6pro_to_C3A_C6A",
            "shape": "roundrectangle"
           },
           "position": {
            "x": 1887.2044140027067,
            "y": 413.1379133048208
           }
          },
          {
           "data": {
            "NodeType": "rule",
            "background_color": "#ff4c4c",
            "bipartite": 1,
            "id": "bind_C6A_C8pro_to_C6AC8pro",
            "label": "bind_C6A_C8pro_to_C6AC8pro",
            "name": "bind_C6A_C8pro_to_C6AC8pro",
            "shape": "roundrectangle"
           },
           "position": {
            "x": 2218.495156167467,
            "y": 446.0775920064633
           }
          },
          {
           "data": {
            "NodeType": "rule",
            "background_color": "#ff4c4c",
            "bipartite": 1,
            "id": "catalyze_C6AC8pro_to_C6A_C8A",
            "label": "catalyze_C6AC8pro_to_C6A_C8A",
            "name": "catalyze_C6AC8pro_to_C6A_C8A",
            "shape": "roundrectangle"
           },
           "position": {
            "x": 1933.799615924966,
            "y": 537.4358284385364
           }
          },
          {
           "data": {
            "NodeType": "rule",
            "background_color": "#ff4c4c",
            "bipartite": 1,
            "id": "equilibrate_BidT_to_BidM",
            "label": "equilibrate_BidT_to_BidM",
            "name": "equilibrate_BidT_to_BidM",
            "shape": "roundrectangle"
           },
           "position": {
            "x": 1492.9761461931428,
            "y": 921.4913792345783
           }
          },
          {
           "data": {
            "NodeType": "rule",
            "background_color": "#ff4c4c",
            "bipartite": 1,
            "id": "bind_BidM_BaxC_to_BidMBaxC",
            "label": "bind_BidM_BaxC_to_BidMBaxC",
            "name": "bind_BidM_BaxC_to_BidMBaxC",
            "shape": "roundrectangle"
           },
           "position": {
            "x": 1504.8227541925667,
            "y": 1056.3299516363743
           }
          },
          {
           "data": {
            "NodeType": "rule",
            "background_color": "#ff4c4c",
            "bipartite": 1,
            "id": "catalyze_BidMBaxC_to_BidM_BaxM",
            "label": "catalyze_BidMBaxC_to_BidM_BaxM",
            "name": "catalyze_BidMBaxC_to_BidM_BaxM",
            "shape": "roundrectangle"
           },
           "position": {
            "x": 1378.1887404251027,
            "y": 1124.810304344008
           }
          },
          {
           "data": {
            "NodeType": "rule",
            "background_color": "#ff4c4c",
            "bipartite": 1,
            "id": "bind_BidM_BaxM_to_BidMBaxM",
            "label": "bind_BidM_BaxM_to_BidMBaxM",
            "name": "bind_BidM_BaxM_to_BidMBaxM",
            "shape": "roundrectangle"
           },
           "position": {
            "x": 1200.0008079948336,
            "y": 1174.0755463990477
           }
          },
          {
           "data": {
            "NodeType": "rule",
            "background_color": "#ff4c4c",
            "bipartite": 1,
            "id": "catalyze_BidMBaxM_to_BidM_BaxA",
            "label": "catalyze_BidMBaxM_to_BidM_BaxA",
            "name": "catalyze_BidMBaxM_to_BidM_BaxA",
            "shape": "roundrectangle"
           },
           "position": {
            "x": 1020.954473592286,
            "y": 1045.7623541891628
           }
          },
          {
           "data": {
            "NodeType": "rule",
            "background_color": "#ff4c4c",
            "bipartite": 1,
            "id": "bind_BidM_BakM_to_BidMBakM",
            "label": "bind_BidM_BakM_to_BidMBakM",
            "name": "bind_BidM_BakM_to_BidMBakM",
            "shape": "roundrectangle"
           },
           "position": {
            "x": 1559.4270654212633,
            "y": 987.1265077817902
           }
          },
          {
           "data": {
            "NodeType": "rule",
            "background_color": "#ff4c4c",
            "bipartite": 1,
            "id": "catalyze_BidMBakM_to_BidM_BakA",
            "label": "catalyze_BidMBakM_to_BidM_BakA",
            "name": "catalyze_BidMBakM_to_BidM_BakA",
            "shape": "roundrectangle"
           },
           "position": {
            "x": 1397.0360024673928,
            "y": 876.8956409620113
           }
          },
          {
           "data": {
            "NodeType": "rule",
            "background_color": "#ff4c4c",
            "bipartite": 1,
            "id": "bind_BaxA_BaxM_to_BaxABaxM",
            "label": "bind_BaxA_BaxM_to_BaxABaxM",
            "name": "bind_BaxA_BaxM_to_BaxABaxM",
            "shape": "roundrectangle"
           },
           "position": {
            "x": 860.7087823886101,
            "y": 1083.5017367594016
           }
          },
          {
           "data": {
            "NodeType": "rule",
            "background_color": "#ff4c4c",
            "bipartite": 1,
            "id": "catalyze_BaxABaxM_to_BaxA_BaxA",
            "label": "catalyze_BaxABaxM_to_BaxA_BaxA",
            "name": "catalyze_BaxABaxM_to_BaxA_BaxA",
            "shape": "roundrectangle"
           },
           "position": {
            "x": 585.4275518202096,
            "y": 1138.1760989623995
           }
          },
          {
           "data": {
            "NodeType": "rule",
            "background_color": "#ff4c4c",
            "bipartite": 1,
            "id": "bind_BakA_BakM_to_BakABakM",
            "label": "bind_BakA_BakM_to_BakABakM",
            "name": "bind_BakA_BakM_to_BakABakM",
            "shape": "roundrectangle"
           },
           "position": {
            "x": 1495.311098107019,
            "y": 724.9426859689119
           }
          },
          {
           "data": {
            "NodeType": "rule",
            "background_color": "#ff4c4c",
            "bipartite": 1,
            "id": "catalyze_BakABakM_to_BakA_BakA",
            "label": "catalyze_BakABakM_to_BakA_BakA",
            "name": "catalyze_BakABakM_to_BakA_BakA",
            "shape": "roundrectangle"
           },
           "position": {
            "x": 1531.2436726291303,
            "y": 608.4407676223277
           }
          },
          {
           "data": {
            "NodeType": "rule",
            "background_color": "#ff4c4c",
            "bipartite": 1,
            "id": "bind_BidM_Bcl2M",
            "label": "bind_BidM_Bcl2M",
            "name": "bind_BidM_Bcl2M",
            "shape": "roundrectangle"
           },
           "position": {
            "x": 1187.4324184249188,
            "y": 991.5132733124262
           }
          },
          {
           "data": {
            "NodeType": "rule",
            "background_color": "#ff4c4c",
            "bipartite": 1,
            "id": "bind_BidM_BclxLM",
            "label": "bind_BidM_BclxLM",
            "name": "bind_BidM_BclxLM",
            "shape": "roundrectangle"
           },
           "position": {
            "x": 1075.1548719303746,
            "y": 954.7252933706184
           }
          },
          {
           "data": {
            "NodeType": "rule",
            "background_color": "#ff4c4c",
            "bipartite": 1,
            "id": "bind_BidM_Mcl1M",
            "label": "bind_BidM_Mcl1M",
            "name": "bind_BidM_Mcl1M",
            "shape": "roundrectangle"
           },
           "position": {
            "x": 1239.0197329319533,
            "y": 917.8430407403223
           }
          },
          {
           "data": {
            "NodeType": "rule",
            "background_color": "#ff4c4c",
            "bipartite": 1,
            "id": "bind_BaxA_Bcl2",
            "label": "bind_BaxA_Bcl2",
            "name": "bind_BaxA_Bcl2",
            "shape": "roundrectangle"
           },
           "position": {
            "x": 829.192430248651,
            "y": 944.1341573669122
           }
          },
          {
           "data": {
            "NodeType": "rule",
            "background_color": "#ff4c4c",
            "bipartite": 1,
            "id": "bind_BaxA_BclxLM",
            "label": "bind_BaxA_BclxLM",
            "name": "bind_BaxA_BclxLM",
            "shape": "roundrectangle"
           },
           "position": {
            "x": 744.556928472449,
            "y": 885.1945168340134
           }
          },
          {
           "data": {
            "NodeType": "rule",
            "background_color": "#ff4c4c",
            "bipartite": 1,
            "id": "bind_BakA_BclxLM",
            "label": "bind_BakA_BclxLM",
            "name": "bind_BakA_BclxLM",
            "shape": "roundrectangle"
           },
           "position": {
            "x": 1096.3671839116078,
            "y": 759.9434136933344
           }
          },
          {
           "data": {
            "NodeType": "rule",
            "background_color": "#ff4c4c",
            "bipartite": 1,
            "id": "bind_BakA_Mcl1M",
            "label": "bind_BakA_Mcl1M",
            "name": "bind_BakA_Mcl1M",
            "shape": "roundrectangle"
           },
           "position": {
            "x": 1373.1444488461339,
            "y": 781.6188769673101
           }
          },
          {
           "data": {
            "NodeType": "rule",
            "background_color": "#ff4c4c",
            "bipartite": 1,
            "id": "bind_BadM_Bcl2",
            "label": "bind_BadM_Bcl2",
            "name": "bind_BadM_Bcl2",
            "shape": "roundrectangle"
           },
           "position": {
            "x": 958.019532742604,
            "y": 793.4071283403367
           }
          },
          {
           "data": {
            "NodeType": "rule",
            "background_color": "#ff4c4c",
            "bipartite": 1,
            "id": "bind_BadM_BclxLM",
            "label": "bind_BadM_BclxLM",
            "name": "bind_BadM_BclxLM",
            "shape": "roundrectangle"
           },
           "position": {
            "x": 810.9519153606972,
            "y": 744.4369079303689
           }
          },
          {
           "data": {
            "NodeType": "rule",
            "background_color": "#ff4c4c",
            "bipartite": 1,
            "id": "bind_NoxaM_Mcl1M",
            "label": "bind_NoxaM_Mcl1M",
            "name": "bind_NoxaM_Mcl1M",
            "shape": "roundrectangle"
           },
           "position": {
            "x": 1133.7497457835327,
            "y": 886.774085222487
           }
          },
          {
           "data": {
            "NodeType": "rule",
            "background_color": "#ff4c4c",
            "bipartite": 1,
            "id": "assemble_pore_sequential_Bax_2",
            "label": "assemble_pore_sequential_Bax_2",
            "name": "assemble_pore_sequential_Bax_2",
            "shape": "roundrectangle"
           },
           "position": {
            "x": 561.6564592816063,
            "y": 1055.365024579695
           }
          },
          {
           "data": {
            "NodeType": "rule",
            "background_color": "#ff4c4c",
            "bipartite": 1,
            "id": "assemble_pore_sequential_Bax_3",
            "label": "assemble_pore_sequential_Bax_3",
            "name": "assemble_pore_sequential_Bax_3",
            "shape": "roundrectangle"
           },
           "position": {
            "x": 479.448577294391,
            "y": 992.6181346621493
           }
          },
          {
           "data": {
            "NodeType": "rule",
            "background_color": "#ff4c4c",
            "bipartite": 1,
            "id": "assemble_pore_sequential_Bax_4",
            "label": "assemble_pore_sequential_Bax_4",
            "name": "assemble_pore_sequential_Bax_4",
            "shape": "roundrectangle"
           },
           "position": {
            "x": 537.7184485065136,
            "y": 898.9532914322715
           }
          },
          {
           "data": {
            "NodeType": "rule",
            "background_color": "#ff4c4c",
            "bipartite": 1,
            "id": "assemble_pore_sequential_Bak_2",
            "label": "assemble_pore_sequential_Bak_2",
            "name": "assemble_pore_sequential_Bak_2",
            "shape": "roundrectangle"
           },
           "position": {
            "x": 1332.8017711050943,
            "y": 643.7013582376628
           }
          },
          {
           "data": {
            "NodeType": "rule",
            "background_color": "#ff4c4c",
            "bipartite": 1,
            "id": "assemble_pore_sequential_Bak_3",
            "label": "assemble_pore_sequential_Bak_3",
            "name": "assemble_pore_sequential_Bak_3",
            "shape": "roundrectangle"
           },
           "position": {
            "x": 1257.2631623864097,
            "y": 581.4637019843647
           }
          },
          {
           "data": {
            "NodeType": "rule",
            "background_color": "#ff4c4c",
            "bipartite": 1,
            "id": "assemble_pore_sequential_Bak_4",
            "label": "assemble_pore_sequential_Bak_4",
            "name": "assemble_pore_sequential_Bak_4",
            "shape": "roundrectangle"
           },
           "position": {
            "x": 1063.345933955654,
            "y": 628.5651147835217
           }
          },
          {
           "data": {
            "NodeType": "rule",
            "background_color": "#ff4c4c",
            "bipartite": 1,
            "id": "pore_transport_complex_BaxA_4_CytoCM",
            "label": "pore_transport_complex_BaxA_4_CytoCM",
            "name": "pore_transport_complex_BaxA_4_CytoCM",
            "shape": "roundrectangle"
           },
           "position": {
            "x": 458.4486151263723,
            "y": 685.7397398671517
           }
          },
          {
           "data": {
            "NodeType": "rule",
            "background_color": "#ff4c4c",
            "bipartite": 1,
            "id": "pore_transport_dissociate_BaxA_4_CytoCC",
            "label": "pore_transport_dissociate_BaxA_4_CytoCC",
            "name": "pore_transport_dissociate_BaxA_4_CytoCC",
            "shape": "roundrectangle"
           },
           "position": {
            "x": 173,
            "y": 734.652405989549
           }
          },
          {
           "data": {
            "NodeType": "rule",
            "background_color": "#ff4c4c",
            "bipartite": 1,
            "id": "pore_transport_complex_BaxA_4_SmacM",
            "label": "pore_transport_complex_BaxA_4_SmacM",
            "name": "pore_transport_complex_BaxA_4_SmacM",
            "shape": "roundrectangle"
           },
           "position": {
            "x": 589.1066062625124,
            "y": 822.9179266277622
           }
          },
          {
           "data": {
            "NodeType": "rule",
            "background_color": "#ff4c4c",
            "bipartite": 1,
            "id": "pore_transport_dissociate_BaxA_4_SmacC",
            "label": "pore_transport_dissociate_BaxA_4_SmacC",
            "name": "pore_transport_dissociate_BaxA_4_SmacC",
            "shape": "roundrectangle"
           },
           "position": {
            "x": 546.8936923227784,
            "y": 643.8891530137428
           }
          },
          {
           "data": {
            "NodeType": "rule",
            "background_color": "#ff4c4c",
            "bipartite": 1,
            "id": "pore_transport_complex_BakA_4_CytoCM",
            "label": "pore_transport_complex_BakA_4_CytoCM",
            "name": "pore_transport_complex_BakA_4_CytoCM",
            "shape": "roundrectangle"
           },
           "position": {
            "x": 957.6895680916548,
            "y": 569.8013716617596
           }
          },
          {
           "data": {
            "NodeType": "rule",
            "background_color": "#ff4c4c",
            "bipartite": 1,
            "id": "pore_transport_dissociate_BakA_4_CytoCC",
            "label": "pore_transport_dissociate_BakA_4_CytoCC",
            "name": "pore_transport_dissociate_BakA_4_CytoCC",
            "shape": "roundrectangle"
           },
           "position": {
            "x": 520.0786948924058,
            "y": 551.7861161250614
           }
          },
          {
           "data": {
            "NodeType": "rule",
            "background_color": "#ff4c4c",
            "bipartite": 1,
            "id": "pore_transport_complex_BakA_4_SmacM",
            "label": "pore_transport_complex_BakA_4_SmacM",
            "name": "pore_transport_complex_BakA_4_SmacM",
            "shape": "roundrectangle"
           },
           "position": {
            "x": 720.1906886264023,
            "y": 604.3632008438574
           }
          },
          {
           "data": {
            "NodeType": "rule",
            "background_color": "#ff4c4c",
            "bipartite": 1,
            "id": "pore_transport_dissociate_BakA_4_SmacC",
            "label": "pore_transport_dissociate_BakA_4_SmacC",
            "name": "pore_transport_dissociate_BakA_4_SmacC",
            "shape": "roundrectangle"
           },
           "position": {
            "x": 957.7381480488827,
            "y": 463.32087201573086
           }
          }
         ]
        }
       },
       "format": "cyjs",
       "layout": "IPY_MODEL_11864ac160f04e7eb86b438676486771",
       "layout_name": "cose-bilkent",
       "type_of_viz": "sp_rules_view",
       "visual_style": null
      }
     },
     "1df474fc55d24cfcb1d08881398af341": {
      "model_module": "@jupyter-widgets/base",
      "model_module_version": "1.1.0",
      "model_name": "LayoutModel",
      "state": {}
     },
     "2ae4d7fb98844b36af8990c498d58be7": {
      "model_module": "@jupyter-widgets/base",
      "model_module_version": "1.1.0",
      "model_name": "LayoutModel",
      "state": {}
     },
     "2e951625716a48e39af9bec19380f2ac": {
      "model_module": "@jupyter-widgets/base",
      "model_module_version": "1.1.0",
      "model_name": "LayoutModel",
      "state": {}
     },
     "4389fca024f94100864bfe0c9f679bc2": {
      "model_module": "viz-pysb-widget",
      "model_module_version": "^0.1.0",
      "model_name": "CytoscapeModel",
      "state": {
       "_model_module_version": "^0.1.0",
       "_view_module_version": "^0.1.0",
       "background": "#FFFFFF",
       "data": {
        "data": {
         "graph": {
          "rankdir": "LR"
         },
         "name": "pysbjupyter.pysb_models.lopez_embedded",
         "paths": []
        },
        "elements": {
         "edges": [
          {
           "data": {
            "arrowhead": "normal",
            "id": "dc250887-a739-4f90-90cd-04c5c6351eb6",
            "source": "s0",
            "source_arrow_fill": "hollow",
            "source_arrow_shape": "diamond",
            "target": "s21",
            "target_arrow_shape": "triangle"
           }
          },
          {
           "data": {
            "arrowhead": "normal",
            "id": "321f4ea8-8348-4cbf-8867-b85646b0fc15",
            "source": "s1",
            "source_arrow_fill": "hollow",
            "source_arrow_shape": "diamond",
            "target": "s21",
            "target_arrow_shape": "triangle"
           }
          },
          {
           "data": {
            "arrowhead": "normal",
            "id": "481aa84b-3b81-4016-a90c-5e825e94bc2d",
            "source": "s2",
            "source_arrow_fill": "hollow",
            "source_arrow_shape": "diamond",
            "target": "s27",
            "target_arrow_shape": "triangle"
           }
          },
          {
           "data": {
            "arrowhead": "normal",
            "id": "105c1fa6-4817-436b-9b8a-78991a650cc1",
            "source": "s3",
            "source_arrow_fill": "hollow",
            "source_arrow_shape": "diamond",
            "target": "s26",
            "target_arrow_shape": "triangle"
           }
          },
          {
           "data": {
            "arrowhead": "normal",
            "id": "ad6816f0-3a4b-491a-b829-01f106791ac1",
            "source": "s3",
            "source_arrow_fill": "hollow",
            "source_arrow_shape": "diamond",
            "target": "s46",
            "target_arrow_shape": "triangle"
           }
          },
          {
           "data": {
            "arrowhead": "normal",
            "id": "08e7b5f1-448c-4431-a7d0-04b057d565e2",
            "source": "s4",
            "source_arrow_fill": "hollow",
            "source_arrow_shape": "diamond",
            "target": "s30",
            "target_arrow_shape": "triangle"
           }
          },
          {
           "data": {
            "arrowhead": "normal",
            "id": "d6e83cd6-2ff7-45db-894e-46281ddf7291",
            "source": "s5",
            "source_arrow_fill": "hollow",
            "source_arrow_shape": "diamond",
            "target": "s71",
            "target_arrow_shape": "triangle"
           }
          },
          {
           "data": {
            "arrowhead": "normal",
            "id": "bea4dacd-6504-4fec-adb2-1b0ba290ceeb",
            "source": "s6",
            "source_arrow_fill": "hollow",
            "source_arrow_shape": "diamond",
            "target": "s31",
            "target_arrow_shape": "triangle"
           }
          },
          {
           "data": {
            "arrowhead": "normal",
            "id": "dfb719e2-68af-41f5-add9-8cb697a9ebb7",
            "source": "s6",
            "source_arrow_fill": "hollow",
            "source_arrow_shape": "diamond",
            "target": "s75",
            "target_arrow_shape": "triangle"
           }
          },
          {
           "data": {
            "arrowhead": "normal",
            "id": "66a5377f-2c61-44f9-ba22-3f6a39c5a3b5",
            "source": "s7",
            "source_arrow_fill": "hollow",
            "source_arrow_shape": "diamond",
            "target": "s36",
            "target_arrow_shape": "triangle"
           }
          },
          {
           "data": {
            "arrowhead": "normal",
            "id": "567ab297-f10b-421d-8637-dc90b479201f",
            "source": "s8",
            "source_arrow_fill": "hollow",
            "source_arrow_shape": "diamond",
            "target": "s74",
            "target_arrow_shape": "triangle"
           }
          },
          {
           "data": {
            "arrowhead": "normal",
            "id": "de79fc6e-6c85-446f-84b7-532f93c3a632",
            "source": "s9",
            "source_arrow_fill": "hollow",
            "source_arrow_shape": "diamond",
            "target": "s35",
            "target_arrow_shape": "triangle"
           }
          },
          {
           "data": {
            "arrowhead": "normal",
            "id": "35951e02-2441-4860-a294-a940dbcfa522",
            "source": "s10",
            "source_arrow_fill": "hollow",
            "source_arrow_shape": "diamond",
            "target": "s34",
            "target_arrow_shape": "triangle"
           }
          },
          {
           "data": {
            "arrowhead": "normal",
            "id": "3f50c9f7-463e-40f4-a75e-00fc9fbc3f1d",
            "source": "s10",
            "source_arrow_fill": "hollow",
            "source_arrow_shape": "diamond",
            "target": "s72",
            "target_arrow_shape": "triangle"
           }
          },
          {
           "data": {
            "arrowhead": "normal",
            "id": "5a433c01-909d-4733-894e-e3173f0f02a8",
            "source": "s10",
            "source_arrow_fill": "hollow",
            "source_arrow_shape": "diamond",
            "target": "s76",
            "target_arrow_shape": "triangle"
           }
          },
          {
           "data": {
            "arrowhead": "normal",
            "id": "e84c3a5b-9042-4733-afbf-531cdb40e2cc",
            "source": "s11",
            "source_arrow_fill": "hollow",
            "source_arrow_shape": "diamond",
            "target": "s29",
            "target_arrow_shape": "triangle"
           }
          },
          {
           "data": {
            "arrowhead": "normal",
            "id": "18b64fc9-abb3-47b4-8df9-ad0c0ec5cd6e",
            "source": "s12",
            "source_arrow_fill": "hollow",
            "source_arrow_shape": "diamond",
            "target": "s41",
            "target_arrow_shape": "triangle"
           }
          },
          {
           "data": {
            "arrowhead": "normal",
            "id": "00c7384e-a2a6-470b-90fb-f6481213207a",
            "source": "s13",
            "source_arrow_fill": "hollow",
            "source_arrow_shape": "diamond",
            "target": "s42",
            "target_arrow_shape": "triangle"
           }
          },
          {
           "data": {
            "arrowhead": "normal",
            "id": "752e4ef8-7117-4bdd-945c-562cb043fb43",
            "source": "s13",
            "source_arrow_fill": "hollow",
            "source_arrow_shape": "diamond",
            "target": "s50",
            "target_arrow_shape": "triangle"
           }
          },
          {
           "data": {
            "arrowhead": "normal",
            "id": "28cce8a8-acb7-4fe7-8b6e-87e193e9026f",
            "source": "s14",
            "source_arrow_fill": "hollow",
            "source_arrow_shape": "diamond",
            "target": "s22",
            "target_arrow_shape": "triangle"
           }
          },
          {
           "data": {
            "arrowhead": "normal",
            "id": "b8e934b3-c411-4c33-ac39-87c07fca1898",
            "source": "s14",
            "source_arrow_fill": "hollow",
            "source_arrow_shape": "diamond",
            "target": "s43",
            "target_arrow_shape": "triangle"
           }
          },
          {
           "data": {
            "arrowhead": "normal",
            "id": "4a51bcfc-f1bc-4c45-9d4e-7e18b153e509",
            "source": "s14",
            "source_arrow_fill": "hollow",
            "source_arrow_shape": "diamond",
            "target": "s57",
            "target_arrow_shape": "triangle"
           }
          },
          {
           "data": {
            "arrowhead": "normal",
            "id": "134b4956-5855-49ad-a82f-35710e61bde6",
            "source": "s15",
            "source_arrow_fill": "hollow",
            "source_arrow_shape": "diamond",
            "target": "s23",
            "target_arrow_shape": "triangle"
           }
          },
          {
           "data": {
            "arrowhead": "normal",
            "id": "fe2ab854-cf53-457f-b64b-4f01b2a47562",
            "source": "s15",
            "source_arrow_fill": "hollow",
            "source_arrow_shape": "diamond",
            "target": "s44",
            "target_arrow_shape": "triangle"
           }
          },
          {
           "data": {
            "arrowhead": "normal",
            "id": "b085e1e8-8d3d-4dec-9120-27c7a46751fc",
            "source": "s15",
            "source_arrow_fill": "hollow",
            "source_arrow_shape": "diamond",
            "target": "s51",
            "target_arrow_shape": "triangle"
           }
          },
          {
           "data": {
            "arrowhead": "normal",
            "id": "52765284-ce2f-4bd6-a90f-dae7698ab794",
            "source": "s15",
            "source_arrow_fill": "hollow",
            "source_arrow_shape": "diamond",
            "target": "s58",
            "target_arrow_shape": "triangle"
           }
          },
          {
           "data": {
            "arrowhead": "normal",
            "id": "8d4b330f-b21f-4567-86cf-edfc279cdc10",
            "source": "s16",
            "source_arrow_fill": "hollow",
            "source_arrow_shape": "diamond",
            "target": "s24",
            "target_arrow_shape": "triangle"
           }
          },
          {
           "data": {
            "arrowhead": "normal",
            "id": "ea7e1c2b-bd98-4c95-b84d-12317f1aa663",
            "source": "s16",
            "source_arrow_fill": "hollow",
            "source_arrow_shape": "diamond",
            "target": "s45",
            "target_arrow_shape": "triangle"
           }
          },
          {
           "data": {
            "arrowhead": "normal",
            "id": "86273aa9-2540-40d3-89d8-4f1dc42b3198",
            "source": "s16",
            "source_arrow_fill": "hollow",
            "source_arrow_shape": "diamond",
            "target": "s52",
            "target_arrow_shape": "triangle"
           }
          },
          {
           "data": {
            "arrowhead": "normal",
            "id": "0f194002-a268-48a4-a3ac-883b24264506",
            "source": "s17",
            "source_arrow_fill": "hollow",
            "source_arrow_shape": "diamond",
            "target": "s22",
            "target_arrow_shape": "triangle"
           }
          },
          {
           "data": {
            "arrowhead": "normal",
            "id": "60869d58-7501-4b46-b296-b66d6a083095",
            "source": "s17",
            "source_arrow_fill": "hollow",
            "source_arrow_shape": "diamond",
            "target": "s23",
            "target_arrow_shape": "triangle"
           }
          },
          {
           "data": {
            "arrowhead": "normal",
            "id": "0a87d5b7-5eb8-4357-9535-7b3622456502",
            "source": "s18",
            "source_arrow_fill": "hollow",
            "source_arrow_shape": "diamond",
            "target": "s24",
            "target_arrow_shape": "triangle"
           }
          },
          {
           "data": {
            "arrowhead": "normal",
            "id": "e4d937b3-77ee-4a83-a192-c35f607edd4e",
            "source": "s19",
            "source_arrow_fill": "hollow",
            "source_arrow_shape": "diamond",
            "target": "s62",
            "target_arrow_shape": "triangle"
           }
          },
          {
           "data": {
            "arrowhead": "normal",
            "id": "5fc6361e-4180-4838-963a-32dbc22688f8",
            "source": "s19",
            "source_arrow_fill": "hollow",
            "source_arrow_shape": "diamond",
            "target": "s69",
            "target_arrow_shape": "triangle"
           }
          },
          {
           "data": {
            "arrowhead": "normal",
            "id": "f288afc4-bc75-4709-a3fc-9b552f7007f2",
            "source": "s20",
            "source_arrow_fill": "hollow",
            "source_arrow_shape": "diamond",
            "target": "s63",
            "target_arrow_shape": "triangle"
           }
          },
          {
           "data": {
            "arrowhead": "normal",
            "id": "ae42546f-bbd2-4247-9ebe-1fdfa71fc455",
            "source": "s20",
            "source_arrow_fill": "hollow",
            "source_arrow_shape": "diamond",
            "target": "s70",
            "target_arrow_shape": "triangle"
           }
          },
          {
           "data": {
            "arrowhead": "normal",
            "id": "46b4a65a-3f09-45cd-b08b-405e7f49269e",
            "source": "s21",
            "source_arrow_fill": "filled",
            "source_arrow_shape": "none",
            "target": "s25",
            "target_arrow_shape": "triangle"
           }
          },
          {
           "data": {
            "arrowhead": "normal",
            "id": "6bab41ab-09e6-484c-a2c2-4fe51c8c63dc",
            "source": "s25",
            "source_arrow_fill": "hollow",
            "source_arrow_shape": "diamond",
            "target": "s26",
            "target_arrow_shape": "triangle"
           }
          },
          {
           "data": {
            "arrowhead": "normal",
            "id": "60b9df4a-3f54-4c18-8897-88455a7cc3ab",
            "source": "s25",
            "source_arrow_fill": "hollow",
            "source_arrow_shape": "diamond",
            "target": "s27",
            "target_arrow_shape": "triangle"
           }
          },
          {
           "data": {
            "arrowhead": "normal",
            "id": "58cb8bec-4567-4752-ac40-6c02aad0123b",
            "source": "s26",
            "source_arrow_fill": "filled",
            "source_arrow_shape": "none",
            "target": "s25",
            "target_arrow_shape": "triangle"
           }
          },
          {
           "data": {
            "arrowhead": "normal",
            "id": "c178c0dd-97f7-4727-ae49-0c72b4ff71a8",
            "source": "s26",
            "source_arrow_fill": "filled",
            "source_arrow_shape": "none",
            "target": "s28",
            "target_arrow_shape": "triangle"
           }
          },
          {
           "data": {
            "arrowhead": "normal",
            "id": "ac561bd8-4fa6-406b-b8cf-c405d52918a8",
            "source": "s28",
            "source_arrow_fill": "hollow",
            "source_arrow_shape": "diamond",
            "target": "s29",
            "target_arrow_shape": "triangle"
           }
          },
          {
           "data": {
            "arrowhead": "normal",
            "id": "4235bdee-f8e2-4133-8564-8a18b7766bf6",
            "source": "s28",
            "source_arrow_fill": "hollow",
            "source_arrow_shape": "diamond",
            "target": "s30",
            "target_arrow_shape": "triangle"
           }
          },
          {
           "data": {
            "arrowhead": "normal",
            "id": "6e5a32a0-5db4-41e0-a3cd-e59533b74a6a",
            "source": "s28",
            "source_arrow_fill": "hollow",
            "source_arrow_shape": "diamond",
            "target": "s31",
            "target_arrow_shape": "triangle"
           }
          },
          {
           "data": {
            "arrowhead": "normal",
            "id": "c4ad98cc-9e3d-4716-b27d-639a33c3e34d",
            "source": "s29",
            "source_arrow_fill": "filled",
            "source_arrow_shape": "none",
            "target": "s32",
            "target_arrow_shape": "triangle"
           }
          },
          {
           "data": {
            "arrowhead": "normal",
            "id": "8071fc03-d072-451b-a808-215877ba24cd",
            "source": "s29",
            "source_arrow_fill": "filled",
            "source_arrow_shape": "none",
            "target": "s28",
            "target_arrow_shape": "triangle"
           }
          },
          {
           "data": {
            "arrowhead": "normal",
            "id": "f64bd3e8-352c-401a-8805-504ff1461836",
            "source": "s31",
            "source_arrow_fill": "filled",
            "source_arrow_shape": "none",
            "target": "s33",
            "target_arrow_shape": "triangle"
           }
          },
          {
           "data": {
            "arrowhead": "normal",
            "id": "7b86ea79-b138-443a-a70e-803495bd904d",
            "source": "s31",
            "source_arrow_fill": "filled",
            "source_arrow_shape": "none",
            "target": "s28",
            "target_arrow_shape": "triangle"
           }
          },
          {
           "data": {
            "arrowhead": "normal",
            "id": "5a04bf94-a3bd-4cf4-80c7-b3439c71c83e",
            "source": "s32",
            "source_arrow_fill": "hollow",
            "source_arrow_shape": "diamond",
            "target": "s37",
            "target_arrow_shape": "triangle"
           }
          },
          {
           "data": {
            "arrowhead": "normal",
            "id": "d63c8ee6-b417-43ca-b53c-9c485c4ad753",
            "source": "s33",
            "source_arrow_fill": "hollow",
            "source_arrow_shape": "diamond",
            "target": "s34",
            "target_arrow_shape": "triangle"
           }
          },
          {
           "data": {
            "arrowhead": "normal",
            "id": "e286f30d-48bd-4488-a04a-a6f7c83d959a",
            "source": "s33",
            "source_arrow_fill": "hollow",
            "source_arrow_shape": "diamond",
            "target": "s35",
            "target_arrow_shape": "triangle"
           }
          },
          {
           "data": {
            "arrowhead": "normal",
            "id": "a2b21122-c43c-4eee-ab02-434e95646b9a",
            "source": "s33",
            "source_arrow_fill": "hollow",
            "source_arrow_shape": "diamond",
            "target": "s36",
            "target_arrow_shape": "triangle"
           }
          },
          {
           "data": {
            "arrowhead": "normal",
            "id": "d46acda2-1867-472c-9ca7-41e5af1efe0d",
            "source": "s34",
            "source_arrow_fill": "filled",
            "source_arrow_shape": "none",
            "target": "s10",
            "target_arrow_shape": "triangle"
           }
          },
          {
           "data": {
            "arrowhead": "normal",
            "id": "c703c213-c06c-4034-a0ec-0b105b7e988b",
            "source": "s34",
            "source_arrow_fill": "filled",
            "source_arrow_shape": "none",
            "target": "s38",
            "target_arrow_shape": "triangle"
           }
          },
          {
           "data": {
            "arrowhead": "normal",
            "id": "665bc06f-6d6b-4111-80fc-603f726c4c67",
            "source": "s35",
            "source_arrow_fill": "filled",
            "source_arrow_shape": "none",
            "target": "s33",
            "target_arrow_shape": "triangle"
           }
          },
          {
           "data": {
            "arrowhead": "normal",
            "id": "2c4eebe5-c679-401e-9f9b-63b4c09e3463",
            "source": "s35",
            "source_arrow_fill": "filled",
            "source_arrow_shape": "none",
            "target": "s39",
            "target_arrow_shape": "triangle"
           }
          },
          {
           "data": {
            "arrowhead": "normal",
            "id": "30b51dd2-5088-4eed-b3d2-3229193436b2",
            "source": "s36",
            "source_arrow_fill": "filled",
            "source_arrow_shape": "none",
            "target": "s40",
            "target_arrow_shape": "triangle"
           }
          },
          {
           "data": {
            "arrowhead": "normal",
            "id": "080f211e-cbc0-4c4f-ae3f-69d663a0c37b",
            "source": "s36",
            "source_arrow_fill": "filled",
            "source_arrow_shape": "none",
            "target": "s33",
            "target_arrow_shape": "triangle"
           }
          },
          {
           "data": {
            "arrowhead": "normal",
            "id": "e55d3385-8782-4020-9fa7-56f652dac939",
            "source": "s37",
            "source_arrow_fill": "hollow",
            "source_arrow_shape": "diamond",
            "target": "s41",
            "target_arrow_shape": "triangle"
           }
          },
          {
           "data": {
            "arrowhead": "normal",
            "id": "506d7b75-a77b-4e1e-957b-164ba4ad1083",
            "source": "s37",
            "source_arrow_fill": "hollow",
            "source_arrow_shape": "diamond",
            "target": "s42",
            "target_arrow_shape": "triangle"
           }
          },
          {
           "data": {
            "arrowhead": "normal",
            "id": "b99f2080-6e90-4502-857f-5b4a8521d9d0",
            "source": "s37",
            "source_arrow_fill": "hollow",
            "source_arrow_shape": "diamond",
            "target": "s43",
            "target_arrow_shape": "triangle"
           }
          },
          {
           "data": {
            "arrowhead": "normal",
            "id": "a9c2cb39-75ab-40bc-b65c-2b9638ba687b",
            "source": "s37",
            "source_arrow_fill": "hollow",
            "source_arrow_shape": "diamond",
            "target": "s44",
            "target_arrow_shape": "triangle"
           }
          },
          {
           "data": {
            "arrowhead": "normal",
            "id": "ea880d59-cc36-42d2-88e5-24382d04f300",
            "source": "s37",
            "source_arrow_fill": "hollow",
            "source_arrow_shape": "diamond",
            "target": "s45",
            "target_arrow_shape": "triangle"
           }
          },
          {
           "data": {
            "arrowhead": "normal",
            "id": "a1038720-c563-414e-b7e6-1dbea8ce4c6d",
            "source": "s37",
            "source_arrow_fill": "hollow",
            "source_arrow_shape": "diamond",
            "target": "s49",
            "target_arrow_shape": "triangle"
           }
          },
          {
           "data": {
            "arrowhead": "normal",
            "id": "d6909a56-b748-4f69-933c-c26ea08887ac",
            "source": "s40",
            "source_arrow_fill": "hollow",
            "source_arrow_shape": "diamond",
            "target": "s46",
            "target_arrow_shape": "triangle"
           }
          },
          {
           "data": {
            "arrowhead": "normal",
            "id": "fe089b66-f32f-4702-92ec-281fee59f311",
            "source": "s41",
            "source_arrow_fill": "filled",
            "source_arrow_shape": "none",
            "target": "s37",
            "target_arrow_shape": "triangle"
           }
          },
          {
           "data": {
            "arrowhead": "normal",
            "id": "c9a6f029-c6e4-4e99-bcd5-8f0332a5fbe8",
            "source": "s41",
            "source_arrow_fill": "filled",
            "source_arrow_shape": "none",
            "target": "s47",
            "target_arrow_shape": "triangle"
           }
          },
          {
           "data": {
            "arrowhead": "normal",
            "id": "9bb0c1ad-b313-41ad-a912-75ad4b37b5c0",
            "source": "s42",
            "source_arrow_fill": "filled",
            "source_arrow_shape": "none",
            "target": "s48",
            "target_arrow_shape": "triangle"
           }
          },
          {
           "data": {
            "arrowhead": "normal",
            "id": "cf6fc385-5236-4eb9-bf5f-8b72e43de530",
            "source": "s42",
            "source_arrow_fill": "filled",
            "source_arrow_shape": "none",
            "target": "s37",
            "target_arrow_shape": "triangle"
           }
          },
          {
           "data": {
            "arrowhead": "normal",
            "id": "4075b6ce-58d6-467d-a347-43ffad3c9018",
            "source": "s46",
            "source_arrow_fill": "filled",
            "source_arrow_shape": "none",
            "target": "s40",
            "target_arrow_shape": "triangle"
           }
          },
          {
           "data": {
            "arrowhead": "normal",
            "id": "f5e9f06a-37f1-4edf-bacf-8f62e67b7baf",
            "source": "s46",
            "source_arrow_fill": "filled",
            "source_arrow_shape": "none",
            "target": "s28",
            "target_arrow_shape": "triangle"
           }
          },
          {
           "data": {
            "arrowhead": "normal",
            "id": "1e39b4fa-ba44-45bf-b8db-05225bb4c2fa",
            "source": "s47",
            "source_arrow_fill": "hollow",
            "source_arrow_shape": "diamond",
            "target": "s49",
            "target_arrow_shape": "triangle"
           }
          },
          {
           "data": {
            "arrowhead": "normal",
            "id": "1b8757fe-ff17-4940-b148-237c830f4b61",
            "source": "s47",
            "source_arrow_fill": "hollow",
            "source_arrow_shape": "diamond",
            "target": "s56",
            "target_arrow_shape": "triangle"
           }
          },
          {
           "data": {
            "arrowhead": "normal",
            "id": "0a4c5ee1-71f0-401f-bd36-8ca9d4f37420",
            "source": "s48",
            "source_arrow_fill": "hollow",
            "source_arrow_shape": "diamond",
            "target": "s50",
            "target_arrow_shape": "triangle"
           }
          },
          {
           "data": {
            "arrowhead": "normal",
            "id": "fb682920-b93d-498e-853b-f9704a2deb60",
            "source": "s48",
            "source_arrow_fill": "hollow",
            "source_arrow_shape": "diamond",
            "target": "s51",
            "target_arrow_shape": "triangle"
           }
          },
          {
           "data": {
            "arrowhead": "normal",
            "id": "38934617-23e1-4726-b73a-51803b933123",
            "source": "s48",
            "source_arrow_fill": "hollow",
            "source_arrow_shape": "diamond",
            "target": "s52",
            "target_arrow_shape": "triangle"
           }
          },
          {
           "data": {
            "arrowhead": "normal",
            "id": "a6b3eb33-3979-45e1-b1d7-074533712056",
            "source": "s48",
            "source_arrow_fill": "hollow",
            "source_arrow_shape": "diamond",
            "target": "s53",
            "target_arrow_shape": "triangle"
           }
          },
          {
           "data": {
            "arrowhead": "normal",
            "id": "1a5c008a-a69d-4825-bdd5-b78116c4c906",
            "source": "s48",
            "source_arrow_fill": "hollow",
            "source_arrow_shape": "diamond",
            "target": "s55",
            "target_arrow_shape": "triangle"
           }
          },
          {
           "data": {
            "arrowhead": "normal",
            "id": "aaa0629c-ba90-4adf-8368-caa9215d9207",
            "source": "s48",
            "source_arrow_fill": "hollow",
            "source_arrow_shape": "diamond",
            "target": "s60",
            "target_arrow_shape": "triangle"
           }
          },
          {
           "data": {
            "arrowhead": "normal",
            "id": "b1572c41-eb22-41a6-9ab1-06f091052681",
            "source": "s49",
            "source_arrow_fill": "filled",
            "source_arrow_shape": "none",
            "target": "s37",
            "target_arrow_shape": "triangle"
           }
          },
          {
           "data": {
            "arrowhead": "normal",
            "id": "2debf833-2f7e-4e82-81f9-a6e7497e25b7",
            "source": "s49",
            "source_arrow_fill": "filled",
            "source_arrow_shape": "none",
            "target": "s54",
            "target_arrow_shape": "triangle"
           }
          },
          {
           "data": {
            "arrowhead": "normal",
            "id": "220ec3ec-e803-410c-a707-867e468fef77",
            "source": "s50",
            "source_arrow_fill": "filled",
            "source_arrow_shape": "none",
            "target": "s48",
            "target_arrow_shape": "triangle"
           }
          },
          {
           "data": {
            "arrowhead": "normal",
            "id": "310ed2e4-4da5-4ae1-9d77-e19d1d003b11",
            "source": "s53",
            "source_arrow_fill": "hollow",
            "source_arrow_shape": "diamond",
            "target": "s55",
            "target_arrow_shape": "triangle"
           }
          },
          {
           "data": {
            "arrowhead": "normal",
            "id": "937e1e66-65d5-4ee2-be3d-9c8ace2d3676",
            "source": "s54",
            "source_arrow_fill": "hollow",
            "source_arrow_shape": "diamond",
            "target": "s56",
            "target_arrow_shape": "triangle"
           }
          },
          {
           "data": {
            "arrowhead": "normal",
            "id": "d6e36bb9-9e4f-43ef-9a68-ef643f2c54dc",
            "source": "s54",
            "source_arrow_fill": "hollow",
            "source_arrow_shape": "diamond",
            "target": "s57",
            "target_arrow_shape": "triangle"
           }
          },
          {
           "data": {
            "arrowhead": "normal",
            "id": "000e0abf-b38d-4552-950a-642d6ac0e962",
            "source": "s54",
            "source_arrow_fill": "hollow",
            "source_arrow_shape": "diamond",
            "target": "s58",
            "target_arrow_shape": "triangle"
           }
          },
          {
           "data": {
            "arrowhead": "normal",
            "id": "6d82bece-ff93-402d-8d14-ee6e0dac28be",
            "source": "s54",
            "source_arrow_fill": "hollow",
            "source_arrow_shape": "diamond",
            "target": "s59",
            "target_arrow_shape": "triangle"
           }
          },
          {
           "data": {
            "arrowhead": "normal",
            "id": "888efbb6-8d76-4b1d-8d6c-f2e5d0179718",
            "source": "s54",
            "source_arrow_fill": "hollow",
            "source_arrow_shape": "diamond",
            "target": "s61",
            "target_arrow_shape": "triangle"
           }
          },
          {
           "data": {
            "arrowhead": "normal",
            "id": "6c9337c5-9f58-4019-a72e-8f488eb4dd01",
            "source": "s54",
            "source_arrow_fill": "hollow",
            "source_arrow_shape": "diamond",
            "target": "s64",
            "target_arrow_shape": "triangle"
           }
          },
          {
           "data": {
            "arrowhead": "normal",
            "id": "7072da3e-d28e-4046-8c06-7c2298582448",
            "source": "s55",
            "source_arrow_fill": "hollow",
            "source_arrow_shape": "diamond",
            "target": "s60",
            "target_arrow_shape": "triangle"
           }
          },
          {
           "data": {
            "arrowhead": "normal",
            "id": "1efb82a3-6130-4bf6-89cb-decbce4a4af9",
            "source": "s56",
            "source_arrow_fill": "filled",
            "source_arrow_shape": "none",
            "target": "s54",
            "target_arrow_shape": "triangle"
           }
          },
          {
           "data": {
            "arrowhead": "normal",
            "id": "53e0ab72-de76-4456-b45e-0d1a07bde2f5",
            "source": "s59",
            "source_arrow_fill": "hollow",
            "source_arrow_shape": "diamond",
            "target": "s61",
            "target_arrow_shape": "triangle"
           }
          },
          {
           "data": {
            "arrowhead": "normal",
            "id": "4ace2ecc-3c3a-4822-abdb-2fffd4192de8",
            "source": "s60",
            "source_arrow_fill": "hollow",
            "source_arrow_shape": "diamond",
            "target": "s62",
            "target_arrow_shape": "triangle"
           }
          },
          {
           "data": {
            "arrowhead": "normal",
            "id": "c98ce5d0-8514-4b72-9b4e-c47789f5d169",
            "source": "s60",
            "source_arrow_fill": "hollow",
            "source_arrow_shape": "diamond",
            "target": "s63",
            "target_arrow_shape": "triangle"
           }
          },
          {
           "data": {
            "arrowhead": "normal",
            "id": "fee6ae44-ee9b-4684-8fa9-5ecf64163d2a",
            "source": "s61",
            "source_arrow_fill": "hollow",
            "source_arrow_shape": "diamond",
            "target": "s64",
            "target_arrow_shape": "triangle"
           }
          },
          {
           "data": {
            "arrowhead": "normal",
            "id": "23ac9e6d-fdac-441f-a521-af01f7e863ad",
            "source": "s62",
            "source_arrow_fill": "filled",
            "source_arrow_shape": "none",
            "target": "s65",
            "target_arrow_shape": "triangle"
           }
          },
          {
           "data": {
            "arrowhead": "normal",
            "id": "241ee395-e681-457e-b4e7-4522b1892826",
            "source": "s62",
            "source_arrow_fill": "filled",
            "source_arrow_shape": "none",
            "target": "s60",
            "target_arrow_shape": "triangle"
           }
          },
          {
           "data": {
            "arrowhead": "normal",
            "id": "6ad61053-508a-4b7c-997e-9c684dd33815",
            "source": "s63",
            "source_arrow_fill": "filled",
            "source_arrow_shape": "none",
            "target": "s66",
            "target_arrow_shape": "triangle"
           }
          },
          {
           "data": {
            "arrowhead": "normal",
            "id": "75f8f8d3-67ad-4ad6-9b3b-285b8bfe15f7",
            "source": "s63",
            "source_arrow_fill": "filled",
            "source_arrow_shape": "none",
            "target": "s60",
            "target_arrow_shape": "triangle"
           }
          },
          {
           "data": {
            "arrowhead": "normal",
            "id": "2d4ba92e-a69e-44c1-98a6-bbcffc827868",
            "source": "s64",
            "source_arrow_fill": "hollow",
            "source_arrow_shape": "diamond",
            "target": "s69",
            "target_arrow_shape": "triangle"
           }
          },
          {
           "data": {
            "arrowhead": "normal",
            "id": "e2fac495-b9cb-404c-ac17-a8748a363b35",
            "source": "s64",
            "source_arrow_fill": "hollow",
            "source_arrow_shape": "diamond",
            "target": "s70",
            "target_arrow_shape": "triangle"
           }
          },
          {
           "data": {
            "arrowhead": "normal",
            "id": "7283c8ca-607b-4f09-8548-6bf60c769dfa",
            "source": "s65",
            "source_arrow_fill": "hollow",
            "source_arrow_shape": "diamond",
            "target": "s68",
            "target_arrow_shape": "triangle"
           }
          },
          {
           "data": {
            "arrowhead": "normal",
            "id": "4338a76a-8f08-46ae-a5c4-cfda8f5bd3fe",
            "source": "s66",
            "source_arrow_fill": "hollow",
            "source_arrow_shape": "diamond",
            "target": "s67",
            "target_arrow_shape": "triangle"
           }
          },
          {
           "data": {
            "arrowhead": "normal",
            "id": "73b7e34c-7b28-4a9f-be8c-1766fcd97b1d",
            "source": "s67",
            "source_arrow_fill": "hollow",
            "source_arrow_shape": "diamond",
            "target": "s72",
            "target_arrow_shape": "triangle"
           }
          },
          {
           "data": {
            "arrowhead": "normal",
            "id": "5164556f-7eb0-4ad3-a10c-28ece574d69d",
            "source": "s68",
            "source_arrow_fill": "hollow",
            "source_arrow_shape": "diamond",
            "target": "s71",
            "target_arrow_shape": "triangle"
           }
          },
          {
           "data": {
            "arrowhead": "normal",
            "id": "68231851-ec58-43a1-975e-39526fa1f5bd",
            "source": "s69",
            "source_arrow_fill": "filled",
            "source_arrow_shape": "none",
            "target": "s64",
            "target_arrow_shape": "triangle"
           }
          },
          {
           "data": {
            "arrowhead": "normal",
            "id": "5e171503-7f63-49d7-88a1-5f65f4823ff3",
            "source": "s69",
            "source_arrow_fill": "filled",
            "source_arrow_shape": "none",
            "target": "s65",
            "target_arrow_shape": "triangle"
           }
          },
          {
           "data": {
            "arrowhead": "normal",
            "id": "6c09a33b-405a-4141-8908-3176d3256868",
            "source": "s70",
            "source_arrow_fill": "filled",
            "source_arrow_shape": "none",
            "target": "s64",
            "target_arrow_shape": "triangle"
           }
          },
          {
           "data": {
            "arrowhead": "normal",
            "id": "fe0eb24b-0c8c-4cf1-bf74-f2c7371d82f2",
            "source": "s70",
            "source_arrow_fill": "filled",
            "source_arrow_shape": "none",
            "target": "s66",
            "target_arrow_shape": "triangle"
           }
          },
          {
           "data": {
            "arrowhead": "normal",
            "id": "075ae910-b82d-4d3c-8530-313e911e82ff",
            "source": "s71",
            "source_arrow_fill": "filled",
            "source_arrow_shape": "none",
            "target": "s73",
            "target_arrow_shape": "triangle"
           }
          },
          {
           "data": {
            "arrowhead": "normal",
            "id": "31a6f94c-309e-4c02-9f7a-c3c7e53651d6",
            "source": "s71",
            "source_arrow_fill": "filled",
            "source_arrow_shape": "none",
            "target": "s68",
            "target_arrow_shape": "triangle"
           }
          },
          {
           "data": {
            "arrowhead": "normal",
            "id": "4f34a7da-4e4c-410c-bc77-5e8ad840bdf3",
            "source": "s73",
            "source_arrow_fill": "hollow",
            "source_arrow_shape": "diamond",
            "target": "s74",
            "target_arrow_shape": "triangle"
           }
          },
          {
           "data": {
            "arrowhead": "normal",
            "id": "e862364d-8da5-4bd4-8fb5-c4c14f069d43",
            "source": "s74",
            "source_arrow_fill": "hollow",
            "source_arrow_shape": "diamond",
            "target": "s75",
            "target_arrow_shape": "triangle"
           }
          },
          {
           "data": {
            "arrowhead": "normal",
            "id": "ae81b0d0-435a-45cd-aaa3-7391c4d27f79",
            "source": "s74",
            "source_arrow_fill": "hollow",
            "source_arrow_shape": "diamond",
            "target": "s76",
            "target_arrow_shape": "triangle"
           }
          },
          {
           "data": {
            "arrowhead": "normal",
            "id": "ce151343-6386-4946-ae83-ff12fdee65c0",
            "source": "s75",
            "source_arrow_fill": "filled",
            "source_arrow_shape": "none",
            "target": "s33",
            "target_arrow_shape": "triangle"
           }
          },
          {
           "data": {
            "arrowhead": "normal",
            "id": "e440c6b7-b619-4a25-a006-f3f39d87cc73",
            "source": "s75",
            "source_arrow_fill": "filled",
            "source_arrow_shape": "none",
            "target": "s74",
            "target_arrow_shape": "triangle"
           }
          }
         ],
         "nodes": [
          {
           "data": {
            "NodeType": "species",
            "background_color": "#2b913a",
            "id": "s0",
            "label": "L",
            "name": "s0",
            "shape": "ellipse"
           },
           "position": {
            "x": 27,
            "y": 156
           }
          },
          {
           "data": {
            "NodeType": "species",
            "background_color": "#2b913a",
            "id": "s1",
            "label": "R",
            "name": "s1",
            "shape": "ellipse"
           },
           "position": {
            "x": 27,
            "y": 102
           }
          },
          {
           "data": {
            "NodeType": "species",
            "background_color": "#2b913a",
            "id": "s2",
            "label": "flip",
            "name": "s2",
            "shape": "ellipse"
           },
           "position": {
            "x": 212.22,
            "y": 183
           }
          },
          {
           "data": {
            "NodeType": "species",
            "background_color": "#2b913a",
            "id": "s3",
            "label": "proC8",
            "name": "s3",
            "shape": "ellipse"
           },
           "position": {
            "x": 212.22,
            "y": 25
           }
          },
          {
           "data": {
            "NodeType": "species",
            "background_color": "#2b913a",
            "id": "s4",
            "label": "BAR",
            "name": "s4",
            "shape": "ellipse"
           },
           "position": {
            "x": 459.26,
            "y": 46
           }
          },
          {
           "data": {
            "NodeType": "species",
            "background_color": "#2b913a",
            "id": "s5",
            "label": "iApaf",
            "name": "s5",
            "shape": "ellipse"
           },
           "position": {
            "x": 2092.3,
            "y": 998
           }
          },
          {
           "data": {
            "NodeType": "species",
            "background_color": "#2b913a",
            "id": "s6",
            "label": "proC3",
            "name": "s6",
            "shape": "ellipse"
           },
           "position": {
            "x": 459.26,
            "y": 553
           }
          },
          {
           "data": {
            "NodeType": "species",
            "background_color": "#2b913a",
            "id": "s7",
            "label": "proC6",
            "name": "s7",
            "shape": "ellipse"
           },
           "position": {
            "x": 2698.3,
            "y": 268
           }
          },
          {
           "data": {
            "NodeType": "species",
            "background_color": "#2b913a",
            "id": "s8",
            "label": "C9",
            "name": "s8",
            "shape": "ellipse"
           },
           "position": {
            "x": 2353.6,
            "y": 998
           }
          },
          {
           "data": {
            "NodeType": "species",
            "background_color": "#2b913a",
            "id": "s9",
            "label": "uPARP",
            "name": "s9",
            "shape": "ellipse"
           },
           "position": {
            "x": 2698.3,
            "y": 376
           }
          },
          {
           "data": {
            "NodeType": "species",
            "background_color": "#2b913a",
            "id": "s10",
            "label": "XIAP",
            "name": "s10",
            "shape": "ellipse"
           },
           "position": {
            "x": 2947.5,
            "y": 322
           }
          },
          {
           "data": {
            "NodeType": "species",
            "background_color": "#2b913a",
            "id": "s11",
            "label": "uBid",
            "name": "s11",
            "shape": "ellipse"
           },
           "position": {
            "x": 459.26,
            "y": 100
           }
          },
          {
           "data": {
            "NodeType": "species",
            "background_color": "#2b913a",
            "id": "s12",
            "label": "cBax",
            "name": "s12",
            "shape": "ellipse"
           },
           "position": {
            "x": 788.43,
            "y": 668
           }
          },
          {
           "data": {
            "NodeType": "species",
            "background_color": "#2b913a",
            "id": "s13",
            "label": "mBak",
            "name": "s13",
            "shape": "ellipse"
           },
           "position": {
            "x": 788.43,
            "y": 371
           }
          },
          {
           "data": {
            "NodeType": "species",
            "background_color": "#2b913a",
            "id": "s14",
            "label": "mBcl2",
            "name": "s14",
            "shape": "ellipse"
           },
           "position": {
            "x": 1064.9,
            "y": 768
           }
          },
          {
           "data": {
            "NodeType": "species",
            "background_color": "#2b913a",
            "id": "s15",
            "label": "mBclxL",
            "name": "s15",
            "shape": "ellipse"
           },
           "position": {
            "x": 1064.9,
            "y": 550
           }
          },
          {
           "data": {
            "NodeType": "species",
            "background_color": "#2b913a",
            "id": "s16",
            "label": "mMcl1",
            "name": "s16",
            "shape": "ellipse"
           },
           "position": {
            "x": 788.43,
            "y": 798
           }
          },
          {
           "data": {
            "NodeType": "species",
            "background_color": "#2b913a",
            "id": "s17",
            "label": "mBad",
            "name": "s17",
            "shape": "ellipse"
           },
           "position": {
            "x": 1064.9,
            "y": 604
           }
          },
          {
           "data": {
            "NodeType": "species",
            "background_color": "#2b913a",
            "id": "s18",
            "label": "mNoxa",
            "name": "s18",
            "shape": "ellipse"
           },
           "position": {
            "x": 788.43,
            "y": 852
           }
          },
          {
           "data": {
            "NodeType": "species",
            "background_color": "#2b913a",
            "id": "s19",
            "label": "mCytoC",
            "name": "s19",
            "shape": "ellipse"
           },
           "position": {
            "x": 1701.6,
            "y": 581
           }
          },
          {
           "data": {
            "NodeType": "species",
            "background_color": "#2b913a",
            "id": "s20",
            "label": "mSmac",
            "name": "s20",
            "shape": "ellipse"
           },
           "position": {
            "x": 1701.6,
            "y": 367
           }
          },
          {
           "data": {
            "NodeType": "species",
            "background_color": "#2b913a",
            "id": "s21",
            "label": "L-R",
            "name": "s21",
            "shape": "ellipse"
           },
           "position": {
            "x": 117,
            "y": 129
           }
          },
          {
           "data": {
            "NodeType": "species",
            "background_color": "#2b913a",
            "id": "s22",
            "label": "mBad-mBcl2",
            "name": "s22",
            "shape": "ellipse"
           },
           "position": {
            "x": 1203.2,
            "y": 760
           }
          },
          {
           "data": {
            "NodeType": "species",
            "background_color": "#2b913a",
            "id": "s23",
            "label": "mBad-mBclxL",
            "name": "s23",
            "shape": "ellipse"
           },
           "position": {
            "x": 1203.2,
            "y": 614
           }
          },
          {
           "data": {
            "NodeType": "species",
            "background_color": "#2b913a",
            "id": "s24",
            "label": "mMcl1-mNoxa",
            "name": "s24",
            "shape": "ellipse"
           },
           "position": {
            "x": 925.2,
            "y": 852
           }
          },
          {
           "data": {
            "NodeType": "species",
            "background_color": "#2b913a",
            "id": "s25",
            "label": "DISC",
            "name": "s25",
            "shape": "ellipse"
           },
           "position": {
            "x": 212.22,
            "y": 129
           }
          },
          {
           "data": {
            "NodeType": "species",
            "background_color": "#2b913a",
            "id": "s26",
            "label": "proC8-DISC",
            "name": "s26",
            "shape": "ellipse"
           },
           "position": {
            "x": 335.74,
            "y": 129
           }
          },
          {
           "data": {
            "NodeType": "species",
            "background_color": "#2b913a",
            "id": "s27",
            "label": "DISC-flip",
            "name": "s27",
            "shape": "ellipse"
           },
           "position": {
            "x": 335.74,
            "y": 183
           }
          },
          {
           "data": {
            "NodeType": "species",
            "background_color": "#2b913a",
            "id": "s28",
            "label": "aC8",
            "name": "s28",
            "shape": "ellipse"
           },
           "position": {
            "x": 459.26,
            "y": 154
           }
          },
          {
           "data": {
            "NodeType": "species",
            "background_color": "#2b913a",
            "id": "s29",
            "label": "uBid-aC8",
            "name": "s29",
            "shape": "ellipse"
           },
           "position": {
            "x": 576.89,
            "y": 138
           }
          },
          {
           "data": {
            "NodeType": "species",
            "background_color": "#2b913a",
            "id": "s30",
            "label": "BAR-aC8",
            "name": "s30",
            "shape": "ellipse"
           },
           "position": {
            "x": 576.89,
            "y": 46
           }
          },
          {
           "data": {
            "NodeType": "species",
            "background_color": "#2b913a",
            "id": "s31",
            "label": "proC3-aC8",
            "name": "s31",
            "shape": "ellipse"
           },
           "position": {
            "x": 576.89,
            "y": 192
           }
          },
          {
           "data": {
            "NodeType": "species",
            "background_color": "#2b913a",
            "id": "s32",
            "label": "tBid",
            "name": "s32",
            "shape": "ellipse"
           },
           "position": {
            "x": 689.29,
            "y": 138
           }
          },
          {
           "data": {
            "NodeType": "species",
            "background_color": "#2b913a",
            "id": "s33",
            "label": "aC3",
            "name": "s33",
            "shape": "ellipse"
           },
           "position": {
            "x": 2698.3,
            "y": 322
           }
          },
          {
           "data": {
            "NodeType": "species",
            "background_color": "#2b913a",
            "id": "s34",
            "label": "aC3-XIAP",
            "name": "s34",
            "shape": "ellipse"
           },
           "position": {
            "x": 2823.2,
            "y": 322
           }
          },
          {
           "data": {
            "NodeType": "species",
            "background_color": "#2b913a",
            "id": "s35",
            "label": "aC3-uPARP",
            "name": "s35",
            "shape": "ellipse"
           },
           "position": {
            "x": 2823.2,
            "y": 376
           }
          },
          {
           "data": {
            "NodeType": "species",
            "background_color": "#2b913a",
            "id": "s36",
            "label": "aC3-proC6",
            "name": "s36",
            "shape": "ellipse"
           },
           "position": {
            "x": 2823.2,
            "y": 268
           }
          },
          {
           "data": {
            "NodeType": "species",
            "background_color": "#2b913a",
            "id": "s37",
            "label": "mBid",
            "name": "s37",
            "shape": "ellipse"
           },
           "position": {
            "x": 788.43,
            "y": 613
           }
          },
          {
           "data": {
            "NodeType": "species",
            "background_color": "#2b913a",
            "id": "s38",
            "label": "ubC3",
            "name": "s38",
            "shape": "ellipse"
           },
           "position": {
            "x": 2947.5,
            "y": 268
           }
          },
          {
           "data": {
            "NodeType": "species",
            "background_color": "#2b913a",
            "id": "s39",
            "label": "cPARP",
            "name": "s39",
            "shape": "ellipse"
           },
           "position": {
            "x": 2947.5,
            "y": 376
           }
          },
          {
           "data": {
            "NodeType": "species",
            "background_color": "#2b913a",
            "id": "s40",
            "label": "aC6",
            "name": "s40",
            "shape": "ellipse"
           },
           "position": {
            "x": 2947.5,
            "y": 138
           }
          },
          {
           "data": {
            "NodeType": "species",
            "background_color": "#2b913a",
            "id": "s41",
            "label": "cBax-mBid",
            "name": "s41",
            "shape": "ellipse"
           },
           "position": {
            "x": 925.2,
            "y": 668
           }
          },
          {
           "data": {
            "NodeType": "species",
            "background_color": "#2b913a",
            "id": "s42",
            "label": "mBak-mBid",
            "name": "s42",
            "shape": "ellipse"
           },
           "position": {
            "x": 925.2,
            "y": 394
           }
          },
          {
           "data": {
            "NodeType": "species",
            "background_color": "#2b913a",
            "id": "s43",
            "label": "mBcl2-mBid",
            "name": "s43",
            "shape": "ellipse"
           },
           "position": {
            "x": 1203.2,
            "y": 852
           }
          },
          {
           "data": {
            "NodeType": "species",
            "background_color": "#2b913a",
            "id": "s44",
            "label": "mBclxL-mBid",
            "name": "s44",
            "shape": "ellipse"
           },
           "position": {
            "x": 1203.2,
            "y": 522
           }
          },
          {
           "data": {
            "NodeType": "species",
            "background_color": "#2b913a",
            "id": "s45",
            "label": "mBid-mMcl1",
            "name": "s45",
            "shape": "ellipse"
           },
           "position": {
            "x": 925.2,
            "y": 760
           }
          },
          {
           "data": {
            "NodeType": "species",
            "background_color": "#2b913a",
            "id": "s46",
            "label": "aC6-proC8",
            "name": "s46",
            "shape": "ellipse"
           },
           "position": {
            "x": 3076.1,
            "y": 115
           }
          },
          {
           "data": {
            "NodeType": "species",
            "background_color": "#2b913a",
            "id": "s47",
            "label": "mBax",
            "name": "s47",
            "shape": "ellipse"
           },
           "position": {
            "x": 1064.9,
            "y": 714
           }
          },
          {
           "data": {
            "NodeType": "species",
            "background_color": "#2b913a",
            "id": "s48",
            "label": "aBak",
            "name": "s48",
            "shape": "ellipse"
           },
           "position": {
            "x": 1064.9,
            "y": 349
           }
          },
          {
           "data": {
            "NodeType": "species",
            "background_color": "#2b913a",
            "id": "s49",
            "label": "mBax-mBid",
            "name": "s49",
            "shape": "ellipse"
           },
           "position": {
            "x": 1203.2,
            "y": 668
           }
          },
          {
           "data": {
            "NodeType": "species",
            "background_color": "#2b913a",
            "id": "s50",
            "label": "aBak-mBak",
            "name": "s50",
            "shape": "ellipse"
           },
           "position": {
            "x": 1203.2,
            "y": 230
           }
          },
          {
           "data": {
            "NodeType": "species",
            "background_color": "#2b913a",
            "id": "s51",
            "label": "aBak-mBclxL",
            "name": "s51",
            "shape": "ellipse"
           },
           "position": {
            "x": 1203.2,
            "y": 468
           }
          },
          {
           "data": {
            "NodeType": "species",
            "background_color": "#2b913a",
            "id": "s52",
            "label": "aBak-mMcl1",
            "name": "s52",
            "shape": "ellipse"
           },
           "position": {
            "x": 1203.2,
            "y": 414
           }
          },
          {
           "data": {
            "NodeType": "species",
            "background_color": "#2b913a",
            "id": "s53",
            "label": "2aBak",
            "name": "s53",
            "shape": "ellipse"
           },
           "position": {
            "x": 1203.2,
            "y": 284
           }
          },
          {
           "data": {
            "NodeType": "species",
            "background_color": "#2b913a",
            "id": "s54",
            "label": "aBax",
            "name": "s54",
            "shape": "ellipse"
           },
           "position": {
            "x": 1335,
            "y": 664
           }
          },
          {
           "data": {
            "NodeType": "species",
            "background_color": "#2b913a",
            "id": "s55",
            "label": "3aBak",
            "name": "s55",
            "shape": "ellipse"
           },
           "position": {
            "x": 1335,
            "y": 322
           }
          },
          {
           "data": {
            "NodeType": "species",
            "background_color": "#2b913a",
            "id": "s56",
            "label": "aBax-mBax",
            "name": "s56",
            "shape": "ellipse"
           },
           "position": {
            "x": 1463.9,
            "y": 716
           }
          },
          {
           "data": {
            "NodeType": "species",
            "background_color": "#2b913a",
            "id": "s57",
            "label": "aBax-mBcl2",
            "name": "s57",
            "shape": "ellipse"
           },
           "position": {
            "x": 1463.9,
            "y": 789
           }
          },
          {
           "data": {
            "NodeType": "species",
            "background_color": "#2b913a",
            "id": "s58",
            "label": "aBax-mBclxL",
            "name": "s58",
            "shape": "ellipse"
           },
           "position": {
            "x": 1463.9,
            "y": 532
           }
          },
          {
           "data": {
            "NodeType": "species",
            "background_color": "#2b913a",
            "id": "s59",
            "label": "2aBax",
            "name": "s59",
            "shape": "ellipse"
           },
           "position": {
            "x": 1463.9,
            "y": 662
           }
          },
          {
           "data": {
            "NodeType": "species",
            "background_color": "#2b913a",
            "id": "s60",
            "label": "4aBak",
            "name": "s60",
            "shape": "ellipse"
           },
           "position": {
            "x": 1701.6,
            "y": 421
           }
          },
          {
           "data": {
            "NodeType": "species",
            "background_color": "#2b913a",
            "id": "s61",
            "label": "3aBax",
            "name": "s61",
            "shape": "ellipse"
           },
           "position": {
            "x": 1592.8,
            "y": 624
           }
          },
          {
           "data": {
            "NodeType": "species",
            "background_color": "#2b913a",
            "id": "s62",
            "label": "4aBak-mCytoC",
            "name": "s62",
            "shape": "ellipse"
           },
           "position": {
            "x": 1843.3,
            "y": 502
           }
          },
          {
           "data": {
            "NodeType": "species",
            "background_color": "#2b913a",
            "id": "s63",
            "label": "4aBak-mSmac",
            "name": "s63",
            "shape": "ellipse"
           },
           "position": {
            "x": 1843.3,
            "y": 394
           }
          },
          {
           "data": {
            "NodeType": "species",
            "background_color": "#2b913a",
            "id": "s64",
            "label": "4aBax",
            "name": "s64",
            "shape": "ellipse"
           },
           "position": {
            "x": 1701.6,
            "y": 527
           }
          },
          {
           "data": {
            "NodeType": "species",
            "background_color": "#2b913a",
            "id": "s65",
            "label": "cCytoC",
            "name": "s65",
            "shape": "ellipse"
           },
           "position": {
            "x": 1982.1,
            "y": 556
           }
          },
          {
           "data": {
            "NodeType": "species",
            "background_color": "#2b913a",
            "id": "s66",
            "label": "cSmac",
            "name": "s66",
            "shape": "ellipse"
           },
           "position": {
            "x": 1982.1,
            "y": 394
           }
          },
          {
           "data": {
            "NodeType": "species",
            "background_color": "#2b913a",
            "id": "s67",
            "label": "aSmac",
            "name": "s67",
            "shape": "ellipse"
           },
           "position": {
            "x": 2225.7,
            "y": 271
           }
          },
          {
           "data": {
            "NodeType": "species",
            "background_color": "#2b913a",
            "id": "s68",
            "label": "aCytoC",
            "name": "s68",
            "shape": "ellipse"
           },
           "position": {
            "x": 2092.3,
            "y": 944
           }
          },
          {
           "data": {
            "NodeType": "species",
            "background_color": "#2b913a",
            "id": "s69",
            "label": "4aBax-mCytoC",
            "name": "s69",
            "shape": "ellipse"
           },
           "position": {
            "x": 1843.3,
            "y": 556
           }
          },
          {
           "data": {
            "NodeType": "species",
            "background_color": "#2b913a",
            "id": "s70",
            "label": "4aBax-mSmac",
            "name": "s70",
            "shape": "ellipse"
           },
           "position": {
            "x": 1843.3,
            "y": 448
           }
          },
          {
           "data": {
            "NodeType": "species",
            "background_color": "#2b913a",
            "id": "s71",
            "label": "iApaf-aCytoC",
            "name": "s71",
            "shape": "ellipse"
           },
           "position": {
            "x": 2225.7,
            "y": 944
           }
          },
          {
           "data": {
            "NodeType": "species",
            "background_color": "#2b913a",
            "id": "s72",
            "label": "aSmac-XIAP",
            "name": "s72",
            "shape": "ellipse"
           },
           "position": {
            "x": 3076.1,
            "y": 272
           }
          },
          {
           "data": {
            "NodeType": "species",
            "background_color": "#2b913a",
            "id": "s73",
            "label": "aApaf",
            "name": "s73",
            "shape": "ellipse"
           },
           "position": {
            "x": 2353.6,
            "y": 944
           }
          },
          {
           "data": {
            "NodeType": "species",
            "background_color": "#2b913a",
            "id": "s74",
            "label": "Apop",
            "name": "s74",
            "shape": "ellipse"
           },
           "position": {
            "x": 2451.1,
            "y": 944
           }
          },
          {
           "data": {
            "NodeType": "species",
            "background_color": "#2b913a",
            "id": "s75",
            "label": "Apop-proC3",
            "name": "s75",
            "shape": "ellipse"
           },
           "position": {
            "x": 2571.6,
            "y": 898
           }
          },
          {
           "data": {
            "NodeType": "species",
            "background_color": "#2b913a",
            "id": "s76",
            "label": "Apop-XIAP",
            "name": "s76",
            "shape": "ellipse"
           },
           "position": {
            "x": 3076.1,
            "y": 633
           }
          }
         ]
        }
       },
       "format": "cyjs",
       "layout": "IPY_MODEL_ac0723b6a161464aaac242424f89fe40",
       "layout_name": "preset",
       "type_of_viz": "species_view",
       "visual_style": null
      }
     },
     "4afe93f533c6418bb40ebcc3e609a635": {
      "model_module": "viz-pysb-widget",
      "model_module_version": "^0.1.0",
      "model_name": "CytoscapeModel",
      "state": {
       "_model_module_version": "^0.1.0",
       "_view_module_version": "^0.1.0",
       "background": "#FFFFFF",
       "data": {
        "data": {
         "graph": {
          "rankdir": "LR"
         },
         "name": "pysbjupyter.pysb_models.organelle_transport",
         "paths": []
        },
        "elements": {
         "edges": [
          {
           "data": {
            "arrowhead": "normal",
            "id": "fca8796b-34c9-4aa2-b509-d6d47602e3d9",
            "source": "s0",
            "source_arrow_fill": "hollow",
            "source_arrow_shape": "diamond",
            "target": "s4",
            "target_arrow_shape": "triangle"
           }
          },
          {
           "data": {
            "arrowhead": "normal",
            "id": "b1399f3b-8bfd-4315-8ce4-7d8fb68a1909",
            "source": "s1",
            "source_arrow_fill": "hollow",
            "source_arrow_shape": "diamond",
            "target": "s4",
            "target_arrow_shape": "triangle"
           }
          },
          {
           "data": {
            "arrowhead": "normal",
            "id": "cebe4e50-ccac-4d40-bd93-55f745b6b85f",
            "source": "s2",
            "source_arrow_fill": "hollow",
            "source_arrow_shape": "diamond",
            "target": "s6",
            "target_arrow_shape": "triangle"
           }
          },
          {
           "data": {
            "arrowhead": "normal",
            "id": "26255359-12a3-4ac3-8579-89e0b054db1a",
            "source": "s3",
            "source_arrow_fill": "hollow",
            "source_arrow_shape": "diamond",
            "target": "s8",
            "target_arrow_shape": "triangle"
           }
          },
          {
           "data": {
            "arrowhead": "normal",
            "id": "071da40a-c804-4bba-a0c3-87d4e703f85a",
            "source": "s4",
            "source_arrow_fill": "filled",
            "source_arrow_shape": "none",
            "target": "s1",
            "target_arrow_shape": "triangle"
           }
          },
          {
           "data": {
            "arrowhead": "normal",
            "id": "540c26b1-9233-4af9-befb-066915ec0392",
            "source": "s4",
            "source_arrow_fill": "filled",
            "source_arrow_shape": "none",
            "target": "s5",
            "target_arrow_shape": "triangle"
           }
          },
          {
           "data": {
            "arrowhead": "normal",
            "id": "83a3c3a6-2d0e-4aff-b74d-72a7dd5b81f8",
            "source": "s5",
            "source_arrow_fill": "hollow",
            "source_arrow_shape": "diamond",
            "target": "s6",
            "target_arrow_shape": "triangle"
           }
          },
          {
           "data": {
            "arrowhead": "normal",
            "id": "f1f4b1f6-a029-4497-8a38-d151828c1902",
            "source": "s6",
            "source_arrow_fill": "filled",
            "source_arrow_shape": "none",
            "target": "s2",
            "target_arrow_shape": "triangle"
           }
          },
          {
           "data": {
            "arrowhead": "normal",
            "id": "cb66cf75-a30a-4ad8-8c7b-1dff4cb6a857",
            "source": "s6",
            "source_arrow_fill": "filled",
            "source_arrow_shape": "none",
            "target": "s7",
            "target_arrow_shape": "triangle"
           }
          },
          {
           "data": {
            "arrowhead": "normal",
            "id": "2cead870-3f57-40b8-b8c9-74f045d29680",
            "source": "s7",
            "source_arrow_fill": "hollow",
            "source_arrow_shape": "diamond",
            "target": "s8",
            "target_arrow_shape": "triangle"
           }
          },
          {
           "data": {
            "arrowhead": "normal",
            "id": "18bee89c-e4bb-4204-bec3-28940847b9c4",
            "source": "s8",
            "source_arrow_fill": "filled",
            "source_arrow_shape": "none",
            "target": "s9",
            "target_arrow_shape": "triangle"
           }
          },
          {
           "data": {
            "arrowhead": "normal",
            "id": "bb2aea4e-b8ef-4c21-9ac5-be4ea2c9aad3",
            "source": "s8",
            "source_arrow_fill": "filled",
            "source_arrow_shape": "none",
            "target": "s3",
            "target_arrow_shape": "triangle"
           }
          }
         ],
         "nodes": [
          {
           "data": {
            "NodeType": "species",
            "background_color": "#2b913a",
            "id": "s0",
            "label": "L",
            "name": "s0",
            "parent": "CYT",
            "shape": "ellipse"
           },
           "position": {
            "x": 210.47686864946297,
            "y": 944.7453487655309
           }
          },
          {
           "data": {
            "NodeType": "species",
            "background_color": "#2b913a",
            "id": "s1",
            "label": "R",
            "name": "s1",
            "parent": "OM1",
            "shape": "ellipse"
           },
           "position": {
            "x": 333.0998265303947,
            "y": 815.2915364550587
           }
          },
          {
           "data": {
            "NodeType": "species",
            "background_color": "#2b913a",
            "id": "s2",
            "label": "T1",
            "name": "s2",
            "parent": "OM1",
            "shape": "ellipse"
           },
           "position": {
            "x": 307.3978347371549,
            "y": 463.43266292474027
           }
          },
          {
           "data": {
            "NodeType": "species",
            "background_color": "#2b913a",
            "id": "s3",
            "label": "T2",
            "name": "s3",
            "parent": "OM2",
            "shape": "ellipse"
           },
           "position": {
            "x": 338.9774342910441,
            "y": 265.0956624338434
           }
          },
          {
           "data": {
            "NodeType": "species",
            "background_color": "#2b913a",
            "id": "s4",
            "label": "LR",
            "name": "s4",
            "parent": "OM1",
            "shape": "ellipse"
           },
           "position": {
            "x": 254.04390488883814,
            "y": 775.5429111460109
           }
          },
          {
           "data": {
            "NodeType": "species",
            "background_color": "#2b913a",
            "id": "s5",
            "label": "L",
            "name": "s5",
            "parent": "OV1",
            "shape": "ellipse"
           },
           "position": {
            "x": 307.1749024306673,
            "y": 650.7356330816348
           }
          },
          {
           "data": {
            "NodeType": "species",
            "background_color": "#2b913a",
            "id": "s6",
            "label": "LT1",
            "name": "s6",
            "parent": "OM1",
            "shape": "ellipse"
           },
           "position": {
            "x": 380.35527741159217,
            "y": 526.8316449525773
           }
          },
          {
           "data": {
            "NodeType": "species",
            "background_color": "#2b913a",
            "id": "s7",
            "label": "L2",
            "name": "s7",
            "parent": "CYT",
            "shape": "ellipse"
           },
           "position": {
            "x": 484.58240884978477,
            "y": 361.19611755995277
           }
          },
          {
           "data": {
            "NodeType": "species",
            "background_color": "#2b913a",
            "id": "s8",
            "label": "L2T2",
            "name": "s8",
            "parent": "OM2",
            "shape": "ellipse"
           },
           "position": {
            "x": 417.61940203199083,
            "y": 205.5212192913005
           }
          },
          {
           "data": {
            "NodeType": "species",
            "background_color": "#2b913a",
            "id": "s9",
            "label": "L2",
            "name": "s9",
            "parent": "OV2",
            "shape": "ellipse"
           },
           "position": {
            "x": 379.21037089932383,
            "y": 78.25
           }
          },
          {
           "data": {
            "NodeType": "compartment",
            "id": "CYT",
            "name": "CYT"
           },
           "position": {
            "x": 347.52963874962387,
            "y": 476.49767438276547
           }
          },
          {
           "data": {
            "NodeType": "compartment",
            "id": "OM1",
            "name": "OM1",
            "parent": "CYT"
           },
           "position": {
            "x": 317.19959115021516,
            "y": 631.3620996898994
           }
          },
          {
           "data": {
            "NodeType": "compartment",
            "id": "OV1",
            "name": "OV1",
            "parent": "OM1"
           },
           "position": {
            "x": 307.1749024306673,
            "y": 642.7356330816348
           }
          },
          {
           "data": {
            "NodeType": "compartment",
            "id": "OM2",
            "name": "OM2",
            "parent": "CYT"
           },
           "position": {
            "x": 379.7984181615175,
            "y": 150.1728312169217
           }
          },
          {
           "data": {
            "NodeType": "compartment",
            "id": "OV2",
            "name": "OV2",
            "parent": "OM2"
           },
           "position": {
            "x": 379.21037089932383,
            "y": 70.25
           }
          }
         ]
        }
       },
       "format": "cyjs",
       "layout": "IPY_MODEL_2e951625716a48e39af9bec19380f2ac",
       "layout_name": "cose-bilkent",
       "type_of_viz": "species_compartments_view",
       "visual_style": null
      }
     },
     "5ea11dc74344419c817867cb9c176954": {
      "model_module": "viz-pysb-widget",
      "model_module_version": "^0.1.0",
      "model_name": "CytoscapeModel",
      "state": {
       "_model_module_version": "^0.1.0",
       "_view_module_version": "^0.1.0",
       "background": "#FFFFFF",
       "data": {
        "data": {
         "graph": {
          "rankdir": "LR"
         },
         "name": "pysbjupyter.pysb_models.lopez_embedded",
         "paths": []
        },
        "elements": {
         "edges": [
          {
           "data": {
            "arrowhead": "normal",
            "id": "f2b91a50-bec6-458d-ad83-b6d580db52da",
            "source": "s0",
            "source_arrow_fill": "hollow",
            "source_arrow_shape": "diamond",
            "target": "s21",
            "target_arrow_shape": "triangle"
           }
          },
          {
           "data": {
            "arrowhead": "normal",
            "id": "b0729cf7-62cf-48cf-ab55-2cb44d7c4acf",
            "source": "s1",
            "source_arrow_fill": "hollow",
            "source_arrow_shape": "diamond",
            "target": "s21",
            "target_arrow_shape": "triangle"
           }
          },
          {
           "data": {
            "arrowhead": "normal",
            "id": "649cf0cd-249e-4b54-9c48-1ab92e68f875",
            "source": "s2",
            "source_arrow_fill": "hollow",
            "source_arrow_shape": "diamond",
            "target": "s27",
            "target_arrow_shape": "triangle"
           }
          },
          {
           "data": {
            "arrowhead": "normal",
            "id": "891ad619-c06b-41b3-8f49-5feda96838fc",
            "source": "s3",
            "source_arrow_fill": "hollow",
            "source_arrow_shape": "diamond",
            "target": "s26",
            "target_arrow_shape": "triangle"
           }
          },
          {
           "data": {
            "arrowhead": "normal",
            "id": "9221f10d-0a1f-4421-ba04-86d8a570f4bd",
            "source": "s3",
            "source_arrow_fill": "hollow",
            "source_arrow_shape": "diamond",
            "target": "s46",
            "target_arrow_shape": "triangle"
           }
          },
          {
           "data": {
            "arrowhead": "normal",
            "id": "fa377111-b722-4ce1-9849-f308b7f90273",
            "source": "s4",
            "source_arrow_fill": "hollow",
            "source_arrow_shape": "diamond",
            "target": "s30",
            "target_arrow_shape": "triangle"
           }
          },
          {
           "data": {
            "arrowhead": "normal",
            "id": "97998d30-f240-4721-8378-34ecb849ec9c",
            "source": "s5",
            "source_arrow_fill": "hollow",
            "source_arrow_shape": "diamond",
            "target": "s71",
            "target_arrow_shape": "triangle"
           }
          },
          {
           "data": {
            "arrowhead": "normal",
            "id": "66ecd8c5-a3d9-4b0c-8b0d-011107331eb8",
            "source": "s6",
            "source_arrow_fill": "hollow",
            "source_arrow_shape": "diamond",
            "target": "s31",
            "target_arrow_shape": "triangle"
           }
          },
          {
           "data": {
            "arrowhead": "normal",
            "id": "a80787c5-de46-402e-b535-1ba6037b6abc",
            "source": "s6",
            "source_arrow_fill": "hollow",
            "source_arrow_shape": "diamond",
            "target": "s75",
            "target_arrow_shape": "triangle"
           }
          },
          {
           "data": {
            "arrowhead": "normal",
            "id": "89db8636-03d9-4a85-a530-4d00eb12fa77",
            "source": "s7",
            "source_arrow_fill": "hollow",
            "source_arrow_shape": "diamond",
            "target": "s36",
            "target_arrow_shape": "triangle"
           }
          },
          {
           "data": {
            "arrowhead": "normal",
            "id": "bd4731f5-1a1f-4080-8f80-1dbab73b9902",
            "source": "s8",
            "source_arrow_fill": "hollow",
            "source_arrow_shape": "diamond",
            "target": "s74",
            "target_arrow_shape": "triangle"
           }
          },
          {
           "data": {
            "arrowhead": "normal",
            "id": "ac3ca35b-d526-463f-9ecb-8c1a676f0926",
            "source": "s9",
            "source_arrow_fill": "hollow",
            "source_arrow_shape": "diamond",
            "target": "s35",
            "target_arrow_shape": "triangle"
           }
          },
          {
           "data": {
            "arrowhead": "normal",
            "id": "d307d617-bab7-41a2-aea8-3f46d80b6826",
            "source": "s10",
            "source_arrow_fill": "hollow",
            "source_arrow_shape": "diamond",
            "target": "s34",
            "target_arrow_shape": "triangle"
           }
          },
          {
           "data": {
            "arrowhead": "normal",
            "id": "8af7d0e4-aa64-4f5c-b01e-4c07a2c80823",
            "source": "s10",
            "source_arrow_fill": "hollow",
            "source_arrow_shape": "diamond",
            "target": "s72",
            "target_arrow_shape": "triangle"
           }
          },
          {
           "data": {
            "arrowhead": "normal",
            "id": "2f098553-acb2-4d21-9f54-f0d1927ace61",
            "source": "s10",
            "source_arrow_fill": "hollow",
            "source_arrow_shape": "diamond",
            "target": "s76",
            "target_arrow_shape": "triangle"
           }
          },
          {
           "data": {
            "arrowhead": "normal",
            "id": "834859af-0f14-4904-b3ec-416ed9529246",
            "source": "s11",
            "source_arrow_fill": "hollow",
            "source_arrow_shape": "diamond",
            "target": "s29",
            "target_arrow_shape": "triangle"
           }
          },
          {
           "data": {
            "arrowhead": "normal",
            "id": "60766ee5-2a84-40e2-b36c-a053fcc66b0c",
            "source": "s12",
            "source_arrow_fill": "hollow",
            "source_arrow_shape": "diamond",
            "target": "s41",
            "target_arrow_shape": "triangle"
           }
          },
          {
           "data": {
            "arrowhead": "normal",
            "id": "ed12a6e8-0992-4e9d-8f42-a9ec1b278cff",
            "source": "s13",
            "source_arrow_fill": "hollow",
            "source_arrow_shape": "diamond",
            "target": "s42",
            "target_arrow_shape": "triangle"
           }
          },
          {
           "data": {
            "arrowhead": "normal",
            "id": "15119174-2bcb-4e38-92b4-2b0583e1dcd6",
            "source": "s13",
            "source_arrow_fill": "hollow",
            "source_arrow_shape": "diamond",
            "target": "s50",
            "target_arrow_shape": "triangle"
           }
          },
          {
           "data": {
            "arrowhead": "normal",
            "id": "bbfebd77-983f-46bf-8910-ea5570b4b01d",
            "source": "s14",
            "source_arrow_fill": "hollow",
            "source_arrow_shape": "diamond",
            "target": "s22",
            "target_arrow_shape": "triangle"
           }
          },
          {
           "data": {
            "arrowhead": "normal",
            "id": "4ed40f3a-c8ad-4802-be52-f7402b84a2f2",
            "source": "s14",
            "source_arrow_fill": "hollow",
            "source_arrow_shape": "diamond",
            "target": "s43",
            "target_arrow_shape": "triangle"
           }
          },
          {
           "data": {
            "arrowhead": "normal",
            "id": "499be2e0-83d8-4143-bf52-b05f4c9f72b4",
            "source": "s14",
            "source_arrow_fill": "hollow",
            "source_arrow_shape": "diamond",
            "target": "s57",
            "target_arrow_shape": "triangle"
           }
          },
          {
           "data": {
            "arrowhead": "normal",
            "id": "749731c0-6576-43c5-996b-a7822520413d",
            "source": "s15",
            "source_arrow_fill": "hollow",
            "source_arrow_shape": "diamond",
            "target": "s23",
            "target_arrow_shape": "triangle"
           }
          },
          {
           "data": {
            "arrowhead": "normal",
            "id": "0ecb04ff-d86a-4a7d-b9e5-71c6d571d290",
            "source": "s15",
            "source_arrow_fill": "hollow",
            "source_arrow_shape": "diamond",
            "target": "s44",
            "target_arrow_shape": "triangle"
           }
          },
          {
           "data": {
            "arrowhead": "normal",
            "id": "70cc18aa-aa63-4c36-bd8f-06f3d57ba9d8",
            "source": "s15",
            "source_arrow_fill": "hollow",
            "source_arrow_shape": "diamond",
            "target": "s51",
            "target_arrow_shape": "triangle"
           }
          },
          {
           "data": {
            "arrowhead": "normal",
            "id": "318402cb-77be-47f6-9f2c-904bb24ce0ca",
            "source": "s15",
            "source_arrow_fill": "hollow",
            "source_arrow_shape": "diamond",
            "target": "s58",
            "target_arrow_shape": "triangle"
           }
          },
          {
           "data": {
            "arrowhead": "normal",
            "id": "85829bd6-e398-4140-81f5-a81df7d91788",
            "source": "s16",
            "source_arrow_fill": "hollow",
            "source_arrow_shape": "diamond",
            "target": "s24",
            "target_arrow_shape": "triangle"
           }
          },
          {
           "data": {
            "arrowhead": "normal",
            "id": "845948be-2c3f-4d98-8bd3-767f237a4cbd",
            "source": "s16",
            "source_arrow_fill": "hollow",
            "source_arrow_shape": "diamond",
            "target": "s45",
            "target_arrow_shape": "triangle"
           }
          },
          {
           "data": {
            "arrowhead": "normal",
            "id": "589d5702-992a-4bc5-8efa-f9a1bf7f0446",
            "source": "s16",
            "source_arrow_fill": "hollow",
            "source_arrow_shape": "diamond",
            "target": "s52",
            "target_arrow_shape": "triangle"
           }
          },
          {
           "data": {
            "arrowhead": "normal",
            "id": "578137d4-efb9-4628-ae13-aa6c7a9a935a",
            "source": "s17",
            "source_arrow_fill": "hollow",
            "source_arrow_shape": "diamond",
            "target": "s22",
            "target_arrow_shape": "triangle"
           }
          },
          {
           "data": {
            "arrowhead": "normal",
            "id": "015906c2-4b69-4534-9d9b-dafc944f52dc",
            "source": "s17",
            "source_arrow_fill": "hollow",
            "source_arrow_shape": "diamond",
            "target": "s23",
            "target_arrow_shape": "triangle"
           }
          },
          {
           "data": {
            "arrowhead": "normal",
            "id": "e723e8c5-032a-40fe-83be-e8d75b797f74",
            "source": "s18",
            "source_arrow_fill": "hollow",
            "source_arrow_shape": "diamond",
            "target": "s24",
            "target_arrow_shape": "triangle"
           }
          },
          {
           "data": {
            "arrowhead": "normal",
            "id": "7dd91e22-f572-496d-9832-96b2cde3e564",
            "source": "s19",
            "source_arrow_fill": "hollow",
            "source_arrow_shape": "diamond",
            "target": "s62",
            "target_arrow_shape": "triangle"
           }
          },
          {
           "data": {
            "arrowhead": "normal",
            "id": "730316bb-2511-464e-967e-7296a86e19e4",
            "source": "s19",
            "source_arrow_fill": "hollow",
            "source_arrow_shape": "diamond",
            "target": "s69",
            "target_arrow_shape": "triangle"
           }
          },
          {
           "data": {
            "arrowhead": "normal",
            "id": "203cb3de-33cd-4a26-8130-661324bffec9",
            "source": "s20",
            "source_arrow_fill": "hollow",
            "source_arrow_shape": "diamond",
            "target": "s63",
            "target_arrow_shape": "triangle"
           }
          },
          {
           "data": {
            "arrowhead": "normal",
            "id": "21f53571-5af6-4e76-9dfe-4da646cef38d",
            "source": "s20",
            "source_arrow_fill": "hollow",
            "source_arrow_shape": "diamond",
            "target": "s70",
            "target_arrow_shape": "triangle"
           }
          },
          {
           "data": {
            "arrowhead": "normal",
            "id": "53d87275-504d-4335-8442-97467ac39531",
            "source": "s21",
            "source_arrow_fill": "filled",
            "source_arrow_shape": "none",
            "target": "s25",
            "target_arrow_shape": "triangle"
           }
          },
          {
           "data": {
            "arrowhead": "normal",
            "id": "7c7ce134-f000-4269-85d5-ed73cf73c040",
            "source": "s25",
            "source_arrow_fill": "hollow",
            "source_arrow_shape": "diamond",
            "target": "s26",
            "target_arrow_shape": "triangle"
           }
          },
          {
           "data": {
            "arrowhead": "normal",
            "id": "6a76e267-b8f8-4f48-83af-e30c88bf2dc3",
            "source": "s25",
            "source_arrow_fill": "hollow",
            "source_arrow_shape": "diamond",
            "target": "s27",
            "target_arrow_shape": "triangle"
           }
          },
          {
           "data": {
            "arrowhead": "normal",
            "id": "56ff7ee3-d80f-424d-a79c-ce34062e9353",
            "source": "s26",
            "source_arrow_fill": "filled",
            "source_arrow_shape": "none",
            "target": "s25",
            "target_arrow_shape": "triangle"
           }
          },
          {
           "data": {
            "arrowhead": "normal",
            "id": "cca60ddc-5563-4a63-863c-f42f9f3107e8",
            "source": "s26",
            "source_arrow_fill": "filled",
            "source_arrow_shape": "none",
            "target": "s28",
            "target_arrow_shape": "triangle"
           }
          },
          {
           "data": {
            "arrowhead": "normal",
            "id": "d6ee86f8-f1cf-41bc-842e-4b6c65c76852",
            "source": "s28",
            "source_arrow_fill": "hollow",
            "source_arrow_shape": "diamond",
            "target": "s29",
            "target_arrow_shape": "triangle"
           }
          },
          {
           "data": {
            "arrowhead": "normal",
            "id": "fbd0ae8e-e8a9-4a8b-93dd-633cf6fae110",
            "source": "s28",
            "source_arrow_fill": "hollow",
            "source_arrow_shape": "diamond",
            "target": "s30",
            "target_arrow_shape": "triangle"
           }
          },
          {
           "data": {
            "arrowhead": "normal",
            "id": "d077b7ac-77ae-4b85-b4ea-8a780ba7c185",
            "source": "s28",
            "source_arrow_fill": "hollow",
            "source_arrow_shape": "diamond",
            "target": "s31",
            "target_arrow_shape": "triangle"
           }
          },
          {
           "data": {
            "arrowhead": "normal",
            "id": "db93f1c3-e937-49b1-bddc-2da4de5f49d1",
            "source": "s29",
            "source_arrow_fill": "filled",
            "source_arrow_shape": "none",
            "target": "s32",
            "target_arrow_shape": "triangle"
           }
          },
          {
           "data": {
            "arrowhead": "normal",
            "id": "e2889d7e-099a-45c6-b956-b7bc3f00d27d",
            "source": "s29",
            "source_arrow_fill": "filled",
            "source_arrow_shape": "none",
            "target": "s28",
            "target_arrow_shape": "triangle"
           }
          },
          {
           "data": {
            "arrowhead": "normal",
            "id": "2071c161-d373-40a3-9f7f-344aa4bc4a11",
            "source": "s31",
            "source_arrow_fill": "filled",
            "source_arrow_shape": "none",
            "target": "s33",
            "target_arrow_shape": "triangle"
           }
          },
          {
           "data": {
            "arrowhead": "normal",
            "id": "09efbdae-5953-4bf0-93f1-198c1c46cd15",
            "source": "s31",
            "source_arrow_fill": "filled",
            "source_arrow_shape": "none",
            "target": "s28",
            "target_arrow_shape": "triangle"
           }
          },
          {
           "data": {
            "arrowhead": "normal",
            "id": "58d1d179-6555-44f8-90c3-280cb420e25f",
            "source": "s32",
            "source_arrow_fill": "hollow",
            "source_arrow_shape": "diamond",
            "target": "s37",
            "target_arrow_shape": "triangle"
           }
          },
          {
           "data": {
            "arrowhead": "normal",
            "id": "fd015de5-e77d-42c2-be41-c3b37626a100",
            "source": "s33",
            "source_arrow_fill": "hollow",
            "source_arrow_shape": "diamond",
            "target": "s34",
            "target_arrow_shape": "triangle"
           }
          },
          {
           "data": {
            "arrowhead": "normal",
            "id": "19ebb6ac-b5a3-44e1-9fb0-545325435b07",
            "source": "s33",
            "source_arrow_fill": "hollow",
            "source_arrow_shape": "diamond",
            "target": "s35",
            "target_arrow_shape": "triangle"
           }
          },
          {
           "data": {
            "arrowhead": "normal",
            "id": "f97b28e7-631e-4847-9642-45fb493ea18f",
            "source": "s33",
            "source_arrow_fill": "hollow",
            "source_arrow_shape": "diamond",
            "target": "s36",
            "target_arrow_shape": "triangle"
           }
          },
          {
           "data": {
            "arrowhead": "normal",
            "id": "1262ddf6-6640-454f-b636-2823c4b80be8",
            "source": "s34",
            "source_arrow_fill": "filled",
            "source_arrow_shape": "none",
            "target": "s10",
            "target_arrow_shape": "triangle"
           }
          },
          {
           "data": {
            "arrowhead": "normal",
            "id": "e3fd3780-b7e3-463f-a713-46da3b6b1231",
            "source": "s34",
            "source_arrow_fill": "filled",
            "source_arrow_shape": "none",
            "target": "s38",
            "target_arrow_shape": "triangle"
           }
          },
          {
           "data": {
            "arrowhead": "normal",
            "id": "b2a4546b-0b5b-417a-b3ac-9ece8d3d6387",
            "source": "s35",
            "source_arrow_fill": "filled",
            "source_arrow_shape": "none",
            "target": "s33",
            "target_arrow_shape": "triangle"
           }
          },
          {
           "data": {
            "arrowhead": "normal",
            "id": "35805397-34f7-4a41-b9e4-d1f3a79de87d",
            "source": "s35",
            "source_arrow_fill": "filled",
            "source_arrow_shape": "none",
            "target": "s39",
            "target_arrow_shape": "triangle"
           }
          },
          {
           "data": {
            "arrowhead": "normal",
            "id": "fe5426a3-6436-4090-ba70-155fdc3c3d1b",
            "source": "s36",
            "source_arrow_fill": "filled",
            "source_arrow_shape": "none",
            "target": "s40",
            "target_arrow_shape": "triangle"
           }
          },
          {
           "data": {
            "arrowhead": "normal",
            "id": "b46277f9-ad0c-4dea-840e-98f777d85baf",
            "source": "s36",
            "source_arrow_fill": "filled",
            "source_arrow_shape": "none",
            "target": "s33",
            "target_arrow_shape": "triangle"
           }
          },
          {
           "data": {
            "arrowhead": "normal",
            "id": "e4a57506-f84f-463a-87b6-628953674da8",
            "source": "s37",
            "source_arrow_fill": "hollow",
            "source_arrow_shape": "diamond",
            "target": "s41",
            "target_arrow_shape": "triangle"
           }
          },
          {
           "data": {
            "arrowhead": "normal",
            "id": "3ed3478e-5685-4df3-9368-3f1dd6436dca",
            "source": "s37",
            "source_arrow_fill": "hollow",
            "source_arrow_shape": "diamond",
            "target": "s42",
            "target_arrow_shape": "triangle"
           }
          },
          {
           "data": {
            "arrowhead": "normal",
            "id": "fbf8496a-f5ad-4896-8c47-644f1f44ddc5",
            "source": "s37",
            "source_arrow_fill": "hollow",
            "source_arrow_shape": "diamond",
            "target": "s43",
            "target_arrow_shape": "triangle"
           }
          },
          {
           "data": {
            "arrowhead": "normal",
            "id": "67879806-6af5-4163-8ead-64f40ee3fc90",
            "source": "s37",
            "source_arrow_fill": "hollow",
            "source_arrow_shape": "diamond",
            "target": "s44",
            "target_arrow_shape": "triangle"
           }
          },
          {
           "data": {
            "arrowhead": "normal",
            "id": "25d9ca00-997f-4532-992a-cda09ed9fb35",
            "source": "s37",
            "source_arrow_fill": "hollow",
            "source_arrow_shape": "diamond",
            "target": "s45",
            "target_arrow_shape": "triangle"
           }
          },
          {
           "data": {
            "arrowhead": "normal",
            "id": "417cf37d-0644-4343-88ae-a19896a7fa51",
            "source": "s37",
            "source_arrow_fill": "hollow",
            "source_arrow_shape": "diamond",
            "target": "s49",
            "target_arrow_shape": "triangle"
           }
          },
          {
           "data": {
            "arrowhead": "normal",
            "id": "75459fd6-36ad-4f3f-85da-814a6b1db53e",
            "source": "s40",
            "source_arrow_fill": "hollow",
            "source_arrow_shape": "diamond",
            "target": "s46",
            "target_arrow_shape": "triangle"
           }
          },
          {
           "data": {
            "arrowhead": "normal",
            "id": "66b3464a-cd7e-42c4-a3fd-be53b7259837",
            "source": "s41",
            "source_arrow_fill": "filled",
            "source_arrow_shape": "none",
            "target": "s37",
            "target_arrow_shape": "triangle"
           }
          },
          {
           "data": {
            "arrowhead": "normal",
            "id": "ec68688b-91c4-4bfc-aba6-95148a197d04",
            "source": "s41",
            "source_arrow_fill": "filled",
            "source_arrow_shape": "none",
            "target": "s47",
            "target_arrow_shape": "triangle"
           }
          },
          {
           "data": {
            "arrowhead": "normal",
            "id": "06fe94d5-6e02-4293-9385-ff565a87167e",
            "source": "s42",
            "source_arrow_fill": "filled",
            "source_arrow_shape": "none",
            "target": "s48",
            "target_arrow_shape": "triangle"
           }
          },
          {
           "data": {
            "arrowhead": "normal",
            "id": "36a62dbd-5120-4d08-8ce1-7687bb626fa5",
            "source": "s42",
            "source_arrow_fill": "filled",
            "source_arrow_shape": "none",
            "target": "s37",
            "target_arrow_shape": "triangle"
           }
          },
          {
           "data": {
            "arrowhead": "normal",
            "id": "196e5442-0dbd-491a-9696-99ee842b1b93",
            "source": "s46",
            "source_arrow_fill": "filled",
            "source_arrow_shape": "none",
            "target": "s40",
            "target_arrow_shape": "triangle"
           }
          },
          {
           "data": {
            "arrowhead": "normal",
            "id": "bf189ea5-e00a-4022-b2db-94a87acb4f2b",
            "source": "s46",
            "source_arrow_fill": "filled",
            "source_arrow_shape": "none",
            "target": "s28",
            "target_arrow_shape": "triangle"
           }
          },
          {
           "data": {
            "arrowhead": "normal",
            "id": "bfb415ec-40f3-4b5d-893b-33296c5b8c56",
            "source": "s47",
            "source_arrow_fill": "hollow",
            "source_arrow_shape": "diamond",
            "target": "s49",
            "target_arrow_shape": "triangle"
           }
          },
          {
           "data": {
            "arrowhead": "normal",
            "id": "17100acf-90a1-448f-8bcd-f41ed251c6d9",
            "source": "s47",
            "source_arrow_fill": "hollow",
            "source_arrow_shape": "diamond",
            "target": "s56",
            "target_arrow_shape": "triangle"
           }
          },
          {
           "data": {
            "arrowhead": "normal",
            "id": "563ef2e4-3e8d-46ef-a0a8-db6185937805",
            "source": "s48",
            "source_arrow_fill": "hollow",
            "source_arrow_shape": "diamond",
            "target": "s50",
            "target_arrow_shape": "triangle"
           }
          },
          {
           "data": {
            "arrowhead": "normal",
            "id": "cdc19003-fc69-4bf2-b462-e7962d3626d3",
            "source": "s48",
            "source_arrow_fill": "hollow",
            "source_arrow_shape": "diamond",
            "target": "s51",
            "target_arrow_shape": "triangle"
           }
          },
          {
           "data": {
            "arrowhead": "normal",
            "id": "455197fa-4e97-4427-a650-8827126da4ef",
            "source": "s48",
            "source_arrow_fill": "hollow",
            "source_arrow_shape": "diamond",
            "target": "s52",
            "target_arrow_shape": "triangle"
           }
          },
          {
           "data": {
            "arrowhead": "normal",
            "id": "12ed52a5-5973-438e-8743-5382498e55b1",
            "source": "s48",
            "source_arrow_fill": "hollow",
            "source_arrow_shape": "diamond",
            "target": "s53",
            "target_arrow_shape": "triangle"
           }
          },
          {
           "data": {
            "arrowhead": "normal",
            "id": "7ccae5a3-3cf7-428d-bdfc-6c6104af7bab",
            "source": "s48",
            "source_arrow_fill": "hollow",
            "source_arrow_shape": "diamond",
            "target": "s55",
            "target_arrow_shape": "triangle"
           }
          },
          {
           "data": {
            "arrowhead": "normal",
            "id": "89a859fd-88bd-415e-a828-19ae0c7d7791",
            "source": "s48",
            "source_arrow_fill": "hollow",
            "source_arrow_shape": "diamond",
            "target": "s60",
            "target_arrow_shape": "triangle"
           }
          },
          {
           "data": {
            "arrowhead": "normal",
            "id": "57fe3602-0cc9-4bc6-8be6-349a3817b941",
            "source": "s49",
            "source_arrow_fill": "filled",
            "source_arrow_shape": "none",
            "target": "s37",
            "target_arrow_shape": "triangle"
           }
          },
          {
           "data": {
            "arrowhead": "normal",
            "id": "0282b919-5a26-4cac-a990-e7431e204ebc",
            "source": "s49",
            "source_arrow_fill": "filled",
            "source_arrow_shape": "none",
            "target": "s54",
            "target_arrow_shape": "triangle"
           }
          },
          {
           "data": {
            "arrowhead": "normal",
            "id": "c2b47b53-5424-469f-964f-d58bad701b43",
            "source": "s50",
            "source_arrow_fill": "filled",
            "source_arrow_shape": "none",
            "target": "s48",
            "target_arrow_shape": "triangle"
           }
          },
          {
           "data": {
            "arrowhead": "normal",
            "id": "94b45692-45b9-4c9f-a123-72055061c7c9",
            "source": "s53",
            "source_arrow_fill": "hollow",
            "source_arrow_shape": "diamond",
            "target": "s55",
            "target_arrow_shape": "triangle"
           }
          },
          {
           "data": {
            "arrowhead": "normal",
            "id": "73768ec2-faea-4d0a-b83d-1cef12ec3b6b",
            "source": "s54",
            "source_arrow_fill": "hollow",
            "source_arrow_shape": "diamond",
            "target": "s56",
            "target_arrow_shape": "triangle"
           }
          },
          {
           "data": {
            "arrowhead": "normal",
            "id": "7806e1ca-6819-41ce-81af-d6c6ca2249fd",
            "source": "s54",
            "source_arrow_fill": "hollow",
            "source_arrow_shape": "diamond",
            "target": "s57",
            "target_arrow_shape": "triangle"
           }
          },
          {
           "data": {
            "arrowhead": "normal",
            "id": "8eed46fe-a19c-4bf5-ad16-0931c1339a40",
            "source": "s54",
            "source_arrow_fill": "hollow",
            "source_arrow_shape": "diamond",
            "target": "s58",
            "target_arrow_shape": "triangle"
           }
          },
          {
           "data": {
            "arrowhead": "normal",
            "id": "1d2947a2-21ce-4eca-8a99-c4f91626dc03",
            "source": "s54",
            "source_arrow_fill": "hollow",
            "source_arrow_shape": "diamond",
            "target": "s59",
            "target_arrow_shape": "triangle"
           }
          },
          {
           "data": {
            "arrowhead": "normal",
            "id": "71570efa-e222-4feb-9929-c478c5ca41b4",
            "source": "s54",
            "source_arrow_fill": "hollow",
            "source_arrow_shape": "diamond",
            "target": "s61",
            "target_arrow_shape": "triangle"
           }
          },
          {
           "data": {
            "arrowhead": "normal",
            "id": "4229bd67-6f32-4d9d-ba64-0f6b851b82d9",
            "source": "s54",
            "source_arrow_fill": "hollow",
            "source_arrow_shape": "diamond",
            "target": "s64",
            "target_arrow_shape": "triangle"
           }
          },
          {
           "data": {
            "arrowhead": "normal",
            "id": "214557d4-8643-4043-a106-2ffa5d87c8fe",
            "source": "s55",
            "source_arrow_fill": "hollow",
            "source_arrow_shape": "diamond",
            "target": "s60",
            "target_arrow_shape": "triangle"
           }
          },
          {
           "data": {
            "arrowhead": "normal",
            "id": "fdeed34b-e1bd-4f3d-aefc-079a5e154716",
            "source": "s56",
            "source_arrow_fill": "filled",
            "source_arrow_shape": "none",
            "target": "s54",
            "target_arrow_shape": "triangle"
           }
          },
          {
           "data": {
            "arrowhead": "normal",
            "id": "316a80eb-b2f0-47db-9449-93ff38493d58",
            "source": "s59",
            "source_arrow_fill": "hollow",
            "source_arrow_shape": "diamond",
            "target": "s61",
            "target_arrow_shape": "triangle"
           }
          },
          {
           "data": {
            "arrowhead": "normal",
            "id": "f43509a5-34a9-44fc-aaff-8b179d71f344",
            "source": "s60",
            "source_arrow_fill": "hollow",
            "source_arrow_shape": "diamond",
            "target": "s62",
            "target_arrow_shape": "triangle"
           }
          },
          {
           "data": {
            "arrowhead": "normal",
            "id": "3f58e98a-ad5f-4e80-903b-0a69da4fdc3a",
            "source": "s60",
            "source_arrow_fill": "hollow",
            "source_arrow_shape": "diamond",
            "target": "s63",
            "target_arrow_shape": "triangle"
           }
          },
          {
           "data": {
            "arrowhead": "normal",
            "id": "ecfe7742-57ed-46c8-85b2-b00897ec347f",
            "source": "s61",
            "source_arrow_fill": "hollow",
            "source_arrow_shape": "diamond",
            "target": "s64",
            "target_arrow_shape": "triangle"
           }
          },
          {
           "data": {
            "arrowhead": "normal",
            "id": "3329e75a-6244-4de4-9a13-f56ab8e55118",
            "source": "s62",
            "source_arrow_fill": "filled",
            "source_arrow_shape": "none",
            "target": "s65",
            "target_arrow_shape": "triangle"
           }
          },
          {
           "data": {
            "arrowhead": "normal",
            "id": "376f0511-dcc3-414d-9296-146e26d1fe3b",
            "source": "s62",
            "source_arrow_fill": "filled",
            "source_arrow_shape": "none",
            "target": "s60",
            "target_arrow_shape": "triangle"
           }
          },
          {
           "data": {
            "arrowhead": "normal",
            "id": "84c725b1-12fa-40b5-956a-19f37deda86e",
            "source": "s63",
            "source_arrow_fill": "filled",
            "source_arrow_shape": "none",
            "target": "s66",
            "target_arrow_shape": "triangle"
           }
          },
          {
           "data": {
            "arrowhead": "normal",
            "id": "549684c3-1e59-4ed7-9a78-5f808c02e2d3",
            "source": "s63",
            "source_arrow_fill": "filled",
            "source_arrow_shape": "none",
            "target": "s60",
            "target_arrow_shape": "triangle"
           }
          },
          {
           "data": {
            "arrowhead": "normal",
            "id": "c98d235f-2906-4219-a3e5-ecd5afc29f28",
            "source": "s64",
            "source_arrow_fill": "hollow",
            "source_arrow_shape": "diamond",
            "target": "s69",
            "target_arrow_shape": "triangle"
           }
          },
          {
           "data": {
            "arrowhead": "normal",
            "id": "2a86bbd1-a382-452c-8a50-fab040b3f2aa",
            "source": "s64",
            "source_arrow_fill": "hollow",
            "source_arrow_shape": "diamond",
            "target": "s70",
            "target_arrow_shape": "triangle"
           }
          },
          {
           "data": {
            "arrowhead": "normal",
            "id": "d2b75ab3-98b3-4d87-b0a8-5f8c905a3c13",
            "source": "s65",
            "source_arrow_fill": "hollow",
            "source_arrow_shape": "diamond",
            "target": "s68",
            "target_arrow_shape": "triangle"
           }
          },
          {
           "data": {
            "arrowhead": "normal",
            "id": "72711c57-57c4-4204-aa03-c969cf9cefa9",
            "source": "s66",
            "source_arrow_fill": "hollow",
            "source_arrow_shape": "diamond",
            "target": "s67",
            "target_arrow_shape": "triangle"
           }
          },
          {
           "data": {
            "arrowhead": "normal",
            "id": "0922f190-700d-4caf-a1b9-73492a0887f1",
            "source": "s67",
            "source_arrow_fill": "hollow",
            "source_arrow_shape": "diamond",
            "target": "s72",
            "target_arrow_shape": "triangle"
           }
          },
          {
           "data": {
            "arrowhead": "normal",
            "id": "27233e7f-c647-4920-aa9d-3e6844d40868",
            "source": "s68",
            "source_arrow_fill": "hollow",
            "source_arrow_shape": "diamond",
            "target": "s71",
            "target_arrow_shape": "triangle"
           }
          },
          {
           "data": {
            "arrowhead": "normal",
            "id": "cf94b6e3-cbea-4822-ad38-d374c4c930a9",
            "source": "s69",
            "source_arrow_fill": "filled",
            "source_arrow_shape": "none",
            "target": "s64",
            "target_arrow_shape": "triangle"
           }
          },
          {
           "data": {
            "arrowhead": "normal",
            "id": "640f8463-2b69-4887-a339-c47749a17473",
            "source": "s69",
            "source_arrow_fill": "filled",
            "source_arrow_shape": "none",
            "target": "s65",
            "target_arrow_shape": "triangle"
           }
          },
          {
           "data": {
            "arrowhead": "normal",
            "id": "25e4b84f-8c74-476b-bb17-10c74e3d7f2e",
            "source": "s70",
            "source_arrow_fill": "filled",
            "source_arrow_shape": "none",
            "target": "s64",
            "target_arrow_shape": "triangle"
           }
          },
          {
           "data": {
            "arrowhead": "normal",
            "id": "31d47a3b-052d-4acf-b668-9c0f48e30131",
            "source": "s70",
            "source_arrow_fill": "filled",
            "source_arrow_shape": "none",
            "target": "s66",
            "target_arrow_shape": "triangle"
           }
          },
          {
           "data": {
            "arrowhead": "normal",
            "id": "4bbae4f9-a177-4af9-8e82-887f7ea9ed86",
            "source": "s71",
            "source_arrow_fill": "filled",
            "source_arrow_shape": "none",
            "target": "s73",
            "target_arrow_shape": "triangle"
           }
          },
          {
           "data": {
            "arrowhead": "normal",
            "id": "ded67e84-20d3-4d58-b347-5cfc6b1dbeb0",
            "source": "s71",
            "source_arrow_fill": "filled",
            "source_arrow_shape": "none",
            "target": "s68",
            "target_arrow_shape": "triangle"
           }
          },
          {
           "data": {
            "arrowhead": "normal",
            "id": "dc8bd994-9082-4645-a0c6-cdbe387b986b",
            "source": "s73",
            "source_arrow_fill": "hollow",
            "source_arrow_shape": "diamond",
            "target": "s74",
            "target_arrow_shape": "triangle"
           }
          },
          {
           "data": {
            "arrowhead": "normal",
            "id": "9aacbac6-b713-477b-8570-cd890167c28d",
            "source": "s74",
            "source_arrow_fill": "hollow",
            "source_arrow_shape": "diamond",
            "target": "s75",
            "target_arrow_shape": "triangle"
           }
          },
          {
           "data": {
            "arrowhead": "normal",
            "id": "b46f112b-aff7-41ed-8897-921b28a71d0e",
            "source": "s74",
            "source_arrow_fill": "hollow",
            "source_arrow_shape": "diamond",
            "target": "s76",
            "target_arrow_shape": "triangle"
           }
          },
          {
           "data": {
            "arrowhead": "normal",
            "id": "67aba999-2bb6-4a96-8265-49999abc0de7",
            "source": "s75",
            "source_arrow_fill": "filled",
            "source_arrow_shape": "none",
            "target": "s33",
            "target_arrow_shape": "triangle"
           }
          },
          {
           "data": {
            "arrowhead": "normal",
            "id": "9ed7502f-db4c-4e57-bf04-733cf4d0220e",
            "source": "s75",
            "source_arrow_fill": "filled",
            "source_arrow_shape": "none",
            "target": "s74",
            "target_arrow_shape": "triangle"
           }
          }
         ],
         "nodes": [
          {
           "data": {
            "NodeType": "species",
            "background_color": "#2b913a",
            "id": "s0",
            "label": "L",
            "name": "s0",
            "parent": "0",
            "shape": "ellipse"
           },
           "position": {
            "x": 917.7962808063621,
            "y": 3409.6112844682652
           }
          },
          {
           "data": {
            "NodeType": "species",
            "background_color": "#2b913a",
            "id": "s1",
            "label": "R",
            "name": "s1",
            "parent": "0",
            "shape": "ellipse"
           },
           "position": {
            "x": 835.4470293189515,
            "y": 3404.9181212646204
           }
          },
          {
           "data": {
            "NodeType": "species",
            "background_color": "#2b913a",
            "id": "s2",
            "label": "flip",
            "name": "s2",
            "parent": "0",
            "shape": "ellipse"
           },
           "position": {
            "x": 1077.6808818111094,
            "y": 3306.38779775502
           }
          },
          {
           "data": {
            "NodeType": "species",
            "background_color": "#2b913a",
            "id": "s3",
            "label": "proC8",
            "name": "s3",
            "parent": "1",
            "shape": "ellipse"
           },
           "position": {
            "x": 1337.652037940792,
            "y": 2873.7753715536164
           }
          },
          {
           "data": {
            "NodeType": "species",
            "background_color": "#2b913a",
            "id": "s4",
            "label": "BAR",
            "name": "s4",
            "parent": "1",
            "shape": "ellipse"
           },
           "position": {
            "x": 644.0300860232092,
            "y": 3036.5057663741436
           }
          },
          {
           "data": {
            "NodeType": "species",
            "background_color": "#2b913a",
            "id": "s5",
            "label": "iApaf",
            "name": "s5",
            "parent": "2",
            "shape": "ellipse"
           },
           "position": {
            "x": 2583.266856245219,
            "y": 95.14544619458047
           }
          },
          {
           "data": {
            "NodeType": "species",
            "background_color": "#2b913a",
            "id": "s6",
            "label": "proC3",
            "name": "s6",
            "parent": "3",
            "shape": "ellipse"
           },
           "position": {
            "x": 3690.02629114307,
            "y": 1860.5302638368064
           }
          },
          {
           "data": {
            "NodeType": "species",
            "background_color": "#2b913a",
            "id": "s7",
            "label": "proC6",
            "name": "s7",
            "parent": "3",
            "shape": "ellipse"
           },
           "position": {
            "x": 3844.543903283031,
            "y": 2062.848222124313
           }
          },
          {
           "data": {
            "NodeType": "species",
            "background_color": "#2b913a",
            "id": "s8",
            "label": "C9",
            "name": "s8",
            "parent": "4",
            "shape": "ellipse"
           },
           "position": {
            "x": 3938.06887391087,
            "y": 996.1506712887824
           }
          },
          {
           "data": {
            "NodeType": "species",
            "background_color": "#2b913a",
            "id": "s9",
            "label": "uPARP",
            "name": "s9",
            "parent": "3",
            "shape": "ellipse"
           },
           "position": {
            "x": 5063.275743242255,
            "y": 1721.3191074872152
           }
          },
          {
           "data": {
            "NodeType": "species",
            "background_color": "#2b913a",
            "id": "s10",
            "label": "XIAP",
            "name": "s10",
            "parent": "4",
            "shape": "ellipse"
           },
           "position": {
            "x": 4092.441349451966,
            "y": 1216.2754872509672
           }
          },
          {
           "data": {
            "NodeType": "species",
            "background_color": "#2b913a",
            "id": "s11",
            "label": "uBid",
            "name": "s11",
            "parent": "1",
            "shape": "ellipse"
           },
           "position": {
            "x": 605.7956181716218,
            "y": 2734.02130247971
           }
          },
          {
           "data": {
            "NodeType": "species",
            "background_color": "#2b913a",
            "id": "s12",
            "label": "cBax",
            "name": "s12",
            "parent": "5",
            "shape": "ellipse"
           },
           "position": {
            "x": 815.4436385755853,
            "y": 876.9764213975463
           }
          },
          {
           "data": {
            "NodeType": "species",
            "background_color": "#2b913a",
            "id": "s13",
            "label": "mBak",
            "name": "s13",
            "parent": "6",
            "shape": "ellipse"
           },
           "position": {
            "x": 2052.1012692499053,
            "y": 1551.4892177639836
           }
          },
          {
           "data": {
            "NodeType": "species",
            "background_color": "#2b913a",
            "id": "s14",
            "label": "mBcl2",
            "name": "s14",
            "parent": "7",
            "shape": "ellipse"
           },
           "position": {
            "x": 905.2687739909215,
            "y": 1313.3480621264584
           }
          },
          {
           "data": {
            "NodeType": "species",
            "background_color": "#2b913a",
            "id": "s15",
            "label": "mBclxL",
            "name": "s15",
            "parent": "7",
            "shape": "ellipse"
           },
           "position": {
            "x": 1163.952973547679,
            "y": 1402.0348117618169
           }
          },
          {
           "data": {
            "NodeType": "species",
            "background_color": "#2b913a",
            "id": "s16",
            "label": "mMcl1",
            "name": "s16",
            "parent": "8",
            "shape": "ellipse"
           },
           "position": {
            "x": 1717.2523380404054,
            "y": 1819.764413651769
           }
          },
          {
           "data": {
            "NodeType": "species",
            "background_color": "#2b913a",
            "id": "s17",
            "label": "mBad",
            "name": "s17",
            "parent": "7",
            "shape": "ellipse"
           },
           "position": {
            "x": 752.3078899326956,
            "y": 1487.483264138479
           }
          },
          {
           "data": {
            "NodeType": "species",
            "background_color": "#2b913a",
            "id": "s18",
            "label": "mNoxa",
            "name": "s18",
            "parent": "8",
            "shape": "ellipse"
           },
           "position": {
            "x": 1721.9205778004507,
            "y": 2070.9303006861537
           }
          },
          {
           "data": {
            "NodeType": "species",
            "background_color": "#2b913a",
            "id": "s19",
            "label": "mCytoC",
            "name": "s19",
            "parent": "2",
            "shape": "ellipse"
           },
           "position": {
            "x": 2010.7153258987737,
            "y": 325.72821867697303
           }
          },
          {
           "data": {
            "NodeType": "species",
            "background_color": "#2b913a",
            "id": "s20",
            "label": "mSmac",
            "name": "s20",
            "parent": "4",
            "shape": "ellipse"
           },
           "position": {
            "x": 2872.692011785777,
            "y": 850.5965604768339
           }
          },
          {
           "data": {
            "NodeType": "species",
            "background_color": "#2b913a",
            "id": "s21",
            "label": "L-R",
            "name": "s21",
            "parent": "0",
            "shape": "ellipse"
           },
           "position": {
            "x": 894.1390289630344,
            "y": 3298.2659873719263
           }
          },
          {
           "data": {
            "NodeType": "species",
            "background_color": "#2b913a",
            "id": "s22",
            "label": "mBad-mBcl2",
            "name": "s22",
            "parent": "7",
            "shape": "ellipse"
           },
           "position": {
            "x": 745.8737311175628,
            "y": 1381.3314082758172
           }
          },
          {
           "data": {
            "NodeType": "species",
            "background_color": "#2b913a",
            "id": "s23",
            "label": "mBad-mBclxL",
            "name": "s23",
            "parent": "7",
            "shape": "ellipse"
           },
           "position": {
            "x": 917.3603459605511,
            "y": 1457.7664565952791
           }
          },
          {
           "data": {
            "NodeType": "species",
            "background_color": "#2b913a",
            "id": "s24",
            "label": "mMcl1-mNoxa",
            "name": "s24",
            "parent": "8",
            "shape": "ellipse"
           },
           "position": {
            "x": 1716.2045779866385,
            "y": 1953.6844634994618
           }
          },
          {
           "data": {
            "NodeType": "species",
            "background_color": "#2b913a",
            "id": "s25",
            "label": "DISC",
            "name": "s25",
            "parent": "0",
            "shape": "ellipse"
           },
           "position": {
            "x": 961.591918003689,
            "y": 3165.6148682766366
           }
          },
          {
           "data": {
            "NodeType": "species",
            "background_color": "#2b913a",
            "id": "s26",
            "label": "proC8-DISC",
            "name": "s26",
            "parent": "1",
            "shape": "ellipse"
           },
           "position": {
            "x": 1187.8086605893059,
            "y": 2868.6278816559743
           }
          },
          {
           "data": {
            "NodeType": "species",
            "background_color": "#2b913a",
            "id": "s27",
            "label": "DISC-flip",
            "name": "s27",
            "parent": "0",
            "shape": "ellipse"
           },
           "position": {
            "x": 979.8148212568249,
            "y": 3270.1175996766933
           }
          },
          {
           "data": {
            "NodeType": "species",
            "background_color": "#2b913a",
            "id": "s28",
            "label": "aC8",
            "name": "s28",
            "parent": "1",
            "shape": "ellipse"
           },
           "position": {
            "x": 1516.7578769051725,
            "y": 2653.2510226989293
           }
          },
          {
           "data": {
            "NodeType": "species",
            "background_color": "#2b913a",
            "id": "s29",
            "label": "uBid-aC8",
            "name": "s29",
            "parent": "1",
            "shape": "ellipse"
           },
           "position": {
            "x": 924.4983820279522,
            "y": 2592.1874104031585
           }
          },
          {
           "data": {
            "NodeType": "species",
            "background_color": "#2b913a",
            "id": "s30",
            "label": "BAR-aC8",
            "name": "s30",
            "parent": "1",
            "shape": "ellipse"
           },
           "position": {
            "x": 968.1713828930187,
            "y": 2894.600409569423
           }
          },
          {
           "data": {
            "NodeType": "species",
            "background_color": "#2b913a",
            "id": "s31",
            "label": "proC3-aC8",
            "name": "s31",
            "parent": "3",
            "shape": "ellipse"
           },
           "position": {
            "x": 3193.9825282980673,
            "y": 2098.2732504356
           }
          },
          {
           "data": {
            "NodeType": "species",
            "background_color": "#2b913a",
            "id": "s32",
            "label": "tBid",
            "name": "s32",
            "parent": "1",
            "shape": "ellipse"
           },
           "position": {
            "x": 852.3971645894817,
            "y": 2247.6876536426644
           }
          },
          {
           "data": {
            "NodeType": "species",
            "background_color": "#2b913a",
            "id": "s33",
            "label": "aC3",
            "name": "s33",
            "parent": "3",
            "shape": "ellipse"
           },
           "position": {
            "x": 4019.7066096850494,
            "y": 1853.0829689014768
           }
          },
          {
           "data": {
            "NodeType": "species",
            "background_color": "#2b913a",
            "id": "s34",
            "label": "aC3-XIAP",
            "name": "s34",
            "parent": "3",
            "shape": "ellipse"
           },
           "position": {
            "x": 4447.344442560781,
            "y": 1633.763826171497
           }
          },
          {
           "data": {
            "NodeType": "species",
            "background_color": "#2b913a",
            "id": "s35",
            "label": "aC3-uPARP",
            "name": "s35",
            "parent": "3",
            "shape": "ellipse"
           },
           "position": {
            "x": 4736.516311183089,
            "y": 1738.6323619113123
           }
          },
          {
           "data": {
            "NodeType": "species",
            "background_color": "#2b913a",
            "id": "s36",
            "label": "aC3-proC6",
            "name": "s36",
            "parent": "3",
            "shape": "ellipse"
           },
           "position": {
            "x": 3529.7100102559825,
            "y": 2116.9723422666793
           }
          },
          {
           "data": {
            "NodeType": "species",
            "background_color": "#2b913a",
            "id": "s37",
            "label": "mBid",
            "name": "s37",
            "parent": "7",
            "shape": "ellipse"
           },
           "position": {
            "x": 1176.7547535003978,
            "y": 1536.7491488652463
           }
          },
          {
           "data": {
            "NodeType": "species",
            "background_color": "#2b913a",
            "id": "s38",
            "label": "ubC3",
            "name": "s38",
            "parent": "3",
            "shape": "ellipse"
           },
           "position": {
            "x": 4765.835911758646,
            "y": 1588.8170055784508
           }
          },
          {
           "data": {
            "NodeType": "species",
            "background_color": "#2b913a",
            "id": "s39",
            "label": "cPARP",
            "name": "s39",
            "parent": "3",
            "shape": "ellipse"
           },
           "position": {
            "x": 5050.724743225124,
            "y": 1652.6287168695317
           }
          },
          {
           "data": {
            "NodeType": "species",
            "background_color": "#2b913a",
            "id": "s40",
            "label": "aC6",
            "name": "s40",
            "parent": "1",
            "shape": "ellipse"
           },
           "position": {
            "x": 2376.0843818283784,
            "y": 2521.729460746815
           }
          },
          {
           "data": {
            "NodeType": "species",
            "background_color": "#2b913a",
            "id": "s41",
            "label": "cBax-mBid",
            "name": "s41",
            "parent": "5",
            "shape": "ellipse"
           },
           "position": {
            "x": 945.2632865118776,
            "y": 1009.7916427216721
           }
          },
          {
           "data": {
            "NodeType": "species",
            "background_color": "#2b913a",
            "id": "s42",
            "label": "mBak-mBid",
            "name": "s42",
            "parent": "6",
            "shape": "ellipse"
           },
           "position": {
            "x": 1849.7080591931026,
            "y": 1500.7656451330831
           }
          },
          {
           "data": {
            "NodeType": "species",
            "background_color": "#2b913a",
            "id": "s43",
            "label": "mBcl2-mBid",
            "name": "s43",
            "parent": "7",
            "shape": "ellipse"
           },
           "position": {
            "x": 1032.6901934429552,
            "y": 1427.7681582432274
           }
          },
          {
           "data": {
            "NodeType": "species",
            "background_color": "#2b913a",
            "id": "s44",
            "label": "mBclxL-mBid",
            "name": "s44",
            "parent": "7",
            "shape": "ellipse"
           },
           "position": {
            "x": 1050.4845793929453,
            "y": 1509.7240135398729
           }
          },
          {
           "data": {
            "NodeType": "species",
            "background_color": "#2b913a",
            "id": "s45",
            "label": "mBid-mMcl1",
            "name": "s45",
            "parent": "8",
            "shape": "ellipse"
           },
           "position": {
            "x": 1551.3046272902884,
            "y": 1787.3725539978368
           }
          },
          {
           "data": {
            "NodeType": "species",
            "background_color": "#2b913a",
            "id": "s46",
            "label": "aC6-proC8",
            "name": "s46",
            "parent": "1",
            "shape": "ellipse"
           },
           "position": {
            "x": 1704.1789360649873,
            "y": 2727.1409205113973
           }
          },
          {
           "data": {
            "NodeType": "species",
            "background_color": "#2b913a",
            "id": "s47",
            "label": "mBax",
            "name": "s47",
            "parent": "5",
            "shape": "ellipse"
           },
           "position": {
            "x": 1041.6518305586414,
            "y": 866.8365148958087
           }
          },
          {
           "data": {
            "NodeType": "species",
            "background_color": "#2b913a",
            "id": "s48",
            "label": "aBak",
            "name": "s48",
            "parent": "6",
            "shape": "ellipse"
           },
           "position": {
            "x": 2086.053476826479,
            "y": 1373.1743731700212
           }
          },
          {
           "data": {
            "NodeType": "species",
            "background_color": "#2b913a",
            "id": "s49",
            "label": "mBax-mBid",
            "name": "s49",
            "parent": "5",
            "shape": "ellipse"
           },
           "position": {
            "x": 1187.6398726712941,
            "y": 966.4869855225313
           }
          },
          {
           "data": {
            "NodeType": "species",
            "background_color": "#2b913a",
            "id": "s50",
            "label": "aBak-mBak",
            "name": "s50",
            "parent": "6",
            "shape": "ellipse"
           },
           "position": {
            "x": 2192.004176715436,
            "y": 1504.1548758591425
           }
          },
          {
           "data": {
            "NodeType": "species",
            "background_color": "#2b913a",
            "id": "s51",
            "label": "aBak-mBclxL",
            "name": "s51",
            "parent": "7",
            "shape": "ellipse"
           },
           "position": {
            "x": 1470.4014479474154,
            "y": 1402.8613375820598
           }
          },
          {
           "data": {
            "NodeType": "species",
            "background_color": "#2b913a",
            "id": "s52",
            "label": "aBak-mMcl1",
            "name": "s52",
            "parent": "8",
            "shape": "ellipse"
           },
           "position": {
            "x": 1846.6478087923851,
            "y": 1692.2608945853822
           }
          },
          {
           "data": {
            "NodeType": "species",
            "background_color": "#2b913a",
            "id": "s53",
            "label": "2aBak",
            "name": "s53",
            "parent": "6",
            "shape": "ellipse"
           },
           "position": {
            "x": 2244.1638678654444,
            "y": 1404.2592851961645
           }
          },
          {
           "data": {
            "NodeType": "species",
            "background_color": "#2b913a",
            "id": "s54",
            "label": "aBax",
            "name": "s54",
            "parent": "5",
            "shape": "ellipse"
           },
           "position": {
            "x": 1375.1844893264824,
            "y": 803.9594524617355
           }
          },
          {
           "data": {
            "NodeType": "species",
            "background_color": "#2b913a",
            "id": "s55",
            "label": "3aBak",
            "name": "s55",
            "parent": "6",
            "shape": "ellipse"
           },
           "position": {
            "x": 2256.33049366283,
            "y": 1286.4475443548724
           }
          },
          {
           "data": {
            "NodeType": "species",
            "background_color": "#2b913a",
            "id": "s56",
            "label": "aBax-mBax",
            "name": "s56",
            "parent": "5",
            "shape": "ellipse"
           },
           "position": {
            "x": 1173.45158496584,
            "y": 760.9192179988249
           }
          },
          {
           "data": {
            "NodeType": "species",
            "background_color": "#2b913a",
            "id": "s57",
            "label": "aBax-mBcl2",
            "name": "s57",
            "parent": "7",
            "shape": "ellipse"
           },
           "position": {
            "x": 1001.9444106475494,
            "y": 1160.7037163801485
           }
          },
          {
           "data": {
            "NodeType": "species",
            "background_color": "#2b913a",
            "id": "s58",
            "label": "aBax-mBclxL",
            "name": "s58",
            "parent": "7",
            "shape": "ellipse"
           },
           "position": {
            "x": 1165.151030879777,
            "y": 1242.044481156856
           }
          },
          {
           "data": {
            "NodeType": "species",
            "background_color": "#2b913a",
            "id": "s59",
            "label": "2aBax",
            "name": "s59",
            "parent": "5",
            "shape": "ellipse"
           },
           "position": {
            "x": 1369.4038489227478,
            "y": 662.2536691082933
           }
          },
          {
           "data": {
            "NodeType": "species",
            "background_color": "#2b913a",
            "id": "s60",
            "label": "4aBak",
            "name": "s60",
            "parent": "6",
            "shape": "ellipse"
           },
           "position": {
            "x": 2298.4524793147557,
            "y": 1094.4897985964888
           }
          },
          {
           "data": {
            "NodeType": "species",
            "background_color": "#2b913a",
            "id": "s61",
            "label": "3aBax",
            "name": "s61",
            "parent": "5",
            "shape": "ellipse"
           },
           "position": {
            "x": 1514.700217465579,
            "y": 687.7848533435158
           }
          },
          {
           "data": {
            "NodeType": "species",
            "background_color": "#2b913a",
            "id": "s62",
            "label": "4aBak-mCytoC",
            "name": "s62",
            "parent": "2",
            "shape": "ellipse"
           },
           "position": {
            "x": 2102.045686510138,
            "y": 492.02973998525067
           }
          },
          {
           "data": {
            "NodeType": "species",
            "background_color": "#2b913a",
            "id": "s63",
            "label": "4aBak-mSmac",
            "name": "s63",
            "parent": "4",
            "shape": "ellipse"
           },
           "position": {
            "x": 2858.3637217077066,
            "y": 967.3707041445416
           }
          },
          {
           "data": {
            "NodeType": "species",
            "background_color": "#2b913a",
            "id": "s64",
            "label": "4aBax",
            "name": "s64",
            "parent": "5",
            "shape": "ellipse"
           },
           "position": {
            "x": 1768.6252572850872,
            "y": 704.2439991975907
           }
          },
          {
           "data": {
            "NodeType": "species",
            "background_color": "#2b913a",
            "id": "s65",
            "label": "cCytoC",
            "name": "s65",
            "parent": "2",
            "shape": "ellipse"
           },
           "position": {
            "x": 2113.2350304764823,
            "y": 271.53675858742463
           }
          },
          {
           "data": {
            "NodeType": "species",
            "background_color": "#2b913a",
            "id": "s66",
            "label": "cSmac",
            "name": "s66",
            "parent": "4",
            "shape": "ellipse"
           },
           "position": {
            "x": 3083.699264217681,
            "y": 926.2321272206111
           }
          },
          {
           "data": {
            "NodeType": "species",
            "background_color": "#2b913a",
            "id": "s67",
            "label": "aSmac",
            "name": "s67",
            "parent": "4",
            "shape": "ellipse"
           },
           "position": {
            "x": 3495.142190926409,
            "y": 1003.2392339780695
           }
          },
          {
           "data": {
            "NodeType": "species",
            "background_color": "#2b913a",
            "id": "s68",
            "label": "aCytoC",
            "name": "s68",
            "parent": "2",
            "shape": "ellipse"
           },
           "position": {
            "x": 2364.0327157311604,
            "y": 201.4481221949859
           }
          },
          {
           "data": {
            "NodeType": "species",
            "background_color": "#2b913a",
            "id": "s69",
            "label": "4aBax-mCytoC",
            "name": "s69",
            "parent": "2",
            "shape": "ellipse"
           },
           "position": {
            "x": 1887.1878572065707,
            "y": 272.7508349970135
           }
          },
          {
           "data": {
            "NodeType": "species",
            "background_color": "#2b913a",
            "id": "s70",
            "label": "4aBax-mSmac",
            "name": "s70",
            "parent": "4",
            "shape": "ellipse"
           },
           "position": {
            "x": 2650.193898064791,
            "y": 828.6374808651435
           }
          },
          {
           "data": {
            "NodeType": "species",
            "background_color": "#2b913a",
            "id": "s71",
            "label": "iApaf-aCytoC",
            "name": "s71",
            "parent": "2",
            "shape": "ellipse"
           },
           "position": {
            "x": 2689.232727285198,
            "y": 262.08873538787884
           }
          },
          {
           "data": {
            "NodeType": "species",
            "background_color": "#2b913a",
            "id": "s72",
            "label": "aSmac-XIAP",
            "name": "s72",
            "parent": "4",
            "shape": "ellipse"
           },
           "position": {
            "x": 3839.719964236193,
            "y": 1101.1725454922787
           }
          },
          {
           "data": {
            "NodeType": "species",
            "background_color": "#2b913a",
            "id": "s73",
            "label": "aApaf",
            "name": "s73",
            "parent": "2",
            "shape": "ellipse"
           },
           "position": {
            "x": 3092.7064894166306,
            "y": 517.3545538054195
           }
          },
          {
           "data": {
            "NodeType": "species",
            "background_color": "#2b913a",
            "id": "s74",
            "label": "Apop",
            "name": "s74",
            "parent": "4",
            "shape": "ellipse"
           },
           "position": {
            "x": 3766.3634103471977,
            "y": 1012.2766640234167
           }
          },
          {
           "data": {
            "NodeType": "species",
            "background_color": "#2b913a",
            "id": "s75",
            "label": "Apop-proC3",
            "name": "s75",
            "parent": "3",
            "shape": "ellipse"
           },
           "position": {
            "x": 3955.5233735575894,
            "y": 1632.5353290670246
           }
          },
          {
           "data": {
            "NodeType": "species",
            "background_color": "#2b913a",
            "id": "s76",
            "label": "Apop-XIAP",
            "name": "s76",
            "parent": "4",
            "shape": "ellipse"
           },
           "position": {
            "x": 3994.263982900682,
            "y": 1086.8863701156108
           }
          },
          {
           "data": {
            "NodeType": "community",
            "id": "0",
            "name": "0"
           },
           "position": {
            "x": 956.5639555650305,
            "y": 3279.613076372451
           }
          },
          {
           "data": {
            "NodeType": "community",
            "id": "1",
            "name": "1"
           },
           "position": {
            "x": 1490.19,
            "y": 2634.096710008404
           }
          },
          {
           "data": {
            "NodeType": "community",
            "id": "2",
            "name": "2"
           },
           "position": {
            "x": 2472.6971733116006,
            "y": 298.25
           }
          },
          {
           "data": {
            "NodeType": "community",
            "id": "3",
            "name": "3"
           },
           "position": {
            "x": 4121.379135770161,
            "y": 1844.894673922565
           }
          },
          {
           "data": {
            "NodeType": "community",
            "id": "4",
            "name": "4"
           },
           "position": {
            "x": 3353.5676237583784,
            "y": 1014.4564840580554
           }
          },
          {
           "data": {
            "NodeType": "community",
            "id": "5",
            "name": "5"
           },
           "position": {
            "x": 1294.2844479303362,
            "y": 828.0226559149827
           }
          },
          {
           "data": {
            "NodeType": "community",
            "id": "6",
            "name": "6"
           },
           "position": {
            "x": 2064.080269253929,
            "y": 1314.989508180236
           }
          },
          {
           "data": {
            "NodeType": "community",
            "id": "7",
            "name": "7"
           },
           "position": {
            "x": 1108.637589532489,
            "y": 1340.7264326226973
           }
          },
          {
           "data": {
            "NodeType": "community",
            "id": "8",
            "name": "8"
           },
           "position": {
            "x": 1698.4762180413368,
            "y": 1873.595597635768
           }
          }
         ]
        }
       },
       "format": "cyjs",
       "layout": "IPY_MODEL_7905a626e4644509bf190b7cd8dd4484",
       "layout_name": "cose-bilkent",
       "type_of_viz": "communities_view",
       "visual_style": null
      }
     },
     "63632459b45840ca91e0af70d36814e7": {
      "model_module": "viz-pysb-widget",
      "model_module_version": "^0.1.0",
      "model_name": "CytoscapeModel",
      "state": {
       "_model_module_version": "^0.1.0",
       "_view_module_version": "^0.1.0",
       "background": "#FFFFFF",
       "data": {
        "data": {
         "graph": {
          "rankdir": "LR"
         },
         "name": "pysb",
         "paths": []
        },
        "elements": {
         "edges": [
          {
           "data": {
            "arrowhead": "normal",
            "id": "8486c92e-3974-4657-b8c2-fca2a31ff61b",
            "source": "s0",
            "source_arrow_fill": "hollow",
            "source_arrow_shape": "diamond",
            "target": "s4",
            "target_arrow_shape": "triangle"
           }
          },
          {
           "data": {
            "arrowhead": "normal",
            "id": "197068c8-0c16-4738-bc37-d5a5fbb00356",
            "source": "s1",
            "source_arrow_fill": "hollow",
            "source_arrow_shape": "diamond",
            "target": "s4",
            "target_arrow_shape": "triangle"
           }
          },
          {
           "data": {
            "arrowhead": "normal",
            "id": "2a533b46-4002-4189-88a0-aeb1cae335c5",
            "source": "s2",
            "source_arrow_fill": "hollow",
            "source_arrow_shape": "diamond",
            "target": "s6",
            "target_arrow_shape": "triangle"
           }
          },
          {
           "data": {
            "arrowhead": "normal",
            "id": "213e0f8a-38f6-4273-af0f-29657239666d",
            "source": "s3",
            "source_arrow_fill": "hollow",
            "source_arrow_shape": "diamond",
            "target": "s8",
            "target_arrow_shape": "triangle"
           }
          },
          {
           "data": {
            "arrowhead": "normal",
            "id": "bf5965c5-c96e-4d6c-b5ac-60f59e24f67c",
            "source": "s4",
            "source_arrow_fill": "filled",
            "source_arrow_shape": "none",
            "target": "s1",
            "target_arrow_shape": "triangle"
           }
          },
          {
           "data": {
            "arrowhead": "normal",
            "id": "9386a63a-eacf-4e73-8fef-a4879e5d7484",
            "source": "s4",
            "source_arrow_fill": "filled",
            "source_arrow_shape": "none",
            "target": "s5",
            "target_arrow_shape": "triangle"
           }
          },
          {
           "data": {
            "arrowhead": "normal",
            "id": "eb38b3da-a109-45a7-bca6-865484ae79b3",
            "source": "s5",
            "source_arrow_fill": "hollow",
            "source_arrow_shape": "diamond",
            "target": "s6",
            "target_arrow_shape": "triangle"
           }
          },
          {
           "data": {
            "arrowhead": "normal",
            "id": "41f882e6-f6a6-4a88-a59d-f0eef234b22e",
            "source": "s6",
            "source_arrow_fill": "filled",
            "source_arrow_shape": "none",
            "target": "s2",
            "target_arrow_shape": "triangle"
           }
          },
          {
           "data": {
            "arrowhead": "normal",
            "id": "8dc67383-d349-4ca9-a3f7-9324daac7557",
            "source": "s6",
            "source_arrow_fill": "filled",
            "source_arrow_shape": "none",
            "target": "s7",
            "target_arrow_shape": "triangle"
           }
          },
          {
           "data": {
            "arrowhead": "normal",
            "id": "5613efbf-55c8-4b6d-9967-730da85d8d70",
            "source": "s7",
            "source_arrow_fill": "hollow",
            "source_arrow_shape": "diamond",
            "target": "s8",
            "target_arrow_shape": "triangle"
           }
          },
          {
           "data": {
            "arrowhead": "normal",
            "id": "85c2e674-6d61-41ce-9431-c7d176a87ec5",
            "source": "s8",
            "source_arrow_fill": "filled",
            "source_arrow_shape": "none",
            "target": "s9",
            "target_arrow_shape": "triangle"
           }
          },
          {
           "data": {
            "arrowhead": "normal",
            "id": "437beb3a-59ee-47c5-8635-cab419efa761",
            "source": "s8",
            "source_arrow_fill": "filled",
            "source_arrow_shape": "none",
            "target": "s3",
            "target_arrow_shape": "triangle"
           }
          }
         ],
         "nodes": [
          {
           "data": {
            "NodeType": "species",
            "background_color": "#2b913a",
            "id": "s0",
            "label": "L",
            "name": "s0",
            "shape": "ellipse"
           },
           "position": {
            "x": 27,
            "y": 180
           }
          },
          {
           "data": {
            "NodeType": "species",
            "background_color": "#2b913a",
            "id": "s1",
            "label": "R",
            "name": "s1",
            "shape": "ellipse"
           },
           "position": {
            "x": 207,
            "y": 180
           }
          },
          {
           "data": {
            "NodeType": "species",
            "background_color": "#2b913a",
            "id": "s2",
            "label": "T1",
            "name": "s2",
            "shape": "ellipse"
           },
           "position": {
            "x": 387,
            "y": 126
           }
          },
          {
           "data": {
            "NodeType": "species",
            "background_color": "#2b913a",
            "id": "s3",
            "label": "T2",
            "name": "s3",
            "shape": "ellipse"
           },
           "position": {
            "x": 572.51,
            "y": 72
           }
          },
          {
           "data": {
            "NodeType": "species",
            "background_color": "#2b913a",
            "id": "s4",
            "label": "LR",
            "name": "s4",
            "shape": "ellipse"
           },
           "position": {
            "x": 117,
            "y": 180
           }
          },
          {
           "data": {
            "NodeType": "species",
            "background_color": "#2b913a",
            "id": "s5",
            "label": "L",
            "name": "s5",
            "shape": "ellipse"
           },
           "position": {
            "x": 207,
            "y": 126
           }
          },
          {
           "data": {
            "NodeType": "species",
            "background_color": "#2b913a",
            "id": "s6",
            "label": "LT1",
            "name": "s6",
            "shape": "ellipse"
           },
           "position": {
            "x": 297,
            "y": 126
           }
          },
          {
           "data": {
            "NodeType": "species",
            "background_color": "#2b913a",
            "id": "s7",
            "label": "L2",
            "name": "s7",
            "shape": "ellipse"
           },
           "position": {
            "x": 387,
            "y": 72
           }
          },
          {
           "data": {
            "NodeType": "species",
            "background_color": "#2b913a",
            "id": "s8",
            "label": "L2T2",
            "name": "s8",
            "shape": "ellipse"
           },
           "position": {
            "x": 479.75,
            "y": 72
           }
          },
          {
           "data": {
            "NodeType": "species",
            "background_color": "#2b913a",
            "id": "s9",
            "label": "L2",
            "name": "s9",
            "shape": "ellipse"
           },
           "position": {
            "x": 572.51,
            "y": 18
           }
          }
         ]
        }
       },
       "format": "cyjs",
       "layout": "IPY_MODEL_a97b8cff7f264360a65c4cd3798a1eaf",
       "layout_name": "preset",
       "type_of_viz": "species_view",
       "visual_style": null
      }
     },
     "7905a626e4644509bf190b7cd8dd4484": {
      "model_module": "@jupyter-widgets/base",
      "model_module_version": "1.1.0",
      "model_name": "LayoutModel",
      "state": {}
     },
     "8cd16e1863d64d328873510186339a13": {
      "model_module": "@jupyter-widgets/base",
      "model_module_version": "1.1.0",
      "model_name": "LayoutModel",
      "state": {}
     },
     "8f4a39f49f3e40a2b543f8223af82173": {
      "model_module": "viz-pysb-widget",
      "model_module_version": "^0.1.0",
      "model_name": "CytoscapeModel",
      "state": {
       "_model_module_version": "^0.1.0",
       "_view_module_version": "^0.1.0",
       "background": "#FFFFFF",
       "data": {
        "data": {
         "graph": {
          "rankdir": "LR"
         },
         "name": "pysb",
         "paths": []
        },
        "elements": {
         "edges": [
          {
           "data": {
            "arrowhead": "normal",
            "id": "c4256a54-d9c2-46a2-9568-aaeafcc433c3",
            "source": "s0",
            "source_arrow_fill": "hollow",
            "source_arrow_shape": "diamond",
            "target": "s1",
            "target_arrow_shape": "triangle"
           }
          },
          {
           "data": {
            "arrowhead": "normal",
            "id": "8ececca0-e72c-4391-93fb-6b3400f93ada",
            "source": "s0",
            "source_arrow_fill": "hollow",
            "source_arrow_shape": "diamond",
            "target": "s2",
            "target_arrow_shape": "triangle"
           }
          },
          {
           "data": {
            "arrowhead": "normal",
            "id": "d8ebf5b2-ede8-42d2-a093-eaddacb31bb5",
            "source": "s1",
            "source_arrow_fill": "hollow",
            "source_arrow_shape": "diamond",
            "target": "s3",
            "target_arrow_shape": "triangle"
           }
          },
          {
           "data": {
            "arrowhead": "normal",
            "id": "da167ff0-e6b9-477c-bec2-f56fa57bacd2",
            "source": "s1",
            "source_arrow_fill": "hollow",
            "source_arrow_shape": "diamond",
            "target": "s4",
            "target_arrow_shape": "triangle"
           }
          },
          {
           "data": {
            "arrowhead": "normal",
            "id": "639bad01-571b-4be3-bb06-d98459885dba",
            "source": "s2",
            "source_arrow_fill": "hollow",
            "source_arrow_shape": "diamond",
            "target": "s4",
            "target_arrow_shape": "triangle"
           }
          },
          {
           "data": {
            "arrowhead": "normal",
            "id": "b972c0bd-e5e3-4b30-aab7-acc072886d18",
            "source": "s2",
            "source_arrow_fill": "hollow",
            "source_arrow_shape": "diamond",
            "target": "s5",
            "target_arrow_shape": "triangle"
           }
          },
          {
           "data": {
            "arrowhead": "normal",
            "id": "0a819cb5-be09-483f-96de-d9b5510e5988",
            "source": "s3",
            "source_arrow_fill": "hollow",
            "source_arrow_shape": "diamond",
            "target": "s6",
            "target_arrow_shape": "triangle"
           }
          },
          {
           "data": {
            "arrowhead": "normal",
            "id": "2104e3be-1103-4c7f-8fa3-0ea819bb1f97",
            "source": "s4",
            "source_arrow_fill": "hollow",
            "source_arrow_shape": "diamond",
            "target": "s6",
            "target_arrow_shape": "triangle"
           }
          },
          {
           "data": {
            "arrowhead": "normal",
            "id": "6471e4ab-d25d-4f3a-8435-ec56b8ed2fd9",
            "source": "s4",
            "source_arrow_fill": "hollow",
            "source_arrow_shape": "diamond",
            "target": "s7",
            "target_arrow_shape": "triangle"
           }
          },
          {
           "data": {
            "arrowhead": "normal",
            "id": "f8736277-0345-4839-b17c-e2f179a1119f",
            "source": "s5",
            "source_arrow_fill": "hollow",
            "source_arrow_shape": "diamond",
            "target": "s7",
            "target_arrow_shape": "triangle"
           }
          },
          {
           "data": {
            "arrowhead": "normal",
            "id": "34a9c7fe-a1cf-4dce-af5d-4f7f8d501a85",
            "source": "s5",
            "source_arrow_fill": "hollow",
            "source_arrow_shape": "diamond",
            "target": "s8",
            "target_arrow_shape": "triangle"
           }
          },
          {
           "data": {
            "arrowhead": "normal",
            "id": "dee829b2-9664-4b34-8c0e-d2ad0e396711",
            "source": "s6",
            "source_arrow_fill": "hollow",
            "source_arrow_shape": "diamond",
            "target": "s9",
            "target_arrow_shape": "triangle"
           }
          },
          {
           "data": {
            "arrowhead": "normal",
            "id": "f4a714b7-802c-4602-8739-8d5b91d9e155",
            "source": "s7",
            "source_arrow_fill": "hollow",
            "source_arrow_shape": "diamond",
            "target": "s9",
            "target_arrow_shape": "triangle"
           }
          },
          {
           "data": {
            "arrowhead": "normal",
            "id": "c5fb0d39-aa40-4bc8-8624-c5d0d94efffa",
            "source": "s7",
            "source_arrow_fill": "hollow",
            "source_arrow_shape": "diamond",
            "target": "s10",
            "target_arrow_shape": "triangle"
           }
          },
          {
           "data": {
            "arrowhead": "normal",
            "id": "dd76b5e4-8eac-486e-9048-65e2d8014ee1",
            "source": "s8",
            "source_arrow_fill": "hollow",
            "source_arrow_shape": "diamond",
            "target": "s10",
            "target_arrow_shape": "triangle"
           }
          },
          {
           "data": {
            "arrowhead": "normal",
            "id": "78f79573-d3e1-4118-9cbf-ad56f0386cd6",
            "source": "s9",
            "source_arrow_fill": "hollow",
            "source_arrow_shape": "diamond",
            "target": "s11",
            "target_arrow_shape": "triangle"
           }
          },
          {
           "data": {
            "arrowhead": "normal",
            "id": "fdc9077f-11d5-4c92-afd7-5a967135fd2a",
            "source": "s10",
            "source_arrow_fill": "hollow",
            "source_arrow_shape": "diamond",
            "target": "s11",
            "target_arrow_shape": "triangle"
           }
          }
         ],
         "nodes": [
          {
           "data": {
            "NodeType": "species",
            "background_color": "#2b913a",
            "id": "s0",
            "label": "Basal",
            "name": "s0",
            "shape": "ellipse"
           },
           "position": {
            "x": 29.754,
            "y": 72
           }
          },
          {
           "data": {
            "NodeType": "species",
            "background_color": "#2b913a",
            "id": "s1",
            "label": "BasalACh",
            "name": "s1",
            "shape": "ellipse"
           },
           "position": {
            "x": 141.97,
            "y": 99
           }
          },
          {
           "data": {
            "NodeType": "species",
            "background_color": "#2b913a",
            "id": "s2",
            "label": "Active",
            "name": "s2",
            "shape": "ellipse"
           },
           "position": {
            "x": 141.97,
            "y": 45
           }
          },
          {
           "data": {
            "NodeType": "species",
            "background_color": "#2b913a",
            "id": "s3",
            "label": "BasalACh2",
            "name": "s3",
            "shape": "ellipse"
           },
           "position": {
            "x": 279.22,
            "y": 126
           }
          },
          {
           "data": {
            "NodeType": "species",
            "background_color": "#2b913a",
            "id": "s4",
            "label": "ActiveACh",
            "name": "s4",
            "shape": "ellipse"
           },
           "position": {
            "x": 279.22,
            "y": 72
           }
          },
          {
           "data": {
            "NodeType": "species",
            "background_color": "#2b913a",
            "id": "s5",
            "label": "Intermediate",
            "name": "s5",
            "shape": "ellipse"
           },
           "position": {
            "x": 279.22,
            "y": 18
           }
          },
          {
           "data": {
            "NodeType": "species",
            "background_color": "#2b913a",
            "id": "s6",
            "label": "ActiveACh2",
            "name": "s6",
            "shape": "ellipse"
           },
           "position": {
            "x": 441.51,
            "y": 126
           }
          },
          {
           "data": {
            "NodeType": "species",
            "background_color": "#2b913a",
            "id": "s7",
            "label": "IntermediateACh",
            "name": "s7",
            "shape": "ellipse"
           },
           "position": {
            "x": 441.51,
            "y": 72
           }
          },
          {
           "data": {
            "NodeType": "species",
            "background_color": "#2b913a",
            "id": "s8",
            "label": "Desensitised",
            "name": "s8",
            "shape": "ellipse"
           },
           "position": {
            "x": 441.51,
            "y": 18
           }
          },
          {
           "data": {
            "NodeType": "species",
            "background_color": "#2b913a",
            "id": "s9",
            "label": "IntermediateACh2",
            "name": "s9",
            "shape": "ellipse"
           },
           "position": {
            "x": 624.92,
            "y": 99
           }
          },
          {
           "data": {
            "NodeType": "species",
            "background_color": "#2b913a",
            "id": "s10",
            "label": "DesensitisedACh",
            "name": "s10",
            "shape": "ellipse"
           },
           "position": {
            "x": 624.92,
            "y": 45
           }
          },
          {
           "data": {
            "NodeType": "species",
            "background_color": "#2b913a",
            "id": "s11",
            "label": "DesensitisedACh2",
            "name": "s11",
            "shape": "ellipse"
           },
           "position": {
            "x": 812.78,
            "y": 72
           }
          }
         ]
        }
       },
       "format": "cyjs",
       "layout": "IPY_MODEL_8cd16e1863d64d328873510186339a13",
       "layout_name": "preset",
       "type_of_viz": "species_view",
       "visual_style": null
      }
     },
     "9d01ec3b46524159aec03baef8fbdd4d": {
      "model_module": "viz-pysb-widget",
      "model_module_version": "^0.1.0",
      "model_name": "CytoscapeModel",
      "state": {
       "_model_module_version": "^0.1.0",
       "_view_module_version": "^0.1.0",
       "background": "#FFFFFF",
       "data": {
        "data": {
         "graph": {
          "rankdir": "LR"
         },
         "name": "pysbjupyter.pysb_models.lopez_embedded"
        },
        "elements": {
         "edges": [
          {
           "data": {
            "arrowhead": "normal",
            "id": "abf8579c-d8ff-410c-af4d-3540aaafc3b7",
            "source": "s0",
            "source_arrow_fill": "hollow",
            "source_arrow_shape": "triangle",
            "target": "r0",
            "target_arrow_shape": "triangle"
           }
          },
          {
           "data": {
            "arrowhead": "normal",
            "id": "1c0d2d96-5e42-4572-b265-70b391133810",
            "source": "s1",
            "source_arrow_fill": "hollow",
            "source_arrow_shape": "triangle",
            "target": "r0",
            "target_arrow_shape": "triangle"
           }
          },
          {
           "data": {
            "arrowhead": "normal",
            "id": "a261d141-7767-45f1-be60-8231cdad0019",
            "source": "s2",
            "source_arrow_fill": "hollow",
            "source_arrow_shape": "triangle",
            "target": "r6",
            "target_arrow_shape": "triangle"
           }
          },
          {
           "data": {
            "arrowhead": "normal",
            "id": "bf484797-5153-4691-af2a-60e8a2766d4e",
            "source": "s3",
            "source_arrow_fill": "hollow",
            "source_arrow_shape": "triangle",
            "target": "r5",
            "target_arrow_shape": "triangle"
           }
          },
          {
           "data": {
            "arrowhead": "normal",
            "id": "f3aae7fd-2e1f-4e2c-b2e8-9b10e9e0b1c3",
            "source": "s3",
            "source_arrow_fill": "hollow",
            "source_arrow_shape": "triangle",
            "target": "r25",
            "target_arrow_shape": "triangle"
           }
          },
          {
           "data": {
            "arrowhead": "normal",
            "id": "9a9eda10-c71a-4b19-a1da-09533c37d602",
            "source": "s4",
            "source_arrow_fill": "hollow",
            "source_arrow_shape": "triangle",
            "target": "r9",
            "target_arrow_shape": "triangle"
           }
          },
          {
           "data": {
            "arrowhead": "normal",
            "id": "1dfd4930-e074-4804-bbb0-d003313dccab",
            "source": "s5",
            "source_arrow_fill": "hollow",
            "source_arrow_shape": "triangle",
            "target": "r53",
            "target_arrow_shape": "triangle"
           }
          },
          {
           "data": {
            "arrowhead": "normal",
            "id": "020c6ed2-cfa1-4136-bc36-a36051758c21",
            "source": "s6",
            "source_arrow_fill": "hollow",
            "source_arrow_shape": "triangle",
            "target": "r10",
            "target_arrow_shape": "triangle"
           }
          },
          {
           "data": {
            "arrowhead": "normal",
            "id": "fce3b61f-b0dd-4e00-a02d-74e14ee3f350",
            "source": "s6",
            "source_arrow_fill": "hollow",
            "source_arrow_shape": "triangle",
            "target": "r59",
            "target_arrow_shape": "triangle"
           }
          },
          {
           "data": {
            "arrowhead": "normal",
            "id": "614b811d-a139-46b1-9dea-82d3ae8f0044",
            "source": "s7",
            "source_arrow_fill": "hollow",
            "source_arrow_shape": "triangle",
            "target": "r15",
            "target_arrow_shape": "triangle"
           }
          },
          {
           "data": {
            "arrowhead": "normal",
            "id": "b65f609a-2263-4200-b570-c681481d10df",
            "source": "s8",
            "source_arrow_fill": "hollow",
            "source_arrow_shape": "triangle",
            "target": "r58",
            "target_arrow_shape": "triangle"
           }
          },
          {
           "data": {
            "arrowhead": "normal",
            "id": "f241e83e-7c8e-4362-be13-14909ce723eb",
            "source": "s9",
            "source_arrow_fill": "hollow",
            "source_arrow_shape": "triangle",
            "target": "r14",
            "target_arrow_shape": "triangle"
           }
          },
          {
           "data": {
            "arrowhead": "normal",
            "id": "fad3bc4d-eea4-40d8-b43b-c03ea7e742e2",
            "source": "s10",
            "source_arrow_fill": "hollow",
            "source_arrow_shape": "triangle",
            "target": "r13",
            "target_arrow_shape": "triangle"
           }
          },
          {
           "data": {
            "arrowhead": "normal",
            "id": "5b95167f-9be9-49e6-a7fd-e97392837dc3",
            "source": "s10",
            "source_arrow_fill": "hollow",
            "source_arrow_shape": "triangle",
            "target": "r54",
            "target_arrow_shape": "triangle"
           }
          },
          {
           "data": {
            "arrowhead": "normal",
            "id": "b085fb65-b244-4c35-b803-5c03d549d978",
            "source": "s10",
            "source_arrow_fill": "hollow",
            "source_arrow_shape": "triangle",
            "target": "r60",
            "target_arrow_shape": "triangle"
           }
          },
          {
           "data": {
            "arrowhead": "normal",
            "id": "832cc940-b5a9-44df-b99e-2ba89e091114",
            "source": "s11",
            "source_arrow_fill": "hollow",
            "source_arrow_shape": "triangle",
            "target": "r8",
            "target_arrow_shape": "triangle"
           }
          },
          {
           "data": {
            "arrowhead": "normal",
            "id": "c698d791-ed94-4aa7-a9cb-4a0c132e1986",
            "source": "s12",
            "source_arrow_fill": "hollow",
            "source_arrow_shape": "triangle",
            "target": "r20",
            "target_arrow_shape": "triangle"
           }
          },
          {
           "data": {
            "arrowhead": "normal",
            "id": "8b9cf6e8-09dc-4cb2-9171-1dd8d117722e",
            "source": "s13",
            "source_arrow_fill": "hollow",
            "source_arrow_shape": "triangle",
            "target": "r21",
            "target_arrow_shape": "triangle"
           }
          },
          {
           "data": {
            "arrowhead": "normal",
            "id": "a4b28a12-0331-483b-9b27-a6d3930d7f78",
            "source": "s13",
            "source_arrow_fill": "hollow",
            "source_arrow_shape": "triangle",
            "target": "r30",
            "target_arrow_shape": "triangle"
           }
          },
          {
           "data": {
            "arrowhead": "normal",
            "id": "77fc7070-4cba-4665-bc4d-38033973b8bc",
            "source": "s14",
            "source_arrow_fill": "hollow",
            "source_arrow_shape": "triangle",
            "target": "r1",
            "target_arrow_shape": "triangle"
           }
          },
          {
           "data": {
            "arrowhead": "normal",
            "id": "1c6cfa5f-d5de-4c76-b637-67690ee6d31f",
            "source": "s14",
            "source_arrow_fill": "hollow",
            "source_arrow_shape": "triangle",
            "target": "r22",
            "target_arrow_shape": "triangle"
           }
          },
          {
           "data": {
            "arrowhead": "normal",
            "id": "23481584-e6e6-4e68-bd5d-17ce3888baa9",
            "source": "s14",
            "source_arrow_fill": "hollow",
            "source_arrow_shape": "triangle",
            "target": "r38",
            "target_arrow_shape": "triangle"
           }
          },
          {
           "data": {
            "arrowhead": "normal",
            "id": "06d7015a-ceb4-4cce-a093-c5fc35e0b1df",
            "source": "s15",
            "source_arrow_fill": "hollow",
            "source_arrow_shape": "triangle",
            "target": "r2",
            "target_arrow_shape": "triangle"
           }
          },
          {
           "data": {
            "arrowhead": "normal",
            "id": "e60f0f63-b720-4da4-bd2d-9ff59bca49f3",
            "source": "s15",
            "source_arrow_fill": "hollow",
            "source_arrow_shape": "triangle",
            "target": "r23",
            "target_arrow_shape": "triangle"
           }
          },
          {
           "data": {
            "arrowhead": "normal",
            "id": "f8baba67-0210-467f-a5f8-e993d8b9a69e",
            "source": "s15",
            "source_arrow_fill": "hollow",
            "source_arrow_shape": "triangle",
            "target": "r31",
            "target_arrow_shape": "triangle"
           }
          },
          {
           "data": {
            "arrowhead": "normal",
            "id": "5a1c5caf-efdc-4ed4-a298-a36a087b49ca",
            "source": "s15",
            "source_arrow_fill": "hollow",
            "source_arrow_shape": "triangle",
            "target": "r39",
            "target_arrow_shape": "triangle"
           }
          },
          {
           "data": {
            "arrowhead": "normal",
            "id": "e0969aa9-4c01-4059-ac55-a747bfc42c08",
            "source": "s16",
            "source_arrow_fill": "hollow",
            "source_arrow_shape": "triangle",
            "target": "r3",
            "target_arrow_shape": "triangle"
           }
          },
          {
           "data": {
            "arrowhead": "normal",
            "id": "1db9c40e-35b0-46d1-af75-df4b77efbcde",
            "source": "s16",
            "source_arrow_fill": "hollow",
            "source_arrow_shape": "triangle",
            "target": "r24",
            "target_arrow_shape": "triangle"
           }
          },
          {
           "data": {
            "arrowhead": "normal",
            "id": "fb7bc0bd-a613-4953-bd58-8bc99e04b1bc",
            "source": "s16",
            "source_arrow_fill": "hollow",
            "source_arrow_shape": "triangle",
            "target": "r32",
            "target_arrow_shape": "triangle"
           }
          },
          {
           "data": {
            "arrowhead": "normal",
            "id": "45205663-94b4-4639-9f0f-137102cff3c4",
            "source": "s17",
            "source_arrow_fill": "hollow",
            "source_arrow_shape": "triangle",
            "target": "r1",
            "target_arrow_shape": "triangle"
           }
          },
          {
           "data": {
            "arrowhead": "normal",
            "id": "1a10a98d-694c-42e5-84da-7a5cb5d21d72",
            "source": "s17",
            "source_arrow_fill": "hollow",
            "source_arrow_shape": "triangle",
            "target": "r2",
            "target_arrow_shape": "triangle"
           }
          },
          {
           "data": {
            "arrowhead": "normal",
            "id": "98dd4be5-ab0f-404c-ae11-554da1ba62de",
            "source": "s18",
            "source_arrow_fill": "hollow",
            "source_arrow_shape": "triangle",
            "target": "r3",
            "target_arrow_shape": "triangle"
           }
          },
          {
           "data": {
            "arrowhead": "normal",
            "id": "4ed1be9c-9eb8-422f-82ad-d4f54f08b923",
            "source": "s19",
            "source_arrow_fill": "hollow",
            "source_arrow_shape": "triangle",
            "target": "r44",
            "target_arrow_shape": "triangle"
           }
          },
          {
           "data": {
            "arrowhead": "normal",
            "id": "0da579ed-d6bc-442d-b8e6-6164f389dba1",
            "source": "s19",
            "source_arrow_fill": "hollow",
            "source_arrow_shape": "triangle",
            "target": "r51",
            "target_arrow_shape": "triangle"
           }
          },
          {
           "data": {
            "arrowhead": "normal",
            "id": "47aa025c-2316-4369-b56f-c95c84708a04",
            "source": "s20",
            "source_arrow_fill": "hollow",
            "source_arrow_shape": "triangle",
            "target": "r45",
            "target_arrow_shape": "triangle"
           }
          },
          {
           "data": {
            "arrowhead": "normal",
            "id": "318da0c8-4f53-4864-83a6-3de035e45f8a",
            "source": "s20",
            "source_arrow_fill": "hollow",
            "source_arrow_shape": "triangle",
            "target": "r52",
            "target_arrow_shape": "triangle"
           }
          },
          {
           "data": {
            "arrowhead": "normal",
            "id": "adc9dc65-658a-4846-8a95-720175740493",
            "source": "s21",
            "source_arrow_fill": "filled",
            "source_arrow_shape": "none",
            "target": "r4",
            "target_arrow_shape": "triangle"
           }
          },
          {
           "data": {
            "arrowhead": "normal",
            "id": "6016f414-f936-49fe-a36d-fd39adc7e48b",
            "source": "s25",
            "source_arrow_fill": "hollow",
            "source_arrow_shape": "triangle",
            "target": "r5",
            "target_arrow_shape": "triangle"
           }
          },
          {
           "data": {
            "arrowhead": "normal",
            "id": "01c3fe32-905d-47fd-b299-5564eab839fb",
            "source": "s25",
            "source_arrow_fill": "hollow",
            "source_arrow_shape": "triangle",
            "target": "r6",
            "target_arrow_shape": "triangle"
           }
          },
          {
           "data": {
            "arrowhead": "normal",
            "id": "1e428c4a-9ecf-4de6-9fe4-80f834c88dab",
            "source": "s26",
            "source_arrow_fill": "filled",
            "source_arrow_shape": "none",
            "target": "r7",
            "target_arrow_shape": "triangle"
           }
          },
          {
           "data": {
            "arrowhead": "normal",
            "id": "7ce266d3-7dc8-4d14-8c3f-e7088baba47f",
            "source": "s28",
            "source_arrow_fill": "hollow",
            "source_arrow_shape": "triangle",
            "target": "r8",
            "target_arrow_shape": "triangle"
           }
          },
          {
           "data": {
            "arrowhead": "normal",
            "id": "e7900261-960b-44f7-bd94-294597d45b58",
            "source": "s28",
            "source_arrow_fill": "hollow",
            "source_arrow_shape": "triangle",
            "target": "r9",
            "target_arrow_shape": "triangle"
           }
          },
          {
           "data": {
            "arrowhead": "normal",
            "id": "ef311493-4430-4d5d-a88b-8bc54e043771",
            "source": "s28",
            "source_arrow_fill": "hollow",
            "source_arrow_shape": "triangle",
            "target": "r10",
            "target_arrow_shape": "triangle"
           }
          },
          {
           "data": {
            "arrowhead": "normal",
            "id": "1191fbca-b2bc-4a33-82de-a70b1654b75b",
            "source": "s29",
            "source_arrow_fill": "filled",
            "source_arrow_shape": "none",
            "target": "r11",
            "target_arrow_shape": "triangle"
           }
          },
          {
           "data": {
            "arrowhead": "normal",
            "id": "5cfb0c0e-637f-44f4-a6ec-a6e3a97bedc2",
            "source": "s31",
            "source_arrow_fill": "filled",
            "source_arrow_shape": "none",
            "target": "r12",
            "target_arrow_shape": "triangle"
           }
          },
          {
           "data": {
            "arrowhead": "normal",
            "id": "d8ac914d-bee7-4af9-9c29-39cde2ba4220",
            "source": "s32",
            "source_arrow_fill": "hollow",
            "source_arrow_shape": "triangle",
            "target": "r16",
            "target_arrow_shape": "triangle"
           }
          },
          {
           "data": {
            "arrowhead": "normal",
            "id": "5d7b8647-4548-4fb9-ad1b-bf03ce6b654c",
            "source": "s33",
            "source_arrow_fill": "hollow",
            "source_arrow_shape": "triangle",
            "target": "r13",
            "target_arrow_shape": "triangle"
           }
          },
          {
           "data": {
            "arrowhead": "normal",
            "id": "415910b8-c6e2-400b-84d7-2a02bb4b66ce",
            "source": "s33",
            "source_arrow_fill": "hollow",
            "source_arrow_shape": "triangle",
            "target": "r14",
            "target_arrow_shape": "triangle"
           }
          },
          {
           "data": {
            "arrowhead": "normal",
            "id": "08f4b5bf-00f9-4d6e-bf74-8233b87d713b",
            "source": "s33",
            "source_arrow_fill": "hollow",
            "source_arrow_shape": "triangle",
            "target": "r15",
            "target_arrow_shape": "triangle"
           }
          },
          {
           "data": {
            "arrowhead": "normal",
            "id": "51bd61df-91f3-4db2-8965-ebeeee8294aa",
            "source": "s34",
            "source_arrow_fill": "filled",
            "source_arrow_shape": "none",
            "target": "r17",
            "target_arrow_shape": "triangle"
           }
          },
          {
           "data": {
            "arrowhead": "normal",
            "id": "0e19f08d-d62c-43de-bab1-4c5f59f9af2c",
            "source": "s35",
            "source_arrow_fill": "filled",
            "source_arrow_shape": "none",
            "target": "r18",
            "target_arrow_shape": "triangle"
           }
          },
          {
           "data": {
            "arrowhead": "normal",
            "id": "8651f46d-879b-4491-9fbf-7ca6b98e117e",
            "source": "s36",
            "source_arrow_fill": "filled",
            "source_arrow_shape": "none",
            "target": "r19",
            "target_arrow_shape": "triangle"
           }
          },
          {
           "data": {
            "arrowhead": "normal",
            "id": "7ebeb222-4940-41df-84fb-4e7f739ef06d",
            "source": "s37",
            "source_arrow_fill": "hollow",
            "source_arrow_shape": "triangle",
            "target": "r20",
            "target_arrow_shape": "triangle"
           }
          },
          {
           "data": {
            "arrowhead": "normal",
            "id": "5dc88eda-9a6f-4df6-97a2-414af0269518",
            "source": "s37",
            "source_arrow_fill": "hollow",
            "source_arrow_shape": "triangle",
            "target": "r21",
            "target_arrow_shape": "triangle"
           }
          },
          {
           "data": {
            "arrowhead": "normal",
            "id": "aa4cc01c-f337-4894-ae4a-254ba823eefa",
            "source": "s37",
            "source_arrow_fill": "hollow",
            "source_arrow_shape": "triangle",
            "target": "r22",
            "target_arrow_shape": "triangle"
           }
          },
          {
           "data": {
            "arrowhead": "normal",
            "id": "5772d62b-8d97-4a6c-8263-13c550539ef0",
            "source": "s37",
            "source_arrow_fill": "hollow",
            "source_arrow_shape": "triangle",
            "target": "r23",
            "target_arrow_shape": "triangle"
           }
          },
          {
           "data": {
            "arrowhead": "normal",
            "id": "fb37d55f-654f-42ed-93ba-32db2bc5f90c",
            "source": "s37",
            "source_arrow_fill": "hollow",
            "source_arrow_shape": "triangle",
            "target": "r24",
            "target_arrow_shape": "triangle"
           }
          },
          {
           "data": {
            "arrowhead": "normal",
            "id": "171596d7-4734-4e3c-95e4-310854047b7c",
            "source": "s37",
            "source_arrow_fill": "hollow",
            "source_arrow_shape": "triangle",
            "target": "r29",
            "target_arrow_shape": "triangle"
           }
          },
          {
           "data": {
            "arrowhead": "normal",
            "id": "64b163b1-7a7c-4cde-ae22-075d8f196726",
            "source": "s40",
            "source_arrow_fill": "hollow",
            "source_arrow_shape": "triangle",
            "target": "r25",
            "target_arrow_shape": "triangle"
           }
          },
          {
           "data": {
            "arrowhead": "normal",
            "id": "966ae382-659a-4ffe-9efe-d5a608ea63c9",
            "source": "s41",
            "source_arrow_fill": "filled",
            "source_arrow_shape": "none",
            "target": "r26",
            "target_arrow_shape": "triangle"
           }
          },
          {
           "data": {
            "arrowhead": "normal",
            "id": "7c92d43c-eca8-4124-ad3f-4a467be0a58c",
            "source": "s42",
            "source_arrow_fill": "filled",
            "source_arrow_shape": "none",
            "target": "r27",
            "target_arrow_shape": "triangle"
           }
          },
          {
           "data": {
            "arrowhead": "normal",
            "id": "3e18fc90-8f56-4b84-86e1-9ebe7f8e8c8d",
            "source": "s46",
            "source_arrow_fill": "filled",
            "source_arrow_shape": "none",
            "target": "r28",
            "target_arrow_shape": "triangle"
           }
          },
          {
           "data": {
            "arrowhead": "normal",
            "id": "7980658e-f551-4bd0-82b8-2429ba4781b1",
            "source": "s47",
            "source_arrow_fill": "hollow",
            "source_arrow_shape": "triangle",
            "target": "r29",
            "target_arrow_shape": "triangle"
           }
          },
          {
           "data": {
            "arrowhead": "normal",
            "id": "0b00a6d0-2645-4823-9f94-db6bcce68ee7",
            "source": "s47",
            "source_arrow_fill": "hollow",
            "source_arrow_shape": "triangle",
            "target": "r37",
            "target_arrow_shape": "triangle"
           }
          },
          {
           "data": {
            "arrowhead": "normal",
            "id": "ea6efc24-4a8d-410b-aa63-e6eaf8c427ad",
            "source": "s48",
            "source_arrow_fill": "hollow",
            "source_arrow_shape": "triangle",
            "target": "r30",
            "target_arrow_shape": "triangle"
           }
          },
          {
           "data": {
            "arrowhead": "normal",
            "id": "fd985759-6dd6-49f2-8e8c-b8221dccd341",
            "source": "s48",
            "source_arrow_fill": "hollow",
            "source_arrow_shape": "triangle",
            "target": "r31",
            "target_arrow_shape": "triangle"
           }
          },
          {
           "data": {
            "arrowhead": "normal",
            "id": "d557c8b5-9528-495b-b8ca-e11097860a12",
            "source": "s48",
            "source_arrow_fill": "hollow",
            "source_arrow_shape": "triangle",
            "target": "r32",
            "target_arrow_shape": "triangle"
           }
          },
          {
           "data": {
            "arrowhead": "normal",
            "id": "85f26589-8452-4991-8e2e-3b5956516026",
            "source": "s48",
            "source_arrow_fill": "hollow",
            "source_arrow_shape": "triangle",
            "target": "r33",
            "target_arrow_shape": "triangle"
           }
          },
          {
           "data": {
            "arrowhead": "normal",
            "id": "a3c44a44-bdac-4e3a-8407-612a8d05737d",
            "source": "s48",
            "source_arrow_fill": "hollow",
            "source_arrow_shape": "triangle",
            "target": "r36",
            "target_arrow_shape": "triangle"
           }
          },
          {
           "data": {
            "arrowhead": "normal",
            "id": "338331d4-4f59-4969-b775-e51630143827",
            "source": "s48",
            "source_arrow_fill": "hollow",
            "source_arrow_shape": "triangle",
            "target": "r41",
            "target_arrow_shape": "triangle"
           }
          },
          {
           "data": {
            "arrowhead": "normal",
            "id": "4070bb27-910f-4e99-af2d-1910bc990a4f",
            "source": "s49",
            "source_arrow_fill": "filled",
            "source_arrow_shape": "none",
            "target": "r34",
            "target_arrow_shape": "triangle"
           }
          },
          {
           "data": {
            "arrowhead": "normal",
            "id": "96ac2a4d-b9ff-45e8-bc76-a28951252d1e",
            "source": "s50",
            "source_arrow_fill": "filled",
            "source_arrow_shape": "none",
            "target": "r35",
            "target_arrow_shape": "triangle"
           }
          },
          {
           "data": {
            "arrowhead": "normal",
            "id": "71537296-6188-4f08-afcf-b22a50950d39",
            "source": "s53",
            "source_arrow_fill": "hollow",
            "source_arrow_shape": "triangle",
            "target": "r36",
            "target_arrow_shape": "triangle"
           }
          },
          {
           "data": {
            "arrowhead": "normal",
            "id": "0ebb7192-71db-4c2c-874f-07ce9acfe71d",
            "source": "s54",
            "source_arrow_fill": "hollow",
            "source_arrow_shape": "triangle",
            "target": "r37",
            "target_arrow_shape": "triangle"
           }
          },
          {
           "data": {
            "arrowhead": "normal",
            "id": "f46d783d-dee0-4029-9285-7f0748a6140a",
            "source": "s54",
            "source_arrow_fill": "hollow",
            "source_arrow_shape": "triangle",
            "target": "r38",
            "target_arrow_shape": "triangle"
           }
          },
          {
           "data": {
            "arrowhead": "normal",
            "id": "1e0c07ff-a8a3-4117-9e89-c73ea4bd678b",
            "source": "s54",
            "source_arrow_fill": "hollow",
            "source_arrow_shape": "triangle",
            "target": "r39",
            "target_arrow_shape": "triangle"
           }
          },
          {
           "data": {
            "arrowhead": "normal",
            "id": "3163a5e8-8676-47df-9641-6fd0affe187b",
            "source": "s54",
            "source_arrow_fill": "hollow",
            "source_arrow_shape": "triangle",
            "target": "r40",
            "target_arrow_shape": "triangle"
           }
          },
          {
           "data": {
            "arrowhead": "normal",
            "id": "747c80ab-71aa-4186-a730-8ed38ebf347b",
            "source": "s54",
            "source_arrow_fill": "hollow",
            "source_arrow_shape": "triangle",
            "target": "r43",
            "target_arrow_shape": "triangle"
           }
          },
          {
           "data": {
            "arrowhead": "normal",
            "id": "b0a3a0f3-7276-49ee-8232-cbe2b5eba60b",
            "source": "s54",
            "source_arrow_fill": "hollow",
            "source_arrow_shape": "triangle",
            "target": "r46",
            "target_arrow_shape": "triangle"
           }
          },
          {
           "data": {
            "arrowhead": "normal",
            "id": "917575c5-71f6-4693-a417-e2dca9ae7274",
            "source": "s55",
            "source_arrow_fill": "hollow",
            "source_arrow_shape": "triangle",
            "target": "r41",
            "target_arrow_shape": "triangle"
           }
          },
          {
           "data": {
            "arrowhead": "normal",
            "id": "3d24af7d-845d-4a8e-9dd3-44c9241c91d9",
            "source": "s56",
            "source_arrow_fill": "filled",
            "source_arrow_shape": "none",
            "target": "r42",
            "target_arrow_shape": "triangle"
           }
          },
          {
           "data": {
            "arrowhead": "normal",
            "id": "a7ef0aaa-4f4a-4d39-862f-7e5b5a9997cc",
            "source": "s59",
            "source_arrow_fill": "hollow",
            "source_arrow_shape": "triangle",
            "target": "r43",
            "target_arrow_shape": "triangle"
           }
          },
          {
           "data": {
            "arrowhead": "normal",
            "id": "f6ff3828-52b7-497d-b769-de632b8ac470",
            "source": "s60",
            "source_arrow_fill": "hollow",
            "source_arrow_shape": "triangle",
            "target": "r44",
            "target_arrow_shape": "triangle"
           }
          },
          {
           "data": {
            "arrowhead": "normal",
            "id": "0d96befe-9b50-4933-8939-ad8887ebd183",
            "source": "s60",
            "source_arrow_fill": "hollow",
            "source_arrow_shape": "triangle",
            "target": "r45",
            "target_arrow_shape": "triangle"
           }
          },
          {
           "data": {
            "arrowhead": "normal",
            "id": "5270fd4b-a995-4ce9-a44a-fec941dbd3c8",
            "source": "s61",
            "source_arrow_fill": "hollow",
            "source_arrow_shape": "triangle",
            "target": "r46",
            "target_arrow_shape": "triangle"
           }
          },
          {
           "data": {
            "arrowhead": "normal",
            "id": "9051bc28-bbeb-48ee-bc50-dacdfa205451",
            "source": "s62",
            "source_arrow_fill": "filled",
            "source_arrow_shape": "none",
            "target": "r47",
            "target_arrow_shape": "triangle"
           }
          },
          {
           "data": {
            "arrowhead": "normal",
            "id": "1c1404b7-51e6-4c55-bd62-04b08d396bc7",
            "source": "s63",
            "source_arrow_fill": "filled",
            "source_arrow_shape": "none",
            "target": "r48",
            "target_arrow_shape": "triangle"
           }
          },
          {
           "data": {
            "arrowhead": "normal",
            "id": "ff0b3479-e568-4c1e-b7c2-2ad0c7e2abdd",
            "source": "s64",
            "source_arrow_fill": "hollow",
            "source_arrow_shape": "triangle",
            "target": "r51",
            "target_arrow_shape": "triangle"
           }
          },
          {
           "data": {
            "arrowhead": "normal",
            "id": "bb579069-f515-405a-a60b-0c13a80a5c1a",
            "source": "s64",
            "source_arrow_fill": "hollow",
            "source_arrow_shape": "triangle",
            "target": "r52",
            "target_arrow_shape": "triangle"
           }
          },
          {
           "data": {
            "arrowhead": "normal",
            "id": "1ef9fcbc-efea-453d-b663-17dfa38e3c7c",
            "source": "s65",
            "source_arrow_fill": "hollow",
            "source_arrow_shape": "triangle",
            "target": "r50",
            "target_arrow_shape": "triangle"
           }
          },
          {
           "data": {
            "arrowhead": "normal",
            "id": "6afa7f70-415f-46fc-8b16-e3abeda03433",
            "source": "s66",
            "source_arrow_fill": "hollow",
            "source_arrow_shape": "triangle",
            "target": "r49",
            "target_arrow_shape": "triangle"
           }
          },
          {
           "data": {
            "arrowhead": "normal",
            "id": "0ea3d7a3-751a-4be9-bbf2-936166c4d56d",
            "source": "s67",
            "source_arrow_fill": "hollow",
            "source_arrow_shape": "triangle",
            "target": "r54",
            "target_arrow_shape": "triangle"
           }
          },
          {
           "data": {
            "arrowhead": "normal",
            "id": "9e316873-279c-4c6e-9cb2-703889519d25",
            "source": "s68",
            "source_arrow_fill": "hollow",
            "source_arrow_shape": "triangle",
            "target": "r53",
            "target_arrow_shape": "triangle"
           }
          },
          {
           "data": {
            "arrowhead": "normal",
            "id": "fd2bd26c-d159-41df-b1dd-a84226f5e1a3",
            "source": "s69",
            "source_arrow_fill": "filled",
            "source_arrow_shape": "none",
            "target": "r55",
            "target_arrow_shape": "triangle"
           }
          },
          {
           "data": {
            "arrowhead": "normal",
            "id": "29658815-9e02-443d-a598-7ee8a6e66272",
            "source": "s70",
            "source_arrow_fill": "filled",
            "source_arrow_shape": "none",
            "target": "r56",
            "target_arrow_shape": "triangle"
           }
          },
          {
           "data": {
            "arrowhead": "normal",
            "id": "075d5d57-1f88-4236-9db8-73c07e210b31",
            "source": "s71",
            "source_arrow_fill": "filled",
            "source_arrow_shape": "none",
            "target": "r57",
            "target_arrow_shape": "triangle"
           }
          },
          {
           "data": {
            "arrowhead": "normal",
            "id": "c35a1222-3573-4f04-bccf-bd6ac84a80bc",
            "source": "s73",
            "source_arrow_fill": "hollow",
            "source_arrow_shape": "triangle",
            "target": "r58",
            "target_arrow_shape": "triangle"
           }
          },
          {
           "data": {
            "arrowhead": "normal",
            "id": "e32a4113-7f50-434b-a4aa-a085f2f848c8",
            "source": "s74",
            "source_arrow_fill": "hollow",
            "source_arrow_shape": "triangle",
            "target": "r59",
            "target_arrow_shape": "triangle"
           }
          },
          {
           "data": {
            "arrowhead": "normal",
            "id": "9c12aab9-0964-45d7-98b8-6921968d7755",
            "source": "s74",
            "source_arrow_fill": "hollow",
            "source_arrow_shape": "triangle",
            "target": "r60",
            "target_arrow_shape": "triangle"
           }
          },
          {
           "data": {
            "arrowhead": "normal",
            "id": "0c8429a2-5481-4ee0-be9f-794b461d2a8e",
            "source": "s75",
            "source_arrow_fill": "filled",
            "source_arrow_shape": "none",
            "target": "r61",
            "target_arrow_shape": "triangle"
           }
          },
          {
           "data": {
            "arrowhead": "normal",
            "id": "f84c3abd-2202-4342-bd7f-218596999bc2",
            "source": "r0",
            "source_arrow_fill": "hollow",
            "source_arrow_shape": "triangle",
            "target": "s21",
            "target_arrow_shape": "triangle"
           }
          },
          {
           "data": {
            "arrowhead": "normal",
            "id": "cdeb3eab-9aa4-4e15-a682-54d171c5da44",
            "source": "r1",
            "source_arrow_fill": "hollow",
            "source_arrow_shape": "triangle",
            "target": "s22",
            "target_arrow_shape": "triangle"
           }
          },
          {
           "data": {
            "arrowhead": "normal",
            "id": "80307eb2-5419-4911-8be9-1da43e8dbde5",
            "source": "r2",
            "source_arrow_fill": "hollow",
            "source_arrow_shape": "triangle",
            "target": "s23",
            "target_arrow_shape": "triangle"
           }
          },
          {
           "data": {
            "arrowhead": "normal",
            "id": "9b274ae4-4b72-4268-a836-49fd3bf4b3a1",
            "source": "r3",
            "source_arrow_fill": "hollow",
            "source_arrow_shape": "triangle",
            "target": "s24",
            "target_arrow_shape": "triangle"
           }
          },
          {
           "data": {
            "arrowhead": "normal",
            "id": "e7b7e9c0-abfd-446d-b023-12649b675ef6",
            "source": "r4",
            "source_arrow_fill": "filled",
            "source_arrow_shape": "none",
            "target": "s25",
            "target_arrow_shape": "triangle"
           }
          },
          {
           "data": {
            "arrowhead": "normal",
            "id": "2130eca1-c999-4809-a010-3053b3087b26",
            "source": "r5",
            "source_arrow_fill": "hollow",
            "source_arrow_shape": "triangle",
            "target": "s26",
            "target_arrow_shape": "triangle"
           }
          },
          {
           "data": {
            "arrowhead": "normal",
            "id": "586fd7ff-f8cd-437e-a845-26b5003613cb",
            "source": "r6",
            "source_arrow_fill": "hollow",
            "source_arrow_shape": "triangle",
            "target": "s27",
            "target_arrow_shape": "triangle"
           }
          },
          {
           "data": {
            "arrowhead": "normal",
            "id": "da7f3e3f-b066-4dc7-a8e1-80c8cd5cfbe3",
            "source": "r7",
            "source_arrow_fill": "filled",
            "source_arrow_shape": "none",
            "target": "s25",
            "target_arrow_shape": "triangle"
           }
          },
          {
           "data": {
            "arrowhead": "normal",
            "id": "1ca97ad8-3106-4130-851c-ec62b7c96615",
            "source": "r7",
            "source_arrow_fill": "filled",
            "source_arrow_shape": "none",
            "target": "s28",
            "target_arrow_shape": "triangle"
           }
          },
          {
           "data": {
            "arrowhead": "normal",
            "id": "ea8cac4d-b032-4f56-bf17-47c93b333f91",
            "source": "r8",
            "source_arrow_fill": "hollow",
            "source_arrow_shape": "triangle",
            "target": "s29",
            "target_arrow_shape": "triangle"
           }
          },
          {
           "data": {
            "arrowhead": "normal",
            "id": "075b7a21-e29c-461f-a6e2-0112ce723e54",
            "source": "r9",
            "source_arrow_fill": "hollow",
            "source_arrow_shape": "triangle",
            "target": "s30",
            "target_arrow_shape": "triangle"
           }
          },
          {
           "data": {
            "arrowhead": "normal",
            "id": "b5a8b369-5ebd-42ee-b6a3-791dd36773c8",
            "source": "r10",
            "source_arrow_fill": "hollow",
            "source_arrow_shape": "triangle",
            "target": "s31",
            "target_arrow_shape": "triangle"
           }
          },
          {
           "data": {
            "arrowhead": "normal",
            "id": "97a1b19f-af98-49ea-92b6-f74425e9f3e1",
            "source": "r11",
            "source_arrow_fill": "filled",
            "source_arrow_shape": "none",
            "target": "s32",
            "target_arrow_shape": "triangle"
           }
          },
          {
           "data": {
            "arrowhead": "normal",
            "id": "b4db2266-3c7a-452f-a37c-976a108aef5d",
            "source": "r11",
            "source_arrow_fill": "filled",
            "source_arrow_shape": "none",
            "target": "s28",
            "target_arrow_shape": "triangle"
           }
          },
          {
           "data": {
            "arrowhead": "normal",
            "id": "5a680301-0c85-4a0d-8910-13aebe39f057",
            "source": "r12",
            "source_arrow_fill": "filled",
            "source_arrow_shape": "none",
            "target": "s33",
            "target_arrow_shape": "triangle"
           }
          },
          {
           "data": {
            "arrowhead": "normal",
            "id": "9000b3b3-c489-417c-875c-29d076c8c6e6",
            "source": "r12",
            "source_arrow_fill": "filled",
            "source_arrow_shape": "none",
            "target": "s28",
            "target_arrow_shape": "triangle"
           }
          },
          {
           "data": {
            "arrowhead": "normal",
            "id": "a47b0f37-49d6-494b-a9f8-50b102c7a6dc",
            "source": "r13",
            "source_arrow_fill": "hollow",
            "source_arrow_shape": "triangle",
            "target": "s34",
            "target_arrow_shape": "triangle"
           }
          },
          {
           "data": {
            "arrowhead": "normal",
            "id": "dc7803ba-a5e5-4f77-996d-c93686cd38be",
            "source": "r14",
            "source_arrow_fill": "hollow",
            "source_arrow_shape": "triangle",
            "target": "s35",
            "target_arrow_shape": "triangle"
           }
          },
          {
           "data": {
            "arrowhead": "normal",
            "id": "2b85804b-dcba-4e32-95a4-8d96775341f6",
            "source": "r15",
            "source_arrow_fill": "hollow",
            "source_arrow_shape": "triangle",
            "target": "s36",
            "target_arrow_shape": "triangle"
           }
          },
          {
           "data": {
            "arrowhead": "normal",
            "id": "6de85b2c-1383-4b35-ad29-185610331a82",
            "source": "r16",
            "source_arrow_fill": "hollow",
            "source_arrow_shape": "triangle",
            "target": "s37",
            "target_arrow_shape": "triangle"
           }
          },
          {
           "data": {
            "arrowhead": "normal",
            "id": "82369e01-0d45-4372-a6b0-7e57b7872d8a",
            "source": "r17",
            "source_arrow_fill": "filled",
            "source_arrow_shape": "none",
            "target": "s10",
            "target_arrow_shape": "triangle"
           }
          },
          {
           "data": {
            "arrowhead": "normal",
            "id": "8434e0e7-27e5-477a-8d12-32125689d6a7",
            "source": "r17",
            "source_arrow_fill": "filled",
            "source_arrow_shape": "none",
            "target": "s38",
            "target_arrow_shape": "triangle"
           }
          },
          {
           "data": {
            "arrowhead": "normal",
            "id": "e506aea4-92c5-4d43-bb3a-ee3e7e1a72a8",
            "source": "r18",
            "source_arrow_fill": "filled",
            "source_arrow_shape": "none",
            "target": "s33",
            "target_arrow_shape": "triangle"
           }
          },
          {
           "data": {
            "arrowhead": "normal",
            "id": "1efee975-7927-4a4b-88b6-1059ed643c79",
            "source": "r18",
            "source_arrow_fill": "filled",
            "source_arrow_shape": "none",
            "target": "s39",
            "target_arrow_shape": "triangle"
           }
          },
          {
           "data": {
            "arrowhead": "normal",
            "id": "4a6a3802-a76e-4555-b519-a2ba36a16d21",
            "source": "r19",
            "source_arrow_fill": "filled",
            "source_arrow_shape": "none",
            "target": "s40",
            "target_arrow_shape": "triangle"
           }
          },
          {
           "data": {
            "arrowhead": "normal",
            "id": "19303588-a05c-4f31-95d1-fdc821219bb0",
            "source": "r19",
            "source_arrow_fill": "filled",
            "source_arrow_shape": "none",
            "target": "s33",
            "target_arrow_shape": "triangle"
           }
          },
          {
           "data": {
            "arrowhead": "normal",
            "id": "408e3e10-b642-4f0a-8889-5698d332c6d6",
            "source": "r20",
            "source_arrow_fill": "hollow",
            "source_arrow_shape": "triangle",
            "target": "s41",
            "target_arrow_shape": "triangle"
           }
          },
          {
           "data": {
            "arrowhead": "normal",
            "id": "e11ebc00-eee8-4abe-8955-87543b9cb9fa",
            "source": "r21",
            "source_arrow_fill": "hollow",
            "source_arrow_shape": "triangle",
            "target": "s42",
            "target_arrow_shape": "triangle"
           }
          },
          {
           "data": {
            "arrowhead": "normal",
            "id": "884cf7af-8258-439a-b852-30285a50ddd0",
            "source": "r22",
            "source_arrow_fill": "hollow",
            "source_arrow_shape": "triangle",
            "target": "s43",
            "target_arrow_shape": "triangle"
           }
          },
          {
           "data": {
            "arrowhead": "normal",
            "id": "3644e3e1-f4da-4157-a514-8bad9ba07ba9",
            "source": "r23",
            "source_arrow_fill": "hollow",
            "source_arrow_shape": "triangle",
            "target": "s44",
            "target_arrow_shape": "triangle"
           }
          },
          {
           "data": {
            "arrowhead": "normal",
            "id": "119ec068-cb18-4819-a471-2335be205de2",
            "source": "r24",
            "source_arrow_fill": "hollow",
            "source_arrow_shape": "triangle",
            "target": "s45",
            "target_arrow_shape": "triangle"
           }
          },
          {
           "data": {
            "arrowhead": "normal",
            "id": "fde41852-671c-47f3-be60-6e6a5dcfead5",
            "source": "r25",
            "source_arrow_fill": "hollow",
            "source_arrow_shape": "triangle",
            "target": "s46",
            "target_arrow_shape": "triangle"
           }
          },
          {
           "data": {
            "arrowhead": "normal",
            "id": "7ef9512a-0731-46b3-a975-f69b85500386",
            "source": "r26",
            "source_arrow_fill": "filled",
            "source_arrow_shape": "none",
            "target": "s37",
            "target_arrow_shape": "triangle"
           }
          },
          {
           "data": {
            "arrowhead": "normal",
            "id": "26ebbe02-1c55-4e97-a489-a270601bd7c9",
            "source": "r26",
            "source_arrow_fill": "filled",
            "source_arrow_shape": "none",
            "target": "s47",
            "target_arrow_shape": "triangle"
           }
          },
          {
           "data": {
            "arrowhead": "normal",
            "id": "84e4b246-6fc5-4d25-9d95-1dc60818f1f6",
            "source": "r27",
            "source_arrow_fill": "filled",
            "source_arrow_shape": "none",
            "target": "s48",
            "target_arrow_shape": "triangle"
           }
          },
          {
           "data": {
            "arrowhead": "normal",
            "id": "a8cb0661-459d-4c00-8e62-399bffb1af55",
            "source": "r27",
            "source_arrow_fill": "filled",
            "source_arrow_shape": "none",
            "target": "s37",
            "target_arrow_shape": "triangle"
           }
          },
          {
           "data": {
            "arrowhead": "normal",
            "id": "22ed1e2b-fc1b-41c9-9cff-16f8ee44e437",
            "source": "r28",
            "source_arrow_fill": "filled",
            "source_arrow_shape": "none",
            "target": "s40",
            "target_arrow_shape": "triangle"
           }
          },
          {
           "data": {
            "arrowhead": "normal",
            "id": "e4adf03c-7945-4b10-929b-9d8af26c1c3a",
            "source": "r28",
            "source_arrow_fill": "filled",
            "source_arrow_shape": "none",
            "target": "s28",
            "target_arrow_shape": "triangle"
           }
          },
          {
           "data": {
            "arrowhead": "normal",
            "id": "7eeca901-4b48-428a-8387-44e2282dba77",
            "source": "r29",
            "source_arrow_fill": "hollow",
            "source_arrow_shape": "triangle",
            "target": "s49",
            "target_arrow_shape": "triangle"
           }
          },
          {
           "data": {
            "arrowhead": "normal",
            "id": "0b5ee010-92f8-4b93-9b2d-aa0404bcda7f",
            "source": "r30",
            "source_arrow_fill": "hollow",
            "source_arrow_shape": "triangle",
            "target": "s50",
            "target_arrow_shape": "triangle"
           }
          },
          {
           "data": {
            "arrowhead": "normal",
            "id": "6dc1934c-e167-41ef-893e-fcc1dd0ad322",
            "source": "r31",
            "source_arrow_fill": "hollow",
            "source_arrow_shape": "triangle",
            "target": "s51",
            "target_arrow_shape": "triangle"
           }
          },
          {
           "data": {
            "arrowhead": "normal",
            "id": "10641443-4bb0-4172-ab1f-b13a9b750599",
            "source": "r32",
            "source_arrow_fill": "hollow",
            "source_arrow_shape": "triangle",
            "target": "s52",
            "target_arrow_shape": "triangle"
           }
          },
          {
           "data": {
            "arrowhead": "normal",
            "id": "62d1b507-9174-4881-bbad-abb88d8155cf",
            "source": "r33",
            "source_arrow_fill": "hollow",
            "source_arrow_shape": "triangle",
            "target": "s53",
            "target_arrow_shape": "triangle"
           }
          },
          {
           "data": {
            "arrowhead": "normal",
            "id": "3bee0f87-aa18-4ee4-9b10-ddf1f21d5f6e",
            "source": "r34",
            "source_arrow_fill": "filled",
            "source_arrow_shape": "none",
            "target": "s37",
            "target_arrow_shape": "triangle"
           }
          },
          {
           "data": {
            "arrowhead": "normal",
            "id": "cf252430-4952-4b78-b324-f05ca8898d4b",
            "source": "r34",
            "source_arrow_fill": "filled",
            "source_arrow_shape": "none",
            "target": "s54",
            "target_arrow_shape": "triangle"
           }
          },
          {
           "data": {
            "arrowhead": "normal",
            "id": "48a9cbc8-2a6f-45c0-b12a-4e264cd7832c",
            "source": "r35",
            "source_arrow_fill": "filled",
            "source_arrow_shape": "none",
            "target": "s48",
            "target_arrow_shape": "triangle"
           }
          },
          {
           "data": {
            "arrowhead": "normal",
            "id": "68e8d20d-aa4f-4ee7-84d5-98f4a5efd045",
            "source": "r36",
            "source_arrow_fill": "hollow",
            "source_arrow_shape": "triangle",
            "target": "s55",
            "target_arrow_shape": "triangle"
           }
          },
          {
           "data": {
            "arrowhead": "normal",
            "id": "d967b512-9ba2-4fb5-acea-392ac4d88dcc",
            "source": "r37",
            "source_arrow_fill": "hollow",
            "source_arrow_shape": "triangle",
            "target": "s56",
            "target_arrow_shape": "triangle"
           }
          },
          {
           "data": {
            "arrowhead": "normal",
            "id": "16b917e3-2e06-4390-9333-cb3ae2a3929b",
            "source": "r38",
            "source_arrow_fill": "hollow",
            "source_arrow_shape": "triangle",
            "target": "s57",
            "target_arrow_shape": "triangle"
           }
          },
          {
           "data": {
            "arrowhead": "normal",
            "id": "6708cc18-ebb4-455b-aeb1-a544540c86f9",
            "source": "r39",
            "source_arrow_fill": "hollow",
            "source_arrow_shape": "triangle",
            "target": "s58",
            "target_arrow_shape": "triangle"
           }
          },
          {
           "data": {
            "arrowhead": "normal",
            "id": "4a8f0138-3eb0-443d-a5dc-22b654f3152b",
            "source": "r40",
            "source_arrow_fill": "hollow",
            "source_arrow_shape": "triangle",
            "target": "s59",
            "target_arrow_shape": "triangle"
           }
          },
          {
           "data": {
            "arrowhead": "normal",
            "id": "98c3397c-0cae-4f3a-a12b-c30f72910c5a",
            "source": "r41",
            "source_arrow_fill": "hollow",
            "source_arrow_shape": "triangle",
            "target": "s60",
            "target_arrow_shape": "triangle"
           }
          },
          {
           "data": {
            "arrowhead": "normal",
            "id": "17a2e9d6-9f7f-4bd2-a893-4118159023d8",
            "source": "r42",
            "source_arrow_fill": "filled",
            "source_arrow_shape": "none",
            "target": "s54",
            "target_arrow_shape": "triangle"
           }
          },
          {
           "data": {
            "arrowhead": "normal",
            "id": "48f9ece7-afd4-4046-a29d-5aa5e3d66612",
            "source": "r43",
            "source_arrow_fill": "hollow",
            "source_arrow_shape": "triangle",
            "target": "s61",
            "target_arrow_shape": "triangle"
           }
          },
          {
           "data": {
            "arrowhead": "normal",
            "id": "1ab83ae4-041d-478d-a89d-ff96b5cea503",
            "source": "r44",
            "source_arrow_fill": "hollow",
            "source_arrow_shape": "triangle",
            "target": "s62",
            "target_arrow_shape": "triangle"
           }
          },
          {
           "data": {
            "arrowhead": "normal",
            "id": "fd5e1551-9001-4839-9317-07efb0b94764",
            "source": "r45",
            "source_arrow_fill": "hollow",
            "source_arrow_shape": "triangle",
            "target": "s63",
            "target_arrow_shape": "triangle"
           }
          },
          {
           "data": {
            "arrowhead": "normal",
            "id": "fe6eeba3-6bcc-4809-8db2-256789429307",
            "source": "r46",
            "source_arrow_fill": "hollow",
            "source_arrow_shape": "triangle",
            "target": "s64",
            "target_arrow_shape": "triangle"
           }
          },
          {
           "data": {
            "arrowhead": "normal",
            "id": "790dbc4f-b7cd-4d34-bff6-dfcf6a4f3826",
            "source": "r47",
            "source_arrow_fill": "filled",
            "source_arrow_shape": "none",
            "target": "s65",
            "target_arrow_shape": "triangle"
           }
          },
          {
           "data": {
            "arrowhead": "normal",
            "id": "4a7c5750-ef15-4fe0-8bc8-5073febfe3bc",
            "source": "r47",
            "source_arrow_fill": "filled",
            "source_arrow_shape": "none",
            "target": "s60",
            "target_arrow_shape": "triangle"
           }
          },
          {
           "data": {
            "arrowhead": "normal",
            "id": "60a16d75-1a93-44c5-8fdc-fedaf36eaa92",
            "source": "r48",
            "source_arrow_fill": "filled",
            "source_arrow_shape": "none",
            "target": "s66",
            "target_arrow_shape": "triangle"
           }
          },
          {
           "data": {
            "arrowhead": "normal",
            "id": "79c89cf9-b89c-4e70-bbe2-06353dc8c36d",
            "source": "r48",
            "source_arrow_fill": "filled",
            "source_arrow_shape": "none",
            "target": "s60",
            "target_arrow_shape": "triangle"
           }
          },
          {
           "data": {
            "arrowhead": "normal",
            "id": "1c7ac8f1-3352-4c36-89e9-0d4ed8351cdb",
            "source": "r49",
            "source_arrow_fill": "hollow",
            "source_arrow_shape": "triangle",
            "target": "s67",
            "target_arrow_shape": "triangle"
           }
          },
          {
           "data": {
            "arrowhead": "normal",
            "id": "eddd920a-ee38-4ada-91d0-3da97a9497bf",
            "source": "r50",
            "source_arrow_fill": "hollow",
            "source_arrow_shape": "triangle",
            "target": "s68",
            "target_arrow_shape": "triangle"
           }
          },
          {
           "data": {
            "arrowhead": "normal",
            "id": "992f5a66-a332-40a9-9775-5566d5796a34",
            "source": "r51",
            "source_arrow_fill": "hollow",
            "source_arrow_shape": "triangle",
            "target": "s69",
            "target_arrow_shape": "triangle"
           }
          },
          {
           "data": {
            "arrowhead": "normal",
            "id": "3bcc6c69-3999-4f9e-a15a-a708ba4b66c6",
            "source": "r52",
            "source_arrow_fill": "hollow",
            "source_arrow_shape": "triangle",
            "target": "s70",
            "target_arrow_shape": "triangle"
           }
          },
          {
           "data": {
            "arrowhead": "normal",
            "id": "030359b3-909c-4d90-91e3-8039f763c94b",
            "source": "r53",
            "source_arrow_fill": "hollow",
            "source_arrow_shape": "triangle",
            "target": "s71",
            "target_arrow_shape": "triangle"
           }
          },
          {
           "data": {
            "arrowhead": "normal",
            "id": "9e9dd55c-bc67-4106-8105-741b266ecd80",
            "source": "r54",
            "source_arrow_fill": "hollow",
            "source_arrow_shape": "triangle",
            "target": "s72",
            "target_arrow_shape": "triangle"
           }
          },
          {
           "data": {
            "arrowhead": "normal",
            "id": "f6ce385a-a970-409a-be54-4eefff81eb6a",
            "source": "r55",
            "source_arrow_fill": "filled",
            "source_arrow_shape": "none",
            "target": "s64",
            "target_arrow_shape": "triangle"
           }
          },
          {
           "data": {
            "arrowhead": "normal",
            "id": "5662d9c6-aa78-465f-9688-bb38af8c2339",
            "source": "r55",
            "source_arrow_fill": "filled",
            "source_arrow_shape": "none",
            "target": "s65",
            "target_arrow_shape": "triangle"
           }
          },
          {
           "data": {
            "arrowhead": "normal",
            "id": "c3a759cd-189b-4556-9464-100d82629d36",
            "source": "r56",
            "source_arrow_fill": "filled",
            "source_arrow_shape": "none",
            "target": "s64",
            "target_arrow_shape": "triangle"
           }
          },
          {
           "data": {
            "arrowhead": "normal",
            "id": "1dbcca59-4b64-4ba5-9f4a-c946a442d348",
            "source": "r56",
            "source_arrow_fill": "filled",
            "source_arrow_shape": "none",
            "target": "s66",
            "target_arrow_shape": "triangle"
           }
          },
          {
           "data": {
            "arrowhead": "normal",
            "id": "d0b2b90b-c4fd-4c58-861e-277c18fdda8e",
            "source": "r57",
            "source_arrow_fill": "filled",
            "source_arrow_shape": "none",
            "target": "s73",
            "target_arrow_shape": "triangle"
           }
          },
          {
           "data": {
            "arrowhead": "normal",
            "id": "193fc3e5-d4ed-4ff1-b5a9-d0d6b75278df",
            "source": "r57",
            "source_arrow_fill": "filled",
            "source_arrow_shape": "none",
            "target": "s68",
            "target_arrow_shape": "triangle"
           }
          },
          {
           "data": {
            "arrowhead": "normal",
            "id": "b402fd2c-69f1-4489-896a-8d4af29ff655",
            "source": "r58",
            "source_arrow_fill": "hollow",
            "source_arrow_shape": "triangle",
            "target": "s74",
            "target_arrow_shape": "triangle"
           }
          },
          {
           "data": {
            "arrowhead": "normal",
            "id": "77fc1427-904e-46fe-82ff-678fa87cfad2",
            "source": "r59",
            "source_arrow_fill": "hollow",
            "source_arrow_shape": "triangle",
            "target": "s75",
            "target_arrow_shape": "triangle"
           }
          },
          {
           "data": {
            "arrowhead": "normal",
            "id": "88c1af7f-1c6a-4a9e-9cb0-33a1b8930032",
            "source": "r60",
            "source_arrow_fill": "hollow",
            "source_arrow_shape": "triangle",
            "target": "s76",
            "target_arrow_shape": "triangle"
           }
          },
          {
           "data": {
            "arrowhead": "normal",
            "id": "05341f00-680e-4e50-9a27-75e2e9f3e260",
            "source": "r61",
            "source_arrow_fill": "filled",
            "source_arrow_shape": "none",
            "target": "s33",
            "target_arrow_shape": "triangle"
           }
          },
          {
           "data": {
            "arrowhead": "normal",
            "id": "6a4e2dde-c253-4584-becb-40929d35c566",
            "source": "r61",
            "source_arrow_fill": "filled",
            "source_arrow_shape": "none",
            "target": "s74",
            "target_arrow_shape": "triangle"
           }
          }
         ],
         "nodes": [
          {
           "data": {
            "NodeType": "species",
            "background_color": "#aaffff",
            "bipartite": 0,
            "id": "s0",
            "label": "L",
            "name": "s0",
            "shape": "ellipse"
           },
           "position": {
            "x": 27,
            "y": 806.8
           }
          },
          {
           "data": {
            "NodeType": "species",
            "background_color": "#aaffff",
            "bipartite": 0,
            "id": "s1",
            "label": "R",
            "name": "s1",
            "shape": "ellipse"
           },
           "position": {
            "x": 27,
            "y": 752.8
           }
          },
          {
           "data": {
            "NodeType": "species",
            "background_color": "#aaffff",
            "bipartite": 0,
            "id": "s2",
            "label": "flip",
            "name": "s2",
            "shape": "ellipse"
           },
           "position": {
            "x": 392.22,
            "y": 725.8
           }
          },
          {
           "data": {
            "NodeType": "species",
            "background_color": "#aaffff",
            "bipartite": 0,
            "id": "s3",
            "label": "proC8",
            "name": "s3",
            "shape": "ellipse"
           },
           "position": {
            "x": 392.22,
            "y": 848.8
           }
          },
          {
           "data": {
            "NodeType": "species",
            "background_color": "#aaffff",
            "bipartite": 0,
            "id": "s4",
            "label": "BAR",
            "name": "s4",
            "shape": "ellipse"
           },
           "position": {
            "x": 819.26,
            "y": 601.8
           }
          },
          {
           "data": {
            "NodeType": "species",
            "background_color": "#aaffff",
            "bipartite": 0,
            "id": "s5",
            "label": "iApaf",
            "name": "s5",
            "shape": "ellipse"
           },
           "position": {
            "x": 3622.3,
            "y": 637.8
           }
          },
          {
           "data": {
            "NodeType": "species",
            "background_color": "#aaffff",
            "bipartite": 0,
            "id": "s6",
            "label": "proC3",
            "name": "s6",
            "shape": "ellipse"
           },
           "position": {
            "x": 819.26,
            "y": 842.8
           }
          },
          {
           "data": {
            "NodeType": "species",
            "background_color": "#aaffff",
            "bipartite": 0,
            "id": "s7",
            "label": "proC6",
            "name": "s7",
            "shape": "ellipse"
           },
           "position": {
            "x": 4691.6,
            "y": 855.8
           }
          },
          {
           "data": {
            "NodeType": "species",
            "background_color": "#aaffff",
            "bipartite": 0,
            "id": "s8",
            "label": "C9",
            "name": "s8",
            "shape": "ellipse"
           },
           "position": {
            "x": 4077,
            "y": 693.8
           }
          },
          {
           "data": {
            "NodeType": "species",
            "background_color": "#aaffff",
            "bipartite": 0,
            "id": "s9",
            "label": "uPARP",
            "name": "s9",
            "shape": "ellipse"
           },
           "position": {
            "x": 4691.6,
            "y": 633.8
           }
          },
          {
           "data": {
            "NodeType": "species",
            "background_color": "#aaffff",
            "bipartite": 0,
            "id": "s10",
            "label": "XIAP",
            "name": "s10",
            "shape": "ellipse"
           },
           "position": {
            "x": 5120.9,
            "y": 698.8
           }
          },
          {
           "data": {
            "NodeType": "species",
            "background_color": "#aaffff",
            "bipartite": 0,
            "id": "s11",
            "label": "uBid",
            "name": "s11",
            "shape": "ellipse"
           },
           "position": {
            "x": 819.26,
            "y": 655.8
           }
          },
          {
           "data": {
            "NodeType": "species",
            "background_color": "#aaffff",
            "bipartite": 0,
            "id": "s12",
            "label": "cBax",
            "name": "s12",
            "shape": "ellipse"
           },
           "position": {
            "x": 1418.4,
            "y": 57.804
           }
          },
          {
           "data": {
            "NodeType": "species",
            "background_color": "#aaffff",
            "bipartite": 0,
            "id": "s13",
            "label": "mBak",
            "name": "s13",
            "shape": "ellipse"
           },
           "position": {
            "x": 1418.4,
            "y": 371.8
           }
          },
          {
           "data": {
            "NodeType": "species",
            "background_color": "#aaffff",
            "bipartite": 0,
            "id": "s14",
            "label": "mBcl2",
            "name": "s14",
            "shape": "ellipse"
           },
           "position": {
            "x": 1874.9,
            "y": 621.8
           }
          },
          {
           "data": {
            "NodeType": "species",
            "background_color": "#aaffff",
            "bipartite": 0,
            "id": "s15",
            "label": "mBclxL",
            "name": "s15",
            "shape": "ellipse"
           },
           "position": {
            "x": 1874.9,
            "y": 513.8
           }
          },
          {
           "data": {
            "NodeType": "species",
            "background_color": "#aaffff",
            "bipartite": 0,
            "id": "s16",
            "label": "mMcl1",
            "name": "s16",
            "shape": "ellipse"
           },
           "position": {
            "x": 1418.4,
            "y": 465.8
           }
          },
          {
           "data": {
            "NodeType": "species",
            "background_color": "#aaffff",
            "bipartite": 0,
            "id": "s17",
            "label": "mBad",
            "name": "s17",
            "shape": "ellipse"
           },
           "position": {
            "x": 1874.9,
            "y": 567.8
           }
          },
          {
           "data": {
            "NodeType": "species",
            "background_color": "#aaffff",
            "bipartite": 0,
            "id": "s18",
            "label": "mNoxa",
            "name": "s18",
            "shape": "ellipse"
           },
           "position": {
            "x": 1418.4,
            "y": 519.8
           }
          },
          {
           "data": {
            "NodeType": "species",
            "background_color": "#aaffff",
            "bipartite": 0,
            "id": "s19",
            "label": "mCytoC",
            "name": "s19",
            "shape": "ellipse"
           },
           "position": {
            "x": 2961.6,
            "y": 377.8
           }
          },
          {
           "data": {
            "NodeType": "species",
            "background_color": "#aaffff",
            "bipartite": 0,
            "id": "s20",
            "label": "mSmac",
            "name": "s20",
            "shape": "ellipse"
           },
           "position": {
            "x": 2961.6,
            "y": 300.8
           }
          },
          {
           "data": {
            "NodeType": "species",
            "background_color": "#ccffcc",
            "bipartite": 0,
            "id": "s21",
            "label": "L-R",
            "name": "s21",
            "shape": "ellipse"
           },
           "position": {
            "x": 207,
            "y": 779.8
           }
          },
          {
           "data": {
            "NodeType": "species",
            "background_color": "#ccffcc",
            "bipartite": 0,
            "id": "s22",
            "label": "mBad-mBcl2",
            "name": "s22",
            "shape": "ellipse"
           },
           "position": {
            "x": 2103.2,
            "y": 617.8
           }
          },
          {
           "data": {
            "NodeType": "species",
            "background_color": "#ccffcc",
            "bipartite": 0,
            "id": "s23",
            "label": "mBad-mBclxL",
            "name": "s23",
            "shape": "ellipse"
           },
           "position": {
            "x": 2103.2,
            "y": 563.8
           }
          },
          {
           "data": {
            "NodeType": "species",
            "background_color": "#ccffcc",
            "bipartite": 0,
            "id": "s24",
            "label": "mMcl1-mNoxa",
            "name": "s24",
            "shape": "ellipse"
           },
           "position": {
            "x": 1645.2,
            "y": 515.8
           }
          },
          {
           "data": {
            "NodeType": "species",
            "background_color": "#ccffcc",
            "bipartite": 0,
            "id": "s25",
            "label": "DISC",
            "name": "s25",
            "shape": "ellipse"
           },
           "position": {
            "x": 392.22,
            "y": 779.8
           }
          },
          {
           "data": {
            "NodeType": "species",
            "background_color": "#ccffcc",
            "bipartite": 0,
            "id": "s26",
            "label": "proC8-DISC",
            "name": "s26",
            "shape": "ellipse"
           },
           "position": {
            "x": 605.74,
            "y": 823.8
           }
          },
          {
           "data": {
            "NodeType": "species",
            "background_color": "#ccffcc",
            "bipartite": 0,
            "id": "s27",
            "label": "DISC-flip",
            "name": "s27",
            "shape": "ellipse"
           },
           "position": {
            "x": 605.74,
            "y": 729.8
           }
          },
          {
           "data": {
            "NodeType": "species",
            "background_color": "#ccffcc",
            "bipartite": 0,
            "id": "s28",
            "label": "aC8",
            "name": "s28",
            "shape": "ellipse"
           },
           "position": {
            "x": 819.26,
            "y": 739.8
           }
          },
          {
           "data": {
            "NodeType": "species",
            "background_color": "#ccffcc",
            "bipartite": 0,
            "id": "s29",
            "label": "uBid-aC8",
            "name": "s29",
            "shape": "ellipse"
           },
           "position": {
            "x": 1026.9,
            "y": 655.8
           }
          },
          {
           "data": {
            "NodeType": "species",
            "background_color": "#ccffcc",
            "bipartite": 0,
            "id": "s30",
            "label": "BAR-aC8",
            "name": "s30",
            "shape": "ellipse"
           },
           "position": {
            "x": 1026.9,
            "y": 601.8
           }
          },
          {
           "data": {
            "NodeType": "species",
            "background_color": "#ccffcc",
            "bipartite": 0,
            "id": "s31",
            "label": "proC3-aC8",
            "name": "s31",
            "shape": "ellipse"
           },
           "position": {
            "x": 1026.9,
            "y": 823.8
           }
          },
          {
           "data": {
            "NodeType": "species",
            "background_color": "#ccffcc",
            "bipartite": 0,
            "id": "s32",
            "label": "tBid",
            "name": "s32",
            "shape": "ellipse"
           },
           "position": {
            "x": 1229.3,
            "y": 536.8
           }
          },
          {
           "data": {
            "NodeType": "species",
            "background_color": "#ccffcc",
            "bipartite": 0,
            "id": "s33",
            "label": "aC3",
            "name": "s33",
            "shape": "ellipse"
           },
           "position": {
            "x": 4691.6,
            "y": 758.8
           }
          },
          {
           "data": {
            "NodeType": "species",
            "background_color": "#ccffcc",
            "bipartite": 0,
            "id": "s34",
            "label": "aC3-XIAP",
            "name": "s34",
            "shape": "ellipse"
           },
           "position": {
            "x": 4906.5,
            "y": 763.8
           }
          },
          {
           "data": {
            "NodeType": "species",
            "background_color": "#ccffcc",
            "bipartite": 0,
            "id": "s35",
            "label": "aC3-uPARP",
            "name": "s35",
            "shape": "ellipse"
           },
           "position": {
            "x": 4906.5,
            "y": 633.8
           }
          },
          {
           "data": {
            "NodeType": "species",
            "background_color": "#ccffcc",
            "bipartite": 0,
            "id": "s36",
            "label": "aC3-proC6",
            "name": "s36",
            "shape": "ellipse"
           },
           "position": {
            "x": 4906.5,
            "y": 855.8
           }
          },
          {
           "data": {
            "NodeType": "species",
            "background_color": "#ccffcc",
            "bipartite": 0,
            "id": "s37",
            "label": "mBid",
            "name": "s37",
            "shape": "ellipse"
           },
           "position": {
            "x": 1418.4,
            "y": 226.8
           }
          },
          {
           "data": {
            "NodeType": "species",
            "background_color": "#ccffcc",
            "bipartite": 0,
            "id": "s38",
            "label": "ubC3",
            "name": "s38",
            "shape": "ellipse"
           },
           "position": {
            "x": 5120.9,
            "y": 763.8
           }
          },
          {
           "data": {
            "NodeType": "species",
            "background_color": "#ccffcc",
            "bipartite": 0,
            "id": "s39",
            "label": "cPARP",
            "name": "s39",
            "shape": "ellipse"
           },
           "position": {
            "x": 5120.9,
            "y": 638.8
           }
          },
          {
           "data": {
            "NodeType": "species",
            "background_color": "#ccffcc",
            "bipartite": 0,
            "id": "s40",
            "label": "aC6",
            "name": "s40",
            "shape": "ellipse"
           },
           "position": {
            "x": 5120.9,
            "y": 851.8
           }
          },
          {
           "data": {
            "NodeType": "species",
            "background_color": "#ccffcc",
            "bipartite": 0,
            "id": "s41",
            "label": "cBax-mBid",
            "name": "s41",
            "shape": "ellipse"
           },
           "position": {
            "x": 1645.2,
            "y": 57.804
           }
          },
          {
           "data": {
            "NodeType": "species",
            "background_color": "#ccffcc",
            "bipartite": 0,
            "id": "s42",
            "label": "mBak-mBid",
            "name": "s42",
            "shape": "ellipse"
           },
           "position": {
            "x": 1645.2,
            "y": 329.8
           }
          },
          {
           "data": {
            "NodeType": "species",
            "background_color": "#ccffcc",
            "bipartite": 0,
            "id": "s43",
            "label": "mBcl2-mBid",
            "name": "s43",
            "shape": "ellipse"
           },
           "position": {
            "x": 2103.2,
            "y": 709.8
           }
          },
          {
           "data": {
            "NodeType": "species",
            "background_color": "#ccffcc",
            "bipartite": 0,
            "id": "s44",
            "label": "mBclxL-mBid",
            "name": "s44",
            "shape": "ellipse"
           },
           "position": {
            "x": 2103.2,
            "y": 471.8
           }
          },
          {
           "data": {
            "NodeType": "species",
            "background_color": "#ccffcc",
            "bipartite": 0,
            "id": "s45",
            "label": "mBid-mMcl1",
            "name": "s45",
            "shape": "ellipse"
           },
           "position": {
            "x": 1645.2,
            "y": 383.8
           }
          },
          {
           "data": {
            "NodeType": "species",
            "background_color": "#ccffcc",
            "bipartite": 0,
            "id": "s46",
            "label": "aC6-proC8",
            "name": "s46",
            "shape": "ellipse"
           },
           "position": {
            "x": 5339.5,
            "y": 895.8
           }
          },
          {
           "data": {
            "NodeType": "species",
            "background_color": "#ccffcc",
            "bipartite": 0,
            "id": "s47",
            "label": "mBax",
            "name": "s47",
            "shape": "ellipse"
           },
           "position": {
            "x": 1874.9,
            "y": 149.8
           }
          },
          {
           "data": {
            "NodeType": "species",
            "background_color": "#ccffcc",
            "bipartite": 0,
            "id": "s48",
            "label": "aBak",
            "name": "s48",
            "shape": "ellipse"
           },
           "position": {
            "x": 1874.9,
            "y": 217.8
           }
          },
          {
           "data": {
            "NodeType": "species",
            "background_color": "#ccffcc",
            "bipartite": 0,
            "id": "s49",
            "label": "mBax-mBid",
            "name": "s49",
            "shape": "ellipse"
           },
           "position": {
            "x": 2103.2,
            "y": 49.804
           }
          },
          {
           "data": {
            "NodeType": "species",
            "background_color": "#ccffcc",
            "bipartite": 0,
            "id": "s50",
            "label": "aBak-mBak",
            "name": "s50",
            "shape": "ellipse"
           },
           "position": {
            "x": 2103.2,
            "y": 309.8
           }
          },
          {
           "data": {
            "NodeType": "species",
            "background_color": "#ccffcc",
            "bipartite": 0,
            "id": "s51",
            "label": "aBak-mBclxL",
            "name": "s51",
            "shape": "ellipse"
           },
           "position": {
            "x": 2103.2,
            "y": 417.8
           }
          },
          {
           "data": {
            "NodeType": "species",
            "background_color": "#ccffcc",
            "bipartite": 0,
            "id": "s52",
            "label": "aBak-mMcl1",
            "name": "s52",
            "shape": "ellipse"
           },
           "position": {
            "x": 2103.2,
            "y": 363.8
           }
          },
          {
           "data": {
            "NodeType": "species",
            "background_color": "#ccffcc",
            "bipartite": 0,
            "id": "s53",
            "label": "2aBak",
            "name": "s53",
            "shape": "ellipse"
           },
           "position": {
            "x": 2103.2,
            "y": 217.8
           }
          },
          {
           "data": {
            "NodeType": "species",
            "background_color": "#ccffcc",
            "bipartite": 0,
            "id": "s54",
            "label": "aBax",
            "name": "s54",
            "shape": "ellipse"
           },
           "position": {
            "x": 2325,
            "y": 141.8
           }
          },
          {
           "data": {
            "NodeType": "species",
            "background_color": "#ccffcc",
            "bipartite": 0,
            "id": "s55",
            "label": "3aBak",
            "name": "s55",
            "shape": "ellipse"
           },
           "position": {
            "x": 2325,
            "y": 294.8
           }
          },
          {
           "data": {
            "NodeType": "species",
            "background_color": "#ccffcc",
            "bipartite": 0,
            "id": "s56",
            "label": "aBax-mBax",
            "name": "s56",
            "shape": "ellipse"
           },
           "position": {
            "x": 2543.9,
            "y": 59.804
           }
          },
          {
           "data": {
            "NodeType": "species",
            "background_color": "#ccffcc",
            "bipartite": 0,
            "id": "s57",
            "label": "aBax-mBcl2",
            "name": "s57",
            "shape": "ellipse"
           },
           "position": {
            "x": 2543.9,
            "y": 516.8
           }
          },
          {
           "data": {
            "NodeType": "species",
            "background_color": "#ccffcc",
            "bipartite": 0,
            "id": "s58",
            "label": "aBax-mBclxL",
            "name": "s58",
            "shape": "ellipse"
           },
           "position": {
            "x": 2543.9,
            "y": 281.8
           }
          },
          {
           "data": {
            "NodeType": "species",
            "background_color": "#ccffcc",
            "bipartite": 0,
            "id": "s59",
            "label": "2aBax",
            "name": "s59",
            "shape": "ellipse"
           },
           "position": {
            "x": 2543.9,
            "y": 227.8
           }
          },
          {
           "data": {
            "NodeType": "species",
            "background_color": "#ccffcc",
            "bipartite": 0,
            "id": "s60",
            "label": "4aBak",
            "name": "s60",
            "shape": "ellipse"
           },
           "position": {
            "x": 2961.6,
            "y": 442.8
           }
          },
          {
           "data": {
            "NodeType": "species",
            "background_color": "#ccffcc",
            "bipartite": 0,
            "id": "s61",
            "label": "3aBax",
            "name": "s61",
            "shape": "ellipse"
           },
           "position": {
            "x": 2762.8,
            "y": 219.8
           }
          },
          {
           "data": {
            "NodeType": "species",
            "background_color": "#ccffcc",
            "bipartite": 0,
            "id": "s62",
            "label": "4aBak-mCytoC",
            "name": "s62",
            "shape": "ellipse"
           },
           "position": {
            "x": 3193.3,
            "y": 534.8
           }
          },
          {
           "data": {
            "NodeType": "species",
            "background_color": "#ccffcc",
            "bipartite": 0,
            "id": "s63",
            "label": "4aBak-mSmac",
            "name": "s63",
            "shape": "ellipse"
           },
           "position": {
            "x": 3193.3,
            "y": 402.8
           }
          },
          {
           "data": {
            "NodeType": "species",
            "background_color": "#ccffcc",
            "bipartite": 0,
            "id": "s64",
            "label": "4aBax",
            "name": "s64",
            "shape": "ellipse"
           },
           "position": {
            "x": 2961.6,
            "y": 234.8
           }
          },
          {
           "data": {
            "NodeType": "species",
            "background_color": "#ccffcc",
            "bipartite": 0,
            "id": "s65",
            "label": "cCytoC",
            "name": "s65",
            "shape": "ellipse"
           },
           "position": {
            "x": 3422.1,
            "y": 565.8
           }
          },
          {
           "data": {
            "NodeType": "species",
            "background_color": "#ccffcc",
            "bipartite": 0,
            "id": "s66",
            "label": "cSmac",
            "name": "s66",
            "shape": "ellipse"
           },
           "position": {
            "x": 3422.1,
            "y": 415.8
           }
          },
          {
           "data": {
            "NodeType": "species",
            "background_color": "#ccffcc",
            "bipartite": 0,
            "id": "s67",
            "label": "aSmac",
            "name": "s67",
            "shape": "ellipse"
           },
           "position": {
            "x": 3729.1,
            "y": 502.8
           }
          },
          {
           "data": {
            "NodeType": "species",
            "background_color": "#ccffcc",
            "bipartite": 0,
            "id": "s68",
            "label": "aCytoC",
            "name": "s68",
            "shape": "ellipse"
           },
           "position": {
            "x": 3622.3,
            "y": 583.8
           }
          },
          {
           "data": {
            "NodeType": "species",
            "background_color": "#ccffcc",
            "bipartite": 0,
            "id": "s69",
            "label": "4aBax-mCytoC",
            "name": "s69",
            "shape": "ellipse"
           },
           "position": {
            "x": 3193.3,
            "y": 334.8
           }
          },
          {
           "data": {
            "NodeType": "species",
            "background_color": "#ccffcc",
            "bipartite": 0,
            "id": "s70",
            "label": "4aBax-mSmac",
            "name": "s70",
            "shape": "ellipse"
           },
           "position": {
            "x": 3193.3,
            "y": 280.8
           }
          },
          {
           "data": {
            "NodeType": "species",
            "background_color": "#ccffcc",
            "bipartite": 0,
            "id": "s71",
            "label": "iApaf-aCytoC",
            "name": "s71",
            "shape": "ellipse"
           },
           "position": {
            "x": 3859,
            "y": 635.8
           }
          },
          {
           "data": {
            "NodeType": "species",
            "background_color": "#ccffcc",
            "bipartite": 0,
            "id": "s72",
            "label": "aSmac-XIAP",
            "name": "s72",
            "shape": "ellipse"
           },
           "position": {
            "x": 5339.5,
            "y": 568.8
           }
          },
          {
           "data": {
            "NodeType": "species",
            "background_color": "#ccffcc",
            "bipartite": 0,
            "id": "s73",
            "label": "aApaf",
            "name": "s73",
            "shape": "ellipse"
           },
           "position": {
            "x": 4077,
            "y": 636.8
           }
          },
          {
           "data": {
            "NodeType": "species",
            "background_color": "#ccffcc",
            "bipartite": 0,
            "id": "s74",
            "label": "Apop",
            "name": "s74",
            "shape": "ellipse"
           },
           "position": {
            "x": 4264.4,
            "y": 698.8
           }
          },
          {
           "data": {
            "NodeType": "species",
            "background_color": "#ccffcc",
            "bipartite": 0,
            "id": "s75",
            "label": "Apop-proC3",
            "name": "s75",
            "shape": "ellipse"
           },
           "position": {
            "x": 4475,
            "y": 753.8
           }
          },
          {
           "data": {
            "NodeType": "species",
            "background_color": "#ccffcc",
            "bipartite": 0,
            "id": "s76",
            "label": "Apop-XIAP",
            "name": "s76",
            "shape": "ellipse"
           },
           "position": {
            "x": 5339.5,
            "y": 647.8
           }
          },
          {
           "data": {
            "NodeType": "reaction",
            "background_color": "#d3d3d3",
            "bipartite": 1,
            "id": "r0",
            "label": "r0",
            "name": "r0",
            "shape": "roundrectangle"
           },
           "position": {
            "x": 117,
            "y": 779.8
           }
          },
          {
           "data": {
            "NodeType": "reaction",
            "background_color": "#d3d3d3",
            "bipartite": 1,
            "id": "r1",
            "label": "r1",
            "name": "r1",
            "shape": "roundrectangle"
           },
           "position": {
            "x": 1977,
            "y": 617.8
           }
          },
          {
           "data": {
            "NodeType": "reaction",
            "background_color": "#d3d3d3",
            "bipartite": 1,
            "id": "r2",
            "label": "r2",
            "name": "r2",
            "shape": "roundrectangle"
           },
           "position": {
            "x": 1977,
            "y": 563.8
           }
          },
          {
           "data": {
            "NodeType": "reaction",
            "background_color": "#d3d3d3",
            "bipartite": 1,
            "id": "r3",
            "label": "r3",
            "name": "r3",
            "shape": "roundrectangle"
           },
           "position": {
            "x": 1517.6,
            "y": 515.8
           }
          },
          {
           "data": {
            "NodeType": "reaction",
            "background_color": "#d3d3d3",
            "bipartite": 1,
            "id": "r4",
            "label": "r4",
            "name": "r4",
            "shape": "roundrectangle"
           },
           "position": {
            "x": 297,
            "y": 779.8
           }
          },
          {
           "data": {
            "NodeType": "reaction",
            "background_color": "#d3d3d3",
            "bipartite": 1,
            "id": "r5",
            "label": "r5",
            "name": "r5",
            "shape": "roundrectangle"
           },
           "position": {
            "x": 487.43,
            "y": 823.8
           }
          },
          {
           "data": {
            "NodeType": "reaction",
            "background_color": "#d3d3d3",
            "bipartite": 1,
            "id": "r6",
            "label": "r6",
            "name": "r6",
            "shape": "roundrectangle"
           },
           "position": {
            "x": 487.43,
            "y": 729.8
           }
          },
          {
           "data": {
            "NodeType": "reaction",
            "background_color": "#d3d3d3",
            "bipartite": 1,
            "id": "r7",
            "label": "r7",
            "name": "r7",
            "shape": "roundrectangle"
           },
           "position": {
            "x": 724.05,
            "y": 777.8
           }
          },
          {
           "data": {
            "NodeType": "reaction",
            "background_color": "#d3d3d3",
            "bipartite": 1,
            "id": "r8",
            "label": "r8",
            "name": "r8",
            "shape": "roundrectangle"
           },
           "position": {
            "x": 914.48,
            "y": 655.8
           }
          },
          {
           "data": {
            "NodeType": "reaction",
            "background_color": "#d3d3d3",
            "bipartite": 1,
            "id": "r9",
            "label": "r9",
            "name": "r9",
            "shape": "roundrectangle"
           },
           "position": {
            "x": 914.48,
            "y": 601.8
           }
          },
          {
           "data": {
            "NodeType": "reaction",
            "background_color": "#d3d3d3",
            "bipartite": 1,
            "id": "r10",
            "label": "r10",
            "name": "r10",
            "shape": "roundrectangle"
           },
           "position": {
            "x": 914.48,
            "y": 823.8
           }
          },
          {
           "data": {
            "NodeType": "reaction",
            "background_color": "#d3d3d3",
            "bipartite": 1,
            "id": "r11",
            "label": "r11",
            "name": "r11",
            "shape": "roundrectangle"
           },
           "position": {
            "x": 1139.3,
            "y": 655.8
           }
          },
          {
           "data": {
            "NodeType": "reaction",
            "background_color": "#d3d3d3",
            "bipartite": 1,
            "id": "r12",
            "label": "r12",
            "name": "r12",
            "shape": "roundrectangle"
           },
           "position": {
            "x": 1139.3,
            "y": 823.8
           }
          },
          {
           "data": {
            "NodeType": "reaction",
            "background_color": "#d3d3d3",
            "bipartite": 1,
            "id": "r13",
            "label": "r13",
            "name": "r13",
            "shape": "roundrectangle"
           },
           "position": {
            "x": 4790.5,
            "y": 758.8
           }
          },
          {
           "data": {
            "NodeType": "reaction",
            "background_color": "#d3d3d3",
            "bipartite": 1,
            "id": "r14",
            "label": "r14",
            "name": "r14",
            "shape": "roundrectangle"
           },
           "position": {
            "x": 4790.5,
            "y": 633.8
           }
          },
          {
           "data": {
            "NodeType": "reaction",
            "background_color": "#d3d3d3",
            "bipartite": 1,
            "id": "r15",
            "label": "r15",
            "name": "r15",
            "shape": "roundrectangle"
           },
           "position": {
            "x": 4790.5,
            "y": 855.8
           }
          },
          {
           "data": {
            "NodeType": "reaction",
            "background_color": "#d3d3d3",
            "bipartite": 1,
            "id": "r16",
            "label": "r16",
            "name": "r16",
            "shape": "roundrectangle"
           },
           "position": {
            "x": 1319.3,
            "y": 329.8
           }
          },
          {
           "data": {
            "NodeType": "reaction",
            "background_color": "#d3d3d3",
            "bipartite": 1,
            "id": "r17",
            "label": "r17",
            "name": "r17",
            "shape": "roundrectangle"
           },
           "position": {
            "x": 5022.5,
            "y": 763.8
           }
          },
          {
           "data": {
            "NodeType": "reaction",
            "background_color": "#d3d3d3",
            "bipartite": 1,
            "id": "r18",
            "label": "r18",
            "name": "r18",
            "shape": "roundrectangle"
           },
           "position": {
            "x": 5022.5,
            "y": 638.8
           }
          },
          {
           "data": {
            "NodeType": "reaction",
            "background_color": "#d3d3d3",
            "bipartite": 1,
            "id": "r19",
            "label": "r19",
            "name": "r19",
            "shape": "roundrectangle"
           },
           "position": {
            "x": 5022.5,
            "y": 851.8
           }
          },
          {
           "data": {
            "NodeType": "reaction",
            "background_color": "#d3d3d3",
            "bipartite": 1,
            "id": "r20",
            "label": "r20",
            "name": "r20",
            "shape": "roundrectangle"
           },
           "position": {
            "x": 1517.6,
            "y": 57.804
           }
          },
          {
           "data": {
            "NodeType": "reaction",
            "background_color": "#d3d3d3",
            "bipartite": 1,
            "id": "r21",
            "label": "r21",
            "name": "r21",
            "shape": "roundrectangle"
           },
           "position": {
            "x": 1517.6,
            "y": 329.8
           }
          },
          {
           "data": {
            "NodeType": "reaction",
            "background_color": "#d3d3d3",
            "bipartite": 1,
            "id": "r22",
            "label": "r22",
            "name": "r22",
            "shape": "roundrectangle"
           },
           "position": {
            "x": 1977,
            "y": 709.8
           }
          },
          {
           "data": {
            "NodeType": "reaction",
            "background_color": "#d3d3d3",
            "bipartite": 1,
            "id": "r23",
            "label": "r23",
            "name": "r23",
            "shape": "roundrectangle"
           },
           "position": {
            "x": 1977,
            "y": 471.8
           }
          },
          {
           "data": {
            "NodeType": "reaction",
            "background_color": "#d3d3d3",
            "bipartite": 1,
            "id": "r24",
            "label": "r24",
            "name": "r24",
            "shape": "roundrectangle"
           },
           "position": {
            "x": 1517.6,
            "y": 383.8
           }
          },
          {
           "data": {
            "NodeType": "reaction",
            "background_color": "#d3d3d3",
            "bipartite": 1,
            "id": "r25",
            "label": "r25",
            "name": "r25",
            "shape": "roundrectangle"
           },
           "position": {
            "x": 5219.2,
            "y": 895.8
           }
          },
          {
           "data": {
            "NodeType": "reaction",
            "background_color": "#d3d3d3",
            "bipartite": 1,
            "id": "r26",
            "label": "r26",
            "name": "r26",
            "shape": "roundrectangle"
           },
           "position": {
            "x": 1772.8,
            "y": 149.8
           }
          },
          {
           "data": {
            "NodeType": "reaction",
            "background_color": "#d3d3d3",
            "bipartite": 1,
            "id": "r27",
            "label": "r27",
            "name": "r27",
            "shape": "roundrectangle"
           },
           "position": {
            "x": 1772.8,
            "y": 291.8
           }
          },
          {
           "data": {
            "NodeType": "reaction",
            "background_color": "#d3d3d3",
            "bipartite": 1,
            "id": "r28",
            "label": "r28",
            "name": "r28",
            "shape": "roundrectangle"
           },
           "position": {
            "x": 5459.7,
            "y": 895.8
           }
          },
          {
           "data": {
            "NodeType": "reaction",
            "background_color": "#d3d3d3",
            "bipartite": 1,
            "id": "r29",
            "label": "r29",
            "name": "r29",
            "shape": "roundrectangle"
           },
           "position": {
            "x": 1977,
            "y": 49.804
           }
          },
          {
           "data": {
            "NodeType": "reaction",
            "background_color": "#d3d3d3",
            "bipartite": 1,
            "id": "r30",
            "label": "r30",
            "name": "r30",
            "shape": "roundrectangle"
           },
           "position": {
            "x": 1977,
            "y": 309.8
           }
          },
          {
           "data": {
            "NodeType": "reaction",
            "background_color": "#d3d3d3",
            "bipartite": 1,
            "id": "r31",
            "label": "r31",
            "name": "r31",
            "shape": "roundrectangle"
           },
           "position": {
            "x": 1977,
            "y": 417.8
           }
          },
          {
           "data": {
            "NodeType": "reaction",
            "background_color": "#d3d3d3",
            "bipartite": 1,
            "id": "r32",
            "label": "r32",
            "name": "r32",
            "shape": "roundrectangle"
           },
           "position": {
            "x": 1977,
            "y": 363.8
           }
          },
          {
           "data": {
            "NodeType": "reaction",
            "background_color": "#d3d3d3",
            "bipartite": 1,
            "id": "r33",
            "label": "r33",
            "name": "r33",
            "shape": "roundrectangle"
           },
           "position": {
            "x": 1977,
            "y": 217.8
           }
          },
          {
           "data": {
            "NodeType": "reaction",
            "background_color": "#d3d3d3",
            "bipartite": 1,
            "id": "r34",
            "label": "r34",
            "name": "r34",
            "shape": "roundrectangle"
           },
           "position": {
            "x": 2229.3,
            "y": 49.804
           }
          },
          {
           "data": {
            "NodeType": "reaction",
            "background_color": "#d3d3d3",
            "bipartite": 1,
            "id": "r35",
            "label": "r35",
            "name": "r35",
            "shape": "roundrectangle"
           },
           "position": {
            "x": 2229.3,
            "y": 290.8
           }
          },
          {
           "data": {
            "NodeType": "reaction",
            "background_color": "#d3d3d3",
            "bipartite": 1,
            "id": "r36",
            "label": "r36",
            "name": "r36",
            "shape": "roundrectangle"
           },
           "position": {
            "x": 2229.3,
            "y": 217.8
           }
          },
          {
           "data": {
            "NodeType": "reaction",
            "background_color": "#d3d3d3",
            "bipartite": 1,
            "id": "r37",
            "label": "r37",
            "name": "r37",
            "shape": "roundrectangle"
           },
           "position": {
            "x": 2420.7,
            "y": 59.804
           }
          },
          {
           "data": {
            "NodeType": "reaction",
            "background_color": "#d3d3d3",
            "bipartite": 1,
            "id": "r38",
            "label": "r38",
            "name": "r38",
            "shape": "roundrectangle"
           },
           "position": {
            "x": 2420.7,
            "y": 516.8
           }
          },
          {
           "data": {
            "NodeType": "reaction",
            "background_color": "#d3d3d3",
            "bipartite": 1,
            "id": "r39",
            "label": "r39",
            "name": "r39",
            "shape": "roundrectangle"
           },
           "position": {
            "x": 2420.7,
            "y": 281.8
           }
          },
          {
           "data": {
            "NodeType": "reaction",
            "background_color": "#d3d3d3",
            "bipartite": 1,
            "id": "r40",
            "label": "r40",
            "name": "r40",
            "shape": "roundrectangle"
           },
           "position": {
            "x": 2420.7,
            "y": 227.8
           }
          },
          {
           "data": {
            "NodeType": "reaction",
            "background_color": "#d3d3d3",
            "bipartite": 1,
            "id": "r41",
            "label": "r41",
            "name": "r41",
            "shape": "roundrectangle"
           },
           "position": {
            "x": 2420.7,
            "y": 335.8
           }
          },
          {
           "data": {
            "NodeType": "reaction",
            "background_color": "#d3d3d3",
            "bipartite": 1,
            "id": "r42",
            "label": "r42",
            "name": "r42",
            "shape": "roundrectangle"
           },
           "position": {
            "x": 2667.1,
            "y": 78.804
           }
          },
          {
           "data": {
            "NodeType": "reaction",
            "background_color": "#d3d3d3",
            "bipartite": 1,
            "id": "r43",
            "label": "r43",
            "name": "r43",
            "shape": "roundrectangle"
           },
           "position": {
            "x": 2667.1,
            "y": 219.8
           }
          },
          {
           "data": {
            "NodeType": "reaction",
            "background_color": "#d3d3d3",
            "bipartite": 1,
            "id": "r44",
            "label": "r44",
            "name": "r44",
            "shape": "roundrectangle"
           },
           "position": {
            "x": 3064.7,
            "y": 442.8
           }
          },
          {
           "data": {
            "NodeType": "reaction",
            "background_color": "#d3d3d3",
            "bipartite": 1,
            "id": "r45",
            "label": "r45",
            "name": "r45",
            "shape": "roundrectangle"
           },
           "position": {
            "x": 3064.7,
            "y": 388.8
           }
          },
          {
           "data": {
            "NodeType": "reaction",
            "background_color": "#d3d3d3",
            "bipartite": 1,
            "id": "r46",
            "label": "r46",
            "name": "r46",
            "shape": "roundrectangle"
           },
           "position": {
            "x": 2858.5,
            "y": 219.8
           }
          },
          {
           "data": {
            "NodeType": "reaction",
            "background_color": "#d3d3d3",
            "bipartite": 1,
            "id": "r47",
            "label": "r47",
            "name": "r47",
            "shape": "roundrectangle"
           },
           "position": {
            "x": 3321.9,
            "y": 565.8
           }
          },
          {
           "data": {
            "NodeType": "reaction",
            "background_color": "#d3d3d3",
            "bipartite": 1,
            "id": "r48",
            "label": "r48",
            "name": "r48",
            "shape": "roundrectangle"
           },
           "position": {
            "x": 3321.9,
            "y": 415.8
           }
          },
          {
           "data": {
            "NodeType": "reaction",
            "background_color": "#d3d3d3",
            "bipartite": 1,
            "id": "r49",
            "label": "r49",
            "name": "r49",
            "shape": "roundrectangle"
           },
           "position": {
            "x": 3522.2,
            "y": 439.8
           }
          },
          {
           "data": {
            "NodeType": "reaction",
            "background_color": "#d3d3d3",
            "bipartite": 1,
            "id": "r50",
            "label": "r50",
            "name": "r50",
            "shape": "roundrectangle"
           },
           "position": {
            "x": 3522.2,
            "y": 572.8
           }
          },
          {
           "data": {
            "NodeType": "reaction",
            "background_color": "#d3d3d3",
            "bipartite": 1,
            "id": "r51",
            "label": "r51",
            "name": "r51",
            "shape": "roundrectangle"
           },
           "position": {
            "x": 3064.7,
            "y": 334.8
           }
          },
          {
           "data": {
            "NodeType": "reaction",
            "background_color": "#d3d3d3",
            "bipartite": 1,
            "id": "r52",
            "label": "r52",
            "name": "r52",
            "shape": "roundrectangle"
           },
           "position": {
            "x": 3064.7,
            "y": 280.8
           }
          },
          {
           "data": {
            "NodeType": "reaction",
            "background_color": "#d3d3d3",
            "bipartite": 1,
            "id": "r53",
            "label": "r53",
            "name": "r53",
            "shape": "roundrectangle"
           },
           "position": {
            "x": 3729.1,
            "y": 635.8
           }
          },
          {
           "data": {
            "NodeType": "reaction",
            "background_color": "#d3d3d3",
            "bipartite": 1,
            "id": "r54",
            "label": "r54",
            "name": "r54",
            "shape": "roundrectangle"
           },
           "position": {
            "x": 5219.2,
            "y": 568.8
           }
          },
          {
           "data": {
            "NodeType": "reaction",
            "background_color": "#d3d3d3",
            "bipartite": 1,
            "id": "r55",
            "label": "r55",
            "name": "r55",
            "shape": "roundrectangle"
           },
           "position": {
            "x": 3321.9,
            "y": 334.8
           }
          },
          {
           "data": {
            "NodeType": "reaction",
            "background_color": "#d3d3d3",
            "bipartite": 1,
            "id": "r56",
            "label": "r56",
            "name": "r56",
            "shape": "roundrectangle"
           },
           "position": {
            "x": 3321.9,
            "y": 280.8
           }
          },
          {
           "data": {
            "NodeType": "reaction",
            "background_color": "#d3d3d3",
            "bipartite": 1,
            "id": "r57",
            "label": "r57",
            "name": "r57",
            "shape": "roundrectangle"
           },
           "position": {
            "x": 3982.2,
            "y": 635.8
           }
          },
          {
           "data": {
            "NodeType": "reaction",
            "background_color": "#d3d3d3",
            "bipartite": 1,
            "id": "r58",
            "label": "r58",
            "name": "r58",
            "shape": "roundrectangle"
           },
           "position": {
            "x": 4171.7,
            "y": 693.8
           }
          },
          {
           "data": {
            "NodeType": "reaction",
            "background_color": "#d3d3d3",
            "bipartite": 1,
            "id": "r59",
            "label": "r59",
            "name": "r59",
            "shape": "roundrectangle"
           },
           "position": {
            "x": 4357.2,
            "y": 753.8
           }
          },
          {
           "data": {
            "NodeType": "reaction",
            "background_color": "#d3d3d3",
            "bipartite": 1,
            "id": "r60",
            "label": "r60",
            "name": "r60",
            "shape": "roundrectangle"
           },
           "position": {
            "x": 5219.2,
            "y": 647.8
           }
          },
          {
           "data": {
            "NodeType": "reaction",
            "background_color": "#d3d3d3",
            "bipartite": 1,
            "id": "r61",
            "label": "r61",
            "name": "r61",
            "shape": "roundrectangle"
           },
           "position": {
            "x": 4592.8,
            "y": 753.8
           }
          }
         ]
        }
       },
       "format": "cyjs",
       "layout": "IPY_MODEL_d8320ef1638243888527ceb9fa1f42de",
       "layout_name": "preset",
       "type_of_viz": "sp_rxns_bidirectional_view",
       "visual_style": null
      }
     },
     "a656cb30e5ba4f74b7499686d2b85206": {
      "model_module": "@jupyter-widgets/base",
      "model_module_version": "1.1.0",
      "model_name": "LayoutModel",
      "state": {}
     },
     "a97b8cff7f264360a65c4cd3798a1eaf": {
      "model_module": "@jupyter-widgets/base",
      "model_module_version": "1.1.0",
      "model_name": "LayoutModel",
      "state": {}
     },
     "ac0723b6a161464aaac242424f89fe40": {
      "model_module": "@jupyter-widgets/base",
      "model_module_version": "1.1.0",
      "model_name": "LayoutModel",
      "state": {}
     },
     "d8320ef1638243888527ceb9fa1f42de": {
      "model_module": "@jupyter-widgets/base",
      "model_module_version": "1.1.0",
      "model_name": "LayoutModel",
      "state": {}
     },
     "df04a63fbfb4466187a2473c34125554": {
      "model_module": "viz-pysb-widget",
      "model_module_version": "^0.1.0",
      "model_name": "CytoscapeModel",
      "state": {
       "_model_module_version": "^0.1.0",
       "_view_module_version": "^0.1.0",
       "background": "#FFFFFF",
       "data": {
        "data": {
         "graph": {
          "rankdir": "LR"
         },
         "name": "pysbjupyter.pysb_models.lopez_embedded"
        },
        "elements": {
         "edges": [
          {
           "data": {
            "arrowhead": "normal",
            "id": "7350145a-d67c-45b1-b93d-9b4d73f24d4a",
            "source": "s0",
            "source_arrow_fill": "hollow",
            "source_arrow_shape": "triangle",
            "target": "bind_L_R_to_LR",
            "target_arrow_shape": "triangle"
           }
          },
          {
           "data": {
            "arrowhead": "normal",
            "id": "c9f7e7b0-3907-4b2d-8f26-8690025e5b7e",
            "source": "s1",
            "source_arrow_fill": "hollow",
            "source_arrow_shape": "triangle",
            "target": "bind_L_R_to_LR",
            "target_arrow_shape": "triangle"
           }
          },
          {
           "data": {
            "arrowhead": "normal",
            "id": "68688b37-53c4-4c91-a681-3824996da6b0",
            "source": "s2",
            "source_arrow_fill": "hollow",
            "source_arrow_shape": "triangle",
            "target": "bind_DISC_flip",
            "target_arrow_shape": "triangle"
           }
          },
          {
           "data": {
            "arrowhead": "normal",
            "id": "cb74c5fb-c976-46ed-8268-74f3b43f53e7",
            "source": "s3",
            "source_arrow_fill": "hollow",
            "source_arrow_shape": "triangle",
            "target": "bind_DISC_C8pro_to_DISCC8pro",
            "target_arrow_shape": "triangle"
           }
          },
          {
           "data": {
            "arrowhead": "normal",
            "id": "1fb05af3-4ea3-44e6-a4b2-f9a586dfd69e",
            "source": "s3",
            "source_arrow_fill": "hollow",
            "source_arrow_shape": "triangle",
            "target": "bind_C6A_C8pro_to_C6AC8pro",
            "target_arrow_shape": "triangle"
           }
          },
          {
           "data": {
            "arrowhead": "normal",
            "id": "4e555405-8229-44fa-a3fc-38a298e943b0",
            "source": "s4",
            "source_arrow_fill": "hollow",
            "source_arrow_shape": "triangle",
            "target": "bind_BAR_C8A",
            "target_arrow_shape": "triangle"
           }
          },
          {
           "data": {
            "arrowhead": "normal",
            "id": "fbcc85a7-1dc7-4d73-90ce-61c625f37daa",
            "source": "s5",
            "source_arrow_fill": "hollow",
            "source_arrow_shape": "triangle",
            "target": "bind_CytoCA_ApafI_to_CytoCAApafI",
            "target_arrow_shape": "triangle"
           }
          },
          {
           "data": {
            "arrowhead": "normal",
            "id": "cfd4e333-db9e-421a-924f-4ff9ffdcdf8a",
            "source": "s6",
            "source_arrow_fill": "hollow",
            "source_arrow_shape": "triangle",
            "target": "bind_Apop_C3pro_to_ApopC3pro",
            "target_arrow_shape": "triangle"
           }
          },
          {
           "data": {
            "arrowhead": "normal",
            "id": "bb7322a4-0c73-484a-9f5d-7484463a3b94",
            "source": "s6",
            "source_arrow_fill": "hollow",
            "source_arrow_shape": "triangle",
            "target": "bind_C8A_C3pro_to_C8AC3pro",
            "target_arrow_shape": "triangle"
           }
          },
          {
           "data": {
            "arrowhead": "normal",
            "id": "94bdcf37-5ae5-4f03-b19e-41d7133d4cec",
            "source": "s7",
            "source_arrow_fill": "hollow",
            "source_arrow_shape": "triangle",
            "target": "bind_C3A_C6pro_to_C3AC6pro",
            "target_arrow_shape": "triangle"
           }
          },
          {
           "data": {
            "arrowhead": "normal",
            "id": "b2ce7b88-50bb-456b-af85-dd075b765251",
            "source": "s8",
            "source_arrow_fill": "hollow",
            "source_arrow_shape": "triangle",
            "target": "convert_ApafA_C9_to_Apop",
            "target_arrow_shape": "triangle"
           }
          },
          {
           "data": {
            "arrowhead": "normal",
            "id": "77766ecc-9640-493f-a4e7-7637a4bb878f",
            "source": "s9",
            "source_arrow_fill": "hollow",
            "source_arrow_shape": "triangle",
            "target": "bind_C3A_PARPU_to_C3APARPU",
            "target_arrow_shape": "triangle"
           }
          },
          {
           "data": {
            "arrowhead": "normal",
            "id": "3d926427-c11c-41d3-a12f-2002fc98d74c",
            "source": "s10",
            "source_arrow_fill": "hollow",
            "source_arrow_shape": "triangle",
            "target": "bind_Apop_XIAP",
            "target_arrow_shape": "triangle"
           }
          },
          {
           "data": {
            "arrowhead": "normal",
            "id": "576dcc40-21df-4402-a70f-bef7204423b1",
            "source": "s10",
            "source_arrow_fill": "hollow",
            "source_arrow_shape": "triangle",
            "target": "bind_SmacA_XIAP",
            "target_arrow_shape": "triangle"
           }
          },
          {
           "data": {
            "arrowhead": "normal",
            "id": "bd7d9bdc-ad07-4a33-bc6a-850f61ff000a",
            "source": "s10",
            "source_arrow_fill": "hollow",
            "source_arrow_shape": "triangle",
            "target": "bind_XIAP_C3A_to_XIAPC3A",
            "target_arrow_shape": "triangle"
           }
          },
          {
           "data": {
            "arrowhead": "normal",
            "id": "8be65119-fd93-4e15-98a5-461790e88de1",
            "source": "s11",
            "source_arrow_fill": "hollow",
            "source_arrow_shape": "triangle",
            "target": "bind_C8A_BidU_to_C8ABidU",
            "target_arrow_shape": "triangle"
           }
          },
          {
           "data": {
            "arrowhead": "normal",
            "id": "d4b80b3e-f75b-4441-8730-adc5a1e41e39",
            "source": "s12",
            "source_arrow_fill": "hollow",
            "source_arrow_shape": "triangle",
            "target": "bind_BidM_BaxC_to_BidMBaxC",
            "target_arrow_shape": "triangle"
           }
          },
          {
           "data": {
            "arrowhead": "normal",
            "id": "a4150e41-541b-4b46-9e3e-04708fb80bb9",
            "source": "s13",
            "source_arrow_fill": "hollow",
            "source_arrow_shape": "triangle",
            "target": "bind_BidM_BakM_to_BidMBakM",
            "target_arrow_shape": "triangle"
           }
          },
          {
           "data": {
            "arrowhead": "normal",
            "id": "8f4f2222-a9dc-48a6-a544-cf534f97c997",
            "source": "s13",
            "source_arrow_fill": "hollow",
            "source_arrow_shape": "triangle",
            "target": "bind_BakA_BakM_to_BakABakM",
            "target_arrow_shape": "triangle"
           }
          },
          {
           "data": {
            "arrowhead": "normal",
            "id": "7c91383b-ef35-4d0f-8e86-5289ae411c4b",
            "source": "s14",
            "source_arrow_fill": "hollow",
            "source_arrow_shape": "triangle",
            "target": "bind_BidM_Bcl2M",
            "target_arrow_shape": "triangle"
           }
          },
          {
           "data": {
            "arrowhead": "normal",
            "id": "bda893fa-7a72-49b2-be28-e3c20ff7ad21",
            "source": "s14",
            "source_arrow_fill": "hollow",
            "source_arrow_shape": "triangle",
            "target": "bind_BaxA_Bcl2",
            "target_arrow_shape": "triangle"
           }
          },
          {
           "data": {
            "arrowhead": "normal",
            "id": "ca271406-d87f-42f5-99a2-cb11af1342ed",
            "source": "s14",
            "source_arrow_fill": "hollow",
            "source_arrow_shape": "triangle",
            "target": "bind_BadM_Bcl2",
            "target_arrow_shape": "triangle"
           }
          },
          {
           "data": {
            "arrowhead": "normal",
            "id": "3b2d9771-b410-4972-aeb4-640a9b710aad",
            "source": "s15",
            "source_arrow_fill": "hollow",
            "source_arrow_shape": "triangle",
            "target": "bind_BidM_BclxLM",
            "target_arrow_shape": "triangle"
           }
          },
          {
           "data": {
            "arrowhead": "normal",
            "id": "504b99b3-015e-4f06-a563-1580612868d4",
            "source": "s15",
            "source_arrow_fill": "hollow",
            "source_arrow_shape": "triangle",
            "target": "bind_BaxA_BclxLM",
            "target_arrow_shape": "triangle"
           }
          },
          {
           "data": {
            "arrowhead": "normal",
            "id": "52e4c51a-f1a9-4d7c-8a0a-1a6b3fcfdaaf",
            "source": "s15",
            "source_arrow_fill": "hollow",
            "source_arrow_shape": "triangle",
            "target": "bind_BakA_BclxLM",
            "target_arrow_shape": "triangle"
           }
          },
          {
           "data": {
            "arrowhead": "normal",
            "id": "e21672a8-9da2-4c6d-8271-96749dd8f1f0",
            "source": "s15",
            "source_arrow_fill": "hollow",
            "source_arrow_shape": "triangle",
            "target": "bind_BadM_BclxLM",
            "target_arrow_shape": "triangle"
           }
          },
          {
           "data": {
            "arrowhead": "normal",
            "id": "8916d4af-0253-43d9-952c-380679a0e4e6",
            "source": "s16",
            "source_arrow_fill": "hollow",
            "source_arrow_shape": "triangle",
            "target": "bind_BidM_Mcl1M",
            "target_arrow_shape": "triangle"
           }
          },
          {
           "data": {
            "arrowhead": "normal",
            "id": "8bbcd1fb-1fee-4ec5-9251-1ce9c94f1c9f",
            "source": "s16",
            "source_arrow_fill": "hollow",
            "source_arrow_shape": "triangle",
            "target": "bind_BakA_Mcl1M",
            "target_arrow_shape": "triangle"
           }
          },
          {
           "data": {
            "arrowhead": "normal",
            "id": "d4758037-1c5e-43de-88d8-3f7104a1a4ff",
            "source": "s16",
            "source_arrow_fill": "hollow",
            "source_arrow_shape": "triangle",
            "target": "bind_NoxaM_Mcl1M",
            "target_arrow_shape": "triangle"
           }
          },
          {
           "data": {
            "arrowhead": "normal",
            "id": "03add3c9-679b-47ba-9504-46850e3ddf45",
            "source": "s17",
            "source_arrow_fill": "hollow",
            "source_arrow_shape": "triangle",
            "target": "bind_BadM_Bcl2",
            "target_arrow_shape": "triangle"
           }
          },
          {
           "data": {
            "arrowhead": "normal",
            "id": "d700de94-6d32-4b07-ab28-5f782d5363df",
            "source": "s17",
            "source_arrow_fill": "hollow",
            "source_arrow_shape": "triangle",
            "target": "bind_BadM_BclxLM",
            "target_arrow_shape": "triangle"
           }
          },
          {
           "data": {
            "arrowhead": "normal",
            "id": "b098af25-7a00-4417-98b2-7c94dab6ad35",
            "source": "s18",
            "source_arrow_fill": "hollow",
            "source_arrow_shape": "triangle",
            "target": "bind_NoxaM_Mcl1M",
            "target_arrow_shape": "triangle"
           }
          },
          {
           "data": {
            "arrowhead": "normal",
            "id": "b59bf40a-6dfe-4916-b2c2-f5bb919ba49f",
            "source": "s19",
            "source_arrow_fill": "hollow",
            "source_arrow_shape": "triangle",
            "target": "pore_transport_complex_BaxA_4_CytoCM",
            "target_arrow_shape": "triangle"
           }
          },
          {
           "data": {
            "arrowhead": "normal",
            "id": "caee2642-cd76-443a-b42b-57150e113116",
            "source": "s19",
            "source_arrow_fill": "hollow",
            "source_arrow_shape": "triangle",
            "target": "pore_transport_complex_BakA_4_CytoCM",
            "target_arrow_shape": "triangle"
           }
          },
          {
           "data": {
            "arrowhead": "normal",
            "id": "19c2f885-3f9c-4b0a-8ed1-e10dfcf7d6a7",
            "source": "s20",
            "source_arrow_fill": "hollow",
            "source_arrow_shape": "triangle",
            "target": "pore_transport_complex_BaxA_4_SmacM",
            "target_arrow_shape": "triangle"
           }
          },
          {
           "data": {
            "arrowhead": "normal",
            "id": "3c65e8e9-4a5b-4ac6-9437-ba5d81fddae5",
            "source": "s20",
            "source_arrow_fill": "hollow",
            "source_arrow_shape": "triangle",
            "target": "pore_transport_complex_BakA_4_SmacM",
            "target_arrow_shape": "triangle"
           }
          },
          {
           "data": {
            "arrowhead": "normal",
            "id": "d89d0c05-e09b-4bc3-9696-5e05faf00d54",
            "source": "s21",
            "source_arrow_fill": "hollow",
            "source_arrow_shape": "triangle",
            "target": "bind_L_R_to_LR",
            "target_arrow_shape": "triangle"
           }
          },
          {
           "data": {
            "arrowhead": "normal",
            "id": "f32ea6d9-f5c2-4b11-9f14-e6017c8c7f7b",
            "source": "s21",
            "source_arrow_fill": "filled",
            "source_arrow_shape": "none",
            "target": "convert_LR_to_DISC",
            "target_arrow_shape": "triangle"
           }
          },
          {
           "data": {
            "arrowhead": "normal",
            "id": "2018ea4c-6879-4b10-be8b-ba2a35084f46",
            "source": "s22",
            "source_arrow_fill": "hollow",
            "source_arrow_shape": "triangle",
            "target": "bind_BadM_Bcl2",
            "target_arrow_shape": "triangle"
           }
          },
          {
           "data": {
            "arrowhead": "normal",
            "id": "757123f2-3902-441f-9c5f-e45c536f7744",
            "source": "s23",
            "source_arrow_fill": "hollow",
            "source_arrow_shape": "triangle",
            "target": "bind_BadM_BclxLM",
            "target_arrow_shape": "triangle"
           }
          },
          {
           "data": {
            "arrowhead": "normal",
            "id": "267afaa9-3268-488b-848e-5ac76f7c06f9",
            "source": "s24",
            "source_arrow_fill": "hollow",
            "source_arrow_shape": "triangle",
            "target": "bind_NoxaM_Mcl1M",
            "target_arrow_shape": "triangle"
           }
          },
          {
           "data": {
            "arrowhead": "normal",
            "id": "ad8a35f5-ec9c-4221-adba-1021dbe89bf9",
            "source": "s25",
            "source_arrow_fill": "hollow",
            "source_arrow_shape": "triangle",
            "target": "bind_DISC_C8pro_to_DISCC8pro",
            "target_arrow_shape": "triangle"
           }
          },
          {
           "data": {
            "arrowhead": "normal",
            "id": "ef8b53ff-89c9-41d0-8659-8ab5703e8414",
            "source": "s25",
            "source_arrow_fill": "hollow",
            "source_arrow_shape": "triangle",
            "target": "bind_DISC_flip",
            "target_arrow_shape": "triangle"
           }
          },
          {
           "data": {
            "arrowhead": "normal",
            "id": "68f70fab-bcda-4bad-aa0a-ab801e8414e6",
            "source": "s26",
            "source_arrow_fill": "hollow",
            "source_arrow_shape": "triangle",
            "target": "bind_DISC_C8pro_to_DISCC8pro",
            "target_arrow_shape": "triangle"
           }
          },
          {
           "data": {
            "arrowhead": "normal",
            "id": "d256361f-4f1c-4b0b-9740-5946f257ed46",
            "source": "s26",
            "source_arrow_fill": "filled",
            "source_arrow_shape": "none",
            "target": "catalyze_DISCC8pro_to_DISC_C8A",
            "target_arrow_shape": "triangle"
           }
          },
          {
           "data": {
            "arrowhead": "normal",
            "id": "b5ad2b9b-09aa-4e3f-b4c7-7d20186a8818",
            "source": "s27",
            "source_arrow_fill": "hollow",
            "source_arrow_shape": "triangle",
            "target": "bind_DISC_flip",
            "target_arrow_shape": "triangle"
           }
          },
          {
           "data": {
            "arrowhead": "normal",
            "id": "6572f45e-b23c-4230-9c4b-68859d5f1944",
            "source": "s28",
            "source_arrow_fill": "hollow",
            "source_arrow_shape": "triangle",
            "target": "bind_C8A_BidU_to_C8ABidU",
            "target_arrow_shape": "triangle"
           }
          },
          {
           "data": {
            "arrowhead": "normal",
            "id": "3e333504-5338-417d-ab7d-7ea031a1caa7",
            "source": "s28",
            "source_arrow_fill": "hollow",
            "source_arrow_shape": "triangle",
            "target": "bind_BAR_C8A",
            "target_arrow_shape": "triangle"
           }
          },
          {
           "data": {
            "arrowhead": "normal",
            "id": "c2f6cf7a-ca34-46bb-9ec2-bf8f63c67567",
            "source": "s28",
            "source_arrow_fill": "hollow",
            "source_arrow_shape": "triangle",
            "target": "bind_C8A_C3pro_to_C8AC3pro",
            "target_arrow_shape": "triangle"
           }
          },
          {
           "data": {
            "arrowhead": "normal",
            "id": "fe8cac6f-ed90-4aab-8523-9124d1b42daa",
            "source": "s29",
            "source_arrow_fill": "hollow",
            "source_arrow_shape": "triangle",
            "target": "bind_C8A_BidU_to_C8ABidU",
            "target_arrow_shape": "triangle"
           }
          },
          {
           "data": {
            "arrowhead": "normal",
            "id": "3d1bd1a0-c90d-4834-8702-f869eb3b9993",
            "source": "s29",
            "source_arrow_fill": "filled",
            "source_arrow_shape": "none",
            "target": "catalyze_C8ABidU_to_C8A_BidT",
            "target_arrow_shape": "triangle"
           }
          },
          {
           "data": {
            "arrowhead": "normal",
            "id": "1509812b-db7d-44b2-a75f-00a814c34d42",
            "source": "s30",
            "source_arrow_fill": "hollow",
            "source_arrow_shape": "triangle",
            "target": "bind_BAR_C8A",
            "target_arrow_shape": "triangle"
           }
          },
          {
           "data": {
            "arrowhead": "normal",
            "id": "728d05d6-abe1-4160-a5de-3f69f46aa5ec",
            "source": "s31",
            "source_arrow_fill": "hollow",
            "source_arrow_shape": "triangle",
            "target": "bind_C8A_C3pro_to_C8AC3pro",
            "target_arrow_shape": "triangle"
           }
          },
          {
           "data": {
            "arrowhead": "normal",
            "id": "cd5e3c47-c170-47ba-97b1-8fd9048aa709",
            "source": "s31",
            "source_arrow_fill": "filled",
            "source_arrow_shape": "none",
            "target": "catalyze_C8AC3pro_to_C8A_C3A",
            "target_arrow_shape": "triangle"
           }
          },
          {
           "data": {
            "arrowhead": "normal",
            "id": "09004d6e-ce1b-4280-9f50-966a85c7aaad",
            "source": "s32",
            "source_arrow_fill": "hollow",
            "source_arrow_shape": "triangle",
            "target": "equilibrate_BidT_to_BidM",
            "target_arrow_shape": "triangle"
           }
          },
          {
           "data": {
            "arrowhead": "normal",
            "id": "5e340b0b-cde8-4d0a-9fd9-15fc207cdc9b",
            "source": "s33",
            "source_arrow_fill": "hollow",
            "source_arrow_shape": "triangle",
            "target": "bind_XIAP_C3A_to_XIAPC3A",
            "target_arrow_shape": "triangle"
           }
          },
          {
           "data": {
            "arrowhead": "normal",
            "id": "45900b7d-c431-4722-8615-502363a0e818",
            "source": "s33",
            "source_arrow_fill": "hollow",
            "source_arrow_shape": "triangle",
            "target": "bind_C3A_PARPU_to_C3APARPU",
            "target_arrow_shape": "triangle"
           }
          },
          {
           "data": {
            "arrowhead": "normal",
            "id": "457a9afe-eaac-42ae-b3b5-eaa54f5da287",
            "source": "s33",
            "source_arrow_fill": "hollow",
            "source_arrow_shape": "triangle",
            "target": "bind_C3A_C6pro_to_C3AC6pro",
            "target_arrow_shape": "triangle"
           }
          },
          {
           "data": {
            "arrowhead": "normal",
            "id": "d51e43cb-72dc-4eff-bd74-dc6f3c6fad95",
            "source": "s34",
            "source_arrow_fill": "hollow",
            "source_arrow_shape": "triangle",
            "target": "bind_XIAP_C3A_to_XIAPC3A",
            "target_arrow_shape": "triangle"
           }
          },
          {
           "data": {
            "arrowhead": "normal",
            "id": "36f4610d-4384-4c86-8bd3-94ef9ef4b88e",
            "source": "s34",
            "source_arrow_fill": "filled",
            "source_arrow_shape": "none",
            "target": "catalyze_XIAPC3A_to_XIAP_C3ub",
            "target_arrow_shape": "triangle"
           }
          },
          {
           "data": {
            "arrowhead": "normal",
            "id": "56ab5f90-9579-44a1-bd21-39afc9cfe9c2",
            "source": "s35",
            "source_arrow_fill": "hollow",
            "source_arrow_shape": "triangle",
            "target": "bind_C3A_PARPU_to_C3APARPU",
            "target_arrow_shape": "triangle"
           }
          },
          {
           "data": {
            "arrowhead": "normal",
            "id": "b3b58bc0-ff81-430e-9c4b-e18a15857bde",
            "source": "s35",
            "source_arrow_fill": "filled",
            "source_arrow_shape": "none",
            "target": "catalyze_C3APARPU_to_C3A_PARPC",
            "target_arrow_shape": "triangle"
           }
          },
          {
           "data": {
            "arrowhead": "normal",
            "id": "eb438625-038c-4bd1-af5a-83b7be59d19b",
            "source": "s36",
            "source_arrow_fill": "hollow",
            "source_arrow_shape": "triangle",
            "target": "bind_C3A_C6pro_to_C3AC6pro",
            "target_arrow_shape": "triangle"
           }
          },
          {
           "data": {
            "arrowhead": "normal",
            "id": "32e8293a-1d12-4e04-9c2a-674ed072e405",
            "source": "s36",
            "source_arrow_fill": "filled",
            "source_arrow_shape": "none",
            "target": "catalyze_C3AC6pro_to_C3A_C6A",
            "target_arrow_shape": "triangle"
           }
          },
          {
           "data": {
            "arrowhead": "normal",
            "id": "d4c93950-345d-46ed-a3ba-47245177053a",
            "source": "s37",
            "source_arrow_fill": "hollow",
            "source_arrow_shape": "triangle",
            "target": "equilibrate_BidT_to_BidM",
            "target_arrow_shape": "triangle"
           }
          },
          {
           "data": {
            "arrowhead": "normal",
            "id": "81a10079-4842-4e1d-9d0d-09b37f8fb9e0",
            "source": "s37",
            "source_arrow_fill": "hollow",
            "source_arrow_shape": "triangle",
            "target": "bind_BidM_BaxC_to_BidMBaxC",
            "target_arrow_shape": "triangle"
           }
          },
          {
           "data": {
            "arrowhead": "normal",
            "id": "d4ec9bd6-3773-4d99-b6cd-68dc2bce0a71",
            "source": "s37",
            "source_arrow_fill": "hollow",
            "source_arrow_shape": "triangle",
            "target": "bind_BidM_BaxM_to_BidMBaxM",
            "target_arrow_shape": "triangle"
           }
          },
          {
           "data": {
            "arrowhead": "normal",
            "id": "1667cb8c-8007-44e6-b793-34a0b7941c39",
            "source": "s37",
            "source_arrow_fill": "hollow",
            "source_arrow_shape": "triangle",
            "target": "bind_BidM_BakM_to_BidMBakM",
            "target_arrow_shape": "triangle"
           }
          },
          {
           "data": {
            "arrowhead": "normal",
            "id": "d66b20f8-8c42-4866-a9b2-791af2ae0e81",
            "source": "s37",
            "source_arrow_fill": "hollow",
            "source_arrow_shape": "triangle",
            "target": "bind_BidM_Bcl2M",
            "target_arrow_shape": "triangle"
           }
          },
          {
           "data": {
            "arrowhead": "normal",
            "id": "e8cf95fe-6006-474f-a7c9-cdb28630ff84",
            "source": "s37",
            "source_arrow_fill": "hollow",
            "source_arrow_shape": "triangle",
            "target": "bind_BidM_BclxLM",
            "target_arrow_shape": "triangle"
           }
          },
          {
           "data": {
            "arrowhead": "normal",
            "id": "7f096965-d8e6-41ee-8751-d42c29257d57",
            "source": "s37",
            "source_arrow_fill": "hollow",
            "source_arrow_shape": "triangle",
            "target": "bind_BidM_Mcl1M",
            "target_arrow_shape": "triangle"
           }
          },
          {
           "data": {
            "arrowhead": "normal",
            "id": "de4fa5e6-ab1c-43bc-99e2-79815eb1b3e6",
            "source": "s40",
            "source_arrow_fill": "hollow",
            "source_arrow_shape": "triangle",
            "target": "bind_C6A_C8pro_to_C6AC8pro",
            "target_arrow_shape": "triangle"
           }
          },
          {
           "data": {
            "arrowhead": "normal",
            "id": "e3492f2a-1427-460b-b1ff-7f3e31a1d9ed",
            "source": "s41",
            "source_arrow_fill": "hollow",
            "source_arrow_shape": "triangle",
            "target": "bind_BidM_BaxC_to_BidMBaxC",
            "target_arrow_shape": "triangle"
           }
          },
          {
           "data": {
            "arrowhead": "normal",
            "id": "451dd72c-bb4d-41e9-9363-279599ad124f",
            "source": "s41",
            "source_arrow_fill": "filled",
            "source_arrow_shape": "none",
            "target": "catalyze_BidMBaxC_to_BidM_BaxM",
            "target_arrow_shape": "triangle"
           }
          },
          {
           "data": {
            "arrowhead": "normal",
            "id": "aaa40cd9-ab58-4a58-9807-54e4bdac494b",
            "source": "s42",
            "source_arrow_fill": "hollow",
            "source_arrow_shape": "triangle",
            "target": "bind_BidM_BakM_to_BidMBakM",
            "target_arrow_shape": "triangle"
           }
          },
          {
           "data": {
            "arrowhead": "normal",
            "id": "78295f5f-417b-483d-ba95-cd0b2ea55e11",
            "source": "s42",
            "source_arrow_fill": "filled",
            "source_arrow_shape": "none",
            "target": "catalyze_BidMBakM_to_BidM_BakA",
            "target_arrow_shape": "triangle"
           }
          },
          {
           "data": {
            "arrowhead": "normal",
            "id": "28c8cba4-81c3-4ec4-a0d6-bdbab10ce312",
            "source": "s43",
            "source_arrow_fill": "hollow",
            "source_arrow_shape": "triangle",
            "target": "bind_BidM_Bcl2M",
            "target_arrow_shape": "triangle"
           }
          },
          {
           "data": {
            "arrowhead": "normal",
            "id": "06d114ec-b85b-4c94-a25d-dfc7bf3ef018",
            "source": "s44",
            "source_arrow_fill": "hollow",
            "source_arrow_shape": "triangle",
            "target": "bind_BidM_BclxLM",
            "target_arrow_shape": "triangle"
           }
          },
          {
           "data": {
            "arrowhead": "normal",
            "id": "7c47d18c-0f65-446b-8713-6d44fd319525",
            "source": "s45",
            "source_arrow_fill": "hollow",
            "source_arrow_shape": "triangle",
            "target": "bind_BidM_Mcl1M",
            "target_arrow_shape": "triangle"
           }
          },
          {
           "data": {
            "arrowhead": "normal",
            "id": "ff9e5f13-27ac-42fb-a529-3329112a713d",
            "source": "s46",
            "source_arrow_fill": "hollow",
            "source_arrow_shape": "triangle",
            "target": "bind_C6A_C8pro_to_C6AC8pro",
            "target_arrow_shape": "triangle"
           }
          },
          {
           "data": {
            "arrowhead": "normal",
            "id": "4992898b-a808-48d1-97a6-53c17b9c3f43",
            "source": "s46",
            "source_arrow_fill": "filled",
            "source_arrow_shape": "none",
            "target": "catalyze_C6AC8pro_to_C6A_C8A",
            "target_arrow_shape": "triangle"
           }
          },
          {
           "data": {
            "arrowhead": "normal",
            "id": "1cc1e95b-6527-41cf-9971-cc48fca912ac",
            "source": "s47",
            "source_arrow_fill": "hollow",
            "source_arrow_shape": "triangle",
            "target": "bind_BidM_BaxM_to_BidMBaxM",
            "target_arrow_shape": "triangle"
           }
          },
          {
           "data": {
            "arrowhead": "normal",
            "id": "761b83a1-535a-4d04-9c1e-d25e871d69c3",
            "source": "s47",
            "source_arrow_fill": "hollow",
            "source_arrow_shape": "triangle",
            "target": "bind_BaxA_BaxM_to_BaxABaxM",
            "target_arrow_shape": "triangle"
           }
          },
          {
           "data": {
            "arrowhead": "normal",
            "id": "bf446b25-f51f-4cb8-8410-fa1cfad28e48",
            "source": "s48",
            "source_arrow_fill": "hollow",
            "source_arrow_shape": "triangle",
            "target": "bind_BakA_BakM_to_BakABakM",
            "target_arrow_shape": "triangle"
           }
          },
          {
           "data": {
            "arrowhead": "normal",
            "id": "413239b8-299b-441a-bed1-374c638d16b9",
            "source": "s48",
            "source_arrow_fill": "hollow",
            "source_arrow_shape": "triangle",
            "target": "bind_BakA_BclxLM",
            "target_arrow_shape": "triangle"
           }
          },
          {
           "data": {
            "arrowhead": "normal",
            "id": "906c4cc8-51dd-4d09-8b9b-3508a008ff64",
            "source": "s48",
            "source_arrow_fill": "hollow",
            "source_arrow_shape": "triangle",
            "target": "bind_BakA_Mcl1M",
            "target_arrow_shape": "triangle"
           }
          },
          {
           "data": {
            "arrowhead": "normal",
            "id": "0cc492d4-c1c1-4a4d-926e-0564846957c0",
            "source": "s48",
            "source_arrow_fill": "hollow",
            "source_arrow_shape": "triangle",
            "target": "assemble_pore_sequential_Bak_2",
            "target_arrow_shape": "triangle"
           }
          },
          {
           "data": {
            "arrowhead": "normal",
            "id": "058b8147-4a18-4c84-b55a-4b07e662a084",
            "source": "s48",
            "source_arrow_fill": "hollow",
            "source_arrow_shape": "triangle",
            "target": "assemble_pore_sequential_Bak_3",
            "target_arrow_shape": "triangle"
           }
          },
          {
           "data": {
            "arrowhead": "normal",
            "id": "213c3da6-8897-4de7-9c13-dc2648c6796a",
            "source": "s48",
            "source_arrow_fill": "hollow",
            "source_arrow_shape": "triangle",
            "target": "assemble_pore_sequential_Bak_4",
            "target_arrow_shape": "triangle"
           }
          },
          {
           "data": {
            "arrowhead": "normal",
            "id": "022728b5-2727-42a1-b280-fc072204efec",
            "source": "s49",
            "source_arrow_fill": "hollow",
            "source_arrow_shape": "triangle",
            "target": "bind_BidM_BaxM_to_BidMBaxM",
            "target_arrow_shape": "triangle"
           }
          },
          {
           "data": {
            "arrowhead": "normal",
            "id": "f3b1f6bd-3b83-4db7-b1de-599c21a08d5a",
            "source": "s49",
            "source_arrow_fill": "filled",
            "source_arrow_shape": "none",
            "target": "catalyze_BidMBaxM_to_BidM_BaxA",
            "target_arrow_shape": "triangle"
           }
          },
          {
           "data": {
            "arrowhead": "normal",
            "id": "ee0ef907-44fc-4f7c-883b-db5964bb77e6",
            "source": "s50",
            "source_arrow_fill": "hollow",
            "source_arrow_shape": "triangle",
            "target": "bind_BakA_BakM_to_BakABakM",
            "target_arrow_shape": "triangle"
           }
          },
          {
           "data": {
            "arrowhead": "normal",
            "id": "6cb8b363-67b9-4373-91e2-5322452355f4",
            "source": "s50",
            "source_arrow_fill": "filled",
            "source_arrow_shape": "none",
            "target": "catalyze_BakABakM_to_BakA_BakA",
            "target_arrow_shape": "triangle"
           }
          },
          {
           "data": {
            "arrowhead": "normal",
            "id": "d9dcdd64-6685-4a2a-b309-5ed0a37f9b12",
            "source": "s51",
            "source_arrow_fill": "hollow",
            "source_arrow_shape": "triangle",
            "target": "bind_BakA_BclxLM",
            "target_arrow_shape": "triangle"
           }
          },
          {
           "data": {
            "arrowhead": "normal",
            "id": "414da2c8-6dea-4941-bd55-8b3b21f22adf",
            "source": "s52",
            "source_arrow_fill": "hollow",
            "source_arrow_shape": "triangle",
            "target": "bind_BakA_Mcl1M",
            "target_arrow_shape": "triangle"
           }
          },
          {
           "data": {
            "arrowhead": "normal",
            "id": "8a5e2994-cfb5-4b26-95aa-df2593d779ca",
            "source": "s53",
            "source_arrow_fill": "hollow",
            "source_arrow_shape": "triangle",
            "target": "assemble_pore_sequential_Bak_2",
            "target_arrow_shape": "triangle"
           }
          },
          {
           "data": {
            "arrowhead": "normal",
            "id": "bcf3e295-1438-46d5-a8f7-f6688e8f12c1",
            "source": "s53",
            "source_arrow_fill": "hollow",
            "source_arrow_shape": "triangle",
            "target": "assemble_pore_sequential_Bak_3",
            "target_arrow_shape": "triangle"
           }
          },
          {
           "data": {
            "arrowhead": "normal",
            "id": "56b9cacb-2653-48a9-8ab2-aa0a8f5d26b5",
            "source": "s54",
            "source_arrow_fill": "hollow",
            "source_arrow_shape": "triangle",
            "target": "bind_BaxA_BaxM_to_BaxABaxM",
            "target_arrow_shape": "triangle"
           }
          },
          {
           "data": {
            "arrowhead": "normal",
            "id": "8416763a-4e67-465b-a441-9ff5911d029a",
            "source": "s54",
            "source_arrow_fill": "hollow",
            "source_arrow_shape": "triangle",
            "target": "bind_BaxA_Bcl2",
            "target_arrow_shape": "triangle"
           }
          },
          {
           "data": {
            "arrowhead": "normal",
            "id": "358e1834-461f-40dc-97d5-2357e435c22a",
            "source": "s54",
            "source_arrow_fill": "hollow",
            "source_arrow_shape": "triangle",
            "target": "bind_BaxA_BclxLM",
            "target_arrow_shape": "triangle"
           }
          },
          {
           "data": {
            "arrowhead": "normal",
            "id": "431df3b9-8840-4f8e-8995-74438114b085",
            "source": "s54",
            "source_arrow_fill": "hollow",
            "source_arrow_shape": "triangle",
            "target": "assemble_pore_sequential_Bax_2",
            "target_arrow_shape": "triangle"
           }
          },
          {
           "data": {
            "arrowhead": "normal",
            "id": "13ddd3f9-7c5a-44da-a576-a44805ce00dc",
            "source": "s54",
            "source_arrow_fill": "hollow",
            "source_arrow_shape": "triangle",
            "target": "assemble_pore_sequential_Bax_3",
            "target_arrow_shape": "triangle"
           }
          },
          {
           "data": {
            "arrowhead": "normal",
            "id": "296c1cfe-3136-499a-b7a7-b85ada0d98b7",
            "source": "s54",
            "source_arrow_fill": "hollow",
            "source_arrow_shape": "triangle",
            "target": "assemble_pore_sequential_Bax_4",
            "target_arrow_shape": "triangle"
           }
          },
          {
           "data": {
            "arrowhead": "normal",
            "id": "48c76471-b501-4dbd-862f-f37be6ef9069",
            "source": "s55",
            "source_arrow_fill": "hollow",
            "source_arrow_shape": "triangle",
            "target": "assemble_pore_sequential_Bak_3",
            "target_arrow_shape": "triangle"
           }
          },
          {
           "data": {
            "arrowhead": "normal",
            "id": "1a3122ce-ae05-4f8f-ab9e-6d99422ad373",
            "source": "s55",
            "source_arrow_fill": "hollow",
            "source_arrow_shape": "triangle",
            "target": "assemble_pore_sequential_Bak_4",
            "target_arrow_shape": "triangle"
           }
          },
          {
           "data": {
            "arrowhead": "normal",
            "id": "5d29c925-9568-44a5-aefb-8634a5e665cf",
            "source": "s56",
            "source_arrow_fill": "hollow",
            "source_arrow_shape": "triangle",
            "target": "bind_BaxA_BaxM_to_BaxABaxM",
            "target_arrow_shape": "triangle"
           }
          },
          {
           "data": {
            "arrowhead": "normal",
            "id": "0a45c9ef-2b13-4644-9680-e54f71509b00",
            "source": "s56",
            "source_arrow_fill": "filled",
            "source_arrow_shape": "none",
            "target": "catalyze_BaxABaxM_to_BaxA_BaxA",
            "target_arrow_shape": "triangle"
           }
          },
          {
           "data": {
            "arrowhead": "normal",
            "id": "20dda716-9d32-4ebf-a156-03b581e08b49",
            "source": "s57",
            "source_arrow_fill": "hollow",
            "source_arrow_shape": "triangle",
            "target": "bind_BaxA_Bcl2",
            "target_arrow_shape": "triangle"
           }
          },
          {
           "data": {
            "arrowhead": "normal",
            "id": "51e527c2-e72f-426c-860e-de078dd23613",
            "source": "s58",
            "source_arrow_fill": "hollow",
            "source_arrow_shape": "triangle",
            "target": "bind_BaxA_BclxLM",
            "target_arrow_shape": "triangle"
           }
          },
          {
           "data": {
            "arrowhead": "normal",
            "id": "525e4fe7-a629-4572-afb2-ab3ef6e80879",
            "source": "s59",
            "source_arrow_fill": "hollow",
            "source_arrow_shape": "triangle",
            "target": "assemble_pore_sequential_Bax_2",
            "target_arrow_shape": "triangle"
           }
          },
          {
           "data": {
            "arrowhead": "normal",
            "id": "867cc136-4f05-431b-a16d-d5fa1f6ca10c",
            "source": "s59",
            "source_arrow_fill": "hollow",
            "source_arrow_shape": "triangle",
            "target": "assemble_pore_sequential_Bax_3",
            "target_arrow_shape": "triangle"
           }
          },
          {
           "data": {
            "arrowhead": "normal",
            "id": "1f9a6164-963f-4514-adac-927b7e25964c",
            "source": "s60",
            "source_arrow_fill": "hollow",
            "source_arrow_shape": "triangle",
            "target": "assemble_pore_sequential_Bak_4",
            "target_arrow_shape": "triangle"
           }
          },
          {
           "data": {
            "arrowhead": "normal",
            "id": "1c3f518c-17c8-4d51-a832-8056918181b6",
            "source": "s60",
            "source_arrow_fill": "hollow",
            "source_arrow_shape": "triangle",
            "target": "pore_transport_complex_BakA_4_CytoCM",
            "target_arrow_shape": "triangle"
           }
          },
          {
           "data": {
            "arrowhead": "normal",
            "id": "bce81605-a48d-45a1-b172-fc39df4336fe",
            "source": "s60",
            "source_arrow_fill": "hollow",
            "source_arrow_shape": "triangle",
            "target": "pore_transport_complex_BakA_4_SmacM",
            "target_arrow_shape": "triangle"
           }
          },
          {
           "data": {
            "arrowhead": "normal",
            "id": "b37797d6-6a15-4da4-95ac-b444cb47c17a",
            "source": "s61",
            "source_arrow_fill": "hollow",
            "source_arrow_shape": "triangle",
            "target": "assemble_pore_sequential_Bax_3",
            "target_arrow_shape": "triangle"
           }
          },
          {
           "data": {
            "arrowhead": "normal",
            "id": "79c025cc-5f15-41b0-acdb-a76664fe6754",
            "source": "s61",
            "source_arrow_fill": "hollow",
            "source_arrow_shape": "triangle",
            "target": "assemble_pore_sequential_Bax_4",
            "target_arrow_shape": "triangle"
           }
          },
          {
           "data": {
            "arrowhead": "normal",
            "id": "c901893a-4054-4b46-b5e6-088cd5281a2e",
            "source": "s62",
            "source_arrow_fill": "hollow",
            "source_arrow_shape": "triangle",
            "target": "pore_transport_complex_BakA_4_CytoCM",
            "target_arrow_shape": "triangle"
           }
          },
          {
           "data": {
            "arrowhead": "normal",
            "id": "b6764083-3d34-48a6-9537-36ab1028d547",
            "source": "s62",
            "source_arrow_fill": "filled",
            "source_arrow_shape": "none",
            "target": "pore_transport_dissociate_BakA_4_CytoCC",
            "target_arrow_shape": "triangle"
           }
          },
          {
           "data": {
            "arrowhead": "normal",
            "id": "6cb32d33-ece1-4061-912a-7c7d4e4b1c0e",
            "source": "s63",
            "source_arrow_fill": "hollow",
            "source_arrow_shape": "triangle",
            "target": "pore_transport_complex_BakA_4_SmacM",
            "target_arrow_shape": "triangle"
           }
          },
          {
           "data": {
            "arrowhead": "normal",
            "id": "e0241463-e8e6-405c-bb32-7cd1b0cda7ee",
            "source": "s63",
            "source_arrow_fill": "filled",
            "source_arrow_shape": "none",
            "target": "pore_transport_dissociate_BakA_4_SmacC",
            "target_arrow_shape": "triangle"
           }
          },
          {
           "data": {
            "arrowhead": "normal",
            "id": "71d9cbca-57b7-4e3d-8fa4-9f85b2aa6fbe",
            "source": "s64",
            "source_arrow_fill": "hollow",
            "source_arrow_shape": "triangle",
            "target": "assemble_pore_sequential_Bax_4",
            "target_arrow_shape": "triangle"
           }
          },
          {
           "data": {
            "arrowhead": "normal",
            "id": "21370888-6138-4ccd-8b25-0c0ae37f595d",
            "source": "s64",
            "source_arrow_fill": "hollow",
            "source_arrow_shape": "triangle",
            "target": "pore_transport_complex_BaxA_4_CytoCM",
            "target_arrow_shape": "triangle"
           }
          },
          {
           "data": {
            "arrowhead": "normal",
            "id": "8a62bccf-fc04-4374-9467-d6d8fdf9977b",
            "source": "s64",
            "source_arrow_fill": "hollow",
            "source_arrow_shape": "triangle",
            "target": "pore_transport_complex_BaxA_4_SmacM",
            "target_arrow_shape": "triangle"
           }
          },
          {
           "data": {
            "arrowhead": "normal",
            "id": "dc6c5a9b-6065-470d-a1d9-659cb30b3357",
            "source": "s65",
            "source_arrow_fill": "hollow",
            "source_arrow_shape": "triangle",
            "target": "equilibrate_CytoCC_to_CytoCA",
            "target_arrow_shape": "triangle"
           }
          },
          {
           "data": {
            "arrowhead": "normal",
            "id": "d1bfe22b-c18d-4a56-a86f-5b6197979ea2",
            "source": "s66",
            "source_arrow_fill": "hollow",
            "source_arrow_shape": "triangle",
            "target": "equilibrate_SmacC_to_SmacA",
            "target_arrow_shape": "triangle"
           }
          },
          {
           "data": {
            "arrowhead": "normal",
            "id": "a24286f0-d349-4796-a330-de74f4c81718",
            "source": "s67",
            "source_arrow_fill": "hollow",
            "source_arrow_shape": "triangle",
            "target": "equilibrate_SmacC_to_SmacA",
            "target_arrow_shape": "triangle"
           }
          },
          {
           "data": {
            "arrowhead": "normal",
            "id": "64eaf2a6-4a35-41ec-b9af-7ea60237b7de",
            "source": "s67",
            "source_arrow_fill": "hollow",
            "source_arrow_shape": "triangle",
            "target": "bind_SmacA_XIAP",
            "target_arrow_shape": "triangle"
           }
          },
          {
           "data": {
            "arrowhead": "normal",
            "id": "cc41de5b-b780-41ba-9cd7-6d9a85c77e15",
            "source": "s68",
            "source_arrow_fill": "hollow",
            "source_arrow_shape": "triangle",
            "target": "equilibrate_CytoCC_to_CytoCA",
            "target_arrow_shape": "triangle"
           }
          },
          {
           "data": {
            "arrowhead": "normal",
            "id": "17ed4bd1-4821-4268-bc8c-b9c36b72f66e",
            "source": "s68",
            "source_arrow_fill": "hollow",
            "source_arrow_shape": "triangle",
            "target": "bind_CytoCA_ApafI_to_CytoCAApafI",
            "target_arrow_shape": "triangle"
           }
          },
          {
           "data": {
            "arrowhead": "normal",
            "id": "e50efd7c-4066-43dc-8aa3-69606d1b7e66",
            "source": "s69",
            "source_arrow_fill": "hollow",
            "source_arrow_shape": "triangle",
            "target": "pore_transport_complex_BaxA_4_CytoCM",
            "target_arrow_shape": "triangle"
           }
          },
          {
           "data": {
            "arrowhead": "normal",
            "id": "b45369ea-67fd-4812-87c1-bdc71595a7eb",
            "source": "s69",
            "source_arrow_fill": "filled",
            "source_arrow_shape": "none",
            "target": "pore_transport_dissociate_BaxA_4_CytoCC",
            "target_arrow_shape": "triangle"
           }
          },
          {
           "data": {
            "arrowhead": "normal",
            "id": "9eb6ffa8-94c9-48ed-b7d6-f7b8e1e006e6",
            "source": "s70",
            "source_arrow_fill": "hollow",
            "source_arrow_shape": "triangle",
            "target": "pore_transport_complex_BaxA_4_SmacM",
            "target_arrow_shape": "triangle"
           }
          },
          {
           "data": {
            "arrowhead": "normal",
            "id": "ba09d34e-8cc6-4468-bdc6-478b581b3dd2",
            "source": "s70",
            "source_arrow_fill": "filled",
            "source_arrow_shape": "none",
            "target": "pore_transport_dissociate_BaxA_4_SmacC",
            "target_arrow_shape": "triangle"
           }
          },
          {
           "data": {
            "arrowhead": "normal",
            "id": "da6e1556-ce1e-4d6d-956d-740a91002c1f",
            "source": "s71",
            "source_arrow_fill": "hollow",
            "source_arrow_shape": "triangle",
            "target": "bind_CytoCA_ApafI_to_CytoCAApafI",
            "target_arrow_shape": "triangle"
           }
          },
          {
           "data": {
            "arrowhead": "normal",
            "id": "abe1f0bb-2b02-40f2-b126-164ca2416a07",
            "source": "s71",
            "source_arrow_fill": "filled",
            "source_arrow_shape": "none",
            "target": "catalyze_CytoCAApafI_to_CytoCA_ApafA",
            "target_arrow_shape": "triangle"
           }
          },
          {
           "data": {
            "arrowhead": "normal",
            "id": "ca58c474-7124-47be-bb6d-33cb9474be7a",
            "source": "s72",
            "source_arrow_fill": "hollow",
            "source_arrow_shape": "triangle",
            "target": "bind_SmacA_XIAP",
            "target_arrow_shape": "triangle"
           }
          },
          {
           "data": {
            "arrowhead": "normal",
            "id": "7cd9804e-228c-4629-a2e0-0a05bf46660c",
            "source": "s73",
            "source_arrow_fill": "hollow",
            "source_arrow_shape": "triangle",
            "target": "convert_ApafA_C9_to_Apop",
            "target_arrow_shape": "triangle"
           }
          },
          {
           "data": {
            "arrowhead": "normal",
            "id": "4344a4d6-b7e0-4e51-9eed-be277a1fd8cf",
            "source": "s74",
            "source_arrow_fill": "hollow",
            "source_arrow_shape": "triangle",
            "target": "convert_ApafA_C9_to_Apop",
            "target_arrow_shape": "triangle"
           }
          },
          {
           "data": {
            "arrowhead": "normal",
            "id": "69ae7bdc-1d3f-466f-b498-2b6e92707ae3",
            "source": "s74",
            "source_arrow_fill": "hollow",
            "source_arrow_shape": "triangle",
            "target": "bind_Apop_C3pro_to_ApopC3pro",
            "target_arrow_shape": "triangle"
           }
          },
          {
           "data": {
            "arrowhead": "normal",
            "id": "ef06afa6-ce1e-42e4-9c19-e9be9f969a73",
            "source": "s74",
            "source_arrow_fill": "hollow",
            "source_arrow_shape": "triangle",
            "target": "bind_Apop_XIAP",
            "target_arrow_shape": "triangle"
           }
          },
          {
           "data": {
            "arrowhead": "normal",
            "id": "d4984832-eaa0-4abb-8248-c3e932181aff",
            "source": "s75",
            "source_arrow_fill": "hollow",
            "source_arrow_shape": "triangle",
            "target": "bind_Apop_C3pro_to_ApopC3pro",
            "target_arrow_shape": "triangle"
           }
          },
          {
           "data": {
            "arrowhead": "normal",
            "id": "13534d12-f78d-4a68-bae2-532efef40628",
            "source": "s75",
            "source_arrow_fill": "filled",
            "source_arrow_shape": "none",
            "target": "catalyze_ApopC3pro_to_Apop_C3A",
            "target_arrow_shape": "triangle"
           }
          },
          {
           "data": {
            "arrowhead": "normal",
            "id": "facb99a5-edc3-4679-953f-9db517b491fc",
            "source": "s76",
            "source_arrow_fill": "hollow",
            "source_arrow_shape": "triangle",
            "target": "bind_Apop_XIAP",
            "target_arrow_shape": "triangle"
           }
          },
          {
           "data": {
            "arrowhead": "normal",
            "id": "bfc42784-1ebb-492f-888f-0cdbac8b5827",
            "source": "convert_LR_to_DISC",
            "source_arrow_fill": "filled",
            "source_arrow_shape": "none",
            "target": "s25",
            "target_arrow_shape": "triangle"
           }
          },
          {
           "data": {
            "arrowhead": "normal",
            "id": "2b66e0ed-fb6c-4b30-832a-3b68531e8e83",
            "source": "catalyze_DISCC8pro_to_DISC_C8A",
            "source_arrow_fill": "filled",
            "source_arrow_shape": "none",
            "target": "s25",
            "target_arrow_shape": "triangle"
           }
          },
          {
           "data": {
            "arrowhead": "normal",
            "id": "ba7e5c19-8a84-45d5-8483-23d5215c6648",
            "source": "catalyze_DISCC8pro_to_DISC_C8A",
            "source_arrow_fill": "filled",
            "source_arrow_shape": "none",
            "target": "s28",
            "target_arrow_shape": "triangle"
           }
          },
          {
           "data": {
            "arrowhead": "normal",
            "id": "91624188-cad3-4e09-a1b6-08aa0b3f6a9b",
            "source": "catalyze_C8ABidU_to_C8A_BidT",
            "source_arrow_fill": "filled",
            "source_arrow_shape": "none",
            "target": "s32",
            "target_arrow_shape": "triangle"
           }
          },
          {
           "data": {
            "arrowhead": "normal",
            "id": "106ec834-75b3-437c-994c-7b7f25fdc541",
            "source": "catalyze_C8ABidU_to_C8A_BidT",
            "source_arrow_fill": "filled",
            "source_arrow_shape": "none",
            "target": "s28",
            "target_arrow_shape": "triangle"
           }
          },
          {
           "data": {
            "arrowhead": "normal",
            "id": "de6b669d-d148-4f8f-b2c9-529ced5ab09c",
            "source": "catalyze_CytoCAApafI_to_CytoCA_ApafA",
            "source_arrow_fill": "filled",
            "source_arrow_shape": "none",
            "target": "s73",
            "target_arrow_shape": "triangle"
           }
          },
          {
           "data": {
            "arrowhead": "normal",
            "id": "0a50f8e3-d15c-462d-b911-f3c2eb999997",
            "source": "catalyze_CytoCAApafI_to_CytoCA_ApafA",
            "source_arrow_fill": "filled",
            "source_arrow_shape": "none",
            "target": "s68",
            "target_arrow_shape": "triangle"
           }
          },
          {
           "data": {
            "arrowhead": "normal",
            "id": "1d03fdf5-afe2-4b2a-97ec-e0c73634332b",
            "source": "catalyze_ApopC3pro_to_Apop_C3A",
            "source_arrow_fill": "filled",
            "source_arrow_shape": "none",
            "target": "s33",
            "target_arrow_shape": "triangle"
           }
          },
          {
           "data": {
            "arrowhead": "normal",
            "id": "32af2b7f-9e71-469f-a805-9fce5db98a5a",
            "source": "catalyze_ApopC3pro_to_Apop_C3A",
            "source_arrow_fill": "filled",
            "source_arrow_shape": "none",
            "target": "s74",
            "target_arrow_shape": "triangle"
           }
          },
          {
           "data": {
            "arrowhead": "normal",
            "id": "b95468c7-7a2b-4de5-8363-cbcb97be616f",
            "source": "catalyze_C8AC3pro_to_C8A_C3A",
            "source_arrow_fill": "filled",
            "source_arrow_shape": "none",
            "target": "s33",
            "target_arrow_shape": "triangle"
           }
          },
          {
           "data": {
            "arrowhead": "normal",
            "id": "5426a55a-13cb-46ad-9113-28cab2dc98d9",
            "source": "catalyze_C8AC3pro_to_C8A_C3A",
            "source_arrow_fill": "filled",
            "source_arrow_shape": "none",
            "target": "s28",
            "target_arrow_shape": "triangle"
           }
          },
          {
           "data": {
            "arrowhead": "normal",
            "id": "12fcbd5d-55a4-4afb-9365-899dd5061127",
            "source": "catalyze_XIAPC3A_to_XIAP_C3ub",
            "source_arrow_fill": "filled",
            "source_arrow_shape": "none",
            "target": "s10",
            "target_arrow_shape": "triangle"
           }
          },
          {
           "data": {
            "arrowhead": "normal",
            "id": "9ad54198-8b98-4eea-8123-56f47302304e",
            "source": "catalyze_XIAPC3A_to_XIAP_C3ub",
            "source_arrow_fill": "filled",
            "source_arrow_shape": "none",
            "target": "s38",
            "target_arrow_shape": "triangle"
           }
          },
          {
           "data": {
            "arrowhead": "normal",
            "id": "326a1f39-63de-45db-814b-337e920163cf",
            "source": "catalyze_C3APARPU_to_C3A_PARPC",
            "source_arrow_fill": "filled",
            "source_arrow_shape": "none",
            "target": "s33",
            "target_arrow_shape": "triangle"
           }
          },
          {
           "data": {
            "arrowhead": "normal",
            "id": "a352004d-1814-4602-9334-f127f1a85a6f",
            "source": "catalyze_C3APARPU_to_C3A_PARPC",
            "source_arrow_fill": "filled",
            "source_arrow_shape": "none",
            "target": "s39",
            "target_arrow_shape": "triangle"
           }
          },
          {
           "data": {
            "arrowhead": "normal",
            "id": "021ef921-bff9-407a-8cbd-4584b0fc900c",
            "source": "catalyze_C3AC6pro_to_C3A_C6A",
            "source_arrow_fill": "filled",
            "source_arrow_shape": "none",
            "target": "s40",
            "target_arrow_shape": "triangle"
           }
          },
          {
           "data": {
            "arrowhead": "normal",
            "id": "9cf62dbc-4df6-4de5-8eba-593d419224d1",
            "source": "catalyze_C3AC6pro_to_C3A_C6A",
            "source_arrow_fill": "filled",
            "source_arrow_shape": "none",
            "target": "s33",
            "target_arrow_shape": "triangle"
           }
          },
          {
           "data": {
            "arrowhead": "normal",
            "id": "0a082321-8182-45b6-acf3-dcb0add04290",
            "source": "catalyze_C6AC8pro_to_C6A_C8A",
            "source_arrow_fill": "filled",
            "source_arrow_shape": "none",
            "target": "s40",
            "target_arrow_shape": "triangle"
           }
          },
          {
           "data": {
            "arrowhead": "normal",
            "id": "13c58039-bba5-4736-886e-3f12924544ec",
            "source": "catalyze_C6AC8pro_to_C6A_C8A",
            "source_arrow_fill": "filled",
            "source_arrow_shape": "none",
            "target": "s28",
            "target_arrow_shape": "triangle"
           }
          },
          {
           "data": {
            "arrowhead": "normal",
            "id": "413548d4-f1b0-41ec-a7c3-796bb9cc5385",
            "source": "catalyze_BidMBaxC_to_BidM_BaxM",
            "source_arrow_fill": "filled",
            "source_arrow_shape": "none",
            "target": "s37",
            "target_arrow_shape": "triangle"
           }
          },
          {
           "data": {
            "arrowhead": "normal",
            "id": "8288aaa3-9e60-412f-b135-9edea2d216ae",
            "source": "catalyze_BidMBaxC_to_BidM_BaxM",
            "source_arrow_fill": "filled",
            "source_arrow_shape": "none",
            "target": "s47",
            "target_arrow_shape": "triangle"
           }
          },
          {
           "data": {
            "arrowhead": "normal",
            "id": "65e9c7a2-5599-4975-9eee-a27e70ec71cd",
            "source": "catalyze_BidMBaxM_to_BidM_BaxA",
            "source_arrow_fill": "filled",
            "source_arrow_shape": "none",
            "target": "s37",
            "target_arrow_shape": "triangle"
           }
          },
          {
           "data": {
            "arrowhead": "normal",
            "id": "43d89f3e-4b21-4325-8302-1249bada3d1f",
            "source": "catalyze_BidMBaxM_to_BidM_BaxA",
            "source_arrow_fill": "filled",
            "source_arrow_shape": "none",
            "target": "s54",
            "target_arrow_shape": "triangle"
           }
          },
          {
           "data": {
            "arrowhead": "normal",
            "id": "5f8e3aa5-1f56-4663-9bd8-c8bfb641230c",
            "source": "catalyze_BidMBakM_to_BidM_BakA",
            "source_arrow_fill": "filled",
            "source_arrow_shape": "none",
            "target": "s48",
            "target_arrow_shape": "triangle"
           }
          },
          {
           "data": {
            "arrowhead": "normal",
            "id": "3ed8c380-1725-4560-8f1d-442fd3b82200",
            "source": "catalyze_BidMBakM_to_BidM_BakA",
            "source_arrow_fill": "filled",
            "source_arrow_shape": "none",
            "target": "s37",
            "target_arrow_shape": "triangle"
           }
          },
          {
           "data": {
            "arrowhead": "normal",
            "id": "0cee3c38-b2d3-4fdd-ad0d-9571bd3d7eaf",
            "source": "catalyze_BaxABaxM_to_BaxA_BaxA",
            "source_arrow_fill": "filled",
            "source_arrow_shape": "none",
            "target": "s54",
            "target_arrow_shape": "triangle"
           }
          },
          {
           "data": {
            "arrowhead": "normal",
            "id": "33f94714-3b81-4f36-b8da-70d559571b12",
            "source": "catalyze_BakABakM_to_BakA_BakA",
            "source_arrow_fill": "filled",
            "source_arrow_shape": "none",
            "target": "s48",
            "target_arrow_shape": "triangle"
           }
          },
          {
           "data": {
            "arrowhead": "normal",
            "id": "77db5be2-ccac-4169-80b4-e215137f3681",
            "source": "pore_transport_dissociate_BaxA_4_CytoCC",
            "source_arrow_fill": "filled",
            "source_arrow_shape": "none",
            "target": "s64",
            "target_arrow_shape": "triangle"
           }
          },
          {
           "data": {
            "arrowhead": "normal",
            "id": "5c885ef2-5bb7-4dd2-8144-ce100ee61810",
            "source": "pore_transport_dissociate_BaxA_4_CytoCC",
            "source_arrow_fill": "filled",
            "source_arrow_shape": "none",
            "target": "s65",
            "target_arrow_shape": "triangle"
           }
          },
          {
           "data": {
            "arrowhead": "normal",
            "id": "02c7ec83-2f5c-40de-898b-0f5ef2feee9d",
            "source": "pore_transport_dissociate_BaxA_4_SmacC",
            "source_arrow_fill": "filled",
            "source_arrow_shape": "none",
            "target": "s64",
            "target_arrow_shape": "triangle"
           }
          },
          {
           "data": {
            "arrowhead": "normal",
            "id": "8c159507-7b8a-41c1-aa93-2fc2637a514a",
            "source": "pore_transport_dissociate_BaxA_4_SmacC",
            "source_arrow_fill": "filled",
            "source_arrow_shape": "none",
            "target": "s66",
            "target_arrow_shape": "triangle"
           }
          },
          {
           "data": {
            "arrowhead": "normal",
            "id": "60738a41-1457-4922-a03a-d1d13e8bc629",
            "source": "pore_transport_dissociate_BakA_4_CytoCC",
            "source_arrow_fill": "filled",
            "source_arrow_shape": "none",
            "target": "s65",
            "target_arrow_shape": "triangle"
           }
          },
          {
           "data": {
            "arrowhead": "normal",
            "id": "359d02d8-6671-4b7d-8f99-de3078335756",
            "source": "pore_transport_dissociate_BakA_4_CytoCC",
            "source_arrow_fill": "filled",
            "source_arrow_shape": "none",
            "target": "s60",
            "target_arrow_shape": "triangle"
           }
          },
          {
           "data": {
            "arrowhead": "normal",
            "id": "9f3ab9cc-1888-42e8-9a2b-1699c3d455a2",
            "source": "pore_transport_dissociate_BakA_4_SmacC",
            "source_arrow_fill": "filled",
            "source_arrow_shape": "none",
            "target": "s66",
            "target_arrow_shape": "triangle"
           }
          },
          {
           "data": {
            "arrowhead": "normal",
            "id": "eea0b729-c1bf-498a-be90-c6b85ced4db2",
            "source": "pore_transport_dissociate_BakA_4_SmacC",
            "source_arrow_fill": "filled",
            "source_arrow_shape": "none",
            "target": "s60",
            "target_arrow_shape": "triangle"
           }
          }
         ],
         "nodes": [
          {
           "data": {
            "NodeType": "species",
            "background_color": "#aaffff",
            "bipartite": 0,
            "id": "s0",
            "label": "L",
            "name": "s0",
            "shape": "ellipse"
           },
           "position": {
            "x": 555.2504283398466,
            "y": 7014.771710797482
           }
          },
          {
           "data": {
            "NodeType": "species",
            "background_color": "#aaffff",
            "bipartite": 0,
            "id": "s1",
            "label": "R",
            "name": "s1",
            "shape": "ellipse"
           },
           "position": {
            "x": 567.7450890894979,
            "y": 6940.561629882985
           }
          },
          {
           "data": {
            "NodeType": "species",
            "background_color": "#aaffff",
            "bipartite": 0,
            "id": "s2",
            "label": "flip",
            "name": "s2",
            "shape": "ellipse"
           },
           "position": {
            "x": 31,
            "y": 6937.5157870052735
           }
          },
          {
           "data": {
            "NodeType": "species",
            "background_color": "#aaffff",
            "bipartite": 0,
            "id": "s3",
            "label": "proC8",
            "name": "s3",
            "shape": "ellipse"
           },
           "position": {
            "x": 554.647164892499,
            "y": 8487.589515891123
           }
          },
          {
           "data": {
            "NodeType": "species",
            "background_color": "#aaffff",
            "bipartite": 0,
            "id": "s4",
            "label": "BAR",
            "name": "s4",
            "shape": "ellipse"
           },
           "position": {
            "x": 1556.438378208727,
            "y": 10240.570581280988
           }
          },
          {
           "data": {
            "NodeType": "species",
            "background_color": "#aaffff",
            "bipartite": 0,
            "id": "s5",
            "label": "iApaf",
            "name": "s5",
            "shape": "ellipse"
           },
           "position": {
            "x": 536.8557028940031,
            "y": 8238.376603034001
           }
          },
          {
           "data": {
            "NodeType": "species",
            "background_color": "#aaffff",
            "bipartite": 0,
            "id": "s6",
            "label": "proC3",
            "name": "s6",
            "shape": "ellipse"
           },
           "position": {
            "x": 697.104465727296,
            "y": 10050.742572797404
           }
          },
          {
           "data": {
            "NodeType": "species",
            "background_color": "#aaffff",
            "bipartite": 0,
            "id": "s7",
            "label": "proC6",
            "name": "s7",
            "shape": "ellipse"
           },
           "position": {
            "x": 355.2130349288782,
            "y": 7057.579967638714
           }
          },
          {
           "data": {
            "NodeType": "species",
            "background_color": "#aaffff",
            "bipartite": 0,
            "id": "s8",
            "label": "C9",
            "name": "s8",
            "shape": "ellipse"
           },
           "position": {
            "x": 256.4562399175329,
            "y": 7078.0120979598305
           }
          },
          {
           "data": {
            "NodeType": "species",
            "background_color": "#aaffff",
            "bipartite": 0,
            "id": "s9",
            "label": "uPARP",
            "name": "s9",
            "shape": "ellipse"
           },
           "position": {
            "x": 203.7204837397967,
            "y": 7153.016471617144
           }
          },
          {
           "data": {
            "NodeType": "species",
            "background_color": "#aaffff",
            "bipartite": 0,
            "id": "s10",
            "label": "XIAP",
            "name": "s10",
            "shape": "ellipse"
           },
           "position": {
            "x": 387.5443154197237,
            "y": 7186.680217527175
           }
          },
          {
           "data": {
            "NodeType": "species",
            "background_color": "#aaffff",
            "bipartite": 0,
            "id": "s11",
            "label": "uBid",
            "name": "s11",
            "shape": "ellipse"
           },
           "position": {
            "x": 1200.3422578826758,
            "y": 10142.408772816349
           }
          },
          {
           "data": {
            "NodeType": "species",
            "background_color": "#aaffff",
            "bipartite": 0,
            "id": "s12",
            "label": "cBax",
            "name": "s12",
            "shape": "ellipse"
           },
           "position": {
            "x": 2556.7001411586916,
            "y": 401.7675873829521
           }
          },
          {
           "data": {
            "NodeType": "species",
            "background_color": "#aaffff",
            "bipartite": 0,
            "id": "s13",
            "label": "mBak",
            "name": "s13",
            "shape": "ellipse"
           },
           "position": {
            "x": 2331.891722104432,
            "y": 360.4999633983316
           }
          },
          {
           "data": {
            "NodeType": "species",
            "background_color": "#aaffff",
            "bipartite": 0,
            "id": "s14",
            "label": "mBcl2",
            "name": "s14",
            "shape": "ellipse"
           },
           "position": {
            "x": 2957.524967388201,
            "y": 367.82764647528893
           }
          },
          {
           "data": {
            "NodeType": "species",
            "background_color": "#aaffff",
            "bipartite": 0,
            "id": "s15",
            "label": "mBclxL",
            "name": "s15",
            "shape": "ellipse"
           },
           "position": {
            "x": 3148.2383080006693,
            "y": 328.5076173197949
           }
          },
          {
           "data": {
            "NodeType": "species",
            "background_color": "#aaffff",
            "bipartite": 0,
            "id": "s16",
            "label": "mMcl1",
            "name": "s16",
            "shape": "ellipse"
           },
           "position": {
            "x": 3261.1693306575935,
            "y": 1736.9383141374583
           }
          },
          {
           "data": {
            "NodeType": "species",
            "background_color": "#aaffff",
            "bipartite": 0,
            "id": "s17",
            "label": "mBad",
            "name": "s17",
            "shape": "ellipse"
           },
           "position": {
            "x": 2660.695516725523,
            "y": 411.8562663068142
           }
          },
          {
           "data": {
            "NodeType": "species",
            "background_color": "#aaffff",
            "bipartite": 0,
            "id": "s18",
            "label": "mNoxa",
            "name": "s18",
            "shape": "ellipse"
           },
           "position": {
            "x": 2566.8085738321424,
            "y": 65.88209409868887
           }
          },
          {
           "data": {
            "NodeType": "species",
            "background_color": "#aaffff",
            "bipartite": 0,
            "id": "s19",
            "label": "mCytoC",
            "name": "s19",
            "shape": "ellipse"
           },
           "position": {
            "x": 1050.7720117909812,
            "y": 610.0734690161817
           }
          },
          {
           "data": {
            "NodeType": "species",
            "background_color": "#aaffff",
            "bipartite": 0,
            "id": "s20",
            "label": "mSmac",
            "name": "s20",
            "shape": "ellipse"
           },
           "position": {
            "x": 976.7309100962811,
            "y": 730.6120323669566
           }
          },
          {
           "data": {
            "NodeType": "species",
            "background_color": "#ccffcc",
            "bipartite": 0,
            "id": "s21",
            "label": "L-R",
            "name": "s21",
            "shape": "ellipse"
           },
           "position": {
            "x": 571.468837420809,
            "y": 6841.165745010658
           }
          },
          {
           "data": {
            "NodeType": "species",
            "background_color": "#ccffcc",
            "bipartite": 0,
            "id": "s22",
            "label": "mBad-mBcl2",
            "name": "s22",
            "shape": "ellipse"
           },
           "position": {
            "x": 2695.2708169929347,
            "y": 333.1038979611767
           }
          },
          {
           "data": {
            "NodeType": "species",
            "background_color": "#ccffcc",
            "bipartite": 0,
            "id": "s23",
            "label": "mBad-mBclxL",
            "name": "s23",
            "shape": "ellipse"
           },
           "position": {
            "x": 2842.378906070775,
            "y": 335.63294405384204
           }
          },
          {
           "data": {
            "NodeType": "species",
            "background_color": "#ccffcc",
            "bipartite": 0,
            "id": "s24",
            "label": "mMcl1-mNoxa",
            "name": "s24",
            "shape": "ellipse"
           },
           "position": {
            "x": 2260.486224701318,
            "y": 108.23345640831621
           }
          },
          {
           "data": {
            "NodeType": "species",
            "background_color": "#ccffcc",
            "bipartite": 0,
            "id": "s25",
            "label": "DISC",
            "name": "s25",
            "shape": "ellipse"
           },
           "position": {
            "x": 637.1404063806713,
            "y": 8431.169765286044
           }
          },
          {
           "data": {
            "NodeType": "species",
            "background_color": "#ccffcc",
            "bipartite": 0,
            "id": "s26",
            "label": "proC8-DISC",
            "name": "s26",
            "shape": "ellipse"
           },
           "position": {
            "x": 581.7793002104809,
            "y": 9932.494641951018
           }
          },
          {
           "data": {
            "NodeType": "species",
            "background_color": "#ccffcc",
            "bipartite": 0,
            "id": "s27",
            "label": "DISC-flip",
            "name": "s27",
            "shape": "ellipse"
           },
           "position": {
            "x": 93.79354181601684,
            "y": 6808.346993470865
           }
          },
          {
           "data": {
            "NodeType": "species",
            "background_color": "#ccffcc",
            "bipartite": 0,
            "id": "s28",
            "label": "aC8",
            "name": "s28",
            "shape": "ellipse"
           },
           "position": {
            "x": 2296.075623979582,
            "y": 9851.711583486893
           }
          },
          {
           "data": {
            "NodeType": "species",
            "background_color": "#ccffcc",
            "bipartite": 0,
            "id": "s29",
            "label": "uBid-aC8",
            "name": "s29",
            "shape": "ellipse"
           },
           "position": {
            "x": 2841.1682899577163,
            "y": 9865.413751255684
           }
          },
          {
           "data": {
            "NodeType": "species",
            "background_color": "#ccffcc",
            "bipartite": 0,
            "id": "s30",
            "label": "BAR-aC8",
            "name": "s30",
            "shape": "ellipse"
           },
           "position": {
            "x": 1655.5338830001365,
            "y": 10247.474060995457
           }
          },
          {
           "data": {
            "NodeType": "species",
            "background_color": "#ccffcc",
            "bipartite": 0,
            "id": "s31",
            "label": "proC3-aC8",
            "name": "s31",
            "shape": "ellipse"
           },
           "position": {
            "x": 998.1783883049047,
            "y": 10116.725670121072
           }
          },
          {
           "data": {
            "NodeType": "species",
            "background_color": "#ccffcc",
            "bipartite": 0,
            "id": "s32",
            "label": "tBid",
            "name": "s32",
            "shape": "ellipse"
           },
           "position": {
            "x": 3019.6105474773385,
            "y": 6122.8540570235145
           }
          },
          {
           "data": {
            "NodeType": "species",
            "background_color": "#ccffcc",
            "bipartite": 0,
            "id": "s33",
            "label": "aC3",
            "name": "s33",
            "shape": "ellipse"
           },
           "position": {
            "x": 737.9317737841002,
            "y": 8731.947164147485
           }
          },
          {
           "data": {
            "NodeType": "species",
            "background_color": "#ccffcc",
            "bipartite": 0,
            "id": "s34",
            "label": "aC3-XIAP",
            "name": "s34",
            "shape": "ellipse"
           },
           "position": {
            "x": 346.456613346807,
            "y": 7262.773390765204
           }
          },
          {
           "data": {
            "NodeType": "species",
            "background_color": "#ccffcc",
            "bipartite": 0,
            "id": "s35",
            "label": "aC3-uPARP",
            "name": "s35",
            "shape": "ellipse"
           },
           "position": {
            "x": 373.25105868946594,
            "y": 6965.0226258774255
           }
          },
          {
           "data": {
            "NodeType": "species",
            "background_color": "#ccffcc",
            "bipartite": 0,
            "id": "s36",
            "label": "aC3-proC6",
            "name": "s36",
            "shape": "ellipse"
           },
           "position": {
            "x": 474.1154716448282,
            "y": 7017.573673045983
           }
          },
          {
           "data": {
            "NodeType": "species",
            "background_color": "#ccffcc",
            "bipartite": 0,
            "id": "s37",
            "label": "mBid",
            "name": "s37",
            "shape": "ellipse"
           },
           "position": {
            "x": 3085.6509245268408,
            "y": 2022.7528079261783
           }
          },
          {
           "data": {
            "NodeType": "species",
            "background_color": "#ccffcc",
            "bipartite": 0,
            "id": "s38",
            "label": "ubC3",
            "name": "s38",
            "shape": "ellipse"
           },
           "position": {
            "x": 647.9163087876905,
            "y": 8550.250397936989
           }
          },
          {
           "data": {
            "NodeType": "species",
            "background_color": "#ccffcc",
            "bipartite": 0,
            "id": "s39",
            "label": "cPARP",
            "name": "s39",
            "shape": "ellipse"
           },
           "position": {
            "x": 279.1512373927417,
            "y": 7004.22540932795
           }
          },
          {
           "data": {
            "NodeType": "species",
            "background_color": "#ccffcc",
            "bipartite": 0,
            "id": "s40",
            "label": "aC6",
            "name": "s40",
            "shape": "ellipse"
           },
           "position": {
            "x": 612.427436482727,
            "y": 8626.302253588305
           }
          },
          {
           "data": {
            "NodeType": "species",
            "background_color": "#ccffcc",
            "bipartite": 0,
            "id": "s41",
            "label": "cBax-mBid",
            "name": "s41",
            "shape": "ellipse"
           },
           "position": {
            "x": 2462.641818085649,
            "y": 370.80583464163465
           }
          },
          {
           "data": {
            "NodeType": "species",
            "background_color": "#ccffcc",
            "bipartite": 0,
            "id": "s42",
            "label": "mBak-mBid",
            "name": "s42",
            "shape": "ellipse"
           },
           "position": {
            "x": 2155.8479215356165,
            "y": 435.9208750327416
           }
          },
          {
           "data": {
            "NodeType": "species",
            "background_color": "#ccffcc",
            "bipartite": 0,
            "id": "s43",
            "label": "mBcl2-mBid",
            "name": "s43",
            "shape": "ellipse"
           },
           "position": {
            "x": 2262.2215379068857,
            "y": 272.36113983695486
           }
          },
          {
           "data": {
            "NodeType": "species",
            "background_color": "#ccffcc",
            "bipartite": 0,
            "id": "s44",
            "label": "mBclxL-mBid",
            "name": "s44",
            "shape": "ellipse"
           },
           "position": {
            "x": 2706.424288938246,
            "y": 175.46734210844852
           }
          },
          {
           "data": {
            "NodeType": "species",
            "background_color": "#ccffcc",
            "bipartite": 0,
            "id": "s45",
            "label": "mBid-mMcl1",
            "name": "s45",
            "shape": "ellipse"
           },
           "position": {
            "x": 2414.028061320969,
            "y": 292.10099591462586
           }
          },
          {
           "data": {
            "NodeType": "species",
            "background_color": "#ccffcc",
            "bipartite": 0,
            "id": "s46",
            "label": "aC6-proC8",
            "name": "s46",
            "shape": "ellipse"
           },
           "position": {
            "x": 816.0755697344011,
            "y": 10099.325747372273
           }
          },
          {
           "data": {
            "NodeType": "species",
            "background_color": "#ccffcc",
            "bipartite": 0,
            "id": "s47",
            "label": "mBax",
            "name": "s47",
            "shape": "ellipse"
           },
           "position": {
            "x": 2328.3448172116714,
            "y": 527.8598917726258
           }
          },
          {
           "data": {
            "NodeType": "species",
            "background_color": "#ccffcc",
            "bipartite": 0,
            "id": "s48",
            "label": "aBak",
            "name": "s48",
            "shape": "ellipse"
           },
           "position": {
            "x": 1906.4169557243922,
            "y": 815.9178190233051
           }
          },
          {
           "data": {
            "NodeType": "species",
            "background_color": "#ccffcc",
            "bipartite": 0,
            "id": "s49",
            "label": "mBax-mBid",
            "name": "s49",
            "shape": "ellipse"
           },
           "position": {
            "x": 2418.511154870006,
            "y": 448.8281003949178
           }
          },
          {
           "data": {
            "NodeType": "species",
            "background_color": "#ccffcc",
            "bipartite": 0,
            "id": "s50",
            "label": "aBak-mBak",
            "name": "s50",
            "shape": "ellipse"
           },
           "position": {
            "x": 2113.1006641305376,
            "y": 560.7135253698243
           }
          },
          {
           "data": {
            "NodeType": "species",
            "background_color": "#ccffcc",
            "bipartite": 0,
            "id": "s51",
            "label": "aBak-mBclxL",
            "name": "s51",
            "shape": "ellipse"
           },
           "position": {
            "x": 2560.4125884342957,
            "y": 148.90792712333814
           }
          },
          {
           "data": {
            "NodeType": "species",
            "background_color": "#ccffcc",
            "bipartite": 0,
            "id": "s52",
            "label": "aBak-mMcl1",
            "name": "s52",
            "shape": "ellipse"
           },
           "position": {
            "x": 2425.160259205115,
            "y": 117.32829542939226
           }
          },
          {
           "data": {
            "NodeType": "species",
            "background_color": "#ccffcc",
            "bipartite": 0,
            "id": "s53",
            "label": "2aBak",
            "name": "s53",
            "shape": "ellipse"
           },
           "position": {
            "x": 2260.842394374212,
            "y": 390.51271644871576
           }
          },
          {
           "data": {
            "NodeType": "species",
            "background_color": "#ccffcc",
            "bipartite": 0,
            "id": "s54",
            "label": "aBax",
            "name": "s54",
            "shape": "ellipse"
           },
           "position": {
            "x": 1506.6807065837938,
            "y": 784.4596391490768
           }
          },
          {
           "data": {
            "NodeType": "species",
            "background_color": "#ccffcc",
            "bipartite": 0,
            "id": "s55",
            "label": "3aBak",
            "name": "s55",
            "shape": "ellipse"
           },
           "position": {
            "x": 1845.7838926067207,
            "y": 788.4203317628089
           }
          },
          {
           "data": {
            "NodeType": "species",
            "background_color": "#ccffcc",
            "bipartite": 0,
            "id": "s56",
            "label": "aBax-mBax",
            "name": "s56",
            "shape": "ellipse"
           },
           "position": {
            "x": 1753.8700530679762,
            "y": 596.0133362050701
           }
          },
          {
           "data": {
            "NodeType": "species",
            "background_color": "#ccffcc",
            "bipartite": 0,
            "id": "s57",
            "label": "aBax-mBcl2",
            "name": "s57",
            "shape": "ellipse"
           },
           "position": {
            "x": 2098.022597891134,
            "y": 118.18135698331935
           }
          },
          {
           "data": {
            "NodeType": "species",
            "background_color": "#ccffcc",
            "bipartite": 0,
            "id": "s58",
            "label": "aBax-mBclxL",
            "name": "s58",
            "shape": "ellipse"
           },
           "position": {
            "x": 2376.177799132788,
            "y": 39
           }
          },
          {
           "data": {
            "NodeType": "species",
            "background_color": "#ccffcc",
            "bipartite": 0,
            "id": "s59",
            "label": "2aBax",
            "name": "s59",
            "shape": "ellipse"
           },
           "position": {
            "x": 2122.8234250341866,
            "y": 228.204764315788
           }
          },
          {
           "data": {
            "NodeType": "species",
            "background_color": "#ccffcc",
            "bipartite": 0,
            "id": "s60",
            "label": "4aBak",
            "name": "s60",
            "shape": "ellipse"
           },
           "position": {
            "x": 662.0485103620467,
            "y": 2243.07336722975
           }
          },
          {
           "data": {
            "NodeType": "species",
            "background_color": "#ccffcc",
            "bipartite": 0,
            "id": "s61",
            "label": "3aBax",
            "name": "s61",
            "shape": "ellipse"
           },
           "position": {
            "x": 1470.002296370254,
            "y": 717.086126304026
           }
          },
          {
           "data": {
            "NodeType": "species",
            "background_color": "#ccffcc",
            "bipartite": 0,
            "id": "s62",
            "label": "4aBak-mCytoC",
            "name": "s62",
            "shape": "ellipse"
           },
           "position": {
            "x": 559.1637476550086,
            "y": 2248.1085147744134
           }
          },
          {
           "data": {
            "NodeType": "species",
            "background_color": "#ccffcc",
            "bipartite": 0,
            "id": "s63",
            "label": "4aBak-mSmac",
            "name": "s63",
            "shape": "ellipse"
           },
           "position": {
            "x": 620.5430932624313,
            "y": 2307.040818071214
           }
          },
          {
           "data": {
            "NodeType": "species",
            "background_color": "#ccffcc",
            "bipartite": 0,
            "id": "s64",
            "label": "4aBax",
            "name": "s64",
            "shape": "ellipse"
           },
           "position": {
            "x": 642.7831411652551,
            "y": 2420.6583837883272
           }
          },
          {
           "data": {
            "NodeType": "species",
            "background_color": "#ccffcc",
            "bipartite": 0,
            "id": "s65",
            "label": "cCytoC",
            "name": "s65",
            "shape": "ellipse"
           },
           "position": {
            "x": 769.2678889049312,
            "y": 4485.921778337162
           }
          },
          {
           "data": {
            "NodeType": "species",
            "background_color": "#ccffcc",
            "bipartite": 0,
            "id": "s66",
            "label": "cSmac",
            "name": "s66",
            "shape": "ellipse"
           },
           "position": {
            "x": 739.7257033314427,
            "y": 4575.404936340901
           }
          },
          {
           "data": {
            "NodeType": "species",
            "background_color": "#ccffcc",
            "bipartite": 0,
            "id": "s67",
            "label": "aSmac",
            "name": "s67",
            "shape": "ellipse"
           },
           "position": {
            "x": 489.36719930862637,
            "y": 6896.040779250048
           }
          },
          {
           "data": {
            "NodeType": "species",
            "background_color": "#ccffcc",
            "bipartite": 0,
            "id": "s68",
            "label": "aCytoC",
            "name": "s68",
            "shape": "ellipse"
           },
           "position": {
            "x": 419.83353726834594,
            "y": 6602.158963425101
           }
          },
          {
           "data": {
            "NodeType": "species",
            "background_color": "#ccffcc",
            "bipartite": 0,
            "id": "s69",
            "label": "4aBax-mCytoC",
            "name": "s69",
            "shape": "ellipse"
           },
           "position": {
            "x": 616.9581830355073,
            "y": 2481.766288884647
           }
          },
          {
           "data": {
            "NodeType": "species",
            "background_color": "#ccffcc",
            "bipartite": 0,
            "id": "s70",
            "label": "4aBax-mSmac",
            "name": "s70",
            "shape": "ellipse"
           },
           "position": {
            "x": 488.07439960637475,
            "y": 2450.581308153598
           }
          },
          {
           "data": {
            "NodeType": "species",
            "background_color": "#ccffcc",
            "bipartite": 0,
            "id": "s71",
            "label": "iApaf-aCytoC",
            "name": "s71",
            "shape": "ellipse"
           },
           "position": {
            "x": 315.8682475820624,
            "y": 6655.612277322112
           }
          },
          {
           "data": {
            "NodeType": "species",
            "background_color": "#ccffcc",
            "bipartite": 0,
            "id": "s72",
            "label": "aSmac-XIAP",
            "name": "s72",
            "shape": "ellipse"
           },
           "position": {
            "x": 628.0475970551952,
            "y": 8174.727790136007
           }
          },
          {
           "data": {
            "NodeType": "species",
            "background_color": "#ccffcc",
            "bipartite": 0,
            "id": "s73",
            "label": "aApaf",
            "name": "s73",
            "shape": "ellipse"
           },
           "position": {
            "x": 548.1595838457897,
            "y": 8036.751723170924
           }
          },
          {
           "data": {
            "NodeType": "species",
            "background_color": "#ccffcc",
            "bipartite": 0,
            "id": "s74",
            "label": "Apop",
            "name": "s74",
            "shape": "ellipse"
           },
           "position": {
            "x": 468.69816486813306,
            "y": 8025.8586169563405
           }
          },
          {
           "data": {
            "NodeType": "species",
            "background_color": "#ccffcc",
            "bipartite": 0,
            "id": "s75",
            "label": "Apop-proC3",
            "name": "s75",
            "shape": "ellipse"
           },
           "position": {
            "x": 365.7175063061759,
            "y": 8114.845599657181
           }
          },
          {
           "data": {
            "NodeType": "species",
            "background_color": "#ccffcc",
            "bipartite": 0,
            "id": "s76",
            "label": "Apop-XIAP",
            "name": "s76",
            "shape": "ellipse"
           },
           "position": {
            "x": 630.0940827343538,
            "y": 8307.871469487382
           }
          },
          {
           "data": {
            "NodeType": "rule",
            "background_color": "#ff4c4c",
            "bipartite": 1,
            "id": "bind_L_R_to_LR",
            "label": "bind_L_R_to_LR",
            "name": "bind_L_R_to_LR",
            "parent": "earm.shared1",
            "shape": "roundrectangle"
           },
           "position": {
            "x": 1453.9549726310124,
            "y": 7324.942702668832
           }
          },
          {
           "data": {
            "NodeType": "rule",
            "background_color": "#ff4c4c",
            "bipartite": 1,
            "id": "convert_LR_to_DISC",
            "label": "convert_LR_to_DISC",
            "name": "convert_LR_to_DISC",
            "parent": "earm.shared1",
            "shape": "roundrectangle"
           },
           "position": {
            "x": 1063.5314269858918,
            "y": 7552.589506113834
           }
          },
          {
           "data": {
            "NodeType": "rule",
            "background_color": "#ff4c4c",
            "bipartite": 1,
            "id": "bind_DISC_C8pro_to_DISCC8pro",
            "label": "bind_DISC_C8pro_to_DISCC8pro",
            "name": "bind_DISC_C8pro_to_DISCC8pro",
            "parent": "earm.shared1",
            "shape": "roundrectangle"
           },
           "position": {
            "x": 1130.882400560693,
            "y": 9162.389261232558
           }
          },
          {
           "data": {
            "NodeType": "rule",
            "background_color": "#ff4c4c",
            "bipartite": 1,
            "id": "catalyze_DISCC8pro_to_DISC_C8A",
            "label": "catalyze_DISCC8pro_to_DISC_C8A",
            "name": "catalyze_DISCC8pro_to_DISC_C8A",
            "parent": "earm.shared1",
            "shape": "roundrectangle"
           },
           "position": {
            "x": 1268.7413000052302,
            "y": 9230.990799271267
           }
          },
          {
           "data": {
            "NodeType": "rule",
            "background_color": "#ff4c4c",
            "bipartite": 1,
            "id": "bind_C8A_BidU_to_C8ABidU",
            "label": "bind_C8A_BidU_to_C8ABidU",
            "name": "bind_C8A_BidU_to_C8ABidU",
            "parent": "earm.shared1",
            "shape": "roundrectangle"
           },
           "position": {
            "x": 1876.687031721086,
            "y": 9233.817950617975
           }
          },
          {
           "data": {
            "NodeType": "rule",
            "background_color": "#ff4c4c",
            "bipartite": 1,
            "id": "catalyze_C8ABidU_to_C8A_BidT",
            "label": "catalyze_C8ABidU_to_C8A_BidT",
            "name": "catalyze_C8ABidU_to_C8A_BidT",
            "parent": "earm.shared1",
            "shape": "roundrectangle"
           },
           "position": {
            "x": 2604.6129859363564,
            "y": 8271.530799245513
           }
          },
          {
           "data": {
            "NodeType": "rule",
            "background_color": "#ff4c4c",
            "bipartite": 1,
            "id": "bind_DISC_flip",
            "label": "bind_DISC_flip",
            "name": "bind_DISC_flip",
            "parent": "earm.shared1",
            "shape": "roundrectangle"
           },
           "position": {
            "x": 814.1298743039915,
            "y": 7438.6156177346165
           }
          },
          {
           "data": {
            "NodeType": "rule",
            "background_color": "#ff4c4c",
            "bipartite": 1,
            "id": "bind_BAR_C8A",
            "label": "bind_BAR_C8A",
            "name": "bind_BAR_C8A",
            "parent": "earm.shared1",
            "shape": "roundrectangle"
           },
           "position": {
            "x": 1703.4064750623256,
            "y": 9219.066576708468
           }
          },
          {
           "data": {
            "NodeType": "rule",
            "background_color": "#ff4c4c",
            "bipartite": 1,
            "id": "equilibrate_SmacC_to_SmacA",
            "label": "equilibrate_SmacC_to_SmacA",
            "name": "equilibrate_SmacC_to_SmacA",
            "parent": "earm.albeck_modules",
            "shape": "roundrectangle"
           },
           "position": {
            "x": 1249.7719465891587,
            "y": 6348.127728684218
           }
          },
          {
           "data": {
            "NodeType": "rule",
            "background_color": "#ff4c4c",
            "bipartite": 1,
            "id": "equilibrate_CytoCC_to_CytoCA",
            "label": "equilibrate_CytoCC_to_CytoCA",
            "name": "equilibrate_CytoCC_to_CytoCA",
            "parent": "earm.albeck_modules",
            "shape": "roundrectangle"
           },
           "position": {
            "x": 1329.5639717181411,
            "y": 6290.840294606307
           }
          },
          {
           "data": {
            "NodeType": "rule",
            "background_color": "#ff4c4c",
            "bipartite": 1,
            "id": "bind_CytoCA_ApafI_to_CytoCAApafI",
            "label": "bind_CytoCA_ApafI_to_CytoCAApafI",
            "name": "bind_CytoCA_ApafI_to_CytoCAApafI",
            "parent": "earm.shared1",
            "shape": "roundrectangle"
           },
           "position": {
            "x": 905.8701040997057,
            "y": 7371.483811172195
           }
          },
          {
           "data": {
            "NodeType": "rule",
            "background_color": "#ff4c4c",
            "bipartite": 1,
            "id": "catalyze_CytoCAApafI_to_CytoCA_ApafA",
            "label": "catalyze_CytoCAApafI_to_CytoCA_ApafA",
            "name": "catalyze_CytoCAApafI_to_CytoCA_ApafA",
            "parent": "earm.shared1",
            "shape": "roundrectangle"
           },
           "position": {
            "x": 1100.4960123907967,
            "y": 7324.421922376203
           }
          },
          {
           "data": {
            "NodeType": "rule",
            "background_color": "#ff4c4c",
            "bipartite": 1,
            "id": "convert_ApafA_C9_to_Apop",
            "label": "convert_ApafA_C9_to_Apop",
            "name": "convert_ApafA_C9_to_Apop",
            "parent": "earm.shared1",
            "shape": "roundrectangle"
           },
           "position": {
            "x": 1225.0720501622518,
            "y": 7330.813026211697
           }
          },
          {
           "data": {
            "NodeType": "rule",
            "background_color": "#ff4c4c",
            "bipartite": 1,
            "id": "bind_Apop_C3pro_to_ApopC3pro",
            "label": "bind_Apop_C3pro_to_ApopC3pro",
            "name": "bind_Apop_C3pro_to_ApopC3pro",
            "parent": "earm.shared1",
            "shape": "roundrectangle"
           },
           "position": {
            "x": 878.1883933118761,
            "y": 8931.094352215085
           }
          },
          {
           "data": {
            "NodeType": "rule",
            "background_color": "#ff4c4c",
            "bipartite": 1,
            "id": "catalyze_ApopC3pro_to_Apop_C3A",
            "label": "catalyze_ApopC3pro_to_Apop_C3A",
            "name": "catalyze_ApopC3pro_to_Apop_C3A",
            "parent": "earm.shared1",
            "shape": "roundrectangle"
           },
           "position": {
            "x": 1395.981895960611,
            "y": 7882.265659075585
           }
          },
          {
           "data": {
            "NodeType": "rule",
            "background_color": "#ff4c4c",
            "bipartite": 1,
            "id": "bind_Apop_XIAP",
            "label": "bind_Apop_XIAP",
            "name": "bind_Apop_XIAP",
            "parent": "earm.shared1",
            "shape": "roundrectangle"
           },
           "position": {
            "x": 1216.6381594393415,
            "y": 7444.36066271868
           }
          },
          {
           "data": {
            "NodeType": "rule",
            "background_color": "#ff4c4c",
            "bipartite": 1,
            "id": "bind_SmacA_XIAP",
            "label": "bind_SmacA_XIAP",
            "name": "bind_SmacA_XIAP",
            "parent": "earm.shared1",
            "shape": "roundrectangle"
           },
           "position": {
            "x": 1335.6246673247842,
            "y": 7383.14124533798
           }
          },
          {
           "data": {
            "NodeType": "rule",
            "background_color": "#ff4c4c",
            "bipartite": 1,
            "id": "bind_C8A_C3pro_to_C8AC3pro",
            "label": "bind_C8A_C3pro_to_C8AC3pro",
            "name": "bind_C8A_C3pro_to_C8AC3pro",
            "parent": "earm.shared1",
            "shape": "roundrectangle"
           },
           "position": {
            "x": 1524.0478904319598,
            "y": 9242.439325266536
           }
          },
          {
           "data": {
            "NodeType": "rule",
            "background_color": "#ff4c4c",
            "bipartite": 1,
            "id": "catalyze_C8AC3pro_to_C8A_C3A",
            "label": "catalyze_C8AC3pro_to_C8A_C3A",
            "name": "catalyze_C8AC3pro_to_C8A_C3A",
            "parent": "earm.shared1",
            "shape": "roundrectangle"
           },
           "position": {
            "x": 1609.201978458359,
            "y": 9160.682643653869
           }
          },
          {
           "data": {
            "NodeType": "rule",
            "background_color": "#ff4c4c",
            "bipartite": 1,
            "id": "bind_XIAP_C3A_to_XIAPC3A",
            "label": "bind_XIAP_C3A_to_XIAPC3A",
            "name": "bind_XIAP_C3A_to_XIAPC3A",
            "parent": "earm.shared1",
            "shape": "roundrectangle"
           },
           "position": {
            "x": 1232.8568299361777,
            "y": 7750.550805704739
           }
          },
          {
           "data": {
            "NodeType": "rule",
            "background_color": "#ff4c4c",
            "bipartite": 1,
            "id": "catalyze_XIAPC3A_to_XIAP_C3ub",
            "label": "catalyze_XIAPC3A_to_XIAP_C3ub",
            "name": "catalyze_XIAPC3A_to_XIAP_C3ub",
            "parent": "earm.shared1",
            "shape": "roundrectangle"
           },
           "position": {
            "x": 1273.1027351802932,
            "y": 7571.383249869135
           }
          },
          {
           "data": {
            "NodeType": "rule",
            "background_color": "#ff4c4c",
            "bipartite": 1,
            "id": "bind_C3A_PARPU_to_C3APARPU",
            "label": "bind_C3A_PARPU_to_C3APARPU",
            "name": "bind_C3A_PARPU_to_C3APARPU",
            "parent": "earm.shared1",
            "shape": "roundrectangle"
           },
           "position": {
            "x": 876.4117117426858,
            "y": 7817.917345226608
           }
          },
          {
           "data": {
            "NodeType": "rule",
            "background_color": "#ff4c4c",
            "bipartite": 1,
            "id": "catalyze_C3APARPU_to_C3A_PARPC",
            "label": "catalyze_C3APARPU_to_C3A_PARPC",
            "name": "catalyze_C3APARPU_to_C3A_PARPC",
            "parent": "earm.shared1",
            "shape": "roundrectangle"
           },
           "position": {
            "x": 891.7763771835162,
            "y": 7753.8699092614315
           }
          },
          {
           "data": {
            "NodeType": "rule",
            "background_color": "#ff4c4c",
            "bipartite": 1,
            "id": "bind_C3A_C6pro_to_C3AC6pro",
            "label": "bind_C3A_C6pro_to_C3AC6pro",
            "name": "bind_C3A_C6pro_to_C3AC6pro",
            "parent": "earm.shared1",
            "shape": "roundrectangle"
           },
           "position": {
            "x": 1041.0885643564834,
            "y": 7701.466696402029
           }
          },
          {
           "data": {
            "NodeType": "rule",
            "background_color": "#ff4c4c",
            "bipartite": 1,
            "id": "catalyze_C3AC6pro_to_C3A_C6A",
            "label": "catalyze_C3AC6pro_to_C3A_C6A",
            "name": "catalyze_C3AC6pro_to_C3A_C6A",
            "parent": "earm.shared1",
            "shape": "roundrectangle"
           },
           "position": {
            "x": 1105.025705095407,
            "y": 7802.682753087005
           }
          },
          {
           "data": {
            "NodeType": "rule",
            "background_color": "#ff4c4c",
            "bipartite": 1,
            "id": "bind_C6A_C8pro_to_C6AC8pro",
            "label": "bind_C6A_C8pro_to_C6AC8pro",
            "name": "bind_C6A_C8pro_to_C6AC8pro",
            "parent": "earm.shared1",
            "shape": "roundrectangle"
           },
           "position": {
            "x": 1338.9092710021487,
            "y": 9111.988742826006
           }
          },
          {
           "data": {
            "NodeType": "rule",
            "background_color": "#ff4c4c",
            "bipartite": 1,
            "id": "catalyze_C6AC8pro_to_C6A_C8A",
            "label": "catalyze_C6AC8pro_to_C6A_C8A",
            "name": "catalyze_C6AC8pro_to_C6A_C8A",
            "parent": "earm.shared1",
            "shape": "roundrectangle"
           },
           "position": {
            "x": 1413.678587054971,
            "y": 9203.072433964851
           }
          },
          {
           "data": {
            "NodeType": "rule",
            "background_color": "#ff4c4c",
            "bipartite": 1,
            "id": "equilibrate_BidT_to_BidM",
            "label": "equilibrate_BidT_to_BidM",
            "name": "equilibrate_BidT_to_BidM",
            "parent": "earm.lopez_modules",
            "shape": "roundrectangle"
           },
           "position": {
            "x": 2675.5142844064985,
            "y": 3691.549040485388
           }
          },
          {
           "data": {
            "NodeType": "rule",
            "background_color": "#ff4c4c",
            "bipartite": 1,
            "id": "bind_BidM_BaxC_to_BidMBaxC",
            "label": "bind_BidM_BaxC_to_BidMBaxC",
            "name": "bind_BidM_BaxC_to_BidMBaxC",
            "parent": "earm.shared0",
            "shape": "roundrectangle"
           },
           "position": {
            "x": 2457.3035480699145,
            "y": 1324.1429778889587
           }
          },
          {
           "data": {
            "NodeType": "rule",
            "background_color": "#ff4c4c",
            "bipartite": 1,
            "id": "catalyze_BidMBaxC_to_BidM_BaxM",
            "label": "catalyze_BidMBaxC_to_BidM_BaxM",
            "name": "catalyze_BidMBaxC_to_BidM_BaxM",
            "parent": "earm.shared0",
            "shape": "roundrectangle"
           },
           "position": {
            "x": 3004.407953539994,
            "y": 1155.1064645429096
           }
          },
          {
           "data": {
            "NodeType": "rule",
            "background_color": "#ff4c4c",
            "bipartite": 1,
            "id": "bind_BidM_BaxM_to_BidMBaxM",
            "label": "bind_BidM_BaxM_to_BidMBaxM",
            "name": "bind_BidM_BaxM_to_BidMBaxM",
            "parent": "earm.shared0",
            "shape": "roundrectangle"
           },
           "position": {
            "x": 3016.716140254245,
            "y": 1211.0148977317313
           }
          },
          {
           "data": {
            "NodeType": "rule",
            "background_color": "#ff4c4c",
            "bipartite": 1,
            "id": "catalyze_BidMBaxM_to_BidM_BaxA",
            "label": "catalyze_BidMBaxM_to_BidM_BaxA",
            "name": "catalyze_BidMBaxM_to_BidM_BaxA",
            "parent": "earm.shared0",
            "shape": "roundrectangle"
           },
           "position": {
            "x": 2322.5816795282144,
            "y": 1381.8893565692124
           }
          },
          {
           "data": {
            "NodeType": "rule",
            "background_color": "#ff4c4c",
            "bipartite": 1,
            "id": "bind_BidM_BakM_to_BidMBakM",
            "label": "bind_BidM_BakM_to_BidMBakM",
            "name": "bind_BidM_BakM_to_BidMBakM",
            "parent": "earm.shared0",
            "shape": "roundrectangle"
           },
           "position": {
            "x": 2612.8375742510907,
            "y": 1264.163412245919
           }
          },
          {
           "data": {
            "NodeType": "rule",
            "background_color": "#ff4c4c",
            "bipartite": 1,
            "id": "catalyze_BidMBakM_to_BidM_BakA",
            "label": "catalyze_BidMBakM_to_BidM_BakA",
            "name": "catalyze_BidMBakM_to_BidM_BakA",
            "parent": "earm.shared0",
            "shape": "roundrectangle"
           },
           "position": {
            "x": 2743.785342328485,
            "y": 1211.0650286681011
           }
          },
          {
           "data": {
            "NodeType": "rule",
            "background_color": "#ff4c4c",
            "bipartite": 1,
            "id": "bind_BaxA_BaxM_to_BaxABaxM",
            "label": "bind_BaxA_BaxM_to_BaxABaxM",
            "name": "bind_BaxA_BaxM_to_BaxABaxM",
            "parent": "earm.shared0",
            "shape": "roundrectangle"
           },
           "position": {
            "x": 2181.381229229898,
            "y": 1437.9400228633658
           }
          },
          {
           "data": {
            "NodeType": "rule",
            "background_color": "#ff4c4c",
            "bipartite": 1,
            "id": "catalyze_BaxABaxM_to_BaxA_BaxA",
            "label": "catalyze_BaxABaxM_to_BaxA_BaxA",
            "name": "catalyze_BaxABaxM_to_BaxA_BaxA",
            "parent": "earm.shared0",
            "shape": "roundrectangle"
           },
           "position": {
            "x": 2085.0889012325197,
            "y": 1500.8053367532675
           }
          },
          {
           "data": {
            "NodeType": "rule",
            "background_color": "#ff4c4c",
            "bipartite": 1,
            "id": "bind_BakA_BakM_to_BakABakM",
            "label": "bind_BakA_BakM_to_BakABakM",
            "name": "bind_BakA_BakM_to_BakABakM",
            "parent": "earm.shared0",
            "shape": "roundrectangle"
           },
           "position": {
            "x": 2976.5883592025302,
            "y": 1024.9301511262602
           }
          },
          {
           "data": {
            "NodeType": "rule",
            "background_color": "#ff4c4c",
            "bipartite": 1,
            "id": "catalyze_BakABakM_to_BakA_BakA",
            "label": "catalyze_BakABakM_to_BakA_BakA",
            "name": "catalyze_BakABakM_to_BakA_BakA",
            "parent": "earm.shared0",
            "shape": "roundrectangle"
           },
           "position": {
            "x": 2719.906413255536,
            "y": 1331.7057028707732
           }
          },
          {
           "data": {
            "NodeType": "rule",
            "background_color": "#ff4c4c",
            "bipartite": 1,
            "id": "bind_BidM_Bcl2M",
            "label": "bind_BidM_Bcl2M",
            "name": "bind_BidM_Bcl2M",
            "parent": "earm.shared0",
            "shape": "roundrectangle"
           },
           "position": {
            "x": 2529.719385152128,
            "y": 1202.9047945725179
           }
          },
          {
           "data": {
            "NodeType": "rule",
            "background_color": "#ff4c4c",
            "bipartite": 1,
            "id": "bind_BidM_BclxLM",
            "label": "bind_BidM_BclxLM",
            "name": "bind_BidM_BclxLM",
            "parent": "earm.shared0",
            "shape": "roundrectangle"
           },
           "position": {
            "x": 2601.2869244332396,
            "y": 1134.4205543853222
           }
          },
          {
           "data": {
            "NodeType": "rule",
            "background_color": "#ff4c4c",
            "bipartite": 1,
            "id": "bind_BidM_Mcl1M",
            "label": "bind_BidM_Mcl1M",
            "name": "bind_BidM_Mcl1M",
            "parent": "earm.shared0",
            "shape": "roundrectangle"
           },
           "position": {
            "x": 2411.7656397673854,
            "y": 1263.7874939671947
           }
          },
          {
           "data": {
            "NodeType": "rule",
            "background_color": "#ff4c4c",
            "bipartite": 1,
            "id": "bind_BaxA_Bcl2",
            "label": "bind_BaxA_Bcl2",
            "name": "bind_BaxA_Bcl2",
            "parent": "earm.shared0",
            "shape": "roundrectangle"
           },
           "position": {
            "x": 2303.231421694666,
            "y": 1061.8647639095825
           }
          },
          {
           "data": {
            "NodeType": "rule",
            "background_color": "#ff4c4c",
            "bipartite": 1,
            "id": "bind_BaxA_BclxLM",
            "label": "bind_BaxA_BclxLM",
            "name": "bind_BaxA_BclxLM",
            "parent": "earm.shared0",
            "shape": "roundrectangle"
           },
           "position": {
            "x": 2444.3634304085645,
            "y": 1016.1591162267323
           }
          },
          {
           "data": {
            "NodeType": "rule",
            "background_color": "#ff4c4c",
            "bipartite": 1,
            "id": "bind_BakA_BclxLM",
            "label": "bind_BakA_BclxLM",
            "name": "bind_BakA_BclxLM",
            "parent": "earm.shared0",
            "shape": "roundrectangle"
           },
           "position": {
            "x": 2756.253502360738,
            "y": 1086.039136304198
           }
          },
          {
           "data": {
            "NodeType": "rule",
            "background_color": "#ff4c4c",
            "bipartite": 1,
            "id": "bind_BakA_Mcl1M",
            "label": "bind_BakA_Mcl1M",
            "name": "bind_BakA_Mcl1M",
            "parent": "earm.shared0",
            "shape": "roundrectangle"
           },
           "position": {
            "x": 2767.85347256572,
            "y": 1017.9438871903994
           }
          },
          {
           "data": {
            "NodeType": "rule",
            "background_color": "#ff4c4c",
            "bipartite": 1,
            "id": "bind_BadM_Bcl2",
            "label": "bind_BadM_Bcl2",
            "name": "bind_BadM_Bcl2",
            "parent": "earm.shared0",
            "shape": "roundrectangle"
           },
           "position": {
            "x": 2902.4663963248777,
            "y": 1282.932070582824
           }
          },
          {
           "data": {
            "NodeType": "rule",
            "background_color": "#ff4c4c",
            "bipartite": 1,
            "id": "bind_BadM_BclxLM",
            "label": "bind_BadM_BclxLM",
            "name": "bind_BadM_BclxLM",
            "parent": "earm.shared0",
            "shape": "roundrectangle"
           },
           "position": {
            "x": 3057.5358412997384,
            "y": 1278.1094283309285
           }
          },
          {
           "data": {
            "NodeType": "rule",
            "background_color": "#ff4c4c",
            "bipartite": 1,
            "id": "bind_NoxaM_Mcl1M",
            "label": "bind_NoxaM_Mcl1M",
            "name": "bind_NoxaM_Mcl1M",
            "parent": "earm.shared0",
            "shape": "roundrectangle"
           },
           "position": {
            "x": 2610.1343566224405,
            "y": 1021.0503983985318
           }
          },
          {
           "data": {
            "NodeType": "rule",
            "background_color": "#ff4c4c",
            "bipartite": 1,
            "id": "assemble_pore_sequential_Bax_2",
            "label": "assemble_pore_sequential_Bax_2",
            "name": "assemble_pore_sequential_Bax_2",
            "parent": "earm.shared0",
            "shape": "roundrectangle"
           },
           "position": {
            "x": 2496.8205578302304,
            "y": 1079.8236964590906
           }
          },
          {
           "data": {
            "NodeType": "rule",
            "background_color": "#ff4c4c",
            "bipartite": 1,
            "id": "assemble_pore_sequential_Bax_3",
            "label": "assemble_pore_sequential_Bax_3",
            "name": "assemble_pore_sequential_Bax_3",
            "parent": "earm.shared0",
            "shape": "roundrectangle"
           },
           "position": {
            "x": 2358.4250988188196,
            "y": 1135.5518697387542
           }
          },
          {
           "data": {
            "NodeType": "rule",
            "background_color": "#ff4c4c",
            "bipartite": 1,
            "id": "assemble_pore_sequential_Bax_4",
            "label": "assemble_pore_sequential_Bax_4",
            "name": "assemble_pore_sequential_Bax_4",
            "parent": "earm.shared0",
            "shape": "roundrectangle"
           },
           "position": {
            "x": 1061.1471551720206,
            "y": 1579.6753913915518
           }
          },
          {
           "data": {
            "NodeType": "rule",
            "background_color": "#ff4c4c",
            "bipartite": 1,
            "id": "assemble_pore_sequential_Bak_2",
            "label": "assemble_pore_sequential_Bak_2",
            "name": "assemble_pore_sequential_Bak_2",
            "parent": "earm.shared0",
            "shape": "roundrectangle"
           },
           "position": {
            "x": 2926.400082794903,
            "y": 1096.9844214522745
           }
          },
          {
           "data": {
            "NodeType": "rule",
            "background_color": "#ff4c4c",
            "bipartite": 1,
            "id": "assemble_pore_sequential_Bak_3",
            "label": "assemble_pore_sequential_Bak_3",
            "name": "assemble_pore_sequential_Bak_3",
            "parent": "earm.shared0",
            "shape": "roundrectangle"
           },
           "position": {
            "x": 2778.4403784835295,
            "y": 1151.3579718335986
           }
          },
          {
           "data": {
            "NodeType": "rule",
            "background_color": "#ff4c4c",
            "bipartite": 1,
            "id": "assemble_pore_sequential_Bak_4",
            "label": "assemble_pore_sequential_Bak_4",
            "name": "assemble_pore_sequential_Bak_4",
            "parent": "earm.shared0",
            "shape": "roundrectangle"
           },
           "position": {
            "x": 1480.4620058924638,
            "y": 1660.1019292431683
           }
          },
          {
           "data": {
            "NodeType": "rule",
            "background_color": "#ff4c4c",
            "bipartite": 1,
            "id": "pore_transport_complex_BaxA_4_CytoCM",
            "label": "pore_transport_complex_BaxA_4_CytoCM",
            "name": "pore_transport_complex_BaxA_4_CytoCM",
            "parent": "earm.shared0",
            "shape": "roundrectangle"
           },
           "position": {
            "x": 858.2915712503282,
            "y": 1527.4242983494487
           }
          },
          {
           "data": {
            "NodeType": "rule",
            "background_color": "#ff4c4c",
            "bipartite": 1,
            "id": "pore_transport_dissociate_BaxA_4_CytoCC",
            "label": "pore_transport_dissociate_BaxA_4_CytoCC",
            "name": "pore_transport_dissociate_BaxA_4_CytoCC",
            "parent": "earm.shared0",
            "shape": "roundrectangle"
           },
           "position": {
            "x": 1120.2026278235917,
            "y": 3368.850604785088
           }
          },
          {
           "data": {
            "NodeType": "rule",
            "background_color": "#ff4c4c",
            "bipartite": 1,
            "id": "pore_transport_complex_BaxA_4_SmacM",
            "label": "pore_transport_complex_BaxA_4_SmacM",
            "name": "pore_transport_complex_BaxA_4_SmacM",
            "parent": "earm.shared0",
            "shape": "roundrectangle"
           },
           "position": {
            "x": 1081.8322168502955,
            "y": 1653.1345220458707
           }
          },
          {
           "data": {
            "NodeType": "rule",
            "background_color": "#ff4c4c",
            "bipartite": 1,
            "id": "pore_transport_dissociate_BaxA_4_SmacC",
            "label": "pore_transport_dissociate_BaxA_4_SmacC",
            "name": "pore_transport_dissociate_BaxA_4_SmacC",
            "parent": "earm.shared0",
            "shape": "roundrectangle"
           },
           "position": {
            "x": 866.3991476671654,
            "y": 3393.5673377636112
           }
          },
          {
           "data": {
            "NodeType": "rule",
            "background_color": "#ff4c4c",
            "bipartite": 1,
            "id": "pore_transport_complex_BakA_4_CytoCM",
            "label": "pore_transport_complex_BakA_4_CytoCM",
            "name": "pore_transport_complex_BakA_4_CytoCM",
            "parent": "earm.shared0",
            "shape": "roundrectangle"
           },
           "position": {
            "x": 1281.4823776570656,
            "y": 1528.115701318383
           }
          },
          {
           "data": {
            "NodeType": "rule",
            "background_color": "#ff4c4c",
            "bipartite": 1,
            "id": "pore_transport_dissociate_BakA_4_CytoCC",
            "label": "pore_transport_dissociate_BakA_4_CytoCC",
            "name": "pore_transport_dissociate_BakA_4_CytoCC",
            "parent": "earm.shared0",
            "shape": "roundrectangle"
           },
           "position": {
            "x": 868.1865146490345,
            "y": 3250.766838090445
           }
          },
          {
           "data": {
            "NodeType": "rule",
            "background_color": "#ff4c4c",
            "bipartite": 1,
            "id": "pore_transport_complex_BakA_4_SmacM",
            "label": "pore_transport_complex_BakA_4_SmacM",
            "name": "pore_transport_complex_BakA_4_SmacM",
            "parent": "earm.shared0",
            "shape": "roundrectangle"
           },
           "position": {
            "x": 1360.7567203510216,
            "y": 1602.1334931318015
           }
          },
          {
           "data": {
            "NodeType": "rule",
            "background_color": "#ff4c4c",
            "bipartite": 1,
            "id": "pore_transport_dissociate_BakA_4_SmacC",
            "label": "pore_transport_dissociate_BakA_4_SmacC",
            "name": "pore_transport_dissociate_BakA_4_SmacC",
            "parent": "earm.shared0",
            "shape": "roundrectangle"
           },
           "position": {
            "x": 861.3204758355732,
            "y": 3318.5288814784353
           }
          },
          {
           "data": {
            "NodeType": "module",
            "id": "earm.albeck_modules",
            "name": "earm.albeck_modules",
            "parent": "pysbjupyter.pysb_models.lopez_embedded"
           },
           "position": {
            "x": 1738.262348839521,
            "y": 7764.389809936421
           }
          },
          {
           "data": {
            "NodeType": "module",
            "id": "earm.lopez_modules",
            "name": "earm.lopez_modules",
            "parent": "pysbjupyter.pysb_models.lopez_embedded"
           },
           "position": {
            "x": 1920.5997623951612,
            "y": 2332.35407835606
           }
          },
          {
           "data": {
            "NodeType": "module",
            "id": "earm.shared0",
            "name": "earm.shared0",
            "parent": "earm.lopez_modules"
           },
           "position": {
            "x": 1920.5997623951612,
            "y": 2196.8632269951718
           }
          },
          {
           "data": {
            "NodeType": "module",
            "id": "earm.shared1",
            "name": "earm.shared1",
            "parent": "earm.albeck_modules"
           },
           "position": {
            "x": 1738.262348839521,
            "y": 8275.430623821368
           }
          },
          {
           "data": {
            "NodeType": "module",
            "id": "pysbjupyter.pysb_models.lopez_embedded",
            "name": "pysbjupyter.pysb_models.lopez_embedded"
           },
           "position": {
            "x": 1920.5997623951612,
            "y": 5105.799220746634
           }
          }
         ]
        }
       },
       "format": "cyjs",
       "layout": "IPY_MODEL_1df474fc55d24cfcb1d08881398af341",
       "layout_name": "cose-bilkent",
       "type_of_viz": "sp_rules_modules_view",
       "visual_style": null
      }
     },
     "dff8df8a6c594bccbb43eccad45aa12e": {
      "model_module": "viz-pysb-widget",
      "model_module_version": "^0.1.0",
      "model_name": "CytoscapeModel",
      "state": {
       "_model_module_version": "^0.1.0",
       "_view_module_version": "^0.1.0",
       "background": "#FFFFFF",
       "data": {
        "data": {
         "graph": {
          "rankdir": "LR"
         },
         "name": "pysbjupyter.pysb_models.lopez_embedded"
        },
        "elements": {
         "edges": [
          {
           "data": {
            "arrowhead": "normal",
            "id": "f70a22bb-1ef2-4fa6-98d1-c19711c38db9",
            "source": "s0",
            "source_arrow_fill": "hollow",
            "source_arrow_shape": "triangle",
            "target": "bind_L_R_to_LR",
            "target_arrow_shape": "triangle"
           }
          },
          {
           "data": {
            "arrowhead": "normal",
            "id": "bc424f83-b1e0-48e5-a82c-11dfe72c4232",
            "source": "s1",
            "source_arrow_fill": "hollow",
            "source_arrow_shape": "triangle",
            "target": "bind_L_R_to_LR",
            "target_arrow_shape": "triangle"
           }
          },
          {
           "data": {
            "arrowhead": "normal",
            "id": "d9f0619e-e8e9-416d-9a30-1a0d7ef4160a",
            "source": "s2",
            "source_arrow_fill": "hollow",
            "source_arrow_shape": "triangle",
            "target": "bind_DISC_flip",
            "target_arrow_shape": "triangle"
           }
          },
          {
           "data": {
            "arrowhead": "normal",
            "id": "59b86f54-555a-4431-8967-2cead63a2e87",
            "source": "s3",
            "source_arrow_fill": "hollow",
            "source_arrow_shape": "triangle",
            "target": "bind_DISC_C8pro_to_DISCC8pro",
            "target_arrow_shape": "triangle"
           }
          },
          {
           "data": {
            "arrowhead": "normal",
            "id": "223ec982-30b5-40cd-a01d-d94f5e224bff",
            "source": "s3",
            "source_arrow_fill": "hollow",
            "source_arrow_shape": "triangle",
            "target": "bind_C6A_C8pro_to_C6AC8pro",
            "target_arrow_shape": "triangle"
           }
          },
          {
           "data": {
            "arrowhead": "normal",
            "id": "8a8f626b-ffeb-45d5-9985-77a10f379e33",
            "source": "s4",
            "source_arrow_fill": "hollow",
            "source_arrow_shape": "triangle",
            "target": "bind_BAR_C8A",
            "target_arrow_shape": "triangle"
           }
          },
          {
           "data": {
            "arrowhead": "normal",
            "id": "e533ab2e-9b52-4362-86df-9c83ea5932c7",
            "source": "s5",
            "source_arrow_fill": "hollow",
            "source_arrow_shape": "triangle",
            "target": "bind_CytoCA_ApafI_to_CytoCAApafI",
            "target_arrow_shape": "triangle"
           }
          },
          {
           "data": {
            "arrowhead": "normal",
            "id": "838c78d0-25ef-448b-bf17-2bbad098f2d8",
            "source": "s6",
            "source_arrow_fill": "hollow",
            "source_arrow_shape": "triangle",
            "target": "bind_Apop_C3pro_to_ApopC3pro",
            "target_arrow_shape": "triangle"
           }
          },
          {
           "data": {
            "arrowhead": "normal",
            "id": "8391e439-0256-4b88-add6-c5b51d3c06bb",
            "source": "s6",
            "source_arrow_fill": "hollow",
            "source_arrow_shape": "triangle",
            "target": "bind_C8A_C3pro_to_C8AC3pro",
            "target_arrow_shape": "triangle"
           }
          },
          {
           "data": {
            "arrowhead": "normal",
            "id": "536398e1-e02f-46ac-accc-1c66aa32de1f",
            "source": "s7",
            "source_arrow_fill": "hollow",
            "source_arrow_shape": "triangle",
            "target": "bind_C3A_C6pro_to_C3AC6pro",
            "target_arrow_shape": "triangle"
           }
          },
          {
           "data": {
            "arrowhead": "normal",
            "id": "1fe25bfc-16d8-4e7f-9539-99ca90f5339f",
            "source": "s8",
            "source_arrow_fill": "hollow",
            "source_arrow_shape": "triangle",
            "target": "convert_ApafA_C9_to_Apop",
            "target_arrow_shape": "triangle"
           }
          },
          {
           "data": {
            "arrowhead": "normal",
            "id": "569aa584-b0c8-4949-8088-b089b3802a43",
            "source": "s9",
            "source_arrow_fill": "hollow",
            "source_arrow_shape": "triangle",
            "target": "bind_C3A_PARPU_to_C3APARPU",
            "target_arrow_shape": "triangle"
           }
          },
          {
           "data": {
            "arrowhead": "normal",
            "id": "cabf552e-f912-480b-8103-2a9a3319deef",
            "source": "s10",
            "source_arrow_fill": "hollow",
            "source_arrow_shape": "triangle",
            "target": "bind_Apop_XIAP",
            "target_arrow_shape": "triangle"
           }
          },
          {
           "data": {
            "arrowhead": "normal",
            "id": "628d665f-ae73-42d2-a811-a7140f2386d5",
            "source": "s10",
            "source_arrow_fill": "hollow",
            "source_arrow_shape": "triangle",
            "target": "bind_SmacA_XIAP",
            "target_arrow_shape": "triangle"
           }
          },
          {
           "data": {
            "arrowhead": "normal",
            "id": "da5e9106-87e2-4685-8c31-7c44a1dd6b2b",
            "source": "s10",
            "source_arrow_fill": "hollow",
            "source_arrow_shape": "triangle",
            "target": "bind_XIAP_C3A_to_XIAPC3A",
            "target_arrow_shape": "triangle"
           }
          },
          {
           "data": {
            "arrowhead": "normal",
            "id": "c1be9fa6-ce33-4f0f-b0d7-89b9a890eca0",
            "source": "s11",
            "source_arrow_fill": "hollow",
            "source_arrow_shape": "triangle",
            "target": "bind_C8A_BidU_to_C8ABidU",
            "target_arrow_shape": "triangle"
           }
          },
          {
           "data": {
            "arrowhead": "normal",
            "id": "7534e55c-922a-495d-8fb6-43eafa918382",
            "source": "s12",
            "source_arrow_fill": "hollow",
            "source_arrow_shape": "triangle",
            "target": "bind_BidM_BaxC_to_BidMBaxC",
            "target_arrow_shape": "triangle"
           }
          },
          {
           "data": {
            "arrowhead": "normal",
            "id": "6d551d73-2298-48a3-a6b4-58bbb75f1ea6",
            "source": "s13",
            "source_arrow_fill": "hollow",
            "source_arrow_shape": "triangle",
            "target": "bind_BidM_BakM_to_BidMBakM",
            "target_arrow_shape": "triangle"
           }
          },
          {
           "data": {
            "arrowhead": "normal",
            "id": "3e742d60-eed3-4a66-ba32-54a7f9213d7a",
            "source": "s13",
            "source_arrow_fill": "hollow",
            "source_arrow_shape": "triangle",
            "target": "bind_BakA_BakM_to_BakABakM",
            "target_arrow_shape": "triangle"
           }
          },
          {
           "data": {
            "arrowhead": "normal",
            "id": "4868c171-e2d9-4350-ba40-a3c458134eb2",
            "source": "s14",
            "source_arrow_fill": "hollow",
            "source_arrow_shape": "triangle",
            "target": "bind_BidM_Bcl2M",
            "target_arrow_shape": "triangle"
           }
          },
          {
           "data": {
            "arrowhead": "normal",
            "id": "9fee90fc-1bca-4de4-89b1-3d2be13c1bc5",
            "source": "s14",
            "source_arrow_fill": "hollow",
            "source_arrow_shape": "triangle",
            "target": "bind_BaxA_Bcl2",
            "target_arrow_shape": "triangle"
           }
          },
          {
           "data": {
            "arrowhead": "normal",
            "id": "d941b442-7be6-4a89-8ed1-4dcc84dc4bcd",
            "source": "s14",
            "source_arrow_fill": "hollow",
            "source_arrow_shape": "triangle",
            "target": "bind_BadM_Bcl2",
            "target_arrow_shape": "triangle"
           }
          },
          {
           "data": {
            "arrowhead": "normal",
            "id": "c47880a4-efc6-4b9c-b036-14dfce1f5e66",
            "source": "s15",
            "source_arrow_fill": "hollow",
            "source_arrow_shape": "triangle",
            "target": "bind_BidM_BclxLM",
            "target_arrow_shape": "triangle"
           }
          },
          {
           "data": {
            "arrowhead": "normal",
            "id": "519364ee-cc67-4476-b9ba-b19e0f80657e",
            "source": "s15",
            "source_arrow_fill": "hollow",
            "source_arrow_shape": "triangle",
            "target": "bind_BaxA_BclxLM",
            "target_arrow_shape": "triangle"
           }
          },
          {
           "data": {
            "arrowhead": "normal",
            "id": "b673491f-73aa-4066-9691-d4dce1c904d6",
            "source": "s15",
            "source_arrow_fill": "hollow",
            "source_arrow_shape": "triangle",
            "target": "bind_BakA_BclxLM",
            "target_arrow_shape": "triangle"
           }
          },
          {
           "data": {
            "arrowhead": "normal",
            "id": "6e6e7f45-fb8c-4e7d-9057-971bd11269a8",
            "source": "s15",
            "source_arrow_fill": "hollow",
            "source_arrow_shape": "triangle",
            "target": "bind_BadM_BclxLM",
            "target_arrow_shape": "triangle"
           }
          },
          {
           "data": {
            "arrowhead": "normal",
            "id": "a7b9d8b8-3f80-492f-b441-123aa32caa4e",
            "source": "s16",
            "source_arrow_fill": "hollow",
            "source_arrow_shape": "triangle",
            "target": "bind_BidM_Mcl1M",
            "target_arrow_shape": "triangle"
           }
          },
          {
           "data": {
            "arrowhead": "normal",
            "id": "5fc368c4-5367-4b92-8a09-6a577b0d172b",
            "source": "s16",
            "source_arrow_fill": "hollow",
            "source_arrow_shape": "triangle",
            "target": "bind_BakA_Mcl1M",
            "target_arrow_shape": "triangle"
           }
          },
          {
           "data": {
            "arrowhead": "normal",
            "id": "e664474e-9768-4d89-a367-62f794dfd633",
            "source": "s16",
            "source_arrow_fill": "hollow",
            "source_arrow_shape": "triangle",
            "target": "bind_NoxaM_Mcl1M",
            "target_arrow_shape": "triangle"
           }
          },
          {
           "data": {
            "arrowhead": "normal",
            "id": "e75466db-2821-4cf2-b8ae-1a540df96638",
            "source": "s17",
            "source_arrow_fill": "hollow",
            "source_arrow_shape": "triangle",
            "target": "bind_BadM_Bcl2",
            "target_arrow_shape": "triangle"
           }
          },
          {
           "data": {
            "arrowhead": "normal",
            "id": "b904eec8-49c5-458e-aa4a-caeca98a4144",
            "source": "s17",
            "source_arrow_fill": "hollow",
            "source_arrow_shape": "triangle",
            "target": "bind_BadM_BclxLM",
            "target_arrow_shape": "triangle"
           }
          },
          {
           "data": {
            "arrowhead": "normal",
            "id": "ea680b5d-6b4d-4689-b85f-e421a0dcc1f0",
            "source": "s18",
            "source_arrow_fill": "hollow",
            "source_arrow_shape": "triangle",
            "target": "bind_NoxaM_Mcl1M",
            "target_arrow_shape": "triangle"
           }
          },
          {
           "data": {
            "arrowhead": "normal",
            "id": "fd1297c3-c8c4-4d62-8efe-9adbf7046f9c",
            "source": "s19",
            "source_arrow_fill": "hollow",
            "source_arrow_shape": "triangle",
            "target": "pore_transport_complex_BaxA_4_CytoCM",
            "target_arrow_shape": "triangle"
           }
          },
          {
           "data": {
            "arrowhead": "normal",
            "id": "b22ef55f-6ac3-4131-8ac2-ab862fcbec62",
            "source": "s19",
            "source_arrow_fill": "hollow",
            "source_arrow_shape": "triangle",
            "target": "pore_transport_complex_BakA_4_CytoCM",
            "target_arrow_shape": "triangle"
           }
          },
          {
           "data": {
            "arrowhead": "normal",
            "id": "4dcb2e52-9297-4113-9441-11363fea86ca",
            "source": "s20",
            "source_arrow_fill": "hollow",
            "source_arrow_shape": "triangle",
            "target": "pore_transport_complex_BaxA_4_SmacM",
            "target_arrow_shape": "triangle"
           }
          },
          {
           "data": {
            "arrowhead": "normal",
            "id": "46becad7-a94d-485a-8aa6-b3d4f847ac43",
            "source": "s20",
            "source_arrow_fill": "hollow",
            "source_arrow_shape": "triangle",
            "target": "pore_transport_complex_BakA_4_SmacM",
            "target_arrow_shape": "triangle"
           }
          },
          {
           "data": {
            "arrowhead": "normal",
            "id": "17f79714-2d7e-470f-b536-0e51b0e43f29",
            "source": "s21",
            "source_arrow_fill": "hollow",
            "source_arrow_shape": "triangle",
            "target": "bind_L_R_to_LR",
            "target_arrow_shape": "triangle"
           }
          },
          {
           "data": {
            "arrowhead": "normal",
            "id": "4b156ded-b7ee-4716-9e18-bf54e4f3fcaa",
            "source": "s21",
            "source_arrow_fill": "filled",
            "source_arrow_shape": "none",
            "target": "convert_LR_to_DISC",
            "target_arrow_shape": "triangle"
           }
          },
          {
           "data": {
            "arrowhead": "normal",
            "id": "b6ae9be3-50d0-4902-b5aa-dc699c5d2382",
            "source": "s22",
            "source_arrow_fill": "hollow",
            "source_arrow_shape": "triangle",
            "target": "bind_BadM_Bcl2",
            "target_arrow_shape": "triangle"
           }
          },
          {
           "data": {
            "arrowhead": "normal",
            "id": "21e08476-5cad-4f44-8240-81f9f410e7f7",
            "source": "s23",
            "source_arrow_fill": "hollow",
            "source_arrow_shape": "triangle",
            "target": "bind_BadM_BclxLM",
            "target_arrow_shape": "triangle"
           }
          },
          {
           "data": {
            "arrowhead": "normal",
            "id": "ffa886a6-77bb-414f-b786-9c336f25f17d",
            "source": "s24",
            "source_arrow_fill": "hollow",
            "source_arrow_shape": "triangle",
            "target": "bind_NoxaM_Mcl1M",
            "target_arrow_shape": "triangle"
           }
          },
          {
           "data": {
            "arrowhead": "normal",
            "id": "785c3925-0e33-4f4b-b62f-2cd4232c35b6",
            "source": "s25",
            "source_arrow_fill": "hollow",
            "source_arrow_shape": "triangle",
            "target": "bind_DISC_C8pro_to_DISCC8pro",
            "target_arrow_shape": "triangle"
           }
          },
          {
           "data": {
            "arrowhead": "normal",
            "id": "e5b5d918-061b-4726-82aa-5eb60b00d0ea",
            "source": "s25",
            "source_arrow_fill": "hollow",
            "source_arrow_shape": "triangle",
            "target": "bind_DISC_flip",
            "target_arrow_shape": "triangle"
           }
          },
          {
           "data": {
            "arrowhead": "normal",
            "id": "6c9b2f03-8b62-4af2-8910-a4130a1c88e8",
            "source": "s26",
            "source_arrow_fill": "hollow",
            "source_arrow_shape": "triangle",
            "target": "bind_DISC_C8pro_to_DISCC8pro",
            "target_arrow_shape": "triangle"
           }
          },
          {
           "data": {
            "arrowhead": "normal",
            "id": "3c1271d0-9158-48fd-b54a-cd26af9a5d73",
            "source": "s26",
            "source_arrow_fill": "filled",
            "source_arrow_shape": "none",
            "target": "catalyze_DISCC8pro_to_DISC_C8A",
            "target_arrow_shape": "triangle"
           }
          },
          {
           "data": {
            "arrowhead": "normal",
            "id": "6749c01a-5283-45d1-a1d8-6c85b3d61463",
            "source": "s27",
            "source_arrow_fill": "hollow",
            "source_arrow_shape": "triangle",
            "target": "bind_DISC_flip",
            "target_arrow_shape": "triangle"
           }
          },
          {
           "data": {
            "arrowhead": "normal",
            "id": "c126063d-b43e-45e6-9d9f-78a6b6237e62",
            "source": "s28",
            "source_arrow_fill": "hollow",
            "source_arrow_shape": "triangle",
            "target": "bind_C8A_BidU_to_C8ABidU",
            "target_arrow_shape": "triangle"
           }
          },
          {
           "data": {
            "arrowhead": "normal",
            "id": "bdbc1ade-8896-4a7a-9e32-45ea780d3d71",
            "source": "s28",
            "source_arrow_fill": "hollow",
            "source_arrow_shape": "triangle",
            "target": "bind_BAR_C8A",
            "target_arrow_shape": "triangle"
           }
          },
          {
           "data": {
            "arrowhead": "normal",
            "id": "9b493c78-5ad0-41cf-8d16-e166576c6f2d",
            "source": "s28",
            "source_arrow_fill": "hollow",
            "source_arrow_shape": "triangle",
            "target": "bind_C8A_C3pro_to_C8AC3pro",
            "target_arrow_shape": "triangle"
           }
          },
          {
           "data": {
            "arrowhead": "normal",
            "id": "a7742975-fe28-4df1-8780-f932da421365",
            "source": "s29",
            "source_arrow_fill": "hollow",
            "source_arrow_shape": "triangle",
            "target": "bind_C8A_BidU_to_C8ABidU",
            "target_arrow_shape": "triangle"
           }
          },
          {
           "data": {
            "arrowhead": "normal",
            "id": "c4cd1917-523f-4f2a-beb0-a632ba1e2592",
            "source": "s29",
            "source_arrow_fill": "filled",
            "source_arrow_shape": "none",
            "target": "catalyze_C8ABidU_to_C8A_BidT",
            "target_arrow_shape": "triangle"
           }
          },
          {
           "data": {
            "arrowhead": "normal",
            "id": "eb1e2516-998d-44ee-bcaf-cf6affce0ea3",
            "source": "s30",
            "source_arrow_fill": "hollow",
            "source_arrow_shape": "triangle",
            "target": "bind_BAR_C8A",
            "target_arrow_shape": "triangle"
           }
          },
          {
           "data": {
            "arrowhead": "normal",
            "id": "d13728c1-11d3-47f2-bb9e-f05c69c011c6",
            "source": "s31",
            "source_arrow_fill": "hollow",
            "source_arrow_shape": "triangle",
            "target": "bind_C8A_C3pro_to_C8AC3pro",
            "target_arrow_shape": "triangle"
           }
          },
          {
           "data": {
            "arrowhead": "normal",
            "id": "ce440794-dfa5-4a22-8552-f36b1175a11d",
            "source": "s31",
            "source_arrow_fill": "filled",
            "source_arrow_shape": "none",
            "target": "catalyze_C8AC3pro_to_C8A_C3A",
            "target_arrow_shape": "triangle"
           }
          },
          {
           "data": {
            "arrowhead": "normal",
            "id": "88683751-027e-4b71-b098-605ab2d3b041",
            "source": "s32",
            "source_arrow_fill": "hollow",
            "source_arrow_shape": "triangle",
            "target": "equilibrate_BidT_to_BidM",
            "target_arrow_shape": "triangle"
           }
          },
          {
           "data": {
            "arrowhead": "normal",
            "id": "860c35d3-0853-4cf3-b73e-080069b6cb72",
            "source": "s33",
            "source_arrow_fill": "hollow",
            "source_arrow_shape": "triangle",
            "target": "bind_XIAP_C3A_to_XIAPC3A",
            "target_arrow_shape": "triangle"
           }
          },
          {
           "data": {
            "arrowhead": "normal",
            "id": "e84eac73-ab06-4d00-bb22-69482593e2dd",
            "source": "s33",
            "source_arrow_fill": "hollow",
            "source_arrow_shape": "triangle",
            "target": "bind_C3A_PARPU_to_C3APARPU",
            "target_arrow_shape": "triangle"
           }
          },
          {
           "data": {
            "arrowhead": "normal",
            "id": "4001bcf4-14ea-4c54-a51a-fb7012cea99a",
            "source": "s33",
            "source_arrow_fill": "hollow",
            "source_arrow_shape": "triangle",
            "target": "bind_C3A_C6pro_to_C3AC6pro",
            "target_arrow_shape": "triangle"
           }
          },
          {
           "data": {
            "arrowhead": "normal",
            "id": "f57bd335-4686-408b-947e-a0c260ba8c44",
            "source": "s34",
            "source_arrow_fill": "hollow",
            "source_arrow_shape": "triangle",
            "target": "bind_XIAP_C3A_to_XIAPC3A",
            "target_arrow_shape": "triangle"
           }
          },
          {
           "data": {
            "arrowhead": "normal",
            "id": "b6308b10-0fe8-4893-aab9-547aff5b846c",
            "source": "s34",
            "source_arrow_fill": "filled",
            "source_arrow_shape": "none",
            "target": "catalyze_XIAPC3A_to_XIAP_C3ub",
            "target_arrow_shape": "triangle"
           }
          },
          {
           "data": {
            "arrowhead": "normal",
            "id": "d5240419-762d-4e65-9210-31651819bf05",
            "source": "s35",
            "source_arrow_fill": "hollow",
            "source_arrow_shape": "triangle",
            "target": "bind_C3A_PARPU_to_C3APARPU",
            "target_arrow_shape": "triangle"
           }
          },
          {
           "data": {
            "arrowhead": "normal",
            "id": "571c5e6c-d602-4444-841e-91641009e3a2",
            "source": "s35",
            "source_arrow_fill": "filled",
            "source_arrow_shape": "none",
            "target": "catalyze_C3APARPU_to_C3A_PARPC",
            "target_arrow_shape": "triangle"
           }
          },
          {
           "data": {
            "arrowhead": "normal",
            "id": "abb0b055-0e37-4a42-97b5-b4340a9db758",
            "source": "s36",
            "source_arrow_fill": "hollow",
            "source_arrow_shape": "triangle",
            "target": "bind_C3A_C6pro_to_C3AC6pro",
            "target_arrow_shape": "triangle"
           }
          },
          {
           "data": {
            "arrowhead": "normal",
            "id": "365883b2-b756-47b9-9f69-1a1d81f54b8b",
            "source": "s36",
            "source_arrow_fill": "filled",
            "source_arrow_shape": "none",
            "target": "catalyze_C3AC6pro_to_C3A_C6A",
            "target_arrow_shape": "triangle"
           }
          },
          {
           "data": {
            "arrowhead": "normal",
            "id": "d847d081-608f-49d8-a218-f7705aa52341",
            "source": "s37",
            "source_arrow_fill": "hollow",
            "source_arrow_shape": "triangle",
            "target": "equilibrate_BidT_to_BidM",
            "target_arrow_shape": "triangle"
           }
          },
          {
           "data": {
            "arrowhead": "normal",
            "id": "0a1cf565-c4e0-400c-9c00-a91c627e8089",
            "source": "s37",
            "source_arrow_fill": "hollow",
            "source_arrow_shape": "triangle",
            "target": "bind_BidM_BaxC_to_BidMBaxC",
            "target_arrow_shape": "triangle"
           }
          },
          {
           "data": {
            "arrowhead": "normal",
            "id": "956b2144-58c2-455c-a614-9e87260dcbce",
            "source": "s37",
            "source_arrow_fill": "hollow",
            "source_arrow_shape": "triangle",
            "target": "bind_BidM_BaxM_to_BidMBaxM",
            "target_arrow_shape": "triangle"
           }
          },
          {
           "data": {
            "arrowhead": "normal",
            "id": "d95e4b6a-989f-418f-b0e1-541e4d00ef75",
            "source": "s37",
            "source_arrow_fill": "hollow",
            "source_arrow_shape": "triangle",
            "target": "bind_BidM_BakM_to_BidMBakM",
            "target_arrow_shape": "triangle"
           }
          },
          {
           "data": {
            "arrowhead": "normal",
            "id": "ecaf3968-e892-4d05-af0a-63d2e9f9f9ab",
            "source": "s37",
            "source_arrow_fill": "hollow",
            "source_arrow_shape": "triangle",
            "target": "bind_BidM_Bcl2M",
            "target_arrow_shape": "triangle"
           }
          },
          {
           "data": {
            "arrowhead": "normal",
            "id": "1bc21e33-d8fc-481c-8e4c-c39e0f6c35e7",
            "source": "s37",
            "source_arrow_fill": "hollow",
            "source_arrow_shape": "triangle",
            "target": "bind_BidM_BclxLM",
            "target_arrow_shape": "triangle"
           }
          },
          {
           "data": {
            "arrowhead": "normal",
            "id": "3bea9a9a-0143-4acf-99e8-aceffeb9e0f6",
            "source": "s37",
            "source_arrow_fill": "hollow",
            "source_arrow_shape": "triangle",
            "target": "bind_BidM_Mcl1M",
            "target_arrow_shape": "triangle"
           }
          },
          {
           "data": {
            "arrowhead": "normal",
            "id": "887bee20-b9f0-4674-a1ba-dfe9ea9b444c",
            "source": "s40",
            "source_arrow_fill": "hollow",
            "source_arrow_shape": "triangle",
            "target": "bind_C6A_C8pro_to_C6AC8pro",
            "target_arrow_shape": "triangle"
           }
          },
          {
           "data": {
            "arrowhead": "normal",
            "id": "b6e9e748-2d30-4b09-a1da-8fce855364d7",
            "source": "s41",
            "source_arrow_fill": "hollow",
            "source_arrow_shape": "triangle",
            "target": "bind_BidM_BaxC_to_BidMBaxC",
            "target_arrow_shape": "triangle"
           }
          },
          {
           "data": {
            "arrowhead": "normal",
            "id": "b7e939c6-3c9e-4e68-b6d6-f9f5c5d68adc",
            "source": "s41",
            "source_arrow_fill": "filled",
            "source_arrow_shape": "none",
            "target": "catalyze_BidMBaxC_to_BidM_BaxM",
            "target_arrow_shape": "triangle"
           }
          },
          {
           "data": {
            "arrowhead": "normal",
            "id": "4959f694-e618-4b87-a1f4-0b2da60d7126",
            "source": "s42",
            "source_arrow_fill": "hollow",
            "source_arrow_shape": "triangle",
            "target": "bind_BidM_BakM_to_BidMBakM",
            "target_arrow_shape": "triangle"
           }
          },
          {
           "data": {
            "arrowhead": "normal",
            "id": "a5cefe61-1720-4290-9181-62cf1a62327c",
            "source": "s42",
            "source_arrow_fill": "filled",
            "source_arrow_shape": "none",
            "target": "catalyze_BidMBakM_to_BidM_BakA",
            "target_arrow_shape": "triangle"
           }
          },
          {
           "data": {
            "arrowhead": "normal",
            "id": "3da03837-9b18-4974-989f-f881737c2958",
            "source": "s43",
            "source_arrow_fill": "hollow",
            "source_arrow_shape": "triangle",
            "target": "bind_BidM_Bcl2M",
            "target_arrow_shape": "triangle"
           }
          },
          {
           "data": {
            "arrowhead": "normal",
            "id": "61f73b85-e970-4444-9f9b-7b44a6f1da8f",
            "source": "s44",
            "source_arrow_fill": "hollow",
            "source_arrow_shape": "triangle",
            "target": "bind_BidM_BclxLM",
            "target_arrow_shape": "triangle"
           }
          },
          {
           "data": {
            "arrowhead": "normal",
            "id": "42d0d45a-cc80-4040-b73c-7f37893844a0",
            "source": "s45",
            "source_arrow_fill": "hollow",
            "source_arrow_shape": "triangle",
            "target": "bind_BidM_Mcl1M",
            "target_arrow_shape": "triangle"
           }
          },
          {
           "data": {
            "arrowhead": "normal",
            "id": "acec467e-147a-428c-82ed-289f19078d71",
            "source": "s46",
            "source_arrow_fill": "hollow",
            "source_arrow_shape": "triangle",
            "target": "bind_C6A_C8pro_to_C6AC8pro",
            "target_arrow_shape": "triangle"
           }
          },
          {
           "data": {
            "arrowhead": "normal",
            "id": "b8d41881-0693-465f-ac96-bf61df57ce11",
            "source": "s46",
            "source_arrow_fill": "filled",
            "source_arrow_shape": "none",
            "target": "catalyze_C6AC8pro_to_C6A_C8A",
            "target_arrow_shape": "triangle"
           }
          },
          {
           "data": {
            "arrowhead": "normal",
            "id": "e76d2d29-be4c-45a5-91f4-9eb4e812d735",
            "source": "s47",
            "source_arrow_fill": "hollow",
            "source_arrow_shape": "triangle",
            "target": "bind_BidM_BaxM_to_BidMBaxM",
            "target_arrow_shape": "triangle"
           }
          },
          {
           "data": {
            "arrowhead": "normal",
            "id": "3e57f633-02c5-4a12-9ee6-b309bd8fc2b9",
            "source": "s47",
            "source_arrow_fill": "hollow",
            "source_arrow_shape": "triangle",
            "target": "bind_BaxA_BaxM_to_BaxABaxM",
            "target_arrow_shape": "triangle"
           }
          },
          {
           "data": {
            "arrowhead": "normal",
            "id": "bab052e3-696b-4cfe-a5a7-3393278b6f15",
            "source": "s48",
            "source_arrow_fill": "hollow",
            "source_arrow_shape": "triangle",
            "target": "bind_BakA_BakM_to_BakABakM",
            "target_arrow_shape": "triangle"
           }
          },
          {
           "data": {
            "arrowhead": "normal",
            "id": "96cf1750-a936-4cd5-a2f9-693409284744",
            "source": "s48",
            "source_arrow_fill": "hollow",
            "source_arrow_shape": "triangle",
            "target": "bind_BakA_BclxLM",
            "target_arrow_shape": "triangle"
           }
          },
          {
           "data": {
            "arrowhead": "normal",
            "id": "c889a724-40e2-4c84-b8c4-274d111fea7c",
            "source": "s48",
            "source_arrow_fill": "hollow",
            "source_arrow_shape": "triangle",
            "target": "bind_BakA_Mcl1M",
            "target_arrow_shape": "triangle"
           }
          },
          {
           "data": {
            "arrowhead": "normal",
            "id": "09e33a87-82a3-4b59-a854-2a84c51f5cd8",
            "source": "s48",
            "source_arrow_fill": "hollow",
            "source_arrow_shape": "triangle",
            "target": "assemble_pore_sequential_Bak_2",
            "target_arrow_shape": "triangle"
           }
          },
          {
           "data": {
            "arrowhead": "normal",
            "id": "36941edd-dc3c-4aa4-aefc-8954d457e2bb",
            "source": "s48",
            "source_arrow_fill": "hollow",
            "source_arrow_shape": "triangle",
            "target": "assemble_pore_sequential_Bak_3",
            "target_arrow_shape": "triangle"
           }
          },
          {
           "data": {
            "arrowhead": "normal",
            "id": "2702f560-81ad-4250-9c56-897cb85993b0",
            "source": "s48",
            "source_arrow_fill": "hollow",
            "source_arrow_shape": "triangle",
            "target": "assemble_pore_sequential_Bak_4",
            "target_arrow_shape": "triangle"
           }
          },
          {
           "data": {
            "arrowhead": "normal",
            "id": "8c23943a-68cb-4845-8c48-a946034935e1",
            "source": "s49",
            "source_arrow_fill": "hollow",
            "source_arrow_shape": "triangle",
            "target": "bind_BidM_BaxM_to_BidMBaxM",
            "target_arrow_shape": "triangle"
           }
          },
          {
           "data": {
            "arrowhead": "normal",
            "id": "0d8d7452-56b4-4f6d-a2fd-60636c3599a3",
            "source": "s49",
            "source_arrow_fill": "filled",
            "source_arrow_shape": "none",
            "target": "catalyze_BidMBaxM_to_BidM_BaxA",
            "target_arrow_shape": "triangle"
           }
          },
          {
           "data": {
            "arrowhead": "normal",
            "id": "83239dd4-095e-4dea-8cd5-41228dcc18d3",
            "source": "s50",
            "source_arrow_fill": "hollow",
            "source_arrow_shape": "triangle",
            "target": "bind_BakA_BakM_to_BakABakM",
            "target_arrow_shape": "triangle"
           }
          },
          {
           "data": {
            "arrowhead": "normal",
            "id": "c794b2c5-b6ba-4125-b6cf-3b555acc6a1b",
            "source": "s50",
            "source_arrow_fill": "filled",
            "source_arrow_shape": "none",
            "target": "catalyze_BakABakM_to_BakA_BakA",
            "target_arrow_shape": "triangle"
           }
          },
          {
           "data": {
            "arrowhead": "normal",
            "id": "01c3e96b-4a84-4599-af44-6c0f652b47ad",
            "source": "s51",
            "source_arrow_fill": "hollow",
            "source_arrow_shape": "triangle",
            "target": "bind_BakA_BclxLM",
            "target_arrow_shape": "triangle"
           }
          },
          {
           "data": {
            "arrowhead": "normal",
            "id": "d3d69dbb-6ff9-4394-92c3-548f3c0db998",
            "source": "s52",
            "source_arrow_fill": "hollow",
            "source_arrow_shape": "triangle",
            "target": "bind_BakA_Mcl1M",
            "target_arrow_shape": "triangle"
           }
          },
          {
           "data": {
            "arrowhead": "normal",
            "id": "3ae3c236-df2e-4a86-a707-efd92312cf11",
            "source": "s53",
            "source_arrow_fill": "hollow",
            "source_arrow_shape": "triangle",
            "target": "assemble_pore_sequential_Bak_2",
            "target_arrow_shape": "triangle"
           }
          },
          {
           "data": {
            "arrowhead": "normal",
            "id": "d87bd4c4-b093-4de3-bc95-dfe36ef1776d",
            "source": "s53",
            "source_arrow_fill": "hollow",
            "source_arrow_shape": "triangle",
            "target": "assemble_pore_sequential_Bak_3",
            "target_arrow_shape": "triangle"
           }
          },
          {
           "data": {
            "arrowhead": "normal",
            "id": "586bc63b-aaaa-4873-bc6f-53e6c1027a67",
            "source": "s54",
            "source_arrow_fill": "hollow",
            "source_arrow_shape": "triangle",
            "target": "bind_BaxA_BaxM_to_BaxABaxM",
            "target_arrow_shape": "triangle"
           }
          },
          {
           "data": {
            "arrowhead": "normal",
            "id": "aeaf3979-bf6d-4c86-aaba-ac773854fc1e",
            "source": "s54",
            "source_arrow_fill": "hollow",
            "source_arrow_shape": "triangle",
            "target": "bind_BaxA_Bcl2",
            "target_arrow_shape": "triangle"
           }
          },
          {
           "data": {
            "arrowhead": "normal",
            "id": "5e3aa6a0-fe9e-414b-b642-7d05fb69798f",
            "source": "s54",
            "source_arrow_fill": "hollow",
            "source_arrow_shape": "triangle",
            "target": "bind_BaxA_BclxLM",
            "target_arrow_shape": "triangle"
           }
          },
          {
           "data": {
            "arrowhead": "normal",
            "id": "ce8f6e95-5220-4082-be19-16182a78d85b",
            "source": "s54",
            "source_arrow_fill": "hollow",
            "source_arrow_shape": "triangle",
            "target": "assemble_pore_sequential_Bax_2",
            "target_arrow_shape": "triangle"
           }
          },
          {
           "data": {
            "arrowhead": "normal",
            "id": "6f4179b4-db5e-458b-9673-37b46850c65a",
            "source": "s54",
            "source_arrow_fill": "hollow",
            "source_arrow_shape": "triangle",
            "target": "assemble_pore_sequential_Bax_3",
            "target_arrow_shape": "triangle"
           }
          },
          {
           "data": {
            "arrowhead": "normal",
            "id": "3d10b520-51fa-4344-84f6-7728b4f3de22",
            "source": "s54",
            "source_arrow_fill": "hollow",
            "source_arrow_shape": "triangle",
            "target": "assemble_pore_sequential_Bax_4",
            "target_arrow_shape": "triangle"
           }
          },
          {
           "data": {
            "arrowhead": "normal",
            "id": "d574df59-aadc-4e73-b156-ed76e1a760e7",
            "source": "s55",
            "source_arrow_fill": "hollow",
            "source_arrow_shape": "triangle",
            "target": "assemble_pore_sequential_Bak_3",
            "target_arrow_shape": "triangle"
           }
          },
          {
           "data": {
            "arrowhead": "normal",
            "id": "f2f05bc5-c2f6-41e2-bbc6-a4285e3c6c72",
            "source": "s55",
            "source_arrow_fill": "hollow",
            "source_arrow_shape": "triangle",
            "target": "assemble_pore_sequential_Bak_4",
            "target_arrow_shape": "triangle"
           }
          },
          {
           "data": {
            "arrowhead": "normal",
            "id": "8fb96714-e764-4782-bf4b-def859239208",
            "source": "s56",
            "source_arrow_fill": "hollow",
            "source_arrow_shape": "triangle",
            "target": "bind_BaxA_BaxM_to_BaxABaxM",
            "target_arrow_shape": "triangle"
           }
          },
          {
           "data": {
            "arrowhead": "normal",
            "id": "a45eb2e7-daaa-4527-9db5-e5dcfabfeb2b",
            "source": "s56",
            "source_arrow_fill": "filled",
            "source_arrow_shape": "none",
            "target": "catalyze_BaxABaxM_to_BaxA_BaxA",
            "target_arrow_shape": "triangle"
           }
          },
          {
           "data": {
            "arrowhead": "normal",
            "id": "635245db-517d-4229-a836-549f1dfc9215",
            "source": "s57",
            "source_arrow_fill": "hollow",
            "source_arrow_shape": "triangle",
            "target": "bind_BaxA_Bcl2",
            "target_arrow_shape": "triangle"
           }
          },
          {
           "data": {
            "arrowhead": "normal",
            "id": "8565adbb-f2e6-41f0-873d-dbfb5fa243a4",
            "source": "s58",
            "source_arrow_fill": "hollow",
            "source_arrow_shape": "triangle",
            "target": "bind_BaxA_BclxLM",
            "target_arrow_shape": "triangle"
           }
          },
          {
           "data": {
            "arrowhead": "normal",
            "id": "f4298197-dbb4-4e59-bd3d-920010189eef",
            "source": "s59",
            "source_arrow_fill": "hollow",
            "source_arrow_shape": "triangle",
            "target": "assemble_pore_sequential_Bax_2",
            "target_arrow_shape": "triangle"
           }
          },
          {
           "data": {
            "arrowhead": "normal",
            "id": "4387277c-4fc8-4a3d-a317-9700275b1674",
            "source": "s59",
            "source_arrow_fill": "hollow",
            "source_arrow_shape": "triangle",
            "target": "assemble_pore_sequential_Bax_3",
            "target_arrow_shape": "triangle"
           }
          },
          {
           "data": {
            "arrowhead": "normal",
            "id": "dbf22f35-67b8-40cc-aa8d-bb790111f79e",
            "source": "s60",
            "source_arrow_fill": "hollow",
            "source_arrow_shape": "triangle",
            "target": "assemble_pore_sequential_Bak_4",
            "target_arrow_shape": "triangle"
           }
          },
          {
           "data": {
            "arrowhead": "normal",
            "id": "889da5a5-78f5-4fb7-8ec8-b8633fddf54b",
            "source": "s60",
            "source_arrow_fill": "hollow",
            "source_arrow_shape": "triangle",
            "target": "pore_transport_complex_BakA_4_CytoCM",
            "target_arrow_shape": "triangle"
           }
          },
          {
           "data": {
            "arrowhead": "normal",
            "id": "844b83fc-5b64-42f5-a9b5-0de9b87900fc",
            "source": "s60",
            "source_arrow_fill": "hollow",
            "source_arrow_shape": "triangle",
            "target": "pore_transport_complex_BakA_4_SmacM",
            "target_arrow_shape": "triangle"
           }
          },
          {
           "data": {
            "arrowhead": "normal",
            "id": "36b1e559-b3cf-4900-98df-3c12c2007dd7",
            "source": "s61",
            "source_arrow_fill": "hollow",
            "source_arrow_shape": "triangle",
            "target": "assemble_pore_sequential_Bax_3",
            "target_arrow_shape": "triangle"
           }
          },
          {
           "data": {
            "arrowhead": "normal",
            "id": "5456d377-86c9-4e67-b04d-005d860b9e9d",
            "source": "s61",
            "source_arrow_fill": "hollow",
            "source_arrow_shape": "triangle",
            "target": "assemble_pore_sequential_Bax_4",
            "target_arrow_shape": "triangle"
           }
          },
          {
           "data": {
            "arrowhead": "normal",
            "id": "0e331049-d2a7-4791-8d89-407a52f32da3",
            "source": "s62",
            "source_arrow_fill": "hollow",
            "source_arrow_shape": "triangle",
            "target": "pore_transport_complex_BakA_4_CytoCM",
            "target_arrow_shape": "triangle"
           }
          },
          {
           "data": {
            "arrowhead": "normal",
            "id": "732e37be-1bc9-4619-b200-1ce03b61cf01",
            "source": "s62",
            "source_arrow_fill": "filled",
            "source_arrow_shape": "none",
            "target": "pore_transport_dissociate_BakA_4_CytoCC",
            "target_arrow_shape": "triangle"
           }
          },
          {
           "data": {
            "arrowhead": "normal",
            "id": "9257a6af-13e8-4d50-9f97-d442320f799e",
            "source": "s63",
            "source_arrow_fill": "hollow",
            "source_arrow_shape": "triangle",
            "target": "pore_transport_complex_BakA_4_SmacM",
            "target_arrow_shape": "triangle"
           }
          },
          {
           "data": {
            "arrowhead": "normal",
            "id": "304df556-2304-4e87-8cbb-a9abebc6adcc",
            "source": "s63",
            "source_arrow_fill": "filled",
            "source_arrow_shape": "none",
            "target": "pore_transport_dissociate_BakA_4_SmacC",
            "target_arrow_shape": "triangle"
           }
          },
          {
           "data": {
            "arrowhead": "normal",
            "id": "a74a11d7-4022-447e-8c1c-dd7ec0d7d746",
            "source": "s64",
            "source_arrow_fill": "hollow",
            "source_arrow_shape": "triangle",
            "target": "assemble_pore_sequential_Bax_4",
            "target_arrow_shape": "triangle"
           }
          },
          {
           "data": {
            "arrowhead": "normal",
            "id": "09958793-6e0f-4e4a-bcfd-456f112f0a96",
            "source": "s64",
            "source_arrow_fill": "hollow",
            "source_arrow_shape": "triangle",
            "target": "pore_transport_complex_BaxA_4_CytoCM",
            "target_arrow_shape": "triangle"
           }
          },
          {
           "data": {
            "arrowhead": "normal",
            "id": "31db6c06-7b3b-4d85-84a5-66b5d649e2d3",
            "source": "s64",
            "source_arrow_fill": "hollow",
            "source_arrow_shape": "triangle",
            "target": "pore_transport_complex_BaxA_4_SmacM",
            "target_arrow_shape": "triangle"
           }
          },
          {
           "data": {
            "arrowhead": "normal",
            "id": "8245a192-95fb-4a59-b7db-d40f41798525",
            "source": "s65",
            "source_arrow_fill": "hollow",
            "source_arrow_shape": "triangle",
            "target": "equilibrate_CytoCC_to_CytoCA",
            "target_arrow_shape": "triangle"
           }
          },
          {
           "data": {
            "arrowhead": "normal",
            "id": "2ff38201-30b9-4e18-9adb-1238fdc5cb25",
            "source": "s66",
            "source_arrow_fill": "hollow",
            "source_arrow_shape": "triangle",
            "target": "equilibrate_SmacC_to_SmacA",
            "target_arrow_shape": "triangle"
           }
          },
          {
           "data": {
            "arrowhead": "normal",
            "id": "61aa6e4c-9022-4e05-acab-63935fd6bf28",
            "source": "s67",
            "source_arrow_fill": "hollow",
            "source_arrow_shape": "triangle",
            "target": "equilibrate_SmacC_to_SmacA",
            "target_arrow_shape": "triangle"
           }
          },
          {
           "data": {
            "arrowhead": "normal",
            "id": "172013b5-9596-43ba-b60f-6595b57d6430",
            "source": "s67",
            "source_arrow_fill": "hollow",
            "source_arrow_shape": "triangle",
            "target": "bind_SmacA_XIAP",
            "target_arrow_shape": "triangle"
           }
          },
          {
           "data": {
            "arrowhead": "normal",
            "id": "01b5f072-d43f-46d4-a51f-0b377c1424bc",
            "source": "s68",
            "source_arrow_fill": "hollow",
            "source_arrow_shape": "triangle",
            "target": "equilibrate_CytoCC_to_CytoCA",
            "target_arrow_shape": "triangle"
           }
          },
          {
           "data": {
            "arrowhead": "normal",
            "id": "56471700-d088-4a3f-9989-c00f89b21a9c",
            "source": "s68",
            "source_arrow_fill": "hollow",
            "source_arrow_shape": "triangle",
            "target": "bind_CytoCA_ApafI_to_CytoCAApafI",
            "target_arrow_shape": "triangle"
           }
          },
          {
           "data": {
            "arrowhead": "normal",
            "id": "93b0d219-e8e0-4e29-a9af-caa9b5e0051c",
            "source": "s69",
            "source_arrow_fill": "hollow",
            "source_arrow_shape": "triangle",
            "target": "pore_transport_complex_BaxA_4_CytoCM",
            "target_arrow_shape": "triangle"
           }
          },
          {
           "data": {
            "arrowhead": "normal",
            "id": "ab04df4d-dee8-41c0-a109-8311786397cf",
            "source": "s69",
            "source_arrow_fill": "filled",
            "source_arrow_shape": "none",
            "target": "pore_transport_dissociate_BaxA_4_CytoCC",
            "target_arrow_shape": "triangle"
           }
          },
          {
           "data": {
            "arrowhead": "normal",
            "id": "9f51b2a6-365e-4c7b-bd9b-51f5584ba8e5",
            "source": "s70",
            "source_arrow_fill": "hollow",
            "source_arrow_shape": "triangle",
            "target": "pore_transport_complex_BaxA_4_SmacM",
            "target_arrow_shape": "triangle"
           }
          },
          {
           "data": {
            "arrowhead": "normal",
            "id": "32e0aeea-be77-4f4b-b57a-090cb80a5bbf",
            "source": "s70",
            "source_arrow_fill": "filled",
            "source_arrow_shape": "none",
            "target": "pore_transport_dissociate_BaxA_4_SmacC",
            "target_arrow_shape": "triangle"
           }
          },
          {
           "data": {
            "arrowhead": "normal",
            "id": "c068626c-dd6e-4de1-8560-8a77719d8fd5",
            "source": "s71",
            "source_arrow_fill": "hollow",
            "source_arrow_shape": "triangle",
            "target": "bind_CytoCA_ApafI_to_CytoCAApafI",
            "target_arrow_shape": "triangle"
           }
          },
          {
           "data": {
            "arrowhead": "normal",
            "id": "ba9ec7ef-f39f-4cec-ad54-60fe6b2b0907",
            "source": "s71",
            "source_arrow_fill": "filled",
            "source_arrow_shape": "none",
            "target": "catalyze_CytoCAApafI_to_CytoCA_ApafA",
            "target_arrow_shape": "triangle"
           }
          },
          {
           "data": {
            "arrowhead": "normal",
            "id": "bf330857-845a-41fc-9651-d8f84ecea927",
            "source": "s72",
            "source_arrow_fill": "hollow",
            "source_arrow_shape": "triangle",
            "target": "bind_SmacA_XIAP",
            "target_arrow_shape": "triangle"
           }
          },
          {
           "data": {
            "arrowhead": "normal",
            "id": "80676a53-1f3b-4679-a37c-3f14ba8bee7e",
            "source": "s73",
            "source_arrow_fill": "hollow",
            "source_arrow_shape": "triangle",
            "target": "convert_ApafA_C9_to_Apop",
            "target_arrow_shape": "triangle"
           }
          },
          {
           "data": {
            "arrowhead": "normal",
            "id": "acffed10-6a8c-4293-9cfd-1e2c4d9c8363",
            "source": "s74",
            "source_arrow_fill": "hollow",
            "source_arrow_shape": "triangle",
            "target": "convert_ApafA_C9_to_Apop",
            "target_arrow_shape": "triangle"
           }
          },
          {
           "data": {
            "arrowhead": "normal",
            "id": "0f6c4952-bd9e-446f-8c66-ae6057e3feb8",
            "source": "s74",
            "source_arrow_fill": "hollow",
            "source_arrow_shape": "triangle",
            "target": "bind_Apop_C3pro_to_ApopC3pro",
            "target_arrow_shape": "triangle"
           }
          },
          {
           "data": {
            "arrowhead": "normal",
            "id": "2c5b5c65-d919-4867-9d0f-2930de612103",
            "source": "s74",
            "source_arrow_fill": "hollow",
            "source_arrow_shape": "triangle",
            "target": "bind_Apop_XIAP",
            "target_arrow_shape": "triangle"
           }
          },
          {
           "data": {
            "arrowhead": "normal",
            "id": "3c65760a-0bd0-4ed4-a484-d5e54f61edce",
            "source": "s75",
            "source_arrow_fill": "hollow",
            "source_arrow_shape": "triangle",
            "target": "bind_Apop_C3pro_to_ApopC3pro",
            "target_arrow_shape": "triangle"
           }
          },
          {
           "data": {
            "arrowhead": "normal",
            "id": "3fa7452c-201b-47ac-8de8-5667eba37c02",
            "source": "s75",
            "source_arrow_fill": "filled",
            "source_arrow_shape": "none",
            "target": "catalyze_ApopC3pro_to_Apop_C3A",
            "target_arrow_shape": "triangle"
           }
          },
          {
           "data": {
            "arrowhead": "normal",
            "id": "f5d32d5c-96ed-49c8-b541-e2e0cf230958",
            "source": "s76",
            "source_arrow_fill": "hollow",
            "source_arrow_shape": "triangle",
            "target": "bind_Apop_XIAP",
            "target_arrow_shape": "triangle"
           }
          },
          {
           "data": {
            "arrowhead": "normal",
            "id": "4b2f6373-94c9-4661-850c-89c46d7c2c45",
            "source": "convert_LR_to_DISC",
            "source_arrow_fill": "filled",
            "source_arrow_shape": "none",
            "target": "s25",
            "target_arrow_shape": "triangle"
           }
          },
          {
           "data": {
            "arrowhead": "normal",
            "id": "e785d7ce-1478-4930-9f5d-4a11e0a6d5fe",
            "source": "catalyze_DISCC8pro_to_DISC_C8A",
            "source_arrow_fill": "filled",
            "source_arrow_shape": "none",
            "target": "s25",
            "target_arrow_shape": "triangle"
           }
          },
          {
           "data": {
            "arrowhead": "normal",
            "id": "00eebec0-2f98-49df-821d-f5251adaa9e6",
            "source": "catalyze_DISCC8pro_to_DISC_C8A",
            "source_arrow_fill": "filled",
            "source_arrow_shape": "none",
            "target": "s28",
            "target_arrow_shape": "triangle"
           }
          },
          {
           "data": {
            "arrowhead": "normal",
            "id": "951877bb-0920-485d-88c0-2a202bcf26d4",
            "source": "catalyze_C8ABidU_to_C8A_BidT",
            "source_arrow_fill": "filled",
            "source_arrow_shape": "none",
            "target": "s32",
            "target_arrow_shape": "triangle"
           }
          },
          {
           "data": {
            "arrowhead": "normal",
            "id": "0f6c0d24-84b9-4d83-b7ca-9b8e62bede45",
            "source": "catalyze_C8ABidU_to_C8A_BidT",
            "source_arrow_fill": "filled",
            "source_arrow_shape": "none",
            "target": "s28",
            "target_arrow_shape": "triangle"
           }
          },
          {
           "data": {
            "arrowhead": "normal",
            "id": "f8e08678-39a9-47e2-afbc-2f108455a3f1",
            "source": "catalyze_CytoCAApafI_to_CytoCA_ApafA",
            "source_arrow_fill": "filled",
            "source_arrow_shape": "none",
            "target": "s73",
            "target_arrow_shape": "triangle"
           }
          },
          {
           "data": {
            "arrowhead": "normal",
            "id": "c44ef806-9216-4a31-ab9d-6da258a0fa49",
            "source": "catalyze_CytoCAApafI_to_CytoCA_ApafA",
            "source_arrow_fill": "filled",
            "source_arrow_shape": "none",
            "target": "s68",
            "target_arrow_shape": "triangle"
           }
          },
          {
           "data": {
            "arrowhead": "normal",
            "id": "b2f93ce3-edcb-4e51-93d0-2230e0d82c89",
            "source": "catalyze_ApopC3pro_to_Apop_C3A",
            "source_arrow_fill": "filled",
            "source_arrow_shape": "none",
            "target": "s33",
            "target_arrow_shape": "triangle"
           }
          },
          {
           "data": {
            "arrowhead": "normal",
            "id": "56393aea-707b-4e8f-bc2e-0e89caf4acfc",
            "source": "catalyze_ApopC3pro_to_Apop_C3A",
            "source_arrow_fill": "filled",
            "source_arrow_shape": "none",
            "target": "s74",
            "target_arrow_shape": "triangle"
           }
          },
          {
           "data": {
            "arrowhead": "normal",
            "id": "b58286c8-2dec-45e0-b807-85b2d3e86714",
            "source": "catalyze_C8AC3pro_to_C8A_C3A",
            "source_arrow_fill": "filled",
            "source_arrow_shape": "none",
            "target": "s33",
            "target_arrow_shape": "triangle"
           }
          },
          {
           "data": {
            "arrowhead": "normal",
            "id": "568bf732-312c-49ba-b083-eb5d7dc599a5",
            "source": "catalyze_C8AC3pro_to_C8A_C3A",
            "source_arrow_fill": "filled",
            "source_arrow_shape": "none",
            "target": "s28",
            "target_arrow_shape": "triangle"
           }
          },
          {
           "data": {
            "arrowhead": "normal",
            "id": "87ece3cf-1793-4f76-a8cb-7fd5f0a7e086",
            "source": "catalyze_XIAPC3A_to_XIAP_C3ub",
            "source_arrow_fill": "filled",
            "source_arrow_shape": "none",
            "target": "s10",
            "target_arrow_shape": "triangle"
           }
          },
          {
           "data": {
            "arrowhead": "normal",
            "id": "706a8d51-818e-41b0-a143-a80cc968991c",
            "source": "catalyze_XIAPC3A_to_XIAP_C3ub",
            "source_arrow_fill": "filled",
            "source_arrow_shape": "none",
            "target": "s38",
            "target_arrow_shape": "triangle"
           }
          },
          {
           "data": {
            "arrowhead": "normal",
            "id": "ff713e31-7c42-4a0a-b964-aeb44db7ee0c",
            "source": "catalyze_C3APARPU_to_C3A_PARPC",
            "source_arrow_fill": "filled",
            "source_arrow_shape": "none",
            "target": "s33",
            "target_arrow_shape": "triangle"
           }
          },
          {
           "data": {
            "arrowhead": "normal",
            "id": "b6143ce3-53f2-4464-96ca-7636d0b4b9ef",
            "source": "catalyze_C3APARPU_to_C3A_PARPC",
            "source_arrow_fill": "filled",
            "source_arrow_shape": "none",
            "target": "s39",
            "target_arrow_shape": "triangle"
           }
          },
          {
           "data": {
            "arrowhead": "normal",
            "id": "c0d8d35f-6bc4-496c-8076-3490fe774f1d",
            "source": "catalyze_C3AC6pro_to_C3A_C6A",
            "source_arrow_fill": "filled",
            "source_arrow_shape": "none",
            "target": "s40",
            "target_arrow_shape": "triangle"
           }
          },
          {
           "data": {
            "arrowhead": "normal",
            "id": "f97b93fd-5cbe-4fad-a5da-0fc53fb1bdb1",
            "source": "catalyze_C3AC6pro_to_C3A_C6A",
            "source_arrow_fill": "filled",
            "source_arrow_shape": "none",
            "target": "s33",
            "target_arrow_shape": "triangle"
           }
          },
          {
           "data": {
            "arrowhead": "normal",
            "id": "f2f42ebd-0200-4699-8fde-f820df0cf147",
            "source": "catalyze_C6AC8pro_to_C6A_C8A",
            "source_arrow_fill": "filled",
            "source_arrow_shape": "none",
            "target": "s40",
            "target_arrow_shape": "triangle"
           }
          },
          {
           "data": {
            "arrowhead": "normal",
            "id": "803aecde-bfda-4ac0-b53d-1a26fbef704c",
            "source": "catalyze_C6AC8pro_to_C6A_C8A",
            "source_arrow_fill": "filled",
            "source_arrow_shape": "none",
            "target": "s28",
            "target_arrow_shape": "triangle"
           }
          },
          {
           "data": {
            "arrowhead": "normal",
            "id": "f31d3a88-a55a-43b3-a481-eb32f5702297",
            "source": "catalyze_BidMBaxC_to_BidM_BaxM",
            "source_arrow_fill": "filled",
            "source_arrow_shape": "none",
            "target": "s37",
            "target_arrow_shape": "triangle"
           }
          },
          {
           "data": {
            "arrowhead": "normal",
            "id": "c8f5898f-4681-4599-ae4f-1f9de3e834e8",
            "source": "catalyze_BidMBaxC_to_BidM_BaxM",
            "source_arrow_fill": "filled",
            "source_arrow_shape": "none",
            "target": "s47",
            "target_arrow_shape": "triangle"
           }
          },
          {
           "data": {
            "arrowhead": "normal",
            "id": "122adb9c-7723-4c4a-89d3-68f09da2fdb1",
            "source": "catalyze_BidMBaxM_to_BidM_BaxA",
            "source_arrow_fill": "filled",
            "source_arrow_shape": "none",
            "target": "s37",
            "target_arrow_shape": "triangle"
           }
          },
          {
           "data": {
            "arrowhead": "normal",
            "id": "0c604c0f-4daa-4888-9737-dce947ee2641",
            "source": "catalyze_BidMBaxM_to_BidM_BaxA",
            "source_arrow_fill": "filled",
            "source_arrow_shape": "none",
            "target": "s54",
            "target_arrow_shape": "triangle"
           }
          },
          {
           "data": {
            "arrowhead": "normal",
            "id": "34473344-f41e-4523-b349-f2cbda534978",
            "source": "catalyze_BidMBakM_to_BidM_BakA",
            "source_arrow_fill": "filled",
            "source_arrow_shape": "none",
            "target": "s48",
            "target_arrow_shape": "triangle"
           }
          },
          {
           "data": {
            "arrowhead": "normal",
            "id": "65bbecfe-6091-4ecc-bdcc-44e058bc6212",
            "source": "catalyze_BidMBakM_to_BidM_BakA",
            "source_arrow_fill": "filled",
            "source_arrow_shape": "none",
            "target": "s37",
            "target_arrow_shape": "triangle"
           }
          },
          {
           "data": {
            "arrowhead": "normal",
            "id": "76dfbb09-cea4-479a-bc68-f25094cee4d3",
            "source": "catalyze_BaxABaxM_to_BaxA_BaxA",
            "source_arrow_fill": "filled",
            "source_arrow_shape": "none",
            "target": "s54",
            "target_arrow_shape": "triangle"
           }
          },
          {
           "data": {
            "arrowhead": "normal",
            "id": "02494919-b50c-4f77-b294-f446baee9591",
            "source": "catalyze_BakABakM_to_BakA_BakA",
            "source_arrow_fill": "filled",
            "source_arrow_shape": "none",
            "target": "s48",
            "target_arrow_shape": "triangle"
           }
          },
          {
           "data": {
            "arrowhead": "normal",
            "id": "37cf99a1-515a-454e-8560-53776b273dfb",
            "source": "pore_transport_dissociate_BaxA_4_CytoCC",
            "source_arrow_fill": "filled",
            "source_arrow_shape": "none",
            "target": "s64",
            "target_arrow_shape": "triangle"
           }
          },
          {
           "data": {
            "arrowhead": "normal",
            "id": "9afff552-4061-4b93-8c58-6020f590977d",
            "source": "pore_transport_dissociate_BaxA_4_CytoCC",
            "source_arrow_fill": "filled",
            "source_arrow_shape": "none",
            "target": "s65",
            "target_arrow_shape": "triangle"
           }
          },
          {
           "data": {
            "arrowhead": "normal",
            "id": "85238191-3c09-425b-aed5-591dbd3a996a",
            "source": "pore_transport_dissociate_BaxA_4_SmacC",
            "source_arrow_fill": "filled",
            "source_arrow_shape": "none",
            "target": "s64",
            "target_arrow_shape": "triangle"
           }
          },
          {
           "data": {
            "arrowhead": "normal",
            "id": "4329f8e4-4d99-4618-b9f1-cbc83881b68c",
            "source": "pore_transport_dissociate_BaxA_4_SmacC",
            "source_arrow_fill": "filled",
            "source_arrow_shape": "none",
            "target": "s66",
            "target_arrow_shape": "triangle"
           }
          },
          {
           "data": {
            "arrowhead": "normal",
            "id": "6020809a-4f64-4a5a-8972-468de5eae6e7",
            "source": "pore_transport_dissociate_BakA_4_CytoCC",
            "source_arrow_fill": "filled",
            "source_arrow_shape": "none",
            "target": "s65",
            "target_arrow_shape": "triangle"
           }
          },
          {
           "data": {
            "arrowhead": "normal",
            "id": "6551aa86-2f43-4d04-8453-0c2c96ae0923",
            "source": "pore_transport_dissociate_BakA_4_CytoCC",
            "source_arrow_fill": "filled",
            "source_arrow_shape": "none",
            "target": "s60",
            "target_arrow_shape": "triangle"
           }
          },
          {
           "data": {
            "arrowhead": "normal",
            "id": "03410155-d08e-4f35-a865-5952f1fe7442",
            "source": "pore_transport_dissociate_BakA_4_SmacC",
            "source_arrow_fill": "filled",
            "source_arrow_shape": "none",
            "target": "s66",
            "target_arrow_shape": "triangle"
           }
          },
          {
           "data": {
            "arrowhead": "normal",
            "id": "01337417-7c17-49bc-8432-f8b2839e92b1",
            "source": "pore_transport_dissociate_BakA_4_SmacC",
            "source_arrow_fill": "filled",
            "source_arrow_shape": "none",
            "target": "s60",
            "target_arrow_shape": "triangle"
           }
          }
         ],
         "nodes": [
          {
           "data": {
            "NodeType": "species",
            "background_color": "#aaffff",
            "bipartite": 0,
            "id": "s0",
            "label": "L",
            "name": "s0",
            "shape": "ellipse"
           },
           "position": {
            "x": 130.88093886476952,
            "y": 3298.217463106232
           }
          },
          {
           "data": {
            "NodeType": "species",
            "background_color": "#aaffff",
            "bipartite": 0,
            "id": "s1",
            "label": "R",
            "name": "s1",
            "shape": "ellipse"
           },
           "position": {
            "x": 30.999999999999993,
            "y": 3195.9219954646433
           }
          },
          {
           "data": {
            "NodeType": "species",
            "background_color": "#aaffff",
            "bipartite": 0,
            "id": "s2",
            "label": "flip",
            "name": "s2",
            "shape": "ellipse"
           },
           "position": {
            "x": 447.6818324679605,
            "y": 2239.6220992489566
           }
          },
          {
           "data": {
            "NodeType": "species",
            "background_color": "#aaffff",
            "bipartite": 0,
            "id": "s3",
            "label": "proC8",
            "name": "s3",
            "shape": "ellipse"
           },
           "position": {
            "x": 1148.937479124543,
            "y": 1394.320271910101
           }
          },
          {
           "data": {
            "NodeType": "species",
            "background_color": "#aaffff",
            "bipartite": 0,
            "id": "s4",
            "label": "BAR",
            "name": "s4",
            "shape": "ellipse"
           },
           "position": {
            "x": 1055.4119373511626,
            "y": 782.1854500723557
           }
          },
          {
           "data": {
            "NodeType": "species",
            "background_color": "#aaffff",
            "bipartite": 0,
            "id": "s5",
            "label": "iApaf",
            "name": "s5",
            "shape": "ellipse"
           },
           "position": {
            "x": 948.2459318164542,
            "y": 3645.000212964061
           }
          },
          {
           "data": {
            "NodeType": "species",
            "background_color": "#aaffff",
            "bipartite": 0,
            "id": "s6",
            "label": "proC3",
            "name": "s6",
            "shape": "ellipse"
           },
           "position": {
            "x": 1320.0858391032361,
            "y": 648.437096397086
           }
          },
          {
           "data": {
            "NodeType": "species",
            "background_color": "#aaffff",
            "bipartite": 0,
            "id": "s7",
            "label": "proC6",
            "name": "s7",
            "shape": "ellipse"
           },
           "position": {
            "x": 2184.4840508238185,
            "y": 545.2117263894224
           }
          },
          {
           "data": {
            "NodeType": "species",
            "background_color": "#aaffff",
            "bipartite": 0,
            "id": "s8",
            "label": "C9",
            "name": "s8",
            "shape": "ellipse"
           },
           "position": {
            "x": 1055.3928127751988,
            "y": 3352.9532536945057
           }
          },
          {
           "data": {
            "NodeType": "species",
            "background_color": "#aaffff",
            "bipartite": 0,
            "id": "s9",
            "label": "uPARP",
            "name": "s9",
            "shape": "ellipse"
           },
           "position": {
            "x": 1090.5774521609003,
            "y": 2008.529348152173
           }
          },
          {
           "data": {
            "NodeType": "species",
            "background_color": "#aaffff",
            "bipartite": 0,
            "id": "s10",
            "label": "XIAP",
            "name": "s10",
            "shape": "ellipse"
           },
           "position": {
            "x": 1024.2909817344284,
            "y": 2220.518666535375
           }
          },
          {
           "data": {
            "NodeType": "species",
            "background_color": "#aaffff",
            "bipartite": 0,
            "id": "s11",
            "label": "uBid",
            "name": "s11",
            "shape": "ellipse"
           },
           "position": {
            "x": 2010.4524148712226,
            "y": 472.88229220069024
           }
          },
          {
           "data": {
            "NodeType": "species",
            "background_color": "#aaffff",
            "bipartite": 0,
            "id": "s12",
            "label": "cBax",
            "name": "s12",
            "shape": "ellipse"
           },
           "position": {
            "x": 3116.1946220636833,
            "y": 4292.6151159271185
           }
          },
          {
           "data": {
            "NodeType": "species",
            "background_color": "#aaffff",
            "bipartite": 0,
            "id": "s13",
            "label": "mBak",
            "name": "s13",
            "shape": "ellipse"
           },
           "position": {
            "x": 3681.4241581223564,
            "y": 2722.123788543082
           }
          },
          {
           "data": {
            "NodeType": "species",
            "background_color": "#aaffff",
            "bipartite": 0,
            "id": "s14",
            "label": "mBcl2",
            "name": "s14",
            "shape": "ellipse"
           },
           "position": {
            "x": 2690.1900876498203,
            "y": 5258.1439210193585
           }
          },
          {
           "data": {
            "NodeType": "species",
            "background_color": "#aaffff",
            "bipartite": 0,
            "id": "s15",
            "label": "mBclxL",
            "name": "s15",
            "shape": "ellipse"
           },
           "position": {
            "x": 3504.38738030006,
            "y": 4674.344282204608
           }
          },
          {
           "data": {
            "NodeType": "species",
            "background_color": "#aaffff",
            "bipartite": 0,
            "id": "s16",
            "label": "mMcl1",
            "name": "s16",
            "shape": "ellipse"
           },
           "position": {
            "x": 2786.156275269692,
            "y": 5543.088478156043
           }
          },
          {
           "data": {
            "NodeType": "species",
            "background_color": "#aaffff",
            "bipartite": 0,
            "id": "s17",
            "label": "mBad",
            "name": "s17",
            "shape": "ellipse"
           },
           "position": {
            "x": 2682.5519271772787,
            "y": 5332.047418720686
           }
          },
          {
           "data": {
            "NodeType": "species",
            "background_color": "#aaffff",
            "bipartite": 0,
            "id": "s18",
            "label": "mNoxa",
            "name": "s18",
            "shape": "ellipse"
           },
           "position": {
            "x": 2706.837202502232,
            "y": 6357.699386127671
           }
          },
          {
           "data": {
            "NodeType": "species",
            "background_color": "#aaffff",
            "bipartite": 0,
            "id": "s19",
            "label": "mCytoC",
            "name": "s19",
            "shape": "ellipse"
           },
           "position": {
            "x": 1859.7195445008704,
            "y": 4420.842928626981
           }
          },
          {
           "data": {
            "NodeType": "species",
            "background_color": "#aaffff",
            "bipartite": 0,
            "id": "s20",
            "label": "mSmac",
            "name": "s20",
            "shape": "ellipse"
           },
           "position": {
            "x": 1791.3026535534593,
            "y": 4291.465755308726
           }
          },
          {
           "data": {
            "NodeType": "species",
            "background_color": "#ccffcc",
            "bipartite": 0,
            "id": "s21",
            "label": "L-R",
            "name": "s21",
            "shape": "ellipse"
           },
           "position": {
            "x": 135.21145130234765,
            "y": 2912.712003632448
           }
          },
          {
           "data": {
            "NodeType": "species",
            "background_color": "#ccffcc",
            "bipartite": 0,
            "id": "s22",
            "label": "mBad-mBcl2",
            "name": "s22",
            "shape": "ellipse"
           },
           "position": {
            "x": 2356.6535242572404,
            "y": 5715.04509115625
           }
          },
          {
           "data": {
            "NodeType": "species",
            "background_color": "#ccffcc",
            "bipartite": 0,
            "id": "s23",
            "label": "mBad-mBclxL",
            "name": "s23",
            "shape": "ellipse"
           },
           "position": {
            "x": 2999.887766414975,
            "y": 4495.253466432676
           }
          },
          {
           "data": {
            "NodeType": "species",
            "background_color": "#ccffcc",
            "bipartite": 0,
            "id": "s24",
            "label": "mMcl1-mNoxa",
            "name": "s24",
            "shape": "ellipse"
           },
           "position": {
            "x": 2669.022314744522,
            "y": 6245.2533046867475
           }
          },
          {
           "data": {
            "NodeType": "species",
            "background_color": "#ccffcc",
            "bipartite": 0,
            "id": "s25",
            "label": "DISC",
            "name": "s25",
            "shape": "ellipse"
           },
           "position": {
            "x": 596.3143787133694,
            "y": 3086.7347198851708
           }
          },
          {
           "data": {
            "NodeType": "species",
            "background_color": "#ccffcc",
            "bipartite": 0,
            "id": "s26",
            "label": "proC8-DISC",
            "name": "s26",
            "shape": "ellipse"
           },
           "position": {
            "x": 1083.226346245579,
            "y": 3252.1994702632423
           }
          },
          {
           "data": {
            "NodeType": "species",
            "background_color": "#ccffcc",
            "bipartite": 0,
            "id": "s27",
            "label": "DISC-flip",
            "name": "s27",
            "shape": "ellipse"
           },
           "position": {
            "x": 309.9799209028697,
            "y": 2004.863884206744
           }
          },
          {
           "data": {
            "NodeType": "species",
            "background_color": "#ccffcc",
            "bipartite": 0,
            "id": "s28",
            "label": "aC8",
            "name": "s28",
            "shape": "ellipse"
           },
           "position": {
            "x": 1093.4850716312917,
            "y": 1601.3901904062259
           }
          },
          {
           "data": {
            "NodeType": "species",
            "background_color": "#ccffcc",
            "bipartite": 0,
            "id": "s29",
            "label": "uBid-aC8",
            "name": "s29",
            "shape": "ellipse"
           },
           "position": {
            "x": 1111.3594248047448,
            "y": 1868.04095700495
           }
          },
          {
           "data": {
            "NodeType": "species",
            "background_color": "#ccffcc",
            "bipartite": 0,
            "id": "s30",
            "label": "BAR-aC8",
            "name": "s30",
            "shape": "ellipse"
           },
           "position": {
            "x": 1074.2070638647883,
            "y": 858.2317043292787
           }
          },
          {
           "data": {
            "NodeType": "species",
            "background_color": "#ccffcc",
            "bipartite": 0,
            "id": "s31",
            "label": "proC3-aC8",
            "name": "s31",
            "shape": "ellipse"
           },
           "position": {
            "x": 2400.343542229581,
            "y": 598.4231722331715
           }
          },
          {
           "data": {
            "NodeType": "species",
            "background_color": "#ccffcc",
            "bipartite": 0,
            "id": "s32",
            "label": "tBid",
            "name": "s32",
            "shape": "ellipse"
           },
           "position": {
            "x": 1580.912109038105,
            "y": 4068.8423895041183
           }
          },
          {
           "data": {
            "NodeType": "species",
            "background_color": "#ccffcc",
            "bipartite": 0,
            "id": "s33",
            "label": "aC3",
            "name": "s33",
            "shape": "ellipse"
           },
           "position": {
            "x": 1956.1665567383172,
            "y": 623.2445358976493
           }
          },
          {
           "data": {
            "NodeType": "species",
            "background_color": "#ccffcc",
            "bipartite": 0,
            "id": "s34",
            "label": "aC3-XIAP",
            "name": "s34",
            "shape": "ellipse"
           },
           "position": {
            "x": 1075.2199780482474,
            "y": 2163.2206298762017
           }
          },
          {
           "data": {
            "NodeType": "species",
            "background_color": "#ccffcc",
            "bipartite": 0,
            "id": "s35",
            "label": "aC3-uPARP",
            "name": "s35",
            "shape": "ellipse"
           },
           "position": {
            "x": 1088.3508867679457,
            "y": 2072.44290800319
           }
          },
          {
           "data": {
            "NodeType": "species",
            "background_color": "#ccffcc",
            "bipartite": 0,
            "id": "s36",
            "label": "aC3-proC6",
            "name": "s36",
            "shape": "ellipse"
           },
           "position": {
            "x": 2440.8657760445876,
            "y": 461.9089597834136
           }
          },
          {
           "data": {
            "NodeType": "species",
            "background_color": "#ccffcc",
            "bipartite": 0,
            "id": "s37",
            "label": "mBid",
            "name": "s37",
            "shape": "ellipse"
           },
           "position": {
            "x": 2785.9605869514417,
            "y": 4442.032584769485
           }
          },
          {
           "data": {
            "NodeType": "species",
            "background_color": "#ccffcc",
            "bipartite": 0,
            "id": "s38",
            "label": "ubC3",
            "name": "s38",
            "shape": "ellipse"
           },
           "position": {
            "x": 1133.3765868325065,
            "y": 3321.0721221584254
           }
          },
          {
           "data": {
            "NodeType": "species",
            "background_color": "#ccffcc",
            "bipartite": 0,
            "id": "s39",
            "label": "cPARP",
            "name": "s39",
            "shape": "ellipse"
           },
           "position": {
            "x": 1526.9301169745922,
            "y": 450.0752580532062
           }
          },
          {
           "data": {
            "NodeType": "species",
            "background_color": "#ccffcc",
            "bipartite": 0,
            "id": "s40",
            "label": "aC6",
            "name": "s40",
            "shape": "ellipse"
           },
           "position": {
            "x": 2294.0300035317705,
            "y": 497.94677731897355
           }
          },
          {
           "data": {
            "NodeType": "species",
            "background_color": "#ccffcc",
            "bipartite": 0,
            "id": "s41",
            "label": "cBax-mBid",
            "name": "s41",
            "shape": "ellipse"
           },
           "position": {
            "x": 3666.1584841012686,
            "y": 3789.4325477564216
           }
          },
          {
           "data": {
            "NodeType": "species",
            "background_color": "#ccffcc",
            "bipartite": 0,
            "id": "s42",
            "label": "mBak-mBid",
            "name": "s42",
            "shape": "ellipse"
           },
           "position": {
            "x": 4078.017434622558,
            "y": 3349.870439953991
           }
          },
          {
           "data": {
            "NodeType": "species",
            "background_color": "#ccffcc",
            "bipartite": 0,
            "id": "s43",
            "label": "mBcl2-mBid",
            "name": "s43",
            "shape": "ellipse"
           },
           "position": {
            "x": 2870.0395483931443,
            "y": 4494.222505705202
           }
          },
          {
           "data": {
            "NodeType": "species",
            "background_color": "#ccffcc",
            "bipartite": 0,
            "id": "s44",
            "label": "mBclxL-mBid",
            "name": "s44",
            "shape": "ellipse"
           },
           "position": {
            "x": 3122.247224693318,
            "y": 4490.109790289838
           }
          },
          {
           "data": {
            "NodeType": "species",
            "background_color": "#ccffcc",
            "bipartite": 0,
            "id": "s45",
            "label": "mBid-mMcl1",
            "name": "s45",
            "shape": "ellipse"
           },
           "position": {
            "x": 2755.1957840400637,
            "y": 4497.794929463271
           }
          },
          {
           "data": {
            "NodeType": "species",
            "background_color": "#ccffcc",
            "bipartite": 0,
            "id": "s46",
            "label": "aC6-proC8",
            "name": "s46",
            "shape": "ellipse"
           },
           "position": {
            "x": 2562.451122797599,
            "y": 551.8331539070405
           }
          },
          {
           "data": {
            "NodeType": "species",
            "background_color": "#ccffcc",
            "bipartite": 0,
            "id": "s47",
            "label": "mBax",
            "name": "s47",
            "shape": "ellipse"
           },
           "position": {
            "x": 3658.323447238008,
            "y": 2957.255391362317
           }
          },
          {
           "data": {
            "NodeType": "species",
            "background_color": "#ccffcc",
            "bipartite": 0,
            "id": "s48",
            "label": "aBak",
            "name": "s48",
            "shape": "ellipse"
           },
           "position": {
            "x": 3657.2851039994557,
            "y": 4541.180483265856
           }
          },
          {
           "data": {
            "NodeType": "species",
            "background_color": "#ccffcc",
            "bipartite": 0,
            "id": "s49",
            "label": "mBax-mBid",
            "name": "s49",
            "shape": "ellipse"
           },
           "position": {
            "x": 3905.575868400828,
            "y": 3416.64135081315
           }
          },
          {
           "data": {
            "NodeType": "species",
            "background_color": "#ccffcc",
            "bipartite": 0,
            "id": "s50",
            "label": "aBak-mBak",
            "name": "s50",
            "shape": "ellipse"
           },
           "position": {
            "x": 4177.730763347632,
            "y": 3017.2090257118653
           }
          },
          {
           "data": {
            "NodeType": "species",
            "background_color": "#ccffcc",
            "bipartite": 0,
            "id": "s51",
            "label": "aBak-mBclxL",
            "name": "s51",
            "shape": "ellipse"
           },
           "position": {
            "x": 3789.8017169306368,
            "y": 5570.201292273925
           }
          },
          {
           "data": {
            "NodeType": "species",
            "background_color": "#ccffcc",
            "bipartite": 0,
            "id": "s52",
            "label": "aBak-mMcl1",
            "name": "s52",
            "shape": "ellipse"
           },
           "position": {
            "x": 3718.0193514965417,
            "y": 5645.594476654603
           }
          },
          {
           "data": {
            "NodeType": "species",
            "background_color": "#ccffcc",
            "bipartite": 0,
            "id": "s53",
            "label": "2aBak",
            "name": "s53",
            "shape": "ellipse"
           },
           "position": {
            "x": 4750.3514896123015,
            "y": 5089.632066792629
           }
          },
          {
           "data": {
            "NodeType": "species",
            "background_color": "#ccffcc",
            "bipartite": 0,
            "id": "s54",
            "label": "aBax",
            "name": "s54",
            "shape": "ellipse"
           },
           "position": {
            "x": 3661.8127188718786,
            "y": 4462.936063835374
           }
          },
          {
           "data": {
            "NodeType": "species",
            "background_color": "#ccffcc",
            "bipartite": 0,
            "id": "s55",
            "label": "3aBak",
            "name": "s55",
            "shape": "ellipse"
           },
           "position": {
            "x": 3722.2778550385055,
            "y": 5468.666201677681
           }
          },
          {
           "data": {
            "NodeType": "species",
            "background_color": "#ccffcc",
            "bipartite": 0,
            "id": "s56",
            "label": "aBax-mBax",
            "name": "s56",
            "shape": "ellipse"
           },
           "position": {
            "x": 3748.9129232378027,
            "y": 2801.4202495642576
           }
          },
          {
           "data": {
            "NodeType": "species",
            "background_color": "#ccffcc",
            "bipartite": 0,
            "id": "s57",
            "label": "aBax-mBcl2",
            "name": "s57",
            "shape": "ellipse"
           },
           "position": {
            "x": 2989.012320074408,
            "y": 4558.369524957892
           }
          },
          {
           "data": {
            "NodeType": "species",
            "background_color": "#ccffcc",
            "bipartite": 0,
            "id": "s58",
            "label": "aBax-mBclxL",
            "name": "s58",
            "shape": "ellipse"
           },
           "position": {
            "x": 3710.0229781569246,
            "y": 5581.947972839433
           }
          },
          {
           "data": {
            "NodeType": "species",
            "background_color": "#ccffcc",
            "bipartite": 0,
            "id": "s59",
            "label": "2aBax",
            "name": "s59",
            "shape": "ellipse"
           },
           "position": {
            "x": 5072.937099041881,
            "y": 4503.367273929229
           }
          },
          {
           "data": {
            "NodeType": "species",
            "background_color": "#ccffcc",
            "bipartite": 0,
            "id": "s60",
            "label": "4aBak",
            "name": "s60",
            "shape": "ellipse"
           },
           "position": {
            "x": 2906.6829004261467,
            "y": 4572.806464755282
           }
          },
          {
           "data": {
            "NodeType": "species",
            "background_color": "#ccffcc",
            "bipartite": 0,
            "id": "s61",
            "label": "3aBax",
            "name": "s61",
            "shape": "ellipse"
           },
           "position": {
            "x": 4686.74021408664,
            "y": 4003.3260470302766
           }
          },
          {
           "data": {
            "NodeType": "species",
            "background_color": "#ccffcc",
            "bipartite": 0,
            "id": "s62",
            "label": "4aBak-mCytoC",
            "name": "s62",
            "shape": "ellipse"
           },
           "position": {
            "x": 1826.4668017122854,
            "y": 5228.518053823851
           }
          },
          {
           "data": {
            "NodeType": "species",
            "background_color": "#ccffcc",
            "bipartite": 0,
            "id": "s63",
            "label": "4aBak-mSmac",
            "name": "s63",
            "shape": "ellipse"
           },
           "position": {
            "x": 1444.624768720451,
            "y": 4732.919392739151
           }
          },
          {
           "data": {
            "NodeType": "species",
            "background_color": "#ccffcc",
            "bipartite": 0,
            "id": "s64",
            "label": "4aBax",
            "name": "s64",
            "shape": "ellipse"
           },
           "position": {
            "x": 3240.8768609000554,
            "y": 4405.391371023961
           }
          },
          {
           "data": {
            "NodeType": "species",
            "background_color": "#ccffcc",
            "bipartite": 0,
            "id": "s65",
            "label": "cCytoC",
            "name": "s65",
            "shape": "ellipse"
           },
           "position": {
            "x": 1583.5424702793916,
            "y": 4625.960233700509
           }
          },
          {
           "data": {
            "NodeType": "species",
            "background_color": "#ccffcc",
            "bipartite": 0,
            "id": "s66",
            "label": "cSmac",
            "name": "s66",
            "shape": "ellipse"
           },
           "position": {
            "x": 1472.4537761612078,
            "y": 4276.215824010459
           }
          },
          {
           "data": {
            "NodeType": "species",
            "background_color": "#ccffcc",
            "bipartite": 0,
            "id": "s67",
            "label": "aSmac",
            "name": "s67",
            "shape": "ellipse"
           },
           "position": {
            "x": 924.8620337772833,
            "y": 3493.6799531194047
           }
          },
          {
           "data": {
            "NodeType": "species",
            "background_color": "#ccffcc",
            "bipartite": 0,
            "id": "s68",
            "label": "aCytoC",
            "name": "s68",
            "shape": "ellipse"
           },
           "position": {
            "x": 1358.3222957878277,
            "y": 4298.969022482729
           }
          },
          {
           "data": {
            "NodeType": "species",
            "background_color": "#ccffcc",
            "bipartite": 0,
            "id": "s69",
            "label": "4aBax-mCytoC",
            "name": "s69",
            "shape": "ellipse"
           },
           "position": {
            "x": 2270.911438751712,
            "y": 5126.309696994501
           }
          },
          {
           "data": {
            "NodeType": "species",
            "background_color": "#ccffcc",
            "bipartite": 0,
            "id": "s70",
            "label": "4aBax-mSmac",
            "name": "s70",
            "shape": "ellipse"
           },
           "position": {
            "x": 1769.0580055576493,
            "y": 4634.623926912502
           }
          },
          {
           "data": {
            "NodeType": "species",
            "background_color": "#ccffcc",
            "bipartite": 0,
            "id": "s71",
            "label": "iApaf-aCytoC",
            "name": "s71",
            "shape": "ellipse"
           },
           "position": {
            "x": 862.8377415039349,
            "y": 3647.0117627185978
           }
          },
          {
           "data": {
            "NodeType": "species",
            "background_color": "#ccffcc",
            "bipartite": 0,
            "id": "s72",
            "label": "aSmac-XIAP",
            "name": "s72",
            "shape": "ellipse"
           },
           "position": {
            "x": 529.3050669143638,
            "y": 3359.321684570221
           }
          },
          {
           "data": {
            "NodeType": "species",
            "background_color": "#ccffcc",
            "bipartite": 0,
            "id": "s73",
            "label": "aApaf",
            "name": "s73",
            "shape": "ellipse"
           },
           "position": {
            "x": 1059.439561495772,
            "y": 3432.2788153507604
           }
          },
          {
           "data": {
            "NodeType": "species",
            "background_color": "#ccffcc",
            "bipartite": 0,
            "id": "s74",
            "label": "Apop",
            "name": "s74",
            "shape": "ellipse"
           },
           "position": {
            "x": 1089.053888715539,
            "y": 2372.354121208977
           }
          },
          {
           "data": {
            "NodeType": "species",
            "background_color": "#ccffcc",
            "bipartite": 0,
            "id": "s75",
            "label": "Apop-proC3",
            "name": "s75",
            "shape": "ellipse"
           },
           "position": {
            "x": 1083.7609322059657,
            "y": 2296.3277439985814
           }
          },
          {
           "data": {
            "NodeType": "species",
            "background_color": "#ccffcc",
            "bipartite": 0,
            "id": "s76",
            "label": "Apop-XIAP",
            "name": "s76",
            "shape": "ellipse"
           },
           "position": {
            "x": 1101.3956357149252,
            "y": 1938.055267267001
           }
          },
          {
           "data": {
            "NodeType": "rule",
            "background_color": "#ff4c4c",
            "bipartite": 1,
            "id": "bind_L_R_to_LR",
            "label": "bind_L_R_to_LR",
            "name": "bind_L_R_to_LR",
            "parent": "catalyze_convert",
            "shape": "roundrectangle"
           },
           "position": {
            "x": 237.51838535295462,
            "y": 3109.3124626527483
           }
          },
          {
           "data": {
            "NodeType": "rule",
            "background_color": "#ff4c4c",
            "bipartite": 1,
            "id": "convert_LR_to_DISC",
            "label": "convert_LR_to_DISC",
            "name": "convert_LR_to_DISC",
            "parent": "catalyze_convert",
            "shape": "roundrectangle"
           },
           "position": {
            "x": 396.93876107095303,
            "y": 2975.14913514001
           }
          },
          {
           "data": {
            "NodeType": "rule",
            "background_color": "#ff4c4c",
            "bipartite": 1,
            "id": "bind_DISC_C8pro_to_DISCC8pro",
            "label": "bind_DISC_C8pro_to_DISCC8pro",
            "name": "bind_DISC_C8pro_to_DISCC8pro",
            "parent": "catalyze",
            "shape": "roundrectangle"
           },
           "position": {
            "x": 1341.337762665811,
            "y": 2350.383909091892
           }
          },
          {
           "data": {
            "NodeType": "rule",
            "background_color": "#ff4c4c",
            "bipartite": 1,
            "id": "catalyze_DISCC8pro_to_DISC_C8A",
            "label": "catalyze_DISCC8pro_to_DISC_C8A",
            "name": "catalyze_DISCC8pro_to_DISC_C8A",
            "parent": "catalyze",
            "shape": "roundrectangle"
           },
           "position": {
            "x": 1351.5392661005667,
            "y": 2428.3266291633754
           }
          },
          {
           "data": {
            "NodeType": "rule",
            "background_color": "#ff4c4c",
            "bipartite": 1,
            "id": "bind_C8A_BidU_to_C8ABidU",
            "label": "bind_C8A_BidU_to_C8ABidU",
            "name": "bind_C8A_BidU_to_C8ABidU",
            "parent": "catalyze",
            "shape": "roundrectangle"
           },
           "position": {
            "x": 1837.8801035712115,
            "y": 1307.0111694802072
           }
          },
          {
           "data": {
            "NodeType": "rule",
            "background_color": "#ff4c4c",
            "bipartite": 1,
            "id": "catalyze_C8ABidU_to_C8A_BidT",
            "label": "catalyze_C8ABidU_to_C8A_BidT",
            "name": "catalyze_C8ABidU_to_C8A_BidT",
            "parent": "catalyze",
            "shape": "roundrectangle"
           },
           "position": {
            "x": 1363.6062782234276,
            "y": 2762.0797050964493
           }
          },
          {
           "data": {
            "NodeType": "rule",
            "background_color": "#ff4c4c",
            "bipartite": 1,
            "id": "bind_DISC_flip",
            "label": "bind_DISC_flip",
            "name": "bind_DISC_flip",
            "parent": "bind",
            "shape": "roundrectangle"
           },
           "position": {
            "x": 594.6302909313163,
            "y": 2047.5502800643176
           }
          },
          {
           "data": {
            "NodeType": "rule",
            "background_color": "#ff4c4c",
            "bipartite": 1,
            "id": "bind_BAR_C8A",
            "label": "bind_BAR_C8A",
            "name": "bind_BAR_C8A",
            "parent": "bind",
            "shape": "roundrectangle"
           },
           "position": {
            "x": 886.6923459476092,
            "y": 1051.6681842072185
           }
          },
          {
           "data": {
            "NodeType": "rule",
            "background_color": "#ff4c4c",
            "bipartite": 1,
            "id": "equilibrate_SmacC_to_SmacA",
            "label": "equilibrate_SmacC_to_SmacA",
            "name": "equilibrate_SmacC_to_SmacA",
            "parent": "pore_to_parp",
            "shape": "roundrectangle"
           },
           "position": {
            "x": 963.5859922039842,
            "y": 4157.01725923245
           }
          },
          {
           "data": {
            "NodeType": "rule",
            "background_color": "#ff4c4c",
            "bipartite": 1,
            "id": "equilibrate_CytoCC_to_CytoCA",
            "label": "equilibrate_CytoCC_to_CytoCA",
            "name": "equilibrate_CytoCC_to_CytoCA",
            "parent": "pore_to_parp",
            "shape": "roundrectangle"
           },
           "position": {
            "x": 1117.6064265860678,
            "y": 4682.406678581672
           }
          },
          {
           "data": {
            "NodeType": "rule",
            "background_color": "#ff4c4c",
            "bipartite": 1,
            "id": "bind_CytoCA_ApafI_to_CytoCAApafI",
            "label": "bind_CytoCA_ApafI_to_CytoCAApafI",
            "name": "bind_CytoCA_ApafI_to_CytoCAApafI",
            "parent": "catalyze",
            "shape": "roundrectangle"
           },
           "position": {
            "x": 1834.9189696415492,
            "y": 3456.507628212649
           }
          },
          {
           "data": {
            "NodeType": "rule",
            "background_color": "#ff4c4c",
            "bipartite": 1,
            "id": "catalyze_CytoCAApafI_to_CytoCA_ApafA",
            "label": "catalyze_CytoCAApafI_to_CytoCA_ApafA",
            "name": "catalyze_CytoCAApafI_to_CytoCA_ApafA",
            "parent": "catalyze",
            "shape": "roundrectangle"
           },
           "position": {
            "x": 1942.1395807355507,
            "y": 3552.3512324113804
           }
          },
          {
           "data": {
            "NodeType": "rule",
            "background_color": "#ff4c4c",
            "bipartite": 1,
            "id": "convert_ApafA_C9_to_Apop",
            "label": "convert_ApafA_C9_to_Apop",
            "name": "convert_ApafA_C9_to_Apop",
            "parent": "one_step_conv",
            "shape": "roundrectangle"
           },
           "position": {
            "x": 1107.1050318988173,
            "y": 3165.5650053213126
           }
          },
          {
           "data": {
            "NodeType": "rule",
            "background_color": "#ff4c4c",
            "bipartite": 1,
            "id": "bind_Apop_C3pro_to_ApopC3pro",
            "label": "bind_Apop_C3pro_to_ApopC3pro",
            "name": "bind_Apop_C3pro_to_ApopC3pro",
            "parent": "catalyze",
            "shape": "roundrectangle"
           },
           "position": {
            "x": 1342.7197553043468,
            "y": 1522.4378248053972
           }
          },
          {
           "data": {
            "NodeType": "rule",
            "background_color": "#ff4c4c",
            "bipartite": 1,
            "id": "catalyze_ApopC3pro_to_Apop_C3A",
            "label": "catalyze_ApopC3pro_to_Apop_C3A",
            "name": "catalyze_ApopC3pro_to_Apop_C3A",
            "parent": "catalyze",
            "shape": "roundrectangle"
           },
           "position": {
            "x": 1581.7050962325345,
            "y": 1472.5938753194332
           }
          },
          {
           "data": {
            "NodeType": "rule",
            "background_color": "#ff4c4c",
            "bipartite": 1,
            "id": "bind_Apop_XIAP",
            "label": "bind_Apop_XIAP",
            "name": "bind_Apop_XIAP",
            "parent": "bind",
            "shape": "roundrectangle"
           },
           "position": {
            "x": 966.6551927445503,
            "y": 1713.98648191571
           }
          },
          {
           "data": {
            "NodeType": "rule",
            "background_color": "#ff4c4c",
            "bipartite": 1,
            "id": "bind_SmacA_XIAP",
            "label": "bind_SmacA_XIAP",
            "name": "bind_SmacA_XIAP",
            "parent": "bind",
            "shape": "roundrectangle"
           },
           "position": {
            "x": 753.23522883613,
            "y": 2553.831815792782
           }
          },
          {
           "data": {
            "NodeType": "rule",
            "background_color": "#ff4c4c",
            "bipartite": 1,
            "id": "bind_C8A_C3pro_to_C8AC3pro",
            "label": "bind_C8A_C3pro_to_C8AC3pro",
            "name": "bind_C8A_C3pro_to_C8AC3pro",
            "parent": "catalyze",
            "shape": "roundrectangle"
           },
           "position": {
            "x": 1949.5842927769445,
            "y": 1308.028632829035
           }
          },
          {
           "data": {
            "NodeType": "rule",
            "background_color": "#ff4c4c",
            "bipartite": 1,
            "id": "catalyze_C8AC3pro_to_C8A_C3A",
            "label": "catalyze_C8AC3pro_to_C8A_C3A",
            "name": "catalyze_C8AC3pro_to_C8A_C3A",
            "parent": "catalyze",
            "shape": "roundrectangle"
           },
           "position": {
            "x": 1945.9731249904942,
            "y": 1394.0735260193105
           }
          },
          {
           "data": {
            "NodeType": "rule",
            "background_color": "#ff4c4c",
            "bipartite": 1,
            "id": "bind_XIAP_C3A_to_XIAPC3A",
            "label": "bind_XIAP_C3A_to_XIAPC3A",
            "name": "bind_XIAP_C3A_to_XIAPC3A",
            "parent": "catalyze",
            "shape": "roundrectangle"
           },
           "position": {
            "x": 1326.901932956131,
            "y": 1331.2068176186558
           }
          },
          {
           "data": {
            "NodeType": "rule",
            "background_color": "#ff4c4c",
            "bipartite": 1,
            "id": "catalyze_XIAPC3A_to_XIAP_C3ub",
            "label": "catalyze_XIAPC3A_to_XIAP_C3ub",
            "name": "catalyze_XIAPC3A_to_XIAP_C3ub",
            "parent": "catalyze",
            "shape": "roundrectangle"
           },
           "position": {
            "x": 1783.6009155495517,
            "y": 2647.866767122386
           }
          },
          {
           "data": {
            "NodeType": "rule",
            "background_color": "#ff4c4c",
            "bipartite": 1,
            "id": "bind_C3A_PARPU_to_C3APARPU",
            "label": "bind_C3A_PARPU_to_C3APARPU",
            "name": "bind_C3A_PARPU_to_C3APARPU",
            "parent": "catalyze",
            "shape": "roundrectangle"
           },
           "position": {
            "x": 1668.0221621158316,
            "y": 1370.4331073950807
           }
          },
          {
           "data": {
            "NodeType": "rule",
            "background_color": "#ff4c4c",
            "bipartite": 1,
            "id": "catalyze_C3APARPU_to_C3A_PARPC",
            "label": "catalyze_C3APARPU_to_C3A_PARPC",
            "name": "catalyze_C3APARPU_to_C3A_PARPC",
            "parent": "catalyze",
            "shape": "roundrectangle"
           },
           "position": {
            "x": 1578.43954817911,
            "y": 1310.535812057482
           }
          },
          {
           "data": {
            "NodeType": "rule",
            "background_color": "#ff4c4c",
            "bipartite": 1,
            "id": "bind_C3A_C6pro_to_C3AC6pro",
            "label": "bind_C3A_C6pro_to_C3AC6pro",
            "name": "bind_C3A_C6pro_to_C3AC6pro",
            "parent": "catalyze",
            "shape": "roundrectangle"
           },
           "position": {
            "x": 2598.22835020497,
            "y": 1302.8151858543151
           }
          },
          {
           "data": {
            "NodeType": "rule",
            "background_color": "#ff4c4c",
            "bipartite": 1,
            "id": "catalyze_C3AC6pro_to_C3A_C6A",
            "label": "catalyze_C3AC6pro_to_C3A_C6A",
            "name": "catalyze_C3AC6pro_to_C3A_C6A",
            "parent": "catalyze",
            "shape": "roundrectangle"
           },
           "position": {
            "x": 2411.4836140063817,
            "y": 1351.525283321238
           }
          },
          {
           "data": {
            "NodeType": "rule",
            "background_color": "#ff4c4c",
            "bipartite": 1,
            "id": "bind_C6A_C8pro_to_C6AC8pro",
            "label": "bind_C6A_C8pro_to_C6AC8pro",
            "name": "bind_C6A_C8pro_to_C6AC8pro",
            "parent": "catalyze",
            "shape": "roundrectangle"
           },
           "position": {
            "x": 2190.7278237715223,
            "y": 1299.175844671312
           }
          },
          {
           "data": {
            "NodeType": "rule",
            "background_color": "#ff4c4c",
            "bipartite": 1,
            "id": "catalyze_C6AC8pro_to_C6A_C8A",
            "label": "catalyze_C6AC8pro_to_C6A_C8A",
            "name": "catalyze_C6AC8pro_to_C6A_C8A",
            "parent": "catalyze",
            "shape": "roundrectangle"
           },
           "position": {
            "x": 2110.516890899674,
            "y": 1343.090508012754
           }
          },
          {
           "data": {
            "NodeType": "rule",
            "background_color": "#ff4c4c",
            "bipartite": 1,
            "id": "equilibrate_BidT_to_BidM",
            "label": "equilibrate_BidT_to_BidM",
            "name": "equilibrate_BidT_to_BidM",
            "parent": "translocate_tBid_Bax_BclxL",
            "shape": "roundrectangle"
           },
           "position": {
            "x": 2096.0099881668425,
            "y": 4248.697522217462
           }
          },
          {
           "data": {
            "NodeType": "rule",
            "background_color": "#ff4c4c",
            "bipartite": 1,
            "id": "bind_BidM_BaxC_to_BidMBaxC",
            "label": "bind_BidM_BaxC_to_BidMBaxC",
            "name": "bind_BidM_BaxC_to_BidMBaxC",
            "parent": "catalyze",
            "shape": "roundrectangle"
           },
           "position": {
            "x": 2685.779465816391,
            "y": 3542.2486388013294
           }
          },
          {
           "data": {
            "NodeType": "rule",
            "background_color": "#ff4c4c",
            "bipartite": 1,
            "id": "catalyze_BidMBaxC_to_BidM_BaxM",
            "label": "catalyze_BidMBaxC_to_BidM_BaxM",
            "name": "catalyze_BidMBaxC_to_BidM_BaxM",
            "parent": "catalyze",
            "shape": "roundrectangle"
           },
           "position": {
            "x": 2858.560259308533,
            "y": 3453.040956166081
           }
          },
          {
           "data": {
            "NodeType": "rule",
            "background_color": "#ff4c4c",
            "bipartite": 1,
            "id": "bind_BidM_BaxM_to_BidMBaxM",
            "label": "bind_BidM_BaxM_to_BidMBaxM",
            "name": "bind_BidM_BaxM_to_BidMBaxM",
            "parent": "catalyze",
            "shape": "roundrectangle"
           },
           "position": {
            "x": 2935.3373771064403,
            "y": 3522.2429234372576
           }
          },
          {
           "data": {
            "NodeType": "rule",
            "background_color": "#ff4c4c",
            "bipartite": 1,
            "id": "catalyze_BidMBaxM_to_BidM_BaxA",
            "label": "catalyze_BidMBaxM_to_BidM_BaxA",
            "name": "catalyze_BidMBaxM_to_BidM_BaxA",
            "parent": "catalyze",
            "shape": "roundrectangle"
           },
           "position": {
            "x": 2912.292401873602,
            "y": 3591.7535419814303
           }
          },
          {
           "data": {
            "NodeType": "rule",
            "background_color": "#ff4c4c",
            "bipartite": 1,
            "id": "bind_BidM_BakM_to_BidMBakM",
            "label": "bind_BidM_BakM_to_BidMBakM",
            "name": "bind_BidM_BakM_to_BidMBakM",
            "parent": "catalyze",
            "shape": "roundrectangle"
           },
           "position": {
            "x": 3153.1191994776855,
            "y": 3471.8383464388203
           }
          },
          {
           "data": {
            "NodeType": "rule",
            "background_color": "#ff4c4c",
            "bipartite": 1,
            "id": "catalyze_BidMBakM_to_BidM_BakA",
            "label": "catalyze_BidMBakM_to_BidM_BakA",
            "name": "catalyze_BidMBakM_to_BidM_BakA",
            "parent": "catalyze",
            "shape": "roundrectangle"
           },
           "position": {
            "x": 3099.377184595882,
            "y": 3593.2825321539285
           }
          },
          {
           "data": {
            "NodeType": "rule",
            "background_color": "#ff4c4c",
            "bipartite": 1,
            "id": "bind_BaxA_BaxM_to_BaxABaxM",
            "label": "bind_BaxA_BaxM_to_BaxABaxM",
            "name": "bind_BaxA_BaxM_to_BaxABaxM",
            "parent": "catalyze",
            "shape": "roundrectangle"
           },
           "position": {
            "x": 3227.545123086013,
            "y": 3589.2034422419206
           }
          },
          {
           "data": {
            "NodeType": "rule",
            "background_color": "#ff4c4c",
            "bipartite": 1,
            "id": "catalyze_BaxABaxM_to_BaxA_BaxA",
            "label": "catalyze_BaxABaxM_to_BaxA_BaxA",
            "name": "catalyze_BaxABaxM_to_BaxA_BaxA",
            "parent": "catalyze",
            "shape": "roundrectangle"
           },
           "position": {
            "x": 3390.878441266459,
            "y": 3543.8377344404935
           }
          },
          {
           "data": {
            "NodeType": "rule",
            "background_color": "#ff4c4c",
            "bipartite": 1,
            "id": "bind_BakA_BakM_to_BakABakM",
            "label": "bind_BakA_BakM_to_BakABakM",
            "name": "bind_BakA_BakM_to_BakABakM",
            "parent": "catalyze",
            "shape": "roundrectangle"
           },
           "position": {
            "x": 3435.883610681433,
            "y": 3489.227785089085
           }
          },
          {
           "data": {
            "NodeType": "rule",
            "background_color": "#ff4c4c",
            "bipartite": 1,
            "id": "catalyze_BakABakM_to_BakA_BakA",
            "label": "catalyze_BakABakM_to_BakA_BakA",
            "name": "catalyze_BakABakM_to_BakA_BakA",
            "parent": "catalyze",
            "shape": "roundrectangle"
           },
           "position": {
            "x": 3422.995267864806,
            "y": 3544.5202867129647
           }
          },
          {
           "data": {
            "NodeType": "rule",
            "background_color": "#ff4c4c",
            "bipartite": 1,
            "id": "bind_BidM_Bcl2M",
            "label": "bind_BidM_Bcl2M",
            "name": "bind_BidM_Bcl2M",
            "parent": "bind_table",
            "shape": "roundrectangle"
           },
           "position": {
            "x": 2959.7627099963743,
            "y": 5045.076459534292
           }
          },
          {
           "data": {
            "NodeType": "rule",
            "background_color": "#ff4c4c",
            "bipartite": 1,
            "id": "bind_BidM_BclxLM",
            "label": "bind_BidM_BclxLM",
            "name": "bind_BidM_BclxLM",
            "parent": "bind_table",
            "shape": "roundrectangle"
           },
           "position": {
            "x": 3112.023487622929,
            "y": 5014.553990518609
           }
          },
          {
           "data": {
            "NodeType": "rule",
            "background_color": "#ff4c4c",
            "bipartite": 1,
            "id": "bind_BidM_Mcl1M",
            "label": "bind_BidM_Mcl1M",
            "name": "bind_BidM_Mcl1M",
            "parent": "bind_table",
            "shape": "roundrectangle"
           },
           "position": {
            "x": 2811.9277832749895,
            "y": 5075.752458662238
           }
          },
          {
           "data": {
            "NodeType": "rule",
            "background_color": "#ff4c4c",
            "bipartite": 1,
            "id": "bind_BaxA_Bcl2",
            "label": "bind_BaxA_Bcl2",
            "name": "bind_BaxA_Bcl2",
            "parent": "bind_table",
            "shape": "roundrectangle"
           },
           "position": {
            "x": 3250.2365682791014,
            "y": 5070.611176419693
           }
          },
          {
           "data": {
            "NodeType": "rule",
            "background_color": "#ff4c4c",
            "bipartite": 1,
            "id": "bind_BaxA_BclxLM",
            "label": "bind_BaxA_BclxLM",
            "name": "bind_BaxA_BclxLM",
            "parent": "bind_table",
            "shape": "roundrectangle"
           },
           "position": {
            "x": 3552.855156726462,
            "y": 5109.530710884703
           }
          },
          {
           "data": {
            "NodeType": "rule",
            "background_color": "#ff4c4c",
            "bipartite": 1,
            "id": "bind_BakA_BclxLM",
            "label": "bind_BakA_BclxLM",
            "name": "bind_BakA_BclxLM",
            "parent": "bind_table",
            "shape": "roundrectangle"
           },
           "position": {
            "x": 3551.546576320938,
            "y": 5172.488422166807
           }
          },
          {
           "data": {
            "NodeType": "rule",
            "background_color": "#ff4c4c",
            "bipartite": 1,
            "id": "bind_BakA_Mcl1M",
            "label": "bind_BakA_Mcl1M",
            "name": "bind_BakA_Mcl1M",
            "parent": "bind_table",
            "shape": "roundrectangle"
           },
           "position": {
            "x": 3371.293074356857,
            "y": 5286.083455932552
           }
          },
          {
           "data": {
            "NodeType": "rule",
            "background_color": "#ff4c4c",
            "bipartite": 1,
            "id": "bind_BadM_Bcl2",
            "label": "bind_BadM_Bcl2",
            "name": "bind_BadM_Bcl2",
            "parent": "bind_table",
            "shape": "roundrectangle"
           },
           "position": {
            "x": 2809.476139257614,
            "y": 5746.921791796556
           }
          },
          {
           "data": {
            "NodeType": "rule",
            "background_color": "#ff4c4c",
            "bipartite": 1,
            "id": "bind_BadM_BclxLM",
            "label": "bind_BadM_BclxLM",
            "name": "bind_BadM_BclxLM",
            "parent": "bind_table",
            "shape": "roundrectangle"
           },
           "position": {
            "x": 3106.3631494523393,
            "y": 5096.087289734126
           }
          },
          {
           "data": {
            "NodeType": "rule",
            "background_color": "#ff4c4c",
            "bipartite": 1,
            "id": "bind_NoxaM_Mcl1M",
            "label": "bind_NoxaM_Mcl1M",
            "name": "bind_NoxaM_Mcl1M",
            "parent": "bind_table",
            "shape": "roundrectangle"
           },
           "position": {
            "x": 2981.5473183065997,
            "y": 5956.298999376407
           }
          },
          {
           "data": {
            "NodeType": "rule",
            "background_color": "#ff4c4c",
            "bipartite": 1,
            "id": "assemble_pore_sequential_Bax_2",
            "label": "assemble_pore_sequential_Bax_2",
            "name": "assemble_pore_sequential_Bax_2",
            "parent": "assemble_pore_sequential",
            "shape": "roundrectangle"
           },
           "position": {
            "x": 4550.443399122228,
            "y": 4592.485723789718
           }
          },
          {
           "data": {
            "NodeType": "rule",
            "background_color": "#ff4c4c",
            "bipartite": 1,
            "id": "assemble_pore_sequential_Bax_3",
            "label": "assemble_pore_sequential_Bax_3",
            "name": "assemble_pore_sequential_Bax_3",
            "parent": "assemble_pore_sequential",
            "shape": "roundrectangle"
           },
           "position": {
            "x": 4552.214613313001,
            "y": 4472.317850673042
           }
          },
          {
           "data": {
            "NodeType": "rule",
            "background_color": "#ff4c4c",
            "bipartite": 1,
            "id": "assemble_pore_sequential_Bax_4",
            "label": "assemble_pore_sequential_Bax_4",
            "name": "assemble_pore_sequential_Bax_4",
            "parent": "assemble_pore_sequential",
            "shape": "roundrectangle"
           },
           "position": {
            "x": 4213.992083397185,
            "y": 4357.819982878423
           }
          },
          {
           "data": {
            "NodeType": "rule",
            "background_color": "#ff4c4c",
            "bipartite": 1,
            "id": "assemble_pore_sequential_Bak_2",
            "label": "assemble_pore_sequential_Bak_2",
            "name": "assemble_pore_sequential_Bak_2",
            "parent": "assemble_pore_sequential",
            "shape": "roundrectangle"
           },
           "position": {
            "x": 4544.125882938793,
            "y": 4697.126900729116
           }
          },
          {
           "data": {
            "NodeType": "rule",
            "background_color": "#ff4c4c",
            "bipartite": 1,
            "id": "assemble_pore_sequential_Bak_3",
            "label": "assemble_pore_sequential_Bak_3",
            "name": "assemble_pore_sequential_Bak_3",
            "parent": "assemble_pore_sequential",
            "shape": "roundrectangle"
           },
           "position": {
            "x": 4213.965463332339,
            "y": 5027.9703416751745
           }
          },
          {
           "data": {
            "NodeType": "rule",
            "background_color": "#ff4c4c",
            "bipartite": 1,
            "id": "assemble_pore_sequential_Bak_4",
            "label": "assemble_pore_sequential_Bak_4",
            "name": "assemble_pore_sequential_Bak_4",
            "parent": "assemble_pore_sequential",
            "shape": "roundrectangle"
           },
           "position": {
            "x": 3721.2286628141624,
            "y": 4937.665155663375
           }
          },
          {
           "data": {
            "NodeType": "rule",
            "background_color": "#ff4c4c",
            "bipartite": 1,
            "id": "pore_transport_complex_BaxA_4_CytoCM",
            "label": "pore_transport_complex_BaxA_4_CytoCM",
            "name": "pore_transport_complex_BaxA_4_CytoCM",
            "parent": "pore_transport",
            "shape": "roundrectangle"
           },
           "position": {
            "x": 2570.3790935928027,
            "y": 4586.68833909762
           }
          },
          {
           "data": {
            "NodeType": "rule",
            "background_color": "#ff4c4c",
            "bipartite": 1,
            "id": "pore_transport_dissociate_BaxA_4_CytoCC",
            "label": "pore_transport_dissociate_BaxA_4_CytoCC",
            "name": "pore_transport_dissociate_BaxA_4_CytoCC",
            "parent": "pore_transport",
            "shape": "roundrectangle"
           },
           "position": {
            "x": 2401.4001554290403,
            "y": 4534.442809717822
           }
          },
          {
           "data": {
            "NodeType": "rule",
            "background_color": "#ff4c4c",
            "bipartite": 1,
            "id": "pore_transport_complex_BaxA_4_SmacM",
            "label": "pore_transport_complex_BaxA_4_SmacM",
            "name": "pore_transport_complex_BaxA_4_SmacM",
            "parent": "pore_transport",
            "shape": "roundrectangle"
           },
           "position": {
            "x": 2466.7357592249896,
            "y": 4443.659963575218
           }
          },
          {
           "data": {
            "NodeType": "rule",
            "background_color": "#ff4c4c",
            "bipartite": 1,
            "id": "pore_transport_dissociate_BaxA_4_SmacC",
            "label": "pore_transport_dissociate_BaxA_4_SmacC",
            "name": "pore_transport_dissociate_BaxA_4_SmacC",
            "parent": "pore_transport",
            "shape": "roundrectangle"
           },
           "position": {
            "x": 2347.5731915791166,
            "y": 4341.832339886648
           }
          },
          {
           "data": {
            "NodeType": "rule",
            "background_color": "#ff4c4c",
            "bipartite": 1,
            "id": "pore_transport_complex_BakA_4_CytoCM",
            "label": "pore_transport_complex_BakA_4_CytoCM",
            "name": "pore_transport_complex_BakA_4_CytoCM",
            "parent": "pore_transport",
            "shape": "roundrectangle"
           },
           "position": {
            "x": 2318.705595827236,
            "y": 4831.372221818331
           }
          },
          {
           "data": {
            "NodeType": "rule",
            "background_color": "#ff4c4c",
            "bipartite": 1,
            "id": "pore_transport_dissociate_BakA_4_CytoCC",
            "label": "pore_transport_dissociate_BakA_4_CytoCC",
            "name": "pore_transport_dissociate_BakA_4_CytoCC",
            "parent": "pore_transport",
            "shape": "roundrectangle"
           },
           "position": {
            "x": 2252.723974888305,
            "y": 4765.976388101277
           }
          },
          {
           "data": {
            "NodeType": "rule",
            "background_color": "#ff4c4c",
            "bipartite": 1,
            "id": "pore_transport_complex_BakA_4_SmacM",
            "label": "pore_transport_complex_BakA_4_SmacM",
            "name": "pore_transport_complex_BakA_4_SmacM",
            "parent": "pore_transport",
            "shape": "roundrectangle"
           },
           "position": {
            "x": 2201.757743205748,
            "y": 4700.320117071289
           }
          },
          {
           "data": {
            "NodeType": "rule",
            "background_color": "#ff4c4c",
            "bipartite": 1,
            "id": "pore_transport_dissociate_BakA_4_SmacC",
            "label": "pore_transport_dissociate_BakA_4_SmacC",
            "name": "pore_transport_dissociate_BakA_4_SmacC",
            "parent": "pore_transport",
            "shape": "roundrectangle"
           },
           "position": {
            "x": 2089.7768210612053,
            "y": 4484.33663390327
           }
          },
          {
           "data": {
            "NodeType": "function",
            "id": "one_step_conv",
            "name": "one_step_conv"
           },
           "position": {
            "x": 1107.1050318988173,
            "y": 3157.5650053213126
           }
          },
          {
           "data": {
            "NodeType": "function",
            "id": "bind_table",
            "name": "bind_table"
           },
           "position": {
            "x": 3183.891470000726,
            "y": 5477.426494947507
           }
          },
          {
           "data": {
            "NodeType": "function",
            "id": "pore_transport",
            "name": "pore_transport"
           },
           "position": {
            "x": 2328.827957327004,
            "y": 4578.6022808524895
           }
          },
          {
           "data": {
            "NodeType": "function",
            "id": "catalyze",
            "name": "catalyze"
           },
           "position": {
            "x": 2387.860686673622,
            "y": 2438.2291884126203
           }
          },
          {
           "data": {
            "NodeType": "function",
            "id": "catalyze_convert",
            "name": "catalyze_convert"
           },
           "position": {
            "x": 325.22857321195386,
            "y": 3034.2307988963794
           }
          },
          {
           "data": {
            "NodeType": "function",
            "id": "assemble_pore_sequential",
            "name": "assemble_pore_sequential"
           },
           "position": {
            "x": 4136.721638063582,
            "y": 4684.895162276798
           }
          },
          {
           "data": {
            "NodeType": "function",
            "id": "bind",
            "name": "bind"
           },
           "position": {
            "x": 784.3927418379333,
            "y": 1794.7500000000002
           }
          },
          {
           "data": {
            "NodeType": "function",
            "id": "translocate_tBid_Bax_BclxL",
            "name": "translocate_tBid_Bax_BclxL"
           },
           "position": {
            "x": 2096.0099881668425,
            "y": 4240.697522217462
           }
          },
          {
           "data": {
            "NodeType": "function",
            "id": "pore_to_parp",
            "name": "pore_to_parp"
           },
           "position": {
            "x": 1042.596209395026,
            "y": 4411.7119689070605
           }
          }
         ]
        }
       },
       "format": "cyjs",
       "layout": "IPY_MODEL_2ae4d7fb98844b36af8990c498d58be7",
       "layout_name": "cose-bilkent",
       "type_of_viz": "sp_rules_functions_view",
       "visual_style": null
      }
     }
    },
    "version_major": 2,
    "version_minor": 0
   }
  }
 },
 "nbformat": 4,
 "nbformat_minor": 2
}

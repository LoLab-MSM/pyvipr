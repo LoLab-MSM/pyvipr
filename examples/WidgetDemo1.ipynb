{
 "cells": [
  {
   "cell_type": "markdown",
   "metadata": {},
   "source": [
    "# Cytoscape Jupyter Widget Demo\n",
    "\n",
    "![](https://cytoscape.org/images/logo/cy3logoOrange.svg)\n",
    "\n",
    "![](cyjupyter1.png)\n",
    "\n",
    "By Keiichiro ONO (kono at ucsd dot edu)\n",
    "\n",
    "Updated on 10/11/2018\n",
    "\n",
    "\n",
    "## Introduction\n",
    "\n",
    "This is a demo notebook for Cytoscape Jupyter Widget: a network visualizer for Jupyter Notebook.  It's a very simple graph visualizer using [Cytoscape.js](http://js.cytoscape.org).  You can interactively visualize graphs (networks) in CX or Cytoscape.js format.\n",
    "\n",
    "\n",
    "## Requirments\n",
    "\n",
    "This notebook was tested with the following:\n",
    "\n",
    "* cyjupyter v0.2.0\n",
    "* Jupyter Notebook v5.6\n",
    "* NetworkX v2.2\n",
    "\n",
    "\n",
    "### Official Web Site and Code Repository\n",
    "\n",
    "* https://github.com/idekerlab/cytoscape-jupyter-widget \n",
    "\n",
    "\n",
    "## Install Widget\n",
    "\n",
    "### From PyPi\n",
    "\n",
    "```bash\n",
    "pip install cyjupyter\n",
    "jupyter nbextension enable --py --sys-prefix cyjupyter\n",
    "```\n",
    "\n",
    "\n",
    "### From Source\n",
    "\n",
    "```bash\n",
    "git clone　https://github.com/idekerlab/cytoscape-jupyter-widget.git\n",
    "cd cytoscape-jupyter-widget\n",
    "./build.sh\n",
    "```"
   ]
  },
  {
   "cell_type": "markdown",
   "metadata": {},
   "source": [
    "## How to Use the Widget\n",
    "\n",
    "### 1. Import Widget"
   ]
  },
  {
   "cell_type": "code",
   "execution_count": 1,
   "metadata": {},
   "outputs": [],
   "source": [
    "from cyjupyter import Cytoscape"
   ]
  },
  {
   "cell_type": "markdown",
   "metadata": {},
   "source": [
    "### 2. Prepare Data\n",
    "\n",
    "This widget supports graph data in CX or Cytoscape.js JSON (cyjs).\n",
    "\n",
    "#### Cytoscape.js JSON\n",
    "\n",
    "Cytoscape.js JSON is a simple format for graph data.  The following code generates Cytoscape.js data as a standard Python dictionary.  Yu can find the complete documentation about this format [here](http://js.cytoscape.org/#notation/elements-json)"
   ]
  },
  {
   "cell_type": "code",
   "execution_count": 2,
   "metadata": {},
   "outputs": [],
   "source": [
    "# A Cytoscape.js network with 4 nodes and 5 edges represented as Python Dict\n",
    "\n",
    "minimal_cyjs_network = {\n",
    "    'elements': {\n",
    "        'nodes': [\n",
    "            {'data' : {'id': 'node 1'}},\n",
    "            {'data' : {'id': 'node 2'}},\n",
    "            {'data' : {'id': 'node 3'}},\n",
    "            {'data' : {'id': 'node 4'}}\n",
    "        ],\n",
    "        'edges': [\n",
    "            { 'data': {'id': 'edge1','source': 'node 1','target': 'node 2'}},\n",
    "            { 'data': {'id': 'edge2','source': 'node 1','target': 'node 3'}},\n",
    "            { 'data': {'id': 'edge3','source': 'node 2','target': 'node 3'}},\n",
    "            { 'data': {'id': 'edge4','source': 'node 2','target': 'node 4'}},\n",
    "            { 'data': {'id': 'edge5','source': 'node 3','target': 'node 4'}}\n",
    "        ]\n",
    "    }\n",
    "}"
   ]
  },
  {
   "cell_type": "markdown",
   "metadata": {},
   "source": [
    "#### CX JSON\n",
    "\n",
    "CX is a JSON format used for network data transfer in the Cytoscape ecosystem.  You can download any network from [NDEx](http://www.ndexbio.org/) in CX format.  The following example uses NDEx Python client to download the network in CX.  You can change the _uuid_ to try any networks in NDEx."
   ]
  },
  {
   "cell_type": "code",
   "execution_count": 3,
   "metadata": {},
   "outputs": [
    {
     "name": "stdout",
     "output_type": "stream",
     "text": [
      "Response code from NDEx:  200\n"
     ]
    }
   ],
   "source": [
    "# Python client for the NDEx database\n",
    "import ndex2.client as nc\n",
    "\n",
    "# Unique ID for a network entry in NDEx\n",
    "uuid ='f28356ce-362d-11e5-8ac5-06603eb7f303'\n",
    "\n",
    "# NDEx public server URL\n",
    "ndex_url = 'http://public.ndexbio.org/'\n",
    "\n",
    "# Create an instance of NDEx client\n",
    "ndex=nc.Ndex2(ndex_url)\n",
    "\n",
    "# Download the network in CX format\n",
    "response=ndex.get_network_as_cx_stream(uuid)\n",
    "print('Response code from NDEx: ', response.status_code)\n",
    "\n",
    "# Store the data in a Python object\n",
    "cx = response.json()"
   ]
  },
  {
   "cell_type": "markdown",
   "metadata": {},
   "source": [
    "### Use Cytoscape Desktop for data conversion\n",
    "\n",
    "[Cytoscape Desktop](http://manual.cytoscape.org/en/stable/Supported_Network_File_Formats.html#cytoscape-js-json) supports import/export data in CX and Cytoscape.js JSON.  Please read the document to learn more about the feature. "
   ]
  },
  {
   "cell_type": "markdown",
   "metadata": {},
   "source": [
    "### 3. Render it!\n",
    "\n",
    "#### Cytoscape.js Networks\n",
    "\n",
    "By default, the widget is configured to display networks in Cytoscape.js JSON.  If you pass pass it as _*data*_ parameter, it automatically render it using default _Visual Style_ and [cose layout](http://js.cytoscape.org/#layouts/cose).  Since Cytoscape.js JSON is the default data format for this Widget, you don't need to pass _format_ option."
   ]
  },
  {
   "cell_type": "code",
   "execution_count": 4,
   "metadata": {},
   "outputs": [
    {
     "data": {
      "application/vnd.jupyter.widget-view+json": {
       "model_id": "3e4b575e10604897b8a91c19c997f820",
       "version_major": 2,
       "version_minor": 0
      },
      "text/plain": [
       "Cytoscape(data={'elements': {'nodes': [{'data': {'id': 'node 1'}}, {'data': {'id': 'node 2'}}, {'data': {'id':…"
      ]
     },
     "metadata": {},
     "output_type": "display_data"
    }
   ],
   "source": [
    "Cytoscape(data=minimal_cyjs_network)"
   ]
  },
  {
   "cell_type": "markdown",
   "metadata": {},
   "source": [
    "#### CX Networks\n",
    "\n",
    "To display CX networks, you just need to pass the List object (CX is always a list of _aspects_ for more information about CX, please read the [official document](http://www.home.ndexbio.org/data-model/)) **AND SPECIFY FORMAT, cx**.  If the data contains Visual Style and layout, it will be applied automatically.  Otherwise, default ones will be used."
   ]
  },
  {
   "cell_type": "code",
   "execution_count": 5,
   "metadata": {},
   "outputs": [
    {
     "data": {
      "application/vnd.jupyter.widget-view+json": {
       "model_id": "5b62bf04423842cb96d36c75fbbe709e",
       "version_major": 2,
       "version_minor": 0
      },
      "text/plain": [
       "Cytoscape(data=[{'numberVerification': [{'longNumber': 281474976710655}]}, {'metaData': [{'consistencyGroup': …"
      ]
     },
     "metadata": {},
     "output_type": "display_data"
    }
   ],
   "source": [
    "Cytoscape(data=cx, format='cx')"
   ]
  },
  {
   "cell_type": "markdown",
   "metadata": {},
   "source": [
    "### Use files exported from Cytoscape\n",
    "\n",
    "You can easily use files edited in [Cytoscape Desktop](https://cytoscape.org/) because it supports both CX and Cytoscpae.js formats by default.  In the following example, it will display a [KEGG pathway diagram](https://www.genome.jp/kegg-bin/show_pathway?org_name=hsa&mapno=00020&mapscale=&show_description=hide) imported into Cytoscape Desktop using [KEGGScape](http://apps.cytoscape.org/apps/keggscape) and exported to Cytoscape.json files.\n",
    "\n",
    "(Network object and Visual Style are exported to separate files.)"
   ]
  },
  {
   "cell_type": "code",
   "execution_count": 6,
   "metadata": {},
   "outputs": [
    {
     "data": {
      "application/vnd.jupyter.widget-view+json": {
       "model_id": "4fdbd54be4dc4d6f934cacd16237120c",
       "version_major": 2,
       "version_minor": 0
      },
      "text/plain": [
       "Cytoscape(data={'format_version': '1.0', 'generated_by': 'cytoscape-3.6.1', 'target_cytoscapejs_version': '~2.…"
      ]
     },
     "metadata": {},
     "output_type": "display_data"
    }
   ],
   "source": [
    "import json\n",
    "\n",
    "# Network file exported from Cytoscape (in .cyjs format)\n",
    "with open('hsa00020.cyjs') as f:\n",
    "    kegg = json.load(f)\n",
    "\n",
    "# Style file exported from Cytoscape (in Cytoscape.js Style JSON format)\n",
    "with open('kegg-styles.json') as f2:\n",
    "    kegg_style = json.load(f2)\n",
    "\n",
    "# In this case, actual style is a first element in the array...\n",
    "style_obj = kegg_style[0]['style']\n",
    "    \n",
    "# Pass the style and network to the widget (layout is optional)\n",
    "Cytoscape(data=kegg, visual_style=style_obj, layout={'height': '700px'})"
   ]
  },
  {
   "cell_type": "code",
   "execution_count": 7,
   "metadata": {},
   "outputs": [
    {
     "data": {
      "text/plain": [
       "[{'selector': 'node',\n",
       "  'css': {'border-opacity': 1.0,\n",
       "   'background-opacity': 0.9411764705882353,\n",
       "   'text-valign': 'center',\n",
       "   'text-halign': 'center',\n",
       "   'shape': 'ellipse',\n",
       "   'text-opacity': 1.0,\n",
       "   'font-size': 8,\n",
       "   'font-family': 'HelveticaNeue',\n",
       "   'font-weight': 'normal',\n",
       "   'border-color': 'rgb(0,0,0)',\n",
       "   'border-width': 0.0,\n",
       "   'color': 'data(KEGG_NODE_LABEL_COLOR)',\n",
       "   'background-color': 'data(KEGG_NODE_FILL_COLOR)',\n",
       "   'content': 'data(KEGG_NODE_LABEL_LIST_FIRST)',\n",
       "   'width': 'data(KEGG_NODE_WIDTH)',\n",
       "   'height': 'data(KEGG_NODE_HEIGHT)'}},\n",
       " {'selector': \"node[KEGG_NODE_TYPE = 'ortholog']\", 'css': {'font-size': 9}},\n",
       " {'selector': \"node[KEGG_NODE_TYPE = 'gene']\", 'css': {'font-size': 9}},\n",
       " {'selector': \"node[KEGG_NODE_TYPE = 'compound']\", 'css': {'font-size': 6}},\n",
       " {'selector': \"node[KEGG_NODE_TYPE = 'map']\", 'css': {'font-size': 9}},\n",
       " {'selector': \"node[KEGG_NODE_TYPE = 'group']\", 'css': {'font-size': 9}},\n",
       " {'selector': \"node[KEGG_NODE_TYPE = 'group']\",\n",
       "  'css': {'background-opacity': 0.0}},\n",
       " {'selector': \"node[KEGG_NODE_TYPE = 'compound']\",\n",
       "  'css': {'text-valign': 'bottom'}},\n",
       " {'selector': \"node[KEGG_NODE_TYPE = 'ortholog']\",\n",
       "  'css': {'border-width': 1.0}},\n",
       " {'selector': \"node[KEGG_NODE_TYPE = 'compound']\",\n",
       "  'css': {'border-width': 2.0}},\n",
       " {'selector': \"node[KEGG_NODE_TYPE = 'group']\", 'css': {'border-width': 1.0}},\n",
       " {'selector': \"node[KEGG_NODE_TYPE = 'ortholog']\",\n",
       "  'css': {'shape': 'rectangle'}},\n",
       " {'selector': \"node[KEGG_NODE_TYPE = 'gene']\", 'css': {'shape': 'rectangle'}},\n",
       " {'selector': \"node[KEGG_NODE_TYPE = 'map']\",\n",
       "  'css': {'shape': 'roundrectangle'}},\n",
       " {'selector': \"node[KEGG_NODE_TYPE = 'compound']\",\n",
       "  'css': {'shape': 'ellipse'}},\n",
       " {'selector': \"node[KEGG_NODE_TYPE = 'group']\", 'css': {'shape': 'rectangle'}},\n",
       " {'selector': 'node:selected', 'css': {'background-color': 'rgb(255,255,0)'}},\n",
       " {'selector': 'edge',\n",
       "  'css': {'color': 'rgb(220,20,60)',\n",
       "   'target-arrow-shape': 'none',\n",
       "   'line-style': 'solid',\n",
       "   'font-family': 'HelveticaNeue',\n",
       "   'font-weight': 'normal',\n",
       "   'opacity': 0.7058823529411765,\n",
       "   'source-arrow-shape': 'none',\n",
       "   'target-arrow-color': 'rgb(64,64,64)',\n",
       "   'source-arrow-color': 'rgb(64,64,64)',\n",
       "   'text-opacity': 1.0,\n",
       "   'width': 1.0,\n",
       "   'font-size': 10,\n",
       "   'line-color': 'rgb(64,64,64)',\n",
       "   'content': 'data(KEGG_EDGE_LABEL)'}},\n",
       " {'selector': \"edge[KEGG_EDGE_SUBTYPES = 'expression']\",\n",
       "  'css': {'target-arrow-shape': 'triangle'}},\n",
       " {'selector': \"edge[KEGG_EDGE_SUBTYPES = 'indirect effect']\",\n",
       "  'css': {'target-arrow-shape': 'triangle'}},\n",
       " {'selector': \"edge[KEGG_EDGE_SUBTYPES = 'irreversible']\",\n",
       "  'css': {'target-arrow-shape': 'triangle'}},\n",
       " {'selector': \"edge[KEGG_EDGE_SUBTYPES = 'inhibition']\",\n",
       "  'css': {'target-arrow-shape': 'tee'}},\n",
       " {'selector': \"edge[KEGG_EDGE_SUBTYPES = 'repression']\",\n",
       "  'css': {'target-arrow-shape': 'tee'}},\n",
       " {'selector': \"edge[KEGG_EDGE_SUBTYPES = 'activation']\",\n",
       "  'css': {'target-arrow-shape': 'triangle'}},\n",
       " {'selector': \"edge[KEGG_EDGE_SUBTYPES = 'state change']\",\n",
       "  'css': {'line-style': 'dotted'}},\n",
       " {'selector': \"edge[KEGG_EDGE_SUBTYPES = 'indirect effect']\",\n",
       "  'css': {'line-style': 'dashed'}},\n",
       " {'selector': \"edge[KEGG_EDGE_SUBTYPES = 'binding/association']\",\n",
       "  'css': {'line-style': 'dashed'}},\n",
       " {'selector': \"edge[KEGG_EDGE_SUBTYPES = 'maplink']\",\n",
       "  'css': {'line-style': 'dashed'}},\n",
       " {'selector': 'edge:selected', 'css': {'line-color': 'rgb(255,0,0)'}}]"
      ]
     },
     "execution_count": 7,
     "metadata": {},
     "output_type": "execute_result"
    }
   ],
   "source": [
    "style_obj"
   ]
  },
  {
   "cell_type": "markdown",
   "metadata": {},
   "source": [
    "## Optional Parameters\n",
    "\n",
    "You can use most of the basic Cytoscape.js features through optional parameters.\n",
    "\n",
    "### Cell Height\n",
    "\n",
    "This widget uses [standard Layout mechanism for Jupyter Widgets](https://minrk-ipywidgets.readthedocs.io/en/latest/examples/Widget%20Styling.html#The-layout-attribute.).  To specify the cell height, you can pass it as a part of _layout_ parameter:"
   ]
  },
  {
   "cell_type": "code",
   "execution_count": 7,
   "metadata": {},
   "outputs": [
    {
     "data": {
      "application/vnd.jupyter.widget-view+json": {
       "model_id": "472141dcd1f44e9e9979a79450c65214",
       "version_major": 2,
       "version_minor": 0
      },
      "text/plain": [
       "Cytoscape(data=[{'numberVerification': [{'longNumber': 281474976710655}]}, {'metaData': [{'consistencyGroup': …"
      ]
     },
     "metadata": {},
     "output_type": "display_data"
    }
   ],
   "source": [
    "Cytoscape(data=cx, format='cx', layout={'height': '300px'})"
   ]
  },
  {
   "cell_type": "markdown",
   "metadata": {},
   "source": [
    "### Automatic Graph Layout\n",
    "\n",
    "If there is no **layout_name** parameter, default layout (cose layout algorithm) will be used.  To specify one of the layout algorithms available in Cytoscape.js, just pass the name.\n",
    "\n",
    "#### Preset Layout\n",
    "\n",
    "If you have already specified (x, y) positions for nodes, the parameter will be used as the node positions.  However, if you pass this **layout_name** parameter, it will be override those original positions."
   ]
  },
  {
   "cell_type": "code",
   "execution_count": 8,
   "metadata": {},
   "outputs": [
    {
     "data": {
      "application/vnd.jupyter.widget-view+json": {
       "model_id": "052f2a61a14d48f2b49aefe659c79ca1",
       "version_major": 2,
       "version_minor": 0
      },
      "text/plain": [
       "Cytoscape(data=[{'numberVerification': [{'longNumber': 281474976710655}]}, {'metaData': [{'consistencyGroup': …"
      ]
     },
     "metadata": {},
     "output_type": "display_data"
    }
   ],
   "source": [
    "Cytoscape(data=cx, format='cx', layout_name='grid')"
   ]
  },
  {
   "cell_type": "markdown",
   "metadata": {},
   "source": [
    "### Custom _Visual Style_\n",
    "\n",
    "This widget fully supports Cytoscape.js compatible styls.  Just pass your style as a dict.  For more information about styling, please visit Cytoscape.js official web site to learn how to create data mappings:\n",
    "\n",
    "* Cytoscape.js [Style](http://js.cytoscape.org/#style)\n",
    "\n",
    "Also, you can change background color by passing _background_ parameter as string."
   ]
  },
  {
   "cell_type": "code",
   "execution_count": 9,
   "metadata": {},
   "outputs": [
    {
     "data": {
      "application/vnd.jupyter.widget-view+json": {
       "model_id": "a40dd9baa184484ba9e3769c2dc928ae",
       "version_major": 2,
       "version_minor": 0
      },
      "text/plain": [
       "Cytoscape(background='#000000', data=[{'numberVerification': [{'longNumber': 281474976710655}]}, {'metaData': …"
      ]
     },
     "metadata": {},
     "output_type": "display_data"
    }
   ],
   "source": [
    "# Custom visual style as Python Dict\n",
    "my_style = [\n",
    "    {\n",
    "        'selector': 'node',\n",
    "        'style': {\n",
    "            'background-color': '#EFEFEF',\n",
    "            'label': 'data(name)',\n",
    "            'width': 10,\n",
    "            'height': 10,\n",
    "            'shape': 'diamond',\n",
    "            'color': '#EEEEEE',\n",
    "            'font-weight': 400,\n",
    "            'text-halign': 'right',\n",
    "            'text-valign': 'bottom',\n",
    "            'font-size': 12\n",
    "        }\n",
    "    },\n",
    "    {\n",
    "        'selector': 'edge',\n",
    "        'style': {\n",
    "            'width': 3,\n",
    "            'opacity': 0.8,\n",
    "            'line-color': 'green',\n",
    "            'target-arrow-color': 'green',\n",
    "            'target-arrow-shape': 'triangle'\n",
    "        }\n",
    "    }\n",
    "]\n",
    "\n",
    "Cytoscape(data=cx, format='cx', layout_name='breadthfirst', visual_style=my_style, background='#000000')"
   ]
  },
  {
   "cell_type": "markdown",
   "metadata": {},
   "source": [
    "## Use with Other Tools and Libraries\n",
    "\n",
    "This widget is a simple network visualizer, but is powerful if you use with other popular libraries.\n",
    "\n",
    "### Network X\n",
    "\n",
    "[NetworkX](https://networkx.github.io/) is a widely used library for network analysis.  It has basic visualization features, but you can use advanced visualization feature of Cytoscape.js using this widget.\n",
    "\n",
    "**NetworkX v2.x series has I/O library for Cytoscape.js objects, and we strongly recommend to use v2.2 or newer.**\n",
    "\n",
    "#### Example 1: Use NetworkX as a randome graph generator\n",
    "\n",
    "NetworkX has several randome graph generators and you can easily use the data in CyJupyter:"
   ]
  },
  {
   "cell_type": "code",
   "execution_count": 10,
   "metadata": {},
   "outputs": [],
   "source": [
    "# You must install NetworkX before running the following cells!\n",
    "import networkx as nx\n",
    "from networkx.readwrite import cytoscape_data\n",
    "from networkx.algorithms import betweenness_centrality, edge_betweenness_centrality"
   ]
  },
  {
   "cell_type": "code",
   "execution_count": 11,
   "metadata": {},
   "outputs": [
    {
     "data": {
      "application/vnd.jupyter.widget-view+json": {
       "model_id": "642098ed6e774cef82ef55021d41b1d3",
       "version_major": 2,
       "version_minor": 0
      },
      "text/plain": [
       "Cytoscape(data={'data': [], 'directed': True, 'multigraph': True, 'elements': {'nodes': [{'data': {'id': '0', …"
      ]
     },
     "metadata": {},
     "output_type": "display_data"
    }
   ],
   "source": [
    "network1 = nx.scale_free_graph(100)\n",
    "cyjs1 = cytoscape_data(network1)\n",
    "Cytoscape(data=cyjs1)"
   ]
  },
  {
   "cell_type": "markdown",
   "metadata": {},
   "source": [
    "#### Example 2: Calculate network statistics and use it in visualization\n",
    "\n",
    "NetworkX has basic visualization features, but you can replace that part with this widget."
   ]
  },
  {
   "cell_type": "code",
   "execution_count": 12,
   "metadata": {},
   "outputs": [
    {
     "data": {
      "application/vnd.jupyter.widget-view+json": {
       "model_id": "01c792a418004dad99f6609a1ef9df18",
       "version_major": 2,
       "version_minor": 0
      },
      "text/plain": [
       "Cytoscape(background='#EEEEEE', data={'data': [], 'directed': False, 'multigraph': False, 'elements': {'nodes'…"
      ]
     },
     "metadata": {},
     "output_type": "display_data"
    }
   ],
   "source": [
    "G = nx.waxman_graph(150)\n",
    "\n",
    "# Calculate betweenness centrarity of the graph (for both nodes and edges)\n",
    "bc = betweenness_centrality(G)\n",
    "ebc = edge_betweenness_centrality(G)\n",
    "nx.set_node_attributes(G, bc, 'betweenness')\n",
    "nx.set_edge_attributes(G, ebc, 'betweenness')\n",
    "\n",
    "# Pick min and max for each data\n",
    "bc_min = min(bc.values())\n",
    "bc_max = max(bc.values())\n",
    "ebc_min = min(ebc.values())\n",
    "ebc_max = max(ebc.values())\n",
    "\n",
    "# Create visual mappings\n",
    "\n",
    "# For nodes\n",
    "mapper = 'mapData(betweenness,' + str(bc_min) + ',' + str(bc_max) + ', 5, 50)'\n",
    "op_mapper = 'mapData(betweenness,' + str(bc_min) + ',' + str(bc_max) + ', 0.3, 1)'\n",
    "color_mapper = 'mapData(betweenness,' + str(bc_min) + ',' + str(bc_max) + ', #EFEFEF, #00897B)'\n",
    "\n",
    "# For edges\n",
    "edge_mapper = 'mapData(betweenness,' + str(ebc_min) + ',' + str(ebc_max) + ', 1, 10)'\n",
    "edge_op_mapper = 'mapData(betweenness,' + str(ebc_min) + ',' + str(ebc_max) + ', 0.3, 1)'\n",
    "\n",
    "# Build a style\n",
    "custom_visual_style = [\n",
    "    {\n",
    "        'selector': 'node',\n",
    "        'style': {\n",
    "            'background-color': color_mapper,\n",
    "            'width': mapper,\n",
    "            'height': mapper,\n",
    "            'background-opacity': op_mapper,\n",
    "            'label': \"data(id)\"\n",
    "        }\n",
    "    },\n",
    "    {\n",
    "        'selector': 'edge',\n",
    "        'style': {\n",
    "            'width': edge_mapper,\n",
    "            'opacity': edge_op_mapper,\n",
    "            'line-color': '#333333'        \n",
    "        }\n",
    "    }\n",
    "]\n",
    "\n",
    "# Convert to Cytoscape.js JSON\n",
    "cyjs2 = cytoscape_data(G)\n",
    "\n",
    "# Visualize it\n",
    "Cytoscape(data=cyjs2,  layout_name='circle', visual_style=custom_visual_style, background='#EEEEEE')"
   ]
  },
  {
   "cell_type": "markdown",
   "metadata": {},
   "source": [
    "#### Example 3: Use NetworkX as layout engine\n",
    "\n",
    "NetworkX has a nice drawing features, but all generated images are static.  If you use it as a layout engine, you can visualize it using the node positions calculated in NetworkX (or graphviz, which is supported by NetworkX):"
   ]
  },
  {
   "cell_type": "code",
   "execution_count": 13,
   "metadata": {
    "scrolled": false
   },
   "outputs": [
    {
     "data": {
      "application/vnd.jupyter.widget-view+json": {
       "model_id": "bd59afa84d6d4964b31e27caa509ae97",
       "version_major": 2,
       "version_minor": 0
      },
      "text/plain": [
       "Cytoscape(data={'data': [], 'directed': False, 'multigraph': False, 'elements': {'nodes': [{'data': {'pos': (0…"
      ]
     },
     "metadata": {},
     "output_type": "display_data"
    }
   ],
   "source": [
    "# Layout using NetworkX\n",
    "pos = nx.kamada_kawai_layout(G)\n",
    "nodes = cyjs2['elements']['nodes']\n",
    "\n",
    "SCALE_FACTOR = 700 # This adjust density of the view, because original positions are too dense...\n",
    "\n",
    "# Assign (X, Y) positions\n",
    "for node in nodes:\n",
    "    node_id = node['data']['id']\n",
    "    node['position'] = {\n",
    "        'x': pos[int(node_id)][0] * SCALE_FACTOR,\n",
    "        'y': pos[int(node_id)][1] * SCALE_FACTOR\n",
    "    }\n",
    "\n",
    "# Render it with new positions\n",
    "Cytoscape(data=cyjs2, visual_style=custom_visual_style)"
   ]
  }
 ],
 "metadata": {
  "kernelspec": {
   "display_name": "Python 3",
   "language": "python",
   "name": "python3"
  },
  "language_info": {
   "codemirror_mode": {
    "name": "ipython",
    "version": 3
   },
   "file_extension": ".py",
   "mimetype": "text/x-python",
   "name": "python",
   "nbconvert_exporter": "python",
   "pygments_lexer": "ipython3",
   "version": "3.7.1"
  }
 },
 "nbformat": 4,
 "nbformat_minor": 2
}

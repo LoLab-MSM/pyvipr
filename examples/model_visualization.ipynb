{
 "cells": [
  {
   "cell_type": "code",
   "execution_count": 2,
   "metadata": {},
   "outputs": [],
   "source": [
    "from pysbjupyter.pysb_models.mm_two_paths_model import model\n",
    "from pysb.examples.fricker_2010_apoptosis import model as model2\n",
    "from pysbjupyter import pysbViz\n",
    "from pysb.simulator import ScipyOdeSimulator\n",
    "import numpy as np"
   ]
  },
  {
   "cell_type": "code",
   "execution_count": null,
   "metadata": {
    "scrolled": false
   },
   "outputs": [],
   "source": [
    "pysbViz(data=model2, type_of_viz='species_view')"
   ]
  },
  {
   "cell_type": "code",
   "execution_count": 3,
   "metadata": {
    "scrolled": false
   },
   "outputs": [
    {
     "name": "stderr",
     "output_type": "stream",
     "text": [
      "2018-11-20 17:35:28.852 - pysb.simulator.scipyode - WARNING - [pysbjupyter.pysb_models.mm_two_paths_model] This system of ODEs will be evaluated in pure Python. This may be slow for large models. We recommend installing a package for compiling the ODEs to C code: 'weave' (recommended for Python 2) or 'cython' (recommended for Python 3). This warning can be suppressed by specifying compiler_mode='python'.\n"
     ]
    },
    {
     "data": {
      "application/vnd.jupyter.widget-view+json": {
       "model_id": "8db72f18274b4301a134fb766062e5d1",
       "version_major": 2,
       "version_minor": 0
      },
      "text/plain": [
       "pysbViz(data=<pysb.simulator.base.SimulationResult object at 0xa16ae9b38>)"
      ]
     },
     "metadata": {},
     "output_type": "display_data"
    }
   ],
   "source": [
    "tspan = np.linspace(0, 1000, 100)\n",
    "sim = ScipyOdeSimulator(model, tspan).run()\n",
    "pysbViz(data=sim)"
   ]
  },
  {
   "cell_type": "code",
   "execution_count": null,
   "metadata": {},
   "outputs": [],
   "source": []
  }
 ],
 "metadata": {
  "kernelspec": {
   "display_name": "Python 3",
   "language": "python",
   "name": "python3"
  },
  "language_info": {
   "codemirror_mode": {
    "name": "ipython",
    "version": 3
   },
   "file_extension": ".py",
   "mimetype": "text/x-python",
   "name": "python",
   "nbconvert_exporter": "python",
   "pygments_lexer": "ipython3",
   "version": "3.7.1"
  }
 },
 "nbformat": 4,
 "nbformat_minor": 2
}

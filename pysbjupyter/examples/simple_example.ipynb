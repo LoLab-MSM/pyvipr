{
 "cells": [
  {
   "cell_type": "code",
   "execution_count": 1,
   "metadata": {},
   "outputs": [],
   "source": [
    "import uuid\n",
    "import json\n",
    "import networkx as nx\n",
    "from pysbjupyter import render_network\n",
    "from pysbjupyter.util_networkx import from_networkx"
   ]
  },
  {
   "cell_type": "code",
   "execution_count": 4,
   "metadata": {},
   "outputs": [
    {
     "name": "stdout",
     "output_type": "stream",
     "text": [
      "{'data': {}, 'elements': {'nodes': [{'data': {'id': 'A', 'name': 'A'}}, {'data': {'id': 'B', 'name': 'B'}}], 'edges': [{'data': {'source': 'A', 'target': 'B'}}]}}\n"
     ]
    }
   ],
   "source": [
    "g = nx.DiGraph()\n",
    "g.add_edge(\"A\", \"B\")\n",
    "d = from_networkx(g)\n",
    "print(d)"
   ]
  },
  {
   "cell_type": "code",
   "execution_count": 5,
   "metadata": {},
   "outputs": [
    {
     "data": {
      "text/plain": [
       "networkxViz(data={'data': {}, 'elements': {'nodes': [{'data': {'id': 'A', 'name': 'A'}}, {'data': {'id': 'B', …"
      ]
     },
     "metadata": {},
     "output_type": "display_data"
    }
   ],
   "source": [
    "render_network(d)"
   ]
  },
  {
   "cell_type": "code",
   "execution_count": null,
   "metadata": {},
   "outputs": [],
   "source": []
  }
 ],
 "metadata": {
  "kernelspec": {
   "display_name": "Python 3",
   "language": "python",
   "name": "python3"
  },
  "language_info": {
   "codemirror_mode": {
    "name": "ipython",
    "version": 3
   },
   "file_extension": ".py",
   "mimetype": "text/x-python",
   "name": "python",
   "nbconvert_exporter": "python",
   "pygments_lexer": "ipython3",
   "version": "3.6.7"
  },
  "widgets": {
   "application/vnd.jupyter.widget-state+json": {
    "state": {
     "0682bbf8f96044ff8f4d1bd17e227add": {
      "model_module": "viz-pysb-widget",
      "model_module_version": "^0.1.12",
      "model_name": "CytoscapeModel",
      "state": {
       "background": "#FFFFFF",
       "data": {
        "data": {},
        "elements": {
         "edges": [
          {
           "data": {
            "id": "b5cca08a-5178-41fd-b9f5-21ebc9a1769f",
            "source": "A",
            "target": "B"
           }
          }
         ],
         "nodes": [
          {
           "data": {
            "id": "A",
            "name": "A"
           }
          },
          {
           "data": {
            "id": "B",
            "name": "B"
           }
          }
         ]
        }
       },
       "format": "cyjs",
       "layout": "IPY_MODEL_a8df5d3bf44a4c87ba5eba7a3a72081e",
       "layout_name": "cose-bilkent",
       "type_of_viz": "magine_graph",
       "visual_style": null
      }
     },
     "a8df5d3bf44a4c87ba5eba7a3a72081e": {
      "model_module": "@jupyter-widgets/base",
      "model_module_version": "1.1.0",
      "model_name": "LayoutModel",
      "state": {}
     }
    },
    "version_major": 2.0,
    "version_minor": 0.0
   }
  }
 },
 "nbformat": 4,
 "nbformat_minor": 2
}

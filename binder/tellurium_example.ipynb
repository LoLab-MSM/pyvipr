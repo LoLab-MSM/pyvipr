{
 "cells": [
  {
   "cell_type": "markdown",
   "metadata": {},
   "source": [
    "### Importing libraries"
   ]
  },
  {
   "cell_type": "code",
   "execution_count": null,
   "metadata": {},
   "outputs": [],
   "source": [
    "import tellurium as te\n",
    "import pyvipr.tellurium_viz as viz\n",
    "import os\n",
    "import pyvipr.examples_models as models"
   ]
  },
  {
   "cell_type": "markdown",
   "metadata": {},
   "source": [
    "### Obtaining a model from an sbml file"
   ]
  },
  {
   "cell_type": "code",
   "execution_count": null,
   "metadata": {},
   "outputs": [],
   "source": [
    "models_path = os.path.dirname(models.__file__)\n",
    "enzymatic_reaction = os.path.join(models_path, 'double_enzymatic_sbml.xml')\n",
    "r = te.loadSBMLModel(enzymatic_reaction)"
   ]
  },
  {
   "cell_type": "markdown",
   "metadata": {},
   "source": [
    "### Visualizing species and their interactions in the model"
   ]
  },
  {
   "cell_type": "code",
   "execution_count": null,
   "metadata": {},
   "outputs": [],
   "source": [
    "viz.sp_view(r)"
   ]
  },
  {
   "cell_type": "markdown",
   "metadata": {},
   "source": [
    "### Simulating model and visualizing the results on a dynamic network"
   ]
  },
  {
   "cell_type": "code",
   "execution_count": null,
   "metadata": {},
   "outputs": [],
   "source": [
    "import numpy as np\n",
    "\n",
    "r = te.loada(\"\"\"\n",
    "    J1:S1 -> S2; k1*S1;\n",
    "    J2:S2 -> S3; k2*S2;\n",
    "    J3:S4 -> S3; k2*S4;\n",
    "\n",
    "    k1= 0.1; k2 = 0.2;\n",
    "    S1 = 10; S2 = 0; S3 = 0; S4 = 20;\n",
    "\"\"\")\n",
    "# r.integrator = 'gillespie'\n",
    "selections = ['time'] + r.getFloatingSpeciesIds() + r.getReactionIds()\n",
    "\n",
    "sim=r.simulate(0, 40, selections=selections)"
   ]
  },
  {
   "cell_type": "code",
   "execution_count": null,
   "metadata": {
    "scrolled": false
   },
   "outputs": [],
   "source": [
    "viz.sp_dyn_view(r)"
   ]
  },
  {
   "cell_type": "code",
   "execution_count": null,
   "metadata": {},
   "outputs": [],
   "source": []
  }
 ],
 "metadata": {
  "kernelspec": {
   "display_name": "Python 3",
   "language": "python",
   "name": "python3"
  },
  "language_info": {
   "codemirror_mode": {
    "name": "ipython",
    "version": 3
   },
   "file_extension": ".py",
   "mimetype": "text/x-python",
   "name": "python",
   "nbconvert_exporter": "python",
   "pygments_lexer": "ipython3",
   "version": "3.6.9"
  }
 },
 "nbformat": 4,
 "nbformat_minor": 2
}

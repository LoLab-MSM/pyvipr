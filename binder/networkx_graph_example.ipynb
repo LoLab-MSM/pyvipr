{
 "cells": [
  {
   "cell_type": "code",
   "execution_count": null,
   "metadata": {},
   "outputs": [],
   "source": [
    "from pyvipr.examples_models.mm_two_paths_model import model\n",
    "from pysb.simulator import ScipyOdeSimulator\n",
    "import numpy as np\n",
    "import pyvipr as viz\n",
    "import networkx as nx\n",
    "import pyvipr.networkx_viz as nviz\n",
    "from pyvipr.util_networkx import network_dynamic_data"
   ]
  },
  {
   "cell_type": "code",
   "execution_count": null,
   "metadata": {},
   "outputs": [],
   "source": [
    "G = nx.Graph()\n",
    "G.add_edge(1, 2)\n",
    "e = (2, 3)\n",
    "G.add_edge(*e)  # unpack edge tuple*\n",
    "\n",
    "node_rel = {1:[50, 100, 0],\n",
    "            2:[50, 100, 0],\n",
    "            3:[50, 100, 0]}\n",
    "\n",
    "edge_colors = {(1,2):['#2b913a', '#2b913a', '#2b913a'],\n",
    "                (2, 3):['#2b913a', '#2b913a', '#2b913a'],\n",
    "                (1, 3):['#2b913a', '#2b913a', '#2b913a']}"
   ]
  },
  {
   "cell_type": "code",
   "execution_count": null,
   "metadata": {},
   "outputs": [],
   "source": [
    "nviz.nx_graph_dyn_view(G, tspan=[1,2,3], node_rel=node_rel,\n",
    "                     edge_colors=edge_colors)"
   ]
  }
 ],
 "metadata": {
  "kernelspec": {
   "display_name": "Python 3",
   "language": "python",
   "name": "python3"
  },
  "language_info": {
   "codemirror_mode": {
    "name": "ipython",
    "version": 3
   },
   "file_extension": ".py",
   "mimetype": "text/x-python",
   "name": "python",
   "nbconvert_exporter": "python",
   "pygments_lexer": "ipython3",
   "version": "3.6.8"
  }
 },
 "nbformat": 4,
 "nbformat_minor": 4
}

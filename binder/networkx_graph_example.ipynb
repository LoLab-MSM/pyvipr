{
 "cells": [
  {
   "cell_type": "code",
   "execution_count": 1,
   "metadata": {},
   "outputs": [],
   "source": [
    "from pyvipr.pysb_models.mm_two_paths_model import model\n",
    "from pysb.simulator import ScipyOdeSimulator\n",
    "import numpy as np\n",
    "import pyvipr as viz\n",
    "import networkx as nx\n",
    "from pyvipr.network_viz import NetworkViz\n",
    "from pyvipr.util_networkx import network_dynamic_data"
   ]
  },
  {
   "cell_type": "code",
   "execution_count": 2,
   "metadata": {},
   "outputs": [],
   "source": [
    "G = nx.Graph()\n",
    "G.add_edge(1, 2)\n",
    "e = (2, 3)\n",
    "G.add_edge(*e)  # unpack edge tuple*\n",
    "\n",
    "node_rel = {1:[50, 100, 0],\n",
    "            2:[50, 100, 0],\n",
    "            3:[50, 100, 0]}\n",
    "\n",
    "edge_colors = {(1,2):['#2b913a', '#2b913a', '#2b913a'],\n",
    "                (2, 3):['#2b913a', '#2b913a', '#2b913a'],\n",
    "                (1, 3):['#2b913a', '#2b913a', '#2b913a']}"
   ]
  },
  {
   "cell_type": "code",
   "execution_count": 3,
   "metadata": {},
   "outputs": [
    {
     "data": {
      "application/vnd.jupyter.widget-view+json": {
       "model_id": "01a6e4a441e649778bb5e35d968737fc",
       "version_major": 2,
       "version_minor": 0
      },
      "text/plain": [
       "pysbViz(data=<networkx.classes.graph.Graph object at 0x113770470>, layout_name='cose', type_of_viz='dynamic_ne…"
      ]
     },
     "metadata": {},
     "output_type": "display_data"
    }
   ],
   "source": [
    "viz.nx_graph_dyn_view(G, tspan=[1,2,3], node_rel=node_rel,\n",
    "                     edge_colors=edge_colors)"
   ]
  },
  {
   "cell_type": "code",
   "execution_count": 4,
   "metadata": {},
   "outputs": [
    {
     "data": {
      "application/vnd.jupyter.widget-view+json": {
       "model_id": "14877fa8dd8b449bb228418cc1903ee1",
       "version_major": 2,
       "version_minor": 0
      },
      "text/plain": [
       "pysbViz(data=<networkx.classes.graph.Graph object at 0x113770470>, layout_name='cose', type_of_viz='network_st…"
      ]
     },
     "metadata": {},
     "output_type": "display_data"
    }
   ],
   "source": [
    "viz.nx_graph_view(G)"
   ]
  },
  {
   "cell_type": "code",
   "execution_count": null,
   "metadata": {},
   "outputs": [],
   "source": []
  }
 ],
 "metadata": {
  "kernelspec": {
   "display_name": "Python 3",
   "language": "python",
   "name": "python3"
  },
  "language_info": {
   "codemirror_mode": {
    "name": "ipython",
    "version": 3
   },
   "file_extension": ".py",
   "mimetype": "text/x-python",
   "name": "python",
   "nbconvert_exporter": "python",
   "pygments_lexer": "ipython3",
   "version": "3.7.3"
  }
 },
 "nbformat": 4,
 "nbformat_minor": 4
}

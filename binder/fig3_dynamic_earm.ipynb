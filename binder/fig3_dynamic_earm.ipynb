{
 "cells": [
  {
   "cell_type": "markdown",
   "metadata": {},
   "source": [
    "# Visualization of signal flow in EARM with two different calibrated parameter sets\n",
    "\n",
    "## *This notebook reproduces the Figure 3 in the paper\n",
    "\n",
    "### We start by importing the libraries required to do the analysis and the visualizations"
   ]
  },
  {
   "cell_type": "code",
   "execution_count": null,
   "metadata": {},
   "outputs": [],
   "source": [
    "from pyvipr.examples_models.lopez_embedded import model\n",
    "import pyvipr.pysb_viz as viz\n",
    "import numpy as np\n",
    "from pysb.simulator import ScipyOdeSimulator\n",
    "import os\n",
    "import matplotlib.pyplot as plt\n",
    "from scipy.spatial.distance import pdist, squareform\n",
    "from numpy import genfromtxt\n",
    "%matplotlib inline"
   ]
  },
  {
   "cell_type": "markdown",
   "metadata": {},
   "source": [
    "# Obtaining maximally different parameter sets\n",
    "\n",
    "### First, we load the calibrated parameters obtained with the Particle Swarm Optimization algorithm. Next, we standardize the parameter set values using the StandardScaler() class from sklearn. Then, we applied an euclidean distance and choose the two parameters that are the most dissimilar."
   ]
  },
  {
   "cell_type": "code",
   "execution_count": null,
   "metadata": {},
   "outputs": [],
   "source": [
    "# Standardization of calibrated parameters by removing the mean and scaling to unit variance\n",
    "\n",
    "pars = np.load('data/calibrated_6572pars.npy')\n",
    "kpars_idxs = [i for i, j in enumerate(model.parameters) if not j in model.parameters_initial_conditions()]\n",
    "kpars = pars[:, kpars_idxs]\n",
    "kpars_means = np.mean(kpars, axis=0)\n",
    "kpars_means = np.tile(kpars_means, (kpars.shape[0], 1))\n",
    "kpars_stds = np.std(kpars, axis=0)\n",
    "kpars_stds = np.tile(kpars_stds, (kpars.shape[0], 1))\n",
    "\n",
    "kpars_standard = (kpars - kpars_means) / kpars_stds"
   ]
  },
  {
   "cell_type": "code",
   "execution_count": null,
   "metadata": {},
   "outputs": [],
   "source": [
    "# Calculate the pairwise distances\n",
    "dis = squareform(pdist(kpars_standard, metric='euclidean'))"
   ]
  },
  {
   "cell_type": "code",
   "execution_count": null,
   "metadata": {},
   "outputs": [],
   "source": [
    "# Obtain the two most dissimilar parameters\n",
    "ind = np.unravel_index(np.argmax(dis, axis=None), dis.shape)\n",
    "ind"
   ]
  },
  {
   "cell_type": "markdown",
   "metadata": {},
   "source": [
    "### The parameter sets with the index 4697 and 5023 are the most dissimilar."
   ]
  },
  {
   "cell_type": "markdown",
   "metadata": {},
   "source": [
    "### We load the experimental data to confirm that the calibrated parameters actually fit the data, and create a new function called display that plots the experimental data alongside the simulated trajectories of the calibrated parameter set."
   ]
  },
  {
   "cell_type": "code",
   "execution_count": null,
   "metadata": {},
   "outputs": [],
   "source": [
    "# load experimental data\n",
    "\n",
    "data_path = os.path.join(os.path.abspath(''), 'data',\n",
    "                         'EC-RP_IMS-RP_IC-RP_data_for_models.csv')\n",
    "\n",
    "exp_data = genfromtxt(data_path, delimiter=',', names=True)\n",
    "# Mean and variance of Td (delay time) and Ts (switching time) of MOMP, and\n",
    "# yfinal (the last value of the IMS-RP trajectory)\n",
    "momp_data = np.array([9810.0, 180.0, model.parameters['Smac_0'].value])\n",
    "momp_var = np.array([7245000.0, 3600.0, 1e4])"
   ]
  },
  {
   "cell_type": "code",
   "execution_count": null,
   "metadata": {},
   "outputs": [],
   "source": [
    "def display(position, save_name):\n",
    "    param_values = position\n",
    "    traj = solver.run(param_values=param_values)\n",
    "\n",
    "    # normalize trajectories\n",
    "    bid_traj = traj.observables['mBid'] / model.parameters['Bid_0'].value\n",
    "    cparp_traj = traj.observables['cPARP'] / model.parameters['PARP_0'].value\n",
    "    aSmac_traj = traj.observables['aSmac'] / model.parameters['Smac_0'].value\n",
    "\n",
    "    # create all plots for each observable\n",
    "    fig, ax = plt.subplots(nrows=1, ncols=3, figsize=(9, 3), sharex=True, sharey=True)\n",
    "\n",
    "    fig.add_subplot(111, frameon=False)\n",
    "    plt.tick_params(labelcolor='none', top=False, bottom=False, left=False, right=False)\n",
    "    plt.xlabel(\"Time(s)\")\n",
    "    plt.ylabel(\"Population\")\n",
    "    \n",
    "    # plot cleaved parp\n",
    "    ax[0].plot(tspan, bid_traj, color='r', marker='^', label='tBID sim')\n",
    "    ax[0].errorbar(exp_data['Time'], exp_data['norm_ICRP'],\n",
    "                 yerr=exp_data['nrm_var_ICRP'] ** .5,\n",
    "                 ecolor='black', color='black', elinewidth=0.5, capsize=0)\n",
    "    ax[0].legend(loc=2)\n",
    "\n",
    "    # plot cleaved parp\n",
    "    ax[1].plot(tspan, cparp_traj, color='blue', marker='*', label='cPARP sim')\n",
    "    ax[1].errorbar(exp_data['Time'], exp_data['norm_ECRP'],\n",
    "                 yerr=exp_data['nrm_var_ECRP'] ** .5,\n",
    "                 ecolor='black', color='black', elinewidth=0.5, capsize=0)\n",
    "    ax[1].legend(loc=2)\n",
    "\n",
    "    # plot activated SMAC\n",
    "    ax[2].plot(tspan, aSmac_traj, color='g', label='aSMAC sim')\n",
    "    ax[2].axvline(momp_data[0], -0.05, 1.05, color='black', linestyle=':',\n",
    "                label='exp aSMAC')\n",
    "    ax[2].legend(loc=2)\n",
    "    plt.show\n",
    "#     fig.savefig('{}.png'.format(save_name), dpi=500, bbox_inches='tight')\n",
    "#     plt.close()"
   ]
  },
  {
   "cell_type": "markdown",
   "metadata": {},
   "source": [
    "# Parameter 1 visualization: Bid-Bax dominant reaction\n",
    "\n",
    "### First, we make sure that the calibrated parameter actually fit the experimental data. To do this, we run a simulation with the parameter set 4697 and then plot the experimental data and the simulation results."
   ]
  },
  {
   "cell_type": "code",
   "execution_count": null,
   "metadata": {},
   "outputs": [],
   "source": [
    "pars4697 = pars[4697]\n",
    "tspan = np.linspace(0, 20000, 100)\n",
    "sim = ScipyOdeSimulator(model, tspan, compiler='python').run(param_values=[pars4697])"
   ]
  },
  {
   "cell_type": "code",
   "execution_count": null,
   "metadata": {},
   "outputs": [],
   "source": [
    "solver = ScipyOdeSimulator(model, tspan, compiler='python')\n",
    "display(pars4697, 'data_calibration_par4697')"
   ]
  },
  {
   "cell_type": "markdown",
   "metadata": {},
   "source": [
    "### By visually inspecting the experimental data and the simulation, we see that the simulation results fit the experimental data. Then, we proceed to explore the dynamics of the model with that parameter by using the function sp_dyn_view from pyvipr.\n",
    "\n",
    "### We focus on the dynamics of mitochondrial Bid because it plays an important role in the regulation of Mitochondrial Outer Membrane Permeabilization. We click the mBid node in the graph to highlight all the species to which mBid can interact."
   ]
  },
  {
   "cell_type": "code",
   "execution_count": null,
   "metadata": {},
   "outputs": [],
   "source": [
    "viz.sp_dyn_view(sim, layout_name='klay')"
   ]
  },
  {
   "cell_type": "markdown",
   "metadata": {},
   "source": [
    "### For this parameter set, we observed that most of mBid was used to transport cytosolic Bax to MOM while no activation of Bak occurred, indicating that the pores in MOM were primarily made by Bax and that the model with this parameter set is particularly sensitive to Bax inhibition\n",
    "\n",
    "### To verify our visualization-based analysis, we carried out an in-silico experiment. We did a Bax knockout and ran a simulation of EARM with the parameter set 4697."
   ]
  },
  {
   "cell_type": "code",
   "execution_count": null,
   "metadata": {},
   "outputs": [],
   "source": [
    "pars_bax_ko= np.copy(pars4697)\n",
    "pars_mcl1_ko= np.copy(pars4697)\n",
    "pars_bax_ko[63] = pars_bax_ko[63] * 0\n",
    "pars_mcl1_ko[57] = pars_mcl1_ko[57] * 0\n",
    "sim_kd_bax = ScipyOdeSimulator(model, tspan, compiler='python').run(param_values=[pars_bax_ko, pars_mcl1_ko])"
   ]
  },
  {
   "cell_type": "code",
   "execution_count": null,
   "metadata": {},
   "outputs": [],
   "source": [
    "plt.plot(tspan[:57], sim.all['cPARP'][:57], label='WT')\n",
    "plt.plot(tspan[:57], sim_kd_bax.all[0]['cPARP'][:57], label='BclxL KO')\n",
    "plt.plot(tspan[:57], sim_kd_bax.all[1]['cPARP'][:57], label='Mcl1 KO')\n",
    "plt.xlabel('Time')\n",
    "plt.ylabel('Molecules')\n",
    "plt.title('cPARP')\n",
    "plt.legend()\n",
    "plt.savefig('par4697_bax_ko.png', dpi=500, bbox_inches='tight')"
   ]
  },
  {
   "cell_type": "markdown",
   "metadata": {},
   "source": [
    "### We found that the knockout protected cells from apoptosis induction with TRAIL, confirming that Bax has an essential role in apoptosis."
   ]
  },
  {
   "cell_type": "markdown",
   "metadata": {},
   "source": [
    "# Parameter 2 visualization: Bid-Mcl1 dominant reaction\n",
    "\n",
    "### First, we make sure that the calibrated parameter actually fit the experimental data. To do this, we run a simulation with the parameter set 5023 and then plot the experimental data and the simulation results"
   ]
  },
  {
   "cell_type": "code",
   "execution_count": null,
   "metadata": {},
   "outputs": [],
   "source": [
    "pars2 = pars[5023]\n",
    "sim2 = ScipyOdeSimulator(model, tspan, compiler='python').run(param_values=pars2)"
   ]
  },
  {
   "cell_type": "code",
   "execution_count": null,
   "metadata": {
    "scrolled": true
   },
   "outputs": [],
   "source": [
    "display(pars2, 'data_calibration_par5023')"
   ]
  },
  {
   "cell_type": "markdown",
   "metadata": {},
   "source": [
    "### By visually inspecting the experimental data and the simulation, we see that the simulation results fit the experimental data. Then, we proceed to explore the dynamics of the model with that parameter set by using the function sp_dyn_view from pyvipr."
   ]
  },
  {
   "cell_type": "code",
   "execution_count": null,
   "metadata": {},
   "outputs": [],
   "source": [
    "viz.sp_dyn_view(sim2, layout_name='klay')"
   ]
  },
  {
   "cell_type": "markdown",
   "metadata": {},
   "source": [
    "### For the parameter set 2 we observed that mBid activity was inhibited primarily by the anti-apoptotic protein Mcl1, indicating that it plays an important role in throttling apoptosis\n",
    "\n",
    "### To verify our visualization-based analysis, we carried out another in-silico experiment. We did an Mcl1 knockout and ran a2 simulation of EARM with the parameter set 2.  "
   ]
  },
  {
   "cell_type": "code",
   "execution_count": null,
   "metadata": {},
   "outputs": [],
   "source": [
    "pars_for_mcl1_kd = np.copy(pars2)\n",
    "pars_for_bax_kd = np.copy(pars2)\n",
    "pars_for_mcl1_kd[57] = pars_for_mcl1_kd[57] * 0\n",
    "pars_for_bax_kd[63] = pars_for_bax_kd[63] * 0\n",
    "sim_kd_bcl2 = ScipyOdeSimulator(model, tspan, compiler='python').run(param_values=[pars_for_mcl1_kd, pars_for_bax_kd])"
   ]
  },
  {
   "cell_type": "code",
   "execution_count": null,
   "metadata": {},
   "outputs": [],
   "source": [
    "plt.plot(tspan[:57], sim2.all['cPARP'][:57], label='WT')\n",
    "plt.plot(tspan[:57], sim_kd_bcl2.all[0]['cPARP'][:57], label='Mcl1 KO')\n",
    "plt.plot(tspan[:57], sim_kd_bcl2.all[1]['cPARP'][:57], label='Bax KO')\n",
    "plt.xlabel('Time')\n",
    "plt.ylabel('Molecules')\n",
    "plt.title('cPARP')\n",
    "plt.legend()\n",
    "plt.savefig('par5023_mcl1_ko.png', dpi=500, bbox_inches='tight')"
   ]
  },
  {
   "cell_type": "markdown",
   "metadata": {},
   "source": [
    "### We found that time-to-death was reduced by 22.6%, corroborating that Mcl1 was delaying the apoptosis execution by binding to mBid.  "
   ]
  },
  {
   "cell_type": "markdown",
   "metadata": {},
   "source": [
    "### These results demonstrated that although these two parameter sets fit the data equally well, they executed the apoptosis signal in different ways; specifically, in this case the parameter sets determined whether Bax or Mcl1 played the key role in regulating apoptosis execution."
   ]
  },
  {
   "cell_type": "code",
   "execution_count": null,
   "metadata": {},
   "outputs": [],
   "source": [
    "from scipy.optimize import curve_fit\n",
    "\n",
    "def sig_apop(t, f, td, ts):\n",
    "    \"\"\"\n",
    "\n",
    "    Parameters\n",
    "    ----------\n",
    "    t : list-like\n",
    "        Time variable in the function\n",
    "    f : float\n",
    "        is the fraction cleaved at the end of the reaction\n",
    "    td : float\n",
    "        is the delay period between TRAIL addition and half-maximal substrate cleavage\n",
    "    ts : float\n",
    "        is the switching time between initial and complete effector substrate  cleavage\n",
    "\n",
    "    Returns\n",
    "    -------\n",
    "\n",
    "    \"\"\"\n",
    "    return f - f / (1 + np.exp((t - td) / (4 * ts)))\n",
    "\n",
    "#     xdata: list-like,\n",
    "#         x-axis data points (usually time span of the simulation)\n",
    "#     ydata: list-like,\n",
    "#         y-axis data points (usually concentration of species in time)\n",
    "\n",
    "c = curve_fit(f=sig_apop, xdata=tspan, ydata=sim.all['cPARP'], p0=[10,10,10])\n"
   ]
  }
 ],
 "metadata": {
  "kernelspec": {
   "display_name": "Python 3",
   "language": "python",
   "name": "python3"
  },
  "language_info": {
   "codemirror_mode": {
    "name": "ipython",
    "version": 3
   },
   "file_extension": ".py",
   "mimetype": "text/x-python",
   "name": "python",
   "nbconvert_exporter": "python",
   "pygments_lexer": "ipython3",
   "version": "3.6.9"
  }
 },
 "nbformat": 4,
 "nbformat_minor": 4
}

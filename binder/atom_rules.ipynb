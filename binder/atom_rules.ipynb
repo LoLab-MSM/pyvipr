{
 "cells": [
  {
   "cell_type": "markdown",
   "metadata": {},
   "source": [
    "### This Jupyter Notebook shows how PyViPR uses the BioNetGen atom-rules function to reproduce the figures in the S2 Appendix: Tutorial of Sekar et al work: https://doi.org/10.1371/journal.pcbi.1005857"
   ]
  },
  {
   "cell_type": "markdown",
   "metadata": {},
   "source": [
    "### We first import libraries"
   ]
  },
  {
   "cell_type": "code",
   "execution_count": null,
   "metadata": {},
   "outputs": [],
   "source": [
    "from pysb.importers.bngl import model_from_bngl\n",
    "import pyvipr.pysb_viz as viz"
   ]
  },
  {
   "cell_type": "markdown",
   "metadata": {},
   "source": [
    "### Then, we use the ensemble_1.bngl model used in the tutorial"
   ]
  },
  {
   "cell_type": "code",
   "execution_count": null,
   "metadata": {},
   "outputs": [],
   "source": [
    "import os\n",
    "import pyvipr.examples_models as models\n",
    "models_path = os.path.dirname(models.__file__)\n",
    "ensemble_path = os.path.join(models_path, 'ensemble_1_bng/ensemble_1.bngl')"
   ]
  },
  {
   "cell_type": "markdown",
   "metadata": {},
   "source": [
    "### We use the pysb model_from_bngl function to translate the BioNetGen model into the PySB format"
   ]
  },
  {
   "cell_type": "code",
   "execution_count": null,
   "metadata": {},
   "outputs": [],
   "source": [
    "model = model_from_bngl(ensemble_path)"
   ]
  },
  {
   "cell_type": "markdown",
   "metadata": {},
   "source": [
    "### We use the same actions as in the supplement to obtain figure 2"
   ]
  },
  {
   "cell_type": "code",
   "execution_count": null,
   "metadata": {
    "scrolled": false
   },
   "outputs": [],
   "source": [
    "visualize_rule = {'type': 'compact', 'each': 1}\n",
    "viz.atom_rules_view(model, visualize_rule, '_R247', cleanup=False)"
   ]
  },
  {
   "cell_type": "markdown",
   "metadata": {},
   "source": [
    "### Then, we obtain the Full Model Atom-Rule (AR) graph, which is the same as figure 4"
   ]
  },
  {
   "cell_type": "code",
   "execution_count": null,
   "metadata": {},
   "outputs": [],
   "source": [
    "visualize_reg = {}\n",
    "visualize_reg['type'] = 'regulatory'\n",
    "visualize_reg['background'] = 1\n",
    "visualize_reg['ruleNames'] = 1\n",
    "visualize_reg['each'] = 0\n",
    "visualize_reg['suffix'] = 'full'\n",
    "viz.atom_rules_view(model, visualize_reg)"
   ]
  },
  {
   "cell_type": "markdown",
   "metadata": {},
   "source": [
    "### Finally, we obtain the compressed AR graph using the actions defined in the supplement (S2.7)"
   ]
  },
  {
   "cell_type": "code",
   "execution_count": null,
   "metadata": {},
   "outputs": [],
   "source": [
    "opts_path = os.path.join(models_path, 'ensemble_1_bng/ensemble_1_opts.txt')\n",
    "visualize_compressed = {'type': 'regulatory', \n",
    "                        'opts': opts_path,\n",
    "                        'groups': 1, 'collapse': 1, 'doNotUseContextWhenGrouping': 1, 'ruleNames': 1,\n",
    "                        'removeReactantContext': 1, 'suffix': 'compressed'}\n",
    "viz.atom_rules_view(model, visualize_compressed)"
   ]
  },
  {
   "cell_type": "code",
   "execution_count": null,
   "metadata": {},
   "outputs": [],
   "source": []
  }
 ],
 "metadata": {
  "kernelspec": {
   "display_name": "Python 3",
   "language": "python",
   "name": "python3"
  },
  "language_info": {
   "codemirror_mode": {
    "name": "ipython",
    "version": 3
   },
   "file_extension": ".py",
   "mimetype": "text/x-python",
   "name": "python",
   "nbconvert_exporter": "python",
   "pygments_lexer": "ipython3",
   "version": "3.6.9"
  }
 },
 "nbformat": 4,
 "nbformat_minor": 2
}

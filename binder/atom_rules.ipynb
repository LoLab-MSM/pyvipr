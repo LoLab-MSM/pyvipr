{
 "cells": [
  {
   "cell_type": "markdown",
   "metadata": {},
   "source": [
    "### Import libraries"
   ]
  },
  {
   "cell_type": "code",
   "execution_count": null,
   "metadata": {},
   "outputs": [],
   "source": [
    "from pysb.importers.bngl import model_from_bngl\n",
    "import pyvipr.pysb_viz as viz"
   ]
  },
  {
   "cell_type": "markdown",
   "metadata": {},
   "source": [
    "### Get ensemble_1 file path"
   ]
  },
  {
   "cell_type": "code",
   "execution_count": null,
   "metadata": {},
   "outputs": [],
   "source": [
    "import os\n",
    "import pyvipr.examples_models as models\n",
    "models_path = os.path.dirname(models.__file__)\n",
    "ensemble_path = os.path.join(models_path, 'ensemble_1_bng/ensemble_1.bngl')"
   ]
  },
  {
   "cell_type": "markdown",
   "metadata": {},
   "source": [
    "### We use the pysb model_from_bngl function to translate the BioNetGen model into the PySB format"
   ]
  },
  {
   "cell_type": "code",
   "execution_count": null,
   "metadata": {},
   "outputs": [],
   "source": [
    "model = model_from_bngl(ensemble_path)"
   ]
  },
  {
   "cell_type": "markdown",
   "metadata": {},
   "source": [
    "### We obtain the same figure of the supplementary material of the Sekar et al paper"
   ]
  },
  {
   "cell_type": "code",
   "execution_count": null,
   "metadata": {
    "scrolled": false
   },
   "outputs": [],
   "source": [
    "visualize_rule = {'type': 'compact', 'each': 1}\n",
    "viz.atom_rules_view(model, visualize_rule, '_R247', cleanup=False)"
   ]
  },
  {
   "cell_type": "markdown",
   "metadata": {},
   "source": [
    "### We obtain the same figure of the supplementary material of Sekar et al paper"
   ]
  },
  {
   "cell_type": "code",
   "execution_count": null,
   "metadata": {},
   "outputs": [],
   "source": [
    "visualize_reg = {}\n",
    "visualize_reg['type'] = 'regulatory'\n",
    "visualize_reg['background'] = 1\n",
    "visualize_reg['ruleNames'] = 1\n",
    "visualize_reg['each'] = 0\n",
    "visualize_reg['suffix'] = 'full'\n",
    "viz.atom_rules_view(model, visualize_reg)"
   ]
  },
  {
   "cell_type": "code",
   "execution_count": null,
   "metadata": {},
   "outputs": [],
   "source": [
    "opts_path = os.path.join(models_path, 'ensemble_1_bng/ensemble_1_opts.txt')\n",
    "visualize_compressed = {'type': 'regulatory', \n",
    "                        'opts': opts_path,\n",
    "                        'groups': 1, 'collapse': 1, 'doNotUseContextWhenGrouping': 1, 'ruleNames': 1,\n",
    "                        'removeReactantContext': 1, 'suffix': 'compressed'}\n",
    "viz.atom_rules_view(model, visualize_compressed)"
   ]
  },
  {
   "cell_type": "code",
   "execution_count": null,
   "metadata": {},
   "outputs": [],
   "source": []
  }
 ],
 "metadata": {
  "kernelspec": {
   "display_name": "Python 3",
   "language": "python",
   "name": "python3"
  },
  "language_info": {
   "codemirror_mode": {
    "name": "ipython",
    "version": 3
   },
   "file_extension": ".py",
   "mimetype": "text/x-python",
   "name": "python",
   "nbconvert_exporter": "python",
   "pygments_lexer": "ipython3",
   "version": "3.6.9"
  }
 },
 "nbformat": 4,
 "nbformat_minor": 2
}

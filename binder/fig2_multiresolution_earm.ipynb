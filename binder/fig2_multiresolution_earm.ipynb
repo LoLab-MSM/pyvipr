{
 "cells": [
  {
   "cell_type": "markdown",
   "metadata": {},
   "source": [
    "# Multiresolution visualization of the Extrinsic Apoptosis Reaction Model\n",
    "\n",
    "We start by importing the EARM model and the pyvipr library to render the network of interactions defined in the model. Then, we can look at the bipartite graph of EARM that includes the species and rules nodes. "
   ]
  },
  {
   "cell_type": "code",
   "execution_count": 1,
   "metadata": {},
   "outputs": [],
   "source": [
    "# Import libraries\n",
    "from pyvipr.pysb_models.lopez_embedded import model\n",
    "import pyvipr as viz"
   ]
  },
  {
   "cell_type": "code",
   "execution_count": 2,
   "metadata": {
    "scrolled": false
   },
   "outputs": [
    {
     "data": {
      "application/vnd.jupyter.widget-view+json": {
       "model_id": "bcd08cc02d9b4e27b7e7f8766aa4a0b4",
       "version_major": 2,
       "version_minor": 0
      },
      "text/plain": [
       "pysbViz(data=<Model 'pyvipr.pysb_models.lopez_embedded' (monomers: 23, rules: 62, parameters: 126, expressions…"
      ]
     },
     "metadata": {},
     "output_type": "display_data"
    }
   ],
   "source": [
    "viz.sp_rules_view(model, layout_name='cose-bilkent')"
   ]
  },
  {
   "cell_type": "markdown",
   "metadata": {},
   "source": [
    "# Projecting the bipartite graph to a unipartite graph of only species\n",
    "\n",
    "From the first visualization we realized that the network is too large to navigate and discern a meaningful structure of the model interactions. Hence, we can project the bipartite graph to a unipartite graph to reduce the number of nodes in the visualization"
   ]
  },
  {
   "cell_type": "code",
   "execution_count": 3,
   "metadata": {},
   "outputs": [
    {
     "data": {
      "application/vnd.jupyter.widget-view+json": {
       "model_id": "e76d10c35c444a7592162834a79afa34",
       "version_major": 2,
       "version_minor": 0
      },
      "text/plain": [
       "pysbViz(data=<Model 'pyvipr.pysb_models.lopez_embedded' (monomers: 23, rules: 62, parameters: 126, expressions…"
      ]
     },
     "metadata": {},
     "output_type": "display_data"
    }
   ],
   "source": [
    "viz.projected_species_rules_view(model, layout_name='cose-bilkent')"
   ]
  },
  {
   "cell_type": "markdown",
   "metadata": {},
   "source": [
    "# Communities detected in EARM\n",
    "\n",
    "To organize the species graph and improve the legibility we can apply a comunity detection algorithm to the graph and embbed the resulting communities (group of nodes) into compound nodes that are collapsible/expandable"
   ]
  },
  {
   "cell_type": "code",
   "execution_count": 4,
   "metadata": {},
   "outputs": [
    {
     "data": {
      "application/vnd.jupyter.widget-view+json": {
       "model_id": "385b2ca583ae467680d5dad8dd92a423",
       "version_major": 2,
       "version_minor": 0
      },
      "text/plain": [
       "pysbViz(data=<Model 'pyvipr.pysb_models.lopez_embedded' (monomers: 23, rules: 62, parameters: 126, expressions…"
      ]
     },
     "metadata": {},
     "output_type": "display_data"
    }
   ],
   "source": [
    "viz.sp_comm_view(model, random_state=1, layout_name='klay')"
   ]
  },
  {
   "cell_type": "markdown",
   "metadata": {},
   "source": [
    "Finally, we can collapse all the communities to study the graph at a more coarse-grained level"
   ]
  },
  {
   "cell_type": "code",
   "execution_count": 5,
   "metadata": {},
   "outputs": [
    {
     "data": {
      "application/vnd.jupyter.widget-view+json": {
       "model_id": "ca494532958341e595ee9849cdddf092",
       "version_major": 2,
       "version_minor": 0
      },
      "text/plain": [
       "pysbViz(data=<Model 'pyvipr.pysb_models.lopez_embedded' (monomers: 23, rules: 62, parameters: 126, expressions…"
      ]
     },
     "metadata": {},
     "output_type": "display_data"
    }
   ],
   "source": [
    "viz.sp_comm_view(model, random_state=1, layout_name='klay')"
   ]
  },
  {
   "cell_type": "code",
   "execution_count": null,
   "metadata": {},
   "outputs": [],
   "source": []
  }
 ],
 "metadata": {
  "kernelspec": {
   "display_name": "Python 3",
   "language": "python",
   "name": "python3"
  },
  "language_info": {
   "codemirror_mode": {
    "name": "ipython",
    "version": 3
   },
   "file_extension": ".py",
   "mimetype": "text/x-python",
   "name": "python",
   "nbconvert_exporter": "python",
   "pygments_lexer": "ipython3",
   "version": "3.7.1"
  },
  "widgets": {
   "application/vnd.jupyter.widget-state+json": {
    "state": {
     "01e12f782dfb4d009c6c5fe895d05f41": {
      "model_module": "pyvipr",
      "model_module_version": "^0.1.17",
      "model_name": "CytoscapeModel",
      "state": {
       "background": "#FFFFFF",
       "data": {
        "data": {
         "graph": {
          "rankdir": "LR"
         },
         "name": "pyvipr.pysb_models.lopez_embedded",
         "paths": []
        },
        "elements": {
         "edges": [
          {
           "data": {
            "arrowhead": "normal",
            "id": "696b5297-bc26-4bcc-9721-074ee9b3a6d2",
            "source": "s0",
            "source_arrow_fill": "hollow",
            "source_arrow_shape": "diamond",
            "target": "s21",
            "target_arrow_shape": "triangle"
           }
          },
          {
           "data": {
            "arrowhead": "normal",
            "id": "147790de-c40a-4fa6-bf98-67c99fbf74fe",
            "source": "s1",
            "source_arrow_fill": "hollow",
            "source_arrow_shape": "diamond",
            "target": "s21",
            "target_arrow_shape": "triangle"
           }
          },
          {
           "data": {
            "arrowhead": "normal",
            "id": "a7c6bfb9-7df1-4647-8e20-a6be60a8a5b5",
            "source": "s2",
            "source_arrow_fill": "hollow",
            "source_arrow_shape": "diamond",
            "target": "s27",
            "target_arrow_shape": "triangle"
           }
          },
          {
           "data": {
            "arrowhead": "normal",
            "id": "8ba0fe4c-78c3-4235-a40e-010817274c93",
            "source": "s3",
            "source_arrow_fill": "hollow",
            "source_arrow_shape": "diamond",
            "target": "s26",
            "target_arrow_shape": "triangle"
           }
          },
          {
           "data": {
            "arrowhead": "normal",
            "id": "0eaba453-b765-4a8f-9e78-398af804c597",
            "source": "s3",
            "source_arrow_fill": "hollow",
            "source_arrow_shape": "diamond",
            "target": "s46",
            "target_arrow_shape": "triangle"
           }
          },
          {
           "data": {
            "arrowhead": "normal",
            "id": "45babb50-fdfb-4cc9-9864-32a57f0eab7f",
            "source": "s4",
            "source_arrow_fill": "hollow",
            "source_arrow_shape": "diamond",
            "target": "s30",
            "target_arrow_shape": "triangle"
           }
          },
          {
           "data": {
            "arrowhead": "normal",
            "id": "097eb4dd-16a6-43dc-8190-57e4d5458ea7",
            "source": "s5",
            "source_arrow_fill": "hollow",
            "source_arrow_shape": "diamond",
            "target": "s71",
            "target_arrow_shape": "triangle"
           }
          },
          {
           "data": {
            "arrowhead": "normal",
            "id": "5f41f3a6-e637-4dbf-8bf1-14ce1f331deb",
            "source": "s6",
            "source_arrow_fill": "hollow",
            "source_arrow_shape": "diamond",
            "target": "s31",
            "target_arrow_shape": "triangle"
           }
          },
          {
           "data": {
            "arrowhead": "normal",
            "id": "05b97cae-c599-4eed-b7a3-10898b27e761",
            "source": "s6",
            "source_arrow_fill": "hollow",
            "source_arrow_shape": "diamond",
            "target": "s75",
            "target_arrow_shape": "triangle"
           }
          },
          {
           "data": {
            "arrowhead": "normal",
            "id": "d38fbe92-d151-4b02-bb47-b114bb162644",
            "source": "s7",
            "source_arrow_fill": "hollow",
            "source_arrow_shape": "diamond",
            "target": "s36",
            "target_arrow_shape": "triangle"
           }
          },
          {
           "data": {
            "arrowhead": "normal",
            "id": "10d3298a-42f7-4a6e-8d68-96249dfc41de",
            "source": "s8",
            "source_arrow_fill": "hollow",
            "source_arrow_shape": "diamond",
            "target": "s74",
            "target_arrow_shape": "triangle"
           }
          },
          {
           "data": {
            "arrowhead": "normal",
            "id": "e4742e24-a16c-4729-99a9-37b42051f396",
            "source": "s9",
            "source_arrow_fill": "hollow",
            "source_arrow_shape": "diamond",
            "target": "s35",
            "target_arrow_shape": "triangle"
           }
          },
          {
           "data": {
            "arrowhead": "normal",
            "id": "9b00401a-891d-4446-8d47-85bdfe713e92",
            "source": "s10",
            "source_arrow_fill": "hollow",
            "source_arrow_shape": "diamond",
            "target": "s34",
            "target_arrow_shape": "triangle"
           }
          },
          {
           "data": {
            "arrowhead": "normal",
            "id": "00ddf636-028c-4b62-8771-ec3868dc4976",
            "source": "s10",
            "source_arrow_fill": "hollow",
            "source_arrow_shape": "diamond",
            "target": "s72",
            "target_arrow_shape": "triangle"
           }
          },
          {
           "data": {
            "arrowhead": "normal",
            "id": "45c6c956-33a3-4520-b63c-6358f978744d",
            "source": "s10",
            "source_arrow_fill": "hollow",
            "source_arrow_shape": "diamond",
            "target": "s76",
            "target_arrow_shape": "triangle"
           }
          },
          {
           "data": {
            "arrowhead": "normal",
            "id": "c2f45950-953f-4cf0-a54b-67d8941d5dfd",
            "source": "s11",
            "source_arrow_fill": "hollow",
            "source_arrow_shape": "diamond",
            "target": "s29",
            "target_arrow_shape": "triangle"
           }
          },
          {
           "data": {
            "arrowhead": "normal",
            "id": "a8c5f7ea-c5cf-440f-96a1-6bddcf7cabed",
            "source": "s12",
            "source_arrow_fill": "hollow",
            "source_arrow_shape": "diamond",
            "target": "s41",
            "target_arrow_shape": "triangle"
           }
          },
          {
           "data": {
            "arrowhead": "normal",
            "id": "84950bf0-d051-4ab3-aea7-8c5fb96d2e9e",
            "source": "s13",
            "source_arrow_fill": "hollow",
            "source_arrow_shape": "diamond",
            "target": "s42",
            "target_arrow_shape": "triangle"
           }
          },
          {
           "data": {
            "arrowhead": "normal",
            "id": "91da7fc6-90af-462f-bf58-53d4c86f6cf2",
            "source": "s13",
            "source_arrow_fill": "hollow",
            "source_arrow_shape": "diamond",
            "target": "s50",
            "target_arrow_shape": "triangle"
           }
          },
          {
           "data": {
            "arrowhead": "normal",
            "id": "020bf9eb-7cb2-4218-86fd-145573ca48d9",
            "source": "s14",
            "source_arrow_fill": "hollow",
            "source_arrow_shape": "diamond",
            "target": "s22",
            "target_arrow_shape": "triangle"
           }
          },
          {
           "data": {
            "arrowhead": "normal",
            "id": "de3eea32-f4dc-4c0f-8ab5-ac3ddeaab1bb",
            "source": "s14",
            "source_arrow_fill": "hollow",
            "source_arrow_shape": "diamond",
            "target": "s43",
            "target_arrow_shape": "triangle"
           }
          },
          {
           "data": {
            "arrowhead": "normal",
            "id": "3a5fb4c7-d75c-4865-8bed-e1f138bd16ae",
            "source": "s14",
            "source_arrow_fill": "hollow",
            "source_arrow_shape": "diamond",
            "target": "s57",
            "target_arrow_shape": "triangle"
           }
          },
          {
           "data": {
            "arrowhead": "normal",
            "id": "ac748075-db35-4b8c-aec0-32894d77b3a6",
            "source": "s15",
            "source_arrow_fill": "hollow",
            "source_arrow_shape": "diamond",
            "target": "s23",
            "target_arrow_shape": "triangle"
           }
          },
          {
           "data": {
            "arrowhead": "normal",
            "id": "3da9bb49-e146-4832-82a1-0023234c2c9c",
            "source": "s15",
            "source_arrow_fill": "hollow",
            "source_arrow_shape": "diamond",
            "target": "s44",
            "target_arrow_shape": "triangle"
           }
          },
          {
           "data": {
            "arrowhead": "normal",
            "id": "92539b5f-5bd1-42d4-80af-d61bdeda2028",
            "source": "s15",
            "source_arrow_fill": "hollow",
            "source_arrow_shape": "diamond",
            "target": "s51",
            "target_arrow_shape": "triangle"
           }
          },
          {
           "data": {
            "arrowhead": "normal",
            "id": "e183ae93-3914-4507-820d-ef7efb20244a",
            "source": "s15",
            "source_arrow_fill": "hollow",
            "source_arrow_shape": "diamond",
            "target": "s58",
            "target_arrow_shape": "triangle"
           }
          },
          {
           "data": {
            "arrowhead": "normal",
            "id": "fb784114-def7-4192-93ec-09044d2aa3ee",
            "source": "s16",
            "source_arrow_fill": "hollow",
            "source_arrow_shape": "diamond",
            "target": "s24",
            "target_arrow_shape": "triangle"
           }
          },
          {
           "data": {
            "arrowhead": "normal",
            "id": "2438d789-efca-48a0-8cec-9ed24024490c",
            "source": "s16",
            "source_arrow_fill": "hollow",
            "source_arrow_shape": "diamond",
            "target": "s45",
            "target_arrow_shape": "triangle"
           }
          },
          {
           "data": {
            "arrowhead": "normal",
            "id": "73c23c83-119a-4787-be72-5bb03ee6e5bd",
            "source": "s16",
            "source_arrow_fill": "hollow",
            "source_arrow_shape": "diamond",
            "target": "s52",
            "target_arrow_shape": "triangle"
           }
          },
          {
           "data": {
            "arrowhead": "normal",
            "id": "5e74e125-0982-4a12-8997-4c79f7f0b395",
            "source": "s17",
            "source_arrow_fill": "hollow",
            "source_arrow_shape": "diamond",
            "target": "s22",
            "target_arrow_shape": "triangle"
           }
          },
          {
           "data": {
            "arrowhead": "normal",
            "id": "9e84a408-7911-45fa-b1bd-d0b90754efa8",
            "source": "s17",
            "source_arrow_fill": "hollow",
            "source_arrow_shape": "diamond",
            "target": "s23",
            "target_arrow_shape": "triangle"
           }
          },
          {
           "data": {
            "arrowhead": "normal",
            "id": "10fa27ed-4873-4b70-b94b-07c485ba29a3",
            "source": "s18",
            "source_arrow_fill": "hollow",
            "source_arrow_shape": "diamond",
            "target": "s24",
            "target_arrow_shape": "triangle"
           }
          },
          {
           "data": {
            "arrowhead": "normal",
            "id": "68913f2d-d2e1-459e-b97f-a7d48e3b4d3d",
            "source": "s19",
            "source_arrow_fill": "hollow",
            "source_arrow_shape": "diamond",
            "target": "s62",
            "target_arrow_shape": "triangle"
           }
          },
          {
           "data": {
            "arrowhead": "normal",
            "id": "1991e238-7757-4015-9a07-ef6e90e02222",
            "source": "s19",
            "source_arrow_fill": "hollow",
            "source_arrow_shape": "diamond",
            "target": "s69",
            "target_arrow_shape": "triangle"
           }
          },
          {
           "data": {
            "arrowhead": "normal",
            "id": "3745ef64-86ad-4dcd-8e5f-5fc8daa58313",
            "source": "s20",
            "source_arrow_fill": "hollow",
            "source_arrow_shape": "diamond",
            "target": "s63",
            "target_arrow_shape": "triangle"
           }
          },
          {
           "data": {
            "arrowhead": "normal",
            "id": "a80efc05-88e1-4ced-8607-377783072b9b",
            "source": "s20",
            "source_arrow_fill": "hollow",
            "source_arrow_shape": "diamond",
            "target": "s70",
            "target_arrow_shape": "triangle"
           }
          },
          {
           "data": {
            "arrowhead": "normal",
            "id": "dae9e3ee-9f3e-4aea-8ec2-675ce59ae71a",
            "source": "s21",
            "source_arrow_fill": "filled",
            "source_arrow_shape": "none",
            "target": "s25",
            "target_arrow_shape": "triangle"
           }
          },
          {
           "data": {
            "arrowhead": "normal",
            "id": "c970fe56-58ba-42e5-9bbe-fb632cab28e7",
            "source": "s25",
            "source_arrow_fill": "hollow",
            "source_arrow_shape": "diamond",
            "target": "s26",
            "target_arrow_shape": "triangle"
           }
          },
          {
           "data": {
            "arrowhead": "normal",
            "id": "5d1b734f-6275-44c2-ac54-8be1f1fb5df0",
            "source": "s25",
            "source_arrow_fill": "hollow",
            "source_arrow_shape": "diamond",
            "target": "s27",
            "target_arrow_shape": "triangle"
           }
          },
          {
           "data": {
            "arrowhead": "normal",
            "id": "f8bffaee-db96-4359-b806-9fba07645d0e",
            "source": "s26",
            "source_arrow_fill": "filled",
            "source_arrow_shape": "none",
            "target": "s25",
            "target_arrow_shape": "triangle"
           }
          },
          {
           "data": {
            "arrowhead": "normal",
            "id": "12eebd51-d4a2-4025-87c8-f03085791740",
            "source": "s26",
            "source_arrow_fill": "filled",
            "source_arrow_shape": "none",
            "target": "s28",
            "target_arrow_shape": "triangle"
           }
          },
          {
           "data": {
            "arrowhead": "normal",
            "id": "4f771095-2f38-42cb-a7cc-6099d80e2ba4",
            "source": "s28",
            "source_arrow_fill": "hollow",
            "source_arrow_shape": "diamond",
            "target": "s29",
            "target_arrow_shape": "triangle"
           }
          },
          {
           "data": {
            "arrowhead": "normal",
            "id": "9962b944-25fc-4bf9-a3af-0416a478977f",
            "source": "s28",
            "source_arrow_fill": "hollow",
            "source_arrow_shape": "diamond",
            "target": "s30",
            "target_arrow_shape": "triangle"
           }
          },
          {
           "data": {
            "arrowhead": "normal",
            "id": "2119aa9f-56b0-4a85-bbbc-4e9100dd68b7",
            "source": "s28",
            "source_arrow_fill": "hollow",
            "source_arrow_shape": "diamond",
            "target": "s31",
            "target_arrow_shape": "triangle"
           }
          },
          {
           "data": {
            "arrowhead": "normal",
            "id": "bcf6ce42-3ad2-404d-844c-769b8442d03a",
            "source": "s29",
            "source_arrow_fill": "filled",
            "source_arrow_shape": "none",
            "target": "s32",
            "target_arrow_shape": "triangle"
           }
          },
          {
           "data": {
            "arrowhead": "normal",
            "id": "47ff99c7-c311-4a09-b2ff-1d241b22de53",
            "source": "s29",
            "source_arrow_fill": "filled",
            "source_arrow_shape": "none",
            "target": "s28",
            "target_arrow_shape": "triangle"
           }
          },
          {
           "data": {
            "arrowhead": "normal",
            "id": "ef9c23ef-fea0-472f-8089-9c34c7b5509a",
            "source": "s31",
            "source_arrow_fill": "filled",
            "source_arrow_shape": "none",
            "target": "s33",
            "target_arrow_shape": "triangle"
           }
          },
          {
           "data": {
            "arrowhead": "normal",
            "id": "6df6bd4e-9ec1-4c62-a3f4-c0bbd061209d",
            "source": "s31",
            "source_arrow_fill": "filled",
            "source_arrow_shape": "none",
            "target": "s28",
            "target_arrow_shape": "triangle"
           }
          },
          {
           "data": {
            "arrowhead": "normal",
            "id": "8b6d95dd-580b-4ccc-a4c5-6e3d9cbbce2e",
            "source": "s32",
            "source_arrow_fill": "hollow",
            "source_arrow_shape": "diamond",
            "target": "s37",
            "target_arrow_shape": "triangle"
           }
          },
          {
           "data": {
            "arrowhead": "normal",
            "id": "5ccb9d8c-e64b-442a-a6c3-c7a1fa97943b",
            "source": "s33",
            "source_arrow_fill": "hollow",
            "source_arrow_shape": "diamond",
            "target": "s34",
            "target_arrow_shape": "triangle"
           }
          },
          {
           "data": {
            "arrowhead": "normal",
            "id": "333d2c48-733d-4a83-9001-f61586b95226",
            "source": "s33",
            "source_arrow_fill": "hollow",
            "source_arrow_shape": "diamond",
            "target": "s35",
            "target_arrow_shape": "triangle"
           }
          },
          {
           "data": {
            "arrowhead": "normal",
            "id": "4fe72221-eba5-40bb-85b8-e7290dcd0976",
            "source": "s33",
            "source_arrow_fill": "hollow",
            "source_arrow_shape": "diamond",
            "target": "s36",
            "target_arrow_shape": "triangle"
           }
          },
          {
           "data": {
            "arrowhead": "normal",
            "id": "4b9ae610-92a7-472a-b0c3-02111dfe0d5b",
            "source": "s34",
            "source_arrow_fill": "filled",
            "source_arrow_shape": "none",
            "target": "s10",
            "target_arrow_shape": "triangle"
           }
          },
          {
           "data": {
            "arrowhead": "normal",
            "id": "08ffefca-37a6-49ee-8e58-632326f5a8bc",
            "source": "s34",
            "source_arrow_fill": "filled",
            "source_arrow_shape": "none",
            "target": "s38",
            "target_arrow_shape": "triangle"
           }
          },
          {
           "data": {
            "arrowhead": "normal",
            "id": "8da5b4cd-7fcb-431e-8f0f-8a00e9189862",
            "source": "s35",
            "source_arrow_fill": "filled",
            "source_arrow_shape": "none",
            "target": "s33",
            "target_arrow_shape": "triangle"
           }
          },
          {
           "data": {
            "arrowhead": "normal",
            "id": "dab8ec6a-f4b2-485b-bc01-0b9706a40f8b",
            "source": "s35",
            "source_arrow_fill": "filled",
            "source_arrow_shape": "none",
            "target": "s39",
            "target_arrow_shape": "triangle"
           }
          },
          {
           "data": {
            "arrowhead": "normal",
            "id": "d770a645-9ae7-4249-9dd7-64c26cedd32c",
            "source": "s36",
            "source_arrow_fill": "filled",
            "source_arrow_shape": "none",
            "target": "s40",
            "target_arrow_shape": "triangle"
           }
          },
          {
           "data": {
            "arrowhead": "normal",
            "id": "dee16378-a732-43f5-a70d-90acf415334d",
            "source": "s36",
            "source_arrow_fill": "filled",
            "source_arrow_shape": "none",
            "target": "s33",
            "target_arrow_shape": "triangle"
           }
          },
          {
           "data": {
            "arrowhead": "normal",
            "id": "89c84066-49e5-437e-aaf1-92eda154707c",
            "source": "s37",
            "source_arrow_fill": "hollow",
            "source_arrow_shape": "diamond",
            "target": "s41",
            "target_arrow_shape": "triangle"
           }
          },
          {
           "data": {
            "arrowhead": "normal",
            "id": "7e1f8a60-ffc7-4438-b14f-f6c1a45bdd21",
            "source": "s37",
            "source_arrow_fill": "hollow",
            "source_arrow_shape": "diamond",
            "target": "s42",
            "target_arrow_shape": "triangle"
           }
          },
          {
           "data": {
            "arrowhead": "normal",
            "id": "3b5fc8fd-a32c-43df-848e-daa4928a0f06",
            "source": "s37",
            "source_arrow_fill": "hollow",
            "source_arrow_shape": "diamond",
            "target": "s43",
            "target_arrow_shape": "triangle"
           }
          },
          {
           "data": {
            "arrowhead": "normal",
            "id": "42ff27c2-3f08-40cf-8185-e3679eef0e71",
            "source": "s37",
            "source_arrow_fill": "hollow",
            "source_arrow_shape": "diamond",
            "target": "s44",
            "target_arrow_shape": "triangle"
           }
          },
          {
           "data": {
            "arrowhead": "normal",
            "id": "895d48f0-26fc-44d5-9aee-f31e240aa48e",
            "source": "s37",
            "source_arrow_fill": "hollow",
            "source_arrow_shape": "diamond",
            "target": "s45",
            "target_arrow_shape": "triangle"
           }
          },
          {
           "data": {
            "arrowhead": "normal",
            "id": "ecae0518-a3e0-4093-8276-3e6ae9f0f0c9",
            "source": "s37",
            "source_arrow_fill": "hollow",
            "source_arrow_shape": "diamond",
            "target": "s49",
            "target_arrow_shape": "triangle"
           }
          },
          {
           "data": {
            "arrowhead": "normal",
            "id": "806bc8fc-e4a5-4a0a-a686-74090dc3d88c",
            "source": "s40",
            "source_arrow_fill": "hollow",
            "source_arrow_shape": "diamond",
            "target": "s46",
            "target_arrow_shape": "triangle"
           }
          },
          {
           "data": {
            "arrowhead": "normal",
            "id": "89b0d674-64ee-44da-9cbe-939bdf433597",
            "source": "s41",
            "source_arrow_fill": "filled",
            "source_arrow_shape": "none",
            "target": "s37",
            "target_arrow_shape": "triangle"
           }
          },
          {
           "data": {
            "arrowhead": "normal",
            "id": "835f758f-e22b-47b5-b506-78ac191f4572",
            "source": "s41",
            "source_arrow_fill": "filled",
            "source_arrow_shape": "none",
            "target": "s47",
            "target_arrow_shape": "triangle"
           }
          },
          {
           "data": {
            "arrowhead": "normal",
            "id": "27f32a01-2b40-46fe-ab19-d854ad5e86f4",
            "source": "s42",
            "source_arrow_fill": "filled",
            "source_arrow_shape": "none",
            "target": "s48",
            "target_arrow_shape": "triangle"
           }
          },
          {
           "data": {
            "arrowhead": "normal",
            "id": "95238253-66cf-4ea5-9c38-458fd7747c61",
            "source": "s42",
            "source_arrow_fill": "filled",
            "source_arrow_shape": "none",
            "target": "s37",
            "target_arrow_shape": "triangle"
           }
          },
          {
           "data": {
            "arrowhead": "normal",
            "id": "c7bbf5cd-1900-4e52-b878-f1320dbd0006",
            "source": "s46",
            "source_arrow_fill": "filled",
            "source_arrow_shape": "none",
            "target": "s40",
            "target_arrow_shape": "triangle"
           }
          },
          {
           "data": {
            "arrowhead": "normal",
            "id": "ab200ba4-30ef-4751-91e0-db95b6bf2320",
            "source": "s46",
            "source_arrow_fill": "filled",
            "source_arrow_shape": "none",
            "target": "s28",
            "target_arrow_shape": "triangle"
           }
          },
          {
           "data": {
            "arrowhead": "normal",
            "id": "4abb8a6c-49d7-448e-8745-297d2d4b1c9d",
            "source": "s47",
            "source_arrow_fill": "hollow",
            "source_arrow_shape": "diamond",
            "target": "s49",
            "target_arrow_shape": "triangle"
           }
          },
          {
           "data": {
            "arrowhead": "normal",
            "id": "bcb5d095-fbb5-431a-ab60-0535797d3421",
            "source": "s47",
            "source_arrow_fill": "hollow",
            "source_arrow_shape": "diamond",
            "target": "s56",
            "target_arrow_shape": "triangle"
           }
          },
          {
           "data": {
            "arrowhead": "normal",
            "id": "704eadb4-7773-4acd-81de-b86b5fcc4b3e",
            "source": "s48",
            "source_arrow_fill": "hollow",
            "source_arrow_shape": "diamond",
            "target": "s50",
            "target_arrow_shape": "triangle"
           }
          },
          {
           "data": {
            "arrowhead": "normal",
            "id": "9ce1f8e2-d2a6-444b-9df4-67ddb7374ad6",
            "source": "s48",
            "source_arrow_fill": "hollow",
            "source_arrow_shape": "diamond",
            "target": "s51",
            "target_arrow_shape": "triangle"
           }
          },
          {
           "data": {
            "arrowhead": "normal",
            "id": "d8589161-224f-4a7c-8a53-83f80ec03121",
            "source": "s48",
            "source_arrow_fill": "hollow",
            "source_arrow_shape": "diamond",
            "target": "s52",
            "target_arrow_shape": "triangle"
           }
          },
          {
           "data": {
            "arrowhead": "normal",
            "id": "b5c5107e-d076-4a9c-a145-a2c0881eaabc",
            "source": "s48",
            "source_arrow_fill": "hollow",
            "source_arrow_shape": "diamond",
            "target": "s53",
            "target_arrow_shape": "triangle"
           }
          },
          {
           "data": {
            "arrowhead": "normal",
            "id": "0f7fed0a-5a57-4be2-9967-3eb81ddcee8b",
            "source": "s48",
            "source_arrow_fill": "hollow",
            "source_arrow_shape": "diamond",
            "target": "s55",
            "target_arrow_shape": "triangle"
           }
          },
          {
           "data": {
            "arrowhead": "normal",
            "id": "23ef7a17-6926-46a8-8c16-bef3197d8aeb",
            "source": "s48",
            "source_arrow_fill": "hollow",
            "source_arrow_shape": "diamond",
            "target": "s60",
            "target_arrow_shape": "triangle"
           }
          },
          {
           "data": {
            "arrowhead": "normal",
            "id": "2ee55e67-e2c3-4ce4-9309-c56f8b8dbbf7",
            "source": "s49",
            "source_arrow_fill": "filled",
            "source_arrow_shape": "none",
            "target": "s37",
            "target_arrow_shape": "triangle"
           }
          },
          {
           "data": {
            "arrowhead": "normal",
            "id": "31435896-cfd7-4576-a78d-de67dabc09bd",
            "source": "s49",
            "source_arrow_fill": "filled",
            "source_arrow_shape": "none",
            "target": "s54",
            "target_arrow_shape": "triangle"
           }
          },
          {
           "data": {
            "arrowhead": "normal",
            "id": "869d91d3-1525-4af3-b5f4-af58a4be002a",
            "source": "s50",
            "source_arrow_fill": "filled",
            "source_arrow_shape": "none",
            "target": "s48",
            "target_arrow_shape": "triangle"
           }
          },
          {
           "data": {
            "arrowhead": "normal",
            "id": "62a4e24c-e74f-4c1b-a395-6a61047dc3dc",
            "source": "s53",
            "source_arrow_fill": "hollow",
            "source_arrow_shape": "diamond",
            "target": "s55",
            "target_arrow_shape": "triangle"
           }
          },
          {
           "data": {
            "arrowhead": "normal",
            "id": "8da2dfb5-dfc7-4fc2-b92b-a6e9903cfc08",
            "source": "s54",
            "source_arrow_fill": "hollow",
            "source_arrow_shape": "diamond",
            "target": "s56",
            "target_arrow_shape": "triangle"
           }
          },
          {
           "data": {
            "arrowhead": "normal",
            "id": "c2dc5ada-85da-4001-8966-34dd51a8fd91",
            "source": "s54",
            "source_arrow_fill": "hollow",
            "source_arrow_shape": "diamond",
            "target": "s57",
            "target_arrow_shape": "triangle"
           }
          },
          {
           "data": {
            "arrowhead": "normal",
            "id": "65fa8843-a87f-4192-b8da-7ee18b17d514",
            "source": "s54",
            "source_arrow_fill": "hollow",
            "source_arrow_shape": "diamond",
            "target": "s58",
            "target_arrow_shape": "triangle"
           }
          },
          {
           "data": {
            "arrowhead": "normal",
            "id": "0600eb5b-b759-4c50-8b9b-f041906af898",
            "source": "s54",
            "source_arrow_fill": "hollow",
            "source_arrow_shape": "diamond",
            "target": "s59",
            "target_arrow_shape": "triangle"
           }
          },
          {
           "data": {
            "arrowhead": "normal",
            "id": "10579040-dea9-4605-9baf-751856cbd335",
            "source": "s54",
            "source_arrow_fill": "hollow",
            "source_arrow_shape": "diamond",
            "target": "s61",
            "target_arrow_shape": "triangle"
           }
          },
          {
           "data": {
            "arrowhead": "normal",
            "id": "71bb772b-a4a1-4850-86ce-646f25d97fa9",
            "source": "s54",
            "source_arrow_fill": "hollow",
            "source_arrow_shape": "diamond",
            "target": "s64",
            "target_arrow_shape": "triangle"
           }
          },
          {
           "data": {
            "arrowhead": "normal",
            "id": "8d1e16cc-91b7-431f-b7b8-789ec09e5e7d",
            "source": "s55",
            "source_arrow_fill": "hollow",
            "source_arrow_shape": "diamond",
            "target": "s60",
            "target_arrow_shape": "triangle"
           }
          },
          {
           "data": {
            "arrowhead": "normal",
            "id": "9a3417f9-baf8-4966-b7b2-210ab90c4442",
            "source": "s56",
            "source_arrow_fill": "filled",
            "source_arrow_shape": "none",
            "target": "s54",
            "target_arrow_shape": "triangle"
           }
          },
          {
           "data": {
            "arrowhead": "normal",
            "id": "9f787a80-d496-4523-8dcc-c9fbb20e277c",
            "source": "s59",
            "source_arrow_fill": "hollow",
            "source_arrow_shape": "diamond",
            "target": "s61",
            "target_arrow_shape": "triangle"
           }
          },
          {
           "data": {
            "arrowhead": "normal",
            "id": "aecfcc57-6ab7-4016-9443-65b035e0d5a3",
            "source": "s60",
            "source_arrow_fill": "hollow",
            "source_arrow_shape": "diamond",
            "target": "s62",
            "target_arrow_shape": "triangle"
           }
          },
          {
           "data": {
            "arrowhead": "normal",
            "id": "85d07289-f4da-4150-88cb-165a96003677",
            "source": "s60",
            "source_arrow_fill": "hollow",
            "source_arrow_shape": "diamond",
            "target": "s63",
            "target_arrow_shape": "triangle"
           }
          },
          {
           "data": {
            "arrowhead": "normal",
            "id": "c73e46d0-c2b0-47f3-8140-b0cf20707587",
            "source": "s61",
            "source_arrow_fill": "hollow",
            "source_arrow_shape": "diamond",
            "target": "s64",
            "target_arrow_shape": "triangle"
           }
          },
          {
           "data": {
            "arrowhead": "normal",
            "id": "028686ee-cca0-4ae3-8767-a59ccdb6f629",
            "source": "s62",
            "source_arrow_fill": "filled",
            "source_arrow_shape": "none",
            "target": "s65",
            "target_arrow_shape": "triangle"
           }
          },
          {
           "data": {
            "arrowhead": "normal",
            "id": "513fe2bc-71cc-4bce-a282-f87bf26e20f0",
            "source": "s62",
            "source_arrow_fill": "filled",
            "source_arrow_shape": "none",
            "target": "s60",
            "target_arrow_shape": "triangle"
           }
          },
          {
           "data": {
            "arrowhead": "normal",
            "id": "d299b424-cf45-4d41-bd39-582b66a29c05",
            "source": "s63",
            "source_arrow_fill": "filled",
            "source_arrow_shape": "none",
            "target": "s66",
            "target_arrow_shape": "triangle"
           }
          },
          {
           "data": {
            "arrowhead": "normal",
            "id": "d039116a-07bd-4f88-a390-d9ca09964b5a",
            "source": "s63",
            "source_arrow_fill": "filled",
            "source_arrow_shape": "none",
            "target": "s60",
            "target_arrow_shape": "triangle"
           }
          },
          {
           "data": {
            "arrowhead": "normal",
            "id": "09f288ea-597c-4c14-a1fa-3eb9f0ad1e8a",
            "source": "s64",
            "source_arrow_fill": "hollow",
            "source_arrow_shape": "diamond",
            "target": "s69",
            "target_arrow_shape": "triangle"
           }
          },
          {
           "data": {
            "arrowhead": "normal",
            "id": "33724034-1a18-4b30-b665-07d6bd4ea72e",
            "source": "s64",
            "source_arrow_fill": "hollow",
            "source_arrow_shape": "diamond",
            "target": "s70",
            "target_arrow_shape": "triangle"
           }
          },
          {
           "data": {
            "arrowhead": "normal",
            "id": "27f0b03c-baf9-4722-b66c-10353fbac8fd",
            "source": "s65",
            "source_arrow_fill": "hollow",
            "source_arrow_shape": "diamond",
            "target": "s68",
            "target_arrow_shape": "triangle"
           }
          },
          {
           "data": {
            "arrowhead": "normal",
            "id": "13a926ac-bd6f-4107-b448-93d25ff8ef0f",
            "source": "s66",
            "source_arrow_fill": "hollow",
            "source_arrow_shape": "diamond",
            "target": "s67",
            "target_arrow_shape": "triangle"
           }
          },
          {
           "data": {
            "arrowhead": "normal",
            "id": "15d20691-4afa-405d-83d3-db0ca423907a",
            "source": "s67",
            "source_arrow_fill": "hollow",
            "source_arrow_shape": "diamond",
            "target": "s72",
            "target_arrow_shape": "triangle"
           }
          },
          {
           "data": {
            "arrowhead": "normal",
            "id": "938e6d35-a439-452a-a1bd-a7cb8ef3460f",
            "source": "s68",
            "source_arrow_fill": "hollow",
            "source_arrow_shape": "diamond",
            "target": "s71",
            "target_arrow_shape": "triangle"
           }
          },
          {
           "data": {
            "arrowhead": "normal",
            "id": "a75b675b-8e4a-43ad-be15-1737ad2ba26a",
            "source": "s69",
            "source_arrow_fill": "filled",
            "source_arrow_shape": "none",
            "target": "s64",
            "target_arrow_shape": "triangle"
           }
          },
          {
           "data": {
            "arrowhead": "normal",
            "id": "cc8d1225-8a75-491d-a8cd-998506770899",
            "source": "s69",
            "source_arrow_fill": "filled",
            "source_arrow_shape": "none",
            "target": "s65",
            "target_arrow_shape": "triangle"
           }
          },
          {
           "data": {
            "arrowhead": "normal",
            "id": "374480c6-d23a-4d61-a4db-213826fd16c4",
            "source": "s70",
            "source_arrow_fill": "filled",
            "source_arrow_shape": "none",
            "target": "s64",
            "target_arrow_shape": "triangle"
           }
          },
          {
           "data": {
            "arrowhead": "normal",
            "id": "9b59eb4c-c363-4794-937f-4285034c37b0",
            "source": "s70",
            "source_arrow_fill": "filled",
            "source_arrow_shape": "none",
            "target": "s66",
            "target_arrow_shape": "triangle"
           }
          },
          {
           "data": {
            "arrowhead": "normal",
            "id": "383c0974-d310-4ed7-b079-b101abe16fee",
            "source": "s71",
            "source_arrow_fill": "filled",
            "source_arrow_shape": "none",
            "target": "s73",
            "target_arrow_shape": "triangle"
           }
          },
          {
           "data": {
            "arrowhead": "normal",
            "id": "2a702aa1-c4c5-4e5e-bb9e-7f317fa7345f",
            "source": "s71",
            "source_arrow_fill": "filled",
            "source_arrow_shape": "none",
            "target": "s68",
            "target_arrow_shape": "triangle"
           }
          },
          {
           "data": {
            "arrowhead": "normal",
            "id": "b9b5145b-2bd2-428d-9faa-0b09233ba601",
            "source": "s73",
            "source_arrow_fill": "hollow",
            "source_arrow_shape": "diamond",
            "target": "s74",
            "target_arrow_shape": "triangle"
           }
          },
          {
           "data": {
            "arrowhead": "normal",
            "id": "a6293fbf-9720-4d03-9262-71fd17b39799",
            "source": "s74",
            "source_arrow_fill": "hollow",
            "source_arrow_shape": "diamond",
            "target": "s75",
            "target_arrow_shape": "triangle"
           }
          },
          {
           "data": {
            "arrowhead": "normal",
            "id": "0a499248-8410-4094-8a74-37c03c0831df",
            "source": "s74",
            "source_arrow_fill": "hollow",
            "source_arrow_shape": "diamond",
            "target": "s76",
            "target_arrow_shape": "triangle"
           }
          },
          {
           "data": {
            "arrowhead": "normal",
            "id": "28008b67-b84d-41b2-8a90-b8b60f90573e",
            "source": "s75",
            "source_arrow_fill": "filled",
            "source_arrow_shape": "none",
            "target": "s33",
            "target_arrow_shape": "triangle"
           }
          },
          {
           "data": {
            "arrowhead": "normal",
            "id": "f7e66115-53d1-415f-854a-b6c04ed1ff22",
            "source": "s75",
            "source_arrow_fill": "filled",
            "source_arrow_shape": "none",
            "target": "s74",
            "target_arrow_shape": "triangle"
           }
          }
         ],
         "nodes": [
          {
           "data": {
            "NodeType": "species",
            "background_color": "#aaffff",
            "id": "s0",
            "label": "L",
            "name": "s0",
            "parent": "0",
            "shape": "ellipse",
            "spInitial": 3000
           },
           "position": {
            "x": 40,
            "y": 108
           }
          },
          {
           "data": {
            "NodeType": "species",
            "background_color": "#aaffff",
            "id": "s1",
            "label": "R",
            "name": "s1",
            "parent": "0",
            "shape": "ellipse",
            "spInitial": 200
           },
           "position": {
            "x": 40,
            "y": 40
           }
          },
          {
           "data": {
            "NodeType": "species",
            "background_color": "#aaffff",
            "id": "s2",
            "label": "flip",
            "name": "s2",
            "parent": "0",
            "shape": "ellipse",
            "spInitial": 100
           },
           "position": {
            "x": 158.99999952316284,
            "y": 116
           }
          },
          {
           "data": {
            "NodeType": "species",
            "background_color": "#aaffff",
            "id": "s3",
            "label": "proC8",
            "name": "s3",
            "parent": "1",
            "shape": "ellipse",
            "spInitial": 20000
           },
           "position": {
            "x": 40,
            "y": 552.0000009536743
           }
          },
          {
           "data": {
            "NodeType": "species",
            "background_color": "#aaffff",
            "id": "s4",
            "label": "BAR",
            "name": "s4",
            "parent": "1",
            "shape": "ellipse",
            "spInitial": 1000
           },
           "position": {
            "x": 232.99999904632568,
            "y": 608.0000009536743
           }
          },
          {
           "data": {
            "NodeType": "species",
            "background_color": "#aaffff",
            "id": "s5",
            "label": "iApaf",
            "name": "s5",
            "parent": "2",
            "shape": "ellipse",
            "spInitial": 100000
           },
           "position": {
            "x": 1466.9999952316284,
            "y": 324.00000047683716
           }
          },
          {
           "data": {
            "NodeType": "species",
            "background_color": "#aaffff",
            "id": "s6",
            "label": "proC3",
            "name": "s6",
            "parent": "3",
            "shape": "ellipse",
            "spInitial": 10000
           },
           "position": {
            "x": 869.9999990463257,
            "y": 684.0000009536743
           }
          },
          {
           "data": {
            "NodeType": "species",
            "background_color": "#aaffff",
            "id": "s7",
            "label": "proC6",
            "name": "s7",
            "parent": "3",
            "shape": "ellipse",
            "spInitial": 10000
           },
           "position": {
            "x": 1088.9999980926514,
            "y": 816.0000009536743
           }
          },
          {
           "data": {
            "NodeType": "species",
            "background_color": "#aaffff",
            "id": "s8",
            "label": "C9",
            "name": "s8",
            "parent": "3",
            "shape": "ellipse",
            "spInitial": 100000
           },
           "position": {
            "x": 1002.9999985694885,
            "y": 540.0000009536743
           }
          },
          {
           "data": {
            "NodeType": "species",
            "background_color": "#aaffff",
            "id": "s9",
            "label": "uPARP",
            "name": "s9",
            "parent": "3",
            "shape": "ellipse",
            "spInitial": 1000000
           },
           "position": {
            "x": 1082.9999980926514,
            "y": 622.4000009536743
           }
          },
          {
           "data": {
            "NodeType": "species",
            "background_color": "#aaffff",
            "id": "s10",
            "label": "XIAP",
            "name": "s10",
            "parent": "3",
            "shape": "ellipse",
            "spInitial": 100000
           },
           "position": {
            "x": 1292.6666638056438,
            "y": 728.0000009536743
           }
          },
          {
           "data": {
            "NodeType": "species",
            "background_color": "#aaffff",
            "id": "s11",
            "label": "uBid",
            "name": "s11",
            "parent": "1",
            "shape": "ellipse",
            "spInitial": 40000
           },
           "position": {
            "x": 231.99999904632568,
            "y": 744.0000009536743
           }
          },
          {
           "data": {
            "NodeType": "species",
            "background_color": "#aaffff",
            "id": "s12",
            "label": "cBax",
            "name": "s12",
            "parent": "4",
            "shape": "ellipse",
            "spInitial": 80000
           },
           "position": {
            "x": 526.9999990463257,
            "y": 653.6000009536743
           }
          },
          {
           "data": {
            "NodeType": "species",
            "background_color": "#aaffff",
            "id": "s13",
            "label": "mBak",
            "name": "s13",
            "parent": "5",
            "shape": "ellipse",
            "spInitial": 20000
           },
           "position": {
            "x": 40,
            "y": 384.00000047683716
           }
          },
          {
           "data": {
            "NodeType": "species",
            "background_color": "#aaffff",
            "id": "s14",
            "label": "mBcl2",
            "name": "s14",
            "parent": "4",
            "shape": "ellipse",
            "spInitial": 20000
           },
           "position": {
            "x": 516.9999990463257,
            "y": 948.0000009536743
           }
          },
          {
           "data": {
            "NodeType": "species",
            "background_color": "#aaffff",
            "id": "s15",
            "label": "mBclxL",
            "name": "s15",
            "parent": "4",
            "shape": "ellipse",
            "spInitial": 20000
           },
           "position": {
            "x": 508.9999990463257,
            "y": 857.6000009536743
           }
          },
          {
           "data": {
            "NodeType": "species",
            "background_color": "#aaffff",
            "id": "s16",
            "label": "mMcl1",
            "name": "s16",
            "parent": "6",
            "shape": "ellipse",
            "spInitial": 20000
           },
           "position": {
            "x": 379.99999952316284,
            "y": 116
           }
          },
          {
           "data": {
            "NodeType": "species",
            "background_color": "#aaffff",
            "id": "s17",
            "label": "mBad",
            "name": "s17",
            "parent": "4",
            "shape": "ellipse",
            "spInitial": 1000
           },
           "position": {
            "x": 519.9999990463257,
            "y": 1016.0000009536743
           }
          },
          {
           "data": {
            "NodeType": "species",
            "background_color": "#aaffff",
            "id": "s18",
            "label": "mNoxa",
            "name": "s18",
            "parent": "6",
            "shape": "ellipse",
            "spInitial": 1000
           },
           "position": {
            "x": 377.99999952316284,
            "y": 40
           }
          },
          {
           "data": {
            "NodeType": "species",
            "background_color": "#aaffff",
            "id": "s19",
            "label": "mCytoC",
            "name": "s19",
            "parent": "2",
            "shape": "ellipse",
            "spInitial": 500000
           },
           "position": {
            "x": 1143.9999961853027,
            "y": 392.00000047683716
           }
          },
          {
           "data": {
            "NodeType": "species",
            "background_color": "#aaffff",
            "id": "s20",
            "label": "mSmac",
            "name": "s20",
            "parent": "7",
            "shape": "ellipse",
            "spInitial": 100000
           },
           "position": {
            "x": 658.9999995231628,
            "y": 48
           }
          },
          {
           "data": {
            "NodeType": "species",
            "background_color": "#2b913a",
            "id": "s21",
            "label": "L-R",
            "name": "s21",
            "parent": "0",
            "shape": "ellipse",
            "spInitial": 0
           },
           "position": {
            "x": 99.99999952316284,
            "y": 48
           }
          },
          {
           "data": {
            "NodeType": "species",
            "background_color": "#2b913a",
            "id": "s22",
            "label": "mBad-mBcl2",
            "name": "s22",
            "parent": "4",
            "shape": "ellipse",
            "spInitial": 0
           },
           "position": {
            "x": 672.9999985694885,
            "y": 1016.0000009536743
           }
          },
          {
           "data": {
            "NodeType": "species",
            "background_color": "#2b913a",
            "id": "s23",
            "label": "mBad-mBclxL",
            "name": "s23",
            "parent": "4",
            "shape": "ellipse",
            "spInitial": 0
           },
           "position": {
            "x": 672.9999985694885,
            "y": 880.0000009536743
           }
          },
          {
           "data": {
            "NodeType": "species",
            "background_color": "#2b913a",
            "id": "s24",
            "label": "mMcl1-mNoxa",
            "name": "s24",
            "parent": "6",
            "shape": "ellipse",
            "spInitial": 0
           },
           "position": {
            "x": 458.9999990463257,
            "y": 48
           }
          },
          {
           "data": {
            "NodeType": "species",
            "background_color": "#2b913a",
            "id": "s25",
            "label": "DISC",
            "name": "s25",
            "parent": "0",
            "shape": "ellipse",
            "spInitial": 0
           },
           "position": {
            "x": 151.99999952316284,
            "y": 48
           }
          },
          {
           "data": {
            "NodeType": "species",
            "background_color": "#2b913a",
            "id": "s26",
            "label": "proC8-DISC",
            "name": "s26",
            "parent": "1",
            "shape": "ellipse",
            "spInitial": 0
           },
           "position": {
            "x": 113.99999952316284,
            "y": 684.0000009536743
           }
          },
          {
           "data": {
            "NodeType": "species",
            "background_color": "#2b913a",
            "id": "s27",
            "label": "DISC-flip",
            "name": "s27",
            "parent": "0",
            "shape": "ellipse",
            "spInitial": 0
           },
           "position": {
            "x": 218.99999904632568,
            "y": 56
           }
          },
          {
           "data": {
            "NodeType": "species",
            "background_color": "#2b913a",
            "id": "s28",
            "label": "aC8",
            "name": "s28",
            "parent": "1",
            "shape": "ellipse",
            "spInitial": 0
           },
           "position": {
            "x": 233.7999990463257,
            "y": 676.0000009536743
           }
          },
          {
           "data": {
            "NodeType": "species",
            "background_color": "#2b913a",
            "id": "s29",
            "label": "uBid-aC8",
            "name": "s29",
            "parent": "1",
            "shape": "ellipse",
            "spInitial": 0
           },
           "position": {
            "x": 294.9999985694885,
            "y": 688.0000009536743
           }
          },
          {
           "data": {
            "NodeType": "species",
            "background_color": "#2b913a",
            "id": "s30",
            "label": "BAR-aC8",
            "name": "s30",
            "parent": "1",
            "shape": "ellipse",
            "spInitial": 0
           },
           "position": {
            "x": 294.9999985694885,
            "y": 616.0000009536743
           }
          },
          {
           "data": {
            "NodeType": "species",
            "background_color": "#2b913a",
            "id": "s31",
            "label": "proC3-aC8",
            "name": "s31",
            "parent": "3",
            "shape": "ellipse",
            "spInitial": 0
           },
           "position": {
            "x": 948.9999985694885,
            "y": 744.0000009536743
           }
          },
          {
           "data": {
            "NodeType": "species",
            "background_color": "#2b913a",
            "id": "s32",
            "label": "tBid",
            "name": "s32",
            "parent": "1",
            "shape": "ellipse",
            "spInitial": 0
           },
           "position": {
            "x": 384.9999985694885,
            "y": 688.0000009536743
           }
          },
          {
           "data": {
            "NodeType": "species",
            "background_color": "#2b913a",
            "id": "s33",
            "label": "aC3",
            "name": "s33",
            "parent": "3",
            "shape": "ellipse",
            "spInitial": 0
           },
           "position": {
            "x": 1097.2857123783656,
            "y": 736.0000009536743
           }
          },
          {
           "data": {
            "NodeType": "species",
            "background_color": "#2b913a",
            "id": "s34",
            "label": "aC3-XIAP",
            "name": "s34",
            "parent": "3",
            "shape": "ellipse",
            "spInitial": 0
           },
           "position": {
            "x": 1184.2499976158142,
            "y": 736.0000009536743
           }
          },
          {
           "data": {
            "NodeType": "species",
            "background_color": "#2b913a",
            "id": "s35",
            "label": "aC3-uPARP",
            "name": "s35",
            "parent": "3",
            "shape": "ellipse",
            "spInitial": 0
           },
           "position": {
            "x": 1172.9999976158142,
            "y": 634.4000009536743
           }
          },
          {
           "data": {
            "NodeType": "species",
            "background_color": "#2b913a",
            "id": "s36",
            "label": "aC3-proC6",
            "name": "s36",
            "parent": "3",
            "shape": "ellipse",
            "spInitial": 0
           },
           "position": {
            "x": 1172.9999976158142,
            "y": 804.0000009536743
           }
          },
          {
           "data": {
            "NodeType": "species",
            "background_color": "#2b913a",
            "id": "s37",
            "label": "mBid",
            "name": "s37",
            "parent": "4",
            "shape": "ellipse",
            "spInitial": 0
           },
           "position": {
            "x": 524.9999990463257,
            "y": 721.6000009536743
           }
          },
          {
           "data": {
            "NodeType": "species",
            "background_color": "#2b913a",
            "id": "s38",
            "label": "ubC3",
            "name": "s38",
            "parent": "3",
            "shape": "ellipse",
            "spInitial": 0
           },
           "position": {
            "x": 1287.999997138977,
            "y": 796.0000009536743
           }
          },
          {
           "data": {
            "NodeType": "species",
            "background_color": "#2b913a",
            "id": "s39",
            "label": "cPARP",
            "name": "s39",
            "parent": "3",
            "shape": "ellipse",
            "spInitial": 0
           },
           "position": {
            "x": 1287.999997138977,
            "y": 634.4000009536743
           }
          },
          {
           "data": {
            "NodeType": "species",
            "background_color": "#2b913a",
            "id": "s40",
            "label": "aC6",
            "name": "s40",
            "parent": "1",
            "shape": "ellipse",
            "spInitial": 0
           },
           "position": {
            "x": 231.99999904632568,
            "y": 540.0000009536743
           }
          },
          {
           "data": {
            "NodeType": "species",
            "background_color": "#2b913a",
            "id": "s41",
            "label": "cBax-mBid",
            "name": "s41",
            "parent": "4",
            "shape": "ellipse",
            "spInitial": 0
           },
           "position": {
            "x": 672.9999985694885,
            "y": 540.0000009536743
           }
          },
          {
           "data": {
            "NodeType": "species",
            "background_color": "#2b913a",
            "id": "s42",
            "label": "mBak-mBid",
            "name": "s42",
            "parent": "5",
            "shape": "ellipse",
            "spInitial": 0
           },
           "position": {
            "x": 111.99999952316284,
            "y": 324.00000047683716
           }
          },
          {
           "data": {
            "NodeType": "species",
            "background_color": "#2b913a",
            "id": "s43",
            "label": "mBcl2-mBid",
            "name": "s43",
            "parent": "4",
            "shape": "ellipse",
            "spInitial": 0
           },
           "position": {
            "x": 672.9999985694885,
            "y": 744.0000009536743
           }
          },
          {
           "data": {
            "NodeType": "species",
            "background_color": "#2b913a",
            "id": "s44",
            "label": "mBclxL-mBid",
            "name": "s44",
            "parent": "4",
            "shape": "ellipse",
            "spInitial": 0
           },
           "position": {
            "x": 672.9999985694885,
            "y": 608.0000009536743
           }
          },
          {
           "data": {
            "NodeType": "species",
            "background_color": "#2b913a",
            "id": "s45",
            "label": "mBid-mMcl1",
            "name": "s45",
            "parent": "6",
            "shape": "ellipse",
            "spInitial": 0
           },
           "position": {
            "x": 458.9999990463257,
            "y": 116
           }
          },
          {
           "data": {
            "NodeType": "species",
            "background_color": "#2b913a",
            "id": "s46",
            "label": "aC6-proC8",
            "name": "s46",
            "parent": "1",
            "shape": "ellipse",
            "spInitial": 0
           },
           "position": {
            "x": 120.74999952316284,
            "y": 544.0000009536743
           }
          },
          {
           "data": {
            "NodeType": "species",
            "background_color": "#2b913a",
            "id": "s47",
            "label": "mBax",
            "name": "s47",
            "parent": "8",
            "shape": "ellipse",
            "spInitial": 0
           },
           "position": {
            "x": 591.9999980926514,
            "y": 384.00000047683716
           }
          },
          {
           "data": {
            "NodeType": "species",
            "background_color": "#2b913a",
            "id": "s48",
            "label": "aBak",
            "name": "s48",
            "parent": "5",
            "shape": "ellipse",
            "spInitial": 0
           },
           "position": {
            "x": 226.99999904632568,
            "y": 384.00000047683716
           }
          },
          {
           "data": {
            "NodeType": "species",
            "background_color": "#2b913a",
            "id": "s49",
            "label": "mBax-mBid",
            "name": "s49",
            "parent": "8",
            "shape": "ellipse",
            "spInitial": 0
           },
           "position": {
            "x": 663.9999976158142,
            "y": 324.00000047683716
           }
          },
          {
           "data": {
            "NodeType": "species",
            "background_color": "#2b913a",
            "id": "s50",
            "label": "aBak-mBak",
            "name": "s50",
            "parent": "5",
            "shape": "ellipse",
            "spInitial": 0
           },
           "position": {
            "x": 112.66666618982951,
            "y": 392.00000047683716
           }
          },
          {
           "data": {
            "NodeType": "species",
            "background_color": "#2b913a",
            "id": "s51",
            "label": "aBak-mBclxL",
            "name": "s51",
            "parent": "4",
            "shape": "ellipse",
            "spInitial": 0
           },
           "position": {
            "x": 672.9999985694885,
            "y": 676.0000009536743
           }
          },
          {
           "data": {
            "NodeType": "species",
            "background_color": "#2b913a",
            "id": "s52",
            "label": "aBak-mMcl1",
            "name": "s52",
            "parent": "6",
            "shape": "ellipse",
            "spInitial": 0
           },
           "position": {
            "x": 458.9999990463257,
            "y": 184
           }
          },
          {
           "data": {
            "NodeType": "species",
            "background_color": "#2b913a",
            "id": "s53",
            "label": "2aBak",
            "name": "s53",
            "parent": "5",
            "shape": "ellipse",
            "spInitial": 0
           },
           "position": {
            "x": 302.9999985694885,
            "y": 328.0000009536743
           }
          },
          {
           "data": {
            "NodeType": "species",
            "background_color": "#2b913a",
            "id": "s54",
            "label": "aBax",
            "name": "s54",
            "parent": "8",
            "shape": "ellipse",
            "spInitial": 0
           },
           "position": {
            "x": 778.999997138977,
            "y": 384.00000047683716
           }
          },
          {
           "data": {
            "NodeType": "species",
            "background_color": "#2b913a",
            "id": "s55",
            "label": "3aBak",
            "name": "s55",
            "parent": "5",
            "shape": "ellipse",
            "spInitial": 0
           },
           "position": {
            "x": 377.99999809265137,
            "y": 358.00000071525574
           }
          },
          {
           "data": {
            "NodeType": "species",
            "background_color": "#2b913a",
            "id": "s56",
            "label": "aBax-mBax",
            "name": "s56",
            "parent": "8",
            "shape": "ellipse",
            "spInitial": 0
           },
           "position": {
            "x": 664.6666642824808,
            "y": 392.00000047683716
           }
          },
          {
           "data": {
            "NodeType": "species",
            "background_color": "#2b913a",
            "id": "s57",
            "label": "aBax-mBcl2",
            "name": "s57",
            "parent": "4",
            "shape": "ellipse",
            "spInitial": 0
           },
           "position": {
            "x": 672.9999985694885,
            "y": 948.0000009536743
           }
          },
          {
           "data": {
            "NodeType": "species",
            "background_color": "#2b913a",
            "id": "s58",
            "label": "aBax-mBclxL",
            "name": "s58",
            "parent": "4",
            "shape": "ellipse",
            "spInitial": 0
           },
           "position": {
            "x": 672.9999985694885,
            "y": 812.0000009536743
           }
          },
          {
           "data": {
            "NodeType": "species",
            "background_color": "#2b913a",
            "id": "s59",
            "label": "2aBax",
            "name": "s59",
            "parent": "8",
            "shape": "ellipse",
            "spInitial": 0
           },
           "position": {
            "x": 854.9999966621399,
            "y": 328.0000009536743
           }
          },
          {
           "data": {
            "NodeType": "species",
            "background_color": "#2b913a",
            "id": "s60",
            "label": "4aBak",
            "name": "s60",
            "parent": "5",
            "shape": "ellipse",
            "spInitial": 0
           },
           "position": {
            "x": 452.9999976158142,
            "y": 388.00000047683716
           }
          },
          {
           "data": {
            "NodeType": "species",
            "background_color": "#2b913a",
            "id": "s61",
            "label": "3aBax",
            "name": "s61",
            "parent": "8",
            "shape": "ellipse",
            "spInitial": 0
           },
           "position": {
            "x": 929.9999961853027,
            "y": 358.00000071525574
           }
          },
          {
           "data": {
            "NodeType": "species",
            "background_color": "#2b913a",
            "id": "s62",
            "label": "4aBak-mCytoC",
            "name": "s62",
            "parent": "2",
            "shape": "ellipse",
            "spInitial": 0
           },
           "position": {
            "x": 1232.9999957084656,
            "y": 400.00000047683716
           }
          },
          {
           "data": {
            "NodeType": "species",
            "background_color": "#2b913a",
            "id": "s63",
            "label": "4aBak-mSmac",
            "name": "s63",
            "parent": "7",
            "shape": "ellipse",
            "spInitial": 0
           },
           "position": {
            "x": 743.9999990463257,
            "y": 108
           }
          },
          {
           "data": {
            "NodeType": "species",
            "background_color": "#2b913a",
            "id": "s64",
            "label": "4aBax",
            "name": "s64",
            "parent": "8",
            "shape": "ellipse",
            "spInitial": 0
           },
           "position": {
            "x": 1004.9999957084656,
            "y": 388.00000047683716
           }
          },
          {
           "data": {
            "NodeType": "species",
            "background_color": "#2b913a",
            "id": "s65",
            "label": "cCytoC",
            "name": "s65",
            "parent": "2",
            "shape": "ellipse",
            "spInitial": 0
           },
           "position": {
            "x": 1373.9999952316284,
            "y": 392.00000047683716
           }
          },
          {
           "data": {
            "NodeType": "species",
            "background_color": "#2b913a",
            "id": "s66",
            "label": "cSmac",
            "name": "s66",
            "parent": "7",
            "shape": "ellipse",
            "spInitial": 0
           },
           "position": {
            "x": 879.9999985694885,
            "y": 48
           }
          },
          {
           "data": {
            "NodeType": "species",
            "background_color": "#2b913a",
            "id": "s67",
            "label": "aSmac",
            "name": "s67",
            "parent": "7",
            "shape": "ellipse",
            "spInitial": 0
           },
           "position": {
            "x": 951.9999985694885,
            "y": 48
           }
          },
          {
           "data": {
            "NodeType": "species",
            "background_color": "#2b913a",
            "id": "s68",
            "label": "aCytoC",
            "name": "s68",
            "parent": "2",
            "shape": "ellipse",
            "spInitial": 0
           },
           "position": {
            "x": 1449.9999952316284,
            "y": 392.00000047683716
           }
          },
          {
           "data": {
            "NodeType": "species",
            "background_color": "#2b913a",
            "id": "s69",
            "label": "4aBax-mCytoC",
            "name": "s69",
            "parent": "2",
            "shape": "ellipse",
            "spInitial": 0
           },
           "position": {
            "x": 1232.9999957084656,
            "y": 332.00000047683716
           }
          },
          {
           "data": {
            "NodeType": "species",
            "background_color": "#2b913a",
            "id": "s70",
            "label": "4aBax-mSmac",
            "name": "s70",
            "parent": "7",
            "shape": "ellipse",
            "spInitial": 0
           },
           "position": {
            "x": 743.9999990463257,
            "y": 40
           }
          },
          {
           "data": {
            "NodeType": "species",
            "background_color": "#2b913a",
            "id": "s71",
            "label": "iApaf-aCytoC",
            "name": "s71",
            "parent": "2",
            "shape": "ellipse",
            "spInitial": 0
           },
           "position": {
            "x": 1533.9999947547913,
            "y": 384.00000047683716
           }
          },
          {
           "data": {
            "NodeType": "species",
            "background_color": "#2b913a",
            "id": "s72",
            "label": "aSmac-XIAP",
            "name": "s72",
            "parent": "7",
            "shape": "ellipse",
            "spInitial": 0
           },
           "position": {
            "x": 1023.9999985694885,
            "y": 48
           }
          },
          {
           "data": {
            "NodeType": "species",
            "background_color": "#2b913a",
            "id": "s73",
            "label": "aApaf",
            "name": "s73",
            "parent": "3",
            "shape": "ellipse",
            "spInitial": 0
           },
           "position": {
            "x": 990.9999985694885,
            "y": 608.0000009536743
           }
          },
          {
           "data": {
            "NodeType": "species",
            "background_color": "#2b913a",
            "id": "s74",
            "label": "Apop",
            "name": "s74",
            "parent": "3",
            "shape": "ellipse",
            "spInitial": 0
           },
           "position": {
            "x": 1085.1999980926514,
            "y": 554.4000009536743
           }
          },
          {
           "data": {
            "NodeType": "species",
            "background_color": "#2b913a",
            "id": "s75",
            "label": "Apop-proC3",
            "name": "s75",
            "parent": "3",
            "shape": "ellipse",
            "spInitial": 0
           },
           "position": {
            "x": 943.9999985694885,
            "y": 676.0000009536743
           }
          },
          {
           "data": {
            "NodeType": "species",
            "background_color": "#2b913a",
            "id": "s76",
            "label": "Apop-XIAP",
            "name": "s76",
            "parent": "3",
            "shape": "ellipse",
            "spInitial": 0
           },
           "position": {
            "x": 1366.99999666214,
            "y": 562.4000009536743
           }
          },
          {
           "data": {
            "NodeType": "community",
            "id": "0",
            "label": "0: DISC regulation",
            "name": "0"
           },
           "position": {
            "x": 138.24999952316284,
            "y": 70
           }
          },
          {
           "data": {
            "NodeType": "community",
            "id": "1",
            "label": "1: aC8 regulation",
            "name": "1"
           },
           "position": {
            "x": 208.99999928474426,
            "y": 634.0000009536743
           }
          },
          {
           "data": {
            "NodeType": "community",
            "id": "2",
            "label": "2: 4aBak-mCytoC \n4aBax-mCytoC regulation",
            "name": "2"
           },
           "position": {
            "x": 1348.499995470047,
            "y": 354.00000047683716
           }
          },
          {
           "data": {
            "NodeType": "community",
            "id": "3",
            "label": "3: aC3 regulation",
            "name": "3"
           },
           "position": {
            "x": 1127.2499978542328,
            "y": 670.0000009536743
           }
          },
          {
           "data": {
            "NodeType": "community",
            "id": "4",
            "label": "4: mBid regulation",
            "name": "4"
           },
           "position": {
            "x": 603.2499988079071,
            "y": 770.0000009536743
           }
          },
          {
           "data": {
            "NodeType": "community",
            "id": "5",
            "label": "5: aBak regulation",
            "name": "5"
           },
           "position": {
            "x": 247.2499988079071,
            "y": 350.00000047683716
           }
          },
          {
           "data": {
            "NodeType": "community",
            "id": "6",
            "label": "6: mMcl1 regulation",
            "name": "6"
           },
           "position": {
            "x": 432.24999928474426,
            "y": 104
           }
          },
          {
           "data": {
            "NodeType": "community",
            "id": "7",
            "label": "7: 4aBak-mSmac \n4aBax-mSmac regulation",
            "name": "7"
           },
           "position": {
            "x": 850.4999990463257,
            "y": 66
           }
          },
          {
           "data": {
            "NodeType": "community",
            "id": "8",
            "label": "8: aBax regulation",
            "name": "8"
           },
           "position": {
            "x": 799.2499969005585,
            "y": 350.00000047683716
           }
          }
         ]
        }
       },
       "format": "cyjs",
       "layout": "IPY_MODEL_883e5c3e633e491f9337233c89127dab",
       "layout_name": "klay",
       "process": "consumption",
       "sim_idx": 0,
       "type_of_viz": "communities_view",
       "visual_style": null
      }
     },
     "0b47e958d8b84eb79473fa996cc705b0": {
      "model_module": "pyvipr",
      "model_module_version": "^0.1.17",
      "model_name": "CytoscapeModel",
      "state": {
       "background": "#FFFFFF",
       "data": {
        "data": {
         "graph": {
          "rankdir": "LR"
         },
         "name": "pysb"
        },
        "elements": {
         "edges": [
          {
           "data": {
            "arrowhead": "normal",
            "id": "2e0f56fc-553a-4381-bbc7-c4d9d313b712",
            "source": "s0",
            "source_arrow_fill": "hollow",
            "source_arrow_shape": "triangle",
            "target": "_R1",
            "target_arrow_shape": "triangle"
           }
          },
          {
           "data": {
            "arrowhead": "normal",
            "id": "480ccad3-e869-46bd-b3ed-62e2197d76a6",
            "source": "s2",
            "source_arrow_fill": "hollow",
            "source_arrow_shape": "triangle",
            "target": "_R1",
            "target_arrow_shape": "triangle"
           }
          },
          {
           "data": {
            "arrowhead": "normal",
            "id": "f85df3c2-ac52-45c0-a6bb-4ad13e1d8ca7",
            "source": "s3",
            "source_arrow_fill": "hollow",
            "source_arrow_shape": "triangle",
            "target": "_R1",
            "target_arrow_shape": "triangle"
           }
          },
          {
           "data": {
            "arrowhead": "normal",
            "id": "d2547973-c700-4668-81fc-1ba6d17f917e",
            "source": "s3",
            "source_arrow_fill": "filled",
            "source_arrow_shape": "none",
            "target": "_R2",
            "target_arrow_shape": "triangle"
           }
          },
          {
           "data": {
            "arrowhead": "normal",
            "id": "e7712136-d298-49e0-a4ba-dbde43001793",
            "source": "s4",
            "source_arrow_fill": "filled",
            "source_arrow_shape": "none",
            "target": "_R4",
            "target_arrow_shape": "triangle"
           }
          },
          {
           "data": {
            "arrowhead": "normal",
            "id": "57827d5e-f201-4c5f-9612-25d0e56ed1c9",
            "source": "_R2",
            "source_arrow_fill": "filled",
            "source_arrow_shape": "none",
            "target": "s4",
            "target_arrow_shape": "triangle"
           }
          },
          {
           "data": {
            "arrowhead": "normal",
            "id": "fb7d3ef9-88d3-4ff3-ac52-7a362d373d26",
            "source": "_R4",
            "source_arrow_fill": "filled",
            "source_arrow_shape": "none",
            "target": "s3",
            "target_arrow_shape": "triangle"
           }
          }
         ],
         "nodes": [
          {
           "data": {
            "NodeType": "species",
            "background_color": "#aaffff",
            "bipartite": 0,
            "id": "s0",
            "label": "K",
            "name": "s0",
            "shape": "ellipse",
            "spInitial": 1000
           },
           "position": {
            "x": 28.778,
            "y": 149
           }
          },
          {
           "data": {
            "NodeType": "species",
            "background_color": "#aaffff",
            "bipartite": 0,
            "id": "s1",
            "label": "P",
            "name": "s1",
            "shape": "ellipse",
            "spInitial": 1000
           },
           "position": {
            "x": 28.778,
            "y": 203
           }
          },
          {
           "data": {
            "NodeType": "species",
            "background_color": "#aaffff",
            "bipartite": 0,
            "id": "s2",
            "label": "uS",
            "name": "s2",
            "shape": "ellipse",
            "spInitial": 10000
           },
           "position": {
            "x": 28.778,
            "y": 95
           }
          },
          {
           "data": {
            "NodeType": "species",
            "background_color": "#2b913a",
            "bipartite": 0,
            "id": "s3",
            "label": "K-uS",
            "name": "s3",
            "shape": "ellipse",
            "spInitial": 0
           },
           "position": {
            "x": 28.778,
            "y": 41
           }
          },
          {
           "data": {
            "NodeType": "species",
            "background_color": "#2b913a",
            "bipartite": 0,
            "id": "s4",
            "label": "K-pS",
            "name": "s4",
            "shape": "ellipse",
            "spInitial": 0
           },
           "position": {
            "x": 230.58494904651403,
            "y": 54.03924931893856
           }
          },
          {
           "data": {
            "NodeType": "rule",
            "background_color": "#ff4c4c",
            "bipartite": 1,
            "id": "_R1",
            "index": "rule0",
            "kf": 1e-05,
            "kr": 0.01,
            "label": "_R1",
            "name": "_R1",
            "shape": "roundrectangle"
           },
           "position": {
            "x": 120.56,
            "y": 95
           }
          },
          {
           "data": {
            "NodeType": "rule",
            "background_color": "#ff4c4c",
            "bipartite": 1,
            "id": "_R2",
            "index": "rule1",
            "kf": 1,
            "kr": "None",
            "label": "_R2",
            "name": "_R2",
            "shape": "roundrectangle"
           },
           "position": {
            "x": 145.33457370598327,
            "y": 55.995136716779335
           }
          },
          {
           "data": {
            "NodeType": "rule",
            "background_color": "#ff4c4c",
            "bipartite": 1,
            "id": "_R3",
            "index": "rule2",
            "kf": 1e-05,
            "kr": 0.01,
            "label": "_R3",
            "name": "_R3",
            "shape": "roundrectangle"
           },
           "position": {
            "x": 168.94993017858948,
            "y": 176.15665422258095
           }
          },
          {
           "data": {
            "NodeType": "rule",
            "background_color": "#ff4c4c",
            "bipartite": 1,
            "id": "_R4",
            "index": "rule3",
            "kf": 1,
            "kr": "None",
            "label": "_R4",
            "name": "_R4",
            "shape": "roundrectangle"
           },
           "position": {
            "x": 304.11,
            "y": 18
           }
          }
         ]
        }
       },
       "format": "cyjs",
       "layout": "IPY_MODEL_1408a799f4034d69bfda02c1f59c6e0b",
       "layout_name": "preset",
       "process": "consumption",
       "sim_idx": 0,
       "type_of_viz": "sp_rules_view",
       "visual_style": null
      }
     },
     "0ea05cf041e94b11b16f11aaea1fb483": {
      "model_module": "@jupyter-widgets/base",
      "model_module_version": "1.1.0",
      "model_name": "LayoutModel",
      "state": {}
     },
     "1408a799f4034d69bfda02c1f59c6e0b": {
      "model_module": "@jupyter-widgets/base",
      "model_module_version": "1.1.0",
      "model_name": "LayoutModel",
      "state": {}
     },
     "1a47d1e478124726b0350881113ab39c": {
      "model_module": "pyvipr",
      "model_module_version": "^0.1.17",
      "model_name": "CytoscapeModel",
      "state": {
       "background": "#FFFFFF",
       "data": {
        "data": {
         "graph": {
          "rankdir": "LR"
         },
         "name": "pyvipr.pysb_models.lopez_embedded",
         "paths": []
        },
        "elements": {
         "edges": [
          {
           "data": {
            "arrowhead": "normal",
            "id": "7d60a6ea-dff3-4dcf-a52d-e42e02f84152",
            "source": "s0",
            "source_arrow_fill": "hollow",
            "source_arrow_shape": "diamond",
            "target": "s21",
            "target_arrow_shape": "triangle"
           }
          },
          {
           "data": {
            "arrowhead": "normal",
            "id": "6bd7d9e7-587a-442f-b274-57c431886e0f",
            "source": "s1",
            "source_arrow_fill": "hollow",
            "source_arrow_shape": "diamond",
            "target": "s21",
            "target_arrow_shape": "triangle"
           }
          },
          {
           "data": {
            "arrowhead": "normal",
            "id": "3bec7f72-5a61-44d5-97ff-ac624da26fcb",
            "source": "s2",
            "source_arrow_fill": "hollow",
            "source_arrow_shape": "diamond",
            "target": "s27",
            "target_arrow_shape": "triangle"
           }
          },
          {
           "data": {
            "arrowhead": "normal",
            "id": "d14b8108-b2fd-4721-85be-471d87a0dde5",
            "source": "s3",
            "source_arrow_fill": "hollow",
            "source_arrow_shape": "diamond",
            "target": "s26",
            "target_arrow_shape": "triangle"
           }
          },
          {
           "data": {
            "arrowhead": "normal",
            "id": "df26613b-4cd4-4a24-b5c2-b6938c09bc0c",
            "source": "s3",
            "source_arrow_fill": "hollow",
            "source_arrow_shape": "diamond",
            "target": "s46",
            "target_arrow_shape": "triangle"
           }
          },
          {
           "data": {
            "arrowhead": "normal",
            "id": "6cb06059-3ab5-4cec-94b9-2fd3f8c82654",
            "source": "s4",
            "source_arrow_fill": "hollow",
            "source_arrow_shape": "diamond",
            "target": "s30",
            "target_arrow_shape": "triangle"
           }
          },
          {
           "data": {
            "arrowhead": "normal",
            "id": "22cc7a78-aadd-4205-836f-710ae78a8b73",
            "source": "s5",
            "source_arrow_fill": "hollow",
            "source_arrow_shape": "diamond",
            "target": "s71",
            "target_arrow_shape": "triangle"
           }
          },
          {
           "data": {
            "arrowhead": "normal",
            "id": "67255e57-f723-45a0-9327-62b5edf24bff",
            "source": "s6",
            "source_arrow_fill": "hollow",
            "source_arrow_shape": "diamond",
            "target": "s31",
            "target_arrow_shape": "triangle"
           }
          },
          {
           "data": {
            "arrowhead": "normal",
            "id": "e34e4edc-0860-4f80-8eeb-33ad4fe1af15",
            "source": "s6",
            "source_arrow_fill": "hollow",
            "source_arrow_shape": "diamond",
            "target": "s75",
            "target_arrow_shape": "triangle"
           }
          },
          {
           "data": {
            "arrowhead": "normal",
            "id": "1e1cc910-e2c0-46c6-bee9-60e4ffe8cb9f",
            "source": "s7",
            "source_arrow_fill": "hollow",
            "source_arrow_shape": "diamond",
            "target": "s36",
            "target_arrow_shape": "triangle"
           }
          },
          {
           "data": {
            "arrowhead": "normal",
            "id": "4a8dcd0c-d86d-4aa4-87bd-fe706d6a732d",
            "source": "s8",
            "source_arrow_fill": "hollow",
            "source_arrow_shape": "diamond",
            "target": "s74",
            "target_arrow_shape": "triangle"
           }
          },
          {
           "data": {
            "arrowhead": "normal",
            "id": "9e428aec-1d2a-4aa3-a1be-1baa3dc61ca9",
            "source": "s9",
            "source_arrow_fill": "hollow",
            "source_arrow_shape": "diamond",
            "target": "s35",
            "target_arrow_shape": "triangle"
           }
          },
          {
           "data": {
            "arrowhead": "normal",
            "id": "06abf22a-b3e9-4fd8-bc22-2031db71fa1e",
            "source": "s10",
            "source_arrow_fill": "hollow",
            "source_arrow_shape": "diamond",
            "target": "s34",
            "target_arrow_shape": "triangle"
           }
          },
          {
           "data": {
            "arrowhead": "normal",
            "id": "3816a334-1d5a-4dc5-a39e-64919313ab80",
            "source": "s10",
            "source_arrow_fill": "hollow",
            "source_arrow_shape": "diamond",
            "target": "s72",
            "target_arrow_shape": "triangle"
           }
          },
          {
           "data": {
            "arrowhead": "normal",
            "id": "2e11022a-465b-4b8f-a86a-4fcad8870fcf",
            "source": "s10",
            "source_arrow_fill": "hollow",
            "source_arrow_shape": "diamond",
            "target": "s76",
            "target_arrow_shape": "triangle"
           }
          },
          {
           "data": {
            "arrowhead": "normal",
            "id": "3f1e2974-a001-4c83-927b-75d1cb4264af",
            "source": "s11",
            "source_arrow_fill": "hollow",
            "source_arrow_shape": "diamond",
            "target": "s29",
            "target_arrow_shape": "triangle"
           }
          },
          {
           "data": {
            "arrowhead": "normal",
            "id": "f9a62a01-f501-4a09-b79a-7eb32a65ef80",
            "source": "s12",
            "source_arrow_fill": "hollow",
            "source_arrow_shape": "diamond",
            "target": "s41",
            "target_arrow_shape": "triangle"
           }
          },
          {
           "data": {
            "arrowhead": "normal",
            "id": "bce9b6ed-159f-4dd4-b15f-9d6911534166",
            "source": "s13",
            "source_arrow_fill": "hollow",
            "source_arrow_shape": "diamond",
            "target": "s42",
            "target_arrow_shape": "triangle"
           }
          },
          {
           "data": {
            "arrowhead": "normal",
            "id": "a0348ebf-2123-4ffd-8033-e8e2b58e244f",
            "source": "s13",
            "source_arrow_fill": "hollow",
            "source_arrow_shape": "diamond",
            "target": "s50",
            "target_arrow_shape": "triangle"
           }
          },
          {
           "data": {
            "arrowhead": "normal",
            "id": "f6b23942-faf9-40e6-bcf1-09283ff5d377",
            "source": "s14",
            "source_arrow_fill": "hollow",
            "source_arrow_shape": "diamond",
            "target": "s22",
            "target_arrow_shape": "triangle"
           }
          },
          {
           "data": {
            "arrowhead": "normal",
            "id": "4eef0f14-e661-4bff-b53e-de604b904d11",
            "source": "s14",
            "source_arrow_fill": "hollow",
            "source_arrow_shape": "diamond",
            "target": "s43",
            "target_arrow_shape": "triangle"
           }
          },
          {
           "data": {
            "arrowhead": "normal",
            "id": "74ddff89-870a-4d34-a022-d7d186e5d9f1",
            "source": "s14",
            "source_arrow_fill": "hollow",
            "source_arrow_shape": "diamond",
            "target": "s57",
            "target_arrow_shape": "triangle"
           }
          },
          {
           "data": {
            "arrowhead": "normal",
            "id": "f651e3f4-f686-4c01-94e3-daa5e67d98c4",
            "source": "s15",
            "source_arrow_fill": "hollow",
            "source_arrow_shape": "diamond",
            "target": "s23",
            "target_arrow_shape": "triangle"
           }
          },
          {
           "data": {
            "arrowhead": "normal",
            "id": "819a552a-5f61-46a1-a243-8c925e0800ae",
            "source": "s15",
            "source_arrow_fill": "hollow",
            "source_arrow_shape": "diamond",
            "target": "s44",
            "target_arrow_shape": "triangle"
           }
          },
          {
           "data": {
            "arrowhead": "normal",
            "id": "01be1d28-45ed-4f52-a326-35aa0ba74506",
            "source": "s15",
            "source_arrow_fill": "hollow",
            "source_arrow_shape": "diamond",
            "target": "s51",
            "target_arrow_shape": "triangle"
           }
          },
          {
           "data": {
            "arrowhead": "normal",
            "id": "82c9f669-5405-4ac3-b1e0-774957665d5b",
            "source": "s15",
            "source_arrow_fill": "hollow",
            "source_arrow_shape": "diamond",
            "target": "s58",
            "target_arrow_shape": "triangle"
           }
          },
          {
           "data": {
            "arrowhead": "normal",
            "id": "361ce76a-0b7b-4448-a0d4-4354ddb0cee3",
            "source": "s16",
            "source_arrow_fill": "hollow",
            "source_arrow_shape": "diamond",
            "target": "s24",
            "target_arrow_shape": "triangle"
           }
          },
          {
           "data": {
            "arrowhead": "normal",
            "id": "45437255-9cf4-40fe-937c-c40a5224218d",
            "source": "s16",
            "source_arrow_fill": "hollow",
            "source_arrow_shape": "diamond",
            "target": "s45",
            "target_arrow_shape": "triangle"
           }
          },
          {
           "data": {
            "arrowhead": "normal",
            "id": "53049526-7faf-451e-b9c9-f0034d85024b",
            "source": "s16",
            "source_arrow_fill": "hollow",
            "source_arrow_shape": "diamond",
            "target": "s52",
            "target_arrow_shape": "triangle"
           }
          },
          {
           "data": {
            "arrowhead": "normal",
            "id": "03322003-7a24-4ef8-ae33-6137c3054765",
            "source": "s17",
            "source_arrow_fill": "hollow",
            "source_arrow_shape": "diamond",
            "target": "s22",
            "target_arrow_shape": "triangle"
           }
          },
          {
           "data": {
            "arrowhead": "normal",
            "id": "cbf783c9-c5b7-41a3-82de-433457fc66c9",
            "source": "s17",
            "source_arrow_fill": "hollow",
            "source_arrow_shape": "diamond",
            "target": "s23",
            "target_arrow_shape": "triangle"
           }
          },
          {
           "data": {
            "arrowhead": "normal",
            "id": "5088c66b-cead-4f1d-bf94-943b388d900e",
            "source": "s18",
            "source_arrow_fill": "hollow",
            "source_arrow_shape": "diamond",
            "target": "s24",
            "target_arrow_shape": "triangle"
           }
          },
          {
           "data": {
            "arrowhead": "normal",
            "id": "066c2cec-41fa-4c1d-85fa-560d374f7700",
            "source": "s19",
            "source_arrow_fill": "hollow",
            "source_arrow_shape": "diamond",
            "target": "s62",
            "target_arrow_shape": "triangle"
           }
          },
          {
           "data": {
            "arrowhead": "normal",
            "id": "d6947bf1-0083-44fb-96a9-7b1366811b3f",
            "source": "s19",
            "source_arrow_fill": "hollow",
            "source_arrow_shape": "diamond",
            "target": "s69",
            "target_arrow_shape": "triangle"
           }
          },
          {
           "data": {
            "arrowhead": "normal",
            "id": "6289ba98-495b-4b64-8cb3-a34a6d6076e2",
            "source": "s20",
            "source_arrow_fill": "hollow",
            "source_arrow_shape": "diamond",
            "target": "s63",
            "target_arrow_shape": "triangle"
           }
          },
          {
           "data": {
            "arrowhead": "normal",
            "id": "41e8a671-7b4c-4526-b31e-d5fcfd0d9454",
            "source": "s20",
            "source_arrow_fill": "hollow",
            "source_arrow_shape": "diamond",
            "target": "s70",
            "target_arrow_shape": "triangle"
           }
          },
          {
           "data": {
            "arrowhead": "normal",
            "id": "b6d40ba7-f241-48fa-9384-ee7e67f7d34c",
            "source": "s21",
            "source_arrow_fill": "filled",
            "source_arrow_shape": "none",
            "target": "s25",
            "target_arrow_shape": "triangle"
           }
          },
          {
           "data": {
            "arrowhead": "normal",
            "id": "57bb98f3-a563-4681-9575-59e1bf2138f7",
            "source": "s25",
            "source_arrow_fill": "hollow",
            "source_arrow_shape": "diamond",
            "target": "s26",
            "target_arrow_shape": "triangle"
           }
          },
          {
           "data": {
            "arrowhead": "normal",
            "id": "cccf73c1-dea3-4e52-8845-7720f56af208",
            "source": "s25",
            "source_arrow_fill": "hollow",
            "source_arrow_shape": "diamond",
            "target": "s27",
            "target_arrow_shape": "triangle"
           }
          },
          {
           "data": {
            "arrowhead": "normal",
            "id": "5376e7d9-c73a-4a9b-a2f7-293a2e669aab",
            "source": "s26",
            "source_arrow_fill": "filled",
            "source_arrow_shape": "none",
            "target": "s25",
            "target_arrow_shape": "triangle"
           }
          },
          {
           "data": {
            "arrowhead": "normal",
            "id": "8ab3f032-6c2b-4b64-92a1-7ea1d99fccd6",
            "source": "s26",
            "source_arrow_fill": "filled",
            "source_arrow_shape": "none",
            "target": "s28",
            "target_arrow_shape": "triangle"
           }
          },
          {
           "data": {
            "arrowhead": "normal",
            "id": "96dda4d7-755e-4c75-b8d8-8ca44b90c426",
            "source": "s28",
            "source_arrow_fill": "hollow",
            "source_arrow_shape": "diamond",
            "target": "s29",
            "target_arrow_shape": "triangle"
           }
          },
          {
           "data": {
            "arrowhead": "normal",
            "id": "8f7fdc65-985f-46a2-8ca4-8d0dda5d08d6",
            "source": "s28",
            "source_arrow_fill": "hollow",
            "source_arrow_shape": "diamond",
            "target": "s30",
            "target_arrow_shape": "triangle"
           }
          },
          {
           "data": {
            "arrowhead": "normal",
            "id": "2fc4b2b3-f6d4-49ab-9793-7b0e2c1933d1",
            "source": "s28",
            "source_arrow_fill": "hollow",
            "source_arrow_shape": "diamond",
            "target": "s31",
            "target_arrow_shape": "triangle"
           }
          },
          {
           "data": {
            "arrowhead": "normal",
            "id": "a3a01016-ffd6-4992-9f27-473eced5d7a5",
            "source": "s29",
            "source_arrow_fill": "filled",
            "source_arrow_shape": "none",
            "target": "s32",
            "target_arrow_shape": "triangle"
           }
          },
          {
           "data": {
            "arrowhead": "normal",
            "id": "609b7940-0858-4ba8-bcae-6e4e7c7e61dc",
            "source": "s29",
            "source_arrow_fill": "filled",
            "source_arrow_shape": "none",
            "target": "s28",
            "target_arrow_shape": "triangle"
           }
          },
          {
           "data": {
            "arrowhead": "normal",
            "id": "98ab7b91-b36d-46bd-895d-22b963fbc32b",
            "source": "s31",
            "source_arrow_fill": "filled",
            "source_arrow_shape": "none",
            "target": "s33",
            "target_arrow_shape": "triangle"
           }
          },
          {
           "data": {
            "arrowhead": "normal",
            "id": "1d48c2c2-503b-4dd9-8cac-69cc133b2295",
            "source": "s31",
            "source_arrow_fill": "filled",
            "source_arrow_shape": "none",
            "target": "s28",
            "target_arrow_shape": "triangle"
           }
          },
          {
           "data": {
            "arrowhead": "normal",
            "id": "147bd393-ce8e-45aa-9e1a-6863055ca223",
            "source": "s32",
            "source_arrow_fill": "hollow",
            "source_arrow_shape": "diamond",
            "target": "s37",
            "target_arrow_shape": "triangle"
           }
          },
          {
           "data": {
            "arrowhead": "normal",
            "id": "b9a8e297-53de-4902-9405-519e2701cb45",
            "source": "s33",
            "source_arrow_fill": "hollow",
            "source_arrow_shape": "diamond",
            "target": "s34",
            "target_arrow_shape": "triangle"
           }
          },
          {
           "data": {
            "arrowhead": "normal",
            "id": "4ea5ef7f-2530-4e0c-9252-695a2aa9bb29",
            "source": "s33",
            "source_arrow_fill": "hollow",
            "source_arrow_shape": "diamond",
            "target": "s35",
            "target_arrow_shape": "triangle"
           }
          },
          {
           "data": {
            "arrowhead": "normal",
            "id": "3a1751c9-b8b4-4082-8d95-721c4c59c702",
            "source": "s33",
            "source_arrow_fill": "hollow",
            "source_arrow_shape": "diamond",
            "target": "s36",
            "target_arrow_shape": "triangle"
           }
          },
          {
           "data": {
            "arrowhead": "normal",
            "id": "9d69e59b-e6f5-49f4-a502-c212667e0104",
            "source": "s34",
            "source_arrow_fill": "filled",
            "source_arrow_shape": "none",
            "target": "s10",
            "target_arrow_shape": "triangle"
           }
          },
          {
           "data": {
            "arrowhead": "normal",
            "id": "1580fdd8-2aff-46e0-906e-031cd881e8da",
            "source": "s34",
            "source_arrow_fill": "filled",
            "source_arrow_shape": "none",
            "target": "s38",
            "target_arrow_shape": "triangle"
           }
          },
          {
           "data": {
            "arrowhead": "normal",
            "id": "08947522-ddbc-48be-8d3b-025db54f1ec4",
            "source": "s35",
            "source_arrow_fill": "filled",
            "source_arrow_shape": "none",
            "target": "s33",
            "target_arrow_shape": "triangle"
           }
          },
          {
           "data": {
            "arrowhead": "normal",
            "id": "20dd73c5-eb9a-4fad-a587-63a013efe742",
            "source": "s35",
            "source_arrow_fill": "filled",
            "source_arrow_shape": "none",
            "target": "s39",
            "target_arrow_shape": "triangle"
           }
          },
          {
           "data": {
            "arrowhead": "normal",
            "id": "ea51df87-a5a6-4fd2-b2ca-1d29f7aa27e2",
            "source": "s36",
            "source_arrow_fill": "filled",
            "source_arrow_shape": "none",
            "target": "s40",
            "target_arrow_shape": "triangle"
           }
          },
          {
           "data": {
            "arrowhead": "normal",
            "id": "d1ef8674-1a93-4ff6-a83c-d01d5b72a9f4",
            "source": "s36",
            "source_arrow_fill": "filled",
            "source_arrow_shape": "none",
            "target": "s33",
            "target_arrow_shape": "triangle"
           }
          },
          {
           "data": {
            "arrowhead": "normal",
            "id": "910dfd03-0691-4ee2-8246-7cc8c1f03f45",
            "source": "s37",
            "source_arrow_fill": "hollow",
            "source_arrow_shape": "diamond",
            "target": "s41",
            "target_arrow_shape": "triangle"
           }
          },
          {
           "data": {
            "arrowhead": "normal",
            "id": "12c6d3ce-08d2-4f36-a0d9-e4cd71b945eb",
            "source": "s37",
            "source_arrow_fill": "hollow",
            "source_arrow_shape": "diamond",
            "target": "s42",
            "target_arrow_shape": "triangle"
           }
          },
          {
           "data": {
            "arrowhead": "normal",
            "id": "e1101013-1b4b-466c-980a-3ed9ab994c28",
            "source": "s37",
            "source_arrow_fill": "hollow",
            "source_arrow_shape": "diamond",
            "target": "s43",
            "target_arrow_shape": "triangle"
           }
          },
          {
           "data": {
            "arrowhead": "normal",
            "id": "4cb3c2b2-9996-4e77-b1ce-54bf5792304d",
            "source": "s37",
            "source_arrow_fill": "hollow",
            "source_arrow_shape": "diamond",
            "target": "s44",
            "target_arrow_shape": "triangle"
           }
          },
          {
           "data": {
            "arrowhead": "normal",
            "id": "20b61638-9bbf-418d-9c40-d851bb81e0b5",
            "source": "s37",
            "source_arrow_fill": "hollow",
            "source_arrow_shape": "diamond",
            "target": "s45",
            "target_arrow_shape": "triangle"
           }
          },
          {
           "data": {
            "arrowhead": "normal",
            "id": "2c29a0be-445a-4475-b718-8d34c7f1977f",
            "source": "s37",
            "source_arrow_fill": "hollow",
            "source_arrow_shape": "diamond",
            "target": "s49",
            "target_arrow_shape": "triangle"
           }
          },
          {
           "data": {
            "arrowhead": "normal",
            "id": "dd31ee1d-4f70-490c-af4c-f2a46f3face5",
            "source": "s40",
            "source_arrow_fill": "hollow",
            "source_arrow_shape": "diamond",
            "target": "s46",
            "target_arrow_shape": "triangle"
           }
          },
          {
           "data": {
            "arrowhead": "normal",
            "id": "30d6ee4a-6ecc-4cf0-b1e2-93023f2c10cb",
            "source": "s41",
            "source_arrow_fill": "filled",
            "source_arrow_shape": "none",
            "target": "s37",
            "target_arrow_shape": "triangle"
           }
          },
          {
           "data": {
            "arrowhead": "normal",
            "id": "6ccb8bae-55b9-4ccf-9fe0-51b7da977878",
            "source": "s41",
            "source_arrow_fill": "filled",
            "source_arrow_shape": "none",
            "target": "s47",
            "target_arrow_shape": "triangle"
           }
          },
          {
           "data": {
            "arrowhead": "normal",
            "id": "5ba52838-a2d9-4768-b6e5-913cb97479f0",
            "source": "s42",
            "source_arrow_fill": "filled",
            "source_arrow_shape": "none",
            "target": "s48",
            "target_arrow_shape": "triangle"
           }
          },
          {
           "data": {
            "arrowhead": "normal",
            "id": "9471c4f3-fcde-44ee-af33-8d97eac1d154",
            "source": "s42",
            "source_arrow_fill": "filled",
            "source_arrow_shape": "none",
            "target": "s37",
            "target_arrow_shape": "triangle"
           }
          },
          {
           "data": {
            "arrowhead": "normal",
            "id": "27c15de3-e479-4753-9c81-1b1f79358684",
            "source": "s46",
            "source_arrow_fill": "filled",
            "source_arrow_shape": "none",
            "target": "s40",
            "target_arrow_shape": "triangle"
           }
          },
          {
           "data": {
            "arrowhead": "normal",
            "id": "690a8af5-f40f-4375-921b-f52cd69956a4",
            "source": "s46",
            "source_arrow_fill": "filled",
            "source_arrow_shape": "none",
            "target": "s28",
            "target_arrow_shape": "triangle"
           }
          },
          {
           "data": {
            "arrowhead": "normal",
            "id": "4fa3ec11-010f-40cb-aee8-2cd7f74814a8",
            "source": "s47",
            "source_arrow_fill": "hollow",
            "source_arrow_shape": "diamond",
            "target": "s49",
            "target_arrow_shape": "triangle"
           }
          },
          {
           "data": {
            "arrowhead": "normal",
            "id": "f8adb2be-a08f-4cba-98a6-32beeee6cf8b",
            "source": "s47",
            "source_arrow_fill": "hollow",
            "source_arrow_shape": "diamond",
            "target": "s56",
            "target_arrow_shape": "triangle"
           }
          },
          {
           "data": {
            "arrowhead": "normal",
            "id": "f44ed414-277a-4a3f-bc98-e3cb5b3910e6",
            "source": "s48",
            "source_arrow_fill": "hollow",
            "source_arrow_shape": "diamond",
            "target": "s50",
            "target_arrow_shape": "triangle"
           }
          },
          {
           "data": {
            "arrowhead": "normal",
            "id": "88ac4358-cf4d-438b-b108-236759b13c66",
            "source": "s48",
            "source_arrow_fill": "hollow",
            "source_arrow_shape": "diamond",
            "target": "s51",
            "target_arrow_shape": "triangle"
           }
          },
          {
           "data": {
            "arrowhead": "normal",
            "id": "c443b9f0-ad3d-4508-bea0-5e2f747e2d77",
            "source": "s48",
            "source_arrow_fill": "hollow",
            "source_arrow_shape": "diamond",
            "target": "s52",
            "target_arrow_shape": "triangle"
           }
          },
          {
           "data": {
            "arrowhead": "normal",
            "id": "0f3e9bc5-63e0-4047-ab91-2e4f05a8766c",
            "source": "s48",
            "source_arrow_fill": "hollow",
            "source_arrow_shape": "diamond",
            "target": "s53",
            "target_arrow_shape": "triangle"
           }
          },
          {
           "data": {
            "arrowhead": "normal",
            "id": "6ecfa74e-3509-4f32-8769-bd9970b6819b",
            "source": "s48",
            "source_arrow_fill": "hollow",
            "source_arrow_shape": "diamond",
            "target": "s55",
            "target_arrow_shape": "triangle"
           }
          },
          {
           "data": {
            "arrowhead": "normal",
            "id": "31b97ab1-aa61-498b-b36b-6d5ec819e26c",
            "source": "s48",
            "source_arrow_fill": "hollow",
            "source_arrow_shape": "diamond",
            "target": "s60",
            "target_arrow_shape": "triangle"
           }
          },
          {
           "data": {
            "arrowhead": "normal",
            "id": "1bb930d2-8af9-42a5-acd3-7e8f42b1753e",
            "source": "s49",
            "source_arrow_fill": "filled",
            "source_arrow_shape": "none",
            "target": "s37",
            "target_arrow_shape": "triangle"
           }
          },
          {
           "data": {
            "arrowhead": "normal",
            "id": "616f6fc7-89c9-4ef4-83e0-3b310a24d5a1",
            "source": "s49",
            "source_arrow_fill": "filled",
            "source_arrow_shape": "none",
            "target": "s54",
            "target_arrow_shape": "triangle"
           }
          },
          {
           "data": {
            "arrowhead": "normal",
            "id": "fac35bff-6781-4f1b-b92d-e1987b65dd23",
            "source": "s50",
            "source_arrow_fill": "filled",
            "source_arrow_shape": "none",
            "target": "s48",
            "target_arrow_shape": "triangle"
           }
          },
          {
           "data": {
            "arrowhead": "normal",
            "id": "44c0bc55-e85a-4afb-b2cf-fd3eb0df4d85",
            "source": "s53",
            "source_arrow_fill": "hollow",
            "source_arrow_shape": "diamond",
            "target": "s55",
            "target_arrow_shape": "triangle"
           }
          },
          {
           "data": {
            "arrowhead": "normal",
            "id": "e0d5e199-bfd8-4e85-8b08-4f3f19a8ed74",
            "source": "s54",
            "source_arrow_fill": "hollow",
            "source_arrow_shape": "diamond",
            "target": "s56",
            "target_arrow_shape": "triangle"
           }
          },
          {
           "data": {
            "arrowhead": "normal",
            "id": "5f789651-11f8-480f-9498-6ea930dd439a",
            "source": "s54",
            "source_arrow_fill": "hollow",
            "source_arrow_shape": "diamond",
            "target": "s57",
            "target_arrow_shape": "triangle"
           }
          },
          {
           "data": {
            "arrowhead": "normal",
            "id": "83a38296-f035-4040-a2d6-e98353877cad",
            "source": "s54",
            "source_arrow_fill": "hollow",
            "source_arrow_shape": "diamond",
            "target": "s58",
            "target_arrow_shape": "triangle"
           }
          },
          {
           "data": {
            "arrowhead": "normal",
            "id": "38d68df8-e02c-4d93-8713-a16ab718f0b8",
            "source": "s54",
            "source_arrow_fill": "hollow",
            "source_arrow_shape": "diamond",
            "target": "s59",
            "target_arrow_shape": "triangle"
           }
          },
          {
           "data": {
            "arrowhead": "normal",
            "id": "df15e273-1ae3-4db3-a19c-a91f97cf0035",
            "source": "s54",
            "source_arrow_fill": "hollow",
            "source_arrow_shape": "diamond",
            "target": "s61",
            "target_arrow_shape": "triangle"
           }
          },
          {
           "data": {
            "arrowhead": "normal",
            "id": "113a5015-50b8-4eef-bc16-9df031c20165",
            "source": "s54",
            "source_arrow_fill": "hollow",
            "source_arrow_shape": "diamond",
            "target": "s64",
            "target_arrow_shape": "triangle"
           }
          },
          {
           "data": {
            "arrowhead": "normal",
            "id": "5a233a02-b1b9-4d23-a7f5-3c6d8f943c64",
            "source": "s55",
            "source_arrow_fill": "hollow",
            "source_arrow_shape": "diamond",
            "target": "s60",
            "target_arrow_shape": "triangle"
           }
          },
          {
           "data": {
            "arrowhead": "normal",
            "id": "6b78bbf1-3c76-494e-9bae-ce23ae616d3a",
            "source": "s56",
            "source_arrow_fill": "filled",
            "source_arrow_shape": "none",
            "target": "s54",
            "target_arrow_shape": "triangle"
           }
          },
          {
           "data": {
            "arrowhead": "normal",
            "id": "a6ef12ad-b1fd-4553-a1fb-e1f330422dcf",
            "source": "s59",
            "source_arrow_fill": "hollow",
            "source_arrow_shape": "diamond",
            "target": "s61",
            "target_arrow_shape": "triangle"
           }
          },
          {
           "data": {
            "arrowhead": "normal",
            "id": "05568b94-95ec-42b4-96f1-5e77d1fa812a",
            "source": "s60",
            "source_arrow_fill": "hollow",
            "source_arrow_shape": "diamond",
            "target": "s62",
            "target_arrow_shape": "triangle"
           }
          },
          {
           "data": {
            "arrowhead": "normal",
            "id": "08bf861c-b748-4958-8d09-1b8bc864a960",
            "source": "s60",
            "source_arrow_fill": "hollow",
            "source_arrow_shape": "diamond",
            "target": "s63",
            "target_arrow_shape": "triangle"
           }
          },
          {
           "data": {
            "arrowhead": "normal",
            "id": "06f6f83e-a6a4-40c7-81c2-32c57cdf0413",
            "source": "s61",
            "source_arrow_fill": "hollow",
            "source_arrow_shape": "diamond",
            "target": "s64",
            "target_arrow_shape": "triangle"
           }
          },
          {
           "data": {
            "arrowhead": "normal",
            "id": "c7fe185e-ecca-42f9-81eb-68a6dcc9df50",
            "source": "s62",
            "source_arrow_fill": "filled",
            "source_arrow_shape": "none",
            "target": "s65",
            "target_arrow_shape": "triangle"
           }
          },
          {
           "data": {
            "arrowhead": "normal",
            "id": "37a70ef8-dfcf-4784-ac58-975b76c73d9e",
            "source": "s62",
            "source_arrow_fill": "filled",
            "source_arrow_shape": "none",
            "target": "s60",
            "target_arrow_shape": "triangle"
           }
          },
          {
           "data": {
            "arrowhead": "normal",
            "id": "7db5dac2-9f65-4bed-b0f5-32fd6b0efb9a",
            "source": "s63",
            "source_arrow_fill": "filled",
            "source_arrow_shape": "none",
            "target": "s66",
            "target_arrow_shape": "triangle"
           }
          },
          {
           "data": {
            "arrowhead": "normal",
            "id": "015699bb-4460-44a1-907a-6bd842d00911",
            "source": "s63",
            "source_arrow_fill": "filled",
            "source_arrow_shape": "none",
            "target": "s60",
            "target_arrow_shape": "triangle"
           }
          },
          {
           "data": {
            "arrowhead": "normal",
            "id": "942c57b7-17c6-4807-b52a-0d20f409a4ff",
            "source": "s64",
            "source_arrow_fill": "hollow",
            "source_arrow_shape": "diamond",
            "target": "s69",
            "target_arrow_shape": "triangle"
           }
          },
          {
           "data": {
            "arrowhead": "normal",
            "id": "5977ba9a-cb79-4d4d-9cd1-eb7209337aff",
            "source": "s64",
            "source_arrow_fill": "hollow",
            "source_arrow_shape": "diamond",
            "target": "s70",
            "target_arrow_shape": "triangle"
           }
          },
          {
           "data": {
            "arrowhead": "normal",
            "id": "da4d6ef7-b02e-435d-9ec2-320eea5e09d7",
            "source": "s65",
            "source_arrow_fill": "hollow",
            "source_arrow_shape": "diamond",
            "target": "s68",
            "target_arrow_shape": "triangle"
           }
          },
          {
           "data": {
            "arrowhead": "normal",
            "id": "732ccc1c-ac10-4ff6-9a33-2f71d177a716",
            "source": "s66",
            "source_arrow_fill": "hollow",
            "source_arrow_shape": "diamond",
            "target": "s67",
            "target_arrow_shape": "triangle"
           }
          },
          {
           "data": {
            "arrowhead": "normal",
            "id": "f85f18db-2592-45a7-a85e-045a8157ff0a",
            "source": "s67",
            "source_arrow_fill": "hollow",
            "source_arrow_shape": "diamond",
            "target": "s72",
            "target_arrow_shape": "triangle"
           }
          },
          {
           "data": {
            "arrowhead": "normal",
            "id": "2fefa9af-3bae-41cc-89c9-e80ade4c7bd5",
            "source": "s68",
            "source_arrow_fill": "hollow",
            "source_arrow_shape": "diamond",
            "target": "s71",
            "target_arrow_shape": "triangle"
           }
          },
          {
           "data": {
            "arrowhead": "normal",
            "id": "9ae6e68b-2a3b-4325-a28e-59e6fa1063f6",
            "source": "s69",
            "source_arrow_fill": "filled",
            "source_arrow_shape": "none",
            "target": "s64",
            "target_arrow_shape": "triangle"
           }
          },
          {
           "data": {
            "arrowhead": "normal",
            "id": "b0cee9b7-3093-4504-ab10-7d2ec0ecc55e",
            "source": "s69",
            "source_arrow_fill": "filled",
            "source_arrow_shape": "none",
            "target": "s65",
            "target_arrow_shape": "triangle"
           }
          },
          {
           "data": {
            "arrowhead": "normal",
            "id": "602aa5f5-0738-40d2-a407-3886c23ca196",
            "source": "s70",
            "source_arrow_fill": "filled",
            "source_arrow_shape": "none",
            "target": "s64",
            "target_arrow_shape": "triangle"
           }
          },
          {
           "data": {
            "arrowhead": "normal",
            "id": "377dd6a4-7933-48c3-97ff-6f9be30ae6ad",
            "source": "s70",
            "source_arrow_fill": "filled",
            "source_arrow_shape": "none",
            "target": "s66",
            "target_arrow_shape": "triangle"
           }
          },
          {
           "data": {
            "arrowhead": "normal",
            "id": "804b7e96-ea56-4875-aaaa-9ad40cbd6cbe",
            "source": "s71",
            "source_arrow_fill": "filled",
            "source_arrow_shape": "none",
            "target": "s73",
            "target_arrow_shape": "triangle"
           }
          },
          {
           "data": {
            "arrowhead": "normal",
            "id": "1a1fe7ef-d6f0-44ab-ae97-deb1fe179575",
            "source": "s71",
            "source_arrow_fill": "filled",
            "source_arrow_shape": "none",
            "target": "s68",
            "target_arrow_shape": "triangle"
           }
          },
          {
           "data": {
            "arrowhead": "normal",
            "id": "21a3d7d6-e8bd-4cca-891d-a793b226fdad",
            "source": "s73",
            "source_arrow_fill": "hollow",
            "source_arrow_shape": "diamond",
            "target": "s74",
            "target_arrow_shape": "triangle"
           }
          },
          {
           "data": {
            "arrowhead": "normal",
            "id": "b520b3a0-5e5e-40ec-88df-ccdea6a37259",
            "source": "s74",
            "source_arrow_fill": "hollow",
            "source_arrow_shape": "diamond",
            "target": "s75",
            "target_arrow_shape": "triangle"
           }
          },
          {
           "data": {
            "arrowhead": "normal",
            "id": "34931404-cffa-4603-83e9-5823d8c161a7",
            "source": "s74",
            "source_arrow_fill": "hollow",
            "source_arrow_shape": "diamond",
            "target": "s76",
            "target_arrow_shape": "triangle"
           }
          },
          {
           "data": {
            "arrowhead": "normal",
            "id": "2dbbcdec-7ba2-44e8-b7e9-765ec21ba25f",
            "source": "s75",
            "source_arrow_fill": "filled",
            "source_arrow_shape": "none",
            "target": "s33",
            "target_arrow_shape": "triangle"
           }
          },
          {
           "data": {
            "arrowhead": "normal",
            "id": "d7cb02cc-7038-4a67-adf1-de678be477c5",
            "source": "s75",
            "source_arrow_fill": "filled",
            "source_arrow_shape": "none",
            "target": "s74",
            "target_arrow_shape": "triangle"
           }
          }
         ],
         "nodes": [
          {
           "data": {
            "NodeType": "species",
            "background_color": "#aaffff",
            "id": "s0",
            "label": "L",
            "name": "s0",
            "parent": "0",
            "shape": "ellipse",
            "spInitial": 3000
           },
           "position": {
            "x": 40,
            "y": 108
           }
          },
          {
           "data": {
            "NodeType": "species",
            "background_color": "#aaffff",
            "id": "s1",
            "label": "R",
            "name": "s1",
            "parent": "0",
            "shape": "ellipse",
            "spInitial": 200
           },
           "position": {
            "x": 40,
            "y": 40
           }
          },
          {
           "data": {
            "NodeType": "species",
            "background_color": "#aaffff",
            "id": "s2",
            "label": "flip",
            "name": "s2",
            "parent": "0",
            "shape": "ellipse",
            "spInitial": 100
           },
           "position": {
            "x": 158.99999952316284,
            "y": 116
           }
          },
          {
           "data": {
            "NodeType": "species",
            "background_color": "#aaffff",
            "id": "s3",
            "label": "proC8",
            "name": "s3",
            "parent": "1",
            "shape": "ellipse",
            "spInitial": 20000
           },
           "position": {
            "x": 40,
            "y": 552.0000009536743
           }
          },
          {
           "data": {
            "NodeType": "species",
            "background_color": "#aaffff",
            "id": "s4",
            "label": "BAR",
            "name": "s4",
            "parent": "1",
            "shape": "ellipse",
            "spInitial": 1000
           },
           "position": {
            "x": 232.99999904632568,
            "y": 608.0000009536743
           }
          },
          {
           "data": {
            "NodeType": "species",
            "background_color": "#aaffff",
            "id": "s5",
            "label": "iApaf",
            "name": "s5",
            "parent": "2",
            "shape": "ellipse",
            "spInitial": 100000
           },
           "position": {
            "x": 1466.9999952316284,
            "y": 324.00000047683716
           }
          },
          {
           "data": {
            "NodeType": "species",
            "background_color": "#aaffff",
            "id": "s6",
            "label": "proC3",
            "name": "s6",
            "parent": "3",
            "shape": "ellipse",
            "spInitial": 10000
           },
           "position": {
            "x": 869.9999990463257,
            "y": 684.0000009536743
           }
          },
          {
           "data": {
            "NodeType": "species",
            "background_color": "#aaffff",
            "id": "s7",
            "label": "proC6",
            "name": "s7",
            "parent": "3",
            "shape": "ellipse",
            "spInitial": 10000
           },
           "position": {
            "x": 1088.9999980926514,
            "y": 816.0000009536743
           }
          },
          {
           "data": {
            "NodeType": "species",
            "background_color": "#aaffff",
            "id": "s8",
            "label": "C9",
            "name": "s8",
            "parent": "3",
            "shape": "ellipse",
            "spInitial": 100000
           },
           "position": {
            "x": 1002.9999985694885,
            "y": 540.0000009536743
           }
          },
          {
           "data": {
            "NodeType": "species",
            "background_color": "#aaffff",
            "id": "s9",
            "label": "uPARP",
            "name": "s9",
            "parent": "3",
            "shape": "ellipse",
            "spInitial": 1000000
           },
           "position": {
            "x": 1082.9999980926514,
            "y": 622.4000009536743
           }
          },
          {
           "data": {
            "NodeType": "species",
            "background_color": "#aaffff",
            "id": "s10",
            "label": "XIAP",
            "name": "s10",
            "parent": "3",
            "shape": "ellipse",
            "spInitial": 100000
           },
           "position": {
            "x": 1292.6666638056438,
            "y": 728.0000009536743
           }
          },
          {
           "data": {
            "NodeType": "species",
            "background_color": "#aaffff",
            "id": "s11",
            "label": "uBid",
            "name": "s11",
            "parent": "1",
            "shape": "ellipse",
            "spInitial": 40000
           },
           "position": {
            "x": 231.99999904632568,
            "y": 744.0000009536743
           }
          },
          {
           "data": {
            "NodeType": "species",
            "background_color": "#aaffff",
            "id": "s12",
            "label": "cBax",
            "name": "s12",
            "parent": "4",
            "shape": "ellipse",
            "spInitial": 80000
           },
           "position": {
            "x": 526.9999990463257,
            "y": 653.6000009536743
           }
          },
          {
           "data": {
            "NodeType": "species",
            "background_color": "#aaffff",
            "id": "s13",
            "label": "mBak",
            "name": "s13",
            "parent": "5",
            "shape": "ellipse",
            "spInitial": 20000
           },
           "position": {
            "x": 40,
            "y": 384.00000047683716
           }
          },
          {
           "data": {
            "NodeType": "species",
            "background_color": "#aaffff",
            "id": "s14",
            "label": "mBcl2",
            "name": "s14",
            "parent": "4",
            "shape": "ellipse",
            "spInitial": 20000
           },
           "position": {
            "x": 516.9999990463257,
            "y": 948.0000009536743
           }
          },
          {
           "data": {
            "NodeType": "species",
            "background_color": "#aaffff",
            "id": "s15",
            "label": "mBclxL",
            "name": "s15",
            "parent": "4",
            "shape": "ellipse",
            "spInitial": 20000
           },
           "position": {
            "x": 508.9999990463257,
            "y": 857.6000009536743
           }
          },
          {
           "data": {
            "NodeType": "species",
            "background_color": "#aaffff",
            "id": "s16",
            "label": "mMcl1",
            "name": "s16",
            "parent": "6",
            "shape": "ellipse",
            "spInitial": 20000
           },
           "position": {
            "x": 379.99999952316284,
            "y": 116
           }
          },
          {
           "data": {
            "NodeType": "species",
            "background_color": "#aaffff",
            "id": "s17",
            "label": "mBad",
            "name": "s17",
            "parent": "4",
            "shape": "ellipse",
            "spInitial": 1000
           },
           "position": {
            "x": 519.9999990463257,
            "y": 1016.0000009536743
           }
          },
          {
           "data": {
            "NodeType": "species",
            "background_color": "#aaffff",
            "id": "s18",
            "label": "mNoxa",
            "name": "s18",
            "parent": "6",
            "shape": "ellipse",
            "spInitial": 1000
           },
           "position": {
            "x": 377.99999952316284,
            "y": 40
           }
          },
          {
           "data": {
            "NodeType": "species",
            "background_color": "#aaffff",
            "id": "s19",
            "label": "mCytoC",
            "name": "s19",
            "parent": "2",
            "shape": "ellipse",
            "spInitial": 500000
           },
           "position": {
            "x": 1143.9999961853027,
            "y": 392.00000047683716
           }
          },
          {
           "data": {
            "NodeType": "species",
            "background_color": "#aaffff",
            "id": "s20",
            "label": "mSmac",
            "name": "s20",
            "parent": "7",
            "shape": "ellipse",
            "spInitial": 100000
           },
           "position": {
            "x": 658.9999995231628,
            "y": 48
           }
          },
          {
           "data": {
            "NodeType": "species",
            "background_color": "#2b913a",
            "id": "s21",
            "label": "L-R",
            "name": "s21",
            "parent": "0",
            "shape": "ellipse",
            "spInitial": 0
           },
           "position": {
            "x": 99.99999952316284,
            "y": 48
           }
          },
          {
           "data": {
            "NodeType": "species",
            "background_color": "#2b913a",
            "id": "s22",
            "label": "mBad-mBcl2",
            "name": "s22",
            "parent": "4",
            "shape": "ellipse",
            "spInitial": 0
           },
           "position": {
            "x": 672.9999985694885,
            "y": 1016.0000009536743
           }
          },
          {
           "data": {
            "NodeType": "species",
            "background_color": "#2b913a",
            "id": "s23",
            "label": "mBad-mBclxL",
            "name": "s23",
            "parent": "4",
            "shape": "ellipse",
            "spInitial": 0
           },
           "position": {
            "x": 672.9999985694885,
            "y": 880.0000009536743
           }
          },
          {
           "data": {
            "NodeType": "species",
            "background_color": "#2b913a",
            "id": "s24",
            "label": "mMcl1-mNoxa",
            "name": "s24",
            "parent": "6",
            "shape": "ellipse",
            "spInitial": 0
           },
           "position": {
            "x": 458.9999990463257,
            "y": 48
           }
          },
          {
           "data": {
            "NodeType": "species",
            "background_color": "#2b913a",
            "id": "s25",
            "label": "DISC",
            "name": "s25",
            "parent": "0",
            "shape": "ellipse",
            "spInitial": 0
           },
           "position": {
            "x": 151.99999952316284,
            "y": 48
           }
          },
          {
           "data": {
            "NodeType": "species",
            "background_color": "#2b913a",
            "id": "s26",
            "label": "proC8-DISC",
            "name": "s26",
            "parent": "1",
            "shape": "ellipse",
            "spInitial": 0
           },
           "position": {
            "x": 113.99999952316284,
            "y": 684.0000009536743
           }
          },
          {
           "data": {
            "NodeType": "species",
            "background_color": "#2b913a",
            "id": "s27",
            "label": "DISC-flip",
            "name": "s27",
            "parent": "0",
            "shape": "ellipse",
            "spInitial": 0
           },
           "position": {
            "x": 218.99999904632568,
            "y": 56
           }
          },
          {
           "data": {
            "NodeType": "species",
            "background_color": "#2b913a",
            "id": "s28",
            "label": "aC8",
            "name": "s28",
            "parent": "1",
            "shape": "ellipse",
            "spInitial": 0
           },
           "position": {
            "x": 233.7999990463257,
            "y": 676.0000009536743
           }
          },
          {
           "data": {
            "NodeType": "species",
            "background_color": "#2b913a",
            "id": "s29",
            "label": "uBid-aC8",
            "name": "s29",
            "parent": "1",
            "shape": "ellipse",
            "spInitial": 0
           },
           "position": {
            "x": 294.9999985694885,
            "y": 688.0000009536743
           }
          },
          {
           "data": {
            "NodeType": "species",
            "background_color": "#2b913a",
            "id": "s30",
            "label": "BAR-aC8",
            "name": "s30",
            "parent": "1",
            "shape": "ellipse",
            "spInitial": 0
           },
           "position": {
            "x": 294.9999985694885,
            "y": 616.0000009536743
           }
          },
          {
           "data": {
            "NodeType": "species",
            "background_color": "#2b913a",
            "id": "s31",
            "label": "proC3-aC8",
            "name": "s31",
            "parent": "3",
            "shape": "ellipse",
            "spInitial": 0
           },
           "position": {
            "x": 948.9999985694885,
            "y": 744.0000009536743
           }
          },
          {
           "data": {
            "NodeType": "species",
            "background_color": "#2b913a",
            "id": "s32",
            "label": "tBid",
            "name": "s32",
            "parent": "1",
            "shape": "ellipse",
            "spInitial": 0
           },
           "position": {
            "x": 384.9999985694885,
            "y": 688.0000009536743
           }
          },
          {
           "data": {
            "NodeType": "species",
            "background_color": "#2b913a",
            "id": "s33",
            "label": "aC3",
            "name": "s33",
            "parent": "3",
            "shape": "ellipse",
            "spInitial": 0
           },
           "position": {
            "x": 1097.2857123783656,
            "y": 736.0000009536743
           }
          },
          {
           "data": {
            "NodeType": "species",
            "background_color": "#2b913a",
            "id": "s34",
            "label": "aC3-XIAP",
            "name": "s34",
            "parent": "3",
            "shape": "ellipse",
            "spInitial": 0
           },
           "position": {
            "x": 1184.2499976158142,
            "y": 736.0000009536743
           }
          },
          {
           "data": {
            "NodeType": "species",
            "background_color": "#2b913a",
            "id": "s35",
            "label": "aC3-uPARP",
            "name": "s35",
            "parent": "3",
            "shape": "ellipse",
            "spInitial": 0
           },
           "position": {
            "x": 1172.9999976158142,
            "y": 634.4000009536743
           }
          },
          {
           "data": {
            "NodeType": "species",
            "background_color": "#2b913a",
            "id": "s36",
            "label": "aC3-proC6",
            "name": "s36",
            "parent": "3",
            "shape": "ellipse",
            "spInitial": 0
           },
           "position": {
            "x": 1172.9999976158142,
            "y": 804.0000009536743
           }
          },
          {
           "data": {
            "NodeType": "species",
            "background_color": "#2b913a",
            "id": "s37",
            "label": "mBid",
            "name": "s37",
            "parent": "4",
            "shape": "ellipse",
            "spInitial": 0
           },
           "position": {
            "x": 524.9999990463257,
            "y": 721.6000009536743
           }
          },
          {
           "data": {
            "NodeType": "species",
            "background_color": "#2b913a",
            "id": "s38",
            "label": "ubC3",
            "name": "s38",
            "parent": "3",
            "shape": "ellipse",
            "spInitial": 0
           },
           "position": {
            "x": 1287.999997138977,
            "y": 796.0000009536743
           }
          },
          {
           "data": {
            "NodeType": "species",
            "background_color": "#2b913a",
            "id": "s39",
            "label": "cPARP",
            "name": "s39",
            "parent": "3",
            "shape": "ellipse",
            "spInitial": 0
           },
           "position": {
            "x": 1287.999997138977,
            "y": 634.4000009536743
           }
          },
          {
           "data": {
            "NodeType": "species",
            "background_color": "#2b913a",
            "id": "s40",
            "label": "aC6",
            "name": "s40",
            "parent": "1",
            "shape": "ellipse",
            "spInitial": 0
           },
           "position": {
            "x": 231.99999904632568,
            "y": 540.0000009536743
           }
          },
          {
           "data": {
            "NodeType": "species",
            "background_color": "#2b913a",
            "id": "s41",
            "label": "cBax-mBid",
            "name": "s41",
            "parent": "4",
            "shape": "ellipse",
            "spInitial": 0
           },
           "position": {
            "x": 672.9999985694885,
            "y": 540.0000009536743
           }
          },
          {
           "data": {
            "NodeType": "species",
            "background_color": "#2b913a",
            "id": "s42",
            "label": "mBak-mBid",
            "name": "s42",
            "parent": "5",
            "shape": "ellipse",
            "spInitial": 0
           },
           "position": {
            "x": 111.99999952316284,
            "y": 324.00000047683716
           }
          },
          {
           "data": {
            "NodeType": "species",
            "background_color": "#2b913a",
            "id": "s43",
            "label": "mBcl2-mBid",
            "name": "s43",
            "parent": "4",
            "shape": "ellipse",
            "spInitial": 0
           },
           "position": {
            "x": 672.9999985694885,
            "y": 744.0000009536743
           }
          },
          {
           "data": {
            "NodeType": "species",
            "background_color": "#2b913a",
            "id": "s44",
            "label": "mBclxL-mBid",
            "name": "s44",
            "parent": "4",
            "shape": "ellipse",
            "spInitial": 0
           },
           "position": {
            "x": 672.9999985694885,
            "y": 608.0000009536743
           }
          },
          {
           "data": {
            "NodeType": "species",
            "background_color": "#2b913a",
            "id": "s45",
            "label": "mBid-mMcl1",
            "name": "s45",
            "parent": "6",
            "shape": "ellipse",
            "spInitial": 0
           },
           "position": {
            "x": 458.9999990463257,
            "y": 116
           }
          },
          {
           "data": {
            "NodeType": "species",
            "background_color": "#2b913a",
            "id": "s46",
            "label": "aC6-proC8",
            "name": "s46",
            "parent": "1",
            "shape": "ellipse",
            "spInitial": 0
           },
           "position": {
            "x": 120.74999952316284,
            "y": 544.0000009536743
           }
          },
          {
           "data": {
            "NodeType": "species",
            "background_color": "#2b913a",
            "id": "s47",
            "label": "mBax",
            "name": "s47",
            "parent": "8",
            "shape": "ellipse",
            "spInitial": 0
           },
           "position": {
            "x": 591.9999980926514,
            "y": 384.00000047683716
           }
          },
          {
           "data": {
            "NodeType": "species",
            "background_color": "#2b913a",
            "id": "s48",
            "label": "aBak",
            "name": "s48",
            "parent": "5",
            "shape": "ellipse",
            "spInitial": 0
           },
           "position": {
            "x": 226.99999904632568,
            "y": 384.00000047683716
           }
          },
          {
           "data": {
            "NodeType": "species",
            "background_color": "#2b913a",
            "id": "s49",
            "label": "mBax-mBid",
            "name": "s49",
            "parent": "8",
            "shape": "ellipse",
            "spInitial": 0
           },
           "position": {
            "x": 663.9999976158142,
            "y": 324.00000047683716
           }
          },
          {
           "data": {
            "NodeType": "species",
            "background_color": "#2b913a",
            "id": "s50",
            "label": "aBak-mBak",
            "name": "s50",
            "parent": "5",
            "shape": "ellipse",
            "spInitial": 0
           },
           "position": {
            "x": 112.66666618982951,
            "y": 392.00000047683716
           }
          },
          {
           "data": {
            "NodeType": "species",
            "background_color": "#2b913a",
            "id": "s51",
            "label": "aBak-mBclxL",
            "name": "s51",
            "parent": "4",
            "shape": "ellipse",
            "spInitial": 0
           },
           "position": {
            "x": 672.9999985694885,
            "y": 676.0000009536743
           }
          },
          {
           "data": {
            "NodeType": "species",
            "background_color": "#2b913a",
            "id": "s52",
            "label": "aBak-mMcl1",
            "name": "s52",
            "parent": "6",
            "shape": "ellipse",
            "spInitial": 0
           },
           "position": {
            "x": 458.9999990463257,
            "y": 184
           }
          },
          {
           "data": {
            "NodeType": "species",
            "background_color": "#2b913a",
            "id": "s53",
            "label": "2aBak",
            "name": "s53",
            "parent": "5",
            "shape": "ellipse",
            "spInitial": 0
           },
           "position": {
            "x": 302.9999985694885,
            "y": 328.0000009536743
           }
          },
          {
           "data": {
            "NodeType": "species",
            "background_color": "#2b913a",
            "id": "s54",
            "label": "aBax",
            "name": "s54",
            "parent": "8",
            "shape": "ellipse",
            "spInitial": 0
           },
           "position": {
            "x": 778.999997138977,
            "y": 384.00000047683716
           }
          },
          {
           "data": {
            "NodeType": "species",
            "background_color": "#2b913a",
            "id": "s55",
            "label": "3aBak",
            "name": "s55",
            "parent": "5",
            "shape": "ellipse",
            "spInitial": 0
           },
           "position": {
            "x": 377.99999809265137,
            "y": 358.00000071525574
           }
          },
          {
           "data": {
            "NodeType": "species",
            "background_color": "#2b913a",
            "id": "s56",
            "label": "aBax-mBax",
            "name": "s56",
            "parent": "8",
            "shape": "ellipse",
            "spInitial": 0
           },
           "position": {
            "x": 664.6666642824808,
            "y": 392.00000047683716
           }
          },
          {
           "data": {
            "NodeType": "species",
            "background_color": "#2b913a",
            "id": "s57",
            "label": "aBax-mBcl2",
            "name": "s57",
            "parent": "4",
            "shape": "ellipse",
            "spInitial": 0
           },
           "position": {
            "x": 672.9999985694885,
            "y": 948.0000009536743
           }
          },
          {
           "data": {
            "NodeType": "species",
            "background_color": "#2b913a",
            "id": "s58",
            "label": "aBax-mBclxL",
            "name": "s58",
            "parent": "4",
            "shape": "ellipse",
            "spInitial": 0
           },
           "position": {
            "x": 672.9999985694885,
            "y": 812.0000009536743
           }
          },
          {
           "data": {
            "NodeType": "species",
            "background_color": "#2b913a",
            "id": "s59",
            "label": "2aBax",
            "name": "s59",
            "parent": "8",
            "shape": "ellipse",
            "spInitial": 0
           },
           "position": {
            "x": 854.9999966621399,
            "y": 328.0000009536743
           }
          },
          {
           "data": {
            "NodeType": "species",
            "background_color": "#2b913a",
            "id": "s60",
            "label": "4aBak",
            "name": "s60",
            "parent": "5",
            "shape": "ellipse",
            "spInitial": 0
           },
           "position": {
            "x": 452.9999976158142,
            "y": 388.00000047683716
           }
          },
          {
           "data": {
            "NodeType": "species",
            "background_color": "#2b913a",
            "id": "s61",
            "label": "3aBax",
            "name": "s61",
            "parent": "8",
            "shape": "ellipse",
            "spInitial": 0
           },
           "position": {
            "x": 929.9999961853027,
            "y": 358.00000071525574
           }
          },
          {
           "data": {
            "NodeType": "species",
            "background_color": "#2b913a",
            "id": "s62",
            "label": "4aBak-mCytoC",
            "name": "s62",
            "parent": "2",
            "shape": "ellipse",
            "spInitial": 0
           },
           "position": {
            "x": 1232.9999957084656,
            "y": 400.00000047683716
           }
          },
          {
           "data": {
            "NodeType": "species",
            "background_color": "#2b913a",
            "id": "s63",
            "label": "4aBak-mSmac",
            "name": "s63",
            "parent": "7",
            "shape": "ellipse",
            "spInitial": 0
           },
           "position": {
            "x": 743.9999990463257,
            "y": 108
           }
          },
          {
           "data": {
            "NodeType": "species",
            "background_color": "#2b913a",
            "id": "s64",
            "label": "4aBax",
            "name": "s64",
            "parent": "8",
            "shape": "ellipse",
            "spInitial": 0
           },
           "position": {
            "x": 1004.9999957084656,
            "y": 388.00000047683716
           }
          },
          {
           "data": {
            "NodeType": "species",
            "background_color": "#2b913a",
            "id": "s65",
            "label": "cCytoC",
            "name": "s65",
            "parent": "2",
            "shape": "ellipse",
            "spInitial": 0
           },
           "position": {
            "x": 1373.9999952316284,
            "y": 392.00000047683716
           }
          },
          {
           "data": {
            "NodeType": "species",
            "background_color": "#2b913a",
            "id": "s66",
            "label": "cSmac",
            "name": "s66",
            "parent": "7",
            "shape": "ellipse",
            "spInitial": 0
           },
           "position": {
            "x": 879.9999985694885,
            "y": 48
           }
          },
          {
           "data": {
            "NodeType": "species",
            "background_color": "#2b913a",
            "id": "s67",
            "label": "aSmac",
            "name": "s67",
            "parent": "7",
            "shape": "ellipse",
            "spInitial": 0
           },
           "position": {
            "x": 951.9999985694885,
            "y": 48
           }
          },
          {
           "data": {
            "NodeType": "species",
            "background_color": "#2b913a",
            "id": "s68",
            "label": "aCytoC",
            "name": "s68",
            "parent": "2",
            "shape": "ellipse",
            "spInitial": 0
           },
           "position": {
            "x": 1449.9999952316284,
            "y": 392.00000047683716
           }
          },
          {
           "data": {
            "NodeType": "species",
            "background_color": "#2b913a",
            "id": "s69",
            "label": "4aBax-mCytoC",
            "name": "s69",
            "parent": "2",
            "shape": "ellipse",
            "spInitial": 0
           },
           "position": {
            "x": 1232.9999957084656,
            "y": 332.00000047683716
           }
          },
          {
           "data": {
            "NodeType": "species",
            "background_color": "#2b913a",
            "id": "s70",
            "label": "4aBax-mSmac",
            "name": "s70",
            "parent": "7",
            "shape": "ellipse",
            "spInitial": 0
           },
           "position": {
            "x": 743.9999990463257,
            "y": 40
           }
          },
          {
           "data": {
            "NodeType": "species",
            "background_color": "#2b913a",
            "id": "s71",
            "label": "iApaf-aCytoC",
            "name": "s71",
            "parent": "2",
            "shape": "ellipse",
            "spInitial": 0
           },
           "position": {
            "x": 1533.9999947547913,
            "y": 384.00000047683716
           }
          },
          {
           "data": {
            "NodeType": "species",
            "background_color": "#2b913a",
            "id": "s72",
            "label": "aSmac-XIAP",
            "name": "s72",
            "parent": "7",
            "shape": "ellipse",
            "spInitial": 0
           },
           "position": {
            "x": 1023.9999985694885,
            "y": 48
           }
          },
          {
           "data": {
            "NodeType": "species",
            "background_color": "#2b913a",
            "id": "s73",
            "label": "aApaf",
            "name": "s73",
            "parent": "3",
            "shape": "ellipse",
            "spInitial": 0
           },
           "position": {
            "x": 990.9999985694885,
            "y": 608.0000009536743
           }
          },
          {
           "data": {
            "NodeType": "species",
            "background_color": "#2b913a",
            "id": "s74",
            "label": "Apop",
            "name": "s74",
            "parent": "3",
            "shape": "ellipse",
            "spInitial": 0
           },
           "position": {
            "x": 1085.1999980926514,
            "y": 554.4000009536743
           }
          },
          {
           "data": {
            "NodeType": "species",
            "background_color": "#2b913a",
            "id": "s75",
            "label": "Apop-proC3",
            "name": "s75",
            "parent": "3",
            "shape": "ellipse",
            "spInitial": 0
           },
           "position": {
            "x": 943.9999985694885,
            "y": 676.0000009536743
           }
          },
          {
           "data": {
            "NodeType": "species",
            "background_color": "#2b913a",
            "id": "s76",
            "label": "Apop-XIAP",
            "name": "s76",
            "parent": "3",
            "shape": "ellipse",
            "spInitial": 0
           },
           "position": {
            "x": 1366.99999666214,
            "y": 562.4000009536743
           }
          },
          {
           "data": {
            "NodeType": "community",
            "id": "0",
            "label": "0: DISC regulation",
            "name": "0"
           },
           "position": {
            "x": 138.24999952316284,
            "y": 70
           }
          },
          {
           "data": {
            "NodeType": "community",
            "id": "1",
            "label": "1: aC8 regulation",
            "name": "1"
           },
           "position": {
            "x": 208.99999928474426,
            "y": 634.0000009536743
           }
          },
          {
           "data": {
            "NodeType": "community",
            "id": "2",
            "label": "2: 4aBak-mCytoC \n4aBax-mCytoC regulation",
            "name": "2"
           },
           "position": {
            "x": 1348.499995470047,
            "y": 354.00000047683716
           }
          },
          {
           "data": {
            "NodeType": "community",
            "id": "3",
            "label": "3: aC3 regulation",
            "name": "3"
           },
           "position": {
            "x": 1127.2499978542328,
            "y": 670.0000009536743
           }
          },
          {
           "data": {
            "NodeType": "community",
            "id": "4",
            "label": "4: mBid regulation",
            "name": "4"
           },
           "position": {
            "x": 603.2499988079071,
            "y": 770.0000009536743
           }
          },
          {
           "data": {
            "NodeType": "community",
            "id": "5",
            "label": "5: aBak regulation",
            "name": "5"
           },
           "position": {
            "x": 247.2499988079071,
            "y": 350.00000047683716
           }
          },
          {
           "data": {
            "NodeType": "community",
            "id": "6",
            "label": "6: mMcl1 regulation",
            "name": "6"
           },
           "position": {
            "x": 432.24999928474426,
            "y": 104
           }
          },
          {
           "data": {
            "NodeType": "community",
            "id": "7",
            "label": "7: 4aBak-mSmac \n4aBax-mSmac regulation",
            "name": "7"
           },
           "position": {
            "x": 850.4999990463257,
            "y": 66
           }
          },
          {
           "data": {
            "NodeType": "community",
            "id": "8",
            "label": "8: aBax regulation",
            "name": "8"
           },
           "position": {
            "x": 799.2499969005585,
            "y": 350.00000047683716
           }
          }
         ]
        }
       },
       "format": "cyjs",
       "layout": "IPY_MODEL_3e0f9473160f463d807d9b7e62e56afb",
       "layout_name": "klay",
       "process": "consumption",
       "sim_idx": 0,
       "type_of_viz": "communities_view",
       "visual_style": null
      }
     },
     "2d8b9e538f85448099940847c3f6728b": {
      "model_module": "pyvipr",
      "model_module_version": "^0.1.17",
      "model_name": "CytoscapeModel",
      "state": {
       "background": "#FFFFFF",
       "data": {
        "data": {
         "graph": {
          "rankdir": "LR"
         },
         "name": "pysb"
        },
        "elements": {
         "edges": [
          {
           "data": {
            "arrowhead": "normal",
            "id": "c0c19d32-9bc8-43f1-909e-449d449d6475",
            "source": "s0",
            "source_arrow_fill": "hollow",
            "source_arrow_shape": "triangle",
            "target": "r0",
            "target_arrow_shape": "triangle"
           }
          },
          {
           "data": {
            "arrowhead": "normal",
            "id": "63e16e7e-4868-4271-a51a-930de36d50d5",
            "source": "s2",
            "source_arrow_fill": "hollow",
            "source_arrow_shape": "triangle",
            "target": "r0",
            "target_arrow_shape": "triangle"
           }
          },
          {
           "data": {
            "arrowhead": "normal",
            "id": "f497df6e-207e-496d-9f0b-72274686f9f2",
            "source": "s3",
            "source_arrow_fill": "hollow",
            "source_arrow_shape": "triangle",
            "target": "r1",
            "target_arrow_shape": "triangle"
           }
          },
          {
           "data": {
            "arrowhead": "normal",
            "id": "fc392267-0bdb-401e-a0b1-7127f6f9023c",
            "source": "r0",
            "source_arrow_fill": "hollow",
            "source_arrow_shape": "triangle",
            "target": "s3",
            "target_arrow_shape": "triangle"
           }
          },
          {
           "data": {
            "arrowhead": "normal",
            "id": "7894d021-909d-49c1-9fac-3ef9709e8cc4",
            "source": "r1",
            "source_arrow_fill": "hollow",
            "source_arrow_shape": "triangle",
            "target": "s4",
            "target_arrow_shape": "triangle"
           }
          }
         ],
         "nodes": [
          {
           "data": {
            "NodeType": "species",
            "background_color": "#aaffff",
            "bipartite": 0,
            "id": "s0",
            "label": "K",
            "name": "s0",
            "shape": "ellipse",
            "spInitial": 1000
           },
           "position": {
            "x": 27,
            "y": 72
           }
          },
          {
           "data": {
            "NodeType": "species",
            "background_color": "#aaffff",
            "bipartite": 0,
            "id": "s1",
            "label": "P",
            "name": "s1",
            "shape": "ellipse",
            "spInitial": 1000
           },
           "position": {
            "x": 27,
            "y": 126
           }
          },
          {
           "data": {
            "NodeType": "species",
            "background_color": "#aaffff",
            "bipartite": 0,
            "id": "s2",
            "label": "uS",
            "name": "s2",
            "shape": "ellipse",
            "spInitial": 10000
           },
           "position": {
            "x": 27,
            "y": 18
           }
          },
          {
           "data": {
            "NodeType": "species",
            "background_color": "#2b913a",
            "bipartite": 0,
            "id": "s3",
            "label": "K-uS",
            "name": "s3",
            "shape": "ellipse",
            "spInitial": 0
           },
           "position": {
            "x": 208.78,
            "y": 45
           }
          },
          {
           "data": {
            "NodeType": "species",
            "background_color": "#2b913a",
            "bipartite": 0,
            "id": "s4",
            "label": "K-pS",
            "name": "s4",
            "shape": "ellipse",
            "spInitial": 0
           },
           "position": {
            "x": 392.33,
            "y": 45
           }
          },
          {
           "data": {
            "NodeType": "reaction",
            "background_color": "#d3d3d3",
            "bipartite": 1,
            "id": "r0",
            "kf": 1e-05,
            "kr": 0.01,
            "label": "r0",
            "name": "r0",
            "shape": "roundrectangle"
           },
           "position": {
            "x": 117,
            "y": 45
           }
          },
          {
           "data": {
            "NodeType": "reaction",
            "background_color": "#d3d3d3",
            "bipartite": 1,
            "id": "r1",
            "kf": 1,
            "kr": "None",
            "label": "r1",
            "name": "r1",
            "shape": "roundrectangle"
           },
           "position": {
            "x": 300.56,
            "y": 45
           }
          }
         ]
        }
       },
       "format": "cyjs",
       "layout": "IPY_MODEL_5383e73075824589ba557aaa23ae47e1",
       "layout_name": "preset",
       "process": "consumption",
       "sim_idx": 0,
       "type_of_viz": "sp_rxns_bidirectional_view",
       "visual_style": null
      }
     },
     "31246c4001fa49e0883906fd42188199": {
      "model_module": "pyvipr",
      "model_module_version": "^0.1.17",
      "model_name": "CytoscapeModel",
      "state": {
       "background": "#FFFFFF",
       "data": {
        "data": {
         "graph": {
          "rankdir": "LR"
         },
         "name": "pyvipr.pysb_models.lopez_embedded",
         "paths": []
        },
        "elements": {
         "edges": [
          {
           "data": {
            "arrowhead": "normal",
            "id": "232fc0c9-bf5b-490b-b619-5ff5b0bfd1c3",
            "source": "s0",
            "source_arrow_fill": "hollow",
            "source_arrow_shape": "diamond",
            "target": "s21",
            "target_arrow_shape": "triangle"
           }
          },
          {
           "data": {
            "arrowhead": "normal",
            "id": "7bf9f5f6-b871-46d5-a6e3-06b1f452972e",
            "source": "s1",
            "source_arrow_fill": "hollow",
            "source_arrow_shape": "diamond",
            "target": "s21",
            "target_arrow_shape": "triangle"
           }
          },
          {
           "data": {
            "arrowhead": "normal",
            "id": "0efaebaa-0e52-4bbf-8e52-72e01f8984f0",
            "source": "s2",
            "source_arrow_fill": "hollow",
            "source_arrow_shape": "diamond",
            "target": "s27",
            "target_arrow_shape": "triangle"
           }
          },
          {
           "data": {
            "arrowhead": "normal",
            "id": "34047744-a631-43bd-94bf-9689758ae953",
            "source": "s3",
            "source_arrow_fill": "hollow",
            "source_arrow_shape": "diamond",
            "target": "s26",
            "target_arrow_shape": "triangle"
           }
          },
          {
           "data": {
            "arrowhead": "normal",
            "id": "584374b7-9631-4cd4-b15d-3bea6630cb87",
            "source": "s3",
            "source_arrow_fill": "hollow",
            "source_arrow_shape": "diamond",
            "target": "s46",
            "target_arrow_shape": "triangle"
           }
          },
          {
           "data": {
            "arrowhead": "normal",
            "id": "1a77a542-6270-439a-8220-21d6e5f9fe87",
            "source": "s4",
            "source_arrow_fill": "hollow",
            "source_arrow_shape": "diamond",
            "target": "s30",
            "target_arrow_shape": "triangle"
           }
          },
          {
           "data": {
            "arrowhead": "normal",
            "id": "1e9688e0-606f-4539-8c66-63a18aabc676",
            "source": "s5",
            "source_arrow_fill": "hollow",
            "source_arrow_shape": "diamond",
            "target": "s71",
            "target_arrow_shape": "triangle"
           }
          },
          {
           "data": {
            "arrowhead": "normal",
            "id": "41c9085a-b1a9-472f-a259-3dcae3dd90c7",
            "source": "s6",
            "source_arrow_fill": "hollow",
            "source_arrow_shape": "diamond",
            "target": "s31",
            "target_arrow_shape": "triangle"
           }
          },
          {
           "data": {
            "arrowhead": "normal",
            "id": "b7019de0-68fb-4f2f-be79-5c104c465dd4",
            "source": "s6",
            "source_arrow_fill": "hollow",
            "source_arrow_shape": "diamond",
            "target": "s75",
            "target_arrow_shape": "triangle"
           }
          },
          {
           "data": {
            "arrowhead": "normal",
            "id": "4599ba8e-0fe1-4931-b917-0ed61d51e74f",
            "source": "s7",
            "source_arrow_fill": "hollow",
            "source_arrow_shape": "diamond",
            "target": "s36",
            "target_arrow_shape": "triangle"
           }
          },
          {
           "data": {
            "arrowhead": "normal",
            "id": "1f9973d5-dd05-41d9-8842-f1ec45323691",
            "source": "s8",
            "source_arrow_fill": "hollow",
            "source_arrow_shape": "diamond",
            "target": "s74",
            "target_arrow_shape": "triangle"
           }
          },
          {
           "data": {
            "arrowhead": "normal",
            "id": "ef497b5c-abed-43be-83b6-f9030b5b75d5",
            "source": "s9",
            "source_arrow_fill": "hollow",
            "source_arrow_shape": "diamond",
            "target": "s35",
            "target_arrow_shape": "triangle"
           }
          },
          {
           "data": {
            "arrowhead": "normal",
            "id": "06f8f18e-eeb1-4897-8e94-8b5c429f4dec",
            "source": "s10",
            "source_arrow_fill": "hollow",
            "source_arrow_shape": "diamond",
            "target": "s34",
            "target_arrow_shape": "triangle"
           }
          },
          {
           "data": {
            "arrowhead": "normal",
            "id": "eeccaafe-7321-41e8-a74f-1a857182986e",
            "source": "s10",
            "source_arrow_fill": "hollow",
            "source_arrow_shape": "diamond",
            "target": "s72",
            "target_arrow_shape": "triangle"
           }
          },
          {
           "data": {
            "arrowhead": "normal",
            "id": "4d5ddb14-3acc-44d2-a65b-2cfa8c2db2a2",
            "source": "s10",
            "source_arrow_fill": "hollow",
            "source_arrow_shape": "diamond",
            "target": "s76",
            "target_arrow_shape": "triangle"
           }
          },
          {
           "data": {
            "arrowhead": "normal",
            "id": "e7d825e4-74ef-4af8-a4fd-0d6c009b3422",
            "source": "s11",
            "source_arrow_fill": "hollow",
            "source_arrow_shape": "diamond",
            "target": "s29",
            "target_arrow_shape": "triangle"
           }
          },
          {
           "data": {
            "arrowhead": "normal",
            "id": "6ebfbb4e-8497-421f-bc34-7c49a86f2261",
            "source": "s12",
            "source_arrow_fill": "hollow",
            "source_arrow_shape": "diamond",
            "target": "s41",
            "target_arrow_shape": "triangle"
           }
          },
          {
           "data": {
            "arrowhead": "normal",
            "id": "62f5db74-9f3b-47fc-b05f-f578dead3bf0",
            "source": "s13",
            "source_arrow_fill": "hollow",
            "source_arrow_shape": "diamond",
            "target": "s42",
            "target_arrow_shape": "triangle"
           }
          },
          {
           "data": {
            "arrowhead": "normal",
            "id": "b413af3e-3f9e-4343-9835-8536211d2c14",
            "source": "s13",
            "source_arrow_fill": "hollow",
            "source_arrow_shape": "diamond",
            "target": "s50",
            "target_arrow_shape": "triangle"
           }
          },
          {
           "data": {
            "arrowhead": "normal",
            "id": "f883a53d-cad7-470d-83d3-47317ba11ced",
            "source": "s14",
            "source_arrow_fill": "hollow",
            "source_arrow_shape": "diamond",
            "target": "s22",
            "target_arrow_shape": "triangle"
           }
          },
          {
           "data": {
            "arrowhead": "normal",
            "id": "ab70c4dd-311f-4c2a-b3b9-ea1c2163b898",
            "source": "s14",
            "source_arrow_fill": "hollow",
            "source_arrow_shape": "diamond",
            "target": "s43",
            "target_arrow_shape": "triangle"
           }
          },
          {
           "data": {
            "arrowhead": "normal",
            "id": "5f88d8c8-a8e3-4976-ab45-6394cd77e834",
            "source": "s14",
            "source_arrow_fill": "hollow",
            "source_arrow_shape": "diamond",
            "target": "s57",
            "target_arrow_shape": "triangle"
           }
          },
          {
           "data": {
            "arrowhead": "normal",
            "id": "d32def7b-2909-4b70-9f61-2604829779d6",
            "source": "s15",
            "source_arrow_fill": "hollow",
            "source_arrow_shape": "diamond",
            "target": "s23",
            "target_arrow_shape": "triangle"
           }
          },
          {
           "data": {
            "arrowhead": "normal",
            "id": "cbd37284-4542-4afd-b6c2-f32d8c945b91",
            "source": "s15",
            "source_arrow_fill": "hollow",
            "source_arrow_shape": "diamond",
            "target": "s44",
            "target_arrow_shape": "triangle"
           }
          },
          {
           "data": {
            "arrowhead": "normal",
            "id": "31f67e6d-70f3-4629-8799-b5f9e2e71c41",
            "source": "s15",
            "source_arrow_fill": "hollow",
            "source_arrow_shape": "diamond",
            "target": "s51",
            "target_arrow_shape": "triangle"
           }
          },
          {
           "data": {
            "arrowhead": "normal",
            "id": "b238528f-710d-47ee-b37e-8da108cb2ec4",
            "source": "s15",
            "source_arrow_fill": "hollow",
            "source_arrow_shape": "diamond",
            "target": "s58",
            "target_arrow_shape": "triangle"
           }
          },
          {
           "data": {
            "arrowhead": "normal",
            "id": "83286dc4-bd7d-4cd8-ac7b-8a3c95a5203b",
            "source": "s16",
            "source_arrow_fill": "hollow",
            "source_arrow_shape": "diamond",
            "target": "s24",
            "target_arrow_shape": "triangle"
           }
          },
          {
           "data": {
            "arrowhead": "normal",
            "id": "3c42155b-e770-4e67-8bcb-9a4fe228f03e",
            "source": "s16",
            "source_arrow_fill": "hollow",
            "source_arrow_shape": "diamond",
            "target": "s45",
            "target_arrow_shape": "triangle"
           }
          },
          {
           "data": {
            "arrowhead": "normal",
            "id": "bb699d5b-372a-4fad-97cd-f70ef1f1a8ba",
            "source": "s16",
            "source_arrow_fill": "hollow",
            "source_arrow_shape": "diamond",
            "target": "s52",
            "target_arrow_shape": "triangle"
           }
          },
          {
           "data": {
            "arrowhead": "normal",
            "id": "8487e202-aec6-4a35-bcd8-0c7cdbba44df",
            "source": "s17",
            "source_arrow_fill": "hollow",
            "source_arrow_shape": "diamond",
            "target": "s22",
            "target_arrow_shape": "triangle"
           }
          },
          {
           "data": {
            "arrowhead": "normal",
            "id": "d6ed8a7a-b3f1-40cf-8d00-0d28a2e52783",
            "source": "s17",
            "source_arrow_fill": "hollow",
            "source_arrow_shape": "diamond",
            "target": "s23",
            "target_arrow_shape": "triangle"
           }
          },
          {
           "data": {
            "arrowhead": "normal",
            "id": "08bd6ba9-6982-4f32-a8d2-706aea48bc9e",
            "source": "s18",
            "source_arrow_fill": "hollow",
            "source_arrow_shape": "diamond",
            "target": "s24",
            "target_arrow_shape": "triangle"
           }
          },
          {
           "data": {
            "arrowhead": "normal",
            "id": "55462510-50ff-4221-af31-9badaf37bdc8",
            "source": "s19",
            "source_arrow_fill": "hollow",
            "source_arrow_shape": "diamond",
            "target": "s62",
            "target_arrow_shape": "triangle"
           }
          },
          {
           "data": {
            "arrowhead": "normal",
            "id": "c60b89f8-743a-4588-b9d2-0aeea75488d8",
            "source": "s19",
            "source_arrow_fill": "hollow",
            "source_arrow_shape": "diamond",
            "target": "s69",
            "target_arrow_shape": "triangle"
           }
          },
          {
           "data": {
            "arrowhead": "normal",
            "id": "98134bed-77b5-49ef-bd28-c4bd792224a5",
            "source": "s20",
            "source_arrow_fill": "hollow",
            "source_arrow_shape": "diamond",
            "target": "s63",
            "target_arrow_shape": "triangle"
           }
          },
          {
           "data": {
            "arrowhead": "normal",
            "id": "50eb545b-b008-4146-81be-7036347914f1",
            "source": "s20",
            "source_arrow_fill": "hollow",
            "source_arrow_shape": "diamond",
            "target": "s70",
            "target_arrow_shape": "triangle"
           }
          },
          {
           "data": {
            "arrowhead": "normal",
            "id": "9266cc09-d71e-425a-9932-3cfd0d679cb6",
            "source": "s21",
            "source_arrow_fill": "filled",
            "source_arrow_shape": "none",
            "target": "s25",
            "target_arrow_shape": "triangle"
           }
          },
          {
           "data": {
            "arrowhead": "normal",
            "id": "be9fc871-c788-4095-bcd0-d309686c3c3e",
            "source": "s25",
            "source_arrow_fill": "hollow",
            "source_arrow_shape": "diamond",
            "target": "s26",
            "target_arrow_shape": "triangle"
           }
          },
          {
           "data": {
            "arrowhead": "normal",
            "id": "d91b2a45-2894-4fcc-99a8-1b36228e185b",
            "source": "s25",
            "source_arrow_fill": "hollow",
            "source_arrow_shape": "diamond",
            "target": "s27",
            "target_arrow_shape": "triangle"
           }
          },
          {
           "data": {
            "arrowhead": "normal",
            "id": "d4f933ed-3633-454b-b092-3c390ca0ea4f",
            "source": "s26",
            "source_arrow_fill": "filled",
            "source_arrow_shape": "none",
            "target": "s25",
            "target_arrow_shape": "triangle"
           }
          },
          {
           "data": {
            "arrowhead": "normal",
            "id": "55b4e9a3-8350-4ce0-bf7e-2af183b0f420",
            "source": "s26",
            "source_arrow_fill": "filled",
            "source_arrow_shape": "none",
            "target": "s28",
            "target_arrow_shape": "triangle"
           }
          },
          {
           "data": {
            "arrowhead": "normal",
            "id": "36ea6cd4-24fe-49a4-9d5a-16117f830543",
            "source": "s28",
            "source_arrow_fill": "hollow",
            "source_arrow_shape": "diamond",
            "target": "s29",
            "target_arrow_shape": "triangle"
           }
          },
          {
           "data": {
            "arrowhead": "normal",
            "id": "459f04cd-40a0-46f8-8f2f-d350b615152e",
            "source": "s28",
            "source_arrow_fill": "hollow",
            "source_arrow_shape": "diamond",
            "target": "s30",
            "target_arrow_shape": "triangle"
           }
          },
          {
           "data": {
            "arrowhead": "normal",
            "id": "fca4bc11-872b-4187-a0ba-46c1df8baea7",
            "source": "s28",
            "source_arrow_fill": "hollow",
            "source_arrow_shape": "diamond",
            "target": "s31",
            "target_arrow_shape": "triangle"
           }
          },
          {
           "data": {
            "arrowhead": "normal",
            "id": "ffb57adf-a42b-41a0-bc58-abd75271f09d",
            "source": "s29",
            "source_arrow_fill": "filled",
            "source_arrow_shape": "none",
            "target": "s32",
            "target_arrow_shape": "triangle"
           }
          },
          {
           "data": {
            "arrowhead": "normal",
            "id": "335abf96-bcc9-4d22-a856-2c6878e517cd",
            "source": "s29",
            "source_arrow_fill": "filled",
            "source_arrow_shape": "none",
            "target": "s28",
            "target_arrow_shape": "triangle"
           }
          },
          {
           "data": {
            "arrowhead": "normal",
            "id": "1ddefd33-95b5-4aab-a6d7-270e6b6085ea",
            "source": "s31",
            "source_arrow_fill": "filled",
            "source_arrow_shape": "none",
            "target": "s33",
            "target_arrow_shape": "triangle"
           }
          },
          {
           "data": {
            "arrowhead": "normal",
            "id": "49f0dfc8-b97f-402f-8b70-5a5ee5953a7f",
            "source": "s31",
            "source_arrow_fill": "filled",
            "source_arrow_shape": "none",
            "target": "s28",
            "target_arrow_shape": "triangle"
           }
          },
          {
           "data": {
            "arrowhead": "normal",
            "id": "8c8732fa-81cf-41dc-b39b-952b51e05c0c",
            "source": "s32",
            "source_arrow_fill": "hollow",
            "source_arrow_shape": "diamond",
            "target": "s37",
            "target_arrow_shape": "triangle"
           }
          },
          {
           "data": {
            "arrowhead": "normal",
            "id": "5d52eb65-7f31-4bd1-92f2-278c0bcff58f",
            "source": "s33",
            "source_arrow_fill": "hollow",
            "source_arrow_shape": "diamond",
            "target": "s34",
            "target_arrow_shape": "triangle"
           }
          },
          {
           "data": {
            "arrowhead": "normal",
            "id": "ed96ea85-69cb-4b51-9d4c-4bb98e01a88b",
            "source": "s33",
            "source_arrow_fill": "hollow",
            "source_arrow_shape": "diamond",
            "target": "s35",
            "target_arrow_shape": "triangle"
           }
          },
          {
           "data": {
            "arrowhead": "normal",
            "id": "4f276e9e-c5b1-4b7c-a6b0-f821624fde46",
            "source": "s33",
            "source_arrow_fill": "hollow",
            "source_arrow_shape": "diamond",
            "target": "s36",
            "target_arrow_shape": "triangle"
           }
          },
          {
           "data": {
            "arrowhead": "normal",
            "id": "57ed4f9f-0b31-4644-88ac-dad624367bc0",
            "source": "s34",
            "source_arrow_fill": "filled",
            "source_arrow_shape": "none",
            "target": "s10",
            "target_arrow_shape": "triangle"
           }
          },
          {
           "data": {
            "arrowhead": "normal",
            "id": "55bd5b1a-f8b4-47c2-a88c-f21c8081cdac",
            "source": "s34",
            "source_arrow_fill": "filled",
            "source_arrow_shape": "none",
            "target": "s38",
            "target_arrow_shape": "triangle"
           }
          },
          {
           "data": {
            "arrowhead": "normal",
            "id": "208dfef3-cbdc-4831-a846-02390607fd40",
            "source": "s35",
            "source_arrow_fill": "filled",
            "source_arrow_shape": "none",
            "target": "s33",
            "target_arrow_shape": "triangle"
           }
          },
          {
           "data": {
            "arrowhead": "normal",
            "id": "6f7f21b7-c089-416d-ac18-42c024ee2c67",
            "source": "s35",
            "source_arrow_fill": "filled",
            "source_arrow_shape": "none",
            "target": "s39",
            "target_arrow_shape": "triangle"
           }
          },
          {
           "data": {
            "arrowhead": "normal",
            "id": "f3c9a016-4585-4f85-ae7b-dfb43cbc0d10",
            "source": "s36",
            "source_arrow_fill": "filled",
            "source_arrow_shape": "none",
            "target": "s40",
            "target_arrow_shape": "triangle"
           }
          },
          {
           "data": {
            "arrowhead": "normal",
            "id": "cf9f1d43-d8c3-4b18-a8a1-20aaf5320aa6",
            "source": "s36",
            "source_arrow_fill": "filled",
            "source_arrow_shape": "none",
            "target": "s33",
            "target_arrow_shape": "triangle"
           }
          },
          {
           "data": {
            "arrowhead": "normal",
            "id": "a601d3e9-503c-48cd-9be1-d86f9df3b064",
            "source": "s37",
            "source_arrow_fill": "hollow",
            "source_arrow_shape": "diamond",
            "target": "s41",
            "target_arrow_shape": "triangle"
           }
          },
          {
           "data": {
            "arrowhead": "normal",
            "id": "ca8cff96-c185-4edb-9a70-c1da1f19359d",
            "source": "s37",
            "source_arrow_fill": "hollow",
            "source_arrow_shape": "diamond",
            "target": "s42",
            "target_arrow_shape": "triangle"
           }
          },
          {
           "data": {
            "arrowhead": "normal",
            "id": "2d74e159-f8bc-4410-b659-368bab7c4bfa",
            "source": "s37",
            "source_arrow_fill": "hollow",
            "source_arrow_shape": "diamond",
            "target": "s43",
            "target_arrow_shape": "triangle"
           }
          },
          {
           "data": {
            "arrowhead": "normal",
            "id": "412f3bfa-0c56-4edd-bc7b-fca5ef14440e",
            "source": "s37",
            "source_arrow_fill": "hollow",
            "source_arrow_shape": "diamond",
            "target": "s44",
            "target_arrow_shape": "triangle"
           }
          },
          {
           "data": {
            "arrowhead": "normal",
            "id": "c7b52bfa-715e-4362-83a3-ddb87c1468d4",
            "source": "s37",
            "source_arrow_fill": "hollow",
            "source_arrow_shape": "diamond",
            "target": "s45",
            "target_arrow_shape": "triangle"
           }
          },
          {
           "data": {
            "arrowhead": "normal",
            "id": "28e4b5d0-0bd6-4735-97d6-be66f90a8f68",
            "source": "s37",
            "source_arrow_fill": "hollow",
            "source_arrow_shape": "diamond",
            "target": "s49",
            "target_arrow_shape": "triangle"
           }
          },
          {
           "data": {
            "arrowhead": "normal",
            "id": "22249890-ed8f-4135-9771-b205a5045e4f",
            "source": "s40",
            "source_arrow_fill": "hollow",
            "source_arrow_shape": "diamond",
            "target": "s46",
            "target_arrow_shape": "triangle"
           }
          },
          {
           "data": {
            "arrowhead": "normal",
            "id": "2327f9a8-beb7-4801-91c3-a0103f5519b8",
            "source": "s41",
            "source_arrow_fill": "filled",
            "source_arrow_shape": "none",
            "target": "s37",
            "target_arrow_shape": "triangle"
           }
          },
          {
           "data": {
            "arrowhead": "normal",
            "id": "45071ace-3536-45d6-9f42-35fd7eed608a",
            "source": "s41",
            "source_arrow_fill": "filled",
            "source_arrow_shape": "none",
            "target": "s47",
            "target_arrow_shape": "triangle"
           }
          },
          {
           "data": {
            "arrowhead": "normal",
            "id": "d08b0212-0385-480e-b3c9-940ef9b2e54b",
            "source": "s42",
            "source_arrow_fill": "filled",
            "source_arrow_shape": "none",
            "target": "s48",
            "target_arrow_shape": "triangle"
           }
          },
          {
           "data": {
            "arrowhead": "normal",
            "id": "e562344d-4709-4beb-a21b-05ecbf242b3c",
            "source": "s42",
            "source_arrow_fill": "filled",
            "source_arrow_shape": "none",
            "target": "s37",
            "target_arrow_shape": "triangle"
           }
          },
          {
           "data": {
            "arrowhead": "normal",
            "id": "0762c472-347d-4d9b-9155-e683d209b7be",
            "source": "s46",
            "source_arrow_fill": "filled",
            "source_arrow_shape": "none",
            "target": "s40",
            "target_arrow_shape": "triangle"
           }
          },
          {
           "data": {
            "arrowhead": "normal",
            "id": "89476516-a67d-4b12-b4c8-9b58a7c48d35",
            "source": "s46",
            "source_arrow_fill": "filled",
            "source_arrow_shape": "none",
            "target": "s28",
            "target_arrow_shape": "triangle"
           }
          },
          {
           "data": {
            "arrowhead": "normal",
            "id": "0c7a51d7-260f-442d-b6b4-580d8b16a25a",
            "source": "s47",
            "source_arrow_fill": "hollow",
            "source_arrow_shape": "diamond",
            "target": "s49",
            "target_arrow_shape": "triangle"
           }
          },
          {
           "data": {
            "arrowhead": "normal",
            "id": "c810a2d3-ebe6-43be-8cbc-e24830277b0e",
            "source": "s47",
            "source_arrow_fill": "hollow",
            "source_arrow_shape": "diamond",
            "target": "s56",
            "target_arrow_shape": "triangle"
           }
          },
          {
           "data": {
            "arrowhead": "normal",
            "id": "82476a1e-85e5-4d73-892b-638d3a26e457",
            "source": "s48",
            "source_arrow_fill": "hollow",
            "source_arrow_shape": "diamond",
            "target": "s50",
            "target_arrow_shape": "triangle"
           }
          },
          {
           "data": {
            "arrowhead": "normal",
            "id": "da00338c-c836-405c-b4d2-4a5314db5548",
            "source": "s48",
            "source_arrow_fill": "hollow",
            "source_arrow_shape": "diamond",
            "target": "s51",
            "target_arrow_shape": "triangle"
           }
          },
          {
           "data": {
            "arrowhead": "normal",
            "id": "bee1a34e-4830-4e32-883e-01b32bc00d35",
            "source": "s48",
            "source_arrow_fill": "hollow",
            "source_arrow_shape": "diamond",
            "target": "s52",
            "target_arrow_shape": "triangle"
           }
          },
          {
           "data": {
            "arrowhead": "normal",
            "id": "8b3c0dec-17d9-486d-b608-d5c4137f882b",
            "source": "s48",
            "source_arrow_fill": "hollow",
            "source_arrow_shape": "diamond",
            "target": "s53",
            "target_arrow_shape": "triangle"
           }
          },
          {
           "data": {
            "arrowhead": "normal",
            "id": "ab07614f-fcd0-4329-acda-fcdea45629f3",
            "source": "s48",
            "source_arrow_fill": "hollow",
            "source_arrow_shape": "diamond",
            "target": "s55",
            "target_arrow_shape": "triangle"
           }
          },
          {
           "data": {
            "arrowhead": "normal",
            "id": "b0195006-16fa-4d15-97b7-a9a996ed1056",
            "source": "s48",
            "source_arrow_fill": "hollow",
            "source_arrow_shape": "diamond",
            "target": "s60",
            "target_arrow_shape": "triangle"
           }
          },
          {
           "data": {
            "arrowhead": "normal",
            "id": "2d2f71f3-6df0-43cd-9ec9-b5163a07cdc3",
            "source": "s49",
            "source_arrow_fill": "filled",
            "source_arrow_shape": "none",
            "target": "s37",
            "target_arrow_shape": "triangle"
           }
          },
          {
           "data": {
            "arrowhead": "normal",
            "id": "3f3b52e7-9a74-40d1-b896-2f6753e7cad1",
            "source": "s49",
            "source_arrow_fill": "filled",
            "source_arrow_shape": "none",
            "target": "s54",
            "target_arrow_shape": "triangle"
           }
          },
          {
           "data": {
            "arrowhead": "normal",
            "id": "92d8a63c-2ff1-4c81-b999-1fa81abb3f4a",
            "source": "s50",
            "source_arrow_fill": "filled",
            "source_arrow_shape": "none",
            "target": "s48",
            "target_arrow_shape": "triangle"
           }
          },
          {
           "data": {
            "arrowhead": "normal",
            "id": "b8060280-33d3-4b9b-876a-b469fa76044e",
            "source": "s53",
            "source_arrow_fill": "hollow",
            "source_arrow_shape": "diamond",
            "target": "s55",
            "target_arrow_shape": "triangle"
           }
          },
          {
           "data": {
            "arrowhead": "normal",
            "id": "8ee1f366-edb7-4de8-8b34-92be68ce621d",
            "source": "s54",
            "source_arrow_fill": "hollow",
            "source_arrow_shape": "diamond",
            "target": "s56",
            "target_arrow_shape": "triangle"
           }
          },
          {
           "data": {
            "arrowhead": "normal",
            "id": "f504a8f2-12bf-431b-9728-7675361b5f62",
            "source": "s54",
            "source_arrow_fill": "hollow",
            "source_arrow_shape": "diamond",
            "target": "s57",
            "target_arrow_shape": "triangle"
           }
          },
          {
           "data": {
            "arrowhead": "normal",
            "id": "312901a8-d9ec-456c-92e4-37f4f2d1284b",
            "source": "s54",
            "source_arrow_fill": "hollow",
            "source_arrow_shape": "diamond",
            "target": "s58",
            "target_arrow_shape": "triangle"
           }
          },
          {
           "data": {
            "arrowhead": "normal",
            "id": "f18e551c-78cd-4b31-a16c-a8984ba2928c",
            "source": "s54",
            "source_arrow_fill": "hollow",
            "source_arrow_shape": "diamond",
            "target": "s59",
            "target_arrow_shape": "triangle"
           }
          },
          {
           "data": {
            "arrowhead": "normal",
            "id": "497cd551-faaf-4f43-983d-1fc6ed7f5ae1",
            "source": "s54",
            "source_arrow_fill": "hollow",
            "source_arrow_shape": "diamond",
            "target": "s61",
            "target_arrow_shape": "triangle"
           }
          },
          {
           "data": {
            "arrowhead": "normal",
            "id": "1e3adad2-0cef-467b-9117-79b4385c7d2a",
            "source": "s54",
            "source_arrow_fill": "hollow",
            "source_arrow_shape": "diamond",
            "target": "s64",
            "target_arrow_shape": "triangle"
           }
          },
          {
           "data": {
            "arrowhead": "normal",
            "id": "e4cfbc4c-5b64-44ab-8d84-460b3ef77e2b",
            "source": "s55",
            "source_arrow_fill": "hollow",
            "source_arrow_shape": "diamond",
            "target": "s60",
            "target_arrow_shape": "triangle"
           }
          },
          {
           "data": {
            "arrowhead": "normal",
            "id": "68025457-ff83-456b-9b16-098493138418",
            "source": "s56",
            "source_arrow_fill": "filled",
            "source_arrow_shape": "none",
            "target": "s54",
            "target_arrow_shape": "triangle"
           }
          },
          {
           "data": {
            "arrowhead": "normal",
            "id": "0db2351f-0230-4bcc-9bd8-9acaa4d29f32",
            "source": "s59",
            "source_arrow_fill": "hollow",
            "source_arrow_shape": "diamond",
            "target": "s61",
            "target_arrow_shape": "triangle"
           }
          },
          {
           "data": {
            "arrowhead": "normal",
            "id": "e095e7de-1f2f-4386-b318-d4193bc4bf50",
            "source": "s60",
            "source_arrow_fill": "hollow",
            "source_arrow_shape": "diamond",
            "target": "s62",
            "target_arrow_shape": "triangle"
           }
          },
          {
           "data": {
            "arrowhead": "normal",
            "id": "20c588eb-f6e7-48d0-ab4d-cac3f3be3368",
            "source": "s60",
            "source_arrow_fill": "hollow",
            "source_arrow_shape": "diamond",
            "target": "s63",
            "target_arrow_shape": "triangle"
           }
          },
          {
           "data": {
            "arrowhead": "normal",
            "id": "2bf6ef9a-8763-4753-a5f5-55833ea95562",
            "source": "s61",
            "source_arrow_fill": "hollow",
            "source_arrow_shape": "diamond",
            "target": "s64",
            "target_arrow_shape": "triangle"
           }
          },
          {
           "data": {
            "arrowhead": "normal",
            "id": "b318a173-f954-4a70-8765-44f3e3a720b1",
            "source": "s62",
            "source_arrow_fill": "filled",
            "source_arrow_shape": "none",
            "target": "s65",
            "target_arrow_shape": "triangle"
           }
          },
          {
           "data": {
            "arrowhead": "normal",
            "id": "8b5ecf76-a8d8-46a0-b6ce-01e13a1cacdf",
            "source": "s62",
            "source_arrow_fill": "filled",
            "source_arrow_shape": "none",
            "target": "s60",
            "target_arrow_shape": "triangle"
           }
          },
          {
           "data": {
            "arrowhead": "normal",
            "id": "9252440d-808a-456a-ac4f-756211111ee2",
            "source": "s63",
            "source_arrow_fill": "filled",
            "source_arrow_shape": "none",
            "target": "s66",
            "target_arrow_shape": "triangle"
           }
          },
          {
           "data": {
            "arrowhead": "normal",
            "id": "22f06892-8c1d-406e-b47b-06b37c219090",
            "source": "s63",
            "source_arrow_fill": "filled",
            "source_arrow_shape": "none",
            "target": "s60",
            "target_arrow_shape": "triangle"
           }
          },
          {
           "data": {
            "arrowhead": "normal",
            "id": "1fab9a91-8315-44fa-a285-139c0335713c",
            "source": "s64",
            "source_arrow_fill": "hollow",
            "source_arrow_shape": "diamond",
            "target": "s69",
            "target_arrow_shape": "triangle"
           }
          },
          {
           "data": {
            "arrowhead": "normal",
            "id": "f95fe1b0-b04d-4e6f-87b5-0c9729f9057b",
            "source": "s64",
            "source_arrow_fill": "hollow",
            "source_arrow_shape": "diamond",
            "target": "s70",
            "target_arrow_shape": "triangle"
           }
          },
          {
           "data": {
            "arrowhead": "normal",
            "id": "91480412-3cf8-4f53-b186-c6dbfd757f46",
            "source": "s65",
            "source_arrow_fill": "hollow",
            "source_arrow_shape": "diamond",
            "target": "s68",
            "target_arrow_shape": "triangle"
           }
          },
          {
           "data": {
            "arrowhead": "normal",
            "id": "e9384b08-239f-48ce-9d86-1f164c88350f",
            "source": "s66",
            "source_arrow_fill": "hollow",
            "source_arrow_shape": "diamond",
            "target": "s67",
            "target_arrow_shape": "triangle"
           }
          },
          {
           "data": {
            "arrowhead": "normal",
            "id": "d12b7e78-3aa7-4a6c-ab96-ded3c35f6b74",
            "source": "s67",
            "source_arrow_fill": "hollow",
            "source_arrow_shape": "diamond",
            "target": "s72",
            "target_arrow_shape": "triangle"
           }
          },
          {
           "data": {
            "arrowhead": "normal",
            "id": "2b1a0c7e-102a-4fc2-863e-932d7ae947bf",
            "source": "s68",
            "source_arrow_fill": "hollow",
            "source_arrow_shape": "diamond",
            "target": "s71",
            "target_arrow_shape": "triangle"
           }
          },
          {
           "data": {
            "arrowhead": "normal",
            "id": "4243252b-fb57-4481-bf22-723eeafa0b75",
            "source": "s69",
            "source_arrow_fill": "filled",
            "source_arrow_shape": "none",
            "target": "s64",
            "target_arrow_shape": "triangle"
           }
          },
          {
           "data": {
            "arrowhead": "normal",
            "id": "a3fdfaa8-7228-4b75-ba46-448d2055bbdb",
            "source": "s69",
            "source_arrow_fill": "filled",
            "source_arrow_shape": "none",
            "target": "s65",
            "target_arrow_shape": "triangle"
           }
          },
          {
           "data": {
            "arrowhead": "normal",
            "id": "4e68bd5f-67b3-4d90-ab39-5f4eefddc2e6",
            "source": "s70",
            "source_arrow_fill": "filled",
            "source_arrow_shape": "none",
            "target": "s64",
            "target_arrow_shape": "triangle"
           }
          },
          {
           "data": {
            "arrowhead": "normal",
            "id": "4ed72f72-a585-495b-9a95-ba001af351b3",
            "source": "s70",
            "source_arrow_fill": "filled",
            "source_arrow_shape": "none",
            "target": "s66",
            "target_arrow_shape": "triangle"
           }
          },
          {
           "data": {
            "arrowhead": "normal",
            "id": "cefebd26-1c21-4ffa-894c-436416754463",
            "source": "s71",
            "source_arrow_fill": "filled",
            "source_arrow_shape": "none",
            "target": "s73",
            "target_arrow_shape": "triangle"
           }
          },
          {
           "data": {
            "arrowhead": "normal",
            "id": "c70d2561-f9f8-4256-9fe5-e7c991e7205d",
            "source": "s71",
            "source_arrow_fill": "filled",
            "source_arrow_shape": "none",
            "target": "s68",
            "target_arrow_shape": "triangle"
           }
          },
          {
           "data": {
            "arrowhead": "normal",
            "id": "19f31694-1e44-4aac-a997-35916582a838",
            "source": "s73",
            "source_arrow_fill": "hollow",
            "source_arrow_shape": "diamond",
            "target": "s74",
            "target_arrow_shape": "triangle"
           }
          },
          {
           "data": {
            "arrowhead": "normal",
            "id": "80cd276f-7043-4886-b045-edbadce5d12d",
            "source": "s74",
            "source_arrow_fill": "hollow",
            "source_arrow_shape": "diamond",
            "target": "s75",
            "target_arrow_shape": "triangle"
           }
          },
          {
           "data": {
            "arrowhead": "normal",
            "id": "9e2bf934-920b-41d8-8d90-2398515114bc",
            "source": "s74",
            "source_arrow_fill": "hollow",
            "source_arrow_shape": "diamond",
            "target": "s76",
            "target_arrow_shape": "triangle"
           }
          },
          {
           "data": {
            "arrowhead": "normal",
            "id": "528be946-6c69-4b08-a9dc-28465fee9c69",
            "source": "s75",
            "source_arrow_fill": "filled",
            "source_arrow_shape": "none",
            "target": "s33",
            "target_arrow_shape": "triangle"
           }
          },
          {
           "data": {
            "arrowhead": "normal",
            "id": "7ec10dc9-fdb8-412a-90fa-f91fb82ddb31",
            "source": "s75",
            "source_arrow_fill": "filled",
            "source_arrow_shape": "none",
            "target": "s74",
            "target_arrow_shape": "triangle"
           }
          }
         ],
         "nodes": [
          {
           "data": {
            "NodeType": "species",
            "background_color": "#aaffff",
            "id": "s0",
            "label": "L",
            "name": "s0",
            "parent": "0",
            "shape": "ellipse",
            "spInitial": 3000
           },
           "position": {
            "x": 40,
            "y": 108
           }
          },
          {
           "data": {
            "NodeType": "species",
            "background_color": "#aaffff",
            "id": "s1",
            "label": "R",
            "name": "s1",
            "parent": "0",
            "shape": "ellipse",
            "spInitial": 200
           },
           "position": {
            "x": 40,
            "y": 40
           }
          },
          {
           "data": {
            "NodeType": "species",
            "background_color": "#aaffff",
            "id": "s2",
            "label": "flip",
            "name": "s2",
            "parent": "0",
            "shape": "ellipse",
            "spInitial": 100
           },
           "position": {
            "x": 158.99999952316284,
            "y": 116
           }
          },
          {
           "data": {
            "NodeType": "species",
            "background_color": "#aaffff",
            "id": "s3",
            "label": "proC8",
            "name": "s3",
            "parent": "1",
            "shape": "ellipse",
            "spInitial": 20000
           },
           "position": {
            "x": 40,
            "y": 552.0000009536743
           }
          },
          {
           "data": {
            "NodeType": "species",
            "background_color": "#aaffff",
            "id": "s4",
            "label": "BAR",
            "name": "s4",
            "parent": "1",
            "shape": "ellipse",
            "spInitial": 1000
           },
           "position": {
            "x": 232.99999904632568,
            "y": 608.0000009536743
           }
          },
          {
           "data": {
            "NodeType": "species",
            "background_color": "#aaffff",
            "id": "s5",
            "label": "iApaf",
            "name": "s5",
            "parent": "2",
            "shape": "ellipse",
            "spInitial": 100000
           },
           "position": {
            "x": 1466.9999952316284,
            "y": 324.00000047683716
           }
          },
          {
           "data": {
            "NodeType": "species",
            "background_color": "#aaffff",
            "id": "s6",
            "label": "proC3",
            "name": "s6",
            "parent": "3",
            "shape": "ellipse",
            "spInitial": 10000
           },
           "position": {
            "x": 869.9999990463257,
            "y": 684.0000009536743
           }
          },
          {
           "data": {
            "NodeType": "species",
            "background_color": "#aaffff",
            "id": "s7",
            "label": "proC6",
            "name": "s7",
            "parent": "3",
            "shape": "ellipse",
            "spInitial": 10000
           },
           "position": {
            "x": 1088.9999980926514,
            "y": 816.0000009536743
           }
          },
          {
           "data": {
            "NodeType": "species",
            "background_color": "#aaffff",
            "id": "s8",
            "label": "C9",
            "name": "s8",
            "parent": "3",
            "shape": "ellipse",
            "spInitial": 100000
           },
           "position": {
            "x": 1002.9999985694885,
            "y": 540.0000009536743
           }
          },
          {
           "data": {
            "NodeType": "species",
            "background_color": "#aaffff",
            "id": "s9",
            "label": "uPARP",
            "name": "s9",
            "parent": "3",
            "shape": "ellipse",
            "spInitial": 1000000
           },
           "position": {
            "x": 1082.9999980926514,
            "y": 622.4000009536743
           }
          },
          {
           "data": {
            "NodeType": "species",
            "background_color": "#aaffff",
            "id": "s10",
            "label": "XIAP",
            "name": "s10",
            "parent": "3",
            "shape": "ellipse",
            "spInitial": 100000
           },
           "position": {
            "x": 1292.6666638056438,
            "y": 728.0000009536743
           }
          },
          {
           "data": {
            "NodeType": "species",
            "background_color": "#aaffff",
            "id": "s11",
            "label": "uBid",
            "name": "s11",
            "parent": "1",
            "shape": "ellipse",
            "spInitial": 40000
           },
           "position": {
            "x": 231.99999904632568,
            "y": 744.0000009536743
           }
          },
          {
           "data": {
            "NodeType": "species",
            "background_color": "#aaffff",
            "id": "s12",
            "label": "cBax",
            "name": "s12",
            "parent": "4",
            "shape": "ellipse",
            "spInitial": 80000
           },
           "position": {
            "x": 526.9999990463257,
            "y": 653.6000009536743
           }
          },
          {
           "data": {
            "NodeType": "species",
            "background_color": "#aaffff",
            "id": "s13",
            "label": "mBak",
            "name": "s13",
            "parent": "5",
            "shape": "ellipse",
            "spInitial": 20000
           },
           "position": {
            "x": 40,
            "y": 384.00000047683716
           }
          },
          {
           "data": {
            "NodeType": "species",
            "background_color": "#aaffff",
            "id": "s14",
            "label": "mBcl2",
            "name": "s14",
            "parent": "4",
            "shape": "ellipse",
            "spInitial": 20000
           },
           "position": {
            "x": 516.9999990463257,
            "y": 948.0000009536743
           }
          },
          {
           "data": {
            "NodeType": "species",
            "background_color": "#aaffff",
            "id": "s15",
            "label": "mBclxL",
            "name": "s15",
            "parent": "4",
            "shape": "ellipse",
            "spInitial": 20000
           },
           "position": {
            "x": 508.9999990463257,
            "y": 857.6000009536743
           }
          },
          {
           "data": {
            "NodeType": "species",
            "background_color": "#aaffff",
            "id": "s16",
            "label": "mMcl1",
            "name": "s16",
            "parent": "6",
            "shape": "ellipse",
            "spInitial": 20000
           },
           "position": {
            "x": 379.99999952316284,
            "y": 116
           }
          },
          {
           "data": {
            "NodeType": "species",
            "background_color": "#aaffff",
            "id": "s17",
            "label": "mBad",
            "name": "s17",
            "parent": "4",
            "shape": "ellipse",
            "spInitial": 1000
           },
           "position": {
            "x": 519.9999990463257,
            "y": 1016.0000009536743
           }
          },
          {
           "data": {
            "NodeType": "species",
            "background_color": "#aaffff",
            "id": "s18",
            "label": "mNoxa",
            "name": "s18",
            "parent": "6",
            "shape": "ellipse",
            "spInitial": 1000
           },
           "position": {
            "x": 377.99999952316284,
            "y": 40
           }
          },
          {
           "data": {
            "NodeType": "species",
            "background_color": "#aaffff",
            "id": "s19",
            "label": "mCytoC",
            "name": "s19",
            "parent": "2",
            "shape": "ellipse",
            "spInitial": 500000
           },
           "position": {
            "x": 1143.9999961853027,
            "y": 392.00000047683716
           }
          },
          {
           "data": {
            "NodeType": "species",
            "background_color": "#aaffff",
            "id": "s20",
            "label": "mSmac",
            "name": "s20",
            "parent": "7",
            "shape": "ellipse",
            "spInitial": 100000
           },
           "position": {
            "x": 658.9999995231628,
            "y": 48
           }
          },
          {
           "data": {
            "NodeType": "species",
            "background_color": "#2b913a",
            "id": "s21",
            "label": "L-R",
            "name": "s21",
            "parent": "0",
            "shape": "ellipse",
            "spInitial": 0
           },
           "position": {
            "x": 99.99999952316284,
            "y": 48
           }
          },
          {
           "data": {
            "NodeType": "species",
            "background_color": "#2b913a",
            "id": "s22",
            "label": "mBad-mBcl2",
            "name": "s22",
            "parent": "4",
            "shape": "ellipse",
            "spInitial": 0
           },
           "position": {
            "x": 672.9999985694885,
            "y": 1016.0000009536743
           }
          },
          {
           "data": {
            "NodeType": "species",
            "background_color": "#2b913a",
            "id": "s23",
            "label": "mBad-mBclxL",
            "name": "s23",
            "parent": "4",
            "shape": "ellipse",
            "spInitial": 0
           },
           "position": {
            "x": 672.9999985694885,
            "y": 880.0000009536743
           }
          },
          {
           "data": {
            "NodeType": "species",
            "background_color": "#2b913a",
            "id": "s24",
            "label": "mMcl1-mNoxa",
            "name": "s24",
            "parent": "6",
            "shape": "ellipse",
            "spInitial": 0
           },
           "position": {
            "x": 458.9999990463257,
            "y": 48
           }
          },
          {
           "data": {
            "NodeType": "species",
            "background_color": "#2b913a",
            "id": "s25",
            "label": "DISC",
            "name": "s25",
            "parent": "0",
            "shape": "ellipse",
            "spInitial": 0
           },
           "position": {
            "x": 151.99999952316284,
            "y": 48
           }
          },
          {
           "data": {
            "NodeType": "species",
            "background_color": "#2b913a",
            "id": "s26",
            "label": "proC8-DISC",
            "name": "s26",
            "parent": "1",
            "shape": "ellipse",
            "spInitial": 0
           },
           "position": {
            "x": 113.99999952316284,
            "y": 684.0000009536743
           }
          },
          {
           "data": {
            "NodeType": "species",
            "background_color": "#2b913a",
            "id": "s27",
            "label": "DISC-flip",
            "name": "s27",
            "parent": "0",
            "shape": "ellipse",
            "spInitial": 0
           },
           "position": {
            "x": 218.99999904632568,
            "y": 56
           }
          },
          {
           "data": {
            "NodeType": "species",
            "background_color": "#2b913a",
            "id": "s28",
            "label": "aC8",
            "name": "s28",
            "parent": "1",
            "shape": "ellipse",
            "spInitial": 0
           },
           "position": {
            "x": 233.7999990463257,
            "y": 676.0000009536743
           }
          },
          {
           "data": {
            "NodeType": "species",
            "background_color": "#2b913a",
            "id": "s29",
            "label": "uBid-aC8",
            "name": "s29",
            "parent": "1",
            "shape": "ellipse",
            "spInitial": 0
           },
           "position": {
            "x": 294.9999985694885,
            "y": 688.0000009536743
           }
          },
          {
           "data": {
            "NodeType": "species",
            "background_color": "#2b913a",
            "id": "s30",
            "label": "BAR-aC8",
            "name": "s30",
            "parent": "1",
            "shape": "ellipse",
            "spInitial": 0
           },
           "position": {
            "x": 294.9999985694885,
            "y": 616.0000009536743
           }
          },
          {
           "data": {
            "NodeType": "species",
            "background_color": "#2b913a",
            "id": "s31",
            "label": "proC3-aC8",
            "name": "s31",
            "parent": "3",
            "shape": "ellipse",
            "spInitial": 0
           },
           "position": {
            "x": 948.9999985694885,
            "y": 744.0000009536743
           }
          },
          {
           "data": {
            "NodeType": "species",
            "background_color": "#2b913a",
            "id": "s32",
            "label": "tBid",
            "name": "s32",
            "parent": "1",
            "shape": "ellipse",
            "spInitial": 0
           },
           "position": {
            "x": 384.9999985694885,
            "y": 688.0000009536743
           }
          },
          {
           "data": {
            "NodeType": "species",
            "background_color": "#2b913a",
            "id": "s33",
            "label": "aC3",
            "name": "s33",
            "parent": "3",
            "shape": "ellipse",
            "spInitial": 0
           },
           "position": {
            "x": 1097.2857123783656,
            "y": 736.0000009536743
           }
          },
          {
           "data": {
            "NodeType": "species",
            "background_color": "#2b913a",
            "id": "s34",
            "label": "aC3-XIAP",
            "name": "s34",
            "parent": "3",
            "shape": "ellipse",
            "spInitial": 0
           },
           "position": {
            "x": 1184.2499976158142,
            "y": 736.0000009536743
           }
          },
          {
           "data": {
            "NodeType": "species",
            "background_color": "#2b913a",
            "id": "s35",
            "label": "aC3-uPARP",
            "name": "s35",
            "parent": "3",
            "shape": "ellipse",
            "spInitial": 0
           },
           "position": {
            "x": 1172.9999976158142,
            "y": 634.4000009536743
           }
          },
          {
           "data": {
            "NodeType": "species",
            "background_color": "#2b913a",
            "id": "s36",
            "label": "aC3-proC6",
            "name": "s36",
            "parent": "3",
            "shape": "ellipse",
            "spInitial": 0
           },
           "position": {
            "x": 1172.9999976158142,
            "y": 804.0000009536743
           }
          },
          {
           "data": {
            "NodeType": "species",
            "background_color": "#2b913a",
            "id": "s37",
            "label": "mBid",
            "name": "s37",
            "parent": "4",
            "shape": "ellipse",
            "spInitial": 0
           },
           "position": {
            "x": 524.9999990463257,
            "y": 721.6000009536743
           }
          },
          {
           "data": {
            "NodeType": "species",
            "background_color": "#2b913a",
            "id": "s38",
            "label": "ubC3",
            "name": "s38",
            "parent": "3",
            "shape": "ellipse",
            "spInitial": 0
           },
           "position": {
            "x": 1287.999997138977,
            "y": 796.0000009536743
           }
          },
          {
           "data": {
            "NodeType": "species",
            "background_color": "#2b913a",
            "id": "s39",
            "label": "cPARP",
            "name": "s39",
            "parent": "3",
            "shape": "ellipse",
            "spInitial": 0
           },
           "position": {
            "x": 1287.999997138977,
            "y": 634.4000009536743
           }
          },
          {
           "data": {
            "NodeType": "species",
            "background_color": "#2b913a",
            "id": "s40",
            "label": "aC6",
            "name": "s40",
            "parent": "1",
            "shape": "ellipse",
            "spInitial": 0
           },
           "position": {
            "x": 231.99999904632568,
            "y": 540.0000009536743
           }
          },
          {
           "data": {
            "NodeType": "species",
            "background_color": "#2b913a",
            "id": "s41",
            "label": "cBax-mBid",
            "name": "s41",
            "parent": "4",
            "shape": "ellipse",
            "spInitial": 0
           },
           "position": {
            "x": 672.9999985694885,
            "y": 540.0000009536743
           }
          },
          {
           "data": {
            "NodeType": "species",
            "background_color": "#2b913a",
            "id": "s42",
            "label": "mBak-mBid",
            "name": "s42",
            "parent": "5",
            "shape": "ellipse",
            "spInitial": 0
           },
           "position": {
            "x": 111.99999952316284,
            "y": 324.00000047683716
           }
          },
          {
           "data": {
            "NodeType": "species",
            "background_color": "#2b913a",
            "id": "s43",
            "label": "mBcl2-mBid",
            "name": "s43",
            "parent": "4",
            "shape": "ellipse",
            "spInitial": 0
           },
           "position": {
            "x": 672.9999985694885,
            "y": 744.0000009536743
           }
          },
          {
           "data": {
            "NodeType": "species",
            "background_color": "#2b913a",
            "id": "s44",
            "label": "mBclxL-mBid",
            "name": "s44",
            "parent": "4",
            "shape": "ellipse",
            "spInitial": 0
           },
           "position": {
            "x": 672.9999985694885,
            "y": 608.0000009536743
           }
          },
          {
           "data": {
            "NodeType": "species",
            "background_color": "#2b913a",
            "id": "s45",
            "label": "mBid-mMcl1",
            "name": "s45",
            "parent": "6",
            "shape": "ellipse",
            "spInitial": 0
           },
           "position": {
            "x": 458.9999990463257,
            "y": 116
           }
          },
          {
           "data": {
            "NodeType": "species",
            "background_color": "#2b913a",
            "id": "s46",
            "label": "aC6-proC8",
            "name": "s46",
            "parent": "1",
            "shape": "ellipse",
            "spInitial": 0
           },
           "position": {
            "x": 120.74999952316284,
            "y": 544.0000009536743
           }
          },
          {
           "data": {
            "NodeType": "species",
            "background_color": "#2b913a",
            "id": "s47",
            "label": "mBax",
            "name": "s47",
            "parent": "8",
            "shape": "ellipse",
            "spInitial": 0
           },
           "position": {
            "x": 591.9999980926514,
            "y": 384.00000047683716
           }
          },
          {
           "data": {
            "NodeType": "species",
            "background_color": "#2b913a",
            "id": "s48",
            "label": "aBak",
            "name": "s48",
            "parent": "5",
            "shape": "ellipse",
            "spInitial": 0
           },
           "position": {
            "x": 226.99999904632568,
            "y": 384.00000047683716
           }
          },
          {
           "data": {
            "NodeType": "species",
            "background_color": "#2b913a",
            "id": "s49",
            "label": "mBax-mBid",
            "name": "s49",
            "parent": "8",
            "shape": "ellipse",
            "spInitial": 0
           },
           "position": {
            "x": 663.9999976158142,
            "y": 324.00000047683716
           }
          },
          {
           "data": {
            "NodeType": "species",
            "background_color": "#2b913a",
            "id": "s50",
            "label": "aBak-mBak",
            "name": "s50",
            "parent": "5",
            "shape": "ellipse",
            "spInitial": 0
           },
           "position": {
            "x": 112.66666618982951,
            "y": 392.00000047683716
           }
          },
          {
           "data": {
            "NodeType": "species",
            "background_color": "#2b913a",
            "id": "s51",
            "label": "aBak-mBclxL",
            "name": "s51",
            "parent": "4",
            "shape": "ellipse",
            "spInitial": 0
           },
           "position": {
            "x": 672.9999985694885,
            "y": 676.0000009536743
           }
          },
          {
           "data": {
            "NodeType": "species",
            "background_color": "#2b913a",
            "id": "s52",
            "label": "aBak-mMcl1",
            "name": "s52",
            "parent": "6",
            "shape": "ellipse",
            "spInitial": 0
           },
           "position": {
            "x": 458.9999990463257,
            "y": 184
           }
          },
          {
           "data": {
            "NodeType": "species",
            "background_color": "#2b913a",
            "id": "s53",
            "label": "2aBak",
            "name": "s53",
            "parent": "5",
            "shape": "ellipse",
            "spInitial": 0
           },
           "position": {
            "x": 302.9999985694885,
            "y": 328.0000009536743
           }
          },
          {
           "data": {
            "NodeType": "species",
            "background_color": "#2b913a",
            "id": "s54",
            "label": "aBax",
            "name": "s54",
            "parent": "8",
            "shape": "ellipse",
            "spInitial": 0
           },
           "position": {
            "x": 778.999997138977,
            "y": 384.00000047683716
           }
          },
          {
           "data": {
            "NodeType": "species",
            "background_color": "#2b913a",
            "id": "s55",
            "label": "3aBak",
            "name": "s55",
            "parent": "5",
            "shape": "ellipse",
            "spInitial": 0
           },
           "position": {
            "x": 377.99999809265137,
            "y": 358.00000071525574
           }
          },
          {
           "data": {
            "NodeType": "species",
            "background_color": "#2b913a",
            "id": "s56",
            "label": "aBax-mBax",
            "name": "s56",
            "parent": "8",
            "shape": "ellipse",
            "spInitial": 0
           },
           "position": {
            "x": 664.6666642824808,
            "y": 392.00000047683716
           }
          },
          {
           "data": {
            "NodeType": "species",
            "background_color": "#2b913a",
            "id": "s57",
            "label": "aBax-mBcl2",
            "name": "s57",
            "parent": "4",
            "shape": "ellipse",
            "spInitial": 0
           },
           "position": {
            "x": 672.9999985694885,
            "y": 948.0000009536743
           }
          },
          {
           "data": {
            "NodeType": "species",
            "background_color": "#2b913a",
            "id": "s58",
            "label": "aBax-mBclxL",
            "name": "s58",
            "parent": "4",
            "shape": "ellipse",
            "spInitial": 0
           },
           "position": {
            "x": 672.9999985694885,
            "y": 812.0000009536743
           }
          },
          {
           "data": {
            "NodeType": "species",
            "background_color": "#2b913a",
            "id": "s59",
            "label": "2aBax",
            "name": "s59",
            "parent": "8",
            "shape": "ellipse",
            "spInitial": 0
           },
           "position": {
            "x": 854.9999966621399,
            "y": 328.0000009536743
           }
          },
          {
           "data": {
            "NodeType": "species",
            "background_color": "#2b913a",
            "id": "s60",
            "label": "4aBak",
            "name": "s60",
            "parent": "5",
            "shape": "ellipse",
            "spInitial": 0
           },
           "position": {
            "x": 452.9999976158142,
            "y": 388.00000047683716
           }
          },
          {
           "data": {
            "NodeType": "species",
            "background_color": "#2b913a",
            "id": "s61",
            "label": "3aBax",
            "name": "s61",
            "parent": "8",
            "shape": "ellipse",
            "spInitial": 0
           },
           "position": {
            "x": 929.9999961853027,
            "y": 358.00000071525574
           }
          },
          {
           "data": {
            "NodeType": "species",
            "background_color": "#2b913a",
            "id": "s62",
            "label": "4aBak-mCytoC",
            "name": "s62",
            "parent": "2",
            "shape": "ellipse",
            "spInitial": 0
           },
           "position": {
            "x": 1232.9999957084656,
            "y": 400.00000047683716
           }
          },
          {
           "data": {
            "NodeType": "species",
            "background_color": "#2b913a",
            "id": "s63",
            "label": "4aBak-mSmac",
            "name": "s63",
            "parent": "7",
            "shape": "ellipse",
            "spInitial": 0
           },
           "position": {
            "x": 743.9999990463257,
            "y": 108
           }
          },
          {
           "data": {
            "NodeType": "species",
            "background_color": "#2b913a",
            "id": "s64",
            "label": "4aBax",
            "name": "s64",
            "parent": "8",
            "shape": "ellipse",
            "spInitial": 0
           },
           "position": {
            "x": 1004.9999957084656,
            "y": 388.00000047683716
           }
          },
          {
           "data": {
            "NodeType": "species",
            "background_color": "#2b913a",
            "id": "s65",
            "label": "cCytoC",
            "name": "s65",
            "parent": "2",
            "shape": "ellipse",
            "spInitial": 0
           },
           "position": {
            "x": 1373.9999952316284,
            "y": 392.00000047683716
           }
          },
          {
           "data": {
            "NodeType": "species",
            "background_color": "#2b913a",
            "id": "s66",
            "label": "cSmac",
            "name": "s66",
            "parent": "7",
            "shape": "ellipse",
            "spInitial": 0
           },
           "position": {
            "x": 879.9999985694885,
            "y": 48
           }
          },
          {
           "data": {
            "NodeType": "species",
            "background_color": "#2b913a",
            "id": "s67",
            "label": "aSmac",
            "name": "s67",
            "parent": "7",
            "shape": "ellipse",
            "spInitial": 0
           },
           "position": {
            "x": 951.9999985694885,
            "y": 48
           }
          },
          {
           "data": {
            "NodeType": "species",
            "background_color": "#2b913a",
            "id": "s68",
            "label": "aCytoC",
            "name": "s68",
            "parent": "2",
            "shape": "ellipse",
            "spInitial": 0
           },
           "position": {
            "x": 1449.9999952316284,
            "y": 392.00000047683716
           }
          },
          {
           "data": {
            "NodeType": "species",
            "background_color": "#2b913a",
            "id": "s69",
            "label": "4aBax-mCytoC",
            "name": "s69",
            "parent": "2",
            "shape": "ellipse",
            "spInitial": 0
           },
           "position": {
            "x": 1232.9999957084656,
            "y": 332.00000047683716
           }
          },
          {
           "data": {
            "NodeType": "species",
            "background_color": "#2b913a",
            "id": "s70",
            "label": "4aBax-mSmac",
            "name": "s70",
            "parent": "7",
            "shape": "ellipse",
            "spInitial": 0
           },
           "position": {
            "x": 743.9999990463257,
            "y": 40
           }
          },
          {
           "data": {
            "NodeType": "species",
            "background_color": "#2b913a",
            "id": "s71",
            "label": "iApaf-aCytoC",
            "name": "s71",
            "parent": "2",
            "shape": "ellipse",
            "spInitial": 0
           },
           "position": {
            "x": 1533.9999947547913,
            "y": 384.00000047683716
           }
          },
          {
           "data": {
            "NodeType": "species",
            "background_color": "#2b913a",
            "id": "s72",
            "label": "aSmac-XIAP",
            "name": "s72",
            "parent": "7",
            "shape": "ellipse",
            "spInitial": 0
           },
           "position": {
            "x": 1023.9999985694885,
            "y": 48
           }
          },
          {
           "data": {
            "NodeType": "species",
            "background_color": "#2b913a",
            "id": "s73",
            "label": "aApaf",
            "name": "s73",
            "parent": "3",
            "shape": "ellipse",
            "spInitial": 0
           },
           "position": {
            "x": 990.9999985694885,
            "y": 608.0000009536743
           }
          },
          {
           "data": {
            "NodeType": "species",
            "background_color": "#2b913a",
            "id": "s74",
            "label": "Apop",
            "name": "s74",
            "parent": "3",
            "shape": "ellipse",
            "spInitial": 0
           },
           "position": {
            "x": 1085.1999980926514,
            "y": 554.4000009536743
           }
          },
          {
           "data": {
            "NodeType": "species",
            "background_color": "#2b913a",
            "id": "s75",
            "label": "Apop-proC3",
            "name": "s75",
            "parent": "3",
            "shape": "ellipse",
            "spInitial": 0
           },
           "position": {
            "x": 943.9999985694885,
            "y": 676.0000009536743
           }
          },
          {
           "data": {
            "NodeType": "species",
            "background_color": "#2b913a",
            "id": "s76",
            "label": "Apop-XIAP",
            "name": "s76",
            "parent": "3",
            "shape": "ellipse",
            "spInitial": 0
           },
           "position": {
            "x": 1366.99999666214,
            "y": 562.4000009536743
           }
          },
          {
           "data": {
            "NodeType": "community",
            "id": "0",
            "label": "0: DISC regulation",
            "name": "0"
           },
           "position": {
            "x": 138.24999952316284,
            "y": 70
           }
          },
          {
           "data": {
            "NodeType": "community",
            "id": "1",
            "label": "1: aC8 regulation",
            "name": "1"
           },
           "position": {
            "x": 208.99999928474426,
            "y": 634.0000009536743
           }
          },
          {
           "data": {
            "NodeType": "community",
            "expandcollapseRenderedCueSize": 12,
            "expandcollapseRenderedStartX": 624.6552934829215,
            "expandcollapseRenderedStartY": 151.18117655928563,
            "id": "2",
            "label": "2: 4aBak-mCytoC \n4aBax-mCytoC regulation",
            "name": "2"
           },
           "position": {
            "x": 1348.499995470047,
            "y": 354.00000047683716
           }
          },
          {
           "data": {
            "NodeType": "community",
            "id": "3",
            "label": "3: aC3 regulation",
            "name": "3"
           },
           "position": {
            "x": 1127.2499978542328,
            "y": 670.0000009536743
           }
          },
          {
           "data": {
            "NodeType": "community",
            "id": "4",
            "label": "4: mBid regulation",
            "name": "4"
           },
           "position": {
            "x": 603.2499988079071,
            "y": 770.0000009536743
           }
          },
          {
           "data": {
            "NodeType": "community",
            "id": "5",
            "label": "5: aBak regulation",
            "name": "5"
           },
           "position": {
            "x": 247.2499988079071,
            "y": 350.00000047683716
           }
          },
          {
           "data": {
            "NodeType": "community",
            "id": "6",
            "label": "6: mMcl1 regulation",
            "name": "6"
           },
           "position": {
            "x": 432.24999928474426,
            "y": 104
           }
          },
          {
           "data": {
            "NodeType": "community",
            "expandcollapseRenderedCueSize": 12,
            "expandcollapseRenderedStartX": 415.54470688041715,
            "expandcollapseRenderedStartY": 28.225882345557835,
            "id": "7",
            "label": "7: 4aBak-mSmac \n4aBax-mSmac regulation",
            "name": "7"
           },
           "position": {
            "x": 850.4999990463257,
            "y": 66
           }
          },
          {
           "data": {
            "NodeType": "community",
            "id": "8",
            "label": "8: aBax regulation",
            "name": "8"
           },
           "position": {
            "x": 799.2499969005585,
            "y": 350.00000047683716
           }
          }
         ]
        }
       },
       "format": "cyjs",
       "layout": "IPY_MODEL_ef95a37bd9b14e6bb93d9b0d7c1aeb53",
       "layout_name": "klay",
       "process": "consumption",
       "sim_idx": 0,
       "type_of_viz": "communities_view",
       "visual_style": null
      }
     },
     "367aa1ec94f64adfbafd3b2599810ba9": {
      "model_module": "@jupyter-widgets/base",
      "model_module_version": "1.1.0",
      "model_name": "LayoutModel",
      "state": {}
     },
     "3e0f9473160f463d807d9b7e62e56afb": {
      "model_module": "@jupyter-widgets/base",
      "model_module_version": "1.1.0",
      "model_name": "LayoutModel",
      "state": {}
     },
     "5383e73075824589ba557aaa23ae47e1": {
      "model_module": "@jupyter-widgets/base",
      "model_module_version": "1.1.0",
      "model_name": "LayoutModel",
      "state": {}
     },
     "68573b8b1cb54b2585d5e4235b6bceba": {
      "model_module": "pyvipr",
      "model_module_version": "^0.1.17",
      "model_name": "CytoscapeModel",
      "state": {
       "background": "#FFFFFF",
       "data": {
        "data": {
         "graph": {
          "rankdir": "LR"
         },
         "name": "pysb",
         "paths": []
        },
        "elements": {
         "edges": [
          {
           "data": {
            "arrowhead": "normal",
            "id": "9ea1d130-ae11-48a1-876e-0ef3b2443bc4",
            "source": "s0",
            "source_arrow_fill": "hollow",
            "source_arrow_shape": "diamond",
            "target": "s3",
            "target_arrow_shape": "triangle"
           }
          },
          {
           "data": {
            "arrowhead": "normal",
            "id": "92fbd681-f740-4ddb-8dbb-fac44f8f3214",
            "source": "s2",
            "source_arrow_fill": "hollow",
            "source_arrow_shape": "diamond",
            "target": "s3",
            "target_arrow_shape": "triangle"
           }
          },
          {
           "data": {
            "arrowhead": "normal",
            "id": "c4d546cb-0f1e-4112-b1a3-f404d9df0260",
            "source": "s3",
            "source_arrow_fill": "hollow",
            "source_arrow_shape": "diamond",
            "target": "s4",
            "target_arrow_shape": "triangle"
           }
          }
         ],
         "nodes": [
          {
           "data": {
            "NodeType": "species",
            "background_color": "#aaffff",
            "id": "s0",
            "label": "K",
            "name": "s0",
            "shape": "ellipse",
            "spInitial": 1000
           },
           "position": {
            "x": 27,
            "y": 72
           }
          },
          {
           "data": {
            "NodeType": "species",
            "background_color": "#aaffff",
            "id": "s1",
            "label": "P",
            "name": "s1",
            "shape": "ellipse",
            "spInitial": 1000
           },
           "position": {
            "x": 27,
            "y": 126
           }
          },
          {
           "data": {
            "NodeType": "species",
            "background_color": "#aaffff",
            "id": "s2",
            "label": "uS",
            "name": "s2",
            "shape": "ellipse",
            "spInitial": 10000
           },
           "position": {
            "x": 27,
            "y": 18
           }
          },
          {
           "data": {
            "NodeType": "species",
            "background_color": "#2b913a",
            "id": "s3",
            "label": "K-uS",
            "name": "s3",
            "shape": "ellipse",
            "spInitial": 0
           },
           "position": {
            "x": 118.78,
            "y": 45
           }
          },
          {
           "data": {
            "NodeType": "species",
            "background_color": "#2b913a",
            "id": "s4",
            "label": "K-pS",
            "name": "s4",
            "shape": "ellipse",
            "spInitial": 0
           },
           "position": {
            "x": 212.33,
            "y": 45
           }
          }
         ]
        }
       },
       "format": "cyjs",
       "layout": "IPY_MODEL_a886264ce1f04b3f867c1c3887b32996",
       "layout_name": "preset",
       "process": "consumption",
       "sim_idx": 0,
       "type_of_viz": "species_view",
       "visual_style": null
      }
     },
     "79d2d316355c4ad2b889992393e9e03b": {
      "model_module": "pyvipr",
      "model_module_version": "^0.1.17",
      "model_name": "CytoscapeModel",
      "state": {
       "background": "#FFFFFF",
       "data": {
        "data": {
         "graph": {
          "rankdir": "LR"
         },
         "name": "pysb"
        },
        "elements": {
         "edges": [
          {
           "data": {
            "arrowhead": "normal",
            "id": "7c93f6e0-7d17-40ec-b8aa-479d221139a5",
            "source": "s0",
            "source_arrow_fill": "filled",
            "source_arrow_shape": "none",
            "target": "r0",
            "target_arrow_shape": "triangle"
           }
          },
          {
           "data": {
            "arrowhead": "normal",
            "id": "99535151-f2ad-4ba2-9774-93c5b8bf8976",
            "source": "s2",
            "source_arrow_fill": "filled",
            "source_arrow_shape": "none",
            "target": "r0",
            "target_arrow_shape": "triangle"
           }
          },
          {
           "data": {
            "arrowhead": "normal",
            "id": "a2e665a3-fe66-439d-8330-b64b381e85b6",
            "source": "s3",
            "source_arrow_fill": "filled",
            "source_arrow_shape": "none",
            "target": "r1",
            "target_arrow_shape": "triangle"
           }
          },
          {
           "data": {
            "arrowhead": "normal",
            "id": "528a5023-47f6-4dfb-aaa3-5b3d571e0369",
            "source": "s3",
            "source_arrow_fill": "filled",
            "source_arrow_shape": "none",
            "target": "r2",
            "target_arrow_shape": "triangle"
           }
          },
          {
           "data": {
            "arrowhead": "normal",
            "id": "9764f756-db3c-422e-bb4c-59252ebee78f",
            "source": "s4",
            "source_arrow_fill": "filled",
            "source_arrow_shape": "none",
            "target": "r3",
            "target_arrow_shape": "triangle"
           }
          },
          {
           "data": {
            "arrowhead": "normal",
            "id": "7e962893-3253-44a2-a995-916fc28473d3",
            "source": "r0",
            "source_arrow_fill": "filled",
            "source_arrow_shape": "none",
            "target": "s3",
            "target_arrow_shape": "triangle"
           }
          },
          {
           "data": {
            "arrowhead": "normal",
            "id": "f825054b-3235-4a20-9d64-4df59e986593",
            "source": "r1",
            "source_arrow_fill": "filled",
            "source_arrow_shape": "none",
            "target": "s0",
            "target_arrow_shape": "triangle"
           }
          },
          {
           "data": {
            "arrowhead": "normal",
            "id": "035cce06-7d9a-4ee7-bcc8-6a09147b5c4f",
            "source": "r1",
            "source_arrow_fill": "filled",
            "source_arrow_shape": "none",
            "target": "s2",
            "target_arrow_shape": "triangle"
           }
          },
          {
           "data": {
            "arrowhead": "normal",
            "id": "c4ab0099-5952-438f-9b09-5c3cc8846723",
            "source": "r2",
            "source_arrow_fill": "filled",
            "source_arrow_shape": "none",
            "target": "s4",
            "target_arrow_shape": "triangle"
           }
          },
          {
           "data": {
            "arrowhead": "normal",
            "id": "d8de1792-04bb-4dad-95d6-06e3863ccd1c",
            "source": "r3",
            "source_arrow_fill": "filled",
            "source_arrow_shape": "none",
            "target": "s3",
            "target_arrow_shape": "triangle"
           }
          }
         ],
         "nodes": [
          {
           "data": {
            "NodeType": "species",
            "background_color": "#aaffff",
            "bipartite": 0,
            "id": "s0",
            "label": "K",
            "name": "s0",
            "shape": "ellipse",
            "spInitial": 1000
           },
           "position": {
            "x": 19.32673930418062,
            "y": 68.40450248506923
           }
          },
          {
           "data": {
            "NodeType": "species",
            "background_color": "#aaffff",
            "bipartite": 0,
            "id": "s1",
            "label": "P",
            "name": "s1",
            "shape": "ellipse",
            "spInitial": 1000
           },
           "position": {
            "x": 70.33831634177385,
            "y": 145.7375410830523
           }
          },
          {
           "data": {
            "NodeType": "species",
            "background_color": "#aaffff",
            "bipartite": 0,
            "id": "s2",
            "label": "uS",
            "name": "s2",
            "shape": "ellipse",
            "spInitial": 10000
           },
           "position": {
            "x": 92.15261918760264,
            "y": -0.20465999260753787
           }
          },
          {
           "data": {
            "NodeType": "species",
            "background_color": "#2b913a",
            "bipartite": 0,
            "id": "s3",
            "label": "K-uS",
            "name": "s3",
            "shape": "ellipse",
            "spInitial": 0
           },
           "position": {
            "x": 214.26090049701384,
            "y": 105.61527960238891
           }
          },
          {
           "data": {
            "NodeType": "species",
            "background_color": "#2b913a",
            "bipartite": 0,
            "id": "s4",
            "label": "K-pS",
            "name": "s4",
            "shape": "ellipse",
            "spInitial": 0
           },
           "position": {
            "x": 392.33,
            "y": 156
           }
          },
          {
           "data": {
            "NodeType": "reaction",
            "background_color": "#d3d3d3",
            "bipartite": 1,
            "id": "r0",
            "kf": 1e-05,
            "kr": "None",
            "label": "r0",
            "name": "r0",
            "shape": "roundrectangle"
           },
           "position": {
            "x": 114.88593578820613,
            "y": 91.46373135983613
           }
          },
          {
           "data": {
            "NodeType": "reaction",
            "background_color": "#d3d3d3",
            "bipartite": 1,
            "id": "r1",
            "kf": "None",
            "kr": 0.01,
            "label": "r1",
            "name": "r1",
            "shape": "roundrectangle"
           },
           "position": {
            "x": 300.56,
            "y": 64
           }
          },
          {
           "data": {
            "NodeType": "reaction",
            "background_color": "#d3d3d3",
            "bipartite": 1,
            "id": "r2",
            "kf": 1,
            "kr": "None",
            "label": "r2",
            "name": "r2",
            "shape": "roundrectangle"
           },
           "position": {
            "x": 300.56,
            "y": 156
           }
          },
          {
           "data": {
            "NodeType": "reaction",
            "background_color": "#d3d3d3",
            "bipartite": 1,
            "id": "r3",
            "kf": 1,
            "kr": "None",
            "label": "r3",
            "name": "r3",
            "shape": "roundrectangle"
           },
           "position": {
            "x": 484.11,
            "y": 133
           }
          }
         ]
        }
       },
       "format": "cyjs",
       "layout": "IPY_MODEL_c8fcd6c3ba8e4786884355176e92a4cf",
       "layout_name": "preset",
       "process": "consumption",
       "sim_idx": 0,
       "type_of_viz": "sp_rxns_view",
       "visual_style": null
      }
     },
     "883e5c3e633e491f9337233c89127dab": {
      "model_module": "@jupyter-widgets/base",
      "model_module_version": "1.1.0",
      "model_name": "LayoutModel",
      "state": {}
     },
     "a886264ce1f04b3f867c1c3887b32996": {
      "model_module": "@jupyter-widgets/base",
      "model_module_version": "1.1.0",
      "model_name": "LayoutModel",
      "state": {}
     },
     "b31c837b5a54475eb837513fcd3e2273": {
      "model_module": "pyvipr",
      "model_module_version": "^0.1.17",
      "model_name": "CytoscapeModel",
      "state": {
       "background": "#FFFFFF",
       "data": {
        "data": {
         "graph": {
          "rankdir": "LR"
         },
         "name": "pyvipr.pysb_models.lopez_embedded"
        },
        "elements": {
         "edges": [
          {
           "data": {
            "id": "1e57c89d-dfab-4acd-8004-0a19760c4573",
            "source": "s34",
            "source_arrow_fill": "hollow",
            "source_arrow_shape": "triangle",
            "target": "s10",
            "target_arrow_shape": "triangle"
           }
          },
          {
           "data": {
            "id": "e1b6f005-8b49-481d-bc0a-65b03c573eb2",
            "source": "s34",
            "source_arrow_fill": "hollow",
            "source_arrow_shape": "triangle",
            "target": "s33",
            "target_arrow_shape": "triangle"
           }
          },
          {
           "data": {
            "id": "3fa5eb93-be19-4948-b0ef-222380dfacc1",
            "source": "s34",
            "source_arrow_fill": "filled",
            "source_arrow_shape": "none",
            "target": "s38",
            "target_arrow_shape": "triangle"
           }
          },
          {
           "data": {
            "id": "e613bf64-1f0d-4660-b3ed-d7983b5d75f9",
            "source": "s69",
            "source_arrow_fill": "filled",
            "source_arrow_shape": "none",
            "target": "s65",
            "target_arrow_shape": "triangle"
           }
          },
          {
           "data": {
            "id": "4287cc34-5f42-47c2-a095-3efd82892b25",
            "source": "s69",
            "source_arrow_fill": "hollow",
            "source_arrow_shape": "triangle",
            "target": "s64",
            "target_arrow_shape": "triangle"
           }
          },
          {
           "data": {
            "id": "6a1c0033-5ddb-4c59-8aa3-ae4ad0c5759c",
            "source": "s69",
            "source_arrow_fill": "hollow",
            "source_arrow_shape": "triangle",
            "target": "s19",
            "target_arrow_shape": "triangle"
           }
          },
          {
           "data": {
            "id": "49092b4f-c82f-43ea-a02f-c04be412245a",
            "source": "s58",
            "source_arrow_fill": "hollow",
            "source_arrow_shape": "triangle",
            "target": "s15",
            "target_arrow_shape": "triangle"
           }
          },
          {
           "data": {
            "id": "3e716b0c-c32a-49f2-b7a7-c2eb1d4e8cfd",
            "source": "s58",
            "source_arrow_fill": "hollow",
            "source_arrow_shape": "triangle",
            "target": "s54",
            "target_arrow_shape": "triangle"
           }
          },
          {
           "data": {
            "id": "2fa5124b-6b24-49a1-b5bf-5fbd4d62dbe7",
            "source": "s18",
            "source_arrow_fill": "hollow",
            "source_arrow_shape": "triangle",
            "target": "s16",
            "target_arrow_shape": "triangle"
           }
          },
          {
           "data": {
            "id": "6205b495-6a66-484c-a80f-e1505aefd104",
            "source": "s18",
            "source_arrow_fill": "hollow",
            "source_arrow_shape": "triangle",
            "target": "s24",
            "target_arrow_shape": "triangle"
           }
          },
          {
           "data": {
            "id": "e3c7d72b-5509-4862-ac44-0481ab286e49",
            "source": "s4",
            "source_arrow_fill": "hollow",
            "source_arrow_shape": "triangle",
            "target": "s28",
            "target_arrow_shape": "triangle"
           }
          },
          {
           "data": {
            "id": "e58e7fd3-7e40-4055-a0af-9bc454769480",
            "source": "s4",
            "source_arrow_fill": "hollow",
            "source_arrow_shape": "triangle",
            "target": "s30",
            "target_arrow_shape": "triangle"
           }
          },
          {
           "data": {
            "id": "cbbf85b6-5d68-438e-ad84-d9b9f5a48235",
            "source": "s11",
            "source_arrow_fill": "hollow",
            "source_arrow_shape": "triangle",
            "target": "s28",
            "target_arrow_shape": "triangle"
           }
          },
          {
           "data": {
            "id": "cbb3b4cd-2010-470d-8558-95857ddd3c2f",
            "source": "s11",
            "source_arrow_fill": "hollow",
            "source_arrow_shape": "triangle",
            "target": "s29",
            "target_arrow_shape": "triangle"
           }
          },
          {
           "data": {
            "id": "94dcdd96-814e-44f9-b47e-8ecabe971430",
            "source": "s26",
            "source_arrow_fill": "filled",
            "source_arrow_shape": "none",
            "target": "s28",
            "target_arrow_shape": "triangle"
           }
          },
          {
           "data": {
            "id": "9844c771-7fad-4b82-be92-3eb9168ad500",
            "source": "s26",
            "source_arrow_fill": "hollow",
            "source_arrow_shape": "triangle",
            "target": "s3",
            "target_arrow_shape": "triangle"
           }
          },
          {
           "data": {
            "id": "6a2eb8a7-24c7-4dda-8628-6770713b1fcb",
            "source": "s26",
            "source_arrow_fill": "hollow",
            "source_arrow_shape": "triangle",
            "target": "s25",
            "target_arrow_shape": "triangle"
           }
          },
          {
           "data": {
            "id": "009ee425-ca51-48e8-b22d-2e80bae822af",
            "source": "s60",
            "source_arrow_fill": "hollow",
            "source_arrow_shape": "triangle",
            "target": "s62",
            "target_arrow_shape": "triangle"
           }
          },
          {
           "data": {
            "id": "db3a613c-3ed2-46b8-be17-03f3fa145af7",
            "source": "s60",
            "source_arrow_fill": "hollow",
            "source_arrow_shape": "triangle",
            "target": "s55",
            "target_arrow_shape": "triangle"
           }
          },
          {
           "data": {
            "id": "0a037448-8a0d-432d-966a-d74b4b17a72f",
            "source": "s60",
            "source_arrow_fill": "hollow",
            "source_arrow_shape": "triangle",
            "target": "s48",
            "target_arrow_shape": "triangle"
           }
          },
          {
           "data": {
            "id": "32b6f6ba-c3c0-4a83-bfa8-18e1e90d29e1",
            "source": "s60",
            "source_arrow_fill": "hollow",
            "source_arrow_shape": "triangle",
            "target": "s20",
            "target_arrow_shape": "triangle"
           }
          },
          {
           "data": {
            "id": "1a64be66-2035-4dee-818d-40aa873c2295",
            "source": "s60",
            "source_arrow_fill": "hollow",
            "source_arrow_shape": "triangle",
            "target": "s63",
            "target_arrow_shape": "triangle"
           }
          },
          {
           "data": {
            "id": "0a28014d-99b3-405f-874b-57b00178dcf3",
            "source": "s60",
            "source_arrow_fill": "hollow",
            "source_arrow_shape": "triangle",
            "target": "s19",
            "target_arrow_shape": "triangle"
           }
          },
          {
           "data": {
            "id": "905dda1d-8067-4b4a-8adf-2fbfd7c925c0",
            "source": "s53",
            "source_arrow_fill": "hollow",
            "source_arrow_shape": "triangle",
            "target": "s55",
            "target_arrow_shape": "triangle"
           }
          },
          {
           "data": {
            "id": "c31b99ad-1c5a-467c-9977-aa7bd48de564",
            "source": "s53",
            "source_arrow_fill": "hollow",
            "source_arrow_shape": "triangle",
            "target": "s48",
            "target_arrow_shape": "triangle"
           }
          },
          {
           "data": {
            "id": "ce75b08f-b0c1-4ef2-9434-6156bad09289",
            "source": "s44",
            "source_arrow_fill": "hollow",
            "source_arrow_shape": "triangle",
            "target": "s37",
            "target_arrow_shape": "triangle"
           }
          },
          {
           "data": {
            "id": "a9897ce9-e19e-4d57-b9b9-8b1d5b64e4ae",
            "source": "s44",
            "source_arrow_fill": "hollow",
            "source_arrow_shape": "triangle",
            "target": "s15",
            "target_arrow_shape": "triangle"
           }
          },
          {
           "data": {
            "id": "cd12c489-0b19-4605-a752-98a00dd49d62",
            "source": "s13",
            "source_arrow_fill": "hollow",
            "source_arrow_shape": "triangle",
            "target": "s37",
            "target_arrow_shape": "triangle"
           }
          },
          {
           "data": {
            "id": "a312d598-84c8-40b1-a331-268f66204495",
            "source": "s13",
            "source_arrow_fill": "hollow",
            "source_arrow_shape": "triangle",
            "target": "s50",
            "target_arrow_shape": "triangle"
           }
          },
          {
           "data": {
            "id": "f292a4b5-41d8-4fd2-96fd-49b8b52afda7",
            "source": "s13",
            "source_arrow_fill": "hollow",
            "source_arrow_shape": "triangle",
            "target": "s42",
            "target_arrow_shape": "triangle"
           }
          },
          {
           "data": {
            "id": "a3d9df81-a8db-494a-a512-c20442ddbbbe",
            "source": "s13",
            "source_arrow_fill": "hollow",
            "source_arrow_shape": "triangle",
            "target": "s48",
            "target_arrow_shape": "triangle"
           }
          },
          {
           "data": {
            "id": "faaeea09-13ea-4575-bc9f-d81a8c1837a1",
            "source": "s5",
            "source_arrow_fill": "hollow",
            "source_arrow_shape": "triangle",
            "target": "s68",
            "target_arrow_shape": "triangle"
           }
          },
          {
           "data": {
            "id": "0ddac605-5723-486c-ae22-0113868362b9",
            "source": "s5",
            "source_arrow_fill": "hollow",
            "source_arrow_shape": "triangle",
            "target": "s71",
            "target_arrow_shape": "triangle"
           }
          },
          {
           "data": {
            "id": "79e5ed43-87bd-444e-8fe0-0ad9d1ec8db9",
            "source": "s6",
            "source_arrow_fill": "hollow",
            "source_arrow_shape": "triangle",
            "target": "s74",
            "target_arrow_shape": "triangle"
           }
          },
          {
           "data": {
            "id": "90728f47-f9d6-418a-8cea-555a0b89b5b2",
            "source": "s6",
            "source_arrow_fill": "hollow",
            "source_arrow_shape": "triangle",
            "target": "s75",
            "target_arrow_shape": "triangle"
           }
          },
          {
           "data": {
            "id": "c633fcf2-b0e0-45d7-9d17-245600600b6b",
            "source": "s6",
            "source_arrow_fill": "hollow",
            "source_arrow_shape": "triangle",
            "target": "s28",
            "target_arrow_shape": "triangle"
           }
          },
          {
           "data": {
            "id": "bf3eaaf2-1cd4-4c19-9d75-2d2dfe945873",
            "source": "s6",
            "source_arrow_fill": "hollow",
            "source_arrow_shape": "triangle",
            "target": "s31",
            "target_arrow_shape": "triangle"
           }
          },
          {
           "data": {
            "id": "26875e4c-77ed-40d7-9247-1d412c57da6d",
            "source": "s72",
            "source_arrow_fill": "hollow",
            "source_arrow_shape": "triangle",
            "target": "s10",
            "target_arrow_shape": "triangle"
           }
          },
          {
           "data": {
            "id": "ac6b1370-2a05-4cd6-904d-2f4c501ee59b",
            "source": "s72",
            "source_arrow_fill": "hollow",
            "source_arrow_shape": "triangle",
            "target": "s67",
            "target_arrow_shape": "triangle"
           }
          },
          {
           "data": {
            "id": "e667a4ab-88b4-456e-8165-0a105a60cbeb",
            "source": "s40",
            "source_arrow_fill": "hollow",
            "source_arrow_shape": "triangle",
            "target": "s46",
            "target_arrow_shape": "triangle"
           }
          },
          {
           "data": {
            "id": "ba758f35-8123-4a66-974a-ddfd0f16cbbd",
            "source": "s40",
            "source_arrow_fill": "hollow",
            "source_arrow_shape": "triangle",
            "target": "s3",
            "target_arrow_shape": "triangle"
           }
          },
          {
           "data": {
            "id": "b04024e4-02ea-4321-b938-9607bd635bf5",
            "source": "s20",
            "source_arrow_fill": "hollow",
            "source_arrow_shape": "triangle",
            "target": "s70",
            "target_arrow_shape": "triangle"
           }
          },
          {
           "data": {
            "id": "9fc5f9d4-85ed-438c-ba94-99a4e4b4caf9",
            "source": "s20",
            "source_arrow_fill": "hollow",
            "source_arrow_shape": "triangle",
            "target": "s63",
            "target_arrow_shape": "triangle"
           }
          },
          {
           "data": {
            "id": "7fa58b9d-f4da-40f6-9f84-981d3907e393",
            "source": "s20",
            "source_arrow_fill": "hollow",
            "source_arrow_shape": "triangle",
            "target": "s64",
            "target_arrow_shape": "triangle"
           }
          },
          {
           "data": {
            "id": "2e0c63da-3f7e-4b69-8e7b-dfcbe93d14b8",
            "source": "s61",
            "source_arrow_fill": "hollow",
            "source_arrow_shape": "triangle",
            "target": "s59",
            "target_arrow_shape": "triangle"
           }
          },
          {
           "data": {
            "id": "5315546e-1ede-4545-a846-e3c8570cfb20",
            "source": "s61",
            "source_arrow_fill": "hollow",
            "source_arrow_shape": "triangle",
            "target": "s64",
            "target_arrow_shape": "triangle"
           }
          },
          {
           "data": {
            "id": "e7d5e1f0-518c-433b-8f1c-8d9ab0bf339c",
            "source": "s61",
            "source_arrow_fill": "hollow",
            "source_arrow_shape": "triangle",
            "target": "s54",
            "target_arrow_shape": "triangle"
           }
          },
          {
           "data": {
            "id": "a1c650a6-1016-4743-a234-5d28c2a5e8b0",
            "source": "s35",
            "source_arrow_fill": "filled",
            "source_arrow_shape": "none",
            "target": "s39",
            "target_arrow_shape": "triangle"
           }
          },
          {
           "data": {
            "id": "9c2f4e84-b6c0-4b41-a20e-1c88a4d048b3",
            "source": "s35",
            "source_arrow_fill": "hollow",
            "source_arrow_shape": "triangle",
            "target": "s33",
            "target_arrow_shape": "triangle"
           }
          },
          {
           "data": {
            "id": "4619d8bf-e571-4837-9fd1-ecb254a52d35",
            "source": "s35",
            "source_arrow_fill": "hollow",
            "source_arrow_shape": "triangle",
            "target": "s9",
            "target_arrow_shape": "triangle"
           }
          },
          {
           "data": {
            "id": "a1550f71-0502-4ac2-896f-2912ab901a95",
            "source": "s23",
            "source_arrow_fill": "hollow",
            "source_arrow_shape": "triangle",
            "target": "s17",
            "target_arrow_shape": "triangle"
           }
          },
          {
           "data": {
            "id": "9c99ff78-3329-4ab4-a2bf-477a531abd0a",
            "source": "s23",
            "source_arrow_fill": "hollow",
            "source_arrow_shape": "triangle",
            "target": "s15",
            "target_arrow_shape": "triangle"
           }
          },
          {
           "data": {
            "id": "9ff87163-dff8-4885-9264-1f8af5a1410d",
            "source": "s66",
            "source_arrow_fill": "hollow",
            "source_arrow_shape": "triangle",
            "target": "s67",
            "target_arrow_shape": "triangle"
           }
          },
          {
           "data": {
            "id": "0346dc9b-fc0d-45f3-ad95-235d246a638d",
            "source": "s31",
            "source_arrow_fill": "hollow",
            "source_arrow_shape": "triangle",
            "target": "s28",
            "target_arrow_shape": "triangle"
           }
          },
          {
           "data": {
            "id": "210c49c9-db8e-4966-8aff-829694d274ac",
            "source": "s31",
            "source_arrow_fill": "filled",
            "source_arrow_shape": "none",
            "target": "s33",
            "target_arrow_shape": "triangle"
           }
          },
          {
           "data": {
            "id": "7021336b-76f7-4798-ba1d-37a8a8006d66",
            "source": "s56",
            "source_arrow_fill": "hollow",
            "source_arrow_shape": "triangle",
            "target": "s47",
            "target_arrow_shape": "triangle"
           }
          },
          {
           "data": {
            "id": "8e80d7d2-40b8-4955-89f0-649fe5b74d79",
            "source": "s56",
            "source_arrow_fill": "hollow",
            "source_arrow_shape": "triangle",
            "target": "s54",
            "target_arrow_shape": "triangle"
           }
          },
          {
           "data": {
            "id": "3515e54c-f311-4f48-86a8-7cadc5fea504",
            "source": "s50",
            "source_arrow_fill": "hollow",
            "source_arrow_shape": "triangle",
            "target": "s48",
            "target_arrow_shape": "triangle"
           }
          },
          {
           "data": {
            "id": "6d511b06-ac7b-4c2b-9bba-25d491243204",
            "source": "s3",
            "source_arrow_fill": "hollow",
            "source_arrow_shape": "triangle",
            "target": "s46",
            "target_arrow_shape": "triangle"
           }
          },
          {
           "data": {
            "id": "e7fde9d6-9e87-43de-bfb1-74389f17ad11",
            "source": "s3",
            "source_arrow_fill": "hollow",
            "source_arrow_shape": "triangle",
            "target": "s25",
            "target_arrow_shape": "triangle"
           }
          },
          {
           "data": {
            "id": "c015e92e-e836-46c3-bc1a-c947730cab55",
            "source": "s68",
            "source_arrow_fill": "hollow",
            "source_arrow_shape": "triangle",
            "target": "s65",
            "target_arrow_shape": "triangle"
           }
          },
          {
           "data": {
            "id": "838ce24a-556b-4655-a5e8-bf0e185bd2c0",
            "source": "s68",
            "source_arrow_fill": "hollow",
            "source_arrow_shape": "triangle",
            "target": "s71",
            "target_arrow_shape": "triangle"
           }
          },
          {
           "data": {
            "id": "7200a952-6c02-4d8a-943d-b7e8dea443ef",
            "source": "s51",
            "source_arrow_fill": "hollow",
            "source_arrow_shape": "triangle",
            "target": "s48",
            "target_arrow_shape": "triangle"
           }
          },
          {
           "data": {
            "id": "7b8ece3c-19ce-47b7-8e7d-cf4a204c845a",
            "source": "s51",
            "source_arrow_fill": "hollow",
            "source_arrow_shape": "triangle",
            "target": "s15",
            "target_arrow_shape": "triangle"
           }
          },
          {
           "data": {
            "id": "45d6aa72-42ce-4a60-8c24-9ec2ee5db59d",
            "source": "s54",
            "source_arrow_fill": "hollow",
            "source_arrow_shape": "triangle",
            "target": "s57",
            "target_arrow_shape": "triangle"
           }
          },
          {
           "data": {
            "id": "e5fc34cc-bf32-43d5-8314-bbc3021b3ed8",
            "source": "s54",
            "source_arrow_fill": "hollow",
            "source_arrow_shape": "triangle",
            "target": "s59",
            "target_arrow_shape": "triangle"
           }
          },
          {
           "data": {
            "id": "62a5eb70-0b6d-46c4-8691-752add1734f1",
            "source": "s54",
            "source_arrow_fill": "hollow",
            "source_arrow_shape": "triangle",
            "target": "s14",
            "target_arrow_shape": "triangle"
           }
          },
          {
           "data": {
            "id": "a05e13ac-6251-4012-98c2-83531ce906eb",
            "source": "s54",
            "source_arrow_fill": "hollow",
            "source_arrow_shape": "triangle",
            "target": "s15",
            "target_arrow_shape": "triangle"
           }
          },
          {
           "data": {
            "id": "758b02ea-1b5c-49cd-b5ae-ccd468b7cf9e",
            "source": "s54",
            "source_arrow_fill": "hollow",
            "source_arrow_shape": "triangle",
            "target": "s47",
            "target_arrow_shape": "triangle"
           }
          },
          {
           "data": {
            "id": "16c176f4-8e10-49e6-9963-09ffbbdc38c5",
            "source": "s54",
            "source_arrow_fill": "hollow",
            "source_arrow_shape": "triangle",
            "target": "s64",
            "target_arrow_shape": "triangle"
           }
          },
          {
           "data": {
            "id": "9d6c63c1-ea63-4b8f-9766-ecc6997e3a33",
            "source": "s10",
            "source_arrow_fill": "hollow",
            "source_arrow_shape": "triangle",
            "target": "s33",
            "target_arrow_shape": "triangle"
           }
          },
          {
           "data": {
            "id": "e8fd7eed-1f43-4673-9277-22aed923559c",
            "source": "s10",
            "source_arrow_fill": "hollow",
            "source_arrow_shape": "triangle",
            "target": "s67",
            "target_arrow_shape": "triangle"
           }
          },
          {
           "data": {
            "id": "afbbd0b3-8555-48d8-820a-cbd055f3c0c3",
            "source": "s10",
            "source_arrow_fill": "hollow",
            "source_arrow_shape": "triangle",
            "target": "s74",
            "target_arrow_shape": "triangle"
           }
          },
          {
           "data": {
            "id": "d5f1a986-1388-4c3a-9a50-5625607de324",
            "source": "s10",
            "source_arrow_fill": "hollow",
            "source_arrow_shape": "triangle",
            "target": "s76",
            "target_arrow_shape": "triangle"
           }
          },
          {
           "data": {
            "id": "ba956b7a-355c-4d34-b83c-96aeb46a2f7c",
            "source": "s52",
            "source_arrow_fill": "hollow",
            "source_arrow_shape": "triangle",
            "target": "s16",
            "target_arrow_shape": "triangle"
           }
          },
          {
           "data": {
            "id": "8d6e30d8-a631-48c3-b530-a6a0c60d795c",
            "source": "s52",
            "source_arrow_fill": "hollow",
            "source_arrow_shape": "triangle",
            "target": "s48",
            "target_arrow_shape": "triangle"
           }
          },
          {
           "data": {
            "id": "01828168-b130-41b3-808c-7c19e028ad0a",
            "source": "s55",
            "source_arrow_fill": "hollow",
            "source_arrow_shape": "triangle",
            "target": "s48",
            "target_arrow_shape": "triangle"
           }
          },
          {
           "data": {
            "id": "adb6e278-e8e0-4b41-a4e0-d2e93390cc70",
            "source": "s30",
            "source_arrow_fill": "hollow",
            "source_arrow_shape": "triangle",
            "target": "s28",
            "target_arrow_shape": "triangle"
           }
          },
          {
           "data": {
            "id": "f7cf1329-2c00-4ad6-84ad-12e711ad32f9",
            "source": "s8",
            "source_arrow_fill": "hollow",
            "source_arrow_shape": "triangle",
            "target": "s73",
            "target_arrow_shape": "triangle"
           }
          },
          {
           "data": {
            "id": "d16ac997-aaef-4fd8-837c-7d3866bd4be8",
            "source": "s8",
            "source_arrow_fill": "hollow",
            "source_arrow_shape": "triangle",
            "target": "s74",
            "target_arrow_shape": "triangle"
           }
          },
          {
           "data": {
            "id": "477c7ffb-2a1d-4c86-9715-f9f19de08b8d",
            "source": "s62",
            "source_arrow_fill": "filled",
            "source_arrow_shape": "none",
            "target": "s65",
            "target_arrow_shape": "triangle"
           }
          },
          {
           "data": {
            "id": "139695a1-ea51-4912-a06a-9c9670314192",
            "source": "s62",
            "source_arrow_fill": "hollow",
            "source_arrow_shape": "triangle",
            "target": "s19",
            "target_arrow_shape": "triangle"
           }
          },
          {
           "data": {
            "id": "0960f578-b414-4db2-9541-74c510e125d0",
            "source": "s75",
            "source_arrow_fill": "hollow",
            "source_arrow_shape": "triangle",
            "target": "s74",
            "target_arrow_shape": "triangle"
           }
          },
          {
           "data": {
            "id": "a8c115e4-f87c-489d-ac72-3df17bd9cb03",
            "source": "s75",
            "source_arrow_fill": "filled",
            "source_arrow_shape": "none",
            "target": "s33",
            "target_arrow_shape": "triangle"
           }
          },
          {
           "data": {
            "id": "f9bce7d4-9eee-46e8-810f-07012131a9e7",
            "source": "s76",
            "source_arrow_fill": "hollow",
            "source_arrow_shape": "triangle",
            "target": "s74",
            "target_arrow_shape": "triangle"
           }
          },
          {
           "data": {
            "id": "6d826dc4-d7c7-4cbd-bc2f-0154fa26b168",
            "source": "s9",
            "source_arrow_fill": "hollow",
            "source_arrow_shape": "triangle",
            "target": "s33",
            "target_arrow_shape": "triangle"
           }
          },
          {
           "data": {
            "id": "abffcf28-c46e-4183-a678-a2eed7fd762a",
            "source": "s12",
            "source_arrow_fill": "hollow",
            "source_arrow_shape": "triangle",
            "target": "s41",
            "target_arrow_shape": "triangle"
           }
          },
          {
           "data": {
            "id": "f0687441-8aae-4edf-be4e-e5402beccf6e",
            "source": "s12",
            "source_arrow_fill": "hollow",
            "source_arrow_shape": "triangle",
            "target": "s37",
            "target_arrow_shape": "triangle"
           }
          },
          {
           "data": {
            "id": "0b6ace39-3e8c-4ee3-b4a6-05045542af30",
            "source": "s57",
            "source_arrow_fill": "hollow",
            "source_arrow_shape": "triangle",
            "target": "s14",
            "target_arrow_shape": "triangle"
           }
          },
          {
           "data": {
            "id": "adddcb61-0006-4261-a44e-2760980e8f6b",
            "source": "s24",
            "source_arrow_fill": "hollow",
            "source_arrow_shape": "triangle",
            "target": "s16",
            "target_arrow_shape": "triangle"
           }
          },
          {
           "data": {
            "id": "d990ef4d-b676-4d0c-8214-b158cbe38005",
            "source": "s71",
            "source_arrow_fill": "filled",
            "source_arrow_shape": "none",
            "target": "s73",
            "target_arrow_shape": "triangle"
           }
          },
          {
           "data": {
            "id": "14a06a7c-f018-441f-9dcc-a9c34c9a6256",
            "source": "s2",
            "source_arrow_fill": "hollow",
            "source_arrow_shape": "triangle",
            "target": "s27",
            "target_arrow_shape": "triangle"
           }
          },
          {
           "data": {
            "id": "3150b8aa-5487-4970-b688-4ce180739997",
            "source": "s2",
            "source_arrow_fill": "hollow",
            "source_arrow_shape": "triangle",
            "target": "s25",
            "target_arrow_shape": "triangle"
           }
          },
          {
           "data": {
            "id": "50394fa8-ccc7-4c72-8bbd-5ef7bdc5d4d3",
            "source": "s63",
            "source_arrow_fill": "filled",
            "source_arrow_shape": "none",
            "target": "s66",
            "target_arrow_shape": "triangle"
           }
          },
          {
           "data": {
            "id": "77192549-992d-4535-b0c9-88a9abbc666d",
            "source": "s14",
            "source_arrow_fill": "hollow",
            "source_arrow_shape": "triangle",
            "target": "s22",
            "target_arrow_shape": "triangle"
           }
          },
          {
           "data": {
            "id": "f5d2444f-c6cb-4d14-bd7c-dbe025f369ba",
            "source": "s14",
            "source_arrow_fill": "hollow",
            "source_arrow_shape": "triangle",
            "target": "s17",
            "target_arrow_shape": "triangle"
           }
          },
          {
           "data": {
            "id": "95aa2e50-5363-42be-8015-15fa3e1140c2",
            "source": "s14",
            "source_arrow_fill": "hollow",
            "source_arrow_shape": "triangle",
            "target": "s37",
            "target_arrow_shape": "triangle"
           }
          },
          {
           "data": {
            "id": "e1750026-0ba3-4eb7-bdcf-2609c9dbc995",
            "source": "s14",
            "source_arrow_fill": "hollow",
            "source_arrow_shape": "triangle",
            "target": "s43",
            "target_arrow_shape": "triangle"
           }
          },
          {
           "data": {
            "id": "67e2a5a4-2683-4fba-aab9-38c33c3d2904",
            "source": "s0",
            "source_arrow_fill": "hollow",
            "source_arrow_shape": "triangle",
            "target": "s21",
            "target_arrow_shape": "triangle"
           }
          },
          {
           "data": {
            "id": "e37acca5-7725-4b4b-9d0d-54f78c0c3a2d",
            "source": "s0",
            "source_arrow_fill": "hollow",
            "source_arrow_shape": "triangle",
            "target": "s1",
            "target_arrow_shape": "triangle"
           }
          },
          {
           "data": {
            "id": "8db9b377-71bf-487a-abf7-4c2c451bb9ab",
            "source": "s15",
            "source_arrow_fill": "hollow",
            "source_arrow_shape": "triangle",
            "target": "s48",
            "target_arrow_shape": "triangle"
           }
          },
          {
           "data": {
            "id": "a361d373-bd81-47a8-8702-f6435be59f73",
            "source": "s15",
            "source_arrow_fill": "hollow",
            "source_arrow_shape": "triangle",
            "target": "s17",
            "target_arrow_shape": "triangle"
           }
          },
          {
           "data": {
            "id": "adac2061-5fab-4797-9936-3673fff6f040",
            "source": "s15",
            "source_arrow_fill": "hollow",
            "source_arrow_shape": "triangle",
            "target": "s37",
            "target_arrow_shape": "triangle"
           }
          },
          {
           "data": {
            "id": "0fc5debd-e851-4924-94d9-3a7a01c81fe1",
            "source": "s19",
            "source_arrow_fill": "hollow",
            "source_arrow_shape": "triangle",
            "target": "s64",
            "target_arrow_shape": "triangle"
           }
          },
          {
           "data": {
            "id": "94f2b479-3acb-4102-b795-9e27b7803bd6",
            "source": "s64",
            "source_arrow_fill": "hollow",
            "source_arrow_shape": "triangle",
            "target": "s70",
            "target_arrow_shape": "triangle"
           }
          },
          {
           "data": {
            "id": "e7def2a8-4730-4775-b461-f069385397e8",
            "source": "s28",
            "source_arrow_fill": "hollow",
            "source_arrow_shape": "triangle",
            "target": "s29",
            "target_arrow_shape": "triangle"
           }
          },
          {
           "data": {
            "id": "adb094a4-85b0-4a38-b4ca-ca31fcbd6cd9",
            "source": "s32",
            "source_arrow_fill": "hollow",
            "source_arrow_shape": "triangle",
            "target": "s37",
            "target_arrow_shape": "triangle"
           }
          },
          {
           "data": {
            "id": "25b43ec0-e2c1-4e7e-ac90-af0af752d813",
            "source": "s43",
            "source_arrow_fill": "hollow",
            "source_arrow_shape": "triangle",
            "target": "s37",
            "target_arrow_shape": "triangle"
           }
          },
          {
           "data": {
            "id": "227eb665-91fe-476d-817f-5faef2214f3a",
            "source": "s41",
            "source_arrow_fill": "hollow",
            "source_arrow_shape": "triangle",
            "target": "s37",
            "target_arrow_shape": "triangle"
           }
          },
          {
           "data": {
            "id": "12db0aa8-4f66-460e-aa34-8e0731625676",
            "source": "s41",
            "source_arrow_fill": "filled",
            "source_arrow_shape": "none",
            "target": "s47",
            "target_arrow_shape": "triangle"
           }
          },
          {
           "data": {
            "id": "e85ba597-2ab4-49c0-ac1d-56984e4c1428",
            "source": "s48",
            "source_arrow_fill": "hollow",
            "source_arrow_shape": "triangle",
            "target": "s16",
            "target_arrow_shape": "triangle"
           }
          },
          {
           "data": {
            "id": "55308749-dd31-4db5-9f50-d8286dd620e4",
            "source": "s7",
            "source_arrow_fill": "hollow",
            "source_arrow_shape": "triangle",
            "target": "s36",
            "target_arrow_shape": "triangle"
           }
          },
          {
           "data": {
            "id": "ea71f834-a933-4eb6-988b-baa3e8fe3201",
            "source": "s7",
            "source_arrow_fill": "hollow",
            "source_arrow_shape": "triangle",
            "target": "s33",
            "target_arrow_shape": "triangle"
           }
          },
          {
           "data": {
            "id": "614d4d05-c884-4415-8251-8e715c315b17",
            "source": "s1",
            "source_arrow_fill": "hollow",
            "source_arrow_shape": "triangle",
            "target": "s21",
            "target_arrow_shape": "triangle"
           }
          },
          {
           "data": {
            "id": "1b8fb4c1-49ee-4761-8bac-0767df9fcaa9",
            "source": "s21",
            "source_arrow_fill": "filled",
            "source_arrow_shape": "none",
            "target": "s25",
            "target_arrow_shape": "triangle"
           }
          },
          {
           "data": {
            "id": "38cf2688-dd88-4df3-b38b-705378f61a61",
            "source": "s33",
            "source_arrow_fill": "hollow",
            "source_arrow_shape": "triangle",
            "target": "s36",
            "target_arrow_shape": "triangle"
           }
          },
          {
           "data": {
            "id": "1c33b7af-7740-405e-b1de-dd12cbe59049",
            "source": "s70",
            "source_arrow_fill": "filled",
            "source_arrow_shape": "none",
            "target": "s66",
            "target_arrow_shape": "triangle"
           }
          },
          {
           "data": {
            "id": "31a2c369-fee7-48fb-b397-dd774be7a4af",
            "source": "s46",
            "source_arrow_fill": "filled",
            "source_arrow_shape": "none",
            "target": "s28",
            "target_arrow_shape": "triangle"
           }
          },
          {
           "data": {
            "id": "7f38ddc1-2c5a-4d64-90f9-707c34de1ad6",
            "source": "s45",
            "source_arrow_fill": "hollow",
            "source_arrow_shape": "triangle",
            "target": "s16",
            "target_arrow_shape": "triangle"
           }
          },
          {
           "data": {
            "id": "3ee7da8e-6b73-4f3c-8dd0-b4c3bbdbac6d",
            "source": "s45",
            "source_arrow_fill": "hollow",
            "source_arrow_shape": "triangle",
            "target": "s37",
            "target_arrow_shape": "triangle"
           }
          },
          {
           "data": {
            "id": "bd43dd2b-86cb-49a9-93dc-ef4ea62a6cbb",
            "source": "s16",
            "source_arrow_fill": "hollow",
            "source_arrow_shape": "triangle",
            "target": "s37",
            "target_arrow_shape": "triangle"
           }
          },
          {
           "data": {
            "id": "13c51546-5479-4b34-ba70-f7cda18fc669",
            "source": "s42",
            "source_arrow_fill": "hollow",
            "source_arrow_shape": "triangle",
            "target": "s37",
            "target_arrow_shape": "triangle"
           }
          },
          {
           "data": {
            "id": "2b18935f-e44b-45a4-a5bf-6147aed56959",
            "source": "s42",
            "source_arrow_fill": "filled",
            "source_arrow_shape": "none",
            "target": "s48",
            "target_arrow_shape": "triangle"
           }
          },
          {
           "data": {
            "id": "30ddd6ea-0a00-4809-a0da-66377bd8f7ef",
            "source": "s37",
            "source_arrow_fill": "hollow",
            "source_arrow_shape": "triangle",
            "target": "s49",
            "target_arrow_shape": "triangle"
           }
          },
          {
           "data": {
            "id": "f1cf87d0-67c4-4840-89e9-6f214f9260e7",
            "source": "s37",
            "source_arrow_fill": "hollow",
            "source_arrow_shape": "triangle",
            "target": "s47",
            "target_arrow_shape": "triangle"
           }
          },
          {
           "data": {
            "id": "47a4aef6-2455-47d4-9413-ecf49a9bc57a",
            "source": "s22",
            "source_arrow_fill": "hollow",
            "source_arrow_shape": "triangle",
            "target": "s17",
            "target_arrow_shape": "triangle"
           }
          },
          {
           "data": {
            "id": "ce16c34a-7e60-4c46-b368-dd2aaee81823",
            "source": "s25",
            "source_arrow_fill": "hollow",
            "source_arrow_shape": "triangle",
            "target": "s27",
            "target_arrow_shape": "triangle"
           }
          },
          {
           "data": {
            "id": "b0faf144-f4ee-410f-b0af-3761e472be60",
            "source": "s29",
            "source_arrow_fill": "filled",
            "source_arrow_shape": "none",
            "target": "s32",
            "target_arrow_shape": "triangle"
           }
          },
          {
           "data": {
            "id": "c5e64b58-4d2a-44ee-a81d-271439e6e097",
            "source": "s36",
            "source_arrow_fill": "filled",
            "source_arrow_shape": "none",
            "target": "s40",
            "target_arrow_shape": "triangle"
           }
          },
          {
           "data": {
            "id": "17948538-a147-4d6f-b6f9-d69f6a502f42",
            "source": "s73",
            "source_arrow_fill": "hollow",
            "source_arrow_shape": "triangle",
            "target": "s74",
            "target_arrow_shape": "triangle"
           }
          },
          {
           "data": {
            "id": "8f5e0f8b-af21-4a60-a798-a7a3de864d70",
            "source": "s49",
            "source_arrow_fill": "hollow",
            "source_arrow_shape": "triangle",
            "target": "s47",
            "target_arrow_shape": "triangle"
           }
          },
          {
           "data": {
            "id": "f43e554d-de0d-4d05-b2b6-c4125d842c01",
            "source": "s49",
            "source_arrow_fill": "filled",
            "source_arrow_shape": "none",
            "target": "s54",
            "target_arrow_shape": "triangle"
           }
          }
         ],
         "nodes": [
          {
           "data": {
            "NodeType": "species",
            "background_color": "#2b913a",
            "bipartite": 0,
            "id": "s34",
            "label": "aC3-XIAP",
            "name": "s34",
            "shape": "ellipse",
            "spInitial": 0
           },
           "position": {
            "x": 495.8906302741351,
            "y": 161.70531212947242
           }
          },
          {
           "data": {
            "NodeType": "species",
            "background_color": "#2b913a",
            "bipartite": 0,
            "id": "s69",
            "label": "4aBax-mCytoC",
            "name": "s69",
            "shape": "ellipse",
            "spInitial": 0
           },
           "position": {
            "x": 986.2156932777374,
            "y": 438.45129083966253
           }
          },
          {
           "data": {
            "NodeType": "species",
            "background_color": "#2b913a",
            "bipartite": 0,
            "id": "s39",
            "label": "cPARP",
            "name": "s39",
            "shape": "ellipse",
            "spInitial": 0
           },
           "position": {
            "x": 138.09284926382713,
            "y": 133.77190745657435
           }
          },
          {
           "data": {
            "NodeType": "species",
            "background_color": "#2b913a",
            "bipartite": 0,
            "id": "s58",
            "label": "aBax-mBclxL",
            "name": "s58",
            "shape": "ellipse",
            "spInitial": 0
           },
           "position": {
            "x": 874.7957231338179,
            "y": 749.5389781193185
           }
          },
          {
           "data": {
            "NodeType": "species",
            "background_color": "#aaffff",
            "bipartite": 0,
            "id": "s18",
            "label": "mNoxa",
            "name": "s18",
            "shape": "ellipse",
            "spInitial": 1000
           },
           "position": {
            "x": 391.38696348904796,
            "y": 687.6337157002013
           }
          },
          {
           "data": {
            "NodeType": "species",
            "background_color": "#aaffff",
            "bipartite": 0,
            "id": "s4",
            "label": "BAR",
            "name": "s4",
            "shape": "ellipse",
            "spInitial": 1000
           },
           "position": {
            "x": 417.8731246247986,
            "y": 483.38629612743523
           }
          },
          {
           "data": {
            "NodeType": "species",
            "background_color": "#aaffff",
            "bipartite": 0,
            "id": "s11",
            "label": "uBid",
            "name": "s11",
            "shape": "ellipse",
            "spInitial": 40000
           },
           "position": {
            "x": 480.02545739015216,
            "y": 374.7415747740598
           }
          },
          {
           "data": {
            "NodeType": "species",
            "background_color": "#2b913a",
            "bipartite": 0,
            "id": "s26",
            "label": "proC8-DISC",
            "name": "s26",
            "shape": "ellipse",
            "spInitial": 0
           },
           "position": {
            "x": 271.86862149486547,
            "y": 415.31247448482304
           }
          },
          {
           "data": {
            "NodeType": "species",
            "background_color": "#2b913a",
            "bipartite": 0,
            "id": "s60",
            "label": "4aBak",
            "name": "s60",
            "shape": "ellipse",
            "spInitial": 0
           },
           "position": {
            "x": 740.7732818314067,
            "y": 527.2633222782551
           }
          },
          {
           "data": {
            "NodeType": "species",
            "background_color": "#2b913a",
            "bipartite": 0,
            "id": "s53",
            "label": "2aBak",
            "name": "s53",
            "shape": "ellipse",
            "spInitial": 0
           },
           "position": {
            "x": 682.5254192418175,
            "y": 587.3070766379437
           }
          },
          {
           "data": {
            "NodeType": "species",
            "background_color": "#2b913a",
            "bipartite": 0,
            "id": "s44",
            "label": "mBclxL-mBid",
            "name": "s44",
            "shape": "ellipse",
            "spInitial": 0
           },
           "position": {
            "x": 565.2313299479785,
            "y": 780.2319735806357
           }
          },
          {
           "data": {
            "NodeType": "species",
            "background_color": "#aaffff",
            "bipartite": 0,
            "id": "s13",
            "label": "mBak",
            "name": "s13",
            "shape": "ellipse",
            "spInitial": 20000
           },
           "position": {
            "x": 546.1875547390224,
            "y": 651.8282158990294
           }
          },
          {
           "data": {
            "NodeType": "species",
            "background_color": "#aaffff",
            "bipartite": 0,
            "id": "s5",
            "label": "iApaf",
            "name": "s5",
            "shape": "ellipse",
            "spInitial": 100000
           },
           "position": {
            "x": 931.5698450563171,
            "y": 170.00773669332352
           }
          },
          {
           "data": {
            "NodeType": "species",
            "background_color": "#aaffff",
            "bipartite": 0,
            "id": "s6",
            "label": "proC3",
            "name": "s6",
            "shape": "ellipse",
            "spInitial": 10000
           },
           "position": {
            "x": 466.62762190160413,
            "y": 233.59397698788132
           }
          },
          {
           "data": {
            "NodeType": "species",
            "background_color": "#2b913a",
            "bipartite": 0,
            "id": "s72",
            "label": "aSmac-XIAP",
            "name": "s72",
            "shape": "ellipse",
            "spInitial": 0
           },
           "position": {
            "x": 656.4966658488637,
            "y": 285.31045659972324
           }
          },
          {
           "data": {
            "NodeType": "species",
            "background_color": "#2b913a",
            "bipartite": 0,
            "id": "s40",
            "label": "aC6",
            "name": "s40",
            "shape": "ellipse",
            "spInitial": 0
           },
           "position": {
            "x": 185.68294348055622,
            "y": 270.4069840896075
           }
          },
          {
           "data": {
            "NodeType": "species",
            "background_color": "#aaffff",
            "bipartite": 0,
            "id": "s20",
            "label": "mSmac",
            "name": "s20",
            "shape": "ellipse",
            "spInitial": 100000
           },
           "position": {
            "x": 731.973606064122,
            "y": 443.85259005962087
           }
          },
          {
           "data": {
            "NodeType": "species",
            "background_color": "#2b913a",
            "bipartite": 0,
            "id": "s61",
            "label": "3aBax",
            "name": "s61",
            "shape": "ellipse",
            "spInitial": 0
           },
           "position": {
            "x": 941.8077701974847,
            "y": 585.3979314302571
           }
          },
          {
           "data": {
            "NodeType": "species",
            "background_color": "#2b913a",
            "bipartite": 0,
            "id": "s35",
            "label": "aC3-uPARP",
            "name": "s35",
            "shape": "ellipse",
            "spInitial": 0
           },
           "position": {
            "x": 260.5923557356624,
            "y": 159.1104505993378
           }
          },
          {
           "data": {
            "NodeType": "species",
            "background_color": "#2b913a",
            "bipartite": 0,
            "id": "s23",
            "label": "mBad-mBclxL",
            "name": "s23",
            "shape": "ellipse",
            "spInitial": 0
           },
           "position": {
            "x": 652.4623269181408,
            "y": 882.3519471246775
           }
          },
          {
           "data": {
            "NodeType": "species",
            "background_color": "#2b913a",
            "bipartite": 0,
            "id": "s66",
            "label": "cSmac",
            "name": "s66",
            "shape": "ellipse",
            "spInitial": 0
           },
           "position": {
            "x": 669.8320274559491,
            "y": 361.4979352437846
           }
          },
          {
           "data": {
            "NodeType": "species",
            "background_color": "#2b913a",
            "bipartite": 0,
            "id": "s31",
            "label": "proC3-aC8",
            "name": "s31",
            "shape": "ellipse",
            "spInitial": 0
           },
           "position": {
            "x": 381.3599825507472,
            "y": 294.4033788313292
           }
          },
          {
           "data": {
            "NodeType": "species",
            "background_color": "#2b913a",
            "bipartite": 0,
            "id": "s56",
            "label": "aBax-mBax",
            "name": "s56",
            "shape": "ellipse",
            "spInitial": 0
           },
           "position": {
            "x": 941.1484210179409,
            "y": 684.3038194873843
           }
          },
          {
           "data": {
            "NodeType": "species",
            "background_color": "#2b913a",
            "bipartite": 0,
            "id": "s50",
            "label": "aBak-mBak",
            "name": "s50",
            "shape": "ellipse",
            "spInitial": 0
           },
           "position": {
            "x": 507.13753252130584,
            "y": 549.5673014409404
           }
          },
          {
           "data": {
            "NodeType": "species",
            "background_color": "#aaffff",
            "bipartite": 0,
            "id": "s3",
            "label": "proC8",
            "name": "s3",
            "shape": "ellipse",
            "spInitial": 20000
           },
           "position": {
            "x": 158.1439811223746,
            "y": 367.38128869562956
           }
          },
          {
           "data": {
            "NodeType": "species",
            "background_color": "#2b913a",
            "bipartite": 0,
            "id": "s68",
            "label": "aCytoC",
            "name": "s68",
            "shape": "ellipse",
            "spInitial": 0
           },
           "position": {
            "x": 871.7858803645082,
            "y": 262.35960479951916
           }
          },
          {
           "data": {
            "NodeType": "species",
            "background_color": "#2b913a",
            "bipartite": 0,
            "id": "s51",
            "label": "aBak-mBclxL",
            "name": "s51",
            "shape": "ellipse",
            "spInitial": 0
           },
           "position": {
            "x": 769.5637796103355,
            "y": 629.6008408027285
           }
          },
          {
           "data": {
            "NodeType": "species",
            "background_color": "#2b913a",
            "bipartite": 0,
            "id": "s65",
            "label": "cCytoC",
            "name": "s65",
            "shape": "ellipse",
            "spInitial": 0
           },
           "position": {
            "x": 913.6664774677241,
            "y": 365.03687894698385
           }
          },
          {
           "data": {
            "NodeType": "species",
            "background_color": "#2b913a",
            "bipartite": 0,
            "id": "s54",
            "label": "aBax",
            "name": "s54",
            "shape": "ellipse",
            "spInitial": 0
           },
           "position": {
            "x": 844.1403537748266,
            "y": 673.5567808942089
           }
          },
          {
           "data": {
            "NodeType": "species",
            "background_color": "#aaffff",
            "bipartite": 0,
            "id": "s10",
            "label": "XIAP",
            "name": "s10",
            "shape": "ellipse",
            "spInitial": 100000
           },
           "position": {
            "x": 532.3370267037936,
            "y": 246.2095486290359
           }
          },
          {
           "data": {
            "NodeType": "species",
            "background_color": "#2b913a",
            "bipartite": 0,
            "id": "s52",
            "label": "aBak-mMcl1",
            "name": "s52",
            "shape": "ellipse",
            "spInitial": 0
           },
           "position": {
            "x": 463.3673444219078,
            "y": 618.0905272584423
           }
          },
          {
           "data": {
            "NodeType": "species",
            "background_color": "#2b913a",
            "bipartite": 0,
            "id": "s55",
            "label": "3aBak",
            "name": "s55",
            "shape": "ellipse",
            "spInitial": 0
           },
           "position": {
            "x": 630.2256037373296,
            "y": 518.0483002690128
           }
          },
          {
           "data": {
            "NodeType": "species",
            "background_color": "#2b913a",
            "bipartite": 0,
            "id": "s59",
            "label": "2aBax",
            "name": "s59",
            "shape": "ellipse",
            "spInitial": 0
           },
           "position": {
            "x": 866.9735030666922,
            "y": 591.0252155246403
           }
          },
          {
           "data": {
            "NodeType": "species",
            "background_color": "#2b913a",
            "bipartite": 0,
            "id": "s30",
            "label": "BAR-aC8",
            "name": "s30",
            "shape": "ellipse",
            "spInitial": 0
           },
           "position": {
            "x": 327.42073970677404,
            "y": 481.90392686328346
           }
          },
          {
           "data": {
            "NodeType": "species",
            "background_color": "#aaffff",
            "bipartite": 0,
            "id": "s8",
            "label": "C9",
            "name": "s8",
            "shape": "ellipse",
            "spInitial": 100000
           },
           "position": {
            "x": 606.2556665262986,
            "y": 39
           }
          },
          {
           "data": {
            "NodeType": "species",
            "background_color": "#2b913a",
            "bipartite": 0,
            "id": "s62",
            "label": "4aBak-mCytoC",
            "name": "s62",
            "shape": "ellipse",
            "spInitial": 0
           },
           "position": {
            "x": 919.1327340821794,
            "y": 494.8332753249349
           }
          },
          {
           "data": {
            "NodeType": "species",
            "background_color": "#2b913a",
            "bipartite": 0,
            "id": "s75",
            "label": "Apop-proC3",
            "name": "s75",
            "shape": "ellipse",
            "spInitial": 0
           },
           "position": {
            "x": 448.10431009506055,
            "y": 101.48015556434268
           }
          },
          {
           "data": {
            "NodeType": "species",
            "background_color": "#2b913a",
            "bipartite": 0,
            "id": "s76",
            "label": "Apop-XIAP",
            "name": "s76",
            "shape": "ellipse",
            "spInitial": 0
           },
           "position": {
            "x": 668.7201440878006,
            "y": 213.6770241121585
           }
          },
          {
           "data": {
            "NodeType": "species",
            "background_color": "#aaffff",
            "bipartite": 0,
            "id": "s9",
            "label": "uPARP",
            "name": "s9",
            "shape": "ellipse",
            "spInitial": 1000000
           },
           "position": {
            "x": 338.62264912439616,
            "y": 70.4909991039666
           }
          },
          {
           "data": {
            "NodeType": "species",
            "background_color": "#aaffff",
            "bipartite": 0,
            "id": "s12",
            "label": "cBax",
            "name": "s12",
            "shape": "ellipse",
            "spInitial": 80000
           },
           "position": {
            "x": 574.8720657192006,
            "y": 843.7053632153127
           }
          },
          {
           "data": {
            "NodeType": "species",
            "background_color": "#2b913a",
            "bipartite": 0,
            "id": "s57",
            "label": "aBax-mBcl2",
            "name": "s57",
            "shape": "ellipse",
            "spInitial": 0
           },
           "position": {
            "x": 950.1089784250315,
            "y": 807.1548425512246
           }
          },
          {
           "data": {
            "NodeType": "species",
            "background_color": "#2b913a",
            "bipartite": 0,
            "id": "s24",
            "label": "mMcl1-mNoxa",
            "name": "s24",
            "shape": "ellipse",
            "spInitial": 0
           },
           "position": {
            "x": 359.6869183569463,
            "y": 778.8709884285656
           }
          },
          {
           "data": {
            "NodeType": "species",
            "background_color": "#2b913a",
            "bipartite": 0,
            "id": "s71",
            "label": "iApaf-aCytoC",
            "name": "s71",
            "shape": "ellipse",
            "spInitial": 0
           },
           "position": {
            "x": 808.0909626716249,
            "y": 165.50563632614274
           }
          },
          {
           "data": {
            "NodeType": "species",
            "background_color": "#aaffff",
            "bipartite": 0,
            "id": "s2",
            "label": "flip",
            "name": "s2",
            "shape": "ellipse",
            "spInitial": 100
           },
           "position": {
            "x": 73.58947927241275,
            "y": 524.6062235308486
           }
          },
          {
           "data": {
            "NodeType": "species",
            "background_color": "#2b913a",
            "bipartite": 0,
            "id": "s63",
            "label": "4aBak-mSmac",
            "name": "s63",
            "shape": "ellipse",
            "spInitial": 0
           },
           "position": {
            "x": 615.08492076858,
            "y": 448.1235399072814
           }
          },
          {
           "data": {
            "NodeType": "species",
            "background_color": "#aaffff",
            "bipartite": 0,
            "id": "s14",
            "label": "mBcl2",
            "name": "s14",
            "shape": "ellipse",
            "spInitial": 20000
           },
           "position": {
            "x": 797.5013451565873,
            "y": 796.1589130507859
           }
          },
          {
           "data": {
            "NodeType": "species",
            "background_color": "#2b913a",
            "bipartite": 0,
            "id": "s38",
            "label": "ubC3",
            "name": "s38",
            "shape": "ellipse",
            "spInitial": 0
           },
           "position": {
            "x": 590.253239988982,
            "y": 210.0506129673031
           }
          },
          {
           "data": {
            "NodeType": "species",
            "background_color": "#aaffff",
            "bipartite": 0,
            "id": "s0",
            "label": "L",
            "name": "s0",
            "shape": "ellipse",
            "spInitial": 3000
           },
           "position": {
            "x": 208.4953004942871,
            "y": 670.6150255794753
           }
          },
          {
           "data": {
            "NodeType": "species",
            "background_color": "#2b913a",
            "bipartite": 0,
            "id": "s67",
            "label": "aSmac",
            "name": "s67",
            "shape": "ellipse",
            "spInitial": 0
           },
           "position": {
            "x": 558.9548639304952,
            "y": 349.58515171966394
           }
          },
          {
           "data": {
            "NodeType": "species",
            "background_color": "#aaffff",
            "bipartite": 0,
            "id": "s15",
            "label": "mBclxL",
            "name": "s15",
            "shape": "ellipse",
            "spInitial": 20000
           },
           "position": {
            "x": 722.7225855523712,
            "y": 756.2305635375424
           }
          },
          {
           "data": {
            "NodeType": "species",
            "background_color": "#aaffff",
            "bipartite": 0,
            "id": "s19",
            "label": "mCytoC",
            "name": "s19",
            "shape": "ellipse",
            "spInitial": 500000
           },
           "position": {
            "x": 827.8175093559267,
            "y": 438.37089583910335
           }
          },
          {
           "data": {
            "NodeType": "species",
            "background_color": "#2b913a",
            "bipartite": 0,
            "id": "s64",
            "label": "4aBax",
            "name": "s64",
            "shape": "ellipse",
            "spInitial": 0
           },
           "position": {
            "x": 827.623333718257,
            "y": 525.1536914316914
           }
          },
          {
           "data": {
            "NodeType": "species",
            "background_color": "#2b913a",
            "bipartite": 0,
            "id": "s28",
            "label": "aC8",
            "name": "s28",
            "shape": "ellipse",
            "spInitial": 0
           },
           "position": {
            "x": 398.735497856974,
            "y": 379.8517216364959
           }
          },
          {
           "data": {
            "NodeType": "species",
            "background_color": "#2b913a",
            "bipartite": 0,
            "id": "s32",
            "label": "tBid",
            "name": "s32",
            "shape": "ellipse",
            "spInitial": 0
           },
           "position": {
            "x": 578.1606311411739,
            "y": 582.3419285822038
           }
          },
          {
           "data": {
            "NodeType": "species",
            "background_color": "#2b913a",
            "bipartite": 0,
            "id": "s43",
            "label": "mBcl2-mBid",
            "name": "s43",
            "shape": "ellipse",
            "spInitial": 0
           },
           "position": {
            "x": 743.6279666531206,
            "y": 923.8593094897442
           }
          },
          {
           "data": {
            "NodeType": "species",
            "background_color": "#2b913a",
            "bipartite": 0,
            "id": "s41",
            "label": "cBax-mBid",
            "name": "s41",
            "shape": "ellipse",
            "spInitial": 0
           },
           "position": {
            "x": 714.672146263482,
            "y": 827.1601282404138
           }
          },
          {
           "data": {
            "NodeType": "species",
            "background_color": "#2b913a",
            "bipartite": 0,
            "id": "s48",
            "label": "aBak",
            "name": "s48",
            "shape": "ellipse",
            "spInitial": 0
           },
           "position": {
            "x": 627.1889205327935,
            "y": 644.7254031942525
           }
          },
          {
           "data": {
            "NodeType": "species",
            "background_color": "#aaffff",
            "bipartite": 0,
            "id": "s7",
            "label": "proC6",
            "name": "s7",
            "shape": "ellipse",
            "spInitial": 10000
           },
           "position": {
            "x": 345.7593325287078,
            "y": 135.4074139181995
           }
          },
          {
           "data": {
            "NodeType": "species",
            "background_color": "#aaffff",
            "bipartite": 0,
            "id": "s1",
            "label": "R",
            "name": "s1",
            "shape": "ellipse",
            "spInitial": 200
           },
           "position": {
            "x": 123.76655064353167,
            "y": 665.1292544117443
           }
          },
          {
           "data": {
            "NodeType": "species",
            "background_color": "#2b913a",
            "bipartite": 0,
            "id": "s21",
            "label": "L-R",
            "name": "s21",
            "shape": "ellipse",
            "spInitial": 0
           },
           "position": {
            "x": 182.18606089550815,
            "y": 570.8731835751262
           }
          },
          {
           "data": {
            "NodeType": "species",
            "background_color": "#2b913a",
            "bipartite": 0,
            "id": "s33",
            "label": "aC3",
            "name": "s33",
            "shape": "ellipse",
            "spInitial": 0
           },
           "position": {
            "x": 402.3819141558638,
            "y": 196.8123916377316
           }
          },
          {
           "data": {
            "NodeType": "species",
            "background_color": "#2b913a",
            "bipartite": 0,
            "id": "s70",
            "label": "4aBax-mSmac",
            "name": "s70",
            "shape": "ellipse",
            "spInitial": 0
           },
           "position": {
            "x": 805.3158173417302,
            "y": 374.7003350005973
           }
          },
          {
           "data": {
            "NodeType": "species",
            "background_color": "#2b913a",
            "bipartite": 0,
            "id": "s46",
            "label": "aC6-proC8",
            "name": "s46",
            "shape": "ellipse",
            "spInitial": 0
           },
           "position": {
            "x": 276.4345650170203,
            "y": 339.72088680406864
           }
          },
          {
           "data": {
            "NodeType": "species",
            "background_color": "#2b913a",
            "bipartite": 0,
            "id": "s45",
            "label": "mBid-mMcl1",
            "name": "s45",
            "shape": "ellipse",
            "spInitial": 0
           },
           "position": {
            "x": 487.4014170186864,
            "y": 835.0019163796348
           }
          },
          {
           "data": {
            "NodeType": "species",
            "background_color": "#aaffff",
            "bipartite": 0,
            "id": "s16",
            "label": "mMcl1",
            "name": "s16",
            "shape": "ellipse",
            "spInitial": 20000
           },
           "position": {
            "x": 499.82804323142466,
            "y": 721.7859689780869
           }
          },
          {
           "data": {
            "NodeType": "species",
            "background_color": "#2b913a",
            "bipartite": 0,
            "id": "s42",
            "label": "mBak-mBid",
            "name": "s42",
            "shape": "ellipse",
            "spInitial": 0
           },
           "position": {
            "x": 583.3141267806899,
            "y": 714.711314937103
           }
          },
          {
           "data": {
            "NodeType": "species",
            "background_color": "#2b913a",
            "bipartite": 0,
            "id": "s37",
            "label": "mBid",
            "name": "s37",
            "shape": "ellipse",
            "spInitial": 0
           },
           "position": {
            "x": 651.9395421246303,
            "y": 762.0050731550134
           }
          },
          {
           "data": {
            "NodeType": "species",
            "background_color": "#2b913a",
            "bipartite": 0,
            "id": "s22",
            "label": "mBad-mBcl2",
            "name": "s22",
            "shape": "ellipse",
            "spInitial": 0
           },
           "position": {
            "x": 910.5252467676304,
            "y": 883.2369207268198
           }
          },
          {
           "data": {
            "NodeType": "species",
            "background_color": "#2b913a",
            "bipartite": 0,
            "id": "s25",
            "label": "DISC",
            "name": "s25",
            "shape": "ellipse",
            "spInitial": 0
           },
           "position": {
            "x": 154.2913879007907,
            "y": 469.1171118743706
           }
          },
          {
           "data": {
            "NodeType": "species",
            "background_color": "#2b913a",
            "bipartite": 0,
            "id": "s29",
            "label": "uBid-aC8",
            "name": "s29",
            "shape": "ellipse",
            "spInitial": 0
           },
           "position": {
            "x": 496.9622324307237,
            "y": 472.4206874063027
           }
          },
          {
           "data": {
            "NodeType": "species",
            "background_color": "#aaffff",
            "bipartite": 0,
            "id": "s17",
            "label": "mBad",
            "name": "s17",
            "shape": "ellipse",
            "spInitial": 1000
           },
           "position": {
            "x": 801.382160319671,
            "y": 868.6414161072848
           }
          },
          {
           "data": {
            "NodeType": "species",
            "background_color": "#2b913a",
            "bipartite": 0,
            "id": "s36",
            "label": "aC3-proC6",
            "name": "s36",
            "shape": "ellipse",
            "spInitial": 0
           },
           "position": {
            "x": 291.7351686425699,
            "y": 231.23821689645047
           }
          },
          {
           "data": {
            "NodeType": "species",
            "background_color": "#2b913a",
            "bipartite": 0,
            "id": "s73",
            "label": "aApaf",
            "name": "s73",
            "shape": "ellipse",
            "spInitial": 0
           },
           "position": {
            "x": 678.1291516084824,
            "y": 120.08558168321952
           }
          },
          {
           "data": {
            "NodeType": "species",
            "background_color": "#2b913a",
            "bipartite": 0,
            "id": "s27",
            "label": "DISC-flip",
            "name": "s27",
            "shape": "ellipse",
            "spInitial": 0
           },
           "position": {
            "x": 48.5,
            "y": 426.8605928496846
           }
          },
          {
           "data": {
            "NodeType": "species",
            "background_color": "#2b913a",
            "bipartite": 0,
            "id": "s74",
            "label": "Apop",
            "name": "s74",
            "shape": "ellipse",
            "spInitial": 0
           },
           "position": {
            "x": 571.8332347388513,
            "y": 139.57132478254607
           }
          },
          {
           "data": {
            "NodeType": "species",
            "background_color": "#2b913a",
            "bipartite": 0,
            "id": "s49",
            "label": "mBax-mBid",
            "name": "s49",
            "shape": "ellipse",
            "spInitial": 0
           },
           "position": {
            "x": 698.3634339065835,
            "y": 684.7823958718932
           }
          },
          {
           "data": {
            "NodeType": "species",
            "background_color": "#2b913a",
            "bipartite": 0,
            "id": "s47",
            "label": "mBax",
            "name": "s47",
            "shape": "ellipse",
            "spInitial": 0
           },
           "position": {
            "x": 783.0964252549526,
            "y": 719.5738722235587
           }
          }
         ]
        }
       },
       "format": "cyjs",
       "layout": "IPY_MODEL_0ea05cf041e94b11b16f11aaea1fb483",
       "layout_name": "cose-bilkent",
       "process": "consumption",
       "sim_idx": 0,
       "type_of_viz": "projected_species_rules_view",
       "visual_style": null
      }
     },
     "c8fcd6c3ba8e4786884355176e92a4cf": {
      "model_module": "@jupyter-widgets/base",
      "model_module_version": "1.1.0",
      "model_name": "LayoutModel",
      "state": {}
     },
     "e1b36012fd904fbcaa759d9c08cf8bae": {
      "model_module": "pyvipr",
      "model_module_version": "^0.1.17",
      "model_name": "CytoscapeModel",
      "state": {
       "background": "#FFFFFF",
       "data": {
        "data": {
         "graph": {
          "rankdir": "LR"
         },
         "name": "pysb",
         "paths": []
        },
        "elements": {
         "edges": [
          {
           "data": {
            "arrowhead": "normal",
            "id": "571b60a7-3937-4967-a5e3-e2b91dc51019",
            "source": "s0",
            "source_arrow_fill": "hollow",
            "source_arrow_shape": "diamond",
            "target": "s3",
            "target_arrow_shape": "triangle"
           }
          },
          {
           "data": {
            "arrowhead": "normal",
            "id": "7c844528-4327-4eb9-8a67-75bf897ca165",
            "source": "s2",
            "source_arrow_fill": "hollow",
            "source_arrow_shape": "diamond",
            "target": "s3",
            "target_arrow_shape": "triangle"
           }
          },
          {
           "data": {
            "arrowhead": "normal",
            "id": "2d4fab25-3cb5-4b25-a519-824391a26376",
            "source": "s3",
            "source_arrow_fill": "hollow",
            "source_arrow_shape": "diamond",
            "target": "s4",
            "target_arrow_shape": "triangle"
           }
          }
         ],
         "nodes": [
          {
           "data": {
            "NodeType": "species",
            "background_color": "#aaffff",
            "id": "s0",
            "label": "K",
            "name": "s0",
            "shape": "ellipse",
            "spInitial": 1000
           },
           "position": {
            "x": 27,
            "y": 72
           }
          },
          {
           "data": {
            "NodeType": "species",
            "background_color": "#aaffff",
            "id": "s1",
            "label": "P",
            "name": "s1",
            "shape": "ellipse",
            "spInitial": 1000
           },
           "position": {
            "x": 122.32736209406576,
            "y": 116.07744929875896
           }
          },
          {
           "data": {
            "NodeType": "species",
            "background_color": "#aaffff",
            "id": "s2",
            "label": "uS",
            "name": "s2",
            "shape": "ellipse",
            "spInitial": 10000
           },
           "position": {
            "x": 27,
            "y": 18
           }
          },
          {
           "data": {
            "NodeType": "species",
            "background_color": "#2b913a",
            "id": "s3",
            "label": "K-uS",
            "name": "s3",
            "shape": "ellipse",
            "spInitial": 0
           },
           "position": {
            "x": 118.78,
            "y": 45
           }
          },
          {
           "data": {
            "NodeType": "species",
            "background_color": "#2b913a",
            "id": "s4",
            "label": "K-pS",
            "name": "s4",
            "shape": "ellipse",
            "spInitial": 0
           },
           "position": {
            "x": 212.33,
            "y": 45
           }
          }
         ]
        }
       },
       "format": "cyjs",
       "layout": "IPY_MODEL_367aa1ec94f64adfbafd3b2599810ba9",
       "layout_name": "preset",
       "process": "consumption",
       "sim_idx": 0,
       "type_of_viz": "species_view",
       "visual_style": null
      }
     },
     "ef95a37bd9b14e6bb93d9b0d7c1aeb53": {
      "model_module": "@jupyter-widgets/base",
      "model_module_version": "1.1.0",
      "model_name": "LayoutModel",
      "state": {}
     }
    },
    "version_major": 2,
    "version_minor": 0
   }
  }
 },
 "nbformat": 4,
 "nbformat_minor": 2
}

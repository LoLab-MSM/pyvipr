{
 "cells": [
  {
   "cell_type": "code",
   "execution_count": null,
   "metadata": {},
   "outputs": [],
   "source": [
    "import pyvipr.pysb_viz as viz\n",
    "from pyvipr.examples_models.earm_incorrect import model\n",
    "from pysb import as_complex_pattern"
   ]
  },
  {
   "cell_type": "code",
   "execution_count": null,
   "metadata": {},
   "outputs": [],
   "source": [
    "viz.sp_rules_view(model, layout_name='cose-bilkent')"
   ]
  },
  {
   "cell_type": "code",
   "execution_count": null,
   "metadata": {
    "scrolled": true
   },
   "outputs": [],
   "source": [
    "print(model.species[12])\n",
    "print('\\n')\n",
    "print(model.species[18])\n",
    "print('\\n')\n",
    "print(model.rules[45])\n",
    "print('\\n')\n",
    "print(model.rules[46])\n",
    "print('\\n')\n",
    "print(model.rules[47])"
   ]
  },
  {
   "cell_type": "markdown",
   "metadata": {},
   "source": [
    "## Updating initial conditions"
   ]
  },
  {
   "cell_type": "code",
   "execution_count": null,
   "metadata": {},
   "outputs": [],
   "source": [
    "# Obtaining model monomers\n",
    "cbad = model.monomers.Bad\n",
    "cnoxa = model.monomers.Noxa\n",
    "\n",
    "# Obtaining model initial conditions\n",
    "cbad_0 = model.initial_conditions[12][0]\n",
    "cnoxa_0 = model.initial_conditions[18][0]\n",
    "\n",
    "# Creating new patterns with mitochondrial state instead of cytosolic\n",
    "mbad_0 = as_complex_pattern(cbad(bf=None, state='M'))\n",
    "mnoxa_0 = as_complex_pattern(cnoxa(bf=None, state='M'))\n",
    "\n",
    "model.update_initial_condition_pattern(cbad_0, mbad_0)\n",
    "model.update_initial_condition_pattern(cnoxa_0, mnoxa_0)"
   ]
  },
  {
   "cell_type": "code",
   "execution_count": null,
   "metadata": {
    "scrolled": false
   },
   "outputs": [],
   "source": [
    "# Reset model species, reactions and equations to take into account the change in initial conditions\n",
    "model.reset_equations()"
   ]
  },
  {
   "cell_type": "code",
   "execution_count": null,
   "metadata": {},
   "outputs": [],
   "source": [
    "viz.sp_rules_view(model, layout_name='cose-bilkent')"
   ]
  },
  {
   "cell_type": "code",
   "execution_count": null,
   "metadata": {},
   "outputs": [],
   "source": []
  }
 ],
 "metadata": {
  "kernelspec": {
   "display_name": "Python 3",
   "language": "python",
   "name": "python3"
  },
  "language_info": {
   "codemirror_mode": {
    "name": "ipython",
    "version": 3
   },
   "file_extension": ".py",
   "mimetype": "text/x-python",
   "name": "python",
   "nbconvert_exporter": "python",
   "pygments_lexer": "ipython3",
   "version": "3.6.8"
  },
  "widgets": {
   "application/vnd.jupyter.widget-state+json": {
    "state": {
     "173863891f7141e58ec5fc9f64305f7d": {
      "model_module": "@jupyter-widgets/base",
      "model_module_version": "1.1.0",
      "model_name": "LayoutModel",
      "state": {}
     },
     "48ad6fbf6de941ad88c4cc3c36dc6c7e": {
      "model_module": "@jupyter-widgets/base",
      "model_module_version": "1.1.0",
      "model_name": "LayoutModel",
      "state": {}
     },
     "951d5af3dcab4f66890e41bc3b237ef4": {
      "model_module": "pyvipr",
      "model_module_version": "^0.1.14",
      "model_name": "CytoscapeModel",
      "state": {
       "background": "#FFFFFF",
       "data": {
        "data": {
         "graph": {
          "rankdir": "LR"
         },
         "name": "pyvipr.pysb_models.earm_incorrect"
        },
        "elements": {
         "edges": [
          {
           "data": {
            "arrowhead": "normal",
            "id": "60beb276-2c2e-4f89-a4c7-2206c5bc4ca9",
            "source": "s0",
            "source_arrow_fill": "hollow",
            "source_arrow_shape": "triangle",
            "target": "bind_L_R_to_LR",
            "target_arrow_shape": "triangle"
           }
          },
          {
           "data": {
            "arrowhead": "normal",
            "id": "eaa00def-b8d2-4059-a3cd-b90434d1307b",
            "source": "s1",
            "source_arrow_fill": "hollow",
            "source_arrow_shape": "triangle",
            "target": "bind_L_R_to_LR",
            "target_arrow_shape": "triangle"
           }
          },
          {
           "data": {
            "arrowhead": "normal",
            "id": "9f95563e-6d8b-4bd9-b763-e05319e14b15",
            "source": "s2",
            "source_arrow_fill": "hollow",
            "source_arrow_shape": "triangle",
            "target": "bind_DISC_flip",
            "target_arrow_shape": "triangle"
           }
          },
          {
           "data": {
            "arrowhead": "normal",
            "id": "4ae19b2d-6c5e-428d-bc06-541331b7e351",
            "source": "s3",
            "source_arrow_fill": "hollow",
            "source_arrow_shape": "triangle",
            "target": "bind_DISC_C8pro_to_DISCC8pro",
            "target_arrow_shape": "triangle"
           }
          },
          {
           "data": {
            "arrowhead": "normal",
            "id": "1f38c949-e82d-4ceb-ac42-78cc0671a247",
            "source": "s3",
            "source_arrow_fill": "hollow",
            "source_arrow_shape": "triangle",
            "target": "bind_C6A_C8pro_to_C6AC8pro",
            "target_arrow_shape": "triangle"
           }
          },
          {
           "data": {
            "arrowhead": "normal",
            "id": "de1e0ad8-062a-42eb-ad0a-4ad44d372a6b",
            "source": "s4",
            "source_arrow_fill": "hollow",
            "source_arrow_shape": "triangle",
            "target": "bind_BAR_C8A",
            "target_arrow_shape": "triangle"
           }
          },
          {
           "data": {
            "arrowhead": "normal",
            "id": "b284ecaf-d9c0-4fc5-b9f4-8f856b372f26",
            "source": "s5",
            "source_arrow_fill": "hollow",
            "source_arrow_shape": "triangle",
            "target": "bind_CytoCA_ApafI_to_CytoCAApafI",
            "target_arrow_shape": "triangle"
           }
          },
          {
           "data": {
            "arrowhead": "normal",
            "id": "c25bbbea-507b-4bb2-8909-87a016c732eb",
            "source": "s6",
            "source_arrow_fill": "hollow",
            "source_arrow_shape": "triangle",
            "target": "bind_Apop_C3pro_to_ApopC3pro",
            "target_arrow_shape": "triangle"
           }
          },
          {
           "data": {
            "arrowhead": "normal",
            "id": "23592eae-9edb-4ff5-99bd-846b498058b6",
            "source": "s6",
            "source_arrow_fill": "hollow",
            "source_arrow_shape": "triangle",
            "target": "bind_C8A_C3pro_to_C8AC3pro",
            "target_arrow_shape": "triangle"
           }
          },
          {
           "data": {
            "arrowhead": "normal",
            "id": "a1f95e6c-3797-47cd-9490-1272a42c8d44",
            "source": "s7",
            "source_arrow_fill": "hollow",
            "source_arrow_shape": "triangle",
            "target": "bind_C3A_C6pro_to_C3AC6pro",
            "target_arrow_shape": "triangle"
           }
          },
          {
           "data": {
            "arrowhead": "normal",
            "id": "97c93f10-273d-4b86-a77f-7620f602ce7e",
            "source": "s8",
            "source_arrow_fill": "hollow",
            "source_arrow_shape": "triangle",
            "target": "convert_ApafA_C9_to_Apop",
            "target_arrow_shape": "triangle"
           }
          },
          {
           "data": {
            "arrowhead": "normal",
            "id": "5d1f7293-24af-4ceb-a36b-7a412c1d699b",
            "source": "s9",
            "source_arrow_fill": "hollow",
            "source_arrow_shape": "triangle",
            "target": "bind_C3A_PARPU_to_C3APARPU",
            "target_arrow_shape": "triangle"
           }
          },
          {
           "data": {
            "arrowhead": "normal",
            "id": "8783a1c7-454a-452a-9083-4c2ba809098d",
            "source": "s10",
            "source_arrow_fill": "hollow",
            "source_arrow_shape": "triangle",
            "target": "bind_Apop_XIAP",
            "target_arrow_shape": "triangle"
           }
          },
          {
           "data": {
            "arrowhead": "normal",
            "id": "78f44b43-09d1-410a-8a86-42ff1a351c23",
            "source": "s10",
            "source_arrow_fill": "hollow",
            "source_arrow_shape": "triangle",
            "target": "bind_SmacA_XIAP",
            "target_arrow_shape": "triangle"
           }
          },
          {
           "data": {
            "arrowhead": "normal",
            "id": "dac9e2a2-071a-4784-8e37-5dd34aadd229",
            "source": "s10",
            "source_arrow_fill": "hollow",
            "source_arrow_shape": "triangle",
            "target": "bind_XIAP_C3A_to_XIAPC3A",
            "target_arrow_shape": "triangle"
           }
          },
          {
           "data": {
            "arrowhead": "normal",
            "id": "60097a50-c6bb-403f-b78a-7e485e437f46",
            "source": "s11",
            "source_arrow_fill": "hollow",
            "source_arrow_shape": "triangle",
            "target": "bind_C8A_BidU_to_C8ABidU",
            "target_arrow_shape": "triangle"
           }
          },
          {
           "data": {
            "arrowhead": "normal",
            "id": "f14ea43b-d08b-49b5-b396-8f218ffbbf0b",
            "source": "s12",
            "source_arrow_fill": "hollow",
            "source_arrow_shape": "triangle",
            "target": "equilibrate_BaxC_to_BaxM",
            "target_arrow_shape": "triangle"
           }
          },
          {
           "data": {
            "arrowhead": "normal",
            "id": "065fd8b7-6724-4375-af14-bfa662e8c57b",
            "source": "s13",
            "source_arrow_fill": "hollow",
            "source_arrow_shape": "triangle",
            "target": "bind_BidM_BakM_to_BidMBakM",
            "target_arrow_shape": "triangle"
           }
          },
          {
           "data": {
            "arrowhead": "normal",
            "id": "aafb2a66-364d-4873-97dc-82757702460a",
            "source": "s13",
            "source_arrow_fill": "hollow",
            "source_arrow_shape": "triangle",
            "target": "bind_BakA_BakM_to_BakABakM",
            "target_arrow_shape": "triangle"
           }
          },
          {
           "data": {
            "arrowhead": "normal",
            "id": "b5a20a60-caf3-4471-99ea-bcc5d1dccaca",
            "source": "s14",
            "source_arrow_fill": "hollow",
            "source_arrow_shape": "triangle",
            "target": "bind_BidM_Bcl2",
            "target_arrow_shape": "triangle"
           }
          },
          {
           "data": {
            "arrowhead": "normal",
            "id": "02838388-120d-4388-80bd-12a4d3bc71af",
            "source": "s14",
            "source_arrow_fill": "hollow",
            "source_arrow_shape": "triangle",
            "target": "bind_BaxA_Bcl2",
            "target_arrow_shape": "triangle"
           }
          },
          {
           "data": {
            "arrowhead": "normal",
            "id": "d4c86f66-0956-42ae-93d5-332b1ff449e1",
            "source": "s14",
            "source_arrow_fill": "hollow",
            "source_arrow_shape": "triangle",
            "target": "bind_BadM_Bcl2",
            "target_arrow_shape": "triangle"
           }
          },
          {
           "data": {
            "arrowhead": "normal",
            "id": "a4ad4f24-e546-46a4-8b56-0412f858f919",
            "source": "s15",
            "source_arrow_fill": "hollow",
            "source_arrow_shape": "triangle",
            "target": "equilibrate_BclxLC_to_BclxLM",
            "target_arrow_shape": "triangle"
           }
          },
          {
           "data": {
            "arrowhead": "normal",
            "id": "c0b9eba3-4843-41be-95c0-00637a532dec",
            "source": "s16",
            "source_arrow_fill": "hollow",
            "source_arrow_shape": "triangle",
            "target": "bind_BidM_Mcl1M",
            "target_arrow_shape": "triangle"
           }
          },
          {
           "data": {
            "arrowhead": "normal",
            "id": "cb18a71a-a154-4fdd-b3e3-35d005e22105",
            "source": "s16",
            "source_arrow_fill": "hollow",
            "source_arrow_shape": "triangle",
            "target": "bind_BakA_Mcl1",
            "target_arrow_shape": "triangle"
           }
          },
          {
           "data": {
            "arrowhead": "normal",
            "id": "8f096ed5-cf54-4555-bc15-78d870bf11d0",
            "source": "s16",
            "source_arrow_fill": "hollow",
            "source_arrow_shape": "triangle",
            "target": "bind_NoxaM_Mcl1M",
            "target_arrow_shape": "triangle"
           }
          },
          {
           "data": {
            "arrowhead": "normal",
            "id": "3992b25c-1c52-4bd5-8174-c82eddbf210e",
            "source": "s17",
            "source_arrow_fill": "hollow",
            "source_arrow_shape": "triangle",
            "target": "pore_transport_complex_BaxA_4_CytoCM",
            "target_arrow_shape": "triangle"
           }
          },
          {
           "data": {
            "arrowhead": "normal",
            "id": "b7f4aff2-8a3a-41f7-9daf-b40aa852f6d6",
            "source": "s17",
            "source_arrow_fill": "hollow",
            "source_arrow_shape": "triangle",
            "target": "pore_transport_complex_BakA_4_CytoCM",
            "target_arrow_shape": "triangle"
           }
          },
          {
           "data": {
            "arrowhead": "normal",
            "id": "9e1a95aa-e8c4-434f-aad2-0d25fddecad2",
            "source": "s18",
            "source_arrow_fill": "hollow",
            "source_arrow_shape": "triangle",
            "target": "pore_transport_complex_BaxA_4_SmacM",
            "target_arrow_shape": "triangle"
           }
          },
          {
           "data": {
            "arrowhead": "normal",
            "id": "470314a9-0c37-48eb-8f7c-5494784d6cba",
            "source": "s18",
            "source_arrow_fill": "hollow",
            "source_arrow_shape": "triangle",
            "target": "pore_transport_complex_BakA_4_SmacM",
            "target_arrow_shape": "triangle"
           }
          },
          {
           "data": {
            "arrowhead": "normal",
            "id": "8d527b00-3e1f-4255-9f36-15afa1ea742b",
            "source": "s19",
            "source_arrow_fill": "hollow",
            "source_arrow_shape": "triangle",
            "target": "bind_BadM_Bcl2",
            "target_arrow_shape": "triangle"
           }
          },
          {
           "data": {
            "arrowhead": "normal",
            "id": "09276e0b-7f60-4e0b-91e7-44735d5fd154",
            "source": "s19",
            "source_arrow_fill": "hollow",
            "source_arrow_shape": "triangle",
            "target": "bind_BadM_BclxLM",
            "target_arrow_shape": "triangle"
           }
          },
          {
           "data": {
            "arrowhead": "normal",
            "id": "4ce93001-9895-43b7-9535-0550bf89a747",
            "source": "s20",
            "source_arrow_fill": "hollow",
            "source_arrow_shape": "triangle",
            "target": "bind_NoxaM_Mcl1M",
            "target_arrow_shape": "triangle"
           }
          },
          {
           "data": {
            "arrowhead": "normal",
            "id": "ef7579fc-2ddd-4895-9ae4-f7ccae8945e3",
            "source": "s21",
            "source_arrow_fill": "hollow",
            "source_arrow_shape": "triangle",
            "target": "bind_L_R_to_LR",
            "target_arrow_shape": "triangle"
           }
          },
          {
           "data": {
            "arrowhead": "normal",
            "id": "8c5683e7-49e1-494c-8edd-24a9918069d8",
            "source": "s21",
            "source_arrow_fill": "filled",
            "source_arrow_shape": "none",
            "target": "convert_LR_to_DISC",
            "target_arrow_shape": "triangle"
           }
          },
          {
           "data": {
            "arrowhead": "normal",
            "id": "44a620c6-77f1-4c85-80b2-a608f0d89377",
            "source": "s22",
            "source_arrow_fill": "hollow",
            "source_arrow_shape": "triangle",
            "target": "equilibrate_BaxC_to_BaxM",
            "target_arrow_shape": "triangle"
           }
          },
          {
           "data": {
            "arrowhead": "normal",
            "id": "d2903102-95cb-4263-a518-f76befbd50cb",
            "source": "s22",
            "source_arrow_fill": "hollow",
            "source_arrow_shape": "triangle",
            "target": "bind_BidM_BaxM_to_BidMBaxM",
            "target_arrow_shape": "triangle"
           }
          },
          {
           "data": {
            "arrowhead": "normal",
            "id": "bef3fd2b-c8da-4bc6-bcfd-716610238ad2",
            "source": "s22",
            "source_arrow_fill": "hollow",
            "source_arrow_shape": "triangle",
            "target": "bind_BaxA_BaxM_to_BaxABaxM",
            "target_arrow_shape": "triangle"
           }
          },
          {
           "data": {
            "arrowhead": "normal",
            "id": "595a776f-bcb0-4954-af8b-024184189a62",
            "source": "s23",
            "source_arrow_fill": "hollow",
            "source_arrow_shape": "triangle",
            "target": "equilibrate_BclxLC_to_BclxLM",
            "target_arrow_shape": "triangle"
           }
          },
          {
           "data": {
            "arrowhead": "normal",
            "id": "47be3a13-3d97-4692-b8ae-a857a1990680",
            "source": "s23",
            "source_arrow_fill": "hollow",
            "source_arrow_shape": "triangle",
            "target": "bind_BidM_BclxLM",
            "target_arrow_shape": "triangle"
           }
          },
          {
           "data": {
            "arrowhead": "normal",
            "id": "d331cbc3-187a-4a70-a73a-3d74dc3beaba",
            "source": "s23",
            "source_arrow_fill": "hollow",
            "source_arrow_shape": "triangle",
            "target": "bind_BaxA_BclxLM",
            "target_arrow_shape": "triangle"
           }
          },
          {
           "data": {
            "arrowhead": "normal",
            "id": "cc098e22-fcdc-4767-9345-8743914cb359",
            "source": "s23",
            "source_arrow_fill": "hollow",
            "source_arrow_shape": "triangle",
            "target": "bind_BakA_BclxLM",
            "target_arrow_shape": "triangle"
           }
          },
          {
           "data": {
            "arrowhead": "normal",
            "id": "f803a9b2-c3c4-453f-bbb9-d4488794a027",
            "source": "s23",
            "source_arrow_fill": "hollow",
            "source_arrow_shape": "triangle",
            "target": "bind_BadM_BclxLM",
            "target_arrow_shape": "triangle"
           }
          },
          {
           "data": {
            "arrowhead": "normal",
            "id": "d8d6b109-f224-44f3-899f-92230e67494f",
            "source": "s24",
            "source_arrow_fill": "hollow",
            "source_arrow_shape": "triangle",
            "target": "bind_BadM_Bcl2",
            "target_arrow_shape": "triangle"
           }
          },
          {
           "data": {
            "arrowhead": "normal",
            "id": "fe3917c5-8044-4947-ab05-7821f7e813e0",
            "source": "s25",
            "source_arrow_fill": "hollow",
            "source_arrow_shape": "triangle",
            "target": "bind_NoxaM_Mcl1M",
            "target_arrow_shape": "triangle"
           }
          },
          {
           "data": {
            "arrowhead": "normal",
            "id": "8f20c6c9-4d80-4905-9e0c-6d931cc16002",
            "source": "s26",
            "source_arrow_fill": "hollow",
            "source_arrow_shape": "triangle",
            "target": "bind_DISC_C8pro_to_DISCC8pro",
            "target_arrow_shape": "triangle"
           }
          },
          {
           "data": {
            "arrowhead": "normal",
            "id": "976db83d-7687-4134-98a5-dab15c395799",
            "source": "s26",
            "source_arrow_fill": "hollow",
            "source_arrow_shape": "triangle",
            "target": "bind_DISC_flip",
            "target_arrow_shape": "triangle"
           }
          },
          {
           "data": {
            "arrowhead": "normal",
            "id": "3084e074-53e8-4e2a-92ea-549cab56ba3a",
            "source": "s27",
            "source_arrow_fill": "hollow",
            "source_arrow_shape": "triangle",
            "target": "bind_BadM_BclxLM",
            "target_arrow_shape": "triangle"
           }
          },
          {
           "data": {
            "arrowhead": "normal",
            "id": "0c51b32a-efbc-4fd8-ba8c-ca516808f22d",
            "source": "s28",
            "source_arrow_fill": "hollow",
            "source_arrow_shape": "triangle",
            "target": "bind_DISC_C8pro_to_DISCC8pro",
            "target_arrow_shape": "triangle"
           }
          },
          {
           "data": {
            "arrowhead": "normal",
            "id": "954c59e4-f8a4-45b5-b9df-05ed6b1d490f",
            "source": "s28",
            "source_arrow_fill": "filled",
            "source_arrow_shape": "none",
            "target": "catalyze_DISCC8pro_to_DISC_C8A",
            "target_arrow_shape": "triangle"
           }
          },
          {
           "data": {
            "arrowhead": "normal",
            "id": "06b146d5-5162-4b6d-9a92-2a0f70024cc8",
            "source": "s29",
            "source_arrow_fill": "hollow",
            "source_arrow_shape": "triangle",
            "target": "bind_DISC_flip",
            "target_arrow_shape": "triangle"
           }
          },
          {
           "data": {
            "arrowhead": "normal",
            "id": "5a2ccffc-f8ee-4d22-b401-f8630a3bb535",
            "source": "s30",
            "source_arrow_fill": "hollow",
            "source_arrow_shape": "triangle",
            "target": "bind_C8A_BidU_to_C8ABidU",
            "target_arrow_shape": "triangle"
           }
          },
          {
           "data": {
            "arrowhead": "normal",
            "id": "0ceef174-78db-41ea-9d8e-0d6610d5c896",
            "source": "s30",
            "source_arrow_fill": "hollow",
            "source_arrow_shape": "triangle",
            "target": "bind_BAR_C8A",
            "target_arrow_shape": "triangle"
           }
          },
          {
           "data": {
            "arrowhead": "normal",
            "id": "c8c75273-3799-4637-ac4d-1b08d613ac62",
            "source": "s30",
            "source_arrow_fill": "hollow",
            "source_arrow_shape": "triangle",
            "target": "bind_C8A_C3pro_to_C8AC3pro",
            "target_arrow_shape": "triangle"
           }
          },
          {
           "data": {
            "arrowhead": "normal",
            "id": "d4d6ec9c-28b7-42cb-82a5-28d6b0c1282f",
            "source": "s31",
            "source_arrow_fill": "hollow",
            "source_arrow_shape": "triangle",
            "target": "bind_C8A_BidU_to_C8ABidU",
            "target_arrow_shape": "triangle"
           }
          },
          {
           "data": {
            "arrowhead": "normal",
            "id": "b35ae138-b585-439d-ba40-f751dd0c251a",
            "source": "s31",
            "source_arrow_fill": "filled",
            "source_arrow_shape": "none",
            "target": "catalyze_C8ABidU_to_C8A_BidT",
            "target_arrow_shape": "triangle"
           }
          },
          {
           "data": {
            "arrowhead": "normal",
            "id": "ad738828-f252-4be6-b9fb-aecafe6864bd",
            "source": "s32",
            "source_arrow_fill": "hollow",
            "source_arrow_shape": "triangle",
            "target": "bind_BAR_C8A",
            "target_arrow_shape": "triangle"
           }
          },
          {
           "data": {
            "arrowhead": "normal",
            "id": "e65f41cb-bb00-4670-9a2f-f750215d397d",
            "source": "s33",
            "source_arrow_fill": "hollow",
            "source_arrow_shape": "triangle",
            "target": "bind_C8A_C3pro_to_C8AC3pro",
            "target_arrow_shape": "triangle"
           }
          },
          {
           "data": {
            "arrowhead": "normal",
            "id": "5d4e0049-5adc-4356-a4f0-6cb528ebcc25",
            "source": "s33",
            "source_arrow_fill": "filled",
            "source_arrow_shape": "none",
            "target": "catalyze_C8AC3pro_to_C8A_C3A",
            "target_arrow_shape": "triangle"
           }
          },
          {
           "data": {
            "arrowhead": "normal",
            "id": "b22ff39f-bf8b-4003-a87a-23cfabb4ffbc",
            "source": "s34",
            "source_arrow_fill": "hollow",
            "source_arrow_shape": "triangle",
            "target": "equilibrate_BidT_to_BidM",
            "target_arrow_shape": "triangle"
           }
          },
          {
           "data": {
            "arrowhead": "normal",
            "id": "827680b0-4e8a-4139-86aa-61e7d92a361c",
            "source": "s35",
            "source_arrow_fill": "hollow",
            "source_arrow_shape": "triangle",
            "target": "bind_XIAP_C3A_to_XIAPC3A",
            "target_arrow_shape": "triangle"
           }
          },
          {
           "data": {
            "arrowhead": "normal",
            "id": "1d823ed6-2419-4e94-b04c-fc11bb47ad53",
            "source": "s35",
            "source_arrow_fill": "hollow",
            "source_arrow_shape": "triangle",
            "target": "bind_C3A_PARPU_to_C3APARPU",
            "target_arrow_shape": "triangle"
           }
          },
          {
           "data": {
            "arrowhead": "normal",
            "id": "e0251b89-c197-46f2-ac48-1710df0edcde",
            "source": "s35",
            "source_arrow_fill": "hollow",
            "source_arrow_shape": "triangle",
            "target": "bind_C3A_C6pro_to_C3AC6pro",
            "target_arrow_shape": "triangle"
           }
          },
          {
           "data": {
            "arrowhead": "normal",
            "id": "fa2906b9-d5b4-4b57-8259-c57d4b723f36",
            "source": "s36",
            "source_arrow_fill": "hollow",
            "source_arrow_shape": "triangle",
            "target": "bind_XIAP_C3A_to_XIAPC3A",
            "target_arrow_shape": "triangle"
           }
          },
          {
           "data": {
            "arrowhead": "normal",
            "id": "8db4ede9-ae9f-4c20-9a3d-5119fa399298",
            "source": "s36",
            "source_arrow_fill": "filled",
            "source_arrow_shape": "none",
            "target": "catalyze_XIAPC3A_to_XIAP_C3ub",
            "target_arrow_shape": "triangle"
           }
          },
          {
           "data": {
            "arrowhead": "normal",
            "id": "c00209dd-e549-4e16-8531-de0c39abeb31",
            "source": "s37",
            "source_arrow_fill": "hollow",
            "source_arrow_shape": "triangle",
            "target": "bind_C3A_PARPU_to_C3APARPU",
            "target_arrow_shape": "triangle"
           }
          },
          {
           "data": {
            "arrowhead": "normal",
            "id": "25305de3-982d-4860-ad53-085affcc1eda",
            "source": "s37",
            "source_arrow_fill": "filled",
            "source_arrow_shape": "none",
            "target": "catalyze_C3APARPU_to_C3A_PARPC",
            "target_arrow_shape": "triangle"
           }
          },
          {
           "data": {
            "arrowhead": "normal",
            "id": "a22ceb70-3acd-4461-aa2f-ee703fb3e126",
            "source": "s38",
            "source_arrow_fill": "hollow",
            "source_arrow_shape": "triangle",
            "target": "bind_C3A_C6pro_to_C3AC6pro",
            "target_arrow_shape": "triangle"
           }
          },
          {
           "data": {
            "arrowhead": "normal",
            "id": "68ea2fd3-a55f-4e49-92a8-d44d461ca8c0",
            "source": "s38",
            "source_arrow_fill": "filled",
            "source_arrow_shape": "none",
            "target": "catalyze_C3AC6pro_to_C3A_C6A",
            "target_arrow_shape": "triangle"
           }
          },
          {
           "data": {
            "arrowhead": "normal",
            "id": "6f4b1fff-c90a-4d9f-b557-2eb25df7147b",
            "source": "s39",
            "source_arrow_fill": "hollow",
            "source_arrow_shape": "triangle",
            "target": "equilibrate_BidT_to_BidM",
            "target_arrow_shape": "triangle"
           }
          },
          {
           "data": {
            "arrowhead": "normal",
            "id": "4c4ff70a-0a4b-4129-8b69-2938e1716298",
            "source": "s39",
            "source_arrow_fill": "hollow",
            "source_arrow_shape": "triangle",
            "target": "bind_BidM_BaxM_to_BidMBaxM",
            "target_arrow_shape": "triangle"
           }
          },
          {
           "data": {
            "arrowhead": "normal",
            "id": "7b9325c0-3a8b-4eaa-95c1-2d5ff93a2291",
            "source": "s39",
            "source_arrow_fill": "hollow",
            "source_arrow_shape": "triangle",
            "target": "bind_BidM_BakM_to_BidMBakM",
            "target_arrow_shape": "triangle"
           }
          },
          {
           "data": {
            "arrowhead": "normal",
            "id": "bdefbba7-17d5-4c01-9773-47ed84925304",
            "source": "s39",
            "source_arrow_fill": "hollow",
            "source_arrow_shape": "triangle",
            "target": "bind_BidM_Bcl2",
            "target_arrow_shape": "triangle"
           }
          },
          {
           "data": {
            "arrowhead": "normal",
            "id": "e989473b-912c-42d0-8b9c-c8a5babd8f18",
            "source": "s39",
            "source_arrow_fill": "hollow",
            "source_arrow_shape": "triangle",
            "target": "bind_BidM_BclxLM",
            "target_arrow_shape": "triangle"
           }
          },
          {
           "data": {
            "arrowhead": "normal",
            "id": "bf27eb28-893e-4410-8fea-881dc75fb8a2",
            "source": "s39",
            "source_arrow_fill": "hollow",
            "source_arrow_shape": "triangle",
            "target": "bind_BidM_Mcl1M",
            "target_arrow_shape": "triangle"
           }
          },
          {
           "data": {
            "arrowhead": "normal",
            "id": "3e3d61ef-1c67-4638-881b-aa2a3a3bd10f",
            "source": "s42",
            "source_arrow_fill": "hollow",
            "source_arrow_shape": "triangle",
            "target": "bind_C6A_C8pro_to_C6AC8pro",
            "target_arrow_shape": "triangle"
           }
          },
          {
           "data": {
            "arrowhead": "normal",
            "id": "02797ec1-da2e-40ce-bee7-2decd76df06b",
            "source": "s43",
            "source_arrow_fill": "hollow",
            "source_arrow_shape": "triangle",
            "target": "bind_BidM_BaxM_to_BidMBaxM",
            "target_arrow_shape": "triangle"
           }
          },
          {
           "data": {
            "arrowhead": "normal",
            "id": "ee0fc2d3-d131-403a-9269-f8af924d0d0a",
            "source": "s43",
            "source_arrow_fill": "filled",
            "source_arrow_shape": "none",
            "target": "catalyze_BidMBaxM_to_BidM_BaxA",
            "target_arrow_shape": "triangle"
           }
          },
          {
           "data": {
            "arrowhead": "normal",
            "id": "eda4bed1-0b63-49b7-8cb1-6018265b5c7b",
            "source": "s44",
            "source_arrow_fill": "hollow",
            "source_arrow_shape": "triangle",
            "target": "bind_BidM_BakM_to_BidMBakM",
            "target_arrow_shape": "triangle"
           }
          },
          {
           "data": {
            "arrowhead": "normal",
            "id": "0982a707-cf74-4b91-b35b-1e3da33a5504",
            "source": "s44",
            "source_arrow_fill": "filled",
            "source_arrow_shape": "none",
            "target": "catalyze_BidMBakM_to_BidM_BakA",
            "target_arrow_shape": "triangle"
           }
          },
          {
           "data": {
            "arrowhead": "normal",
            "id": "7e057d1c-2ae7-4d00-935e-8f7f0efaa43b",
            "source": "s45",
            "source_arrow_fill": "hollow",
            "source_arrow_shape": "triangle",
            "target": "bind_BidM_Bcl2",
            "target_arrow_shape": "triangle"
           }
          },
          {
           "data": {
            "arrowhead": "normal",
            "id": "45420c8e-f060-4c8e-a6a5-9e20f6426457",
            "source": "s46",
            "source_arrow_fill": "hollow",
            "source_arrow_shape": "triangle",
            "target": "bind_BidM_BclxLM",
            "target_arrow_shape": "triangle"
           }
          },
          {
           "data": {
            "arrowhead": "normal",
            "id": "a6a9e8da-af68-44c6-af15-e67a3d19d8b1",
            "source": "s47",
            "source_arrow_fill": "hollow",
            "source_arrow_shape": "triangle",
            "target": "bind_BidM_Mcl1M",
            "target_arrow_shape": "triangle"
           }
          },
          {
           "data": {
            "arrowhead": "normal",
            "id": "b93a5ca9-753f-41d2-9e5c-81ca9736c947",
            "source": "s48",
            "source_arrow_fill": "hollow",
            "source_arrow_shape": "triangle",
            "target": "bind_C6A_C8pro_to_C6AC8pro",
            "target_arrow_shape": "triangle"
           }
          },
          {
           "data": {
            "arrowhead": "normal",
            "id": "cd3a0fee-632e-433b-aafc-c7d6bed8dfbf",
            "source": "s48",
            "source_arrow_fill": "filled",
            "source_arrow_shape": "none",
            "target": "catalyze_C6AC8pro_to_C6A_C8A",
            "target_arrow_shape": "triangle"
           }
          },
          {
           "data": {
            "arrowhead": "normal",
            "id": "1a98dd85-09b4-49bb-9971-8405c18d3c8c",
            "source": "s49",
            "source_arrow_fill": "hollow",
            "source_arrow_shape": "triangle",
            "target": "bind_BaxA_BaxM_to_BaxABaxM",
            "target_arrow_shape": "triangle"
           }
          },
          {
           "data": {
            "arrowhead": "normal",
            "id": "5d7e0990-d57e-4db0-ab75-9c6f36f5d6ba",
            "source": "s49",
            "source_arrow_fill": "hollow",
            "source_arrow_shape": "triangle",
            "target": "bind_BaxA_Bcl2",
            "target_arrow_shape": "triangle"
           }
          },
          {
           "data": {
            "arrowhead": "normal",
            "id": "3c3fd877-ee2a-4d15-9a3f-2dcc0756bde0",
            "source": "s49",
            "source_arrow_fill": "hollow",
            "source_arrow_shape": "triangle",
            "target": "bind_BaxA_BclxLM",
            "target_arrow_shape": "triangle"
           }
          },
          {
           "data": {
            "arrowhead": "normal",
            "id": "f822f840-cf68-4cc8-9285-e73c88ca9de5",
            "source": "s49",
            "source_arrow_fill": "hollow",
            "source_arrow_shape": "triangle",
            "target": "assemble_pore_sequential_Bax_2",
            "target_arrow_shape": "triangle"
           }
          },
          {
           "data": {
            "arrowhead": "normal",
            "id": "165cb41e-6873-4e41-a602-af14dafa7c2c",
            "source": "s49",
            "source_arrow_fill": "hollow",
            "source_arrow_shape": "triangle",
            "target": "assemble_pore_sequential_Bax_3",
            "target_arrow_shape": "triangle"
           }
          },
          {
           "data": {
            "arrowhead": "normal",
            "id": "6f7103b8-3000-4009-9ee2-67bfc651094b",
            "source": "s49",
            "source_arrow_fill": "hollow",
            "source_arrow_shape": "triangle",
            "target": "assemble_pore_sequential_Bax_4",
            "target_arrow_shape": "triangle"
           }
          },
          {
           "data": {
            "arrowhead": "normal",
            "id": "af745ca2-b9d3-4d33-a368-fb7271dfe0ba",
            "source": "s50",
            "source_arrow_fill": "hollow",
            "source_arrow_shape": "triangle",
            "target": "bind_BakA_BakM_to_BakABakM",
            "target_arrow_shape": "triangle"
           }
          },
          {
           "data": {
            "arrowhead": "normal",
            "id": "6108efac-f280-4fc5-b53e-52d6c554eba1",
            "source": "s50",
            "source_arrow_fill": "hollow",
            "source_arrow_shape": "triangle",
            "target": "bind_BakA_BclxLM",
            "target_arrow_shape": "triangle"
           }
          },
          {
           "data": {
            "arrowhead": "normal",
            "id": "908a1a53-5270-4bbc-8307-459b4d9451da",
            "source": "s50",
            "source_arrow_fill": "hollow",
            "source_arrow_shape": "triangle",
            "target": "bind_BakA_Mcl1",
            "target_arrow_shape": "triangle"
           }
          },
          {
           "data": {
            "arrowhead": "normal",
            "id": "3ee002b6-7251-41d5-bcad-b53c2d26b28f",
            "source": "s50",
            "source_arrow_fill": "hollow",
            "source_arrow_shape": "triangle",
            "target": "assemble_pore_sequential_Bak_2",
            "target_arrow_shape": "triangle"
           }
          },
          {
           "data": {
            "arrowhead": "normal",
            "id": "76c1f4e7-f000-496f-9188-9ec03e10d60f",
            "source": "s50",
            "source_arrow_fill": "hollow",
            "source_arrow_shape": "triangle",
            "target": "assemble_pore_sequential_Bak_3",
            "target_arrow_shape": "triangle"
           }
          },
          {
           "data": {
            "arrowhead": "normal",
            "id": "808db1f4-0629-41a2-8eb0-e9840a6cafb6",
            "source": "s50",
            "source_arrow_fill": "hollow",
            "source_arrow_shape": "triangle",
            "target": "assemble_pore_sequential_Bak_4",
            "target_arrow_shape": "triangle"
           }
          },
          {
           "data": {
            "arrowhead": "normal",
            "id": "3ed6605d-d491-4e92-8bf8-18404cfc8f48",
            "source": "s51",
            "source_arrow_fill": "hollow",
            "source_arrow_shape": "triangle",
            "target": "bind_BaxA_BaxM_to_BaxABaxM",
            "target_arrow_shape": "triangle"
           }
          },
          {
           "data": {
            "arrowhead": "normal",
            "id": "19d878a5-de26-4912-b69d-72e840cfc754",
            "source": "s51",
            "source_arrow_fill": "filled",
            "source_arrow_shape": "none",
            "target": "catalyze_BaxABaxM_to_BaxA_BaxA",
            "target_arrow_shape": "triangle"
           }
          },
          {
           "data": {
            "arrowhead": "normal",
            "id": "36391cba-b9d4-4ed9-8635-a178c349b396",
            "source": "s52",
            "source_arrow_fill": "hollow",
            "source_arrow_shape": "triangle",
            "target": "bind_BakA_BakM_to_BakABakM",
            "target_arrow_shape": "triangle"
           }
          },
          {
           "data": {
            "arrowhead": "normal",
            "id": "860b07f7-3a19-4608-8637-1826432b21a8",
            "source": "s52",
            "source_arrow_fill": "filled",
            "source_arrow_shape": "none",
            "target": "catalyze_BakABakM_to_BakA_BakA",
            "target_arrow_shape": "triangle"
           }
          },
          {
           "data": {
            "arrowhead": "normal",
            "id": "2ad5f00b-862e-4e77-89a8-1556ba6f55d8",
            "source": "s53",
            "source_arrow_fill": "hollow",
            "source_arrow_shape": "triangle",
            "target": "bind_BaxA_Bcl2",
            "target_arrow_shape": "triangle"
           }
          },
          {
           "data": {
            "arrowhead": "normal",
            "id": "f4b9720a-63f1-4a1d-b134-2279873611f3",
            "source": "s54",
            "source_arrow_fill": "hollow",
            "source_arrow_shape": "triangle",
            "target": "bind_BaxA_BclxLM",
            "target_arrow_shape": "triangle"
           }
          },
          {
           "data": {
            "arrowhead": "normal",
            "id": "5526d2c1-38ee-4174-b4ca-e8a2952788bd",
            "source": "s55",
            "source_arrow_fill": "hollow",
            "source_arrow_shape": "triangle",
            "target": "bind_BakA_BclxLM",
            "target_arrow_shape": "triangle"
           }
          },
          {
           "data": {
            "arrowhead": "normal",
            "id": "0b705d9a-a0a5-4953-aa89-8dbb665a027c",
            "source": "s56",
            "source_arrow_fill": "hollow",
            "source_arrow_shape": "triangle",
            "target": "bind_BakA_Mcl1",
            "target_arrow_shape": "triangle"
           }
          },
          {
           "data": {
            "arrowhead": "normal",
            "id": "f73aa278-e74b-48a3-9cca-bd2e3cfd669c",
            "source": "s57",
            "source_arrow_fill": "hollow",
            "source_arrow_shape": "triangle",
            "target": "assemble_pore_sequential_Bax_2",
            "target_arrow_shape": "triangle"
           }
          },
          {
           "data": {
            "arrowhead": "normal",
            "id": "4f004c6f-7581-41d3-bed7-d3bfd792ca12",
            "source": "s57",
            "source_arrow_fill": "hollow",
            "source_arrow_shape": "triangle",
            "target": "assemble_pore_sequential_Bax_3",
            "target_arrow_shape": "triangle"
           }
          },
          {
           "data": {
            "arrowhead": "normal",
            "id": "3def4b0f-ff25-4756-9e90-092ac386ca45",
            "source": "s58",
            "source_arrow_fill": "hollow",
            "source_arrow_shape": "triangle",
            "target": "assemble_pore_sequential_Bak_2",
            "target_arrow_shape": "triangle"
           }
          },
          {
           "data": {
            "arrowhead": "normal",
            "id": "962368c2-a76d-4f85-b042-a97ac5ca51a4",
            "source": "s58",
            "source_arrow_fill": "hollow",
            "source_arrow_shape": "triangle",
            "target": "assemble_pore_sequential_Bak_3",
            "target_arrow_shape": "triangle"
           }
          },
          {
           "data": {
            "arrowhead": "normal",
            "id": "118ad113-e781-4ac7-8529-ffaa0df84430",
            "source": "s59",
            "source_arrow_fill": "hollow",
            "source_arrow_shape": "triangle",
            "target": "assemble_pore_sequential_Bax_3",
            "target_arrow_shape": "triangle"
           }
          },
          {
           "data": {
            "arrowhead": "normal",
            "id": "a0a4a343-7504-4ec7-8f09-6f6ead087fa2",
            "source": "s59",
            "source_arrow_fill": "hollow",
            "source_arrow_shape": "triangle",
            "target": "assemble_pore_sequential_Bax_4",
            "target_arrow_shape": "triangle"
           }
          },
          {
           "data": {
            "arrowhead": "normal",
            "id": "a0264fd4-1241-41ee-9e03-089655ce4d23",
            "source": "s60",
            "source_arrow_fill": "hollow",
            "source_arrow_shape": "triangle",
            "target": "assemble_pore_sequential_Bak_3",
            "target_arrow_shape": "triangle"
           }
          },
          {
           "data": {
            "arrowhead": "normal",
            "id": "da4dc981-70bb-42ee-855a-86ffa47126aa",
            "source": "s60",
            "source_arrow_fill": "hollow",
            "source_arrow_shape": "triangle",
            "target": "assemble_pore_sequential_Bak_4",
            "target_arrow_shape": "triangle"
           }
          },
          {
           "data": {
            "arrowhead": "normal",
            "id": "22464dde-a306-4669-bb0a-06ec4d7e7d4b",
            "source": "s61",
            "source_arrow_fill": "hollow",
            "source_arrow_shape": "triangle",
            "target": "assemble_pore_sequential_Bax_4",
            "target_arrow_shape": "triangle"
           }
          },
          {
           "data": {
            "arrowhead": "normal",
            "id": "aacbd555-5579-4337-9c3c-10f29b35cd3f",
            "source": "s61",
            "source_arrow_fill": "hollow",
            "source_arrow_shape": "triangle",
            "target": "pore_transport_complex_BaxA_4_CytoCM",
            "target_arrow_shape": "triangle"
           }
          },
          {
           "data": {
            "arrowhead": "normal",
            "id": "d5b447ec-e3ac-4ddf-9c31-3cccc1f47fd1",
            "source": "s61",
            "source_arrow_fill": "hollow",
            "source_arrow_shape": "triangle",
            "target": "pore_transport_complex_BaxA_4_SmacM",
            "target_arrow_shape": "triangle"
           }
          },
          {
           "data": {
            "arrowhead": "normal",
            "id": "4e178dbc-a9a6-43c6-a0d2-2d4d583fd666",
            "source": "s62",
            "source_arrow_fill": "hollow",
            "source_arrow_shape": "triangle",
            "target": "assemble_pore_sequential_Bak_4",
            "target_arrow_shape": "triangle"
           }
          },
          {
           "data": {
            "arrowhead": "normal",
            "id": "239e4026-e5b5-4c17-a3fb-991382c3f52d",
            "source": "s62",
            "source_arrow_fill": "hollow",
            "source_arrow_shape": "triangle",
            "target": "pore_transport_complex_BakA_4_CytoCM",
            "target_arrow_shape": "triangle"
           }
          },
          {
           "data": {
            "arrowhead": "normal",
            "id": "63056507-f8fc-4f0a-99e2-2fcbf0068178",
            "source": "s62",
            "source_arrow_fill": "hollow",
            "source_arrow_shape": "triangle",
            "target": "pore_transport_complex_BakA_4_SmacM",
            "target_arrow_shape": "triangle"
           }
          },
          {
           "data": {
            "arrowhead": "normal",
            "id": "0f02a472-624b-47fb-bcc8-bc94c5a1b59e",
            "source": "s63",
            "source_arrow_fill": "hollow",
            "source_arrow_shape": "triangle",
            "target": "pore_transport_complex_BaxA_4_CytoCM",
            "target_arrow_shape": "triangle"
           }
          },
          {
           "data": {
            "arrowhead": "normal",
            "id": "5a3abc32-e5fe-42b1-8952-e759cb35efcb",
            "source": "s63",
            "source_arrow_fill": "filled",
            "source_arrow_shape": "none",
            "target": "pore_transport_dissociate_BaxA_4_CytoCC",
            "target_arrow_shape": "triangle"
           }
          },
          {
           "data": {
            "arrowhead": "normal",
            "id": "c6df202a-7217-42f3-bfea-08ccd3f9fde6",
            "source": "s64",
            "source_arrow_fill": "hollow",
            "source_arrow_shape": "triangle",
            "target": "pore_transport_complex_BaxA_4_SmacM",
            "target_arrow_shape": "triangle"
           }
          },
          {
           "data": {
            "arrowhead": "normal",
            "id": "e1765fa2-c965-4a09-b957-0fbcb19c9b9b",
            "source": "s64",
            "source_arrow_fill": "filled",
            "source_arrow_shape": "none",
            "target": "pore_transport_dissociate_BaxA_4_SmacC",
            "target_arrow_shape": "triangle"
           }
          },
          {
           "data": {
            "arrowhead": "normal",
            "id": "395c5362-7142-416e-baf1-d8cf844467f7",
            "source": "s65",
            "source_arrow_fill": "hollow",
            "source_arrow_shape": "triangle",
            "target": "pore_transport_complex_BakA_4_CytoCM",
            "target_arrow_shape": "triangle"
           }
          },
          {
           "data": {
            "arrowhead": "normal",
            "id": "443c7626-518c-4fa7-bfa2-03c5286ff6c0",
            "source": "s65",
            "source_arrow_fill": "filled",
            "source_arrow_shape": "none",
            "target": "pore_transport_dissociate_BakA_4_CytoCC",
            "target_arrow_shape": "triangle"
           }
          },
          {
           "data": {
            "arrowhead": "normal",
            "id": "992e9d9e-46e5-4c0f-9ccd-c9881a575f25",
            "source": "s66",
            "source_arrow_fill": "hollow",
            "source_arrow_shape": "triangle",
            "target": "pore_transport_complex_BakA_4_SmacM",
            "target_arrow_shape": "triangle"
           }
          },
          {
           "data": {
            "arrowhead": "normal",
            "id": "a4ecb219-0697-4f50-9423-56a0d211377f",
            "source": "s66",
            "source_arrow_fill": "filled",
            "source_arrow_shape": "none",
            "target": "pore_transport_dissociate_BakA_4_SmacC",
            "target_arrow_shape": "triangle"
           }
          },
          {
           "data": {
            "arrowhead": "normal",
            "id": "d3b4a547-d0e9-4857-a8ae-f1b0c9d78af6",
            "source": "s67",
            "source_arrow_fill": "hollow",
            "source_arrow_shape": "triangle",
            "target": "equilibrate_CytoCC_to_CytoCA",
            "target_arrow_shape": "triangle"
           }
          },
          {
           "data": {
            "arrowhead": "normal",
            "id": "4bb97878-b475-48ff-aaf9-5e0e73f2da4e",
            "source": "s68",
            "source_arrow_fill": "hollow",
            "source_arrow_shape": "triangle",
            "target": "equilibrate_SmacC_to_SmacA",
            "target_arrow_shape": "triangle"
           }
          },
          {
           "data": {
            "arrowhead": "normal",
            "id": "8c2ad969-b39f-44e7-8d57-d2e220bb2603",
            "source": "s69",
            "source_arrow_fill": "hollow",
            "source_arrow_shape": "triangle",
            "target": "equilibrate_SmacC_to_SmacA",
            "target_arrow_shape": "triangle"
           }
          },
          {
           "data": {
            "arrowhead": "normal",
            "id": "3e26198b-b5a5-4dec-9bfd-e24da87265c1",
            "source": "s69",
            "source_arrow_fill": "hollow",
            "source_arrow_shape": "triangle",
            "target": "bind_SmacA_XIAP",
            "target_arrow_shape": "triangle"
           }
          },
          {
           "data": {
            "arrowhead": "normal",
            "id": "d53d8416-9892-4924-80e3-36d355b4f938",
            "source": "s70",
            "source_arrow_fill": "hollow",
            "source_arrow_shape": "triangle",
            "target": "equilibrate_CytoCC_to_CytoCA",
            "target_arrow_shape": "triangle"
           }
          },
          {
           "data": {
            "arrowhead": "normal",
            "id": "07983aa7-3dae-4a1b-bdca-2e34cee52ad8",
            "source": "s70",
            "source_arrow_fill": "hollow",
            "source_arrow_shape": "triangle",
            "target": "bind_CytoCA_ApafI_to_CytoCAApafI",
            "target_arrow_shape": "triangle"
           }
          },
          {
           "data": {
            "arrowhead": "normal",
            "id": "2a5f3056-a827-4e74-b08e-014b26ffbcd3",
            "source": "s71",
            "source_arrow_fill": "hollow",
            "source_arrow_shape": "triangle",
            "target": "bind_CytoCA_ApafI_to_CytoCAApafI",
            "target_arrow_shape": "triangle"
           }
          },
          {
           "data": {
            "arrowhead": "normal",
            "id": "6adda6ab-3774-48b3-9e35-d40c672fddbf",
            "source": "s71",
            "source_arrow_fill": "filled",
            "source_arrow_shape": "none",
            "target": "catalyze_CytoCAApafI_to_CytoCA_ApafA",
            "target_arrow_shape": "triangle"
           }
          },
          {
           "data": {
            "arrowhead": "normal",
            "id": "649fdf23-2d6f-419f-afbf-b0189473bc35",
            "source": "s72",
            "source_arrow_fill": "hollow",
            "source_arrow_shape": "triangle",
            "target": "bind_SmacA_XIAP",
            "target_arrow_shape": "triangle"
           }
          },
          {
           "data": {
            "arrowhead": "normal",
            "id": "9418d2ad-dba8-42ad-b940-0183b913c167",
            "source": "s73",
            "source_arrow_fill": "hollow",
            "source_arrow_shape": "triangle",
            "target": "convert_ApafA_C9_to_Apop",
            "target_arrow_shape": "triangle"
           }
          },
          {
           "data": {
            "arrowhead": "normal",
            "id": "23e38621-3f68-4199-84c8-b86422fe5245",
            "source": "s74",
            "source_arrow_fill": "hollow",
            "source_arrow_shape": "triangle",
            "target": "convert_ApafA_C9_to_Apop",
            "target_arrow_shape": "triangle"
           }
          },
          {
           "data": {
            "arrowhead": "normal",
            "id": "264c4d88-877f-4471-8e74-95f2d3edc407",
            "source": "s74",
            "source_arrow_fill": "hollow",
            "source_arrow_shape": "triangle",
            "target": "bind_Apop_C3pro_to_ApopC3pro",
            "target_arrow_shape": "triangle"
           }
          },
          {
           "data": {
            "arrowhead": "normal",
            "id": "3ffd3523-1f4e-41de-85b9-d59296221de8",
            "source": "s74",
            "source_arrow_fill": "hollow",
            "source_arrow_shape": "triangle",
            "target": "bind_Apop_XIAP",
            "target_arrow_shape": "triangle"
           }
          },
          {
           "data": {
            "arrowhead": "normal",
            "id": "374b3ad8-c85e-4108-a5c7-5d4bc44641fa",
            "source": "s75",
            "source_arrow_fill": "hollow",
            "source_arrow_shape": "triangle",
            "target": "bind_Apop_C3pro_to_ApopC3pro",
            "target_arrow_shape": "triangle"
           }
          },
          {
           "data": {
            "arrowhead": "normal",
            "id": "ba58b8b0-11d9-421a-91eb-6fc48b77e9de",
            "source": "s75",
            "source_arrow_fill": "filled",
            "source_arrow_shape": "none",
            "target": "catalyze_ApopC3pro_to_Apop_C3A",
            "target_arrow_shape": "triangle"
           }
          },
          {
           "data": {
            "arrowhead": "normal",
            "id": "0cb6bca4-13e8-4cdc-8709-c35417c77e40",
            "source": "s76",
            "source_arrow_fill": "hollow",
            "source_arrow_shape": "triangle",
            "target": "bind_Apop_XIAP",
            "target_arrow_shape": "triangle"
           }
          },
          {
           "data": {
            "arrowhead": "normal",
            "id": "32abdf59-9df7-44e1-b132-016c8967aab6",
            "source": "convert_LR_to_DISC",
            "source_arrow_fill": "filled",
            "source_arrow_shape": "none",
            "target": "s26",
            "target_arrow_shape": "triangle"
           }
          },
          {
           "data": {
            "arrowhead": "normal",
            "id": "e2e95e80-29ee-4b7d-8ecc-1bd684e130bb",
            "source": "catalyze_DISCC8pro_to_DISC_C8A",
            "source_arrow_fill": "filled",
            "source_arrow_shape": "none",
            "target": "s26",
            "target_arrow_shape": "triangle"
           }
          },
          {
           "data": {
            "arrowhead": "normal",
            "id": "7a0d3b3e-a5d6-4653-8107-a3f88dd29a76",
            "source": "catalyze_DISCC8pro_to_DISC_C8A",
            "source_arrow_fill": "filled",
            "source_arrow_shape": "none",
            "target": "s30",
            "target_arrow_shape": "triangle"
           }
          },
          {
           "data": {
            "arrowhead": "normal",
            "id": "9b3eb6ee-8540-4fab-8a9e-d6809a590036",
            "source": "catalyze_C8ABidU_to_C8A_BidT",
            "source_arrow_fill": "filled",
            "source_arrow_shape": "none",
            "target": "s34",
            "target_arrow_shape": "triangle"
           }
          },
          {
           "data": {
            "arrowhead": "normal",
            "id": "7b971c6d-fe74-40e5-b211-05d0d569398b",
            "source": "catalyze_C8ABidU_to_C8A_BidT",
            "source_arrow_fill": "filled",
            "source_arrow_shape": "none",
            "target": "s30",
            "target_arrow_shape": "triangle"
           }
          },
          {
           "data": {
            "arrowhead": "normal",
            "id": "0ea1658f-40e3-4327-88bb-266df344b4e3",
            "source": "catalyze_CytoCAApafI_to_CytoCA_ApafA",
            "source_arrow_fill": "filled",
            "source_arrow_shape": "none",
            "target": "s73",
            "target_arrow_shape": "triangle"
           }
          },
          {
           "data": {
            "arrowhead": "normal",
            "id": "a873f36a-e0cb-4505-951c-623cd140e728",
            "source": "catalyze_CytoCAApafI_to_CytoCA_ApafA",
            "source_arrow_fill": "filled",
            "source_arrow_shape": "none",
            "target": "s70",
            "target_arrow_shape": "triangle"
           }
          },
          {
           "data": {
            "arrowhead": "normal",
            "id": "3af3ad97-7ae1-4d6c-bd93-06895b38d898",
            "source": "catalyze_ApopC3pro_to_Apop_C3A",
            "source_arrow_fill": "filled",
            "source_arrow_shape": "none",
            "target": "s74",
            "target_arrow_shape": "triangle"
           }
          },
          {
           "data": {
            "arrowhead": "normal",
            "id": "8867997c-ad39-4fb9-a172-3e857a5b3e91",
            "source": "catalyze_ApopC3pro_to_Apop_C3A",
            "source_arrow_fill": "filled",
            "source_arrow_shape": "none",
            "target": "s35",
            "target_arrow_shape": "triangle"
           }
          },
          {
           "data": {
            "arrowhead": "normal",
            "id": "afa7118c-ddbc-4604-9a0e-b4bffefc6db8",
            "source": "catalyze_C8AC3pro_to_C8A_C3A",
            "source_arrow_fill": "filled",
            "source_arrow_shape": "none",
            "target": "s35",
            "target_arrow_shape": "triangle"
           }
          },
          {
           "data": {
            "arrowhead": "normal",
            "id": "9a834320-d65f-49fe-a75b-0753dd590df0",
            "source": "catalyze_C8AC3pro_to_C8A_C3A",
            "source_arrow_fill": "filled",
            "source_arrow_shape": "none",
            "target": "s30",
            "target_arrow_shape": "triangle"
           }
          },
          {
           "data": {
            "arrowhead": "normal",
            "id": "af26205e-c659-4f33-b800-ebbd5683cc3d",
            "source": "catalyze_XIAPC3A_to_XIAP_C3ub",
            "source_arrow_fill": "filled",
            "source_arrow_shape": "none",
            "target": "s40",
            "target_arrow_shape": "triangle"
           }
          },
          {
           "data": {
            "arrowhead": "normal",
            "id": "3db1b453-b148-4fc1-a245-9c01edb47aba",
            "source": "catalyze_XIAPC3A_to_XIAP_C3ub",
            "source_arrow_fill": "filled",
            "source_arrow_shape": "none",
            "target": "s10",
            "target_arrow_shape": "triangle"
           }
          },
          {
           "data": {
            "arrowhead": "normal",
            "id": "9e80ddc2-b963-4852-9079-59ec1e11d5d0",
            "source": "catalyze_C3APARPU_to_C3A_PARPC",
            "source_arrow_fill": "filled",
            "source_arrow_shape": "none",
            "target": "s41",
            "target_arrow_shape": "triangle"
           }
          },
          {
           "data": {
            "arrowhead": "normal",
            "id": "7ee88a1b-1669-4d46-88d8-15fb4700b145",
            "source": "catalyze_C3APARPU_to_C3A_PARPC",
            "source_arrow_fill": "filled",
            "source_arrow_shape": "none",
            "target": "s35",
            "target_arrow_shape": "triangle"
           }
          },
          {
           "data": {
            "arrowhead": "normal",
            "id": "1a205a35-9bbf-48b4-a563-270761ee16b3",
            "source": "catalyze_C3AC6pro_to_C3A_C6A",
            "source_arrow_fill": "filled",
            "source_arrow_shape": "none",
            "target": "s42",
            "target_arrow_shape": "triangle"
           }
          },
          {
           "data": {
            "arrowhead": "normal",
            "id": "fb760b72-6fce-40ad-ae41-7ded566c3fb5",
            "source": "catalyze_C3AC6pro_to_C3A_C6A",
            "source_arrow_fill": "filled",
            "source_arrow_shape": "none",
            "target": "s35",
            "target_arrow_shape": "triangle"
           }
          },
          {
           "data": {
            "arrowhead": "normal",
            "id": "945ae26c-a59a-4a3c-b05e-ab3ad4f57d6d",
            "source": "catalyze_C6AC8pro_to_C6A_C8A",
            "source_arrow_fill": "filled",
            "source_arrow_shape": "none",
            "target": "s42",
            "target_arrow_shape": "triangle"
           }
          },
          {
           "data": {
            "arrowhead": "normal",
            "id": "f0f9c318-179d-4a87-9896-32df536dba41",
            "source": "catalyze_C6AC8pro_to_C6A_C8A",
            "source_arrow_fill": "filled",
            "source_arrow_shape": "none",
            "target": "s30",
            "target_arrow_shape": "triangle"
           }
          },
          {
           "data": {
            "arrowhead": "normal",
            "id": "fbc1512f-3bce-4ffe-b357-70189e22dd93",
            "source": "catalyze_BidMBaxM_to_BidM_BaxA",
            "source_arrow_fill": "filled",
            "source_arrow_shape": "none",
            "target": "s49",
            "target_arrow_shape": "triangle"
           }
          },
          {
           "data": {
            "arrowhead": "normal",
            "id": "5ce5d5cf-2224-4a55-ae59-189bea9398f2",
            "source": "catalyze_BidMBaxM_to_BidM_BaxA",
            "source_arrow_fill": "filled",
            "source_arrow_shape": "none",
            "target": "s39",
            "target_arrow_shape": "triangle"
           }
          },
          {
           "data": {
            "arrowhead": "normal",
            "id": "bce56031-06fc-46c1-b00f-a05d9d399105",
            "source": "catalyze_BidMBakM_to_BidM_BakA",
            "source_arrow_fill": "filled",
            "source_arrow_shape": "none",
            "target": "s50",
            "target_arrow_shape": "triangle"
           }
          },
          {
           "data": {
            "arrowhead": "normal",
            "id": "c7e53f00-ac2a-4cb3-9860-87ee5579acf0",
            "source": "catalyze_BidMBakM_to_BidM_BakA",
            "source_arrow_fill": "filled",
            "source_arrow_shape": "none",
            "target": "s39",
            "target_arrow_shape": "triangle"
           }
          },
          {
           "data": {
            "arrowhead": "normal",
            "id": "fde878b2-8142-4991-b75c-83dc3001abbe",
            "source": "catalyze_BaxABaxM_to_BaxA_BaxA",
            "source_arrow_fill": "filled",
            "source_arrow_shape": "none",
            "target": "s49",
            "target_arrow_shape": "triangle"
           }
          },
          {
           "data": {
            "arrowhead": "normal",
            "id": "f9d5d4d1-8442-4e0e-9c5b-566d5f095354",
            "source": "catalyze_BakABakM_to_BakA_BakA",
            "source_arrow_fill": "filled",
            "source_arrow_shape": "none",
            "target": "s50",
            "target_arrow_shape": "triangle"
           }
          },
          {
           "data": {
            "arrowhead": "normal",
            "id": "0f126522-1eb6-42ea-874d-4ac665a6d6e6",
            "source": "pore_transport_dissociate_BaxA_4_CytoCC",
            "source_arrow_fill": "filled",
            "source_arrow_shape": "none",
            "target": "s67",
            "target_arrow_shape": "triangle"
           }
          },
          {
           "data": {
            "arrowhead": "normal",
            "id": "18636760-09e1-485b-b02f-120b14c6dd58",
            "source": "pore_transport_dissociate_BaxA_4_CytoCC",
            "source_arrow_fill": "filled",
            "source_arrow_shape": "none",
            "target": "s61",
            "target_arrow_shape": "triangle"
           }
          },
          {
           "data": {
            "arrowhead": "normal",
            "id": "9d42cd98-c92a-47e0-969e-5b2fc1d61123",
            "source": "pore_transport_dissociate_BaxA_4_SmacC",
            "source_arrow_fill": "filled",
            "source_arrow_shape": "none",
            "target": "s68",
            "target_arrow_shape": "triangle"
           }
          },
          {
           "data": {
            "arrowhead": "normal",
            "id": "a8cbc7e6-6c11-4a9e-9a5d-68dd9780d72c",
            "source": "pore_transport_dissociate_BaxA_4_SmacC",
            "source_arrow_fill": "filled",
            "source_arrow_shape": "none",
            "target": "s61",
            "target_arrow_shape": "triangle"
           }
          },
          {
           "data": {
            "arrowhead": "normal",
            "id": "2c133029-705a-490e-bec9-7863ff02f888",
            "source": "pore_transport_dissociate_BakA_4_CytoCC",
            "source_arrow_fill": "filled",
            "source_arrow_shape": "none",
            "target": "s67",
            "target_arrow_shape": "triangle"
           }
          },
          {
           "data": {
            "arrowhead": "normal",
            "id": "76cff652-a758-4f3e-9751-fee65af463c5",
            "source": "pore_transport_dissociate_BakA_4_CytoCC",
            "source_arrow_fill": "filled",
            "source_arrow_shape": "none",
            "target": "s62",
            "target_arrow_shape": "triangle"
           }
          },
          {
           "data": {
            "arrowhead": "normal",
            "id": "d53804db-5570-478b-953f-76ea99ccaf45",
            "source": "pore_transport_dissociate_BakA_4_SmacC",
            "source_arrow_fill": "filled",
            "source_arrow_shape": "none",
            "target": "s68",
            "target_arrow_shape": "triangle"
           }
          },
          {
           "data": {
            "arrowhead": "normal",
            "id": "748b038b-b0ef-40cb-8993-0efacc775caa",
            "source": "pore_transport_dissociate_BakA_4_SmacC",
            "source_arrow_fill": "filled",
            "source_arrow_shape": "none",
            "target": "s62",
            "target_arrow_shape": "triangle"
           }
          }
         ],
         "nodes": [
          {
           "data": {
            "NodeType": "species",
            "background_color": "#aaffff",
            "bipartite": 0,
            "id": "s0",
            "label": "L",
            "name": "s0",
            "shape": "ellipse"
           },
           "position": {
            "x": 2266.061331563537,
            "y": 60.445498657065826
           }
          },
          {
           "data": {
            "NodeType": "species",
            "background_color": "#aaffff",
            "bipartite": 0,
            "id": "s1",
            "label": "R",
            "name": "s1",
            "shape": "ellipse"
           },
           "position": {
            "x": 2152.4637869832545,
            "y": 39
           }
          },
          {
           "data": {
            "NodeType": "species",
            "background_color": "#aaffff",
            "bipartite": 0,
            "id": "s2",
            "label": "flip",
            "name": "s2",
            "shape": "ellipse"
           },
           "position": {
            "x": 2343.6454098126737,
            "y": 370.56120561349127
           }
          },
          {
           "data": {
            "NodeType": "species",
            "background_color": "#aaffff",
            "bipartite": 0,
            "id": "s3",
            "label": "proC8",
            "name": "s3",
            "shape": "ellipse"
           },
           "position": {
            "x": 2433.62777143641,
            "y": 528.2561217153561
           }
          },
          {
           "data": {
            "NodeType": "species",
            "background_color": "#aaffff",
            "bipartite": 0,
            "id": "s4",
            "label": "BAR",
            "name": "s4",
            "shape": "ellipse"
           },
           "position": {
            "x": 2128.4567969230834,
            "y": 476.70457409049897
           }
          },
          {
           "data": {
            "NodeType": "species",
            "background_color": "#aaffff",
            "bipartite": 0,
            "id": "s5",
            "label": "iApaf",
            "name": "s5",
            "shape": "ellipse"
           },
           "position": {
            "x": 519.8438196515204,
            "y": 432.1982287725696
           }
          },
          {
           "data": {
            "NodeType": "species",
            "background_color": "#aaffff",
            "bipartite": 0,
            "id": "s6",
            "label": "proC3",
            "name": "s6",
            "shape": "ellipse"
           },
           "position": {
            "x": 1721.2934263227296,
            "y": 559.0304226417309
           }
          },
          {
           "data": {
            "NodeType": "species",
            "background_color": "#aaffff",
            "bipartite": 0,
            "id": "s7",
            "label": "proC6",
            "name": "s7",
            "shape": "ellipse"
           },
           "position": {
            "x": 2255.3315272022237,
            "y": 686.2624508132399
           }
          },
          {
           "data": {
            "NodeType": "species",
            "background_color": "#aaffff",
            "bipartite": 0,
            "id": "s8",
            "label": "C9",
            "name": "s8",
            "shape": "ellipse"
           },
           "position": {
            "x": 1417.8475551664028,
            "y": 559.8141226681255
           }
          },
          {
           "data": {
            "NodeType": "species",
            "background_color": "#aaffff",
            "bipartite": 0,
            "id": "s9",
            "label": "uPARP",
            "name": "s9",
            "shape": "ellipse"
           },
           "position": {
            "x": 2191.182050103199,
            "y": 865.1729406759566
           }
          },
          {
           "data": {
            "NodeType": "species",
            "background_color": "#aaffff",
            "bipartite": 0,
            "id": "s10",
            "label": "XIAP",
            "name": "s10",
            "shape": "ellipse"
           },
           "position": {
            "x": 1680.6848831774266,
            "y": 943.0732956328818
           }
          },
          {
           "data": {
            "NodeType": "species",
            "background_color": "#aaffff",
            "bipartite": 0,
            "id": "s11",
            "label": "uBid",
            "name": "s11",
            "shape": "ellipse"
           },
           "position": {
            "x": 1812.2736396503328,
            "y": 297.3237188617906
           }
          },
          {
           "data": {
            "NodeType": "species",
            "background_color": "#aaffff",
            "bipartite": 0,
            "id": "s12",
            "label": "cBax",
            "name": "s12",
            "shape": "ellipse"
           },
           "position": {
            "x": 757.3843226713991,
            "y": 314.4699917397783
           }
          },
          {
           "data": {
            "NodeType": "species",
            "background_color": "#aaffff",
            "bipartite": 0,
            "id": "s13",
            "label": "mBak",
            "name": "s13",
            "shape": "ellipse"
           },
           "position": {
            "x": 1492.0908381143106,
            "y": 811.3023518129382
           }
          },
          {
           "data": {
            "NodeType": "species",
            "background_color": "#aaffff",
            "bipartite": 0,
            "id": "s14",
            "label": "Bcl2",
            "name": "s14",
            "shape": "ellipse"
           },
           "position": {
            "x": 862.2926226021618,
            "y": 738.4615679890969
           }
          },
          {
           "data": {
            "NodeType": "species",
            "background_color": "#aaffff",
            "bipartite": 0,
            "id": "s15",
            "label": "cBclxL",
            "name": "s15",
            "shape": "ellipse"
           },
           "position": {
            "x": 880.6989933431046,
            "y": 1001.0738598974674
           }
          },
          {
           "data": {
            "NodeType": "species",
            "background_color": "#aaffff",
            "bipartite": 0,
            "id": "s16",
            "label": "mMcl1",
            "name": "s16",
            "shape": "ellipse"
           },
           "position": {
            "x": 1161.9144466563732,
            "y": 947.5681957501122
           }
          },
          {
           "data": {
            "NodeType": "species",
            "background_color": "#aaffff",
            "bipartite": 0,
            "id": "s17",
            "label": "mCytoC",
            "name": "s17",
            "shape": "ellipse"
           },
           "position": {
            "x": 522.101017548657,
            "y": 960.9010348682284
           }
          },
          {
           "data": {
            "NodeType": "species",
            "background_color": "#aaffff",
            "bipartite": 0,
            "id": "s18",
            "label": "mSmac",
            "name": "s18",
            "shape": "ellipse"
           },
           "position": {
            "x": 407.1566962093768,
            "y": 1165.6598916720902
           }
          },
          {
           "data": {
            "NodeType": "species",
            "background_color": "#aaffff",
            "bipartite": 0,
            "id": "s19",
            "label": "mBad",
            "name": "s19",
            "shape": "ellipse"
           },
           "position": {
            "x": 786.6576365085793,
            "y": 947.5834202741307
           }
          },
          {
           "data": {
            "NodeType": "species",
            "background_color": "#aaffff",
            "bipartite": 0,
            "id": "s20",
            "label": "mNoxa",
            "name": "s20",
            "shape": "ellipse"
           },
           "position": {
            "x": 1222.202078306215,
            "y": 998.0539875892123
           }
          },
          {
           "data": {
            "NodeType": "species",
            "background_color": "#ccffcc",
            "bipartite": 0,
            "id": "s21",
            "label": "L-R",
            "name": "s21",
            "shape": "ellipse"
           },
           "position": {
            "x": 2152.893094426851,
            "y": 241.38759494488966
           }
          },
          {
           "data": {
            "NodeType": "species",
            "background_color": "#ccffcc",
            "bipartite": 0,
            "id": "s22",
            "label": "mBax",
            "name": "s22",
            "shape": "ellipse"
           },
           "position": {
            "x": 805.5178327932324,
            "y": 505.6073196097354
           }
          },
          {
           "data": {
            "NodeType": "species",
            "background_color": "#ccffcc",
            "bipartite": 0,
            "id": "s23",
            "label": "mBclxL",
            "name": "s23",
            "shape": "ellipse"
           },
           "position": {
            "x": 729.0062358615737,
            "y": 893.1229141595461
           }
          },
          {
           "data": {
            "NodeType": "species",
            "background_color": "#ccffcc",
            "bipartite": 0,
            "id": "s24",
            "label": "mBad-Bcl2",
            "name": "s24",
            "shape": "ellipse"
           },
           "position": {
            "x": 858.9056230661558,
            "y": 914.2072467851735
           }
          },
          {
           "data": {
            "NodeType": "species",
            "background_color": "#ccffcc",
            "bipartite": 0,
            "id": "s25",
            "label": "mMcl1-mNoxa",
            "name": "s25",
            "shape": "ellipse"
           },
           "position": {
            "x": 1396.9495011612414,
            "y": 830.2768462418239
           }
          },
          {
           "data": {
            "NodeType": "species",
            "background_color": "#ccffcc",
            "bipartite": 0,
            "id": "s26",
            "label": "DISC",
            "name": "s26",
            "shape": "ellipse"
           },
           "position": {
            "x": 2201.056672394809,
            "y": 434.77080725996274
           }
          },
          {
           "data": {
            "NodeType": "species",
            "background_color": "#ccffcc",
            "bipartite": 0,
            "id": "s27",
            "label": "mBad-mBclxL",
            "name": "s27",
            "shape": "ellipse"
           },
           "position": {
            "x": 431.68216189993746,
            "y": 1094.3757463245313
           }
          },
          {
           "data": {
            "NodeType": "species",
            "background_color": "#ccffcc",
            "bipartite": 0,
            "id": "s28",
            "label": "proC8-DISC",
            "name": "s28",
            "shape": "ellipse"
           },
           "position": {
            "x": 2236.7812051082306,
            "y": 373.8424205187188
           }
          },
          {
           "data": {
            "NodeType": "species",
            "background_color": "#ccffcc",
            "bipartite": 0,
            "id": "s29",
            "label": "DISC-flip",
            "name": "s29",
            "shape": "ellipse"
           },
           "position": {
            "x": 2299.569087671249,
            "y": 314.2746695334816
           }
          },
          {
           "data": {
            "NodeType": "species",
            "background_color": "#ccffcc",
            "bipartite": 0,
            "id": "s30",
            "label": "aC8",
            "name": "s30",
            "shape": "ellipse"
           },
           "position": {
            "x": 1860.7061314587468,
            "y": 513.3216678991571
           }
          },
          {
           "data": {
            "NodeType": "species",
            "background_color": "#ccffcc",
            "bipartite": 0,
            "id": "s31",
            "label": "uBid-aC8",
            "name": "s31",
            "shape": "ellipse"
           },
           "position": {
            "x": 1563.1854401789135,
            "y": 415.594826391096
           }
          },
          {
           "data": {
            "NodeType": "species",
            "background_color": "#ccffcc",
            "bipartite": 0,
            "id": "s32",
            "label": "BAR-aC8",
            "name": "s32",
            "shape": "ellipse"
           },
           "position": {
            "x": 2138.505673937012,
            "y": 544.6827340087934
           }
          },
          {
           "data": {
            "NodeType": "species",
            "background_color": "#ccffcc",
            "bipartite": 0,
            "id": "s33",
            "label": "proC3-aC8",
            "name": "s33",
            "shape": "ellipse"
           },
           "position": {
            "x": 1803.1443121722377,
            "y": 570.0095649827697
           }
          },
          {
           "data": {
            "NodeType": "species",
            "background_color": "#ccffcc",
            "bipartite": 0,
            "id": "s34",
            "label": "tBid",
            "name": "s34",
            "shape": "ellipse"
           },
           "position": {
            "x": 1356.7522473319948,
            "y": 570.0302630615929
           }
          },
          {
           "data": {
            "NodeType": "species",
            "background_color": "#ccffcc",
            "bipartite": 0,
            "id": "s35",
            "label": "aC3",
            "name": "s35",
            "shape": "ellipse"
           },
           "position": {
            "x": 1982.7157441197942,
            "y": 793.7953280137292
           }
          },
          {
           "data": {
            "NodeType": "species",
            "background_color": "#ccffcc",
            "bipartite": 0,
            "id": "s36",
            "label": "aC3-XIAP",
            "name": "s36",
            "shape": "ellipse"
           },
           "position": {
            "x": 1733.8643040757397,
            "y": 1014.2039584414783
           }
          },
          {
           "data": {
            "NodeType": "species",
            "background_color": "#ccffcc",
            "bipartite": 0,
            "id": "s37",
            "label": "aC3-uPARP",
            "name": "s37",
            "shape": "ellipse"
           },
           "position": {
            "x": 2296.375635532938,
            "y": 921.2698969745943
           }
          },
          {
           "data": {
            "NodeType": "species",
            "background_color": "#ccffcc",
            "bipartite": 0,
            "id": "s38",
            "label": "aC3-proC6",
            "name": "s38",
            "shape": "ellipse"
           },
           "position": {
            "x": 2058.0123438422806,
            "y": 815.7741361569554
           }
          },
          {
           "data": {
            "NodeType": "species",
            "background_color": "#ccffcc",
            "bipartite": 0,
            "id": "s39",
            "label": "mBid",
            "name": "s39",
            "shape": "ellipse"
           },
           "position": {
            "x": 1076.4892093398632,
            "y": 731.9341269448009
           }
          },
          {
           "data": {
            "NodeType": "species",
            "background_color": "#ccffcc",
            "bipartite": 0,
            "id": "s40",
            "label": "ubC3",
            "name": "s40",
            "shape": "ellipse"
           },
           "position": {
            "x": 1877.9134195652503,
            "y": 1068.3899740987376
           }
          },
          {
           "data": {
            "NodeType": "species",
            "background_color": "#ccffcc",
            "bipartite": 0,
            "id": "s41",
            "label": "cPARP",
            "name": "s41",
            "shape": "ellipse"
           },
           "position": {
            "x": 2460.0190469713325,
            "y": 859.477081977687
           }
          },
          {
           "data": {
            "NodeType": "species",
            "background_color": "#ccffcc",
            "bipartite": 0,
            "id": "s42",
            "label": "aC6",
            "name": "s42",
            "shape": "ellipse"
           },
           "position": {
            "x": 2168.3833858316634,
            "y": 651.7148485830216
           }
          },
          {
           "data": {
            "NodeType": "species",
            "background_color": "#ccffcc",
            "bipartite": 0,
            "id": "s43",
            "label": "mBax-mBid",
            "name": "s43",
            "shape": "ellipse"
           },
           "position": {
            "x": 787.8844690721121,
            "y": 566.1310202756379
           }
          },
          {
           "data": {
            "NodeType": "species",
            "background_color": "#ccffcc",
            "bipartite": 0,
            "id": "s44",
            "label": "mBak-mBid",
            "name": "s44",
            "shape": "ellipse"
           },
           "position": {
            "x": 1154.4120594198203,
            "y": 701.4224116482551
           }
          },
          {
           "data": {
            "NodeType": "species",
            "background_color": "#ccffcc",
            "bipartite": 0,
            "id": "s45",
            "label": "Bcl2-mBid",
            "name": "s45",
            "shape": "ellipse"
           },
           "position": {
            "x": 1155.6928096048277,
            "y": 578.0672292083493
           }
          },
          {
           "data": {
            "NodeType": "species",
            "background_color": "#ccffcc",
            "bipartite": 0,
            "id": "s46",
            "label": "mBclxL-mBid",
            "name": "s46",
            "shape": "ellipse"
           },
           "position": {
            "x": 1061.803399154655,
            "y": 820.8266813575963
           }
          },
          {
           "data": {
            "NodeType": "species",
            "background_color": "#ccffcc",
            "bipartite": 0,
            "id": "s47",
            "label": "mBid-mMcl1",
            "name": "s47",
            "shape": "ellipse"
           },
           "position": {
            "x": 1128.3770710874762,
            "y": 1011.4119666083984
           }
          },
          {
           "data": {
            "NodeType": "species",
            "background_color": "#ccffcc",
            "bipartite": 0,
            "id": "s48",
            "label": "aC6-proC8",
            "name": "s48",
            "shape": "ellipse"
           },
           "position": {
            "x": 2232.656216370202,
            "y": 580.2823299157449
           }
          },
          {
           "data": {
            "NodeType": "species",
            "background_color": "#ccffcc",
            "bipartite": 0,
            "id": "s49",
            "label": "aBax",
            "name": "s49",
            "shape": "ellipse"
           },
           "position": {
            "x": 527.9873108692924,
            "y": 716.4085872002304
           }
          },
          {
           "data": {
            "NodeType": "species",
            "background_color": "#ccffcc",
            "bipartite": 0,
            "id": "s50",
            "label": "aBak",
            "name": "s50",
            "shape": "ellipse"
           },
           "position": {
            "x": 1221.292748785529,
            "y": 932.059058797859
           }
          },
          {
           "data": {
            "NodeType": "species",
            "background_color": "#ccffcc",
            "bipartite": 0,
            "id": "s51",
            "label": "aBax-mBax",
            "name": "s51",
            "shape": "ellipse"
           },
           "position": {
            "x": 379.6696696409964,
            "y": 537.991473746978
           }
          },
          {
           "data": {
            "NodeType": "species",
            "background_color": "#ccffcc",
            "bipartite": 0,
            "id": "s52",
            "label": "aBak-mBak",
            "name": "s52",
            "shape": "ellipse"
           },
           "position": {
            "x": 1646.759239376554,
            "y": 876.859248731922
           }
          },
          {
           "data": {
            "NodeType": "species",
            "background_color": "#ccffcc",
            "bipartite": 0,
            "id": "s53",
            "label": "aBax-Bcl2",
            "name": "s53",
            "shape": "ellipse"
           },
           "position": {
            "x": 840.2947273696889,
            "y": 640.5912579227349
           }
          },
          {
           "data": {
            "NodeType": "species",
            "background_color": "#ccffcc",
            "bipartite": 0,
            "id": "s54",
            "label": "aBax-mBclxL",
            "name": "s54",
            "shape": "ellipse"
           },
           "position": {
            "x": 459.61633735478557,
            "y": 797.3603430815592
           }
          },
          {
           "data": {
            "NodeType": "species",
            "background_color": "#ccffcc",
            "bipartite": 0,
            "id": "s55",
            "label": "aBak-mBclxL",
            "name": "s55",
            "shape": "ellipse"
           },
           "position": {
            "x": 994.812234925057,
            "y": 748.5871764344129
           }
          },
          {
           "data": {
            "NodeType": "species",
            "background_color": "#ccffcc",
            "bipartite": 0,
            "id": "s56",
            "label": "aBak-mMcl1",
            "name": "s56",
            "shape": "ellipse"
           },
           "position": {
            "x": 1014.0899809618584,
            "y": 1157.4417429923992
           }
          },
          {
           "data": {
            "NodeType": "species",
            "background_color": "#ccffcc",
            "bipartite": 0,
            "id": "s57",
            "label": "2aBax",
            "name": "s57",
            "shape": "ellipse"
           },
           "position": {
            "x": 461.6554506344975,
            "y": 706.3364869648085
           }
          },
          {
           "data": {
            "NodeType": "species",
            "background_color": "#ccffcc",
            "bipartite": 0,
            "id": "s58",
            "label": "2aBak",
            "name": "s58",
            "shape": "ellipse"
           },
           "position": {
            "x": 1475.5040075254033,
            "y": 1086.206489525741
           }
          },
          {
           "data": {
            "NodeType": "species",
            "background_color": "#ccffcc",
            "bipartite": 0,
            "id": "s59",
            "label": "3aBax",
            "name": "s59",
            "shape": "ellipse"
           },
           "position": {
            "x": 267.5390693968708,
            "y": 843.2149254709409
           }
          },
          {
           "data": {
            "NodeType": "species",
            "background_color": "#ccffcc",
            "bipartite": 0,
            "id": "s60",
            "label": "3aBak",
            "name": "s60",
            "shape": "ellipse"
           },
           "position": {
            "x": 1057.7337752330886,
            "y": 1060.4597396295362
           }
          },
          {
           "data": {
            "NodeType": "species",
            "background_color": "#ccffcc",
            "bipartite": 0,
            "id": "s61",
            "label": "4aBax",
            "name": "s61",
            "shape": "ellipse"
           },
           "position": {
            "x": 456.20607501840266,
            "y": 1015.1364223681107
           }
          },
          {
           "data": {
            "NodeType": "species",
            "background_color": "#ccffcc",
            "bipartite": 0,
            "id": "s62",
            "label": "4aBak",
            "name": "s62",
            "shape": "ellipse"
           },
           "position": {
            "x": 857.9447806146038,
            "y": 1116.2571092027697
           }
          },
          {
           "data": {
            "NodeType": "species",
            "background_color": "#ccffcc",
            "bipartite": 0,
            "id": "s63",
            "label": "4aBax-mCytoC",
            "name": "s63",
            "shape": "ellipse"
           },
           "position": {
            "x": 71.5,
            "y": 918.6712137152617
           }
          },
          {
           "data": {
            "NodeType": "species",
            "background_color": "#ccffcc",
            "bipartite": 0,
            "id": "s64",
            "label": "4aBax-mSmac",
            "name": "s64",
            "shape": "ellipse"
           },
           "position": {
            "x": 305.2016406060368,
            "y": 1148.7075225053525
           }
          },
          {
           "data": {
            "NodeType": "species",
            "background_color": "#ccffcc",
            "bipartite": 0,
            "id": "s65",
            "label": "4aBak-mCytoC",
            "name": "s65",
            "shape": "ellipse"
           },
           "position": {
            "x": 954.8233769068172,
            "y": 1089.836972331894
           }
          },
          {
           "data": {
            "NodeType": "species",
            "background_color": "#ccffcc",
            "bipartite": 0,
            "id": "s66",
            "label": "4aBak-mSmac",
            "name": "s66",
            "shape": "ellipse"
           },
           "position": {
            "x": 714.5469293500687,
            "y": 1295.8722345547003
           }
          },
          {
           "data": {
            "NodeType": "species",
            "background_color": "#ccffcc",
            "bipartite": 0,
            "id": "s67",
            "label": "cCytoC",
            "name": "s67",
            "shape": "ellipse"
           },
           "position": {
            "x": 647.7168900400732,
            "y": 905.9371519537901
           }
          },
          {
           "data": {
            "NodeType": "species",
            "background_color": "#ccffcc",
            "bipartite": 0,
            "id": "s68",
            "label": "cSmac",
            "name": "s68",
            "shape": "ellipse"
           },
           "position": {
            "x": 919.4950313799018,
            "y": 1174.670727481789
           }
          },
          {
           "data": {
            "NodeType": "species",
            "background_color": "#ccffcc",
            "bipartite": 0,
            "id": "s69",
            "label": "aSmac",
            "name": "s69",
            "shape": "ellipse"
           },
           "position": {
            "x": 1401.0040610207095,
            "y": 1127.4703430151178
           }
          },
          {
           "data": {
            "NodeType": "species",
            "background_color": "#ccffcc",
            "bipartite": 0,
            "id": "s70",
            "label": "aCytoC",
            "name": "s70",
            "shape": "ellipse"
           },
           "position": {
            "x": 757.5302775287305,
            "y": 623.5211908136212
           }
          },
          {
           "data": {
            "NodeType": "species",
            "background_color": "#ccffcc",
            "bipartite": 0,
            "id": "s71",
            "label": "iApaf-aCytoC",
            "name": "s71",
            "shape": "ellipse"
           },
           "position": {
            "x": 880.5344483523647,
            "y": 447.07641789732446
           }
          },
          {
           "data": {
            "NodeType": "species",
            "background_color": "#ccffcc",
            "bipartite": 0,
            "id": "s72",
            "label": "aSmac-XIAP",
            "name": "s72",
            "shape": "ellipse"
           },
           "position": {
            "x": 1696.0473313385903,
            "y": 1127.0015264444894
           }
          },
          {
           "data": {
            "NodeType": "species",
            "background_color": "#ccffcc",
            "bipartite": 0,
            "id": "s73",
            "label": "aApaf",
            "name": "s73",
            "shape": "ellipse"
           },
           "position": {
            "x": 1260.7793533974516,
            "y": 573.3603989682274
           }
          },
          {
           "data": {
            "NodeType": "species",
            "background_color": "#ccffcc",
            "bipartite": 0,
            "id": "s74",
            "label": "Apop",
            "name": "s74",
            "shape": "ellipse"
           },
           "position": {
            "x": 1578.797050217883,
            "y": 710.0130715022328
           }
          },
          {
           "data": {
            "NodeType": "species",
            "background_color": "#ccffcc",
            "bipartite": 0,
            "id": "s75",
            "label": "Apop-proC3",
            "name": "s75",
            "shape": "ellipse"
           },
           "position": {
            "x": 1677.0659542524156,
            "y": 679.6000378825306
           }
          },
          {
           "data": {
            "NodeType": "species",
            "background_color": "#ccffcc",
            "bipartite": 0,
            "id": "s76",
            "label": "Apop-XIAP",
            "name": "s76",
            "shape": "ellipse"
           },
           "position": {
            "x": 1762.2681325559743,
            "y": 822.1485904338404
           }
          },
          {
           "data": {
            "NodeType": "rule",
            "background_color": "#ff4c4c",
            "bipartite": 1,
            "id": "bind_L_R_to_LR",
            "index": "rule0",
            "label": "bind_L_R_to_LR",
            "name": "bind_L_R_to_LR",
            "shape": "roundrectangle"
           },
           "position": {
            "x": 2186.48616399719,
            "y": 138.9938127546217
           }
          },
          {
           "data": {
            "NodeType": "rule",
            "background_color": "#ff4c4c",
            "bipartite": 1,
            "id": "convert_LR_to_DISC",
            "index": "rule1",
            "label": "convert_LR_to_DISC",
            "name": "convert_LR_to_DISC",
            "shape": "roundrectangle"
           },
           "position": {
            "x": 2097.6983354582508,
            "y": 341.5247311363243
           }
          },
          {
           "data": {
            "NodeType": "rule",
            "background_color": "#ff4c4c",
            "bipartite": 1,
            "id": "bind_DISC_C8pro_to_DISCC8pro",
            "index": "rule2",
            "label": "bind_DISC_C8pro_to_DISCC8pro",
            "name": "bind_DISC_C8pro_to_DISCC8pro",
            "shape": "roundrectangle"
           },
           "position": {
            "x": 2460.0533345331537,
            "y": 419.38599131653604
           }
          },
          {
           "data": {
            "NodeType": "rule",
            "background_color": "#ff4c4c",
            "bipartite": 1,
            "id": "catalyze_DISCC8pro_to_DISC_C8A",
            "index": "rule3",
            "label": "catalyze_DISCC8pro_to_DISC_C8A",
            "name": "catalyze_DISCC8pro_to_DISC_C8A",
            "shape": "roundrectangle"
           },
           "position": {
            "x": 2011.1509149696437,
            "y": 428.6067758321896
           }
          },
          {
           "data": {
            "NodeType": "rule",
            "background_color": "#ff4c4c",
            "bipartite": 1,
            "id": "bind_C8A_BidU_to_C8ABidU",
            "index": "rule4",
            "label": "bind_C8A_BidU_to_C8ABidU",
            "name": "bind_C8A_BidU_to_C8ABidU",
            "shape": "roundrectangle"
           },
           "position": {
            "x": 1759.9073993209222,
            "y": 395.40893108299105
           }
          },
          {
           "data": {
            "NodeType": "rule",
            "background_color": "#ff4c4c",
            "bipartite": 1,
            "id": "catalyze_C8ABidU_to_C8A_BidT",
            "index": "rule5",
            "label": "catalyze_C8ABidU_to_C8A_BidT",
            "name": "catalyze_C8ABidU_to_C8A_BidT",
            "shape": "roundrectangle"
           },
           "position": {
            "x": 1577.3924660756147,
            "y": 517.0497731443195
           }
          },
          {
           "data": {
            "NodeType": "rule",
            "background_color": "#ff4c4c",
            "bipartite": 1,
            "id": "bind_DISC_flip",
            "index": "rule6",
            "label": "bind_DISC_flip",
            "name": "bind_DISC_flip",
            "shape": "roundrectangle"
           },
           "position": {
            "x": 2296.11259195817,
            "y": 467.0639125178737
           }
          },
          {
           "data": {
            "NodeType": "rule",
            "background_color": "#ff4c4c",
            "bipartite": 1,
            "id": "bind_BAR_C8A",
            "index": "rule7",
            "label": "bind_BAR_C8A",
            "name": "bind_BAR_C8A",
            "shape": "roundrectangle"
           },
           "position": {
            "x": 1995.622683779785,
            "y": 508.56206950244604
           }
          },
          {
           "data": {
            "NodeType": "rule",
            "background_color": "#ff4c4c",
            "bipartite": 1,
            "id": "equilibrate_SmacC_to_SmacA",
            "index": "rule8",
            "label": "equilibrate_SmacC_to_SmacA",
            "name": "equilibrate_SmacC_to_SmacA",
            "shape": "roundrectangle"
           },
           "position": {
            "x": 1186.9604778167834,
            "y": 1183.9427878872416
           }
          },
          {
           "data": {
            "NodeType": "rule",
            "background_color": "#ff4c4c",
            "bipartite": 1,
            "id": "equilibrate_CytoCC_to_CytoCA",
            "index": "rule9",
            "label": "equilibrate_CytoCC_to_CytoCA",
            "name": "equilibrate_CytoCC_to_CytoCA",
            "shape": "roundrectangle"
           },
           "position": {
            "x": 687.0866552113821,
            "y": 756.0384629968771
           }
          },
          {
           "data": {
            "NodeType": "rule",
            "background_color": "#ff4c4c",
            "bipartite": 1,
            "id": "bind_CytoCA_ApafI_to_CytoCAApafI",
            "index": "rule10",
            "label": "bind_CytoCA_ApafI_to_CytoCAApafI",
            "name": "bind_CytoCA_ApafI_to_CytoCAApafI",
            "shape": "roundrectangle"
           },
           "position": {
            "x": 637.8933418990638,
            "y": 498.1644710082623
           }
          },
          {
           "data": {
            "NodeType": "rule",
            "background_color": "#ff4c4c",
            "bipartite": 1,
            "id": "catalyze_CytoCAApafI_to_CytoCA_ApafA",
            "index": "rule11",
            "label": "catalyze_CytoCAApafI_to_CytoCA_ApafA",
            "name": "catalyze_CytoCAApafI_to_CytoCA_ApafA",
            "shape": "roundrectangle"
           },
           "position": {
            "x": 989.3977493257623,
            "y": 527.3708173098385
           }
          },
          {
           "data": {
            "NodeType": "rule",
            "background_color": "#ff4c4c",
            "bipartite": 1,
            "id": "convert_ApafA_C9_to_Apop",
            "index": "rule12",
            "label": "convert_ApafA_C9_to_Apop",
            "name": "convert_ApafA_C9_to_Apop",
            "shape": "roundrectangle"
           },
           "position": {
            "x": 1418.4876640951577,
            "y": 659.2651665855476
           }
          },
          {
           "data": {
            "NodeType": "rule",
            "background_color": "#ff4c4c",
            "bipartite": 1,
            "id": "bind_Apop_C3pro_to_ApopC3pro",
            "index": "rule13",
            "label": "bind_Apop_C3pro_to_ApopC3pro",
            "name": "bind_Apop_C3pro_to_ApopC3pro",
            "shape": "roundrectangle"
           },
           "position": {
            "x": 1584.2577915178329,
            "y": 604.7379219533773
           }
          },
          {
           "data": {
            "NodeType": "rule",
            "background_color": "#ff4c4c",
            "bipartite": 1,
            "id": "catalyze_ApopC3pro_to_Apop_C3A",
            "index": "rule14",
            "label": "catalyze_ApopC3pro_to_Apop_C3A",
            "name": "catalyze_ApopC3pro_to_Apop_C3A",
            "shape": "roundrectangle"
           },
           "position": {
            "x": 1794.5277481316152,
            "y": 749.8427926152337
           }
          },
          {
           "data": {
            "NodeType": "rule",
            "background_color": "#ff4c4c",
            "bipartite": 1,
            "id": "bind_Apop_XIAP",
            "index": "rule15",
            "label": "bind_Apop_XIAP",
            "name": "bind_Apop_XIAP",
            "shape": "roundrectangle"
           },
           "position": {
            "x": 1613.1819122250147,
            "y": 813.6539033390254
           }
          },
          {
           "data": {
            "NodeType": "rule",
            "background_color": "#ff4c4c",
            "bipartite": 1,
            "id": "bind_SmacA_XIAP",
            "index": "rule16",
            "label": "bind_SmacA_XIAP",
            "name": "bind_SmacA_XIAP",
            "shape": "roundrectangle"
           },
           "position": {
            "x": 1579.693103788654,
            "y": 1045.948399052397
           }
          },
          {
           "data": {
            "NodeType": "rule",
            "background_color": "#ff4c4c",
            "bipartite": 1,
            "id": "bind_C8A_C3pro_to_C8AC3pro",
            "index": "rule17",
            "label": "bind_C8A_C3pro_to_C8AC3pro",
            "name": "bind_C8A_C3pro_to_C8AC3pro",
            "shape": "roundrectangle"
           },
           "position": {
            "x": 1744.0619636379415,
            "y": 465.9508826278082
           }
          },
          {
           "data": {
            "NodeType": "rule",
            "background_color": "#ff4c4c",
            "bipartite": 1,
            "id": "catalyze_C8AC3pro_to_C8A_C3A",
            "index": "rule18",
            "label": "catalyze_C8AC3pro_to_C8A_C3A",
            "name": "catalyze_C8AC3pro_to_C8A_C3A",
            "shape": "roundrectangle"
           },
           "position": {
            "x": 1875.1074190758093,
            "y": 652.9956222468659
           }
          },
          {
           "data": {
            "NodeType": "rule",
            "background_color": "#ff4c4c",
            "bipartite": 1,
            "id": "bind_XIAP_C3A_to_XIAPC3A",
            "index": "rule19",
            "label": "bind_XIAP_C3A_to_XIAPC3A",
            "name": "bind_XIAP_C3A_to_XIAPC3A",
            "shape": "roundrectangle"
           },
           "position": {
            "x": 1828.6428011401442,
            "y": 890.1083721158359
           }
          },
          {
           "data": {
            "NodeType": "rule",
            "background_color": "#ff4c4c",
            "bipartite": 1,
            "id": "catalyze_XIAPC3A_to_XIAP_C3ub",
            "index": "rule20",
            "label": "catalyze_XIAPC3A_to_XIAP_C3ub",
            "name": "catalyze_XIAPC3A_to_XIAP_C3ub",
            "shape": "roundrectangle"
           },
           "position": {
            "x": 1878.7073693363534,
            "y": 964.3248190781537
           }
          },
          {
           "data": {
            "NodeType": "rule",
            "background_color": "#ff4c4c",
            "bipartite": 1,
            "id": "bind_C3A_PARPU_to_C3APARPU",
            "index": "rule21",
            "label": "bind_C3A_PARPU_to_C3APARPU",
            "name": "bind_C3A_PARPU_to_C3APARPU",
            "shape": "roundrectangle"
           },
           "position": {
            "x": 2073.0500442842363,
            "y": 913.7926605413941
           }
          },
          {
           "data": {
            "NodeType": "rule",
            "background_color": "#ff4c4c",
            "bipartite": 1,
            "id": "catalyze_C3APARPU_to_C3A_PARPC",
            "index": "rule22",
            "label": "catalyze_C3APARPU_to_C3A_PARPC",
            "name": "catalyze_C3APARPU_to_C3A_PARPC",
            "shape": "roundrectangle"
           },
           "position": {
            "x": 2276.268454424947,
            "y": 818.4904919334658
           }
          },
          {
           "data": {
            "NodeType": "rule",
            "background_color": "#ff4c4c",
            "bipartite": 1,
            "id": "bind_C3A_C6pro_to_C3AC6pro",
            "index": "rule23",
            "label": "bind_C3A_C6pro_to_C3AC6pro",
            "name": "bind_C3A_C6pro_to_C3AC6pro",
            "shape": "roundrectangle"
           },
           "position": {
            "x": 2061.6073127625887,
            "y": 705.4835036553511
           }
          },
          {
           "data": {
            "NodeType": "rule",
            "background_color": "#ff4c4c",
            "bipartite": 1,
            "id": "catalyze_C3AC6pro_to_C3A_C6A",
            "index": "rule24",
            "label": "catalyze_C3AC6pro_to_C3A_C6A",
            "name": "catalyze_C3AC6pro_to_C3A_C6A",
            "shape": "roundrectangle"
           },
           "position": {
            "x": 2191.0993165433547,
            "y": 759.3985749652065
           }
          },
          {
           "data": {
            "NodeType": "rule",
            "background_color": "#ff4c4c",
            "bipartite": 1,
            "id": "bind_C6A_C8pro_to_C6AC8pro",
            "index": "rule25",
            "label": "bind_C6A_C8pro_to_C6AC8pro",
            "name": "bind_C6A_C8pro_to_C6AC8pro",
            "shape": "roundrectangle"
           },
           "position": {
            "x": 2379.0416481187654,
            "y": 630.7263477440547
           }
          },
          {
           "data": {
            "NodeType": "rule",
            "background_color": "#ff4c4c",
            "bipartite": 1,
            "id": "catalyze_C6AC8pro_to_C6A_C8A",
            "index": "rule26",
            "label": "catalyze_C6AC8pro_to_C6A_C8A",
            "name": "catalyze_C6AC8pro_to_C6A_C8A",
            "shape": "roundrectangle"
           },
           "position": {
            "x": 2007.3612014299156,
            "y": 594.8980632959988
           }
          },
          {
           "data": {
            "NodeType": "rule",
            "background_color": "#ff4c4c",
            "bipartite": 1,
            "id": "equilibrate_BidT_to_BidM",
            "index": "rule27",
            "label": "equilibrate_BidT_to_BidM",
            "name": "equilibrate_BidT_to_BidM",
            "shape": "roundrectangle"
           },
           "position": {
            "x": 1209.7157255836976,
            "y": 640.3333260055256
           }
          },
          {
           "data": {
            "NodeType": "rule",
            "background_color": "#ff4c4c",
            "bipartite": 1,
            "id": "equilibrate_BaxC_to_BaxM",
            "index": "rule28",
            "label": "equilibrate_BaxC_to_BaxM",
            "name": "equilibrate_BaxC_to_BaxM",
            "shape": "roundrectangle"
           },
           "position": {
            "x": 709.3769944877138,
            "y": 412.3549912670807
           }
          },
          {
           "data": {
            "NodeType": "rule",
            "background_color": "#ff4c4c",
            "bipartite": 1,
            "id": "equilibrate_BclxLC_to_BclxLM",
            "index": "rule29",
            "label": "equilibrate_BclxLC_to_BclxLM",
            "name": "equilibrate_BclxLC_to_BclxLM",
            "shape": "roundrectangle"
           },
           "position": {
            "x": 688.7471523633751,
            "y": 980.2356372506067
           }
          },
          {
           "data": {
            "NodeType": "rule",
            "background_color": "#ff4c4c",
            "bipartite": 1,
            "id": "bind_BidM_BaxM_to_BidMBaxM",
            "index": "rule30",
            "label": "bind_BidM_BaxM_to_BidMBaxM",
            "name": "bind_BidM_BaxM_to_BidMBaxM",
            "shape": "roundrectangle"
           },
           "position": {
            "x": 976.0092988887029,
            "y": 594.0187540204645
           }
          },
          {
           "data": {
            "NodeType": "rule",
            "background_color": "#ff4c4c",
            "bipartite": 1,
            "id": "catalyze_BidMBaxM_to_BidM_BaxA",
            "index": "rule31",
            "label": "catalyze_BidMBaxM_to_BidM_BaxA",
            "name": "catalyze_BidMBaxM_to_BidM_BaxA",
            "shape": "roundrectangle"
           },
           "position": {
            "x": 798.274643451567,
            "y": 697.3450755365886
           }
          },
          {
           "data": {
            "NodeType": "rule",
            "background_color": "#ff4c4c",
            "bipartite": 1,
            "id": "bind_BidM_BakM_to_BidMBakM",
            "index": "rule32",
            "label": "bind_BidM_BakM_to_BidMBakM",
            "name": "bind_BidM_BakM_to_BidMBakM",
            "shape": "roundrectangle"
           },
           "position": {
            "x": 1356.6115021724265,
            "y": 729.2228088513957
           }
          },
          {
           "data": {
            "NodeType": "rule",
            "background_color": "#ff4c4c",
            "bipartite": 1,
            "id": "catalyze_BidMBakM_to_BidM_BakA",
            "index": "rule33",
            "label": "catalyze_BidMBakM_to_BidM_BakA",
            "name": "catalyze_BidMBakM_to_BidM_BakA",
            "shape": "roundrectangle"
           },
           "position": {
            "x": 1226.8245190183557,
            "y": 781.9085346153163
           }
          },
          {
           "data": {
            "NodeType": "rule",
            "background_color": "#ff4c4c",
            "bipartite": 1,
            "id": "bind_BaxA_BaxM_to_BaxABaxM",
            "index": "rule34",
            "label": "bind_BaxA_BaxM_to_BaxABaxM",
            "name": "bind_BaxA_BaxM_to_BaxABaxM",
            "shape": "roundrectangle"
           },
           "position": {
            "x": 608.998987507518,
            "y": 578.6757431066137
           }
          },
          {
           "data": {
            "NodeType": "rule",
            "background_color": "#ff4c4c",
            "bipartite": 1,
            "id": "catalyze_BaxABaxM_to_BaxA_BaxA",
            "index": "rule35",
            "label": "catalyze_BaxABaxM_to_BaxA_BaxA",
            "name": "catalyze_BaxABaxM_to_BaxA_BaxA",
            "shape": "roundrectangle"
           },
           "position": {
            "x": 430.9114639301805,
            "y": 630.2697745213172
           }
          },
          {
           "data": {
            "NodeType": "rule",
            "background_color": "#ff4c4c",
            "bipartite": 1,
            "id": "bind_BakA_BakM_to_BakABakM",
            "index": "rule36",
            "label": "bind_BakA_BakM_to_BakABakM",
            "name": "bind_BakA_BakM_to_BakABakM",
            "shape": "roundrectangle"
           },
           "position": {
            "x": 1520.9586608846362,
            "y": 937.5327124177572
           }
          },
          {
           "data": {
            "NodeType": "rule",
            "background_color": "#ff4c4c",
            "bipartite": 1,
            "id": "catalyze_BakABakM_to_BakA_BakA",
            "index": "rule37",
            "label": "catalyze_BakABakM_to_BakA_BakA",
            "name": "catalyze_BakABakM_to_BakA_BakA",
            "shape": "roundrectangle"
           },
           "position": {
            "x": 1409.6340615581732,
            "y": 899.173187717968
           }
          },
          {
           "data": {
            "NodeType": "rule",
            "background_color": "#ff4c4c",
            "bipartite": 1,
            "id": "bind_BidM_Bcl2",
            "index": "rule38",
            "label": "bind_BidM_Bcl2",
            "name": "bind_BidM_Bcl2",
            "shape": "roundrectangle"
           },
           "position": {
            "x": 1004.4549069008604,
            "y": 660.7944662353852
           }
          },
          {
           "data": {
            "NodeType": "rule",
            "background_color": "#ff4c4c",
            "bipartite": 1,
            "id": "bind_BidM_BclxLM",
            "index": "rule39",
            "label": "bind_BidM_BclxLM",
            "name": "bind_BidM_BclxLM",
            "shape": "roundrectangle"
           },
           "position": {
            "x": 897.5278306360829,
            "y": 801.2671225254951
           }
          },
          {
           "data": {
            "NodeType": "rule",
            "background_color": "#ff4c4c",
            "bipartite": 1,
            "id": "bind_BidM_Mcl1M",
            "index": "rule40",
            "label": "bind_BidM_Mcl1M",
            "name": "bind_BidM_Mcl1M",
            "shape": "roundrectangle"
           },
           "position": {
            "x": 1072.1560452984054,
            "y": 898.2051036724454
           }
          },
          {
           "data": {
            "NodeType": "rule",
            "background_color": "#ff4c4c",
            "bipartite": 1,
            "id": "bind_BaxA_Bcl2",
            "index": "rule41",
            "label": "bind_BaxA_Bcl2",
            "name": "bind_BaxA_Bcl2",
            "shape": "roundrectangle"
           },
           "position": {
            "x": 654.9262489885082,
            "y": 655.5294377123612
           }
          },
          {
           "data": {
            "NodeType": "rule",
            "background_color": "#ff4c4c",
            "bipartite": 1,
            "id": "bind_BaxA_BclxLM",
            "index": "rule42",
            "label": "bind_BaxA_BclxLM",
            "name": "bind_BaxA_BclxLM",
            "shape": "roundrectangle"
           },
           "position": {
            "x": 617.5236693718393,
            "y": 813.1461960548736
           }
          },
          {
           "data": {
            "NodeType": "rule",
            "background_color": "#ff4c4c",
            "bipartite": 1,
            "id": "bind_BakA_BclxLM",
            "index": "rule43",
            "label": "bind_BakA_BclxLM",
            "name": "bind_BakA_BclxLM",
            "shape": "roundrectangle"
           },
           "position": {
            "x": 956.7352065922246,
            "y": 863.9682232616726
           }
          },
          {
           "data": {
            "NodeType": "rule",
            "background_color": "#ff4c4c",
            "bipartite": 1,
            "id": "bind_BakA_Mcl1",
            "index": "rule44",
            "label": "bind_BakA_Mcl1",
            "name": "bind_BakA_Mcl1",
            "shape": "roundrectangle"
           },
           "position": {
            "x": 1155.8047144365407,
            "y": 1084.874871306798
           }
          },
          {
           "data": {
            "NodeType": "rule",
            "background_color": "#ff4c4c",
            "bipartite": 1,
            "id": "bind_BadM_Bcl2",
            "index": "rule45",
            "label": "bind_BadM_Bcl2",
            "name": "bind_BadM_Bcl2",
            "shape": "roundrectangle"
           },
           "position": {
            "x": 778.2265510295258,
            "y": 836.0440411376178
           }
          },
          {
           "data": {
            "NodeType": "rule",
            "background_color": "#ff4c4c",
            "bipartite": 1,
            "id": "bind_BadM_BclxLM",
            "index": "rule46",
            "label": "bind_BadM_BclxLM",
            "name": "bind_BadM_BclxLM",
            "shape": "roundrectangle"
           },
           "position": {
            "x": 571.8887435720338,
            "y": 1014.317120646024
           }
          },
          {
           "data": {
            "NodeType": "rule",
            "background_color": "#ff4c4c",
            "bipartite": 1,
            "id": "bind_NoxaM_Mcl1M",
            "index": "rule47",
            "label": "bind_NoxaM_Mcl1M",
            "name": "bind_NoxaM_Mcl1M",
            "shape": "roundrectangle"
           },
           "position": {
            "x": 1226.7772520313,
            "y": 850.6625780764275
           }
          },
          {
           "data": {
            "NodeType": "rule",
            "background_color": "#ff4c4c",
            "bipartite": 1,
            "id": "assemble_pore_sequential_Bax_2",
            "index": "rule48",
            "label": "assemble_pore_sequential_Bax_2",
            "name": "assemble_pore_sequential_Bax_2",
            "shape": "roundrectangle"
           },
           "position": {
            "x": 270.47405028883674,
            "y": 682.8027596055103
           }
          },
          {
           "data": {
            "NodeType": "rule",
            "background_color": "#ff4c4c",
            "bipartite": 1,
            "id": "assemble_pore_sequential_Bax_3",
            "index": "rule49",
            "label": "assemble_pore_sequential_Bax_3",
            "name": "assemble_pore_sequential_Bax_3",
            "shape": "roundrectangle"
           },
           "position": {
            "x": 308.3454212781795,
            "y": 749.9654729026518
           }
          },
          {
           "data": {
            "NodeType": "rule",
            "background_color": "#ff4c4c",
            "bipartite": 1,
            "id": "assemble_pore_sequential_Bax_4",
            "index": "rule50",
            "label": "assemble_pore_sequential_Bax_4",
            "name": "assemble_pore_sequential_Bax_4",
            "shape": "roundrectangle"
           },
           "position": {
            "x": 477.2341699104086,
            "y": 868.4334431559892
           }
          },
          {
           "data": {
            "NodeType": "rule",
            "background_color": "#ff4c4c",
            "bipartite": 1,
            "id": "assemble_pore_sequential_Bak_2",
            "index": "rule51",
            "label": "assemble_pore_sequential_Bak_2",
            "name": "assemble_pore_sequential_Bak_2",
            "shape": "roundrectangle"
           },
           "position": {
            "x": 1386.1332670128274,
            "y": 988.4513290050775
           }
          },
          {
           "data": {
            "NodeType": "rule",
            "background_color": "#ff4c4c",
            "bipartite": 1,
            "id": "assemble_pore_sequential_Bak_3",
            "index": "rule52",
            "label": "assemble_pore_sequential_Bak_3",
            "name": "assemble_pore_sequential_Bak_3",
            "shape": "roundrectangle"
           },
           "position": {
            "x": 1319.5543861129272,
            "y": 1046.7299205975364
           }
          },
          {
           "data": {
            "NodeType": "rule",
            "background_color": "#ff4c4c",
            "bipartite": 1,
            "id": "assemble_pore_sequential_Bak_4",
            "index": "rule53",
            "label": "assemble_pore_sequential_Bak_4",
            "name": "assemble_pore_sequential_Bak_4",
            "shape": "roundrectangle"
           },
           "position": {
            "x": 999.3890815928496,
            "y": 966.4541091112592
           }
          },
          {
           "data": {
            "NodeType": "rule",
            "background_color": "#ff4c4c",
            "bipartite": 1,
            "id": "pore_transport_complex_BaxA_4_CytoCM",
            "index": "rule54",
            "label": "pore_transport_complex_BaxA_4_CytoCM",
            "name": "pore_transport_complex_BaxA_4_CytoCM",
            "shape": "roundrectangle"
           },
           "position": {
            "x": 250.1905923417763,
            "y": 979.4896145004543
           }
          },
          {
           "data": {
            "NodeType": "rule",
            "background_color": "#ff4c4c",
            "bipartite": 1,
            "id": "pore_transport_dissociate_BaxA_4_CytoCC",
            "index": "rule55",
            "label": "pore_transport_dissociate_BaxA_4_CytoCC",
            "name": "pore_transport_dissociate_BaxA_4_CytoCC",
            "shape": "roundrectangle"
           },
           "position": {
            "x": 341.66316034480474,
            "y": 920.5516417089696
           }
          },
          {
           "data": {
            "NodeType": "rule",
            "background_color": "#ff4c4c",
            "bipartite": 1,
            "id": "pore_transport_complex_BaxA_4_SmacM",
            "index": "rule56",
            "label": "pore_transport_complex_BaxA_4_SmacM",
            "name": "pore_transport_complex_BaxA_4_SmacM",
            "shape": "roundrectangle"
           },
           "position": {
            "x": 241.13329499967907,
            "y": 1053.2449175869358
           }
          },
          {
           "data": {
            "NodeType": "rule",
            "background_color": "#ff4c4c",
            "bipartite": 1,
            "id": "pore_transport_dissociate_BaxA_4_SmacC",
            "index": "rule57",
            "label": "pore_transport_dissociate_BaxA_4_SmacC",
            "name": "pore_transport_dissociate_BaxA_4_SmacC",
            "shape": "roundrectangle"
           },
           "position": {
            "x": 609.3067609580158,
            "y": 1141.4116254195676
           }
          },
          {
           "data": {
            "NodeType": "rule",
            "background_color": "#ff4c4c",
            "bipartite": 1,
            "id": "pore_transport_complex_BakA_4_CytoCM",
            "index": "rule58",
            "label": "pore_transport_complex_BakA_4_CytoCM",
            "name": "pore_transport_complex_BakA_4_CytoCM",
            "shape": "roundrectangle"
           },
           "position": {
            "x": 652.1230347052449,
            "y": 1077.278783955528
           }
          },
          {
           "data": {
            "NodeType": "rule",
            "background_color": "#ff4c4c",
            "bipartite": 1,
            "id": "pore_transport_dissociate_BakA_4_CytoCC",
            "index": "rule59",
            "label": "pore_transport_dissociate_BakA_4_CytoCC",
            "name": "pore_transport_dissociate_BakA_4_CytoCC",
            "shape": "roundrectangle"
           },
           "position": {
            "x": 814.5981688619097,
            "y": 1036.1383052001631
           }
          },
          {
           "data": {
            "NodeType": "rule",
            "background_color": "#ff4c4c",
            "bipartite": 1,
            "id": "pore_transport_complex_BakA_4_SmacM",
            "index": "rule60",
            "label": "pore_transport_complex_BakA_4_SmacM",
            "name": "pore_transport_complex_BakA_4_SmacM",
            "shape": "roundrectangle"
           },
           "position": {
            "x": 704.0454316983562,
            "y": 1195.897521279066
           }
          },
          {
           "data": {
            "NodeType": "rule",
            "background_color": "#ff4c4c",
            "bipartite": 1,
            "id": "pore_transport_dissociate_BakA_4_SmacC",
            "index": "rule61",
            "label": "pore_transport_dissociate_BakA_4_SmacC",
            "name": "pore_transport_dissociate_BakA_4_SmacC",
            "shape": "roundrectangle"
           },
           "position": {
            "x": 945.0052970639015,
            "y": 1249.4407307806223
           }
          }
         ]
        }
       },
       "format": "cyjs",
       "layout": "IPY_MODEL_48ad6fbf6de941ad88c4cc3c36dc6c7e",
       "layout_name": "cose-bilkent",
       "process": "consumption",
       "sim_idx": 0,
       "type_of_viz": "sp_rules_view",
       "visual_style": null
      }
     },
     "d6be6b1db00f4c59b3bc0a733f447048": {
      "model_module": "pyvipr",
      "model_module_version": "^0.1.14",
      "model_name": "CytoscapeModel",
      "state": {
       "background": "#FFFFFF",
       "data": {
        "data": {
         "graph": {
          "rankdir": "LR"
         },
         "name": "pyvipr.pysb_models.earm_incorrect"
        },
        "elements": {
         "edges": [
          {
           "data": {
            "arrowhead": "normal",
            "id": "b1f92968-04e2-4fea-a722-0abb5307a5ca",
            "source": "s0",
            "source_arrow_fill": "hollow",
            "source_arrow_shape": "triangle",
            "target": "bind_L_R_to_LR",
            "target_arrow_shape": "triangle"
           }
          },
          {
           "data": {
            "arrowhead": "normal",
            "id": "25b0aa07-4b5f-4e90-b49d-1fa94af4fd16",
            "source": "s1",
            "source_arrow_fill": "hollow",
            "source_arrow_shape": "triangle",
            "target": "bind_L_R_to_LR",
            "target_arrow_shape": "triangle"
           }
          },
          {
           "data": {
            "arrowhead": "normal",
            "id": "c45177a7-b26a-4bb0-b369-0d0576252f32",
            "source": "s2",
            "source_arrow_fill": "hollow",
            "source_arrow_shape": "triangle",
            "target": "bind_DISC_flip",
            "target_arrow_shape": "triangle"
           }
          },
          {
           "data": {
            "arrowhead": "normal",
            "id": "7ca1373f-74a8-4a31-aafd-955af0416741",
            "source": "s3",
            "source_arrow_fill": "hollow",
            "source_arrow_shape": "triangle",
            "target": "bind_DISC_C8pro_to_DISCC8pro",
            "target_arrow_shape": "triangle"
           }
          },
          {
           "data": {
            "arrowhead": "normal",
            "id": "16fc52ff-f28b-407e-aa84-4267e77eea17",
            "source": "s3",
            "source_arrow_fill": "hollow",
            "source_arrow_shape": "triangle",
            "target": "bind_C6A_C8pro_to_C6AC8pro",
            "target_arrow_shape": "triangle"
           }
          },
          {
           "data": {
            "arrowhead": "normal",
            "id": "898841d6-c732-4cb1-bf6c-f56b70a0c841",
            "source": "s4",
            "source_arrow_fill": "hollow",
            "source_arrow_shape": "triangle",
            "target": "bind_BAR_C8A",
            "target_arrow_shape": "triangle"
           }
          },
          {
           "data": {
            "arrowhead": "normal",
            "id": "ccb144aa-bf97-4970-81bd-5b4b6bfd7f25",
            "source": "s5",
            "source_arrow_fill": "hollow",
            "source_arrow_shape": "triangle",
            "target": "bind_CytoCA_ApafI_to_CytoCAApafI",
            "target_arrow_shape": "triangle"
           }
          },
          {
           "data": {
            "arrowhead": "normal",
            "id": "d8028157-21d0-44e9-afae-234a707332b5",
            "source": "s6",
            "source_arrow_fill": "hollow",
            "source_arrow_shape": "triangle",
            "target": "bind_Apop_C3pro_to_ApopC3pro",
            "target_arrow_shape": "triangle"
           }
          },
          {
           "data": {
            "arrowhead": "normal",
            "id": "08297742-b49b-4375-8535-9ba2c6cc23d5",
            "source": "s6",
            "source_arrow_fill": "hollow",
            "source_arrow_shape": "triangle",
            "target": "bind_C8A_C3pro_to_C8AC3pro",
            "target_arrow_shape": "triangle"
           }
          },
          {
           "data": {
            "arrowhead": "normal",
            "id": "ab79995d-794b-4c2d-a32b-1105752bc769",
            "source": "s7",
            "source_arrow_fill": "hollow",
            "source_arrow_shape": "triangle",
            "target": "bind_C3A_C6pro_to_C3AC6pro",
            "target_arrow_shape": "triangle"
           }
          },
          {
           "data": {
            "arrowhead": "normal",
            "id": "9eab276d-c99e-41b7-8927-f69bd099ca4b",
            "source": "s8",
            "source_arrow_fill": "hollow",
            "source_arrow_shape": "triangle",
            "target": "convert_ApafA_C9_to_Apop",
            "target_arrow_shape": "triangle"
           }
          },
          {
           "data": {
            "arrowhead": "normal",
            "id": "f99ab60c-b5dd-43ff-af0e-a3ea0fd299ae",
            "source": "s9",
            "source_arrow_fill": "hollow",
            "source_arrow_shape": "triangle",
            "target": "bind_C3A_PARPU_to_C3APARPU",
            "target_arrow_shape": "triangle"
           }
          },
          {
           "data": {
            "arrowhead": "normal",
            "id": "6b9177cb-90a6-47a3-9e84-2e0e763c7e62",
            "source": "s10",
            "source_arrow_fill": "hollow",
            "source_arrow_shape": "triangle",
            "target": "bind_Apop_XIAP",
            "target_arrow_shape": "triangle"
           }
          },
          {
           "data": {
            "arrowhead": "normal",
            "id": "25621e62-094d-4abc-910d-50e2df86243a",
            "source": "s10",
            "source_arrow_fill": "hollow",
            "source_arrow_shape": "triangle",
            "target": "bind_SmacA_XIAP",
            "target_arrow_shape": "triangle"
           }
          },
          {
           "data": {
            "arrowhead": "normal",
            "id": "f5971a3f-9f05-4748-bd33-b7aca06b4b6e",
            "source": "s10",
            "source_arrow_fill": "hollow",
            "source_arrow_shape": "triangle",
            "target": "bind_XIAP_C3A_to_XIAPC3A",
            "target_arrow_shape": "triangle"
           }
          },
          {
           "data": {
            "arrowhead": "normal",
            "id": "ef376b3a-5d64-4c59-b2fc-b91697e00755",
            "source": "s11",
            "source_arrow_fill": "hollow",
            "source_arrow_shape": "triangle",
            "target": "bind_C8A_BidU_to_C8ABidU",
            "target_arrow_shape": "triangle"
           }
          },
          {
           "data": {
            "arrowhead": "normal",
            "id": "2a1f5594-d754-46ce-9005-677ad9719729",
            "source": "s13",
            "source_arrow_fill": "hollow",
            "source_arrow_shape": "triangle",
            "target": "equilibrate_BaxC_to_BaxM",
            "target_arrow_shape": "triangle"
           }
          },
          {
           "data": {
            "arrowhead": "normal",
            "id": "08396a50-13f2-41cb-8b6c-b48e9f58d0cd",
            "source": "s14",
            "source_arrow_fill": "hollow",
            "source_arrow_shape": "triangle",
            "target": "bind_BidM_BakM_to_BidMBakM",
            "target_arrow_shape": "triangle"
           }
          },
          {
           "data": {
            "arrowhead": "normal",
            "id": "e60dbbda-0330-4b4b-a3ef-ba18b24c0351",
            "source": "s14",
            "source_arrow_fill": "hollow",
            "source_arrow_shape": "triangle",
            "target": "bind_BakA_BakM_to_BakABakM",
            "target_arrow_shape": "triangle"
           }
          },
          {
           "data": {
            "arrowhead": "normal",
            "id": "662d32ea-d6ac-4f6e-a103-d1277548d220",
            "source": "s15",
            "source_arrow_fill": "hollow",
            "source_arrow_shape": "triangle",
            "target": "bind_BidM_Bcl2",
            "target_arrow_shape": "triangle"
           }
          },
          {
           "data": {
            "arrowhead": "normal",
            "id": "e9182c9d-d160-4af4-9401-07c470ed5d73",
            "source": "s15",
            "source_arrow_fill": "hollow",
            "source_arrow_shape": "triangle",
            "target": "bind_BaxA_Bcl2",
            "target_arrow_shape": "triangle"
           }
          },
          {
           "data": {
            "arrowhead": "normal",
            "id": "b9b7bdfd-de19-402b-aa0a-221cb16dc561",
            "source": "s16",
            "source_arrow_fill": "hollow",
            "source_arrow_shape": "triangle",
            "target": "equilibrate_BclxLC_to_BclxLM",
            "target_arrow_shape": "triangle"
           }
          },
          {
           "data": {
            "arrowhead": "normal",
            "id": "9b4d5627-0668-45f3-9f44-c54bf516d07f",
            "source": "s17",
            "source_arrow_fill": "hollow",
            "source_arrow_shape": "triangle",
            "target": "bind_BidM_Mcl1M",
            "target_arrow_shape": "triangle"
           }
          },
          {
           "data": {
            "arrowhead": "normal",
            "id": "b3f182df-1b88-463a-a161-da0dec8391e9",
            "source": "s17",
            "source_arrow_fill": "hollow",
            "source_arrow_shape": "triangle",
            "target": "bind_BakA_Mcl1",
            "target_arrow_shape": "triangle"
           }
          },
          {
           "data": {
            "arrowhead": "normal",
            "id": "84ea2d2a-48bc-4051-b6ee-4043f465aece",
            "source": "s19",
            "source_arrow_fill": "hollow",
            "source_arrow_shape": "triangle",
            "target": "pore_transport_complex_BaxA_4_CytoCM",
            "target_arrow_shape": "triangle"
           }
          },
          {
           "data": {
            "arrowhead": "normal",
            "id": "73396330-74aa-4f9a-b3e2-8dd1d001fcfd",
            "source": "s19",
            "source_arrow_fill": "hollow",
            "source_arrow_shape": "triangle",
            "target": "pore_transport_complex_BakA_4_CytoCM",
            "target_arrow_shape": "triangle"
           }
          },
          {
           "data": {
            "arrowhead": "normal",
            "id": "634c1038-4039-484c-aff4-fddfe180f36b",
            "source": "s20",
            "source_arrow_fill": "hollow",
            "source_arrow_shape": "triangle",
            "target": "pore_transport_complex_BaxA_4_SmacM",
            "target_arrow_shape": "triangle"
           }
          },
          {
           "data": {
            "arrowhead": "normal",
            "id": "a7f38926-c53f-422c-8a9b-4a7009906eba",
            "source": "s20",
            "source_arrow_fill": "hollow",
            "source_arrow_shape": "triangle",
            "target": "pore_transport_complex_BakA_4_SmacM",
            "target_arrow_shape": "triangle"
           }
          },
          {
           "data": {
            "arrowhead": "normal",
            "id": "d1740a40-129e-4b73-8912-6d8dbb5cfd73",
            "source": "s21",
            "source_arrow_fill": "hollow",
            "source_arrow_shape": "triangle",
            "target": "bind_L_R_to_LR",
            "target_arrow_shape": "triangle"
           }
          },
          {
           "data": {
            "arrowhead": "normal",
            "id": "9b878996-d0ce-407d-abc4-7f674a014b4c",
            "source": "s21",
            "source_arrow_fill": "filled",
            "source_arrow_shape": "none",
            "target": "convert_LR_to_DISC",
            "target_arrow_shape": "triangle"
           }
          },
          {
           "data": {
            "arrowhead": "normal",
            "id": "0d06dc8b-f5b6-48aa-968e-da3f15939224",
            "source": "s22",
            "source_arrow_fill": "hollow",
            "source_arrow_shape": "triangle",
            "target": "equilibrate_BaxC_to_BaxM",
            "target_arrow_shape": "triangle"
           }
          },
          {
           "data": {
            "arrowhead": "normal",
            "id": "0f53a620-dbc2-4822-a8fd-3208aea465b4",
            "source": "s22",
            "source_arrow_fill": "hollow",
            "source_arrow_shape": "triangle",
            "target": "bind_BidM_BaxM_to_BidMBaxM",
            "target_arrow_shape": "triangle"
           }
          },
          {
           "data": {
            "arrowhead": "normal",
            "id": "554b500d-36a0-4d66-aead-5722940247b0",
            "source": "s22",
            "source_arrow_fill": "hollow",
            "source_arrow_shape": "triangle",
            "target": "bind_BaxA_BaxM_to_BaxABaxM",
            "target_arrow_shape": "triangle"
           }
          },
          {
           "data": {
            "arrowhead": "normal",
            "id": "64c69e4f-a2ff-465a-85f6-fa40adde461f",
            "source": "s23",
            "source_arrow_fill": "hollow",
            "source_arrow_shape": "triangle",
            "target": "equilibrate_BclxLC_to_BclxLM",
            "target_arrow_shape": "triangle"
           }
          },
          {
           "data": {
            "arrowhead": "normal",
            "id": "802d1374-8f16-429b-95cb-cb4a677e9f74",
            "source": "s23",
            "source_arrow_fill": "hollow",
            "source_arrow_shape": "triangle",
            "target": "bind_BidM_BclxLM",
            "target_arrow_shape": "triangle"
           }
          },
          {
           "data": {
            "arrowhead": "normal",
            "id": "472b1e1c-9b84-4c9d-b6f1-60f38fa3a6fd",
            "source": "s23",
            "source_arrow_fill": "hollow",
            "source_arrow_shape": "triangle",
            "target": "bind_BaxA_BclxLM",
            "target_arrow_shape": "triangle"
           }
          },
          {
           "data": {
            "arrowhead": "normal",
            "id": "775c2fae-3708-4a83-b22f-48699ba5cdaf",
            "source": "s23",
            "source_arrow_fill": "hollow",
            "source_arrow_shape": "triangle",
            "target": "bind_BakA_BclxLM",
            "target_arrow_shape": "triangle"
           }
          },
          {
           "data": {
            "arrowhead": "normal",
            "id": "9bf7e4e0-f6f8-46fa-9ef3-2a1ea5ae4981",
            "source": "s24",
            "source_arrow_fill": "hollow",
            "source_arrow_shape": "triangle",
            "target": "bind_DISC_C8pro_to_DISCC8pro",
            "target_arrow_shape": "triangle"
           }
          },
          {
           "data": {
            "arrowhead": "normal",
            "id": "a5bc834d-c981-4714-8844-40e6b69412d1",
            "source": "s24",
            "source_arrow_fill": "hollow",
            "source_arrow_shape": "triangle",
            "target": "bind_DISC_flip",
            "target_arrow_shape": "triangle"
           }
          },
          {
           "data": {
            "arrowhead": "normal",
            "id": "df7dd5f2-0f6c-4137-bf26-62114ccff62c",
            "source": "s25",
            "source_arrow_fill": "hollow",
            "source_arrow_shape": "triangle",
            "target": "bind_DISC_C8pro_to_DISCC8pro",
            "target_arrow_shape": "triangle"
           }
          },
          {
           "data": {
            "arrowhead": "normal",
            "id": "3ada5ec2-3e95-49ef-ae64-b0fd6e0c216c",
            "source": "s25",
            "source_arrow_fill": "filled",
            "source_arrow_shape": "none",
            "target": "catalyze_DISCC8pro_to_DISC_C8A",
            "target_arrow_shape": "triangle"
           }
          },
          {
           "data": {
            "arrowhead": "normal",
            "id": "84cb330f-4e27-461a-ad6d-dee9abb17248",
            "source": "s26",
            "source_arrow_fill": "hollow",
            "source_arrow_shape": "triangle",
            "target": "bind_DISC_flip",
            "target_arrow_shape": "triangle"
           }
          },
          {
           "data": {
            "arrowhead": "normal",
            "id": "4a95c47d-efd9-4869-affc-e9061163c02e",
            "source": "s27",
            "source_arrow_fill": "hollow",
            "source_arrow_shape": "triangle",
            "target": "bind_C8A_BidU_to_C8ABidU",
            "target_arrow_shape": "triangle"
           }
          },
          {
           "data": {
            "arrowhead": "normal",
            "id": "21bb080b-f512-406c-bac0-f703350a60aa",
            "source": "s27",
            "source_arrow_fill": "hollow",
            "source_arrow_shape": "triangle",
            "target": "bind_BAR_C8A",
            "target_arrow_shape": "triangle"
           }
          },
          {
           "data": {
            "arrowhead": "normal",
            "id": "b6c15ad0-b5bc-490d-a42c-fe5889cf8e57",
            "source": "s27",
            "source_arrow_fill": "hollow",
            "source_arrow_shape": "triangle",
            "target": "bind_C8A_C3pro_to_C8AC3pro",
            "target_arrow_shape": "triangle"
           }
          },
          {
           "data": {
            "arrowhead": "normal",
            "id": "60a8ddef-7fda-494d-a10c-51b1d1801592",
            "source": "s28",
            "source_arrow_fill": "hollow",
            "source_arrow_shape": "triangle",
            "target": "bind_C8A_BidU_to_C8ABidU",
            "target_arrow_shape": "triangle"
           }
          },
          {
           "data": {
            "arrowhead": "normal",
            "id": "ec47c77c-18b8-4a8e-93fa-5a63a18a4ccd",
            "source": "s28",
            "source_arrow_fill": "filled",
            "source_arrow_shape": "none",
            "target": "catalyze_C8ABidU_to_C8A_BidT",
            "target_arrow_shape": "triangle"
           }
          },
          {
           "data": {
            "arrowhead": "normal",
            "id": "0eabff0c-87c8-46e6-9ff6-9fcb6a0e1c67",
            "source": "s29",
            "source_arrow_fill": "hollow",
            "source_arrow_shape": "triangle",
            "target": "bind_BAR_C8A",
            "target_arrow_shape": "triangle"
           }
          },
          {
           "data": {
            "arrowhead": "normal",
            "id": "e498d440-5ceb-4da4-839a-d6cd953a81b7",
            "source": "s30",
            "source_arrow_fill": "hollow",
            "source_arrow_shape": "triangle",
            "target": "bind_C8A_C3pro_to_C8AC3pro",
            "target_arrow_shape": "triangle"
           }
          },
          {
           "data": {
            "arrowhead": "normal",
            "id": "e5f80ef0-b060-4e98-aaf6-ca6e46548edc",
            "source": "s30",
            "source_arrow_fill": "filled",
            "source_arrow_shape": "none",
            "target": "catalyze_C8AC3pro_to_C8A_C3A",
            "target_arrow_shape": "triangle"
           }
          },
          {
           "data": {
            "arrowhead": "normal",
            "id": "c62826e1-3406-4710-a140-4a63a6275e6a",
            "source": "s31",
            "source_arrow_fill": "hollow",
            "source_arrow_shape": "triangle",
            "target": "equilibrate_BidT_to_BidM",
            "target_arrow_shape": "triangle"
           }
          },
          {
           "data": {
            "arrowhead": "normal",
            "id": "fc2db759-2eec-47df-b6fe-9dd535f40f26",
            "source": "s32",
            "source_arrow_fill": "hollow",
            "source_arrow_shape": "triangle",
            "target": "bind_XIAP_C3A_to_XIAPC3A",
            "target_arrow_shape": "triangle"
           }
          },
          {
           "data": {
            "arrowhead": "normal",
            "id": "d4fb3ee0-f748-40d7-956f-406a468e3486",
            "source": "s32",
            "source_arrow_fill": "hollow",
            "source_arrow_shape": "triangle",
            "target": "bind_C3A_PARPU_to_C3APARPU",
            "target_arrow_shape": "triangle"
           }
          },
          {
           "data": {
            "arrowhead": "normal",
            "id": "89d44119-542a-42ad-b15e-31fa4e9e7b04",
            "source": "s32",
            "source_arrow_fill": "hollow",
            "source_arrow_shape": "triangle",
            "target": "bind_C3A_C6pro_to_C3AC6pro",
            "target_arrow_shape": "triangle"
           }
          },
          {
           "data": {
            "arrowhead": "normal",
            "id": "700fc2c0-d991-4f62-809e-c30936d11fe2",
            "source": "s33",
            "source_arrow_fill": "hollow",
            "source_arrow_shape": "triangle",
            "target": "bind_XIAP_C3A_to_XIAPC3A",
            "target_arrow_shape": "triangle"
           }
          },
          {
           "data": {
            "arrowhead": "normal",
            "id": "163bc7d5-d5c4-406b-bbe1-7947df442880",
            "source": "s33",
            "source_arrow_fill": "filled",
            "source_arrow_shape": "none",
            "target": "catalyze_XIAPC3A_to_XIAP_C3ub",
            "target_arrow_shape": "triangle"
           }
          },
          {
           "data": {
            "arrowhead": "normal",
            "id": "a771ad9e-2e60-4da6-9a0c-7e5be291f9a1",
            "source": "s34",
            "source_arrow_fill": "hollow",
            "source_arrow_shape": "triangle",
            "target": "bind_C3A_PARPU_to_C3APARPU",
            "target_arrow_shape": "triangle"
           }
          },
          {
           "data": {
            "arrowhead": "normal",
            "id": "16e3e150-f848-47b2-8818-8eb85c254319",
            "source": "s34",
            "source_arrow_fill": "filled",
            "source_arrow_shape": "none",
            "target": "catalyze_C3APARPU_to_C3A_PARPC",
            "target_arrow_shape": "triangle"
           }
          },
          {
           "data": {
            "arrowhead": "normal",
            "id": "079dfb53-11e5-4bed-8637-d8870b94dc11",
            "source": "s35",
            "source_arrow_fill": "hollow",
            "source_arrow_shape": "triangle",
            "target": "bind_C3A_C6pro_to_C3AC6pro",
            "target_arrow_shape": "triangle"
           }
          },
          {
           "data": {
            "arrowhead": "normal",
            "id": "657a2b4a-c200-42bc-bb84-48aca7dce35a",
            "source": "s35",
            "source_arrow_fill": "filled",
            "source_arrow_shape": "none",
            "target": "catalyze_C3AC6pro_to_C3A_C6A",
            "target_arrow_shape": "triangle"
           }
          },
          {
           "data": {
            "arrowhead": "normal",
            "id": "96a9d6d9-b5ee-4c09-8759-3158c6e5760d",
            "source": "s36",
            "source_arrow_fill": "hollow",
            "source_arrow_shape": "triangle",
            "target": "equilibrate_BidT_to_BidM",
            "target_arrow_shape": "triangle"
           }
          },
          {
           "data": {
            "arrowhead": "normal",
            "id": "e81a48fd-71b9-4c8b-8d88-61e35542bb61",
            "source": "s36",
            "source_arrow_fill": "hollow",
            "source_arrow_shape": "triangle",
            "target": "bind_BidM_BaxM_to_BidMBaxM",
            "target_arrow_shape": "triangle"
           }
          },
          {
           "data": {
            "arrowhead": "normal",
            "id": "e182f681-90ac-4919-b5e1-4b3c7a08020d",
            "source": "s36",
            "source_arrow_fill": "hollow",
            "source_arrow_shape": "triangle",
            "target": "bind_BidM_BakM_to_BidMBakM",
            "target_arrow_shape": "triangle"
           }
          },
          {
           "data": {
            "arrowhead": "normal",
            "id": "6a8a3398-004d-4e83-b84b-68c954084dd2",
            "source": "s36",
            "source_arrow_fill": "hollow",
            "source_arrow_shape": "triangle",
            "target": "bind_BidM_Bcl2",
            "target_arrow_shape": "triangle"
           }
          },
          {
           "data": {
            "arrowhead": "normal",
            "id": "10946ab9-655f-40bf-8731-acfb61f4fb2e",
            "source": "s36",
            "source_arrow_fill": "hollow",
            "source_arrow_shape": "triangle",
            "target": "bind_BidM_BclxLM",
            "target_arrow_shape": "triangle"
           }
          },
          {
           "data": {
            "arrowhead": "normal",
            "id": "32ed56c8-604c-4e55-b317-96d9d982783f",
            "source": "s36",
            "source_arrow_fill": "hollow",
            "source_arrow_shape": "triangle",
            "target": "bind_BidM_Mcl1M",
            "target_arrow_shape": "triangle"
           }
          },
          {
           "data": {
            "arrowhead": "normal",
            "id": "e627e8c5-7e17-4f69-9e8d-473e3a01f50b",
            "source": "s39",
            "source_arrow_fill": "hollow",
            "source_arrow_shape": "triangle",
            "target": "bind_C6A_C8pro_to_C6AC8pro",
            "target_arrow_shape": "triangle"
           }
          },
          {
           "data": {
            "arrowhead": "normal",
            "id": "e87cc241-6dc8-49ac-8415-3e1f3b87e1b5",
            "source": "s40",
            "source_arrow_fill": "hollow",
            "source_arrow_shape": "triangle",
            "target": "bind_BidM_BaxM_to_BidMBaxM",
            "target_arrow_shape": "triangle"
           }
          },
          {
           "data": {
            "arrowhead": "normal",
            "id": "ffa35a7e-cef7-4e5f-ac04-46a76bc44ffc",
            "source": "s40",
            "source_arrow_fill": "filled",
            "source_arrow_shape": "none",
            "target": "catalyze_BidMBaxM_to_BidM_BaxA",
            "target_arrow_shape": "triangle"
           }
          },
          {
           "data": {
            "arrowhead": "normal",
            "id": "0e020da7-ba5c-458d-9f26-f2038b0f9c13",
            "source": "s41",
            "source_arrow_fill": "hollow",
            "source_arrow_shape": "triangle",
            "target": "bind_BidM_BakM_to_BidMBakM",
            "target_arrow_shape": "triangle"
           }
          },
          {
           "data": {
            "arrowhead": "normal",
            "id": "0f0fa5c7-d79f-4f6a-a06f-2425bd056224",
            "source": "s41",
            "source_arrow_fill": "filled",
            "source_arrow_shape": "none",
            "target": "catalyze_BidMBakM_to_BidM_BakA",
            "target_arrow_shape": "triangle"
           }
          },
          {
           "data": {
            "arrowhead": "normal",
            "id": "9ade1310-417b-414e-8919-9e209b1cfe87",
            "source": "s42",
            "source_arrow_fill": "hollow",
            "source_arrow_shape": "triangle",
            "target": "bind_BidM_Bcl2",
            "target_arrow_shape": "triangle"
           }
          },
          {
           "data": {
            "arrowhead": "normal",
            "id": "6c69a378-41dd-4765-b163-b4f97fab01ad",
            "source": "s43",
            "source_arrow_fill": "hollow",
            "source_arrow_shape": "triangle",
            "target": "bind_BidM_BclxLM",
            "target_arrow_shape": "triangle"
           }
          },
          {
           "data": {
            "arrowhead": "normal",
            "id": "7db1b38e-96c1-475c-9c0b-4a6fe1acf7f5",
            "source": "s44",
            "source_arrow_fill": "hollow",
            "source_arrow_shape": "triangle",
            "target": "bind_BidM_Mcl1M",
            "target_arrow_shape": "triangle"
           }
          },
          {
           "data": {
            "arrowhead": "normal",
            "id": "7eb9590f-6188-482e-93fc-fd07e5157f8e",
            "source": "s45",
            "source_arrow_fill": "hollow",
            "source_arrow_shape": "triangle",
            "target": "bind_C6A_C8pro_to_C6AC8pro",
            "target_arrow_shape": "triangle"
           }
          },
          {
           "data": {
            "arrowhead": "normal",
            "id": "88912248-4e02-4a5d-ac38-6947f7772fad",
            "source": "s45",
            "source_arrow_fill": "filled",
            "source_arrow_shape": "none",
            "target": "catalyze_C6AC8pro_to_C6A_C8A",
            "target_arrow_shape": "triangle"
           }
          },
          {
           "data": {
            "arrowhead": "normal",
            "id": "41018ae7-729d-44dc-880d-aa82890cfeb9",
            "source": "s46",
            "source_arrow_fill": "hollow",
            "source_arrow_shape": "triangle",
            "target": "bind_BaxA_BaxM_to_BaxABaxM",
            "target_arrow_shape": "triangle"
           }
          },
          {
           "data": {
            "arrowhead": "normal",
            "id": "adf6d23f-494d-4a12-8f38-2c50a3149983",
            "source": "s46",
            "source_arrow_fill": "hollow",
            "source_arrow_shape": "triangle",
            "target": "bind_BaxA_Bcl2",
            "target_arrow_shape": "triangle"
           }
          },
          {
           "data": {
            "arrowhead": "normal",
            "id": "61490bf7-723d-4661-821b-32db71924561",
            "source": "s46",
            "source_arrow_fill": "hollow",
            "source_arrow_shape": "triangle",
            "target": "bind_BaxA_BclxLM",
            "target_arrow_shape": "triangle"
           }
          },
          {
           "data": {
            "arrowhead": "normal",
            "id": "5e45d368-f548-47ff-9d07-0572539cefe5",
            "source": "s46",
            "source_arrow_fill": "hollow",
            "source_arrow_shape": "triangle",
            "target": "assemble_pore_sequential_Bax_2",
            "target_arrow_shape": "triangle"
           }
          },
          {
           "data": {
            "arrowhead": "normal",
            "id": "e90d8537-8dc3-4e75-820b-250ac0a5cc88",
            "source": "s46",
            "source_arrow_fill": "hollow",
            "source_arrow_shape": "triangle",
            "target": "assemble_pore_sequential_Bax_3",
            "target_arrow_shape": "triangle"
           }
          },
          {
           "data": {
            "arrowhead": "normal",
            "id": "7c8a7f5a-02b5-4460-aab3-470340c8ff03",
            "source": "s46",
            "source_arrow_fill": "hollow",
            "source_arrow_shape": "triangle",
            "target": "assemble_pore_sequential_Bax_4",
            "target_arrow_shape": "triangle"
           }
          },
          {
           "data": {
            "arrowhead": "normal",
            "id": "4246b900-bf7b-4271-8fa8-5096930a3f62",
            "source": "s47",
            "source_arrow_fill": "hollow",
            "source_arrow_shape": "triangle",
            "target": "bind_BakA_BakM_to_BakABakM",
            "target_arrow_shape": "triangle"
           }
          },
          {
           "data": {
            "arrowhead": "normal",
            "id": "72b25684-78bb-4f01-af7d-e5577d220a58",
            "source": "s47",
            "source_arrow_fill": "hollow",
            "source_arrow_shape": "triangle",
            "target": "bind_BakA_BclxLM",
            "target_arrow_shape": "triangle"
           }
          },
          {
           "data": {
            "arrowhead": "normal",
            "id": "aabd6541-573d-4967-9766-f815ea0d089c",
            "source": "s47",
            "source_arrow_fill": "hollow",
            "source_arrow_shape": "triangle",
            "target": "bind_BakA_Mcl1",
            "target_arrow_shape": "triangle"
           }
          },
          {
           "data": {
            "arrowhead": "normal",
            "id": "a99878e2-b5cb-428b-846a-0c8cad3cf104",
            "source": "s47",
            "source_arrow_fill": "hollow",
            "source_arrow_shape": "triangle",
            "target": "assemble_pore_sequential_Bak_2",
            "target_arrow_shape": "triangle"
           }
          },
          {
           "data": {
            "arrowhead": "normal",
            "id": "5d213454-4781-4090-b244-22f102aed97d",
            "source": "s47",
            "source_arrow_fill": "hollow",
            "source_arrow_shape": "triangle",
            "target": "assemble_pore_sequential_Bak_3",
            "target_arrow_shape": "triangle"
           }
          },
          {
           "data": {
            "arrowhead": "normal",
            "id": "85356a97-f728-4d2e-ae79-1e537a118708",
            "source": "s47",
            "source_arrow_fill": "hollow",
            "source_arrow_shape": "triangle",
            "target": "assemble_pore_sequential_Bak_4",
            "target_arrow_shape": "triangle"
           }
          },
          {
           "data": {
            "arrowhead": "normal",
            "id": "5defa0d7-8bf8-41b2-8910-11b9ccb829f2",
            "source": "s48",
            "source_arrow_fill": "hollow",
            "source_arrow_shape": "triangle",
            "target": "bind_BaxA_BaxM_to_BaxABaxM",
            "target_arrow_shape": "triangle"
           }
          },
          {
           "data": {
            "arrowhead": "normal",
            "id": "8ecc981a-8a9b-47dd-97d3-cf7d0e7abf7c",
            "source": "s48",
            "source_arrow_fill": "filled",
            "source_arrow_shape": "none",
            "target": "catalyze_BaxABaxM_to_BaxA_BaxA",
            "target_arrow_shape": "triangle"
           }
          },
          {
           "data": {
            "arrowhead": "normal",
            "id": "16d222cc-94e4-4227-8f91-d5b6e407dc0f",
            "source": "s49",
            "source_arrow_fill": "hollow",
            "source_arrow_shape": "triangle",
            "target": "bind_BakA_BakM_to_BakABakM",
            "target_arrow_shape": "triangle"
           }
          },
          {
           "data": {
            "arrowhead": "normal",
            "id": "54e76562-b70f-4ff0-a3c8-e2fa3f8e34f8",
            "source": "s49",
            "source_arrow_fill": "filled",
            "source_arrow_shape": "none",
            "target": "catalyze_BakABakM_to_BakA_BakA",
            "target_arrow_shape": "triangle"
           }
          },
          {
           "data": {
            "arrowhead": "normal",
            "id": "c707eb67-c950-49fe-85e0-6e8d7cb887fe",
            "source": "s50",
            "source_arrow_fill": "hollow",
            "source_arrow_shape": "triangle",
            "target": "bind_BaxA_Bcl2",
            "target_arrow_shape": "triangle"
           }
          },
          {
           "data": {
            "arrowhead": "normal",
            "id": "7210351e-0aca-46c9-9912-d0f6baca4592",
            "source": "s51",
            "source_arrow_fill": "hollow",
            "source_arrow_shape": "triangle",
            "target": "bind_BaxA_BclxLM",
            "target_arrow_shape": "triangle"
           }
          },
          {
           "data": {
            "arrowhead": "normal",
            "id": "821ef0fc-3280-497b-9cf6-3094b0229bf8",
            "source": "s52",
            "source_arrow_fill": "hollow",
            "source_arrow_shape": "triangle",
            "target": "bind_BakA_BclxLM",
            "target_arrow_shape": "triangle"
           }
          },
          {
           "data": {
            "arrowhead": "normal",
            "id": "f5dd7c4e-7945-45d7-85e5-284ea2ef21c5",
            "source": "s53",
            "source_arrow_fill": "hollow",
            "source_arrow_shape": "triangle",
            "target": "bind_BakA_Mcl1",
            "target_arrow_shape": "triangle"
           }
          },
          {
           "data": {
            "arrowhead": "normal",
            "id": "782a731e-69c4-45dc-9028-8eb58983f483",
            "source": "s54",
            "source_arrow_fill": "hollow",
            "source_arrow_shape": "triangle",
            "target": "assemble_pore_sequential_Bax_2",
            "target_arrow_shape": "triangle"
           }
          },
          {
           "data": {
            "arrowhead": "normal",
            "id": "3c550eaf-1976-4bf3-8381-8336ab22c5ff",
            "source": "s54",
            "source_arrow_fill": "hollow",
            "source_arrow_shape": "triangle",
            "target": "assemble_pore_sequential_Bax_3",
            "target_arrow_shape": "triangle"
           }
          },
          {
           "data": {
            "arrowhead": "normal",
            "id": "6425634d-5ee9-486f-a6b8-d05c3f2ba454",
            "source": "s55",
            "source_arrow_fill": "hollow",
            "source_arrow_shape": "triangle",
            "target": "assemble_pore_sequential_Bak_2",
            "target_arrow_shape": "triangle"
           }
          },
          {
           "data": {
            "arrowhead": "normal",
            "id": "314fb063-4c31-4a7e-9186-2674e58535ed",
            "source": "s55",
            "source_arrow_fill": "hollow",
            "source_arrow_shape": "triangle",
            "target": "assemble_pore_sequential_Bak_3",
            "target_arrow_shape": "triangle"
           }
          },
          {
           "data": {
            "arrowhead": "normal",
            "id": "6ae9f1b2-c97b-40c9-b281-636453c49ce6",
            "source": "s56",
            "source_arrow_fill": "hollow",
            "source_arrow_shape": "triangle",
            "target": "assemble_pore_sequential_Bax_3",
            "target_arrow_shape": "triangle"
           }
          },
          {
           "data": {
            "arrowhead": "normal",
            "id": "493af839-372d-4702-af8f-b605492383ee",
            "source": "s56",
            "source_arrow_fill": "hollow",
            "source_arrow_shape": "triangle",
            "target": "assemble_pore_sequential_Bax_4",
            "target_arrow_shape": "triangle"
           }
          },
          {
           "data": {
            "arrowhead": "normal",
            "id": "c2ac9136-9b1b-42bc-88a7-39a4cc0366ec",
            "source": "s57",
            "source_arrow_fill": "hollow",
            "source_arrow_shape": "triangle",
            "target": "assemble_pore_sequential_Bak_3",
            "target_arrow_shape": "triangle"
           }
          },
          {
           "data": {
            "arrowhead": "normal",
            "id": "c286fa1d-9825-4d86-ace8-9aa176102990",
            "source": "s57",
            "source_arrow_fill": "hollow",
            "source_arrow_shape": "triangle",
            "target": "assemble_pore_sequential_Bak_4",
            "target_arrow_shape": "triangle"
           }
          },
          {
           "data": {
            "arrowhead": "normal",
            "id": "225f5109-d4b8-4bd8-8e30-d15e5c92838d",
            "source": "s58",
            "source_arrow_fill": "hollow",
            "source_arrow_shape": "triangle",
            "target": "assemble_pore_sequential_Bax_4",
            "target_arrow_shape": "triangle"
           }
          },
          {
           "data": {
            "arrowhead": "normal",
            "id": "ca6e566a-b4e7-4a26-b384-9bd11cb64c1f",
            "source": "s58",
            "source_arrow_fill": "hollow",
            "source_arrow_shape": "triangle",
            "target": "pore_transport_complex_BaxA_4_CytoCM",
            "target_arrow_shape": "triangle"
           }
          },
          {
           "data": {
            "arrowhead": "normal",
            "id": "fbf2f1dc-6d90-40fb-9c7d-bde60df5a3db",
            "source": "s58",
            "source_arrow_fill": "hollow",
            "source_arrow_shape": "triangle",
            "target": "pore_transport_complex_BaxA_4_SmacM",
            "target_arrow_shape": "triangle"
           }
          },
          {
           "data": {
            "arrowhead": "normal",
            "id": "67075bd7-fe80-45ab-8515-d71f59227e58",
            "source": "s59",
            "source_arrow_fill": "hollow",
            "source_arrow_shape": "triangle",
            "target": "assemble_pore_sequential_Bak_4",
            "target_arrow_shape": "triangle"
           }
          },
          {
           "data": {
            "arrowhead": "normal",
            "id": "8b126aad-d5cf-46f3-980d-dd45806f7f4d",
            "source": "s59",
            "source_arrow_fill": "hollow",
            "source_arrow_shape": "triangle",
            "target": "pore_transport_complex_BakA_4_CytoCM",
            "target_arrow_shape": "triangle"
           }
          },
          {
           "data": {
            "arrowhead": "normal",
            "id": "25aaf89b-984c-4c57-9e26-f072b3e353b7",
            "source": "s59",
            "source_arrow_fill": "hollow",
            "source_arrow_shape": "triangle",
            "target": "pore_transport_complex_BakA_4_SmacM",
            "target_arrow_shape": "triangle"
           }
          },
          {
           "data": {
            "arrowhead": "normal",
            "id": "badfbf78-7eb2-4eeb-ba81-67f449fab1b2",
            "source": "s60",
            "source_arrow_fill": "hollow",
            "source_arrow_shape": "triangle",
            "target": "pore_transport_complex_BaxA_4_CytoCM",
            "target_arrow_shape": "triangle"
           }
          },
          {
           "data": {
            "arrowhead": "normal",
            "id": "3e37ea32-e5d8-4074-a444-2cd428dde2ba",
            "source": "s60",
            "source_arrow_fill": "filled",
            "source_arrow_shape": "none",
            "target": "pore_transport_dissociate_BaxA_4_CytoCC",
            "target_arrow_shape": "triangle"
           }
          },
          {
           "data": {
            "arrowhead": "normal",
            "id": "20587a49-b89e-4abe-af93-cf20c7725c50",
            "source": "s61",
            "source_arrow_fill": "hollow",
            "source_arrow_shape": "triangle",
            "target": "pore_transport_complex_BaxA_4_SmacM",
            "target_arrow_shape": "triangle"
           }
          },
          {
           "data": {
            "arrowhead": "normal",
            "id": "b3945480-b3cd-4ff2-8312-3b990bc97c9b",
            "source": "s61",
            "source_arrow_fill": "filled",
            "source_arrow_shape": "none",
            "target": "pore_transport_dissociate_BaxA_4_SmacC",
            "target_arrow_shape": "triangle"
           }
          },
          {
           "data": {
            "arrowhead": "normal",
            "id": "fe467a68-b742-4030-87cb-7e3f9eb49538",
            "source": "s62",
            "source_arrow_fill": "hollow",
            "source_arrow_shape": "triangle",
            "target": "pore_transport_complex_BakA_4_CytoCM",
            "target_arrow_shape": "triangle"
           }
          },
          {
           "data": {
            "arrowhead": "normal",
            "id": "63962009-6f52-4476-a85b-da0ed4111f0f",
            "source": "s62",
            "source_arrow_fill": "filled",
            "source_arrow_shape": "none",
            "target": "pore_transport_dissociate_BakA_4_CytoCC",
            "target_arrow_shape": "triangle"
           }
          },
          {
           "data": {
            "arrowhead": "normal",
            "id": "cc02372e-669d-4691-b01e-d936ee77c549",
            "source": "s63",
            "source_arrow_fill": "hollow",
            "source_arrow_shape": "triangle",
            "target": "pore_transport_complex_BakA_4_SmacM",
            "target_arrow_shape": "triangle"
           }
          },
          {
           "data": {
            "arrowhead": "normal",
            "id": "9a2a762c-e6aa-411f-9bed-f4e71448317b",
            "source": "s63",
            "source_arrow_fill": "filled",
            "source_arrow_shape": "none",
            "target": "pore_transport_dissociate_BakA_4_SmacC",
            "target_arrow_shape": "triangle"
           }
          },
          {
           "data": {
            "arrowhead": "normal",
            "id": "a0d9068e-71cc-45e5-9b9f-20ec51566488",
            "source": "s64",
            "source_arrow_fill": "hollow",
            "source_arrow_shape": "triangle",
            "target": "equilibrate_CytoCC_to_CytoCA",
            "target_arrow_shape": "triangle"
           }
          },
          {
           "data": {
            "arrowhead": "normal",
            "id": "203ae8d0-84ff-4be9-ae47-1db6241a98c3",
            "source": "s65",
            "source_arrow_fill": "hollow",
            "source_arrow_shape": "triangle",
            "target": "equilibrate_SmacC_to_SmacA",
            "target_arrow_shape": "triangle"
           }
          },
          {
           "data": {
            "arrowhead": "normal",
            "id": "081d02a8-277a-47c0-9414-02a02406145d",
            "source": "s66",
            "source_arrow_fill": "hollow",
            "source_arrow_shape": "triangle",
            "target": "equilibrate_SmacC_to_SmacA",
            "target_arrow_shape": "triangle"
           }
          },
          {
           "data": {
            "arrowhead": "normal",
            "id": "b4c968d4-5848-4ea7-bf19-d3b6fded22ab",
            "source": "s66",
            "source_arrow_fill": "hollow",
            "source_arrow_shape": "triangle",
            "target": "bind_SmacA_XIAP",
            "target_arrow_shape": "triangle"
           }
          },
          {
           "data": {
            "arrowhead": "normal",
            "id": "103a1e0e-6dce-4517-a4ee-9ad0a414f1d3",
            "source": "s67",
            "source_arrow_fill": "hollow",
            "source_arrow_shape": "triangle",
            "target": "equilibrate_CytoCC_to_CytoCA",
            "target_arrow_shape": "triangle"
           }
          },
          {
           "data": {
            "arrowhead": "normal",
            "id": "5d8874b8-1320-443e-98df-ceff453e06a7",
            "source": "s67",
            "source_arrow_fill": "hollow",
            "source_arrow_shape": "triangle",
            "target": "bind_CytoCA_ApafI_to_CytoCAApafI",
            "target_arrow_shape": "triangle"
           }
          },
          {
           "data": {
            "arrowhead": "normal",
            "id": "4a34cdd6-c068-4162-a1b4-5436554775c7",
            "source": "s68",
            "source_arrow_fill": "hollow",
            "source_arrow_shape": "triangle",
            "target": "bind_CytoCA_ApafI_to_CytoCAApafI",
            "target_arrow_shape": "triangle"
           }
          },
          {
           "data": {
            "arrowhead": "normal",
            "id": "99e0f5c2-054c-4dce-9411-30bc02dfc9bd",
            "source": "s68",
            "source_arrow_fill": "filled",
            "source_arrow_shape": "none",
            "target": "catalyze_CytoCAApafI_to_CytoCA_ApafA",
            "target_arrow_shape": "triangle"
           }
          },
          {
           "data": {
            "arrowhead": "normal",
            "id": "6ab07993-3077-4aa6-ac90-37e7dd4b9175",
            "source": "s69",
            "source_arrow_fill": "hollow",
            "source_arrow_shape": "triangle",
            "target": "bind_SmacA_XIAP",
            "target_arrow_shape": "triangle"
           }
          },
          {
           "data": {
            "arrowhead": "normal",
            "id": "b8cf8195-8bf7-4515-bbcf-07bec1010d51",
            "source": "s70",
            "source_arrow_fill": "hollow",
            "source_arrow_shape": "triangle",
            "target": "convert_ApafA_C9_to_Apop",
            "target_arrow_shape": "triangle"
           }
          },
          {
           "data": {
            "arrowhead": "normal",
            "id": "28feff89-3e11-4150-abf8-b535fd69e7da",
            "source": "s71",
            "source_arrow_fill": "hollow",
            "source_arrow_shape": "triangle",
            "target": "convert_ApafA_C9_to_Apop",
            "target_arrow_shape": "triangle"
           }
          },
          {
           "data": {
            "arrowhead": "normal",
            "id": "c5c86ae6-b864-4cfd-9019-8df42992b5fb",
            "source": "s71",
            "source_arrow_fill": "hollow",
            "source_arrow_shape": "triangle",
            "target": "bind_Apop_C3pro_to_ApopC3pro",
            "target_arrow_shape": "triangle"
           }
          },
          {
           "data": {
            "arrowhead": "normal",
            "id": "71205236-de5e-4dd3-8a0b-4a34a8c2b6e4",
            "source": "s71",
            "source_arrow_fill": "hollow",
            "source_arrow_shape": "triangle",
            "target": "bind_Apop_XIAP",
            "target_arrow_shape": "triangle"
           }
          },
          {
           "data": {
            "arrowhead": "normal",
            "id": "477a3a26-e54a-4b2a-847f-e9f4c8ecf190",
            "source": "s72",
            "source_arrow_fill": "hollow",
            "source_arrow_shape": "triangle",
            "target": "bind_Apop_C3pro_to_ApopC3pro",
            "target_arrow_shape": "triangle"
           }
          },
          {
           "data": {
            "arrowhead": "normal",
            "id": "09e2005d-3010-4c46-a22b-34051b5571f7",
            "source": "s72",
            "source_arrow_fill": "filled",
            "source_arrow_shape": "none",
            "target": "catalyze_ApopC3pro_to_Apop_C3A",
            "target_arrow_shape": "triangle"
           }
          },
          {
           "data": {
            "arrowhead": "normal",
            "id": "0791adbd-ca08-46c9-9b0b-bbba510d4798",
            "source": "s73",
            "source_arrow_fill": "hollow",
            "source_arrow_shape": "triangle",
            "target": "bind_Apop_XIAP",
            "target_arrow_shape": "triangle"
           }
          },
          {
           "data": {
            "arrowhead": "normal",
            "id": "f527ce2b-dd89-49c2-bd66-f3a3059daf6b",
            "source": "convert_LR_to_DISC",
            "source_arrow_fill": "filled",
            "source_arrow_shape": "none",
            "target": "s24",
            "target_arrow_shape": "triangle"
           }
          },
          {
           "data": {
            "arrowhead": "normal",
            "id": "ef9c076b-12c3-445b-95c8-82a8f22ac33f",
            "source": "catalyze_DISCC8pro_to_DISC_C8A",
            "source_arrow_fill": "filled",
            "source_arrow_shape": "none",
            "target": "s24",
            "target_arrow_shape": "triangle"
           }
          },
          {
           "data": {
            "arrowhead": "normal",
            "id": "9ca1bfaa-a9ce-453c-a8f2-d14e5af107de",
            "source": "catalyze_DISCC8pro_to_DISC_C8A",
            "source_arrow_fill": "filled",
            "source_arrow_shape": "none",
            "target": "s27",
            "target_arrow_shape": "triangle"
           }
          },
          {
           "data": {
            "arrowhead": "normal",
            "id": "44245ded-e2f9-472b-b742-5a5cd19e8bf8",
            "source": "catalyze_C8ABidU_to_C8A_BidT",
            "source_arrow_fill": "filled",
            "source_arrow_shape": "none",
            "target": "s27",
            "target_arrow_shape": "triangle"
           }
          },
          {
           "data": {
            "arrowhead": "normal",
            "id": "e6beccaa-a9b7-4dc6-9a77-c23d58706a4d",
            "source": "catalyze_C8ABidU_to_C8A_BidT",
            "source_arrow_fill": "filled",
            "source_arrow_shape": "none",
            "target": "s31",
            "target_arrow_shape": "triangle"
           }
          },
          {
           "data": {
            "arrowhead": "normal",
            "id": "abe7586c-ccfc-4be5-a68e-93a2bd5ec38b",
            "source": "catalyze_CytoCAApafI_to_CytoCA_ApafA",
            "source_arrow_fill": "filled",
            "source_arrow_shape": "none",
            "target": "s67",
            "target_arrow_shape": "triangle"
           }
          },
          {
           "data": {
            "arrowhead": "normal",
            "id": "c015c14c-337a-4f4e-b751-a37fe70cac0c",
            "source": "catalyze_CytoCAApafI_to_CytoCA_ApafA",
            "source_arrow_fill": "filled",
            "source_arrow_shape": "none",
            "target": "s70",
            "target_arrow_shape": "triangle"
           }
          },
          {
           "data": {
            "arrowhead": "normal",
            "id": "5cac611a-4981-4a6c-903b-5c0ba329d23f",
            "source": "catalyze_ApopC3pro_to_Apop_C3A",
            "source_arrow_fill": "filled",
            "source_arrow_shape": "none",
            "target": "s32",
            "target_arrow_shape": "triangle"
           }
          },
          {
           "data": {
            "arrowhead": "normal",
            "id": "cd031d8a-775e-4b31-99c4-6a46a6bfb84f",
            "source": "catalyze_ApopC3pro_to_Apop_C3A",
            "source_arrow_fill": "filled",
            "source_arrow_shape": "none",
            "target": "s71",
            "target_arrow_shape": "triangle"
           }
          },
          {
           "data": {
            "arrowhead": "normal",
            "id": "74deca2f-3663-43f7-93eb-97796d0d1330",
            "source": "catalyze_C8AC3pro_to_C8A_C3A",
            "source_arrow_fill": "filled",
            "source_arrow_shape": "none",
            "target": "s32",
            "target_arrow_shape": "triangle"
           }
          },
          {
           "data": {
            "arrowhead": "normal",
            "id": "65f695a5-fb48-44f9-a8e4-cb384347e510",
            "source": "catalyze_C8AC3pro_to_C8A_C3A",
            "source_arrow_fill": "filled",
            "source_arrow_shape": "none",
            "target": "s27",
            "target_arrow_shape": "triangle"
           }
          },
          {
           "data": {
            "arrowhead": "normal",
            "id": "efee933b-db46-4651-ab51-9b26efa6150d",
            "source": "catalyze_XIAPC3A_to_XIAP_C3ub",
            "source_arrow_fill": "filled",
            "source_arrow_shape": "none",
            "target": "s10",
            "target_arrow_shape": "triangle"
           }
          },
          {
           "data": {
            "arrowhead": "normal",
            "id": "4f5d84c0-31d7-4d0f-9cf9-5466523dca2f",
            "source": "catalyze_XIAPC3A_to_XIAP_C3ub",
            "source_arrow_fill": "filled",
            "source_arrow_shape": "none",
            "target": "s37",
            "target_arrow_shape": "triangle"
           }
          },
          {
           "data": {
            "arrowhead": "normal",
            "id": "710cb915-076c-474a-9e41-ce8774e46246",
            "source": "catalyze_C3APARPU_to_C3A_PARPC",
            "source_arrow_fill": "filled",
            "source_arrow_shape": "none",
            "target": "s32",
            "target_arrow_shape": "triangle"
           }
          },
          {
           "data": {
            "arrowhead": "normal",
            "id": "6faf5bad-f55d-41f6-8a14-15fdada5c51d",
            "source": "catalyze_C3APARPU_to_C3A_PARPC",
            "source_arrow_fill": "filled",
            "source_arrow_shape": "none",
            "target": "s38",
            "target_arrow_shape": "triangle"
           }
          },
          {
           "data": {
            "arrowhead": "normal",
            "id": "1971768c-4fdb-4a69-8b90-fcb1553ab07e",
            "source": "catalyze_C3AC6pro_to_C3A_C6A",
            "source_arrow_fill": "filled",
            "source_arrow_shape": "none",
            "target": "s32",
            "target_arrow_shape": "triangle"
           }
          },
          {
           "data": {
            "arrowhead": "normal",
            "id": "81c0593b-8dc5-4f2d-9f13-d530467dc781",
            "source": "catalyze_C3AC6pro_to_C3A_C6A",
            "source_arrow_fill": "filled",
            "source_arrow_shape": "none",
            "target": "s39",
            "target_arrow_shape": "triangle"
           }
          },
          {
           "data": {
            "arrowhead": "normal",
            "id": "c9a858af-adc1-41c1-9593-fcd103288abe",
            "source": "catalyze_C6AC8pro_to_C6A_C8A",
            "source_arrow_fill": "filled",
            "source_arrow_shape": "none",
            "target": "s27",
            "target_arrow_shape": "triangle"
           }
          },
          {
           "data": {
            "arrowhead": "normal",
            "id": "d09c0825-37ff-464e-b2a5-0213b44fcd8c",
            "source": "catalyze_C6AC8pro_to_C6A_C8A",
            "source_arrow_fill": "filled",
            "source_arrow_shape": "none",
            "target": "s39",
            "target_arrow_shape": "triangle"
           }
          },
          {
           "data": {
            "arrowhead": "normal",
            "id": "b9b27754-e831-4e3d-bc08-fe99a92841c1",
            "source": "catalyze_BidMBaxM_to_BidM_BaxA",
            "source_arrow_fill": "filled",
            "source_arrow_shape": "none",
            "target": "s36",
            "target_arrow_shape": "triangle"
           }
          },
          {
           "data": {
            "arrowhead": "normal",
            "id": "c78ccb78-de44-4642-94ba-cc84f26bf5d4",
            "source": "catalyze_BidMBaxM_to_BidM_BaxA",
            "source_arrow_fill": "filled",
            "source_arrow_shape": "none",
            "target": "s46",
            "target_arrow_shape": "triangle"
           }
          },
          {
           "data": {
            "arrowhead": "normal",
            "id": "f1ba7961-2d44-4ac7-889d-6c543b9d9436",
            "source": "catalyze_BidMBakM_to_BidM_BakA",
            "source_arrow_fill": "filled",
            "source_arrow_shape": "none",
            "target": "s36",
            "target_arrow_shape": "triangle"
           }
          },
          {
           "data": {
            "arrowhead": "normal",
            "id": "574f6d45-9f89-4090-bad6-9df88836a07e",
            "source": "catalyze_BidMBakM_to_BidM_BakA",
            "source_arrow_fill": "filled",
            "source_arrow_shape": "none",
            "target": "s47",
            "target_arrow_shape": "triangle"
           }
          },
          {
           "data": {
            "arrowhead": "normal",
            "id": "ffb41765-8f2c-4df7-8729-59a8f5ae1ca8",
            "source": "catalyze_BaxABaxM_to_BaxA_BaxA",
            "source_arrow_fill": "filled",
            "source_arrow_shape": "none",
            "target": "s46",
            "target_arrow_shape": "triangle"
           }
          },
          {
           "data": {
            "arrowhead": "normal",
            "id": "77ba4090-f979-460c-b746-52c5076f235a",
            "source": "catalyze_BakABakM_to_BakA_BakA",
            "source_arrow_fill": "filled",
            "source_arrow_shape": "none",
            "target": "s47",
            "target_arrow_shape": "triangle"
           }
          },
          {
           "data": {
            "arrowhead": "normal",
            "id": "d1b4d9ca-3f20-405c-b2c5-58011466f5aa",
            "source": "pore_transport_dissociate_BaxA_4_CytoCC",
            "source_arrow_fill": "filled",
            "source_arrow_shape": "none",
            "target": "s64",
            "target_arrow_shape": "triangle"
           }
          },
          {
           "data": {
            "arrowhead": "normal",
            "id": "b8eefd97-e514-4d6c-a56f-e6286fd185af",
            "source": "pore_transport_dissociate_BaxA_4_CytoCC",
            "source_arrow_fill": "filled",
            "source_arrow_shape": "none",
            "target": "s58",
            "target_arrow_shape": "triangle"
           }
          },
          {
           "data": {
            "arrowhead": "normal",
            "id": "8f5ee94a-848e-4c65-86ad-d120621992ba",
            "source": "pore_transport_dissociate_BaxA_4_SmacC",
            "source_arrow_fill": "filled",
            "source_arrow_shape": "none",
            "target": "s65",
            "target_arrow_shape": "triangle"
           }
          },
          {
           "data": {
            "arrowhead": "normal",
            "id": "54a57b07-b632-4a9a-8c5f-e563e18a021d",
            "source": "pore_transport_dissociate_BaxA_4_SmacC",
            "source_arrow_fill": "filled",
            "source_arrow_shape": "none",
            "target": "s58",
            "target_arrow_shape": "triangle"
           }
          },
          {
           "data": {
            "arrowhead": "normal",
            "id": "67faaa82-3a0f-4023-8654-704f005a4fdf",
            "source": "pore_transport_dissociate_BakA_4_CytoCC",
            "source_arrow_fill": "filled",
            "source_arrow_shape": "none",
            "target": "s64",
            "target_arrow_shape": "triangle"
           }
          },
          {
           "data": {
            "arrowhead": "normal",
            "id": "055722e0-947c-413a-95d6-57cf1d29c143",
            "source": "pore_transport_dissociate_BakA_4_CytoCC",
            "source_arrow_fill": "filled",
            "source_arrow_shape": "none",
            "target": "s59",
            "target_arrow_shape": "triangle"
           }
          },
          {
           "data": {
            "arrowhead": "normal",
            "id": "5ad3ee80-5665-497d-a1d5-d3ca78284d33",
            "source": "pore_transport_dissociate_BakA_4_SmacC",
            "source_arrow_fill": "filled",
            "source_arrow_shape": "none",
            "target": "s65",
            "target_arrow_shape": "triangle"
           }
          },
          {
           "data": {
            "arrowhead": "normal",
            "id": "4ffada5a-570e-40c0-9fd4-fdbf7f25b0f5",
            "source": "pore_transport_dissociate_BakA_4_SmacC",
            "source_arrow_fill": "filled",
            "source_arrow_shape": "none",
            "target": "s59",
            "target_arrow_shape": "triangle"
           }
          }
         ],
         "nodes": [
          {
           "data": {
            "NodeType": "species",
            "background_color": "#aaffff",
            "bipartite": 0,
            "id": "s0",
            "label": "L",
            "name": "s0",
            "shape": "ellipse"
           },
           "position": {
            "x": 2408.7017419109343,
            "y": 448.70915434244927
           }
          },
          {
           "data": {
            "NodeType": "species",
            "background_color": "#aaffff",
            "bipartite": 0,
            "id": "s1",
            "label": "R",
            "name": "s1",
            "shape": "ellipse"
           },
           "position": {
            "x": 2293.704912704465,
            "y": 430.2367983124972
           }
          },
          {
           "data": {
            "NodeType": "species",
            "background_color": "#aaffff",
            "bipartite": 0,
            "id": "s2",
            "label": "flip",
            "name": "s2",
            "shape": "ellipse"
           },
           "position": {
            "x": 2573.6142133141075,
            "y": 824.844636851017
           }
          },
          {
           "data": {
            "NodeType": "species",
            "background_color": "#aaffff",
            "bipartite": 0,
            "id": "s3",
            "label": "proC8",
            "name": "s3",
            "shape": "ellipse"
           },
           "position": {
            "x": 2350.982521757974,
            "y": 1044.863363829446
           }
          },
          {
           "data": {
            "NodeType": "species",
            "background_color": "#aaffff",
            "bipartite": 0,
            "id": "s4",
            "label": "BAR",
            "name": "s4",
            "shape": "ellipse"
           },
           "position": {
            "x": 1872.081757265984,
            "y": 792.4941417434809
           }
          },
          {
           "data": {
            "NodeType": "species",
            "background_color": "#aaffff",
            "bipartite": 0,
            "id": "s5",
            "label": "iApaf",
            "name": "s5",
            "shape": "ellipse"
           },
           "position": {
            "x": 34.49999999999999,
            "y": 953.8260967385888
           }
          },
          {
           "data": {
            "NodeType": "species",
            "background_color": "#aaffff",
            "bipartite": 0,
            "id": "s6",
            "label": "proC3",
            "name": "s6",
            "shape": "ellipse"
           },
           "position": {
            "x": 1611.6977751154523,
            "y": 914.5231080292872
           }
          },
          {
           "data": {
            "NodeType": "species",
            "background_color": "#aaffff",
            "bipartite": 0,
            "id": "s7",
            "label": "proC6",
            "name": "s7",
            "shape": "ellipse"
           },
           "position": {
            "x": 1370.2859799511148,
            "y": 1188.4730772421358
           }
          },
          {
           "data": {
            "NodeType": "species",
            "background_color": "#aaffff",
            "bipartite": 0,
            "id": "s8",
            "label": "C9",
            "name": "s8",
            "shape": "ellipse"
           },
           "position": {
            "x": 998.9909908564255,
            "y": 1093.5279318913358
           }
          },
          {
           "data": {
            "NodeType": "species",
            "background_color": "#aaffff",
            "bipartite": 0,
            "id": "s9",
            "label": "uPARP",
            "name": "s9",
            "shape": "ellipse"
           },
           "position": {
            "x": 2067.8638588969798,
            "y": 1170.6565775899426
           }
          },
          {
           "data": {
            "NodeType": "species",
            "background_color": "#aaffff",
            "bipartite": 0,
            "id": "s10",
            "label": "XIAP",
            "name": "s10",
            "shape": "ellipse"
           },
           "position": {
            "x": 1286.0937716538258,
            "y": 1183.7131439745933
           }
          },
          {
           "data": {
            "NodeType": "species",
            "background_color": "#aaffff",
            "bipartite": 0,
            "id": "s11",
            "label": "uBid",
            "name": "s11",
            "shape": "ellipse"
           },
           "position": {
            "x": 2133.6199375730052,
            "y": 759.1016062163737
           }
          },
          {
           "data": {
            "NodeType": "species",
            "background_color": "#aaffff",
            "bipartite": 0,
            "id": "s12",
            "label": "cBad",
            "name": "s12",
            "shape": "ellipse"
           },
           "position": {
            "x": 743.4636123286602,
            "y": 39
           }
          },
          {
           "data": {
            "NodeType": "species",
            "background_color": "#aaffff",
            "bipartite": 0,
            "id": "s13",
            "label": "cBax",
            "name": "s13",
            "shape": "ellipse"
           },
           "position": {
            "x": 1869.7930039624177,
            "y": 529.9230400376841
           }
          },
          {
           "data": {
            "NodeType": "species",
            "background_color": "#aaffff",
            "bipartite": 0,
            "id": "s14",
            "label": "mBak",
            "name": "s14",
            "shape": "ellipse"
           },
           "position": {
            "x": 1468.175342159422,
            "y": 217.62776692900957
           }
          },
          {
           "data": {
            "NodeType": "species",
            "background_color": "#aaffff",
            "bipartite": 0,
            "id": "s15",
            "label": "Bcl2",
            "name": "s15",
            "shape": "ellipse"
           },
           "position": {
            "x": 1375.4108576379945,
            "y": 652.1174840900565
           }
          },
          {
           "data": {
            "NodeType": "species",
            "background_color": "#aaffff",
            "bipartite": 0,
            "id": "s16",
            "label": "cBclxL",
            "name": "s16",
            "shape": "ellipse"
           },
           "position": {
            "x": 1443.6502150524261,
            "y": 284.6046836808645
           }
          },
          {
           "data": {
            "NodeType": "species",
            "background_color": "#aaffff",
            "bipartite": 0,
            "id": "s17",
            "label": "mMcl1",
            "name": "s17",
            "shape": "ellipse"
           },
           "position": {
            "x": 1369.165266508251,
            "y": 271.50542802106946
           }
          },
          {
           "data": {
            "NodeType": "species",
            "background_color": "#aaffff",
            "bipartite": 0,
            "id": "s18",
            "label": "cNoxa",
            "name": "s18",
            "shape": "ellipse"
           },
           "position": {
            "x": 689.4636123286602,
            "y": 39
           }
          },
          {
           "data": {
            "NodeType": "species",
            "background_color": "#aaffff",
            "bipartite": 0,
            "id": "s19",
            "label": "mCytoC",
            "name": "s19",
            "shape": "ellipse"
           },
           "position": {
            "x": 667.90693538764,
            "y": 617.2645992959208
           }
          },
          {
           "data": {
            "NodeType": "species",
            "background_color": "#aaffff",
            "bipartite": 0,
            "id": "s20",
            "label": "mSmac",
            "name": "s20",
            "shape": "ellipse"
           },
           "position": {
            "x": 848.489790925006,
            "y": 749.9591912185704
           }
          },
          {
           "data": {
            "NodeType": "species",
            "background_color": "#ccffcc",
            "bipartite": 0,
            "id": "s21",
            "label": "L-R",
            "name": "s21",
            "shape": "ellipse"
           },
           "position": {
            "x": 2322.0764770649616,
            "y": 631.6397937153322
           }
          },
          {
           "data": {
            "NodeType": "species",
            "background_color": "#ccffcc",
            "bipartite": 0,
            "id": "s22",
            "label": "mBax",
            "name": "s22",
            "shape": "ellipse"
           },
           "position": {
            "x": 1806.2025485759416,
            "y": 551.3802524682569
           }
          },
          {
           "data": {
            "NodeType": "species",
            "background_color": "#ccffcc",
            "bipartite": 0,
            "id": "s23",
            "label": "mBclxL",
            "name": "s23",
            "shape": "ellipse"
           },
           "position": {
            "x": 1256.373490490955,
            "y": 488.9480884060254
           }
          },
          {
           "data": {
            "NodeType": "species",
            "background_color": "#ccffcc",
            "bipartite": 0,
            "id": "s24",
            "label": "DISC",
            "name": "s24",
            "shape": "ellipse"
           },
           "position": {
            "x": 2328.9437428437077,
            "y": 834.1257725485837
           }
          },
          {
           "data": {
            "NodeType": "species",
            "background_color": "#ccffcc",
            "bipartite": 0,
            "id": "s25",
            "label": "proC8-DISC",
            "name": "s25",
            "shape": "ellipse"
           },
           "position": {
            "x": 2418.363853857606,
            "y": 855.4956751646937
           }
          },
          {
           "data": {
            "NodeType": "species",
            "background_color": "#ccffcc",
            "bipartite": 0,
            "id": "s26",
            "label": "DISC-flip",
            "name": "s26",
            "shape": "ellipse"
           },
           "position": {
            "x": 2584.185774162012,
            "y": 702.4463500461086
           }
          },
          {
           "data": {
            "NodeType": "species",
            "background_color": "#ccffcc",
            "bipartite": 0,
            "id": "s27",
            "label": "aC8",
            "name": "s27",
            "shape": "ellipse"
           },
           "position": {
            "x": 1931.106697384406,
            "y": 901.2046607270197
           }
          },
          {
           "data": {
            "NodeType": "species",
            "background_color": "#ccffcc",
            "bipartite": 0,
            "id": "s28",
            "label": "uBid-aC8",
            "name": "s28",
            "shape": "ellipse"
           },
           "position": {
            "x": 1833.568314240458,
            "y": 838.701219568652
           }
          },
          {
           "data": {
            "NodeType": "species",
            "background_color": "#ccffcc",
            "bipartite": 0,
            "id": "s29",
            "label": "BAR-aC8",
            "name": "s29",
            "shape": "ellipse"
           },
           "position": {
            "x": 1681.327871961059,
            "y": 834.9658236831617
           }
          },
          {
           "data": {
            "NodeType": "species",
            "background_color": "#ccffcc",
            "bipartite": 0,
            "id": "s30",
            "label": "proC3-aC8",
            "name": "s30",
            "shape": "ellipse"
           },
           "position": {
            "x": 1989.5802507702117,
            "y": 1002.8433818476974
           }
          },
          {
           "data": {
            "NodeType": "species",
            "background_color": "#ccffcc",
            "bipartite": 0,
            "id": "s31",
            "label": "tBid",
            "name": "s31",
            "shape": "ellipse"
           },
           "position": {
            "x": 1824.0864595165983,
            "y": 679.5173965776946
           }
          },
          {
           "data": {
            "NodeType": "species",
            "background_color": "#ccffcc",
            "bipartite": 0,
            "id": "s32",
            "label": "aC3",
            "name": "s32",
            "shape": "ellipse"
           },
           "position": {
            "x": 1679.6774837612609,
            "y": 1138.7120290989385
           }
          },
          {
           "data": {
            "NodeType": "species",
            "background_color": "#ccffcc",
            "bipartite": 0,
            "id": "s33",
            "label": "aC3-XIAP",
            "name": "s33",
            "shape": "ellipse"
           },
           "position": {
            "x": 1444.939454071883,
            "y": 1248.8666941161537
           }
          },
          {
           "data": {
            "NodeType": "species",
            "background_color": "#ccffcc",
            "bipartite": 0,
            "id": "s34",
            "label": "aC3-uPARP",
            "name": "s34",
            "shape": "ellipse"
           },
           "position": {
            "x": 1987.1146628186648,
            "y": 1261.9039218842338
           }
          },
          {
           "data": {
            "NodeType": "species",
            "background_color": "#ccffcc",
            "bipartite": 0,
            "id": "s35",
            "label": "aC3-proC6",
            "name": "s35",
            "shape": "ellipse"
           },
           "position": {
            "x": 1639.4942635381847,
            "y": 1081.1800340887357
           }
          },
          {
           "data": {
            "NodeType": "species",
            "background_color": "#ccffcc",
            "bipartite": 0,
            "id": "s36",
            "label": "mBid",
            "name": "s36",
            "shape": "ellipse"
           },
           "position": {
            "x": 1580.937884725241,
            "y": 471.4599941575165
           }
          },
          {
           "data": {
            "NodeType": "species",
            "background_color": "#ccffcc",
            "bipartite": 0,
            "id": "s37",
            "label": "ubC3",
            "name": "s37",
            "shape": "ellipse"
           },
           "position": {
            "x": 1187.3746015277204,
            "y": 1373.9888556465482
           }
          },
          {
           "data": {
            "NodeType": "species",
            "background_color": "#ccffcc",
            "bipartite": 0,
            "id": "s38",
            "label": "cPARP",
            "name": "s38",
            "shape": "ellipse"
           },
           "position": {
            "x": 1615.630410023328,
            "y": 1304.901370513778
           }
          },
          {
           "data": {
            "NodeType": "species",
            "background_color": "#ccffcc",
            "bipartite": 0,
            "id": "s39",
            "label": "aC6",
            "name": "s39",
            "shape": "ellipse"
           },
           "position": {
            "x": 2060.9756005437594,
            "y": 1055.4118231292464
           }
          },
          {
           "data": {
            "NodeType": "species",
            "background_color": "#ccffcc",
            "bipartite": 0,
            "id": "s40",
            "label": "mBax-mBid",
            "name": "s40",
            "shape": "ellipse"
           },
           "position": {
            "x": 1845.498025134819,
            "y": 609.847651672482
           }
          },
          {
           "data": {
            "NodeType": "species",
            "background_color": "#ccffcc",
            "bipartite": 0,
            "id": "s41",
            "label": "mBak-mBid",
            "name": "s41",
            "shape": "ellipse"
           },
           "position": {
            "x": 1635.4876052535885,
            "y": 407.04662056886883
           }
          },
          {
           "data": {
            "NodeType": "species",
            "background_color": "#ccffcc",
            "bipartite": 0,
            "id": "s42",
            "label": "Bcl2-mBid",
            "name": "s42",
            "shape": "ellipse"
           },
           "position": {
            "x": 1321.7301355290715,
            "y": 540.989487790039
           }
          },
          {
           "data": {
            "NodeType": "species",
            "background_color": "#ccffcc",
            "bipartite": 0,
            "id": "s43",
            "label": "mBclxL-mBid",
            "name": "s43",
            "shape": "ellipse"
           },
           "position": {
            "x": 1185.3690446165756,
            "y": 433.70877237539645
           }
          },
          {
           "data": {
            "NodeType": "species",
            "background_color": "#ccffcc",
            "bipartite": 0,
            "id": "s44",
            "label": "mBid-mMcl1",
            "name": "s44",
            "shape": "ellipse"
           },
           "position": {
            "x": 1551.6564351213158,
            "y": 260.15272626779944
           }
          },
          {
           "data": {
            "NodeType": "species",
            "background_color": "#ccffcc",
            "bipartite": 0,
            "id": "s45",
            "label": "aC6-proC8",
            "name": "s45",
            "shape": "ellipse"
           },
           "position": {
            "x": 2240.0182251576807,
            "y": 1003.4047043246085
           }
          },
          {
           "data": {
            "NodeType": "species",
            "background_color": "#ccffcc",
            "bipartite": 0,
            "id": "s46",
            "label": "aBax",
            "name": "s46",
            "shape": "ellipse"
           },
           "position": {
            "x": 1383.7569671519975,
            "y": 734.5061464831685
           }
          },
          {
           "data": {
            "NodeType": "species",
            "background_color": "#ccffcc",
            "bipartite": 0,
            "id": "s47",
            "label": "aBak",
            "name": "s47",
            "shape": "ellipse"
           },
           "position": {
            "x": 1092.4436295321905,
            "y": 370.8620704648736
           }
          },
          {
           "data": {
            "NodeType": "species",
            "background_color": "#ccffcc",
            "bipartite": 0,
            "id": "s48",
            "label": "aBax-mBax",
            "name": "s48",
            "shape": "ellipse"
           },
           "position": {
            "x": 1780.8527458030708,
            "y": 763.4425319054124
           }
          },
          {
           "data": {
            "NodeType": "species",
            "background_color": "#ccffcc",
            "bipartite": 0,
            "id": "s49",
            "label": "aBak-mBak",
            "name": "s49",
            "shape": "ellipse"
           },
           "position": {
            "x": 1021.8312247481508,
            "y": 184.3322886060826
           }
          },
          {
           "data": {
            "NodeType": "species",
            "background_color": "#ccffcc",
            "bipartite": 0,
            "id": "s50",
            "label": "aBax-Bcl2",
            "name": "s50",
            "shape": "ellipse"
           },
           "position": {
            "x": 1455.641433007169,
            "y": 689.79120187025
           }
          },
          {
           "data": {
            "NodeType": "species",
            "background_color": "#ccffcc",
            "bipartite": 0,
            "id": "s51",
            "label": "aBax-mBclxL",
            "name": "s51",
            "shape": "ellipse"
           },
           "position": {
            "x": 1414.2505489798598,
            "y": 602.1999859792611
           }
          },
          {
           "data": {
            "NodeType": "species",
            "background_color": "#ccffcc",
            "bipartite": 0,
            "id": "s52",
            "label": "aBak-mBclxL",
            "name": "s52",
            "shape": "ellipse"
           },
           "position": {
            "x": 905.9780296540698,
            "y": 557.5700681307362
           }
          },
          {
           "data": {
            "NodeType": "species",
            "background_color": "#ccffcc",
            "bipartite": 0,
            "id": "s53",
            "label": "aBak-mMcl1",
            "name": "s53",
            "shape": "ellipse"
           },
           "position": {
            "x": 1367.0417291996225,
            "y": 338.81913581267315
           }
          },
          {
           "data": {
            "NodeType": "species",
            "background_color": "#ccffcc",
            "bipartite": 0,
            "id": "s54",
            "label": "2aBax",
            "name": "s54",
            "shape": "ellipse"
           },
           "position": {
            "x": 1267.365249414662,
            "y": 891.9586172740892
           }
          },
          {
           "data": {
            "NodeType": "species",
            "background_color": "#ccffcc",
            "bipartite": 0,
            "id": "s55",
            "label": "2aBak",
            "name": "s55",
            "shape": "ellipse"
           },
           "position": {
            "x": 773.3693594653112,
            "y": 406.845779084339
           }
          },
          {
           "data": {
            "NodeType": "species",
            "background_color": "#ccffcc",
            "bipartite": 0,
            "id": "s56",
            "label": "3aBax",
            "name": "s56",
            "shape": "ellipse"
           },
           "position": {
            "x": 1113.6438849035262,
            "y": 844.5692482616141
           }
          },
          {
           "data": {
            "NodeType": "species",
            "background_color": "#ccffcc",
            "bipartite": 0,
            "id": "s57",
            "label": "3aBak",
            "name": "s57",
            "shape": "ellipse"
           },
           "position": {
            "x": 994.4766211177262,
            "y": 524.3209109982772
           }
          },
          {
           "data": {
            "NodeType": "species",
            "background_color": "#ccffcc",
            "bipartite": 0,
            "id": "s58",
            "label": "4aBax",
            "name": "s58",
            "shape": "ellipse"
           },
           "position": {
            "x": 781.6781295464502,
            "y": 770.1898794709855
           }
          },
          {
           "data": {
            "NodeType": "species",
            "background_color": "#ccffcc",
            "bipartite": 0,
            "id": "s59",
            "label": "4aBak",
            "name": "s59",
            "shape": "ellipse"
           },
           "position": {
            "x": 767.415273099444,
            "y": 579.3256290641875
           }
          },
          {
           "data": {
            "NodeType": "species",
            "background_color": "#ccffcc",
            "bipartite": 0,
            "id": "s60",
            "label": "4aBax-mCytoC",
            "name": "s60",
            "shape": "ellipse"
           },
           "position": {
            "x": 431.82684511948463,
            "y": 661.5818531964035
           }
          },
          {
           "data": {
            "NodeType": "species",
            "background_color": "#ccffcc",
            "bipartite": 0,
            "id": "s61",
            "label": "4aBax-mSmac",
            "name": "s61",
            "shape": "ellipse"
           },
           "position": {
            "x": 602.2439976893138,
            "y": 904.158452429331
           }
          },
          {
           "data": {
            "NodeType": "species",
            "background_color": "#ccffcc",
            "bipartite": 0,
            "id": "s62",
            "label": "4aBak-mCytoC",
            "name": "s62",
            "shape": "ellipse"
           },
           "position": {
            "x": 355.573992268644,
            "y": 513.1778602506972
           }
          },
          {
           "data": {
            "NodeType": "species",
            "background_color": "#ccffcc",
            "bipartite": 0,
            "id": "s63",
            "label": "4aBak-mSmac",
            "name": "s63",
            "shape": "ellipse"
           },
           "position": {
            "x": 1126.0233929721464,
            "y": 639.2663246615134
           }
          },
          {
           "data": {
            "NodeType": "species",
            "background_color": "#ccffcc",
            "bipartite": 0,
            "id": "s64",
            "label": "cCytoC",
            "name": "s64",
            "shape": "ellipse"
           },
           "position": {
            "x": 336.20639166465753,
            "y": 705.555450594014
           }
          },
          {
           "data": {
            "NodeType": "species",
            "background_color": "#ccffcc",
            "bipartite": 0,
            "id": "s65",
            "label": "cSmac",
            "name": "s65",
            "shape": "ellipse"
           },
           "position": {
            "x": 996.4979373504557,
            "y": 816.5559011023483
           }
          },
          {
           "data": {
            "NodeType": "species",
            "background_color": "#ccffcc",
            "bipartite": 0,
            "id": "s66",
            "label": "aSmac",
            "name": "s66",
            "shape": "ellipse"
           },
           "position": {
            "x": 1122.2716621787113,
            "y": 1045.097657956575
           }
          },
          {
           "data": {
            "NodeType": "species",
            "background_color": "#ccffcc",
            "bipartite": 0,
            "id": "s67",
            "label": "aCytoC",
            "name": "s67",
            "shape": "ellipse"
           },
           "position": {
            "x": 418.2736505467979,
            "y": 912.119082914887
           }
          },
          {
           "data": {
            "NodeType": "species",
            "background_color": "#ccffcc",
            "bipartite": 0,
            "id": "s68",
            "label": "iApaf-aCytoC",
            "name": "s68",
            "shape": "ellipse"
           },
           "position": {
            "x": 367.8207457771904,
            "y": 1034.5733710024438
           }
          },
          {
           "data": {
            "NodeType": "species",
            "background_color": "#ccffcc",
            "bipartite": 0,
            "id": "s69",
            "label": "aSmac-XIAP",
            "name": "s69",
            "shape": "ellipse"
           },
           "position": {
            "x": 966.9721931249762,
            "y": 1202.2519783266614
           }
          },
          {
           "data": {
            "NodeType": "species",
            "background_color": "#ccffcc",
            "bipartite": 0,
            "id": "s70",
            "label": "aApaf",
            "name": "s70",
            "shape": "ellipse"
           },
           "position": {
            "x": 805.4451979901926,
            "y": 996.6908447493925
           }
          },
          {
           "data": {
            "NodeType": "species",
            "background_color": "#ccffcc",
            "bipartite": 0,
            "id": "s71",
            "label": "Apop",
            "name": "s71",
            "shape": "ellipse"
           },
           "position": {
            "x": 1225.561085168929,
            "y": 1004.4040849490477
           }
          },
          {
           "data": {
            "NodeType": "species",
            "background_color": "#ccffcc",
            "bipartite": 0,
            "id": "s72",
            "label": "Apop-proC3",
            "name": "s72",
            "shape": "ellipse"
           },
           "position": {
            "x": 1589.762557406223,
            "y": 993.2288548511356
           }
          },
          {
           "data": {
            "NodeType": "species",
            "background_color": "#ccffcc",
            "bipartite": 0,
            "id": "s73",
            "label": "Apop-XIAP",
            "name": "s73",
            "shape": "ellipse"
           },
           "position": {
            "x": 1301.7107147776164,
            "y": 999.4932394744242
           }
          },
          {
           "data": {
            "NodeType": "rule",
            "background_color": "#ff4c4c",
            "bipartite": 1,
            "id": "bind_L_R_to_LR",
            "index": "rule0",
            "label": "bind_L_R_to_LR",
            "name": "bind_L_R_to_LR",
            "shape": "roundrectangle"
           },
           "position": {
            "x": 2332.3100636980485,
            "y": 528.7819933059393
           }
          },
          {
           "data": {
            "NodeType": "rule",
            "background_color": "#ff4c4c",
            "bipartite": 1,
            "id": "convert_LR_to_DISC",
            "index": "rule1",
            "label": "convert_LR_to_DISC",
            "name": "convert_LR_to_DISC",
            "shape": "roundrectangle"
           },
           "position": {
            "x": 2286.70111273874,
            "y": 732.2047353698315
           }
          },
          {
           "data": {
            "NodeType": "rule",
            "background_color": "#ff4c4c",
            "bipartite": 1,
            "id": "bind_DISC_C8pro_to_DISCC8pro",
            "index": "rule2",
            "label": "bind_DISC_C8pro_to_DISCC8pro",
            "name": "bind_DISC_C8pro_to_DISCC8pro",
            "shape": "roundrectangle"
           },
           "position": {
            "x": 2381.999674257203,
            "y": 943.008201618999
           }
          },
          {
           "data": {
            "NodeType": "rule",
            "background_color": "#ff4c4c",
            "bipartite": 1,
            "id": "catalyze_DISCC8pro_to_DISC_C8A",
            "index": "rule3",
            "label": "catalyze_DISCC8pro_to_DISC_C8A",
            "name": "catalyze_DISCC8pro_to_DISC_C8A",
            "shape": "roundrectangle"
           },
           "position": {
            "x": 2174.712964098929,
            "y": 880.7272199916215
           }
          },
          {
           "data": {
            "NodeType": "rule",
            "background_color": "#ff4c4c",
            "bipartite": 1,
            "id": "bind_C8A_BidU_to_C8ABidU",
            "index": "rule4",
            "label": "bind_C8A_BidU_to_C8ABidU",
            "name": "bind_C8A_BidU_to_C8ABidU",
            "shape": "roundrectangle"
           },
           "position": {
            "x": 2026.087730283114,
            "y": 825.2700128022907
           }
          },
          {
           "data": {
            "NodeType": "rule",
            "background_color": "#ff4c4c",
            "bipartite": 1,
            "id": "catalyze_C8ABidU_to_C8A_BidT",
            "index": "rule5",
            "label": "catalyze_C8ABidU_to_C8A_BidT",
            "name": "catalyze_C8ABidU_to_C8A_BidT",
            "shape": "roundrectangle"
           },
           "position": {
            "x": 1964.7156219664548,
            "y": 747.4424639537128
           }
          },
          {
           "data": {
            "NodeType": "rule",
            "background_color": "#ff4c4c",
            "bipartite": 1,
            "id": "bind_DISC_flip",
            "index": "rule6",
            "label": "bind_DISC_flip",
            "name": "bind_DISC_flip",
            "shape": "roundrectangle"
           },
           "position": {
            "x": 2456.111688031903,
            "y": 770.8262617450082
           }
          },
          {
           "data": {
            "NodeType": "rule",
            "background_color": "#ff4c4c",
            "bipartite": 1,
            "id": "bind_BAR_C8A",
            "index": "rule7",
            "label": "bind_BAR_C8A",
            "name": "bind_BAR_C8A",
            "shape": "roundrectangle"
           },
           "position": {
            "x": 1806.3454529507237,
            "y": 898.6893375471668
           }
          },
          {
           "data": {
            "NodeType": "rule",
            "background_color": "#ff4c4c",
            "bipartite": 1,
            "id": "equilibrate_SmacC_to_SmacA",
            "index": "rule8",
            "label": "equilibrate_SmacC_to_SmacA",
            "name": "equilibrate_SmacC_to_SmacA",
            "shape": "roundrectangle"
           },
           "position": {
            "x": 1084.8074045535718,
            "y": 928.1895650045608
           }
          },
          {
           "data": {
            "NodeType": "rule",
            "background_color": "#ff4c4c",
            "bipartite": 1,
            "id": "equilibrate_CytoCC_to_CytoCA",
            "index": "rule9",
            "label": "equilibrate_CytoCC_to_CytoCA",
            "name": "equilibrate_CytoCC_to_CytoCA",
            "shape": "roundrectangle"
           },
           "position": {
            "x": 307.5980672427826,
            "y": 820.781150156841
           }
          },
          {
           "data": {
            "NodeType": "rule",
            "background_color": "#ff4c4c",
            "bipartite": 1,
            "id": "bind_CytoCA_ApafI_to_CytoCAApafI",
            "index": "rule10",
            "label": "bind_CytoCA_ApafI_to_CytoCAApafI",
            "name": "bind_CytoCA_ApafI_to_CytoCAApafI",
            "shape": "roundrectangle"
           },
           "position": {
            "x": 240.63268390265262,
            "y": 958.0816700071664
           }
          },
          {
           "data": {
            "NodeType": "rule",
            "background_color": "#ff4c4c",
            "bipartite": 1,
            "id": "catalyze_CytoCAApafI_to_CytoCA_ApafA",
            "index": "rule11",
            "label": "catalyze_CytoCAApafI_to_CytoCA_ApafA",
            "name": "catalyze_CytoCAApafI_to_CytoCA_ApafA",
            "shape": "roundrectangle"
           },
           "position": {
            "x": 561.3378688945013,
            "y": 983.1323450425684
           }
          },
          {
           "data": {
            "NodeType": "rule",
            "background_color": "#ff4c4c",
            "bipartite": 1,
            "id": "convert_ApafA_C9_to_Apop",
            "index": "rule12",
            "label": "convert_ApafA_C9_to_Apop",
            "name": "convert_ApafA_C9_to_Apop",
            "shape": "roundrectangle"
           },
           "position": {
            "x": 1003.8376918944834,
            "y": 993.3995992521038
           }
          },
          {
           "data": {
            "NodeType": "rule",
            "background_color": "#ff4c4c",
            "bipartite": 1,
            "id": "bind_Apop_C3pro_to_ApopC3pro",
            "index": "rule13",
            "label": "bind_Apop_C3pro_to_ApopC3pro",
            "name": "bind_Apop_C3pro_to_ApopC3pro",
            "shape": "roundrectangle"
           },
           "position": {
            "x": 1404.5088988015502,
            "y": 946.3022361658152
           }
          },
          {
           "data": {
            "NodeType": "rule",
            "background_color": "#ff4c4c",
            "bipartite": 1,
            "id": "catalyze_ApopC3pro_to_Apop_C3A",
            "index": "rule14",
            "label": "catalyze_ApopC3pro_to_Apop_C3A",
            "name": "catalyze_ApopC3pro_to_Apop_C3A",
            "shape": "roundrectangle"
           },
           "position": {
            "x": 1455.73982208683,
            "y": 1055.7165118787977
           }
          },
          {
           "data": {
            "NodeType": "rule",
            "background_color": "#ff4c4c",
            "bipartite": 1,
            "id": "bind_Apop_XIAP",
            "index": "rule15",
            "label": "bind_Apop_XIAP",
            "name": "bind_Apop_XIAP",
            "shape": "roundrectangle"
           },
           "position": {
            "x": 1242.0631352768394,
            "y": 1094.3190351848075
           }
          },
          {
           "data": {
            "NodeType": "rule",
            "background_color": "#ff4c4c",
            "bipartite": 1,
            "id": "bind_SmacA_XIAP",
            "index": "rule16",
            "label": "bind_SmacA_XIAP",
            "name": "bind_SmacA_XIAP",
            "shape": "roundrectangle"
           },
           "position": {
            "x": 1134.6813312825852,
            "y": 1155.4799395344921
           }
          },
          {
           "data": {
            "NodeType": "rule",
            "background_color": "#ff4c4c",
            "bipartite": 1,
            "id": "bind_C8A_C3pro_to_C8AC3pro",
            "index": "rule17",
            "label": "bind_C8A_C3pro_to_C8AC3pro",
            "name": "bind_C8A_C3pro_to_C8AC3pro",
            "shape": "roundrectangle"
           },
           "position": {
            "x": 1780.0223420958282,
            "y": 960.9606706760871
           }
          },
          {
           "data": {
            "NodeType": "rule",
            "background_color": "#ff4c4c",
            "bipartite": 1,
            "id": "catalyze_C8AC3pro_to_C8A_C3A",
            "index": "rule18",
            "label": "catalyze_C8AC3pro_to_C8A_C3A",
            "name": "catalyze_C8AC3pro_to_C8A_C3A",
            "shape": "roundrectangle"
           },
           "position": {
            "x": 1801.0276453376182,
            "y": 1027.5458652152872
           }
          },
          {
           "data": {
            "NodeType": "rule",
            "background_color": "#ff4c4c",
            "bipartite": 1,
            "id": "bind_XIAP_C3A_to_XIAPC3A",
            "index": "rule19",
            "label": "bind_XIAP_C3A_to_XIAPC3A",
            "name": "bind_XIAP_C3A_to_XIAPC3A",
            "shape": "roundrectangle"
           },
           "position": {
            "x": 1462.5292683561663,
            "y": 1137.7701195260206
           }
          },
          {
           "data": {
            "NodeType": "rule",
            "background_color": "#ff4c4c",
            "bipartite": 1,
            "id": "catalyze_XIAPC3A_to_XIAP_C3ub",
            "index": "rule20",
            "label": "catalyze_XIAPC3A_to_XIAP_C3ub",
            "name": "catalyze_XIAPC3A_to_XIAP_C3ub",
            "shape": "roundrectangle"
           },
           "position": {
            "x": 1230.368543475317,
            "y": 1277.5496569556892
           }
          },
          {
           "data": {
            "NodeType": "rule",
            "background_color": "#ff4c4c",
            "bipartite": 1,
            "id": "bind_C3A_PARPU_to_C3APARPU",
            "index": "rule21",
            "label": "bind_C3A_PARPU_to_C3APARPU",
            "name": "bind_C3A_PARPU_to_C3APARPU",
            "shape": "roundrectangle"
           },
           "position": {
            "x": 1863.3657544021144,
            "y": 1183.4752744364707
           }
          },
          {
           "data": {
            "NodeType": "rule",
            "background_color": "#ff4c4c",
            "bipartite": 1,
            "id": "catalyze_C3APARPU_to_C3A_PARPC",
            "index": "rule22",
            "label": "catalyze_C3APARPU_to_C3A_PARPC",
            "name": "catalyze_C3APARPU_to_C3A_PARPC",
            "shape": "roundrectangle"
           },
           "position": {
            "x": 1752.5576321373987,
            "y": 1246.9932873651917
           }
          },
          {
           "data": {
            "NodeType": "rule",
            "background_color": "#ff4c4c",
            "bipartite": 1,
            "id": "bind_C3A_C6pro_to_C3AC6pro",
            "index": "rule23",
            "label": "bind_C3A_C6pro_to_C3AC6pro",
            "name": "bind_C3A_C6pro_to_C3AC6pro",
            "shape": "roundrectangle"
           },
           "position": {
            "x": 1576.7509186298878,
            "y": 1192.1124372402983
           }
          },
          {
           "data": {
            "NodeType": "rule",
            "background_color": "#ff4c4c",
            "bipartite": 1,
            "id": "catalyze_C3AC6pro_to_C3A_C6A",
            "index": "rule24",
            "label": "catalyze_C3AC6pro_to_C3A_C6A",
            "name": "catalyze_C3AC6pro_to_C3A_C6A",
            "shape": "roundrectangle"
           },
           "position": {
            "x": 1870.613443111796,
            "y": 1097.9125640931418
           }
          },
          {
           "data": {
            "NodeType": "rule",
            "background_color": "#ff4c4c",
            "bipartite": 1,
            "id": "bind_C6A_C8pro_to_C6AC8pro",
            "index": "rule25",
            "label": "bind_C6A_C8pro_to_C6AC8pro",
            "name": "bind_C6A_C8pro_to_C6AC8pro",
            "shape": "roundrectangle"
           },
           "position": {
            "x": 2215.7528367854106,
            "y": 1100.0367812516736
           }
          },
          {
           "data": {
            "NodeType": "rule",
            "background_color": "#ff4c4c",
            "bipartite": 1,
            "id": "catalyze_C6AC8pro_to_C6A_C8A",
            "index": "rule26",
            "label": "catalyze_C6AC8pro_to_C6A_C8A",
            "name": "catalyze_C6AC8pro_to_C6A_C8A",
            "shape": "roundrectangle"
           },
           "position": {
            "x": 2089.374839852023,
            "y": 947.1424321921879
           }
          },
          {
           "data": {
            "NodeType": "rule",
            "background_color": "#ff4c4c",
            "bipartite": 1,
            "id": "equilibrate_BidT_to_BidM",
            "index": "rule27",
            "label": "equilibrate_BidT_to_BidM",
            "name": "equilibrate_BidT_to_BidM",
            "shape": "roundrectangle"
           },
           "position": {
            "x": 1692.6965815073452,
            "y": 589.819953472077
           }
          },
          {
           "data": {
            "NodeType": "rule",
            "background_color": "#ff4c4c",
            "bipartite": 1,
            "id": "equilibrate_BaxC_to_BaxM",
            "index": "rule28",
            "label": "equilibrate_BaxC_to_BaxM",
            "name": "equilibrate_BaxC_to_BaxM",
            "shape": "roundrectangle"
           },
           "position": {
            "x": 1667.9511395198751,
            "y": 519.9961607493356
           }
          },
          {
           "data": {
            "NodeType": "rule",
            "background_color": "#ff4c4c",
            "bipartite": 1,
            "id": "equilibrate_BclxLC_to_BclxLM",
            "index": "rule29",
            "label": "equilibrate_BclxLC_to_BclxLM",
            "name": "equilibrate_BclxLC_to_BclxLM",
            "shape": "roundrectangle"
           },
           "position": {
            "x": 1242.1564683598501,
            "y": 367.17413838509964
           }
          },
          {
           "data": {
            "NodeType": "rule",
            "background_color": "#ff4c4c",
            "bipartite": 1,
            "id": "bind_BidM_BaxM_to_BidMBaxM",
            "index": "rule30",
            "label": "bind_BidM_BaxM_to_BidMBaxM",
            "name": "bind_BidM_BaxM_to_BidMBaxM",
            "shape": "roundrectangle"
           },
           "position": {
            "x": 1813.7632318009303,
            "y": 465.6935512296437
           }
          },
          {
           "data": {
            "NodeType": "rule",
            "background_color": "#ff4c4c",
            "bipartite": 1,
            "id": "catalyze_BidMBaxM_to_BidM_BaxA",
            "index": "rule31",
            "label": "catalyze_BidMBaxM_to_BidM_BaxA",
            "name": "catalyze_BidMBaxM_to_BidM_BaxA",
            "shape": "roundrectangle"
           },
           "position": {
            "x": 1558.82275032958,
            "y": 636.2715314915008
           }
          },
          {
           "data": {
            "NodeType": "rule",
            "background_color": "#ff4c4c",
            "bipartite": 1,
            "id": "bind_BidM_BakM_to_BidMBakM",
            "index": "rule32",
            "label": "bind_BidM_BakM_to_BidMBakM",
            "name": "bind_BidM_BakM_to_BidMBakM",
            "shape": "roundrectangle"
           },
           "position": {
            "x": 1656.8623999849265,
            "y": 316.4740937081278
           }
          },
          {
           "data": {
            "NodeType": "rule",
            "background_color": "#ff4c4c",
            "bipartite": 1,
            "id": "catalyze_BidMBakM_to_BidM_BakA",
            "index": "rule33",
            "label": "catalyze_BidMBakM_to_BidM_BakA",
            "name": "catalyze_BidMBakM_to_BidM_BakA",
            "shape": "roundrectangle"
           },
           "position": {
            "x": 1371.0225734386675,
            "y": 416.86905274845736
           }
          },
          {
           "data": {
            "NodeType": "rule",
            "background_color": "#ff4c4c",
            "bipartite": 1,
            "id": "bind_BaxA_BaxM_to_BaxABaxM",
            "index": "rule34",
            "label": "bind_BaxA_BaxM_to_BaxABaxM",
            "name": "bind_BaxA_BaxM_to_BaxABaxM",
            "shape": "roundrectangle"
           },
           "position": {
            "x": 1663.654360857943,
            "y": 692.1785836241238
           }
          },
          {
           "data": {
            "NodeType": "rule",
            "background_color": "#ff4c4c",
            "bipartite": 1,
            "id": "catalyze_BaxABaxM_to_BaxA_BaxA",
            "index": "rule35",
            "label": "catalyze_BaxABaxM_to_BaxA_BaxA",
            "name": "catalyze_BaxABaxM_to_BaxA_BaxA",
            "shape": "roundrectangle"
           },
           "position": {
            "x": 1568.517802370583,
            "y": 771.2330756083231
           }
          },
          {
           "data": {
            "NodeType": "rule",
            "background_color": "#ff4c4c",
            "bipartite": 1,
            "id": "bind_BakA_BakM_to_BakABakM",
            "index": "rule36",
            "label": "bind_BakA_BakM_to_BakABakM",
            "name": "bind_BakA_BakM_to_BakABakM",
            "shape": "roundrectangle"
           },
           "position": {
            "x": 1222.9734568116592,
            "y": 231.8484872432358
           }
          },
          {
           "data": {
            "NodeType": "rule",
            "background_color": "#ff4c4c",
            "bipartite": 1,
            "id": "catalyze_BakABakM_to_BakA_BakA",
            "index": "rule37",
            "label": "catalyze_BakABakM_to_BakA_BakA",
            "name": "catalyze_BakABakM_to_BakA_BakA",
            "shape": "roundrectangle"
           },
           "position": {
            "x": 991.1836225350453,
            "y": 284.98052833224006
           }
          },
          {
           "data": {
            "NodeType": "rule",
            "background_color": "#ff4c4c",
            "bipartite": 1,
            "id": "bind_BidM_Bcl2",
            "index": "rule38",
            "label": "bind_BidM_Bcl2",
            "name": "bind_BidM_Bcl2",
            "shape": "roundrectangle"
           },
           "position": {
            "x": 1496.5880807402136,
            "y": 538.3615951669892
           }
          },
          {
           "data": {
            "NodeType": "rule",
            "background_color": "#ff4c4c",
            "bipartite": 1,
            "id": "bind_BidM_BclxLM",
            "index": "rule39",
            "label": "bind_BidM_BclxLM",
            "name": "bind_BidM_BclxLM",
            "shape": "roundrectangle"
           },
           "position": {
            "x": 1416.3556186327676,
            "y": 490.08350407603353
           }
          },
          {
           "data": {
            "NodeType": "rule",
            "background_color": "#ff4c4c",
            "bipartite": 1,
            "id": "bind_BidM_Mcl1M",
            "index": "rule40",
            "label": "bind_BidM_Mcl1M",
            "name": "bind_BidM_Mcl1M",
            "shape": "roundrectangle"
           },
           "position": {
            "x": 1501.1830025569466,
            "y": 367.1531455741435
           }
          },
          {
           "data": {
            "NodeType": "rule",
            "background_color": "#ff4c4c",
            "bipartite": 1,
            "id": "bind_BaxA_Bcl2",
            "index": "rule41",
            "label": "bind_BaxA_Bcl2",
            "name": "bind_BaxA_Bcl2",
            "shape": "roundrectangle"
           },
           "position": {
            "x": 1275.7845627242878,
            "y": 702.1024937185946
           }
          },
          {
           "data": {
            "NodeType": "rule",
            "background_color": "#ff4c4c",
            "bipartite": 1,
            "id": "bind_BaxA_BclxLM",
            "index": "rule42",
            "label": "bind_BaxA_BclxLM",
            "name": "bind_BaxA_BclxLM",
            "shape": "roundrectangle"
           },
           "position": {
            "x": 1270.7780291688334,
            "y": 614.2304098175798
           }
          },
          {
           "data": {
            "NodeType": "rule",
            "background_color": "#ff4c4c",
            "bipartite": 1,
            "id": "bind_BakA_BclxLM",
            "index": "rule43",
            "label": "bind_BakA_BclxLM",
            "name": "bind_BakA_BclxLM",
            "shape": "roundrectangle"
           },
           "position": {
            "x": 1102.9309282766812,
            "y": 492.4052752488287
           }
          },
          {
           "data": {
            "NodeType": "rule",
            "background_color": "#ff4c4c",
            "bipartite": 1,
            "id": "bind_BakA_Mcl1",
            "index": "rule44",
            "label": "bind_BakA_Mcl1",
            "name": "bind_BakA_Mcl1",
            "shape": "roundrectangle"
           },
           "position": {
            "x": 1216.9607868969897,
            "y": 300.3107004731375
           }
          },
          {
           "data": {
            "NodeType": "rule",
            "background_color": "#ff4c4c",
            "bipartite": 1,
            "id": "bind_BadM_Bcl2",
            "index": "rule45",
            "label": "bind_BadM_Bcl2",
            "name": "bind_BadM_Bcl2",
            "shape": "roundrectangle"
           },
           "position": {
            "x": 724.4636123286602,
            "y": 97
           }
          },
          {
           "data": {
            "NodeType": "rule",
            "background_color": "#ff4c4c",
            "bipartite": 1,
            "id": "bind_BadM_BclxLM",
            "index": "rule46",
            "label": "bind_BadM_BclxLM",
            "name": "bind_BadM_BclxLM",
            "shape": "roundrectangle"
           },
           "position": {
            "x": 578.9636123286602,
            "y": 97
           }
          },
          {
           "data": {
            "NodeType": "rule",
            "background_color": "#ff4c4c",
            "bipartite": 1,
            "id": "bind_NoxaM_Mcl1M",
            "index": "rule47",
            "label": "bind_NoxaM_Mcl1M",
            "name": "bind_NoxaM_Mcl1M",
            "shape": "roundrectangle"
           },
           "position": {
            "x": 580.4636123286602,
            "y": 39
           }
          },
          {
           "data": {
            "NodeType": "rule",
            "background_color": "#ff4c4c",
            "bipartite": 1,
            "id": "assemble_pore_sequential_Bax_2",
            "index": "rule48",
            "label": "assemble_pore_sequential_Bax_2",
            "name": "assemble_pore_sequential_Bax_2",
            "shape": "roundrectangle"
           },
           "position": {
            "x": 1477.0391665109128,
            "y": 853.3363924375271
           }
          },
          {
           "data": {
            "NodeType": "rule",
            "background_color": "#ff4c4c",
            "bipartite": 1,
            "id": "assemble_pore_sequential_Bax_3",
            "index": "rule49",
            "label": "assemble_pore_sequential_Bax_3",
            "name": "assemble_pore_sequential_Bax_3",
            "shape": "roundrectangle"
           },
           "position": {
            "x": 1278.3459866588698,
            "y": 798.0121986737531
           }
          },
          {
           "data": {
            "NodeType": "rule",
            "background_color": "#ff4c4c",
            "bipartite": 1,
            "id": "assemble_pore_sequential_Bax_4",
            "index": "rule50",
            "label": "assemble_pore_sequential_Bax_4",
            "name": "assemble_pore_sequential_Bax_4",
            "shape": "roundrectangle"
           },
           "position": {
            "x": 1087.3658334597972,
            "y": 751.8241287558021
           }
          },
          {
           "data": {
            "NodeType": "rule",
            "background_color": "#ff4c4c",
            "bipartite": 1,
            "id": "assemble_pore_sequential_Bak_2",
            "index": "rule51",
            "label": "assemble_pore_sequential_Bak_2",
            "name": "assemble_pore_sequential_Bak_2",
            "shape": "roundrectangle"
           },
           "position": {
            "x": 883.4614094417641,
            "y": 345.1653529392902
           }
          },
          {
           "data": {
            "NodeType": "rule",
            "background_color": "#ff4c4c",
            "bipartite": 1,
            "id": "assemble_pore_sequential_Bak_3",
            "index": "rule52",
            "label": "assemble_pore_sequential_Bak_3",
            "name": "assemble_pore_sequential_Bak_3",
            "shape": "roundrectangle"
           },
           "position": {
            "x": 978.8457454377055,
            "y": 413.4503108121673
           }
          },
          {
           "data": {
            "NodeType": "rule",
            "background_color": "#ff4c4c",
            "bipartite": 1,
            "id": "assemble_pore_sequential_Bak_4",
            "index": "rule53",
            "label": "assemble_pore_sequential_Bak_4",
            "name": "assemble_pore_sequential_Bak_4",
            "shape": "roundrectangle"
           },
           "position": {
            "x": 885.6740082214146,
            "y": 468.3854018553928
           }
          },
          {
           "data": {
            "NodeType": "rule",
            "background_color": "#ff4c4c",
            "bipartite": 1,
            "id": "pore_transport_complex_BaxA_4_CytoCM",
            "index": "rule54",
            "label": "pore_transport_complex_BaxA_4_CytoCM",
            "name": "pore_transport_complex_BaxA_4_CytoCM",
            "shape": "roundrectangle"
           },
           "position": {
            "x": 630.7808445767128,
            "y": 704.6228173797729
           }
          },
          {
           "data": {
            "NodeType": "rule",
            "background_color": "#ff4c4c",
            "bipartite": 1,
            "id": "pore_transport_dissociate_BaxA_4_CytoCC",
            "index": "rule55",
            "label": "pore_transport_dissociate_BaxA_4_CytoCC",
            "name": "pore_transport_dissociate_BaxA_4_CytoCC",
            "shape": "roundrectangle"
           },
           "position": {
            "x": 465.7004464327706,
            "y": 774.380710196589
           }
          },
          {
           "data": {
            "NodeType": "rule",
            "background_color": "#ff4c4c",
            "bipartite": 1,
            "id": "pore_transport_complex_BaxA_4_SmacM",
            "index": "rule56",
            "label": "pore_transport_complex_BaxA_4_SmacM",
            "name": "pore_transport_complex_BaxA_4_SmacM",
            "shape": "roundrectangle"
           },
           "position": {
            "x": 669.0685564871975,
            "y": 819.5867119366312
           }
          },
          {
           "data": {
            "NodeType": "rule",
            "background_color": "#ff4c4c",
            "bipartite": 1,
            "id": "pore_transport_dissociate_BaxA_4_SmacC",
            "index": "rule57",
            "label": "pore_transport_dissociate_BaxA_4_SmacC",
            "name": "pore_transport_dissociate_BaxA_4_SmacC",
            "shape": "roundrectangle"
           },
           "position": {
            "x": 868.6305403160181,
            "y": 873.1940632582971
           }
          },
          {
           "data": {
            "NodeType": "rule",
            "background_color": "#ff4c4c",
            "bipartite": 1,
            "id": "pore_transport_complex_BakA_4_CytoCM",
            "index": "rule58",
            "label": "pore_transport_complex_BakA_4_CytoCM",
            "name": "pore_transport_complex_BakA_4_CytoCM",
            "shape": "roundrectangle"
           },
           "position": {
            "x": 621.4031780341074,
            "y": 527.2125389756695
           }
          },
          {
           "data": {
            "NodeType": "rule",
            "background_color": "#ff4c4c",
            "bipartite": 1,
            "id": "pore_transport_dissociate_BakA_4_CytoCC",
            "index": "rule59",
            "label": "pore_transport_dissociate_BakA_4_CytoCC",
            "name": "pore_transport_dissociate_BakA_4_CytoCC",
            "shape": "roundrectangle"
           },
           "position": {
            "x": 466.45200515237366,
            "y": 592.1293936482978
           }
          },
          {
           "data": {
            "NodeType": "rule",
            "background_color": "#ff4c4c",
            "bipartite": 1,
            "id": "pore_transport_complex_BakA_4_SmacM",
            "index": "rule60",
            "label": "pore_transport_complex_BakA_4_SmacM",
            "name": "pore_transport_complex_BakA_4_SmacM",
            "shape": "roundrectangle"
           },
           "position": {
            "x": 873.1237658605498,
            "y": 639.4285408911417
           }
          },
          {
           "data": {
            "NodeType": "rule",
            "background_color": "#ff4c4c",
            "bipartite": 1,
            "id": "pore_transport_dissociate_BakA_4_SmacC",
            "index": "rule61",
            "label": "pore_transport_dissociate_BakA_4_SmacC",
            "name": "pore_transport_dissociate_BakA_4_SmacC",
            "shape": "roundrectangle"
           },
           "position": {
            "x": 942.8164757716104,
            "y": 693.4278902246147
           }
          }
         ]
        }
       },
       "format": "cyjs",
       "layout": "IPY_MODEL_173863891f7141e58ec5fc9f64305f7d",
       "layout_name": "cose-bilkent",
       "process": "consumption",
       "sim_idx": 0,
       "type_of_viz": "sp_rules_view",
       "visual_style": null
      }
     }
    },
    "version_major": 2,
    "version_minor": 0
   }
  }
 },
 "nbformat": 4,
 "nbformat_minor": 2
}

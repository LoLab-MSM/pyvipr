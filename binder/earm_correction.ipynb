{
 "cells": [
  {
   "cell_type": "code",
   "execution_count": 1,
   "metadata": {},
   "outputs": [],
   "source": [
    "import pysbjupyter as viz\n",
    "from pysbjupyter.pysb_models.earm_incorrect import model"
   ]
  },
  {
   "cell_type": "code",
   "execution_count": 2,
   "metadata": {},
   "outputs": [
    {
     "data": {
      "application/vnd.jupyter.widget-view+json": {
       "model_id": "5b462e96b76d49acb20e4ac7c565f31d",
       "version_major": 2,
       "version_minor": 0
      },
      "text/plain": [
       "pysbViz(data=<Model 'pysbjupyter.pysb_models.earm_incorrect' (monomers: 23, rules: 62, parameters: 127, expres…"
      ]
     },
     "metadata": {},
     "output_type": "display_data"
    }
   ],
   "source": [
    "viz.sp_rules_view(model, layout_name='cose-bilkent')"
   ]
  },
  {
   "cell_type": "code",
   "execution_count": 3,
   "metadata": {
    "scrolled": true
   },
   "outputs": [
    {
     "name": "stdout",
     "output_type": "stream",
     "text": [
      "Bad(bf=None, state='C')\n",
      "\n",
      "\n",
      "Noxa(bf=None, state='C')\n",
      "\n",
      "\n",
      "Rule('bind_BadM_Bcl2', Bad(bf=None, state='M') + Bcl2(bf=None) | Bad(bf=1, state='M') % Bcl2(bf=1), bind_BadM_Bcl2_kf, bind_BadM_Bcl2_kr)\n",
      "\n",
      "\n",
      "Rule('bind_BadM_BclxLM', Bad(bf=None, state='M') + BclxL(bf=None, state='M') | Bad(bf=1, state='M') % BclxL(bf=1, state='M'), bind_BadM_BclxLM_kf, bind_BadM_BclxLM_kr)\n",
      "\n",
      "\n",
      "Rule('bind_NoxaM_Mcl1M', Noxa(bf=None, state='M') + Mcl1(bf=None, state='M') | Noxa(bf=1, state='M') % Mcl1(bf=1, state='M'), bind_NoxaM_Mcl1M_kf, bind_NoxaM_Mcl1M_kr)\n"
     ]
    }
   ],
   "source": [
    "print(model.species[12])\n",
    "print('\\n')\n",
    "print(model.species[18])\n",
    "print('\\n')\n",
    "print(model.rules[45])\n",
    "print('\\n')\n",
    "print(model.rules[46])\n",
    "print('\\n')\n",
    "print(model.rules[47])"
   ]
  },
  {
   "cell_type": "markdown",
   "metadata": {},
   "source": [
    "## Updating initial conditions"
   ]
  },
  {
   "cell_type": "code",
   "execution_count": 4,
   "metadata": {},
   "outputs": [],
   "source": [
    "# Obtaining model monomers\n",
    "cbad = model.monomers.Bad\n",
    "cnoxa = model.monomers.Noxa\n",
    "\n",
    "# Obtaining model initial conditions\n",
    "cbad_0 = model.initial_conditions[12][0]\n",
    "cnoxa_0 = model.initial_conditions[18][0]\n",
    "\n",
    "# Creating new patterns with mitochondrial state instead of cytosolic\n",
    "mbad_0 = cbad(bf=None, state='M')\n",
    "mnoxa_0 = cnoxa(bf=None, state='M')\n",
    "\n",
    "model.update_initial_condition_pattern(cbad_0, mbad_0)\n",
    "model.update_initial_condition_pattern(cnoxa_0, mnoxa_0)"
   ]
  },
  {
   "cell_type": "code",
   "execution_count": 5,
   "metadata": {
    "scrolled": false
   },
   "outputs": [],
   "source": [
    "# Reset model species, reactions and equations to take into account the change in initial conditions\n",
    "model.reset_equations()"
   ]
  },
  {
   "cell_type": "code",
   "execution_count": 6,
   "metadata": {},
   "outputs": [
    {
     "data": {
      "application/vnd.jupyter.widget-view+json": {
       "model_id": "bfb1b7e6d6f74dbcb8d83429f1940fc8",
       "version_major": 2,
       "version_minor": 0
      },
      "text/plain": [
       "pysbViz(data=<Model 'pysbjupyter.pysb_models.earm_incorrect' (monomers: 23, rules: 62, parameters: 127, expres…"
      ]
     },
     "metadata": {},
     "output_type": "display_data"
    }
   ],
   "source": [
    "viz.sp_rules_view(model, layout_name='cose-bilkent')"
   ]
  },
  {
   "cell_type": "code",
   "execution_count": null,
   "metadata": {},
   "outputs": [],
   "source": []
  }
 ],
 "metadata": {
  "kernelspec": {
   "display_name": "Python 3",
   "language": "python",
   "name": "python3"
  },
  "language_info": {
   "codemirror_mode": {
    "name": "ipython",
    "version": 3
   },
   "file_extension": ".py",
   "mimetype": "text/x-python",
   "name": "python",
   "nbconvert_exporter": "python",
   "pygments_lexer": "ipython3",
   "version": "3.7.1"
  }
 },
 "nbformat": 4,
 "nbformat_minor": 2
}

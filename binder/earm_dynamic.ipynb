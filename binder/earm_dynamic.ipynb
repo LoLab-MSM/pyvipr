{
 "cells": [
  {
   "cell_type": "code",
   "execution_count": 81,
   "metadata": {},
   "outputs": [],
   "source": [
    "from pysbjupyter.pysb_models.lopez_embedded import model\n",
    "import pysbjupyter as viz\n",
    "import numpy as np\n",
    "from pysb.simulator import ScipyOdeSimulator"
   ]
  },
  {
   "cell_type": "code",
   "execution_count": 82,
   "metadata": {},
   "outputs": [],
   "source": [
    "pars = np.load('calibrated_6572pars.npy')\n",
    "pars0 = pars[0]\n",
    "tspan = np.linspace(0, 20000, 100)\n",
    "sim = ScipyOdeSimulator(model, tspan, compiler='python').run(param_values=pars0)"
   ]
  },
  {
   "cell_type": "code",
   "execution_count": 83,
   "metadata": {},
   "outputs": [
    {
     "data": {
      "application/vnd.jupyter.widget-view+json": {
       "model_id": "bb9e2124e09f40ceaded247558b3a740",
       "version_major": 2,
       "version_minor": 0
      },
      "text/plain": [
       "pysbViz(data=<pysb.simulator.base.SimulationResult object at 0x1525f705c0>, layout_name='preset', type_of_viz=…"
      ]
     },
     "metadata": {},
     "output_type": "display_data"
    }
   ],
   "source": [
    "viz.species_dynamics_view(sim)"
   ]
  },
  {
   "cell_type": "code",
   "execution_count": 84,
   "metadata": {},
   "outputs": [],
   "source": [
    "from scipy.optimize import curve_fit\n",
    "\n",
    "def sig_apop(t, f, td, ts):\n",
    "    \"\"\"\n",
    "\n",
    "    Parameters\n",
    "    ----------\n",
    "    t : list-like\n",
    "        Time variable in the function\n",
    "    f : float\n",
    "        is the fraction cleaved at the end of the reaction\n",
    "    td : float\n",
    "        is the delay period between TRAIL addition and half-maximal substrate cleavage\n",
    "    ts : float\n",
    "        is the switching time between initial and complete effector substrate  cleavage\n",
    "\n",
    "    Returns\n",
    "    -------\n",
    "\n",
    "    \"\"\"\n",
    "    return f - f / (1 + np.exp((t - td) / (4 * ts)))\n",
    "\n",
    "#     xdata: list-like,\n",
    "#         x-axis data points (usually time span of the simulation)\n",
    "#     ydata: list-like,\n",
    "#         y-axis data points (usually concentration of species in time)\n",
    "\n",
    "c = curve_fit(f=sig_apop, xdata=tspan, ydata=sim.dataframe['cPARP'].values, p0=[10,10,10])\n"
   ]
  },
  {
   "cell_type": "code",
   "execution_count": 85,
   "metadata": {},
   "outputs": [],
   "source": [
    "%matplotlib inline\n",
    "import matplotlib.pyplot as plt"
   ]
  },
  {
   "cell_type": "code",
   "execution_count": 86,
   "metadata": {},
   "outputs": [
    {
     "name": "stderr",
     "output_type": "stream",
     "text": [
      "2019-02-04 13:14:24.250 - pysb.simulator.scipyode - WARNING - [pysbjupyter.pysb_models.lopez_embedded] This system of ODEs will be evaluated in pure Python. This may be slow for large models. We recommend installing a package for compiling the ODEs to C code: 'weave' (recommended for Python 2) or 'cython' (recommended for Python 3). This warning can be suppressed by specifying compiler_mode='python'.\n"
     ]
    }
   ],
   "source": [
    "pars_for_kd = np.copy(pars0)\n",
    "pars_for_kd[56] = pars_for_kd[56] * 0\n",
    "sim_kd = ScipyOdeSimulator(model, tspan).run(param_values=pars_for_kd)"
   ]
  },
  {
   "cell_type": "code",
   "execution_count": 87,
   "metadata": {},
   "outputs": [
    {
     "data": {
      "image/png": "[encoded data removed]",
      "text/plain": [
       "<Figure size 432x288 with 1 Axes>"
      ]
     },
     "metadata": {
      "needs_background": "light"
     },
     "output_type": "display_data"
    }
   ],
   "source": [
    "plt.plot(tspan[:55], sim.dataframe['cPARP'].values[:55], label='WT')\n",
    "plt.plot(tspan[:55], sim_kd.dataframe['cPARP'].values[:55], label='BclxL KO')\n",
    "plt.xlabel('Time')\n",
    "plt.ylabel('Molecules')\n",
    "plt.title('cPARP')\n",
    "plt.legend()\n",
    "plt.savefig('cparp_ko.png', dpi=500, bbox_inches='tight')"
   ]
  },
  {
   "cell_type": "code",
   "execution_count": null,
   "metadata": {},
   "outputs": [],
   "source": []
  }
 ],
 "metadata": {
  "kernelspec": {
   "display_name": "Python 3",
   "language": "python",
   "name": "python3"
  },
  "language_info": {
   "codemirror_mode": {
    "name": "ipython",
    "version": 3
   },
   "file_extension": ".py",
   "mimetype": "text/x-python",
   "name": "python",
   "nbconvert_exporter": "python",
   "pygments_lexer": "ipython3",
   "version": "3.7.1"
  }
 },
 "nbformat": 4,
 "nbformat_minor": 2
}

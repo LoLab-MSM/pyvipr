{
 "cells": [
  {
   "cell_type": "markdown",
   "metadata": {},
   "source": [
    "# Model exploratory analysis"
   ]
  },
  {
   "cell_type": "markdown",
   "metadata": {},
   "source": [
    "### In this notebook we are going to calibrate an enzymatic reaction PySB model, and then visualize the dynamics using the pyViPR widget.\n",
    "\n",
    "### First, we import all the pythons libraries required"
   ]
  },
  {
   "cell_type": "code",
   "execution_count": 1,
   "metadata": {},
   "outputs": [],
   "source": [
    "from pyvipr.pysb_models.mm_two_paths_model import model\n",
    "import numpy as np\n",
    "from pysb.simulator import ScipyOdeSimulator\n",
    "import pyvipr as viz\n",
    "from simplepso.pso import PSO\n",
    "import matplotlib.pyplot as plt\n",
    "%matplotlib inline"
   ]
  },
  {
   "cell_type": "markdown",
   "metadata": {},
   "source": [
    "### Next, we load the data to which the model is going to be calibrated, and define the kinetic parameters that are going to be calibrated. Then, we define a cost function that determines how well the sampled parameter values reproduce the data. Finally, we run the Particle Swarm Optimization algorithm, and check that the calibrated parameters actually fit the experimental data"
   ]
  },
  {
   "cell_type": "code",
   "execution_count": 2,
   "metadata": {},
   "outputs": [
    {
     "name": "stdout",
     "output_type": "stream",
     "text": [
      "iteration\tbest   \tavg            \tstd            \tmin           \tmax            \n",
      "1        \t204.515\t[2235.48619562]\t[1725.93496665]\t[204.51469336]\t[4977.08309346]\n",
      "2        \t30.0903\t[2026.34793903]\t[1780.02213385]\t[30.09027199] \t[4918.74287478]\n",
      "3        \t18.7156\t[1806.78542188]\t[1731.97946804]\t[18.71556377] \t[4817.66827946]\n",
      "4        \t17.7466\t[1560.37476612]\t[1635.83473047]\t[17.74662324] \t[4647.33934688]\n",
      "5        \t17.7466\t[1163.81798369]\t[1462.92230946]\t[65.08470911] \t[4576.3206436] \n",
      "6        \t17.7466\t[701.42793633] \t[1002.44017981]\t[50.06502752] \t[3740.61034219]\n",
      "7        \t11.3384\t[413.06736491] \t[568.52174652] \t[11.33839201] \t[2257.74994168]\n",
      "8        \t3.91147\t[196.40251933] \t[223.38903751] \t[3.91146966]  \t[1150.05095117]\n",
      "9        \t3.91147\t[141.11695813] \t[136.82821245] \t[13.84295167] \t[593.86862664] \n",
      "10       \t3.91147\t[62.06079242]  \t[39.38352068]  \t[8.39481427]  \t[179.31667021] \n",
      "11       \t2.29953\t[84.57581895]  \t[91.14022029]  \t[2.2995307]   \t[352.86851644] \n",
      "12       \t1.41119\t[133.99783156] \t[181.46343432] \t[1.4111915]   \t[758.44981538] \n",
      "13       \t0.459126\t[163.20736837] \t[356.26113366] \t[0.45912586]  \t[1817.38674228]\n",
      "14       \t0.459126\t[112.02462048] \t[107.00699724] \t[0.87631042]  \t[397.91777885] \n",
      "15       \t0.459126\t[63.15195061]  \t[58.17609103]  \t[5.08872849]  \t[217.65640538] \n",
      "16       \t0.459126\t[117.5864604]  \t[178.99674354] \t[2.65925026]  \t[851.68187988] \n",
      "17       \t0.459126\t[62.19671177]  \t[63.14893838]  \t[2.40885365]  \t[230.96834711] \n",
      "18       \t0.459126\t[95.43094276]  \t[89.3126325]   \t[1.75376634]  \t[321.94624123] \n",
      "19       \t0.459126\t[104.74973857] \t[145.4774245]  \t[2.88691643]  \t[715.64125065] \n",
      "20       \t0.455939\t[67.25440376]  \t[85.41123714]  \t[0.45593947]  \t[345.14987624] \n",
      "21       \t0.455939\t[69.12168055]  \t[85.33738666]  \t[3.75505841]  \t[317.96600427] \n",
      "22       \t0.455939\t[80.35908318]  \t[144.44193799] \t[2.38508546]  \t[750.14888292] \n",
      "23       \t0.455939\t[64.96793783]  \t[90.55128204]  \t[1.82182723]  \t[384.63531043] \n",
      "24       \t0.455939\t[72.23306142]  \t[77.02823514]  \t[7.21807537]  \t[330.92860795] \n",
      "25       \t0.455939\t[39.55606122]  \t[35.9658029]   \t[2.61440617]  \t[154.85735695] \n",
      "26       \t0.435028\t[53.29499978]  \t[67.55907663]  \t[0.43502803]  \t[309.82226853] \n",
      "27       \t0.435028\t[55.37279125]  \t[96.18119066]  \t[0.47763583]  \t[487.8894901]  \n",
      "28       \t0.435028\t[47.38323297]  \t[44.78359162]  \t[1.86354261]  \t[178.39556702] \n",
      "29       \t0.435028\t[55.89420287]  \t[65.45135774]  \t[0.50760362]  \t[268.59384313] \n",
      "30       \t0.435028\t[58.58687367]  \t[62.40061164]  \t[1.99312832]  \t[259.594767]   \n",
      "31       \t0.290582\t[36.48295901]  \t[44.74060017]  \t[0.29058182]  \t[202.88983803] \n",
      "32       \t0.290582\t[74.38855208]  \t[134.33774402] \t[0.45176423]  \t[674.3378858]  \n",
      "33       \t0.290582\t[55.47351627]  \t[93.01904916]  \t[1.95795453]  \t[440.17044575] \n",
      "34       \t0.290582\t[55.36235805]  \t[80.7755925]   \t[0.4030926]   \t[354.64161763] \n",
      "35       \t0.290582\t[36.72706664]  \t[36.61564872]  \t[0.60699101]  \t[133.49724406] \n",
      "36       \t0.290582\t[37.6269117]   \t[51.76211377]  \t[0.34464829]  \t[223.7775448]  \n",
      "37       \t0.290582\t[25.83321626]  \t[29.86138283]  \t[1.04507568]  \t[124.47455168] \n",
      "38       \t0.290582\t[31.72209065]  \t[50.52736176]  \t[0.70884998]  \t[235.238623]   \n",
      "39       \t0.290582\t[36.84999521]  \t[45.12517844]  \t[0.53070288]  \t[203.622506]   \n",
      "40       \t0.290582\t[32.38312758]  \t[54.98224671]  \t[0.57289519]  \t[227.07189552] \n",
      "41       \t0.290582\t[15.81375612]  \t[14.10685874]  \t[0.70749325]  \t[48.05548338]  \n",
      "42       \t0.290582\t[14.96976268]  \t[17.34620747]  \t[0.96761668]  \t[70.97888091]  \n",
      "43       \t0.253725\t[13.6248213]   \t[18.08042146]  \t[0.2537253]   \t[72.74237844]  \n",
      "44       \t0.253725\t[15.36382228]  \t[23.43783741]  \t[0.44976481]  \t[114.37944426] \n",
      "45       \t0.253725\t[12.86234752]  \t[15.77508942]  \t[0.40553928]  \t[62.14186915]  \n",
      "46       \t0.253725\t[15.48462604]  \t[19.02574011]  \t[0.29644377]  \t[74.36334364]  \n",
      "47       \t0.253725\t[14.19933383]  \t[28.54376874]  \t[0.28903003]  \t[125.0170337]  \n",
      "48       \t0.253725\t[9.04689795]   \t[15.43466271]  \t[0.31624084]  \t[76.1437679]   \n",
      "49       \t0.248502\t[10.65726119]  \t[19.32755198]  \t[0.24850174]  \t[93.37467669]  \n",
      "50       \t0.247306\t[11.72102556]  \t[23.25736198]  \t[0.24730625]  \t[105.39027236] \n",
      "51       \t0.247306\t[7.63887086]   \t[15.26649189]  \t[0.25353576]  \t[74.67467592]  \n",
      "52       \t0.247306\t[8.4224154]    \t[16.79594244]  \t[0.25197877]  \t[76.0678316]   \n",
      "53       \t0.247306\t[8.0959828]    \t[20.44152804]  \t[0.24809943]  \t[99.20142452]  \n",
      "54       \t0.247306\t[3.91784734]   \t[8.64023356]   \t[0.24825713]  \t[42.41111761]  \n",
      "55       \t0.246944\t[4.55261294]   \t[7.46758193]   \t[0.24694441]  \t[27.35516862]  \n",
      "56       \t0.245594\t[11.30452925]  \t[28.29632149]  \t[0.24559407]  \t[129.98765863] \n",
      "57       \t0.244816\t[2.83956381]   \t[5.80630942]   \t[0.24481614]  \t[28.87411907]  \n",
      "58       \t0.244555\t[5.00540181]   \t[10.28475802]  \t[0.24455484]  \t[39.17884826]  \n",
      "59       \t0.24399 \t[7.08112399]   \t[16.73343691]  \t[0.24399037]  \t[83.43780323]  \n",
      "60       \t0.242596\t[3.6512583]    \t[6.72610066]   \t[0.24259563]  \t[27.31315933]  \n",
      "61       \t0.242442\t[1.3339033]    \t[1.8966032]    \t[0.2424424]   \t[7.66636017]   \n",
      "62       \t0.241382\t[2.98114775]   \t[5.59832151]   \t[0.24138222]  \t[21.94035123]  \n",
      "63       \t0.241283\t[2.58673838]   \t[4.95081866]   \t[0.24128343]  \t[18.93622817]  \n",
      "64       \t0.241122\t[2.52970565]   \t[4.61925023]   \t[0.24112156]  \t[16.76566088]  \n",
      "65       \t0.240939\t[1.70214064]   \t[5.24761363]   \t[0.24093897]  \t[26.8873768]   \n",
      "66       \t0.240819\t[0.79186008]   \t[1.65837343]   \t[0.24081892]  \t[8.63797889]   \n",
      "67       \t0.24076 \t[1.04800057]   \t[2.34744912]   \t[0.2407598]   \t[12.11589968]  \n",
      "68       \t0.240743\t[0.74787413]   \t[1.40651244]   \t[0.24074266]  \t[6.76983331]   \n",
      "69       \t0.240725\t[1.80186758]   \t[4.82857122]   \t[0.24072456]  \t[24.0071015]   \n",
      "70       \t0.240698\t[2.90136328]   \t[12.14819457]  \t[0.2406981]   \t[62.37939236]  \n",
      "71       \t0.240672\t[0.69470707]   \t[1.3262759]    \t[0.24067185]  \t[6.20687449]   \n",
      "72       \t0.240654\t[0.50082947]   \t[0.60802832]   \t[0.24065425]  \t[2.79242641]   \n",
      "73       \t0.240654\t[1.38950996]   \t[4.1640315]    \t[0.24066947]  \t[21.14016653]  \n",
      "74       \t0.240623\t[0.55721808]   \t[1.02632692]   \t[0.2406234]   \t[5.31811564]   \n",
      "75       \t0.240605\t[0.59372603]   \t[1.04113406]   \t[0.24060527]  \t[4.89325415]   \n",
      "76       \t0.240575\t[0.57781487]   \t[0.89278268]   \t[0.24057488]  \t[3.89793625]   \n",
      "77       \t0.240575\t[0.59864936]   \t[1.39169603]   \t[0.2405998]   \t[7.29361749]   \n",
      "78       \t0.240575\t[0.75439072]   \t[1.93225618]   \t[0.24058908]  \t[10.00771326]  \n",
      "79       \t0.240575\t[0.67391101]   \t[1.62377921]   \t[0.2405769]   \t[8.45322664]   \n",
      "80       \t0.240575\t[0.63298717]   \t[1.70398108]   \t[0.24059595]  \t[8.94467863]   \n",
      "81       \t0.240575\t[0.48459284]   \t[0.83991029]   \t[0.24057504]  \t[4.29510559]   \n",
      "82       \t0.240575\t[0.40354673]   \t[0.45853886]   \t[0.24057824]  \t[2.12640662]   \n",
      "83       \t0.240575\t[0.50827195]   \t[0.93606208]   \t[0.24057613]  \t[4.72839476]   \n",
      "84       \t0.240467\t[0.75798895]   \t[2.36266841]   \t[0.24046673]  \t[12.320259]    \n",
      "85       \t0.240447\t[0.34312215]   \t[0.28226672]   \t[0.24044711]  \t[1.36344628]   \n",
      "86       \t0.240414\t[0.4027731]    \t[0.66798067]   \t[0.24041444]  \t[3.64238926]   \n",
      "87       \t0.240399\t[0.25549244]   \t[0.04285951]   \t[0.24039912]  \t[0.43757815]   \n",
      "88       \t0.240397\t[0.26777058]   \t[0.08314395]   \t[0.24039666]  \t[0.54936296]   \n",
      "89       \t0.240376\t[0.25184201]   \t[0.02972731]   \t[0.24037613]  \t[0.34874307]   \n",
      "90       \t0.240373\t[0.24533462]   \t[0.01242644]   \t[0.24037286]  \t[0.28671781]   \n",
      "91       \t0.240327\t[0.25289371]   \t[0.03732676]   \t[0.24032746]  \t[0.40301248]   \n",
      "92       \t0.24032 \t[0.25039248]   \t[0.03024284]   \t[0.24032016]  \t[0.36080955]   \n",
      "93       \t0.24032 \t[0.24747573]   \t[0.02246681]   \t[0.24035154]  \t[0.34794194]   \n",
      "94       \t0.24032 \t[0.24860203]   \t[0.02271015]   \t[0.24032214]  \t[0.32735256]   \n",
      "95       \t0.24032 \t[0.25083845]   \t[0.02986009]   \t[0.24032085]  \t[0.36354414]   \n",
      "96       \t0.240319\t[0.2500422]    \t[0.03012039]   \t[0.24031941]  \t[0.38375299]   \n",
      "97       \t0.240317\t[0.24547979]   \t[0.01431897]   \t[0.24031737]  \t[0.29898651]   \n",
      "98       \t0.240317\t[0.24582517]   \t[0.01449411]   \t[0.24031746]  \t[0.29382659]   \n",
      "99       \t0.240317\t[0.24656523]   \t[0.0165215]    \t[0.24031746]  \t[0.29630909]   \n",
      "100      \t0.240316\t[0.24548581]   \t[0.01359101]   \t[0.24031582]  \t[0.29017488]   \n"
     ]
    }
   ],
   "source": [
    "exp_avg = np.load('data/enzymatic_product_data.npy')\n",
    "exp_sd = np.load('data/enzymatic_exp_sd.npy')\n",
    "\n",
    "tspan = np.linspace(0, 10, 51)\n",
    "solver = ScipyOdeSimulator(model, tspan=tspan)\n",
    "\n",
    "idx_pars_calibrate = [0, 1, 2, 3, 4, 5]\n",
    "rates_mask = [i in idx_pars_calibrate for i, par in enumerate(model.parameters)]\n",
    "\n",
    "param_values = np.array([p.value for p in model.parameters])\n",
    "starting_position = np.log10(param_values[rates_mask])\n",
    "\n",
    "def likelihood(position):\n",
    "    param_values[rates_mask] = 10 ** position\n",
    "    sim = solver.run(param_values=param_values).all\n",
    "    e1 = np.sum((exp_avg - sim['Product']) ** 2 / (2 * exp_sd)) / len(exp_avg)\n",
    "    return e1,\n",
    "\n",
    "pso = PSO(save_sampled=False, verbose=True, num_proc=4)\n",
    "pso.set_cost_function(likelihood)\n",
    "pso.set_start_position(starting_position)\n",
    "pso.set_bounds(2)\n",
    "pso.set_speed(-0.25, 0.25)\n",
    "pso.run(25, 100)"
   ]
  },
  {
   "cell_type": "markdown",
   "metadata": {},
   "source": [
    "### We can plot the simulated data and the experimental data to make sure that the calibrated parameters fit the experimental data"
   ]
  },
  {
   "cell_type": "code",
   "execution_count": 3,
   "metadata": {},
   "outputs": [
    {
     "data": {
      "image/png": "[encoded data removed]",
      "text/plain": [
       "<Figure size 432x288 with 1 Axes>"
      ]
     },
     "metadata": {
      "needs_background": "light"
     },
     "output_type": "display_data"
    }
   ],
   "source": [
    "param_values[rates_mask] = 10 ** pso.best\n",
    "sim = solver.run(param_values=param_values)\n",
    "plt.plot(tspan, sim.all['Product'], label='Produc sim')\n",
    "plt.errorbar(tspan, exp_avg, yerr=exp_sd)\n",
    "plt.xlabel('Time')\n",
    "plt.ylabel('Concentration')\n",
    "plt.show()"
   ]
  },
  {
   "cell_type": "markdown",
   "metadata": {},
   "source": [
    "### After calibrating the model, we can visualize the dynamics of the multiple interactions occurring , and generate mechanistic insights about the regulation of the model"
   ]
  },
  {
   "cell_type": "code",
   "execution_count": 4,
   "metadata": {},
   "outputs": [
    {
     "data": {
      "application/vnd.jupyter.widget-view+json": {
       "model_id": "c461a570260e4ba19d79fb42846cb4fb",
       "version_major": 2,
       "version_minor": 0
      },
      "text/plain": [
       "pysbViz(data=<pysb.simulator.base.SimulationResult object at 0x1115f5ba8>, layout_name='preset', type_of_viz='…"
      ]
     },
     "metadata": {},
     "output_type": "display_data"
    }
   ],
   "source": [
    "viz.sp_dyn_view(simulation=sim)"
   ]
  },
  {
   "cell_type": "code",
   "execution_count": null,
   "metadata": {},
   "outputs": [],
   "source": []
  }
 ],
 "metadata": {
  "kernelspec": {
   "display_name": "Python 3",
   "language": "python",
   "name": "python3"
  },
  "language_info": {
   "codemirror_mode": {
    "name": "ipython",
    "version": 3
   },
   "file_extension": ".py",
   "mimetype": "text/x-python",
   "name": "python",
   "nbconvert_exporter": "python",
   "pygments_lexer": "ipython3",
   "version": "3.7.1"
  }
 },
 "nbformat": 4,
 "nbformat_minor": 2
}
